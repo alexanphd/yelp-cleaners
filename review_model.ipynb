{
 "cells": [
  {
   "cell_type": "markdown",
   "id": "b296baa2-de2a-4294-a656-1018c1020778",
   "metadata": {
    "tags": []
   },
   "source": [
    "# import stuff"
   ]
  },
  {
   "cell_type": "code",
   "execution_count": 1,
   "id": "298145f6-ef2d-4b7f-ae75-ddd3ab3662aa",
   "metadata": {
    "tags": []
   },
   "outputs": [],
   "source": [
    "%matplotlib inline\n",
    "import pandas as pd\n",
    "import numpy as np\n",
    "import matplotlib.pyplot as plt\n",
    "import os, re, math, sklearn, json, gensim\n",
    "import pickle as pkl\n",
    "from collections import Counter, OrderedDict\n",
    "from itertools import islice\n",
    "\n",
    "this_directory = os.path.dirname(os.path.realpath('__file__')) # relative paths stopped working for some reason\n",
    "data_directory = this_directory + '\\\\data\\\\'\n",
    "processed_data_directory = data_directory + 'processed data\\\\'\n",
    "model_directory = data_directory + 'models\\\\'"
   ]
  },
  {
   "cell_type": "code",
   "execution_count": 2,
   "id": "66ddb3ad-381b-4191-a82f-63085807cf3e",
   "metadata": {},
   "outputs": [],
   "source": [
    "from sklearn.base import BaseEstimator, RegressorMixin, TransformerMixin\n",
    "from sklearn.compose import ColumnTransformer\n",
    "from sklearn.pipeline import Pipeline\n",
    "from sklearn.feature_extraction.text import CountVectorizer, TfidfVectorizer, TfidfTransformer, HashingVectorizer\n",
    "from sklearn.utils import shuffle\n",
    "from sklearn.model_selection import cross_val_score, GridSearchCV, train_test_split\n",
    "from sklearn.linear_model import Ridge, LinearRegression, SGDRegressor, LogisticRegression\n",
    "from sklearn import datasets, tree, utils\n",
    "from sklearn import model_selection, ensemble\n",
    "from sklearn.decomposition import TruncatedSVD, PCA\n",
    "from sklearn.metrics import r2_score\n",
    "from sklearn.preprocessing import MinMaxScaler\n",
    "from sklearn.naive_bayes import MultinomialNB, GaussianNB\n",
    "from sklearn.cluster import KMeans\n",
    "\n",
    "from gensim import matutils\n",
    "from gensim.models import Word2Vec\n",
    "from gensim.utils import simple_preprocess\n",
    "import gensim.downloader\n",
    "import gensim.parsing.preprocessing as gsp"
   ]
  },
  {
   "cell_type": "code",
   "execution_count": 3,
   "id": "37f29909-3848-4829-a769-2a4eaf5df260",
   "metadata": {},
   "outputs": [],
   "source": [
    "import praw\n",
    "from praw.models import MoreComments"
   ]
  },
  {
   "cell_type": "code",
   "execution_count": 4,
   "id": "75f540b0-0d3c-4fa2-b77e-f086c1b43e10",
   "metadata": {},
   "outputs": [],
   "source": [
    "from yelpapi import YelpAPI\n",
    "# get yelp api key stored in txt file\n",
    "f = open(data_directory + 'yelp_api_key.txt','r')\n",
    "api_key = f.read()\n",
    "f.close()"
   ]
  },
  {
   "cell_type": "code",
   "execution_count": 5,
   "id": "4e3fb8ac-c09d-402f-b4fe-6374e91b85c6",
   "metadata": {},
   "outputs": [],
   "source": [
    "import spacy\n",
    "nlp = spacy.load(\"en_core_web_sm\")\n",
    "from spacy.lang.en.stop_words import STOP_WORDS\n",
    "from sklearn.naive_bayes import MultinomialNB"
   ]
  },
  {
   "cell_type": "code",
   "execution_count": 6,
   "id": "86d599de-08e7-47a6-8484-e20c8cfcea58",
   "metadata": {},
   "outputs": [],
   "source": [
    "def transpose_lol(lol):\n",
    "    \"\"\"\n",
    "        Transposes a list of lists.\n",
    "    \"\"\"\n",
    "    return list(map(list,zip(*lol)))"
   ]
  },
  {
   "cell_type": "code",
   "execution_count": 7,
   "id": "8a3922d0-da41-44b8-8922-b334db4492db",
   "metadata": {},
   "outputs": [],
   "source": [
    "def take(n, iterable):\n",
    "    \"Return first n items of the iterable as a list\"\n",
    "    return list(islice(iterable, n))"
   ]
  },
  {
   "cell_type": "markdown",
   "id": "292a4495-53c6-4292-84a9-cd21dee0c3a5",
   "metadata": {},
   "source": [
    "# overview"
   ]
  },
  {
   "cell_type": "markdown",
   "id": "959914a6-11b5-4772-a3b3-4c045f033f20",
   "metadata": {},
   "source": [
    "This notebook makes a model for individual reviews, taking in one review and spitting out a number that represents how 'clean' the reviewer thinks the restaurant is."
   ]
  },
  {
   "cell_type": "markdown",
   "id": "6e2c7dc6-53b3-47ef-8474-8d2fd296b5ae",
   "metadata": {},
   "source": [
    "Each restaurant has a few inspection scores, so we *could* use the inspection scores (0-100) to train the model. But, the majority of reviews simply don't talk about the cleanliness of the restaurant, so the inspection score doesn't say much about the individual reviewer's experience."
   ]
  },
  {
   "cell_type": "markdown",
   "id": "374ec815-4d40-49f3-a916-80052693ad46",
   "metadata": {},
   "source": [
    "We can instead treat the individual review model as an **unsupervised** problem to pick out reviews that specifically mention how dirty/clean the restaurant is. This could be simple bag of words and using word2vec to compare all words against a select few 'DIRTY WORDS,' or do something more complicated with contextual models."
   ]
  },
  {
   "cell_type": "code",
   "execution_count": 7,
   "id": "4974772b-9ed2-4d06-b039-b2a45b4cc1e3",
   "metadata": {},
   "outputs": [],
   "source": [
    "df = pd.read_csv(processed_data_directory + 'reviews_nearest_score_no_limit_df.csv')\n",
    "# df = pd.read_csv(processed_data_directory + 'reviews_nearest_score_2_years_df.csv')"
   ]
  },
  {
   "cell_type": "markdown",
   "id": "96e7c256-2aee-4550-ad6d-f0aa41d29c06",
   "metadata": {
    "tags": []
   },
   "source": [
    "# supervised model with bag of words (tfidf)"
   ]
  },
  {
   "cell_type": "markdown",
   "id": "ea5f6d3a-0297-4751-97be-51fc2f4d0cd0",
   "metadata": {
    "jp-MarkdownHeadingCollapsed": true,
    "tags": []
   },
   "source": [
    "## clean reviews"
   ]
  },
  {
   "cell_type": "code",
   "execution_count": 8,
   "id": "92a2f1fb-e5aa-46aa-a3cd-fe7f8e7c7718",
   "metadata": {},
   "outputs": [
    {
     "name": "stdout",
     "output_type": "stream",
     "text": [
      "4184/570614 (0.7332452410911755%) are fractional scores\n"
     ]
    }
   ],
   "source": [
    "yy = np.array(df['Score'])\n",
    "print(f'{sum(yy%1 != 0.0)}/{len(yy)} ({sum(yy%1 != 0.0)/len(yy)*100}%) are fractional scores')"
   ]
  },
  {
   "cell_type": "code",
   "execution_count": 9,
   "id": "0c52c68e-f695-4048-960a-e5e7eb66a5d9",
   "metadata": {},
   "outputs": [],
   "source": [
    "reviews = np.array(df['text'])\n",
    "scores = np.array(df['Score'])\n",
    "X, y = reviews, scores\n",
    "# round\n",
    "roundby = 1\n",
    "y = np.array(list(map(lambda x: math.ceil(x / roundby) * roundby,y)))\n",
    "# classify into two categories\n",
    "# thresh = 80\n",
    "# y = np.array(list(map(lambda x: 1 if x > thresh else 0, y)))"
   ]
  },
  {
   "cell_type": "code",
   "execution_count": 10,
   "id": "5406590c-4cac-4a30-9db3-24d2b2a965b8",
   "metadata": {},
   "outputs": [
    {
     "data": {
      "text/plain": [
       "570614"
      ]
     },
     "execution_count": 10,
     "metadata": {},
     "output_type": "execute_result"
    }
   ],
   "source": [
    "len(X)"
   ]
  },
  {
   "cell_type": "code",
   "execution_count": 11,
   "id": "0553f4c9-813b-4663-a09a-88f2986718d9",
   "metadata": {},
   "outputs": [],
   "source": [
    "## clean up text\n",
    "STOP_WORDS = STOP_WORDS.union({'ll', 've','it\\'d','s','d','itd','m','nt','im','ive'}) # there's probably a better way to do this\n",
    "\n",
    "def text_cleaner(s):\n",
    "    # s = ' '.join(w.lemma_ for w in nlp(s) if not w.is_stop) # remove stop words and lemmatize\n",
    "    s = re.sub('<[^<]+?>', '', s) # remove tags\n",
    "    s = re.sub('[^a-z\\s\\n]', '', s.lower())\n",
    "    # gensim is a lot faster than spacy\n",
    "    s = gsp.remove_stopwords(s)\n",
    "    # s = gsp.stem_text(s)\n",
    "    s = re.sub(\"\\s+\",\" \",s) # remove extra whitespace\n",
    "    # s = s.strip()\n",
    "    return s.split()"
   ]
  },
  {
   "cell_type": "code",
   "execution_count": 12,
   "id": "463ca364-0170-455b-a112-0a9669923100",
   "metadata": {},
   "outputs": [
    {
     "data": {
      "text/plain": [
       "\"We went tonight following our favorite new Sushi chef, Felix, only to find out it was their soft opening. I'll be dam, we were properly blown away. The ambiance was simple and elegent, the staff attentive and the chefs, (Felix, Ronnie, Johnny) were wonderful. \\nWe trusted Felix to generate our menu and we were not dissapointed. The highlight to our own pallets being his version of a dish called Lady Fingers. \\nEverything was fresh and simple with twists of baked garlic and truffle oil. Probably one of the best times my taste bids have had in a sushi bar. \\nThis is our new go-to place.\""
      ]
     },
     "execution_count": 12,
     "metadata": {},
     "output_type": "execute_result"
    }
   ],
   "source": [
    "X[0]"
   ]
  },
  {
   "cell_type": "code",
   "execution_count": 13,
   "id": "e2eab62c-d1f1-4667-a5a0-f704f46f8c28",
   "metadata": {
    "tags": []
   },
   "outputs": [
    {
     "data": {
      "text/plain": [
       "['went',\n",
       " 'tonight',\n",
       " 'following',\n",
       " 'favorite',\n",
       " 'new',\n",
       " 'sushi',\n",
       " 'chef',\n",
       " 'felix',\n",
       " 'soft',\n",
       " 'opening',\n",
       " 'ill',\n",
       " 'dam',\n",
       " 'properly',\n",
       " 'blown',\n",
       " 'away',\n",
       " 'ambiance',\n",
       " 'simple',\n",
       " 'elegent',\n",
       " 'staff',\n",
       " 'attentive',\n",
       " 'chefs',\n",
       " 'felix',\n",
       " 'ronnie',\n",
       " 'johnny',\n",
       " 'wonderful',\n",
       " 'trusted',\n",
       " 'felix',\n",
       " 'generate',\n",
       " 'menu',\n",
       " 'dissapointed',\n",
       " 'highlight',\n",
       " 'pallets',\n",
       " 'version',\n",
       " 'dish',\n",
       " 'called',\n",
       " 'lady',\n",
       " 'fingers',\n",
       " 'fresh',\n",
       " 'simple',\n",
       " 'twists',\n",
       " 'baked',\n",
       " 'garlic',\n",
       " 'truffle',\n",
       " 'oil',\n",
       " 'probably',\n",
       " 'best',\n",
       " 'times',\n",
       " 'taste',\n",
       " 'bids',\n",
       " 'sushi',\n",
       " 'bar',\n",
       " 'new',\n",
       " 'goto',\n",
       " 'place']"
      ]
     },
     "execution_count": 13,
     "metadata": {},
     "output_type": "execute_result"
    }
   ],
   "source": [
    "text_cleaner(X[0])"
   ]
  },
  {
   "cell_type": "code",
   "execution_count": 14,
   "id": "bc08319b-a875-4d17-8a00-251d17443d6f",
   "metadata": {},
   "outputs": [],
   "source": [
    "# simple bag of words\n",
    "bow_vectorizer = TfidfVectorizer(tokenizer=text_cleaner,\n",
    "                                 min_df=10,\n",
    "                                 max_df=0.5,\n",
    "                                 max_features=20000,\n",
    "                                 ngram_range=(1,2),\n",
    "                                 stop_words=STOP_WORDS)\n",
    "# svd = TruncatedSVD(n_components=100)\n",
    "features = Pipeline([\n",
    "    ('tfidf',bow_vectorizer),\n",
    "    ('svd',TruncatedSVD(n_components=200)),\n",
    "    ('minmax',MinMaxScaler(feature_range=(0,1))) # necessary for NB\n",
    "])"
   ]
  },
  {
   "cell_type": "code",
   "execution_count": 20,
   "id": "90e71539-ed10-496b-88cf-9f45f7fd22e1",
   "metadata": {},
   "outputs": [
    {
     "name": "stdout",
     "output_type": "stream",
     "text": [
      "CPU times: total: 2min 26s\n",
      "Wall time: 1min 43s\n"
     ]
    }
   ],
   "source": [
    "%%time\n",
    "X_out = features.fit_transform(X,y)"
   ]
  },
  {
   "cell_type": "code",
   "execution_count": 21,
   "id": "44996e10-a496-4385-9fae-6ba366408d16",
   "metadata": {
    "collapsed": true,
    "jupyter": {
     "outputs_hidden": true
    },
    "tags": []
   },
   "outputs": [
    {
     "data": {
      "text/plain": [
       "{'egg yolk': 10.565590551419845,\n",
       " 'got breakfast': 10.034962300357675,\n",
       " 'stiff': 9.711175223263776,\n",
       " 'clients': 9.65935015539919,\n",
       " 'cuisine': 9.572338778409561,\n",
       " 'order comes': 9.553989639741365,\n",
       " 'meantime': 9.52708218682144,\n",
       " 'tacos good': 9.509537877170532,\n",
       " 'great fries': 9.500879814427416,\n",
       " 'run': 9.466978262751734,\n",
       " 'december': 9.45867945993704,\n",
       " 'obscure': 9.45867945993704,\n",
       " 'drank': 9.434188439928745,\n",
       " 'flavor tried': 9.434188439928745,\n",
       " 'bruschetta': 9.41028291907519,\n",
       " 'sushi rice': 9.402439741614163,\n",
       " 'came large': 9.402439741614163,\n",
       " 'sandwich ordered': 9.394657601172108,\n",
       " 'like salsa': 9.386935555078198,\n",
       " 'brittle': 9.37166808294741,\n",
       " 'dumped': 9.37166808294741,\n",
       " 'drive window': 9.364120877312027,\n",
       " 'good know': 9.356630205582869,\n",
       " 'best restaurant': 9.34181511979773,\n",
       " 'expect': 9.334489079705657,\n",
       " 'accessible': 9.327216320376577,\n",
       " 'ordered regular': 9.327216320376577,\n",
       " 'tastes fresh': 9.327216320376577,\n",
       " 'scream': 9.327216320376577,\n",
       " 'waitlist': 9.327216320376577,\n",
       " 'kombucha': 9.327216320376577,\n",
       " 'repeat': 9.31999607240309,\n",
       " 'visited austin': 9.31999607240309,\n",
       " 'discouraged': 9.31999607240309,\n",
       " 'holds': 9.31999607240309,\n",
       " 'cocktail': 9.312827582924477,\n",
       " 'food place': 9.305710115155613,\n",
       " 'stuffing': 9.305710115155613,\n",
       " 'mushroom pizza': 9.305710115155613,\n",
       " 'lemon chicken': 9.305710115155613,\n",
       " 'explained': 9.298642947932521,\n",
       " 'local spot': 9.291625375273874,\n",
       " 'accompanied': 9.291625375273874,\n",
       " 'carlos': 9.291625375273874,\n",
       " 'dai': 9.291625375273874,\n",
       " 'feeling': 9.284656705957781,\n",
       " 'nashville': 9.284656705957781,\n",
       " 'chain restaurant': 9.284656705957781,\n",
       " 'ask want': 9.284656705957781,\n",
       " 'seaweed': 9.277736263113207,\n",
       " 'bar drink': 9.277736263113207,\n",
       " 'fajitas good': 9.277736263113207,\n",
       " 'went way': 9.277736263113207,\n",
       " 'weeks advance': 9.277736263113207,\n",
       " 'validated': 9.277736263113207,\n",
       " 'restaurants town': 9.270863383825445,\n",
       " 'outdoor patio': 9.270863383825445,\n",
       " 'fajita meat': 9.270863383825445,\n",
       " 'ancient': 9.270863383825445,\n",
       " 'order said': 9.264037418755045,\n",
       " 'good drink': 9.264037418755045,\n",
       " 'beets': 9.264037418755045,\n",
       " 'wave': 9.264037418755045,\n",
       " 'sauce flavor': 9.264037418755045,\n",
       " 'saps': 9.264037418755045,\n",
       " 'poke place': 9.264037418755045,\n",
       " 'lot place': 9.257257731769666,\n",
       " 'flip': 9.257257731769666,\n",
       " 'coffee coffee': 9.257257731769666,\n",
       " 'iii': 9.257257731769666,\n",
       " 'soup came': 9.257257731769666,\n",
       " 'amazing didnt': 9.257257731769666,\n",
       " 'check place': 9.250523699588323,\n",
       " 'tables outside': 9.250523699588323,\n",
       " 'friendly attentive': 9.243834711437525,\n",
       " 'green chili': 9.243834711437525,\n",
       " 'amazing meal': 9.243834711437525,\n",
       " 'marsala': 9.243834711437525,\n",
       " 'like nice': 9.237190168718856,\n",
       " 'scored': 9.237190168718856,\n",
       " 'horseradish': 9.237190168718856,\n",
       " 'crappy service': 9.237190168718856,\n",
       " 'great wine': 9.237190168718856,\n",
       " 'little odd': 9.237190168718856,\n",
       " 'place restaurant': 9.230589484687505,\n",
       " 'peeps': 9.230589484687505,\n",
       " 'looking menu': 9.230589484687505,\n",
       " 'desire': 9.230589484687505,\n",
       " 'cheese tasted': 9.230589484687505,\n",
       " 'single thing': 9.230589484687505,\n",
       " 'ragu': 9.230589484687505,\n",
       " 'salsa bar': 9.230589484687505,\n",
       " 'thai pad': 9.230589484687505,\n",
       " 'handful times': 9.224032084141346,\n",
       " 'main dish': 9.224032084141346,\n",
       " 'corn': 9.224032084141346,\n",
       " 'grills': 9.224032084141346,\n",
       " 'apologize': 9.224032084141346,\n",
       " 'people coming': 9.224032084141346,\n",
       " 'bring water': 9.224032084141346,\n",
       " 'new food': 9.224032084141346,\n",
       " 'matter': 9.217517403120151,\n",
       " 'welcoming friendly': 9.217517403120151,\n",
       " 'tacos awesome': 9.217517403120151,\n",
       " 'francisco': 9.211044888614534,\n",
       " 'away ordered': 9.211044888614534,\n",
       " 'delicious perfectly': 9.211044888614534,\n",
       " 'came like': 9.211044888614534,\n",
       " 'clean food': 9.211044888614534,\n",
       " 'bay': 9.211044888614534,\n",
       " 'pretty delicious': 9.211044888614534,\n",
       " 'ordered pork': 9.211044888614534,\n",
       " 'warm friendly': 9.211044888614534,\n",
       " 'person counter': 9.211044888614534,\n",
       " 'fell bone': 9.211044888614534,\n",
       " 'real treat': 9.204613998284243,\n",
       " 'food taste': 9.204613998284243,\n",
       " 'tried times': 9.204613998284243,\n",
       " 'time left': 9.204613998284243,\n",
       " 'theres wait': 9.204613998284243,\n",
       " 'server amazing': 9.204613998284243,\n",
       " 'operations': 9.204613998284243,\n",
       " 'tasted fine': 9.204613998284243,\n",
       " 'deciding': 9.204613998284243,\n",
       " 'gonna': 9.198224200185473,\n",
       " 'ill coming': 9.198224200185473,\n",
       " 'unsure': 9.198224200185473,\n",
       " 'time feel': 9.198224200185473,\n",
       " 'great flavors': 9.191874972506815,\n",
       " 'change life': 9.191874972506815,\n",
       " 'eagerly': 9.18556580331355,\n",
       " 'lunch options': 9.18556580331355,\n",
       " 'larger': 9.18556580331355,\n",
       " 'heard good': 9.18556580331355,\n",
       " 'unorganized': 9.18556580331355,\n",
       " 'busy day': 9.18556580331355,\n",
       " 'honor': 9.18556580331355,\n",
       " 'rainey': 9.18556580331355,\n",
       " 'dfw': 9.18556580331355,\n",
       " 'order steak': 9.18556580331355,\n",
       " 'fairly small': 9.18556580331355,\n",
       " 'contact': 9.179296190299954,\n",
       " 'buy free': 9.179296190299954,\n",
       " 'dishes time': 9.179296190299954,\n",
       " 'portion small': 9.179296190299954,\n",
       " 'chocolates': 9.179296190299954,\n",
       " 'outside great': 9.179296190299954,\n",
       " 'chick fil': 9.179296190299954,\n",
       " 'lit': 9.173065640549318,\n",
       " 'night pretty': 9.173065640549318,\n",
       " 'declined': 9.173065640549318,\n",
       " 'noticing': 9.173065640549318,\n",
       " 'crowds': 9.173065640549318,\n",
       " 'pickled vegetables': 9.173065640549318,\n",
       " 'ruin': 9.173065640549318,\n",
       " 'potato cheese': 9.173065640549318,\n",
       " 'tuk': 9.173065640549318,\n",
       " 'time staff': 9.166873670301397,\n",
       " 'soup good': 9.166873670301397,\n",
       " 'amazing fried': 9.166873670301397,\n",
       " 'husband got': 9.166873670301397,\n",
       " 'aside food': 9.166873670301397,\n",
       " 'experience service': 9.166873670301397,\n",
       " 'rice bowl': 9.166873670301397,\n",
       " 'super flavorful': 9.166873670301397,\n",
       " 'delicious id': 9.166873670301397,\n",
       " 'service waitress': 9.166873670301397,\n",
       " 'lived hype': 9.166873670301397,\n",
       " 'fries awesome': 9.166873670301397,\n",
       " 'newspaper': 9.166873670301397,\n",
       " 'super sweet': 9.16071980472702,\n",
       " 'white wine': 9.16071980472702,\n",
       " 'poke': 9.16071980472702,\n",
       " 'red wine': 9.16071980472702,\n",
       " 'great tacos': 9.16071980472702,\n",
       " 'queso great': 9.16071980472702,\n",
       " 'austin beer': 9.16071980472702,\n",
       " 'texas style': 9.16071980472702,\n",
       " 'melt': 9.154603577709583,\n",
       " 'couple hours': 9.154603577709583,\n",
       " 'little expensive': 9.154603577709583,\n",
       " 'thing better': 9.154603577709583,\n",
       " 'customer experience': 9.154603577709583,\n",
       " 'youre going': 9.154603577709583,\n",
       " 'domestic': 9.154603577709583,\n",
       " 'labeled': 9.154603577709583,\n",
       " 'flank': 9.154603577709583,\n",
       " 'western': 9.154603577709583,\n",
       " 'television': 9.154603577709583,\n",
       " 'good vegan': 9.154603577709583,\n",
       " 'time probably': 9.1485245316332,\n",
       " 'elevated': 9.1485245316332,\n",
       " 'hip': 9.1485245316332,\n",
       " 'stewed': 9.1485245316332,\n",
       " 'fresh definitely': 9.1485245316332,\n",
       " 'times come': 9.1485245316332,\n",
       " 'arandas': 9.1485245316332,\n",
       " 'fun place': 9.1485245316332,\n",
       " 'parking available': 9.1485245316332,\n",
       " 'hooray': 9.1485245316332,\n",
       " 'crumbly': 9.1485245316332,\n",
       " 'minus star': 9.1485245316332,\n",
       " 'delicious unique': 9.1485245316332,\n",
       " 'brew coffee': 9.1485245316332,\n",
       " 'feel welcomed': 9.1485245316332,\n",
       " 'time area': 9.1485245316332,\n",
       " 'lamberts': 9.1485245316332,\n",
       " 'salsa': 9.142482217177237,\n",
       " 'minutes later': 9.142482217177237,\n",
       " 'staff extremely': 9.142482217177237,\n",
       " 'food live': 9.142482217177237,\n",
       " 'approved': 9.142482217177237,\n",
       " 'suggested place': 9.142482217177237,\n",
       " 'order right': 9.142482217177237,\n",
       " 'requests': 9.142482217177237,\n",
       " 'sprinkle': 9.142482217177237,\n",
       " 'deck': 9.142482217177237,\n",
       " 'thats nice': 9.142482217177237,\n",
       " 'relaxing atmosphere': 9.142482217177237,\n",
       " 'medium rare': 9.142482217177237,\n",
       " 'nice lady': 9.142482217177237,\n",
       " 'kfc': 9.142482217177237,\n",
       " 'tasted little': 9.142482217177237,\n",
       " 'ben white': 9.142482217177237,\n",
       " 'dishes try': 9.136476193117026,\n",
       " 'little slow': 9.136476193117026,\n",
       " 'chicken tender': 9.136476193117026,\n",
       " 'excellent food': 9.136476193117026,\n",
       " 'cities': 9.136476193117026,\n",
       " 'array': 9.136476193117026,\n",
       " 'stars time': 9.136476193117026,\n",
       " 'container': 9.136476193117026,\n",
       " 'willing pay': 9.136476193117026,\n",
       " 'substantial': 9.136476193117026,\n",
       " 'balcony': 9.136476193117026,\n",
       " 'better way': 9.136476193117026,\n",
       " 'seasons': 9.136476193117026,\n",
       " 'university': 9.136476193117026,\n",
       " 'went second': 9.136476193117026,\n",
       " 'plopped': 9.136476193117026,\n",
       " 'powerful': 9.136476193117026,\n",
       " 'austin especially': 9.136476193117026,\n",
       " 'fountain drinks': 9.136476193117026,\n",
       " 'time soon': 9.136476193117026,\n",
       " 'shrimp crab': 9.136476193117026,\n",
       " 'spicy foods': 9.136476193117026,\n",
       " 'gai': 9.136476193117026,\n",
       " 'lunch today': 9.130506026130522,\n",
       " 'staff incredibly': 9.130506026130522,\n",
       " 'ample': 9.130506026130522,\n",
       " 'wont coming': 9.130506026130522,\n",
       " 'quickly food': 9.130506026130522,\n",
       " 'inexpensive': 9.130506026130522,\n",
       " 'indoors': 9.130506026130522,\n",
       " 'left satisfied': 9.130506026130522,\n",
       " 'grains': 9.130506026130522,\n",
       " 'friendly people': 9.130506026130522,\n",
       " 'good havent': 9.130506026130522,\n",
       " 'rice beans': 9.130506026130522,\n",
       " 'sure food': 9.130506026130522,\n",
       " 'good ok': 9.130506026130522,\n",
       " 'breakfasts': 9.130506026130522,\n",
       " 'niece': 9.130506026130522,\n",
       " 'wooden tables': 9.130506026130522,\n",
       " 'shopping center': 9.124571290610707,\n",
       " 'dishes menu': 9.124571290610707,\n",
       " 'awful service': 9.124571290610707,\n",
       " 'attentive nice': 9.124571290610707,\n",
       " 'clean bright': 9.124571290610707,\n",
       " 'slowly': 9.124571290610707,\n",
       " 'cone': 9.124571290610707,\n",
       " 'flagship': 9.124571290610707,\n",
       " 'thats reason': 9.124571290610707,\n",
       " 'bar amazing': 9.124571290610707,\n",
       " 'coffees': 9.124571290610707,\n",
       " 'reuben': 9.124571290610707,\n",
       " 'decidedly': 9.124571290610707,\n",
       " 'mud': 9.124571290610707,\n",
       " 'delivery driver': 9.124571290610707,\n",
       " 'cutters': 9.124571290610707,\n",
       " 'best far': 9.124571290610707,\n",
       " 'time parking': 9.124571290610707,\n",
       " 'extra noodles': 9.124571290610707,\n",
       " 'chicken better': 9.124571290610707,\n",
       " 'flavor nice': 9.118671568483519,\n",
       " 'authentic': 9.118671568483519,\n",
       " 'music playing': 9.118671568483519,\n",
       " 'bar bartender': 9.118671568483519,\n",
       " 'lunch break': 9.118671568483519,\n",
       " 'ritual': 9.118671568483519,\n",
       " 'flavor definitely': 9.118671568483519,\n",
       " 'pasta': 9.118671568483519,\n",
       " 'lubys': 9.118671568483519,\n",
       " 'forgot bring': 9.118671568483519,\n",
       " 'boba': 9.118671568483519,\n",
       " 'puffy': 9.118671568483519,\n",
       " 'live': 9.11280644903112,\n",
       " 'near future': 9.11280644903112,\n",
       " 'best happy': 9.11280644903112,\n",
       " 'good atmosphere': 9.11280644903112,\n",
       " 'different options': 9.11280644903112,\n",
       " 'hello': 9.11280644903112,\n",
       " 'went order': 9.11280644903112,\n",
       " 'food choices': 9.11280644903112,\n",
       " 'polish': 9.11280644903112,\n",
       " 'macaroon': 9.11280644903112,\n",
       " 'warrants': 9.11280644903112,\n",
       " 'nice gave': 9.11280644903112,\n",
       " 'try pizza': 9.11280644903112,\n",
       " 'cows': 9.11280644903112,\n",
       " 'anderson lane': 9.11280644903112,\n",
       " 'bbq experience': 9.11280644903112,\n",
       " 'blacks bbq': 9.11280644903112,\n",
       " 'fatty brisket': 9.11280644903112,\n",
       " 'summermoon': 9.11280644903112,\n",
       " 'enjoyed': 9.106975528720328,\n",
       " 'place fresh': 9.106975528720328,\n",
       " 'dont like': 9.106975528720328,\n",
       " 'pretty darn': 9.106975528720328,\n",
       " 'philly': 9.106975528720328,\n",
       " 'today lunch': 9.106975528720328,\n",
       " 'yep': 9.106975528720328,\n",
       " 'low carb': 9.106975528720328,\n",
       " 'location pretty': 9.106975528720328,\n",
       " 'pretty close': 9.106975528720328,\n",
       " 'area restaurant': 9.106975528720328,\n",
       " 'outdoor bar': 9.106975528720328,\n",
       " 'ill wait': 9.106975528720328,\n",
       " 'florida': 9.106975528720328,\n",
       " 'great coffee': 9.106975528720328,\n",
       " 'slices pizza': 9.106975528720328,\n",
       " 'clean modern': 9.106975528720328,\n",
       " 'remember': 9.101178411036003,\n",
       " 'higher end': 9.101178411036003,\n",
       " 'wow': 9.101178411036003,\n",
       " 'fresh sushi': 9.101178411036003,\n",
       " 'presented': 9.101178411036003,\n",
       " 'location nice': 9.101178411036003,\n",
       " 'perfect date': 9.101178411036003,\n",
       " 'dont work': 9.101178411036003,\n",
       " 'patience': 9.101178411036003,\n",
       " 'additional': 9.101178411036003,\n",
       " 'went late': 9.101178411036003,\n",
       " 'fresh tortillas': 9.101178411036003,\n",
       " 'decently': 9.101178411036003,\n",
       " 'maine root': 9.101178411036003,\n",
       " 'good meat': 9.101178411036003,\n",
       " 'math': 9.101178411036003,\n",
       " 'broiled': 9.101178411036003,\n",
       " 'pinto': 9.101178411036003,\n",
       " 'edge': 9.101178411036003,\n",
       " 'worth minute': 9.101178411036003,\n",
       " 'place line': 9.101178411036003,\n",
       " 'cooked medium': 9.101178411036003,\n",
       " 'immensely': 9.101178411036003,\n",
       " 'inclined': 9.101178411036003,\n",
       " 'aloof': 9.101178411036003,\n",
       " 'fast great': 9.101178411036003,\n",
       " 'saves': 9.101178411036003,\n",
       " 'friendly got': 9.101178411036003,\n",
       " 'alternatives': 9.095414706319252,\n",
       " 'gorgeous': 9.095414706319252,\n",
       " 'getting order': 9.095414706319252,\n",
       " 'counter': 9.095414706319252,\n",
       " 'jokes': 9.095414706319252,\n",
       " 'exceptional': 9.095414706319252,\n",
       " 'basis': 9.095414706319252,\n",
       " 'best ramen': 9.095414706319252,\n",
       " 'friendly waitress': 9.095414706319252,\n",
       " 'food spicy': 9.095414706319252,\n",
       " 'bone': 9.095414706319252,\n",
       " 'wont regret': 9.095414706319252,\n",
       " 'review service': 9.095414706319252,\n",
       " 'tomatillo': 9.095414706319252,\n",
       " 'blue cheese': 9.095414706319252,\n",
       " 'sticker': 9.095414706319252,\n",
       " 'hour time': 9.095414706319252,\n",
       " 'proportion': 9.095414706319252,\n",
       " 'enjoy meal': 9.095414706319252,\n",
       " 'vintage': 9.095414706319252,\n",
       " 'got bacon': 9.095414706319252,\n",
       " 'bueno': 9.095414706319252,\n",
       " 'sour taste': 9.095414706319252,\n",
       " 'pork rice': 9.095414706319252,\n",
       " 'span': 9.095414706319252,\n",
       " 'takes time': 9.095414706319252,\n",
       " 'tasty didnt': 9.095414706319252,\n",
       " 'lucy': 9.095414706319252,\n",
       " 'neapolitan': 9.095414706319252,\n",
       " 'little pieces': 9.095414706319252,\n",
       " 'eberly': 9.095414706319252,\n",
       " 'lots options': 9.089684031610267,\n",
       " 'strong': 9.089684031610267,\n",
       " 'brought food': 9.089684031610267,\n",
       " 'bites': 9.089684031610267,\n",
       " 'definitely visit': 9.089684031610267,\n",
       " 'mayonnaise': 9.089684031610267,\n",
       " 'definitely wasnt': 9.089684031610267,\n",
       " 'fresh warm': 9.089684031610267,\n",
       " 'warning': 9.089684031610267,\n",
       " 'come service': 9.089684031610267,\n",
       " 'ask order': 9.089684031610267,\n",
       " 'sandwich pretty': 9.089684031610267,\n",
       " 'small space': 9.089684031610267,\n",
       " 'time location': 9.089684031610267,\n",
       " 'pretty fast': 9.089684031610267,\n",
       " 'redeem': 9.089684031610267,\n",
       " 'murals': 9.089684031610267,\n",
       " 'ill stop': 9.089684031610267,\n",
       " 'jessica': 9.089684031610267,\n",
       " 'attentive knowledgeable': 9.089684031610267,\n",
       " 'ok good': 9.089684031610267,\n",
       " 'times usually': 9.089684031610267,\n",
       " 'espresso machine': 9.089684031610267,\n",
       " 'service awful': 9.089684031610267,\n",
       " 'pork shrimp': 9.089684031610267,\n",
       " 'best korean': 9.089684031610267,\n",
       " 'lichas': 9.089684031610267,\n",
       " 'bells': 9.089684031610267,\n",
       " 'live street': 9.089684031610267,\n",
       " 'sprinkles': 9.089684031610267,\n",
       " 'clarks': 9.089684031610267,\n",
       " 'service': 9.083986010495629,\n",
       " 'mood': 9.083986010495629,\n",
       " 'appeared': 9.083986010495629,\n",
       " 'pop': 9.083986010495629,\n",
       " 'sesame': 9.083986010495629,\n",
       " 'food tasted': 9.083986010495629,\n",
       " 'daddys': 9.083986010495629,\n",
       " 'table good': 9.083986010495629,\n",
       " 'uncooked': 9.083986010495629,\n",
       " 'lomein': 9.083986010495629,\n",
       " 'place park': 9.083986010495629,\n",
       " 'went time': 9.083986010495629,\n",
       " 'doesnt bother': 9.083986010495629,\n",
       " 'waiting tables': 9.083986010495629,\n",
       " 'cheese tacos': 9.083986010495629,\n",
       " 'time told': 9.083986010495629,\n",
       " 'service efficient': 9.083986010495629,\n",
       " 'dish night': 9.083986010495629,\n",
       " 'hoppy': 9.083986010495629,\n",
       " 'belgian': 9.083986010495629,\n",
       " 'fun little': 9.083986010495629,\n",
       " 'night dinner': 9.083986010495629,\n",
       " 'grounds': 9.083986010495629,\n",
       " 'understand place': 9.083986010495629,\n",
       " 'huge variety': 9.083986010495629,\n",
       " 'atrocious': 9.083986010495629,\n",
       " 'omelettes': 9.083986010495629,\n",
       " 'cannoli': 9.083986010495629,\n",
       " 'awesome coffee': 9.083986010495629,\n",
       " 'knives': 9.083986010495629,\n",
       " 'idiots': 9.083986010495629,\n",
       " 'group got': 9.083986010495629,\n",
       " 'spun': 9.083986010495629,\n",
       " 'chef': 9.078320272959951,\n",
       " 'prices': 9.078320272959951,\n",
       " 'eat': 9.078320272959951,\n",
       " 'second': 9.078320272959951,\n",
       " 'lack': 9.078320272959951,\n",
       " 'buds': 9.078320272959951,\n",
       " 'ex': 9.078320272959951,\n",
       " 'negative review': 9.078320272959951,\n",
       " 'lot fun': 9.078320272959951,\n",
       " 'stick': 9.078320272959951,\n",
       " 'friend shared': 9.078320272959951,\n",
       " 'prepare': 9.078320272959951,\n",
       " 'video': 9.078320272959951,\n",
       " 'crisp': 9.078320272959951,\n",
       " 'years love': 9.078320272959951,\n",
       " 'grew': 9.078320272959951,\n",
       " 'brownie': 9.078320272959951,\n",
       " 'moist': 9.078320272959951,\n",
       " 'enjoyed service': 9.078320272959951,\n",
       " 'chile queso': 9.078320272959951,\n",
       " 'star service': 9.078320272959951,\n",
       " 'business model': 9.078320272959951,\n",
       " 'minutes asked': 9.078320272959951,\n",
       " 'cleaning': 9.078320272959951,\n",
       " 'good husband': 9.078320272959951,\n",
       " 'fills': 9.078320272959951,\n",
       " 'award': 9.078320272959951,\n",
       " 'steep': 9.078320272959951,\n",
       " 'way try': 9.078320272959951,\n",
       " 'asked sit': 9.078320272959951,\n",
       " 'food going': 9.078320272959951,\n",
       " 'dim sum': 9.078320272959951,\n",
       " 'favorite fried': 9.078320272959951,\n",
       " 'caught eye': 9.078320272959951,\n",
       " 'service spot': 9.078320272959951,\n",
       " 'deliver food': 9.078320272959951,\n",
       " 'drinks amazing': 9.078320272959951,\n",
       " 'brunch spot': 9.078320272959951,\n",
       " 'bringing food': 9.078320272959951,\n",
       " 'love breakfast': 9.078320272959951,\n",
       " 'biscuits gravy': 9.078320272959951,\n",
       " 'ahead order': 9.078320272959951,\n",
       " 'huge deal': 9.078320272959951,\n",
       " 'best staff': 9.078320272959951,\n",
       " 'pretty late': 9.078320272959951,\n",
       " 'wont returning': 9.078320272959951,\n",
       " 'good vegetarian': 9.078320272959951,\n",
       " 'apartments': 9.078320272959951,\n",
       " 'hippies': 9.078320272959951,\n",
       " 'seitan': 9.078320272959951,\n",
       " 'barbacoa tacos': 9.078320272959951,\n",
       " 'volleyball': 9.078320272959951,\n",
       " 'pizza': 9.072686455241696,\n",
       " 'utensils': 9.072686455241696,\n",
       " 'grand opening': 9.072686455241696,\n",
       " 'steamed': 9.072686455241696,\n",
       " 'relatively': 9.072686455241696,\n",
       " 'pickup': 9.072686455241696,\n",
       " 'pretty solid': 9.072686455241696,\n",
       " 'waiters': 9.072686455241696,\n",
       " 'shame': 9.072686455241696,\n",
       " 'staff great': 9.072686455241696,\n",
       " 'nice inside': 9.072686455241696,\n",
       " 'flame': 9.072686455241696,\n",
       " 'empanada': 9.072686455241696,\n",
       " 'decent place': 9.072686455241696,\n",
       " 'seven': 9.072686455241696,\n",
       " 'wont going': 9.072686455241696,\n",
       " 'wasted': 9.072686455241696,\n",
       " 'chili sauce': 9.072686455241696,\n",
       " 'hire': 9.072686455241696,\n",
       " 'walking distance': 9.072686455241696,\n",
       " 'sounded like': 9.072686455241696,\n",
       " 'good margaritas': 9.072686455241696,\n",
       " 'took forever': 9.072686455241696,\n",
       " 'today went': 9.072686455241696,\n",
       " 'service average': 9.072686455241696,\n",
       " 'parking lots': 9.072686455241696,\n",
       " 'order asked': 9.072686455241696,\n",
       " 'simply amazing': 9.072686455241696,\n",
       " 'bug': 9.072686455241696,\n",
       " 'great way': 9.072686455241696,\n",
       " 'hoped': 9.072686455241696,\n",
       " 'bay area': 9.072686455241696,\n",
       " 'outing': 9.072686455241696,\n",
       " 'partake': 9.072686455241696,\n",
       " 'place youre': 9.072686455241696,\n",
       " 'possibility': 9.072686455241696,\n",
       " 'knowledgable': 9.072686455241696,\n",
       " 'hour later': 9.072686455241696,\n",
       " 'wishing': 9.072686455241696,\n",
       " 'probably dont': 9.072686455241696,\n",
       " 'rendered': 9.072686455241696,\n",
       " 'service kind': 9.072686455241696,\n",
       " 'day long': 9.072686455241696,\n",
       " 'level service': 9.072686455241696,\n",
       " 'closest thing': 9.072686455241696,\n",
       " 'hushpuppies': 9.072686455241696,\n",
       " 'big time': 9.072686455241696,\n",
       " 'corn hole': 9.072686455241696,\n",
       " 'friend tried': 9.072686455241696,\n",
       " 'fun friendly': 9.072686455241696,\n",
       " 'unhealthy': 9.072686455241696,\n",
       " 'paintings': 9.072686455241696,\n",
       " 'paid left': 9.072686455241696,\n",
       " 'delicious bread': 9.072686455241696,\n",
       " 'puffs': 9.072686455241696,\n",
       " 'cannon': 9.072686455241696,\n",
       " 'cheese tomato': 9.072686455241696,\n",
       " 'gorditas': 9.072686455241696,\n",
       " 'like went': 9.072686455241696,\n",
       " 'fries cold': 9.072686455241696,\n",
       " 'flat bread': 9.072686455241696,\n",
       " 'brush': 9.072686455241696,\n",
       " 'people counter': 9.072686455241696,\n",
       " 'egg salad': 9.072686455241696,\n",
       " 'got brisket': 9.072686455241696,\n",
       " 'tried brisket': 9.072686455241696,\n",
       " 'read yelp': 9.072686455241696,\n",
       " 'melting pot': 9.072686455241696,\n",
       " 'times': 9.067084199693026,\n",
       " 'kitchen': 9.067084199693026,\n",
       " 'conversation': 9.067084199693026,\n",
       " 'finding': 9.067084199693026,\n",
       " 'explore': 9.067084199693026,\n",
       " 'fantastic': 9.067084199693026,\n",
       " 'try items': 9.067084199693026,\n",
       " 'tell': 9.067084199693026,\n",
       " 'second visit': 9.067084199693026,\n",
       " 'king': 9.067084199693026,\n",
       " 'great things': 9.067084199693026,\n",
       " 'soooooo': 9.067084199693026,\n",
       " 'b': 9.067084199693026,\n",
       " 'freshest': 9.067084199693026,\n",
       " 'sauteed': 9.067084199693026,\n",
       " 'attended': 9.067084199693026,\n",
       " 'notch food': 9.067084199693026,\n",
       " 'different menu': 9.067084199693026,\n",
       " 'star restaurant': 9.067084199693026,\n",
       " 'came good': 9.067084199693026,\n",
       " 'drink time': 9.067084199693026,\n",
       " 'sincerely': 9.067084199693026,\n",
       " 'icing cake': 9.067084199693026,\n",
       " 'time didnt': 9.067084199693026,\n",
       " 'place id': 9.067084199693026,\n",
       " 'phones': 9.067084199693026,\n",
       " 'malt': 9.067084199693026,\n",
       " 'taco meat': 9.067084199693026,\n",
       " 'ideal': 9.067084199693026,\n",
       " 'foodie': 9.067084199693026,\n",
       " 'loss': 9.067084199693026,\n",
       " 'heres': 9.067084199693026,\n",
       " 'unseasoned': 9.067084199693026,\n",
       " 'location downtown': 9.067084199693026,\n",
       " 'eyed': 9.067084199693026,\n",
       " 'got half': 9.067084199693026,\n",
       " 'despite busy': 9.067084199693026,\n",
       " 'food went': 9.067084199693026,\n",
       " 'waiting outside': 9.067084199693026,\n",
       " 'bread like': 9.067084199693026,\n",
       " 'way food': 9.067084199693026,\n",
       " 'meal pretty': 9.067084199693026,\n",
       " 'waffle': 9.067084199693026,\n",
       " 'nestled': 9.067084199693026,\n",
       " 'meat seasoned': 9.067084199693026,\n",
       " 'inform': 9.067084199693026,\n",
       " 'diet': 9.067084199693026,\n",
       " 'metal': 9.067084199693026,\n",
       " 'want taste': 9.067084199693026,\n",
       " 'dime': 9.067084199693026,\n",
       " 'chicken pork': 9.067084199693026,\n",
       " 'past weekend': 9.067084199693026,\n",
       " 'el mercado': 9.067084199693026,\n",
       " 'coated': 9.067084199693026,\n",
       " 'think new': 9.067084199693026,\n",
       " 'party ordered': 9.067084199693026,\n",
       " 'taco plate': 9.067084199693026,\n",
       " 'food allergies': 9.067084199693026,\n",
       " 'good menu': 9.067084199693026,\n",
       " 'time look': 9.067084199693026,\n",
       " 'dish delicious': 9.067084199693026,\n",
       " 'think thats': 9.067084199693026,\n",
       " 'black sheep': 9.067084199693026,\n",
       " 'splendid': 9.067084199693026,\n",
       " 'pee': 9.067084199693026,\n",
       " 'fellow yelpers': 9.067084199693026,\n",
       " 'good wait': 9.067084199693026,\n",
       " 'bring drinks': 9.067084199693026,\n",
       " 'mash': 9.067084199693026,\n",
       " 'restaurant amazing': 9.067084199693026,\n",
       " 'bday': 9.067084199693026,\n",
       " 'flowing': 9.067084199693026,\n",
       " 'band playing': 9.067084199693026,\n",
       " 'ordered hot': 9.067084199693026,\n",
       " 'austin need': 9.067084199693026,\n",
       " 'return try': 9.067084199693026,\n",
       " 'nice looking': 9.067084199693026,\n",
       " 'service mediocre': 9.067084199693026,\n",
       " 'think theyre': 9.067084199693026,\n",
       " 'hubby got': 9.067084199693026,\n",
       " 'jersey': 9.067084199693026,\n",
       " 'good crust': 9.067084199693026,\n",
       " 'bread pudding': 9.067084199693026,\n",
       " 'laws': 9.067084199693026,\n",
       " 'brunch buffet': 9.067084199693026,\n",
       " 'location staff': 9.067084199693026,\n",
       " 'maker': 9.067084199693026,\n",
       " 'assisted': 9.067084199693026,\n",
       " 'delicious looking': 9.067084199693026,\n",
       " 'fries dont': 9.067084199693026,\n",
       " 'better burger': 9.067084199693026,\n",
       " 'loaf bread': 9.067084199693026,\n",
       " 'wicked': 9.067084199693026,\n",
       " 'smores': 9.067084199693026,\n",
       " 'curry good': 9.067084199693026,\n",
       " 'sides mac': 9.067084199693026,\n",
       " 'order window': 9.067084199693026,\n",
       " 'zax': 9.067084199693026,\n",
       " 'daily juice': 9.067084199693026,\n",
       " 'bomber': 9.067084199693026,\n",
       " 'got': 9.06151315464357,\n",
       " 'delicious ordered': 9.06151315464357,\n",
       " 'plates': 9.06151315464357,\n",
       " 'glad finally': 9.06151315464357,\n",
       " 'local austin': 9.06151315464357,\n",
       " 'high quality': 9.06151315464357,\n",
       " 'ready': 9.06151315464357,\n",
       " 'bye': 9.06151315464357,\n",
       " 'restrictions': 9.06151315464357,\n",
       " 'service friendly': 9.06151315464357,\n",
       " 'white': 9.06151315464357,\n",
       " 'stew': 9.06151315464357,\n",
       " 'ridiculous': 9.06151315464357,\n",
       " 'available': 9.06151315464357,\n",
       " 'list goes': 9.06151315464357,\n",
       " 'wonderful meal': 9.06151315464357,\n",
       " 'susan': 9.06151315464357,\n",
       " 'dedicated': 9.06151315464357,\n",
       " 'availability': 9.06151315464357,\n",
       " 'flavoring': 9.06151315464357,\n",
       " 'heard place': 9.06151315464357,\n",
       " 'gotten better': 9.06151315464357,\n",
       " 'half time': 9.06151315464357,\n",
       " 'btw': 9.06151315464357,\n",
       " 'good tasted': 9.06151315464357,\n",
       " 'premade': 9.06151315464357,\n",
       " 'table came': 9.06151315464357,\n",
       " 'tortillas good': 9.06151315464357,\n",
       " 'olive oil': 9.06151315464357,\n",
       " 'ordered thing': 9.06151315464357,\n",
       " 'chilli': 9.06151315464357,\n",
       " 'restaurant little': 9.06151315464357,\n",
       " 'clean place': 9.06151315464357,\n",
       " 'nw austin': 9.06151315464357,\n",
       " 'especially lunch': 9.06151315464357,\n",
       " 'delicious prices': 9.06151315464357,\n",
       " 'meat fresh': 9.06151315464357,\n",
       " 'patty': 9.06151315464357,\n",
       " 'didnt look': 9.06151315464357,\n",
       " 'order phone': 9.06151315464357,\n",
       " 'caldo': 9.06151315464357,\n",
       " 'restaurant eat': 9.06151315464357,\n",
       " 'highest': 9.06151315464357,\n",
       " 'skills': 9.06151315464357,\n",
       " 'smoke flavor': 9.06151315464357,\n",
       " 'beef fajitas': 9.06151315464357,\n",
       " 'kick butt': 9.06151315464357,\n",
       " 'creates': 9.06151315464357,\n",
       " 'surf turf': 9.06151315464357,\n",
       " 'seed': 9.06151315464357,\n",
       " 'hibachi': 9.06151315464357,\n",
       " 'doesnt better': 9.06151315464357,\n",
       " 'continually': 9.06151315464357,\n",
       " 'love concept': 9.06151315464357,\n",
       " 'grilled shrimp': 9.06151315464357,\n",
       " 'minute walk': 9.06151315464357,\n",
       " 'ho': 9.06151315464357,\n",
       " 'carrot cake': 9.06151315464357,\n",
       " 'went friend': 9.06151315464357,\n",
       " 'thing think': 9.06151315464357,\n",
       " 'free beer': 9.06151315464357,\n",
       " 'hope dont': 9.06151315464357,\n",
       " 'continuously': 9.06151315464357,\n",
       " 'benedict': 9.06151315464357,\n",
       " 'mascarpone': 9.06151315464357,\n",
       " 'like tried': 9.06151315464357,\n",
       " 'awesome definitely': 9.06151315464357,\n",
       " 'things right': 9.06151315464357,\n",
       " 'going way': 9.06151315464357,\n",
       " 'tasted ok': 9.06151315464357,\n",
       " 'store clean': 9.06151315464357,\n",
       " 'free crust': 9.06151315464357,\n",
       " 'fixings': 9.06151315464357,\n",
       " 'alla': 9.06151315464357,\n",
       " 'service like': 9.06151315464357,\n",
       " 'reviews place': 9.06151315464357,\n",
       " 'ordered time': 9.06151315464357,\n",
       " 'prepared foods': 9.06151315464357,\n",
       " 'american chinese': 9.06151315464357,\n",
       " 'slop': 9.06151315464357,\n",
       " 'place hands': 9.06151315464357,\n",
       " 'pizza awesome': 9.06151315464357,\n",
       " 'friends love': 9.06151315464357,\n",
       " 'darts': 9.06151315464357,\n",
       " 'long took': 9.06151315464357,\n",
       " 'garlic fries': 9.06151315464357,\n",
       " 'flustered': 9.06151315464357,\n",
       " 'ramen broth': 9.06151315464357,\n",
       " 'bjs': 9.06151315464357,\n",
       " 'korean fried': 9.06151315464357,\n",
       " 'favorite tacos': 9.06151315464357,\n",
       " 'pastor taco': 9.06151315464357,\n",
       " 'boba tea': 9.06151315464357,\n",
       " 'tejis': 9.06151315464357,\n",
       " 'michi': 9.06151315464357,\n",
       " 'bouldin': 9.06151315464357,\n",
       " 'veggie heaven': 9.06151315464357,\n",
       " 'pretty': 9.055972974267956,\n",
       " 'enjoy': 9.055972974267956,\n",
       " 'mule': 9.055972974267956,\n",
       " 'taiwan': 9.055972974267956,\n",
       " 'dont think': 9.055972974267956,\n",
       " 'decoration': 9.055972974267956,\n",
       " 'expected': 9.055972974267956,\n",
       " 'cheese': 9.055972974267956,\n",
       " 'visit place': 9.055972974267956,\n",
       " 'friendly helpful': 9.055972974267956,\n",
       " 'place good': 9.055972974267956,\n",
       " 'cute': 9.055972974267956,\n",
       " 'dragon': 9.055972974267956,\n",
       " 'vast': 9.055972974267956,\n",
       " 'encounter': 9.055972974267956,\n",
       " 'seated quickly': 9.055972974267956,\n",
       " 'flying': 9.055972974267956,\n",
       " 'yelp place': 9.055972974267956,\n",
       " 'celery': 9.055972974267956,\n",
       " 'shape': 9.055972974267956,\n",
       " 'spicy sweet': 9.055972974267956,\n",
       " 'singing': 9.055972974267956,\n",
       " 'uncomfortable': 9.055972974267956,\n",
       " 'rush': 9.055972974267956,\n",
       " 'went straight': 9.055972974267956,\n",
       " 'food reasonably': 9.055972974267956,\n",
       " 'father': 9.055972974267956,\n",
       " 'place austin': 9.055972974267956,\n",
       " 'view': 9.055972974267956,\n",
       " 'ghost': 9.055972974267956,\n",
       " 'big plus': 9.055972974267956,\n",
       " 'order staff': 9.055972974267956,\n",
       " 'apathetic': 9.055972974267956,\n",
       " 'wearing mask': 9.055972974267956,\n",
       " 'want stay': 9.055972974267956,\n",
       " 'pros': 9.055972974267956,\n",
       " 'like usually': 9.055972974267956,\n",
       " 'logo': 9.055972974267956,\n",
       " 'try definitely': 9.055972974267956,\n",
       " 'counter service': 9.055972974267956,\n",
       " 'outside restaurant': 9.055972974267956,\n",
       " 'brings': 9.055972974267956,\n",
       " 'experience ill': 9.055972974267956,\n",
       " 'lunch food': 9.055972974267956,\n",
       " 'told order': 9.055972974267956,\n",
       " 'rave reviews': 9.055972974267956,\n",
       " 'warming': 9.055972974267956,\n",
       " 'crispy taco': 9.055972974267956,\n",
       " 'authentic mexican': 9.055972974267956,\n",
       " 'clue': 9.055972974267956,\n",
       " 'dont judge': 9.055972974267956,\n",
       " 'better food': 9.055972974267956,\n",
       " 'new orleans': 9.055972974267956,\n",
       " 'friday pm': 9.055972974267956,\n",
       " 'drinks delicious': 9.055972974267956,\n",
       " 'texmex food': 9.055972974267956,\n",
       " 'condensed': 9.055972974267956,\n",
       " 'colder': 9.055972974267956,\n",
       " 'hour food': 9.055972974267956,\n",
       " 'loved atmosphere': 9.055972974267956,\n",
       " 'farmtotable': 9.055972974267956,\n",
       " 'actually got': 9.055972974267956,\n",
       " 'roasted beets': 9.055972974267956,\n",
       " 'acid': 9.055972974267956,\n",
       " 'stink': 9.055972974267956,\n",
       " 'wouldnt able': 9.055972974267956,\n",
       " 'places sit': 9.055972974267956,\n",
       " 'visiting place': 9.055972974267956,\n",
       " 'inspection': 9.055972974267956,\n",
       " 'super excited': 9.055972974267956,\n",
       " 'rice fried': 9.055972974267956,\n",
       " 'yelped': 9.055972974267956,\n",
       " 'nicely decorated': 9.055972974267956,\n",
       " 'booze': 9.055972974267956,\n",
       " 'ski': 9.055972974267956,\n",
       " 'bottomless': 9.055972974267956,\n",
       " 'completed': 9.055972974267956,\n",
       " 'americanized chinese': 9.055972974267956,\n",
       " 'hell yes': 9.055972974267956,\n",
       " 'resembled': 9.055972974267956,\n",
       " 'soup amazing': 9.055972974267956,\n",
       " 'japchae': 9.055972974267956,\n",
       " 'disappointed didnt': 9.055972974267956,\n",
       " 'downer': 9.055972974267956,\n",
       " 'pillows': 9.055972974267956,\n",
       " 'place return': 9.055972974267956,\n",
       " 'great pretty': 9.055972974267956,\n",
       " 'jalepeno': 9.055972974267956,\n",
       " 'rehearsal': 9.055972974267956,\n",
       " 'little spice': 9.055972974267956,\n",
       " 'bowl delicious': 9.055972974267956,\n",
       " 'chicken katsu': 9.055972974267956,\n",
       " 'crab fried': 9.055972974267956,\n",
       " 'favorite ramen': 9.055972974267956,\n",
       " 'baristas friendly': 9.055972974267956,\n",
       " 'backspace': 9.055972974267956,\n",
       " 'hubby': 9.050463318456986,\n",
       " 'wanted try': 9.050463318456986,\n",
       " 'love place': 9.050463318456986,\n",
       " 'fried': 9.050463318456986,\n",
       " 'amazing sushi': 9.050463318456986,\n",
       " 'hoping': 9.050463318456986,\n",
       " 'meat': 9.050463318456986,\n",
       " 'ordered fried': 9.050463318456986,\n",
       " 'torched': 9.050463318456986,\n",
       " 'come area': 9.050463318456986,\n",
       " 'mentioned': 9.050463318456986,\n",
       " 'ordered dishes': 9.050463318456986,\n",
       " 'led': 9.050463318456986,\n",
       " 'little spot': 9.050463318456986,\n",
       " 'v': 9.050463318456986,\n",
       " 'continued': 9.050463318456986,\n",
       " 'santa': 9.050463318456986,\n",
       " 'guaranteed': 9.050463318456986,\n",
       " 'better quality': 9.050463318456986,\n",
       " 'garden': 9.050463318456986,\n",
       " 'like need': 9.050463318456986,\n",
       " 'got queso': 9.050463318456986,\n",
       " 'stock': 9.050463318456986,\n",
       " 'tortillas homemade': 9.050463318456986,\n",
       " 'hot sauce': 9.050463318456986,\n",
       " 'grace': 9.050463318456986,\n",
       " 'tooth': 9.050463318456986,\n",
       " 'time finished': 9.050463318456986,\n",
       " 'free chips': 9.050463318456986,\n",
       " 'gulf': 9.050463318456986,\n",
       " 'arrived table': 9.050463318456986,\n",
       " 'said oh': 9.050463318456986,\n",
       " 'waited hour': 9.050463318456986,\n",
       " 'think great': 9.050463318456986,\n",
       " 'location austin': 9.050463318456986,\n",
       " 'service sucked': 9.050463318456986,\n",
       " 'poisoning': 9.050463318456986,\n",
       " 'sweaty': 9.050463318456986,\n",
       " 'took order': 9.050463318456986,\n",
       " 'shawarma': 9.050463318456986,\n",
       " 'food order': 9.050463318456986,\n",
       " 'eat like': 9.050463318456986,\n",
       " 'wedges': 9.050463318456986,\n",
       " 'authenticity': 9.050463318456986,\n",
       " 'comp': 9.050463318456986,\n",
       " 'good spicy': 9.050463318456986,\n",
       " 'bad place': 9.050463318456986,\n",
       " 'know stuff': 9.050463318456986,\n",
       " 'austin couple': 9.050463318456986,\n",
       " 'good dishes': 9.050463318456986,\n",
       " 'amys': 9.050463318456986,\n",
       " 'beer menu': 9.050463318456986,\n",
       " 'recent trip': 9.050463318456986,\n",
       " 'waitress sweet': 9.050463318456986,\n",
       " 'cheap drinks': 9.050463318456986,\n",
       " 'went friends': 9.050463318456986,\n",
       " 'continue come': 9.050463318456986,\n",
       " 'good simple': 9.050463318456986,\n",
       " 'told time': 9.050463318456986,\n",
       " 'walked past': 9.050463318456986,\n",
       " 'good ambiance': 9.050463318456986,\n",
       " 'higher prices': 9.050463318456986,\n",
       " 'portland': 9.050463318456986,\n",
       " 'flavor combinations': 9.050463318456986,\n",
       " 'optional': 9.050463318456986,\n",
       " 'senses': 9.050463318456986,\n",
       " 'fabulous food': 9.050463318456986,\n",
       " 'spam': 9.050463318456986,\n",
       " 'puppies': 9.050463318456986,\n",
       " 'rating stars': 9.050463318456986,\n",
       " 'sitting right': 9.050463318456986,\n",
       " 'thats got': 9.050463318456986,\n",
       " 'door open': 9.050463318456986,\n",
       " 'went austin': 9.050463318456986,\n",
       " 'special place': 9.050463318456986,\n",
       " 'torchys tacos': 9.050463318456986,\n",
       " 'curt': 9.050463318456986,\n",
       " 'toasted bread': 9.050463318456986,\n",
       " 'like kid': 9.050463318456986,\n",
       " 'medicine': 9.050463318456986,\n",
       " 'second try': 9.050463318456986,\n",
       " 'dining companions': 9.050463318456986,\n",
       " 'cheese salad': 9.050463318456986,\n",
       " 'pretty easy': 9.050463318456986,\n",
       " 'best sandwich': 9.050463318456986,\n",
       " 'place atmosphere': 9.050463318456986,\n",
       " 'formula': 9.050463318456986,\n",
       " 'location right': 9.050463318456986,\n",
       " 'freebirds': 9.050463318456986,\n",
       " 'mushroom burger': 9.050463318456986,\n",
       " 'fries like': 9.050463318456986,\n",
       " 'bread soft': 9.050463318456986,\n",
       " 'favorite bbq': 9.050463318456986,\n",
       " 'vermicelli bowl': 9.050463318456986,\n",
       " 'hoovers': 9.050463318456986,\n",
       " 'brisket good': 9.050463318456986,\n",
       " 'sandwich got': 9.050463318456986,\n",
       " 'dan dan': 9.050463318456986,\n",
       " 'flemings': 9.050463318456986,\n",
       " 'charlies': 9.050463318456986,\n",
       " 'italic': 9.050463318456986,\n",
       " 'cucumber': 9.04498385269236,\n",
       " 'arent': 9.04498385269236,\n",
       " 'sushi place': 9.04498385269236,\n",
       " 'took': 9.04498385269236,\n",
       " 'husband ordered': 9.04498385269236,\n",
       " 'scallop': 9.04498385269236,\n",
       " 'crab cakes': 9.04498385269236,\n",
       " 'set': 9.04498385269236,\n",
       " 'tables seated': 9.04498385269236,\n",
       " 'online': 9.04498385269236,\n",
       " 'gem': 9.04498385269236,\n",
       " 'food service': 9.04498385269236,\n",
       " 'tasting': 9.04498385269236,\n",
       " 'tiramisu': 9.04498385269236,\n",
       " 'risk': 9.04498385269236,\n",
       " 'came birthday': 9.04498385269236,\n",
       " 'taking': 9.04498385269236,\n",
       " 'friendliness': 9.04498385269236,\n",
       " 'sure try': 9.04498385269236,\n",
       " 'let know': 9.04498385269236,\n",
       " 'chosen': 9.04498385269236,\n",
       " 'blow': 9.04498385269236,\n",
       " 'market': 9.04498385269236,\n",
       " 'happened': 9.04498385269236,\n",
       " 'living': 9.04498385269236,\n",
       " 'theres way': 9.04498385269236,\n",
       " 'bat': 9.04498385269236,\n",
       " 'latenight': 9.04498385269236,\n",
       " 'breakfast tacos': 9.04498385269236,\n",
       " 'mexican food': 9.04498385269236,\n",
       " 'food wise': 9.04498385269236,\n",
       " ...}"
      ]
     },
     "execution_count": 21,
     "metadata": {},
     "output_type": "execute_result"
    }
   ],
   "source": [
    "# looking at high tf-idf terms\n",
    "high_value_terms = dict(zip(features.named_steps.tfidf.vocabulary_, features.named_steps.tfidf.idf_))\n",
    "high_value_terms = dict(sorted(high_value_terms.items(), key=lambda item: item[1],reverse=True))\n",
    "high_value_terms"
   ]
  },
  {
   "cell_type": "code",
   "execution_count": 22,
   "id": "a2e28953-e75b-4e39-8fb4-12860d6d819f",
   "metadata": {},
   "outputs": [],
   "source": [
    "X_out_shuff, y_shuff = shuffle(X_out, y, random_state=42)\n",
    "X_train, X_test, y_train, y_test = train_test_split(X_out_shuff, y_shuff, test_size=0.2)"
   ]
  },
  {
   "cell_type": "code",
   "execution_count": 23,
   "id": "bcf6013e-1a4c-4180-abcb-a69cfd59574d",
   "metadata": {},
   "outputs": [
    {
     "data": {
      "text/plain": [
       "'C:\\\\Users\\\\fanga\\\\OneDrive\\\\Documents\\\\git stuff\\\\yelp-cleaners\\\\data\\\\models\\\\'"
      ]
     },
     "execution_count": 23,
     "metadata": {},
     "output_type": "execute_result"
    }
   ],
   "source": [
    "model_directory"
   ]
  },
  {
   "cell_type": "code",
   "execution_count": 24,
   "id": "f1b24b13-aeba-4012-9cea-be97185118f7",
   "metadata": {},
   "outputs": [],
   "source": [
    "# save to file\n",
    "filename = model_directory + 'review_model\\\\supervised_features.pkl'\n",
    "pkl.dump(features, open(filename,'wb'))"
   ]
  },
  {
   "cell_type": "markdown",
   "id": "e89565ab-ec56-4cfc-8418-f70eb37f0d24",
   "metadata": {},
   "source": [
    "make sure pickling worked"
   ]
  },
  {
   "cell_type": "code",
   "execution_count": 25,
   "id": "7529a315-a5b9-4302-9d7f-a987003b8e87",
   "metadata": {},
   "outputs": [],
   "source": [
    "filename = model_directory + 'review_model\\\\supervised_features.pkl'\n",
    "loaded_features = pkl.load(open(filename, 'rb'))"
   ]
  },
  {
   "cell_type": "code",
   "execution_count": 26,
   "id": "2e012a41-fd9d-4c3c-b36c-bd5aebb6a3ae",
   "metadata": {},
   "outputs": [],
   "source": [
    "X_out_2 = loaded_features.transform(X)"
   ]
  },
  {
   "cell_type": "code",
   "execution_count": 27,
   "id": "08c752be-0519-4424-a209-ebd5f77fa937",
   "metadata": {},
   "outputs": [
    {
     "data": {
      "text/plain": [
       "2.7373936450914016e-14"
      ]
     },
     "execution_count": 27,
     "metadata": {},
     "output_type": "execute_result"
    }
   ],
   "source": [
    "# they're the same, so pickling works\n",
    "sum(sum(X_out - X_out_2))"
   ]
  },
  {
   "cell_type": "markdown",
   "id": "07b012a3-e62f-47d7-8220-5b965f090449",
   "metadata": {
    "tags": []
   },
   "source": [
    "## regressor"
   ]
  },
  {
   "cell_type": "code",
   "execution_count": 28,
   "id": "99d767bb-7853-477d-9a45-0f27495a2e44",
   "metadata": {
    "tags": []
   },
   "outputs": [],
   "source": [
    "def test_regressor(regressor,print_R2=True,residual_hist=True,predictions_hist=True):\n",
    "    regressor.fit(X_train,y_train)\n",
    "    if print_R2:\n",
    "        print(f'R^2 score: {regressor.score(X_test, y_test)}')\n",
    "    y_predict = regressor.predict(X_test)\n",
    "    if residual_hist:\n",
    "        fig = plt.figure(1)\n",
    "        plt.hist(y_predict-y_test,bins=30,alpha=0.5);\n",
    "        plt.show()\n",
    "    if predictions_hist:\n",
    "        fig = plt.figure(2)\n",
    "        plt.hist(y_predict,bins=30,alpha=0.5)\n",
    "        plt.hist(y_test,bins=30,alpha=0.5)\n",
    "        plt.show()"
   ]
  },
  {
   "cell_type": "code",
   "execution_count": 29,
   "id": "6cc1005d-b7a0-4834-ac29-7cff5a8df468",
   "metadata": {},
   "outputs": [
    {
     "name": "stdout",
     "output_type": "stream",
     "text": [
      "R^2 score: 0.12101511169588486\n"
     ]
    },
    {
     "data": {
      "image/png": "[encoded data removed]",
      "text/plain": [
       "<Figure size 432x288 with 1 Axes>"
      ]
     },
     "metadata": {
      "needs_background": "light"
     },
     "output_type": "display_data"
    },
    {
     "data": {
      "image/png": "[encoded data removed]",
      "text/plain": [
       "<Figure size 432x288 with 1 Axes>"
      ]
     },
     "metadata": {
      "needs_background": "light"
     },
     "output_type": "display_data"
    },
    {
     "name": "stdout",
     "output_type": "stream",
     "text": [
      "CPU times: total: 6.62 s\n",
      "Wall time: 1.48 s\n"
     ]
    }
   ],
   "source": [
    "%%time\n",
    "regressor = Ridge(alpha=10)\n",
    "test_regressor(regressor)"
   ]
  },
  {
   "cell_type": "code",
   "execution_count": 30,
   "id": "07c393d6-433c-4044-8641-789bc50d6adc",
   "metadata": {
    "tags": []
   },
   "outputs": [
    {
     "name": "stdout",
     "output_type": "stream",
     "text": [
      "CPU times: total: 30.2 s\n",
      "Wall time: 5.12 s\n"
     ]
    },
    {
     "data": {
      "text/plain": [
       "{'alpha': 10}"
      ]
     },
     "execution_count": 30,
     "metadata": {},
     "output_type": "execute_result"
    }
   ],
   "source": [
    "%%time\n",
    "parameters = {\n",
    "    'alpha': [0.01,0.1,1,10]\n",
    "}\n",
    "gs = GridSearchCV(regressor, parameters)\n",
    "gs.fit(X_test,y_test)\n",
    "gs.best_params_"
   ]
  },
  {
   "cell_type": "code",
   "execution_count": 31,
   "id": "1839327b-7e6c-4d78-9b4e-43623795c83e",
   "metadata": {},
   "outputs": [],
   "source": [
    "# %%time\n",
    "# regressor = LogisticRegression(solver = 'lbfgs', max_iter=100)\n",
    "# test_regressor(regressor)"
   ]
  },
  {
   "cell_type": "code",
   "execution_count": 32,
   "id": "97c350f1-041f-4cb2-919d-34aa25c37193",
   "metadata": {},
   "outputs": [],
   "source": [
    "filename = model_directory + 'review_model\\\\supervised_model_ridge.pkl'\n",
    "pkl.dump(regressor, open(filename,'wb'))"
   ]
  },
  {
   "cell_type": "markdown",
   "id": "2d66c065-ce35-454f-b581-faf89d81dc60",
   "metadata": {
    "tags": []
   },
   "source": [
    "# word2vec"
   ]
  },
  {
   "cell_type": "markdown",
   "id": "645aaa18-fb57-405d-bf0f-29fba757a244",
   "metadata": {
    "jp-MarkdownHeadingCollapsed": true,
    "tags": []
   },
   "source": [
    "## first pass: word2vec on our dataset"
   ]
  },
  {
   "cell_type": "markdown",
   "id": "05a9be0c-9ec2-4afb-8520-b64bcd4b8d7c",
   "metadata": {},
   "source": [
    "First try to find a vocabulary of \"dirty words\" with word2vec on the actual dataset."
   ]
  },
  {
   "cell_type": "markdown",
   "id": "be083e4d-c5ed-4910-9c46-8871d789c021",
   "metadata": {
    "jp-MarkdownHeadingCollapsed": true,
    "tags": []
   },
   "source": [
    "### full dataset"
   ]
  },
  {
   "cell_type": "code",
   "execution_count": null,
   "id": "db0a2127-c2b9-42d6-8cc1-92b4cf6f153c",
   "metadata": {},
   "outputs": [
    {
     "data": {
      "text/html": [
       "<div>\n",
       "<style scoped>\n",
       "    .dataframe tbody tr th:only-of-type {\n",
       "        vertical-align: middle;\n",
       "    }\n",
       "\n",
       "    .dataframe tbody tr th {\n",
       "        vertical-align: top;\n",
       "    }\n",
       "\n",
       "    .dataframe thead th {\n",
       "        text-align: right;\n",
       "    }\n",
       "</style>\n",
       "<table border=\"1\" class=\"dataframe\">\n",
       "  <thead>\n",
       "    <tr style=\"text-align: right;\">\n",
       "      <th></th>\n",
       "      <th>text</th>\n",
       "    </tr>\n",
       "    <tr>\n",
       "      <th>review_stars</th>\n",
       "      <th></th>\n",
       "    </tr>\n",
       "  </thead>\n",
       "  <tbody>\n",
       "    <tr>\n",
       "      <th>1</th>\n",
       "      <td>56106</td>\n",
       "    </tr>\n",
       "    <tr>\n",
       "      <th>2</th>\n",
       "      <td>48516</td>\n",
       "    </tr>\n",
       "    <tr>\n",
       "      <th>3</th>\n",
       "      <td>67216</td>\n",
       "    </tr>\n",
       "    <tr>\n",
       "      <th>4</th>\n",
       "      <td>147908</td>\n",
       "    </tr>\n",
       "    <tr>\n",
       "      <th>5</th>\n",
       "      <td>250868</td>\n",
       "    </tr>\n",
       "  </tbody>\n",
       "</table>\n",
       "</div>"
      ],
      "text/plain": [
       "                text\n",
       "review_stars        \n",
       "1              56106\n",
       "2              48516\n",
       "3              67216\n",
       "4             147908\n",
       "5             250868"
      ]
     },
     "execution_count": 45,
     "metadata": {},
     "output_type": "execute_result"
    }
   ],
   "source": [
    "# number of reviews per stars\n",
    "df.groupby('review_stars').count()[['text']]"
   ]
  },
  {
   "cell_type": "code",
   "execution_count": null,
   "id": "dcde13e1-8a85-426d-b072-60a6b0893123",
   "metadata": {},
   "outputs": [
    {
     "name": "stdout",
     "output_type": "stream",
     "text": [
      "Corpus contains 12107/570614 reviews (2.12%)\n"
     ]
    }
   ],
   "source": [
    "# only look at reviews with 1-2 stars for restaurants with poor inspections\n",
    "dff = df[(df['review_stars']<=2) & (df.Score < 80.0)].copy().reset_index(drop=True)[['text','Score','review_stars']]\n",
    "print(f'Corpus contains {len(dff)}/{len(df)} reviews ({round(len(dff)/len(df)*100,2)}%)')\n",
    "corpus = dff['text'].values"
   ]
  },
  {
   "cell_type": "code",
   "execution_count": 123,
   "id": "710aa8b2-2533-43e6-8dd8-dbac5ad91ba5",
   "metadata": {},
   "outputs": [],
   "source": [
    "corpus = df['text'].values"
   ]
  },
  {
   "cell_type": "code",
   "execution_count": 124,
   "id": "aff26ff0-640f-4571-bd4d-855bf1a75957",
   "metadata": {},
   "outputs": [
    {
     "data": {
      "text/plain": [
       "\"On a whim at 10:30 pm on a post-holiday weekday, we decided to give Halal Bros a try.  I've had my fair share of Mediterranean foods, and I can say Halaal Bros had some GREAT food and equally great service!\\n\\nWe had the falafel plate and lamb shawarma over rice.  Both plates were of exceptional quality and taste.  The falafel was crisp, hot, and flavorful, the accompanying sides were fresh, and some of the best hummus ever.  The lamb shawarma was hearty, but not heavy, with an amazing flavor of the lamb coming through the heavily spiced dish.  All this great food at a great value.  \\n\\nThe only minor drawback I experienced was that the pita bread was a bit hard and chewy - probably from sitting in the foil wrapper under a warmer too long.  That minor issue aside, Halal Bros is now my go-to for Mediterranean.  Welcome to the neighborhood!\""
      ]
     },
     "execution_count": 124,
     "metadata": {},
     "output_type": "execute_result"
    }
   ],
   "source": [
    "test = corpus[812]\n",
    "test"
   ]
  },
  {
   "cell_type": "code",
   "execution_count": 125,
   "id": "b3474ef5-868a-4147-b180-0b93ef8ebf54",
   "metadata": {
    "tags": []
   },
   "outputs": [],
   "source": [
    "## clean up text\n",
    "STOP_WORDS = STOP_WORDS.union({'ll', 've','it\\'d','s'})\n",
    "\n",
    "def text_cleaner(s):\n",
    "    # s = ' '.join(w.lemma_ for w in nlp(s) if not w.is_stop) # remove stop words and lemmatize\n",
    "    s = re.sub('<[^<]+?>', '', s) # remove tags\n",
    "    s = re.sub('[^a-z\\s\\n]', '', s.lower())\n",
    "    # gensim is a lot faster than spacy\n",
    "    s = gsp.remove_stopwords(s)\n",
    "    # s = gsp.stem_text(s)\n",
    "    s = re.sub(\"\\s+\",\" \",s) # remove extra whitespace\n",
    "    # s = s.strip()\n",
    "    return s.split()"
   ]
  },
  {
   "cell_type": "code",
   "execution_count": 126,
   "id": "d884f753-4917-43ac-9f8d-799be29be931",
   "metadata": {
    "collapsed": true,
    "jupyter": {
     "outputs_hidden": true
    },
    "tags": []
   },
   "outputs": [
    {
     "name": "stdout",
     "output_type": "stream",
     "text": [
      "CPU times: total: 0 ns\n",
      "Wall time: 0 ns\n"
     ]
    },
    {
     "data": {
      "text/plain": [
       "['whim',\n",
       " 'pm',\n",
       " 'postholiday',\n",
       " 'weekday',\n",
       " 'decided',\n",
       " 'halal',\n",
       " 'bros',\n",
       " 'try',\n",
       " 'ive',\n",
       " 'fair',\n",
       " 'share',\n",
       " 'mediterranean',\n",
       " 'foods',\n",
       " 'halaal',\n",
       " 'bros',\n",
       " 'great',\n",
       " 'food',\n",
       " 'equally',\n",
       " 'great',\n",
       " 'service',\n",
       " 'falafel',\n",
       " 'plate',\n",
       " 'lamb',\n",
       " 'shawarma',\n",
       " 'rice',\n",
       " 'plates',\n",
       " 'exceptional',\n",
       " 'quality',\n",
       " 'taste',\n",
       " 'falafel',\n",
       " 'crisp',\n",
       " 'hot',\n",
       " 'flavorful',\n",
       " 'accompanying',\n",
       " 'sides',\n",
       " 'fresh',\n",
       " 'best',\n",
       " 'hummus',\n",
       " 'lamb',\n",
       " 'shawarma',\n",
       " 'hearty',\n",
       " 'heavy',\n",
       " 'amazing',\n",
       " 'flavor',\n",
       " 'lamb',\n",
       " 'coming',\n",
       " 'heavily',\n",
       " 'spiced',\n",
       " 'dish',\n",
       " 'great',\n",
       " 'food',\n",
       " 'great',\n",
       " 'value',\n",
       " 'minor',\n",
       " 'drawback',\n",
       " 'experienced',\n",
       " 'pita',\n",
       " 'bread',\n",
       " 'bit',\n",
       " 'hard',\n",
       " 'chewy',\n",
       " 'probably',\n",
       " 'sitting',\n",
       " 'foil',\n",
       " 'wrapper',\n",
       " 'warmer',\n",
       " 'long',\n",
       " 'minor',\n",
       " 'issue',\n",
       " 'aside',\n",
       " 'halal',\n",
       " 'bros',\n",
       " 'goto',\n",
       " 'mediterranean',\n",
       " 'welcome',\n",
       " 'neighborhood']"
      ]
     },
     "execution_count": 126,
     "metadata": {},
     "output_type": "execute_result"
    }
   ],
   "source": [
    "%%time\n",
    "text_cleaner(corpus[812])"
   ]
  },
  {
   "cell_type": "code",
   "execution_count": 127,
   "id": "abc9c3b4-bc18-47b3-ad46-d2fa4777ae55",
   "metadata": {},
   "outputs": [
    {
     "name": "stdout",
     "output_type": "stream",
     "text": [
      "CPU times: total: 18.9 s\n",
      "Wall time: 18.9 s\n"
     ]
    }
   ],
   "source": [
    "%%time\n",
    "corpus_cleaned = list(map(text_cleaner,corpus))"
   ]
  },
  {
   "cell_type": "code",
   "execution_count": 128,
   "id": "2d197efe-952d-451c-a95f-e5b13cd65418",
   "metadata": {},
   "outputs": [],
   "source": [
    "from gensim.models import Word2Vec\n",
    "from gensim.utils import simple_preprocess\n",
    "import gensim.downloader"
   ]
  },
  {
   "cell_type": "code",
   "execution_count": 142,
   "id": "44afa283-ea72-416e-a425-1aa199462b61",
   "metadata": {},
   "outputs": [],
   "source": [
    "w2v = Word2Vec(min_count=5, window=5, vector_size=100, workers=-1, sg=0)"
   ]
  },
  {
   "cell_type": "code",
   "execution_count": 143,
   "id": "5829fdf7-bdf4-407d-9115-a249d57f1269",
   "metadata": {},
   "outputs": [
    {
     "name": "stdout",
     "output_type": "stream",
     "text": [
      "CPU times: total: 3.62 s\n",
      "Wall time: 3.62 s\n"
     ]
    }
   ],
   "source": [
    "%%time\n",
    "w2v.build_vocab(corpus_cleaned)"
   ]
  },
  {
   "cell_type": "code",
   "execution_count": 144,
   "id": "8a3ff28c-fdef-4b73-bfa3-ed22a0fb2d39",
   "metadata": {},
   "outputs": [
    {
     "data": {
      "text/plain": [
       "[('bratstickers', 0.40365973114967346),\n",
       " ('shoveled', 0.4010236859321594),\n",
       " ('lettucetomato', 0.3780089318752289),\n",
       " ('poached', 0.37607064843177795),\n",
       " ('unsurpassed', 0.3732072114944458),\n",
       " ('mentioning', 0.35862767696380615),\n",
       " ('micro', 0.35573577880859375),\n",
       " ('popups', 0.35506248474121094),\n",
       " ('investigate', 0.3541969954967499),\n",
       " ('sambets', 0.35137274861335754)]"
      ]
     },
     "execution_count": 144,
     "metadata": {},
     "output_type": "execute_result"
    }
   ],
   "source": [
    "# these words don't make any sense\n",
    "w2v.wv.most_similar('gross')"
   ]
  },
  {
   "cell_type": "code",
   "execution_count": 151,
   "id": "ff45058a-b148-4ff0-92e5-b6976dd39096",
   "metadata": {},
   "outputs": [
    {
     "name": "stdout",
     "output_type": "stream",
     "text": [
      "-0.13580632\n",
      "-0.31347013\n",
      "0.18907271\n"
     ]
    }
   ],
   "source": [
    "print(w2v.wv.similarity('nasty','dirty'))\n",
    "print(w2v.wv.similarity('nasty','clean'))\n",
    "print(w2v.wv.similarity('dirty','clean'))"
   ]
  },
  {
   "cell_type": "markdown",
   "id": "ee6d4686-5375-44c8-980f-061fc5c4dc53",
   "metadata": {
    "jp-MarkdownHeadingCollapsed": true,
    "tags": []
   },
   "source": [
    "### subset of dataset"
   ]
  },
  {
   "cell_type": "markdown",
   "id": "44df3ae3-1fc7-4019-81da-00dfe83db6c4",
   "metadata": {},
   "source": [
    "Full dataset doesn't work at all. Results are nonsense. Let's try only looking at 1-2 star reviews on restaurants with poor scores."
   ]
  },
  {
   "cell_type": "code",
   "execution_count": 152,
   "id": "0c9fb1a2-fcb0-4469-ab92-74a2d4961fc4",
   "metadata": {},
   "outputs": [
    {
     "data": {
      "text/html": [
       "<div>\n",
       "<style scoped>\n",
       "    .dataframe tbody tr th:only-of-type {\n",
       "        vertical-align: middle;\n",
       "    }\n",
       "\n",
       "    .dataframe tbody tr th {\n",
       "        vertical-align: top;\n",
       "    }\n",
       "\n",
       "    .dataframe thead th {\n",
       "        text-align: right;\n",
       "    }\n",
       "</style>\n",
       "<table border=\"1\" class=\"dataframe\">\n",
       "  <thead>\n",
       "    <tr style=\"text-align: right;\">\n",
       "      <th></th>\n",
       "      <th>text</th>\n",
       "    </tr>\n",
       "    <tr>\n",
       "      <th>review_stars</th>\n",
       "      <th></th>\n",
       "    </tr>\n",
       "  </thead>\n",
       "  <tbody>\n",
       "    <tr>\n",
       "      <th>1</th>\n",
       "      <td>56106</td>\n",
       "    </tr>\n",
       "    <tr>\n",
       "      <th>2</th>\n",
       "      <td>48516</td>\n",
       "    </tr>\n",
       "    <tr>\n",
       "      <th>3</th>\n",
       "      <td>67216</td>\n",
       "    </tr>\n",
       "    <tr>\n",
       "      <th>4</th>\n",
       "      <td>147908</td>\n",
       "    </tr>\n",
       "    <tr>\n",
       "      <th>5</th>\n",
       "      <td>250868</td>\n",
       "    </tr>\n",
       "  </tbody>\n",
       "</table>\n",
       "</div>"
      ],
      "text/plain": [
       "                text\n",
       "review_stars        \n",
       "1              56106\n",
       "2              48516\n",
       "3              67216\n",
       "4             147908\n",
       "5             250868"
      ]
     },
     "execution_count": 152,
     "metadata": {},
     "output_type": "execute_result"
    }
   ],
   "source": [
    "# number of reviews per stars\n",
    "df.groupby('review_stars').count()[['text']]"
   ]
  },
  {
   "cell_type": "code",
   "execution_count": 153,
   "id": "27c71022-c1dd-46f0-98a3-bd289b6a4f32",
   "metadata": {},
   "outputs": [
    {
     "name": "stdout",
     "output_type": "stream",
     "text": [
      "Corpus contains 12107/570614 reviews (2.12%)\n"
     ]
    }
   ],
   "source": [
    "# only look at reviews with 1-2 stars for restaurants with poor inspections\n",
    "dff = df[(df['review_stars']<=2) & (df.Score < 80.0)].copy().reset_index(drop=True)[['text','Score','review_stars']]\n",
    "print(f'Corpus contains {len(dff)}/{len(df)} reviews ({round(len(dff)/len(df)*100,2)}%)')\n",
    "corpus = dff['text'].values"
   ]
  },
  {
   "cell_type": "code",
   "execution_count": 155,
   "id": "4d351ac0-f339-498e-bc1b-b1d9191c7a37",
   "metadata": {},
   "outputs": [],
   "source": [
    "## clean up text\n",
    "STOP_WORDS = STOP_WORDS.union({'ll', 've','it\\'d','s'})\n",
    "\n",
    "def text_cleaner(s):\n",
    "    # s = ' '.join(w.lemma_ for w in nlp(s) if not w.is_stop) # remove stop words and lemmatize\n",
    "    s = re.sub('<[^<]+?>', '', s) # remove tags\n",
    "    s = re.sub('[^a-z\\s\\n]', '', s.lower())\n",
    "    # gensim is a lot faster than spacy\n",
    "    s = gsp.remove_stopwords(s)\n",
    "    # s = gsp.stem_text(s)\n",
    "    s = re.sub(\"\\s+\",\" \",s) # remove extra whitespace\n",
    "    # s = s.strip()\n",
    "    return s.split()"
   ]
  },
  {
   "cell_type": "code",
   "execution_count": 156,
   "id": "c097a77f-2197-4bc7-933b-a1a0ae5e9e50",
   "metadata": {},
   "outputs": [
    {
     "name": "stdout",
     "output_type": "stream",
     "text": [
      "CPU times: total: 844 ms\n",
      "Wall time: 843 ms\n"
     ]
    }
   ],
   "source": [
    "%%time\n",
    "corpus_cleaned = list(map(text_cleaner,corpus))"
   ]
  },
  {
   "cell_type": "code",
   "execution_count": 157,
   "id": "de89cdca-f3c6-405b-b8d4-16bd4e6a61c7",
   "metadata": {},
   "outputs": [],
   "source": [
    "from gensim.models import Word2Vec\n",
    "from gensim.utils import simple_preprocess\n",
    "import gensim.downloader"
   ]
  },
  {
   "cell_type": "code",
   "execution_count": 158,
   "id": "6f3fb254-9c0d-4739-8f10-d808941095f1",
   "metadata": {},
   "outputs": [],
   "source": [
    "w2v = Word2Vec(min_count=5, window=5, vector_size=100, workers=-1, sg=0)"
   ]
  },
  {
   "cell_type": "code",
   "execution_count": 159,
   "id": "2b3428ad-c440-4711-947a-89529e9558a4",
   "metadata": {},
   "outputs": [
    {
     "name": "stdout",
     "output_type": "stream",
     "text": [
      "CPU times: total: 188 ms\n",
      "Wall time: 189 ms\n"
     ]
    }
   ],
   "source": [
    "%%time\n",
    "w2v.build_vocab(corpus_cleaned)"
   ]
  },
  {
   "cell_type": "code",
   "execution_count": 173,
   "id": "c7ab3f28-3be3-46f7-81e4-856ffda162e3",
   "metadata": {},
   "outputs": [
    {
     "data": {
      "text/plain": [
       "[('ends', 0.3598881959915161),\n",
       " ('ding', 0.33352720737457275),\n",
       " ('feeding', 0.32537519931793213),\n",
       " ('grade', 0.3236634135246277),\n",
       " ('pudding', 0.31773656606674194),\n",
       " ('braided', 0.3091064393520355),\n",
       " ('easter', 0.30147871375083923),\n",
       " ('milanesa', 0.29708123207092285),\n",
       " ('choosing', 0.2929005026817322),\n",
       " ('efforts', 0.2848978042602539)]"
      ]
     },
     "execution_count": 173,
     "metadata": {},
     "output_type": "execute_result"
    }
   ],
   "source": [
    "# these words don't make any sense\n",
    "w2v.wv.most_similar('undercooked')"
   ]
  },
  {
   "cell_type": "code",
   "execution_count": 170,
   "id": "e0a9c4dd-a9eb-401b-8c41-ab72d58255e7",
   "metadata": {},
   "outputs": [
    {
     "name": "stdout",
     "output_type": "stream",
     "text": [
      "-0.068202436\n",
      "-0.10094115\n",
      "-0.040756043\n"
     ]
    }
   ],
   "source": [
    "print(w2v.wv.similarity('nasty','dirty'))\n",
    "print(w2v.wv.similarity('nasty','clean'))\n",
    "print(w2v.wv.similarity('dirty','clean'))"
   ]
  },
  {
   "cell_type": "markdown",
   "id": "995dffd2-6dc8-4a03-a4f4-376654295a24",
   "metadata": {
    "jp-MarkdownHeadingCollapsed": true,
    "tags": []
   },
   "source": [
    "## word2vec on reddit AMA data"
   ]
  },
  {
   "cell_type": "markdown",
   "id": "64ece2b7-76f4-463b-8322-8c226caca546",
   "metadata": {},
   "source": [
    "There are a few reddit AMA threads asking health inspectors about the grossest things they've seen. This should be relevant."
   ]
  },
  {
   "cell_type": "markdown",
   "id": "02b00975-9244-40d0-8ff5-1b9c20f93332",
   "metadata": {},
   "source": [
    "Gathering a corpus to describe dirty restaurants from reddit posts by health inspectors talking about their worst ever experiences:\n",
    "* https://www.reddit.com/r/AskReddit/comments/1lnddh/health_inspectors_of_reddit_what_is_the_worst/\n",
    "* https://www.reddit.com/r/AskReddit/comments/2h1uuq/food_inspectors_of_reddit_whats_the_worst/\n",
    "\n",
    "Following this helpful guide: https://towardsdatascience.com/scraping-reddit-data-1c0af3040768\n",
    "\n",
    "And this post: https://stackoverflow.com/questions/60623349/how-to-limit-first-level-comments-in-praw-reddit"
   ]
  },
  {
   "cell_type": "code",
   "execution_count": 8,
   "id": "1457ae18-b850-4c91-88fa-37711093c017",
   "metadata": {},
   "outputs": [],
   "source": [
    "import praw\n",
    "from praw.models import MoreComments\n",
    "f = open(data_directory + 'reddit_api_key.txt','r')\n",
    "r_client_id, r_secret, r_user_agent = [line.strip() for line in f.readlines()]\n",
    "f.close()\n",
    "reddit = praw.Reddit(client_id=r_client_id, client_secret=r_secret, user_agent=r_user_agent)"
   ]
  },
  {
   "cell_type": "code",
   "execution_count": 9,
   "id": "55aff856-be43-4756-92eb-2b783255e7cc",
   "metadata": {},
   "outputs": [],
   "source": [
    "# get all top-level comments in a post\n",
    "def iter_top_level(comments):\n",
    "    for top_level_comment in comments:\n",
    "        if isinstance(top_level_comment, MoreComments):\n",
    "            yield from iter_top_level(top_level_comment.comments())\n",
    "        else:\n",
    "            yield top_level_comment\n",
    "\n",
    "def get_reddit_comments(post_id=\"1lnddh\"):\n",
    "    submission = reddit.submission(post_id)\n",
    "    comments = []\n",
    "    for comment in iter_top_level(submission.comments): \n",
    "        # only get NON-deleted posts with >5 score\n",
    "        if comment.author and comment.score > 5:\n",
    "            comments.append(comment.body)\n",
    "    return comments"
   ]
  },
  {
   "cell_type": "code",
   "execution_count": 15,
   "id": "03890528-c152-4366-a2a5-0f3e20fa90a8",
   "metadata": {},
   "outputs": [
    {
     "name": "stdout",
     "output_type": "stream",
     "text": [
      "CPU times: total: 0 ns\n",
      "Wall time: 0 ns\n"
     ]
    }
   ],
   "source": [
    "%%time\n",
    "# this no longer works for some reason, need to debug\n",
    "# comments = []\n",
    "# post_ids = [\"1lnddh\",\"2h1uuq\",\"598qrb\"]\n",
    "# for i in post_ids:\n",
    "#     comments += get_reddit_comments(i)"
   ]
  },
  {
   "cell_type": "code",
   "execution_count": 35,
   "id": "96cd2ad0-7799-4088-817d-a1426ca3ef22",
   "metadata": {},
   "outputs": [],
   "source": [
    "reddit_comments = pd.read_csv(processed_data_directory + 'reddit_comments.csv')\n",
    "corpus = reddit_comments['comments'].values"
   ]
  },
  {
   "cell_type": "code",
   "execution_count": 36,
   "id": "b027de99-6fbb-4242-9b69-3ee4a0b2af8e",
   "metadata": {},
   "outputs": [],
   "source": [
    "## clean up text\n",
    "STOP_WORDS = STOP_WORDS.union({'ll', 've','it\\'d','s'})\n",
    "\n",
    "def remove_URL(s):\n",
    "    \"\"\"Remove URLs from a sample string\"\"\"\n",
    "    return re.sub(r\"http\\S+\", \"\", s)\n",
    "def text_cleaner(s):\n",
    "    # s = ' '.join(w.lemma_ for w in nlp(s) if not w.is_stop) # remove stop words and lemmatize\n",
    "    s = re.sub('<[^<]+?>', '', s) # remove tags\n",
    "    s = re.sub('[^a-z\\s\\n]', '', s.lower())\n",
    "    # gensim is a lot faster than spacy\n",
    "    s = remove_URL(s)\n",
    "    s = gsp.remove_stopwords(s)\n",
    "    # s = gsp.stem_text(s)\n",
    "    s = re.sub(\"\\s+\",\" \",s) # remove extra whitespace\n",
    "    # s = s.strip()\n",
    "    return s.split()"
   ]
  },
  {
   "cell_type": "code",
   "execution_count": 37,
   "id": "4be5ceeb-ccae-4a27-b6b3-f88bd0c70247",
   "metadata": {},
   "outputs": [
    {
     "name": "stdout",
     "output_type": "stream",
     "text": [
      "CPU times: total: 15.6 ms\n",
      "Wall time: 10 ms\n"
     ]
    }
   ],
   "source": [
    "%%time\n",
    "corpus_cleaned = list(map(text_cleaner,corpus))"
   ]
  },
  {
   "cell_type": "code",
   "execution_count": 47,
   "id": "3118f1fc-04bc-4749-9bd1-5d6decb85fce",
   "metadata": {},
   "outputs": [],
   "source": [
    "w2v = Word2Vec(min_count=5, window=5, vector_size=1000, workers=-1, sg=0)"
   ]
  },
  {
   "cell_type": "code",
   "execution_count": 48,
   "id": "7b6e652a-8bf4-4659-9cf0-31c07c11894b",
   "metadata": {},
   "outputs": [
    {
     "name": "stdout",
     "output_type": "stream",
     "text": [
      "CPU times: total: 15.6 ms\n",
      "Wall time: 12 ms\n"
     ]
    }
   ],
   "source": [
    "%%time\n",
    "w2v.build_vocab(corpus_cleaned)"
   ]
  },
  {
   "cell_type": "code",
   "execution_count": 63,
   "id": "3045fc57-c4b7-4c15-845b-38442eeeee7a",
   "metadata": {},
   "outputs": [
    {
     "data": {
      "text/plain": [
       "[('directly', 0.10089504718780518),\n",
       " ('feel', 0.08105595409870148),\n",
       " ('known', 0.07953879982233047),\n",
       " ('plus', 0.07718612998723984),\n",
       " ('water', 0.06897077709436417),\n",
       " ('reddit', 0.06876303255558014),\n",
       " ('boots', 0.0679335743188858),\n",
       " ('pay', 0.06747064739465714),\n",
       " ('hours', 0.06590712815523148),\n",
       " ('deal', 0.06542625278234482)]"
      ]
     },
     "execution_count": 63,
     "metadata": {},
     "output_type": "execute_result"
    }
   ],
   "source": [
    "w2v.wv.most_similar('nasty')"
   ]
  },
  {
   "cell_type": "code",
   "execution_count": 54,
   "id": "d0b995c7-65ae-48ec-a56a-9f410cfd3659",
   "metadata": {},
   "outputs": [
    {
     "name": "stdout",
     "output_type": "stream",
     "text": [
      "0.038409777\n",
      "0.03936795\n",
      "0.006311542\n"
     ]
    }
   ],
   "source": [
    "print(w2v.wv.similarity('nasty','dirty'))\n",
    "print(w2v.wv.similarity('nasty','clean'))\n",
    "print(w2v.wv.similarity('dirty','clean'))"
   ]
  },
  {
   "cell_type": "markdown",
   "id": "70258093-ff93-474b-ae72-f6f42ddf56c6",
   "metadata": {},
   "source": [
    "# pre-trained glove"
   ]
  },
  {
   "cell_type": "markdown",
   "id": "3cc961df-596b-4d0f-bbce-0e1a9caf02f1",
   "metadata": {},
   "source": [
    "Our dataset is too small and mostly irrelevant, so we can't generate a great vocabulary from word2vec. I'll go grab a pre-trained vocab/word vector like GloVe: https://nlp.stanford.edu/projects/glove/"
   ]
  },
  {
   "cell_type": "markdown",
   "id": "7ec3f6b9-3b51-4a79-afb2-d8b09b0600a5",
   "metadata": {},
   "source": [
    "Conveniently, GloVe is readily available through gensim: https://github.com/RaRe-Technologies/gensim-data"
   ]
  },
  {
   "cell_type": "markdown",
   "id": "cb82370a-6370-486f-8f59-8be12462323a",
   "metadata": {},
   "source": [
    "Here are some reviews I got from a gross restaurant: https://www.yelp.com/biz/pacific-star-restaurant-and-oyster-bar-round-rock-3. I expect the bad reviews to be rated pretty lowly. I don't really care about the analysis on the good reviews."
   ]
  },
  {
   "cell_type": "code",
   "execution_count": 10,
   "id": "34044aab-f036-41af-b958-47e563c14f91",
   "metadata": {},
   "outputs": [],
   "source": [
    "good_reviews = [r\"They have some of the best seafood I've ever eaten here in Austin. I usually always order the same thing, but it never fails to be delicious. Their employees are all very nice too. They're clean, and the service is always quick, while never feeling rushed.\",\n",
    "                r\"We ordered the shrimp and oyster platter, broiled snapper plate and oysters diablos. Everything was delish but them oysters diablos were the bomb.com. We recommend ordering them every time. Service was good. The restaurant was clean.\",\n",
    "                r\"Great food, great service, great prices! It's hard to believe it's the same place that some of the negative reviews are referring to. Seafood is always fresh and the beer is always cold!\",\n",
    "                r\"Was undecided about going based on some reviews but decided to give it a try and so glad we did. Seafood was made to order and came out hot and fresh.  Service was very good. Food was very good. Price was very reasonable. I recommend and will be back.\",\n",
    "                r\"Very good food.  We had the shrimp poboy and there was shrimp in every bite.  The bun was freshly baked which only enhanced the taste.  The gumbo was delicious too.  The atmosphere is warm and friendly and the people are super friendly.  All in all, a positive dining experience.  I will return.\",\n",
    "                r\"The interior was very clean and had yummy aromas circulating.  I can definitely see why there is a 'sports-bar' vibe mentioned in some of the reviews.  Two TVs going, both with sports, lots of men with beer sitting around the central bar.  I think i was the only female in the place. The daily special was grilled flounder with a crab-shrimp brandy cream sauce.  Very, very tasty.  My son ordered this, and i swiped a bite of the fish, and two bites of the most excellent grilled veggies on the side.  Large platter, fitting the price.  I'd eat a veggie plate, if the grilled squash/onions/zucchini/mushrooms were the star!\",\n",
    "                r\"Amazing! Very fresh, and they tasted good too. I did douse them with lemon, a little seafood sauce, and Tabasco sauce though.  I also washed them down with my ice cold beer!  If you an get past the texture, you'll be ok. There was no shortage of saltine crackers. I did see someone with a large shrimp cocktail that I would like to try next time. Overall a very good experience. When my raw oyster on the half shell craving returns, I will be back to this place to satisfy it.\"\n",
    "               ]"
   ]
  },
  {
   "cell_type": "code",
   "execution_count": 11,
   "id": "65556418-d1ff-41bf-ab5c-8b861b5c340d",
   "metadata": {},
   "outputs": [],
   "source": [
    "bad_reviews = [r\"This place was absolutely disgusting. We considered turning around as soon as we walked in as it had an odd vibe, unpleasant smell and almost no customers. BUT I've been to my fair share of decent dive type spots so we decided we'd stick around and give it a chance. The sweet tea was great, but all of the food was inedible. Clearly frozen calamari tasted like fried rubber bands with several of the pieces looking questionable and moldy. The fried catfish looked like cafeteria/hospital food. It too was obviously just frozen (freezer burned) catfish they threw in the fryer along with kindergarten crinkle fries and crunchy hush puppies. I honestly couldn't even eat my food both because it was gross and in fear of getting sick. I forced myself to throw up as soon as I got home and I wish I was kidding. The worst part is that the bill was $40 for two entrees and and appetizer which is absolutely insane considering the quality of what they put in front of us. I wish I'd gone to Long John Silvers on my way in the parking lot instead. I absolutely do not recommend this place whatsoever.\",\n",
    "               r\"Horrible service, dirty facility; I gave them 2 stars because the catfish nuggets were pretty good and the wine was cold. When asking for the check; our server asked my husband to write down everything we ordered so he could create a receipt; I'm still confused by this because no one else at our table had to do that. Weird anyway; I'll never go back there.\",\n",
    "               r\"We came on a Friday evening and parking lot was full so it seemed promising however we were clearly mistaken. The dining room is fairly small and we were able to snag a table by the entrance. The table had not wiped down so there was still water rings and food crumbs from the previous person. We wiped down the table ourselves and waited for our server. 10 mins later no one came by the table. No one even looked in our direction. Was this a walk up to the bar and order yourself place? Who knows. There was what appeared to be a waitress offering menus to other tables. We left without even having anything so we can't comment on the food but unfortunately we won't be returning.\",\n",
    "               r\"Literally the most disgusting restaurant experience I've ever had. First of all our server did NOT wear a mask. She was rude as hell and downright didn't even know the menu. The food that came out was over cooked flounder that we didn't even eat. Actually spit the food into my napkin. Wouldn't wish this place on my worst enemy.\",\n",
    "               r\"Let me start w ordering. I ordered online. Got to the place to pick up my food then bam... my order wasn't ready. They couldn't even find my order. They thought I placed it for another location. Had to show from my phone I placed to round rock location. The guy had to call someone to get my online order. Had to wait an extra 30 min. Place was crowded and big groups of families in there. The food was ok. I wasn't that impressed. I got it to go bc I don't eat in restaurants due to Covid. So by the time I made it home it tasted old. Kind of stale. Like the grease the food was fried in was not fresh. Can't say I'll be back\",\n",
    "               r\"Expected more. Seemed dingy. Not very clean overall. Service was not up to par. They seemed to be more focus on serving those at the bar then at the tables. Our table was dirty, sticky. Menu was disgusting to the touch. The food was okay. Will not go again.\",\n",
    "               r\"Oysters on the half were good, kinda hard to mess them up. Wife ordered broiled rainbow trout, the fish was spoiled! You could smell it once the waitress set it on the table, so either their cook has no sense of smell or they just dont care if they make someone sick. The wait staff spends more time at the bar playing on their phones than they do waiting on customers. They did wear mask but there was no social distance between tables or at the bar. Speaking of the bar, it's very loud to the point you cannot have a conversation at your table. We will definitely never go back to this place and I would not recommend it anyone else  either.\",\n",
    "               r\"They failed health inspection with a score of 37 on December 10th, 2019. Report stated too many cockroaches to count and had rat feces in the dish area\",\n",
    "               r\"I came here on Friday night with my family for dinner, this place is severely understaffed. And for that reason I can't find it in me to come back. All the waitstaff is running around stressing out and it shows in the quality of the food and service. It look 10 min to get greeted and welcomed, we ordered a app which came out after the food. My boyfriend ordered the crawfish that had a awful taste and smell, I ordered a shrimp salad which came with brown slimy lettuce a half of a slice of tomato and ranch dressing for 12.99 the menu said it was supposed to include more veggies so i asked for the side i was brought that and then noticed how old the lettuce was. My sisters crab cakes tasted old and no flavor whatsoever. My son ordered the chicken tenders and fries as my 2 year old is eating his food we notice a long hair inside of his food we then decided to take our complaints to the manger which told us that they are understaffed and extremely busy..... I really hope the owner of this establishment can do what needs to be done to get this place in the right track. I'm giving 2 starts for potential but I won't be back... your better off going to razzoos down the street\"\n",
    "              ]"
   ]
  },
  {
   "cell_type": "markdown",
   "id": "dd055b9b-04fb-4bb0-91c3-403248328a4e",
   "metadata": {
    "jp-MarkdownHeadingCollapsed": true,
    "tags": []
   },
   "source": [
    "## playin"
   ]
  },
  {
   "cell_type": "markdown",
   "id": "45d431df-4c0f-4757-9e2c-1909225960a8",
   "metadata": {
    "jp-MarkdownHeadingCollapsed": true,
    "tags": []
   },
   "source": [
    "### load in model"
   ]
  },
  {
   "cell_type": "code",
   "execution_count": 8,
   "id": "78e0b7d6-6fb2-4327-80b1-6157fee1b812",
   "metadata": {},
   "outputs": [
    {
     "name": "stdout",
     "output_type": "stream",
     "text": [
      "{\n",
      "    \"num_records\": 1193514,\n",
      "    \"file_size\": 795373100,\n",
      "    \"base_dataset\": \"Twitter (2B tweets, 27B tokens, 1.2M vocab, uncased)\",\n",
      "    \"reader_code\": \"https://github.com/RaRe-Technologies/gensim-data/releases/download/glove-twitter-200/__init__.py\",\n",
      "    \"license\": \"http://opendatacommons.org/licenses/pddl/\",\n",
      "    \"parameters\": {\n",
      "        \"dimension\": 200\n",
      "    },\n",
      "    \"description\": \"Pre-trained vectors based on 2B tweets, 27B tokens, 1.2M vocab, uncased (https://nlp.stanford.edu/projects/glove/).\",\n",
      "    \"preprocessing\": \"Converted to w2v format with `python -m gensim.scripts.glove2word2vec -i <fname> -o glove-twitter-200.txt`.\",\n",
      "    \"read_more\": [\n",
      "        \"https://nlp.stanford.edu/projects/glove/\",\n",
      "        \"https://nlp.stanford.edu/pubs/glove.pdf\"\n",
      "    ],\n",
      "    \"checksum\": \"e52e8392d1860b95d5308a525817d8f9\",\n",
      "    \"file_name\": \"glove-twitter-200.gz\",\n",
      "    \"parts\": 1\n",
      "}\n"
     ]
    }
   ],
   "source": [
    "fake_news_info = gensim.downloader.info('glove-twitter-200')\n",
    "print(json.dumps(fake_news_info, indent=4))"
   ]
  },
  {
   "cell_type": "code",
   "execution_count": 8,
   "id": "69c56dab-8d1b-405b-b68a-9dd70155eeba",
   "metadata": {
    "tags": []
   },
   "outputs": [],
   "source": [
    "gv = gensim.downloader.load('glove-twitter-200')"
   ]
  },
  {
   "cell_type": "code",
   "execution_count": 11,
   "id": "4dc6a375-ab92-4d7a-8107-2e60986cd619",
   "metadata": {},
   "outputs": [
    {
     "data": {
      "text/plain": [
       "[('stinky', 0.7768126130104065),\n",
       " ('smell', 0.6030378341674805),\n",
       " ('smells', 0.5854460000991821),\n",
       " ('sweaty', 0.5837231278419495),\n",
       " ('smelling', 0.583556592464447),\n",
       " ('dirty', 0.5677381157875061),\n",
       " ('stinks', 0.5544800162315369),\n",
       " ('stink', 0.55202716588974),\n",
       " ('hairy', 0.5441873669624329),\n",
       " ('musty', 0.5356823205947876)]"
      ]
     },
     "execution_count": 11,
     "metadata": {},
     "output_type": "execute_result"
    }
   ],
   "source": [
    "gv.most_similar('smelly')"
   ]
  },
  {
   "cell_type": "code",
   "execution_count": 19,
   "id": "ecd4cd3d-eb5a-4a86-8173-95d6fdd75906",
   "metadata": {},
   "outputs": [
    {
     "name": "stdout",
     "output_type": "stream",
     "text": [
      "0.6442809\n",
      "0.4028358\n",
      "0.51351666\n",
      "0.81413555\n"
     ]
    }
   ],
   "source": [
    "# glove gets a lot of stuff \"right\"\n",
    "print(gv.similarity('clean','fresh')) # high\n",
    "print(gv.similarity('clean','smelly')) # low\n",
    "print(gv.similarity('nasty','smelly')) # high\n",
    "print(gv.similarity('gross','disgusting')) #high"
   ]
  },
  {
   "cell_type": "code",
   "execution_count": 20,
   "id": "87b9ed6b-93c2-4629-8efd-6e275eff8e19",
   "metadata": {},
   "outputs": [
    {
     "data": {
      "text/plain": [
       "0.64746726"
      ]
     },
     "execution_count": 20,
     "metadata": {},
     "output_type": "execute_result"
    }
   ],
   "source": [
    "# one unfortunate thing is the \"similarity\" of direct antonyms. This is annoying.\n",
    "gv.similarity('clean','dirty')"
   ]
  },
  {
   "cell_type": "code",
   "execution_count": 21,
   "id": "e89f6806-c6a0-4335-8ad9-2db49dcf0f74",
   "metadata": {},
   "outputs": [
    {
     "data": {
      "text/plain": [
       "[('tired', 0.7939080595970154),\n",
       " ('feel', 0.7492012977600098),\n",
       " ('really', 0.734252393245697),\n",
       " ('ugh', 0.722662627696991),\n",
       " ('bad', 0.7212360501289368),\n",
       " ('seriously', 0.7186442017555237),\n",
       " ('fucking', 0.7133126258850098),\n",
       " ('getting', 0.7114008069038391),\n",
       " ('gonna', 0.7091169357299805),\n",
       " ('kinda', 0.7083275318145752)]"
      ]
     },
     "execution_count": 21,
     "metadata": {},
     "output_type": "execute_result"
    }
   ],
   "source": [
    "# moldy == peaches?\n",
    "gv.most_similar('sick')"
   ]
  },
  {
   "cell_type": "code",
   "execution_count": 303,
   "id": "4c0f2516-dd89-4540-a103-84cbb0c73724",
   "metadata": {},
   "outputs": [],
   "source": [
    "# these are a few representative words\n",
    "DIRTY_WORDS = ('disgusting','smelly','rotten','nasty','gross','dirty','undercooked','moldy','puke','sick','unhealthy')\n",
    "PEST_WORDS = ('rat','bugs','cockroach','fly','ant','flea','insect','infestation','infest')\n",
    "CLEAN_WORDS = ('clean','pristine','immaculate','organized','fresh')\n",
    "# average vector of these words\n",
    "DIRTY_VECTOR = np.mean(np.array([gv[w] for w in DIRTY_WORDS]),axis=0)\n",
    "PEST_VECTOR = np.mean(np.array([gv[w] for w in PEST_WORDS]),axis=0)"
   ]
  },
  {
   "cell_type": "code",
   "execution_count": 23,
   "id": "b78b967c-46e8-4af8-94b8-d8de1d37a82a",
   "metadata": {
    "tags": []
   },
   "outputs": [
    {
     "data": {
      "text/plain": [
       "[('bug', 0.6536531448364258),\n",
       " ('spider', 0.6499894857406616),\n",
       " ('rats', 0.64519202709198),\n",
       " ('moth', 0.634965181350708),\n",
       " ('spiders', 0.6280730366706848),\n",
       " ('insects', 0.6075429916381836),\n",
       " ('snakes', 0.5952991843223572),\n",
       " ('cockroaches', 0.5927811861038208),\n",
       " ('flying', 0.5927191376686096),\n",
       " ('ants', 0.5899176001548767)]"
      ]
     },
     "execution_count": 23,
     "metadata": {},
     "output_type": "execute_result"
    }
   ],
   "source": [
    "gv.most_similar(\n",
    "    positive=PEST_WORDS,\n",
    "    topn=10\n",
    ")"
   ]
  },
  {
   "cell_type": "code",
   "execution_count": 24,
   "id": "2b3dd4fb-351f-4695-9b36-a1a2455ba195",
   "metadata": {},
   "outputs": [
    {
     "data": {
      "text/plain": [
       "[('ew', 0.669167697429657),\n",
       " ('eww', 0.6688995361328125),\n",
       " ('yuck', 0.6352888941764832),\n",
       " ('pathetic', 0.6272950768470764),\n",
       " ('awful', 0.6006811857223511),\n",
       " ('vile', 0.6005575656890869),\n",
       " ('yucky', 0.5932128429412842),\n",
       " ('minging', 0.5843111276626587),\n",
       " ('discusting', 0.5814267992973328),\n",
       " ('filthy', 0.581305980682373)]"
      ]
     },
     "execution_count": 24,
     "metadata": {},
     "output_type": "execute_result"
    }
   ],
   "source": [
    "gv.most_similar(\n",
    "    positive=DIRTY_WORDS,\n",
    "    negative=CLEAN_WORDS,\n",
    "    topn=10\n",
    ")"
   ]
  },
  {
   "cell_type": "code",
   "execution_count": 68,
   "id": "ce10c766-b428-43b5-9d75-7aafbbf8a1a5",
   "metadata": {},
   "outputs": [
    {
     "data": {
      "text/plain": [
       "[('disgusting', 0.8141355514526367),\n",
       " ('gross', 0.8141354918479919),\n",
       " ('tired', 0.7939080595970154),\n",
       " ('stinky', 0.7768126130104065),\n",
       " ('vile', 0.7741666436195374),\n",
       " ('nasty', 0.770848274230957),\n",
       " ('dirty', 0.770848274230957),\n",
       " ('ew', 0.7640780210494995),\n",
       " ('eww', 0.7570286393165588),\n",
       " ('awful', 0.7541442513465881),\n",
       " ('filthy', 0.753870964050293),\n",
       " ('feel', 0.7492012977600098),\n",
       " ('ass', 0.7464606761932373),\n",
       " ('vomit', 0.7441722750663757),\n",
       " ('flying', 0.7441135048866272),\n",
       " ('pathetic', 0.740756094455719),\n",
       " ('bug', 0.739231526851654),\n",
       " ('really', 0.734252393245697),\n",
       " ('barf', 0.726361870765686),\n",
       " ('ugh', 0.722662627696991)]"
      ]
     },
     "execution_count": 68,
     "metadata": {},
     "output_type": "execute_result"
    }
   ],
   "source": [
    "# find most similar words to ALL words in DIRTY_WORDS\n",
    "# averaging similar words gives weird results\n",
    "list_of_dicts = [dict(gv.similar_by_word(w)) for w in DIRTY_WORDS+PEST_WORDS]\n",
    "collected = {}\n",
    "for d in list_of_dicts:\n",
    "    for key in d:\n",
    "        if key in collected:\n",
    "            collected[key].append(d[key])\n",
    "        else:\n",
    "            collected[key] = [d[key]]\n",
    "            \n",
    "for key in collected:\n",
    "    collected[key] = max(collected[key])\n",
    "\n",
    "DIRTYISH_WORDS = {k: v for k, v in sorted(collected.items(), key=lambda item: item[1], reverse=True)}\n",
    "take(20, DIRTYISH_WORDS.items())"
   ]
  },
  {
   "cell_type": "markdown",
   "id": "59d28640-ccfb-422f-a045-799f29bbbbb6",
   "metadata": {
    "jp-MarkdownHeadingCollapsed": true,
    "tags": []
   },
   "source": [
    "### Try clustering raw glove vocabulary"
   ]
  },
  {
   "cell_type": "markdown",
   "id": "9fcb80ff-e314-41b6-a717-7afb49f91228",
   "metadata": {},
   "source": [
    "Try clustering the raw glove vocab to look for words similar to DIRTY_WORDS instead of just by distance. Not sure if this makes sense to do since the glove model already has calculated distances between all words..."
   ]
  },
  {
   "cell_type": "code",
   "execution_count": 70,
   "id": "d6a87ade-441e-400d-831f-ebf884960d23",
   "metadata": {},
   "outputs": [
    {
     "data": {
      "text/plain": [
       "1193514"
      ]
     },
     "execution_count": 70,
     "metadata": {},
     "output_type": "execute_result"
    }
   ],
   "source": [
    "# number of keys in the vocabulary is huge\n",
    "len(gv.key_to_index)"
   ]
  },
  {
   "cell_type": "code",
   "execution_count": 278,
   "id": "23c26164-e76f-4ff0-ae46-3c9e82a88768",
   "metadata": {},
   "outputs": [],
   "source": [
    "X = gv.vectors\n",
    "X = (X - np.min(X))/(np.max(X)-np.min(X)) # restrict to 0 to 1"
   ]
  },
  {
   "cell_type": "code",
   "execution_count": 279,
   "id": "f31b6b48-7201-41af-a424-05c9b840c35c",
   "metadata": {},
   "outputs": [
    {
     "name": "stdout",
     "output_type": "stream",
     "text": [
      "CPU times: total: 1h 18min 10s\n",
      "Wall time: 8min 55s\n"
     ]
    }
   ],
   "source": [
    "%%time\n",
    "num_clusters = 50\n",
    "kmeans = KMeans(n_clusters=num_clusters,random_state=100)\n",
    "kmeans.fit(X)\n",
    "cluster_labels = kmeans.labels_"
   ]
  },
  {
   "cell_type": "code",
   "execution_count": 280,
   "id": "e5fac7ba-0244-459a-8b91-e1d10bbc3243",
   "metadata": {
    "tags": []
   },
   "outputs": [
    {
     "name": "stdout",
     "output_type": "stream",
     "text": [
      "CPU times: total: 20.3 s\n",
      "Wall time: 4.2 s\n"
     ]
    }
   ],
   "source": [
    "%%time\n",
    "# reduce dimensions\n",
    "num_components = 5\n",
    "pca = PCA(n_components=num_components, random_state=100)\n",
    "matrix_pca = pca.fit_transform(gv.vectors)"
   ]
  },
  {
   "cell_type": "code",
   "execution_count": 281,
   "id": "f10a7c38-ceb5-44ea-a763-06c37f213d90",
   "metadata": {},
   "outputs": [
    {
     "data": {
      "image/png": "[encoded data removed]",
      "text/plain": [
       "<Figure size 432x288 with 1 Axes>"
      ]
     },
     "metadata": {
      "needs_background": "light"
     },
     "output_type": "display_data"
    },
    {
     "name": "stdout",
     "output_type": "stream",
     "text": [
      "CPU times: total: 11.5 s\n",
      "Wall time: 11.3 s\n"
     ]
    }
   ],
   "source": [
    "%%time\n",
    "# 2D looks good\n",
    "plt.scatter(matrix_pca[:,0],matrix_pca[:,1],\n",
    "            alpha=0.1,c=cluster_labels,cmap='viridis')\n",
    "plt.gca().set(title='Plot for 2D PCA projection', \n",
    "              xlabel='PCA component 1', ylabel='PCA component 2');\n",
    "plt.show()"
   ]
  },
  {
   "cell_type": "code",
   "execution_count": 282,
   "id": "cd3473bb-e53d-43b1-b7a7-2073616a9a70",
   "metadata": {},
   "outputs": [],
   "source": [
    "# create a dataframe to match up words to clusters\n",
    "df_gv = pd.DataFrame()\n",
    "df_gv['labels'] = gv.key_to_index.keys()\n",
    "df_gv['cluster'] = cluster_labels\n",
    "# get distance to cluster centers\n",
    "cluster_distances = kmeans.transform(X).T\n",
    "for idx, col in enumerate(cluster_distances):\n",
    "    df_gv[f'cluster_dist_{idx}'] = col"
   ]
  },
  {
   "cell_type": "code",
   "execution_count": 283,
   "id": "87db3fa5-9372-4649-b940-5ba5d6e16846",
   "metadata": {},
   "outputs": [
    {
     "data": {
      "text/html": [
       "<div>\n",
       "<style scoped>\n",
       "    .dataframe tbody tr th:only-of-type {\n",
       "        vertical-align: middle;\n",
       "    }\n",
       "\n",
       "    .dataframe tbody tr th {\n",
       "        vertical-align: top;\n",
       "    }\n",
       "\n",
       "    .dataframe thead th {\n",
       "        text-align: right;\n",
       "    }\n",
       "</style>\n",
       "<table border=\"1\" class=\"dataframe\">\n",
       "  <thead>\n",
       "    <tr style=\"text-align: right;\">\n",
       "      <th></th>\n",
       "      <th>labels</th>\n",
       "      <th>cluster</th>\n",
       "      <th>cluster_dist_0</th>\n",
       "      <th>cluster_dist_1</th>\n",
       "      <th>cluster_dist_2</th>\n",
       "      <th>cluster_dist_3</th>\n",
       "      <th>cluster_dist_4</th>\n",
       "      <th>cluster_dist_5</th>\n",
       "      <th>cluster_dist_6</th>\n",
       "      <th>cluster_dist_7</th>\n",
       "      <th>...</th>\n",
       "      <th>cluster_dist_40</th>\n",
       "      <th>cluster_dist_41</th>\n",
       "      <th>cluster_dist_42</th>\n",
       "      <th>cluster_dist_43</th>\n",
       "      <th>cluster_dist_44</th>\n",
       "      <th>cluster_dist_45</th>\n",
       "      <th>cluster_dist_46</th>\n",
       "      <th>cluster_dist_47</th>\n",
       "      <th>cluster_dist_48</th>\n",
       "      <th>cluster_dist_49</th>\n",
       "    </tr>\n",
       "  </thead>\n",
       "  <tbody>\n",
       "    <tr>\n",
       "      <th>932</th>\n",
       "      <td>sick</td>\n",
       "      <td>43</td>\n",
       "      <td>0.641752</td>\n",
       "      <td>0.655716</td>\n",
       "      <td>0.655047</td>\n",
       "      <td>0.574556</td>\n",
       "      <td>0.658864</td>\n",
       "      <td>0.634783</td>\n",
       "      <td>0.654668</td>\n",
       "      <td>0.606688</td>\n",
       "      <td>...</td>\n",
       "      <td>0.656499</td>\n",
       "      <td>0.666259</td>\n",
       "      <td>0.555568</td>\n",
       "      <td>0.435029</td>\n",
       "      <td>0.659602</td>\n",
       "      <td>0.640834</td>\n",
       "      <td>0.661316</td>\n",
       "      <td>0.650238</td>\n",
       "      <td>0.652637</td>\n",
       "      <td>0.666522</td>\n",
       "    </tr>\n",
       "    <tr>\n",
       "      <th>2276</th>\n",
       "      <td>fly</td>\n",
       "      <td>43</td>\n",
       "      <td>0.654618</td>\n",
       "      <td>0.658226</td>\n",
       "      <td>0.650754</td>\n",
       "      <td>0.578180</td>\n",
       "      <td>0.655736</td>\n",
       "      <td>0.621190</td>\n",
       "      <td>0.655370</td>\n",
       "      <td>0.602783</td>\n",
       "      <td>...</td>\n",
       "      <td>0.618514</td>\n",
       "      <td>0.659293</td>\n",
       "      <td>0.584974</td>\n",
       "      <td>0.485334</td>\n",
       "      <td>0.667091</td>\n",
       "      <td>0.652619</td>\n",
       "      <td>0.641222</td>\n",
       "      <td>0.665217</td>\n",
       "      <td>0.646992</td>\n",
       "      <td>0.659163</td>\n",
       "    </tr>\n",
       "    <tr>\n",
       "      <th>2567</th>\n",
       "      <td>dirty</td>\n",
       "      <td>43</td>\n",
       "      <td>0.661849</td>\n",
       "      <td>0.665819</td>\n",
       "      <td>0.647049</td>\n",
       "      <td>0.583069</td>\n",
       "      <td>0.663534</td>\n",
       "      <td>0.637428</td>\n",
       "      <td>0.651803</td>\n",
       "      <td>0.637389</td>\n",
       "      <td>...</td>\n",
       "      <td>0.658934</td>\n",
       "      <td>0.670335</td>\n",
       "      <td>0.572560</td>\n",
       "      <td>0.471837</td>\n",
       "      <td>0.660823</td>\n",
       "      <td>0.654854</td>\n",
       "      <td>0.659987</td>\n",
       "      <td>0.654567</td>\n",
       "      <td>0.658526</td>\n",
       "      <td>0.675939</td>\n",
       "    </tr>\n",
       "    <tr>\n",
       "      <th>3313</th>\n",
       "      <td>nasty</td>\n",
       "      <td>43</td>\n",
       "      <td>0.644209</td>\n",
       "      <td>0.651100</td>\n",
       "      <td>0.642293</td>\n",
       "      <td>0.576518</td>\n",
       "      <td>0.645576</td>\n",
       "      <td>0.631181</td>\n",
       "      <td>0.640726</td>\n",
       "      <td>0.628792</td>\n",
       "      <td>...</td>\n",
       "      <td>0.644179</td>\n",
       "      <td>0.644404</td>\n",
       "      <td>0.564662</td>\n",
       "      <td>0.474037</td>\n",
       "      <td>0.646560</td>\n",
       "      <td>0.635150</td>\n",
       "      <td>0.641782</td>\n",
       "      <td>0.637493</td>\n",
       "      <td>0.636289</td>\n",
       "      <td>0.664371</td>\n",
       "    </tr>\n",
       "    <tr>\n",
       "      <th>5798</th>\n",
       "      <td>gross</td>\n",
       "      <td>43</td>\n",
       "      <td>0.613018</td>\n",
       "      <td>0.605962</td>\n",
       "      <td>0.619599</td>\n",
       "      <td>0.561995</td>\n",
       "      <td>0.623939</td>\n",
       "      <td>0.613196</td>\n",
       "      <td>0.622022</td>\n",
       "      <td>0.612939</td>\n",
       "      <td>...</td>\n",
       "      <td>0.622141</td>\n",
       "      <td>0.621992</td>\n",
       "      <td>0.545527</td>\n",
       "      <td>0.483624</td>\n",
       "      <td>0.621176</td>\n",
       "      <td>0.616141</td>\n",
       "      <td>0.617390</td>\n",
       "      <td>0.620724</td>\n",
       "      <td>0.604196</td>\n",
       "      <td>0.628426</td>\n",
       "    </tr>\n",
       "    <tr>\n",
       "      <th>6039</th>\n",
       "      <td>disgusting</td>\n",
       "      <td>43</td>\n",
       "      <td>0.637535</td>\n",
       "      <td>0.646332</td>\n",
       "      <td>0.635823</td>\n",
       "      <td>0.591876</td>\n",
       "      <td>0.647402</td>\n",
       "      <td>0.645522</td>\n",
       "      <td>0.643167</td>\n",
       "      <td>0.633158</td>\n",
       "      <td>...</td>\n",
       "      <td>0.654704</td>\n",
       "      <td>0.645844</td>\n",
       "      <td>0.553583</td>\n",
       "      <td>0.500377</td>\n",
       "      <td>0.655299</td>\n",
       "      <td>0.630895</td>\n",
       "      <td>0.645210</td>\n",
       "      <td>0.635472</td>\n",
       "      <td>0.636109</td>\n",
       "      <td>0.655656</td>\n",
       "    </tr>\n",
       "    <tr>\n",
       "      <th>9576</th>\n",
       "      <td>rat</td>\n",
       "      <td>43</td>\n",
       "      <td>0.595994</td>\n",
       "      <td>0.593592</td>\n",
       "      <td>0.589889</td>\n",
       "      <td>0.525472</td>\n",
       "      <td>0.600082</td>\n",
       "      <td>0.589502</td>\n",
       "      <td>0.602733</td>\n",
       "      <td>0.549756</td>\n",
       "      <td>...</td>\n",
       "      <td>0.610251</td>\n",
       "      <td>0.615986</td>\n",
       "      <td>0.535757</td>\n",
       "      <td>0.473390</td>\n",
       "      <td>0.594583</td>\n",
       "      <td>0.610834</td>\n",
       "      <td>0.609441</td>\n",
       "      <td>0.589747</td>\n",
       "      <td>0.581608</td>\n",
       "      <td>0.608664</td>\n",
       "    </tr>\n",
       "    <tr>\n",
       "      <th>11744</th>\n",
       "      <td>ant</td>\n",
       "      <td>43</td>\n",
       "      <td>0.541124</td>\n",
       "      <td>0.555836</td>\n",
       "      <td>0.531589</td>\n",
       "      <td>0.455936</td>\n",
       "      <td>0.529011</td>\n",
       "      <td>0.512482</td>\n",
       "      <td>0.536697</td>\n",
       "      <td>0.518218</td>\n",
       "      <td>...</td>\n",
       "      <td>0.547659</td>\n",
       "      <td>0.555775</td>\n",
       "      <td>0.476375</td>\n",
       "      <td>0.403411</td>\n",
       "      <td>0.542684</td>\n",
       "      <td>0.552972</td>\n",
       "      <td>0.547372</td>\n",
       "      <td>0.534704</td>\n",
       "      <td>0.520560</td>\n",
       "      <td>0.550690</td>\n",
       "    </tr>\n",
       "    <tr>\n",
       "      <th>12474</th>\n",
       "      <td>bugs</td>\n",
       "      <td>43</td>\n",
       "      <td>0.621374</td>\n",
       "      <td>0.622858</td>\n",
       "      <td>0.607648</td>\n",
       "      <td>0.552901</td>\n",
       "      <td>0.601041</td>\n",
       "      <td>0.598964</td>\n",
       "      <td>0.602364</td>\n",
       "      <td>0.607946</td>\n",
       "      <td>...</td>\n",
       "      <td>0.611269</td>\n",
       "      <td>0.620556</td>\n",
       "      <td>0.543740</td>\n",
       "      <td>0.505074</td>\n",
       "      <td>0.618886</td>\n",
       "      <td>0.607089</td>\n",
       "      <td>0.612766</td>\n",
       "      <td>0.615972</td>\n",
       "      <td>0.600753</td>\n",
       "      <td>0.625945</td>\n",
       "    </tr>\n",
       "    <tr>\n",
       "      <th>19656</th>\n",
       "      <td>puke</td>\n",
       "      <td>43</td>\n",
       "      <td>0.565181</td>\n",
       "      <td>0.576728</td>\n",
       "      <td>0.585621</td>\n",
       "      <td>0.526661</td>\n",
       "      <td>0.574574</td>\n",
       "      <td>0.578973</td>\n",
       "      <td>0.576169</td>\n",
       "      <td>0.578722</td>\n",
       "      <td>...</td>\n",
       "      <td>0.582468</td>\n",
       "      <td>0.582565</td>\n",
       "      <td>0.513040</td>\n",
       "      <td>0.486284</td>\n",
       "      <td>0.581620</td>\n",
       "      <td>0.584117</td>\n",
       "      <td>0.573898</td>\n",
       "      <td>0.583286</td>\n",
       "      <td>0.565270</td>\n",
       "      <td>0.580692</td>\n",
       "    </tr>\n",
       "    <tr>\n",
       "      <th>22745</th>\n",
       "      <td>unhealthy</td>\n",
       "      <td>42</td>\n",
       "      <td>0.607172</td>\n",
       "      <td>0.620292</td>\n",
       "      <td>0.618052</td>\n",
       "      <td>0.581377</td>\n",
       "      <td>0.620892</td>\n",
       "      <td>0.629318</td>\n",
       "      <td>0.611213</td>\n",
       "      <td>0.625680</td>\n",
       "      <td>...</td>\n",
       "      <td>0.635944</td>\n",
       "      <td>0.624866</td>\n",
       "      <td>0.532457</td>\n",
       "      <td>0.533393</td>\n",
       "      <td>0.607898</td>\n",
       "      <td>0.617348</td>\n",
       "      <td>0.620045</td>\n",
       "      <td>0.623994</td>\n",
       "      <td>0.619423</td>\n",
       "      <td>0.628724</td>\n",
       "    </tr>\n",
       "    <tr>\n",
       "      <th>26434</th>\n",
       "      <td>smelly</td>\n",
       "      <td>43</td>\n",
       "      <td>0.624858</td>\n",
       "      <td>0.655983</td>\n",
       "      <td>0.629166</td>\n",
       "      <td>0.582770</td>\n",
       "      <td>0.639109</td>\n",
       "      <td>0.647492</td>\n",
       "      <td>0.630859</td>\n",
       "      <td>0.639644</td>\n",
       "      <td>...</td>\n",
       "      <td>0.658725</td>\n",
       "      <td>0.638008</td>\n",
       "      <td>0.570292</td>\n",
       "      <td>0.560924</td>\n",
       "      <td>0.654816</td>\n",
       "      <td>0.636615</td>\n",
       "      <td>0.637023</td>\n",
       "      <td>0.651636</td>\n",
       "      <td>0.632706</td>\n",
       "      <td>0.662510</td>\n",
       "    </tr>\n",
       "    <tr>\n",
       "      <th>31047</th>\n",
       "      <td>rotten</td>\n",
       "      <td>43</td>\n",
       "      <td>0.576490</td>\n",
       "      <td>0.587826</td>\n",
       "      <td>0.586745</td>\n",
       "      <td>0.538738</td>\n",
       "      <td>0.594531</td>\n",
       "      <td>0.600258</td>\n",
       "      <td>0.584856</td>\n",
       "      <td>0.599500</td>\n",
       "      <td>...</td>\n",
       "      <td>0.613628</td>\n",
       "      <td>0.596491</td>\n",
       "      <td>0.513923</td>\n",
       "      <td>0.507250</td>\n",
       "      <td>0.588856</td>\n",
       "      <td>0.584032</td>\n",
       "      <td>0.599807</td>\n",
       "      <td>0.572950</td>\n",
       "      <td>0.586356</td>\n",
       "      <td>0.609293</td>\n",
       "    </tr>\n",
       "    <tr>\n",
       "      <th>47627</th>\n",
       "      <td>flea</td>\n",
       "      <td>3</td>\n",
       "      <td>0.550284</td>\n",
       "      <td>0.586265</td>\n",
       "      <td>0.571839</td>\n",
       "      <td>0.513376</td>\n",
       "      <td>0.570551</td>\n",
       "      <td>0.570103</td>\n",
       "      <td>0.561088</td>\n",
       "      <td>0.585333</td>\n",
       "      <td>...</td>\n",
       "      <td>0.579474</td>\n",
       "      <td>0.569200</td>\n",
       "      <td>0.514159</td>\n",
       "      <td>0.516534</td>\n",
       "      <td>0.566270</td>\n",
       "      <td>0.580632</td>\n",
       "      <td>0.560235</td>\n",
       "      <td>0.584923</td>\n",
       "      <td>0.556390</td>\n",
       "      <td>0.584918</td>\n",
       "    </tr>\n",
       "    <tr>\n",
       "      <th>60819</th>\n",
       "      <td>insect</td>\n",
       "      <td>42</td>\n",
       "      <td>0.604016</td>\n",
       "      <td>0.615687</td>\n",
       "      <td>0.616583</td>\n",
       "      <td>0.559834</td>\n",
       "      <td>0.617061</td>\n",
       "      <td>0.638615</td>\n",
       "      <td>0.624235</td>\n",
       "      <td>0.622793</td>\n",
       "      <td>...</td>\n",
       "      <td>0.650066</td>\n",
       "      <td>0.608971</td>\n",
       "      <td>0.537124</td>\n",
       "      <td>0.562688</td>\n",
       "      <td>0.610971</td>\n",
       "      <td>0.599774</td>\n",
       "      <td>0.612088</td>\n",
       "      <td>0.597613</td>\n",
       "      <td>0.598296</td>\n",
       "      <td>0.627202</td>\n",
       "    </tr>\n",
       "    <tr>\n",
       "      <th>61364</th>\n",
       "      <td>cockroach</td>\n",
       "      <td>42</td>\n",
       "      <td>0.579848</td>\n",
       "      <td>0.600841</td>\n",
       "      <td>0.593008</td>\n",
       "      <td>0.547749</td>\n",
       "      <td>0.592812</td>\n",
       "      <td>0.617562</td>\n",
       "      <td>0.603191</td>\n",
       "      <td>0.606151</td>\n",
       "      <td>...</td>\n",
       "      <td>0.615290</td>\n",
       "      <td>0.601529</td>\n",
       "      <td>0.533748</td>\n",
       "      <td>0.555038</td>\n",
       "      <td>0.600825</td>\n",
       "      <td>0.608612</td>\n",
       "      <td>0.590031</td>\n",
       "      <td>0.587568</td>\n",
       "      <td>0.580303</td>\n",
       "      <td>0.611074</td>\n",
       "    </tr>\n",
       "    <tr>\n",
       "      <th>173419</th>\n",
       "      <td>moldy</td>\n",
       "      <td>42</td>\n",
       "      <td>0.551079</td>\n",
       "      <td>0.577199</td>\n",
       "      <td>0.547145</td>\n",
       "      <td>0.534714</td>\n",
       "      <td>0.565447</td>\n",
       "      <td>0.612414</td>\n",
       "      <td>0.551569</td>\n",
       "      <td>0.585232</td>\n",
       "      <td>...</td>\n",
       "      <td>0.602544</td>\n",
       "      <td>0.555580</td>\n",
       "      <td>0.509098</td>\n",
       "      <td>0.572643</td>\n",
       "      <td>0.567518</td>\n",
       "      <td>0.558942</td>\n",
       "      <td>0.561336</td>\n",
       "      <td>0.574673</td>\n",
       "      <td>0.558216</td>\n",
       "      <td>0.579779</td>\n",
       "    </tr>\n",
       "    <tr>\n",
       "      <th>226589</th>\n",
       "      <td>infestation</td>\n",
       "      <td>42</td>\n",
       "      <td>0.508164</td>\n",
       "      <td>0.539832</td>\n",
       "      <td>0.535131</td>\n",
       "      <td>0.474778</td>\n",
       "      <td>0.527019</td>\n",
       "      <td>0.561662</td>\n",
       "      <td>0.529294</td>\n",
       "      <td>0.550246</td>\n",
       "      <td>...</td>\n",
       "      <td>0.545659</td>\n",
       "      <td>0.524885</td>\n",
       "      <td>0.468849</td>\n",
       "      <td>0.536821</td>\n",
       "      <td>0.534116</td>\n",
       "      <td>0.536535</td>\n",
       "      <td>0.512582</td>\n",
       "      <td>0.519211</td>\n",
       "      <td>0.509815</td>\n",
       "      <td>0.554149</td>\n",
       "    </tr>\n",
       "    <tr>\n",
       "      <th>459061</th>\n",
       "      <td>undercooked</td>\n",
       "      <td>29</td>\n",
       "      <td>0.477508</td>\n",
       "      <td>0.498442</td>\n",
       "      <td>0.491657</td>\n",
       "      <td>0.488936</td>\n",
       "      <td>0.508448</td>\n",
       "      <td>0.554426</td>\n",
       "      <td>0.479036</td>\n",
       "      <td>0.543857</td>\n",
       "      <td>...</td>\n",
       "      <td>0.540487</td>\n",
       "      <td>0.505504</td>\n",
       "      <td>0.451077</td>\n",
       "      <td>0.539664</td>\n",
       "      <td>0.493887</td>\n",
       "      <td>0.532048</td>\n",
       "      <td>0.502765</td>\n",
       "      <td>0.512868</td>\n",
       "      <td>0.508347</td>\n",
       "      <td>0.507296</td>\n",
       "    </tr>\n",
       "    <tr>\n",
       "      <th>460832</th>\n",
       "      <td>infest</td>\n",
       "      <td>42</td>\n",
       "      <td>0.521856</td>\n",
       "      <td>0.553909</td>\n",
       "      <td>0.535031</td>\n",
       "      <td>0.485107</td>\n",
       "      <td>0.528367</td>\n",
       "      <td>0.552187</td>\n",
       "      <td>0.525499</td>\n",
       "      <td>0.546793</td>\n",
       "      <td>...</td>\n",
       "      <td>0.565363</td>\n",
       "      <td>0.538023</td>\n",
       "      <td>0.473458</td>\n",
       "      <td>0.553831</td>\n",
       "      <td>0.531119</td>\n",
       "      <td>0.551143</td>\n",
       "      <td>0.519688</td>\n",
       "      <td>0.533711</td>\n",
       "      <td>0.518709</td>\n",
       "      <td>0.540882</td>\n",
       "    </tr>\n",
       "  </tbody>\n",
       "</table>\n",
       "<p>20 rows × 52 columns</p>\n",
       "</div>"
      ],
      "text/plain": [
       "             labels  cluster  cluster_dist_0  cluster_dist_1  cluster_dist_2  \\\n",
       "932            sick       43        0.641752        0.655716        0.655047   \n",
       "2276            fly       43        0.654618        0.658226        0.650754   \n",
       "2567          dirty       43        0.661849        0.665819        0.647049   \n",
       "3313          nasty       43        0.644209        0.651100        0.642293   \n",
       "5798          gross       43        0.613018        0.605962        0.619599   \n",
       "6039     disgusting       43        0.637535        0.646332        0.635823   \n",
       "9576            rat       43        0.595994        0.593592        0.589889   \n",
       "11744           ant       43        0.541124        0.555836        0.531589   \n",
       "12474          bugs       43        0.621374        0.622858        0.607648   \n",
       "19656          puke       43        0.565181        0.576728        0.585621   \n",
       "22745     unhealthy       42        0.607172        0.620292        0.618052   \n",
       "26434        smelly       43        0.624858        0.655983        0.629166   \n",
       "31047        rotten       43        0.576490        0.587826        0.586745   \n",
       "47627          flea        3        0.550284        0.586265        0.571839   \n",
       "60819        insect       42        0.604016        0.615687        0.616583   \n",
       "61364     cockroach       42        0.579848        0.600841        0.593008   \n",
       "173419        moldy       42        0.551079        0.577199        0.547145   \n",
       "226589  infestation       42        0.508164        0.539832        0.535131   \n",
       "459061  undercooked       29        0.477508        0.498442        0.491657   \n",
       "460832       infest       42        0.521856        0.553909        0.535031   \n",
       "\n",
       "        cluster_dist_3  cluster_dist_4  cluster_dist_5  cluster_dist_6  \\\n",
       "932           0.574556        0.658864        0.634783        0.654668   \n",
       "2276          0.578180        0.655736        0.621190        0.655370   \n",
       "2567          0.583069        0.663534        0.637428        0.651803   \n",
       "3313          0.576518        0.645576        0.631181        0.640726   \n",
       "5798          0.561995        0.623939        0.613196        0.622022   \n",
       "6039          0.591876        0.647402        0.645522        0.643167   \n",
       "9576          0.525472        0.600082        0.589502        0.602733   \n",
       "11744         0.455936        0.529011        0.512482        0.536697   \n",
       "12474         0.552901        0.601041        0.598964        0.602364   \n",
       "19656         0.526661        0.574574        0.578973        0.576169   \n",
       "22745         0.581377        0.620892        0.629318        0.611213   \n",
       "26434         0.582770        0.639109        0.647492        0.630859   \n",
       "31047         0.538738        0.594531        0.600258        0.584856   \n",
       "47627         0.513376        0.570551        0.570103        0.561088   \n",
       "60819         0.559834        0.617061        0.638615        0.624235   \n",
       "61364         0.547749        0.592812        0.617562        0.603191   \n",
       "173419        0.534714        0.565447        0.612414        0.551569   \n",
       "226589        0.474778        0.527019        0.561662        0.529294   \n",
       "459061        0.488936        0.508448        0.554426        0.479036   \n",
       "460832        0.485107        0.528367        0.552187        0.525499   \n",
       "\n",
       "        cluster_dist_7  ...  cluster_dist_40  cluster_dist_41  \\\n",
       "932           0.606688  ...         0.656499         0.666259   \n",
       "2276          0.602783  ...         0.618514         0.659293   \n",
       "2567          0.637389  ...         0.658934         0.670335   \n",
       "3313          0.628792  ...         0.644179         0.644404   \n",
       "5798          0.612939  ...         0.622141         0.621992   \n",
       "6039          0.633158  ...         0.654704         0.645844   \n",
       "9576          0.549756  ...         0.610251         0.615986   \n",
       "11744         0.518218  ...         0.547659         0.555775   \n",
       "12474         0.607946  ...         0.611269         0.620556   \n",
       "19656         0.578722  ...         0.582468         0.582565   \n",
       "22745         0.625680  ...         0.635944         0.624866   \n",
       "26434         0.639644  ...         0.658725         0.638008   \n",
       "31047         0.599500  ...         0.613628         0.596491   \n",
       "47627         0.585333  ...         0.579474         0.569200   \n",
       "60819         0.622793  ...         0.650066         0.608971   \n",
       "61364         0.606151  ...         0.615290         0.601529   \n",
       "173419        0.585232  ...         0.602544         0.555580   \n",
       "226589        0.550246  ...         0.545659         0.524885   \n",
       "459061        0.543857  ...         0.540487         0.505504   \n",
       "460832        0.546793  ...         0.565363         0.538023   \n",
       "\n",
       "        cluster_dist_42  cluster_dist_43  cluster_dist_44  cluster_dist_45  \\\n",
       "932            0.555568         0.435029         0.659602         0.640834   \n",
       "2276           0.584974         0.485334         0.667091         0.652619   \n",
       "2567           0.572560         0.471837         0.660823         0.654854   \n",
       "3313           0.564662         0.474037         0.646560         0.635150   \n",
       "5798           0.545527         0.483624         0.621176         0.616141   \n",
       "6039           0.553583         0.500377         0.655299         0.630895   \n",
       "9576           0.535757         0.473390         0.594583         0.610834   \n",
       "11744          0.476375         0.403411         0.542684         0.552972   \n",
       "12474          0.543740         0.505074         0.618886         0.607089   \n",
       "19656          0.513040         0.486284         0.581620         0.584117   \n",
       "22745          0.532457         0.533393         0.607898         0.617348   \n",
       "26434          0.570292         0.560924         0.654816         0.636615   \n",
       "31047          0.513923         0.507250         0.588856         0.584032   \n",
       "47627          0.514159         0.516534         0.566270         0.580632   \n",
       "60819          0.537124         0.562688         0.610971         0.599774   \n",
       "61364          0.533748         0.555038         0.600825         0.608612   \n",
       "173419         0.509098         0.572643         0.567518         0.558942   \n",
       "226589         0.468849         0.536821         0.534116         0.536535   \n",
       "459061         0.451077         0.539664         0.493887         0.532048   \n",
       "460832         0.473458         0.553831         0.531119         0.551143   \n",
       "\n",
       "        cluster_dist_46  cluster_dist_47  cluster_dist_48  cluster_dist_49  \n",
       "932            0.661316         0.650238         0.652637         0.666522  \n",
       "2276           0.641222         0.665217         0.646992         0.659163  \n",
       "2567           0.659987         0.654567         0.658526         0.675939  \n",
       "3313           0.641782         0.637493         0.636289         0.664371  \n",
       "5798           0.617390         0.620724         0.604196         0.628426  \n",
       "6039           0.645210         0.635472         0.636109         0.655656  \n",
       "9576           0.609441         0.589747         0.581608         0.608664  \n",
       "11744          0.547372         0.534704         0.520560         0.550690  \n",
       "12474          0.612766         0.615972         0.600753         0.625945  \n",
       "19656          0.573898         0.583286         0.565270         0.580692  \n",
       "22745          0.620045         0.623994         0.619423         0.628724  \n",
       "26434          0.637023         0.651636         0.632706         0.662510  \n",
       "31047          0.599807         0.572950         0.586356         0.609293  \n",
       "47627          0.560235         0.584923         0.556390         0.584918  \n",
       "60819          0.612088         0.597613         0.598296         0.627202  \n",
       "61364          0.590031         0.587568         0.580303         0.611074  \n",
       "173419         0.561336         0.574673         0.558216         0.579779  \n",
       "226589         0.512582         0.519211         0.509815         0.554149  \n",
       "459061         0.502765         0.512868         0.508347         0.507296  \n",
       "460832         0.519688         0.533711         0.518709         0.540882  \n",
       "\n",
       "[20 rows x 52 columns]"
      ]
     },
     "execution_count": 283,
     "metadata": {},
     "output_type": "execute_result"
    }
   ],
   "source": [
    "# most of our DIRTY WORDS are in the same cluster (#1)\n",
    "df_gv[df_gv.labels.isin(DIRTY_WORDS) | df_gv.labels.isin(PEST_WORDS)]"
   ]
  },
  {
   "cell_type": "code",
   "execution_count": 284,
   "id": "4380d994-4da4-47c7-9568-2ecb33ab55b3",
   "metadata": {
    "collapsed": true,
    "jupyter": {
     "outputs_hidden": true
    },
    "tags": []
   },
   "outputs": [
    {
     "data": {
      "text/html": [
       "<div>\n",
       "<style scoped>\n",
       "    .dataframe tbody tr th:only-of-type {\n",
       "        vertical-align: middle;\n",
       "    }\n",
       "\n",
       "    .dataframe tbody tr th {\n",
       "        vertical-align: top;\n",
       "    }\n",
       "\n",
       "    .dataframe thead th {\n",
       "        text-align: right;\n",
       "    }\n",
       "</style>\n",
       "<table border=\"1\" class=\"dataframe\">\n",
       "  <thead>\n",
       "    <tr style=\"text-align: right;\">\n",
       "      <th></th>\n",
       "      <th>0</th>\n",
       "      <th>1</th>\n",
       "      <th>2</th>\n",
       "      <th>3</th>\n",
       "      <th>4</th>\n",
       "    </tr>\n",
       "  </thead>\n",
       "  <tbody>\n",
       "    <tr>\n",
       "      <th>cluster 0</th>\n",
       "      <td>おかろーん</td>\n",
       "      <td>このツイート見たらrtとお願いし</td>\n",
       "      <td>もう寝るのか?おやすみ</td>\n",
       "      <td>shekf</td>\n",
       "      <td>新青梅街道沿いのragstationへ</td>\n",
       "    </tr>\n",
       "    <tr>\n",
       "      <th>cluster 1</th>\n",
       "      <td>万円稼いでみましょうかn</td>\n",
       "      <td>新青梅街道沿いのragstationへ</td>\n",
       "      <td>進撃の食物連鎖</td>\n",
       "      <td>おかろーん</td>\n",
       "      <td>jcjxjd</td>\n",
       "    </tr>\n",
       "    <tr>\n",
       "      <th>cluster 2</th>\n",
       "      <td>進撃の食物連鎖</td>\n",
       "      <td>ecigbrandstarterkitn</td>\n",
       "      <td>今日見たツボ親子</td>\n",
       "      <td>ｵｷﾀｰ!ｼｬﾝﾊｰｲ</td>\n",
       "      <td>ひき逃げされた女がいるユニットワロタ</td>\n",
       "    </tr>\n",
       "    <tr>\n",
       "      <th>cluster 3</th>\n",
       "      <td>uxxjxxjxjdhshsjc</td>\n",
       "      <td>iworkto</td>\n",
       "      <td>kdckddjeiqjj</td>\n",
       "      <td>ieiwosor</td>\n",
       "      <td>ckffk</td>\n",
       "    </tr>\n",
       "    <tr>\n",
       "      <th>cluster 4</th>\n",
       "      <td>振り向いたら二人</td>\n",
       "      <td>おいしくて太らない</td>\n",
       "      <td>おかろーん</td>\n",
       "      <td>新青梅街道沿いのragstationへ</td>\n",
       "      <td>jcjxjd</td>\n",
       "    </tr>\n",
       "    <tr>\n",
       "      <th>cluster 5</th>\n",
       "      <td>今度こそ失敗しないようにやらなきゃな</td>\n",
       "      <td>gooooooooooooooooooooooooooooooooooooooooooooo...</td>\n",
       "      <td>おなか空いたけどなんにもないorz</td>\n",
       "      <td>hahahahahahahahahahahahahahahahahahahahahahaha...</td>\n",
       "      <td>jajajajajajajajajajajajajajajajajajajajajajaja...</td>\n",
       "    </tr>\n",
       "    <tr>\n",
       "      <th>cluster 6</th>\n",
       "      <td>おかろーん</td>\n",
       "      <td>振り向いたら二人</td>\n",
       "      <td>もう寝るのか?おやすみ</td>\n",
       "      <td>jcjxjd</td>\n",
       "      <td>integrationmonitor</td>\n",
       "    </tr>\n",
       "    <tr>\n",
       "      <th>cluster 7</th>\n",
       "      <td>洋楽っていいよねｗ</td>\n",
       "      <td>歌詞わかんないから気を取られないでｗｗ</td>\n",
       "      <td>hahahahahahahahahahahahahahahahahahahahahahaha...</td>\n",
       "      <td>おなか空いたけどなんにもないorz</td>\n",
       "      <td>今度こそ失敗しないようにやらなきゃな</td>\n",
       "    </tr>\n",
       "    <tr>\n",
       "      <th>cluster 8</th>\n",
       "      <td>nagemon</td>\n",
       "      <td>誰か私のイメージイラストを描いてくれませんかなんて口が裂けても言えませんけどもし描いてくださ...</td>\n",
       "      <td>どっちも入ってる人rt</td>\n",
       "      <td>コンビニあるある思ったらrt</td>\n",
       "      <td>このcm覚えてたら絶対同世代w</td>\n",
       "    </tr>\n",
       "    <tr>\n",
       "      <th>cluster 9</th>\n",
       "      <td>天神なう</td>\n",
       "      <td>そうしますか</td>\n",
       "      <td>湯けむりの向こうだって俺のホークアイがあれば見え見えなんだぜ</td>\n",
       "      <td>おつかれっすー</td>\n",
       "      <td>おはありよー</td>\n",
       "    </tr>\n",
       "    <tr>\n",
       "      <th>cluster 10</th>\n",
       "      <td>dsandylio</td>\n",
       "      <td>ｵﾔｽﾐｰ!ｼｬﾝﾊｰｲ</td>\n",
       "      <td>jrghjekrsh</td>\n",
       "      <td>ツイート数稼ぎツール実行中</td>\n",
       "      <td>uvtlbuywliu</td>\n",
       "    </tr>\n",
       "    <tr>\n",
       "      <th>cluster 11</th>\n",
       "      <td>振り向いたら二人</td>\n",
       "      <td>もう寝るのか?おやすみ</td>\n",
       "      <td>おかろーん</td>\n",
       "      <td>万円稼いでみましょうかn</td>\n",
       "      <td>新青梅街道沿いのragstationへ</td>\n",
       "    </tr>\n",
       "    <tr>\n",
       "      <th>cluster 12</th>\n",
       "      <td>もう寝るのか?おやすみ</td>\n",
       "      <td>おかろーん</td>\n",
       "      <td>妹に算数の問題を教えてて</td>\n",
       "      <td>jcjxjd</td>\n",
       "      <td>親切な動画取説付き</td>\n",
       "    </tr>\n",
       "    <tr>\n",
       "      <th>cluster 13</th>\n",
       "      <td>おかろーん</td>\n",
       "      <td>進撃の食物連鎖</td>\n",
       "      <td>jcjxjd</td>\n",
       "      <td>このツイート見たらrtとお願いし</td>\n",
       "      <td>振り向いたら二人</td>\n",
       "    </tr>\n",
       "    <tr>\n",
       "      <th>cluster 14</th>\n",
       "      <td>おいしくて太らない</td>\n",
       "      <td>おかろーん</td>\n",
       "      <td>ㅤnㅤnㅤnㅤnㅤnㅤnㅤnㅤnㅤnㅤnㅤnㅤnㅤnㅤnㅤnㅤnㅤnㅤnㅤnㅤnㅤnㅤnㅤn...</td>\n",
       "      <td>こちらは爆撃垢です</td>\n",
       "      <td>モンハン４裏ワザ</td>\n",
       "    </tr>\n",
       "    <tr>\n",
       "      <th>cluster 15</th>\n",
       "      <td>おかろーん</td>\n",
       "      <td>もう寝るのか?おやすみ</td>\n",
       "      <td>新青梅街道沿いのragstationへ</td>\n",
       "      <td>このツイート見たらrtとお願いし</td>\n",
       "      <td>tㅤㅤㅤㅤㅤㅤㅤㅤㅤㅤㅤㅤㅤㅤㅤㅤㅤㅤㅤㅤㅤㅤㅤㅤㅤㅤㅤㅤㅤㅤㅤㅤㅤéㅤㅤㅤㅤㅤㅤㅤㅤㅤㅤㅤ...</td>\n",
       "    </tr>\n",
       "    <tr>\n",
       "      <th>cluster 16</th>\n",
       "      <td>問題集とか解いてて答え写してるのがばれないようにわざと何問か間違える</td>\n",
       "      <td>ステキな出来事を探してブーム</td>\n",
       "      <td>絵を描く人なら経験済みであろう</td>\n",
       "      <td>おかろーん</td>\n",
       "      <td>dhddj</td>\n",
       "    </tr>\n",
       "    <tr>\n",
       "      <th>cluster 17</th>\n",
       "      <td>振り向いたら二人</td>\n",
       "      <td>おかろーん</td>\n",
       "      <td>気を付けていくんだぞ</td>\n",
       "      <td>今から４８時間以内に５万円の現金を確実にｇｅｔする方法n</td>\n",
       "      <td>jcjxjd</td>\n",
       "    </tr>\n",
       "    <tr>\n",
       "      <th>cluster 18</th>\n",
       "      <td>おかろーん</td>\n",
       "      <td>もう寝るのか?おやすみ</td>\n",
       "      <td>このツイート見たらrtとお願いし</td>\n",
       "      <td>integrationmonitor</td>\n",
       "      <td>新青梅街道沿いのragstationへ</td>\n",
       "    </tr>\n",
       "    <tr>\n",
       "      <th>cluster 19</th>\n",
       "      <td>おかろーん</td>\n",
       "      <td>もう寝るのか?おやすみ</td>\n",
       "      <td>新青梅街道沿いのragstationへ</td>\n",
       "      <td>進撃の食物連鎖</td>\n",
       "      <td>wチャンスにチャレンジしてzaガールに近づきました</td>\n",
       "    </tr>\n",
       "    <tr>\n",
       "      <th>cluster 20</th>\n",
       "      <td>おかろーん</td>\n",
       "      <td>jcjxjd</td>\n",
       "      <td>進撃の食物連鎖</td>\n",
       "      <td>新青梅街道沿いのragstationへ</td>\n",
       "      <td>ecigbrandstarterkitn</td>\n",
       "    </tr>\n",
       "    <tr>\n",
       "      <th>cluster 21</th>\n",
       "      <td>知りたくないという方はn絶対に見ないでください</td>\n",
       "      <td>お得な情報のダウンロードはここからですよ</td>\n",
       "      <td>暇な方は是非挑んでみてください</td>\n",
       "      <td>nnサラリーマンの方に限らずほとんどの方がn継続的に安定収入を得られる方法とは</td>\n",
       "      <td>このノーリスクの方法を実践するだけで良いのです</td>\n",
       "    </tr>\n",
       "    <tr>\n",
       "      <th>cluster 22</th>\n",
       "      <td>進撃の食物連鎖</td>\n",
       "      <td>新青梅街道沿いのragstationへ</td>\n",
       "      <td>今日見たツボ親子</td>\n",
       "      <td>おかろーん</td>\n",
       "      <td>絶対に似てないと思う人rt</td>\n",
       "    </tr>\n",
       "    <tr>\n",
       "      <th>cluster 23</th>\n",
       "      <td>twitterやってる人に聞きます</td>\n",
       "      <td>今日は亡くなった元カノの誕生日nラインだって返ってこないことn分かり切ってるけど必ず１日n一...</td>\n",
       "      <td>おかろーん</td>\n",
       "      <td>もう寝るのか?おやすみ</td>\n",
       "      <td>ショッピングサイトやってます</td>\n",
       "    </tr>\n",
       "    <tr>\n",
       "      <th>cluster 24</th>\n",
       "      <td>進撃の食物連鎖</td>\n",
       "      <td>今日見たツボ親子</td>\n",
       "      <td>блэкдже</td>\n",
       "      <td>犬の首切ってあほみたいな事してる写真あんねやけどn俺そいつ探してでもほんまに殺したいnなんも...</td>\n",
       "      <td>こたつでみかん食べながらnみかんでこたつ作ってみた</td>\n",
       "    </tr>\n",
       "    <tr>\n",
       "      <th>cluster 25</th>\n",
       "      <td>おいしくて太らない</td>\n",
       "      <td>心眼は鍛えている</td>\n",
       "      <td>温暖化によって崩れる氷と共に死ぬしかないペンギン</td>\n",
       "      <td>絶対に似てないと思う人rt</td>\n",
       "      <td>tnennngnonngnannnansnndnenntni</td>\n",
       "    </tr>\n",
       "    <tr>\n",
       "      <th>cluster 26</th>\n",
       "      <td>振り向いたら二人</td>\n",
       "      <td>おかろーん</td>\n",
       "      <td>jcjxjd</td>\n",
       "      <td>もう寝るのか?おやすみ</td>\n",
       "      <td>進撃の食物連鎖</td>\n",
       "    </tr>\n",
       "    <tr>\n",
       "      <th>cluster 27</th>\n",
       "      <td>おかろーん</td>\n",
       "      <td>振り向いたら二人</td>\n",
       "      <td>進撃の食物連鎖</td>\n",
       "      <td>今日見たツボ親子</td>\n",
       "      <td>もう寝るのか?おやすみ</td>\n",
       "    </tr>\n",
       "    <tr>\n",
       "      <th>cluster 28</th>\n",
       "      <td>進撃の食物連鎖</td>\n",
       "      <td>新青梅街道沿いのragstationへ</td>\n",
       "      <td>今日見たツボ親子</td>\n",
       "      <td>jcjxjd</td>\n",
       "      <td>リッチ瞑想</td>\n",
       "    </tr>\n",
       "    <tr>\n",
       "      <th>cluster 29</th>\n",
       "      <td>おかろーん</td>\n",
       "      <td>新青梅街道沿いのragstationへ</td>\n",
       "      <td>進撃の食物連鎖</td>\n",
       "      <td>万円稼いでみましょうかn</td>\n",
       "      <td>nagemon</td>\n",
       "    </tr>\n",
       "    <tr>\n",
       "      <th>cluster 30</th>\n",
       "      <td>マリオに彼女ができて最近構ってくれなくなったから彼女拉致ったというまさかの設定だった</td>\n",
       "      <td>そろそろリア充どものfacebookにカップルやらの楽しげな写真が続々とアップされるという鬱...</td>\n",
       "      <td>この時代の日本人は何がしたかったんだよ</td>\n",
       "      <td>過去最高動員を記録した公演</td>\n",
       "      <td>意識ビンビンで気を張ってるのに</td>\n",
       "    </tr>\n",
       "    <tr>\n",
       "      <th>cluster 31</th>\n",
       "      <td>おかろーん</td>\n",
       "      <td>新青梅街道沿いのragstationへ</td>\n",
       "      <td>ｇ１レースで確実に現金を手にする方法n</td>\n",
       "      <td>私のモノにならなくていいそばに居るだけでいい</td>\n",
       "      <td>ieiwosor</td>\n",
       "    </tr>\n",
       "    <tr>\n",
       "      <th>cluster 32</th>\n",
       "      <td>進撃の食物連鎖</td>\n",
       "      <td>twitterやってる人に聞きます</td>\n",
       "      <td>今日見たツボ親子</td>\n",
       "      <td>絶対に似てないと思う人rt</td>\n",
       "      <td>いろいろrtします</td>\n",
       "    </tr>\n",
       "    <tr>\n",
       "      <th>cluster 33</th>\n",
       "      <td>integrationmonitor</td>\n",
       "      <td>jcjxjd</td>\n",
       "      <td>おかろーん</td>\n",
       "      <td>いろいろrtします</td>\n",
       "      <td>ecigbrandstarterkitn</td>\n",
       "    </tr>\n",
       "    <tr>\n",
       "      <th>cluster 34</th>\n",
       "      <td>おかろーん</td>\n",
       "      <td>もう寝るのか?おやすみ</td>\n",
       "      <td>振り向いたら二人</td>\n",
       "      <td>nagemon</td>\n",
       "      <td>хочудождливуюосень</td>\n",
       "    </tr>\n",
       "    <tr>\n",
       "      <th>cluster 35</th>\n",
       "      <td>おかろーん</td>\n",
       "      <td>振り向いたら二人</td>\n",
       "      <td>新青梅街道沿いのragstationへ</td>\n",
       "      <td>進撃の食物連鎖</td>\n",
       "      <td>jcjxjd</td>\n",
       "    </tr>\n",
       "    <tr>\n",
       "      <th>cluster 36</th>\n",
       "      <td>ieiwosor</td>\n",
       "      <td>usiddkdk</td>\n",
       "      <td>照れてるんすよ</td>\n",
       "      <td>uxxjxxjxjdhshsjc</td>\n",
       "      <td>sikorkk</td>\n",
       "    </tr>\n",
       "    <tr>\n",
       "      <th>cluster 37</th>\n",
       "      <td>過去リクエスト</td>\n",
       "      <td>出逢いの見つけ方</td>\n",
       "      <td>jcjxjd</td>\n",
       "      <td>振り向いたら二人</td>\n",
       "      <td>親切な動画取説付き</td>\n",
       "    </tr>\n",
       "    <tr>\n",
       "      <th>cluster 38</th>\n",
       "      <td>itunesギフトコードを無料で得る方法n</td>\n",
       "      <td>限の授業がおじいちゃん教授で</td>\n",
       "      <td>ドリンクメニューを更新しました</td>\n",
       "      <td>博多船だまりの現在の潮は</td>\n",
       "      <td>nezumidobu</td>\n",
       "    </tr>\n",
       "    <tr>\n",
       "      <th>cluster 39</th>\n",
       "      <td>おかろーん</td>\n",
       "      <td>振り向いたら二人</td>\n",
       "      <td>新青梅街道沿いのragstationへ</td>\n",
       "      <td>もう寝るのか?おやすみ</td>\n",
       "      <td>万円稼いでみましょうかn</td>\n",
       "    </tr>\n",
       "    <tr>\n",
       "      <th>cluster 40</th>\n",
       "      <td>utbvtqwuitrt</td>\n",
       "      <td>uynnyulrtyulr</td>\n",
       "      <td>我已经完成了任务</td>\n",
       "      <td>yubtruytruyrt</td>\n",
       "      <td>ブスくれ</td>\n",
       "    </tr>\n",
       "    <tr>\n",
       "      <th>cluster 41</th>\n",
       "      <td>新青梅街道沿いのragstationへ</td>\n",
       "      <td>このツイート見たらrtとお願いし</td>\n",
       "      <td>進撃の食物連鎖</td>\n",
       "      <td>おかろーん</td>\n",
       "      <td>こたつでみかん食べながらnみかんでこたつ作ってみた</td>\n",
       "    </tr>\n",
       "    <tr>\n",
       "      <th>cluster 42</th>\n",
       "      <td>zdjfiiddueii</td>\n",
       "      <td>照れてるんすよ</td>\n",
       "      <td>uxxjxxjxjdhshsjc</td>\n",
       "      <td>ucidkjcixjxjjcj</td>\n",
       "      <td>ieiwosor</td>\n",
       "    </tr>\n",
       "    <tr>\n",
       "      <th>cluster 43</th>\n",
       "      <td>hahahahahahahahahahahahahahahahahahahahahahaha...</td>\n",
       "      <td>jajajajajajajajajajajajajajajajajajajajajajaja...</td>\n",
       "      <td>おなか空いたけどなんにもないorz</td>\n",
       "      <td>gooooooooooooooooooooooooooooooooooooooooooooo...</td>\n",
       "      <td>今度こそ失敗しないようにやらなきゃな</td>\n",
       "    </tr>\n",
       "    <tr>\n",
       "      <th>cluster 44</th>\n",
       "      <td>あなたが絵師にイラストを頼んでいたとして</td>\n",
       "      <td>雑誌その他広告多数出稿中無料のゲームや占いもテンコ盛りでひまつぶし</td>\n",
       "      <td>イオンおトクキャンペーン</td>\n",
       "      <td>女の子に暴力振るったらいけないってのは女の子は力が弱いからではなく</td>\n",
       "      <td>そろそろリア充どものfacebookにカップルやらの楽しげな写真が続々とアップされるという鬱...</td>\n",
       "    </tr>\n",
       "    <tr>\n",
       "      <th>cluster 45</th>\n",
       "      <td>uirtybvakuet</td>\n",
       "      <td>ｵﾔｽﾐｰ!ｼｬﾝﾊｰｲ</td>\n",
       "      <td>hnbgeuryg</td>\n",
       "      <td>huyreuytwtr</td>\n",
       "      <td>uhhglius</td>\n",
       "    </tr>\n",
       "    <tr>\n",
       "      <th>cluster 46</th>\n",
       "      <td>おかろーん</td>\n",
       "      <td>jcjxjd</td>\n",
       "      <td>もう寝るのか?おやすみ</td>\n",
       "      <td>このツイート見たらrtとお願いし</td>\n",
       "      <td>おいしくて太らない</td>\n",
       "    </tr>\n",
       "    <tr>\n",
       "      <th>cluster 47</th>\n",
       "      <td>おかろーん</td>\n",
       "      <td>振り向いたら二人</td>\n",
       "      <td>今日見たツボ親子</td>\n",
       "      <td>進撃の食物連鎖</td>\n",
       "      <td>もう寝るのか?おやすみ</td>\n",
       "    </tr>\n",
       "    <tr>\n",
       "      <th>cluster 48</th>\n",
       "      <td>振り向いたら二人</td>\n",
       "      <td>進撃の食物連鎖</td>\n",
       "      <td>おかろーん</td>\n",
       "      <td>jcjxjd</td>\n",
       "      <td>今日見たツボ親子</td>\n",
       "    </tr>\n",
       "    <tr>\n",
       "      <th>cluster 49</th>\n",
       "      <td>振り向いたら二人</td>\n",
       "      <td>おかろーん</td>\n",
       "      <td>integrationmonitor</td>\n",
       "      <td>もう寝るのか?おやすみ</td>\n",
       "      <td>新青梅街道沿いのragstationへ</td>\n",
       "    </tr>\n",
       "  </tbody>\n",
       "</table>\n",
       "</div>"
      ],
      "text/plain": [
       "                                                            0  \\\n",
       "cluster 0                                               おかろーん   \n",
       "cluster 1                                        万円稼いでみましょうかn   \n",
       "cluster 2                                             進撃の食物連鎖   \n",
       "cluster 3                                    uxxjxxjxjdhshsjc   \n",
       "cluster 4                                            振り向いたら二人   \n",
       "cluster 5                                  今度こそ失敗しないようにやらなきゃな   \n",
       "cluster 6                                               おかろーん   \n",
       "cluster 7                                           洋楽っていいよねｗ   \n",
       "cluster 8                                             nagemon   \n",
       "cluster 9                                                天神なう   \n",
       "cluster 10                                          dsandylio   \n",
       "cluster 11                                           振り向いたら二人   \n",
       "cluster 12                                        もう寝るのか?おやすみ   \n",
       "cluster 13                                              おかろーん   \n",
       "cluster 14                                          おいしくて太らない   \n",
       "cluster 15                                              おかろーん   \n",
       "cluster 16                 問題集とか解いてて答え写してるのがばれないようにわざと何問か間違える   \n",
       "cluster 17                                           振り向いたら二人   \n",
       "cluster 18                                              おかろーん   \n",
       "cluster 19                                              おかろーん   \n",
       "cluster 20                                              おかろーん   \n",
       "cluster 21                            知りたくないという方はn絶対に見ないでください   \n",
       "cluster 22                                            進撃の食物連鎖   \n",
       "cluster 23                                  twitterやってる人に聞きます   \n",
       "cluster 24                                            進撃の食物連鎖   \n",
       "cluster 25                                          おいしくて太らない   \n",
       "cluster 26                                           振り向いたら二人   \n",
       "cluster 27                                              おかろーん   \n",
       "cluster 28                                            進撃の食物連鎖   \n",
       "cluster 29                                              おかろーん   \n",
       "cluster 30         マリオに彼女ができて最近構ってくれなくなったから彼女拉致ったというまさかの設定だった   \n",
       "cluster 31                                              おかろーん   \n",
       "cluster 32                                            進撃の食物連鎖   \n",
       "cluster 33                                 integrationmonitor   \n",
       "cluster 34                                              おかろーん   \n",
       "cluster 35                                              おかろーん   \n",
       "cluster 36                                           ieiwosor   \n",
       "cluster 37                                            過去リクエスト   \n",
       "cluster 38                              itunesギフトコードを無料で得る方法n   \n",
       "cluster 39                                              おかろーん   \n",
       "cluster 40                                       utbvtqwuitrt   \n",
       "cluster 41                                新青梅街道沿いのragstationへ   \n",
       "cluster 42                                       zdjfiiddueii   \n",
       "cluster 43  hahahahahahahahahahahahahahahahahahahahahahaha...   \n",
       "cluster 44                               あなたが絵師にイラストを頼んでいたとして   \n",
       "cluster 45                                       uirtybvakuet   \n",
       "cluster 46                                              おかろーん   \n",
       "cluster 47                                              おかろーん   \n",
       "cluster 48                                           振り向いたら二人   \n",
       "cluster 49                                           振り向いたら二人   \n",
       "\n",
       "                                                            1  \\\n",
       "cluster 0                                    このツイート見たらrtとお願いし   \n",
       "cluster 1                                 新青梅街道沿いのragstationへ   \n",
       "cluster 2                                ecigbrandstarterkitn   \n",
       "cluster 3                                             iworkto   \n",
       "cluster 4                                           おいしくて太らない   \n",
       "cluster 5   gooooooooooooooooooooooooooooooooooooooooooooo...   \n",
       "cluster 6                                            振り向いたら二人   \n",
       "cluster 7                                 歌詞わかんないから気を取られないでｗｗ   \n",
       "cluster 8   誰か私のイメージイラストを描いてくれませんかなんて口が裂けても言えませんけどもし描いてくださ...   \n",
       "cluster 9                                              そうしますか   \n",
       "cluster 10                                       ｵﾔｽﾐｰ!ｼｬﾝﾊｰｲ   \n",
       "cluster 11                                        もう寝るのか?おやすみ   \n",
       "cluster 12                                              おかろーん   \n",
       "cluster 13                                            進撃の食物連鎖   \n",
       "cluster 14                                              おかろーん   \n",
       "cluster 15                                        もう寝るのか?おやすみ   \n",
       "cluster 16                                     ステキな出来事を探してブーム   \n",
       "cluster 17                                              おかろーん   \n",
       "cluster 18                                        もう寝るのか?おやすみ   \n",
       "cluster 19                                        もう寝るのか?おやすみ   \n",
       "cluster 20                                             jcjxjd   \n",
       "cluster 21                               お得な情報のダウンロードはここからですよ   \n",
       "cluster 22                                新青梅街道沿いのragstationへ   \n",
       "cluster 23  今日は亡くなった元カノの誕生日nラインだって返ってこないことn分かり切ってるけど必ず１日n一...   \n",
       "cluster 24                                           今日見たツボ親子   \n",
       "cluster 25                                           心眼は鍛えている   \n",
       "cluster 26                                              おかろーん   \n",
       "cluster 27                                           振り向いたら二人   \n",
       "cluster 28                                新青梅街道沿いのragstationへ   \n",
       "cluster 29                                新青梅街道沿いのragstationへ   \n",
       "cluster 30  そろそろリア充どものfacebookにカップルやらの楽しげな写真が続々とアップされるという鬱...   \n",
       "cluster 31                                新青梅街道沿いのragstationへ   \n",
       "cluster 32                                  twitterやってる人に聞きます   \n",
       "cluster 33                                             jcjxjd   \n",
       "cluster 34                                        もう寝るのか?おやすみ   \n",
       "cluster 35                                           振り向いたら二人   \n",
       "cluster 36                                           usiddkdk   \n",
       "cluster 37                                           出逢いの見つけ方   \n",
       "cluster 38                                     限の授業がおじいちゃん教授で   \n",
       "cluster 39                                           振り向いたら二人   \n",
       "cluster 40                                      uynnyulrtyulr   \n",
       "cluster 41                                   このツイート見たらrtとお願いし   \n",
       "cluster 42                                            照れてるんすよ   \n",
       "cluster 43  jajajajajajajajajajajajajajajajajajajajajajaja...   \n",
       "cluster 44                  雑誌その他広告多数出稿中無料のゲームや占いもテンコ盛りでひまつぶし   \n",
       "cluster 45                                       ｵﾔｽﾐｰ!ｼｬﾝﾊｰｲ   \n",
       "cluster 46                                             jcjxjd   \n",
       "cluster 47                                           振り向いたら二人   \n",
       "cluster 48                                            進撃の食物連鎖   \n",
       "cluster 49                                              おかろーん   \n",
       "\n",
       "                                                            2  \\\n",
       "cluster 0                                         もう寝るのか?おやすみ   \n",
       "cluster 1                                             進撃の食物連鎖   \n",
       "cluster 2                                            今日見たツボ親子   \n",
       "cluster 3                                        kdckddjeiqjj   \n",
       "cluster 4                                               おかろーん   \n",
       "cluster 5                                   おなか空いたけどなんにもないorz   \n",
       "cluster 6                                         もう寝るのか?おやすみ   \n",
       "cluster 7   hahahahahahahahahahahahahahahahahahahahahahaha...   \n",
       "cluster 8                                         どっちも入ってる人rt   \n",
       "cluster 9                      湯けむりの向こうだって俺のホークアイがあれば見え見えなんだぜ   \n",
       "cluster 10                                         jrghjekrsh   \n",
       "cluster 11                                              おかろーん   \n",
       "cluster 12                                       妹に算数の問題を教えてて   \n",
       "cluster 13                                             jcjxjd   \n",
       "cluster 14  ㅤnㅤnㅤnㅤnㅤnㅤnㅤnㅤnㅤnㅤnㅤnㅤnㅤnㅤnㅤnㅤnㅤnㅤnㅤnㅤnㅤnㅤnㅤn...   \n",
       "cluster 15                                新青梅街道沿いのragstationへ   \n",
       "cluster 16                                    絵を描く人なら経験済みであろう   \n",
       "cluster 17                                         気を付けていくんだぞ   \n",
       "cluster 18                                   このツイート見たらrtとお願いし   \n",
       "cluster 19                                新青梅街道沿いのragstationへ   \n",
       "cluster 20                                            進撃の食物連鎖   \n",
       "cluster 21                                    暇な方は是非挑んでみてください   \n",
       "cluster 22                                           今日見たツボ親子   \n",
       "cluster 23                                              おかろーん   \n",
       "cluster 24                                            блэкдже   \n",
       "cluster 25                           温暖化によって崩れる氷と共に死ぬしかないペンギン   \n",
       "cluster 26                                             jcjxjd   \n",
       "cluster 27                                            進撃の食物連鎖   \n",
       "cluster 28                                           今日見たツボ親子   \n",
       "cluster 29                                            進撃の食物連鎖   \n",
       "cluster 30                                この時代の日本人は何がしたかったんだよ   \n",
       "cluster 31                                ｇ１レースで確実に現金を手にする方法n   \n",
       "cluster 32                                           今日見たツボ親子   \n",
       "cluster 33                                              おかろーん   \n",
       "cluster 34                                           振り向いたら二人   \n",
       "cluster 35                                新青梅街道沿いのragstationへ   \n",
       "cluster 36                                            照れてるんすよ   \n",
       "cluster 37                                             jcjxjd   \n",
       "cluster 38                                    ドリンクメニューを更新しました   \n",
       "cluster 39                                新青梅街道沿いのragstationへ   \n",
       "cluster 40                                           我已经完成了任务   \n",
       "cluster 41                                            進撃の食物連鎖   \n",
       "cluster 42                                   uxxjxxjxjdhshsjc   \n",
       "cluster 43                                  おなか空いたけどなんにもないorz   \n",
       "cluster 44                                       イオンおトクキャンペーン   \n",
       "cluster 45                                          hnbgeuryg   \n",
       "cluster 46                                        もう寝るのか?おやすみ   \n",
       "cluster 47                                           今日見たツボ親子   \n",
       "cluster 48                                              おかろーん   \n",
       "cluster 49                                 integrationmonitor   \n",
       "\n",
       "                                                            3  \\\n",
       "cluster 0                                               shekf   \n",
       "cluster 1                                               おかろーん   \n",
       "cluster 2                                         ｵｷﾀｰ!ｼｬﾝﾊｰｲ   \n",
       "cluster 3                                            ieiwosor   \n",
       "cluster 4                                 新青梅街道沿いのragstationへ   \n",
       "cluster 5   hahahahahahahahahahahahahahahahahahahahahahaha...   \n",
       "cluster 6                                              jcjxjd   \n",
       "cluster 7                                   おなか空いたけどなんにもないorz   \n",
       "cluster 8                                      コンビニあるある思ったらrt   \n",
       "cluster 9                                             おつかれっすー   \n",
       "cluster 10                                      ツイート数稼ぎツール実行中   \n",
       "cluster 11                                       万円稼いでみましょうかn   \n",
       "cluster 12                                             jcjxjd   \n",
       "cluster 13                                   このツイート見たらrtとお願いし   \n",
       "cluster 14                                          こちらは爆撃垢です   \n",
       "cluster 15                                   このツイート見たらrtとお願いし   \n",
       "cluster 16                                              おかろーん   \n",
       "cluster 17                       今から４８時間以内に５万円の現金を確実にｇｅｔする方法n   \n",
       "cluster 18                                 integrationmonitor   \n",
       "cluster 19                                            進撃の食物連鎖   \n",
       "cluster 20                                新青梅街道沿いのragstationへ   \n",
       "cluster 21            nnサラリーマンの方に限らずほとんどの方がn継続的に安定収入を得られる方法とは   \n",
       "cluster 22                                              おかろーん   \n",
       "cluster 23                                        もう寝るのか?おやすみ   \n",
       "cluster 24  犬の首切ってあほみたいな事してる写真あんねやけどn俺そいつ探してでもほんまに殺したいnなんも...   \n",
       "cluster 25                                      絶対に似てないと思う人rt   \n",
       "cluster 26                                        もう寝るのか?おやすみ   \n",
       "cluster 27                                           今日見たツボ親子   \n",
       "cluster 28                                             jcjxjd   \n",
       "cluster 29                                       万円稼いでみましょうかn   \n",
       "cluster 30                                      過去最高動員を記録した公演   \n",
       "cluster 31                             私のモノにならなくていいそばに居るだけでいい   \n",
       "cluster 32                                      絶対に似てないと思う人rt   \n",
       "cluster 33                                          いろいろrtします   \n",
       "cluster 34                                            nagemon   \n",
       "cluster 35                                            進撃の食物連鎖   \n",
       "cluster 36                                   uxxjxxjxjdhshsjc   \n",
       "cluster 37                                           振り向いたら二人   \n",
       "cluster 38                                       博多船だまりの現在の潮は   \n",
       "cluster 39                                        もう寝るのか?おやすみ   \n",
       "cluster 40                                      yubtruytruyrt   \n",
       "cluster 41                                              おかろーん   \n",
       "cluster 42                                    ucidkjcixjxjjcj   \n",
       "cluster 43  gooooooooooooooooooooooooooooooooooooooooooooo...   \n",
       "cluster 44                  女の子に暴力振るったらいけないってのは女の子は力が弱いからではなく   \n",
       "cluster 45                                        huyreuytwtr   \n",
       "cluster 46                                   このツイート見たらrtとお願いし   \n",
       "cluster 47                                            進撃の食物連鎖   \n",
       "cluster 48                                             jcjxjd   \n",
       "cluster 49                                        もう寝るのか?おやすみ   \n",
       "\n",
       "                                                            4  \n",
       "cluster 0                                 新青梅街道沿いのragstationへ  \n",
       "cluster 1                                              jcjxjd  \n",
       "cluster 2                                  ひき逃げされた女がいるユニットワロタ  \n",
       "cluster 3                                               ckffk  \n",
       "cluster 4                                              jcjxjd  \n",
       "cluster 5   jajajajajajajajajajajajajajajajajajajajajajaja...  \n",
       "cluster 6                                  integrationmonitor  \n",
       "cluster 7                                  今度こそ失敗しないようにやらなきゃな  \n",
       "cluster 8                                     このcm覚えてたら絶対同世代w  \n",
       "cluster 9                                              おはありよー  \n",
       "cluster 10                                        uvtlbuywliu  \n",
       "cluster 11                                新青梅街道沿いのragstationへ  \n",
       "cluster 12                                          親切な動画取説付き  \n",
       "cluster 13                                           振り向いたら二人  \n",
       "cluster 14                                           モンハン４裏ワザ  \n",
       "cluster 15  tㅤㅤㅤㅤㅤㅤㅤㅤㅤㅤㅤㅤㅤㅤㅤㅤㅤㅤㅤㅤㅤㅤㅤㅤㅤㅤㅤㅤㅤㅤㅤㅤㅤéㅤㅤㅤㅤㅤㅤㅤㅤㅤㅤㅤ...  \n",
       "cluster 16                                              dhddj  \n",
       "cluster 17                                             jcjxjd  \n",
       "cluster 18                                新青梅街道沿いのragstationへ  \n",
       "cluster 19                          wチャンスにチャレンジしてzaガールに近づきました  \n",
       "cluster 20                               ecigbrandstarterkitn  \n",
       "cluster 21                            このノーリスクの方法を実践するだけで良いのです  \n",
       "cluster 22                                      絶対に似てないと思う人rt  \n",
       "cluster 23                                     ショッピングサイトやってます  \n",
       "cluster 24                          こたつでみかん食べながらnみかんでこたつ作ってみた  \n",
       "cluster 25                     tnennngnonngnannnansnndnenntni  \n",
       "cluster 26                                            進撃の食物連鎖  \n",
       "cluster 27                                        もう寝るのか?おやすみ  \n",
       "cluster 28                                              リッチ瞑想  \n",
       "cluster 29                                            nagemon  \n",
       "cluster 30                                    意識ビンビンで気を張ってるのに  \n",
       "cluster 31                                           ieiwosor  \n",
       "cluster 32                                          いろいろrtします  \n",
       "cluster 33                               ecigbrandstarterkitn  \n",
       "cluster 34                                 хочудождливуюосень  \n",
       "cluster 35                                             jcjxjd  \n",
       "cluster 36                                            sikorkk  \n",
       "cluster 37                                          親切な動画取説付き  \n",
       "cluster 38                                         nezumidobu  \n",
       "cluster 39                                       万円稼いでみましょうかn  \n",
       "cluster 40                                               ブスくれ  \n",
       "cluster 41                          こたつでみかん食べながらnみかんでこたつ作ってみた  \n",
       "cluster 42                                           ieiwosor  \n",
       "cluster 43                                 今度こそ失敗しないようにやらなきゃな  \n",
       "cluster 44  そろそろリア充どものfacebookにカップルやらの楽しげな写真が続々とアップされるという鬱...  \n",
       "cluster 45                                           uhhglius  \n",
       "cluster 46                                          おいしくて太らない  \n",
       "cluster 47                                        もう寝るのか?おやすみ  \n",
       "cluster 48                                           今日見たツボ親子  \n",
       "cluster 49                                新青梅街道沿いのragstationへ  "
      ]
     },
     "execution_count": 284,
     "metadata": {},
     "output_type": "execute_result"
    }
   ],
   "source": [
    "# look at the top words per cluster... these are all japanese...\n",
    "num_words = 5\n",
    "top_words_per_cluster = pd.DataFrame({})\n",
    "for idx in range(num_clusters):\n",
    "    top_words_per_cluster[f'cluster {idx}'] = df_gv.sort_values(f'cluster_dist_{idx}').labels[:num_words].values\n",
    "top_words_per_cluster = top_words_per_cluster.T\n",
    "top_words_per_cluster"
   ]
  },
  {
   "cell_type": "markdown",
   "id": "7b20c44b-9d1b-48cd-bd8a-24fde96358f9",
   "metadata": {},
   "source": [
    "Okay, a smarter thing to do is only use words in glove which also appear in our dataset. That makes a lot more sense than doing this all raw on glove."
   ]
  },
  {
   "cell_type": "markdown",
   "id": "3f5e9352-7999-4810-8d2c-111ddeb53106",
   "metadata": {},
   "source": [
    "## new sentence embeddings"
   ]
  },
  {
   "cell_type": "markdown",
   "id": "7f3ac2d7-cca3-4907-ab7f-7844d29d4cea",
   "metadata": {
    "tags": []
   },
   "source": [
    "### building vector-output sentence embedding"
   ]
  },
  {
   "cell_type": "code",
   "execution_count": 436,
   "id": "0ee2ce3e-5802-43f7-83b8-cbd15e0c4748",
   "metadata": {
    "tags": []
   },
   "outputs": [
    {
     "name": "stdout",
     "output_type": "stream",
     "text": [
      "CPU times: total: 1min 30s\n",
      "Wall time: 1min 30s\n"
     ]
    }
   ],
   "source": [
    "%%time\n",
    "# import model\n",
    "gv = gensim.downloader.load('glove-twitter-200')"
   ]
  },
  {
   "cell_type": "code",
   "execution_count": 55,
   "id": "d158ee38-3260-4068-8acc-49710ff22598",
   "metadata": {},
   "outputs": [],
   "source": [
    "# these are a few representative words\n",
    "DIRTY_WORDS = ('disgusting','smelly','rotten','nasty','gross','dirty','undercooked','moldy','puke','sick','unhealthy')\n",
    "PEST_WORDS = ('rat','bugs','cockroach','fly','ant','flea','insect','infestation','infest')\n",
    "CLEAN_WORDS = ('clean','pristine','immaculate','organized','fresh')\n",
    "# average vector of these words\n",
    "DIRTY_VECTOR = np.mean(np.array([gv[w] for w in DIRTY_WORDS]),axis=0)\n",
    "PEST_VECTOR = np.mean(np.array([gv[w] for w in PEST_WORDS]),axis=0)"
   ]
  },
  {
   "cell_type": "code",
   "execution_count": 12,
   "id": "91138503-7b60-459f-85f4-f7bd61e88b7e",
   "metadata": {
    "tags": []
   },
   "outputs": [],
   "source": [
    "## clean up text\n",
    "STOP_WORDS = STOP_WORDS.union({'ll', 've','s','id'})\n",
    "\n",
    "# DON'T stem/lemmatize here because the glove_vectors vocabulary doesn't do that\n",
    "def text_cleaner(s):\n",
    "    s = re.sub('<[^<]+?>', '', s.lower()) # remove tags\n",
    "    # remove stop words\n",
    "    s = re.sub('[^a-z\\s\\n]', '', s)\n",
    "    s = s.split()\n",
    "    # spacy stop words are a little more complete than gsp stop words\n",
    "    s = [w for w in s if not w in STOP_WORDS]\n",
    "    return s"
   ]
  },
  {
   "cell_type": "code",
   "execution_count": null,
   "id": "5e8547aa-6260-46cf-a498-93146ffdad93",
   "metadata": {
    "tags": []
   },
   "outputs": [
    {
     "data": {
      "text/plain": [
       "['expected',\n",
       " 'dingy',\n",
       " 'clean',\n",
       " 'overall',\n",
       " 'service',\n",
       " 'par',\n",
       " 'focus',\n",
       " 'serving',\n",
       " 'bar',\n",
       " 'tables',\n",
       " 'table',\n",
       " 'dirty',\n",
       " 'sticky',\n",
       " 'menu',\n",
       " 'disgusting',\n",
       " 'touch',\n",
       " 'food',\n",
       " 'okay']"
      ]
     },
     "execution_count": 14,
     "metadata": {},
     "output_type": "execute_result"
    }
   ],
   "source": [
    "text = bad_reviews[5]\n",
    "words = text_cleaner(text)\n",
    "words"
   ]
  },
  {
   "cell_type": "code",
   "execution_count": 20,
   "id": "8c5f9c26-6506-466a-9c8a-c785a04ce4b4",
   "metadata": {},
   "outputs": [],
   "source": [
    "def review2vec(doc, method='list'):\n",
    "    \"\"\"\n",
    "        Applies word2vec on each word of the review\n",
    "        Returns a list of vectors, oops\n",
    "    \"\"\"\n",
    "    vecs = []\n",
    "    keys = []\n",
    "    for w in doc:\n",
    "        if w in ('food','like'):\n",
    "            continue\n",
    "        try:\n",
    "            vec = gv[w]\n",
    "        except KeyError: # if glove doesn't have a vector\n",
    "            continue\n",
    "        vecs.append(vec)\n",
    "        keys.append(w)\n",
    "    if vecs: \n",
    "        vecs = np.asarray(vecs)\n",
    "        if method=='mean':\n",
    "            return np.mean(vecs,axis=0)\n",
    "        elif method=='list':\n",
    "            return vecs\n",
    "        elif method=='keys_too':\n",
    "            return vecs, keys\n",
    "    if not vecs:\n",
    "        return None\n",
    "\n",
    "def vec_similarity(vec1, vec2):\n",
    "    \"\"\"\n",
    "        Dot product of two unit vectors to get similarity between them, same implementation as gensim similarity\n",
    "    \"\"\"\n",
    "    return np.dot(matutils.unitvec(vec1),matutils.unitvec(vec2))"
   ]
  },
  {
   "cell_type": "code",
   "execution_count": 162,
   "id": "94b4d2cd-e60f-4592-a671-cf6e282e4ffd",
   "metadata": {},
   "outputs": [],
   "source": [
    "vecs, words = review2vec(text_cleaner(text), 'keys_too')\n",
    "# dataframe for each review\n",
    "df = pd.DataFrame()\n",
    "df['words'] = words\n",
    "df['vec'] = list(vecs)\n",
    "df['dirty_sim'] = df.vec.apply(lambda v: vec_similarity(DIRTY_VECTOR, v))\n",
    "df['pest_sim'] = df.vec.apply(lambda v: vec_similarity(PEST_VECTOR, v))\n",
    "df['both_sim'] = df[['dirty_sim','pest_sim']].max(axis=1)"
   ]
  },
  {
   "cell_type": "code",
   "execution_count": 163,
   "id": "68e35960-01f6-4bf6-9d4a-0045668f555c",
   "metadata": {},
   "outputs": [
    {
     "data": {
      "text/html": [
       "<div>\n",
       "<style scoped>\n",
       "    .dataframe tbody tr th:only-of-type {\n",
       "        vertical-align: middle;\n",
       "    }\n",
       "\n",
       "    .dataframe tbody tr th {\n",
       "        vertical-align: top;\n",
       "    }\n",
       "\n",
       "    .dataframe thead th {\n",
       "        text-align: right;\n",
       "    }\n",
       "</style>\n",
       "<table border=\"1\" class=\"dataframe\">\n",
       "  <thead>\n",
       "    <tr style=\"text-align: right;\">\n",
       "      <th></th>\n",
       "      <th>words</th>\n",
       "      <th>vec</th>\n",
       "      <th>dirty_sim</th>\n",
       "      <th>pest_sim</th>\n",
       "      <th>both_sim</th>\n",
       "    </tr>\n",
       "  </thead>\n",
       "  <tbody>\n",
       "    <tr>\n",
       "      <th>0</th>\n",
       "      <td>expected</td>\n",
       "      <td>[0.24006, 0.2262, -0.2776, -0.038049, -0.45329...</td>\n",
       "      <td>0.341126</td>\n",
       "      <td>0.262394</td>\n",
       "      <td>0.341126</td>\n",
       "    </tr>\n",
       "    <tr>\n",
       "      <th>1</th>\n",
       "      <td>dingy</td>\n",
       "      <td>[-0.13304, -0.27433, -0.40074, 0.57521, 0.4377...</td>\n",
       "      <td>0.304644</td>\n",
       "      <td>0.165108</td>\n",
       "      <td>0.304644</td>\n",
       "    </tr>\n",
       "    <tr>\n",
       "      <th>2</th>\n",
       "      <td>clean</td>\n",
       "      <td>[0.2816, -0.59271, -0.25537, 0.043748, 0.22566...</td>\n",
       "      <td>0.578693</td>\n",
       "      <td>0.346939</td>\n",
       "      <td>0.578693</td>\n",
       "    </tr>\n",
       "    <tr>\n",
       "      <th>3</th>\n",
       "      <td>overall</td>\n",
       "      <td>[0.44553, 0.10951, 0.35539, -0.074633, 0.07382...</td>\n",
       "      <td>0.295437</td>\n",
       "      <td>0.171672</td>\n",
       "      <td>0.295437</td>\n",
       "    </tr>\n",
       "    <tr>\n",
       "      <th>4</th>\n",
       "      <td>service</td>\n",
       "      <td>[-0.25105, 0.18383, -0.79729, -0.0046365, 0.46...</td>\n",
       "      <td>0.253633</td>\n",
       "      <td>0.197180</td>\n",
       "      <td>0.253633</td>\n",
       "    </tr>\n",
       "    <tr>\n",
       "      <th>5</th>\n",
       "      <td>par</td>\n",
       "      <td>[0.53636, -0.043918, -0.45223, 0.70945, 0.3208...</td>\n",
       "      <td>0.062923</td>\n",
       "      <td>0.026510</td>\n",
       "      <td>0.062923</td>\n",
       "    </tr>\n",
       "    <tr>\n",
       "      <th>6</th>\n",
       "      <td>focus</td>\n",
       "      <td>[0.48133, -0.086371, -0.063905, -0.4157, -0.18...</td>\n",
       "      <td>0.188764</td>\n",
       "      <td>0.183415</td>\n",
       "      <td>0.188764</td>\n",
       "    </tr>\n",
       "    <tr>\n",
       "      <th>7</th>\n",
       "      <td>serving</td>\n",
       "      <td>[-0.33155, -0.18623, 0.22195, 0.10346, 0.00071...</td>\n",
       "      <td>0.312670</td>\n",
       "      <td>0.231098</td>\n",
       "      <td>0.312670</td>\n",
       "    </tr>\n",
       "    <tr>\n",
       "      <th>8</th>\n",
       "      <td>bar</td>\n",
       "      <td>[-0.081597, -0.56576, 0.67575, -0.011582, 0.17...</td>\n",
       "      <td>0.252322</td>\n",
       "      <td>0.298360</td>\n",
       "      <td>0.298360</td>\n",
       "    </tr>\n",
       "    <tr>\n",
       "      <th>9</th>\n",
       "      <td>tables</td>\n",
       "      <td>[-0.26163, -0.25791, -0.10969, 0.34378, 0.6004...</td>\n",
       "      <td>0.277750</td>\n",
       "      <td>0.242505</td>\n",
       "      <td>0.277750</td>\n",
       "    </tr>\n",
       "    <tr>\n",
       "      <th>10</th>\n",
       "      <td>table</td>\n",
       "      <td>[-0.134, -0.33646, 0.54234, -0.38614, 0.35032,...</td>\n",
       "      <td>0.307447</td>\n",
       "      <td>0.259462</td>\n",
       "      <td>0.307447</td>\n",
       "    </tr>\n",
       "    <tr>\n",
       "      <th>11</th>\n",
       "      <td>dirty</td>\n",
       "      <td>[-0.26558, -0.18975, 0.20598, 0.47468, -0.1166...</td>\n",
       "      <td>0.755413</td>\n",
       "      <td>0.379091</td>\n",
       "      <td>0.755413</td>\n",
       "    </tr>\n",
       "    <tr>\n",
       "      <th>12</th>\n",
       "      <td>sticky</td>\n",
       "      <td>[-0.54832, -0.72317, 0.16643, 0.2091, 0.51029,...</td>\n",
       "      <td>0.532019</td>\n",
       "      <td>0.308301</td>\n",
       "      <td>0.532019</td>\n",
       "    </tr>\n",
       "    <tr>\n",
       "      <th>13</th>\n",
       "      <td>menu</td>\n",
       "      <td>[-0.60758, 0.12396, -0.23474, 0.30624, 0.30748...</td>\n",
       "      <td>0.216303</td>\n",
       "      <td>0.174449</td>\n",
       "      <td>0.216303</td>\n",
       "    </tr>\n",
       "    <tr>\n",
       "      <th>14</th>\n",
       "      <td>disgusting</td>\n",
       "      <td>[0.11532, -0.6701, -0.14562, 0.33496, -0.29323...</td>\n",
       "      <td>0.849937</td>\n",
       "      <td>0.385577</td>\n",
       "      <td>0.849937</td>\n",
       "    </tr>\n",
       "    <tr>\n",
       "      <th>15</th>\n",
       "      <td>touch</td>\n",
       "      <td>[-0.50341, -0.095619, 0.27554, 0.10022, -0.219...</td>\n",
       "      <td>0.387421</td>\n",
       "      <td>0.339145</td>\n",
       "      <td>0.387421</td>\n",
       "    </tr>\n",
       "    <tr>\n",
       "      <th>16</th>\n",
       "      <td>okay</td>\n",
       "      <td>[0.040361, -0.22445, -0.15085, 0.00074097, -0....</td>\n",
       "      <td>0.419551</td>\n",
       "      <td>0.234562</td>\n",
       "      <td>0.419551</td>\n",
       "    </tr>\n",
       "  </tbody>\n",
       "</table>\n",
       "</div>"
      ],
      "text/plain": [
       "         words                                                vec  dirty_sim  \\\n",
       "0     expected  [0.24006, 0.2262, -0.2776, -0.038049, -0.45329...   0.341126   \n",
       "1        dingy  [-0.13304, -0.27433, -0.40074, 0.57521, 0.4377...   0.304644   \n",
       "2        clean  [0.2816, -0.59271, -0.25537, 0.043748, 0.22566...   0.578693   \n",
       "3      overall  [0.44553, 0.10951, 0.35539, -0.074633, 0.07382...   0.295437   \n",
       "4      service  [-0.25105, 0.18383, -0.79729, -0.0046365, 0.46...   0.253633   \n",
       "5          par  [0.53636, -0.043918, -0.45223, 0.70945, 0.3208...   0.062923   \n",
       "6        focus  [0.48133, -0.086371, -0.063905, -0.4157, -0.18...   0.188764   \n",
       "7      serving  [-0.33155, -0.18623, 0.22195, 0.10346, 0.00071...   0.312670   \n",
       "8          bar  [-0.081597, -0.56576, 0.67575, -0.011582, 0.17...   0.252322   \n",
       "9       tables  [-0.26163, -0.25791, -0.10969, 0.34378, 0.6004...   0.277750   \n",
       "10       table  [-0.134, -0.33646, 0.54234, -0.38614, 0.35032,...   0.307447   \n",
       "11       dirty  [-0.26558, -0.18975, 0.20598, 0.47468, -0.1166...   0.755413   \n",
       "12      sticky  [-0.54832, -0.72317, 0.16643, 0.2091, 0.51029,...   0.532019   \n",
       "13        menu  [-0.60758, 0.12396, -0.23474, 0.30624, 0.30748...   0.216303   \n",
       "14  disgusting  [0.11532, -0.6701, -0.14562, 0.33496, -0.29323...   0.849937   \n",
       "15       touch  [-0.50341, -0.095619, 0.27554, 0.10022, -0.219...   0.387421   \n",
       "16        okay  [0.040361, -0.22445, -0.15085, 0.00074097, -0....   0.419551   \n",
       "\n",
       "    pest_sim  both_sim  \n",
       "0   0.262394  0.341126  \n",
       "1   0.165108  0.304644  \n",
       "2   0.346939  0.578693  \n",
       "3   0.171672  0.295437  \n",
       "4   0.197180  0.253633  \n",
       "5   0.026510  0.062923  \n",
       "6   0.183415  0.188764  \n",
       "7   0.231098  0.312670  \n",
       "8   0.298360  0.298360  \n",
       "9   0.242505  0.277750  \n",
       "10  0.259462  0.307447  \n",
       "11  0.379091  0.755413  \n",
       "12  0.308301  0.532019  \n",
       "13  0.174449  0.216303  \n",
       "14  0.385577  0.849937  \n",
       "15  0.339145  0.387421  \n",
       "16  0.234562  0.419551  "
      ]
     },
     "execution_count": 163,
     "metadata": {},
     "output_type": "execute_result"
    }
   ],
   "source": [
    "df"
   ]
  },
  {
   "cell_type": "code",
   "execution_count": 207,
   "id": "fb25cfb5-c46e-4e9d-a514-89bb32b21d2e",
   "metadata": {},
   "outputs": [],
   "source": [
    "# aggregate word vectors to make a review vector\n",
    "# average the vectors from the top 15% of words closest to PEST_VECTOR or DIRTY_VECTOR\n",
    "ll = len(df)\n",
    "bound = min(math.ceil(ll*0.15),25)\n",
    "top15_sim = df.sort_values('both_sim',ascending=False)\n",
    "df_agg = pd.DataFrame([np.mean(top15_sim.vec)])\n",
    "df_agg['mean_sim'] = np.mean(top15_sim.both_sim)\n",
    "df_agg['pest_sim'] = np.mean(top15_sim.pest_sim)\n",
    "df_agg['dirty_sim'] = np.mean(top15_sim.dirty_sim)"
   ]
  },
  {
   "cell_type": "code",
   "execution_count": 208,
   "id": "223e04a6-b8b2-4d6d-8bae-9c53533117bc",
   "metadata": {},
   "outputs": [
    {
     "data": {
      "text/html": [
       "<div>\n",
       "<style scoped>\n",
       "    .dataframe tbody tr th:only-of-type {\n",
       "        vertical-align: middle;\n",
       "    }\n",
       "\n",
       "    .dataframe tbody tr th {\n",
       "        vertical-align: top;\n",
       "    }\n",
       "\n",
       "    .dataframe thead th {\n",
       "        text-align: right;\n",
       "    }\n",
       "</style>\n",
       "<table border=\"1\" class=\"dataframe\">\n",
       "  <thead>\n",
       "    <tr style=\"text-align: right;\">\n",
       "      <th></th>\n",
       "      <th>0</th>\n",
       "      <th>1</th>\n",
       "      <th>2</th>\n",
       "      <th>3</th>\n",
       "      <th>4</th>\n",
       "      <th>5</th>\n",
       "      <th>6</th>\n",
       "      <th>7</th>\n",
       "      <th>8</th>\n",
       "      <th>9</th>\n",
       "      <th>...</th>\n",
       "      <th>193</th>\n",
       "      <th>194</th>\n",
       "      <th>195</th>\n",
       "      <th>196</th>\n",
       "      <th>197</th>\n",
       "      <th>198</th>\n",
       "      <th>199</th>\n",
       "      <th>mean_sim</th>\n",
       "      <th>pest_sim</th>\n",
       "      <th>dirty_sim</th>\n",
       "    </tr>\n",
       "  </thead>\n",
       "  <tbody>\n",
       "    <tr>\n",
       "      <th>0</th>\n",
       "      <td>-0.057482</td>\n",
       "      <td>-0.211957</td>\n",
       "      <td>-0.026156</td>\n",
       "      <td>0.133579</td>\n",
       "      <td>0.091525</td>\n",
       "      <td>0.055019</td>\n",
       "      <td>0.476415</td>\n",
       "      <td>-0.216702</td>\n",
       "      <td>-0.180483</td>\n",
       "      <td>-0.036918</td>\n",
       "      <td>...</td>\n",
       "      <td>-0.07474</td>\n",
       "      <td>0.14004</td>\n",
       "      <td>-0.093231</td>\n",
       "      <td>0.055606</td>\n",
       "      <td>0.096667</td>\n",
       "      <td>0.010448</td>\n",
       "      <td>-0.086859</td>\n",
       "      <td>0.375417</td>\n",
       "      <td>0.247398</td>\n",
       "      <td>0.372709</td>\n",
       "    </tr>\n",
       "  </tbody>\n",
       "</table>\n",
       "<p>1 rows × 203 columns</p>\n",
       "</div>"
      ],
      "text/plain": [
       "          0         1         2         3         4         5         6  \\\n",
       "0 -0.057482 -0.211957 -0.026156  0.133579  0.091525  0.055019  0.476415   \n",
       "\n",
       "          7         8         9  ...      193      194       195       196  \\\n",
       "0 -0.216702 -0.180483 -0.036918  ... -0.07474  0.14004 -0.093231  0.055606   \n",
       "\n",
       "        197       198       199  mean_sim  pest_sim  dirty_sim  \n",
       "0  0.096667  0.010448 -0.086859  0.375417  0.247398   0.372709  \n",
       "\n",
       "[1 rows x 203 columns]"
      ]
     },
     "execution_count": 208,
     "metadata": {},
     "output_type": "execute_result"
    }
   ],
   "source": [
    "df_agg"
   ]
  },
  {
   "cell_type": "code",
   "execution_count": 309,
   "id": "b7c73329-cbae-4827-b023-9fe748f375c3",
   "metadata": {},
   "outputs": [],
   "source": [
    "def review_model_vec(text, method='top_percent_df', percent=0.15):\n",
    "    \"\"\"\n",
    "        Cleans text, vectorizes words, measures cosine distance to selected DIRTY_WORDS and PEST_WORDS, and calculates aggregate features.\n",
    "        Output is a dataframe of one row\n",
    "    \"\"\"\n",
    "    vecs = review2vec(text_cleaner(text), 'list')\n",
    "    \n",
    "    # corner case: all words are not in the vocabulary (i.e., different language, short reviews, typo-ridden reviews, etc.)\n",
    "    if vecs is None:\n",
    "        return pd.DataFrame([np.nan]) # still return something so we keep the indexing\n",
    "\n",
    "    # dataframe for each review\n",
    "    df = pd.DataFrame()\n",
    "    # df['words'] = words\n",
    "    df['vec'] = list(vecs)\n",
    "    df['dirty_sim'] = df.vec.apply(lambda v: vec_similarity(DIRTY_VECTOR, v))\n",
    "    df['pest_sim'] = df.vec.apply(lambda v: vec_similarity(PEST_VECTOR, v))\n",
    "    df['both_sim'] = df[['dirty_sim','pest_sim']].max(axis=1)\n",
    "\n",
    "    # aggregate word vectors to make a review vector\n",
    "    # average the vectors from the top {percent}% of words closest to PEST_VECTOR or DIRTY_VECTOR\n",
    "    ll = len(df)\n",
    "    if method == 'top_percent_df':\n",
    "        # don't take too many words if the review is insanely long\n",
    "        bound = min(math.ceil(ll*percent),25)\n",
    "        top_percent_sim = df.sort_values('both_sim',ascending=False)[0:bound]\n",
    "        df_agg = pd.DataFrame([np.mean(top_percent_sim.vec)])\n",
    "        df_agg['both_sim'] = np.mean(top_percent_sim.both_sim)\n",
    "        df_agg['pest_sim'] = np.mean(top_percent_sim.pest_sim)\n",
    "        df_agg['dirty_sim'] = np.mean(top_percent_sim.dirty_sim)\n",
    "        return df_agg\n",
    "    elif method == 'mean_df':\n",
    "        df_agg = pd.DataFrame([np.mean(df.vec)])\n",
    "        df_agg['both_sim'] = np.mean(df.both_sim)\n",
    "        df_agg['pest_sim'] = np.mean(df.pest_sim)\n",
    "        df_agg['dirty_sim'] = np.mean(df.dirty_sim)\n",
    "        return df_agg\n",
    "    if method == 'max_df':\n",
    "        # only take the vector of ONE word per review\n",
    "        max_row = df.sort_values('both_sim',ascending=False).iloc[0]\n",
    "        return pd.DataFrame(max_row[['vec','dirty_sim','pest_sim','both_sim']]).T.reset_index()\n",
    "    else: #method == number\n",
    "        bound = min(math.ceil(ll*percent),25)\n",
    "        top_percent_sim = df.sort_values('both_sim',ascending=False)[0:bound]\n",
    "        return np.mean(top_percent_sim.both_sim)"
   ]
  },
  {
   "cell_type": "code",
   "execution_count": 312,
   "id": "f04e9d50-a5ba-4c14-b7fe-e9374543710e",
   "metadata": {},
   "outputs": [],
   "source": [
    "# apply review model to each review\n",
    "good_features = pd.concat(map(lambda x: review_model_vec(x,'top_percent_df',0.1), good_reviews))\n",
    "bad_features = pd.concat(map(lambda x: review_model_vec(x,'top_percent_df',0.1), bad_reviews+['','blahb lahblll, blah']))"
   ]
  },
  {
   "cell_type": "code",
   "execution_count": 441,
   "id": "1d36d641-c9a6-4058-8e53-78b3511c3408",
   "metadata": {},
   "outputs": [
    {
     "data": {
      "text/plain": [
       "'Expected more. Seemed dingy. Not very clean overall. Service was not up to par. They seemed to be more focus on serving those at the bar then at the tables. Our table was dirty, sticky. Menu was disgusting to the touch. The food was okay. Will not go again.'"
      ]
     },
     "execution_count": 441,
     "metadata": {},
     "output_type": "execute_result"
    }
   ],
   "source": [
    "bad_reviews[np.argmax(bad_features.both_sim)]"
   ]
  },
  {
   "cell_type": "code",
   "execution_count": 248,
   "id": "3260ae14-a460-4020-9c15-152aca14a3da",
   "metadata": {},
   "outputs": [
    {
     "data": {
      "text/plain": [
       "0.6438374784257677"
      ]
     },
     "execution_count": 248,
     "metadata": {},
     "output_type": "execute_result"
    }
   ],
   "source": [
    "np.mean(bad_features.both_sim)"
   ]
  },
  {
   "cell_type": "code",
   "execution_count": 249,
   "id": "3b10c46d-3a33-4bc8-a396-10c73edeba68",
   "metadata": {},
   "outputs": [
    {
     "data": {
      "text/plain": [
       "0.5546507920537677"
      ]
     },
     "execution_count": 249,
     "metadata": {},
     "output_type": "execute_result"
    }
   ],
   "source": [
    "np.mean(good_features.both_sim)"
   ]
  },
  {
   "cell_type": "markdown",
   "id": "b57e7470-4e08-4c9a-b553-1ec468174bf8",
   "metadata": {
    "jp-MarkdownHeadingCollapsed": true,
    "tags": []
   },
   "source": [
    "### filter data by language"
   ]
  },
  {
   "cell_type": "markdown",
   "id": "ef10b1d2-6642-4834-93b2-ed62b37238c9",
   "metadata": {},
   "source": [
    "There are many reviews not in English which mess up the cleanliness score calculation (different language == very clean). Let's take them out."
   ]
  },
  {
   "cell_type": "code",
   "execution_count": 1162,
   "id": "5d89604e-ae7d-4190-a0fd-f075d0d43a0a",
   "metadata": {},
   "outputs": [],
   "source": [
    "from langdetect import DetectorFactory\n",
    "DetectorFactory.seed = 0\n",
    "from langdetect import detect, detect_langs"
   ]
  },
  {
   "cell_type": "code",
   "execution_count": 1210,
   "id": "7cd58732-b183-43a0-92ef-b08b751fa8fc",
   "metadata": {},
   "outputs": [],
   "source": [
    "# language finding doesn't work well with only a few words\n",
    "df_filtered = df[df.text.apply(len) >= 10]"
   ]
  },
  {
   "cell_type": "code",
   "execution_count": 1211,
   "id": "efe86f0f-5ad7-44e4-a52e-1adfd7d0727d",
   "metadata": {},
   "outputs": [
    {
     "name": "stdout",
     "output_type": "stream",
     "text": [
      "CPU times: total: 26min 56s\n",
      "Wall time: 26min 57s\n"
     ]
    }
   ],
   "source": [
    "%%time\n",
    "languages = df_filtered['text'].apply(detect)"
   ]
  },
  {
   "cell_type": "code",
   "execution_count": 1212,
   "id": "ae98b6b3-5f6e-405c-8b03-499d69d20258",
   "metadata": {},
   "outputs": [],
   "source": [
    "df_lang = df_filtered.copy()\n",
    "df_lang['language'] = languages"
   ]
  },
  {
   "cell_type": "code",
   "execution_count": 1213,
   "id": "6917ead0-0706-4c1f-94f5-ea137da9e0da",
   "metadata": {},
   "outputs": [],
   "source": [
    "df_lang.to_csv(processed_data_directory + 'reviews_nearest_score_no_limit_df_languages.csv', index=False)"
   ]
  },
  {
   "cell_type": "markdown",
   "id": "f785f910-226a-41b8-afb6-d181aa1457b7",
   "metadata": {},
   "source": [
    "### run on data"
   ]
  },
  {
   "cell_type": "code",
   "execution_count": 333,
   "id": "17b16e95-1f19-4892-9c01-dc90518a09a7",
   "metadata": {},
   "outputs": [
    {
     "name": "stdout",
     "output_type": "stream",
     "text": [
      "570596\n",
      "569998\n"
     ]
    }
   ],
   "source": [
    "df = pd.read_csv(processed_data_directory + 'reviews_nearest_score_no_limit_df_languages.csv')\n",
    "print(len(df))\n",
    "df = df[df.language == 'en'].reset_index(drop=True)\n",
    "print(len(df))"
   ]
  },
  {
   "cell_type": "code",
   "execution_count": 335,
   "id": "4bd6dbd1-8298-4332-9262-889481410fb7",
   "metadata": {},
   "outputs": [
    {
     "name": "stdout",
     "output_type": "stream",
     "text": [
      "CPU times: total: 52min 46s\n",
      "Wall time: 52min 47s\n"
     ]
    }
   ],
   "source": [
    "%%time\n",
    "corpus = df.text\n",
    "features = pd.concat(map(lambda x: review_model_vec(x,'top_percent_df',0.15), corpus))"
   ]
  },
  {
   "cell_type": "code",
   "execution_count": 336,
   "id": "189e4ca4-829b-40ae-9fd0-86f7580361c4",
   "metadata": {},
   "outputs": [],
   "source": [
    "features.to_csv(model_directory + 'review_model/15percent_vectors.csv',index=False)"
   ]
  },
  {
   "cell_type": "code",
   "execution_count": 339,
   "id": "03877943-8fe8-46d0-aaff-96836bb24564",
   "metadata": {},
   "outputs": [
    {
     "data": {
      "text/plain": [
       "(569998, 203)"
      ]
     },
     "execution_count": 339,
     "metadata": {},
     "output_type": "execute_result"
    }
   ],
   "source": [
    "features.shape"
   ]
  },
  {
   "cell_type": "code",
   "execution_count": 380,
   "id": "c54e7c25-f6e3-44ef-9d0f-03ff98a60c92",
   "metadata": {},
   "outputs": [],
   "source": [
    "full_df = df.merge(features.reset_index(drop=True),left_index=True,right_index=True)"
   ]
  },
  {
   "cell_type": "code",
   "execution_count": 430,
   "id": "cb87cd5e-0577-4533-b21c-5015a985839f",
   "metadata": {},
   "outputs": [
    {
     "name": "stdout",
     "output_type": "stream",
     "text": [
      "CPU times: total: 1min 9s\n",
      "Wall time: 1min 9s\n"
     ]
    }
   ],
   "source": [
    "%%time\n",
    "full_df.to_csv(model_directory + 'review_model/15percent_vectors_full_df.csv',index=False)"
   ]
  },
  {
   "cell_type": "code",
   "execution_count": 384,
   "id": "e993cce5-b752-4144-b772-36cf13d05378",
   "metadata": {},
   "outputs": [],
   "source": [
    "full_df.to_csv(model_directory + 'review_model/15percent_vectors_full_df.csv.gz',index=False,compression='gzip')"
   ]
  },
  {
   "cell_type": "code",
   "execution_count": 431,
   "id": "669aa1ab-af77-4234-b25d-62654420bd7c",
   "metadata": {},
   "outputs": [],
   "source": [
    "full_df2 = pd.read_csv(model_directory + 'review_model/15percent_vectors_full_df.csv')"
   ]
  },
  {
   "cell_type": "code",
   "execution_count": 385,
   "id": "1cc59a8e-4875-4503-b910-727c886e91b8",
   "metadata": {},
   "outputs": [],
   "source": [
    "full_df2 = pd.read_csv(model_directory + 'review_model/15percent_vectors_full_df.csv.gz',compression='gzip')"
   ]
  },
  {
   "cell_type": "code",
   "execution_count": 434,
   "id": "ceac9a45-9e01-47fb-a361-69aecafdca26",
   "metadata": {},
   "outputs": [],
   "source": [
    "full_df2.columns = full_df.columns"
   ]
  },
  {
   "cell_type": "code",
   "execution_count": 435,
   "id": "b73a2773-5c80-487c-9e39-dec7f170288a",
   "metadata": {},
   "outputs": [
    {
     "data": {
      "text/plain": [
       "business_id          0\n",
       "review_id            0\n",
       "text                 0\n",
       "date                 0\n",
       "review_stars         0\n",
       "                 ...  \n",
       "198             569978\n",
       "199             569975\n",
       "both_sim         39295\n",
       "pest_sim        251445\n",
       "dirty_sim        43027\n",
       "Length: 211, dtype: int64"
      ]
     },
     "execution_count": 435,
     "metadata": {},
     "output_type": "execute_result"
    }
   ],
   "source": [
    "np.sum(full_df!=full_df2)"
   ]
  },
  {
   "cell_type": "markdown",
   "id": "144219eb-ee35-4e90-a5cd-12cd09102f12",
   "metadata": {},
   "source": [
    "### run a few different methods on data"
   ]
  },
  {
   "cell_type": "code",
   "execution_count": 442,
   "id": "53863ad9-b644-45ae-8412-cc80635b4723",
   "metadata": {
    "tags": []
   },
   "outputs": [
    {
     "name": "stdout",
     "output_type": "stream",
     "text": [
      "CPU times: total: 52min\n",
      "Wall time: 52min 1s\n"
     ]
    }
   ],
   "source": [
    "%%time\n",
    "corpus = df.text\n",
    "features = pd.concat(map(lambda x: review_model_vec(x,'mean_df'), corpus))"
   ]
  },
  {
   "cell_type": "code",
   "execution_count": 443,
   "id": "6a83e74d-b1c3-4bc9-be93-2563e97329c3",
   "metadata": {
    "tags": []
   },
   "outputs": [
    {
     "name": "stdout",
     "output_type": "stream",
     "text": [
      "CPU times: total: 4min 42s\n",
      "Wall time: 4min 42s\n"
     ]
    }
   ],
   "source": [
    "%%time\n",
    "full_df = df.merge(features.reset_index(drop=True),left_index=True,right_index=True)\n",
    "full_df.to_csv(model_directory + 'review_model/mean_vectors_full_df.csv.gz',compression='gzip')"
   ]
  },
  {
   "cell_type": "code",
   "execution_count": 444,
   "id": "0715dc84-773c-4f56-9b58-4c37d068e19c",
   "metadata": {
    "tags": []
   },
   "outputs": [
    {
     "name": "stdout",
     "output_type": "stream",
     "text": [
      "CPU times: total: 27min 47s\n",
      "Wall time: 17h 55min 16s\n"
     ]
    }
   ],
   "source": [
    "%%time\n",
    "corpus = df.text\n",
    "features = pd.concat(map(lambda x: review_model_vec(x,'max_df'), corpus))"
   ]
  },
  {
   "cell_type": "code",
   "execution_count": 445,
   "id": "d5d4e568-4f07-4e81-98cd-c448201acef2",
   "metadata": {
    "collapsed": true,
    "jupyter": {
     "outputs_hidden": true
    },
    "tags": []
   },
   "outputs": [
    {
     "ename": "KeyboardInterrupt",
     "evalue": "",
     "output_type": "error",
     "traceback": [
      "\u001b[1;31m---------------------------------------------------------------------------\u001b[0m",
      "\u001b[1;31mKeyboardInterrupt\u001b[0m                         Traceback (most recent call last)",
      "File \u001b[1;32m<timed exec>:2\u001b[0m, in \u001b[0;36m<module>\u001b[1;34m\u001b[0m\n",
      "File \u001b[1;32m~\\anaconda3\\envs\\pypy\\lib\\site-packages\\pandas\\core\\generic.py:3551\u001b[0m, in \u001b[0;36mNDFrame.to_csv\u001b[1;34m(self, path_or_buf, sep, na_rep, float_format, columns, header, index, index_label, mode, encoding, compression, quoting, quotechar, line_terminator, chunksize, date_format, doublequote, escapechar, decimal, errors, storage_options)\u001b[0m\n\u001b[0;32m   3540\u001b[0m df \u001b[38;5;241m=\u001b[39m \u001b[38;5;28mself\u001b[39m \u001b[38;5;28;01mif\u001b[39;00m \u001b[38;5;28misinstance\u001b[39m(\u001b[38;5;28mself\u001b[39m, ABCDataFrame) \u001b[38;5;28;01melse\u001b[39;00m \u001b[38;5;28mself\u001b[39m\u001b[38;5;241m.\u001b[39mto_frame()\n\u001b[0;32m   3542\u001b[0m formatter \u001b[38;5;241m=\u001b[39m DataFrameFormatter(\n\u001b[0;32m   3543\u001b[0m     frame\u001b[38;5;241m=\u001b[39mdf,\n\u001b[0;32m   3544\u001b[0m     header\u001b[38;5;241m=\u001b[39mheader,\n\u001b[1;32m   (...)\u001b[0m\n\u001b[0;32m   3548\u001b[0m     decimal\u001b[38;5;241m=\u001b[39mdecimal,\n\u001b[0;32m   3549\u001b[0m )\n\u001b[1;32m-> 3551\u001b[0m \u001b[38;5;28;01mreturn\u001b[39;00m \u001b[43mDataFrameRenderer\u001b[49m\u001b[43m(\u001b[49m\u001b[43mformatter\u001b[49m\u001b[43m)\u001b[49m\u001b[38;5;241;43m.\u001b[39;49m\u001b[43mto_csv\u001b[49m\u001b[43m(\u001b[49m\n\u001b[0;32m   3552\u001b[0m \u001b[43m    \u001b[49m\u001b[43mpath_or_buf\u001b[49m\u001b[43m,\u001b[49m\n\u001b[0;32m   3553\u001b[0m \u001b[43m    \u001b[49m\u001b[43mline_terminator\u001b[49m\u001b[38;5;241;43m=\u001b[39;49m\u001b[43mline_terminator\u001b[49m\u001b[43m,\u001b[49m\n\u001b[0;32m   3554\u001b[0m \u001b[43m    \u001b[49m\u001b[43msep\u001b[49m\u001b[38;5;241;43m=\u001b[39;49m\u001b[43msep\u001b[49m\u001b[43m,\u001b[49m\n\u001b[0;32m   3555\u001b[0m \u001b[43m    \u001b[49m\u001b[43mencoding\u001b[49m\u001b[38;5;241;43m=\u001b[39;49m\u001b[43mencoding\u001b[49m\u001b[43m,\u001b[49m\n\u001b[0;32m   3556\u001b[0m \u001b[43m    \u001b[49m\u001b[43merrors\u001b[49m\u001b[38;5;241;43m=\u001b[39;49m\u001b[43merrors\u001b[49m\u001b[43m,\u001b[49m\n\u001b[0;32m   3557\u001b[0m \u001b[43m    \u001b[49m\u001b[43mcompression\u001b[49m\u001b[38;5;241;43m=\u001b[39;49m\u001b[43mcompression\u001b[49m\u001b[43m,\u001b[49m\n\u001b[0;32m   3558\u001b[0m \u001b[43m    \u001b[49m\u001b[43mquoting\u001b[49m\u001b[38;5;241;43m=\u001b[39;49m\u001b[43mquoting\u001b[49m\u001b[43m,\u001b[49m\n\u001b[0;32m   3559\u001b[0m \u001b[43m    \u001b[49m\u001b[43mcolumns\u001b[49m\u001b[38;5;241;43m=\u001b[39;49m\u001b[43mcolumns\u001b[49m\u001b[43m,\u001b[49m\n\u001b[0;32m   3560\u001b[0m \u001b[43m    \u001b[49m\u001b[43mindex_label\u001b[49m\u001b[38;5;241;43m=\u001b[39;49m\u001b[43mindex_label\u001b[49m\u001b[43m,\u001b[49m\n\u001b[0;32m   3561\u001b[0m \u001b[43m    \u001b[49m\u001b[43mmode\u001b[49m\u001b[38;5;241;43m=\u001b[39;49m\u001b[43mmode\u001b[49m\u001b[43m,\u001b[49m\n\u001b[0;32m   3562\u001b[0m \u001b[43m    \u001b[49m\u001b[43mchunksize\u001b[49m\u001b[38;5;241;43m=\u001b[39;49m\u001b[43mchunksize\u001b[49m\u001b[43m,\u001b[49m\n\u001b[0;32m   3563\u001b[0m \u001b[43m    \u001b[49m\u001b[43mquotechar\u001b[49m\u001b[38;5;241;43m=\u001b[39;49m\u001b[43mquotechar\u001b[49m\u001b[43m,\u001b[49m\n\u001b[0;32m   3564\u001b[0m \u001b[43m    \u001b[49m\u001b[43mdate_format\u001b[49m\u001b[38;5;241;43m=\u001b[39;49m\u001b[43mdate_format\u001b[49m\u001b[43m,\u001b[49m\n\u001b[0;32m   3565\u001b[0m \u001b[43m    \u001b[49m\u001b[43mdoublequote\u001b[49m\u001b[38;5;241;43m=\u001b[39;49m\u001b[43mdoublequote\u001b[49m\u001b[43m,\u001b[49m\n\u001b[0;32m   3566\u001b[0m \u001b[43m    \u001b[49m\u001b[43mescapechar\u001b[49m\u001b[38;5;241;43m=\u001b[39;49m\u001b[43mescapechar\u001b[49m\u001b[43m,\u001b[49m\n\u001b[0;32m   3567\u001b[0m \u001b[43m    \u001b[49m\u001b[43mstorage_options\u001b[49m\u001b[38;5;241;43m=\u001b[39;49m\u001b[43mstorage_options\u001b[49m\u001b[43m,\u001b[49m\n\u001b[0;32m   3568\u001b[0m \u001b[43m\u001b[49m\u001b[43m)\u001b[49m\n",
      "File \u001b[1;32m~\\anaconda3\\envs\\pypy\\lib\\site-packages\\pandas\\io\\formats\\format.py:1180\u001b[0m, in \u001b[0;36mDataFrameRenderer.to_csv\u001b[1;34m(self, path_or_buf, encoding, sep, columns, index_label, mode, compression, quoting, quotechar, line_terminator, chunksize, date_format, doublequote, escapechar, errors, storage_options)\u001b[0m\n\u001b[0;32m   1159\u001b[0m     created_buffer \u001b[38;5;241m=\u001b[39m \u001b[38;5;28;01mFalse\u001b[39;00m\n\u001b[0;32m   1161\u001b[0m csv_formatter \u001b[38;5;241m=\u001b[39m CSVFormatter(\n\u001b[0;32m   1162\u001b[0m     path_or_buf\u001b[38;5;241m=\u001b[39mpath_or_buf,\n\u001b[0;32m   1163\u001b[0m     line_terminator\u001b[38;5;241m=\u001b[39mline_terminator,\n\u001b[1;32m   (...)\u001b[0m\n\u001b[0;32m   1178\u001b[0m     formatter\u001b[38;5;241m=\u001b[39m\u001b[38;5;28mself\u001b[39m\u001b[38;5;241m.\u001b[39mfmt,\n\u001b[0;32m   1179\u001b[0m )\n\u001b[1;32m-> 1180\u001b[0m \u001b[43mcsv_formatter\u001b[49m\u001b[38;5;241;43m.\u001b[39;49m\u001b[43msave\u001b[49m\u001b[43m(\u001b[49m\u001b[43m)\u001b[49m\n\u001b[0;32m   1182\u001b[0m \u001b[38;5;28;01mif\u001b[39;00m created_buffer:\n\u001b[0;32m   1183\u001b[0m     \u001b[38;5;28;01massert\u001b[39;00m \u001b[38;5;28misinstance\u001b[39m(path_or_buf, StringIO)\n",
      "File \u001b[1;32m~\\anaconda3\\envs\\pypy\\lib\\site-packages\\pandas\\io\\formats\\csvs.py:261\u001b[0m, in \u001b[0;36mCSVFormatter.save\u001b[1;34m(self)\u001b[0m\n\u001b[0;32m    241\u001b[0m \u001b[38;5;28;01mwith\u001b[39;00m get_handle(\n\u001b[0;32m    242\u001b[0m     \u001b[38;5;28mself\u001b[39m\u001b[38;5;241m.\u001b[39mfilepath_or_buffer,\n\u001b[0;32m    243\u001b[0m     \u001b[38;5;28mself\u001b[39m\u001b[38;5;241m.\u001b[39mmode,\n\u001b[1;32m   (...)\u001b[0m\n\u001b[0;32m    249\u001b[0m \n\u001b[0;32m    250\u001b[0m     \u001b[38;5;66;03m# Note: self.encoding is irrelevant here\u001b[39;00m\n\u001b[0;32m    251\u001b[0m     \u001b[38;5;28mself\u001b[39m\u001b[38;5;241m.\u001b[39mwriter \u001b[38;5;241m=\u001b[39m csvlib\u001b[38;5;241m.\u001b[39mwriter(\n\u001b[0;32m    252\u001b[0m         handles\u001b[38;5;241m.\u001b[39mhandle,\n\u001b[0;32m    253\u001b[0m         lineterminator\u001b[38;5;241m=\u001b[39m\u001b[38;5;28mself\u001b[39m\u001b[38;5;241m.\u001b[39mline_terminator,\n\u001b[1;32m   (...)\u001b[0m\n\u001b[0;32m    258\u001b[0m         quotechar\u001b[38;5;241m=\u001b[39m\u001b[38;5;28mself\u001b[39m\u001b[38;5;241m.\u001b[39mquotechar,\n\u001b[0;32m    259\u001b[0m     )\n\u001b[1;32m--> 261\u001b[0m     \u001b[38;5;28;43mself\u001b[39;49m\u001b[38;5;241;43m.\u001b[39;49m\u001b[43m_save\u001b[49m\u001b[43m(\u001b[49m\u001b[43m)\u001b[49m\n",
      "File \u001b[1;32m~\\anaconda3\\envs\\pypy\\lib\\site-packages\\pandas\\io\\formats\\csvs.py:266\u001b[0m, in \u001b[0;36mCSVFormatter._save\u001b[1;34m(self)\u001b[0m\n\u001b[0;32m    264\u001b[0m \u001b[38;5;28;01mif\u001b[39;00m \u001b[38;5;28mself\u001b[39m\u001b[38;5;241m.\u001b[39m_need_to_save_header:\n\u001b[0;32m    265\u001b[0m     \u001b[38;5;28mself\u001b[39m\u001b[38;5;241m.\u001b[39m_save_header()\n\u001b[1;32m--> 266\u001b[0m \u001b[38;5;28;43mself\u001b[39;49m\u001b[38;5;241;43m.\u001b[39;49m\u001b[43m_save_body\u001b[49m\u001b[43m(\u001b[49m\u001b[43m)\u001b[49m\n",
      "File \u001b[1;32m~\\anaconda3\\envs\\pypy\\lib\\site-packages\\pandas\\io\\formats\\csvs.py:304\u001b[0m, in \u001b[0;36mCSVFormatter._save_body\u001b[1;34m(self)\u001b[0m\n\u001b[0;32m    302\u001b[0m \u001b[38;5;28;01mif\u001b[39;00m start_i \u001b[38;5;241m>\u001b[39m\u001b[38;5;241m=\u001b[39m end_i:\n\u001b[0;32m    303\u001b[0m     \u001b[38;5;28;01mbreak\u001b[39;00m\n\u001b[1;32m--> 304\u001b[0m \u001b[38;5;28;43mself\u001b[39;49m\u001b[38;5;241;43m.\u001b[39;49m\u001b[43m_save_chunk\u001b[49m\u001b[43m(\u001b[49m\u001b[43mstart_i\u001b[49m\u001b[43m,\u001b[49m\u001b[43m \u001b[49m\u001b[43mend_i\u001b[49m\u001b[43m)\u001b[49m\n",
      "File \u001b[1;32m~\\anaconda3\\envs\\pypy\\lib\\site-packages\\pandas\\io\\formats\\csvs.py:315\u001b[0m, in \u001b[0;36mCSVFormatter._save_chunk\u001b[1;34m(self, start_i, end_i)\u001b[0m\n\u001b[0;32m    312\u001b[0m data \u001b[38;5;241m=\u001b[39m [res\u001b[38;5;241m.\u001b[39miget_values(i) \u001b[38;5;28;01mfor\u001b[39;00m i \u001b[38;5;129;01min\u001b[39;00m \u001b[38;5;28mrange\u001b[39m(\u001b[38;5;28mlen\u001b[39m(res\u001b[38;5;241m.\u001b[39mitems))]\n\u001b[0;32m    314\u001b[0m ix \u001b[38;5;241m=\u001b[39m \u001b[38;5;28mself\u001b[39m\u001b[38;5;241m.\u001b[39mdata_index[slicer]\u001b[38;5;241m.\u001b[39m_format_native_types(\u001b[38;5;241m*\u001b[39m\u001b[38;5;241m*\u001b[39m\u001b[38;5;28mself\u001b[39m\u001b[38;5;241m.\u001b[39m_number_format)\n\u001b[1;32m--> 315\u001b[0m \u001b[43mlibwriters\u001b[49m\u001b[38;5;241;43m.\u001b[39;49m\u001b[43mwrite_csv_rows\u001b[49m\u001b[43m(\u001b[49m\n\u001b[0;32m    316\u001b[0m \u001b[43m    \u001b[49m\u001b[43mdata\u001b[49m\u001b[43m,\u001b[49m\n\u001b[0;32m    317\u001b[0m \u001b[43m    \u001b[49m\u001b[43mix\u001b[49m\u001b[43m,\u001b[49m\n\u001b[0;32m    318\u001b[0m \u001b[43m    \u001b[49m\u001b[38;5;28;43mself\u001b[39;49m\u001b[38;5;241;43m.\u001b[39;49m\u001b[43mnlevels\u001b[49m\u001b[43m,\u001b[49m\n\u001b[0;32m    319\u001b[0m \u001b[43m    \u001b[49m\u001b[38;5;28;43mself\u001b[39;49m\u001b[38;5;241;43m.\u001b[39;49m\u001b[43mcols\u001b[49m\u001b[43m,\u001b[49m\n\u001b[0;32m    320\u001b[0m \u001b[43m    \u001b[49m\u001b[38;5;28;43mself\u001b[39;49m\u001b[38;5;241;43m.\u001b[39;49m\u001b[43mwriter\u001b[49m\u001b[43m,\u001b[49m\n\u001b[0;32m    321\u001b[0m \u001b[43m\u001b[49m\u001b[43m)\u001b[49m\n",
      "File \u001b[1;32m~\\anaconda3\\envs\\pypy\\lib\\site-packages\\pandas\\_libs\\writers.pyx:55\u001b[0m, in \u001b[0;36mpandas._libs.writers.write_csv_rows\u001b[1;34m()\u001b[0m\n",
      "File \u001b[1;32m~\\anaconda3\\envs\\pypy\\lib\\gzip.py:288\u001b[0m, in \u001b[0;36mGzipFile.write\u001b[1;34m(self, data)\u001b[0m\n\u001b[0;32m    285\u001b[0m     length \u001b[38;5;241m=\u001b[39m data\u001b[38;5;241m.\u001b[39mnbytes\n\u001b[0;32m    287\u001b[0m \u001b[38;5;28;01mif\u001b[39;00m length \u001b[38;5;241m>\u001b[39m \u001b[38;5;241m0\u001b[39m:\n\u001b[1;32m--> 288\u001b[0m     \u001b[38;5;28mself\u001b[39m\u001b[38;5;241m.\u001b[39mfileobj\u001b[38;5;241m.\u001b[39mwrite(\u001b[38;5;28;43mself\u001b[39;49m\u001b[38;5;241;43m.\u001b[39;49m\u001b[43mcompress\u001b[49m\u001b[38;5;241;43m.\u001b[39;49m\u001b[43mcompress\u001b[49m\u001b[43m(\u001b[49m\u001b[43mdata\u001b[49m\u001b[43m)\u001b[49m)\n\u001b[0;32m    289\u001b[0m     \u001b[38;5;28mself\u001b[39m\u001b[38;5;241m.\u001b[39msize \u001b[38;5;241m+\u001b[39m\u001b[38;5;241m=\u001b[39m length\n\u001b[0;32m    290\u001b[0m     \u001b[38;5;28mself\u001b[39m\u001b[38;5;241m.\u001b[39mcrc \u001b[38;5;241m=\u001b[39m zlib\u001b[38;5;241m.\u001b[39mcrc32(data, \u001b[38;5;28mself\u001b[39m\u001b[38;5;241m.\u001b[39mcrc)\n",
      "\u001b[1;31mKeyboardInterrupt\u001b[0m: "
     ]
    }
   ],
   "source": [
    "%%time\n",
    "full_df = df.merge(features.reset_index(drop=True),left_index=True,right_index=True)\n",
    "full_df.to_csv(model_directory + 'review_model/max_vectors_full_df.csv.gz',compression='gzip')"
   ]
  },
  {
   "cell_type": "code",
   "execution_count": null,
   "id": "bb4ebba2-787f-49e5-b12b-02e7a64920c2",
   "metadata": {},
   "outputs": [],
   "source": []
  },
  {
   "cell_type": "code",
   "execution_count": 448,
   "id": "7d8756cc-1bfc-4de8-b14d-ccdee66c47d3",
   "metadata": {},
   "outputs": [
    {
     "data": {
      "image/png": "[encoded data removed]",
      "text/plain": [
       "<Figure size 432x288 with 1 Axes>"
      ]
     },
     "metadata": {
      "needs_background": "light"
     },
     "output_type": "display_data"
    }
   ],
   "source": [
    "plt.hist(features.both_sim,bins=100)\n",
    "plt.show()"
   ]
  },
  {
   "cell_type": "markdown",
   "id": "25d197b8-ce9c-4d93-a70e-1f61cda15d64",
   "metadata": {
    "tags": []
   },
   "source": [
    "## old sentence embeddings"
   ]
  },
  {
   "cell_type": "markdown",
   "id": "e96128c1-eb6f-4777-8927-433478b6104e",
   "metadata": {
    "tags": []
   },
   "source": [
    "### number-output sentence embeddings on test data"
   ]
  },
  {
   "cell_type": "code",
   "execution_count": 295,
   "id": "0ac30f90-f543-4d7f-8eb1-9430e4aa95b2",
   "metadata": {
    "tags": []
   },
   "outputs": [],
   "source": [
    "## clean up text\n",
    "STOP_WORDS = STOP_WORDS.union({'ll', 've','s','id'})\n",
    "\n",
    "# DON'T stem/lemmatize here because the glove_vectors vocabulary doesn't do that\n",
    "def text_cleaner(s):\n",
    "    s = re.sub('<[^<]+?>', '', s.lower()) # remove tags\n",
    "    # remove stop words\n",
    "    s = re.sub('[^a-z\\s\\n]', '', s)\n",
    "    s = s.split()\n",
    "    # spacy stop words are a little more complete than gsp stop words\n",
    "    s = [w for w in s if not w in STOP_WORDS]\n",
    "    return s"
   ]
  },
  {
   "cell_type": "code",
   "execution_count": null,
   "id": "dbb9d015-d033-46f7-aab3-10a7762f40da",
   "metadata": {},
   "outputs": [
    {
     "data": {
      "text/plain": [
       "\"Let me start w ordering. I ordered online. Got to the place to pick up my food then bam... my order wasn't ready. They couldn't even find my order. They thought I placed it for another location. Had to show from my phone I placed to round rock location. The guy had to call someone to get my online order. Had to wait an extra 30 min. Place was crowded and big groups of families in there. The food was ok. I wasn't that impressed. I got it to go bc I don't eat in restaurants due to Covid. So by the time I made it home it tasted old. Kind of stale. Like the grease the food was fried in was not fresh. Can't say I'll be back\""
      ]
     },
     "execution_count": 296,
     "metadata": {},
     "output_type": "execute_result"
    }
   ],
   "source": [
    "bad_reviews[4]"
   ]
  },
  {
   "cell_type": "code",
   "execution_count": 1153,
   "id": "8a2e45b4-1668-4110-b389-d594297e5349",
   "metadata": {
    "tags": []
   },
   "outputs": [
    {
     "data": {
      "text/plain": [
       "['expected',\n",
       " 'dingy',\n",
       " 'clean',\n",
       " 'overall',\n",
       " 'service',\n",
       " 'par',\n",
       " 'focus',\n",
       " 'serving',\n",
       " 'bar',\n",
       " 'tables',\n",
       " 'table',\n",
       " 'dirty',\n",
       " 'sticky',\n",
       " 'menu',\n",
       " 'disgusting',\n",
       " 'touch',\n",
       " 'food',\n",
       " 'okay']"
      ]
     },
     "execution_count": 1153,
     "metadata": {},
     "output_type": "execute_result"
    }
   ],
   "source": [
    "text = bad_reviews[5]\n",
    "words = text_cleaner(text)\n",
    "words"
   ]
  },
  {
   "cell_type": "code",
   "execution_count": 1303,
   "id": "d5d91870-8617-45f4-932f-91c2217d6043",
   "metadata": {},
   "outputs": [],
   "source": [
    "def review2vec(doc, method='list'):\n",
    "    \"\"\"\n",
    "        Applies word2vec on each word of the review\n",
    "        Returns a list of vectors, oops\n",
    "    \"\"\"\n",
    "    words = []\n",
    "    keys = []\n",
    "    for w in doc:\n",
    "        if w in ('food','like'):\n",
    "            continue\n",
    "        try:\n",
    "            vec = gv[w]\n",
    "        except KeyError: # if glove doesn't have a vector\n",
    "            continue\n",
    "        words.append(vec)\n",
    "        keys.append(w)\n",
    "    if words: \n",
    "        words = np.asarray(words)\n",
    "        if method=='mean':\n",
    "            return np.mean(words,axis=0)\n",
    "        elif method=='list':\n",
    "            return words\n",
    "        elif method=='keys_too':\n",
    "            return words, keys\n",
    "    if not words:\n",
    "        return None"
   ]
  },
  {
   "cell_type": "code",
   "execution_count": 1304,
   "id": "62b5ab93-af4a-45d1-bcc1-d3094a17bcf0",
   "metadata": {},
   "outputs": [],
   "source": [
    "def vec_similarity(vec1, vec2):\n",
    "    \"\"\"\n",
    "        Dot product of two unit vectors to get similarity between them, same implementation as gensim similarity\n",
    "    \"\"\"\n",
    "    return np.dot(matutils.unitvec(vec1),matutils.unitvec(vec2))"
   ]
  },
  {
   "cell_type": "code",
   "execution_count": 1305,
   "id": "1c143ef4-d1e7-4214-8f78-38a5051d277d",
   "metadata": {},
   "outputs": [],
   "source": [
    "def review_model(text, output='number', index=0):\n",
    "    \"\"\"\n",
    "        Cleans text, vectorizes words, measures cosine distance to selected DIRTY_WORDS and PEST_WORDS, and calculates aggregate features.\n",
    "        Output is one 'dirtiness score' if output=='number', else a dataframe\n",
    "    \"\"\"\n",
    "    words = text_cleaner(text)\n",
    "    vec_list = review2vec(words,'list')\n",
    "    # return vec_list\n",
    "    \n",
    "    # corner case: all words are not in the vocabulary (i.e., different language, short reviews, typo-ridden reviews, etc.)\n",
    "    if vec_list is None:\n",
    "        return None\n",
    "\n",
    "    new_df = pd.DataFrame()\n",
    "    new_df['dirtiness'] = [vec_similarity(DIRTY_VECTOR, vec) for vec in vec_list]\n",
    "    new_df['pestiness'] = [vec_similarity(PEST_VECTOR, vec) for vec in vec_list]\n",
    "    \n",
    "    if output == 'number': # just get one number for each review\n",
    "        df_dirt = new_df.agg(\n",
    "            Top5PercentD = ('dirtiness', lambda x: np.mean(sorted(x)[-math.ceil(len(x)*0.05):])),\n",
    "        )\n",
    "        df_pest = new_df.agg(\n",
    "            Top5PercentP = ('pestiness', lambda x: np.mean(sorted(x)[-math.ceil(len(x)*0.05):])),\n",
    "        )\n",
    "        return np.max([\n",
    "            df_dirt.loc['Top5PercentD'].values,\n",
    "            df_pest.loc['Top5PercentP'].values\n",
    "        ])\n",
    "    elif output == 'vectors':\n",
    "        for idx, vec in enumerate(vec_list):\n",
    "            new_df[f'vec_{idx}'] = vec\n",
    "        return new_df\n",
    "    else: # return more stats\n",
    "        df_dirt = new_df.agg(\n",
    "            MeanD = ('dirtiness', np.mean),\n",
    "            StderrD = ('dirtiness', lambda x: np.std(x)/len(x)),\n",
    "            MaxD = ('dirtiness', np.max),\n",
    "            LEN = ('dirtiness',len),\n",
    "            # get average of top 5% of words in similarity\n",
    "            Top5PercentD = ('dirtiness', lambda x: np.mean(sorted(x)[-math.ceil(len(x)*0.05):])),\n",
    "            Top10PercentD = ('dirtiness', lambda x: np.mean(sorted(x)[-math.ceil(len(x)*0.10):]))\n",
    "        )\n",
    "        df_pest = new_df.agg(\n",
    "            MeanP = ('pestiness', np.mean),\n",
    "            StderrP = ('pestiness', lambda x: np.std(x)/len(x)),\n",
    "            MaxP = ('pestiness', np.max),\n",
    "            # get average of top 5% of words in similarity\n",
    "            Top5PercentP = ('pestiness', lambda x: np.mean(sorted(x)[-math.ceil(len(x)*0.05):])),\n",
    "            Top10PercentP = ('pestiness', lambda x: np.mean(sorted(x)[-math.ceil(len(x)*0.10):]))\n",
    "        )\n",
    "        df_tot = pd.concat([\n",
    "            df_dirt.rename({'dirtiness':index},axis=1),\n",
    "            df_pest.rename({'pestiness':index},axis=1)\n",
    "        ]).T\n",
    "        # return np.max([df_dirt.loc['Top5Percent'].values,df_pest.loc['Top5Percent'].values])\n",
    "        return df_tot"
   ]
  },
  {
   "cell_type": "code",
   "execution_count": 1306,
   "id": "ddfffbed-0aac-4a2a-b152-1fb6d6d076f0",
   "metadata": {},
   "outputs": [
    {
     "data": {
      "text/plain": [
       "'Expected more. Seemed dingy. Not very clean overall. Service was not up to par. They seemed to be more focus on serving those at the bar then at the tables. Our table was dirty, sticky. Menu was disgusting to the touch. The food was okay. Will not go again.'"
      ]
     },
     "execution_count": 1306,
     "metadata": {},
     "output_type": "execute_result"
    }
   ],
   "source": [
    "text"
   ]
  },
  {
   "cell_type": "code",
   "execution_count": 1307,
   "id": "ce3818ef-37c0-4db8-99e9-134267e7294c",
   "metadata": {},
   "outputs": [
    {
     "data": {
      "text/html": [
       "<div>\n",
       "<style scoped>\n",
       "    .dataframe tbody tr th:only-of-type {\n",
       "        vertical-align: middle;\n",
       "    }\n",
       "\n",
       "    .dataframe tbody tr th {\n",
       "        vertical-align: top;\n",
       "    }\n",
       "\n",
       "    .dataframe thead th {\n",
       "        text-align: right;\n",
       "    }\n",
       "</style>\n",
       "<table border=\"1\" class=\"dataframe\">\n",
       "  <thead>\n",
       "    <tr style=\"text-align: right;\">\n",
       "      <th></th>\n",
       "      <th>MeanD</th>\n",
       "      <th>StderrD</th>\n",
       "      <th>MaxD</th>\n",
       "      <th>LEN</th>\n",
       "      <th>Top5PercentD</th>\n",
       "      <th>Top10PercentD</th>\n",
       "      <th>MeanP</th>\n",
       "      <th>StderrP</th>\n",
       "      <th>MaxP</th>\n",
       "      <th>Top5PercentP</th>\n",
       "      <th>Top10PercentP</th>\n",
       "    </tr>\n",
       "  </thead>\n",
       "  <tbody>\n",
       "    <tr>\n",
       "      <th>1</th>\n",
       "      <td>0.372709</td>\n",
       "      <td>0.011554</td>\n",
       "      <td>0.849937</td>\n",
       "      <td>17.0</td>\n",
       "      <td>0.849937</td>\n",
       "      <td>0.802675</td>\n",
       "      <td>0.247398</td>\n",
       "      <td>0.005244</td>\n",
       "      <td>0.385577</td>\n",
       "      <td>0.385577</td>\n",
       "      <td>0.382334</td>\n",
       "    </tr>\n",
       "  </tbody>\n",
       "</table>\n",
       "</div>"
      ],
      "text/plain": [
       "      MeanD   StderrD      MaxD   LEN  Top5PercentD  Top10PercentD     MeanP  \\\n",
       "1  0.372709  0.011554  0.849937  17.0      0.849937       0.802675  0.247398   \n",
       "\n",
       "    StderrP      MaxP  Top5PercentP  Top10PercentP  \n",
       "1  0.005244  0.385577      0.385577       0.382334  "
      ]
     },
     "execution_count": 1307,
     "metadata": {},
     "output_type": "execute_result"
    }
   ],
   "source": [
    "idx = 5\n",
    "text = bad_reviews[idx]\n",
    "review_model(text,'list',1)"
   ]
  },
  {
   "cell_type": "code",
   "execution_count": 1308,
   "id": "9e018bc7-6a3d-4ce3-9d70-a454bc7ad1c2",
   "metadata": {},
   "outputs": [],
   "source": [
    "corpus = bad_reviews\n",
    "df_bad = [review_model(text) for text in corpus]\n",
    "corpus = good_reviews\n",
    "df_good = [review_model(text) for text in corpus]"
   ]
  },
  {
   "cell_type": "code",
   "execution_count": 1309,
   "id": "6be5eed1-681b-43b9-8ec4-8d1f84addc48",
   "metadata": {},
   "outputs": [
    {
     "data": {
      "text/plain": [
       "[0.7360646009445191,\n",
       " 0.7117146551609039,\n",
       " 0.5368978381156921,\n",
       " 0.7367739379405975,\n",
       " 0.5889953970909119,\n",
       " 0.8499367237091064,\n",
       " 0.6879293123881022,\n",
       " 0.6618241667747498,\n",
       " 0.6356184124946594]"
      ]
     },
     "execution_count": 1309,
     "metadata": {},
     "output_type": "execute_result"
    }
   ],
   "source": [
    "df_bad"
   ]
  },
  {
   "cell_type": "code",
   "execution_count": 1310,
   "id": "f0b6b362-131f-4c42-997d-edab5c14ad27",
   "metadata": {},
   "outputs": [
    {
     "data": {
      "text/plain": [
       "[0.5786933898925781,\n",
       " 0.5786933898925781,\n",
       " 0.5873579978942871,\n",
       " 0.5306189060211182,\n",
       " 0.5930044949054718,\n",
       " 0.5949955185254415,\n",
       " 0.5763154029846191]"
      ]
     },
     "execution_count": 1310,
     "metadata": {},
     "output_type": "execute_result"
    }
   ],
   "source": [
    "df_good"
   ]
  },
  {
   "cell_type": "markdown",
   "id": "fb73f896-3fd9-41ec-a7b6-172c1088f52a",
   "metadata": {
    "tags": []
   },
   "source": [
    "### filter data by language"
   ]
  },
  {
   "cell_type": "markdown",
   "id": "14d88b99-08f9-441d-bfa3-87a412ffc90f",
   "metadata": {},
   "source": [
    "There are many reviews not in English which mess up the cleanliness score calculation (different language == very clean). Let's take them out."
   ]
  },
  {
   "cell_type": "code",
   "execution_count": 1162,
   "id": "857da9b8-eb56-4c1b-80a4-6ebfc4a955f2",
   "metadata": {},
   "outputs": [],
   "source": [
    "from langdetect import DetectorFactory\n",
    "DetectorFactory.seed = 0\n",
    "from langdetect import detect, detect_langs"
   ]
  },
  {
   "cell_type": "code",
   "execution_count": 1210,
   "id": "230f7400-4943-445e-a5ec-7cfb00137388",
   "metadata": {},
   "outputs": [],
   "source": [
    "# language finding doesn't work well with only a few words\n",
    "df_filtered = df[df.text.apply(len) >= 10]"
   ]
  },
  {
   "cell_type": "code",
   "execution_count": 1211,
   "id": "945883b6-8ccf-4758-86f4-efce3d46108a",
   "metadata": {},
   "outputs": [
    {
     "name": "stdout",
     "output_type": "stream",
     "text": [
      "CPU times: total: 26min 56s\n",
      "Wall time: 26min 57s\n"
     ]
    }
   ],
   "source": [
    "%%time\n",
    "languages = df_filtered['text'].apply(detect)"
   ]
  },
  {
   "cell_type": "code",
   "execution_count": 1212,
   "id": "55a36ada-26ea-49ee-8118-b5e5de814aa5",
   "metadata": {},
   "outputs": [],
   "source": [
    "df_lang = df_filtered.copy()\n",
    "df_lang['language'] = languages"
   ]
  },
  {
   "cell_type": "code",
   "execution_count": 1213,
   "id": "4c0f6ebd-2468-4eb6-b7b9-b3b520f8c422",
   "metadata": {},
   "outputs": [],
   "source": [
    "df_lang.to_csv(processed_data_directory + 'reviews_nearest_score_no_limit_df_languages.csv', index=False)"
   ]
  },
  {
   "cell_type": "markdown",
   "id": "37aa6963-1887-4f5b-9d1b-0f0f013bd043",
   "metadata": {},
   "source": [
    "### run on all reviews"
   ]
  },
  {
   "cell_type": "code",
   "execution_count": 1315,
   "id": "e8dfb9af-709b-456d-93b7-cb642eb56a24",
   "metadata": {},
   "outputs": [
    {
     "name": "stdout",
     "output_type": "stream",
     "text": [
      "570596\n",
      "569998\n"
     ]
    }
   ],
   "source": [
    "df = pd.read_csv(processed_data_directory + 'reviews_nearest_score_no_limit_df_languages.csv')\n",
    "print(len(df))\n",
    "df = df[df.language == 'en']\n",
    "print(len(df))"
   ]
  },
  {
   "cell_type": "code",
   "execution_count": 1316,
   "id": "44ca7792-339b-45c2-88c3-bff6aec62728",
   "metadata": {},
   "outputs": [],
   "source": [
    "X = df.text.values"
   ]
  },
  {
   "cell_type": "code",
   "execution_count": 1318,
   "id": "bbc6480c-e487-40ee-9308-6db33ec0f1e5",
   "metadata": {},
   "outputs": [
    {
     "name": "stdout",
     "output_type": "stream",
     "text": [
      "CPU times: total: 44min 43s\n",
      "Wall time: 44min 44s\n"
     ]
    }
   ],
   "source": [
    "%%time\n",
    "corpus = df.text.values\n",
    "dirty_scores = np.array([review_model(text) for text in corpus])"
   ]
  },
  {
   "cell_type": "code",
   "execution_count": 1319,
   "id": "f14485b6-1bab-44ac-8fc2-8dfb9856fbef",
   "metadata": {},
   "outputs": [],
   "source": [
    "df_test = df.copy()\n",
    "df_test['predict'] = dirty_scores"
   ]
  },
  {
   "cell_type": "code",
   "execution_count": 1320,
   "id": "c6a7ab8c-93e7-4bab-af31-a96f6af2571e",
   "metadata": {},
   "outputs": [],
   "source": [
    "df_test.to_csv(model_directory + 'review_model/top5percent_per_review.csv',index=False)"
   ]
  },
  {
   "cell_type": "markdown",
   "id": "52534d2c-61f1-42d0-9d65-7432ae858461",
   "metadata": {
    "tags": []
   },
   "source": [
    "### concat all reviews for each business"
   ]
  },
  {
   "cell_type": "code",
   "execution_count": null,
   "id": "9d4ed93e-3b06-43d1-aa7e-1ddb1a370639",
   "metadata": {},
   "outputs": [],
   "source": [
    "all_bad_reviews = ' '.join(bad_reviews)\n",
    "vec_list, keys_list = review2vec(text_cleaner(all_bad_reviews),'keys_too')"
   ]
  },
  {
   "cell_type": "code",
   "execution_count": null,
   "id": "b26af7e9-8fee-4950-8083-60b844d53202",
   "metadata": {},
   "outputs": [],
   "source": [
    "new_df = pd.DataFrame()\n",
    "new_df['dirtiness'] = [vec_similarity(DIRTY_VECTOR, vec) for vec in vec_list]\n",
    "new_df['pestiness'] = [vec_similarity(PEST_VECTOR, vec) for vec in vec_list]\n",
    "new_df['vec'] = list(vec_list)\n",
    "new_df['word'] = list(keys_list)"
   ]
  },
  {
   "cell_type": "code",
   "execution_count": null,
   "id": "17049ffe-86ba-4dd0-9355-2ca89c8c02f4",
   "metadata": {},
   "outputs": [
    {
     "name": "stdout",
     "output_type": "stream",
     "text": [
      "['absolutely' 'disgusting' 'odd' 'smell' 'tasted' 'fried' 'looking'\n",
      " 'fried' 'looked' 'obviously' 'honestly' 'eat' 'gross' 'getting' 'sick'\n",
      " 'throw' 'worst' 'absolutely' 'way' 'lot' 'instead' 'absolutely'\n",
      " 'horrible' 'dirty' 'pretty' 'good' 'cold' 'confused' 'weird' 'ill' 'lot'\n",
      " 'looked' 'having' 'cant' 'literally' 'disgusting' 'rude' 'hell' 'know'\n",
      " 'eat' 'actually' 'worst' 'thought' 'guy' 'dont' 'eat' 'tasted' 'old'\n",
      " 'kind' 'stale' 'fried' 'cant' 'ill' 'clean' 'dirty' 'sticky' 'disgusting'\n",
      " 'good' 'kinda' 'mess' 'fish' 'spoiled' 'smell' 'smell' 'dont' 'sick'\n",
      " 'definitely' 'cant' 'look' 'awful' 'taste' 'smell' 'slimy' 'supposed'\n",
      " 'old' 'tasted' 'old' 'old' 'eating' 'extremely' 'right' 'better' 'going']\n",
      "['place' 'disgusting' 'smell' 'type' 'stick' 'looking' 'threw' 'puppies'\n",
      " 'eat' 'fear' 'getting' 'sick' 'throw' 'got' 'worst' 'gone' 'way' 'place'\n",
      " 'weird' 'ill' 'came' 'room' 'small' 'water' 'person' 'came' 'walk'\n",
      " 'place' 'left' 'having' 'cant' 'literally' 'disgusting' 'hell' 'know'\n",
      " 'came' 'eat' 'actually' 'place' 'worst' 'let' 'got' 'place' 'find'\n",
      " 'thought' 'guy' 'place' 'big' 'got' 'dont' 'eat' 'cant' 'ill'\n",
      " 'disgusting' 'half' 'mess' 'fish' 'smell' 'smell' 'dont' 'sick' 'place'\n",
      " 'cockroaches' 'rat' 'feces' 'came' 'place' 'cant' 'find' 'look' 'came'\n",
      " 'smell' 'came' 'half' 'supposed' 'crab' 'chicken' 'eating' 'inside'\n",
      " 'place' 'right' 'going']\n"
     ]
    }
   ],
   "source": [
    "print(new_df[new_df.dirtiness > np.quantile(new_df.dirtiness,0.8)].word.values)\n",
    "print(new_df[new_df.pestiness > np.quantile(new_df.pestiness,0.8)].word.values)"
   ]
  },
  {
   "cell_type": "code",
   "execution_count": null,
   "id": "72fea19a-264c-44ec-933e-044263db3b8d",
   "metadata": {},
   "outputs": [
    {
     "data": {
      "image/png": "[encoded data removed]",
      "text/plain": [
       "<Figure size 432x288 with 1 Axes>"
      ]
     },
     "metadata": {
      "needs_background": "light"
     },
     "output_type": "display_data"
    }
   ],
   "source": [
    "plt.hist(new_df.pestiness,bins=200)\n",
    "plt.show()"
   ]
  },
  {
   "cell_type": "code",
   "execution_count": 661,
   "id": "7ead41a9-d658-4e57-af14-071f551e978f",
   "metadata": {},
   "outputs": [
    {
     "data": {
      "text/html": [
       "<div>\n",
       "<style scoped>\n",
       "    .dataframe tbody tr th:only-of-type {\n",
       "        vertical-align: middle;\n",
       "    }\n",
       "\n",
       "    .dataframe tbody tr th {\n",
       "        vertical-align: top;\n",
       "    }\n",
       "\n",
       "    .dataframe thead th {\n",
       "        text-align: right;\n",
       "    }\n",
       "</style>\n",
       "<table border=\"1\" class=\"dataframe\">\n",
       "  <thead>\n",
       "    <tr style=\"text-align: right;\">\n",
       "      <th></th>\n",
       "      <th>business_id</th>\n",
       "      <th>review_id</th>\n",
       "      <th>text</th>\n",
       "      <th>date</th>\n",
       "      <th>review_stars</th>\n",
       "      <th>Score</th>\n",
       "      <th>stars</th>\n",
       "    </tr>\n",
       "  </thead>\n",
       "  <tbody>\n",
       "    <tr>\n",
       "      <th>0</th>\n",
       "      <td>NRPemqVb4qpWFF0Avq_6OQ</td>\n",
       "      <td>058Ifx7-wXugpY2CO3X4gA</td>\n",
       "      <td>We went tonight following our favorite new Sus...</td>\n",
       "      <td>2017-03-17 01:53:14</td>\n",
       "      <td>5</td>\n",
       "      <td>76.0</td>\n",
       "      <td>4.5</td>\n",
       "    </tr>\n",
       "    <tr>\n",
       "      <th>1</th>\n",
       "      <td>NRPemqVb4qpWFF0Avq_6OQ</td>\n",
       "      <td>iqgH--t6KCxocbniQE87EQ</td>\n",
       "      <td>First Indonesian Owned restaurant I found that...</td>\n",
       "      <td>2017-03-18 22:03:24</td>\n",
       "      <td>5</td>\n",
       "      <td>76.0</td>\n",
       "      <td>4.5</td>\n",
       "    </tr>\n",
       "    <tr>\n",
       "      <th>2</th>\n",
       "      <td>NRPemqVb4qpWFF0Avq_6OQ</td>\n",
       "      <td>sCZ7J-35Ro4FHEXBmUShHw</td>\n",
       "      <td>A great addition to the area! Personnel are ve...</td>\n",
       "      <td>2017-03-19 23:45:12</td>\n",
       "      <td>5</td>\n",
       "      <td>76.0</td>\n",
       "      <td>4.5</td>\n",
       "    </tr>\n",
       "    <tr>\n",
       "      <th>3</th>\n",
       "      <td>NRPemqVb4qpWFF0Avq_6OQ</td>\n",
       "      <td>jmfkhC53ETKV3Dzsq7bBOw</td>\n",
       "      <td>Pleasantly surprised by the energy that went i...</td>\n",
       "      <td>2017-03-21 19:34:06</td>\n",
       "      <td>5</td>\n",
       "      <td>76.0</td>\n",
       "      <td>4.5</td>\n",
       "    </tr>\n",
       "    <tr>\n",
       "      <th>4</th>\n",
       "      <td>NRPemqVb4qpWFF0Avq_6OQ</td>\n",
       "      <td>bzZ-Ei2AQDI7uEfnUv6R0g</td>\n",
       "      <td>Good food and very friendly wait staff. Best s...</td>\n",
       "      <td>2017-03-22 00:28:22</td>\n",
       "      <td>5</td>\n",
       "      <td>76.0</td>\n",
       "      <td>4.5</td>\n",
       "    </tr>\n",
       "    <tr>\n",
       "      <th>...</th>\n",
       "      <td>...</td>\n",
       "      <td>...</td>\n",
       "      <td>...</td>\n",
       "      <td>...</td>\n",
       "      <td>...</td>\n",
       "      <td>...</td>\n",
       "      <td>...</td>\n",
       "    </tr>\n",
       "    <tr>\n",
       "      <th>570609</th>\n",
       "      <td>EaBDXdIQ_TeeUhn1Twnjvg</td>\n",
       "      <td>o7KKw9gZ1zADWR3OvwJOjQ</td>\n",
       "      <td>I've heard only good things about this noodle ...</td>\n",
       "      <td>2019-10-28 02:35:05</td>\n",
       "      <td>5</td>\n",
       "      <td>73.0</td>\n",
       "      <td>3.5</td>\n",
       "    </tr>\n",
       "    <tr>\n",
       "      <th>570610</th>\n",
       "      <td>EaBDXdIQ_TeeUhn1Twnjvg</td>\n",
       "      <td>vKLOotHW3NGAWGd_AKmrxw</td>\n",
       "      <td>I've had a very hot or miss experience with sh...</td>\n",
       "      <td>2019-11-20 00:57:20</td>\n",
       "      <td>4</td>\n",
       "      <td>73.0</td>\n",
       "      <td>3.5</td>\n",
       "    </tr>\n",
       "    <tr>\n",
       "      <th>570611</th>\n",
       "      <td>EaBDXdIQ_TeeUhn1Twnjvg</td>\n",
       "      <td>RqU0sEZcHc25RWap4v9_5A</td>\n",
       "      <td>The best Chinese food we have found in the are...</td>\n",
       "      <td>2019-11-23 21:38:24</td>\n",
       "      <td>5</td>\n",
       "      <td>73.0</td>\n",
       "      <td>3.5</td>\n",
       "    </tr>\n",
       "    <tr>\n",
       "      <th>570612</th>\n",
       "      <td>EaBDXdIQ_TeeUhn1Twnjvg</td>\n",
       "      <td>zvZR61Ioy-5dhw_3Q3kPFw</td>\n",
       "      <td>This is a small and simple restaurant but such...</td>\n",
       "      <td>2020-01-17 01:25:08</td>\n",
       "      <td>5</td>\n",
       "      <td>73.0</td>\n",
       "      <td>3.5</td>\n",
       "    </tr>\n",
       "    <tr>\n",
       "      <th>570613</th>\n",
       "      <td>EaBDXdIQ_TeeUhn1Twnjvg</td>\n",
       "      <td>gdCc799iZY35tLwjBXco2A</td>\n",
       "      <td>Oooooooh my goodness... best Asian food I've e...</td>\n",
       "      <td>2020-03-10 00:43:23</td>\n",
       "      <td>5</td>\n",
       "      <td>85.0</td>\n",
       "      <td>3.5</td>\n",
       "    </tr>\n",
       "  </tbody>\n",
       "</table>\n",
       "<p>570614 rows × 7 columns</p>\n",
       "</div>"
      ],
      "text/plain": [
       "                   business_id               review_id  \\\n",
       "0       NRPemqVb4qpWFF0Avq_6OQ  058Ifx7-wXugpY2CO3X4gA   \n",
       "1       NRPemqVb4qpWFF0Avq_6OQ  iqgH--t6KCxocbniQE87EQ   \n",
       "2       NRPemqVb4qpWFF0Avq_6OQ  sCZ7J-35Ro4FHEXBmUShHw   \n",
       "3       NRPemqVb4qpWFF0Avq_6OQ  jmfkhC53ETKV3Dzsq7bBOw   \n",
       "4       NRPemqVb4qpWFF0Avq_6OQ  bzZ-Ei2AQDI7uEfnUv6R0g   \n",
       "...                        ...                     ...   \n",
       "570609  EaBDXdIQ_TeeUhn1Twnjvg  o7KKw9gZ1zADWR3OvwJOjQ   \n",
       "570610  EaBDXdIQ_TeeUhn1Twnjvg  vKLOotHW3NGAWGd_AKmrxw   \n",
       "570611  EaBDXdIQ_TeeUhn1Twnjvg  RqU0sEZcHc25RWap4v9_5A   \n",
       "570612  EaBDXdIQ_TeeUhn1Twnjvg  zvZR61Ioy-5dhw_3Q3kPFw   \n",
       "570613  EaBDXdIQ_TeeUhn1Twnjvg  gdCc799iZY35tLwjBXco2A   \n",
       "\n",
       "                                                     text  \\\n",
       "0       We went tonight following our favorite new Sus...   \n",
       "1       First Indonesian Owned restaurant I found that...   \n",
       "2       A great addition to the area! Personnel are ve...   \n",
       "3       Pleasantly surprised by the energy that went i...   \n",
       "4       Good food and very friendly wait staff. Best s...   \n",
       "...                                                   ...   \n",
       "570609  I've heard only good things about this noodle ...   \n",
       "570610  I've had a very hot or miss experience with sh...   \n",
       "570611  The best Chinese food we have found in the are...   \n",
       "570612  This is a small and simple restaurant but such...   \n",
       "570613  Oooooooh my goodness... best Asian food I've e...   \n",
       "\n",
       "                       date  review_stars  Score  stars  \n",
       "0       2017-03-17 01:53:14             5   76.0    4.5  \n",
       "1       2017-03-18 22:03:24             5   76.0    4.5  \n",
       "2       2017-03-19 23:45:12             5   76.0    4.5  \n",
       "3       2017-03-21 19:34:06             5   76.0    4.5  \n",
       "4       2017-03-22 00:28:22             5   76.0    4.5  \n",
       "...                     ...           ...    ...    ...  \n",
       "570609  2019-10-28 02:35:05             5   73.0    3.5  \n",
       "570610  2019-11-20 00:57:20             4   73.0    3.5  \n",
       "570611  2019-11-23 21:38:24             5   73.0    3.5  \n",
       "570612  2020-01-17 01:25:08             5   73.0    3.5  \n",
       "570613  2020-03-10 00:43:23             5   85.0    3.5  \n",
       "\n",
       "[570614 rows x 7 columns]"
      ]
     },
     "execution_count": 661,
     "metadata": {},
     "output_type": "execute_result"
    }
   ],
   "source": [
    "df.groupby('business_id','Score'"
   ]
  },
  {
   "cell_type": "code",
   "execution_count": null,
   "id": "08a33192-476c-4a4d-8b51-1cecd5fc40ca",
   "metadata": {},
   "outputs": [],
   "source": []
  },
  {
   "cell_type": "code",
   "execution_count": 643,
   "id": "6eed12fa-77f3-4f5a-8c18-469a391a3985",
   "metadata": {},
   "outputs": [],
   "source": [
    "df_concat = df.groupby(['business_id','Score']).agg(\n",
    "    Concat_text = ('text', lambda x: ' '.join(x))\n",
    ").reset_index()"
   ]
  },
  {
   "cell_type": "code",
   "execution_count": 658,
   "id": "35d03a94-0cba-48ca-a8fe-cf5cadc5c4db",
   "metadata": {},
   "outputs": [
    {
     "name": "stdout",
     "output_type": "stream",
     "text": [
      "CPU times: total: 547 ms\n",
      "Wall time: 541 ms\n"
     ]
    },
    {
     "data": {
      "text/plain": [
       "0    0.587708\n",
       "1    0.416375\n",
       "2    0.565273\n",
       "3    0.586738\n",
       "4    0.569732\n",
       "5    0.569019\n",
       "6    0.563806\n",
       "7    0.595096\n",
       "8    0.568131\n",
       "9    0.568271\n",
       "Name: Concat_text, dtype: float64"
      ]
     },
     "execution_count": 658,
     "metadata": {},
     "output_type": "execute_result"
    }
   ],
   "source": [
    "%%time\n",
    "df_concat.Concat_text[0:10].apply(review_model)"
   ]
  },
  {
   "cell_type": "code",
   "execution_count": 660,
   "id": "65052412-7c29-439a-9484-04706628bd91",
   "metadata": {},
   "outputs": [
    {
     "data": {
      "text/html": [
       "<div>\n",
       "<style scoped>\n",
       "    .dataframe tbody tr th:only-of-type {\n",
       "        vertical-align: middle;\n",
       "    }\n",
       "\n",
       "    .dataframe tbody tr th {\n",
       "        vertical-align: top;\n",
       "    }\n",
       "\n",
       "    .dataframe thead th {\n",
       "        text-align: right;\n",
       "    }\n",
       "</style>\n",
       "<table border=\"1\" class=\"dataframe\">\n",
       "  <thead>\n",
       "    <tr style=\"text-align: right;\">\n",
       "      <th></th>\n",
       "      <th>business_id</th>\n",
       "      <th>Score</th>\n",
       "      <th>Concat_text</th>\n",
       "    </tr>\n",
       "  </thead>\n",
       "  <tbody>\n",
       "    <tr>\n",
       "      <th>0</th>\n",
       "      <td>-0TbQsmE2p1bhG30rgvK2Q</td>\n",
       "      <td>93.0</td>\n",
       "      <td>It's right across the street from my condo, so...</td>\n",
       "    </tr>\n",
       "    <tr>\n",
       "      <th>1</th>\n",
       "      <td>-0TbQsmE2p1bhG30rgvK2Q</td>\n",
       "      <td>95.0</td>\n",
       "      <td>RiverCity Market has hands-down the best craft...</td>\n",
       "    </tr>\n",
       "    <tr>\n",
       "      <th>2</th>\n",
       "      <td>-0TbQsmE2p1bhG30rgvK2Q</td>\n",
       "      <td>98.0</td>\n",
       "      <td>Awesome beer and wine selection! Nice little s...</td>\n",
       "    </tr>\n",
       "    <tr>\n",
       "      <th>3</th>\n",
       "      <td>-4bP1UUgpZumIu6DZMaMzw</td>\n",
       "      <td>86.0</td>\n",
       "      <td>I see a pattern here.\\n\\nNice-looking shop. Lo...</td>\n",
       "    </tr>\n",
       "    <tr>\n",
       "      <th>4</th>\n",
       "      <td>-4bP1UUgpZumIu6DZMaMzw</td>\n",
       "      <td>95.0</td>\n",
       "      <td>Houndstooth has always been fantastic! The bar...</td>\n",
       "    </tr>\n",
       "    <tr>\n",
       "      <th>5</th>\n",
       "      <td>-4cQ12xutjNLW-tPI06_tg</td>\n",
       "      <td>88.0</td>\n",
       "      <td>I went in 2 hours before closing and they said...</td>\n",
       "    </tr>\n",
       "    <tr>\n",
       "      <th>6</th>\n",
       "      <td>-4cQ12xutjNLW-tPI06_tg</td>\n",
       "      <td>89.0</td>\n",
       "      <td>Y'all this place goes ooooooooffffff. I came i...</td>\n",
       "    </tr>\n",
       "    <tr>\n",
       "      <th>7</th>\n",
       "      <td>-4cQ12xutjNLW-tPI06_tg</td>\n",
       "      <td>94.0</td>\n",
       "      <td>Unless you've been a pro stunt driver or done ...</td>\n",
       "    </tr>\n",
       "    <tr>\n",
       "      <th>8</th>\n",
       "      <td>-4cQ12xutjNLW-tPI06_tg</td>\n",
       "      <td>96.0</td>\n",
       "      <td>The food is good. Tacos are amazing. You never...</td>\n",
       "    </tr>\n",
       "    <tr>\n",
       "      <th>9</th>\n",
       "      <td>-4cQ12xutjNLW-tPI06_tg</td>\n",
       "      <td>100.0</td>\n",
       "      <td>During our vacation to Austin, we came here in...</td>\n",
       "    </tr>\n",
       "  </tbody>\n",
       "</table>\n",
       "</div>"
      ],
      "text/plain": [
       "              business_id  Score  \\\n",
       "0  -0TbQsmE2p1bhG30rgvK2Q   93.0   \n",
       "1  -0TbQsmE2p1bhG30rgvK2Q   95.0   \n",
       "2  -0TbQsmE2p1bhG30rgvK2Q   98.0   \n",
       "3  -4bP1UUgpZumIu6DZMaMzw   86.0   \n",
       "4  -4bP1UUgpZumIu6DZMaMzw   95.0   \n",
       "5  -4cQ12xutjNLW-tPI06_tg   88.0   \n",
       "6  -4cQ12xutjNLW-tPI06_tg   89.0   \n",
       "7  -4cQ12xutjNLW-tPI06_tg   94.0   \n",
       "8  -4cQ12xutjNLW-tPI06_tg   96.0   \n",
       "9  -4cQ12xutjNLW-tPI06_tg  100.0   \n",
       "\n",
       "                                         Concat_text  \n",
       "0  It's right across the street from my condo, so...  \n",
       "1  RiverCity Market has hands-down the best craft...  \n",
       "2  Awesome beer and wine selection! Nice little s...  \n",
       "3  I see a pattern here.\\n\\nNice-looking shop. Lo...  \n",
       "4  Houndstooth has always been fantastic! The bar...  \n",
       "5  I went in 2 hours before closing and they said...  \n",
       "6  Y'all this place goes ooooooooffffff. I came i...  \n",
       "7  Unless you've been a pro stunt driver or done ...  \n",
       "8  The food is good. Tacos are amazing. You never...  \n",
       "9  During our vacation to Austin, we came here in...  "
      ]
     },
     "execution_count": 660,
     "metadata": {},
     "output_type": "execute_result"
    }
   ],
   "source": [
    "df_concat[0:10]"
   ]
  },
  {
   "cell_type": "code",
   "execution_count": 655,
   "id": "c575c244-daee-46e2-8131-f919a03d1907",
   "metadata": {
    "collapsed": true,
    "jupyter": {
     "outputs_hidden": true
    },
    "tags": []
   },
   "outputs": [
    {
     "ename": "KeyboardInterrupt",
     "evalue": "",
     "output_type": "error",
     "traceback": [
      "\u001b[1;31m---------------------------------------------------------------------------\u001b[0m",
      "\u001b[1;31mKeyboardInterrupt\u001b[0m                         Traceback (most recent call last)",
      "Input \u001b[1;32mIn [655]\u001b[0m, in \u001b[0;36m<cell line: 1>\u001b[1;34m()\u001b[0m\n\u001b[1;32m----> 1\u001b[0m df_concat[\u001b[38;5;124m'\u001b[39m\u001b[38;5;124mdirtiness\u001b[39m\u001b[38;5;124m'\u001b[39m] \u001b[38;5;241m=\u001b[39m \u001b[43mdf_concat\u001b[49m\u001b[38;5;241;43m.\u001b[39;49m\u001b[43mConcat_text\u001b[49m\u001b[38;5;241;43m.\u001b[39;49m\u001b[43mapply\u001b[49m\u001b[43m(\u001b[49m\u001b[43mreview_model\u001b[49m\u001b[43m)\u001b[49m\n",
      "File \u001b[1;32m~\\anaconda3\\envs\\pypy\\lib\\site-packages\\pandas\\core\\series.py:4433\u001b[0m, in \u001b[0;36mSeries.apply\u001b[1;34m(self, func, convert_dtype, args, **kwargs)\u001b[0m\n\u001b[0;32m   4323\u001b[0m \u001b[38;5;28;01mdef\u001b[39;00m \u001b[38;5;21mapply\u001b[39m(\n\u001b[0;32m   4324\u001b[0m     \u001b[38;5;28mself\u001b[39m,\n\u001b[0;32m   4325\u001b[0m     func: AggFuncType,\n\u001b[1;32m   (...)\u001b[0m\n\u001b[0;32m   4328\u001b[0m     \u001b[38;5;241m*\u001b[39m\u001b[38;5;241m*\u001b[39mkwargs,\n\u001b[0;32m   4329\u001b[0m ) \u001b[38;5;241m-\u001b[39m\u001b[38;5;241m>\u001b[39m DataFrame \u001b[38;5;241m|\u001b[39m Series:\n\u001b[0;32m   4330\u001b[0m     \u001b[38;5;124;03m\"\"\"\u001b[39;00m\n\u001b[0;32m   4331\u001b[0m \u001b[38;5;124;03m    Invoke function on values of Series.\u001b[39;00m\n\u001b[0;32m   4332\u001b[0m \n\u001b[1;32m   (...)\u001b[0m\n\u001b[0;32m   4431\u001b[0m \u001b[38;5;124;03m    dtype: float64\u001b[39;00m\n\u001b[0;32m   4432\u001b[0m \u001b[38;5;124;03m    \"\"\"\u001b[39;00m\n\u001b[1;32m-> 4433\u001b[0m     \u001b[38;5;28;01mreturn\u001b[39;00m \u001b[43mSeriesApply\u001b[49m\u001b[43m(\u001b[49m\u001b[38;5;28;43mself\u001b[39;49m\u001b[43m,\u001b[49m\u001b[43m \u001b[49m\u001b[43mfunc\u001b[49m\u001b[43m,\u001b[49m\u001b[43m \u001b[49m\u001b[43mconvert_dtype\u001b[49m\u001b[43m,\u001b[49m\u001b[43m \u001b[49m\u001b[43margs\u001b[49m\u001b[43m,\u001b[49m\u001b[43m \u001b[49m\u001b[43mkwargs\u001b[49m\u001b[43m)\u001b[49m\u001b[38;5;241;43m.\u001b[39;49m\u001b[43mapply\u001b[49m\u001b[43m(\u001b[49m\u001b[43m)\u001b[49m\n",
      "File \u001b[1;32m~\\anaconda3\\envs\\pypy\\lib\\site-packages\\pandas\\core\\apply.py:1082\u001b[0m, in \u001b[0;36mSeriesApply.apply\u001b[1;34m(self)\u001b[0m\n\u001b[0;32m   1078\u001b[0m \u001b[38;5;28;01mif\u001b[39;00m \u001b[38;5;28misinstance\u001b[39m(\u001b[38;5;28mself\u001b[39m\u001b[38;5;241m.\u001b[39mf, \u001b[38;5;28mstr\u001b[39m):\n\u001b[0;32m   1079\u001b[0m     \u001b[38;5;66;03m# if we are a string, try to dispatch\u001b[39;00m\n\u001b[0;32m   1080\u001b[0m     \u001b[38;5;28;01mreturn\u001b[39;00m \u001b[38;5;28mself\u001b[39m\u001b[38;5;241m.\u001b[39mapply_str()\n\u001b[1;32m-> 1082\u001b[0m \u001b[38;5;28;01mreturn\u001b[39;00m \u001b[38;5;28;43mself\u001b[39;49m\u001b[38;5;241;43m.\u001b[39;49m\u001b[43mapply_standard\u001b[49m\u001b[43m(\u001b[49m\u001b[43m)\u001b[49m\n",
      "File \u001b[1;32m~\\anaconda3\\envs\\pypy\\lib\\site-packages\\pandas\\core\\apply.py:1137\u001b[0m, in \u001b[0;36mSeriesApply.apply_standard\u001b[1;34m(self)\u001b[0m\n\u001b[0;32m   1131\u001b[0m         values \u001b[38;5;241m=\u001b[39m obj\u001b[38;5;241m.\u001b[39mastype(\u001b[38;5;28mobject\u001b[39m)\u001b[38;5;241m.\u001b[39m_values\n\u001b[0;32m   1132\u001b[0m         \u001b[38;5;66;03m# error: Argument 2 to \"map_infer\" has incompatible type\u001b[39;00m\n\u001b[0;32m   1133\u001b[0m         \u001b[38;5;66;03m# \"Union[Callable[..., Any], str, List[Union[Callable[..., Any], str]],\u001b[39;00m\n\u001b[0;32m   1134\u001b[0m         \u001b[38;5;66;03m# Dict[Hashable, Union[Union[Callable[..., Any], str],\u001b[39;00m\n\u001b[0;32m   1135\u001b[0m         \u001b[38;5;66;03m# List[Union[Callable[..., Any], str]]]]]\"; expected\u001b[39;00m\n\u001b[0;32m   1136\u001b[0m         \u001b[38;5;66;03m# \"Callable[[Any], Any]\"\u001b[39;00m\n\u001b[1;32m-> 1137\u001b[0m         mapped \u001b[38;5;241m=\u001b[39m \u001b[43mlib\u001b[49m\u001b[38;5;241;43m.\u001b[39;49m\u001b[43mmap_infer\u001b[49m\u001b[43m(\u001b[49m\n\u001b[0;32m   1138\u001b[0m \u001b[43m            \u001b[49m\u001b[43mvalues\u001b[49m\u001b[43m,\u001b[49m\n\u001b[0;32m   1139\u001b[0m \u001b[43m            \u001b[49m\u001b[43mf\u001b[49m\u001b[43m,\u001b[49m\u001b[43m  \u001b[49m\u001b[38;5;66;43;03m# type: ignore[arg-type]\u001b[39;49;00m\n\u001b[0;32m   1140\u001b[0m \u001b[43m            \u001b[49m\u001b[43mconvert\u001b[49m\u001b[38;5;241;43m=\u001b[39;49m\u001b[38;5;28;43mself\u001b[39;49m\u001b[38;5;241;43m.\u001b[39;49m\u001b[43mconvert_dtype\u001b[49m\u001b[43m,\u001b[49m\n\u001b[0;32m   1141\u001b[0m \u001b[43m        \u001b[49m\u001b[43m)\u001b[49m\n\u001b[0;32m   1143\u001b[0m \u001b[38;5;28;01mif\u001b[39;00m \u001b[38;5;28mlen\u001b[39m(mapped) \u001b[38;5;129;01mand\u001b[39;00m \u001b[38;5;28misinstance\u001b[39m(mapped[\u001b[38;5;241m0\u001b[39m], ABCSeries):\n\u001b[0;32m   1144\u001b[0m     \u001b[38;5;66;03m# GH#43986 Need to do list(mapped) in order to get treated as nested\u001b[39;00m\n\u001b[0;32m   1145\u001b[0m     \u001b[38;5;66;03m#  See also GH#25959 regarding EA support\u001b[39;00m\n\u001b[0;32m   1146\u001b[0m     \u001b[38;5;28;01mreturn\u001b[39;00m obj\u001b[38;5;241m.\u001b[39m_constructor_expanddim(\u001b[38;5;28mlist\u001b[39m(mapped), index\u001b[38;5;241m=\u001b[39mobj\u001b[38;5;241m.\u001b[39mindex)\n",
      "File \u001b[1;32m~\\anaconda3\\envs\\pypy\\lib\\site-packages\\pandas\\_libs\\lib.pyx:2870\u001b[0m, in \u001b[0;36mpandas._libs.lib.map_infer\u001b[1;34m()\u001b[0m\n",
      "Input \u001b[1;32mIn [632]\u001b[0m, in \u001b[0;36mreview_model\u001b[1;34m(text, output, index)\u001b[0m\n\u001b[0;32m      7\u001b[0m vec_list \u001b[38;5;241m=\u001b[39m review2vec(words,\u001b[38;5;124m'\u001b[39m\u001b[38;5;124mlist\u001b[39m\u001b[38;5;124m'\u001b[39m)\n\u001b[0;32m      9\u001b[0m new_df \u001b[38;5;241m=\u001b[39m pd\u001b[38;5;241m.\u001b[39mDataFrame()\n\u001b[1;32m---> 10\u001b[0m new_df[\u001b[38;5;124m'\u001b[39m\u001b[38;5;124mdirtiness\u001b[39m\u001b[38;5;124m'\u001b[39m] \u001b[38;5;241m=\u001b[39m [vec_similarity(DIRTY_VECTOR, vec) \u001b[38;5;28;01mfor\u001b[39;00m vec \u001b[38;5;129;01min\u001b[39;00m vec_list]\n\u001b[0;32m     11\u001b[0m new_df[\u001b[38;5;124m'\u001b[39m\u001b[38;5;124mpestiness\u001b[39m\u001b[38;5;124m'\u001b[39m] \u001b[38;5;241m=\u001b[39m [vec_similarity(PEST_VECTOR, vec) \u001b[38;5;28;01mfor\u001b[39;00m vec \u001b[38;5;129;01min\u001b[39;00m vec_list]\n\u001b[0;32m     13\u001b[0m \u001b[38;5;28;01mif\u001b[39;00m output \u001b[38;5;241m==\u001b[39m \u001b[38;5;124m'\u001b[39m\u001b[38;5;124mnumber\u001b[39m\u001b[38;5;124m'\u001b[39m: \u001b[38;5;66;03m# just get one number for each review\u001b[39;00m\n",
      "Input \u001b[1;32mIn [632]\u001b[0m, in \u001b[0;36m<listcomp>\u001b[1;34m(.0)\u001b[0m\n\u001b[0;32m      7\u001b[0m vec_list \u001b[38;5;241m=\u001b[39m review2vec(words,\u001b[38;5;124m'\u001b[39m\u001b[38;5;124mlist\u001b[39m\u001b[38;5;124m'\u001b[39m)\n\u001b[0;32m      9\u001b[0m new_df \u001b[38;5;241m=\u001b[39m pd\u001b[38;5;241m.\u001b[39mDataFrame()\n\u001b[1;32m---> 10\u001b[0m new_df[\u001b[38;5;124m'\u001b[39m\u001b[38;5;124mdirtiness\u001b[39m\u001b[38;5;124m'\u001b[39m] \u001b[38;5;241m=\u001b[39m [\u001b[43mvec_similarity\u001b[49m\u001b[43m(\u001b[49m\u001b[43mDIRTY_VECTOR\u001b[49m\u001b[43m,\u001b[49m\u001b[43m \u001b[49m\u001b[43mvec\u001b[49m\u001b[43m)\u001b[49m \u001b[38;5;28;01mfor\u001b[39;00m vec \u001b[38;5;129;01min\u001b[39;00m vec_list]\n\u001b[0;32m     11\u001b[0m new_df[\u001b[38;5;124m'\u001b[39m\u001b[38;5;124mpestiness\u001b[39m\u001b[38;5;124m'\u001b[39m] \u001b[38;5;241m=\u001b[39m [vec_similarity(PEST_VECTOR, vec) \u001b[38;5;28;01mfor\u001b[39;00m vec \u001b[38;5;129;01min\u001b[39;00m vec_list]\n\u001b[0;32m     13\u001b[0m \u001b[38;5;28;01mif\u001b[39;00m output \u001b[38;5;241m==\u001b[39m \u001b[38;5;124m'\u001b[39m\u001b[38;5;124mnumber\u001b[39m\u001b[38;5;124m'\u001b[39m: \u001b[38;5;66;03m# just get one number for each review\u001b[39;00m\n",
      "Input \u001b[1;32mIn [607]\u001b[0m, in \u001b[0;36mvec_similarity\u001b[1;34m(vec1, vec2)\u001b[0m\n\u001b[0;32m      1\u001b[0m \u001b[38;5;28;01mdef\u001b[39;00m \u001b[38;5;21mvec_similarity\u001b[39m(vec1, vec2):\n\u001b[0;32m      2\u001b[0m     \u001b[38;5;124;03m\"\"\"\u001b[39;00m\n\u001b[0;32m      3\u001b[0m \u001b[38;5;124;03m        Dot product of two unit vectors to get similarity between them, same implementation as gensim similarity\u001b[39;00m\n\u001b[0;32m      4\u001b[0m \u001b[38;5;124;03m    \"\"\"\u001b[39;00m\n\u001b[1;32m----> 5\u001b[0m     \u001b[38;5;28;01mreturn\u001b[39;00m np\u001b[38;5;241m.\u001b[39mdot(matutils\u001b[38;5;241m.\u001b[39munitvec(vec1),\u001b[43mmatutils\u001b[49m\u001b[38;5;241;43m.\u001b[39;49m\u001b[43munitvec\u001b[49m\u001b[43m(\u001b[49m\u001b[43mvec2\u001b[49m\u001b[43m)\u001b[49m)\n",
      "File \u001b[1;32m~\\anaconda3\\envs\\pypy\\lib\\site-packages\\gensim\\matutils.py:755\u001b[0m, in \u001b[0;36munitvec\u001b[1;34m(vec, norm, return_norm)\u001b[0m\n\u001b[0;32m    753\u001b[0m         \u001b[38;5;28;01mreturn\u001b[39;00m blas_scal(\u001b[38;5;241m1.0\u001b[39m \u001b[38;5;241m/\u001b[39m veclen, vec)\u001b[38;5;241m.\u001b[39mastype(vec\u001b[38;5;241m.\u001b[39mdtype), veclen\n\u001b[0;32m    754\u001b[0m     \u001b[38;5;28;01melse\u001b[39;00m:\n\u001b[1;32m--> 755\u001b[0m         \u001b[38;5;28;01mreturn\u001b[39;00m \u001b[43mblas_scal\u001b[49m\u001b[43m(\u001b[49m\u001b[38;5;241;43m1.0\u001b[39;49m\u001b[43m \u001b[49m\u001b[38;5;241;43m/\u001b[39;49m\u001b[43m \u001b[49m\u001b[43mveclen\u001b[49m\u001b[43m,\u001b[49m\u001b[43m \u001b[49m\u001b[43mvec\u001b[49m\u001b[43m)\u001b[49m\u001b[38;5;241m.\u001b[39mastype(vec\u001b[38;5;241m.\u001b[39mdtype)\n\u001b[0;32m    756\u001b[0m \u001b[38;5;28;01melse\u001b[39;00m:\n\u001b[0;32m    757\u001b[0m     \u001b[38;5;28;01mif\u001b[39;00m return_norm:\n",
      "\u001b[1;31mKeyboardInterrupt\u001b[0m: "
     ]
    }
   ],
   "source": [
    "%%time\n",
    "df_concat['dirtiness'] = df_concat.Concat_text.apply(review_model)"
   ]
  },
  {
   "cell_type": "markdown",
   "id": "c8f94611-0a1a-4bf2-90bf-ef115231d5a5",
   "metadata": {
    "jp-MarkdownHeadingCollapsed": true,
    "tags": []
   },
   "source": [
    "# Other ideas"
   ]
  },
  {
   "cell_type": "markdown",
   "id": "5ca0403e-0073-461f-b652-4e595ffc4c9a",
   "metadata": {},
   "source": [
    "## doc2vec"
   ]
  },
  {
   "cell_type": "markdown",
   "id": "7b7c7f71-80a5-4ad4-8e28-25a0ca43cdc9",
   "metadata": {},
   "source": [
    "Any single word embedding technique is just bag of words in the end on a sentence. There are more complicated ways to incorporate word embeddings for sentences, but implementing those is not worth it for our data set.\n",
    "\n",
    "Gensim has a Doc2Vec model which extends word2vec to the document level. There aren't many pre-trained doc2vec models/vectors, but this answer https://stackoverflow.com/a/31417164 makes it sound like it's not that bad of an idea to feed pre-trained word2vec models into doc2vec. I'm not so sure.\n",
    "\n",
    "Some pre-trained Doc2Vec models on wikipedia and AP news https://github.com/jhlau/doc2vec. Not sure how much this helps, since the glove word embeddings trained on colloquial twitter text would be closer to yelp review text."
   ]
  },
  {
   "cell_type": "markdown",
   "id": "877daf56-7d67-4fef-8d56-81e6c3d0e53b",
   "metadata": {},
   "source": [
    "## contextual models: BERT and ELMo"
   ]
  },
  {
   "cell_type": "markdown",
   "id": "d9a0ef9d-9b42-457e-8df5-716bf523ba96",
   "metadata": {},
   "source": [
    "Word2vec is context-free and looks only at single word embedding. It might make more sense to look at contextual models like BERT and Elmo\n",
    "\n",
    "Using bert https://jalammar.github.io/a-visual-guide-to-using-bert-for-the-first-time/"
   ]
  }
 ],
 "metadata": {
  "kernelspec": {
   "display_name": "Python 3 (ipykernel)",
   "language": "python",
   "name": "python3"
  },
  "language_info": {
   "codemirror_mode": {
    "name": "ipython",
    "version": 3
   },
   "file_extension": ".py",
   "mimetype": "text/x-python",
   "name": "python",
   "nbconvert_exporter": "python",
   "pygments_lexer": "ipython3",
   "version": "3.9.12"
  },
  "toc-autonumbering": true
 },
 "nbformat": 4,
 "nbformat_minor": 5
}
