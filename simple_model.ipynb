{
 "cells": [
  {
   "cell_type": "markdown",
   "id": "476a8d99-caa4-4a43-a362-3d765c55f3ea",
   "metadata": {},
   "source": [
    "# Yelp grossometer"
   ]
  },
  {
   "cell_type": "code",
   "execution_count": 1,
   "id": "dadef8d8-df51-4e7c-8b10-ca79dc52c376",
   "metadata": {},
   "outputs": [],
   "source": [
    "%matplotlib inline\n",
    "import pandas as pd\n",
    "import numpy as np\n",
    "import matplotlib.pyplot as plt\n",
    "\n",
    "main_directory = r'C:\\Users\\ASUS\\Desktop\\ML-data science\\DataIncubator\\yelp-cleaners' + '\\\\'\n",
    "processed_data_directory = main_directory + r'data\\processed data' + '\\\\'"
   ]
  },
  {
   "cell_type": "code",
   "execution_count": 2,
   "id": "e123f085-47ed-4ab8-a374-76ca4acd4ffe",
   "metadata": {},
   "outputs": [],
   "source": [
    "business_df_latest = pd.read_csv(processed_data_directory + 'business_df_latest_inspection.csv')\n",
    "business_df = pd.read_csv(processed_data_directory + 'business_df.csv')\n",
    "review_df = pd.read_csv(processed_data_directory + 'review_df.csv')"
   ]
  },
  {
   "cell_type": "code",
   "execution_count": 142,
   "id": "5984e3e6-5452-42d3-a8dd-49f4a615d367",
   "metadata": {},
   "outputs": [],
   "source": [
    "from sklearn.base import BaseEstimator, RegressorMixin, TransformerMixin\n",
    "from sklearn.compose import ColumnTransformer\n",
    "from sklearn.pipeline import Pipeline\n",
    "from sklearn.feature_extraction.text import CountVectorizer, TfidfVectorizer, TfidfTransformer, HashingVectorizer\n",
    "from sklearn.utils import shuffle\n",
    "from sklearn.model_selection import cross_val_score, GridSearchCV, train_test_split\n",
    "from sklearn.linear_model import Ridge, LinearRegression, SGDRegressor, LogisticRegression"
   ]
  },
  {
   "cell_type": "code",
   "execution_count": 234,
   "id": "2de86b26-15e0-40e9-af83-63a85e054bb3",
   "metadata": {},
   "outputs": [],
   "source": [
    "import spacy\n",
    "# nlp = spacy.load(\"en_core_web_sm\")\n",
    "from spacy.lang.en.stop_words import STOP_WORDS\n",
    "STOP_WORDS = STOP_WORDS.union({'ll', 've'})\n",
    "from sklearn.naive_bayes import MultinomialNB"
   ]
  },
  {
   "cell_type": "markdown",
   "id": "6ec47755-33d9-4296-aa86-5297aff40638",
   "metadata": {
    "tags": []
   },
   "source": [
    "# process dataset"
   ]
  },
  {
   "cell_type": "markdown",
   "id": "d8d24e7e-d06c-4937-9066-4d521524f24e",
   "metadata": {
    "tags": []
   },
   "source": [
    "## score based on review date"
   ]
  },
  {
   "cell_type": "markdown",
   "id": "ce4da380-384c-411a-8139-1a0ede8220a3",
   "metadata": {},
   "source": [
    "Let's strip the dataframes of all unnecessary features, leaving only the business_id, inspection score & date, review score & date. Then we look for the inspection nearest to each individual review in time, and use that inspection score for the 'cleanliness' of the business at the time of the review.\n",
    "\n",
    "We set a tolerance of 2 years to exclude all reviews that are 2 years away from an inspection. This limits us to reviews posted from 2017 to 2021, cutting down the dataset by 50%."
   ]
  },
  {
   "cell_type": "code",
   "execution_count": 179,
   "id": "d3ca58a9-390f-4fe5-a843-f34a93d0b413",
   "metadata": {},
   "outputs": [],
   "source": [
    "bare_bones_bdf = business_df[['business_id','Inspection Date','Score','stars']].rename({'Inspection Date':'date'},axis=1).copy()\n",
    "bare_bones_bdf['date'] = pd.to_datetime(bare_bones_bdf['date'])"
   ]
  },
  {
   "cell_type": "code",
   "execution_count": 180,
   "id": "fa83f09e-e5be-4349-9fda-8b2984b51aba",
   "metadata": {},
   "outputs": [
    {
     "data": {
      "text/html": [
       "<div>\n",
       "<style scoped>\n",
       "    .dataframe tbody tr th:only-of-type {\n",
       "        vertical-align: middle;\n",
       "    }\n",
       "\n",
       "    .dataframe tbody tr th {\n",
       "        vertical-align: top;\n",
       "    }\n",
       "\n",
       "    .dataframe thead th {\n",
       "        text-align: right;\n",
       "    }\n",
       "</style>\n",
       "<table border=\"1\" class=\"dataframe\">\n",
       "  <thead>\n",
       "    <tr style=\"text-align: right;\">\n",
       "      <th></th>\n",
       "      <th>business_id</th>\n",
       "      <th>review_id</th>\n",
       "      <th>text</th>\n",
       "      <th>date</th>\n",
       "      <th>review_stars</th>\n",
       "    </tr>\n",
       "  </thead>\n",
       "  <tbody>\n",
       "    <tr>\n",
       "      <th>0</th>\n",
       "      <td>mOnesB4IF9j6-ZmHoOHOig</td>\n",
       "      <td>GDgXjXSZCA1iNQWD7OHXfg</td>\n",
       "      <td>I think their rice dishes are way better than ...</td>\n",
       "      <td>2017-05-26 03:05:46</td>\n",
       "      <td>4</td>\n",
       "    </tr>\n",
       "    <tr>\n",
       "      <th>1</th>\n",
       "      <td>-_GnwXmzC3DXsHR9nyaC2g</td>\n",
       "      <td>GgWFjRHhelaiUgR2-H6N4g</td>\n",
       "      <td>3.5 stars! I got the avocado margarita and it ...</td>\n",
       "      <td>2012-11-06 07:09:57</td>\n",
       "      <td>3</td>\n",
       "    </tr>\n",
       "    <tr>\n",
       "      <th>2</th>\n",
       "      <td>bZiIIUcpgxh8mpKMDhdqbA</td>\n",
       "      <td>z-6ElnK3yXpn2oNKR7NYtw</td>\n",
       "      <td>My husband and I shared the parmesan truffly f...</td>\n",
       "      <td>2017-10-11 00:25:47</td>\n",
       "      <td>3</td>\n",
       "    </tr>\n",
       "    <tr>\n",
       "      <th>3</th>\n",
       "      <td>gvpoFnaCq2J7TBXV7yFIkQ</td>\n",
       "      <td>nqUJoSkDr_1mqnLtOrWFSA</td>\n",
       "      <td>Perfect spices, nice atmosphere &amp; music, great...</td>\n",
       "      <td>2017-07-28 19:17:54</td>\n",
       "      <td>5</td>\n",
       "    </tr>\n",
       "    <tr>\n",
       "      <th>4</th>\n",
       "      <td>LUCmOKTK5Uh7eU84yJq3mQ</td>\n",
       "      <td>h6o5mduBqDUkKsa4KRIDzw</td>\n",
       "      <td>Snap is my go-to lunch spot nearly every day! ...</td>\n",
       "      <td>2015-06-08 18:07:06</td>\n",
       "      <td>5</td>\n",
       "    </tr>\n",
       "    <tr>\n",
       "      <th>...</th>\n",
       "      <td>...</td>\n",
       "      <td>...</td>\n",
       "      <td>...</td>\n",
       "      <td>...</td>\n",
       "      <td>...</td>\n",
       "    </tr>\n",
       "    <tr>\n",
       "      <th>570609</th>\n",
       "      <td>dgywJM4JpniwOEDNfrfewg</td>\n",
       "      <td>I_8BJ6vZo7mVHi4TzuEK2A</td>\n",
       "      <td>I rec'd my meal as part of a complimentary Yel...</td>\n",
       "      <td>2020-08-09 19:53:40</td>\n",
       "      <td>2</td>\n",
       "    </tr>\n",
       "    <tr>\n",
       "      <th>570610</th>\n",
       "      <td>Qmq4gr5Mmo2oIVejag48PA</td>\n",
       "      <td>oabuTmGpHquA4sc4C0DatQ</td>\n",
       "      <td>This place serves amazingly tasty gluten free ...</td>\n",
       "      <td>2020-09-13 00:53:03</td>\n",
       "      <td>4</td>\n",
       "    </tr>\n",
       "    <tr>\n",
       "      <th>570611</th>\n",
       "      <td>zM98ZSIJyuBQabyYornLpw</td>\n",
       "      <td>hKxvxtCjEJAwD_7AcnA_iQ</td>\n",
       "      <td>Bartender was friendly and attentive. We came ...</td>\n",
       "      <td>2021-01-10 04:10:45</td>\n",
       "      <td>3</td>\n",
       "    </tr>\n",
       "    <tr>\n",
       "      <th>570612</th>\n",
       "      <td>Wn8j-1-ity6hdjP4bC_wkw</td>\n",
       "      <td>UWHPbsQzfrmjtDCbq2AeDg</td>\n",
       "      <td>Terrible pho. Literally zero flavor. And the c...</td>\n",
       "      <td>2021-01-17 22:09:10</td>\n",
       "      <td>2</td>\n",
       "    </tr>\n",
       "    <tr>\n",
       "      <th>570613</th>\n",
       "      <td>XVmp1LmrXKB8cXomLKbu9w</td>\n",
       "      <td>Xf7iZpZC0MdosClyzZTmGg</td>\n",
       "      <td>Very nice ambiance, clean inside and food is g...</td>\n",
       "      <td>2018-05-28 01:50:26</td>\n",
       "      <td>5</td>\n",
       "    </tr>\n",
       "  </tbody>\n",
       "</table>\n",
       "<p>570614 rows × 5 columns</p>\n",
       "</div>"
      ],
      "text/plain": [
       "                   business_id               review_id  \\\n",
       "0       mOnesB4IF9j6-ZmHoOHOig  GDgXjXSZCA1iNQWD7OHXfg   \n",
       "1       -_GnwXmzC3DXsHR9nyaC2g  GgWFjRHhelaiUgR2-H6N4g   \n",
       "2       bZiIIUcpgxh8mpKMDhdqbA  z-6ElnK3yXpn2oNKR7NYtw   \n",
       "3       gvpoFnaCq2J7TBXV7yFIkQ  nqUJoSkDr_1mqnLtOrWFSA   \n",
       "4       LUCmOKTK5Uh7eU84yJq3mQ  h6o5mduBqDUkKsa4KRIDzw   \n",
       "...                        ...                     ...   \n",
       "570609  dgywJM4JpniwOEDNfrfewg  I_8BJ6vZo7mVHi4TzuEK2A   \n",
       "570610  Qmq4gr5Mmo2oIVejag48PA  oabuTmGpHquA4sc4C0DatQ   \n",
       "570611  zM98ZSIJyuBQabyYornLpw  hKxvxtCjEJAwD_7AcnA_iQ   \n",
       "570612  Wn8j-1-ity6hdjP4bC_wkw  UWHPbsQzfrmjtDCbq2AeDg   \n",
       "570613  XVmp1LmrXKB8cXomLKbu9w  Xf7iZpZC0MdosClyzZTmGg   \n",
       "\n",
       "                                                     text                date  \\\n",
       "0       I think their rice dishes are way better than ... 2017-05-26 03:05:46   \n",
       "1       3.5 stars! I got the avocado margarita and it ... 2012-11-06 07:09:57   \n",
       "2       My husband and I shared the parmesan truffly f... 2017-10-11 00:25:47   \n",
       "3       Perfect spices, nice atmosphere & music, great... 2017-07-28 19:17:54   \n",
       "4       Snap is my go-to lunch spot nearly every day! ... 2015-06-08 18:07:06   \n",
       "...                                                   ...                 ...   \n",
       "570609  I rec'd my meal as part of a complimentary Yel... 2020-08-09 19:53:40   \n",
       "570610  This place serves amazingly tasty gluten free ... 2020-09-13 00:53:03   \n",
       "570611  Bartender was friendly and attentive. We came ... 2021-01-10 04:10:45   \n",
       "570612  Terrible pho. Literally zero flavor. And the c... 2021-01-17 22:09:10   \n",
       "570613  Very nice ambiance, clean inside and food is g... 2018-05-28 01:50:26   \n",
       "\n",
       "        review_stars  \n",
       "0                  4  \n",
       "1                  3  \n",
       "2                  3  \n",
       "3                  5  \n",
       "4                  5  \n",
       "...              ...  \n",
       "570609             2  \n",
       "570610             4  \n",
       "570611             3  \n",
       "570612             2  \n",
       "570613             5  \n",
       "\n",
       "[570614 rows x 5 columns]"
      ]
     },
     "execution_count": 180,
     "metadata": {},
     "output_type": "execute_result"
    }
   ],
   "source": [
    "bare_bones_rdf = review_df[['business_id','review_id','text','date','review_stars']].copy()\n",
    "bare_bones_rdf['date'] = pd.to_datetime(bare_bones_rdf['date'])\n",
    "bare_bones_rdf"
   ]
  },
  {
   "cell_type": "code",
   "execution_count": 181,
   "id": "bd9b8660-3171-418d-8c02-31fa8f344a11",
   "metadata": {},
   "outputs": [],
   "source": [
    "business_ids = bare_bones_bdf.business_id.unique()"
   ]
  },
  {
   "cell_type": "code",
   "execution_count": 182,
   "id": "1f1d8573-0c43-4a54-a5b5-e8d00069a828",
   "metadata": {},
   "outputs": [
    {
     "name": "stdout",
     "output_type": "stream",
     "text": [
      "Wall time: 2min 25s\n"
     ]
    }
   ],
   "source": [
    "%%time\n",
    "# merge score and review dataframes based on closeness in time\n",
    "# needs to be done in a loop over business_id because merge_asof only works with one column\n",
    "biz_df_list = []\n",
    "tolerance = pd.Timedelta(days = 365*2) # two year tolerance\n",
    "for bid in business_ids:\n",
    "    indiv_biz_scores = bare_bones_bdf[bare_bones_bdf['business_id']==bid]\n",
    "    indiv_biz_reviews = bare_bones_rdf[bare_bones_rdf['business_id']==bid].sort_values('date')\n",
    "    out = pd.merge_asof(indiv_biz_reviews,indiv_biz_scores,on='date',direction='nearest',tolerance=tolerance).dropna()\n",
    "    out = out.drop('business_id_y',axis=1).rename(columns={'business_id_x':'business_id'})\n",
    "    biz_df_list.append(out)"
   ]
  },
  {
   "cell_type": "code",
   "execution_count": 183,
   "id": "bb4e3d0d-c761-4512-bd3b-63e46b52c9a6",
   "metadata": {},
   "outputs": [],
   "source": [
    "df = pd.concat(biz_df_list, ignore_index=True, join='outer', axis=0)\n",
    "df.to_csv(processed_data_directory + 'reviews_nearest_score_2_years_df.csv', index=False)"
   ]
  },
  {
   "cell_type": "code",
   "execution_count": 65,
   "id": "588f914d-6aa2-4c00-9246-e24d3026c9a0",
   "metadata": {},
   "outputs": [
    {
     "data": {
      "text/plain": [
       "Timestamp('2017-04-29 16:35:26')"
      ]
     },
     "execution_count": 65,
     "metadata": {},
     "output_type": "execute_result"
    }
   ],
   "source": [
    "sorted(df['date'])[0]"
   ]
  },
  {
   "cell_type": "code",
   "execution_count": 66,
   "id": "af6bd993-169f-4c2a-9430-9462223219a0",
   "metadata": {},
   "outputs": [
    {
     "data": {
      "text/plain": [
       "Timestamp('2021-01-28 15:30:21')"
      ]
     },
     "execution_count": 66,
     "metadata": {},
     "output_type": "execute_result"
    }
   ],
   "source": [
    "sorted(df['date'])[-1]"
   ]
  },
  {
   "cell_type": "code",
   "execution_count": 79,
   "id": "fdecd774-a0d4-454d-9ae9-85ca7e6d35dc",
   "metadata": {},
   "outputs": [
    {
     "data": {
      "image/png": "[encoded data removed]",
      "text/plain": [
       "<Figure size 432x288 with 1 Axes>"
      ]
     },
     "metadata": {
      "needs_background": "light"
     },
     "output_type": "display_data"
    }
   ],
   "source": [
    "# review distribution\n",
    "plt.hist(df.business_id.value_counts(), bins=50)\n",
    "plt.yscale('log')"
   ]
  },
  {
   "cell_type": "markdown",
   "id": "27735690-c7fe-4ed1-b859-64f30349e20f",
   "metadata": {},
   "source": [
    "## some more processing"
   ]
  },
  {
   "cell_type": "code",
   "execution_count": null,
   "id": "12b83f32-2878-4784-9675-66c9a08de4b9",
   "metadata": {},
   "outputs": [],
   "source": [
    "df = pd.read_csv(processed_data_directory + 'reviews_nearest_score_2_years_df.csv')"
   ]
  },
  {
   "cell_type": "code",
   "execution_count": null,
   "id": "4c1278b0-b0a9-4629-a954-7159885e68ee",
   "metadata": {},
   "outputs": [],
   "source": [
    "# discard businesses with < 10 reviews\n",
    "n = 10\n",
    "less_than_n_reviews = df.business_id.value_counts()[df.business_id.value_counts() < n].index\n",
    "df = df[~df['business_id'].isin(less_than_n_reviews)]"
   ]
  },
  {
   "cell_type": "markdown",
   "id": "7fbc1c32-b66f-4d7b-b474-0b360aff99a7",
   "metadata": {},
   "source": [
    "# bag of words model"
   ]
  },
  {
   "cell_type": "markdown",
   "id": "37b6ae89-8eb5-4d5b-a8fd-23d05e4bc412",
   "metadata": {},
   "source": [
    "## dataset subset"
   ]
  },
  {
   "cell_type": "code",
   "execution_count": 202,
   "id": "820d6684-30b0-4d61-86d4-e0ebbfcd5916",
   "metadata": {},
   "outputs": [],
   "source": [
    "df = pd.read_csv(processed_data_directory + 'reviews_nearest_score_2_years_df.csv')"
   ]
  },
  {
   "cell_type": "code",
   "execution_count": 185,
   "id": "74d4c26f-ac0e-42ae-b372-7cb136cd5f44",
   "metadata": {},
   "outputs": [],
   "source": [
    "# let's just look at businesses with 50-100 reviews\n",
    "num_reviews = df.business_id.value_counts()\n",
    "valid_businesses = num_reviews[(num_reviews <= 100) & (num_reviews >= 50)].index\n",
    "df = df[df['business_id'].isin(valid_businesses)].reset_index(drop=True)"
   ]
  },
  {
   "cell_type": "code",
   "execution_count": 203,
   "id": "c9a1d1d8-ff82-4d6b-a371-cfa872a66e51",
   "metadata": {},
   "outputs": [
    {
     "data": {
      "text/html": [
       "<div>\n",
       "<style scoped>\n",
       "    .dataframe tbody tr th:only-of-type {\n",
       "        vertical-align: middle;\n",
       "    }\n",
       "\n",
       "    .dataframe tbody tr th {\n",
       "        vertical-align: top;\n",
       "    }\n",
       "\n",
       "    .dataframe thead th {\n",
       "        text-align: right;\n",
       "    }\n",
       "</style>\n",
       "<table border=\"1\" class=\"dataframe\">\n",
       "  <thead>\n",
       "    <tr style=\"text-align: right;\">\n",
       "      <th></th>\n",
       "      <th>business_id</th>\n",
       "      <th>review_id</th>\n",
       "      <th>text</th>\n",
       "      <th>date</th>\n",
       "      <th>review_stars</th>\n",
       "      <th>Score</th>\n",
       "      <th>stars</th>\n",
       "    </tr>\n",
       "  </thead>\n",
       "  <tbody>\n",
       "    <tr>\n",
       "      <th>0</th>\n",
       "      <td>NRPemqVb4qpWFF0Avq_6OQ</td>\n",
       "      <td>OWkPkotszUbmqxDFHkN-xg</td>\n",
       "      <td>Got takeout from there tonight and loved every...</td>\n",
       "      <td>2017-05-10 00:58:09</td>\n",
       "      <td>5</td>\n",
       "      <td>76.0</td>\n",
       "      <td>4.5</td>\n",
       "    </tr>\n",
       "    <tr>\n",
       "      <th>1</th>\n",
       "      <td>NRPemqVb4qpWFF0Avq_6OQ</td>\n",
       "      <td>p8G2JIEzGIgbH347qJLM8g</td>\n",
       "      <td>Indonesian Italian Japanese restaurant. Yes. Y...</td>\n",
       "      <td>2017-05-13 02:21:41</td>\n",
       "      <td>5</td>\n",
       "      <td>76.0</td>\n",
       "      <td>4.5</td>\n",
       "    </tr>\n",
       "    <tr>\n",
       "      <th>2</th>\n",
       "      <td>NRPemqVb4qpWFF0Avq_6OQ</td>\n",
       "      <td>q5GjvJGxWTg44MpwLVRpYQ</td>\n",
       "      <td>I'd been want nah to try this place out since ...</td>\n",
       "      <td>2017-05-15 22:43:24</td>\n",
       "      <td>5</td>\n",
       "      <td>76.0</td>\n",
       "      <td>4.5</td>\n",
       "    </tr>\n",
       "    <tr>\n",
       "      <th>3</th>\n",
       "      <td>NRPemqVb4qpWFF0Avq_6OQ</td>\n",
       "      <td>XsIuCQsmgNwZz0UCLb2XgA</td>\n",
       "      <td>Really a great find. This place is a diamond. ...</td>\n",
       "      <td>2017-05-17 00:44:54</td>\n",
       "      <td>5</td>\n",
       "      <td>76.0</td>\n",
       "      <td>4.5</td>\n",
       "    </tr>\n",
       "    <tr>\n",
       "      <th>4</th>\n",
       "      <td>NRPemqVb4qpWFF0Avq_6OQ</td>\n",
       "      <td>BzD7FAmpkc0S41QB84fQhw</td>\n",
       "      <td>Wow!  So glad to see some great places coming ...</td>\n",
       "      <td>2017-05-21 01:30:47</td>\n",
       "      <td>5</td>\n",
       "      <td>76.0</td>\n",
       "      <td>4.5</td>\n",
       "    </tr>\n",
       "    <tr>\n",
       "      <th>...</th>\n",
       "      <td>...</td>\n",
       "      <td>...</td>\n",
       "      <td>...</td>\n",
       "      <td>...</td>\n",
       "      <td>...</td>\n",
       "      <td>...</td>\n",
       "      <td>...</td>\n",
       "    </tr>\n",
       "    <tr>\n",
       "      <th>216612</th>\n",
       "      <td>EaBDXdIQ_TeeUhn1Twnjvg</td>\n",
       "      <td>o7KKw9gZ1zADWR3OvwJOjQ</td>\n",
       "      <td>I've heard only good things about this noodle ...</td>\n",
       "      <td>2019-10-28 02:35:05</td>\n",
       "      <td>5</td>\n",
       "      <td>73.0</td>\n",
       "      <td>3.5</td>\n",
       "    </tr>\n",
       "    <tr>\n",
       "      <th>216613</th>\n",
       "      <td>EaBDXdIQ_TeeUhn1Twnjvg</td>\n",
       "      <td>vKLOotHW3NGAWGd_AKmrxw</td>\n",
       "      <td>I've had a very hot or miss experience with sh...</td>\n",
       "      <td>2019-11-20 00:57:20</td>\n",
       "      <td>4</td>\n",
       "      <td>73.0</td>\n",
       "      <td>3.5</td>\n",
       "    </tr>\n",
       "    <tr>\n",
       "      <th>216614</th>\n",
       "      <td>EaBDXdIQ_TeeUhn1Twnjvg</td>\n",
       "      <td>RqU0sEZcHc25RWap4v9_5A</td>\n",
       "      <td>The best Chinese food we have found in the are...</td>\n",
       "      <td>2019-11-23 21:38:24</td>\n",
       "      <td>5</td>\n",
       "      <td>73.0</td>\n",
       "      <td>3.5</td>\n",
       "    </tr>\n",
       "    <tr>\n",
       "      <th>216615</th>\n",
       "      <td>EaBDXdIQ_TeeUhn1Twnjvg</td>\n",
       "      <td>zvZR61Ioy-5dhw_3Q3kPFw</td>\n",
       "      <td>This is a small and simple restaurant but such...</td>\n",
       "      <td>2020-01-17 01:25:08</td>\n",
       "      <td>5</td>\n",
       "      <td>73.0</td>\n",
       "      <td>3.5</td>\n",
       "    </tr>\n",
       "    <tr>\n",
       "      <th>216616</th>\n",
       "      <td>EaBDXdIQ_TeeUhn1Twnjvg</td>\n",
       "      <td>gdCc799iZY35tLwjBXco2A</td>\n",
       "      <td>Oooooooh my goodness... best Asian food I've e...</td>\n",
       "      <td>2020-03-10 00:43:23</td>\n",
       "      <td>5</td>\n",
       "      <td>85.0</td>\n",
       "      <td>3.5</td>\n",
       "    </tr>\n",
       "  </tbody>\n",
       "</table>\n",
       "<p>216617 rows × 7 columns</p>\n",
       "</div>"
      ],
      "text/plain": [
       "                   business_id               review_id  \\\n",
       "0       NRPemqVb4qpWFF0Avq_6OQ  OWkPkotszUbmqxDFHkN-xg   \n",
       "1       NRPemqVb4qpWFF0Avq_6OQ  p8G2JIEzGIgbH347qJLM8g   \n",
       "2       NRPemqVb4qpWFF0Avq_6OQ  q5GjvJGxWTg44MpwLVRpYQ   \n",
       "3       NRPemqVb4qpWFF0Avq_6OQ  XsIuCQsmgNwZz0UCLb2XgA   \n",
       "4       NRPemqVb4qpWFF0Avq_6OQ  BzD7FAmpkc0S41QB84fQhw   \n",
       "...                        ...                     ...   \n",
       "216612  EaBDXdIQ_TeeUhn1Twnjvg  o7KKw9gZ1zADWR3OvwJOjQ   \n",
       "216613  EaBDXdIQ_TeeUhn1Twnjvg  vKLOotHW3NGAWGd_AKmrxw   \n",
       "216614  EaBDXdIQ_TeeUhn1Twnjvg  RqU0sEZcHc25RWap4v9_5A   \n",
       "216615  EaBDXdIQ_TeeUhn1Twnjvg  zvZR61Ioy-5dhw_3Q3kPFw   \n",
       "216616  EaBDXdIQ_TeeUhn1Twnjvg  gdCc799iZY35tLwjBXco2A   \n",
       "\n",
       "                                                     text  \\\n",
       "0       Got takeout from there tonight and loved every...   \n",
       "1       Indonesian Italian Japanese restaurant. Yes. Y...   \n",
       "2       I'd been want nah to try this place out since ...   \n",
       "3       Really a great find. This place is a diamond. ...   \n",
       "4       Wow!  So glad to see some great places coming ...   \n",
       "...                                                   ...   \n",
       "216612  I've heard only good things about this noodle ...   \n",
       "216613  I've had a very hot or miss experience with sh...   \n",
       "216614  The best Chinese food we have found in the are...   \n",
       "216615  This is a small and simple restaurant but such...   \n",
       "216616  Oooooooh my goodness... best Asian food I've e...   \n",
       "\n",
       "                       date  review_stars  Score  stars  \n",
       "0       2017-05-10 00:58:09             5   76.0    4.5  \n",
       "1       2017-05-13 02:21:41             5   76.0    4.5  \n",
       "2       2017-05-15 22:43:24             5   76.0    4.5  \n",
       "3       2017-05-17 00:44:54             5   76.0    4.5  \n",
       "4       2017-05-21 01:30:47             5   76.0    4.5  \n",
       "...                     ...           ...    ...    ...  \n",
       "216612  2019-10-28 02:35:05             5   73.0    3.5  \n",
       "216613  2019-11-20 00:57:20             4   73.0    3.5  \n",
       "216614  2019-11-23 21:38:24             5   73.0    3.5  \n",
       "216615  2020-01-17 01:25:08             5   73.0    3.5  \n",
       "216616  2020-03-10 00:43:23             5   85.0    3.5  \n",
       "\n",
       "[216617 rows x 7 columns]"
      ]
     },
     "execution_count": 203,
     "metadata": {},
     "output_type": "execute_result"
    }
   ],
   "source": [
    "df"
   ]
  },
  {
   "cell_type": "code",
   "execution_count": 204,
   "id": "1e3aad6c-eaeb-445c-9234-c32a33d51d05",
   "metadata": {},
   "outputs": [],
   "source": [
    "reviews = np.array(df['text'])\n",
    "scores = np.array(df['Score'])"
   ]
  },
  {
   "cell_type": "code",
   "execution_count": 205,
   "id": "b4c4900a-3a6b-423d-bd69-03fb032a1975",
   "metadata": {},
   "outputs": [
    {
     "data": {
      "image/png": "[encoded data removed]",
      "text/plain": [
       "<Figure size 432x288 with 1 Axes>"
      ]
     },
     "metadata": {
      "needs_background": "light"
     },
     "output_type": "display_data"
    }
   ],
   "source": [
    "# scores look skewed, mayeb do logistic regression?\n",
    "plt.hist(scores,bins=100)\n",
    "plt.show()"
   ]
  },
  {
   "cell_type": "markdown",
   "id": "88774a14-dbfd-44b1-8e4c-b0c8f5cd9c5e",
   "metadata": {},
   "source": [
    "## bow model"
   ]
  },
  {
   "cell_type": "code",
   "execution_count": 231,
   "id": "1011da3b-e8b5-44a0-a8ef-1ee7688becd6",
   "metadata": {},
   "outputs": [],
   "source": [
    "# test with small data\n",
    "X, y = shuffle(reviews, scores, random_state=42)\n",
    "X_train, X_test, y_train, y_test = train_test_split(X, y, test_size=0.2, random_state=42)"
   ]
  },
  {
   "cell_type": "code",
   "execution_count": 232,
   "id": "465f96c0-c6d7-4bb1-a878-2630420ede06",
   "metadata": {},
   "outputs": [
    {
     "data": {
      "text/plain": [
       "173293"
      ]
     },
     "execution_count": 232,
     "metadata": {},
     "output_type": "execute_result"
    }
   ],
   "source": [
    "len(X_train)"
   ]
  },
  {
   "cell_type": "code",
   "execution_count": 242,
   "id": "c4d4a88f-4d37-4b56-b4aa-59d2a38daaae",
   "metadata": {
    "tags": []
   },
   "outputs": [
    {
     "name": "stdout",
     "output_type": "stream",
     "text": [
      "R^2 score: 0.1785885576959767\n",
      "Wall time: 21.4 s\n"
     ]
    }
   ],
   "source": [
    "%%time\n",
    "# bow_vectorizer = CountVectorizer(min_df=10,max_df=0.75)\n",
    "bow_vectorizer = TfidfVectorizer(min_df=5,\n",
    "                                 max_df=0.75,\n",
    "                                 max_features=10000,\n",
    "                                 stop_words=STOP_WORDS)\n",
    "est = Pipeline([\n",
    "    ('vect', bow_vectorizer),\n",
    "    ('regressor', Ridge())\n",
    "])\n",
    "est.fit(X_train, y_train)\n",
    "print(f'R^2 score: {est.score(X_test, y_test)}')"
   ]
  },
  {
   "cell_type": "code",
   "execution_count": null,
   "id": "be56ab84-c01c-4bdb-b4d5-0a17d7b8bf1c",
   "metadata": {},
   "outputs": [],
   "source": []
  },
  {
   "cell_type": "code",
   "execution_count": 243,
   "id": "7cdb5bb8-bd9a-48e2-aeb6-2e2fe0744cf7",
   "metadata": {},
   "outputs": [],
   "source": [
    "parameters = {\n",
    "    'vect__max_features': [1000,5000,10000]\n",
    "#     'vect__max_df': [0.25,0.5,0.75]\n",
    "    # 'regressor__alpha': [0.001,1.0]\n",
    "}\n",
    "gs = GridSearchCV(est, parameters)"
   ]
  },
  {
   "cell_type": "code",
   "execution_count": 244,
   "id": "2d7f02c6-db78-4f48-848a-ecd79871ac08",
   "metadata": {},
   "outputs": [
    {
     "name": "stdout",
     "output_type": "stream",
     "text": [
      "Wall time: 5min 23s\n"
     ]
    },
    {
     "data": {
      "text/plain": [
       "GridSearchCV(estimator=Pipeline(steps=[('vect',\n",
       "                                        TfidfVectorizer(max_df=0.75,\n",
       "                                                        max_features=5000,\n",
       "                                                        min_df=10,\n",
       "                                                        stop_words={\"'d\", \"'ll\",\n",
       "                                                                    \"'m\", \"'re\",\n",
       "                                                                    \"'s\", \"'ve\",\n",
       "                                                                    'a',\n",
       "                                                                    'about',\n",
       "                                                                    'above',\n",
       "                                                                    'across',\n",
       "                                                                    'after',\n",
       "                                                                    'afterwards',\n",
       "                                                                    'again',\n",
       "                                                                    'against',\n",
       "                                                                    'all',\n",
       "                                                                    'almost',\n",
       "                                                                    'alone',\n",
       "                                                                    'along',\n",
       "                                                                    'already',\n",
       "                                                                    'also',\n",
       "                                                                    'although',\n",
       "                                                                    'always',\n",
       "                                                                    'am',\n",
       "                                                                    'among',\n",
       "                                                                    'amongst',\n",
       "                                                                    'amount',\n",
       "                                                                    'an', 'and',\n",
       "                                                                    'another',\n",
       "                                                                    'any', ...})),\n",
       "                                       ('regressor', Ridge())]),\n",
       "             param_grid={'vect__max_features': [1000, 5000, 10000]})"
      ]
     },
     "execution_count": 244,
     "metadata": {},
     "output_type": "execute_result"
    }
   ],
   "source": [
    "%%time\n",
    "gs.fit(X,y)"
   ]
  },
  {
   "cell_type": "code",
   "execution_count": 245,
   "id": "d88a66f0-d7d0-4374-b0f6-ebabe8ae110e",
   "metadata": {},
   "outputs": [
    {
     "data": {
      "text/plain": [
       "{'vect__max_features': 10000}"
      ]
     },
     "execution_count": 245,
     "metadata": {},
     "output_type": "execute_result"
    }
   ],
   "source": [
    "gs.best_params_"
   ]
  },
  {
   "cell_type": "code",
   "execution_count": null,
   "id": "b435f07a-2674-48b2-a6be-ce74a4b9bd8d",
   "metadata": {},
   "outputs": [],
   "source": []
  },
  {
   "cell_type": "code",
   "execution_count": 246,
   "id": "2f5de004-08a7-41f1-9127-cc19f26a4483",
   "metadata": {},
   "outputs": [],
   "source": [
    "parameters = {\n",
    "    'vect__min_df': [5,10,20]\n",
    "#     'vect__max_df': [0.25,0.5,0.75]\n",
    "    # 'regressor__alpha': [0.001,1.0]\n",
    "}\n",
    "gs = GridSearchCV(est, parameters)"
   ]
  },
  {
   "cell_type": "code",
   "execution_count": 247,
   "id": "f82b9082-def8-4221-aa66-36b6138f2408",
   "metadata": {},
   "outputs": [
    {
     "name": "stdout",
     "output_type": "stream",
     "text": [
      "Wall time: 5min 46s\n"
     ]
    },
    {
     "data": {
      "text/plain": [
       "GridSearchCV(estimator=Pipeline(steps=[('vect',\n",
       "                                        TfidfVectorizer(max_df=0.75,\n",
       "                                                        max_features=5000,\n",
       "                                                        min_df=10,\n",
       "                                                        stop_words={\"'d\", \"'ll\",\n",
       "                                                                    \"'m\", \"'re\",\n",
       "                                                                    \"'s\", \"'ve\",\n",
       "                                                                    'a',\n",
       "                                                                    'about',\n",
       "                                                                    'above',\n",
       "                                                                    'across',\n",
       "                                                                    'after',\n",
       "                                                                    'afterwards',\n",
       "                                                                    'again',\n",
       "                                                                    'against',\n",
       "                                                                    'all',\n",
       "                                                                    'almost',\n",
       "                                                                    'alone',\n",
       "                                                                    'along',\n",
       "                                                                    'already',\n",
       "                                                                    'also',\n",
       "                                                                    'although',\n",
       "                                                                    'always',\n",
       "                                                                    'am',\n",
       "                                                                    'among',\n",
       "                                                                    'amongst',\n",
       "                                                                    'amount',\n",
       "                                                                    'an', 'and',\n",
       "                                                                    'another',\n",
       "                                                                    'any', ...})),\n",
       "                                       ('regressor', Ridge())]),\n",
       "             param_grid={'vect__min_df': [5, 10, 20]})"
      ]
     },
     "execution_count": 247,
     "metadata": {},
     "output_type": "execute_result"
    }
   ],
   "source": [
    "%%time\n",
    "gs.fit(X,y)"
   ]
  },
  {
   "cell_type": "code",
   "execution_count": 248,
   "id": "b8aef97d-68ec-40b6-9c63-8b397ca2525a",
   "metadata": {},
   "outputs": [
    {
     "data": {
      "text/plain": [
       "{'vect__min_df': 5}"
      ]
     },
     "execution_count": 248,
     "metadata": {},
     "output_type": "execute_result"
    }
   ],
   "source": [
    "gs.best_params_"
   ]
  },
  {
   "cell_type": "code",
   "execution_count": null,
   "id": "b1fddd29-3db0-4bf2-b420-32179ddce1ed",
   "metadata": {},
   "outputs": [],
   "source": []
  },
  {
   "cell_type": "code",
   "execution_count": 252,
   "id": "28ec66fe-fec4-4241-a39e-114f518939e1",
   "metadata": {},
   "outputs": [],
   "source": [
    "parameters = {\n",
    "    # 'vect__min_df': [5,10,100]\n",
    "    'vect__max_df': [0.5,0.75,0.9]\n",
    "    # 'regressor__alpha': [0.001,1.0]\n",
    "}\n",
    "gs = GridSearchCV(est, parameters)"
   ]
  },
  {
   "cell_type": "code",
   "execution_count": null,
   "id": "933680ef-dd3d-4f0f-906e-59801f91ecfc",
   "metadata": {},
   "outputs": [],
   "source": [
    "%%time\n",
    "gs.fit(X,y)"
   ]
  },
  {
   "cell_type": "code",
   "execution_count": null,
   "id": "07aefcf2-e8f3-4baf-bad0-7bb0efac654c",
   "metadata": {},
   "outputs": [],
   "source": [
    "gs.best_params_"
   ]
  },
  {
   "cell_type": "code",
   "execution_count": null,
   "id": "25e5e703-4bfb-4772-8ed2-4dc24fdd2e93",
   "metadata": {},
   "outputs": [],
   "source": []
  },
  {
   "cell_type": "code",
   "execution_count": 249,
   "id": "016efb62-aafd-4f49-8fe4-270bc3d1fcd1",
   "metadata": {},
   "outputs": [],
   "source": [
    "parameters = {\n",
    "    # 'vect__min_df': [5,10,100]\n",
    "    # 'vect__max_df': [0.25,0.5,0.75]\n",
    "    'regressor__alpha': [0.001,0.1,1.0,10.0]\n",
    "}\n",
    "gs = GridSearchCV(est, parameters)"
   ]
  },
  {
   "cell_type": "code",
   "execution_count": 250,
   "id": "7f08298c-39df-4039-86ad-bb3f860e5d32",
   "metadata": {},
   "outputs": [
    {
     "name": "stdout",
     "output_type": "stream",
     "text": [
      "Wall time: 7min 23s\n"
     ]
    },
    {
     "data": {
      "text/plain": [
       "GridSearchCV(estimator=Pipeline(steps=[('vect',\n",
       "                                        TfidfVectorizer(max_df=0.75,\n",
       "                                                        max_features=5000,\n",
       "                                                        min_df=10,\n",
       "                                                        stop_words={\"'d\", \"'ll\",\n",
       "                                                                    \"'m\", \"'re\",\n",
       "                                                                    \"'s\", \"'ve\",\n",
       "                                                                    'a',\n",
       "                                                                    'about',\n",
       "                                                                    'above',\n",
       "                                                                    'across',\n",
       "                                                                    'after',\n",
       "                                                                    'afterwards',\n",
       "                                                                    'again',\n",
       "                                                                    'against',\n",
       "                                                                    'all',\n",
       "                                                                    'almost',\n",
       "                                                                    'alone',\n",
       "                                                                    'along',\n",
       "                                                                    'already',\n",
       "                                                                    'also',\n",
       "                                                                    'although',\n",
       "                                                                    'always',\n",
       "                                                                    'am',\n",
       "                                                                    'among',\n",
       "                                                                    'amongst',\n",
       "                                                                    'amount',\n",
       "                                                                    'an', 'and',\n",
       "                                                                    'another',\n",
       "                                                                    'any', ...})),\n",
       "                                       ('regressor', Ridge())]),\n",
       "             param_grid={'regressor__alpha': [0.001, 0.1, 1.0, 10.0]})"
      ]
     },
     "execution_count": 250,
     "metadata": {},
     "output_type": "execute_result"
    }
   ],
   "source": [
    "%%time\n",
    "gs.fit(X,y)"
   ]
  },
  {
   "cell_type": "code",
   "execution_count": 251,
   "id": "33d55396-11a8-46ed-8515-8f791dbe49a7",
   "metadata": {},
   "outputs": [
    {
     "data": {
      "text/plain": [
       "{'regressor__alpha': 10.0}"
      ]
     },
     "execution_count": 251,
     "metadata": {},
     "output_type": "execute_result"
    }
   ],
   "source": [
    "gs.best_params_"
   ]
  },
  {
   "cell_type": "code",
   "execution_count": null,
   "id": "0c1e2cc7-d4fd-489f-9f52-75f055646878",
   "metadata": {},
   "outputs": [],
   "source": []
  }
 ],
 "metadata": {
  "kernelspec": {
   "display_name": "Python 3 (ipykernel)",
   "language": "python",
   "name": "python3"
  },
  "language_info": {
   "codemirror_mode": {
    "name": "ipython",
    "version": 3
   },
   "file_extension": ".py",
   "mimetype": "text/x-python",
   "name": "python",
   "nbconvert_exporter": "python",
   "pygments_lexer": "ipython3",
   "version": "3.9.7"
  }
 },
 "nbformat": 4,
 "nbformat_minor": 5
}
