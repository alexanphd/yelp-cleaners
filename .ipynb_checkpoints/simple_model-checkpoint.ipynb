{
 "cells": [
  {
   "cell_type": "markdown",
   "id": "476a8d99-caa4-4a43-a362-3d765c55f3ea",
   "metadata": {},
   "source": [
    "# Yelp grossometer"
   ]
  },
  {
   "cell_type": "code",
   "execution_count": 1,
   "id": "dadef8d8-df51-4e7c-8b10-ca79dc52c376",
   "metadata": {},
   "outputs": [],
   "source": [
    "%matplotlib inline\n",
    "import pandas as pd\n",
    "import numpy as np\n",
    "import matplotlib.pyplot as plt\n",
    "\n",
    "main_directory = r'C:\\Users\\ASUS\\Desktop\\ML-data science\\DataIncubator\\yelp-cleaners' + '\\\\'\n",
    "processed_data_directory = main_directory + r'data\\processed data' + '\\\\'"
   ]
  },
  {
   "cell_type": "code",
   "execution_count": 2,
   "id": "e123f085-47ed-4ab8-a374-76ca4acd4ffe",
   "metadata": {},
   "outputs": [],
   "source": [
    "business_df_latest = pd.read_csv(processed_data_directory + 'business_df_latest_inspection.csv')\n",
    "business_df = pd.read_csv(processed_data_directory + 'business_df.csv')\n",
    "review_df = pd.read_csv(processed_data_directory + 'review_df.csv')"
   ]
  },
  {
   "cell_type": "code",
   "execution_count": 147,
   "id": "5984e3e6-5452-42d3-a8dd-49f4a615d367",
   "metadata": {},
   "outputs": [],
   "source": [
    "from sklearn.base import BaseEstimator, RegressorMixin, TransformerMixin\n",
    "from sklearn.compose import ColumnTransformer\n",
    "from sklearn.pipeline import Pipeline\n",
    "from sklearn.feature_extraction.text import CountVectorizer, TfidfVectorizer, TfidfTransformer, HashingVectorizer\n",
    "from sklearn.utils import shuffle\n",
    "from sklearn.model_selection import cross_val_score, GridSearchCV, train_test_split\n",
    "from sklearn.linear_model import Ridge, LinearRegression, SGDRegressor, LogisticRegression\n",
    "from sklearn import datasets, tree, utils\n",
    "from sklearn import model_selection, ensemble\n",
    "from sklearn.decomposition import TruncatedSVD"
   ]
  },
  {
   "cell_type": "code",
   "execution_count": 4,
   "id": "2de86b26-15e0-40e9-af83-63a85e054bb3",
   "metadata": {},
   "outputs": [],
   "source": [
    "import spacy\n",
    "# nlp = spacy.load(\"en_core_web_sm\")\n",
    "from spacy.lang.en.stop_words import STOP_WORDS\n",
    "STOP_WORDS = STOP_WORDS.union({'ll', 've'})\n",
    "from sklearn.naive_bayes import MultinomialNB"
   ]
  },
  {
   "cell_type": "markdown",
   "id": "6ec47755-33d9-4296-aa86-5297aff40638",
   "metadata": {
    "jp-MarkdownHeadingCollapsed": true,
    "tags": []
   },
   "source": [
    "# process dataset"
   ]
  },
  {
   "cell_type": "markdown",
   "id": "d8d24e7e-d06c-4937-9066-4d521524f24e",
   "metadata": {
    "jp-MarkdownHeadingCollapsed": true,
    "tags": []
   },
   "source": [
    "## score based on review date"
   ]
  },
  {
   "cell_type": "markdown",
   "id": "ce4da380-384c-411a-8139-1a0ede8220a3",
   "metadata": {},
   "source": [
    "Let's strip the dataframes of all unnecessary features, leaving only the business_id, inspection score & date, review score & date. Then we look for the inspection nearest to each individual review in time, and use that inspection score for the 'cleanliness' of the business at the time of the review.\n",
    "\n",
    "We set a tolerance of 2 years to exclude all reviews that are 2 years away from an inspection. This limits us to reviews posted from 2017 to 2021, cutting down the dataset by 50%."
   ]
  },
  {
   "cell_type": "code",
   "execution_count": 5,
   "id": "d3ca58a9-390f-4fe5-a843-f34a93d0b413",
   "metadata": {},
   "outputs": [],
   "source": [
    "bare_bones_bdf = business_df[['business_id','Inspection Date','Score','stars']].rename({'Inspection Date':'date'},axis=1).copy()\n",
    "bare_bones_bdf['date'] = pd.to_datetime(bare_bones_bdf['date'])"
   ]
  },
  {
   "cell_type": "code",
   "execution_count": 6,
   "id": "fa83f09e-e5be-4349-9fda-8b2984b51aba",
   "metadata": {},
   "outputs": [
    {
     "data": {
      "text/html": [
       "<div>\n",
       "<style scoped>\n",
       "    .dataframe tbody tr th:only-of-type {\n",
       "        vertical-align: middle;\n",
       "    }\n",
       "\n",
       "    .dataframe tbody tr th {\n",
       "        vertical-align: top;\n",
       "    }\n",
       "\n",
       "    .dataframe thead th {\n",
       "        text-align: right;\n",
       "    }\n",
       "</style>\n",
       "<table border=\"1\" class=\"dataframe\">\n",
       "  <thead>\n",
       "    <tr style=\"text-align: right;\">\n",
       "      <th></th>\n",
       "      <th>business_id</th>\n",
       "      <th>review_id</th>\n",
       "      <th>text</th>\n",
       "      <th>date</th>\n",
       "      <th>review_stars</th>\n",
       "    </tr>\n",
       "  </thead>\n",
       "  <tbody>\n",
       "    <tr>\n",
       "      <th>0</th>\n",
       "      <td>mOnesB4IF9j6-ZmHoOHOig</td>\n",
       "      <td>GDgXjXSZCA1iNQWD7OHXfg</td>\n",
       "      <td>I think their rice dishes are way better than ...</td>\n",
       "      <td>2017-05-26 03:05:46</td>\n",
       "      <td>4</td>\n",
       "    </tr>\n",
       "    <tr>\n",
       "      <th>1</th>\n",
       "      <td>-_GnwXmzC3DXsHR9nyaC2g</td>\n",
       "      <td>GgWFjRHhelaiUgR2-H6N4g</td>\n",
       "      <td>3.5 stars! I got the avocado margarita and it ...</td>\n",
       "      <td>2012-11-06 07:09:57</td>\n",
       "      <td>3</td>\n",
       "    </tr>\n",
       "    <tr>\n",
       "      <th>2</th>\n",
       "      <td>bZiIIUcpgxh8mpKMDhdqbA</td>\n",
       "      <td>z-6ElnK3yXpn2oNKR7NYtw</td>\n",
       "      <td>My husband and I shared the parmesan truffly f...</td>\n",
       "      <td>2017-10-11 00:25:47</td>\n",
       "      <td>3</td>\n",
       "    </tr>\n",
       "    <tr>\n",
       "      <th>3</th>\n",
       "      <td>gvpoFnaCq2J7TBXV7yFIkQ</td>\n",
       "      <td>nqUJoSkDr_1mqnLtOrWFSA</td>\n",
       "      <td>Perfect spices, nice atmosphere &amp; music, great...</td>\n",
       "      <td>2017-07-28 19:17:54</td>\n",
       "      <td>5</td>\n",
       "    </tr>\n",
       "    <tr>\n",
       "      <th>4</th>\n",
       "      <td>LUCmOKTK5Uh7eU84yJq3mQ</td>\n",
       "      <td>h6o5mduBqDUkKsa4KRIDzw</td>\n",
       "      <td>Snap is my go-to lunch spot nearly every day! ...</td>\n",
       "      <td>2015-06-08 18:07:06</td>\n",
       "      <td>5</td>\n",
       "    </tr>\n",
       "    <tr>\n",
       "      <th>...</th>\n",
       "      <td>...</td>\n",
       "      <td>...</td>\n",
       "      <td>...</td>\n",
       "      <td>...</td>\n",
       "      <td>...</td>\n",
       "    </tr>\n",
       "    <tr>\n",
       "      <th>570609</th>\n",
       "      <td>dgywJM4JpniwOEDNfrfewg</td>\n",
       "      <td>I_8BJ6vZo7mVHi4TzuEK2A</td>\n",
       "      <td>I rec'd my meal as part of a complimentary Yel...</td>\n",
       "      <td>2020-08-09 19:53:40</td>\n",
       "      <td>2</td>\n",
       "    </tr>\n",
       "    <tr>\n",
       "      <th>570610</th>\n",
       "      <td>Qmq4gr5Mmo2oIVejag48PA</td>\n",
       "      <td>oabuTmGpHquA4sc4C0DatQ</td>\n",
       "      <td>This place serves amazingly tasty gluten free ...</td>\n",
       "      <td>2020-09-13 00:53:03</td>\n",
       "      <td>4</td>\n",
       "    </tr>\n",
       "    <tr>\n",
       "      <th>570611</th>\n",
       "      <td>zM98ZSIJyuBQabyYornLpw</td>\n",
       "      <td>hKxvxtCjEJAwD_7AcnA_iQ</td>\n",
       "      <td>Bartender was friendly and attentive. We came ...</td>\n",
       "      <td>2021-01-10 04:10:45</td>\n",
       "      <td>3</td>\n",
       "    </tr>\n",
       "    <tr>\n",
       "      <th>570612</th>\n",
       "      <td>Wn8j-1-ity6hdjP4bC_wkw</td>\n",
       "      <td>UWHPbsQzfrmjtDCbq2AeDg</td>\n",
       "      <td>Terrible pho. Literally zero flavor. And the c...</td>\n",
       "      <td>2021-01-17 22:09:10</td>\n",
       "      <td>2</td>\n",
       "    </tr>\n",
       "    <tr>\n",
       "      <th>570613</th>\n",
       "      <td>XVmp1LmrXKB8cXomLKbu9w</td>\n",
       "      <td>Xf7iZpZC0MdosClyzZTmGg</td>\n",
       "      <td>Very nice ambiance, clean inside and food is g...</td>\n",
       "      <td>2018-05-28 01:50:26</td>\n",
       "      <td>5</td>\n",
       "    </tr>\n",
       "  </tbody>\n",
       "</table>\n",
       "<p>570614 rows × 5 columns</p>\n",
       "</div>"
      ],
      "text/plain": [
       "                   business_id               review_id  \\\n",
       "0       mOnesB4IF9j6-ZmHoOHOig  GDgXjXSZCA1iNQWD7OHXfg   \n",
       "1       -_GnwXmzC3DXsHR9nyaC2g  GgWFjRHhelaiUgR2-H6N4g   \n",
       "2       bZiIIUcpgxh8mpKMDhdqbA  z-6ElnK3yXpn2oNKR7NYtw   \n",
       "3       gvpoFnaCq2J7TBXV7yFIkQ  nqUJoSkDr_1mqnLtOrWFSA   \n",
       "4       LUCmOKTK5Uh7eU84yJq3mQ  h6o5mduBqDUkKsa4KRIDzw   \n",
       "...                        ...                     ...   \n",
       "570609  dgywJM4JpniwOEDNfrfewg  I_8BJ6vZo7mVHi4TzuEK2A   \n",
       "570610  Qmq4gr5Mmo2oIVejag48PA  oabuTmGpHquA4sc4C0DatQ   \n",
       "570611  zM98ZSIJyuBQabyYornLpw  hKxvxtCjEJAwD_7AcnA_iQ   \n",
       "570612  Wn8j-1-ity6hdjP4bC_wkw  UWHPbsQzfrmjtDCbq2AeDg   \n",
       "570613  XVmp1LmrXKB8cXomLKbu9w  Xf7iZpZC0MdosClyzZTmGg   \n",
       "\n",
       "                                                     text                date  \\\n",
       "0       I think their rice dishes are way better than ... 2017-05-26 03:05:46   \n",
       "1       3.5 stars! I got the avocado margarita and it ... 2012-11-06 07:09:57   \n",
       "2       My husband and I shared the parmesan truffly f... 2017-10-11 00:25:47   \n",
       "3       Perfect spices, nice atmosphere & music, great... 2017-07-28 19:17:54   \n",
       "4       Snap is my go-to lunch spot nearly every day! ... 2015-06-08 18:07:06   \n",
       "...                                                   ...                 ...   \n",
       "570609  I rec'd my meal as part of a complimentary Yel... 2020-08-09 19:53:40   \n",
       "570610  This place serves amazingly tasty gluten free ... 2020-09-13 00:53:03   \n",
       "570611  Bartender was friendly and attentive. We came ... 2021-01-10 04:10:45   \n",
       "570612  Terrible pho. Literally zero flavor. And the c... 2021-01-17 22:09:10   \n",
       "570613  Very nice ambiance, clean inside and food is g... 2018-05-28 01:50:26   \n",
       "\n",
       "        review_stars  \n",
       "0                  4  \n",
       "1                  3  \n",
       "2                  3  \n",
       "3                  5  \n",
       "4                  5  \n",
       "...              ...  \n",
       "570609             2  \n",
       "570610             4  \n",
       "570611             3  \n",
       "570612             2  \n",
       "570613             5  \n",
       "\n",
       "[570614 rows x 5 columns]"
      ]
     },
     "execution_count": 6,
     "metadata": {},
     "output_type": "execute_result"
    }
   ],
   "source": [
    "bare_bones_rdf = review_df[['business_id','review_id','text','date','review_stars']].copy()\n",
    "bare_bones_rdf['date'] = pd.to_datetime(bare_bones_rdf['date'])\n",
    "bare_bones_rdf"
   ]
  },
  {
   "cell_type": "code",
   "execution_count": 7,
   "id": "bd9b8660-3171-418d-8c02-31fa8f344a11",
   "metadata": {},
   "outputs": [],
   "source": [
    "business_ids = bare_bones_bdf.business_id.unique()"
   ]
  },
  {
   "cell_type": "code",
   "execution_count": 8,
   "id": "1f1d8573-0c43-4a54-a5b5-e8d00069a828",
   "metadata": {},
   "outputs": [
    {
     "name": "stdout",
     "output_type": "stream",
     "text": [
      "Wall time: 2min 27s\n"
     ]
    }
   ],
   "source": [
    "%%time\n",
    "# merge score and review dataframes based on closeness in time\n",
    "# needs to be done in a loop over business_id because merge_asof only works with one column\n",
    "biz_df_list = []\n",
    "tolerance = pd.Timedelta(days = 365*20) # two year tolerance\n",
    "for bid in business_ids:\n",
    "    indiv_biz_scores = bare_bones_bdf[bare_bones_bdf['business_id']==bid]\n",
    "    indiv_biz_reviews = bare_bones_rdf[bare_bones_rdf['business_id']==bid].sort_values('date')\n",
    "    out = pd.merge_asof(indiv_biz_reviews,indiv_biz_scores,on='date',direction='nearest',tolerance=tolerance).dropna()\n",
    "    out = out.drop('business_id_y',axis=1).rename(columns={'business_id_x':'business_id'})\n",
    "    biz_df_list.append(out)"
   ]
  },
  {
   "cell_type": "code",
   "execution_count": 9,
   "id": "bb4e3d0d-c761-4512-bd3b-63e46b52c9a6",
   "metadata": {},
   "outputs": [],
   "source": [
    "df = pd.concat(biz_df_list, ignore_index=True, join='outer', axis=0)\n",
    "df.to_csv(processed_data_directory + 'reviews_nearest_score_no_limit_df.csv', index=False)"
   ]
  },
  {
   "cell_type": "code",
   "execution_count": 10,
   "id": "588f914d-6aa2-4c00-9246-e24d3026c9a0",
   "metadata": {},
   "outputs": [
    {
     "data": {
      "text/plain": [
       "Timestamp('2005-05-14 07:04:06')"
      ]
     },
     "execution_count": 10,
     "metadata": {},
     "output_type": "execute_result"
    }
   ],
   "source": [
    "sorted(df['date'])[0]"
   ]
  },
  {
   "cell_type": "code",
   "execution_count": 11,
   "id": "af6bd993-169f-4c2a-9430-9462223219a0",
   "metadata": {},
   "outputs": [
    {
     "data": {
      "text/plain": [
       "Timestamp('2021-01-28 15:30:21')"
      ]
     },
     "execution_count": 11,
     "metadata": {},
     "output_type": "execute_result"
    }
   ],
   "source": [
    "sorted(df['date'])[-1]"
   ]
  },
  {
   "cell_type": "code",
   "execution_count": 12,
   "id": "fdecd774-a0d4-454d-9ae9-85ca7e6d35dc",
   "metadata": {},
   "outputs": [
    {
     "data": {
      "image/png": "[encoded data removed]",
      "text/plain": [
       "<Figure size 432x288 with 1 Axes>"
      ]
     },
     "metadata": {
      "needs_background": "light"
     },
     "output_type": "display_data"
    }
   ],
   "source": [
    "# review distribution\n",
    "plt.hist(df.business_id.value_counts(), bins=50)\n",
    "plt.yscale('log')"
   ]
  },
  {
   "cell_type": "markdown",
   "id": "27735690-c7fe-4ed1-b859-64f30349e20f",
   "metadata": {
    "jp-MarkdownHeadingCollapsed": true,
    "tags": []
   },
   "source": [
    "## some more processing"
   ]
  },
  {
   "cell_type": "markdown",
   "id": "b736ebb4-632c-4e23-8deb-0ee7b22204b6",
   "metadata": {},
   "source": [
    "* reviews_nearest_score_2_years_df.csv : only taking reviews within 2 years of an inspection\n",
    "* reviews_nearest_score_no_limit_df.csv : taking nearest inspection for all reviews"
   ]
  },
  {
   "cell_type": "code",
   "execution_count": 13,
   "id": "12b83f32-2878-4784-9675-66c9a08de4b9",
   "metadata": {},
   "outputs": [],
   "source": [
    "df = pd.read_csv(processed_data_directory + 'reviews_nearest_score_no_limit_df.csv')\n",
    "df2 = pd.read_csv(processed_data_directory + 'reviews_nearest_score_2_years_df.csv')"
   ]
  },
  {
   "cell_type": "code",
   "execution_count": 14,
   "id": "7b987e3a-261f-483f-9bcc-3b692853d7c0",
   "metadata": {},
   "outputs": [
    {
     "data": {
      "text/plain": [
       "570614"
      ]
     },
     "execution_count": 14,
     "metadata": {},
     "output_type": "execute_result"
    }
   ],
   "source": [
    "len(df)"
   ]
  },
  {
   "cell_type": "code",
   "execution_count": 15,
   "id": "0a8beb70-129b-4744-92d3-4c1b6c27d129",
   "metadata": {},
   "outputs": [
    {
     "data": {
      "text/plain": [
       "216617"
      ]
     },
     "execution_count": 15,
     "metadata": {},
     "output_type": "execute_result"
    }
   ],
   "source": [
    "len(df2)"
   ]
  },
  {
   "cell_type": "code",
   "execution_count": null,
   "id": "4c1278b0-b0a9-4629-a954-7159885e68ee",
   "metadata": {},
   "outputs": [],
   "source": [
    "# # discard businesses with < 10 reviews\n",
    "# n = 10\n",
    "# less_than_n_reviews = df.business_id.value_counts()[df.business_id.value_counts() < n].index\n",
    "# df = df[~df['business_id'].isin(less_than_n_reviews)]"
   ]
  },
  {
   "cell_type": "markdown",
   "id": "7fbc1c32-b66f-4d7b-b474-0b360aff99a7",
   "metadata": {},
   "source": [
    "# bag of words model"
   ]
  },
  {
   "cell_type": "markdown",
   "id": "37b6ae89-8eb5-4d5b-a8fd-23d05e4bc412",
   "metadata": {
    "jp-MarkdownHeadingCollapsed": true,
    "tags": []
   },
   "source": [
    "## dataset subset"
   ]
  },
  {
   "cell_type": "code",
   "execution_count": 16,
   "id": "820d6684-30b0-4d61-86d4-e0ebbfcd5916",
   "metadata": {},
   "outputs": [],
   "source": [
    "df = pd.read_csv(processed_data_directory + 'reviews_nearest_score_no_limit_df.csv')\n",
    "# df = pd.read_csv(processed_data_directory + 'reviews_nearest_score_2_years_df.csv')"
   ]
  },
  {
   "cell_type": "code",
   "execution_count": 17,
   "id": "ff9918d8-4ad2-4bb3-90c2-a3d5146ea5fe",
   "metadata": {},
   "outputs": [],
   "source": [
    "# let's just look at businesses with >20 reviews\n",
    "# num_reviews = df.business_id.value_counts()\n",
    "# valid_businesses = num_reviews[num_reviews >= 20].index\n",
    "# df = df[df['business_id'].isin(valid_businesses)].reset_index(drop=True)"
   ]
  },
  {
   "cell_type": "code",
   "execution_count": 18,
   "id": "0b999556-3311-4bb1-a98f-561b6afff7b3",
   "metadata": {},
   "outputs": [
    {
     "data": {
      "text/plain": [
       "2506"
      ]
     },
     "execution_count": 18,
     "metadata": {},
     "output_type": "execute_result"
    }
   ],
   "source": [
    "len(df.groupby(['business_id']).groups)"
   ]
  },
  {
   "cell_type": "code",
   "execution_count": 19,
   "id": "5f518128-f867-4696-ad69-1f5de5ffb19c",
   "metadata": {},
   "outputs": [
    {
     "data": {
      "text/plain": [
       "6617"
      ]
     },
     "execution_count": 19,
     "metadata": {},
     "output_type": "execute_result"
    }
   ],
   "source": [
    "len(df.groupby(['business_id','Score']).groups)"
   ]
  },
  {
   "cell_type": "code",
   "execution_count": 185,
   "id": "74d4c26f-ac0e-42ae-b372-7cb136cd5f44",
   "metadata": {},
   "outputs": [],
   "source": [
    "# # let's just look at businesses with 50-100 reviews\n",
    "# num_reviews = df.business_id.value_counts()\n",
    "# valid_businesses = num_reviews[(num_reviews <= 100) & (num_reviews >= 50)].index\n",
    "# df = df[df['business_id'].isin(valid_businesses)].reset_index(drop=True)"
   ]
  },
  {
   "cell_type": "code",
   "execution_count": 20,
   "id": "c9a1d1d8-ff82-4d6b-a371-cfa872a66e51",
   "metadata": {},
   "outputs": [
    {
     "data": {
      "text/html": [
       "<div>\n",
       "<style scoped>\n",
       "    .dataframe tbody tr th:only-of-type {\n",
       "        vertical-align: middle;\n",
       "    }\n",
       "\n",
       "    .dataframe tbody tr th {\n",
       "        vertical-align: top;\n",
       "    }\n",
       "\n",
       "    .dataframe thead th {\n",
       "        text-align: right;\n",
       "    }\n",
       "</style>\n",
       "<table border=\"1\" class=\"dataframe\">\n",
       "  <thead>\n",
       "    <tr style=\"text-align: right;\">\n",
       "      <th></th>\n",
       "      <th>business_id</th>\n",
       "      <th>review_id</th>\n",
       "      <th>text</th>\n",
       "      <th>date</th>\n",
       "      <th>review_stars</th>\n",
       "      <th>Score</th>\n",
       "      <th>stars</th>\n",
       "    </tr>\n",
       "  </thead>\n",
       "  <tbody>\n",
       "    <tr>\n",
       "      <th>0</th>\n",
       "      <td>NRPemqVb4qpWFF0Avq_6OQ</td>\n",
       "      <td>058Ifx7-wXugpY2CO3X4gA</td>\n",
       "      <td>We went tonight following our favorite new Sus...</td>\n",
       "      <td>2017-03-17 01:53:14</td>\n",
       "      <td>5</td>\n",
       "      <td>76.0</td>\n",
       "      <td>4.5</td>\n",
       "    </tr>\n",
       "    <tr>\n",
       "      <th>1</th>\n",
       "      <td>NRPemqVb4qpWFF0Avq_6OQ</td>\n",
       "      <td>iqgH--t6KCxocbniQE87EQ</td>\n",
       "      <td>First Indonesian Owned restaurant I found that...</td>\n",
       "      <td>2017-03-18 22:03:24</td>\n",
       "      <td>5</td>\n",
       "      <td>76.0</td>\n",
       "      <td>4.5</td>\n",
       "    </tr>\n",
       "    <tr>\n",
       "      <th>2</th>\n",
       "      <td>NRPemqVb4qpWFF0Avq_6OQ</td>\n",
       "      <td>sCZ7J-35Ro4FHEXBmUShHw</td>\n",
       "      <td>A great addition to the area! Personnel are ve...</td>\n",
       "      <td>2017-03-19 23:45:12</td>\n",
       "      <td>5</td>\n",
       "      <td>76.0</td>\n",
       "      <td>4.5</td>\n",
       "    </tr>\n",
       "    <tr>\n",
       "      <th>3</th>\n",
       "      <td>NRPemqVb4qpWFF0Avq_6OQ</td>\n",
       "      <td>jmfkhC53ETKV3Dzsq7bBOw</td>\n",
       "      <td>Pleasantly surprised by the energy that went i...</td>\n",
       "      <td>2017-03-21 19:34:06</td>\n",
       "      <td>5</td>\n",
       "      <td>76.0</td>\n",
       "      <td>4.5</td>\n",
       "    </tr>\n",
       "    <tr>\n",
       "      <th>4</th>\n",
       "      <td>NRPemqVb4qpWFF0Avq_6OQ</td>\n",
       "      <td>bzZ-Ei2AQDI7uEfnUv6R0g</td>\n",
       "      <td>Good food and very friendly wait staff. Best s...</td>\n",
       "      <td>2017-03-22 00:28:22</td>\n",
       "      <td>5</td>\n",
       "      <td>76.0</td>\n",
       "      <td>4.5</td>\n",
       "    </tr>\n",
       "    <tr>\n",
       "      <th>...</th>\n",
       "      <td>...</td>\n",
       "      <td>...</td>\n",
       "      <td>...</td>\n",
       "      <td>...</td>\n",
       "      <td>...</td>\n",
       "      <td>...</td>\n",
       "      <td>...</td>\n",
       "    </tr>\n",
       "    <tr>\n",
       "      <th>570609</th>\n",
       "      <td>EaBDXdIQ_TeeUhn1Twnjvg</td>\n",
       "      <td>o7KKw9gZ1zADWR3OvwJOjQ</td>\n",
       "      <td>I've heard only good things about this noodle ...</td>\n",
       "      <td>2019-10-28 02:35:05</td>\n",
       "      <td>5</td>\n",
       "      <td>73.0</td>\n",
       "      <td>3.5</td>\n",
       "    </tr>\n",
       "    <tr>\n",
       "      <th>570610</th>\n",
       "      <td>EaBDXdIQ_TeeUhn1Twnjvg</td>\n",
       "      <td>vKLOotHW3NGAWGd_AKmrxw</td>\n",
       "      <td>I've had a very hot or miss experience with sh...</td>\n",
       "      <td>2019-11-20 00:57:20</td>\n",
       "      <td>4</td>\n",
       "      <td>73.0</td>\n",
       "      <td>3.5</td>\n",
       "    </tr>\n",
       "    <tr>\n",
       "      <th>570611</th>\n",
       "      <td>EaBDXdIQ_TeeUhn1Twnjvg</td>\n",
       "      <td>RqU0sEZcHc25RWap4v9_5A</td>\n",
       "      <td>The best Chinese food we have found in the are...</td>\n",
       "      <td>2019-11-23 21:38:24</td>\n",
       "      <td>5</td>\n",
       "      <td>73.0</td>\n",
       "      <td>3.5</td>\n",
       "    </tr>\n",
       "    <tr>\n",
       "      <th>570612</th>\n",
       "      <td>EaBDXdIQ_TeeUhn1Twnjvg</td>\n",
       "      <td>zvZR61Ioy-5dhw_3Q3kPFw</td>\n",
       "      <td>This is a small and simple restaurant but such...</td>\n",
       "      <td>2020-01-17 01:25:08</td>\n",
       "      <td>5</td>\n",
       "      <td>73.0</td>\n",
       "      <td>3.5</td>\n",
       "    </tr>\n",
       "    <tr>\n",
       "      <th>570613</th>\n",
       "      <td>EaBDXdIQ_TeeUhn1Twnjvg</td>\n",
       "      <td>gdCc799iZY35tLwjBXco2A</td>\n",
       "      <td>Oooooooh my goodness... best Asian food I've e...</td>\n",
       "      <td>2020-03-10 00:43:23</td>\n",
       "      <td>5</td>\n",
       "      <td>85.0</td>\n",
       "      <td>3.5</td>\n",
       "    </tr>\n",
       "  </tbody>\n",
       "</table>\n",
       "<p>570614 rows × 7 columns</p>\n",
       "</div>"
      ],
      "text/plain": [
       "                   business_id               review_id  \\\n",
       "0       NRPemqVb4qpWFF0Avq_6OQ  058Ifx7-wXugpY2CO3X4gA   \n",
       "1       NRPemqVb4qpWFF0Avq_6OQ  iqgH--t6KCxocbniQE87EQ   \n",
       "2       NRPemqVb4qpWFF0Avq_6OQ  sCZ7J-35Ro4FHEXBmUShHw   \n",
       "3       NRPemqVb4qpWFF0Avq_6OQ  jmfkhC53ETKV3Dzsq7bBOw   \n",
       "4       NRPemqVb4qpWFF0Avq_6OQ  bzZ-Ei2AQDI7uEfnUv6R0g   \n",
       "...                        ...                     ...   \n",
       "570609  EaBDXdIQ_TeeUhn1Twnjvg  o7KKw9gZ1zADWR3OvwJOjQ   \n",
       "570610  EaBDXdIQ_TeeUhn1Twnjvg  vKLOotHW3NGAWGd_AKmrxw   \n",
       "570611  EaBDXdIQ_TeeUhn1Twnjvg  RqU0sEZcHc25RWap4v9_5A   \n",
       "570612  EaBDXdIQ_TeeUhn1Twnjvg  zvZR61Ioy-5dhw_3Q3kPFw   \n",
       "570613  EaBDXdIQ_TeeUhn1Twnjvg  gdCc799iZY35tLwjBXco2A   \n",
       "\n",
       "                                                     text  \\\n",
       "0       We went tonight following our favorite new Sus...   \n",
       "1       First Indonesian Owned restaurant I found that...   \n",
       "2       A great addition to the area! Personnel are ve...   \n",
       "3       Pleasantly surprised by the energy that went i...   \n",
       "4       Good food and very friendly wait staff. Best s...   \n",
       "...                                                   ...   \n",
       "570609  I've heard only good things about this noodle ...   \n",
       "570610  I've had a very hot or miss experience with sh...   \n",
       "570611  The best Chinese food we have found in the are...   \n",
       "570612  This is a small and simple restaurant but such...   \n",
       "570613  Oooooooh my goodness... best Asian food I've e...   \n",
       "\n",
       "                       date  review_stars  Score  stars  \n",
       "0       2017-03-17 01:53:14             5   76.0    4.5  \n",
       "1       2017-03-18 22:03:24             5   76.0    4.5  \n",
       "2       2017-03-19 23:45:12             5   76.0    4.5  \n",
       "3       2017-03-21 19:34:06             5   76.0    4.5  \n",
       "4       2017-03-22 00:28:22             5   76.0    4.5  \n",
       "...                     ...           ...    ...    ...  \n",
       "570609  2019-10-28 02:35:05             5   73.0    3.5  \n",
       "570610  2019-11-20 00:57:20             4   73.0    3.5  \n",
       "570611  2019-11-23 21:38:24             5   73.0    3.5  \n",
       "570612  2020-01-17 01:25:08             5   73.0    3.5  \n",
       "570613  2020-03-10 00:43:23             5   85.0    3.5  \n",
       "\n",
       "[570614 rows x 7 columns]"
      ]
     },
     "execution_count": 20,
     "metadata": {},
     "output_type": "execute_result"
    }
   ],
   "source": [
    "df"
   ]
  },
  {
   "cell_type": "code",
   "execution_count": 21,
   "id": "1e3aad6c-eaeb-445c-9234-c32a33d51d05",
   "metadata": {},
   "outputs": [],
   "source": [
    "reviews = np.array(df['text'])\n",
    "scores = np.array(df['Score'])"
   ]
  },
  {
   "cell_type": "code",
   "execution_count": 24,
   "id": "b4c4900a-3a6b-423d-bd69-03fb032a1975",
   "metadata": {},
   "outputs": [
    {
     "data": {
      "image/png": "[encoded data removed]",
      "text/plain": [
       "<Figure size 432x288 with 1 Axes>"
      ]
     },
     "metadata": {
      "needs_background": "light"
     },
     "output_type": "display_data"
    }
   ],
   "source": [
    "# scores look skewed, maybe do logistic regression?\n",
    "plt.hist(scores,bins=30)\n",
    "plt.show()"
   ]
  },
  {
   "cell_type": "markdown",
   "id": "88774a14-dbfd-44b1-8e4c-b0c8f5cd9c5e",
   "metadata": {
    "tags": []
   },
   "source": [
    "## bow linear model"
   ]
  },
  {
   "cell_type": "code",
   "execution_count": 231,
   "id": "1011da3b-e8b5-44a0-a8ef-1ee7688becd6",
   "metadata": {},
   "outputs": [],
   "source": [
    "# test with small data\n",
    "X, y = shuffle(reviews, scores, random_state=42)\n",
    "X_train, X_test, y_train, y_test = train_test_split(X, y, test_size=0.2, random_state=42)"
   ]
  },
  {
   "cell_type": "code",
   "execution_count": 232,
   "id": "465f96c0-c6d7-4bb1-a878-2630420ede06",
   "metadata": {},
   "outputs": [
    {
     "data": {
      "text/plain": [
       "173293"
      ]
     },
     "execution_count": 232,
     "metadata": {},
     "output_type": "execute_result"
    }
   ],
   "source": [
    "len(X_train)"
   ]
  },
  {
   "cell_type": "code",
   "execution_count": 269,
   "id": "c4d4a88f-4d37-4b56-b4aa-59d2a38daaae",
   "metadata": {
    "tags": []
   },
   "outputs": [
    {
     "name": "stdout",
     "output_type": "stream",
     "text": [
      "R^2 score: 0.2027936585513943\n",
      "Wall time: 25.1 s\n"
     ]
    }
   ],
   "source": [
    "%%time\n",
    "# bow_vectorizer = CountVectorizer(min_df=10,max_df=0.75)\n",
    "bow_vectorizer = TfidfVectorizer(min_df=5,\n",
    "                                 max_df=0.5,\n",
    "                                 max_features=20000,\n",
    "                                 stop_words=STOP_WORDS)\n",
    "est = Pipeline([\n",
    "    ('vect', bow_vectorizer),\n",
    "    ('regressor', Ridge(alpha=10))\n",
    "])\n",
    "est.fit(X_train, y_train)\n",
    "print(f'R^2 score: {est.score(X_test, y_test)}')"
   ]
  },
  {
   "cell_type": "code",
   "execution_count": 279,
   "id": "28383e4d-d9e7-49cf-b47a-9bd4d1736f68",
   "metadata": {},
   "outputs": [
    {
     "data": {
      "text/plain": [
       "array(['00', '000', '007', ..., 'zushi', 'zuzu', 'étouffée'], dtype=object)"
      ]
     },
     "execution_count": 279,
     "metadata": {},
     "output_type": "execute_result"
    }
   ],
   "source": [
    "est.named_steps['vect'].get_feature_names_out()"
   ]
  },
  {
   "cell_type": "code",
   "execution_count": 260,
   "id": "7cdb5bb8-bd9a-48e2-aeb6-2e2fe0744cf7",
   "metadata": {},
   "outputs": [],
   "source": [
    "parameters = {\n",
    "    'vect__max_features': [20000]\n",
    "#     'vect__max_df': [0.25,0.5,0.75]\n",
    "    # 'regressor__alpha': [0.001,1.0]\n",
    "}\n",
    "gs = GridSearchCV(est, parameters)"
   ]
  },
  {
   "cell_type": "code",
   "execution_count": 261,
   "id": "2d7f02c6-db78-4f48-848a-ecd79871ac08",
   "metadata": {
    "collapsed": true,
    "jupyter": {
     "outputs_hidden": true
    },
    "tags": []
   },
   "outputs": [
    {
     "name": "stdout",
     "output_type": "stream",
     "text": [
      "Wall time: 6min 8s\n"
     ]
    },
    {
     "data": {
      "text/plain": [
       "GridSearchCV(estimator=Pipeline(steps=[('vect',\n",
       "                                        TfidfVectorizer(max_df=0.5,\n",
       "                                                        max_features=10000,\n",
       "                                                        min_df=5,\n",
       "                                                        stop_words={\"'d\", \"'ll\",\n",
       "                                                                    \"'m\", \"'re\",\n",
       "                                                                    \"'s\", \"'ve\",\n",
       "                                                                    'a',\n",
       "                                                                    'about',\n",
       "                                                                    'above',\n",
       "                                                                    'across',\n",
       "                                                                    'after',\n",
       "                                                                    'afterwards',\n",
       "                                                                    'again',\n",
       "                                                                    'against',\n",
       "                                                                    'all',\n",
       "                                                                    'almost',\n",
       "                                                                    'alone',\n",
       "                                                                    'along',\n",
       "                                                                    'already',\n",
       "                                                                    'also',\n",
       "                                                                    'although',\n",
       "                                                                    'always',\n",
       "                                                                    'am',\n",
       "                                                                    'among',\n",
       "                                                                    'amongst',\n",
       "                                                                    'amount',\n",
       "                                                                    'an', 'and',\n",
       "                                                                    'another',\n",
       "                                                                    'any', ...})),\n",
       "                                       ('regressor', Ridge(alpha=10))]),\n",
       "             param_grid={'vect__max_features': [10000, 15000, 20000]})"
      ]
     },
     "execution_count": 261,
     "metadata": {},
     "output_type": "execute_result"
    }
   ],
   "source": [
    "%%time\n",
    "gs.fit(X,y)"
   ]
  },
  {
   "cell_type": "code",
   "execution_count": 262,
   "id": "d88a66f0-d7d0-4374-b0f6-ebabe8ae110e",
   "metadata": {},
   "outputs": [
    {
     "data": {
      "text/plain": [
       "{'vect__max_features': 20000}"
      ]
     },
     "execution_count": 262,
     "metadata": {},
     "output_type": "execute_result"
    }
   ],
   "source": [
    "gs.best_params_"
   ]
  },
  {
   "cell_type": "code",
   "execution_count": null,
   "id": "b435f07a-2674-48b2-a6be-ce74a4b9bd8d",
   "metadata": {},
   "outputs": [],
   "source": []
  },
  {
   "cell_type": "code",
   "execution_count": 266,
   "id": "2f5de004-08a7-41f1-9127-cc19f26a4483",
   "metadata": {},
   "outputs": [],
   "source": [
    "parameters = {\n",
    "    'vect__min_df': [3,5,10]\n",
    "#     'vect__max_df': [0.25,0.5,0.75]\n",
    "    # 'regressor__alpha': [0.001,1.0]\n",
    "}\n",
    "gs = GridSearchCV(est, parameters)"
   ]
  },
  {
   "cell_type": "code",
   "execution_count": 267,
   "id": "f82b9082-def8-4221-aa66-36b6138f2408",
   "metadata": {},
   "outputs": [
    {
     "name": "stdout",
     "output_type": "stream",
     "text": [
      "Wall time: 6min\n"
     ]
    },
    {
     "data": {
      "text/plain": [
       "GridSearchCV(estimator=Pipeline(steps=[('vect',\n",
       "                                        TfidfVectorizer(max_df=0.5,\n",
       "                                                        max_features=20000,\n",
       "                                                        min_df=5,\n",
       "                                                        stop_words={\"'d\", \"'ll\",\n",
       "                                                                    \"'m\", \"'re\",\n",
       "                                                                    \"'s\", \"'ve\",\n",
       "                                                                    'a',\n",
       "                                                                    'about',\n",
       "                                                                    'above',\n",
       "                                                                    'across',\n",
       "                                                                    'after',\n",
       "                                                                    'afterwards',\n",
       "                                                                    'again',\n",
       "                                                                    'against',\n",
       "                                                                    'all',\n",
       "                                                                    'almost',\n",
       "                                                                    'alone',\n",
       "                                                                    'along',\n",
       "                                                                    'already',\n",
       "                                                                    'also',\n",
       "                                                                    'although',\n",
       "                                                                    'always',\n",
       "                                                                    'am',\n",
       "                                                                    'among',\n",
       "                                                                    'amongst',\n",
       "                                                                    'amount',\n",
       "                                                                    'an', 'and',\n",
       "                                                                    'another',\n",
       "                                                                    'any', ...})),\n",
       "                                       ('regressor', Ridge(alpha=10))]),\n",
       "             param_grid={'vect__min_df': [3, 5, 10]})"
      ]
     },
     "execution_count": 267,
     "metadata": {},
     "output_type": "execute_result"
    }
   ],
   "source": [
    "%%time\n",
    "gs.fit(X,y)"
   ]
  },
  {
   "cell_type": "code",
   "execution_count": 268,
   "id": "b8aef97d-68ec-40b6-9c63-8b397ca2525a",
   "metadata": {},
   "outputs": [
    {
     "data": {
      "text/plain": [
       "{'vect__min_df': 5}"
      ]
     },
     "execution_count": 268,
     "metadata": {},
     "output_type": "execute_result"
    }
   ],
   "source": [
    "gs.best_params_"
   ]
  },
  {
   "cell_type": "code",
   "execution_count": null,
   "id": "b1fddd29-3db0-4bf2-b420-32179ddce1ed",
   "metadata": {},
   "outputs": [],
   "source": []
  },
  {
   "cell_type": "code",
   "execution_count": 270,
   "id": "28ec66fe-fec4-4241-a39e-114f518939e1",
   "metadata": {},
   "outputs": [],
   "source": [
    "parameters = {\n",
    "    # 'vect__min_df': [5,10,100]\n",
    "    'vect__max_df': [0.5,0.75,0.9]\n",
    "    # 'regressor__alpha': [0.001,1.0]\n",
    "}\n",
    "gs = GridSearchCV(est, parameters)"
   ]
  },
  {
   "cell_type": "code",
   "execution_count": 271,
   "id": "933680ef-dd3d-4f0f-906e-59801f91ecfc",
   "metadata": {},
   "outputs": [
    {
     "name": "stdout",
     "output_type": "stream",
     "text": [
      "Wall time: 6min 38s\n"
     ]
    },
    {
     "data": {
      "text/plain": [
       "GridSearchCV(estimator=Pipeline(steps=[('vect',\n",
       "                                        TfidfVectorizer(max_df=0.5,\n",
       "                                                        max_features=20000,\n",
       "                                                        min_df=5,\n",
       "                                                        stop_words={\"'d\", \"'ll\",\n",
       "                                                                    \"'m\", \"'re\",\n",
       "                                                                    \"'s\", \"'ve\",\n",
       "                                                                    'a',\n",
       "                                                                    'about',\n",
       "                                                                    'above',\n",
       "                                                                    'across',\n",
       "                                                                    'after',\n",
       "                                                                    'afterwards',\n",
       "                                                                    'again',\n",
       "                                                                    'against',\n",
       "                                                                    'all',\n",
       "                                                                    'almost',\n",
       "                                                                    'alone',\n",
       "                                                                    'along',\n",
       "                                                                    'already',\n",
       "                                                                    'also',\n",
       "                                                                    'although',\n",
       "                                                                    'always',\n",
       "                                                                    'am',\n",
       "                                                                    'among',\n",
       "                                                                    'amongst',\n",
       "                                                                    'amount',\n",
       "                                                                    'an', 'and',\n",
       "                                                                    'another',\n",
       "                                                                    'any', ...})),\n",
       "                                       ('regressor', Ridge(alpha=10))]),\n",
       "             param_grid={'vect__max_df': [0.5, 0.75, 0.9]})"
      ]
     },
     "execution_count": 271,
     "metadata": {},
     "output_type": "execute_result"
    }
   ],
   "source": [
    "%%time\n",
    "gs.fit(X,y)"
   ]
  },
  {
   "cell_type": "code",
   "execution_count": 272,
   "id": "07aefcf2-e8f3-4baf-bad0-7bb0efac654c",
   "metadata": {},
   "outputs": [
    {
     "data": {
      "text/plain": [
       "{'vect__max_df': 0.5}"
      ]
     },
     "execution_count": 272,
     "metadata": {},
     "output_type": "execute_result"
    }
   ],
   "source": [
    "gs.best_params_"
   ]
  },
  {
   "cell_type": "code",
   "execution_count": null,
   "id": "25e5e703-4bfb-4772-8ed2-4dc24fdd2e93",
   "metadata": {},
   "outputs": [],
   "source": []
  },
  {
   "cell_type": "code",
   "execution_count": 249,
   "id": "016efb62-aafd-4f49-8fe4-270bc3d1fcd1",
   "metadata": {},
   "outputs": [],
   "source": [
    "parameters = {\n",
    "    # 'vect__min_df': [5,10,100]\n",
    "    # 'vect__max_df': [0.25,0.5,0.75]\n",
    "    'regressor__alpha': [0.001,0.1,1.0,10.0]\n",
    "}\n",
    "gs = GridSearchCV(est, parameters)"
   ]
  },
  {
   "cell_type": "code",
   "execution_count": 250,
   "id": "7f08298c-39df-4039-86ad-bb3f860e5d32",
   "metadata": {},
   "outputs": [
    {
     "name": "stdout",
     "output_type": "stream",
     "text": [
      "Wall time: 7min 23s\n"
     ]
    },
    {
     "data": {
      "text/plain": [
       "GridSearchCV(estimator=Pipeline(steps=[('vect',\n",
       "                                        TfidfVectorizer(max_df=0.75,\n",
       "                                                        max_features=5000,\n",
       "                                                        min_df=10,\n",
       "                                                        stop_words={\"'d\", \"'ll\",\n",
       "                                                                    \"'m\", \"'re\",\n",
       "                                                                    \"'s\", \"'ve\",\n",
       "                                                                    'a',\n",
       "                                                                    'about',\n",
       "                                                                    'above',\n",
       "                                                                    'across',\n",
       "                                                                    'after',\n",
       "                                                                    'afterwards',\n",
       "                                                                    'again',\n",
       "                                                                    'against',\n",
       "                                                                    'all',\n",
       "                                                                    'almost',\n",
       "                                                                    'alone',\n",
       "                                                                    'along',\n",
       "                                                                    'already',\n",
       "                                                                    'also',\n",
       "                                                                    'although',\n",
       "                                                                    'always',\n",
       "                                                                    'am',\n",
       "                                                                    'among',\n",
       "                                                                    'amongst',\n",
       "                                                                    'amount',\n",
       "                                                                    'an', 'and',\n",
       "                                                                    'another',\n",
       "                                                                    'any', ...})),\n",
       "                                       ('regressor', Ridge())]),\n",
       "             param_grid={'regressor__alpha': [0.001, 0.1, 1.0, 10.0]})"
      ]
     },
     "execution_count": 250,
     "metadata": {},
     "output_type": "execute_result"
    }
   ],
   "source": [
    "%%time\n",
    "gs.fit(X,y)"
   ]
  },
  {
   "cell_type": "code",
   "execution_count": 251,
   "id": "33d55396-11a8-46ed-8515-8f791dbe49a7",
   "metadata": {},
   "outputs": [
    {
     "data": {
      "text/plain": [
       "{'regressor__alpha': 10.0}"
      ]
     },
     "execution_count": 251,
     "metadata": {},
     "output_type": "execute_result"
    }
   ],
   "source": [
    "gs.best_params_"
   ]
  },
  {
   "cell_type": "code",
   "execution_count": 84,
   "id": "a5d860ea-f5be-472d-837c-e7b4f6b4acb4",
   "metadata": {
    "collapsed": true,
    "jupyter": {
     "outputs_hidden": true
    },
    "tags": []
   },
   "outputs": [
    {
     "data": {
      "text/plain": [
       "{'heads': 1.800982361333924,\n",
       " 'utensils': 1.916643059857872,\n",
       " 'hover': 1.943903566500662,\n",
       " 'veg': 2.085777785684223,\n",
       " 'positives': 2.301467895157769,\n",
       " 'underground': 2.3325902921599235,\n",
       " 'mega': 2.478139828925632,\n",
       " 'father': 2.5676060379729577,\n",
       " 'reasonably': 2.7504004434583775,\n",
       " 'attitude': 2.7677003911179354,\n",
       " 'sriracha': 2.8424380217217284,\n",
       " 'quail': 2.860957778707466,\n",
       " 'sweating': 2.882951459349991,\n",
       " 'deny': 2.9016483636276744,\n",
       " 'pears': 2.9054882547626635,\n",
       " 'scheme': 2.9363331638248127,\n",
       " 'bravo': 2.9558104185231615,\n",
       " 'forming': 3.0278544549869055,\n",
       " 'paradise': 3.034545037094106,\n",
       " 'belt': 3.037436729642962,\n",
       " 'patient': 3.040429305859377,\n",
       " 'bombay': 3.0561292106755484,\n",
       " 'intimidated': 3.0668230852583847,\n",
       " 'kick': 3.112588102383234,\n",
       " 'managed': 3.1146183982696543,\n",
       " 'ball': 3.1178314928864945,\n",
       " 'diversity': 3.131699777350294,\n",
       " 'lessons': 3.131943027169056,\n",
       " 'arrival': 3.160840530864127,\n",
       " 'succeed': 3.2127479628498827,\n",
       " 'ray': 3.2321225216819744,\n",
       " 'boba': 3.233916887855153,\n",
       " 'wish': 3.252314252994869,\n",
       " 'gotta': 3.266592971935912,\n",
       " 'styles': 3.3158715184731955,\n",
       " '3am': 3.3326542700209747,\n",
       " 'tomahawk': 3.374632274915999,\n",
       " 'sheep': 3.3874803060068,\n",
       " 'bahn': 3.3958127018610202,\n",
       " 'eccentric': 3.3968162142382607,\n",
       " 'backs': 3.421018168316116,\n",
       " 'mad': 3.4330820919786618,\n",
       " 'bit': 3.4333012940838796,\n",
       " 'insanely': 3.4364026674854893,\n",
       " 'updating': 3.4399273854400194,\n",
       " 'backed': 3.4448496894994696,\n",
       " 'paulo': 3.477248714632894,\n",
       " 'corona': 3.4786241124255777,\n",
       " '28': 3.4791690637519666,\n",
       " 'spoken': 3.5076580345196637,\n",
       " 'lean': 3.5167913305204883,\n",
       " 'freaked': 3.5181029233993653,\n",
       " 'handled': 3.5229468510622928,\n",
       " 'heartbeat': 3.540789346899788,\n",
       " 'breaker': 3.5439371269541287,\n",
       " 'la': 3.546665056187147,\n",
       " '183': 3.548631323065385,\n",
       " 'stuffing': 3.5771739428378,\n",
       " 'satiated': 3.5810101633216775,\n",
       " 'southwestern': 3.5932830010572836,\n",
       " 'american': 3.5976337064488337,\n",
       " 'flavors': 3.601938547134125,\n",
       " 'strolled': 3.6059688447857448,\n",
       " 'lox': 3.616445286979789,\n",
       " 'turnip': 3.634109015265973,\n",
       " 'partly': 3.6497398721362813,\n",
       " 'features': 3.651101806293002,\n",
       " 'apple': 3.6531823336554634,\n",
       " 'smokey': 3.66430614801852,\n",
       " 'chin': 3.6673489220545306,\n",
       " 'bent': 3.672348064560935,\n",
       " 'fillings': 3.675939233457084,\n",
       " 'remain': 3.684533515944418,\n",
       " 'kebabs': 3.6919947857289923,\n",
       " 'tubular': 3.694126679657533,\n",
       " 'explaining': 3.6995479070014747,\n",
       " 'wage': 3.7112027151858147,\n",
       " 'greater': 3.721092985609489,\n",
       " 'cheeseburgers': 3.7499343663877722,\n",
       " 'decoration': 3.773375317920867,\n",
       " 'frank': 3.78756765354312,\n",
       " 'safety': 3.7901876569970776,\n",
       " 'northern': 3.7914806339623994,\n",
       " 'pro': 3.7941895455771317,\n",
       " 'jello': 3.7953696259595358,\n",
       " 'belong': 3.798760261600244,\n",
       " 'bag': 3.8021228060585446,\n",
       " 'snarky': 3.8026380758929696,\n",
       " 'lacks': 3.8031932789529166,\n",
       " 'ew': 3.8052581647280928,\n",
       " 'locals': 3.8061728413741545,\n",
       " 'sole': 3.806252418026407,\n",
       " 'fan': 3.812198759003771,\n",
       " 'momma': 3.814603280660831,\n",
       " 'material': 3.8219729856027653,\n",
       " 'diverse': 3.830579030437649,\n",
       " 'ride': 3.844165694031152,\n",
       " 'tattooed': 3.861002932797815,\n",
       " 'burnt': 3.8808686058337,\n",
       " 'pasty': 3.890691613603085,\n",
       " 'copper': 3.90499439089108,\n",
       " 'breasts': 3.9104111166752595,\n",
       " 'crispier': 3.9141716006784932,\n",
       " 'registers': 3.9160793631861686,\n",
       " 'roaster': 3.922405396667449,\n",
       " 'shirt': 3.9275580840989153,\n",
       " 'coloring': 3.92859181528605,\n",
       " 'essentially': 3.9321054906880244,\n",
       " 'themed': 3.9337313604346758,\n",
       " 'pays': 3.9343643576977527,\n",
       " 'barbeque': 3.939397354787335,\n",
       " 'proportions': 3.943314284553841,\n",
       " 'matters': 3.958488384790274,\n",
       " 'birthday': 3.9599257328990993,\n",
       " 'delightfully': 3.962108886331408,\n",
       " 'hideout': 3.9643900260277847,\n",
       " 'cabo': 3.964996100780014,\n",
       " 'weeks': 3.970045435927144,\n",
       " 'generally': 3.971828134841749,\n",
       " 'dating': 3.98197475673411,\n",
       " 'forgetting': 3.982069628893946,\n",
       " 'darn': 3.9869200830276954,\n",
       " 'acidic': 3.9900711956852413,\n",
       " 'dangerous': 3.99958455240042,\n",
       " 'beneath': 3.9999225452092197,\n",
       " 'likely': 4.004860587776326,\n",
       " 'finds': 4.014859451716937,\n",
       " 'emergency': 4.0189363785516345,\n",
       " 'bridge': 4.021992675912454,\n",
       " 'rivals': 4.0245632443357024,\n",
       " 'pollo': 4.031317677762727,\n",
       " 'sex': 4.036613982738362,\n",
       " 'congress': 4.03861990086746,\n",
       " 'interaction': 4.042190345433908,\n",
       " 'locale': 4.0621360560138715,\n",
       " 'inka': 4.074599048616817,\n",
       " 'dish': 4.078509478793393,\n",
       " 'cones': 4.085955373400667,\n",
       " 'encouraged': 4.086271212746347,\n",
       " '500': 4.0920793498830665,\n",
       " 'concerning': 4.096643871368998,\n",
       " 'wednesday': 4.1112731813849575,\n",
       " 'diner': 4.111651120541252,\n",
       " 'pork': 4.115763680450158,\n",
       " 'calzones': 4.1183698280866015,\n",
       " 'discuss': 4.1185873139508775,\n",
       " 'wave': 4.118968028066373,\n",
       " 'bypass': 4.133212502742394,\n",
       " 'haha': 4.134758695551402,\n",
       " 'choice': 4.142302970530508,\n",
       " '30am': 4.1452026547124845,\n",
       " 'draft': 4.145928891441703,\n",
       " 'cautious': 4.146431979856127,\n",
       " 'singapore': 4.149007280797977,\n",
       " 'fonda': 4.152488865626559,\n",
       " 'bi': 4.157281792561028,\n",
       " 'albacore': 4.158582660932595,\n",
       " 'counter': 4.161643540773906,\n",
       " 'brio': 4.16488466606309,\n",
       " 'wife': 4.170138218575566,\n",
       " 'greatness': 4.180092557223322,\n",
       " 'landing': 4.1821764943016655,\n",
       " 'dunno': 4.185194313317664,\n",
       " 'country': 4.189679801279725,\n",
       " 'battered': 4.194654790324008,\n",
       " 'quesadillas': 4.195006903003702,\n",
       " 'humus': 4.195183005848218,\n",
       " 'invested': 4.198122628166153,\n",
       " 'wedge': 4.198711591019622,\n",
       " 'ginormous': 4.199124071506305,\n",
       " 'afford': 4.208836910671303,\n",
       " 'asado': 4.209432219654237,\n",
       " 'stale': 4.216603707988785,\n",
       " 'brave': 4.220690497738397,\n",
       " 'spacious': 4.231163699380906,\n",
       " 'didnt': 4.236900669647429,\n",
       " 'dumplings': 4.242116845446068,\n",
       " 'noticeable': 4.249093689725305,\n",
       " 'relax': 4.251823558649779,\n",
       " 'maudies': 4.251823558649779,\n",
       " 'chatty': 4.255184069622374,\n",
       " 'joes': 4.257368226002547,\n",
       " 'release': 4.2599955264003615,\n",
       " 'taro': 4.263697956032164,\n",
       " 'effective': 4.275905957359113,\n",
       " 'cedar': 4.278773936763523,\n",
       " 'stink': 4.28030689567384,\n",
       " 'hockey': 4.285112594859569,\n",
       " '2012': 4.286526658599504,\n",
       " '90': 4.30051743023879,\n",
       " 'handmade': 4.302214780169732,\n",
       " 'weirdest': 4.305224859657509,\n",
       " 'straight': 4.30574927789306,\n",
       " 'understanding': 4.3081125692181725,\n",
       " 'order': 4.309954553818974,\n",
       " 'suspect': 4.320545769523518,\n",
       " 'exactly': 4.32194423144357,\n",
       " 'guisada': 4.3242125625249255,\n",
       " 'turkey': 4.324813865365825,\n",
       " 'repeatedly': 4.326753859953597,\n",
       " 'salivating': 4.333674767807282,\n",
       " 'pastry': 4.336375464877874,\n",
       " 'moral': 4.338744572832678,\n",
       " 'cocina': 4.339422492999649,\n",
       " 'decently': 4.348482809074592,\n",
       " 'rotisserie': 4.352528482642213,\n",
       " 'cleanser': 4.3534908804617345,\n",
       " 'opportunities': 4.366226379281747,\n",
       " 'uncle': 4.369226137365027,\n",
       " 'cousins': 4.3695755311703355,\n",
       " 'sol': 4.372164846448854,\n",
       " 'poop': 4.37440967376825,\n",
       " 'couches': 4.375533979979016,\n",
       " 'complements': 4.379337872985017,\n",
       " 'solution': 4.384645177662277,\n",
       " 'doughs': 4.391694229599691,\n",
       " 'begin': 4.391980086815959,\n",
       " 'basics': 4.392194533365978,\n",
       " 'businesses': 4.395416762354223,\n",
       " 'emphasis': 4.3974269575892535,\n",
       " 'long': 4.411685513489978,\n",
       " 'refuses': 4.411685513489978,\n",
       " 'casa': 4.414971267240163,\n",
       " 'selection': 4.4154833562085205,\n",
       " 'loyalty': 4.416361833571019,\n",
       " 'draught': 4.421354501797998,\n",
       " 'fees': 4.422459189467874,\n",
       " 'disliked': 4.422753979063936,\n",
       " 'thoroughly': 4.424007805241398,\n",
       " 'memorable': 4.424376877030049,\n",
       " 'imaginative': 4.428519814079564,\n",
       " 'billy': 4.429409823780086,\n",
       " 'comparable': 4.429558235772046,\n",
       " 'flavours': 4.431489598725696,\n",
       " 'recommend': 4.4395523523704385,\n",
       " 'festival': 4.4413529380471,\n",
       " 'enhance': 4.4413529380471,\n",
       " 'appealing': 4.445642367809391,\n",
       " 'bitterness': 4.44760507697724,\n",
       " 'goat': 4.448209763314637,\n",
       " 'booked': 4.450329049605878,\n",
       " 'leek': 4.4560279366529585,\n",
       " 'luscious': 4.458087512498274,\n",
       " 'instead': 4.45900424289097,\n",
       " 'reflect': 4.464138157082784,\n",
       " 'outrageously': 4.475339942877025,\n",
       " 'biryani': 4.484157447627501,\n",
       " 'raita': 4.489028607479453,\n",
       " 'rolls': 4.491236287947191,\n",
       " 'inn': 4.4968562813673705,\n",
       " 'position': 4.49796818681113,\n",
       " 'contrary': 4.498922233631786,\n",
       " 'crudo': 4.504345759447932,\n",
       " 'ick': 4.506186864630791,\n",
       " 'intrigued': 4.5069884036284975,\n",
       " 'signage': 4.50963804988541,\n",
       " 'pub': 4.51205292669287,\n",
       " '30': 4.51779147547778,\n",
       " 'achiote': 4.523237093844287,\n",
       " 'inconsistency': 4.525276662162977,\n",
       " 'mouse': 4.525766778166906,\n",
       " 'weren': 4.530024542725743,\n",
       " 'attest': 4.530188665489938,\n",
       " 'inexcusable': 4.531256120532383,\n",
       " 'digging': 4.532489216993451,\n",
       " 'tableside': 4.537767579763969,\n",
       " 'timing': 4.539174340722515,\n",
       " 'compares': 4.539339972192874,\n",
       " 'entirely': 4.541329692630443,\n",
       " 'dent': 4.543406536575283,\n",
       " 'rules': 4.546154591766811,\n",
       " 'gratin': 4.551925044743113,\n",
       " 'waistline': 4.561701776642135,\n",
       " 'independent': 4.565010369267971,\n",
       " 'advised': 4.565775447725828,\n",
       " 'salsas': 4.568585754025085,\n",
       " 'cats': 4.5750881725553985,\n",
       " 'physical': 4.576978369870478,\n",
       " 'wore': 4.583535770416637,\n",
       " 'swipe': 4.587178129833316,\n",
       " 'gazpacho': 4.592754028580197,\n",
       " 'wallet': 4.60453024341289,\n",
       " 'chief': 4.607097184410798,\n",
       " 'mimosas': 4.609670731556021,\n",
       " 'fine': 4.611627505283652,\n",
       " 'oiled': 4.618058395613943,\n",
       " 'wontons': 4.6231790104949795,\n",
       " 'ahead': 4.625342928028571,\n",
       " 'unwelcome': 4.626878540994621,\n",
       " 'primarily': 4.629231696212068,\n",
       " 'italian': 4.629775519301696,\n",
       " 'mein': 4.635412410307094,\n",
       " 'replace': 4.636507101166275,\n",
       " 'yea': 4.63714622467582,\n",
       " 'readily': 4.637968555573273,\n",
       " 'fest': 4.638059967429454,\n",
       " 'linguine': 4.638700084501286,\n",
       " '30th': 4.641539824420886,\n",
       " 'cole': 4.64392777559236,\n",
       " 'fill': 4.646321442726794,\n",
       " 'malaysian': 4.6479819597135075,\n",
       " 'baking': 4.650570479232259,\n",
       " 'offered': 4.651033420771013,\n",
       " 'skin': 4.654094221750781,\n",
       " 'option': 4.6546517389553355,\n",
       " 'fancier': 4.659963712677994,\n",
       " 'oil': 4.664083568692517,\n",
       " 'bump': 4.665773868653609,\n",
       " 'girlfriends': 4.666808238015663,\n",
       " 'email': 4.671334412645082,\n",
       " 'woohoo': 4.672090770816718,\n",
       " 'caribbean': 4.674078937152094,\n",
       " 'thoughts': 4.675596388126127,\n",
       " 'vintage': 4.676260997692485,\n",
       " 'accused': 4.678923861843251,\n",
       " 'greeter': 4.682931500794977,\n",
       " 'decade': 4.683792374156288,\n",
       " 'court': 4.6839837800330315,\n",
       " 'run': 4.685803965428032,\n",
       " 'cadillac': 4.68762746994023,\n",
       " 'graham': 4.692538645491142,\n",
       " 'filled': 4.693311219165494,\n",
       " 'pricey': 4.698056301423714,\n",
       " 'judge': 4.7065371242975225,\n",
       " 'sloppy': 4.7067329339711454,\n",
       " 'sauteed': 4.716671515162606,\n",
       " 'cubes': 4.723219807239254,\n",
       " 'artistic': 4.725911062289981,\n",
       " '7am': 4.727109504458788,\n",
       " 'professional': 4.727909264573395,\n",
       " 'shown': 4.729711066862658,\n",
       " 'piles': 4.730111908635737,\n",
       " 'fritters': 4.731917687617605,\n",
       " 'woah': 4.734431135881948,\n",
       " 'orgasm': 4.735942242803251,\n",
       " 'reported': 4.737657595627876,\n",
       " 'trip': 4.739780631354282,\n",
       " 'disappointed': 4.741705364765173,\n",
       " 'labels': 4.7418067692169155,\n",
       " 'curb': 4.750668553719144,\n",
       " 'blow': 4.751487386927639,\n",
       " 'cooking': 4.751999498374279,\n",
       " 'tendency': 4.755283236573817,\n",
       " 'ola': 4.759506346316316,\n",
       " 'june': 4.7596095721228595,\n",
       " 'artichoke': 4.762814868771877,\n",
       " 'pours': 4.763540069528861,\n",
       " 'lamp': 4.764992050700778,\n",
       " 'mag': 4.766030472393259,\n",
       " 'goddess': 4.774900867106912,\n",
       " 'cal': 4.777840193178626,\n",
       " 'greeted': 4.780366510311738,\n",
       " 'central': 4.7813155270962024,\n",
       " 'permanent': 4.784697121780111,\n",
       " 'bolognese': 4.789365565272168,\n",
       " 'scallops': 4.791068599212252,\n",
       " 'vespaio': 4.791281682528636,\n",
       " '2013': 4.791494811259195,\n",
       " 'mildly': 4.795124966857928,\n",
       " 'hiccup': 4.795338916366662,\n",
       " 'tour': 4.805338462082299,\n",
       " 'walks': 4.805987040637086,\n",
       " 'ease': 4.8079353040523465,\n",
       " 'clientele': 4.811299570072087,\n",
       " 'giddy': 4.814566123499343,\n",
       " 'frites': 4.819486048144966,\n",
       " 'hostile': 4.820034203615579,\n",
       " 'shock': 4.823109439427386,\n",
       " 'heap': 4.8246506110226175,\n",
       " 'alert': 4.825973508360294,\n",
       " 'douse': 4.827298158073804,\n",
       " 'neck': 4.835617212207367,\n",
       " 'achieve': 4.835728601792557,\n",
       " 'reminding': 4.836731666797249,\n",
       " 'italy': 4.837847364781998,\n",
       " 'hipster': 4.837959003074049,\n",
       " 'bikes': 4.8398587633816845,\n",
       " 'attended': 4.839970626461392,\n",
       " 'arriving': 4.8420984059751895,\n",
       " 'saltiness': 4.843893738593864,\n",
       " 'wich': 4.84704334749676,\n",
       " 'dice': 4.854393411682515,\n",
       " 'minds': 4.856210974377586,\n",
       " 'student': 4.857690180427582,\n",
       " 'calories': 4.8658077577303525,\n",
       " 'convince': 4.8658077577303525,\n",
       " 'accurate': 4.868796952874039,\n",
       " 'heavy': 4.870410228172084,\n",
       " 'basket': 4.873991769751143,\n",
       " 'deliver': 4.875613454341456,\n",
       " 'exaggeration': 4.877470034127468,\n",
       " 'kill': 4.8789810473748005,\n",
       " 'following': 4.8804943472387095,\n",
       " 'brim': 4.882126619957419,\n",
       " 'superior': 4.884931015345274,\n",
       " 'authentic': 4.8858675642313365,\n",
       " 'month': 4.888095389506404,\n",
       " 'ring': 4.889622555735666,\n",
       " 'steaks': 4.890798888067525,\n",
       " 'relish': 4.891976605786974,\n",
       " '9am': 4.892094453880918,\n",
       " 'pate': 4.898241771974603,\n",
       " 'plug': 4.904307803064228,\n",
       " 'habana': 4.906098955253646,\n",
       " 'mural': 4.909091356792354,\n",
       " 'applebee': 4.910290829168382,\n",
       " 'kidding': 4.914018363094209,\n",
       " 'roach': 4.914138837764556,\n",
       " 'cops': 4.9180017107475855,\n",
       " 'valet': 4.919211925103209,\n",
       " 'nails': 4.9260163255972405,\n",
       " 'tobacco': 4.9262601982969,\n",
       " 'electronic': 4.926382156953067,\n",
       " 'pressed': 4.929680675611731,\n",
       " 'etc': 4.929925443695196,\n",
       " 'cult': 4.93890072986313,\n",
       " 'drinkable': 4.942736656115931,\n",
       " 'matt': 4.944473844789563,\n",
       " 'indifferent': 4.944846492455511,\n",
       " 'tenderness': 4.9492043403531545,\n",
       " 'fructose': 4.949329129771174,\n",
       " 'tots': 4.9540827038962,\n",
       " '400': 4.957474027877537,\n",
       " 'ski': 4.9582292198580475,\n",
       " 'darling': 4.958607029824131,\n",
       " 'vegetarians': 4.959741316920351,\n",
       " 'relieved': 4.961761009603874,\n",
       " 'karage': 4.962772387692613,\n",
       " 'dusty': 4.96988082077279,\n",
       " 'absolutely': 4.971665852484813,\n",
       " 'deceiving': 4.972815057744406,\n",
       " 'brazilian': 4.979223692854301,\n",
       " 'routine': 4.97948089450181,\n",
       " 'plantains': 4.9811543196203925,\n",
       " 'spreading': 4.9811543196203925,\n",
       " 'contender': 4.981927615186702,\n",
       " 'attic': 4.985803088323018,\n",
       " 'whats': 4.991123975576548,\n",
       " 'eve': 4.9945129256396505,\n",
       " 'hefty': 4.995557994317393,\n",
       " 'ole': 5.000799783281853,\n",
       " 'nutmeg': 5.00198298200005,\n",
       " 'cochinita': 5.004881152912827,\n",
       " 'nugget': 5.008449517235796,\n",
       " 'ppl': 5.014158886791064,\n",
       " 'charging': 5.017092613391816,\n",
       " 'unheard': 5.018428976012186,\n",
       " 'jess': 5.018696462973791,\n",
       " 'blond': 5.019365493573443,\n",
       " 'liking': 5.020570877768141,\n",
       " '30pm': 5.0239268108459445,\n",
       " 'reminds': 5.0239268108459445,\n",
       " 'ironic': 5.025137709076648,\n",
       " 'right': 5.025676357083208,\n",
       " 'usual': 5.033112340782245,\n",
       " 'accents': 5.035149969688027,\n",
       " 'hanging': 5.035421967513722,\n",
       " 'unmatched': 5.0366468740976345,\n",
       " 'mustard': 5.038555271623395,\n",
       " 'sites': 5.038828197389281,\n",
       " 'thaison': 5.039647421902602,\n",
       " 'celebrity': 5.039920645948017,\n",
       " 'texture': 5.040330622038488,\n",
       " 'caesar': 5.043479368565012,\n",
       " 'milkshakes': 5.044165192609451,\n",
       " 'buenos': 5.044439653980735,\n",
       " 'things': 5.048841311706397,\n",
       " 'laundry': 5.049254962177652,\n",
       " 'thousand': 5.049530824248366,\n",
       " 'fixin': 5.053123973498398,\n",
       " 'beers': 5.054093569806785,\n",
       " 'dingy': 5.05492540127025,\n",
       " 'nasty': 5.056035587340424,\n",
       " 'raise': 5.059652227810613,\n",
       " 'wireless': 5.060488697955578,\n",
       " 'cava': 5.063281995861191,\n",
       " 'et': 5.065382101638308,\n",
       " 'essential': 5.065802652566213,\n",
       " 'round': 5.067908064249973,\n",
       " 'sisters': 5.068329679040844,\n",
       " 'pushed': 5.069032765619761,\n",
       " 'acai': 5.070722193024261,\n",
       " 'assumed': 5.07354426347346,\n",
       " 'zen': 5.074109634513254,\n",
       " 'accounts': 5.076941294341065,\n",
       " 'gobi': 5.078360136803834,\n",
       " 'decadent': 5.079070313667714,\n",
       " 'hamburger': 5.082201097497226,\n",
       " 'cloth': 5.085055795410752,\n",
       " 'sassy': 5.088635666062846,\n",
       " 'coopers': 5.088779127794675,\n",
       " 'oversalted': 5.089209636519126,\n",
       " 'positive': 5.091364964604017,\n",
       " 'awkwardly': 5.09756944306045,\n",
       " 'constant': 5.101775700621856,\n",
       " 'certainly': 5.103084696518168,\n",
       " 'wished': 5.103084696518168,\n",
       " 'unappealing': 5.105999725546345,\n",
       " 'jobs': 5.1071681205967465,\n",
       " 'yuppies': 5.1096555020825924,\n",
       " 'boxes': 5.115385334845486,\n",
       " 'quarter': 5.121000006805838,\n",
       " 'absolute': 5.131725567691376,\n",
       " 'disinterested': 5.131875346767519,\n",
       " 'fired': 5.135927885146789,\n",
       " 'judged': 5.140147936624398,\n",
       " 'los': 5.143021719136106,\n",
       " 'march': 5.145144540251714,\n",
       " 'hispanic': 5.14605570204596,\n",
       " 'traders': 5.147424003285669,\n",
       " 'latin': 5.150776642817368,\n",
       " 'thank': 5.156747723866868,\n",
       " 'offset': 5.1582845306853935,\n",
       " 'attraction': 5.158899915320199,\n",
       " 'mighty': 5.163527410852247,\n",
       " 'demand': 5.164610247991079,\n",
       " 'population': 5.164765034772597,\n",
       " 'save': 5.16662434736278,\n",
       " 'wider': 5.166779446238625,\n",
       " 'premium': 5.1686425115190175,\n",
       " 'homemade': 5.168797923750273,\n",
       " 'slogan': 5.168797923750273,\n",
       " 'grad': 5.169575347407558,\n",
       " 'budino': 5.170820483755196,\n",
       " 'venture': 5.172223117819801,\n",
       " 'iphone': 5.172535081634529,\n",
       " 'eberly': 5.173003209910223,\n",
       " 'entrées': 5.173783911019436,\n",
       " 'pong': 5.174252624409784,\n",
       " 'prepare': 5.178951881177879,\n",
       " 'intrusive': 5.181939539662507,\n",
       " 'hunger': 5.18556816240236,\n",
       " 'distracted': 5.186833384775789,\n",
       " 'scone': 5.188100209965005,\n",
       " 'terry': 5.1893686420361345,\n",
       " 'eff': 5.202463687034225,\n",
       " 'sh': 5.2031068772799065,\n",
       " 'tell': 5.203589541596251,\n",
       " 'hell': 5.206490430012485,\n",
       " 'decorate': 5.2076208298098825,\n",
       " 'yumminess': 5.2084290412819865,\n",
       " 'informed': 5.211668435109238,\n",
       " 'delicious': 5.213292075667257,\n",
       " 'reverse': 5.216710325923261,\n",
       " 'foodies': 5.218832256042873,\n",
       " 'fuzzy': 5.2235820807127595,\n",
       " 'reliable': 5.225060763311935,\n",
       " 'marmalade': 5.227859810171094,\n",
       " 'male': 5.2283545739314965,\n",
       " 'tatsuya': 5.22967514196758,\n",
       " 'progress': 5.2339790718028585,\n",
       " 'hello': 5.234476873190389,\n",
       " 'hostesses': 5.234808878505524,\n",
       " 'totally': 5.238301605548932,\n",
       " 'van': 5.239969106352189,\n",
       " 'rockin': 5.242810254749533,\n",
       " 'daddy': 5.242810254749533,\n",
       " 'unorganized': 5.248516883193503,\n",
       " 'precautions': 5.249527324505476,\n",
       " 'friendliness': 5.249864365290601,\n",
       " 'café': 5.252057903671193,\n",
       " 'vision': 5.253579330724875,\n",
       " 'es': 5.2544255692453765,\n",
       " 'row': 5.254764265268936,\n",
       " 'ruin': 5.2573081486046735,\n",
       " 'contacted': 5.258497512435304,\n",
       " 'apathetic': 5.258837590656572,\n",
       " 'ive': 5.259177784570382,\n",
       " 'shy': 5.263952691323342,\n",
       " 'laid': 5.264465643373574,\n",
       " 'encouraging': 5.266348721906568,\n",
       " 'stickers': 5.267034357860751,\n",
       " 'stellar': 5.268063694029864,\n",
       " 'jet': 5.268578759712125,\n",
       " 'hairs': 5.269094090823761,\n",
       " 'honored': 5.26995356659648,\n",
       " 'jesse': 5.26995356659648,\n",
       " 'evil': 5.270985913556712,\n",
       " 'focusing': 5.272191666867895,\n",
       " 'cubed': 5.2723640360831805,\n",
       " 'pitcher': 5.273916697483692,\n",
       " 'mountain': 5.278242337933832,\n",
       " 'fastest': 5.278936180112578,\n",
       " 'reserving': 5.280325310393262,\n",
       " 'sustainable': 5.280499087437751,\n",
       " 'mascarpone': 5.282412630684948,\n",
       " 'tropical': 5.282760941381608,\n",
       " 'franklins': 5.286775258666987,\n",
       " 'yall': 5.297323879687732,\n",
       " 'sleep': 5.297854242999024,\n",
       " 'doddy': 5.29944702273581,\n",
       " '1000': 5.300687607742062,\n",
       " 'interactions': 5.303173404476624,\n",
       " 'originality': 5.304062688661507,\n",
       " 'brian': 5.304240640437047,\n",
       " 'personal': 5.305309016607045,\n",
       " 'mi': 5.305309016607045,\n",
       " 'proved': 5.307806342200351,\n",
       " 'effectively': 5.309951882090096,\n",
       " 'floors': 5.313178847959576,\n",
       " 'beat': 5.314976116595775,\n",
       " 'views': 5.316596424808765,\n",
       " 'considerate': 5.316956850114522,\n",
       " 'snobs': 5.31713711149401,\n",
       " 'struggled': 5.3218353492652,\n",
       " 'biggie': 5.322016492278103,\n",
       " 'cater': 5.322741392636052,\n",
       " 'introducing': 5.323829729402284,\n",
       " 'tonkatsu': 5.324192771700699,\n",
       " 'tot': 5.328924354686514,\n",
       " 'access': 5.331298568202472,\n",
       " 'restrooms': 5.336431485063319,\n",
       " 'sincerely': 5.33735085627821,\n",
       " 'brain': 5.3423301196778175,\n",
       " 'dated': 5.34269994216724,\n",
       " 'stiff': 5.342884904712852,\n",
       " 'profile': 5.343995398996879,\n",
       " 'dancing': 5.346777041958756,\n",
       " 'rundown': 5.349752681126675,\n",
       " 'remind': 5.353297791659192,\n",
       " 'haired': 5.355543301584775,\n",
       " 'peanuts': 5.358357298376487,\n",
       " 'dollars': 5.360425940392974,\n",
       " 'exhausted': 5.36306496171723,\n",
       " 'decaf': 5.363253730004717,\n",
       " 'somebody': 5.363631373513738,\n",
       " 'confirmation': 5.364954250017722,\n",
       " 'nada': 5.36533253638501,\n",
       " 'spotty': 5.365521733244907,\n",
       " 'bursting': 5.365710965907029,\n",
       " 'rate': 5.368174254694038,\n",
       " 'ruined': 5.368363990013837,\n",
       " 'arrogant': 5.3685537613399585,\n",
       " '75': 5.368743568686073,\n",
       " 'cypress': 5.369313206981168,\n",
       " 'rec': 5.369313206981168,\n",
       " 'ra': 5.370453457959901,\n",
       " 'began': 5.371214348238193,\n",
       " 'solve': 5.373882032747078,\n",
       " 'insides': 5.374645537269757,\n",
       " 'discouraged': 5.375791888178633,\n",
       " 'bufalina': 5.379814496801832,\n",
       " 'generation': 5.3809667919168485,\n",
       " 'th': 5.3825052537587545,\n",
       " 'pets': 5.382697728015917,\n",
       " 'shishito': 5.38366065538931,\n",
       " 'moves': 5.384238857197844,\n",
       " 'pals': 5.385782365125353,\n",
       " 'liberal': 5.38674826880327,\n",
       " 'poppers': 5.38674826880327,\n",
       " 'crumble': 5.38674826880327,\n",
       " 'content': 5.390233267490166,\n",
       " 'picante': 5.39081528322102,\n",
       " 'luby': 5.392563365631789,\n",
       " 'mud': 5.394704068988942,\n",
       " 'key': 5.39528869338443,\n",
       " 'stairs': 5.397826022744153,\n",
       " 'truly': 5.398021468850511,\n",
       " 'omakase': 5.4017422212092026,\n",
       " 'leaf': 5.402920077646908,\n",
       " 'jumbo': 5.4042959992399,\n",
       " 'au': 5.409225517257308,\n",
       " 'outdoor': 5.410610148078863,\n",
       " 'difficulty': 5.410610148078863,\n",
       " 'warmer': 5.413385174636689,\n",
       " 'luke': 5.41517319537728,\n",
       " 'wifi': 5.419757159557525,\n",
       " 'honest': 5.420156759962443,\n",
       " 'shipley': 5.42035662006104,\n",
       " 'mango': 5.421556620205039,\n",
       " 'smoker': 5.423359324749318,\n",
       " 'economy': 5.423559826003122,\n",
       " 'crusty': 5.4249644615305455,\n",
       " 'shocked': 5.426371072834506,\n",
       " 'decades': 5.4277796654811326,\n",
       " 'lesson': 5.427981055069972,\n",
       " 'turned': 5.431613020321536,\n",
       " 'elotes': 5.432017387492432,\n",
       " 'form': 5.4328266127034945,\n",
       " 'meh': 5.435055364512508,\n",
       " 'tolerate': 5.435258224843867,\n",
       " 'pickle': 5.439120410760678,\n",
       " 'qualm': 5.4407510674611865,\n",
       " 'required': 5.441159147450526,\n",
       " 'scratch': 5.443202049080327,\n",
       " 'packing': 5.446274248117297,\n",
       " 'bellinis': 5.447095097742702,\n",
       " 'sufficient': 5.4505912452626974,\n",
       " 'bock': 5.453479631838567,\n",
       " 'randall': 5.454513223661849,\n",
       " 'retrospect': 5.455133891934594,\n",
       " 'disappearing': 5.455133891934594,\n",
       " 'mandola': 5.456583617776158,\n",
       " 'vote': 5.459281554454675,\n",
       " 'tube': 5.460113155334201,\n",
       " 'lets': 5.462195188149605,\n",
       " 'corned': 5.4676288483314375,\n",
       " 'banh': 5.46825771325102,\n",
       " 'killing': 5.470146684323779,\n",
       " 'terms': 5.471407983629105,\n",
       " 'fair': 5.4720392303623235,\n",
       " 'weather': 5.473724505671663,\n",
       " 'anise': 5.475201454985403,\n",
       " 'caffeine': 5.479433369891983,\n",
       " 'exceptional': 5.480281906217821,\n",
       " 'turn': 5.481131163169077,\n",
       " 'labeled': 5.483044632446429,\n",
       " 'whopping': 5.486028436876722,\n",
       " 'stupid': 5.487096242637552,\n",
       " 'hurried': 5.490735334740924,\n",
       " 'greets': 5.492022888566868,\n",
       " 'wholly': 5.493957333017497,\n",
       " 'uncomfortable': 5.495895526797501,\n",
       " 'pickup': 5.498269543235677,\n",
       " '31': 5.498917981602719,\n",
       " 'googled': 5.499783220678978,\n",
       " 'underwhelmed': 5.500865823361309,\n",
       " 'wandered': 5.502383438828736,\n",
       " 'army': 5.505207992580599,\n",
       " 'guidelines': 5.505425596759457,\n",
       " 'thailand': 5.507822373154669,\n",
       " 'kombucha': 5.508695354441014,\n",
       " 'payed': 5.508695354441014,\n",
       " 'colors': 5.514827655743078,\n",
       " 'preservatives': 5.515706776678818,\n",
       " 'washed': 5.518569269000007,\n",
       " 'dates': 5.5232106741717635,\n",
       " 'facebook': 5.5232106741717635,\n",
       " 'waffles': 5.5238754941408486,\n",
       " 'occasional': 5.5238754941408486,\n",
       " 'screens': 5.524540756389578,\n",
       " 'hospitality': 5.524762608858596,\n",
       " 'frustrating': 5.527428684643524,\n",
       " 'crust': 5.528318958461506,\n",
       " 'strangers': 5.529210025573261,\n",
       " 'sundae': 5.529432916469091,\n",
       " 'flowing': 5.529655857056348,\n",
       " 'definately': 5.530101887393805,\n",
       " 'concert': 5.530548116763102,\n",
       " 'amaze': 5.533229682615793,\n",
       " 'bagged': 5.534349127488098,\n",
       " 'addition': 5.539965226715209,\n",
       " 'tortas': 5.540190528056705,\n",
       " 'elbow': 5.540415880170335,\n",
       " 'samples': 5.540866736805564,\n",
       " 'breaks': 5.544028437723001,\n",
       " 'resturant': 5.544707247569182,\n",
       " 'gooey': 5.544933619952718,\n",
       " 'honor': 5.546292931444305,\n",
       " 'happened': 5.547654093178965,\n",
       " 'coast': 5.548108225793491,\n",
       " 'uneven': 5.549017110200524,\n",
       " 'career': 5.553802353466436,\n",
       " 'salad': 5.557692963706478,\n",
       " 'redo': 5.559529089996947,\n",
       " 'existent': 5.560908400560453,\n",
       " 'respectively': 5.563442088429762,\n",
       " 'mochas': 5.569688493933406,\n",
       " 'leisurely': 5.569920593272966,\n",
       " 'phone': 5.5794833483612445,\n",
       " 'breathe': 5.583475369630782,\n",
       " 'goodies': 5.585123786346919,\n",
       " 'cases': 5.588192359508921,\n",
       " 'pat': 5.588192359508921,\n",
       " 'domain': 5.592456758295379,\n",
       " 'low': 5.594120059142196,\n",
       " 'saved': 5.594357899552403,\n",
       " 'lasted': 5.595309827277785,\n",
       " 'unsweetened': 5.597454983624173,\n",
       " 'thanks': 5.59793231060221,\n",
       " 'foo': 5.598887648625669,\n",
       " 'gorgeous': 5.600322369101329,\n",
       " 'walking': 5.602238537352299,\n",
       " 'ladies': 5.604158384354269,\n",
       " 'daytime': 5.604398624595665,\n",
       " 'airport': 5.608491563979849,\n",
       " 'theater': 5.611148891307531,\n",
       " 'discover': 5.612116945594166,\n",
       " 'popularity': 5.613085937918047,\n",
       " 'record': 5.613813298842344,\n",
       " 'breaded': 5.613813298842344,\n",
       " 'rave': 5.6142985002104275,\n",
       " 'op': 5.616728044651366,\n",
       " 'magic': 5.620627635262075,\n",
       " 'driveway': 5.621116155056842,\n",
       " 'flakey': 5.622583147984967,\n",
       " 'dump': 5.62748872564202,\n",
       " 'car': 5.628965103862947,\n",
       " '101': 5.629211378953467,\n",
       " 'worked': 5.629457714710346,\n",
       " 'conveniently': 5.629457714710346,\n",
       " 'florentine': 5.630197086278225,\n",
       " 'society': 5.633654733585678,\n",
       " '60': 5.639112449936178,\n",
       " 'forcing': 5.640357005168383,\n",
       " 'pine': 5.6423515209131,\n",
       " 'discovery': 5.643600116405565,\n",
       " 'estimated': 5.6440999914472165,\n",
       " 'chock': 5.644350022702426,\n",
       " 'dim': 5.644600116488899,\n",
       " 'signing': 5.646603121665335,\n",
       " 'peppercorn': 5.649866586341554,\n",
       " 'snobby': 5.652132163144481,\n",
       " 'gorditas': 5.652132163144481,\n",
       " 'barley': 5.6523842110349145,\n",
       " 'russell': 5.6549081901638205,\n",
       " 'arturo': 5.6556666278186825,\n",
       " 'repeat': 5.657185230995872,\n",
       " 'nicer': 5.659213629257265,\n",
       " 'abundance': 5.6604834706977405,\n",
       " 'million': 5.66073763260024,\n",
       " 'claim': 5.661754926685938,\n",
       " 'balls': 5.662009411990785,\n",
       " 'cent': 5.662773256712838,\n",
       " 'upwards': 5.665068297883413,\n",
       " 'cool': 5.6663456003945365,\n",
       " 'cigarettes': 5.669674242566647,\n",
       " 'peddler': 5.673014001611859,\n",
       " 'nick': 5.673528802138029,\n",
       " 'lots': 5.675074795746648,\n",
       " 'consideration': 5.6763649520344925,\n",
       " 'attentiveness': 5.677139845525417,\n",
       " 'sensation': 5.678173971780968,\n",
       " 'zombie': 5.679468135285008,\n",
       " 'stout': 5.680763975818809,\n",
       " 'fix': 5.681023345551814,\n",
       " 'crammed': 5.681282782574932,\n",
       " 'mofongo': 5.6836207496095,\n",
       " 'sparkling': 5.684921985967472,\n",
       " 'actual': 5.6854429549816,\n",
       " 'shoestring': 5.6880518789764,\n",
       " 'accepting': 5.689097357377952,\n",
       " 'sweetened': 5.689882184102345,\n",
       " 'crazy': 5.690143929948624,\n",
       " 'jason': 5.690143929948624,\n",
       " 'queso': 5.6922403667751515,\n",
       " 'led': 5.6935528751667475,\n",
       " 'iron': 5.699877006916215,\n",
       " 'peeve': 5.700405827658312,\n",
       " 'bj': 5.701729104283853,\n",
       " 'exceed': 5.703584638282109,\n",
       " 'person': 5.703849995852991,\n",
       " 'operate': 5.703849995852991,\n",
       " 'tipping': 5.704115423857203,\n",
       " 'meatball': 5.70464649131525,\n",
       " 'doubt': 5.709171988190931,\n",
       " 'refilled': 5.711308741140667,\n",
       " 'pronounced': 5.711308741140667,\n",
       " 'memorial': 5.713182152634661,\n",
       " 'hair': 5.715327500735585,\n",
       " 'falafel': 5.718554177372164,\n",
       " 'comforting': 5.719092970488647,\n",
       " 'pita': 5.7196320540596535,\n",
       " 'rating': 5.720171428398512,\n",
       " 'beefy': 5.720441224703939,\n",
       " 'gobbled': 5.720441224703939,\n",
       " 'accustomed': 5.726666715104179,\n",
       " 'boast': 5.728297150247973,\n",
       " 'chit': 5.730747798172889,\n",
       " 'merely': 5.731293203149594,\n",
       " 'continues': 5.732658018429008,\n",
       " 'improves': 5.732931205153832,\n",
       " 'intentionally': 5.735393249893607,\n",
       " 'rid': 5.740886260134909,\n",
       " 'bones': 5.7419884922663424,\n",
       " 'warrant': 5.7428159643863745,\n",
       " 'encourage': 5.743644121783603,\n",
       " 'religious': 5.7441966079855025,\n",
       " 'spam': 5.744472965594004,\n",
       " 'yrs': 5.745579160397071,\n",
       " 'whew': 5.746132717012369,\n",
       " 'beloved': 5.748350012821016,\n",
       " 'nom': 5.7486275208011515,\n",
       " 'popular': 5.749460507105043,\n",
       " 'cow': 5.75112856420574,\n",
       " 'flores': 5.751406844435726,\n",
       " 'eddy': 5.7536358785155235,\n",
       " 'habit': 5.7536358785155235,\n",
       " 'paying': 5.753914857454424,\n",
       " 'approximately': 5.755310920783219,\n",
       " 'church': 5.755869892290227,\n",
       " 'assuming': 5.759791465943408,\n",
       " 'heard': 5.760352948271467,\n",
       " 'portabello': 5.76175803491545,\n",
       " 'capers': 5.762039289311903,\n",
       " 'losing': 5.762320622834648,\n",
       " 'claustrophobic': 5.762602035528217,\n",
       " 'colada': 5.764292176775623,\n",
       " 'cap': 5.765138319824273,\n",
       " 'stray': 5.767681053218571,\n",
       " 'tipped': 5.769379807873975,\n",
       " 'alfredo': 5.769379807873975,\n",
       " 'cost': 5.770230268591429,\n",
       " 'complaints': 5.773639362802202,\n",
       " 'juiciness': 5.774208676794237,\n",
       " 'growing': 5.775063255966029,\n",
       " 'engaged': 5.775063255966029,\n",
       " 'dined': 5.777345710594579,\n",
       " 'forms': 5.778488894485869,\n",
       " 'disgustingly': 5.778488894485869,\n",
       " 'parsley': 5.7790609768813335,\n",
       " 'specializes': 5.780492616352771,\n",
       " 'buttercream': 5.780779190362471,\n",
       " 'bo': 5.780779190362471,\n",
       " 'board': 5.786816293648812,\n",
       " 'wit': 5.787393161273693,\n",
       " 'cappuccinos': 5.787681719925241,\n",
       " 'seasoning': 5.789125763497474,\n",
       " 'texted': 5.789703965306009,\n",
       " 'frequent': 5.792310018612404,\n",
       " 'patio': 5.793760766001623,\n",
       " 'costumer': 5.79434165477776,\n",
       " 'november': 5.796086348445098,\n",
       " 'crisps': 5.796668590091824,\n",
       " 'split': 5.800169177097105,\n",
       " 'proximity': 5.801046241909943,\n",
       " 'deducted': 5.801046241909943,\n",
       " 'crema': 5.803388849130599,\n",
       " 'patiently': 5.8077960841180065,\n",
       " 'store': 5.811927102090719,\n",
       " 'hibiscus': 5.812222828841358,\n",
       " 'away': 5.812814544834954,\n",
       " 'workers': 5.8142953684433305,\n",
       " 'aluminum': 5.814888312427499,\n",
       " 'hosting': 5.817858317580684,\n",
       " 'infused': 5.818453378591995,\n",
       " 'cheeseburger': 5.820538885083016,\n",
       " 'directed': 5.822031199939879,\n",
       " 'wreck': 5.822927658986916,\n",
       " 'drain': 5.8232266573446525,\n",
       " 'considered': 5.823824922393905,\n",
       " 'detract': 5.824124189192488,\n",
       " 'manning': 5.82472299160559,\n",
       " 'stomach': 5.826521553241505,\n",
       " 'gorge': 5.828623971796372,\n",
       " 'roof': 5.829225475573906,\n",
       " 'genius': 5.833144094001998,\n",
       " 'ons': 5.834352918567451,\n",
       " 'parking': 5.834655353168275,\n",
       " 'tartar': 5.834655353168275,\n",
       " '26': 5.835260496908376,\n",
       " 'cobbler': 5.835866007069171,\n",
       " 'acting': 5.837684740519882,\n",
       " 'fortunate': 5.839202882605904,\n",
       " 'played': 5.839202882605904,\n",
       " 'bueno': 5.8419413598992085,\n",
       " 'prepackaged': 5.842246098588143,\n",
       " 'unacceptable': 5.842550930171055,\n",
       " 'timer': 5.84316087224547,\n",
       " 'appearance': 5.84316087224547,\n",
       " 'frills': 5.8452986040108605,\n",
       " 'kong': 5.8452986040108605,\n",
       " 'spoke': 5.845604367657946,\n",
       " 'equals': 5.8474409154652465,\n",
       " 'earthy': 5.8477473349559235,\n",
       " 'uno': 5.848360455759925,\n",
       " 'rang': 5.848360455759925,\n",
       " 'planned': 5.850202076906575,\n",
       " 'grounds': 5.851431711245339,\n",
       " 'mueller': 5.851739356225461,\n",
       " 'tahini': 5.851739356225461,\n",
       " 'translation': 5.8520470958801445,\n",
       " 'rings': 5.852662859446399,\n",
       " 'doesnt': 5.853895525241927,\n",
       " 'oily': 5.8545124284076975,\n",
       " 'obliged': 5.8582218607909695,\n",
       " 'concerned': 5.858531602159405,\n",
       " 'grilled': 5.861012993010791,\n",
       " 'mile': 5.8613236002504365,\n",
       " 'dk': 5.861945104310218,\n",
       " 'runners': 5.861945104310218,\n",
       " 'soon': 5.8625669948775245,\n",
       " 'extra': 5.8644349904393875,\n",
       " 'offensive': 5.8647466625628395,\n",
       " 'consensus': 5.8647466625628395,\n",
       " 'scary': 5.866618737992584,\n",
       " 'outgoing': 5.867243542761426,\n",
       " 'amounts': 5.868181482489403,\n",
       " 'convert': 5.869120302774287,\n",
       " 'smiled': 5.869433438834462,\n",
       " '12pm': 5.872884422651512,\n",
       " 'ones': 5.877925391108287,\n",
       " 'bowls': 5.878241296970968,\n",
       " 'shelves': 5.878241296970968,\n",
       " 'fixins': 5.878873408243596,\n",
       " 'sells': 5.879505919333627,\n",
       " 'omelet': 5.879822324968287,\n",
       " 'excessively': 5.882039972004184,\n",
       " 'determined': 5.882357180571475,\n",
       " 'tapenade': 5.882357180571475,\n",
       " 'whimsical': 5.882991899729566,\n",
       " 'principle': 5.885216594751677,\n",
       " 'salami': 5.885853132010598,\n",
       " 'cleared': 5.887127423358566,\n",
       " 'cabrito': 5.8887225744385505,\n",
       " 'hahaha': 5.8887225744385505,\n",
       " 'multi': 5.8909600693787425,\n",
       " 'fajita': 5.892240889278465,\n",
       " 'pandemic': 5.892561350745717,\n",
       " 'cooled': 5.892881914941441,\n",
       " ...}"
      ]
     },
     "execution_count": 84,
     "metadata": {},
     "output_type": "execute_result"
    }
   ],
   "source": [
    "high_value_terms = dict(zip(bow_vectorizer.vocabulary_, bow_vectorizer.idf_))\n",
    "high_value_terms = dict(sorted(high_value_terms.items(), key=lambda item: item[1],reverse=False))\n",
    "high_value_terms"
   ]
  },
  {
   "cell_type": "code",
   "execution_count": 85,
   "id": "dd6985ad-0264-4b25-905c-83a7a43cbb08",
   "metadata": {},
   "outputs": [
    {
     "data": {
      "text/plain": [
       "9.078337227187573"
      ]
     },
     "execution_count": 85,
     "metadata": {},
     "output_type": "execute_result"
    }
   ],
   "source": [
    "high_value_terms['clean']"
   ]
  },
  {
   "cell_type": "code",
   "execution_count": 86,
   "id": "cf99a288-b7bd-48c3-8829-4d32aefa2667",
   "metadata": {},
   "outputs": [
    {
     "data": {
      "text/plain": [
       "6.761895099532101"
      ]
     },
     "execution_count": 86,
     "metadata": {},
     "output_type": "execute_result"
    }
   ],
   "source": [
    "high_value_terms['gross']"
   ]
  },
  {
   "cell_type": "code",
   "execution_count": 75,
   "id": "9fe98694-60ee-4526-8c94-a0a7bf41e6e8",
   "metadata": {},
   "outputs": [
    {
     "data": {
      "text/plain": [
       "(array([   7.,   27.,  100.,  229.,  393.,  645.,  982., 1509., 2199.,\n",
       "        3148.]),\n",
       " array([1.80098236, 2.55318704, 3.30539171, 4.05759639, 4.80980106,\n",
       "        5.56200574, 6.31421041, 7.06641509, 7.81861976, 8.57082444,\n",
       "        9.32302911]),\n",
       " <BarContainer object of 10 artists>)"
      ]
     },
     "execution_count": 75,
     "metadata": {},
     "output_type": "execute_result"
    },
    {
     "data": {
      "image/png": "[encoded data removed]",
      "text/plain": [
       "<Figure size 432x288 with 1 Axes>"
      ]
     },
     "metadata": {
      "needs_background": "light"
     },
     "output_type": "display_data"
    }
   ],
   "source": [
    "plt.hist(high_value_terms.values())"
   ]
  },
  {
   "cell_type": "markdown",
   "id": "9504cdf7-9c23-4631-bbd3-4500a3fab204",
   "metadata": {},
   "source": [
    "## random forest"
   ]
  },
  {
   "cell_type": "code",
   "execution_count": 100,
   "id": "4bea8156-5142-4079-acc2-f540a62a0ca0",
   "metadata": {},
   "outputs": [],
   "source": [
    "# df = pd.read_csv(processed_data_directory + 'reviews_nearest_score_no_limit_df.csv')\n",
    "df = pd.read_csv(processed_data_directory + 'reviews_nearest_score_2_years_df.csv')"
   ]
  },
  {
   "cell_type": "code",
   "execution_count": 101,
   "id": "755672c3-f5cd-4b78-be57-28bab3e0b2dc",
   "metadata": {},
   "outputs": [],
   "source": [
    "# let's just look at businesses with >100 reviews\n",
    "num_reviews = df.business_id.value_counts()\n",
    "valid_businesses = num_reviews[num_reviews >= 100].index\n",
    "df = df[df['business_id'].isin(valid_businesses)].reset_index(drop=True)"
   ]
  },
  {
   "cell_type": "code",
   "execution_count": 102,
   "id": "1f9b5e8f-8652-4d1c-b61a-c6c0c7d81d5f",
   "metadata": {},
   "outputs": [
    {
     "data": {
      "text/plain": [
       "155465"
      ]
     },
     "execution_count": 102,
     "metadata": {},
     "output_type": "execute_result"
    }
   ],
   "source": [
    "len(df)"
   ]
  },
  {
   "cell_type": "code",
   "execution_count": 119,
   "id": "cd4d14bd-2c00-4486-9529-12bd9272229f",
   "metadata": {},
   "outputs": [],
   "source": [
    "reviews = np.array(df['text'])\n",
    "scores = np.array(df['Score'])"
   ]
  },
  {
   "cell_type": "code",
   "execution_count": 154,
   "id": "1d99ccb5-2d4c-48e4-9fb8-e3090f4b37dc",
   "metadata": {},
   "outputs": [],
   "source": [
    "bow_vectorizer = TfidfVectorizer(min_df=10,\n",
    "                                 max_df=0.7,\n",
    "                                 max_features=10000,\n",
    "                                 stop_words=STOP_WORDS)\n",
    "svd = TruncatedSVD(n_components=1000)\n",
    "# tfidf = bow_vectorizer.fit_transform(X_train,y_train)\n",
    "# tfidf = bow_vectorizer.fit_transform(X_test,y_test)"
   ]
  },
  {
   "cell_type": "code",
   "execution_count": null,
   "id": "63f4c32e-bdb0-499d-8917-ebedd9437cbe",
   "metadata": {},
   "outputs": [],
   "source": [
    "%%time\n",
    "X, y = reviews, scores\n",
    "X = bow_vectorizer.fit_transform(X)\n",
    "X = svd.fit_transform(X)"
   ]
  },
  {
   "cell_type": "code",
   "execution_count": 150,
   "id": "6d8c29fa-bbbc-4b93-9405-6dcf90d8f3d3",
   "metadata": {},
   "outputs": [],
   "source": [
    "# test with small data\n",
    "X, y = shuffle(X, y, random_state=42)\n",
    "X_train, X_test, y_train, y_test = train_test_split(X, y, test_size=0.2, random_state=42)"
   ]
  },
  {
   "cell_type": "code",
   "execution_count": 151,
   "id": "60cb5c84-f896-46ab-9809-81a17f2c9707",
   "metadata": {},
   "outputs": [],
   "source": [
    "regressor = ensemble.RandomForestRegressor(max_depth=8,\n",
    "                                           min_samples_leaf=10,\n",
    "                                           min_samples_split=3,\n",
    "                                           n_estimators=20, # trees\n",
    "                                           n_jobs=-2)"
   ]
  },
  {
   "cell_type": "code",
   "execution_count": 146,
   "id": "78f8ec18-d355-4549-8464-7aa9a8125c6c",
   "metadata": {},
   "outputs": [
    {
     "name": "stdout",
     "output_type": "stream",
     "text": [
      "R^2 score: 0.08957315607595573\n",
      "Wall time: 20 s\n"
     ]
    }
   ],
   "source": [
    "%%time\n",
    "regressor.fit(X_train,y_train)\n",
    "print(f'R^2 score: {regressor.score(X_test, y_test)}')"
   ]
  },
  {
   "cell_type": "code",
   "execution_count": 152,
   "id": "403eba5d-8302-44f1-82af-2d0f237392ac",
   "metadata": {},
   "outputs": [
    {
     "name": "stdout",
     "output_type": "stream",
     "text": [
      "R^2 score: 0.09004138904375414\n",
      "Wall time: 19 s\n"
     ]
    }
   ],
   "source": [
    "%%time\n",
    "regressor.fit(X_train,y_train)\n",
    "print(f'R^2 score: {regressor.score(X_test, y_test)}')"
   ]
  },
  {
   "cell_type": "code",
   "execution_count": 132,
   "id": "4aa2f8ba-c2e1-40df-848f-945eb9a57cde",
   "metadata": {
    "tags": []
   },
   "outputs": [
    {
     "name": "stdout",
     "output_type": "stream",
     "text": [
      "Wall time: 5min 8s\n"
     ]
    },
    {
     "data": {
      "text/plain": [
       "{'min_samples_leaf': 10}"
      ]
     },
     "execution_count": 132,
     "metadata": {},
     "output_type": "execute_result"
    }
   ],
   "source": [
    "%%time\n",
    "parameters = {\n",
    "    # 'max_depth': [3,4,5,6,7]\n",
    "    # 'max_features': [3,5,10]\n",
    "    # 'min_samples_split': [3,5,10]\n",
    "    'min_samples_leaf':[2,5,10,20]\n",
    "}\n",
    "gs = GridSearchCV(regressor, parameters)\n",
    "gs.fit(X,y)\n",
    "gs.best_params_"
   ]
  },
  {
   "cell_type": "code",
   "execution_count": 133,
   "id": "12e067f7-57f7-41c5-92a3-8f49ef452e95",
   "metadata": {
    "tags": []
   },
   "outputs": [
    {
     "name": "stdout",
     "output_type": "stream",
     "text": [
      "Wall time: 3min 40s\n"
     ]
    },
    {
     "data": {
      "text/plain": [
       "{'min_samples_split': 3}"
      ]
     },
     "execution_count": 133,
     "metadata": {},
     "output_type": "execute_result"
    }
   ],
   "source": [
    "%%time\n",
    "parameters = {\n",
    "    # 'max_depth': [3,4,5,6,7]\n",
    "    # 'max_features': [3,5,10]\n",
    "    'min_samples_split': [3,5,10]\n",
    "    # 'min_samples_leaf':[2,5,10,20]\n",
    "}\n",
    "gs = GridSearchCV(regressor, parameters)\n",
    "gs.fit(X,y)\n",
    "gs.best_params_"
   ]
  },
  {
   "cell_type": "code",
   "execution_count": 134,
   "id": "3a6582c5-70d4-4a50-8c51-af75d3a8430a",
   "metadata": {
    "tags": []
   },
   "outputs": [
    {
     "name": "stdout",
     "output_type": "stream",
     "text": [
      "Wall time: 3min 38s\n"
     ]
    },
    {
     "data": {
      "text/plain": [
       "{'max_depth': 7}"
      ]
     },
     "execution_count": 134,
     "metadata": {},
     "output_type": "execute_result"
    }
   ],
   "source": [
    "%%time\n",
    "parameters = {\n",
    "    'max_depth': [3,4,5,6,7]\n",
    "    # 'max_features': [3,5,10]\n",
    "    # 'min_samples_split': [3,5,10]\n",
    "    # 'min_samples_leaf':[2,5,10,20]\n",
    "}\n",
    "gs = GridSearchCV(regressor, parameters)\n",
    "gs.fit(X,y)\n",
    "gs.best_params_"
   ]
  },
  {
   "cell_type": "code",
   "execution_count": null,
   "id": "08807e52-c2bb-4d8b-bdcd-d31c91573222",
   "metadata": {},
   "outputs": [],
   "source": []
  },
  {
   "cell_type": "markdown",
   "id": "f457c431-19f5-4d8b-b586-8df60e318c62",
   "metadata": {},
   "source": [
    "## word2vec"
   ]
  },
  {
   "cell_type": "code",
   "execution_count": null,
   "id": "a71cf23a-78d7-4288-a1c7-e54b1cb32873",
   "metadata": {},
   "outputs": [],
   "source": []
  }
 ],
 "metadata": {
  "kernelspec": {
   "display_name": "Python 3 (ipykernel)",
   "language": "python",
   "name": "python3"
  },
  "language_info": {
   "codemirror_mode": {
    "name": "ipython",
    "version": 3
   },
   "file_extension": ".py",
   "mimetype": "text/x-python",
   "name": "python",
   "nbconvert_exporter": "python",
   "pygments_lexer": "ipython3",
   "version": "3.9.7"
  },
  "toc-autonumbering": true
 },
 "nbformat": 4,
 "nbformat_minor": 5
}
