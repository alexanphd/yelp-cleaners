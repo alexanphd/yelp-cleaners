{
 "cells": [
  {
   "cell_type": "markdown",
   "id": "0f1698f4-eec8-4586-a402-3cd8beb08be9",
   "metadata": {
    "tags": []
   },
   "source": [
    "# import"
   ]
  },
  {
   "cell_type": "code",
   "execution_count": 1,
   "id": "cc912897-ec12-4b9e-b65f-153a44f00e89",
   "metadata": {
    "tags": []
   },
   "outputs": [],
   "source": [
    "%matplotlib inline\n",
    "import pandas as pd\n",
    "import numpy as np\n",
    "import matplotlib.pyplot as plt\n",
    "import re, scipy, math, sklearn\n",
    "import pickle as pkl\n",
    "\n",
    "data_directory = '/data'\n",
    "processed_data_directory = r'data/processed data/'\n",
    "model_directory = r'data/models/'\n",
    "review_model_directory = r'data/models/review_model/'\n",
    "agg_model_directory = r'data/models/aggregate_model/'\n",
    "\n",
    "import spacy\n",
    "nlp = spacy.load(\"en_core_web_sm\")\n",
    "from spacy.lang.en.stop_words import STOP_WORDS\n",
    "STOP_WORDS = STOP_WORDS.union({'ll', 've'})\n",
    "\n",
    "def a_lemmatizer(doc):\n",
    "    doc_cleaned = ' '.join(re.findall(r'\\b\\w[\\w\\']+\\b', doc))\n",
    "    return [ w.lemma_.lower() for w in nlp(doc_cleaned) \n",
    "                      if (w.lemma_ not in ['_', '.']) and (w.pos_ not in ['PRON','DET','NUM','AUX','ADP']) ]"
   ]
  },
  {
   "cell_type": "code",
   "execution_count": 2,
   "id": "52073161-3416-4f9d-b820-5fc838a77e87",
   "metadata": {},
   "outputs": [],
   "source": [
    "from sklearn.base import BaseEstimator, RegressorMixin, TransformerMixin\n",
    "from sklearn.compose import ColumnTransformer\n",
    "from sklearn.pipeline import Pipeline\n",
    "from sklearn.feature_extraction.text import CountVectorizer, TfidfVectorizer, TfidfTransformer, HashingVectorizer\n",
    "from sklearn.utils import shuffle\n",
    "from sklearn.model_selection import cross_val_score, GridSearchCV, train_test_split\n",
    "from sklearn.linear_model import Ridge, LinearRegression, SGDRegressor, LogisticRegression\n",
    "from sklearn import datasets, tree, utils\n",
    "from sklearn import model_selection, ensemble\n",
    "from sklearn.decomposition import TruncatedSVD\n",
    "from sklearn.metrics import r2_score\n",
    "from gensim.models import Word2Vec\n",
    "from gensim.utils import simple_preprocess\n",
    "from sklearn.preprocessing import MinMaxScaler\n",
    "from sklearn.naive_bayes import MultinomialNB, GaussianNB"
   ]
  },
  {
   "cell_type": "code",
   "execution_count": 3,
   "id": "10ce7756-45b3-4125-8d0e-66582c3f69f1",
   "metadata": {},
   "outputs": [],
   "source": [
    "import gensim.parsing.preprocessing as gsp"
   ]
  },
  {
   "cell_type": "code",
   "execution_count": 4,
   "id": "03f1b98a-b38b-4b74-ad03-1a647b63e7d8",
   "metadata": {},
   "outputs": [],
   "source": [
    "# this file contains get_reviews, which queries the Yelp API to get a business ID and matches that with reviews from the academic dataset\n",
    "import yelp_query"
   ]
  },
  {
   "cell_type": "code",
   "execution_count": 5,
   "id": "3b8d669e-d626-4cb1-8916-af00e2fbfaaf",
   "metadata": {},
   "outputs": [],
   "source": [
    "## clean up text\n",
    "STOP_WORDS = STOP_WORDS.union({'ll', 've','it\\'d','s','d','itd','m','nt','im','ive'}) # there's probably a better way to do this\n",
    "\n",
    "def text_cleaner(s):\n",
    "    # s = ' '.join(w.lemma_ for w in nlp(s) if not w.is_stop) # remove stop words and lemmatize\n",
    "    s = re.sub('<[^<]+?>', '', s) # remove tags\n",
    "    s = re.sub('[^a-z\\s\\n]', '', s.lower())\n",
    "    # gensim is a lot faster than spacy\n",
    "    s = gsp.remove_stopwords(s)\n",
    "    # s = gsp.stem_text(s)\n",
    "    s = re.sub(\"\\s+\",\" \",s) # remove extra whitespace\n",
    "    # s = s.strip()\n",
    "    return s.split()"
   ]
  },
  {
   "cell_type": "code",
   "execution_count": 6,
   "id": "34328e22-a9a0-40c8-9f1b-7b6f0224e4a3",
   "metadata": {},
   "outputs": [],
   "source": [
    "def stderr(col):\n",
    "    return np.std(col)/len(col)"
   ]
  },
  {
   "cell_type": "code",
   "execution_count": 7,
   "id": "6034f3a9-2ecd-4287-97bc-06fdd13f4a04",
   "metadata": {},
   "outputs": [],
   "source": [
    "features = {}\n",
    "review_model = {}\n",
    "aggregate_model = {}"
   ]
  },
  {
   "cell_type": "code",
   "execution_count": 8,
   "id": "39cac207-d774-4d93-9b00-be8428e5fe00",
   "metadata": {},
   "outputs": [],
   "source": [
    "# supervised model with tfidf + ridge\n",
    "key = 'supervised'\n",
    "features[key] = pkl.load(open(review_model_directory + 'supervised_features.pkl', 'rb'))\n",
    "review_model[key] = pkl.load(open(review_model_directory + 'supervised_model_ridge.pkl', 'rb'))\n",
    "aggregate_model[key] = pkl.load(open(agg_model_directory + 'supervised_model_GBtree.pkl', 'rb'))"
   ]
  },
  {
   "cell_type": "markdown",
   "id": "9665bbb2-72a5-4b12-8921-7aa461473ed8",
   "metadata": {},
   "source": [
    "# overview"
   ]
  },
  {
   "cell_type": "markdown",
   "id": "551e2244-f15b-4f56-b24b-bded6c7e2705",
   "metadata": {},
   "source": [
    "This notebook imports individual review models from the review_model notebook, and then builds a supervised learning model that predicts restaurant inspection scores."
   ]
  },
  {
   "cell_type": "code",
   "execution_count": 13,
   "id": "dca13767-ff61-4b05-9228-c340906dab92",
   "metadata": {},
   "outputs": [],
   "source": [
    "df = pd.read_csv(processed_data_directory + 'reviews_nearest_score_no_limit_df.csv')\n",
    "# df = pd.read_csv(processed_data_directory + 'reviews_nearest_score_2_years_df.csv')"
   ]
  },
  {
   "cell_type": "code",
   "execution_count": 16,
   "id": "ca84040f-05a0-41b1-8234-472a94bfb4b0",
   "metadata": {},
   "outputs": [],
   "source": [
    "reviews = np.array(df['text'])\n",
    "scores = np.array(df['Score'])\n",
    "X, y = reviews, scores\n",
    "roundby = 1\n",
    "y = np.array(list(map(lambda x: math.ceil(x / roundby) * roundby,y)))"
   ]
  },
  {
   "cell_type": "markdown",
   "id": "1c3c8141-9baf-4f02-a5a1-507cbf0046e6",
   "metadata": {},
   "source": [
    "# supervised review model"
   ]
  },
  {
   "cell_type": "markdown",
   "id": "7e577359-eceb-496e-a7a0-810ec6fde2dd",
   "metadata": {
    "jp-MarkdownHeadingCollapsed": true,
    "tags": []
   },
   "source": [
    "## feature engineering"
   ]
  },
  {
   "cell_type": "markdown",
   "id": "44d70467-fd26-4415-90ce-cdaca37c95f6",
   "metadata": {},
   "source": [
    "first apply individual review model to get scores"
   ]
  },
  {
   "cell_type": "code",
   "execution_count": 21,
   "id": "03581c6b-2431-4d61-95ac-4e8ffec6efdd",
   "metadata": {},
   "outputs": [
    {
     "name": "stdout",
     "output_type": "stream",
     "text": [
      "CPU times: total: 33.4 s\n",
      "Wall time: 33.4 s\n"
     ]
    }
   ],
   "source": [
    "%%time\n",
    "key = 'supervised'\n",
    "X_out = features[key].transform(X)"
   ]
  },
  {
   "cell_type": "code",
   "execution_count": 22,
   "id": "9b4456e9-984f-43fa-a831-1eb08e33fc3a",
   "metadata": {},
   "outputs": [
    {
     "name": "stdout",
     "output_type": "stream",
     "text": [
      "CPU times: total: 156 ms\n",
      "Wall time: 157 ms\n"
     ]
    }
   ],
   "source": [
    "%%time\n",
    "y_predict = model[key].predict(X_out)"
   ]
  },
  {
   "cell_type": "code",
   "execution_count": 26,
   "id": "70ff6ec9-8fb4-4bfa-8299-c54462ebc835",
   "metadata": {},
   "outputs": [],
   "source": [
    "df['predict'] = y_predict"
   ]
  },
  {
   "cell_type": "code",
   "execution_count": 30,
   "id": "d66348f8-58ce-4b1f-bde2-adf147cf5f2d",
   "metadata": {},
   "outputs": [],
   "source": [
    "def stderr(col):\n",
    "    return np.std(col)/len(col)"
   ]
  },
  {
   "cell_type": "code",
   "execution_count": 47,
   "id": "09d83640-17ea-46bb-b85e-56abe9d15049",
   "metadata": {},
   "outputs": [
    {
     "data": {
      "text/html": [
       "<div>\n",
       "<style scoped>\n",
       "    .dataframe tbody tr th:only-of-type {\n",
       "        vertical-align: middle;\n",
       "    }\n",
       "\n",
       "    .dataframe tbody tr th {\n",
       "        vertical-align: top;\n",
       "    }\n",
       "\n",
       "    .dataframe thead th {\n",
       "        text-align: right;\n",
       "    }\n",
       "</style>\n",
       "<table border=\"1\" class=\"dataframe\">\n",
       "  <thead>\n",
       "    <tr style=\"text-align: right;\">\n",
       "      <th></th>\n",
       "      <th>Score</th>\n",
       "      <th>Mean</th>\n",
       "      <th>Stderr</th>\n",
       "      <th>Min</th>\n",
       "      <th>Median</th>\n",
       "      <th>num_reviews</th>\n",
       "    </tr>\n",
       "  </thead>\n",
       "  <tbody>\n",
       "    <tr>\n",
       "      <th>0</th>\n",
       "      <td>93.0</td>\n",
       "      <td>91.356918</td>\n",
       "      <td>0.020917</td>\n",
       "      <td>88.068584</td>\n",
       "      <td>91.091068</td>\n",
       "      <td>91</td>\n",
       "    </tr>\n",
       "    <tr>\n",
       "      <th>1</th>\n",
       "      <td>95.0</td>\n",
       "      <td>91.496907</td>\n",
       "      <td>0.000000</td>\n",
       "      <td>91.496907</td>\n",
       "      <td>91.496907</td>\n",
       "      <td>1</td>\n",
       "    </tr>\n",
       "    <tr>\n",
       "      <th>2</th>\n",
       "      <td>98.0</td>\n",
       "      <td>92.067600</td>\n",
       "      <td>0.000000</td>\n",
       "      <td>92.067600</td>\n",
       "      <td>92.067600</td>\n",
       "      <td>1</td>\n",
       "    </tr>\n",
       "    <tr>\n",
       "      <th>3</th>\n",
       "      <td>86.0</td>\n",
       "      <td>92.854485</td>\n",
       "      <td>0.002696</td>\n",
       "      <td>88.563125</td>\n",
       "      <td>92.776898</td>\n",
       "      <td>551</td>\n",
       "    </tr>\n",
       "    <tr>\n",
       "      <th>4</th>\n",
       "      <td>95.0</td>\n",
       "      <td>91.564560</td>\n",
       "      <td>0.315797</td>\n",
       "      <td>89.870581</td>\n",
       "      <td>91.006009</td>\n",
       "      <td>5</td>\n",
       "    </tr>\n",
       "    <tr>\n",
       "      <th>...</th>\n",
       "      <td>...</td>\n",
       "      <td>...</td>\n",
       "      <td>...</td>\n",
       "      <td>...</td>\n",
       "      <td>...</td>\n",
       "      <td>...</td>\n",
       "    </tr>\n",
       "    <tr>\n",
       "      <th>6612</th>\n",
       "      <td>100.0</td>\n",
       "      <td>92.838650</td>\n",
       "      <td>0.036876</td>\n",
       "      <td>89.115061</td>\n",
       "      <td>93.092541</td>\n",
       "      <td>41</td>\n",
       "    </tr>\n",
       "    <tr>\n",
       "      <th>6613</th>\n",
       "      <td>84.0</td>\n",
       "      <td>89.887984</td>\n",
       "      <td>0.078060</td>\n",
       "      <td>87.755457</td>\n",
       "      <td>90.130120</td>\n",
       "      <td>15</td>\n",
       "    </tr>\n",
       "    <tr>\n",
       "      <th>6614</th>\n",
       "      <td>93.0</td>\n",
       "      <td>89.562727</td>\n",
       "      <td>0.012171</td>\n",
       "      <td>86.983928</td>\n",
       "      <td>89.525339</td>\n",
       "      <td>99</td>\n",
       "    </tr>\n",
       "    <tr>\n",
       "      <th>6615</th>\n",
       "      <td>100.0</td>\n",
       "      <td>91.373360</td>\n",
       "      <td>0.005784</td>\n",
       "      <td>87.804719</td>\n",
       "      <td>91.369894</td>\n",
       "      <td>175</td>\n",
       "    </tr>\n",
       "    <tr>\n",
       "      <th>6616</th>\n",
       "      <td>96.0</td>\n",
       "      <td>92.455122</td>\n",
       "      <td>0.322045</td>\n",
       "      <td>90.360148</td>\n",
       "      <td>92.084812</td>\n",
       "      <td>6</td>\n",
       "    </tr>\n",
       "  </tbody>\n",
       "</table>\n",
       "<p>6617 rows × 6 columns</p>\n",
       "</div>"
      ],
      "text/plain": [
       "      Score       Mean    Stderr        Min     Median  num_reviews\n",
       "0      93.0  91.356918  0.020917  88.068584  91.091068           91\n",
       "1      95.0  91.496907  0.000000  91.496907  91.496907            1\n",
       "2      98.0  92.067600  0.000000  92.067600  92.067600            1\n",
       "3      86.0  92.854485  0.002696  88.563125  92.776898          551\n",
       "4      95.0  91.564560  0.315797  89.870581  91.006009            5\n",
       "...     ...        ...       ...        ...        ...          ...\n",
       "6612  100.0  92.838650  0.036876  89.115061  93.092541           41\n",
       "6613   84.0  89.887984  0.078060  87.755457  90.130120           15\n",
       "6614   93.0  89.562727  0.012171  86.983928  89.525339           99\n",
       "6615  100.0  91.373360  0.005784  87.804719  91.369894          175\n",
       "6616   96.0  92.455122  0.322045  90.360148  92.084812            6\n",
       "\n",
       "[6617 rows x 6 columns]"
      ]
     },
     "execution_count": 47,
     "metadata": {},
     "output_type": "execute_result"
    }
   ],
   "source": [
    "# build the feature matrix\n",
    "fm = df.groupby(['business_id','Score']).agg(\n",
    "    Mean = ('predict', np.mean),\n",
    "    Stderr = ('predict', stderr),\n",
    "    Min = ('predict', np.min),\n",
    "    Median = ('predict', 'median'),\n",
    "    num_reviews = ('review_id', 'count')\n",
    ").reset_index().drop('business_id',axis=1)\n",
    "fm"
   ]
  },
  {
   "cell_type": "code",
   "execution_count": 48,
   "id": "c04eb9f5-ebe5-4874-ab4e-75ad3e977846",
   "metadata": {},
   "outputs": [],
   "source": [
    "X = fm.drop('Score',axis=1)\n",
    "y = fm['Score']"
   ]
  },
  {
   "cell_type": "code",
   "execution_count": 56,
   "id": "1b09c65d-33e4-4714-ac97-3e036d80dcbc",
   "metadata": {},
   "outputs": [
    {
     "data": {
      "image/png": "[encoded data removed]",
      "text/plain": [
       "<Figure size 432x288 with 1 Axes>"
      ]
     },
     "metadata": {
      "needs_background": "light"
     },
     "output_type": "display_data"
    }
   ],
   "source": [
    "fig = plt.figure(1)\n",
    "plt.scatter(X['num_reviews'],y)\n",
    "plt.show()"
   ]
  },
  {
   "cell_type": "markdown",
   "id": "15a50d4f-1c14-42f2-a805-b99228c93da5",
   "metadata": {
    "jp-MarkdownHeadingCollapsed": true,
    "tags": []
   },
   "source": [
    "## regressor"
   ]
  },
  {
   "cell_type": "code",
   "execution_count": 62,
   "id": "17832ad9-af6d-46fd-961a-fea96b3020b8",
   "metadata": {},
   "outputs": [],
   "source": [
    "X_shuff, y_shuff = shuffle(X, y, random_state=42)\n",
    "X_train, X_test, y_train, y_test = train_test_split(X_shuff, y_shuff, test_size=0.2)"
   ]
  },
  {
   "cell_type": "code",
   "execution_count": 71,
   "id": "6fc4d437-a830-4eb2-8634-448480d8d27d",
   "metadata": {
    "tags": []
   },
   "outputs": [],
   "source": [
    "def test_regressor(regressor,print_R2=True,\n",
    "                   residual_hist=False,predictions_hist=False,scatter_plot=True):\n",
    "    regressor.fit(X_train,y_train)\n",
    "    if print_R2:\n",
    "        print(f'R^2 score: {regressor.score(X_test, y_test)}')\n",
    "    y_predict = regressor.predict(X_test)\n",
    "    if residual_hist:\n",
    "        fig = plt.figure(1)\n",
    "        plt.hist(y_predict-y_test,bins=30,alpha=0.5);\n",
    "        plt.show()\n",
    "    if predictions_hist:\n",
    "        fig = plt.figure(2)\n",
    "        plt.hist(y_predict,bins=30,alpha=0.5)\n",
    "        plt.hist(y_test,bins=30,alpha=0.5)\n",
    "        plt.show()\n",
    "    if scatter_plot:\n",
    "        fig = plt.figure(3)\n",
    "        plt.scatter(y_test,y_predict)"
   ]
  },
  {
   "cell_type": "code",
   "execution_count": 72,
   "id": "e1545112-06d4-4fae-acf0-4f0447a72763",
   "metadata": {},
   "outputs": [
    {
     "name": "stdout",
     "output_type": "stream",
     "text": [
      "R^2 score: 0.18392565378743542\n",
      "CPU times: total: 15.6 ms\n",
      "Wall time: 10 ms\n"
     ]
    },
    {
     "data": {
      "image/png": "[encoded data removed]",
      "text/plain": [
       "<Figure size 432x288 with 1 Axes>"
      ]
     },
     "metadata": {
      "needs_background": "light"
     },
     "output_type": "display_data"
    }
   ],
   "source": [
    "%%time\n",
    "regressor = Ridge(alpha=1)\n",
    "test_regressor(regressor)"
   ]
  },
  {
   "cell_type": "code",
   "execution_count": 73,
   "id": "6d3dfb6e-511e-41d6-8baf-8c90de3b5c25",
   "metadata": {
    "tags": []
   },
   "outputs": [
    {
     "name": "stdout",
     "output_type": "stream",
     "text": [
      "CPU times: total: 46.9 ms\n",
      "Wall time: 37.9 ms\n"
     ]
    },
    {
     "data": {
      "text/plain": [
       "{'alpha': 10}"
      ]
     },
     "execution_count": 73,
     "metadata": {},
     "output_type": "execute_result"
    }
   ],
   "source": [
    "%%time\n",
    "parameters = {\n",
    "    'alpha': [0.01,0.1,1,10]\n",
    "}\n",
    "gs = GridSearchCV(regressor, parameters)\n",
    "gs.fit(X_test,y_test)\n",
    "gs.best_params_"
   ]
  },
  {
   "cell_type": "code",
   "execution_count": 100,
   "id": "5abe74b1-9fbe-4684-91ad-147711b57c75",
   "metadata": {},
   "outputs": [
    {
     "name": "stdout",
     "output_type": "stream",
     "text": [
      "R^2 score: 0.19139563605801968\n",
      "CPU times: total: 2.19 s\n",
      "Wall time: 458 ms\n"
     ]
    },
    {
     "data": {
      "image/png": "[encoded data removed]",
      "text/plain": [
       "<Figure size 432x288 with 1 Axes>"
      ]
     },
     "metadata": {
      "needs_background": "light"
     },
     "output_type": "display_data"
    }
   ],
   "source": [
    "%%time\n",
    "regressor = ensemble.RandomForestRegressor(max_depth=3, n_estimators=500,\n",
    "                                           min_samples_split=10, min_samples_leaf=5,\n",
    "                                           n_jobs=-1)\n",
    "test_regressor(regressor)"
   ]
  },
  {
   "cell_type": "code",
   "execution_count": 94,
   "id": "f1cd7625-9e8c-48e5-bb91-7f327fa1580a",
   "metadata": {
    "tags": []
   },
   "outputs": [
    {
     "name": "stdout",
     "output_type": "stream",
     "text": [
      "CPU times: total: 6.88 s\n",
      "Wall time: 6.38 s\n"
     ]
    },
    {
     "data": {
      "text/plain": [
       "{'max_depth': 2}"
      ]
     },
     "execution_count": 94,
     "metadata": {},
     "output_type": "execute_result"
    }
   ],
   "source": [
    "%%time\n",
    "parameters = {\n",
    "    'max_depth': [2,3,4,5,6],\n",
    "    # 'min_samples_split': [2,3,5,10,20],\n",
    "    # 'min_samples_leaf': [2,5,10,20]\n",
    "}\n",
    "gs = GridSearchCV(regressor, parameters)\n",
    "gs.fit(X_test,y_test)\n",
    "gs.best_params_"
   ]
  },
  {
   "cell_type": "code",
   "execution_count": 123,
   "id": "a45ec7e0-53ef-4738-b2ed-6610279afd87",
   "metadata": {},
   "outputs": [
    {
     "name": "stdout",
     "output_type": "stream",
     "text": [
      "R^2 score: 0.19513032446799794\n",
      "CPU times: total: 78.1 ms\n",
      "Wall time: 81.1 ms\n"
     ]
    },
    {
     "data": {
      "image/png": "[encoded data removed]",
      "text/plain": [
       "<Figure size 432x288 with 1 Axes>"
      ]
     },
     "metadata": {
      "needs_background": "light"
     },
     "output_type": "display_data"
    }
   ],
   "source": [
    "%%time\n",
    "regressor = ensemble.GradientBoostingRegressor(max_depth=2, n_estimators=21,\n",
    "                                               min_samples_split=10, min_samples_leaf=10)\n",
    "test_regressor(regressor)"
   ]
  },
  {
   "cell_type": "code",
   "execution_count": 122,
   "id": "7805a0a2-aad9-476d-8aa4-535e8481df26",
   "metadata": {
    "tags": []
   },
   "outputs": [
    {
     "name": "stdout",
     "output_type": "stream",
     "text": [
      "CPU times: total: 625 ms\n",
      "Wall time: 627 ms\n"
     ]
    },
    {
     "data": {
      "text/plain": [
       "{'max_depth': 2}"
      ]
     },
     "execution_count": 122,
     "metadata": {},
     "output_type": "execute_result"
    }
   ],
   "source": [
    "%%time\n",
    "parameters = {\n",
    "    # 'max_depth': [2,3,4,5,6],\n",
    "    # 'n_estimators': [19,20,21],\n",
    "    # 'min_samples_split': [2,3,5,10,15],\n",
    "    # 'min_samples_leaf': [2,5,10,20]\n",
    "}\n",
    "gs = GridSearchCV(regressor, parameters)\n",
    "gs.fit(X_test,y_test)\n",
    "gs.best_params_"
   ]
  },
  {
   "cell_type": "code",
   "execution_count": 127,
   "id": "95a955e1-53a0-4eb4-934f-c6351bca0b3f",
   "metadata": {},
   "outputs": [
    {
     "name": "stdout",
     "output_type": "stream",
     "text": [
      "CPU times: total: 93.8 ms\n",
      "Wall time: 91 ms\n"
     ]
    },
    {
     "data": {
      "text/plain": [
       "0.21062944288978358"
      ]
     },
     "execution_count": 127,
     "metadata": {},
     "output_type": "execute_result"
    }
   ],
   "source": [
    "%%time\n",
    "# train regressor on full dataset\n",
    "regressor = ensemble.GradientBoostingRegressor(max_depth=2, n_estimators=21,\n",
    "                                               min_samples_split=10, min_samples_leaf=10)\n",
    "regressor.fit(X_shuff,y_shuff)\n",
    "regressor.score(X_shuff,y_shuff)"
   ]
  },
  {
   "cell_type": "code",
   "execution_count": 131,
   "id": "8e642c32-755c-4e65-86af-833e70ce2eb2",
   "metadata": {},
   "outputs": [],
   "source": [
    "filename = agg_model_directory + 'supervised_model_GBtree.pkl'\n",
    "pkl.dump(regressor, open(filename,'wb'))"
   ]
  },
  {
   "cell_type": "markdown",
   "id": "dfa960c3-568a-47f8-8e74-052b71dcb9b7",
   "metadata": {
    "jp-MarkdownHeadingCollapsed": true,
    "tags": []
   },
   "source": [
    "## overall pipeline"
   ]
  },
  {
   "cell_type": "code",
   "execution_count": 140,
   "id": "4181e7d7-81ea-4f61-87ad-b29fd1e214ca",
   "metadata": {},
   "outputs": [],
   "source": [
    "features = {}\n",
    "review_model = {}\n",
    "aggregate_model = {}"
   ]
  },
  {
   "cell_type": "code",
   "execution_count": 141,
   "id": "85eb0b0e-1e07-466c-808a-98aaa8c06ebd",
   "metadata": {},
   "outputs": [],
   "source": [
    "# supervised model with tfidf + ridge\n",
    "key = 'supervised'\n",
    "features[key] = pkl.load(open(review_model_directory + 'supervised_features.pkl', 'rb'))\n",
    "review_model[key] = pkl.load(open(review_model_directory + 'supervised_model_ridge.pkl', 'rb'))\n",
    "aggregate_model[key] = pkl.load(open(agg_model_directory + 'supervised_model_GBtree.pkl', 'rb'))"
   ]
  },
  {
   "cell_type": "code",
   "execution_count": 142,
   "id": "21f2f1be-71dc-4403-bf6c-c2524b3b31e4",
   "metadata": {},
   "outputs": [
    {
     "name": "stdout",
     "output_type": "stream",
     "text": [
      "Business found: Super Bowl\n"
     ]
    }
   ],
   "source": [
    "reviews = yelp_query.get_reviews(name = \"Super Bowl\", address=\"719 W William Cannon Dr Ste 103\")"
   ]
  },
  {
   "cell_type": "code",
   "execution_count": 146,
   "id": "9efc144a-75cd-42c0-92d1-5f94b1e894a2",
   "metadata": {},
   "outputs": [
    {
     "name": "stdout",
     "output_type": "stream",
     "text": [
      "CPU times: total: 62.5 ms\n",
      "Wall time: 58 ms\n"
     ]
    }
   ],
   "source": [
    "%%time\n",
    "key = 'supervised'\n",
    "X_out = features[key].transform(reviews)\n",
    "y_predict = model[key].predict(X_out)"
   ]
  },
  {
   "cell_type": "code",
   "execution_count": 178,
   "id": "06d256f4-5fcf-4c32-9f9c-4ad7240036d3",
   "metadata": {},
   "outputs": [
    {
     "data": {
      "text/html": [
       "<div>\n",
       "<style scoped>\n",
       "    .dataframe tbody tr th:only-of-type {\n",
       "        vertical-align: middle;\n",
       "    }\n",
       "\n",
       "    .dataframe tbody tr th {\n",
       "        vertical-align: top;\n",
       "    }\n",
       "\n",
       "    .dataframe thead th {\n",
       "        text-align: right;\n",
       "    }\n",
       "</style>\n",
       "<table border=\"1\" class=\"dataframe\">\n",
       "  <thead>\n",
       "    <tr style=\"text-align: right;\">\n",
       "      <th></th>\n",
       "      <th>Mean</th>\n",
       "      <th>Stderr</th>\n",
       "      <th>Min</th>\n",
       "      <th>Median</th>\n",
       "      <th>num_reviews</th>\n",
       "    </tr>\n",
       "  </thead>\n",
       "  <tbody>\n",
       "    <tr>\n",
       "      <th>predict</th>\n",
       "      <td>85.226818</td>\n",
       "      <td>0.013073</td>\n",
       "      <td>75.930436</td>\n",
       "      <td>85.507684</td>\n",
       "      <td>222.0</td>\n",
       "    </tr>\n",
       "  </tbody>\n",
       "</table>\n",
       "</div>"
      ],
      "text/plain": [
       "              Mean    Stderr        Min     Median  num_reviews\n",
       "predict  85.226818  0.013073  75.930436  85.507684        222.0"
      ]
     },
     "execution_count": 178,
     "metadata": {},
     "output_type": "execute_result"
    }
   ],
   "source": [
    "df = pd.DataFrame({})\n",
    "df['predict'] = y_predict\n",
    "fm = df.agg(\n",
    "    Mean = ('predict', np.mean),\n",
    "    Stderr = ('predict', stderr),\n",
    "    Min = ('predict', np.min),\n",
    "    Median = ('predict', 'median'),\n",
    "    num_reviews = ('predict', 'count')\n",
    ").T\n",
    "fm"
   ]
  },
  {
   "cell_type": "code",
   "execution_count": 179,
   "id": "7779a7ca-6059-47b3-ab1f-ccf4e773361b",
   "metadata": {},
   "outputs": [
    {
     "data": {
      "text/plain": [
       "array([83.33191734])"
      ]
     },
     "execution_count": 179,
     "metadata": {},
     "output_type": "execute_result"
    }
   ],
   "source": [
    "aggregate_model[key].predict(fm)"
   ]
  },
  {
   "cell_type": "markdown",
   "id": "050e2470-46ca-4a57-aece-0caecc5bf5ca",
   "metadata": {},
   "source": [
    "## final output"
   ]
  },
  {
   "cell_type": "code",
   "execution_count": 13,
   "id": "c5ac414d-24c5-43a9-bfe8-cef5a665d196",
   "metadata": {},
   "outputs": [],
   "source": [
    "def get_cleanliness_score(reviews, key='supervised'):\n",
    "    # apply individual review model\n",
    "    X_out = features[key].transform(reviews)\n",
    "    y_predict = review_model[key].predict(X_out)\n",
    "    # build aggregate features\n",
    "    df = pd.DataFrame({})\n",
    "    df['predict'] = y_predict\n",
    "    fm = df.agg(\n",
    "        Mean = ('predict', np.mean),\n",
    "        Stderr = ('predict', stderr),\n",
    "        Min = ('predict', np.min),\n",
    "        Median = ('predict', 'median'),\n",
    "        num_reviews = ('predict', 'count')\n",
    "    ).T\n",
    "    # apply aggregate models\n",
    "    return aggregate_model[key].predict(fm)[0]"
   ]
  },
  {
   "cell_type": "code",
   "execution_count": 28,
   "id": "cacae333-0c73-4e8c-b203-e972b31f85ff",
   "metadata": {},
   "outputs": [
    {
     "name": "stdout",
     "output_type": "stream",
     "text": [
      "Business found: Super Bowl\n",
      "The Super Bowl is supposed to be an exciting, fun experience for the whole family. Yet, the only similarity between the actual Super Bowl and this restaurant would be the taste of the players' jock straps. \n",
      "\n",
      "Okay, that may be a little gross, but I am serious when I say that Super Bowl is a bastardization of everything good about Chinese food. \n",
      "\n",
      "As you walk into the restaurant, you are immediately off put by the hideous decor, or lack-thereof. Insufferable faded white walls are plagued by tacky paintings while filthy, outdated tables line the floors.\n",
      "\n",
      "It is a cafeteria style restaurant off of William Cannon, and the food is just awful. I had a orange chicken, and it was a far cry from any version of orange chicken that I have ever had. It was greasy and salty on the outside, and dry on the inside; a combination I never thought could be achieved.\n",
      "\n",
      "The only reason this greasy spoon isn't a one star review is the staff on hand. They were very nice and attentive, even as they shoveled out the horrible comestibles. Do your immune system a favor, and skip out on this Super Bowl.\n"
     ]
    },
    {
     "data": {
      "text/plain": [
       "83.3319173425126"
      ]
     },
     "execution_count": 28,
     "metadata": {},
     "output_type": "execute_result"
    }
   ],
   "source": [
    "reviews = yelp_query.get_reviews(name = \"Super Bowl\", address=\"719 W Cannon Blvd\")\n",
    "print(reviews[0])\n",
    "get_cleanliness_score(reviews, 'supervised')"
   ]
  },
  {
   "cell_type": "code",
   "execution_count": 29,
   "id": "8efcd12e-71d1-41ce-ab72-20f031e6d359",
   "metadata": {},
   "outputs": [
    {
     "name": "stdout",
     "output_type": "stream",
     "text": [
      "Business found: Kung Fu Tea\n",
      "I've been waiting for this location to open for over half a year! Imagine my excitement when I drove by a week before their grand opening and saw lights on inside! My friends and I ran out of the car, saw the opened door, and met the owners who were setting up for a private event later in the day. \n",
      "\n",
      "The owners, Calvin and Howard, were super friendly! Even though it was meant to be a private event for friends & family, they invited us to return later in the day to help the staff train! It also meant free boba!! The staff here in general were all very friendly as well! \n",
      "\n",
      "I hate to say this, but this Kung Fu has better boba and tea than the other location. The boba here is much softer and sweeter, which is closer to my preferred boba texture. I ordered the Oolong Milk tea, and I could actually taste the Oolong! At the campus one, the oolong flavor was very weak. \n",
      "\n",
      "The interior is very industrial chic. There are also plenty of tables and chairs for those who like to study and hang out with friends here. \n",
      "\n",
      "I will definitely be returning very soon....maybe even tomorrow.\n"
     ]
    },
    {
     "data": {
      "text/plain": [
       "91.6765409058971"
      ]
     },
     "execution_count": 29,
     "metadata": {},
     "output_type": "execute_result"
    }
   ],
   "source": [
    "reviews = yelp_query.get_reviews(name = \"Kung Fu Tea\", address=\"9070 Research Blvd\")\n",
    "print(reviews[0])\n",
    "get_cleanliness_score(reviews, 'supervised')"
   ]
  },
  {
   "cell_type": "markdown",
   "id": "6606579a-253a-422a-a1c4-3cce4cc63065",
   "metadata": {},
   "source": [
    "# word2vec indiv_review model"
   ]
  },
  {
   "cell_type": "code",
   "execution_count": null,
   "id": "a575bab0-a781-4772-8e21-6cad51e65c0a",
   "metadata": {},
   "outputs": [],
   "source": []
  }
 ],
 "metadata": {
  "kernelspec": {
   "display_name": "Python 3 (ipykernel)",
   "language": "python",
   "name": "python3"
  },
  "language_info": {
   "codemirror_mode": {
    "name": "ipython",
    "version": 3
   },
   "file_extension": ".py",
   "mimetype": "text/x-python",
   "name": "python",
   "nbconvert_exporter": "python",
   "pygments_lexer": "ipython3",
   "version": "3.9.12"
  }
 },
 "nbformat": 4,
 "nbformat_minor": 5
}
