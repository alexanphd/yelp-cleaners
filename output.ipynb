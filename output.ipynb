{
 "cells": [
  {
   "cell_type": "markdown",
   "id": "39e6b983-c6f3-4ba1-b09b-5fc04d8debdb",
   "metadata": {
    "jp-MarkdownHeadingCollapsed": true,
    "tags": []
   },
   "source": [
    "## preamble"
   ]
  },
  {
   "cell_type": "code",
   "execution_count": 63,
   "id": "cf3eab4d-42ce-4fca-b215-ea5123c00e21",
   "metadata": {},
   "outputs": [],
   "source": [
    "%matplotlib inline\n",
    "import pandas as pd\n",
    "import numpy as np\n",
    "import matplotlib.pyplot as plt\n",
    "import re, scipy, math, sklearn\n",
    "import pickle as pkl\n",
    "\n",
    "data_directory = '/data'\n",
    "processed_data_directory = r'data/processed data/'\n",
    "model_directory = r'data/models/'\n",
    "\n",
    "import spacy\n",
    "nlp = spacy.load(\"en_core_web_sm\")\n",
    "from spacy.lang.en.stop_words import STOP_WORDS\n",
    "STOP_WORDS = STOP_WORDS.union({'ll', 've'})\n",
    "\n",
    "def a_lemmatizer(doc):\n",
    "    doc_cleaned = ' '.join(re.findall(r'\\b\\w[\\w\\']+\\b', doc))\n",
    "    return [ w.lemma_.lower() for w in nlp(doc_cleaned) \n",
    "                      if (w.lemma_ not in ['_', '.']) and (w.pos_ not in ['PRON','DET','NUM','AUX','ADP']) ]"
   ]
  },
  {
   "cell_type": "code",
   "execution_count": 64,
   "id": "9495e955-c986-4670-b84b-f27a494fb6e3",
   "metadata": {},
   "outputs": [],
   "source": [
    "# simple model\n",
    "loaded_features = pkl.load(open(model_directory + 'individual_review_features.pkl', 'rb'))\n",
    "loaded_model = pkl.load(open(model_directory + 'individual_review_model_ridge.pkl', 'rb'))\n",
    "# reddit comments vocabulary\n",
    "loaded_features = pkl.load(open(model_directory + 'reddit_comments_features.pkl', 'rb'))\n",
    "loaded_model = pkl.load(open(model_directory + 'reddit_comments_model.pkl', 'rb'))"
   ]
  },
  {
   "cell_type": "code",
   "execution_count": 65,
   "id": "72a9f481-f967-4bdc-88ac-02cadd23d352",
   "metadata": {},
   "outputs": [],
   "source": [
    "model = loaded_model\n",
    "features = loaded_features\n",
    "def cleanliness_score(reviews):\n",
    "    individual_review_predictions = model.predict(features.transform(reviews))\n",
    "    # [print(r) for r in reviews[individual_review_predictions < 80]]\n",
    "    return np.mean(individual_review_predictions)"
   ]
  },
  {
   "cell_type": "markdown",
   "id": "98d4c790-31cf-46db-a952-47bf5dfc3592",
   "metadata": {},
   "source": [
    "## usage"
   ]
  },
  {
   "cell_type": "code",
   "execution_count": 69,
   "id": "3705eb21-3c55-4433-8324-4513c4da9708",
   "metadata": {},
   "outputs": [],
   "source": [
    "import yelp_query"
   ]
  },
  {
   "cell_type": "code",
   "execution_count": 70,
   "id": "aa5a68ce-d390-4a20-9b32-e7f3f1358d93",
   "metadata": {},
   "outputs": [
    {
     "name": "stdout",
     "output_type": "stream",
     "text": [
      "Business found: Super Bowl\n"
     ]
    }
   ],
   "source": [
    "reviews = yelp_query.get_reviews(name = \"Super Bowl\", address=\"719 W William Cannon Dr Ste 103\")"
   ]
  },
  {
   "cell_type": "code",
   "execution_count": 71,
   "id": "34e7a486-ef04-4dea-ae01-d61c46f3e498",
   "metadata": {},
   "outputs": [
    {
     "data": {
      "text/plain": [
       "85.55746902028075"
      ]
     },
     "execution_count": 71,
     "metadata": {},
     "output_type": "execute_result"
    }
   ],
   "source": [
    "cleanliness_score(reviews)"
   ]
  },
  {
   "cell_type": "code",
   "execution_count": null,
   "id": "80b472ff-c363-4835-966e-ce5cc897165f",
   "metadata": {},
   "outputs": [],
   "source": []
  }
 ],
 "metadata": {
  "kernelspec": {
   "display_name": "Python 3 (ipykernel)",
   "language": "python",
   "name": "python3"
  },
  "language_info": {
   "codemirror_mode": {
    "name": "ipython",
    "version": 3
   },
   "file_extension": ".py",
   "mimetype": "text/x-python",
   "name": "python",
   "nbconvert_exporter": "python",
   "pygments_lexer": "ipython3",
   "version": "3.9.7"
  },
  "toc-autonumbering": false
 },
 "nbformat": 4,
 "nbformat_minor": 5
}
