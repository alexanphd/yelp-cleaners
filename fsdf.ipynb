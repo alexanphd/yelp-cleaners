{
 "cells": [
  {
   "cell_type": "markdown",
   "id": "476a8d99-caa4-4a43-a362-3d765c55f3ea",
   "metadata": {},
   "source": [
    "# Yelp grossometer"
   ]
  },
  {
   "cell_type": "code",
   "execution_count": null,
   "id": "dadef8d8-df51-4e7c-8b10-ca79dc52c376",
   "metadata": {},
   "outputs": [],
   "source": []
  }
 ],
 "metadata": {
  "kernelspec": {
   "display_name": "Python 3 (ipykernel)",
   "language": "python",
   "name": "python3"
  },
  "language_info": {
   "codemirror_mode": {
    "name": "ipython",
    "version": 3
   },
   "file_extension": ".py",
   "mimetype": "text/x-python",
   "name": "python",
   "nbconvert_exporter": "python",
   "pygments_lexer": "ipython3",
   "version": "3.9.7"
  }
 },
 "nbformat": 4,
 "nbformat_minor": 5
}
