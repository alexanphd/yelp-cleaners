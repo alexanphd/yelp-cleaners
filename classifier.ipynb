{
 "cells": [
  {
   "cell_type": "code",
   "execution_count": 1,
   "id": "cccf9fae-63be-4c17-9a8a-28c24d21ef1e",
   "metadata": {},
   "outputs": [],
   "source": [
    "%matplotlib inline\n",
    "import pandas as pd\n",
    "import numpy as np\n",
    "import matplotlib.pyplot as plt\n",
    "\n",
    "main_directory = r'C:\\Users\\ASUS\\Desktop\\ML-data science\\DataIncubator\\yelp-cleaners' + '\\\\'\n",
    "data_directory = main_directory + 'data' + '\\\\'\n",
    "processed_data_directory = data_directory + r'processed data' + '\\\\'\n",
    "model_directory = data_directory + r'models' + '\\\\'"
   ]
  },
  {
   "cell_type": "code",
   "execution_count": 2,
   "id": "8e2e988d-36e8-408f-997e-1a2151977b88",
   "metadata": {},
   "outputs": [],
   "source": [
    "import sklearn\n",
    "from sklearn.base import BaseEstimator, RegressorMixin, TransformerMixin\n",
    "from sklearn.compose import ColumnTransformer\n",
    "from sklearn.pipeline import Pipeline\n",
    "from sklearn.feature_extraction.text import CountVectorizer, TfidfVectorizer, TfidfTransformer, HashingVectorizer\n",
    "from sklearn.utils import shuffle\n",
    "from sklearn.model_selection import cross_val_score, GridSearchCV, train_test_split\n",
    "from sklearn.linear_model import Ridge, LinearRegression, SGDRegressor, LogisticRegression\n",
    "from sklearn import datasets, tree, utils\n",
    "from sklearn import model_selection, ensemble\n",
    "from sklearn.decomposition import TruncatedSVD\n",
    "from gensim.models import Word2Vec\n",
    "from gensim.utils import simple_preprocess\n",
    "from sklearn.preprocessing import MinMaxScaler\n",
    "from collections import Counter, OrderedDict\n",
    "import math\n",
    "from sklearn.naive_bayes import MultinomialNB, GaussianNB\n",
    "import pickle as pkl"
   ]
  },
  {
   "cell_type": "code",
   "execution_count": 3,
   "id": "2597c4e4-83bc-4d86-84e2-e492307d5f95",
   "metadata": {},
   "outputs": [],
   "source": [
    "from yelpapi import YelpAPI\n",
    "# get yelp api key stored in txt file\n",
    "f = open(data_directory + 'yelp_api_key.txt','r')\n",
    "api_key = f.read()\n",
    "f.close()"
   ]
  },
  {
   "cell_type": "code",
   "execution_count": 106,
   "id": "ffd1c7dd-3def-4422-841e-5db5da86b2a9",
   "metadata": {},
   "outputs": [],
   "source": [
    "import spacy\n",
    "# nlp = spacy.load(\"en_core_web_sm\")\n",
    "from spacy.lang.en.stop_words import STOP_WORDS\n",
    "STOP_WORDS = STOP_WORDS.union({'ll', 've'})\n",
    "from sklearn.naive_bayes import MultinomialNB"
   ]
  },
  {
   "cell_type": "markdown",
   "id": "abdc5da3-2d32-4530-8b8e-24271ad617fb",
   "metadata": {},
   "source": [
    "# bag of words model"
   ]
  },
  {
   "cell_type": "markdown",
   "id": "cfa01df3-774b-4095-a569-f229e6fa2f4e",
   "metadata": {},
   "source": [
    "Regression is tricky with little data. Let's classify each inspection to the nearest 1, and try that."
   ]
  },
  {
   "cell_type": "code",
   "execution_count": 5,
   "id": "2f6421c2-0f22-493c-b2bb-945f9c3ca236",
   "metadata": {},
   "outputs": [],
   "source": [
    "df = pd.read_csv(processed_data_directory + 'reviews_nearest_score_no_limit_df.csv')\n",
    "# df = pd.read_csv(processed_data_directory + 'reviews_nearest_score_2_years_df.csv')"
   ]
  },
  {
   "cell_type": "code",
   "execution_count": 6,
   "id": "62ab1e62-c9d6-4ea6-a984-b02d0daba427",
   "metadata": {},
   "outputs": [
    {
     "name": "stdout",
     "output_type": "stream",
     "text": [
      "4184/570614 (0.7332452410911755%) are fractional scores\n"
     ]
    }
   ],
   "source": [
    "yy = np.array(df['Score'])\n",
    "print(f'{sum(yy%1 != 0.0)}/{len(yy)} ({sum(yy%1 != 0.0)/len(yy)*100}%) are fractional scores')"
   ]
  },
  {
   "cell_type": "markdown",
   "id": "37226c1d-7a85-4ec3-8fe9-f0908d41ffd0",
   "metadata": {},
   "source": [
    "rounding each score to the ones digit only changes <1% of the scores. This shouldn't change much."
   ]
  },
  {
   "cell_type": "markdown",
   "id": "8bb18507-0617-4703-9791-0066e6f3975c",
   "metadata": {
    "tags": []
   },
   "source": [
    "## build single review model"
   ]
  },
  {
   "cell_type": "markdown",
   "id": "04a0c0ab-3e01-400b-83a3-8b605e47bce1",
   "metadata": {
    "tags": []
   },
   "source": [
    "### feature engineering"
   ]
  },
  {
   "cell_type": "code",
   "execution_count": 116,
   "id": "bde0d678-2d1f-40e7-8722-5aaf884b4d80",
   "metadata": {},
   "outputs": [],
   "source": [
    "# # let's just look at businesses with >100 reviews\n",
    "# num_reviews = df.business_id.value_counts()\n",
    "# valid_businesses = num_reviews[num_reviews >= 100].index\n",
    "# df = df[df['business_id'].isin(valid_businesses)].reset_index(drop=True)"
   ]
  },
  {
   "cell_type": "code",
   "execution_count": 117,
   "id": "696ef6e5-acbc-43ee-b2f5-29d94f8862c0",
   "metadata": {},
   "outputs": [],
   "source": [
    "# # only look at outraged customers\n",
    "# df = df[df.review_stars <= 3]"
   ]
  },
  {
   "cell_type": "code",
   "execution_count": 42,
   "id": "a5fb9445-1949-48fb-81e1-8ef6b89fbc51",
   "metadata": {},
   "outputs": [],
   "source": [
    "reviews = np.array(df['text'])\n",
    "scores = np.array(df['Score'])\n",
    "X, y = reviews, scores\n",
    "# round\n",
    "roundby = 1\n",
    "y = np.array(list(map(lambda x: math.ceil(x / roundby) * roundby,y)))\n",
    "# classify into two categories\n",
    "# thresh = 80\n",
    "# y = np.array(list(map(lambda x: 1 if x > thresh else 0, y)))"
   ]
  },
  {
   "cell_type": "code",
   "execution_count": 43,
   "id": "ec01eeeb-e601-4514-93e2-554fa2f9f314",
   "metadata": {},
   "outputs": [],
   "source": [
    "# simple bag of words\n",
    "bow_vectorizer = TfidfVectorizer(min_df=10,\n",
    "                                 max_df=0.5,\n",
    "                                 max_features=20000,\n",
    "                                 ngram_range=(1,2),\n",
    "                                 stop_words=STOP_WORDS)\n",
    "# svd = TruncatedSVD(n_components=100)\n",
    "features = Pipeline([\n",
    "    ('tfidf',bow_vectorizer),\n",
    "    ('svd',TruncatedSVD(n_components=200)),\n",
    "    ('minmax',MinMaxScaler(feature_range=(0,1))) # necessary for NB\n",
    "])"
   ]
  },
  {
   "cell_type": "code",
   "execution_count": 44,
   "id": "aca1a0f3-435b-4b86-98db-aa4a94618176",
   "metadata": {},
   "outputs": [],
   "source": [
    "# # looking at high tf-idf terms\n",
    "# high_value_terms = dict(zip(features.named_steps.tfidf.vocabulary_, features.named_steps.tfidf.idf_))\n",
    "# high_value_terms = dict(sorted(high_value_terms.items(), key=lambda item: item[1],reverse=False))\n",
    "# high_value_terms"
   ]
  },
  {
   "cell_type": "code",
   "execution_count": 45,
   "id": "4e4f83f5-1b7e-47f3-a0bc-9df66ecc3be0",
   "metadata": {},
   "outputs": [
    {
     "name": "stdout",
     "output_type": "stream",
     "text": [
      "Wall time: 5min 1s\n"
     ]
    }
   ],
   "source": [
    "%%time\n",
    "X_out = features.fit_transform(X,y)"
   ]
  },
  {
   "cell_type": "code",
   "execution_count": 46,
   "id": "2521404b-1efb-4628-ae65-3a2f3765a8d9",
   "metadata": {},
   "outputs": [],
   "source": [
    "X_out_shuff, y_shuff = shuffle(X_out, y, random_state=42)\n",
    "X_train, X_test, y_train, y_test = train_test_split(X_out_shuff, y_shuff, test_size=0.2)"
   ]
  },
  {
   "cell_type": "code",
   "execution_count": 175,
   "id": "b6a746a2-8fa8-489d-9eb4-4868c81ba8dd",
   "metadata": {},
   "outputs": [],
   "source": [
    "# save to file\n",
    "filename = model_directory + 'individual_review_features.pkl'\n",
    "# pkl.dump(features, open(filename,'wb'))"
   ]
  },
  {
   "cell_type": "markdown",
   "id": "0f7bf75e-8cc1-434d-9857-80231c862ef2",
   "metadata": {},
   "source": [
    "make sure pickling worked"
   ]
  },
  {
   "cell_type": "code",
   "execution_count": null,
   "id": "31267820-de4b-4277-b6f6-43eb9dad7864",
   "metadata": {},
   "outputs": [],
   "source": [
    "filename = model_directory + 'individual_review_features.pkl'\n",
    "loaded_features = pkl.load(open(filename, 'rb'))"
   ]
  },
  {
   "cell_type": "code",
   "execution_count": 177,
   "id": "d077f41c-1cfc-4151-a0d2-44d89eaf1d99",
   "metadata": {},
   "outputs": [],
   "source": [
    "X_out_2 = loaded_features.transform(X)"
   ]
  },
  {
   "cell_type": "code",
   "execution_count": 181,
   "id": "1e4e14a5-0ca8-4ee1-b99c-f1dd89645e2f",
   "metadata": {},
   "outputs": [
    {
     "data": {
      "text/plain": [
       "-6.583995501574513e-13"
      ]
     },
     "execution_count": 181,
     "metadata": {},
     "output_type": "execute_result"
    }
   ],
   "source": [
    "# they're the same, so pickling works\n",
    "sum(sum(X_out - X_out_2))"
   ]
  },
  {
   "cell_type": "markdown",
   "id": "06234856-a291-4b77-8131-6f60cda33906",
   "metadata": {
    "tags": []
   },
   "source": [
    "### test different models"
   ]
  },
  {
   "cell_type": "code",
   "execution_count": 48,
   "id": "bbdd8f10-c3a4-4120-a2ea-a39007677927",
   "metadata": {},
   "outputs": [],
   "source": [
    "def test_regressor(regressor,print_R2=True,residual_hist=True,predictions_hist=True):\n",
    "    regressor.fit(X_train,y_train)\n",
    "    if print_R2:\n",
    "        print(f'R^2 score: {regressor.score(X_test, y_test)}')\n",
    "    y_predict = regressor.predict(X_test)\n",
    "    if residual_hist:\n",
    "        fig = plt.figure(1)\n",
    "        plt.hist(y_predict-y_test,bins=30,alpha=0.5);\n",
    "        plt.show()\n",
    "    if predictions_hist:\n",
    "        fig = plt.figure(2)\n",
    "        plt.hist(y_predict,bins=30,alpha=0.5)\n",
    "        plt.hist(y_test,bins=30,alpha=0.5)\n",
    "        plt.show()"
   ]
  },
  {
   "cell_type": "code",
   "execution_count": 49,
   "id": "245f37cc-4d9b-4154-a87a-de292264d7e8",
   "metadata": {},
   "outputs": [
    {
     "name": "stdout",
     "output_type": "stream",
     "text": [
      "R^2 score: 0.1199595208057419\n"
     ]
    },
    {
     "data": {
      "image/png": "[encoded data removed]",
      "text/plain": [
       "<Figure size 432x288 with 1 Axes>"
      ]
     },
     "metadata": {
      "needs_background": "light"
     },
     "output_type": "display_data"
    },
    {
     "data": {
      "image/png": "[encoded data removed]",
      "text/plain": [
       "<Figure size 432x288 with 1 Axes>"
      ]
     },
     "metadata": {
      "needs_background": "light"
     },
     "output_type": "display_data"
    },
    {
     "name": "stdout",
     "output_type": "stream",
     "text": [
      "Wall time: 4.3 s\n"
     ]
    }
   ],
   "source": [
    "%%time\n",
    "regressor = Ridge(alpha=10)\n",
    "test_regressor(regressor)"
   ]
  },
  {
   "cell_type": "code",
   "execution_count": 138,
   "id": "d3b48e88-c816-4dc9-979d-3af64c7fa675",
   "metadata": {},
   "outputs": [
    {
     "name": "stderr",
     "output_type": "stream",
     "text": [
      "C:\\Users\\ASUS\\anaconda3\\lib\\site-packages\\sklearn\\linear_model\\_logistic.py:814: ConvergenceWarning: lbfgs failed to converge (status=1):\n",
      "STOP: TOTAL NO. of ITERATIONS REACHED LIMIT.\n",
      "\n",
      "Increase the number of iterations (max_iter) or scale the data as shown in:\n",
      "    https://scikit-learn.org/stable/modules/preprocessing.html\n",
      "Please also refer to the documentation for alternative solver options:\n",
      "    https://scikit-learn.org/stable/modules/linear_model.html#logistic-regression\n",
      "  n_iter_i = _check_optimize_result(\n"
     ]
    },
    {
     "name": "stdout",
     "output_type": "stream",
     "text": [
      "R^2 score: 0.14601789297512333\n"
     ]
    },
    {
     "data": {
      "image/png": "[encoded data removed]",
      "text/plain": [
       "<Figure size 432x288 with 1 Axes>"
      ]
     },
     "metadata": {
      "needs_background": "light"
     },
     "output_type": "display_data"
    },
    {
     "data": {
      "image/png": "[encoded data removed]",
      "text/plain": [
       "<Figure size 432x288 with 1 Axes>"
      ]
     },
     "metadata": {
      "needs_background": "light"
     },
     "output_type": "display_data"
    },
    {
     "name": "stdout",
     "output_type": "stream",
     "text": [
      "Wall time: 4min 19s\n"
     ]
    }
   ],
   "source": [
    "%%time\n",
    "regressor = LogisticRegression(solver = 'lbfgs', max_iter=100)\n",
    "test_regressor(regressor)"
   ]
  },
  {
   "cell_type": "code",
   "execution_count": 52,
   "id": "000b373b-fb87-4609-9b22-cbe708a22dbc",
   "metadata": {
    "tags": []
   },
   "outputs": [
    {
     "name": "stdout",
     "output_type": "stream",
     "text": [
      "Wall time: 17.2 s\n"
     ]
    },
    {
     "data": {
      "text/plain": [
       "{'alpha': 10}"
      ]
     },
     "execution_count": 52,
     "metadata": {},
     "output_type": "execute_result"
    }
   ],
   "source": [
    "%%time\n",
    "parameters = {\n",
    "    'alpha': [0.01,0.1,1,10]\n",
    "}\n",
    "gs = GridSearchCV(regressor, parameters)\n",
    "gs.fit(X_test,y_test)\n",
    "gs.best_params_"
   ]
  },
  {
   "cell_type": "code",
   "execution_count": null,
   "id": "f5669c32-ae46-43de-9802-e88238df97df",
   "metadata": {
    "collapsed": true,
    "jupyter": {
     "outputs_hidden": true
    },
    "tags": []
   },
   "outputs": [
    {
     "name": "stdout",
     "output_type": "stream",
     "text": [
      "R^2 score: 0.0871341519711938\n"
     ]
    },
    {
     "data": {
      "image/png": "[encoded data removed]",
      "text/plain": [
       "<Figure size 432x288 with 1 Axes>"
      ]
     },
     "metadata": {
      "needs_background": "light"
     },
     "output_type": "display_data"
    },
    {
     "data": {
      "image/png": "[encoded data removed]",
      "text/plain": [
       "<Figure size 432x288 with 1 Axes>"
      ]
     },
     "metadata": {
      "needs_background": "light"
     },
     "output_type": "display_data"
    },
    {
     "name": "stdout",
     "output_type": "stream",
     "text": [
      "Wall time: 1.09 s\n"
     ]
    }
   ],
   "source": [
    "# %%time\n",
    "# regressor = MultinomialNB()\n",
    "# test_regressor(regressor)"
   ]
  },
  {
   "cell_type": "code",
   "execution_count": 128,
   "id": "1634bb22-4182-496d-a622-c2675e9deeb3",
   "metadata": {},
   "outputs": [],
   "source": [
    "# priors = OrderedDict(sorted(Counter(y_test).items()))\n",
    "# priors = np.fromiter(priors.values(), dtype=float)/len(y_test)"
   ]
  },
  {
   "cell_type": "code",
   "execution_count": 236,
   "id": "80519e9e-76eb-48e0-8c0f-0ca685aa8899",
   "metadata": {},
   "outputs": [
    {
     "ename": "KeyboardInterrupt",
     "evalue": "",
     "output_type": "error",
     "traceback": [
      "\u001b[1;31m---------------------------------------------------------------------------\u001b[0m",
      "\u001b[1;31mKeyboardInterrupt\u001b[0m                         Traceback (most recent call last)",
      "\u001b[1;32m<timed exec>\u001b[0m in \u001b[0;36m<module>\u001b[1;34m\u001b[0m\n",
      "\u001b[1;32m~\\AppData\\Local\\Temp\\ipykernel_24952\\2870973312.py\u001b[0m in \u001b[0;36mtest_regressor\u001b[1;34m(regressor, print_R2, residual_hist, predictions_hist)\u001b[0m\n\u001b[0;32m      2\u001b[0m     \u001b[0mregressor\u001b[0m\u001b[1;33m.\u001b[0m\u001b[0mfit\u001b[0m\u001b[1;33m(\u001b[0m\u001b[0mX_train\u001b[0m\u001b[1;33m,\u001b[0m\u001b[0my_train\u001b[0m\u001b[1;33m)\u001b[0m\u001b[1;33m\u001b[0m\u001b[1;33m\u001b[0m\u001b[0m\n\u001b[0;32m      3\u001b[0m     \u001b[1;32mif\u001b[0m \u001b[0mprint_R2\u001b[0m\u001b[1;33m:\u001b[0m\u001b[1;33m\u001b[0m\u001b[1;33m\u001b[0m\u001b[0m\n\u001b[1;32m----> 4\u001b[1;33m         \u001b[0mprint\u001b[0m\u001b[1;33m(\u001b[0m\u001b[1;34mf'R^2 score: {regressor.score(X_test, y_test)}'\u001b[0m\u001b[1;33m)\u001b[0m\u001b[1;33m\u001b[0m\u001b[1;33m\u001b[0m\u001b[0m\n\u001b[0m\u001b[0;32m      5\u001b[0m     \u001b[0my_predict\u001b[0m \u001b[1;33m=\u001b[0m \u001b[0mregressor\u001b[0m\u001b[1;33m.\u001b[0m\u001b[0mpredict\u001b[0m\u001b[1;33m(\u001b[0m\u001b[0mX_test\u001b[0m\u001b[1;33m)\u001b[0m\u001b[1;33m\u001b[0m\u001b[1;33m\u001b[0m\u001b[0m\n\u001b[0;32m      6\u001b[0m     \u001b[1;32mif\u001b[0m \u001b[0mresidual_hist\u001b[0m\u001b[1;33m:\u001b[0m\u001b[1;33m\u001b[0m\u001b[1;33m\u001b[0m\u001b[0m\n",
      "\u001b[1;32m~\\anaconda3\\lib\\site-packages\\sklearn\\base.py\u001b[0m in \u001b[0;36mscore\u001b[1;34m(self, X, y, sample_weight)\u001b[0m\n\u001b[0;32m    649\u001b[0m         \u001b[1;32mfrom\u001b[0m \u001b[1;33m.\u001b[0m\u001b[0mmetrics\u001b[0m \u001b[1;32mimport\u001b[0m \u001b[0maccuracy_score\u001b[0m\u001b[1;33m\u001b[0m\u001b[1;33m\u001b[0m\u001b[0m\n\u001b[0;32m    650\u001b[0m \u001b[1;33m\u001b[0m\u001b[0m\n\u001b[1;32m--> 651\u001b[1;33m         \u001b[1;32mreturn\u001b[0m \u001b[0maccuracy_score\u001b[0m\u001b[1;33m(\u001b[0m\u001b[0my\u001b[0m\u001b[1;33m,\u001b[0m \u001b[0mself\u001b[0m\u001b[1;33m.\u001b[0m\u001b[0mpredict\u001b[0m\u001b[1;33m(\u001b[0m\u001b[0mX\u001b[0m\u001b[1;33m)\u001b[0m\u001b[1;33m,\u001b[0m \u001b[0msample_weight\u001b[0m\u001b[1;33m=\u001b[0m\u001b[0msample_weight\u001b[0m\u001b[1;33m)\u001b[0m\u001b[1;33m\u001b[0m\u001b[1;33m\u001b[0m\u001b[0m\n\u001b[0m\u001b[0;32m    652\u001b[0m \u001b[1;33m\u001b[0m\u001b[0m\n\u001b[0;32m    653\u001b[0m     \u001b[1;32mdef\u001b[0m \u001b[0m_more_tags\u001b[0m\u001b[1;33m(\u001b[0m\u001b[0mself\u001b[0m\u001b[1;33m)\u001b[0m\u001b[1;33m:\u001b[0m\u001b[1;33m\u001b[0m\u001b[1;33m\u001b[0m\u001b[0m\n",
      "\u001b[1;32m~\\anaconda3\\lib\\site-packages\\sklearn\\naive_bayes.py\u001b[0m in \u001b[0;36mpredict\u001b[1;34m(self, X)\u001b[0m\n\u001b[0;32m     81\u001b[0m         \u001b[0mcheck_is_fitted\u001b[0m\u001b[1;33m(\u001b[0m\u001b[0mself\u001b[0m\u001b[1;33m)\u001b[0m\u001b[1;33m\u001b[0m\u001b[1;33m\u001b[0m\u001b[0m\n\u001b[0;32m     82\u001b[0m         \u001b[0mX\u001b[0m \u001b[1;33m=\u001b[0m \u001b[0mself\u001b[0m\u001b[1;33m.\u001b[0m\u001b[0m_check_X\u001b[0m\u001b[1;33m(\u001b[0m\u001b[0mX\u001b[0m\u001b[1;33m)\u001b[0m\u001b[1;33m\u001b[0m\u001b[1;33m\u001b[0m\u001b[0m\n\u001b[1;32m---> 83\u001b[1;33m         \u001b[0mjll\u001b[0m \u001b[1;33m=\u001b[0m \u001b[0mself\u001b[0m\u001b[1;33m.\u001b[0m\u001b[0m_joint_log_likelihood\u001b[0m\u001b[1;33m(\u001b[0m\u001b[0mX\u001b[0m\u001b[1;33m)\u001b[0m\u001b[1;33m\u001b[0m\u001b[1;33m\u001b[0m\u001b[0m\n\u001b[0m\u001b[0;32m     84\u001b[0m         \u001b[1;32mreturn\u001b[0m \u001b[0mself\u001b[0m\u001b[1;33m.\u001b[0m\u001b[0mclasses_\u001b[0m\u001b[1;33m[\u001b[0m\u001b[0mnp\u001b[0m\u001b[1;33m.\u001b[0m\u001b[0margmax\u001b[0m\u001b[1;33m(\u001b[0m\u001b[0mjll\u001b[0m\u001b[1;33m,\u001b[0m \u001b[0maxis\u001b[0m\u001b[1;33m=\u001b[0m\u001b[1;36m1\u001b[0m\u001b[1;33m)\u001b[0m\u001b[1;33m]\u001b[0m\u001b[1;33m\u001b[0m\u001b[1;33m\u001b[0m\u001b[0m\n\u001b[0;32m     85\u001b[0m \u001b[1;33m\u001b[0m\u001b[0m\n",
      "\u001b[1;32m~\\anaconda3\\lib\\site-packages\\sklearn\\naive_bayes.py\u001b[0m in \u001b[0;36m_joint_log_likelihood\u001b[1;34m(self, X)\u001b[0m\n\u001b[0;32m    488\u001b[0m             \u001b[0mjointi\u001b[0m \u001b[1;33m=\u001b[0m \u001b[0mnp\u001b[0m\u001b[1;33m.\u001b[0m\u001b[0mlog\u001b[0m\u001b[1;33m(\u001b[0m\u001b[0mself\u001b[0m\u001b[1;33m.\u001b[0m\u001b[0mclass_prior_\u001b[0m\u001b[1;33m[\u001b[0m\u001b[0mi\u001b[0m\u001b[1;33m]\u001b[0m\u001b[1;33m)\u001b[0m\u001b[1;33m\u001b[0m\u001b[1;33m\u001b[0m\u001b[0m\n\u001b[0;32m    489\u001b[0m             \u001b[0mn_ij\u001b[0m \u001b[1;33m=\u001b[0m \u001b[1;33m-\u001b[0m\u001b[1;36m0.5\u001b[0m \u001b[1;33m*\u001b[0m \u001b[0mnp\u001b[0m\u001b[1;33m.\u001b[0m\u001b[0msum\u001b[0m\u001b[1;33m(\u001b[0m\u001b[0mnp\u001b[0m\u001b[1;33m.\u001b[0m\u001b[0mlog\u001b[0m\u001b[1;33m(\u001b[0m\u001b[1;36m2.0\u001b[0m \u001b[1;33m*\u001b[0m \u001b[0mnp\u001b[0m\u001b[1;33m.\u001b[0m\u001b[0mpi\u001b[0m \u001b[1;33m*\u001b[0m \u001b[0mself\u001b[0m\u001b[1;33m.\u001b[0m\u001b[0mvar_\u001b[0m\u001b[1;33m[\u001b[0m\u001b[0mi\u001b[0m\u001b[1;33m,\u001b[0m \u001b[1;33m:\u001b[0m\u001b[1;33m]\u001b[0m\u001b[1;33m)\u001b[0m\u001b[1;33m)\u001b[0m\u001b[1;33m\u001b[0m\u001b[1;33m\u001b[0m\u001b[0m\n\u001b[1;32m--> 490\u001b[1;33m             \u001b[0mn_ij\u001b[0m \u001b[1;33m-=\u001b[0m \u001b[1;36m0.5\u001b[0m \u001b[1;33m*\u001b[0m \u001b[0mnp\u001b[0m\u001b[1;33m.\u001b[0m\u001b[0msum\u001b[0m\u001b[1;33m(\u001b[0m\u001b[1;33m(\u001b[0m\u001b[1;33m(\u001b[0m\u001b[0mX\u001b[0m \u001b[1;33m-\u001b[0m \u001b[0mself\u001b[0m\u001b[1;33m.\u001b[0m\u001b[0mtheta_\u001b[0m\u001b[1;33m[\u001b[0m\u001b[0mi\u001b[0m\u001b[1;33m,\u001b[0m \u001b[1;33m:\u001b[0m\u001b[1;33m]\u001b[0m\u001b[1;33m)\u001b[0m \u001b[1;33m**\u001b[0m \u001b[1;36m2\u001b[0m\u001b[1;33m)\u001b[0m \u001b[1;33m/\u001b[0m \u001b[1;33m(\u001b[0m\u001b[0mself\u001b[0m\u001b[1;33m.\u001b[0m\u001b[0mvar_\u001b[0m\u001b[1;33m[\u001b[0m\u001b[0mi\u001b[0m\u001b[1;33m,\u001b[0m \u001b[1;33m:\u001b[0m\u001b[1;33m]\u001b[0m\u001b[1;33m)\u001b[0m\u001b[1;33m,\u001b[0m \u001b[1;36m1\u001b[0m\u001b[1;33m)\u001b[0m\u001b[1;33m\u001b[0m\u001b[1;33m\u001b[0m\u001b[0m\n\u001b[0m\u001b[0;32m    491\u001b[0m             \u001b[0mjoint_log_likelihood\u001b[0m\u001b[1;33m.\u001b[0m\u001b[0mappend\u001b[0m\u001b[1;33m(\u001b[0m\u001b[0mjointi\u001b[0m \u001b[1;33m+\u001b[0m \u001b[0mn_ij\u001b[0m\u001b[1;33m)\u001b[0m\u001b[1;33m\u001b[0m\u001b[1;33m\u001b[0m\u001b[0m\n\u001b[0;32m    492\u001b[0m \u001b[1;33m\u001b[0m\u001b[0m\n",
      "\u001b[1;31mKeyboardInterrupt\u001b[0m: "
     ]
    }
   ],
   "source": [
    "%%time\n",
    "# regressor = GaussianNB(priors=priors, var_smoothing=0.8)\n",
    "regressor = GaussianNB(var_smoothing=0.001)\n",
    "test_regressor(regressor)"
   ]
  },
  {
   "cell_type": "code",
   "execution_count": 233,
   "id": "af9a46a1-ddb0-411b-83d2-bddec6264fa2",
   "metadata": {},
   "outputs": [
    {
     "data": {
      "text/plain": [
       "0.0961245255111161"
      ]
     },
     "execution_count": 233,
     "metadata": {},
     "output_type": "execute_result"
    }
   ],
   "source": [
    "regressor.score(X_out,y)"
   ]
  },
  {
   "cell_type": "code",
   "execution_count": 234,
   "id": "6f3eb0cb-da22-4a7c-b2ec-201a9119c8da",
   "metadata": {},
   "outputs": [
    {
     "data": {
      "text/plain": [
       "-2.8772872852905915"
      ]
     },
     "execution_count": 234,
     "metadata": {},
     "output_type": "execute_result"
    }
   ],
   "source": [
    "from sklearn.metrics import r2_score\n",
    "r2_score(y, regressor.predict(X_out))"
   ]
  },
  {
   "cell_type": "code",
   "execution_count": 132,
   "id": "f5dac640-3075-4782-8b5e-828195bd9103",
   "metadata": {
    "tags": []
   },
   "outputs": [
    {
     "name": "stderr",
     "output_type": "stream",
     "text": [
      "C:\\Users\\ASUS\\anaconda3\\lib\\site-packages\\sklearn\\model_selection\\_split.py:676: UserWarning: The least populated class in y has only 2 members, which is less than n_splits=5.\n",
      "  warnings.warn(\n"
     ]
    },
    {
     "name": "stdout",
     "output_type": "stream",
     "text": [
      "Wall time: 4min 48s\n"
     ]
    },
    {
     "data": {
      "text/plain": [
       "{'var_smoothing': 0.001}"
      ]
     },
     "execution_count": 132,
     "metadata": {},
     "output_type": "execute_result"
    }
   ],
   "source": [
    "%%time\n",
    "parameters = {\n",
    "    'var_smoothing': np.logspace(-9,1,11)\n",
    "}\n",
    "gs = GridSearchCV(regressor, parameters)\n",
    "gs.fit(X_test,y_test)\n",
    "gs.best_params_"
   ]
  },
  {
   "cell_type": "markdown",
   "id": "45020d57-2873-4394-b6a8-0892aa6533ce",
   "metadata": {
    "jp-MarkdownHeadingCollapsed": true,
    "tags": []
   },
   "source": [
    "### Ridge"
   ]
  },
  {
   "cell_type": "code",
   "execution_count": 53,
   "id": "fbbb2d50-075a-45bd-8ec7-fa3dbc3168df",
   "metadata": {},
   "outputs": [
    {
     "name": "stdout",
     "output_type": "stream",
     "text": [
      "R^2 score: 0.1199595208057419\n"
     ]
    },
    {
     "data": {
      "image/png": "[encoded data removed]",
      "text/plain": [
       "<Figure size 432x288 with 1 Axes>"
      ]
     },
     "metadata": {
      "needs_background": "light"
     },
     "output_type": "display_data"
    },
    {
     "data": {
      "image/png": "[encoded data removed]",
      "text/plain": [
       "<Figure size 432x288 with 1 Axes>"
      ]
     },
     "metadata": {
      "needs_background": "light"
     },
     "output_type": "display_data"
    },
    {
     "name": "stdout",
     "output_type": "stream",
     "text": [
      "Wall time: 4.44 s\n"
     ]
    }
   ],
   "source": [
    "%%time\n",
    "regressor = Ridge(alpha=10)\n",
    "test_regressor(regressor)"
   ]
  },
  {
   "cell_type": "code",
   "execution_count": 54,
   "id": "d50ee089-7f0c-4d23-8dab-0eb16802dac3",
   "metadata": {},
   "outputs": [
    {
     "data": {
      "text/plain": [
       "0.12217979451820682"
      ]
     },
     "execution_count": 54,
     "metadata": {},
     "output_type": "execute_result"
    }
   ],
   "source": [
    "regressor.score(X_out,y)"
   ]
  },
  {
   "cell_type": "code",
   "execution_count": 55,
   "id": "3785022c-f065-4a55-b35e-d6da895326b6",
   "metadata": {},
   "outputs": [
    {
     "data": {
      "text/plain": [
       "0.12217979451820682"
      ]
     },
     "execution_count": 55,
     "metadata": {},
     "output_type": "execute_result"
    }
   ],
   "source": [
    "from sklearn.metrics import r2_score\n",
    "r2_score(y, regressor.predict(X_out))"
   ]
  },
  {
   "cell_type": "code",
   "execution_count": 57,
   "id": "d20d7f8f-b6e8-4e2d-8118-c171a5577c4e",
   "metadata": {},
   "outputs": [],
   "source": [
    "# sklearn.metrics.accuracy_score(y, regressor.predict(X_out))"
   ]
  },
  {
   "cell_type": "code",
   "execution_count": 58,
   "id": "1a33f390-5010-48a6-b0c1-dccdeddad4b9",
   "metadata": {},
   "outputs": [],
   "source": [
    "filename = model_directory + 'individual_review_model_ridge.pkl'\n",
    "pkl.dump(regressor, open(filename,'wb'))"
   ]
  },
  {
   "cell_type": "markdown",
   "id": "cf158367-8e8c-48c8-8ef2-871a37a6b819",
   "metadata": {
    "jp-MarkdownHeadingCollapsed": true,
    "tags": []
   },
   "source": [
    "### final model: logistic regression"
   ]
  },
  {
   "cell_type": "code",
   "execution_count": 139,
   "id": "3eeb77eb-d1ac-4590-a268-3e5d7c9bb6c8",
   "metadata": {},
   "outputs": [
    {
     "name": "stderr",
     "output_type": "stream",
     "text": [
      "C:\\Users\\ASUS\\anaconda3\\lib\\site-packages\\sklearn\\linear_model\\_logistic.py:814: ConvergenceWarning: lbfgs failed to converge (status=1):\n",
      "STOP: TOTAL NO. of ITERATIONS REACHED LIMIT.\n",
      "\n",
      "Increase the number of iterations (max_iter) or scale the data as shown in:\n",
      "    https://scikit-learn.org/stable/modules/preprocessing.html\n",
      "Please also refer to the documentation for alternative solver options:\n",
      "    https://scikit-learn.org/stable/modules/linear_model.html#logistic-regression\n",
      "  n_iter_i = _check_optimize_result(\n"
     ]
    },
    {
     "name": "stdout",
     "output_type": "stream",
     "text": [
      "R^2 score: 0.14867292307422694\n"
     ]
    },
    {
     "data": {
      "image/png": "[encoded data removed]",
      "text/plain": [
       "<Figure size 432x288 with 1 Axes>"
      ]
     },
     "metadata": {
      "needs_background": "light"
     },
     "output_type": "display_data"
    },
    {
     "data": {
      "image/png": "[encoded data removed]",
      "text/plain": [
       "<Figure size 432x288 with 1 Axes>"
      ]
     },
     "metadata": {
      "needs_background": "light"
     },
     "output_type": "display_data"
    },
    {
     "name": "stdout",
     "output_type": "stream",
     "text": [
      "Wall time: 9h 6min 37s\n"
     ]
    }
   ],
   "source": [
    "%%time\n",
    "regressor = LogisticRegression(solver = 'lbfgs', max_iter=500)\n",
    "test_regressor(regressor)"
   ]
  },
  {
   "cell_type": "code",
   "execution_count": 153,
   "id": "a9d81e14-e80c-41ab-8b88-d8a003015b6c",
   "metadata": {},
   "outputs": [],
   "source": [
    "filename = model_directory + 'individual_review_model.pkl'\n",
    "# pkl.dump(regressor, open(filename,'wb'))"
   ]
  },
  {
   "cell_type": "code",
   "execution_count": 154,
   "id": "e1e08f36-7563-4b65-915a-b73e7fda1cbc",
   "metadata": {},
   "outputs": [],
   "source": [
    "loaded_model = pkl.load(open(filename, 'rb'))"
   ]
  },
  {
   "cell_type": "code",
   "execution_count": null,
   "id": "6c0c210a-7448-4da7-a4fc-89a15a055a41",
   "metadata": {},
   "outputs": [
    {
     "data": {
      "text/plain": [
       "(array([6.0000e+01, 0.0000e+00, 5.0000e+00, 1.9000e+01, 6.0000e+00,\n",
       "        3.1700e+02, 1.1200e+02, 1.7900e+02, 9.3000e+01, 6.8000e+01,\n",
       "        8.1100e+02, 1.6540e+03, 6.6200e+02, 1.9350e+03, 8.9300e+02,\n",
       "        3.3440e+03, 2.6190e+03, 1.8600e+03, 5.0210e+03, 2.8540e+03,\n",
       "        8.3090e+03, 4.3070e+03, 1.0821e+04, 7.3370e+03, 1.1938e+04,\n",
       "        8.9340e+03, 1.6191e+04, 6.9460e+03, 9.4500e+03, 7.3780e+03]),\n",
       " array([ 54.        ,  55.53333333,  57.06666667,  58.6       ,\n",
       "         60.13333333,  61.66666667,  63.2       ,  64.73333333,\n",
       "         66.26666667,  67.8       ,  69.33333333,  70.86666667,\n",
       "         72.4       ,  73.93333333,  75.46666667,  77.        ,\n",
       "         78.53333333,  80.06666667,  81.6       ,  83.13333333,\n",
       "         84.66666667,  86.2       ,  87.73333333,  89.26666667,\n",
       "         90.8       ,  92.33333333,  93.86666667,  95.4       ,\n",
       "         96.93333333,  98.46666667, 100.        ]),\n",
       " <BarContainer object of 30 artists>)"
      ]
     },
     "execution_count": 161,
     "metadata": {},
     "output_type": "execute_result"
    },
    {
     "data": {
      "image/png": "[encoded data removed]",
      "text/plain": [
       "<Figure size 432x288 with 1 Axes>"
      ]
     },
     "metadata": {
      "needs_background": "light"
     },
     "output_type": "display_data"
    }
   ],
   "source": [
    "plt.hist(loaded_model.predict(X_test),bins=30,alpha=0.5)\n",
    "plt.hist(y_test,bins=30,alpha=0.5)"
   ]
  },
  {
   "cell_type": "markdown",
   "id": "938fd669-6420-4df1-95f3-a11ac06b5fdc",
   "metadata": {
    "jp-MarkdownHeadingCollapsed": true,
    "tags": []
   },
   "source": [
    "## average over business reviews"
   ]
  },
  {
   "cell_type": "code",
   "execution_count": 59,
   "id": "9e621c8e-b7de-4543-b848-0b58226110f6",
   "metadata": {},
   "outputs": [],
   "source": [
    "df = pd.read_csv(processed_data_directory + 'reviews_nearest_score_no_limit_df.csv')\n",
    "# df = pd.read_csv(processed_data_directory + 'reviews_nearest_score_2_years_df.csv')"
   ]
  },
  {
   "cell_type": "code",
   "execution_count": 60,
   "id": "360eb8e3-bc5d-4b4e-8f72-26daf2bd7b8a",
   "metadata": {},
   "outputs": [],
   "source": [
    "reviews = np.array(df['text'])\n",
    "scores = np.array(df['Score'])\n",
    "X, y = reviews, scores\n",
    "# round\n",
    "roundby = 1\n",
    "y = np.array(list(map(lambda x: math.ceil(x / roundby) * roundby,y)))"
   ]
  },
  {
   "cell_type": "code",
   "execution_count": 98,
   "id": "2f4fdff2-4d4a-4c6b-926c-46374f15bf0b",
   "metadata": {},
   "outputs": [],
   "source": [
    "# load in feature transforms\n",
    "filename = model_directory + 'individual_review_features.pkl'\n",
    "loaded_features = pkl.load(open(filename, 'rb'))\n",
    "# load in model\n",
    "filename = model_directory + 'individual_review_model.pkl'\n",
    "loaded_model = pkl.load(open(filename, 'rb'))"
   ]
  },
  {
   "cell_type": "code",
   "execution_count": 99,
   "id": "2e79dbec-a79b-4201-bcde-d2a5ba8f99a8",
   "metadata": {},
   "outputs": [],
   "source": [
    "good_reviews = np.array([r\"They have some of the best seafood I've ever eaten here in Austin. I usually always order the same thing, but it never fails to be delicious. Their employees are all very nice too. They're clean, and the service is always quick, while never feeling rushed.\",\n",
    "                         r\"We ordered the shrimp and oyster platter, broiled snapper plate and oysters diablos. Everything was delish but them oysters diablos were the bomb.com. We recommend ordering them every time. Service was good. The restaurant was clean.\",\n",
    "                         r\"Great food, great service, great prices! It's hard to believe it's the same place that some of the negative reviews are referring to. Seafood is always fresh and the beer is always cold!\",\n",
    "                         r\"Was undecided about going based on some reviews but decided to give it a try and so glad we did. Seafood was made to order and came out hot and fresh.  Service was very good. Food was very good. Price was very reasonable. I recommend and will be back.\",\n",
    "                         r\"Very good food.  We had the shrimp poboy and there was shrimp in every bite.  The bun was freshly baked which only enhanced the taste.  The gumbo was delicious too.  The atmosphere is warm and friendly and the people are super friendly.  All in all, a positive dining experience.  I will return.\",\n",
    "                         r\"The interior was very clean and had yummy aromas circulating.  I can definitely see why there is a 'sports-bar' vibe mentioned in some of the reviews.  Two TVs going, both with sports, lots of men with beer sitting around the central bar.  I think i was the only female in the place. The daily special was grilled flounder with a crab-shrimp brandy cream sauce.  Very, very tasty.  My son ordered this, and i swiped a bite of the fish, and two bites of the most excellent grilled veggies on the side.  Large platter, fitting the price.  I'd eat a veggie plate, if the grilled squash/onions/zucchini/mushrooms were the star!\",\n",
    "                         r\"Amazing! Very fresh, and they tasted good too. I did douse them with lemon, a little seafood sauce, and Tabasco sauce though.  I also washed them down with my ice cold beer!  If you an get past the texture, you'll be ok. There was no shortage of saltine crackers. I did see someone with a large shrimp cocktail that I would like to try next time. Overall a very good experience. When my raw oyster on the half shell craving returns, I will be back to this place to satisfy it.\"\n",
    "                        ])"
   ]
  },
  {
   "cell_type": "code",
   "execution_count": 100,
   "id": "2314de10-0c65-42d3-959a-c34786defb84",
   "metadata": {},
   "outputs": [],
   "source": [
    "bad_reviews = np.array([r\"This place was absolutely disgusting. We considered turning around as soon as we walked in as it had an odd vibe, unpleasant smell and almost no customers. BUT I've been to my fair share of decent dive type spots so we decided we'd stick around and give it a chance. The sweet tea was great, but all of the food was inedible. Clearly frozen calamari tasted like fried rubber bands with several of the pieces looking questionable and moldy. The fried catfish looked like cafeteria/hospital food. It too was obviously just frozen (freezer burned) catfish they threw in the fryer along with kindergarten crinkle fries and crunchy hush puppies. I honestly couldn't even eat my food both because it was gross and in fear of getting sick. I forced myself to throw up as soon as I got home and I wish I was kidding. The worst part is that the bill was $40 for two entrees and and appetizer which is absolutely insane considering the quality of what they put in front of us. I wish I'd gone to Long John Silvers on my way in the parking lot instead. I absolutely do not recommend this place whatsoever.\",\n",
    "                         r\"Horrible service, dirty facility; I gave them 2 stars because the catfish nuggets were pretty good and the wine was cold. When asking for the check; our server asked my husband to write down everything we ordered so he could create a receipt; I'm still confused by this because no one else at our table had to do that. Weird anyway; I'll never go back there.\",\n",
    "                         r\"We came on a Friday evening and parking lot was full so it seemed promising however we were clearly mistaken. The dining room is fairly small and we were able to snag a table by the entrance. The table had not wiped down so there was still water rings and food crumbs from the previous person. We wiped down the table ourselves and waited for our server. 10 mins later no one came by the table. No one even looked in our direction. Was this a walk up to the bar and order yourself place? Who knows. There was what appeared to be a waitress offering menus to other tables. We left without even having anything so we can't comment on the food but unfortunately we won't be returning.\",\n",
    "                         r\"Literally the most disgusting restaurant experience I've ever had. First of all our server did NOT wear a mask. She was rude as hell and downright didn't even know the menu. The food that came out was over cooked flounder that we didn't even eat. Actually spit the food into my napkin. Wouldn't wish this place on my worst enemy.\",\n",
    "                         r\"Let me start w ordering. I ordered online. Got to the place to pick up my food then bam... my order wasn't ready. They couldn't even find my order. They thought I placed it for another location. Had to show from my phone I placed to round rock location. The guy had to call someone to get my online order. Had to wait an extra 30 min. Place was crowded and big groups of families in there. The food was ok. I wasn't that impressed. I got it to go bc I don't eat in restaurants due to Covid. So by the time I made it home it tasted old. Kind of stale. Like the grease the food was fried in was not fresh. Can't say I'll be back\",\n",
    "                         r\"Expected more. Seemed dingy. Not very clean overall. Service was not up to par. They seemed to be more focus on serving those at the bar then at the tables. Our table was dirty, sticky. Menu was disgusting to the touch. The food was okay. Will not go again.\",\n",
    "                         r\"Oysters on the half were good, kinda hard to mess them up. Wife ordered broiled rainbow trout, the fish was spoiled! You could smell it once the waitress set it on the table, so either their cook has no sense of smell or they just dont care if they make someone sick. The wait staff spends more time at the bar playing on their phones than they do waiting on customers. They did wear mask but there was no social distance between tables or at the bar. Speaking of the bar, it's very loud to the point you cannot have a conversation at your table. We will definitely never go back to this place and I would not recommend it anyone else  either.\",\n",
    "                         r\"They failed health inspection with a score of 37 on December 10th, 2019. Report stated too many cockroaches to count and had rat feces in the dish area\",\n",
    "                         r\"This place was absolutely disgusting. We considered turning around as soon as we walked in as it had an odd vibe, unpleasant smell and almost no customers. BUT I've been to my fair share of decent dive type spots so we decided we'd stick around and give it a chance. The sweet tea was great, but all of the food was inedible. Clearly frozen calamari tasted like fried rubber bands with several of the pieces looking questionable and moldy. The fried catfish looked like cafeteria/hospital food. It too was obviously just frozen (freezer burned) catfish they threw in the fryer along with kindergarten crinkle fries and crunchy hush puppies. I honestly couldn't even eat my food both because it was gross and in fear of getting sick. I forced myself to throw up as soon as I got home and I wish I was kidding. The worst part is that the bill was $40 for two entrees and and appetizer which is absolutely insane considering the quality of what they put in front of us. I wish I'd gone to Long John Silvers on my way in the parking lot instead. I absolutely do not recommend this place whatsoever.\"\n",
    "                         r\"I came here on Friday night with my family for dinner, this place is severely understaffed. And for that reason I can't find it in me to come back. All the waitstaff is running around stressing out and it shows in the quality of the food and service. It look 10 min to get greeted and welcomed, we ordered a app which came out after the food. My boyfriend ordered the crawfish that had a awful taste and smell, I ordered a shrimp salad which came with brown slimy lettuce a half of a slice of tomato and ranch dressing for 12.99 the menu said it was supposed to include more veggies so i asked for the side i was brought that and then noticed how old the lettuce was. My sisters crab cakes tasted old and no flavor whatsoever. My son ordered the chicken tenders and fries as my 2 year old is eating his food we notice a long hair inside of his food we then decided to take our complaints to the manger which told us that they are understaffed and extremely busy..... I really hope the owner of this establishment can do what needs to be done to get this place in the right track. I'm giving 2 starts for potential but I won't be back... your better off going to razzoos down the street\"\n",
    "                       ])"
   ]
  },
  {
   "cell_type": "code",
   "execution_count": 101,
   "id": "8c8a846d-31a2-4ed1-9f31-9ebb76681151",
   "metadata": {},
   "outputs": [
    {
     "data": {
      "text/plain": [
       "89.85714285714286"
      ]
     },
     "execution_count": 101,
     "metadata": {},
     "output_type": "execute_result"
    }
   ],
   "source": [
    "test_out = loaded_features.transform(good_reviews)\n",
    "np.mean(loaded_model.predict(test_out))"
   ]
  },
  {
   "cell_type": "code",
   "execution_count": 102,
   "id": "4983596d-473a-4d01-a841-749bee5dac58",
   "metadata": {},
   "outputs": [
    {
     "data": {
      "text/plain": [
       "90.22222222222223"
      ]
     },
     "execution_count": 102,
     "metadata": {},
     "output_type": "execute_result"
    }
   ],
   "source": [
    "test_out = loaded_features.transform(bad_reviews)\n",
    "np.mean(loaded_model.predict(test_out))"
   ]
  },
  {
   "cell_type": "code",
   "execution_count": 64,
   "id": "01137795-f843-4a0f-b6e9-43d77fad822a",
   "metadata": {},
   "outputs": [
    {
     "data": {
      "text/plain": [
       "array([91, 95, 95, 94, 90, 90, 71])"
      ]
     },
     "execution_count": 64,
     "metadata": {},
     "output_type": "execute_result"
    }
   ],
   "source": [
    "loaded_model.predict(test_out)"
   ]
  },
  {
   "cell_type": "code",
   "execution_count": 261,
   "id": "9b89cdcd-38c8-4509-a420-c72216ab585c",
   "metadata": {},
   "outputs": [
    {
     "name": "stdout",
     "output_type": "stream",
     "text": [
      "Wall time: 1min 59s\n"
     ]
    }
   ],
   "source": [
    "%%time\n",
    "X_out = loaded_features.transform(X)"
   ]
  },
  {
   "cell_type": "code",
   "execution_count": 276,
   "id": "5a72885e-8140-41d6-8b17-ca771c40341a",
   "metadata": {},
   "outputs": [],
   "source": [
    "y_predict = loaded_model.predict(X_out)"
   ]
  },
  {
   "cell_type": "code",
   "execution_count": 292,
   "id": "78b09992-32d3-482f-9b0e-d52287e3afe8",
   "metadata": {},
   "outputs": [],
   "source": [
    "y_predict = regressor.predict(X_out)"
   ]
  },
  {
   "cell_type": "code",
   "execution_count": 293,
   "id": "7ff1f5d2-8c94-4134-826d-ab18a5983f31",
   "metadata": {},
   "outputs": [
    {
     "data": {
      "text/plain": [
       "0.12243127750389315"
      ]
     },
     "execution_count": 293,
     "metadata": {},
     "output_type": "execute_result"
    }
   ],
   "source": [
    "from sklearn.metrics import r2_score\n",
    "r2_score(y, y_predict)"
   ]
  },
  {
   "cell_type": "code",
   "execution_count": 294,
   "id": "df442600-d698-4062-8e1c-b45037ac986d",
   "metadata": {},
   "outputs": [],
   "source": [
    "df['predicted_score'] = y_predict"
   ]
  },
  {
   "cell_type": "code",
   "execution_count": 306,
   "id": "c28496e2-c829-4431-9796-18873fa2c1a1",
   "metadata": {},
   "outputs": [],
   "source": [
    "new_df = df.groupby(['business_id']).agg({'Score':'mean','predicted_score':'mean','review_stars':'mean'}).reset_index()"
   ]
  },
  {
   "cell_type": "code",
   "execution_count": 307,
   "id": "1c4be5a2-56a9-4e65-8df8-c8a7c9d9cfb0",
   "metadata": {},
   "outputs": [
    {
     "data": {
      "text/plain": [
       "array([76., 76., 76., ..., 73., 73., 85.])"
      ]
     },
     "execution_count": 307,
     "metadata": {},
     "output_type": "execute_result"
    }
   ],
   "source": [
    "df['Score'].values"
   ]
  },
  {
   "cell_type": "code",
   "execution_count": 308,
   "id": "0dab1454-37c9-48f8-8c6d-3db00d0daa7d",
   "metadata": {},
   "outputs": [
    {
     "data": {
      "text/plain": [
       "0.20016462378158562"
      ]
     },
     "execution_count": 308,
     "metadata": {},
     "output_type": "execute_result"
    }
   ],
   "source": [
    "sklearn.metrics.r2_score(new_df['Score'].values,new_df['predicted_score'].values)"
   ]
  },
  {
   "cell_type": "code",
   "execution_count": 309,
   "id": "886c9924-a23a-445e-923c-c3dc158f8fc9",
   "metadata": {},
   "outputs": [
    {
     "data": {
      "text/plain": [
       "(array([  3.,   2.,  10.,  12.,  16.,  40.,  35.,  58.,  82., 180., 237.,\n",
       "        368., 482., 307., 353., 203.,  76.,  26.,   9.,   7.]),\n",
       " array([81.53266138, 82.24207659, 82.9514918 , 83.66090701, 84.37032222,\n",
       "        85.07973743, 85.78915264, 86.49856785, 87.20798306, 87.91739826,\n",
       "        88.62681347, 89.33622868, 90.04564389, 90.7550591 , 91.46447431,\n",
       "        92.17388952, 92.88330473, 93.59271994, 94.30213515, 95.01155036,\n",
       "        95.72096556]),\n",
       " <BarContainer object of 20 artists>)"
      ]
     },
     "execution_count": 309,
     "metadata": {},
     "output_type": "execute_result"
    },
    {
     "data": {
      "image/png": "[encoded data removed]",
      "text/plain": [
       "<Figure size 432x288 with 1 Axes>"
      ]
     },
     "metadata": {
      "needs_background": "light"
     },
     "output_type": "display_data"
    }
   ],
   "source": [
    "plt.hist(new_df.Score,bins=20,alpha=0.5)\n",
    "plt.hist(new_df.predicted_score,bins=20,alpha=0.5)"
   ]
  },
  {
   "cell_type": "code",
   "execution_count": 310,
   "id": "3f732e42-1501-4493-998e-ca4525b7c186",
   "metadata": {},
   "outputs": [
    {
     "data": {
      "image/png": "[encoded data removed]",
      "text/plain": [
       "<Figure size 432x288 with 1 Axes>"
      ]
     },
     "metadata": {
      "needs_background": "light"
     },
     "output_type": "display_data"
    }
   ],
   "source": [
    "plt.scatter(df['Score'],df['stars'])\n",
    "plt.show()"
   ]
  },
  {
   "cell_type": "code",
   "execution_count": 311,
   "id": "fb824794-06ff-484e-b4ad-b995fbb08334",
   "metadata": {},
   "outputs": [
    {
     "data": {
      "image/png": "[encoded data removed]",
      "text/plain": [
       "<Figure size 432x288 with 1 Axes>"
      ]
     },
     "metadata": {
      "needs_background": "light"
     },
     "output_type": "display_data"
    }
   ],
   "source": [
    "plt.scatter(df['Score'],df['review_stars'])\n",
    "plt.show()"
   ]
  },
  {
   "cell_type": "code",
   "execution_count": 312,
   "id": "70b64ac2-63f1-44d5-83db-81c1aedc7b90",
   "metadata": {},
   "outputs": [
    {
     "data": {
      "image/png": "[encoded data removed]",
      "text/plain": [
       "<Figure size 432x288 with 1 Axes>"
      ]
     },
     "metadata": {
      "needs_background": "light"
     },
     "output_type": "display_data"
    }
   ],
   "source": [
    "plt.scatter(new_df['Score'],new_df['review_stars'])\n",
    "plt.show()"
   ]
  },
  {
   "cell_type": "code",
   "execution_count": 301,
   "id": "8a52d28c-5387-4590-bf04-b2f225178758",
   "metadata": {},
   "outputs": [
    {
     "data": {
      "image/png": "[encoded data removed]",
      "text/plain": [
       "<Figure size 432x288 with 1 Axes>"
      ]
     },
     "metadata": {
      "needs_background": "light"
     },
     "output_type": "display_data"
    }
   ],
   "source": [
    "plt.scatter(new_df['Score'],new_df['predicted_score'])\n",
    "plt.show()"
   ]
  },
  {
   "cell_type": "markdown",
   "id": "74208d8e-9299-42ae-bcd1-8ab24d3462be",
   "metadata": {
    "jp-MarkdownHeadingCollapsed": true,
    "tags": []
   },
   "source": [
    "## whole thing"
   ]
  },
  {
   "cell_type": "code",
   "execution_count": 322,
   "id": "0614bd7e-15b7-4adc-a16e-0afa41fb0eaa",
   "metadata": {},
   "outputs": [],
   "source": [
    "business_id = 'NRPemqVb4qpWFF0Avq_6OQ'"
   ]
  },
  {
   "cell_type": "code",
   "execution_count": 7,
   "id": "26114216-4fbd-4dbf-a268-e322785254c1",
   "metadata": {},
   "outputs": [],
   "source": [
    "yelp_api = YelpAPI(api_key, timeout_s=3.0)"
   ]
  },
  {
   "cell_type": "code",
   "execution_count": 323,
   "id": "2a7442c9-9a84-4f00-b923-24b35ff573f6",
   "metadata": {},
   "outputs": [],
   "source": [
    "response = yelp_api.reviews_query(id=business_id)"
   ]
  },
  {
   "cell_type": "code",
   "execution_count": 331,
   "id": "58efb59b-e445-46c5-b8d7-b7976c562288",
   "metadata": {},
   "outputs": [
    {
     "data": {
      "text/plain": [
       "\"I've been going here for years - in person or curbside. Always big portions, hot food, and delicious! \\n\\nThey have a special on wine once a week, which I'm...\""
      ]
     },
     "execution_count": 331,
     "metadata": {},
     "output_type": "execute_result"
    }
   ],
   "source": [
    "response['reviews'][0]['text']"
   ]
  },
  {
   "cell_type": "code",
   "execution_count": 11,
   "id": "223f9f36-b256-47e9-93b3-9b6f1adbecf3",
   "metadata": {},
   "outputs": [],
   "source": [
    "name = 'Pacific Star Restaurant and Oyster Bar'\n",
    "address = '351 W Palm Valley Blvd'"
   ]
  },
  {
   "cell_type": "code",
   "execution_count": 12,
   "id": "7fdae305-b869-493a-bcaa-3c8c6d51ceef",
   "metadata": {},
   "outputs": [],
   "source": [
    "response = yelp_api.business_match_query(name=name,\n",
    "                                         address1=address,\n",
    "                                         city='Austin',\n",
    "                                         state='TX',\n",
    "                                         country='US')"
   ]
  },
  {
   "cell_type": "code",
   "execution_count": 16,
   "id": "4a402a96-d4ab-4b48-a803-419116ef66ba",
   "metadata": {},
   "outputs": [
    {
     "data": {
      "text/plain": [
       "{'businesses': [{'id': 'ZgOkZRqPqkGKhjSEXwIWFg',\n",
       "   'alias': 'pacific-star-restaurant-and-oyster-bar-round-rock-3',\n",
       "   'name': 'Pacific Star Restaurant & Oyster Bar',\n",
       "   'coordinates': {'latitude': 30.51756, 'longitude': -97.68379},\n",
       "   'location': {'address1': '351 W Palm Valley Blvd',\n",
       "    'address2': '',\n",
       "    'address3': '',\n",
       "    'city': 'Round Rock',\n",
       "    'zip_code': '78664',\n",
       "    'country': 'US',\n",
       "    'state': 'TX',\n",
       "    'display_address': ['351 W Palm Valley Blvd', 'Round Rock, TX 78664']},\n",
       "   'phone': '+15122553535',\n",
       "   'display_phone': '(512) 255-3535'}]}"
      ]
     },
     "execution_count": 16,
     "metadata": {},
     "output_type": "execute_result"
    }
   ],
   "source": [
    "response"
   ]
  },
  {
   "cell_type": "code",
   "execution_count": null,
   "id": "df66b864-cf24-4292-8c10-b42af41fa8fc",
   "metadata": {},
   "outputs": [],
   "source": []
  },
  {
   "cell_type": "code",
   "execution_count": 32,
   "id": "40fce60a-7093-44c7-a8c4-45a82f393601",
   "metadata": {},
   "outputs": [
    {
     "name": "stdout",
     "output_type": "stream",
     "text": [
      "Business found: Pacific Star Restaurant & Oyster Bar\n"
     ]
    }
   ],
   "source": [
    "response_name = response['businesses'][0]['name']\n",
    "print(f'Business found: {response_name}')\n",
    "bid = response['businesses'][0]['id']\n",
    "# yelp API doesn't give review full text yet\n",
    "# reviews = yelp_api.reviews_query(id=bid)\n",
    "reviews = df[df['business_id'] == bid]"
   ]
  },
  {
   "cell_type": "code",
   "execution_count": null,
   "id": "5e9bab54-0a27-422d-9d7c-3012e82447a5",
   "metadata": {},
   "outputs": [],
   "source": []
  },
  {
   "cell_type": "code",
   "execution_count": 33,
   "id": "479c83e8-1f63-489f-ab38-a5491e0c62a7",
   "metadata": {},
   "outputs": [
    {
     "data": {
      "text/html": [
       "<div>\n",
       "<style scoped>\n",
       "    .dataframe tbody tr th:only-of-type {\n",
       "        vertical-align: middle;\n",
       "    }\n",
       "\n",
       "    .dataframe tbody tr th {\n",
       "        vertical-align: top;\n",
       "    }\n",
       "\n",
       "    .dataframe thead th {\n",
       "        text-align: right;\n",
       "    }\n",
       "</style>\n",
       "<table border=\"1\" class=\"dataframe\">\n",
       "  <thead>\n",
       "    <tr style=\"text-align: right;\">\n",
       "      <th></th>\n",
       "      <th>business_id</th>\n",
       "      <th>review_id</th>\n",
       "      <th>text</th>\n",
       "      <th>date</th>\n",
       "      <th>review_stars</th>\n",
       "      <th>Score</th>\n",
       "      <th>stars</th>\n",
       "    </tr>\n",
       "  </thead>\n",
       "  <tbody>\n",
       "  </tbody>\n",
       "</table>\n",
       "</div>"
      ],
      "text/plain": [
       "Empty DataFrame\n",
       "Columns: [business_id, review_id, text, date, review_stars, Score, stars]\n",
       "Index: []"
      ]
     },
     "execution_count": 33,
     "metadata": {},
     "output_type": "execute_result"
    }
   ],
   "source": [
    "reviews"
   ]
  },
  {
   "cell_type": "code",
   "execution_count": 27,
   "id": "7abee99d-5821-4cd7-8690-c8717c0139c1",
   "metadata": {},
   "outputs": [
    {
     "data": {
      "text/html": [
       "<div>\n",
       "<style scoped>\n",
       "    .dataframe tbody tr th:only-of-type {\n",
       "        vertical-align: middle;\n",
       "    }\n",
       "\n",
       "    .dataframe tbody tr th {\n",
       "        vertical-align: top;\n",
       "    }\n",
       "\n",
       "    .dataframe thead th {\n",
       "        text-align: right;\n",
       "    }\n",
       "</style>\n",
       "<table border=\"1\" class=\"dataframe\">\n",
       "  <thead>\n",
       "    <tr style=\"text-align: right;\">\n",
       "      <th></th>\n",
       "      <th>business_id</th>\n",
       "      <th>review_id</th>\n",
       "      <th>text</th>\n",
       "      <th>date</th>\n",
       "      <th>review_stars</th>\n",
       "      <th>Score</th>\n",
       "      <th>stars</th>\n",
       "    </tr>\n",
       "  </thead>\n",
       "  <tbody>\n",
       "  </tbody>\n",
       "</table>\n",
       "</div>"
      ],
      "text/plain": [
       "Empty DataFrame\n",
       "Columns: [business_id, review_id, text, date, review_stars, Score, stars]\n",
       "Index: []"
      ]
     },
     "execution_count": 27,
     "metadata": {},
     "output_type": "execute_result"
    }
   ],
   "source": [
    "df[df.business_id == bid]"
   ]
  },
  {
   "cell_type": "markdown",
   "id": "6c9114c4-a3f7-4a17-9e8d-523bd4a7ed17",
   "metadata": {
    "tags": []
   },
   "source": [
    "## word2vec"
   ]
  },
  {
   "cell_type": "code",
   "execution_count": 163,
   "id": "467eaebc-0338-48a3-8df4-40b2045087d7",
   "metadata": {},
   "outputs": [],
   "source": [
    "df = pd.read_csv(processed_data_directory + 'reviews_nearest_score_no_limit_df.csv')\n",
    "# df = pd.read_csv(processed_data_directory + 'reviews_nearest_score_2_years_df.csv')"
   ]
  },
  {
   "cell_type": "code",
   "execution_count": 162,
   "id": "84085595-a5e8-49d6-8f8e-5ffc0ed5121a",
   "metadata": {},
   "outputs": [
    {
     "name": "stdout",
     "output_type": "stream",
     "text": [
      "4184/570613 (0.7332465261043825%) are fractional scores\n"
     ]
    }
   ],
   "source": [
    "reviews = np.array(df['text'])\n",
    "scores = np.array(df['Score'])\n",
    "cutoff = -1\n",
    "X, y = reviews[:cutoff], scores[:cutoff]\n",
    "# round\n",
    "roundby = 1\n",
    "y = np.array(list(map(lambda x: math.ceil(x / roundby) * roundby,y)))"
   ]
  },
  {
   "cell_type": "code",
   "execution_count": null,
   "id": "44206e19-bfcf-4606-af3e-64687803d1bf",
   "metadata": {},
   "outputs": [],
   "source": []
  },
  {
   "cell_type": "markdown",
   "id": "4e76c454-c754-4123-96cd-1131fe345cb6",
   "metadata": {},
   "source": [
    "# other feature engineering"
   ]
  },
  {
   "cell_type": "markdown",
   "id": "a0af2a8c-cef0-4086-9b86-9e78b9932571",
   "metadata": {
    "tags": []
   },
   "source": [
    "## sentiment analysis"
   ]
  },
  {
   "cell_type": "markdown",
   "id": "0bf09528-207d-4f2f-8b4f-5d39513c1fd8",
   "metadata": {},
   "source": [
    "Let's see if running existing sentiment analysis functions can help us at all. In the long run, we want to make a custom sentiment analysis specifically for cleanliness, but we don't have the data to train that on."
   ]
  },
  {
   "cell_type": "code",
   "execution_count": 176,
   "id": "1a4bddca-0f24-42d2-afdc-37c07d6764f8",
   "metadata": {},
   "outputs": [
    {
     "name": "stderr",
     "output_type": "stream",
     "text": [
      "[nltk_data] Downloading package averaged_perceptron_tagger to\n",
      "[nltk_data]     C:\\Users\\ASUS\\AppData\\Roaming\\nltk_data...\n",
      "[nltk_data]   Package averaged_perceptron_tagger is already up-to-\n",
      "[nltk_data]       date!\n",
      "[nltk_data] Downloading package punkt to\n",
      "[nltk_data]     C:\\Users\\ASUS\\AppData\\Roaming\\nltk_data...\n",
      "[nltk_data]   Package punkt is already up-to-date!\n",
      "[nltk_data] Downloading package vader_lexicon to\n",
      "[nltk_data]     C:\\Users\\ASUS\\AppData\\Roaming\\nltk_data...\n",
      "[nltk_data]   Package vader_lexicon is already up-to-date!\n"
     ]
    }
   ],
   "source": [
    "from spacytextblob.spacytextblob import SpacyTextBlob\n",
    "nlp = spacy.load('en_core_web_sm')\n",
    "nlp.add_pipe('spacytextblob')\n",
    "\n",
    "import nltk\n",
    "nltk.download(['averaged_perceptron_tagger', 'punkt', 'vader_lexicon'])\n",
    "from nltk.sentiment import SentimentIntensityAnalyzer\n",
    "sia = SentimentIntensityAnalyzer()\n",
    "\n",
    "from textblob import TextBlob\n",
    "\n",
    "def sentiment_analysis_spacy(text):\n",
    "    return (nlp(text))._.blob.polarity\n",
    "def sentiment_analysis_nltk(text):\n",
    "    return sia.polarity_scores(text)['compound']\n",
    "def sentiment_analysis_tb(text):\n",
    "    return TextBlob(text).sentiment.polarity"
   ]
  },
  {
   "cell_type": "markdown",
   "id": "c1ea0192-9143-4eca-849c-696f4d8b497f",
   "metadata": {},
   "source": [
    "Here are some reviews I got from a gross restaurant: https://www.yelp.com/biz/pacific-star-restaurant-and-oyster-bar-round-rock-3\n",
    "\n",
    "I expect the bad reviews to be rated pretty lowly. I don't really care about the analysis on the good reviews."
   ]
  },
  {
   "cell_type": "code",
   "execution_count": 177,
   "id": "56bed471-c192-4864-a719-ce2428e9f566",
   "metadata": {},
   "outputs": [],
   "source": [
    "good_reviews = [r\"They have some of the best seafood I've ever eaten here in Austin. I usually always order the same thing, but it never fails to be delicious. Their employees are all very nice too. They're clean, and the service is always quick, while never feeling rushed.\",\n",
    "                r\"We ordered the shrimp and oyster platter, broiled snapper plate and oysters diablos. Everything was delish but them oysters diablos were the bomb.com. We recommend ordering them every time. Service was good. The restaurant was clean.\",\n",
    "                r\"Great food, great service, great prices! It's hard to believe it's the same place that some of the negative reviews are referring to. Seafood is always fresh and the beer is always cold!\",\n",
    "                r\"Was undecided about going based on some reviews but decided to give it a try and so glad we did. Seafood was made to order and came out hot and fresh.  Service was very good. Food was very good. Price was very reasonable. I recommend and will be back.\",\n",
    "                r\"Very good food.  We had the shrimp poboy and there was shrimp in every bite.  The bun was freshly baked which only enhanced the taste.  The gumbo was delicious too.  The atmosphere is warm and friendly and the people are super friendly.  All in all, a positive dining experience.  I will return.\",\n",
    "                r\"The interior was very clean and had yummy aromas circulating.  I can definitely see why there is a 'sports-bar' vibe mentioned in some of the reviews.  Two TVs going, both with sports, lots of men with beer sitting around the central bar.  I think i was the only female in the place. The daily special was grilled flounder with a crab-shrimp brandy cream sauce.  Very, very tasty.  My son ordered this, and i swiped a bite of the fish, and two bites of the most excellent grilled veggies on the side.  Large platter, fitting the price.  I'd eat a veggie plate, if the grilled squash/onions/zucchini/mushrooms were the star!\",\n",
    "                r\"Amazing! Very fresh, and they tasted good too. I did douse them with lemon, a little seafood sauce, and Tabasco sauce though.  I also washed them down with my ice cold beer!  If you an get past the texture, you'll be ok. There was no shortage of saltine crackers. I did see someone with a large shrimp cocktail that I would like to try next time. Overall a very good experience. When my raw oyster on the half shell craving returns, I will be back to this place to satisfy it.\"\n",
    "               ]"
   ]
  },
  {
   "cell_type": "code",
   "execution_count": 194,
   "id": "8e044248-e769-435f-9e97-4b8e2388ef03",
   "metadata": {},
   "outputs": [],
   "source": [
    "bad_reviews = [r\"This place was absolutely disgusting. We considered turning around as soon as we walked in as it had an odd vibe, unpleasant smell and almost no customers. BUT I've been to my fair share of decent dive type spots so we decided we'd stick around and give it a chance. The sweet tea was great, but all of the food was inedible. Clearly frozen calamari tasted like fried rubber bands with several of the pieces looking questionable and moldy. The fried catfish looked like cafeteria/hospital food. It too was obviously just frozen (freezer burned) catfish they threw in the fryer along with kindergarten crinkle fries and crunchy hush puppies. I honestly couldn't even eat my food both because it was gross and in fear of getting sick. I forced myself to throw up as soon as I got home and I wish I was kidding. The worst part is that the bill was $40 for two entrees and and appetizer which is absolutely insane considering the quality of what they put in front of us. I wish I'd gone to Long John Silvers on my way in the parking lot instead. I absolutely do not recommend this place whatsoever.\",\n",
    "               r\"Horrible service, dirty facility; I gave them 2 stars because the catfish nuggets were pretty good and the wine was cold. When asking for the check; our server asked my husband to write down everything we ordered so he could create a receipt; I'm still confused by this because no one else at our table had to do that. Weird anyway; I'll never go back there.\",\n",
    "               r\"We came on a Friday evening and parking lot was full so it seemed promising however we were clearly mistaken. The dining room is fairly small and we were able to snag a table by the entrance. The table had not wiped down so there was still water rings and food crumbs from the previous person. We wiped down the table ourselves and waited for our server. 10 mins later no one came by the table. No one even looked in our direction. Was this a walk up to the bar and order yourself place? Who knows. There was what appeared to be a waitress offering menus to other tables. We left without even having anything so we can't comment on the food but unfortunately we won't be returning.\",\n",
    "               r\"Literally the most disgusting restaurant experience I've ever had. First of all our server did NOT wear a mask. She was rude as hell and downright didn't even know the menu. The food that came out was over cooked flounder that we didn't even eat. Actually spit the food into my napkin. Wouldn't wish this place on my worst enemy.\",\n",
    "               r\"Let me start w ordering. I ordered online. Got to the place to pick up my food then bam... my order wasn't ready. They couldn't even find my order. They thought I placed it for another location. Had to show from my phone I placed to round rock location. The guy had to call someone to get my online order. Had to wait an extra 30 min. Place was crowded and big groups of families in there. The food was ok. I wasn't that impressed. I got it to go bc I don't eat in restaurants due to Covid. So by the time I made it home it tasted old. Kind of stale. Like the grease the food was fried in was not fresh. Can't say I'll be back\",\n",
    "               r\"Expected more. Seemed dingy. Not very clean overall. Service was not up to par. They seemed to be more focus on serving those at the bar then at the tables. Our table was dirty, sticky. Menu was disgusting to the touch. The food was okay. Will not go again.\",\n",
    "               r\"Oysters on the half were good, kinda hard to mess them up. Wife ordered broiled rainbow trout, the fish was spoiled! You could smell it once the waitress set it on the table, so either their cook has no sense of smell or they just dont care if they make someone sick. The wait staff spends more time at the bar playing on their phones than they do waiting on customers. They did wear mask but there was no social distance between tables or at the bar. Speaking of the bar, it's very loud to the point you cannot have a conversation at your table. We will definitely never go back to this place and I would not recommend it anyone else  either.\",\n",
    "               r\"They failed health inspection with a score of 37 on December 10th, 2019. Report stated too many cockroaches to count and had rat feces in the dish area\",\n",
    "               r\"I came here on Friday night with my family for dinner, this place is severely understaffed. And for that reason I can't find it in me to come back. All the waitstaff is running around stressing out and it shows in the quality of the food and service. It look 10 min to get greeted and welcomed, we ordered a app which came out after the food. My boyfriend ordered the crawfish that had a awful taste and smell, I ordered a shrimp salad which came with brown slimy lettuce a half of a slice of tomato and ranch dressing for 12.99 the menu said it was supposed to include more veggies so i asked for the side i was brought that and then noticed how old the lettuce was. My sisters crab cakes tasted old and no flavor whatsoever. My son ordered the chicken tenders and fries as my 2 year old is eating his food we notice a long hair inside of his food we then decided to take our complaints to the manger which told us that they are understaffed and extremely busy..... I really hope the owner of this establishment can do what needs to be done to get this place in the right track. I'm giving 2 starts for potential but I won't be back... your better off going to razzoos down the street\"\n",
    "              ]"
   ]
  },
  {
   "cell_type": "code",
   "execution_count": 195,
   "id": "3325e4cf-0781-48a2-b3d0-c48a186eb9d4",
   "metadata": {},
   "outputs": [
    {
     "data": {
      "text/html": [
       "<style type=\"text/css\">\n",
       "#T_f8622_row0_col0, #T_f8622_row0_col2, #T_f8622_row1_col0, #T_f8622_row1_col1, #T_f8622_row1_col2, #T_f8622_row2_col0, #T_f8622_row2_col1, #T_f8622_row2_col2, #T_f8622_row3_col0, #T_f8622_row3_col1, #T_f8622_row3_col2, #T_f8622_row4_col1, #T_f8622_row5_col0, #T_f8622_row5_col1, #T_f8622_row5_col2, #T_f8622_row6_col0, #T_f8622_row6_col1, #T_f8622_row6_col2, #T_f8622_row7_col1, #T_f8622_row8_col0, #T_f8622_row8_col2 {\n",
       "  color: red;\n",
       "}\n",
       "#T_f8622_row0_col1, #T_f8622_row4_col0, #T_f8622_row4_col2, #T_f8622_row7_col0, #T_f8622_row7_col2, #T_f8622_row8_col1 {\n",
       "  color: white;\n",
       "}\n",
       "</style>\n",
       "<table id=\"T_f8622\">\n",
       "  <thead>\n",
       "    <tr>\n",
       "      <th class=\"blank level0\" >&nbsp;</th>\n",
       "      <th id=\"T_f8622_level0_col0\" class=\"col_heading level0 col0\" >spacy</th>\n",
       "      <th id=\"T_f8622_level0_col1\" class=\"col_heading level0 col1\" >nltk</th>\n",
       "      <th id=\"T_f8622_level0_col2\" class=\"col_heading level0 col2\" >textblob</th>\n",
       "    </tr>\n",
       "  </thead>\n",
       "  <tbody>\n",
       "    <tr>\n",
       "      <th id=\"T_f8622_level0_row0\" class=\"row_heading level0 row0\" >0</th>\n",
       "      <td id=\"T_f8622_row0_col0\" class=\"data row0 col0\" >-0.145489</td>\n",
       "      <td id=\"T_f8622_row0_col1\" class=\"data row0 col1\" >0.190100</td>\n",
       "      <td id=\"T_f8622_row0_col2\" class=\"data row0 col2\" >-0.145489</td>\n",
       "    </tr>\n",
       "    <tr>\n",
       "      <th id=\"T_f8622_level0_row1\" class=\"row_heading level0 row1\" >1</th>\n",
       "      <td id=\"T_f8622_row1_col0\" class=\"data row1 col0\" >-0.256173</td>\n",
       "      <td id=\"T_f8622_row1_col1\" class=\"data row1 col1\" >-0.483000</td>\n",
       "      <td id=\"T_f8622_row1_col2\" class=\"data row1 col2\" >-0.256173</td>\n",
       "    </tr>\n",
       "    <tr>\n",
       "      <th id=\"T_f8622_level0_row2\" class=\"row_heading level0 row2\" >2</th>\n",
       "      <td id=\"T_f8622_row2_col0\" class=\"data row2 col0\" >-0.016898</td>\n",
       "      <td id=\"T_f8622_row2_col1\" class=\"data row2 col1\" >-0.497000</td>\n",
       "      <td id=\"T_f8622_row2_col2\" class=\"data row2 col2\" >-0.016898</td>\n",
       "    </tr>\n",
       "    <tr>\n",
       "      <th id=\"T_f8622_level0_row3\" class=\"row_heading level0 row3\" >3</th>\n",
       "      <td id=\"T_f8622_row3_col0\" class=\"data row3 col0\" >-0.258333</td>\n",
       "      <td id=\"T_f8622_row3_col1\" class=\"data row3 col1\" >-0.968800</td>\n",
       "      <td id=\"T_f8622_row3_col2\" class=\"data row3 col2\" >-0.258333</td>\n",
       "    </tr>\n",
       "    <tr>\n",
       "      <th id=\"T_f8622_level0_row4\" class=\"row_heading level0 row4\" >4</th>\n",
       "      <td id=\"T_f8622_row4_col0\" class=\"data row4 col0\" >0.118750</td>\n",
       "      <td id=\"T_f8622_row4_col1\" class=\"data row4 col1\" >-0.232500</td>\n",
       "      <td id=\"T_f8622_row4_col2\" class=\"data row4 col2\" >0.118750</td>\n",
       "    </tr>\n",
       "    <tr>\n",
       "      <th id=\"T_f8622_level0_row5\" class=\"row_heading level0 row5\" >5</th>\n",
       "      <td id=\"T_f8622_row5_col0\" class=\"data row5 col0\" >-0.042628</td>\n",
       "      <td id=\"T_f8622_row5_col1\" class=\"data row5 col1\" >-0.783000</td>\n",
       "      <td id=\"T_f8622_row5_col2\" class=\"data row5 col2\" >-0.042628</td>\n",
       "    </tr>\n",
       "    <tr>\n",
       "      <th id=\"T_f8622_level0_row6\" class=\"row_heading level0 row6\" >6</th>\n",
       "      <td id=\"T_f8622_row6_col0\" class=\"data row6 col0\" >-0.008671</td>\n",
       "      <td id=\"T_f8622_row6_col1\" class=\"data row6 col1\" >-0.624000</td>\n",
       "      <td id=\"T_f8622_row6_col2\" class=\"data row6 col2\" >-0.008671</td>\n",
       "    </tr>\n",
       "    <tr>\n",
       "      <th id=\"T_f8622_level0_row7\" class=\"row_heading level0 row7\" >7</th>\n",
       "      <td id=\"T_f8622_row7_col0\" class=\"data row7 col0\" >0.000000</td>\n",
       "      <td id=\"T_f8622_row7_col1\" class=\"data row7 col1\" >-0.510600</td>\n",
       "      <td id=\"T_f8622_row7_col2\" class=\"data row7 col2\" >0.000000</td>\n",
       "    </tr>\n",
       "    <tr>\n",
       "      <th id=\"T_f8622_level0_row8\" class=\"row_heading level0 row8\" >8</th>\n",
       "      <td id=\"T_f8622_row8_col0\" class=\"data row8 col0\" >-0.005407</td>\n",
       "      <td id=\"T_f8622_row8_col1\" class=\"data row8 col1\" >0.481600</td>\n",
       "      <td id=\"T_f8622_row8_col2\" class=\"data row8 col2\" >-0.005407</td>\n",
       "    </tr>\n",
       "  </tbody>\n",
       "</table>\n"
      ],
      "text/plain": [
       "<pandas.io.formats.style.Styler at 0x2066ac21eb0>"
      ]
     },
     "execution_count": 195,
     "metadata": {},
     "output_type": "execute_result"
    }
   ],
   "source": [
    "bad_review_df = pd.DataFrame({\n",
    "    'spacy':list(map(sentiment_analysis_spacy, bad_reviews)),\n",
    "    'nltk':list(map(sentiment_analysis_nltk, bad_reviews)),\n",
    "    'textblob':list(map(sentiment_analysis_tb, bad_reviews))\n",
    "})\n",
    "# function to highlight negative values\n",
    "def highlight_sign(s):\n",
    "    if s.dtype == object:\n",
    "        is_neg = [False for _ in range(s.shape[0])]\n",
    "    else:\n",
    "        is_neg = s < 0\n",
    "    return ['color: red;' if cell else 'color:white' \n",
    "            for cell in is_neg]\n",
    "bad_review_df.style.apply(highlight_sign)"
   ]
  },
  {
   "cell_type": "code",
   "execution_count": 189,
   "id": "462879d3-5133-40ca-bde7-5763f4c2a389",
   "metadata": {},
   "outputs": [
    {
     "data": {
      "text/html": [
       "<style type=\"text/css\">\n",
       "#T_a6a15_row0_col0, #T_a6a15_row0_col2, #T_a6a15_row1_col0, #T_a6a15_row1_col1, #T_a6a15_row1_col2, #T_a6a15_row2_col0, #T_a6a15_row2_col1, #T_a6a15_row2_col2, #T_a6a15_row3_col0, #T_a6a15_row3_col1, #T_a6a15_row3_col2, #T_a6a15_row4_col1, #T_a6a15_row5_col0, #T_a6a15_row5_col1, #T_a6a15_row5_col2, #T_a6a15_row6_col0, #T_a6a15_row6_col1, #T_a6a15_row6_col2, #T_a6a15_row7_col1, #T_a6a15_row8_col0, #T_a6a15_row8_col2 {\n",
       "  color: red;\n",
       "}\n",
       "#T_a6a15_row0_col1, #T_a6a15_row4_col0, #T_a6a15_row4_col2, #T_a6a15_row7_col0, #T_a6a15_row7_col2, #T_a6a15_row8_col1 {\n",
       "  color: white;\n",
       "}\n",
       "</style>\n",
       "<table id=\"T_a6a15\">\n",
       "  <thead>\n",
       "    <tr>\n",
       "      <th class=\"blank level0\" >&nbsp;</th>\n",
       "      <th id=\"T_a6a15_level0_col0\" class=\"col_heading level0 col0\" >spacy</th>\n",
       "      <th id=\"T_a6a15_level0_col1\" class=\"col_heading level0 col1\" >nltk</th>\n",
       "      <th id=\"T_a6a15_level0_col2\" class=\"col_heading level0 col2\" >textblob</th>\n",
       "    </tr>\n",
       "  </thead>\n",
       "  <tbody>\n",
       "    <tr>\n",
       "      <th id=\"T_a6a15_level0_row0\" class=\"row_heading level0 row0\" >0</th>\n",
       "      <td id=\"T_a6a15_row0_col0\" class=\"data row0 col0\" >-0.145489</td>\n",
       "      <td id=\"T_a6a15_row0_col1\" class=\"data row0 col1\" >0.190100</td>\n",
       "      <td id=\"T_a6a15_row0_col2\" class=\"data row0 col2\" >-0.145489</td>\n",
       "    </tr>\n",
       "    <tr>\n",
       "      <th id=\"T_a6a15_level0_row1\" class=\"row_heading level0 row1\" >1</th>\n",
       "      <td id=\"T_a6a15_row1_col0\" class=\"data row1 col0\" >-0.256173</td>\n",
       "      <td id=\"T_a6a15_row1_col1\" class=\"data row1 col1\" >-0.483000</td>\n",
       "      <td id=\"T_a6a15_row1_col2\" class=\"data row1 col2\" >-0.256173</td>\n",
       "    </tr>\n",
       "    <tr>\n",
       "      <th id=\"T_a6a15_level0_row2\" class=\"row_heading level0 row2\" >2</th>\n",
       "      <td id=\"T_a6a15_row2_col0\" class=\"data row2 col0\" >-0.016898</td>\n",
       "      <td id=\"T_a6a15_row2_col1\" class=\"data row2 col1\" >-0.497000</td>\n",
       "      <td id=\"T_a6a15_row2_col2\" class=\"data row2 col2\" >-0.016898</td>\n",
       "    </tr>\n",
       "    <tr>\n",
       "      <th id=\"T_a6a15_level0_row3\" class=\"row_heading level0 row3\" >3</th>\n",
       "      <td id=\"T_a6a15_row3_col0\" class=\"data row3 col0\" >-0.258333</td>\n",
       "      <td id=\"T_a6a15_row3_col1\" class=\"data row3 col1\" >-0.968800</td>\n",
       "      <td id=\"T_a6a15_row3_col2\" class=\"data row3 col2\" >-0.258333</td>\n",
       "    </tr>\n",
       "    <tr>\n",
       "      <th id=\"T_a6a15_level0_row4\" class=\"row_heading level0 row4\" >4</th>\n",
       "      <td id=\"T_a6a15_row4_col0\" class=\"data row4 col0\" >0.118750</td>\n",
       "      <td id=\"T_a6a15_row4_col1\" class=\"data row4 col1\" >-0.232500</td>\n",
       "      <td id=\"T_a6a15_row4_col2\" class=\"data row4 col2\" >0.118750</td>\n",
       "    </tr>\n",
       "    <tr>\n",
       "      <th id=\"T_a6a15_level0_row5\" class=\"row_heading level0 row5\" >5</th>\n",
       "      <td id=\"T_a6a15_row5_col0\" class=\"data row5 col0\" >-0.042628</td>\n",
       "      <td id=\"T_a6a15_row5_col1\" class=\"data row5 col1\" >-0.783000</td>\n",
       "      <td id=\"T_a6a15_row5_col2\" class=\"data row5 col2\" >-0.042628</td>\n",
       "    </tr>\n",
       "    <tr>\n",
       "      <th id=\"T_a6a15_level0_row6\" class=\"row_heading level0 row6\" >6</th>\n",
       "      <td id=\"T_a6a15_row6_col0\" class=\"data row6 col0\" >-0.008671</td>\n",
       "      <td id=\"T_a6a15_row6_col1\" class=\"data row6 col1\" >-0.624000</td>\n",
       "      <td id=\"T_a6a15_row6_col2\" class=\"data row6 col2\" >-0.008671</td>\n",
       "    </tr>\n",
       "    <tr>\n",
       "      <th id=\"T_a6a15_level0_row7\" class=\"row_heading level0 row7\" >7</th>\n",
       "      <td id=\"T_a6a15_row7_col0\" class=\"data row7 col0\" >0.000000</td>\n",
       "      <td id=\"T_a6a15_row7_col1\" class=\"data row7 col1\" >-0.510600</td>\n",
       "      <td id=\"T_a6a15_row7_col2\" class=\"data row7 col2\" >0.000000</td>\n",
       "    </tr>\n",
       "    <tr>\n",
       "      <th id=\"T_a6a15_level0_row8\" class=\"row_heading level0 row8\" >8</th>\n",
       "      <td id=\"T_a6a15_row8_col0\" class=\"data row8 col0\" >-0.081451</td>\n",
       "      <td id=\"T_a6a15_row8_col1\" class=\"data row8 col1\" >0.435700</td>\n",
       "      <td id=\"T_a6a15_row8_col2\" class=\"data row8 col2\" >-0.081451</td>\n",
       "    </tr>\n",
       "  </tbody>\n",
       "</table>\n"
      ],
      "text/plain": [
       "<pandas.io.formats.style.Styler at 0x206684f4b20>"
      ]
     },
     "execution_count": 189,
     "metadata": {},
     "output_type": "execute_result"
    }
   ],
   "source": [
    "bad_review_df = pd.DataFrame({\n",
    "    'spacy':list(map(sentiment_analysis_spacy, bad_reviews)),\n",
    "    'nltk':list(map(sentiment_analysis_nltk, bad_reviews)),\n",
    "    'textblob':list(map(sentiment_analysis_tb, bad_reviews))\n",
    "})\n",
    "# function to highlight negative values\n",
    "def highlight_sign(s):\n",
    "    if s.dtype == object:\n",
    "        is_neg = [False for _ in range(s.shape[0])]\n",
    "    else:\n",
    "        is_neg = s < 0\n",
    "    return ['color: red;' if cell else 'color:white' \n",
    "            for cell in is_neg]\n",
    "bad_review_df.style.apply(highlight_sign)"
   ]
  },
  {
   "cell_type": "code",
   "execution_count": 185,
   "id": "76dd61cb-a59b-4825-be13-e50472fb7a89",
   "metadata": {},
   "outputs": [
    {
     "data": {
      "text/html": [
       "<style type=\"text/css\">\n",
       "#T_62eb3_row0_col0, #T_62eb3_row0_col1, #T_62eb3_row0_col2, #T_62eb3_row1_col0, #T_62eb3_row1_col1, #T_62eb3_row1_col2, #T_62eb3_row2_col0, #T_62eb3_row2_col1, #T_62eb3_row2_col2, #T_62eb3_row3_col0, #T_62eb3_row3_col1, #T_62eb3_row3_col2, #T_62eb3_row4_col0, #T_62eb3_row4_col1, #T_62eb3_row4_col2, #T_62eb3_row5_col0, #T_62eb3_row5_col1, #T_62eb3_row5_col2, #T_62eb3_row6_col0, #T_62eb3_row6_col1, #T_62eb3_row6_col2 {\n",
       "  color: white;\n",
       "}\n",
       "</style>\n",
       "<table id=\"T_62eb3\">\n",
       "  <thead>\n",
       "    <tr>\n",
       "      <th class=\"blank level0\" >&nbsp;</th>\n",
       "      <th id=\"T_62eb3_level0_col0\" class=\"col_heading level0 col0\" >spacy</th>\n",
       "      <th id=\"T_62eb3_level0_col1\" class=\"col_heading level0 col1\" >nltk</th>\n",
       "      <th id=\"T_62eb3_level0_col2\" class=\"col_heading level0 col2\" >textblob</th>\n",
       "    </tr>\n",
       "  </thead>\n",
       "  <tbody>\n",
       "    <tr>\n",
       "      <th id=\"T_62eb3_level0_row0\" class=\"row_heading level0 row0\" >0</th>\n",
       "      <td id=\"T_62eb3_row0_col0\" class=\"data row0 col0\" >0.435000</td>\n",
       "      <td id=\"T_62eb3_row0_col1\" class=\"data row0 col1\" >0.957000</td>\n",
       "      <td id=\"T_62eb3_row0_col2\" class=\"data row0 col2\" >0.435000</td>\n",
       "    </tr>\n",
       "    <tr>\n",
       "      <th id=\"T_62eb3_level0_row1\" class=\"row_heading level0 row1\" >1</th>\n",
       "      <td id=\"T_62eb3_row1_col0\" class=\"data row1 col0\" >0.533333</td>\n",
       "      <td id=\"T_62eb3_row1_col1\" class=\"data row1 col1\" >0.892200</td>\n",
       "      <td id=\"T_62eb3_row1_col2\" class=\"data row1 col2\" >0.533333</td>\n",
       "    </tr>\n",
       "    <tr>\n",
       "      <th id=\"T_62eb3_level0_row2\" class=\"row_heading level0 row2\" >2</th>\n",
       "      <td id=\"T_62eb3_row2_col0\" class=\"data row2 col0\" >0.194792</td>\n",
       "      <td id=\"T_62eb3_row2_col1\" class=\"data row2 col1\" >0.901800</td>\n",
       "      <td id=\"T_62eb3_row2_col2\" class=\"data row2 col2\" >0.194792</td>\n",
       "    </tr>\n",
       "    <tr>\n",
       "      <th id=\"T_62eb3_level0_row3\" class=\"row_heading level0 row3\" >3</th>\n",
       "      <td id=\"T_62eb3_row3_col0\" class=\"data row3 col0\" >0.447143</td>\n",
       "      <td id=\"T_62eb3_row3_col1\" class=\"data row3 col1\" >0.968400</td>\n",
       "      <td id=\"T_62eb3_row3_col2\" class=\"data row3 col2\" >0.447143</td>\n",
       "    </tr>\n",
       "    <tr>\n",
       "      <th id=\"T_62eb3_level0_row4\" class=\"row_heading level0 row4\" >4</th>\n",
       "      <td id=\"T_62eb3_row4_col0\" class=\"data row4 col0\" >0.457845</td>\n",
       "      <td id=\"T_62eb3_row4_col1\" class=\"data row4 col1\" >0.970900</td>\n",
       "      <td id=\"T_62eb3_row4_col2\" class=\"data row4 col2\" >0.457845</td>\n",
       "    </tr>\n",
       "    <tr>\n",
       "      <th id=\"T_62eb3_level0_row5\" class=\"row_heading level0 row5\" >5</th>\n",
       "      <td id=\"T_62eb3_row5_col0\" class=\"data row5 col0\" >0.286091</td>\n",
       "      <td id=\"T_62eb3_row5_col1\" class=\"data row5 col1\" >0.944000</td>\n",
       "      <td id=\"T_62eb3_row5_col2\" class=\"data row5 col2\" >0.286091</td>\n",
       "    </tr>\n",
       "    <tr>\n",
       "      <th id=\"T_62eb3_level0_row6\" class=\"row_heading level0 row6\" >6</th>\n",
       "      <td id=\"T_62eb3_row6_col0\" class=\"data row6 col0\" >0.114920</td>\n",
       "      <td id=\"T_62eb3_row6_col1\" class=\"data row6 col1\" >0.945800</td>\n",
       "      <td id=\"T_62eb3_row6_col2\" class=\"data row6 col2\" >0.114920</td>\n",
       "    </tr>\n",
       "  </tbody>\n",
       "</table>\n"
      ],
      "text/plain": [
       "<pandas.io.formats.style.Styler at 0x2066ac25790>"
      ]
     },
     "execution_count": 185,
     "metadata": {},
     "output_type": "execute_result"
    }
   ],
   "source": [
    "good_review_df = pd.DataFrame({\n",
    "    'spacy':list(map(sentiment_analysis_spacy, good_reviews)),\n",
    "    'nltk':list(map(sentiment_analysis_nltk, good_reviews)),\n",
    "    'textblob':list(map(sentiment_analysis_tb, good_reviews))\n",
    "})\n",
    "good_review_df.style.apply(highlight_sign)"
   ]
  },
  {
   "cell_type": "markdown",
   "id": "f4df63ae-609a-4af3-a4a8-6871be45d906",
   "metadata": {},
   "source": [
    "So textblob and spacytextblob are the same thing, but textblob runs a lot faster. nltk and tb give different answers, though, and these are some really negative reviews. It seems that nltk fails on the first/last reviews which are long whereas tb can't tell about reviews 4 and 7 which makes sense, reading them. Going with textblob."
   ]
  },
  {
   "cell_type": "code",
   "execution_count": 198,
   "id": "dc80e637-6a61-43e8-91b3-d952d166548b",
   "metadata": {},
   "outputs": [
    {
     "name": "stdout",
     "output_type": "stream",
     "text": [
      "Wall time: 13.3 s\n"
     ]
    },
    {
     "data": {
      "text/plain": [
       "0       0.298052\n",
       "1       0.466558\n",
       "2       0.790625\n",
       "3       0.409615\n",
       "4       0.461540\n",
       "          ...   \n",
       "9995    0.143333\n",
       "9996    0.052778\n",
       "9997    0.700000\n",
       "9998    0.475000\n",
       "9999    0.550000\n",
       "Name: text, Length: 10000, dtype: float64"
      ]
     },
     "execution_count": 198,
     "metadata": {},
     "output_type": "execute_result"
    }
   ],
   "source": [
    "%%time\n",
    "df['text'][:10000].apply(sentiment_analysis_tb)"
   ]
  },
  {
   "cell_type": "code",
   "execution_count": 202,
   "id": "92063cfd-5f3b-448a-89d8-eedcafc1c1d7",
   "metadata": {},
   "outputs": [
    {
     "name": "stdout",
     "output_type": "stream",
     "text": [
      "running this will take 12.648610333333332 minutes\n"
     ]
    }
   ],
   "source": [
    "print(f\"running this will take {len(df) * 13.3/10000 /60} minutes\")"
   ]
  },
  {
   "cell_type": "code",
   "execution_count": 203,
   "id": "e6f05bff-d848-49f2-922e-9062ea1a68ef",
   "metadata": {},
   "outputs": [],
   "source": [
    "df['sentiment'] = df['text'].apply(sentiment_analysis_tb)"
   ]
  },
  {
   "cell_type": "code",
   "execution_count": null,
   "id": "197cc090-0662-45fa-855f-4304d1567ef6",
   "metadata": {},
   "outputs": [],
   "source": [
    "df['review_stars']"
   ]
  },
  {
   "cell_type": "code",
   "execution_count": 212,
   "id": "64c4c9d7-423c-4147-b439-4c2813108ca6",
   "metadata": {},
   "outputs": [
    {
     "data": {
      "text/plain": [
       "<matplotlib.collections.PathCollection at 0x20664ae3df0>"
      ]
     },
     "execution_count": 212,
     "metadata": {},
     "output_type": "execute_result"
    },
    {
     "data": {
      "image/png": "[encoded data removed]",
      "text/plain": [
       "<Figure size 432x288 with 1 Axes>"
      ]
     },
     "metadata": {
      "needs_background": "light"
     },
     "output_type": "display_data"
    }
   ],
   "source": [
    "plt.scatter(df.sentiment,df.Score)"
   ]
  },
  {
   "cell_type": "code",
   "execution_count": null,
   "id": "f87e5eb6-69a9-4007-bd9b-3f145f5fe7f1",
   "metadata": {},
   "outputs": [],
   "source": []
  },
  {
   "cell_type": "code",
   "execution_count": 296,
   "id": "ac39a8cf-58ef-40cd-b3ef-bca1eeeb3ab2",
   "metadata": {},
   "outputs": [],
   "source": [
    "def percent_bad_reviews(values):\n",
    "    return sum(values < 0.25)/len(values)"
   ]
  },
  {
   "cell_type": "code",
   "execution_count": 292,
   "id": "953071ad-3036-4715-a4e4-888f8f9e0630",
   "metadata": {},
   "outputs": [],
   "source": [
    "grouped = df.groupby('business_id')\n",
    "new_df = grouped.agg(sentiment=('sentiment','mean'),\n",
    "                     percent_bad_sentiment=('sentiment',percent_bad_reviews),\n",
    "                     Score=('Score','mean'),\n",
    "                     review_stars=('review_stars','mean')\n",
    "                    ).reset_index()"
   ]
  },
  {
   "cell_type": "code",
   "execution_count": 287,
   "id": "50a37c61-5403-4723-9780-55bc520ff5cc",
   "metadata": {},
   "outputs": [
    {
     "data": {
      "text/plain": [
       "<matplotlib.collections.PathCollection at 0x206a0585f70>"
      ]
     },
     "execution_count": 287,
     "metadata": {},
     "output_type": "execute_result"
    },
    {
     "data": {
      "image/png": "[encoded data removed]",
      "text/plain": [
       "<Figure size 432x288 with 1 Axes>"
      ]
     },
     "metadata": {
      "needs_background": "light"
     },
     "output_type": "display_data"
    }
   ],
   "source": [
    "# obvious correlation with review stars\n",
    "plt.scatter(new_df.sentiment,new_df.review_stars)"
   ]
  },
  {
   "cell_type": "code",
   "execution_count": 288,
   "id": "8708b16b-2363-464b-a3c3-704e934cdaeb",
   "metadata": {},
   "outputs": [
    {
     "data": {
      "text/plain": [
       "<matplotlib.collections.PathCollection at 0x206a9145400>"
      ]
     },
     "execution_count": 288,
     "metadata": {},
     "output_type": "execute_result"
    },
    {
     "data": {
      "image/png": "[encoded data removed]",
      "text/plain": [
       "<Figure size 432x288 with 1 Axes>"
      ]
     },
     "metadata": {
      "needs_background": "light"
     },
     "output_type": "display_data"
    }
   ],
   "source": [
    "# not much correlation with Score with a straight average\n",
    "plt.scatter(new_df.sentiment,new_df.Score)"
   ]
  },
  {
   "cell_type": "code",
   "execution_count": 297,
   "id": "5a4508ca-e01c-4063-9453-acf91fa60027",
   "metadata": {},
   "outputs": [
    {
     "data": {
      "text/plain": [
       "<matplotlib.collections.PathCollection at 0x206b1b51b80>"
      ]
     },
     "execution_count": 297,
     "metadata": {},
     "output_type": "execute_result"
    },
    {
     "data": {
      "image/png": "[encoded data removed]",
      "text/plain": [
       "<Figure size 432x288 with 1 Axes>"
      ]
     },
     "metadata": {
      "needs_background": "light"
     },
     "output_type": "display_data"
    }
   ],
   "source": [
    "# not much correlation with % bad reviews\n",
    "plt.scatter(new_df.percent_bad_sentiment,new_df.Score)"
   ]
  },
  {
   "cell_type": "markdown",
   "id": "6527ca70-1f45-402f-b971-0e4bef40339f",
   "metadata": {},
   "source": [
    "## DIRTY_WORDS"
   ]
  },
  {
   "cell_type": "markdown",
   "id": "3c3466d1-92b5-4183-855c-7daa8c4cb00b",
   "metadata": {},
   "source": [
    "Gathering a corpus to describe dirty restaurants from reddit posts by health inspectors talking about their worst ever experiences:\n",
    "* https://www.reddit.com/r/AskReddit/comments/1lnddh/health_inspectors_of_reddit_what_is_the_worst/\n",
    "* https://www.reddit.com/r/AskReddit/comments/2h1uuq/food_inspectors_of_reddit_whats_the_worst/\n",
    "\n",
    "Following this helpful guide: https://towardsdatascience.com/scraping-reddit-data-1c0af3040768\n",
    "\n",
    "And this post: https://stackoverflow.com/questions/60623349/how-to-limit-first-level-comments-in-praw-reddit"
   ]
  },
  {
   "cell_type": "code",
   "execution_count": 328,
   "id": "68ab0b5a-5d07-4eb1-b566-048cba74ab39",
   "metadata": {},
   "outputs": [],
   "source": [
    "import praw\n",
    "from praw.models import MoreComments\n",
    "f = open(data_directory + 'reddit_api_key.txt','r')\n",
    "r_client_id, r_secret, r_user_agent = [line.strip() for line in f.readlines()]\n",
    "f.close()\n",
    "reddit = praw.Reddit(client_id=r_client_id, client_secret=r_secret, user_agent=r_user_agent)"
   ]
  },
  {
   "cell_type": "code",
   "execution_count": 411,
   "id": "4f05f034-4f66-4c53-b9f9-c8700084060d",
   "metadata": {},
   "outputs": [],
   "source": [
    "# get all top-level comments in a post\n",
    "def iter_top_level(comments):\n",
    "    for top_level_comment in comments:\n",
    "        if isinstance(top_level_comment, MoreComments):\n",
    "            yield from iter_top_level(top_level_comment.comments())\n",
    "        else:\n",
    "            yield top_level_comment\n",
    "\n",
    "def get_reddit_comments(post_id=\"1lnddh\"):\n",
    "    submission = reddit.submission(post_id)\n",
    "    comments = []\n",
    "    for comment in iter_top_level(submission.comments): \n",
    "        # only get NON-deleted posts with >5 score\n",
    "        if comment.author and comment.score > 5:\n",
    "            comments.append(comment.body)\n",
    "    return comments"
   ]
  },
  {
   "cell_type": "code",
   "execution_count": 413,
   "id": "ab39ed0b-1146-4d94-bae8-47334b342e8c",
   "metadata": {},
   "outputs": [
    {
     "name": "stdout",
     "output_type": "stream",
     "text": [
      "Wall time: 56.3 s\n"
     ]
    }
   ],
   "source": [
    "%%time\n",
    "comments = []\n",
    "post_ids = [\"1lnddh\",\"2h1uuq\",\"598qrb\"]\n",
    "for i in post_ids:\n",
    "    comments += get_reddit_comments(i)"
   ]
  },
  {
   "cell_type": "code",
   "execution_count": 414,
   "id": "21b0ec2b-64bf-472a-b544-9ca60fd5c636",
   "metadata": {},
   "outputs": [
    {
     "data": {
      "text/plain": [
       "229"
      ]
     },
     "execution_count": 414,
     "metadata": {},
     "output_type": "execute_result"
    }
   ],
   "source": [
    "len(comments)"
   ]
  },
  {
   "cell_type": "code",
   "execution_count": null,
   "id": "7bcee710-0ed8-424c-bf9e-b723c8ff14ae",
   "metadata": {},
   "outputs": [],
   "source": [
    "TdidfVectorizer"
   ]
  },
  {
   "cell_type": "code",
   "execution_count": 378,
   "id": "211a3b45-cfd2-4d8b-9724-572ef4696979",
   "metadata": {},
   "outputs": [],
   "source": [
    "filename = processed_data_directory + 'reddit_comments.csv'\n",
    "f"
   ]
  },
  {
   "cell_type": "code",
   "execution_count": 409,
   "id": "4826bd9b-7187-4ceb-9f58-56c09c3535f0",
   "metadata": {},
   "outputs": [
    {
     "data": {
      "text/plain": [
       "1"
      ]
     },
     "execution_count": 409,
     "metadata": {},
     "output_type": "execute_result"
    }
   ],
   "source": [
    "comment.score"
   ]
  },
  {
   "cell_type": "code",
   "execution_count": 407,
   "id": "27ecfb3a-eede-498b-9f77-5417d9174d5c",
   "metadata": {},
   "outputs": [],
   "source": [
    "comment = submission.comments[-2]"
   ]
  },
  {
   "cell_type": "code",
   "execution_count": 402,
   "id": "6e649ada-152c-4a8b-a320-c35e21f89bbc",
   "metadata": {},
   "outputs": [
    {
     "name": "stdout",
     "output_type": "stream",
     "text": [
      "ok\n"
     ]
    }
   ],
   "source": [
    "if comment.author and comment.score > 5:\n",
    "    print('ok')"
   ]
  },
  {
   "cell_type": "code",
   "execution_count": 404,
   "id": "0ec11cd2-2d8b-4670-8171-e5af7f64f058",
   "metadata": {},
   "outputs": [
    {
     "ename": "AttributeError",
     "evalue": "'str' object has no attribute 'score'",
     "output_type": "error",
     "traceback": [
      "\u001b[1;31m---------------------------------------------------------------------------\u001b[0m",
      "\u001b[1;31mAttributeError\u001b[0m                            Traceback (most recent call last)",
      "\u001b[1;32m~\\AppData\\Local\\Temp\\ipykernel_18880\\3481562166.py\u001b[0m in \u001b[0;36m<cell line: 1>\u001b[1;34m()\u001b[0m\n\u001b[1;32m----> 1\u001b[1;33m \u001b[0mcomments\u001b[0m\u001b[1;33m[\u001b[0m\u001b[1;33m-\u001b[0m\u001b[1;36m3\u001b[0m\u001b[1;33m]\u001b[0m\u001b[1;33m.\u001b[0m\u001b[0mscore\u001b[0m\u001b[1;33m\u001b[0m\u001b[1;33m\u001b[0m\u001b[0m\n\u001b[0m",
      "\u001b[1;31mAttributeError\u001b[0m: 'str' object has no attribute 'score'"
     ]
    }
   ],
   "source": [
    "comments[-3].score"
   ]
  },
  {
   "cell_type": "code",
   "execution_count": 358,
   "id": "73bec898-97f7-4d2b-a49e-0f23a023445c",
   "metadata": {},
   "outputs": [],
   "source": [
    "comments = get_reddit_comments(\"1lnddh\")"
   ]
  },
  {
   "cell_type": "code",
   "execution_count": 368,
   "id": "9b8037ec-9dae-45eb-964e-e94e3131c40b",
   "metadata": {},
   "outputs": [
    {
     "data": {
      "text/plain": [
       "'[deleted]'"
      ]
     },
     "execution_count": 368,
     "metadata": {},
     "output_type": "execute_result"
    }
   ],
   "source": [
    "comments[4]"
   ]
  },
  {
   "cell_type": "code",
   "execution_count": 372,
   "id": "4302d37f-b8b8-4ecd-a649-3e8f9188e612",
   "metadata": {},
   "outputs": [],
   "source": [
    "if submission.comments[4].author:\n",
    "    print('ok')"
   ]
  },
  {
   "cell_type": "code",
   "execution_count": 360,
   "id": "af1e82e9-a1bb-4822-aa9d-81ee01be827e",
   "metadata": {},
   "outputs": [
    {
     "data": {
      "text/plain": [
       "\"Going on 10 years as an inspector.  Most dangerous is usually not the most disgusting.  I've seen entire walk in coolers they were using at 55-60°F and the staff didn't even notice anything wrong.  I've seen piles of mice that died getting stuck in the grease behind the fryer.  I've seen staff throwing raw burgers on the grill then making a salad right after.  I've seen squirrels and birds roaming freely inside a bread manufacturer.  The stereotypes are true, Chinese restaurant kitchens are almost always filthy.\\n\\nMost common critical violation:  Dish machine not sanitizing properly.\""
      ]
     },
     "execution_count": 360,
     "metadata": {},
     "output_type": "execute_result"
    }
   ],
   "source": [
    "comments[1]"
   ]
  },
  {
   "cell_type": "code",
   "execution_count": 321,
   "id": "3d641001-8aa1-435d-b729-a5844da7931f",
   "metadata": {},
   "outputs": [],
   "source": [
    "comments = []\n",
    "post_ids = [\"1lnddh\",\"2h1uuq\",\"598qrb\"]"
   ]
  },
  {
   "cell_type": "code",
   "execution_count": 336,
   "id": "1456203a-fbe5-41e8-8f1d-8502ddcde99d",
   "metadata": {},
   "outputs": [
    {
     "data": {
      "text/plain": [
       "45"
      ]
     },
     "execution_count": 336,
     "metadata": {},
     "output_type": "execute_result"
    }
   ],
   "source": [
    "submission = reddit.submission(id=\"1lnddh\")\n",
    "len(submission.comments)"
   ]
  },
  {
   "cell_type": "code",
   "execution_count": 340,
   "id": "d0bfec2c-ef08-47ad-9637-cf273a1682ef",
   "metadata": {},
   "outputs": [
    {
     "data": {
      "text/plain": [
       "['cc0wxqj',\n",
       " 'cc14rnq',\n",
       " 'cc14uw7',\n",
       " 'cc186x4',\n",
       " 'cc0wx0n',\n",
       " 'cc17j0t',\n",
       " 'cc1f0r5',\n",
       " 'cc19aw8',\n",
       " 'cc14mvx',\n",
       " 'cc0zv27']"
      ]
     },
     "execution_count": 340,
     "metadata": {},
     "output_type": "execute_result"
    }
   ],
   "source": [
    "submission.comments[44].children"
   ]
  },
  {
   "cell_type": "code",
   "execution_count": 335,
   "id": "67fc87de-c73e-421d-a888-da595cc0175f",
   "metadata": {},
   "outputs": [
    {
     "data": {
      "text/plain": [
       "44"
      ]
     },
     "execution_count": 335,
     "metadata": {},
     "output_type": "execute_result"
    }
   ],
   "source": [
    "len(out)"
   ]
  },
  {
   "cell_type": "code",
   "execution_count": 316,
   "id": "41b4820d-a2a6-4985-ad14-7f2bb9381f3a",
   "metadata": {},
   "outputs": [],
   "source": [
    "submission = reddit.submission(id=\"2h1uuq\")\n",
    "submission.comments.replace_more(limit=0)\n",
    "comments = [comment.body for comment in submission.comments]"
   ]
  },
  {
   "cell_type": "code",
   "execution_count": 317,
   "id": "24141929-88de-4f41-9846-ee9b7a76ad8d",
   "metadata": {},
   "outputs": [
    {
     "data": {
      "text/plain": [
       "41"
      ]
     },
     "execution_count": 317,
     "metadata": {},
     "output_type": "execute_result"
    }
   ],
   "source": [
    "len(comments)"
   ]
  },
  {
   "cell_type": "code",
   "execution_count": 417,
   "id": "9eb73470-f3e8-41c2-bdac-43e240ef3918",
   "metadata": {},
   "outputs": [
    {
     "data": {
      "text/plain": [
       "\"Environmental Health Inspectors don't only cover restaurants.  I inspect wells and septic systems.  I see sewage everyday.  The worst thing I've seen are old men coming up to their door naked . . . and what makes it worse is that they knew what date and time I was stopping by.\""
      ]
     },
     "execution_count": 417,
     "metadata": {},
     "output_type": "execute_result"
    }
   ],
   "source": [
    "comments[0]"
   ]
  },
  {
   "cell_type": "code",
   "execution_count": 434,
   "id": "4cff370c-2fdb-4758-bcac-3850e5e042fa",
   "metadata": {},
   "outputs": [],
   "source": [
    "doc = nlp(comments[0])"
   ]
  },
  {
   "cell_type": "code",
   "execution_count": 439,
   "id": "612235c6-ee55-4695-9018-c0bf51fff65d",
   "metadata": {},
   "outputs": [
    {
     "data": {
      "text/plain": [
       "['Environmental',\n",
       " 'Health',\n",
       " 'Inspectors',\n",
       " 'do',\n",
       " 'not',\n",
       " 'only',\n",
       " 'cover',\n",
       " 'restaurant',\n",
       " '.',\n",
       " ' ',\n",
       " 'I',\n",
       " 'inspect',\n",
       " 'well',\n",
       " 'and',\n",
       " 'septic',\n",
       " 'system',\n",
       " '.',\n",
       " ' ',\n",
       " 'I',\n",
       " 'see',\n",
       " 'sewage',\n",
       " 'everyday',\n",
       " '.',\n",
       " ' ',\n",
       " 'the',\n",
       " 'bad',\n",
       " 'thing',\n",
       " 'I',\n",
       " \"'ve\",\n",
       " 'see',\n",
       " 'be',\n",
       " 'old',\n",
       " 'man',\n",
       " 'come',\n",
       " 'up',\n",
       " 'to',\n",
       " 'their',\n",
       " 'door',\n",
       " 'naked',\n",
       " '.',\n",
       " '.',\n",
       " '.',\n",
       " 'and',\n",
       " 'what',\n",
       " 'make',\n",
       " 'it',\n",
       " 'bad',\n",
       " 'be',\n",
       " 'that',\n",
       " 'they',\n",
       " 'know',\n",
       " 'what',\n",
       " 'date',\n",
       " 'and',\n",
       " 'time',\n",
       " 'I',\n",
       " 'be',\n",
       " 'stop',\n",
       " 'by',\n",
       " '.']"
      ]
     },
     "execution_count": 439,
     "metadata": {},
     "output_type": "execute_result"
    }
   ],
   "source": [
    "[t.lemma_ for t in doc]"
   ]
  },
  {
   "cell_type": "code",
   "execution_count": 431,
   "id": "f0c85f1e-ccc9-49d7-8146-110dc3cf8c2a",
   "metadata": {},
   "outputs": [],
   "source": [
    "# simple bag of words\n",
    "tfidf = TfidfVectorizer(tokenizer = ,\n",
    "                        min_df=2, max_df=0.99, max_features=2000,\n",
    "                        ngram_range=(1,1), stop_words=STOP_WORDS)"
   ]
  },
  {
   "cell_type": "code",
   "execution_count": 432,
   "id": "1e58d695-dcf7-4f22-bab5-2efe765d5f57",
   "metadata": {},
   "outputs": [],
   "source": [
    "tfed = tfidf.fit_transform(np.array(comments))"
   ]
  },
  {
   "cell_type": "code",
   "execution_count": 433,
   "id": "15878b9b-e521-4680-aa7c-8e6d9f874b08",
   "metadata": {
    "tags": []
   },
   "outputs": [
    {
     "data": {
      "text/plain": [
       "{'inspectors': 5.339467020255086,\n",
       " 'don': 5.339467020255086,\n",
       " 'wells': 5.339467020255086,\n",
       " 'septic': 5.339467020255086,\n",
       " 'sewage': 5.339467020255086,\n",
       " 'everyday': 5.339467020255086,\n",
       " 'old': 5.339467020255086,\n",
       " 'men': 5.339467020255086,\n",
       " 'coming': 5.339467020255086,\n",
       " 'door': 5.339467020255086,\n",
       " 'makes': 5.339467020255086,\n",
       " 'knew': 5.339467020255086,\n",
       " '10': 5.339467020255086,\n",
       " 'years': 5.339467020255086,\n",
       " 'inspector': 5.339467020255086,\n",
       " 'usually': 5.339467020255086,\n",
       " '55': 5.339467020255086,\n",
       " 'staff': 5.339467020255086,\n",
       " 'piles': 5.339467020255086,\n",
       " 'burgers': 5.339467020255086,\n",
       " 'making': 5.339467020255086,\n",
       " 'salad': 5.339467020255086,\n",
       " 'squirrels': 5.339467020255086,\n",
       " 'roaming': 5.339467020255086,\n",
       " 'manufacturer': 5.339467020255086,\n",
       " 'kitchens': 5.339467020255086,\n",
       " 'filthy': 5.339467020255086,\n",
       " 'common': 5.339467020255086,\n",
       " 'violation': 5.339467020255086,\n",
       " 'dish': 5.339467020255086,\n",
       " 'sanitizing': 5.339467020255086,\n",
       " 'kitchen': 5.339467020255086,\n",
       " 'told': 5.339467020255086,\n",
       " 'shut': 5.339467020255086,\n",
       " 'walking': 5.339467020255086,\n",
       " 'freezers': 5.339467020255086,\n",
       " 'noticed': 5.339467020255086,\n",
       " 'drained': 5.339467020255086,\n",
       " 'manager': 5.339467020255086,\n",
       " 'find': 5.339467020255086,\n",
       " 'passed': 5.339467020255086,\n",
       " 'cutting': 5.339467020255086,\n",
       " 'day': 5.339467020255086,\n",
       " 'trouble': 5.339467020255086,\n",
       " 'place': 5.339467020255086,\n",
       " 'months': 5.339467020255086,\n",
       " 'incident': 5.339467020255086,\n",
       " 'locked': 5.339467020255086,\n",
       " 'bars': 5.339467020255086,\n",
       " 'brown': 5.339467020255086,\n",
       " 'shit': 5.339467020255086,\n",
       " 'sure': 5.339467020255086,\n",
       " 'hell': 5.339467020255086,\n",
       " 'taste': 5.339467020255086,\n",
       " 'good': 5.339467020255086,\n",
       " 'look': 5.339467020255086,\n",
       " 'rating': 5.339467020255086,\n",
       " 'lot': 5.339467020255086,\n",
       " 'deal': 5.339467020255086,\n",
       " 'class': 5.339467020255086,\n",
       " 'sanitation': 5.339467020255086,\n",
       " 'department': 5.339467020255086,\n",
       " 'use': 5.339467020255086,\n",
       " 'sink': 5.339467020255086,\n",
       " 'strip': 5.339467020255086,\n",
       " 'expect': 5.339467020255086,\n",
       " 'floor': 5.339467020255086,\n",
       " 'visible': 5.339467020255086,\n",
       " 'paths': 5.339467020255086,\n",
       " 'employees': 5.339467020255086,\n",
       " 'cooler': 5.339467020255086,\n",
       " 'falling': 5.339467020255086,\n",
       " 'black': 5.339467020255086,\n",
       " 'ground': 5.339467020255086,\n",
       " 'eat': 5.339467020255086,\n",
       " 'dining': 5.339467020255086,\n",
       " 'hall': 5.339467020255086,\n",
       " 'imagine': 5.339467020255086,\n",
       " 'prior': 5.339467020255086,\n",
       " 'led': 5.339467020255086,\n",
       " 'outside': 5.339467020255086,\n",
       " 'reports': 5.339467020255086,\n",
       " 'risk': 5.339467020255086,\n",
       " 'chain': 5.339467020255086,\n",
       " 'serving': 5.339467020255086,\n",
       " 'dark': 5.339467020255086,\n",
       " 'location': 5.339467020255086,\n",
       " 'trained': 5.339467020255086,\n",
       " 'girl': 5.339467020255086,\n",
       " '17': 5.339467020255086,\n",
       " 'left': 5.339467020255086,\n",
       " 'cook': 5.339467020255086,\n",
       " 'constantly': 5.339467020255086,\n",
       " 'point': 5.339467020255086,\n",
       " 'dishes': 5.339467020255086,\n",
       " 'actual': 5.339467020255086,\n",
       " 'overwhelming': 5.339467020255086,\n",
       " 'hold': 5.339467020255086,\n",
       " 'china': 5.339467020255086,\n",
       " 'cut': 5.339467020255086,\n",
       " 'vegan': 5.339467020255086,\n",
       " 'chefs': 5.339467020255086,\n",
       " 'pub': 5.339467020255086,\n",
       " 'near': 5.339467020255086,\n",
       " 'house': 5.339467020255086,\n",
       " 'eats': 5.339467020255086,\n",
       " 'environment': 5.339467020255086,\n",
       " 'counter': 5.339467020255086,\n",
       " 'happy': 5.339467020255086,\n",
       " 'morning': 5.339467020255086,\n",
       " 'street': 5.339467020255086,\n",
       " 'evaluation': 5.339467020255086,\n",
       " 'mold': 5.339467020255086,\n",
       " 'piece': 5.339467020255086,\n",
       " 'suddenly': 5.339467020255086,\n",
       " 'comes': 5.339467020255086,\n",
       " 'kind': 5.339467020255086,\n",
       " 'job': 5.339467020255086,\n",
       " 'said': 5.339467020255086,\n",
       " 'table': 5.339467020255086,\n",
       " 'covered': 5.339467020255086,\n",
       " 'numerous': 5.339467020255086,\n",
       " 'greeted': 5.339467020255086,\n",
       " 'needed': 5.339467020255086,\n",
       " 'best': 5.339467020255086,\n",
       " 'passes': 5.339467020255086,\n",
       " 'bit': 5.339467020255086,\n",
       " 'got': 5.339467020255086,\n",
       " 'late': 5.339467020255086,\n",
       " 'god': 5.339467020255086,\n",
       " 'head': 5.339467020255086,\n",
       " 'nearly': 5.339467020255086,\n",
       " 'stop': 5.339467020255086,\n",
       " 'business': 5.339467020255086,\n",
       " 'ago': 5.339467020255086,\n",
       " 'reading': 5.339467020255086,\n",
       " 'night': 5.339467020255086,\n",
       " 'staying': 5.339467020255086,\n",
       " 'hotel': 5.339467020255086,\n",
       " 'know': 5.339467020255086,\n",
       " 'kinda': 5.339467020255086,\n",
       " 'authentic': 5.339467020255086,\n",
       " 'huge': 5.339467020255086,\n",
       " 'cockroach': 5.339467020255086,\n",
       " 'rice': 5.339467020255086,\n",
       " 'pound': 5.339467020255086,\n",
       " 'bags': 5.339467020255086,\n",
       " 'hole': 5.339467020255086,\n",
       " 'probably': 5.339467020255086,\n",
       " 'sized': 5.339467020255086,\n",
       " 'pants': 5.339467020255086,\n",
       " 'issues': 5.339467020255086,\n",
       " 'post': 5.339467020255086,\n",
       " 'monthly': 5.339467020255086,\n",
       " 'excellent': 5.339467020255086,\n",
       " 'forward': 5.339467020255086,\n",
       " 'seeing': 5.339467020255086,\n",
       " 'rotting': 5.339467020255086,\n",
       " 'vomit': 5.339467020255086,\n",
       " 'growing': 5.339467020255086,\n",
       " 'walls': 5.339467020255086,\n",
       " 'rack': 5.339467020255086,\n",
       " 'sanitizer': 5.339467020255086,\n",
       " 'cooked': 5.339467020255086,\n",
       " 'tile': 5.339467020255086,\n",
       " 'fucking': 5.339467020255086,\n",
       " 'leaving': 5.339467020255086,\n",
       " 'wearing': 5.339467020255086,\n",
       " 'label': 5.339467020255086,\n",
       " 'close': 5.339467020255086,\n",
       " 'week': 5.339467020255086,\n",
       " 'gave': 5.339467020255086,\n",
       " 'ended': 5.339467020255086,\n",
       " 'working': 5.339467020255086,\n",
       " 'deep': 5.339467020255086,\n",
       " 'actually': 5.339467020255086,\n",
       " 'followed': 5.339467020255086,\n",
       " 'uk': 5.339467020255086,\n",
       " 'doesn': 5.339467020255086,\n",
       " 'particular': 5.339467020255086,\n",
       " 'hits': 5.339467020255086,\n",
       " 'animal': 5.339467020255086,\n",
       " 'wash': 5.339467020255086,\n",
       " 'zapper': 5.339467020255086,\n",
       " 'list': 5.339467020255086,\n",
       " 'fuck': 5.339467020255086,\n",
       " 'away': 5.339467020255086,\n",
       " 'source': 5.339467020255086,\n",
       " 'water': 5.339467020255086,\n",
       " 'remember': 5.339467020255086,\n",
       " 'dead': 5.339467020255086,\n",
       " 'bag': 5.339467020255086,\n",
       " 'chips': 5.339467020255086,\n",
       " 'soaking': 5.339467020255086,\n",
       " 'contacted': 5.339467020255086,\n",
       " 'agency': 5.339467020255086,\n",
       " 'oh': 5.339467020255086,\n",
       " 'easy': 5.339467020255086,\n",
       " 'dishwashers': 5.339467020255086,\n",
       " 'line': 5.339467020255086,\n",
       " 'storing': 5.339467020255086,\n",
       " 'roof': 5.339467020255086,\n",
       " 'pounds': 5.339467020255086,\n",
       " 'dumpster': 5.339467020255086,\n",
       " 'bleach': 5.339467020255086,\n",
       " 'hands': 5.339467020255086,\n",
       " 'handling': 5.339467020255086,\n",
       " 'change': 5.339467020255086,\n",
       " 'ensure': 5.339467020255086,\n",
       " 'australia': 5.339467020255086,\n",
       " 'checking': 5.339467020255086,\n",
       " 'temps': 5.339467020255086,\n",
       " 'levels': 5.339467020255086,\n",
       " 'nice': 5.339467020255086,\n",
       " 'talk': 5.339467020255086,\n",
       " 'thanks': 5.339467020255086,\n",
       " 'buffet': 5.339467020255086,\n",
       " 'feel': 5.339467020255086,\n",
       " 'recently': 5.339467020255086,\n",
       " 'favourite': 5.339467020255086,\n",
       " 'winter': 5.339467020255086,\n",
       " 'areas': 5.339467020255086,\n",
       " 'decides': 5.339467020255086,\n",
       " 'thick': 5.339467020255086,\n",
       " 'sprayed': 5.339467020255086,\n",
       " 'chemicals': 5.339467020255086,\n",
       " 'catch': 5.339467020255086,\n",
       " '20': 5.339467020255086,\n",
       " 'paying': 5.339467020255086,\n",
       " 'writing': 5.339467020255086,\n",
       " 'spray': 5.339467020255086,\n",
       " 'laid': 5.339467020255086,\n",
       " 'write': 5.339467020255086,\n",
       " 'instead': 5.339467020255086,\n",
       " 'sandwich': 5.339467020255086,\n",
       " 'ate': 5.339467020255086,\n",
       " 'subway': 5.339467020255086,\n",
       " 'etc': 5.339467020255086,\n",
       " 'particularly': 5.339467020255086,\n",
       " 'greasy': 5.339467020255086,\n",
       " 'cleaned': 5.339467020255086,\n",
       " 'exploded': 5.339467020255086,\n",
       " 'frozen': 5.339467020255086,\n",
       " 'chief': 5.339467020255086,\n",
       " 'customer': 5.339467020255086,\n",
       " 'vegetables': 5.339467020255086,\n",
       " 'shame': 5.339467020255086,\n",
       " 'infestation': 5.339467020255086,\n",
       " 'holes': 5.339467020255086,\n",
       " 'began': 5.339467020255086,\n",
       " 'included': 5.339467020255086,\n",
       " 'factory': 5.339467020255086,\n",
       " 'milk': 5.339467020255086,\n",
       " 'spend': 5.339467020255086,\n",
       " 'wrote': 5.339467020255086,\n",
       " 'report': 5.339467020255086,\n",
       " 'fired': 5.339467020255086,\n",
       " '40': 5.339467020255086,\n",
       " 'iirc': 5.339467020255086,\n",
       " 'half': 5.339467020255086,\n",
       " 'inch': 5.339467020255086,\n",
       " 'wouldn': 5.339467020255086,\n",
       " 'shelf': 5.339467020255086,\n",
       " 'eaten': 5.339467020255086,\n",
       " 'large': 5.339467020255086,\n",
       " 'service': 5.339467020255086,\n",
       " 'butchers': 5.339467020255086,\n",
       " 'handle': 5.339467020255086,\n",
       " 'rinse': 5.339467020255086,\n",
       " 'human': 5.339467020255086,\n",
       " 'tub': 5.339467020255086,\n",
       " 'picking': 5.339467020255086,\n",
       " 'stood': 5.339467020255086,\n",
       " 'discarded': 5.339467020255086,\n",
       " 'man': 5.339467020255086,\n",
       " 'window': 5.339467020255086,\n",
       " 'flies': 5.339467020255086,\n",
       " 'taken': 5.339467020255086,\n",
       " 'starting': 5.339467020255086,\n",
       " 'friend': 5.339467020255086,\n",
       " 'referred': 5.339467020255086,\n",
       " 'let': 5.339467020255086,\n",
       " 'year': 5.339467020255086,\n",
       " 'end': 5.339467020255086,\n",
       " 'feed': 5.339467020255086,\n",
       " 'thought': 5.339467020255086,\n",
       " 'finally': 5.339467020255086,\n",
       " 'uncle': 5.339467020255086,\n",
       " 'hot': 5.339467020255086,\n",
       " 'unannounced': 5.339467020255086,\n",
       " 'short': 5.339467020255086,\n",
       " 'shoes': 5.339467020255086,\n",
       " 'appropriate': 5.339467020255086,\n",
       " 'likely': 5.339467020255086,\n",
       " 'orders': 5.339467020255086,\n",
       " 'fried': 5.339467020255086,\n",
       " 'cat': 5.339467020255086,\n",
       " 'escaped': 5.339467020255086,\n",
       " 'overnight': 5.339467020255086,\n",
       " 'looks': 5.339467020255086,\n",
       " 'drowned': 5.339467020255086,\n",
       " 'complaining': 5.339467020255086,\n",
       " 'refused': 5.339467020255086,\n",
       " 'wasn': 5.339467020255086,\n",
       " 'layer': 5.339467020255086,\n",
       " 'favorite': 5.339467020255086,\n",
       " 'wife': 5.339467020255086,\n",
       " 'light': 5.339467020255086,\n",
       " 'chickens': 5.339467020255086,\n",
       " 'attached': 5.339467020255086,\n",
       " 'farm': 5.339467020255086,\n",
       " 'link': 5.339467020255086,\n",
       " 'health_inspectors_of_reddit_what_was_the_worse': 5.339467020255086,\n",
       " 'twice': 5.339467020255086,\n",
       " 'brother': 5.339467020255086,\n",
       " '30': 5.339467020255086,\n",
       " 'saying': 5.339467020255086,\n",
       " 'apparently': 5.339467020255086,\n",
       " 'midwest': 5.339467020255086,\n",
       " 'windows': 5.339467020255086,\n",
       " 'boots': 5.339467020255086,\n",
       " 'condition': 5.339467020255086,\n",
       " 'soup': 5.339467020255086,\n",
       " 'served': 5.339467020255086,\n",
       " 'felt': 5.339467020255086,\n",
       " 'sick': 5.339467020255086,\n",
       " 'leftover': 5.339467020255086,\n",
       " 'grabbed': 5.339467020255086,\n",
       " 'rinsed': 5.339467020255086,\n",
       " 'second': 5.339467020255086,\n",
       " 'kept': 5.339467020255086,\n",
       " 'lead': 5.339467020255086,\n",
       " 'instance': 5.339467020255086,\n",
       " 'travelling': 5.339467020255086,\n",
       " 'special': 5.339467020255086,\n",
       " 'price': 5.339467020255086,\n",
       " 'road': 5.339467020255086,\n",
       " 'shortly': 5.339467020255086,\n",
       " 'assumed': 5.339467020255086,\n",
       " 'reported': 5.339467020255086,\n",
       " 'tear': 5.339467020255086,\n",
       " 'fixed': 5.339467020255086,\n",
       " 'dinner': 5.339467020255086,\n",
       " 'dumping': 5.339467020255086,\n",
       " 'butter': 5.339467020255086,\n",
       " 'cleared': 5.339467020255086,\n",
       " 'hope': 5.339467020255086,\n",
       " 'touch': 5.339467020255086,\n",
       " 'directly': 5.339467020255086,\n",
       " 'cleanest': 5.339467020255086,\n",
       " 'scrub': 5.339467020255086,\n",
       " 'start': 5.339467020255086,\n",
       " 'preparing': 5.339467020255086,\n",
       " 'corpse': 5.339467020255086,\n",
       " 'routine': 5.339467020255086,\n",
       " 'fire': 5.339467020255086,\n",
       " 'kids': 5.339467020255086,\n",
       " 'drive': 5.339467020255086,\n",
       " 'mind': 5.339467020255086,\n",
       " 'busy': 5.339467020255086,\n",
       " 'sees': 5.339467020255086,\n",
       " 'tells': 5.339467020255086,\n",
       " 'cream': 5.339467020255086,\n",
       " 'pan': 5.339467020255086,\n",
       " 'foot': 5.339467020255086,\n",
       " 'cctv': 5.339467020255086,\n",
       " 'temporary': 5.339467020255086,\n",
       " 'maintenance': 5.339467020255086,\n",
       " 'fry': 5.339467020255086,\n",
       " 'sign': 5.339467020255086,\n",
       " 'aware': 5.339467020255086,\n",
       " 'chains': 5.339467020255086,\n",
       " 'waiting': 5.339467020255086,\n",
       " 'infested': 5.339467020255086,\n",
       " 'weird': 5.339467020255086,\n",
       " 'throws': 5.339467020255086,\n",
       " 'fit': 5.339467020255086,\n",
       " 'sea': 5.339467020255086,\n",
       " 'cash': 5.339467020255086,\n",
       " 'toilets': 5.339467020255086,\n",
       " 'washed': 5.339467020255086,\n",
       " 'dad': 5.339467020255086,\n",
       " 'hour': 5.339467020255086,\n",
       " 'mates': 5.339467020255086,\n",
       " 'store': 5.339467020255086,\n",
       " 'telling': 5.339467020255086,\n",
       " 'knife': 5.339467020255086,\n",
       " 'party': 5.339467020255086,\n",
       " 'plate': 5.339467020255086,\n",
       " 'stations': 5.339467020255086,\n",
       " 'enormous': 5.339467020255086,\n",
       " 'hanging': 5.339467020255086,\n",
       " 'whilst': 5.339467020255086,\n",
       " 'salsa': 5.339467020255086,\n",
       " 'finished': 5.339467020255086,\n",
       " 'legal': 5.339467020255086,\n",
       " 'trailer': 5.339467020255086,\n",
       " 'failing': 5.339467020255086,\n",
       " 'cats': 5.339467020255086,\n",
       " 'colors': 5.339467020255086,\n",
       " 'serves': 5.339467020255086,\n",
       " 'buddy': 5.339467020255086,\n",
       " 'finds': 5.339467020255086,\n",
       " 'bird': 5.339467020255086,\n",
       " 'caught': 5.339467020255086,\n",
       " 'need': 5.339467020255086,\n",
       " 'burnt': 5.339467020255086,\n",
       " 'rotted': 5.339467020255086,\n",
       " 'kid': 5.339467020255086,\n",
       " 'italian': 5.339467020255086,\n",
       " 'york': 5.339467020255086,\n",
       " 'basically': 5.339467020255086,\n",
       " 'quick': 5.339467020255086,\n",
       " 'control': 5.339467020255086,\n",
       " 'closing': 5.339467020255086,\n",
       " 'emptied': 5.339467020255086,\n",
       " 'prepping': 5.339467020255086,\n",
       " 'finger': 5.339467020255086,\n",
       " 'bake': 5.339467020255086,\n",
       " 'style': 5.339467020255086,\n",
       " 'pizzas': 5.339467020255086,\n",
       " 'exhaust': 5.339467020255086,\n",
       " 'dough': 5.339467020255086,\n",
       " 'warning': 5.339467020255086,\n",
       " 'apart': 5.339467020255086,\n",
       " 'pile': 5.339467020255086,\n",
       " 'waste': 5.339467020255086,\n",
       " 'blocks': 5.339467020255086,\n",
       " 'paper': 5.339467020255086,\n",
       " 'towel': 5.339467020255086,\n",
       " 'stored': 5.339467020255086,\n",
       " 'slicing': 5.339467020255086,\n",
       " 'onions': 5.339467020255086,\n",
       " 'sinks': 5.339467020255086,\n",
       " 'quickly': 5.339467020255086,\n",
       " 'vent': 5.339467020255086,\n",
       " 'hood': 5.339467020255086,\n",
       " 'shrimp': 5.339467020255086,\n",
       " 'bucket': 5.339467020255086,\n",
       " 'pieces': 5.339467020255086,\n",
       " 'mopping': 5.339467020255086,\n",
       " 'display': 5.339467020255086,\n",
       " 'mall': 5.339467020255086,\n",
       " 'cigarette': 5.339467020255086,\n",
       " '11': 5.339467020255086,\n",
       " 'sent': 5.339467020255086,\n",
       " 'death': 5.339467020255086,\n",
       " 'opening': 5.339467020255086,\n",
       " 'chocolate': 5.339467020255086,\n",
       " 'horror': 5.339467020255086,\n",
       " 'buy': 5.339467020255086,\n",
       " 'grandfather': 5.339467020255086,\n",
       " 'moving': 5.339467020255086,\n",
       " 'taught': 5.339467020255086,\n",
       " 'minor': 5.339467020255086,\n",
       " 'flour': 5.339467020255086,\n",
       " 'certain': 5.339467020255086,\n",
       " 'clear': 5.339467020255086,\n",
       " 'sold': 5.339467020255086,\n",
       " 'leak': 5.339467020255086,\n",
       " 'verify': 5.339467020255086,\n",
       " 'edge': 5.339467020255086,\n",
       " 'fountain': 5.339467020255086,\n",
       " 'checked': 5.339467020255086,\n",
       " 'baked': 5.339467020255086,\n",
       " 'hamburgers': 5.339467020255086,\n",
       " 'downstairs': 5.339467020255086,\n",
       " 'opens': 5.339467020255086,\n",
       " 'calls': 5.339467020255086,\n",
       " 'interesting': 5.339467020255086,\n",
       " 'foul': 5.339467020255086,\n",
       " 'accused': 5.339467020255086,\n",
       " 'homes': 5.339467020255086,\n",
       " 'obviously': 5.339467020255086,\n",
       " 'patrick': 5.339467020255086,\n",
       " 'checks': 5.339467020255086,\n",
       " 'shitting': 5.339467020255086,\n",
       " 'push': 5.339467020255086,\n",
       " 'stove': 5.339467020255086,\n",
       " 'maggot': 5.339467020255086,\n",
       " 'amused': 5.339467020255086,\n",
       " 'father': 5.339467020255086,\n",
       " 'hit': 5.339467020255086,\n",
       " 'slimy': 5.339467020255086,\n",
       " 'carts': 5.339467020255086,\n",
       " 'cart': 5.339467020255086,\n",
       " 'bare': 5.339467020255086,\n",
       " 'didnt': 5.339467020255086,\n",
       " 'noticing': 5.339467020255086,\n",
       " 'works': 5.339467020255086,\n",
       " 'plunger': 5.339467020255086,\n",
       " 'deer': 5.339467020255086,\n",
       " 'group': 5.339467020255086,\n",
       " 'suspected': 5.339467020255086,\n",
       " 'health': 5.051784947803305,\n",
       " 'restaurants': 5.051784947803305,\n",
       " 'worst': 5.051784947803305,\n",
       " 'thing': 5.051784947803305,\n",
       " 'worse': 5.051784947803305,\n",
       " 'stopping': 5.051784947803305,\n",
       " 'going': 5.051784947803305,\n",
       " 'walk': 5.051784947803305,\n",
       " 'coolers': 5.051784947803305,\n",
       " 'notice': 5.051784947803305,\n",
       " 'wrong': 5.051784947803305,\n",
       " 'mice': 5.051784947803305,\n",
       " 'died': 5.051784947803305,\n",
       " 'grease': 5.051784947803305,\n",
       " 'throwing': 5.051784947803305,\n",
       " 'raw': 5.051784947803305,\n",
       " 'right': 5.051784947803305,\n",
       " 'stereotypes': 5.051784947803305,\n",
       " 'struck': 5.051784947803305,\n",
       " 'rat': 5.051784947803305,\n",
       " 'attention': 5.051784947803305,\n",
       " 'area': 5.051784947803305,\n",
       " 'body': 5.051784947803305,\n",
       " 'having': 5.051784947803305,\n",
       " 'closed': 5.051784947803305,\n",
       " 'beer': 5.051784947803305,\n",
       " 'industry': 5.051784947803305,\n",
       " 'filled': 5.051784947803305,\n",
       " 'kill': 5.051784947803305,\n",
       " 'fast': 5.051784947803305,\n",
       " 'food': 5.051784947803305,\n",
       " 'read': 5.051784947803305,\n",
       " 'big': 5.051784947803305,\n",
       " 'culinary': 5.051784947803305,\n",
       " 'school': 5.051784947803305,\n",
       " 'mexican': 5.051784947803305,\n",
       " 'usual': 5.051784947803305,\n",
       " 'humid': 5.051784947803305,\n",
       " 'boards': 5.051784947803305,\n",
       " 'people': 5.051784947803305,\n",
       " 'awful': 5.051784947803305,\n",
       " 'com': 5.051784947803305,\n",
       " 'washing': 5.051784947803305,\n",
       " 'tools': 5.051784947803305,\n",
       " 'happens': 5.051784947803305,\n",
       " 'thai': 5.051784947803305,\n",
       " 'coworkers': 5.051784947803305,\n",
       " 'drop': 5.051784947803305,\n",
       " 'related': 5.051784947803305,\n",
       " 'cold': 5.051784947803305,\n",
       " 'fine': 5.051784947803305,\n",
       " 'note': 5.051784947803305,\n",
       " 'code': 5.051784947803305,\n",
       " 'ton': 5.051784947803305,\n",
       " 'meat': 5.051784947803305,\n",
       " 'begin': 5.051784947803305,\n",
       " 'signs': 5.051784947803305,\n",
       " 'corners': 5.051784947803305,\n",
       " 'puts': 5.051784947803305,\n",
       " 'tow': 5.051784947803305,\n",
       " 'hear': 5.051784947803305,\n",
       " 'figure': 5.051784947803305,\n",
       " 'running': 5.051784947803305,\n",
       " 'edit': 5.051784947803305,\n",
       " 'minutes': 5.051784947803305,\n",
       " 'looking': 5.051784947803305,\n",
       " 'dry': 5.051784947803305,\n",
       " '70': 5.051784947803305,\n",
       " 'fell': 5.051784947803305,\n",
       " 'feet': 5.051784947803305,\n",
       " 'safe': 5.051784947803305,\n",
       " 'took': 5.051784947803305,\n",
       " 'long': 5.051784947803305,\n",
       " 'question': 5.051784947803305,\n",
       " 'couple': 5.051784947803305,\n",
       " 'company': 5.051784947803305,\n",
       " 'known': 5.051784947803305,\n",
       " 'fat': 5.051784947803305,\n",
       " 'immediately': 5.051784947803305,\n",
       " 'smell': 5.051784947803305,\n",
       " 'crew': 5.051784947803305,\n",
       " 'inches': 5.051784947803305,\n",
       " 'ice': 5.051784947803305,\n",
       " 'build': 5.051784947803305,\n",
       " 'drain': 5.051784947803305,\n",
       " 'better': 5.051784947803305,\n",
       " 'pizza': 5.051784947803305,\n",
       " 'posted': 5.051784947803305,\n",
       " 'enjoy': 5.051784947803305,\n",
       " 'equipment': 5.051784947803305,\n",
       " 'ride': 5.051784947803305,\n",
       " 'fly': 5.051784947803305,\n",
       " 'dishwasher': 5.051784947803305,\n",
       " 'turns': 5.051784947803305,\n",
       " 'fact': 5.051784947803305,\n",
       " 'turned': 5.051784947803305,\n",
       " 'french': 5.051784947803305,\n",
       " 'blood': 5.051784947803305,\n",
       " 'worth': 5.051784947803305,\n",
       " 'tl': 5.051784947803305,\n",
       " 'dr': 5.051784947803305,\n",
       " 'deli': 5.051784947803305,\n",
       " 'literally': 5.051784947803305,\n",
       " 'slicer': 5.051784947803305,\n",
       " 'non': 5.051784947803305,\n",
       " 'insane': 5.051784947803305,\n",
       " 'drains': 5.051784947803305,\n",
       " 'neighbor': 5.051784947803305,\n",
       " 'watch': 5.051784947803305,\n",
       " 'restroom': 5.051784947803305,\n",
       " 'leave': 5.051784947803305,\n",
       " 'past': 5.051784947803305,\n",
       " 'hygiene': 5.051784947803305,\n",
       " 'money': 5.051784947803305,\n",
       " 'pay': 5.051784947803305,\n",
       " 'mix': 5.051784947803305,\n",
       " 'drinks': 5.051784947803305,\n",
       " 'syrup': 5.051784947803305,\n",
       " 'standards': 5.051784947803305,\n",
       " 'cigarettes': 5.051784947803305,\n",
       " 'hospital': 5.051784947803305,\n",
       " 'suspicions': 5.051784947803305,\n",
       " 'pointed': 5.051784947803305,\n",
       " 'gallons': 5.051784947803305,\n",
       " 'gallon': 5.051784947803305,\n",
       " 'office': 5.051784947803305,\n",
       " 'alive': 5.051784947803305,\n",
       " 'contaminated': 5.051784947803305,\n",
       " 'proceeded': 5.051784947803305,\n",
       " 'heard': 5.051784947803305,\n",
       " 'england': 5.051784947803305,\n",
       " 'bar': 5.051784947803305,\n",
       " 'started': 5.051784947803305,\n",
       " 'offered': 5.051784947803305,\n",
       " 'replied': 5.051784947803305,\n",
       " 'wall': 5.051784947803305,\n",
       " 'clearly': 5.051784947803305,\n",
       " 'simply': 5.051784947803305,\n",
       " 'nope': 5.051784947803305,\n",
       " 'urine': 5.051784947803305,\n",
       " 'ceiling': 5.051784947803305,\n",
       " 'public': 5.051784947803305,\n",
       " 'lack': 5.051784947803305,\n",
       " 'following': 5.051784947803305,\n",
       " 'stirring': 5.051784947803305,\n",
       " '27cddz': 5.051784947803305,\n",
       " 'family': 5.051784947803305,\n",
       " 'elderly': 5.051784947803305,\n",
       " 'lived': 5.051784947803305,\n",
       " 'built': 5.051784947803305,\n",
       " 'parts': 5.051784947803305,\n",
       " 'trash': 5.051784947803305,\n",
       " 'says': 5.051784947803305,\n",
       " 'witnessed': 5.051784947803305,\n",
       " 'band': 5.051784947803305,\n",
       " 'gross': 5.051784947803305,\n",
       " 'stories': 5.051784947803305,\n",
       " 'understand': 5.051784947803305,\n",
       " 'standing': 5.051784947803305,\n",
       " 'co': 5.051784947803305,\n",
       " 'send': 5.051784947803305,\n",
       " '20s': 5.051784947803305,\n",
       " 'nose': 5.051784947803305,\n",
       " 'care': 5.051784947803305,\n",
       " 'throw': 5.051784947803305,\n",
       " 'video': 5.051784947803305,\n",
       " 'owners': 5.051784947803305,\n",
       " 'instant': 5.051784947803305,\n",
       " 'means': 5.051784947803305,\n",
       " 'box': 5.051784947803305,\n",
       " 'voice': 5.051784947803305,\n",
       " 'cousin': 5.051784947803305,\n",
       " 'barely': 5.051784947803305,\n",
       " 'meats': 5.051784947803305,\n",
       " 'register': 5.051784947803305,\n",
       " 'meal': 5.051784947803305,\n",
       " 'produce': 5.051784947803305,\n",
       " 'strange': 5.051784947803305,\n",
       " 'national': 5.051784947803305,\n",
       " 'backed': 5.051784947803305,\n",
       " 'entering': 5.051784947803305,\n",
       " 'brought': 5.051784947803305,\n",
       " 'managed': 5.051784947803305,\n",
       " 'acting': 5.051784947803305,\n",
       " 'repair': 5.051784947803305,\n",
       " 'country': 5.051784947803305,\n",
       " 'parents': 5.051784947803305,\n",
       " 'codes': 5.051784947803305,\n",
       " 'including': 5.051784947803305,\n",
       " 'talked': 5.051784947803305,\n",
       " 'bulk': 5.051784947803305,\n",
       " 'tasting': 5.051784947803305,\n",
       " 'hat': 5.051784947803305,\n",
       " 'smoke': 5.051784947803305,\n",
       " 'act': 5.051784947803305,\n",
       " 'fairly': 5.051784947803305,\n",
       " 'temperature': 5.051784947803305,\n",
       " 'live': 5.051784947803305,\n",
       " 'condiments': 5.051784947803305,\n",
       " 'owned': 5.051784947803305,\n",
       " 'cakes': 5.051784947803305,\n",
       " 'reveal': 5.051784947803305,\n",
       " 'unit': 5.051784947803305,\n",
       " 'adamant': 5.051784947803305,\n",
       " 'learn': 5.051784947803305,\n",
       " 'power': 5.051784947803305,\n",
       " 'strong': 5.051784947803305,\n",
       " 'queens': 5.051784947803305,\n",
       " 'steaks': 5.051784947803305,\n",
       " 'beans': 5.051784947803305,\n",
       " 'requested': 5.051784947803305,\n",
       " 'cardboard': 5.051784947803305,\n",
       " 'mass': 5.051784947803305,\n",
       " 'cover': 4.828641396489095,\n",
       " 'systems': 4.828641396489095,\n",
       " 'seen': 4.828641396489095,\n",
       " 'time': 4.828641396489095,\n",
       " 'disgusting': 4.828641396489095,\n",
       " 'didn': 4.828641396489095,\n",
       " 'fryer': 4.828641396489095,\n",
       " 'freely': 4.828641396489095,\n",
       " 'restaurant': 4.828641396489095,\n",
       " 'machine': 4.828641396489095,\n",
       " 'conversation': 4.828641396489095,\n",
       " 'oil': 4.828641396489095,\n",
       " 'fallen': 4.828641396489095,\n",
       " 'problem': 4.828641396489095,\n",
       " 'needs': 4.828641396489095,\n",
       " 'ordered': 4.828641396489095,\n",
       " 'work': 4.828641396489095,\n",
       " 'hand': 4.828641396489095,\n",
       " 'club': 4.828641396489095,\n",
       " 'based': 4.828641396489095,\n",
       " 'deliver': 4.828641396489095,\n",
       " 'dirty': 4.828641396489095,\n",
       " 'like': 4.828641396489095,\n",
       " 'expired': 4.828641396489095,\n",
       " 'chef': 4.828641396489095,\n",
       " 'grab': 4.828641396489095,\n",
       " 'think': 4.828641396489095,\n",
       " 'board': 4.828641396489095,\n",
       " 'town': 4.828641396489095,\n",
       " 'fill': 4.828641396489095,\n",
       " 'server': 4.828641396489095,\n",
       " 'guess': 4.828641396489095,\n",
       " 'roll': 4.828641396489095,\n",
       " 'car': 4.828641396489095,\n",
       " 'establishment': 4.828641396489095,\n",
       " 'ask': 4.828641396489095,\n",
       " 'asked': 4.828641396489095,\n",
       " 'friends': 4.828641396489095,\n",
       " 'come': 4.828641396489095,\n",
       " '100': 4.828641396489095,\n",
       " 'rest': 4.828641396489095,\n",
       " 'inspections': 4.828641396489095,\n",
       " 'corporate': 4.828641396489095,\n",
       " 'freezer': 4.828641396489095,\n",
       " 'pissed': 4.828641396489095,\n",
       " 'gloves': 4.828641396489095,\n",
       " 'worker': 4.828641396489095,\n",
       " 'mess': 4.828641396489095,\n",
       " 'currently': 4.828641396489095,\n",
       " 'cable': 4.828641396489095,\n",
       " 'yelling': 4.828641396489095,\n",
       " 'open': 4.828641396489095,\n",
       " 'commercial': 4.828641396489095,\n",
       " 'garbage': 4.828641396489095,\n",
       " 'yellow': 4.828641396489095,\n",
       " 'set': 4.828641396489095,\n",
       " 'corner': 4.828641396489095,\n",
       " 'gets': 4.828641396489095,\n",
       " 'bathroom': 4.828641396489095,\n",
       " 'check': 4.828641396489095,\n",
       " 'crazy': 4.828641396489095,\n",
       " 'mom': 4.828641396489095,\n",
       " 'case': 4.828641396489095,\n",
       " 'problems': 4.828641396489095,\n",
       " 'aren': 4.828641396489095,\n",
       " 'repeatedly': 4.828641396489095,\n",
       " 'wondering': 4.828641396489095,\n",
       " 'plastic': 4.828641396489095,\n",
       " 'plus': 4.828641396489095,\n",
       " 'fish': 4.828641396489095,\n",
       " 'times': 4.828641396489095,\n",
       " 'smoked': 4.828641396489095,\n",
       " 'rats': 4.828641396489095,\n",
       " 'mentioned': 4.828641396489095,\n",
       " 'noise': 4.828641396489095,\n",
       " 'mouse': 4.828641396489095,\n",
       " 'government': 4.828641396489095,\n",
       " 'stopped': 4.828641396489095,\n",
       " 'round': 4.828641396489095,\n",
       " 'workers': 4.828641396489095,\n",
       " 'thrown': 4.828641396489095,\n",
       " 'product': 4.828641396489095,\n",
       " 'poisoning': 4.828641396489095,\n",
       " 'hut': 4.828641396489095,\n",
       " 'regulars': 4.828641396489095,\n",
       " 'boss': 4.828641396489095,\n",
       " 'needless': 4.828641396489095,\n",
       " 'ran': 4.828641396489095,\n",
       " 'police': 4.828641396489095,\n",
       " 'arms': 4.828641396489095,\n",
       " 'wear': 4.828641396489095,\n",
       " 'giving': 4.828641396489095,\n",
       " 'pest': 4.828641396489095,\n",
       " 'wood': 4.828641396489095,\n",
       " 'ex': 4.828641396489095,\n",
       " 'leaking': 4.828641396489095,\n",
       " 'lifted': 4.828641396489095,\n",
       " 'lady': 4.828641396489095,\n",
       " 'stepped': 4.828641396489095,\n",
       " 'kebab': 4.828641396489095,\n",
       " 'flick': 4.828641396489095,\n",
       " 'steak': 4.828641396489095,\n",
       " 'imgur': 4.828641396489095,\n",
       " 'moldy': 4.828641396489095,\n",
       " 'yes': 4.828641396489095,\n",
       " 'wish': 4.828641396489095,\n",
       " 'grocery': 4.828641396489095,\n",
       " 'bodies': 4.828641396489095,\n",
       " 'received': 4.828641396489095,\n",
       " 'gas': 4.828641396489095,\n",
       " 'fresh': 4.828641396489095,\n",
       " 'website': 4.828641396489095,\n",
       " 'outlet': 4.828641396489095,\n",
       " 'order': 4.828641396489095,\n",
       " 'blue': 4.828641396489095,\n",
       " 'woman': 4.828641396489095,\n",
       " 'metal': 4.828641396489095,\n",
       " 'stick': 4.828641396489095,\n",
       " 'teens': 4.828641396489095,\n",
       " 'asian': 4.828641396489095,\n",
       " 'bowl': 4.828641396489095,\n",
       " 'yard': 4.828641396489095,\n",
       " 'removed': 4.828641396489095,\n",
       " 'follow': 4.828641396489095,\n",
       " 'crap': 4.828641396489095,\n",
       " 'posts': 4.828641396489095,\n",
       " 'username': 4.828641396489095,\n",
       " 'rotten': 4.828641396489095,\n",
       " 'gravy': 4.828641396489095,\n",
       " 'wild': 4.828641396489095,\n",
       " 'interested': 4.828641396489095,\n",
       " 'dangerous': 4.64631983969514,\n",
       " 'entire': 4.64631983969514,\n",
       " 'birds': 4.64631983969514,\n",
       " 'chinese': 4.64631983969514,\n",
       " 'properly': 4.64631983969514,\n",
       " 'solid': 4.64631983969514,\n",
       " 'went': 4.64631983969514,\n",
       " 'complaints': 4.64631983969514,\n",
       " 'drink': 4.64631983969514,\n",
       " 'new': 4.64631983969514,\n",
       " 'showed': 4.64631983969514,\n",
       " 'improper': 4.64631983969514,\n",
       " 'comments': 4.64631983969514,\n",
       " 'lettuce': 4.64631983969514,\n",
       " 'found': 4.64631983969514,\n",
       " 'fridge': 4.64631983969514,\n",
       " 'sucking': 4.64631983969514,\n",
       " 'feces': 4.64631983969514,\n",
       " 'reuse': 4.64631983969514,\n",
       " 'nasty': 4.64631983969514,\n",
       " 'looked': 4.64631983969514,\n",
       " 'plates': 4.64631983969514,\n",
       " 'hard': 4.64631983969514,\n",
       " 'realizing': 4.64631983969514,\n",
       " 'goes': 4.64631983969514,\n",
       " 'formatting': 4.64631983969514,\n",
       " 'im': 4.64631983969514,\n",
       " 'days': 4.64631983969514,\n",
       " 'thinking': 4.64631983969514,\n",
       " 'major': 4.64631983969514,\n",
       " 'safety': 4.64631983969514,\n",
       " 'met': 4.64631983969514,\n",
       " 'mixed': 4.64631983969514,\n",
       " 'continue': 4.64631983969514,\n",
       " 'straight': 4.64631983969514,\n",
       " 'white': 4.64631983969514,\n",
       " 'prep': 4.64631983969514,\n",
       " '15': 4.64631983969514,\n",
       " 'allow': 4.64631983969514,\n",
       " 'star': 4.64631983969514,\n",
       " 'terrible': 4.64631983969514,\n",
       " 'locally': 4.64631983969514,\n",
       " 'green': 4.64631983969514,\n",
       " 'floors': 4.64631983969514,\n",
       " 'horrible': 4.64631983969514,\n",
       " 'ones': 4.64631983969514,\n",
       " 'license': 4.64631983969514,\n",
       " 'bring': 4.64631983969514,\n",
       " 'hose': 4.64631983969514,\n",
       " 'pick': 4.64631983969514,\n",
       " 'citations': 4.64631983969514,\n",
       " 'talking': 4.64631983969514,\n",
       " 'relatively': 4.64631983969514,\n",
       " 'small': 4.64631983969514,\n",
       " 'property': 4.64631983969514,\n",
       " 'cool': 4.64631983969514,\n",
       " 'spoon': 4.64631983969514,\n",
       " 'hairy': 4.64631983969514,\n",
       " 'obligatory': 4.64631983969514,\n",
       " 'askreddit': 4.64631983969514,\n",
       " 'chzsi3n': 4.64631983969514,\n",
       " 'ventilation': 4.64631983969514,\n",
       " 'bone': 4.64631983969514,\n",
       " 'news': 4.64631983969514,\n",
       " 'tomato': 4.64631983969514,\n",
       " 'allowed': 4.64631983969514,\n",
       " 'latex': 4.64631983969514,\n",
       " 'visited': 4.64631983969514,\n",
       " 'practically': 4.64631983969514,\n",
       " 'personal': 4.64631983969514,\n",
       " 'coffee': 4.64631983969514,\n",
       " 'baby': 4.64631983969514,\n",
       " 'popular': 4.64631983969514,\n",
       " 'chinatown': 4.64631983969514,\n",
       " 'beach': 4.64631983969514,\n",
       " 'incidents': 4.64631983969514,\n",
       " 'truth': 4.64631983969514,\n",
       " 'sewer': 4.64631983969514,\n",
       " 'humans': 4.64631983969514,\n",
       " 'alley': 4.64631983969514,\n",
       " 'beds': 4.64631983969514,\n",
       " 'low': 4.64631983969514,\n",
       " 'starts': 4.64631983969514,\n",
       " 'giant': 4.64631983969514,\n",
       " 'temp': 4.64631983969514,\n",
       " 'hometown': 4.64631983969514,\n",
       " 'pulled': 4.64631983969514,\n",
       " 'hairnet': 4.64631983969514,\n",
       " 'dairy': 4.64631983969514,\n",
       " 'attempted': 4.64631983969514,\n",
       " 'eggs': 4.64631983969514,\n",
       " 'thats': 4.64631983969514,\n",
       " 'inspect': 4.492169159867882,\n",
       " 'bread': 4.492169159867882,\n",
       " 'doors': 4.492169159867882,\n",
       " 'want': 4.492169159867882,\n",
       " 'pour': 4.492169159867882,\n",
       " 'won': 4.492169159867882,\n",
       " 'lost': 4.492169159867882,\n",
       " 'things': 4.492169159867882,\n",
       " 'walked': 4.492169159867882,\n",
       " 'degrees': 4.492169159867882,\n",
       " 'opened': 4.492169159867882,\n",
       " 'lunch': 4.492169159867882,\n",
       " 'honestly': 4.492169159867882,\n",
       " 'waitress': 4.492169159867882,\n",
       " 'smelled': 4.492169159867882,\n",
       " 'article': 4.492169159867882,\n",
       " 'approached': 4.492169159867882,\n",
       " 'absolutely': 4.492169159867882,\n",
       " 'pop': 4.492169159867882,\n",
       " 'returned': 4.492169159867882,\n",
       " 'taking': 4.492169159867882,\n",
       " 'haven': 4.492169159867882,\n",
       " 'weren': 4.492169159867882,\n",
       " '12': 4.492169159867882,\n",
       " 'building': 4.492169159867882,\n",
       " 'dump': 4.492169159867882,\n",
       " 'carcass': 4.492169159867882,\n",
       " 'run': 4.492169159867882,\n",
       " 'roach': 4.492169159867882,\n",
       " 'machines': 4.492169159867882,\n",
       " 'training': 4.492169159867882,\n",
       " 'guys': 4.492169159867882,\n",
       " 'truck': 4.492169159867882,\n",
       " 'stores': 4.492169159867882,\n",
       " 'touching': 4.492169159867882,\n",
       " 'dog': 4.492169159867882,\n",
       " 'home': 4.492169159867882,\n",
       " 'matter': 4.492169159867882,\n",
       " 'hair': 4.492169159867882,\n",
       " 'rodent': 4.492169159867882,\n",
       " 'foods': 4.492169159867882,\n",
       " 'sell': 4.492169159867882,\n",
       " 'https': 4.492169159867882,\n",
       " 'realized': 4.492169159867882,\n",
       " 'beef': 4.492169159867882,\n",
       " 'shocked': 4.492169159867882,\n",
       " 'vegetable': 4.492169159867882,\n",
       " 'cheese': 4.492169159867882,\n",
       " 'expensive': 4.492169159867882,\n",
       " 'cockroaches': 4.492169159867882,\n",
       " 'crawling': 4.492169159867882,\n",
       " 'juices': 4.492169159867882,\n",
       " 'arrived': 4.492169159867882,\n",
       " 'grade': 4.492169159867882,\n",
       " 'base': 4.492169159867882,\n",
       " 'longer': 4.492169159867882,\n",
       " 'wiped': 4.492169159867882,\n",
       " 'buffalo': 4.492169159867882,\n",
       " 'violations': 4.358637767243359,\n",
       " 'saw': 4.358637767243359,\n",
       " 'stuff': 4.358637767243359,\n",
       " 'eating': 4.358637767243359,\n",
       " 'isn': 4.358637767243359,\n",
       " 'pictures': 4.358637767243359,\n",
       " 'phone': 4.358637767243359,\n",
       " 'pretty': 4.358637767243359,\n",
       " 'clean': 4.358637767243359,\n",
       " 'cleaning': 4.358637767243359,\n",
       " 'quit': 4.358637767243359,\n",
       " 'add': 4.358637767243359,\n",
       " ...}"
      ]
     },
     "execution_count": 433,
     "metadata": {},
     "output_type": "execute_result"
    }
   ],
   "source": [
    "# looking at high tf-idf terms\n",
    "high_value_terms = dict(zip(tfidf.vocabulary_, tfidf.idf_))\n",
    "high_value_terms = dict(sorted(high_value_terms.items(), key=lambda item: item[1],reverse=True))\n",
    "high_value_terms"
   ]
  },
  {
   "cell_type": "code",
   "execution_count": null,
   "id": "023eaad4-5e2e-418b-ab19-7c17b2d4ca0a",
   "metadata": {},
   "outputs": [],
   "source": []
  }
 ],
 "metadata": {
  "kernelspec": {
   "display_name": "Python 3 (ipykernel)",
   "language": "python",
   "name": "python3"
  },
  "language_info": {
   "codemirror_mode": {
    "name": "ipython",
    "version": 3
   },
   "file_extension": ".py",
   "mimetype": "text/x-python",
   "name": "python",
   "nbconvert_exporter": "python",
   "pygments_lexer": "ipython3",
   "version": "3.9.12"
  }
 },
 "nbformat": 4,
 "nbformat_minor": 5
}
