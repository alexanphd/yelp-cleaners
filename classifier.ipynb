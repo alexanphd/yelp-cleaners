{
 "cells": [
  {
   "cell_type": "code",
   "execution_count": 5,
   "id": "cccf9fae-63be-4c17-9a8a-28c24d21ef1e",
   "metadata": {},
   "outputs": [],
   "source": [
    "%matplotlib inline\n",
    "import pandas as pd\n",
    "import numpy as np\n",
    "import matplotlib.pyplot as plt\n",
    "\n",
    "main_directory = r'C:\\Users\\ASUS\\Desktop\\ML-data science\\DataIncubator\\yelp-cleaners' + '\\\\'\n",
    "processed_data_directory = main_directory + r'data\\processed data' + '\\\\'"
   ]
  },
  {
   "cell_type": "code",
   "execution_count": 6,
   "id": "8e2e988d-36e8-408f-997e-1a2151977b88",
   "metadata": {},
   "outputs": [],
   "source": [
    "from sklearn.base import BaseEstimator, RegressorMixin, TransformerMixin\n",
    "from sklearn.compose import ColumnTransformer\n",
    "from sklearn.pipeline import Pipeline\n",
    "from sklearn.feature_extraction.text import CountVectorizer, TfidfVectorizer, TfidfTransformer, HashingVectorizer\n",
    "from sklearn.utils import shuffle\n",
    "from sklearn.model_selection import cross_val_score, GridSearchCV, train_test_split\n",
    "from sklearn.linear_model import Ridge, LinearRegression, SGDRegressor, LogisticRegression\n",
    "from sklearn import datasets, tree, utils\n",
    "from sklearn import model_selection, ensemble\n",
    "from sklearn.decomposition import TruncatedSVD\n",
    "from gensim.models import Word2Vec\n",
    "from gensim.utils import simple_preprocess"
   ]
  },
  {
   "cell_type": "code",
   "execution_count": 7,
   "id": "ffd1c7dd-3def-4422-841e-5db5da86b2a9",
   "metadata": {},
   "outputs": [],
   "source": [
    "import spacy\n",
    "# nlp = spacy.load(\"en_core_web_sm\")\n",
    "from spacy.lang.en.stop_words import STOP_WORDS\n",
    "STOP_WORDS = STOP_WORDS.union({'ll', 've'})\n",
    "from sklearn.naive_bayes import MultinomialNB"
   ]
  },
  {
   "cell_type": "code",
   "execution_count": 8,
   "id": "2f6421c2-0f22-493c-b2bb-945f9c3ca236",
   "metadata": {},
   "outputs": [],
   "source": [
    "# df = pd.read_csv(processed_data_directory + 'reviews_nearest_score_no_limit_df.csv')\n",
    "df = pd.read_csv(processed_data_directory + 'reviews_nearest_score_2_years_df.csv')"
   ]
  },
  {
   "cell_type": "markdown",
   "id": "abdc5da3-2d32-4530-8b8e-24271ad617fb",
   "metadata": {},
   "source": [
    "# classifier model"
   ]
  },
  {
   "cell_type": "markdown",
   "id": "cfa01df3-774b-4095-a569-f229e6fa2f4e",
   "metadata": {},
   "source": [
    "Regression is tricky with little data. Let's classify each inspection to the nearest 10, and try that."
   ]
  },
  {
   "cell_type": "code",
   "execution_count": 31,
   "id": "c12ba335-e2c7-4548-bddf-b747ced70881",
   "metadata": {},
   "outputs": [
    {
     "ename": "NameError",
     "evalue": "name 'roundup' is not defined",
     "output_type": "error",
     "traceback": [
      "\u001b[1;31m---------------------------------------------------------------------------\u001b[0m",
      "\u001b[1;31mNameError\u001b[0m                                 Traceback (most recent call last)",
      "\u001b[1;32m~\\AppData\\Local\\Temp\\ipykernel_18888\\4121660720.py\u001b[0m in \u001b[0;36m<cell line: 1>\u001b[1;34m()\u001b[0m\n\u001b[1;32m----> 1\u001b[1;33m \u001b[0mroundup\u001b[0m\u001b[1;33m(\u001b[0m\u001b[1;36m14.99\u001b[0m\u001b[1;33m)\u001b[0m\u001b[1;33m\u001b[0m\u001b[1;33m\u001b[0m\u001b[0m\n\u001b[0m",
      "\u001b[1;31mNameError\u001b[0m: name 'roundup' is not defined"
     ]
    }
   ],
   "source": [
    "roundup(14.99)"
   ]
  },
  {
   "cell_type": "code",
   "execution_count": 24,
   "id": "b2e5b9d9-d040-4c6b-9875-4fbaca0e0ef3",
   "metadata": {},
   "outputs": [
    {
     "data": {
      "text/plain": [
       "15"
      ]
     },
     "execution_count": 24,
     "metadata": {},
     "output_type": "execute_result"
    }
   ],
   "source": [
    "np.round(15,10)"
   ]
  },
  {
   "cell_type": "code",
   "execution_count": 12,
   "id": "7e7477fe-bcc0-489b-858f-c8919c09d928",
   "metadata": {},
   "outputs": [
    {
     "data": {
      "text/plain": [
       "1"
      ]
     },
     "execution_count": 12,
     "metadata": {},
     "output_type": "execute_result"
    }
   ],
   "source": [
    "round(0.5)"
   ]
  },
  {
   "cell_type": "code",
   "execution_count": 35,
   "id": "5a739999-222a-411f-a3fa-3def45c6f0e9",
   "metadata": {},
   "outputs": [],
   "source": [
    "import math"
   ]
  },
  {
   "cell_type": "code",
   "execution_count": 42,
   "id": "d27d8d8f-d5ff-45ed-ab9d-f3e95cbe4b1c",
   "metadata": {},
   "outputs": [
    {
     "data": {
      "text/plain": [
       "95     73111\n",
       "90     49350\n",
       "100    45935\n",
       "85     24646\n",
       "80     13506\n",
       "75      7139\n",
       "70      2160\n",
       "65       657\n",
       "55        65\n",
       "60        46\n",
       "45         2\n",
       "Name: Score, dtype: int64"
      ]
     },
     "execution_count": 42,
     "metadata": {},
     "output_type": "execute_result"
    }
   ],
   "source": [
    "df.Score.apply(lambda x: math.ceil(x / 5) * 5).value_counts()"
   ]
  },
  {
   "cell_type": "code",
   "execution_count": 45,
   "id": "43fd843b-fe26-487c-88b8-49624449e2f7",
   "metadata": {},
   "outputs": [
    {
     "data": {
      "text/plain": [
       "(array([2.0000e+00, 6.5000e+01, 4.6000e+01, 8.4200e+02, 3.7880e+03,\n",
       "        9.1600e+03, 2.0858e+04, 3.8106e+04, 8.2092e+04, 6.1658e+04]),\n",
       " array([ 44. ,  49.6,  55.2,  60.8,  66.4,  72. ,  77.6,  83.2,  88.8,\n",
       "         94.4, 100. ]),\n",
       " <BarContainer object of 10 artists>)"
      ]
     },
     "execution_count": 45,
     "metadata": {},
     "output_type": "execute_result"
    },
    {
     "data": {
      "image/png": "[encoded data removed]",
      "text/plain": [
       "<Figure size 432x288 with 1 Axes>"
      ]
     },
     "metadata": {
      "needs_background": "light"
     },
     "output_type": "display_data"
    }
   ],
   "source": [
    "plt.hist(df.Score.apply(round))"
   ]
  },
  {
   "cell_type": "code",
   "execution_count": null,
   "id": "5852bc10-bb06-457c-bf0c-055e453906c6",
   "metadata": {},
   "outputs": [],
   "source": []
  }
 ],
 "metadata": {
  "kernelspec": {
   "display_name": "Python 3 (ipykernel)",
   "language": "python",
   "name": "python3"
  },
  "language_info": {
   "codemirror_mode": {
    "name": "ipython",
    "version": 3
   },
   "file_extension": ".py",
   "mimetype": "text/x-python",
   "name": "python",
   "nbconvert_exporter": "python",
   "pygments_lexer": "ipython3",
   "version": "3.9.7"
  }
 },
 "nbformat": 4,
 "nbformat_minor": 5
}
