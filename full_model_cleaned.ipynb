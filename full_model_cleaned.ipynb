{
 "cells": [
  {
   "cell_type": "code",
   "execution_count": 12,
   "id": "b9aadcd5-1dfe-4ab4-9138-e738dd51d93e",
   "metadata": {},
   "outputs": [
    {
     "name": "stdout",
     "output_type": "stream",
     "text": [
      "CPU times: total: 1min 30s\n",
      "Wall time: 1min 31s\n"
     ]
    }
   ],
   "source": [
    "%%time\n",
    "import models as md"
   ]
  },
  {
   "cell_type": "code",
   "execution_count": 18,
   "id": "d280932a-6a8e-423d-a6c6-51dce78858df",
   "metadata": {},
   "outputs": [],
   "source": [
    "import yelp_query\n",
    "import numpy as np\n",
    "import matplotlib.pyplot as plt"
   ]
  },
  {
   "cell_type": "code",
   "execution_count": 19,
   "id": "d74fc990-ecac-4509-af8d-525586d55e23",
   "metadata": {},
   "outputs": [
    {
     "name": "stdout",
     "output_type": "stream",
     "text": [
      "Business found: Super Bowl\n"
     ]
    }
   ],
   "source": [
    "business_id, reviews = yelp_query.get_reviews(\n",
    "    name = \"Super Bowl\",\n",
    "    address=\"719 W William Cannon Dr Ste 103\"\n",
    ")"
   ]
  },
  {
   "cell_type": "code",
   "execution_count": 22,
   "id": "ebb72949-02ce-4adc-938d-4f9b97e04639",
   "metadata": {},
   "outputs": [],
   "source": [
    "review_features = md.review_list_2vec(reviews)\n",
    "features = md.agg_features(review_features)\n",
    "score = md.model.predict(features)"
   ]
  },
  {
   "cell_type": "code",
   "execution_count": 21,
   "id": "325f60d9-10ca-46b0-94f0-30eeeab99170",
   "metadata": {},
   "outputs": [
    {
     "data": {
      "image/png": "[encoded data removed]",
      "text/plain": [
       "<Figure size 432x288 with 1 Axes>"
      ]
     },
     "metadata": {
      "needs_background": "light"
     },
     "output_type": "display_data"
    }
   ],
   "source": [
    "import matplotlib.pyplot as plt\n",
    "plt.hist(review_features.both_sim,bins=20)\n",
    "plt.show()"
   ]
  },
  {
   "cell_type": "code",
   "execution_count": 16,
   "id": "a2141761-1088-43f9-a8be-89297f8c145f",
   "metadata": {},
   "outputs": [],
   "source": [
    "all_predicted_scores = np.loadtxt('data/processed data/predicted_business_insp_scores.csv', delimiter=',')"
   ]
  },
  {
   "cell_type": "code",
   "execution_count": 145,
   "id": "323b3449-a573-4943-9a1f-06a41a5beb81",
   "metadata": {},
   "outputs": [
    {
     "name": "stdout",
     "output_type": "stream",
     "text": [
      "Cleaner than 2.31% of all restaurants!\n"
     ]
    },
    {
     "data": {
      "image/png": "[encoded data removed]",
      "text/plain": [
       "<Figure size 700x500 with 1 Axes>"
      ]
     },
     "metadata": {
      "needs_background": "light"
     },
     "output_type": "display_data"
    }
   ],
   "source": [
    "# plot \n",
    "percentile = sum(all_predicted_scores < score)/len(all_predicted_scores)*100\n",
    "print('Cleaner than {:.2f}% of all restaurants!'.format(percentile))\n",
    "fig = plt.figure(figsize=(7,5),dpi=100)\n",
    "bin_y, bin_x, bars = plt.hist(all_predicted_scores,bins=75,alpha=1,color='xkcd:sky blue')\n",
    "ax = plt.gca()\n",
    "ax.axes.yaxis.set_ticklabels([])\n",
    "ax.axes.tick_params('y',left=False)\n",
    "# plt.axvline(x=score,color='black')\n",
    "bin_height = min(bin_y[np.argmin(np.abs(bin_x-score))],80)\n",
    "plt.arrow(score, bin_height+13, 0, -10, length_includes_head=True,\n",
    "          head_width=0.5, head_length=3, color='black')\n",
    "plt.xlabel('Score (/100)')\n",
    "plt.ylabel('# restaurants')\n",
    "plt.show()"
   ]
  },
  {
   "cell_type": "code",
   "execution_count": null,
   "id": "0f69efd2-5e84-4fa1-bc89-b0978fcc3b59",
   "metadata": {},
   "outputs": [],
   "source": []
  }
 ],
 "metadata": {
  "kernelspec": {
   "display_name": "Python 3 (ipykernel)",
   "language": "python",
   "name": "python3"
  },
  "language_info": {
   "codemirror_mode": {
    "name": "ipython",
    "version": 3
   },
   "file_extension": ".py",
   "mimetype": "text/x-python",
   "name": "python",
   "nbconvert_exporter": "python",
   "pygments_lexer": "ipython3",
   "version": "3.9.12"
  }
 },
 "nbformat": 4,
 "nbformat_minor": 5
}
