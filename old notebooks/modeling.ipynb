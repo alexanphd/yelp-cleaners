{
 "cells": [
  {
   "cell_type": "code",
   "execution_count": 805,
   "id": "cccf9fae-63be-4c17-9a8a-28c24d21ef1e",
   "metadata": {},
   "outputs": [],
   "source": [
    "%matplotlib inline\n",
    "import pandas as pd\n",
    "import numpy as np\n",
    "import matplotlib.pyplot as plt\n",
    "import re, scipy, math, sklearn\n",
    "import pickle as pkl\n",
    "from collections import Counter, OrderedDict\n",
    "\n",
    "main_directory = r'C:\\Users\\ASUS\\Desktop\\ML-data science\\DataIncubator\\yelp-cleaners' + '\\\\'\n",
    "data_directory = main_directory + 'data' + '\\\\'\n",
    "processed_data_directory = data_directory + r'processed data' + '\\\\'\n",
    "model_directory = data_directory + r'models' + '\\\\'"
   ]
  },
  {
   "cell_type": "code",
   "execution_count": 806,
   "id": "e123f085-47ed-4ab8-a374-76ca4acd4ffe",
   "metadata": {},
   "outputs": [],
   "source": [
    "business_df_latest = pd.read_csv(processed_data_directory + 'business_df_latest_inspection.csv')\n",
    "business_df = pd.read_csv(processed_data_directory + 'business_df.csv')\n",
    "review_df = pd.read_csv(processed_data_directory + 'review_df.csv')"
   ]
  },
  {
   "cell_type": "code",
   "execution_count": 807,
   "id": "8e2e988d-36e8-408f-997e-1a2151977b88",
   "metadata": {},
   "outputs": [],
   "source": [
    "from sklearn import datasets, tree, utils, model_selection, ensemble\n",
    "from sklearn.base import BaseEstimator, RegressorMixin, TransformerMixin\n",
    "from sklearn.compose import ColumnTransformer\n",
    "from sklearn.pipeline import Pipeline\n",
    "from sklearn.feature_extraction.text import CountVectorizer, TfidfVectorizer, TfidfTransformer, HashingVectorizer\n",
    "from sklearn.utils import shuffle\n",
    "from sklearn.model_selection import cross_val_score, GridSearchCV, train_test_split\n",
    "from sklearn.linear_model import Ridge, LinearRegression, SGDRegressor, LogisticRegression\n",
    "from sklearn.decomposition import TruncatedSVD\n",
    "from sklearn.preprocessing import MinMaxScaler\n",
    "from sklearn.naive_bayes import MultinomialNB, GaussianNB\n",
    "from sklearn.cluster import KMeans\n",
    "from gensim.models import Word2Vec\n",
    "from gensim.utils import simple_preprocess"
   ]
  },
  {
   "cell_type": "code",
   "execution_count": 808,
   "id": "2597c4e4-83bc-4d86-84e2-e492307d5f95",
   "metadata": {},
   "outputs": [],
   "source": [
    "from yelpapi import YelpAPI\n",
    "# get yelp api key stored in txt file\n",
    "f = open(data_directory + 'yelp_api_key.txt','r')\n",
    "api_key = f.read()\n",
    "f.close()"
   ]
  },
  {
   "cell_type": "code",
   "execution_count": 809,
   "id": "ffd1c7dd-3def-4422-841e-5db5da86b2a9",
   "metadata": {},
   "outputs": [],
   "source": [
    "import spacy\n",
    "nlp = spacy.load(\"en_core_web_sm\")\n",
    "from spacy.lang.en.stop_words import STOP_WORDS\n",
    "STOP_WORDS = STOP_WORDS.union({'ll', 've'})"
   ]
  },
  {
   "cell_type": "markdown",
   "id": "abdc5da3-2d32-4530-8b8e-24271ad617fb",
   "metadata": {},
   "source": [
    "# bag of words model"
   ]
  },
  {
   "cell_type": "markdown",
   "id": "cfa01df3-774b-4095-a569-f229e6fa2f4e",
   "metadata": {},
   "source": [
    "Regression is tricky with little data. Let's classify each inspection to the nearest 1, and try that."
   ]
  },
  {
   "cell_type": "code",
   "execution_count": 668,
   "id": "2f6421c2-0f22-493c-b2bb-945f9c3ca236",
   "metadata": {},
   "outputs": [],
   "source": [
    "df = pd.read_csv(processed_data_directory + 'reviews_nearest_score_no_limit_df.csv')\n",
    "# df = pd.read_csv(processed_data_directory + 'reviews_nearest_score_2_years_df.csv')"
   ]
  },
  {
   "cell_type": "code",
   "execution_count": 6,
   "id": "62ab1e62-c9d6-4ea6-a984-b02d0daba427",
   "metadata": {},
   "outputs": [
    {
     "name": "stdout",
     "output_type": "stream",
     "text": [
      "4184/570614 (0.7332452410911755%) are fractional scores\n"
     ]
    }
   ],
   "source": [
    "yy = np.array(df['Score'])\n",
    "print(f'{sum(yy%1 != 0.0)}/{len(yy)} ({sum(yy%1 != 0.0)/len(yy)*100}%) are fractional scores')"
   ]
  },
  {
   "cell_type": "markdown",
   "id": "37226c1d-7a85-4ec3-8fe9-f0908d41ffd0",
   "metadata": {},
   "source": [
    "rounding each score to the ones digit only changes <1% of the scores. This shouldn't change much."
   ]
  },
  {
   "cell_type": "markdown",
   "id": "8bb18507-0617-4703-9791-0066e6f3975c",
   "metadata": {
    "tags": []
   },
   "source": [
    "## build single review model"
   ]
  },
  {
   "cell_type": "markdown",
   "id": "04a0c0ab-3e01-400b-83a3-8b605e47bce1",
   "metadata": {
    "tags": []
   },
   "source": [
    "### feature engineering"
   ]
  },
  {
   "cell_type": "code",
   "execution_count": 116,
   "id": "bde0d678-2d1f-40e7-8722-5aaf884b4d80",
   "metadata": {},
   "outputs": [],
   "source": [
    "# # let's just look at businesses with >100 reviews\n",
    "# num_reviews = df.business_id.value_counts()\n",
    "# valid_businesses = num_reviews[num_reviews >= 100].index\n",
    "# df = df[df['business_id'].isin(valid_businesses)].reset_index(drop=True)"
   ]
  },
  {
   "cell_type": "code",
   "execution_count": 117,
   "id": "696ef6e5-acbc-43ee-b2f5-29d94f8862c0",
   "metadata": {},
   "outputs": [],
   "source": [
    "# # only look at outraged customers\n",
    "# df = df[df.review_stars <= 3]"
   ]
  },
  {
   "cell_type": "code",
   "execution_count": 669,
   "id": "a5fb9445-1949-48fb-81e1-8ef6b89fbc51",
   "metadata": {},
   "outputs": [],
   "source": [
    "reviews = np.array(df['text'])\n",
    "scores = np.array(df['Score'])\n",
    "X, y = reviews, scores\n",
    "# round\n",
    "roundby = 1\n",
    "y = np.array(list(map(lambda x: math.ceil(x / roundby) * roundby,y)))\n",
    "# classify into two categories\n",
    "# thresh = 80\n",
    "# y = np.array(list(map(lambda x: 1 if x > thresh else 0, y)))"
   ]
  },
  {
   "cell_type": "code",
   "execution_count": 43,
   "id": "ec01eeeb-e601-4514-93e2-554fa2f9f314",
   "metadata": {},
   "outputs": [],
   "source": [
    "# simple bag of words\n",
    "bow_vectorizer = TfidfVectorizer(min_df=10,\n",
    "                                 max_df=0.5,\n",
    "                                 max_features=20000,\n",
    "                                 ngram_range=(1,2),\n",
    "                                 stop_words=STOP_WORDS)\n",
    "# svd = TruncatedSVD(n_components=100)\n",
    "features = Pipeline([\n",
    "    ('tfidf',bow_vectorizer),\n",
    "    ('svd',TruncatedSVD(n_components=200)),\n",
    "    ('minmax',MinMaxScaler(feature_range=(0,1))) # necessary for NB\n",
    "])"
   ]
  },
  {
   "cell_type": "code",
   "execution_count": 44,
   "id": "aca1a0f3-435b-4b86-98db-aa4a94618176",
   "metadata": {},
   "outputs": [],
   "source": [
    "# # looking at high tf-idf terms\n",
    "# high_value_terms = dict(zip(features.named_steps.tfidf.vocabulary_, features.named_steps.tfidf.idf_))\n",
    "# high_value_terms = dict(sorted(high_value_terms.items(), key=lambda item: item[1],reverse=False))\n",
    "# high_value_terms"
   ]
  },
  {
   "cell_type": "code",
   "execution_count": 45,
   "id": "4e4f83f5-1b7e-47f3-a0bc-9df66ecc3be0",
   "metadata": {},
   "outputs": [
    {
     "name": "stdout",
     "output_type": "stream",
     "text": [
      "Wall time: 5min 1s\n"
     ]
    }
   ],
   "source": [
    "%%time\n",
    "X_out = features.fit_transform(X,y)"
   ]
  },
  {
   "cell_type": "code",
   "execution_count": 46,
   "id": "2521404b-1efb-4628-ae65-3a2f3765a8d9",
   "metadata": {},
   "outputs": [],
   "source": [
    "X_out_shuff, y_shuff = shuffle(X_out, y, random_state=42)\n",
    "X_train, X_test, y_train, y_test = train_test_split(X_out_shuff, y_shuff, test_size=0.2)"
   ]
  },
  {
   "cell_type": "code",
   "execution_count": 175,
   "id": "b6a746a2-8fa8-489d-9eb4-4868c81ba8dd",
   "metadata": {},
   "outputs": [],
   "source": [
    "# save to file\n",
    "filename = model_directory + 'individual_review_features.pkl'\n",
    "# pkl.dump(features, open(filename,'wb'))"
   ]
  },
  {
   "cell_type": "markdown",
   "id": "0f7bf75e-8cc1-434d-9857-80231c862ef2",
   "metadata": {},
   "source": [
    "make sure pickling worked"
   ]
  },
  {
   "cell_type": "code",
   "execution_count": null,
   "id": "31267820-de4b-4277-b6f6-43eb9dad7864",
   "metadata": {},
   "outputs": [],
   "source": [
    "filename = model_directory + 'individual_review_features.pkl'\n",
    "loaded_features = pkl.load(open(filename, 'rb'))"
   ]
  },
  {
   "cell_type": "code",
   "execution_count": 177,
   "id": "d077f41c-1cfc-4151-a0d2-44d89eaf1d99",
   "metadata": {},
   "outputs": [],
   "source": [
    "X_out_2 = loaded_features.transform(X)"
   ]
  },
  {
   "cell_type": "code",
   "execution_count": 181,
   "id": "1e4e14a5-0ca8-4ee1-b99c-f1dd89645e2f",
   "metadata": {},
   "outputs": [
    {
     "data": {
      "text/plain": [
       "-6.583995501574513e-13"
      ]
     },
     "execution_count": 181,
     "metadata": {},
     "output_type": "execute_result"
    }
   ],
   "source": [
    "# they're the same, so pickling works\n",
    "sum(sum(X_out - X_out_2))"
   ]
  },
  {
   "cell_type": "markdown",
   "id": "06234856-a291-4b77-8131-6f60cda33906",
   "metadata": {
    "tags": []
   },
   "source": [
    "### test different models"
   ]
  },
  {
   "cell_type": "code",
   "execution_count": 48,
   "id": "bbdd8f10-c3a4-4120-a2ea-a39007677927",
   "metadata": {},
   "outputs": [],
   "source": [
    "def test_regressor(regressor,print_R2=True,residual_hist=True,predictions_hist=True):\n",
    "    regressor.fit(X_train,y_train)\n",
    "    if print_R2:\n",
    "        print(f'R^2 score: {regressor.score(X_test, y_test)}')\n",
    "    y_predict = regressor.predict(X_test)\n",
    "    if residual_hist:\n",
    "        fig = plt.figure(1)\n",
    "        plt.hist(y_predict-y_test,bins=30,alpha=0.5);\n",
    "        plt.show()\n",
    "    if predictions_hist:\n",
    "        fig = plt.figure(2)\n",
    "        plt.hist(y_predict,bins=30,alpha=0.5)\n",
    "        plt.hist(y_test,bins=30,alpha=0.5)\n",
    "        plt.show()"
   ]
  },
  {
   "cell_type": "code",
   "execution_count": 49,
   "id": "245f37cc-4d9b-4154-a87a-de292264d7e8",
   "metadata": {},
   "outputs": [
    {
     "name": "stdout",
     "output_type": "stream",
     "text": [
      "R^2 score: 0.1199595208057419\n"
     ]
    },
    {
     "data": {
      "image/png": "[encoded data removed]",
      "text/plain": [
       "<Figure size 432x288 with 1 Axes>"
      ]
     },
     "metadata": {
      "needs_background": "light"
     },
     "output_type": "display_data"
    },
    {
     "data": {
      "image/png": "[encoded data removed]",
      "text/plain": [
       "<Figure size 432x288 with 1 Axes>"
      ]
     },
     "metadata": {
      "needs_background": "light"
     },
     "output_type": "display_data"
    },
    {
     "name": "stdout",
     "output_type": "stream",
     "text": [
      "Wall time: 4.3 s\n"
     ]
    }
   ],
   "source": [
    "%%time\n",
    "regressor = Ridge(alpha=10)\n",
    "test_regressor(regressor)"
   ]
  },
  {
   "cell_type": "code",
   "execution_count": 138,
   "id": "d3b48e88-c816-4dc9-979d-3af64c7fa675",
   "metadata": {},
   "outputs": [
    {
     "name": "stderr",
     "output_type": "stream",
     "text": [
      "C:\\Users\\ASUS\\anaconda3\\lib\\site-packages\\sklearn\\linear_model\\_logistic.py:814: ConvergenceWarning: lbfgs failed to converge (status=1):\n",
      "STOP: TOTAL NO. of ITERATIONS REACHED LIMIT.\n",
      "\n",
      "Increase the number of iterations (max_iter) or scale the data as shown in:\n",
      "    https://scikit-learn.org/stable/modules/preprocessing.html\n",
      "Please also refer to the documentation for alternative solver options:\n",
      "    https://scikit-learn.org/stable/modules/linear_model.html#logistic-regression\n",
      "  n_iter_i = _check_optimize_result(\n"
     ]
    },
    {
     "name": "stdout",
     "output_type": "stream",
     "text": [
      "R^2 score: 0.14601789297512333\n"
     ]
    },
    {
     "data": {
      "image/png": "[encoded data removed]",
      "text/plain": [
       "<Figure size 432x288 with 1 Axes>"
      ]
     },
     "metadata": {
      "needs_background": "light"
     },
     "output_type": "display_data"
    },
    {
     "data": {
      "image/png": "[encoded data removed]",
      "text/plain": [
       "<Figure size 432x288 with 1 Axes>"
      ]
     },
     "metadata": {
      "needs_background": "light"
     },
     "output_type": "display_data"
    },
    {
     "name": "stdout",
     "output_type": "stream",
     "text": [
      "Wall time: 4min 19s\n"
     ]
    }
   ],
   "source": [
    "%%time\n",
    "regressor = LogisticRegression(solver = 'lbfgs', max_iter=100)\n",
    "test_regressor(regressor)"
   ]
  },
  {
   "cell_type": "code",
   "execution_count": 52,
   "id": "000b373b-fb87-4609-9b22-cbe708a22dbc",
   "metadata": {
    "tags": []
   },
   "outputs": [
    {
     "name": "stdout",
     "output_type": "stream",
     "text": [
      "Wall time: 17.2 s\n"
     ]
    },
    {
     "data": {
      "text/plain": [
       "{'alpha': 10}"
      ]
     },
     "execution_count": 52,
     "metadata": {},
     "output_type": "execute_result"
    }
   ],
   "source": [
    "%%time\n",
    "parameters = {\n",
    "    'alpha': [0.01,0.1,1,10]\n",
    "}\n",
    "gs = GridSearchCV(regressor, parameters)\n",
    "gs.fit(X_test,y_test)\n",
    "gs.best_params_"
   ]
  },
  {
   "cell_type": "code",
   "execution_count": null,
   "id": "f5669c32-ae46-43de-9802-e88238df97df",
   "metadata": {
    "collapsed": true,
    "jupyter": {
     "outputs_hidden": true
    },
    "tags": []
   },
   "outputs": [
    {
     "name": "stdout",
     "output_type": "stream",
     "text": [
      "R^2 score: 0.0871341519711938\n"
     ]
    },
    {
     "data": {
      "image/png": "[encoded data removed]",
      "text/plain": [
       "<Figure size 432x288 with 1 Axes>"
      ]
     },
     "metadata": {
      "needs_background": "light"
     },
     "output_type": "display_data"
    },
    {
     "data": {
      "image/png": "[encoded data removed]",
      "text/plain": [
       "<Figure size 432x288 with 1 Axes>"
      ]
     },
     "metadata": {
      "needs_background": "light"
     },
     "output_type": "display_data"
    },
    {
     "name": "stdout",
     "output_type": "stream",
     "text": [
      "Wall time: 1.09 s\n"
     ]
    }
   ],
   "source": [
    "# %%time\n",
    "# regressor = MultinomialNB()\n",
    "# test_regressor(regressor)"
   ]
  },
  {
   "cell_type": "code",
   "execution_count": 128,
   "id": "1634bb22-4182-496d-a622-c2675e9deeb3",
   "metadata": {},
   "outputs": [],
   "source": [
    "# priors = OrderedDict(sorted(Counter(y_test).items()))\n",
    "# priors = np.fromiter(priors.values(), dtype=float)/len(y_test)"
   ]
  },
  {
   "cell_type": "code",
   "execution_count": 236,
   "id": "80519e9e-76eb-48e0-8c0f-0ca685aa8899",
   "metadata": {},
   "outputs": [
    {
     "ename": "KeyboardInterrupt",
     "evalue": "",
     "output_type": "error",
     "traceback": [
      "\u001b[1;31m---------------------------------------------------------------------------\u001b[0m",
      "\u001b[1;31mKeyboardInterrupt\u001b[0m                         Traceback (most recent call last)",
      "\u001b[1;32m<timed exec>\u001b[0m in \u001b[0;36m<module>\u001b[1;34m\u001b[0m\n",
      "\u001b[1;32m~\\AppData\\Local\\Temp\\ipykernel_24952\\2870973312.py\u001b[0m in \u001b[0;36mtest_regressor\u001b[1;34m(regressor, print_R2, residual_hist, predictions_hist)\u001b[0m\n\u001b[0;32m      2\u001b[0m     \u001b[0mregressor\u001b[0m\u001b[1;33m.\u001b[0m\u001b[0mfit\u001b[0m\u001b[1;33m(\u001b[0m\u001b[0mX_train\u001b[0m\u001b[1;33m,\u001b[0m\u001b[0my_train\u001b[0m\u001b[1;33m)\u001b[0m\u001b[1;33m\u001b[0m\u001b[1;33m\u001b[0m\u001b[0m\n\u001b[0;32m      3\u001b[0m     \u001b[1;32mif\u001b[0m \u001b[0mprint_R2\u001b[0m\u001b[1;33m:\u001b[0m\u001b[1;33m\u001b[0m\u001b[1;33m\u001b[0m\u001b[0m\n\u001b[1;32m----> 4\u001b[1;33m         \u001b[0mprint\u001b[0m\u001b[1;33m(\u001b[0m\u001b[1;34mf'R^2 score: {regressor.score(X_test, y_test)}'\u001b[0m\u001b[1;33m)\u001b[0m\u001b[1;33m\u001b[0m\u001b[1;33m\u001b[0m\u001b[0m\n\u001b[0m\u001b[0;32m      5\u001b[0m     \u001b[0my_predict\u001b[0m \u001b[1;33m=\u001b[0m \u001b[0mregressor\u001b[0m\u001b[1;33m.\u001b[0m\u001b[0mpredict\u001b[0m\u001b[1;33m(\u001b[0m\u001b[0mX_test\u001b[0m\u001b[1;33m)\u001b[0m\u001b[1;33m\u001b[0m\u001b[1;33m\u001b[0m\u001b[0m\n\u001b[0;32m      6\u001b[0m     \u001b[1;32mif\u001b[0m \u001b[0mresidual_hist\u001b[0m\u001b[1;33m:\u001b[0m\u001b[1;33m\u001b[0m\u001b[1;33m\u001b[0m\u001b[0m\n",
      "\u001b[1;32m~\\anaconda3\\lib\\site-packages\\sklearn\\base.py\u001b[0m in \u001b[0;36mscore\u001b[1;34m(self, X, y, sample_weight)\u001b[0m\n\u001b[0;32m    649\u001b[0m         \u001b[1;32mfrom\u001b[0m \u001b[1;33m.\u001b[0m\u001b[0mmetrics\u001b[0m \u001b[1;32mimport\u001b[0m \u001b[0maccuracy_score\u001b[0m\u001b[1;33m\u001b[0m\u001b[1;33m\u001b[0m\u001b[0m\n\u001b[0;32m    650\u001b[0m \u001b[1;33m\u001b[0m\u001b[0m\n\u001b[1;32m--> 651\u001b[1;33m         \u001b[1;32mreturn\u001b[0m \u001b[0maccuracy_score\u001b[0m\u001b[1;33m(\u001b[0m\u001b[0my\u001b[0m\u001b[1;33m,\u001b[0m \u001b[0mself\u001b[0m\u001b[1;33m.\u001b[0m\u001b[0mpredict\u001b[0m\u001b[1;33m(\u001b[0m\u001b[0mX\u001b[0m\u001b[1;33m)\u001b[0m\u001b[1;33m,\u001b[0m \u001b[0msample_weight\u001b[0m\u001b[1;33m=\u001b[0m\u001b[0msample_weight\u001b[0m\u001b[1;33m)\u001b[0m\u001b[1;33m\u001b[0m\u001b[1;33m\u001b[0m\u001b[0m\n\u001b[0m\u001b[0;32m    652\u001b[0m \u001b[1;33m\u001b[0m\u001b[0m\n\u001b[0;32m    653\u001b[0m     \u001b[1;32mdef\u001b[0m \u001b[0m_more_tags\u001b[0m\u001b[1;33m(\u001b[0m\u001b[0mself\u001b[0m\u001b[1;33m)\u001b[0m\u001b[1;33m:\u001b[0m\u001b[1;33m\u001b[0m\u001b[1;33m\u001b[0m\u001b[0m\n",
      "\u001b[1;32m~\\anaconda3\\lib\\site-packages\\sklearn\\naive_bayes.py\u001b[0m in \u001b[0;36mpredict\u001b[1;34m(self, X)\u001b[0m\n\u001b[0;32m     81\u001b[0m         \u001b[0mcheck_is_fitted\u001b[0m\u001b[1;33m(\u001b[0m\u001b[0mself\u001b[0m\u001b[1;33m)\u001b[0m\u001b[1;33m\u001b[0m\u001b[1;33m\u001b[0m\u001b[0m\n\u001b[0;32m     82\u001b[0m         \u001b[0mX\u001b[0m \u001b[1;33m=\u001b[0m \u001b[0mself\u001b[0m\u001b[1;33m.\u001b[0m\u001b[0m_check_X\u001b[0m\u001b[1;33m(\u001b[0m\u001b[0mX\u001b[0m\u001b[1;33m)\u001b[0m\u001b[1;33m\u001b[0m\u001b[1;33m\u001b[0m\u001b[0m\n\u001b[1;32m---> 83\u001b[1;33m         \u001b[0mjll\u001b[0m \u001b[1;33m=\u001b[0m \u001b[0mself\u001b[0m\u001b[1;33m.\u001b[0m\u001b[0m_joint_log_likelihood\u001b[0m\u001b[1;33m(\u001b[0m\u001b[0mX\u001b[0m\u001b[1;33m)\u001b[0m\u001b[1;33m\u001b[0m\u001b[1;33m\u001b[0m\u001b[0m\n\u001b[0m\u001b[0;32m     84\u001b[0m         \u001b[1;32mreturn\u001b[0m \u001b[0mself\u001b[0m\u001b[1;33m.\u001b[0m\u001b[0mclasses_\u001b[0m\u001b[1;33m[\u001b[0m\u001b[0mnp\u001b[0m\u001b[1;33m.\u001b[0m\u001b[0margmax\u001b[0m\u001b[1;33m(\u001b[0m\u001b[0mjll\u001b[0m\u001b[1;33m,\u001b[0m \u001b[0maxis\u001b[0m\u001b[1;33m=\u001b[0m\u001b[1;36m1\u001b[0m\u001b[1;33m)\u001b[0m\u001b[1;33m]\u001b[0m\u001b[1;33m\u001b[0m\u001b[1;33m\u001b[0m\u001b[0m\n\u001b[0;32m     85\u001b[0m \u001b[1;33m\u001b[0m\u001b[0m\n",
      "\u001b[1;32m~\\anaconda3\\lib\\site-packages\\sklearn\\naive_bayes.py\u001b[0m in \u001b[0;36m_joint_log_likelihood\u001b[1;34m(self, X)\u001b[0m\n\u001b[0;32m    488\u001b[0m             \u001b[0mjointi\u001b[0m \u001b[1;33m=\u001b[0m \u001b[0mnp\u001b[0m\u001b[1;33m.\u001b[0m\u001b[0mlog\u001b[0m\u001b[1;33m(\u001b[0m\u001b[0mself\u001b[0m\u001b[1;33m.\u001b[0m\u001b[0mclass_prior_\u001b[0m\u001b[1;33m[\u001b[0m\u001b[0mi\u001b[0m\u001b[1;33m]\u001b[0m\u001b[1;33m)\u001b[0m\u001b[1;33m\u001b[0m\u001b[1;33m\u001b[0m\u001b[0m\n\u001b[0;32m    489\u001b[0m             \u001b[0mn_ij\u001b[0m \u001b[1;33m=\u001b[0m \u001b[1;33m-\u001b[0m\u001b[1;36m0.5\u001b[0m \u001b[1;33m*\u001b[0m \u001b[0mnp\u001b[0m\u001b[1;33m.\u001b[0m\u001b[0msum\u001b[0m\u001b[1;33m(\u001b[0m\u001b[0mnp\u001b[0m\u001b[1;33m.\u001b[0m\u001b[0mlog\u001b[0m\u001b[1;33m(\u001b[0m\u001b[1;36m2.0\u001b[0m \u001b[1;33m*\u001b[0m \u001b[0mnp\u001b[0m\u001b[1;33m.\u001b[0m\u001b[0mpi\u001b[0m \u001b[1;33m*\u001b[0m \u001b[0mself\u001b[0m\u001b[1;33m.\u001b[0m\u001b[0mvar_\u001b[0m\u001b[1;33m[\u001b[0m\u001b[0mi\u001b[0m\u001b[1;33m,\u001b[0m \u001b[1;33m:\u001b[0m\u001b[1;33m]\u001b[0m\u001b[1;33m)\u001b[0m\u001b[1;33m)\u001b[0m\u001b[1;33m\u001b[0m\u001b[1;33m\u001b[0m\u001b[0m\n\u001b[1;32m--> 490\u001b[1;33m             \u001b[0mn_ij\u001b[0m \u001b[1;33m-=\u001b[0m \u001b[1;36m0.5\u001b[0m \u001b[1;33m*\u001b[0m \u001b[0mnp\u001b[0m\u001b[1;33m.\u001b[0m\u001b[0msum\u001b[0m\u001b[1;33m(\u001b[0m\u001b[1;33m(\u001b[0m\u001b[1;33m(\u001b[0m\u001b[0mX\u001b[0m \u001b[1;33m-\u001b[0m \u001b[0mself\u001b[0m\u001b[1;33m.\u001b[0m\u001b[0mtheta_\u001b[0m\u001b[1;33m[\u001b[0m\u001b[0mi\u001b[0m\u001b[1;33m,\u001b[0m \u001b[1;33m:\u001b[0m\u001b[1;33m]\u001b[0m\u001b[1;33m)\u001b[0m \u001b[1;33m**\u001b[0m \u001b[1;36m2\u001b[0m\u001b[1;33m)\u001b[0m \u001b[1;33m/\u001b[0m \u001b[1;33m(\u001b[0m\u001b[0mself\u001b[0m\u001b[1;33m.\u001b[0m\u001b[0mvar_\u001b[0m\u001b[1;33m[\u001b[0m\u001b[0mi\u001b[0m\u001b[1;33m,\u001b[0m \u001b[1;33m:\u001b[0m\u001b[1;33m]\u001b[0m\u001b[1;33m)\u001b[0m\u001b[1;33m,\u001b[0m \u001b[1;36m1\u001b[0m\u001b[1;33m)\u001b[0m\u001b[1;33m\u001b[0m\u001b[1;33m\u001b[0m\u001b[0m\n\u001b[0m\u001b[0;32m    491\u001b[0m             \u001b[0mjoint_log_likelihood\u001b[0m\u001b[1;33m.\u001b[0m\u001b[0mappend\u001b[0m\u001b[1;33m(\u001b[0m\u001b[0mjointi\u001b[0m \u001b[1;33m+\u001b[0m \u001b[0mn_ij\u001b[0m\u001b[1;33m)\u001b[0m\u001b[1;33m\u001b[0m\u001b[1;33m\u001b[0m\u001b[0m\n\u001b[0;32m    492\u001b[0m \u001b[1;33m\u001b[0m\u001b[0m\n",
      "\u001b[1;31mKeyboardInterrupt\u001b[0m: "
     ]
    }
   ],
   "source": [
    "%%time\n",
    "# regressor = GaussianNB(priors=priors, var_smoothing=0.8)\n",
    "regressor = GaussianNB(var_smoothing=0.001)\n",
    "test_regressor(regressor)"
   ]
  },
  {
   "cell_type": "code",
   "execution_count": 233,
   "id": "af9a46a1-ddb0-411b-83d2-bddec6264fa2",
   "metadata": {},
   "outputs": [
    {
     "data": {
      "text/plain": [
       "0.0961245255111161"
      ]
     },
     "execution_count": 233,
     "metadata": {},
     "output_type": "execute_result"
    }
   ],
   "source": [
    "regressor.score(X_out,y)"
   ]
  },
  {
   "cell_type": "code",
   "execution_count": 234,
   "id": "6f3eb0cb-da22-4a7c-b2ec-201a9119c8da",
   "metadata": {},
   "outputs": [
    {
     "data": {
      "text/plain": [
       "-2.8772872852905915"
      ]
     },
     "execution_count": 234,
     "metadata": {},
     "output_type": "execute_result"
    }
   ],
   "source": [
    "from sklearn.metrics import r2_score\n",
    "r2_score(y, regressor.predict(X_out))"
   ]
  },
  {
   "cell_type": "code",
   "execution_count": 132,
   "id": "f5dac640-3075-4782-8b5e-828195bd9103",
   "metadata": {
    "tags": []
   },
   "outputs": [
    {
     "name": "stderr",
     "output_type": "stream",
     "text": [
      "C:\\Users\\ASUS\\anaconda3\\lib\\site-packages\\sklearn\\model_selection\\_split.py:676: UserWarning: The least populated class in y has only 2 members, which is less than n_splits=5.\n",
      "  warnings.warn(\n"
     ]
    },
    {
     "name": "stdout",
     "output_type": "stream",
     "text": [
      "Wall time: 4min 48s\n"
     ]
    },
    {
     "data": {
      "text/plain": [
       "{'var_smoothing': 0.001}"
      ]
     },
     "execution_count": 132,
     "metadata": {},
     "output_type": "execute_result"
    }
   ],
   "source": [
    "%%time\n",
    "parameters = {\n",
    "    'var_smoothing': np.logspace(-9,1,11)\n",
    "}\n",
    "gs = GridSearchCV(regressor, parameters)\n",
    "gs.fit(X_test,y_test)\n",
    "gs.best_params_"
   ]
  },
  {
   "cell_type": "markdown",
   "id": "45020d57-2873-4394-b6a8-0892aa6533ce",
   "metadata": {
    "tags": []
   },
   "source": [
    "### Ridge"
   ]
  },
  {
   "cell_type": "code",
   "execution_count": 53,
   "id": "fbbb2d50-075a-45bd-8ec7-fa3dbc3168df",
   "metadata": {},
   "outputs": [
    {
     "name": "stdout",
     "output_type": "stream",
     "text": [
      "R^2 score: 0.1199595208057419\n"
     ]
    },
    {
     "data": {
      "image/png": "[encoded data removed]",
      "text/plain": [
       "<Figure size 432x288 with 1 Axes>"
      ]
     },
     "metadata": {
      "needs_background": "light"
     },
     "output_type": "display_data"
    },
    {
     "data": {
      "image/png": "[encoded data removed]",
      "text/plain": [
       "<Figure size 432x288 with 1 Axes>"
      ]
     },
     "metadata": {
      "needs_background": "light"
     },
     "output_type": "display_data"
    },
    {
     "name": "stdout",
     "output_type": "stream",
     "text": [
      "Wall time: 4.44 s\n"
     ]
    }
   ],
   "source": [
    "%%time\n",
    "regressor = Ridge(alpha=10)\n",
    "test_regressor(regressor)"
   ]
  },
  {
   "cell_type": "code",
   "execution_count": 54,
   "id": "d50ee089-7f0c-4d23-8dab-0eb16802dac3",
   "metadata": {},
   "outputs": [
    {
     "data": {
      "text/plain": [
       "0.12217979451820682"
      ]
     },
     "execution_count": 54,
     "metadata": {},
     "output_type": "execute_result"
    }
   ],
   "source": [
    "regressor.score(X_out,y)"
   ]
  },
  {
   "cell_type": "code",
   "execution_count": 55,
   "id": "3785022c-f065-4a55-b35e-d6da895326b6",
   "metadata": {},
   "outputs": [
    {
     "data": {
      "text/plain": [
       "0.12217979451820682"
      ]
     },
     "execution_count": 55,
     "metadata": {},
     "output_type": "execute_result"
    }
   ],
   "source": [
    "from sklearn.metrics import r2_score\n",
    "r2_score(y, regressor.predict(X_out))"
   ]
  },
  {
   "cell_type": "code",
   "execution_count": 57,
   "id": "d20d7f8f-b6e8-4e2d-8118-c171a5577c4e",
   "metadata": {},
   "outputs": [],
   "source": [
    "# sklearn.metrics.accuracy_score(y, regressor.predict(X_out))"
   ]
  },
  {
   "cell_type": "code",
   "execution_count": 58,
   "id": "1a33f390-5010-48a6-b0c1-dccdeddad4b9",
   "metadata": {},
   "outputs": [],
   "source": [
    "filename = model_directory + 'individual_review_model_ridge.pkl'\n",
    "pkl.dump(regressor, open(filename,'wb'))"
   ]
  },
  {
   "cell_type": "markdown",
   "id": "cf158367-8e8c-48c8-8ef2-871a37a6b819",
   "metadata": {
    "tags": []
   },
   "source": [
    "### final model: logistic regression"
   ]
  },
  {
   "cell_type": "code",
   "execution_count": 139,
   "id": "3eeb77eb-d1ac-4590-a268-3e5d7c9bb6c8",
   "metadata": {},
   "outputs": [
    {
     "name": "stderr",
     "output_type": "stream",
     "text": [
      "C:\\Users\\ASUS\\anaconda3\\lib\\site-packages\\sklearn\\linear_model\\_logistic.py:814: ConvergenceWarning: lbfgs failed to converge (status=1):\n",
      "STOP: TOTAL NO. of ITERATIONS REACHED LIMIT.\n",
      "\n",
      "Increase the number of iterations (max_iter) or scale the data as shown in:\n",
      "    https://scikit-learn.org/stable/modules/preprocessing.html\n",
      "Please also refer to the documentation for alternative solver options:\n",
      "    https://scikit-learn.org/stable/modules/linear_model.html#logistic-regression\n",
      "  n_iter_i = _check_optimize_result(\n"
     ]
    },
    {
     "name": "stdout",
     "output_type": "stream",
     "text": [
      "R^2 score: 0.14867292307422694\n"
     ]
    },
    {
     "data": {
      "image/png": "[encoded data removed]",
      "text/plain": [
       "<Figure size 432x288 with 1 Axes>"
      ]
     },
     "metadata": {
      "needs_background": "light"
     },
     "output_type": "display_data"
    },
    {
     "data": {
      "image/png": "[encoded data removed]",
      "text/plain": [
       "<Figure size 432x288 with 1 Axes>"
      ]
     },
     "metadata": {
      "needs_background": "light"
     },
     "output_type": "display_data"
    },
    {
     "name": "stdout",
     "output_type": "stream",
     "text": [
      "Wall time: 9h 6min 37s\n"
     ]
    }
   ],
   "source": [
    "%%time\n",
    "regressor = LogisticRegression(solver = 'lbfgs', max_iter=500)\n",
    "test_regressor(regressor)"
   ]
  },
  {
   "cell_type": "code",
   "execution_count": 153,
   "id": "a9d81e14-e80c-41ab-8b88-d8a003015b6c",
   "metadata": {},
   "outputs": [],
   "source": [
    "filename = model_directory + 'individual_review_model.pkl'\n",
    "# pkl.dump(regressor, open(filename,'wb'))"
   ]
  },
  {
   "cell_type": "code",
   "execution_count": 154,
   "id": "e1e08f36-7563-4b65-915a-b73e7fda1cbc",
   "metadata": {},
   "outputs": [],
   "source": [
    "loaded_model = pkl.load(open(filename, 'rb'))"
   ]
  },
  {
   "cell_type": "code",
   "execution_count": null,
   "id": "6c0c210a-7448-4da7-a4fc-89a15a055a41",
   "metadata": {},
   "outputs": [
    {
     "data": {
      "text/plain": [
       "(array([6.0000e+01, 0.0000e+00, 5.0000e+00, 1.9000e+01, 6.0000e+00,\n",
       "        3.1700e+02, 1.1200e+02, 1.7900e+02, 9.3000e+01, 6.8000e+01,\n",
       "        8.1100e+02, 1.6540e+03, 6.6200e+02, 1.9350e+03, 8.9300e+02,\n",
       "        3.3440e+03, 2.6190e+03, 1.8600e+03, 5.0210e+03, 2.8540e+03,\n",
       "        8.3090e+03, 4.3070e+03, 1.0821e+04, 7.3370e+03, 1.1938e+04,\n",
       "        8.9340e+03, 1.6191e+04, 6.9460e+03, 9.4500e+03, 7.3780e+03]),\n",
       " array([ 54.        ,  55.53333333,  57.06666667,  58.6       ,\n",
       "         60.13333333,  61.66666667,  63.2       ,  64.73333333,\n",
       "         66.26666667,  67.8       ,  69.33333333,  70.86666667,\n",
       "         72.4       ,  73.93333333,  75.46666667,  77.        ,\n",
       "         78.53333333,  80.06666667,  81.6       ,  83.13333333,\n",
       "         84.66666667,  86.2       ,  87.73333333,  89.26666667,\n",
       "         90.8       ,  92.33333333,  93.86666667,  95.4       ,\n",
       "         96.93333333,  98.46666667, 100.        ]),\n",
       " <BarContainer object of 30 artists>)"
      ]
     },
     "execution_count": 161,
     "metadata": {},
     "output_type": "execute_result"
    },
    {
     "data": {
      "image/png": "[encoded data removed]",
      "text/plain": [
       "<Figure size 432x288 with 1 Axes>"
      ]
     },
     "metadata": {
      "needs_background": "light"
     },
     "output_type": "display_data"
    }
   ],
   "source": [
    "plt.hist(loaded_model.predict(X_test),bins=30,alpha=0.5)\n",
    "plt.hist(y_test,bins=30,alpha=0.5)"
   ]
  },
  {
   "cell_type": "markdown",
   "id": "938fd669-6420-4df1-95f3-a11ac06b5fdc",
   "metadata": {
    "tags": []
   },
   "source": [
    "## average over business reviews"
   ]
  },
  {
   "cell_type": "code",
   "execution_count": 59,
   "id": "9e621c8e-b7de-4543-b848-0b58226110f6",
   "metadata": {},
   "outputs": [],
   "source": [
    "df = pd.read_csv(processed_data_directory + 'reviews_nearest_score_no_limit_df.csv')\n",
    "# df = pd.read_csv(processed_data_directory + 'reviews_nearest_score_2_years_df.csv')"
   ]
  },
  {
   "cell_type": "code",
   "execution_count": 60,
   "id": "360eb8e3-bc5d-4b4e-8f72-26daf2bd7b8a",
   "metadata": {},
   "outputs": [],
   "source": [
    "reviews = np.array(df['text'])\n",
    "scores = np.array(df['Score'])\n",
    "X, y = reviews, scores\n",
    "# round\n",
    "roundby = 1\n",
    "y = np.array(list(map(lambda x: math.ceil(x / roundby) * roundby,y)))"
   ]
  },
  {
   "cell_type": "code",
   "execution_count": 660,
   "id": "2f4fdff2-4d4a-4c6b-926c-46374f15bf0b",
   "metadata": {},
   "outputs": [],
   "source": [
    "# load in feature transforms\n",
    "filename = model_directory + 'individual_review_features.pkl'\n",
    "loaded_features = pkl.load(open(filename, 'rb'))\n",
    "# load in model\n",
    "filename = model_directory + 'individual_review_model_ridge.pkl'\n",
    "loaded_model = pkl.load(open(filename, 'rb'))"
   ]
  },
  {
   "cell_type": "code",
   "execution_count": 661,
   "id": "2e79dbec-a79b-4201-bcde-d2a5ba8f99a8",
   "metadata": {},
   "outputs": [],
   "source": [
    "good_reviews = np.array([r\"They have some of the best seafood I've ever eaten here in Austin. I usually always order the same thing, but it never fails to be delicious. Their employees are all very nice too. They're clean, and the service is always quick, while never feeling rushed.\",\n",
    "                         r\"We ordered the shrimp and oyster platter, broiled snapper plate and oysters diablos. Everything was delish but them oysters diablos were the bomb.com. We recommend ordering them every time. Service was good. The restaurant was clean.\",\n",
    "                         r\"Great food, great service, great prices! It's hard to believe it's the same place that some of the negative reviews are referring to. Seafood is always fresh and the beer is always cold!\",\n",
    "                         r\"Was undecided about going based on some reviews but decided to give it a try and so glad we did. Seafood was made to order and came out hot and fresh.  Service was very good. Food was very good. Price was very reasonable. I recommend and will be back.\",\n",
    "                         r\"Very good food.  We had the shrimp poboy and there was shrimp in every bite.  The bun was freshly baked which only enhanced the taste.  The gumbo was delicious too.  The atmosphere is warm and friendly and the people are super friendly.  All in all, a positive dining experience.  I will return.\",\n",
    "                         r\"The interior was very clean and had yummy aromas circulating.  I can definitely see why there is a 'sports-bar' vibe mentioned in some of the reviews.  Two TVs going, both with sports, lots of men with beer sitting around the central bar.  I think i was the only female in the place. The daily special was grilled flounder with a crab-shrimp brandy cream sauce.  Very, very tasty.  My son ordered this, and i swiped a bite of the fish, and two bites of the most excellent grilled veggies on the side.  Large platter, fitting the price.  I'd eat a veggie plate, if the grilled squash/onions/zucchini/mushrooms were the star!\",\n",
    "                         r\"Amazing! Very fresh, and they tasted good too. I did douse them with lemon, a little seafood sauce, and Tabasco sauce though.  I also washed them down with my ice cold beer!  If you an get past the texture, you'll be ok. There was no shortage of saltine crackers. I did see someone with a large shrimp cocktail that I would like to try next time. Overall a very good experience. When my raw oyster on the half shell craving returns, I will be back to this place to satisfy it.\"\n",
    "                        ])"
   ]
  },
  {
   "cell_type": "code",
   "execution_count": 662,
   "id": "2314de10-0c65-42d3-959a-c34786defb84",
   "metadata": {},
   "outputs": [],
   "source": [
    "bad_reviews = np.array([r\"This place was absolutely disgusting. We considered turning around as soon as we walked in as it had an odd vibe, unpleasant smell and almost no customers. BUT I've been to my fair share of decent dive type spots so we decided we'd stick around and give it a chance. The sweet tea was great, but all of the food was inedible. Clearly frozen calamari tasted like fried rubber bands with several of the pieces looking questionable and moldy. The fried catfish looked like cafeteria/hospital food. It too was obviously just frozen (freezer burned) catfish they threw in the fryer along with kindergarten crinkle fries and crunchy hush puppies. I honestly couldn't even eat my food both because it was gross and in fear of getting sick. I forced myself to throw up as soon as I got home and I wish I was kidding. The worst part is that the bill was $40 for two entrees and and appetizer which is absolutely insane considering the quality of what they put in front of us. I wish I'd gone to Long John Silvers on my way in the parking lot instead. I absolutely do not recommend this place whatsoever.\",\n",
    "                         r\"Horrible service, dirty facility; I gave them 2 stars because the catfish nuggets were pretty good and the wine was cold. When asking for the check; our server asked my husband to write down everything we ordered so he could create a receipt; I'm still confused by this because no one else at our table had to do that. Weird anyway; I'll never go back there.\",\n",
    "                         r\"We came on a Friday evening and parking lot was full so it seemed promising however we were clearly mistaken. The dining room is fairly small and we were able to snag a table by the entrance. The table had not wiped down so there was still water rings and food crumbs from the previous person. We wiped down the table ourselves and waited for our server. 10 mins later no one came by the table. No one even looked in our direction. Was this a walk up to the bar and order yourself place? Who knows. There was what appeared to be a waitress offering menus to other tables. We left without even having anything so we can't comment on the food but unfortunately we won't be returning.\",\n",
    "                         r\"Literally the most disgusting restaurant experience I've ever had. First of all our server did NOT wear a mask. She was rude as hell and downright didn't even know the menu. The food that came out was over cooked flounder that we didn't even eat. Actually spit the food into my napkin. Wouldn't wish this place on my worst enemy.\",\n",
    "                         r\"Let me start w ordering. I ordered online. Got to the place to pick up my food then bam... my order wasn't ready. They couldn't even find my order. They thought I placed it for another location. Had to show from my phone I placed to round rock location. The guy had to call someone to get my online order. Had to wait an extra 30 min. Place was crowded and big groups of families in there. The food was ok. I wasn't that impressed. I got it to go bc I don't eat in restaurants due to Covid. So by the time I made it home it tasted old. Kind of stale. Like the grease the food was fried in was not fresh. Can't say I'll be back\",\n",
    "                         r\"Expected more. Seemed dingy. Not very clean overall. Service was not up to par. They seemed to be more focus on serving those at the bar then at the tables. Our table was dirty, sticky. Menu was disgusting to the touch. The food was okay. Will not go again.\",\n",
    "                         r\"Oysters on the half were good, kinda hard to mess them up. Wife ordered broiled rainbow trout, the fish was spoiled! You could smell it once the waitress set it on the table, so either their cook has no sense of smell or they just dont care if they make someone sick. The wait staff spends more time at the bar playing on their phones than they do waiting on customers. They did wear mask but there was no social distance between tables or at the bar. Speaking of the bar, it's very loud to the point you cannot have a conversation at your table. We will definitely never go back to this place and I would not recommend it anyone else  either.\",\n",
    "                         r\"They failed health inspection with a score of 37 on December 10th, 2019. Report stated too many cockroaches to count and had rat feces in the dish area\",\n",
    "                         r\"This place was absolutely disgusting. We considered turning around as soon as we walked in as it had an odd vibe, unpleasant smell and almost no customers. BUT I've been to my fair share of decent dive type spots so we decided we'd stick around and give it a chance. The sweet tea was great, but all of the food was inedible. Clearly frozen calamari tasted like fried rubber bands with several of the pieces looking questionable and moldy. The fried catfish looked like cafeteria/hospital food. It too was obviously just frozen (freezer burned) catfish they threw in the fryer along with kindergarten crinkle fries and crunchy hush puppies. I honestly couldn't even eat my food both because it was gross and in fear of getting sick. I forced myself to throw up as soon as I got home and I wish I was kidding. The worst part is that the bill was $40 for two entrees and and appetizer which is absolutely insane considering the quality of what they put in front of us. I wish I'd gone to Long John Silvers on my way in the parking lot instead. I absolutely do not recommend this place whatsoever.\"\n",
    "                         r\"I came here on Friday night with my family for dinner, this place is severely understaffed. And for that reason I can't find it in me to come back. All the waitstaff is running around stressing out and it shows in the quality of the food and service. It look 10 min to get greeted and welcomed, we ordered a app which came out after the food. My boyfriend ordered the crawfish that had a awful taste and smell, I ordered a shrimp salad which came with brown slimy lettuce a half of a slice of tomato and ranch dressing for 12.99 the menu said it was supposed to include more veggies so i asked for the side i was brought that and then noticed how old the lettuce was. My sisters crab cakes tasted old and no flavor whatsoever. My son ordered the chicken tenders and fries as my 2 year old is eating his food we notice a long hair inside of his food we then decided to take our complaints to the manger which told us that they are understaffed and extremely busy..... I really hope the owner of this establishment can do what needs to be done to get this place in the right track. I'm giving 2 starts for potential but I won't be back... your better off going to razzoos down the street\"\n",
    "                       ])"
   ]
  },
  {
   "cell_type": "code",
   "execution_count": 663,
   "id": "8c8a846d-31a2-4ed1-9f31-9ebb76681151",
   "metadata": {},
   "outputs": [
    {
     "data": {
      "text/plain": [
       "88.62441094001744"
      ]
     },
     "execution_count": 663,
     "metadata": {},
     "output_type": "execute_result"
    }
   ],
   "source": [
    "test_out = loaded_features.transform(good_reviews)\n",
    "np.mean(loaded_model.predict(test_out))"
   ]
  },
  {
   "cell_type": "code",
   "execution_count": 664,
   "id": "4983596d-473a-4d01-a841-749bee5dac58",
   "metadata": {},
   "outputs": [
    {
     "data": {
      "text/plain": [
       "89.39988267628524"
      ]
     },
     "execution_count": 664,
     "metadata": {},
     "output_type": "execute_result"
    }
   ],
   "source": [
    "test_out = loaded_features.transform(bad_reviews)\n",
    "np.mean(loaded_model.predict(test_out))"
   ]
  },
  {
   "cell_type": "code",
   "execution_count": 64,
   "id": "01137795-f843-4a0f-b6e9-43d77fad822a",
   "metadata": {},
   "outputs": [
    {
     "data": {
      "text/plain": [
       "array([91, 95, 95, 94, 90, 90, 71])"
      ]
     },
     "execution_count": 64,
     "metadata": {},
     "output_type": "execute_result"
    }
   ],
   "source": [
    "loaded_model.predict(test_out)"
   ]
  },
  {
   "cell_type": "code",
   "execution_count": 261,
   "id": "9b89cdcd-38c8-4509-a420-c72216ab585c",
   "metadata": {},
   "outputs": [
    {
     "name": "stdout",
     "output_type": "stream",
     "text": [
      "Wall time: 1min 59s\n"
     ]
    }
   ],
   "source": [
    "%%time\n",
    "X_out = loaded_features.transform(X)"
   ]
  },
  {
   "cell_type": "code",
   "execution_count": 276,
   "id": "5a72885e-8140-41d6-8b17-ca771c40341a",
   "metadata": {},
   "outputs": [],
   "source": [
    "y_predict = loaded_model.predict(X_out)"
   ]
  },
  {
   "cell_type": "code",
   "execution_count": 292,
   "id": "78b09992-32d3-482f-9b0e-d52287e3afe8",
   "metadata": {},
   "outputs": [],
   "source": [
    "y_predict = regressor.predict(X_out)"
   ]
  },
  {
   "cell_type": "code",
   "execution_count": 293,
   "id": "7ff1f5d2-8c94-4134-826d-ab18a5983f31",
   "metadata": {},
   "outputs": [
    {
     "data": {
      "text/plain": [
       "0.12243127750389315"
      ]
     },
     "execution_count": 293,
     "metadata": {},
     "output_type": "execute_result"
    }
   ],
   "source": [
    "from sklearn.metrics import r2_score\n",
    "r2_score(y, y_predict)"
   ]
  },
  {
   "cell_type": "code",
   "execution_count": 294,
   "id": "df442600-d698-4062-8e1c-b45037ac986d",
   "metadata": {},
   "outputs": [],
   "source": [
    "df['predicted_score'] = y_predict"
   ]
  },
  {
   "cell_type": "code",
   "execution_count": 306,
   "id": "c28496e2-c829-4431-9796-18873fa2c1a1",
   "metadata": {},
   "outputs": [],
   "source": [
    "new_df = df.groupby(['business_id']).agg({'Score':'mean','predicted_score':'mean','review_stars':'mean'}).reset_index()"
   ]
  },
  {
   "cell_type": "code",
   "execution_count": 307,
   "id": "1c4be5a2-56a9-4e65-8df8-c8a7c9d9cfb0",
   "metadata": {},
   "outputs": [
    {
     "data": {
      "text/plain": [
       "array([76., 76., 76., ..., 73., 73., 85.])"
      ]
     },
     "execution_count": 307,
     "metadata": {},
     "output_type": "execute_result"
    }
   ],
   "source": [
    "df['Score'].values"
   ]
  },
  {
   "cell_type": "code",
   "execution_count": 308,
   "id": "0dab1454-37c9-48f8-8c6d-3db00d0daa7d",
   "metadata": {},
   "outputs": [
    {
     "data": {
      "text/plain": [
       "0.20016462378158562"
      ]
     },
     "execution_count": 308,
     "metadata": {},
     "output_type": "execute_result"
    }
   ],
   "source": [
    "sklearn.metrics.r2_score(new_df['Score'].values,new_df['predicted_score'].values)"
   ]
  },
  {
   "cell_type": "code",
   "execution_count": 309,
   "id": "886c9924-a23a-445e-923c-c3dc158f8fc9",
   "metadata": {},
   "outputs": [
    {
     "data": {
      "text/plain": [
       "(array([  3.,   2.,  10.,  12.,  16.,  40.,  35.,  58.,  82., 180., 237.,\n",
       "        368., 482., 307., 353., 203.,  76.,  26.,   9.,   7.]),\n",
       " array([81.53266138, 82.24207659, 82.9514918 , 83.66090701, 84.37032222,\n",
       "        85.07973743, 85.78915264, 86.49856785, 87.20798306, 87.91739826,\n",
       "        88.62681347, 89.33622868, 90.04564389, 90.7550591 , 91.46447431,\n",
       "        92.17388952, 92.88330473, 93.59271994, 94.30213515, 95.01155036,\n",
       "        95.72096556]),\n",
       " <BarContainer object of 20 artists>)"
      ]
     },
     "execution_count": 309,
     "metadata": {},
     "output_type": "execute_result"
    },
    {
     "data": {
      "image/png": "[encoded data removed]",
      "text/plain": [
       "<Figure size 432x288 with 1 Axes>"
      ]
     },
     "metadata": {
      "needs_background": "light"
     },
     "output_type": "display_data"
    }
   ],
   "source": [
    "plt.hist(new_df.Score,bins=20,alpha=0.5)\n",
    "plt.hist(new_df.predicted_score,bins=20,alpha=0.5)"
   ]
  },
  {
   "cell_type": "code",
   "execution_count": 310,
   "id": "3f732e42-1501-4493-998e-ca4525b7c186",
   "metadata": {},
   "outputs": [
    {
     "data": {
      "image/png": "[encoded data removed]",
      "text/plain": [
       "<Figure size 432x288 with 1 Axes>"
      ]
     },
     "metadata": {
      "needs_background": "light"
     },
     "output_type": "display_data"
    }
   ],
   "source": [
    "plt.scatter(df['Score'],df['stars'])\n",
    "plt.show()"
   ]
  },
  {
   "cell_type": "code",
   "execution_count": 311,
   "id": "fb824794-06ff-484e-b4ad-b995fbb08334",
   "metadata": {},
   "outputs": [
    {
     "data": {
      "image/png": "[encoded data removed]",
      "text/plain": [
       "<Figure size 432x288 with 1 Axes>"
      ]
     },
     "metadata": {
      "needs_background": "light"
     },
     "output_type": "display_data"
    }
   ],
   "source": [
    "plt.scatter(df['Score'],df['review_stars'])\n",
    "plt.show()"
   ]
  },
  {
   "cell_type": "code",
   "execution_count": 312,
   "id": "70b64ac2-63f1-44d5-83db-81c1aedc7b90",
   "metadata": {},
   "outputs": [
    {
     "data": {
      "image/png": "[encoded data removed]",
      "text/plain": [
       "<Figure size 432x288 with 1 Axes>"
      ]
     },
     "metadata": {
      "needs_background": "light"
     },
     "output_type": "display_data"
    }
   ],
   "source": [
    "plt.scatter(new_df['Score'],new_df['review_stars'])\n",
    "plt.show()"
   ]
  },
  {
   "cell_type": "code",
   "execution_count": 301,
   "id": "8a52d28c-5387-4590-bf04-b2f225178758",
   "metadata": {},
   "outputs": [
    {
     "data": {
      "image/png": "[encoded data removed]",
      "text/plain": [
       "<Figure size 432x288 with 1 Axes>"
      ]
     },
     "metadata": {
      "needs_background": "light"
     },
     "output_type": "display_data"
    }
   ],
   "source": [
    "plt.scatter(new_df['Score'],new_df['predicted_score'])\n",
    "plt.show()"
   ]
  },
  {
   "cell_type": "markdown",
   "id": "74208d8e-9299-42ae-bcd1-8ab24d3462be",
   "metadata": {
    "tags": []
   },
   "source": [
    "## whole thing"
   ]
  },
  {
   "cell_type": "code",
   "execution_count": 652,
   "id": "f3b14ad0-897f-471c-9b9b-02d436b3f523",
   "metadata": {},
   "outputs": [],
   "source": [
    "# load in feature transforms\n",
    "filename = model_directory + 'individual_review_features.pkl'\n",
    "loaded_features = pkl.load(open(filename, 'rb'))\n",
    "# load in model\n",
    "filename = model_directory + 'individual_review_model_ridge.pkl'\n",
    "loaded_model = pkl.load(open(filename, 'rb'))"
   ]
  },
  {
   "cell_type": "code",
   "execution_count": 817,
   "id": "6720adf3-03e3-4bb1-8e31-63bcf0a9866e",
   "metadata": {},
   "outputs": [
    {
     "data": {
      "text/plain": [
       "\"I've been going here for years - in person or curbside. Always big portions, hot food, and delicious! \\n\\nThey have a special on wine once a week, which I'm...\""
      ]
     },
     "execution_count": 817,
     "metadata": {},
     "output_type": "execute_result"
    }
   ],
   "source": [
    "business_id = 'NRPemqVb4qpWFF0Avq_6OQ'\n",
    "yelp_api = YelpAPI(api_key, timeout_s=3.0)\n",
    "response = yelp_api.reviews_query(id=business_id)\n",
    "response['reviews'][0]['text']"
   ]
  },
  {
   "cell_type": "code",
   "execution_count": 818,
   "id": "223f9f36-b256-47e9-93b3-9b6f1adbecf3",
   "metadata": {},
   "outputs": [],
   "source": [
    "name = 'Shanghai Noodle House'\n",
    "address = '10300 Anderson Mill Rd, Ste A'"
   ]
  },
  {
   "cell_type": "code",
   "execution_count": 819,
   "id": "7fdae305-b869-493a-bcaa-3c8c6d51ceef",
   "metadata": {},
   "outputs": [],
   "source": [
    "response = yelp_api.business_match_query(name=name,\n",
    "                                         address1=address,\n",
    "                                         city='Austin',\n",
    "                                         state='TX',\n",
    "                                         country='US')"
   ]
  },
  {
   "cell_type": "code",
   "execution_count": 820,
   "id": "cc39a816-76a1-41c7-aa80-e28b20a2f054",
   "metadata": {},
   "outputs": [
    {
     "data": {
      "text/plain": [
       "{'businesses': [{'id': 'EaBDXdIQ_TeeUhn1Twnjvg',\n",
       "   'alias': 'shanghai-noodle-house-austin-2',\n",
       "   'name': 'Shanghai Noodle House',\n",
       "   'coordinates': {'latitude': 30.4474449157715,\n",
       "    'longitude': -97.804328918457},\n",
       "   'location': {'address1': '10300 Anderson Mill Rd',\n",
       "    'address2': 'Ste A',\n",
       "    'address3': '',\n",
       "    'city': 'Austin',\n",
       "    'zip_code': '78750',\n",
       "    'country': 'US',\n",
       "    'state': 'TX',\n",
       "    'display_address': ['10300 Anderson Mill Rd',\n",
       "     'Ste A',\n",
       "     'Austin, TX 78750']},\n",
       "   'phone': '+15124875703',\n",
       "   'display_phone': '(512) 487-5703'}]}"
      ]
     },
     "execution_count": 820,
     "metadata": {},
     "output_type": "execute_result"
    }
   ],
   "source": [
    "response"
   ]
  },
  {
   "cell_type": "code",
   "execution_count": 821,
   "id": "7d209335-5c85-42cb-a398-d0c6a7ae796c",
   "metadata": {},
   "outputs": [],
   "source": [
    "if not response['businesses']:\n",
    "    print('ok')"
   ]
  },
  {
   "cell_type": "code",
   "execution_count": 822,
   "id": "40fce60a-7093-44c7-a8c4-45a82f393601",
   "metadata": {},
   "outputs": [
    {
     "name": "stdout",
     "output_type": "stream",
     "text": [
      "Business found: Shanghai Noodle House\n"
     ]
    }
   ],
   "source": [
    "response_name = response['businesses'][0]['name']\n",
    "print(f'Business found: {response_name}')\n",
    "bid = response['businesses'][0]['id']\n",
    "# yelp API doesn't give review full text yet\n",
    "# reviews = yelp_api.reviews_query(id=bid)"
   ]
  },
  {
   "cell_type": "code",
   "execution_count": 827,
   "id": "a18fdc07-dcf7-4236-8f23-09d83c9d1691",
   "metadata": {},
   "outputs": [
    {
     "data": {
      "text/plain": [
       "'EaBDXdIQ_TeeUhn1Twnjvg'"
      ]
     },
     "execution_count": 827,
     "metadata": {},
     "output_type": "execute_result"
    }
   ],
   "source": [
    "bid"
   ]
  },
  {
   "cell_type": "code",
   "execution_count": 825,
   "id": "6b700f1c-c833-4e51-b495-d4ea59eda94d",
   "metadata": {},
   "outputs": [
    {
     "data": {
      "text/html": [
       "<div>\n",
       "<style scoped>\n",
       "    .dataframe tbody tr th:only-of-type {\n",
       "        vertical-align: middle;\n",
       "    }\n",
       "\n",
       "    .dataframe tbody tr th {\n",
       "        vertical-align: top;\n",
       "    }\n",
       "\n",
       "    .dataframe thead th {\n",
       "        text-align: right;\n",
       "    }\n",
       "</style>\n",
       "<table border=\"1\" class=\"dataframe\">\n",
       "  <thead>\n",
       "    <tr style=\"text-align: right;\">\n",
       "      <th></th>\n",
       "      <th>business_id</th>\n",
       "    </tr>\n",
       "  </thead>\n",
       "  <tbody>\n",
       "    <tr>\n",
       "      <th>0</th>\n",
       "      <td>NRPemqVb4qpWFF0Avq_6OQ</td>\n",
       "    </tr>\n",
       "    <tr>\n",
       "      <th>1</th>\n",
       "      <td>bRsDZ44CD3uhGnRY3NeQhQ</td>\n",
       "    </tr>\n",
       "    <tr>\n",
       "      <th>2</th>\n",
       "      <td>IFB2K3BEZ2L_Mv5AbUD26Q</td>\n",
       "    </tr>\n",
       "    <tr>\n",
       "      <th>3</th>\n",
       "      <td>fBvQQUk1-V9IUA8PbuYFWg</td>\n",
       "    </tr>\n",
       "    <tr>\n",
       "      <th>4</th>\n",
       "      <td>eOnMGfoj3YOxGPDjrDE-sg</td>\n",
       "    </tr>\n",
       "    <tr>\n",
       "      <th>...</th>\n",
       "      <td>...</td>\n",
       "    </tr>\n",
       "    <tr>\n",
       "      <th>2501</th>\n",
       "      <td>kg8MYEVgwvBHDX01V9vm3A</td>\n",
       "    </tr>\n",
       "    <tr>\n",
       "      <th>2502</th>\n",
       "      <td>fTgnVCCu6k_Ds25Nz73s5Q</td>\n",
       "    </tr>\n",
       "    <tr>\n",
       "      <th>2503</th>\n",
       "      <td>erLD01SfdUbGWurNoJTAzw</td>\n",
       "    </tr>\n",
       "    <tr>\n",
       "      <th>2504</th>\n",
       "      <td>io_UQS_WwonlCPCfKy3Hdw</td>\n",
       "    </tr>\n",
       "    <tr>\n",
       "      <th>2505</th>\n",
       "      <td>EaBDXdIQ_TeeUhn1Twnjvg</td>\n",
       "    </tr>\n",
       "  </tbody>\n",
       "</table>\n",
       "<p>2506 rows × 1 columns</p>\n",
       "</div>"
      ],
      "text/plain": [
       "                 business_id\n",
       "0     NRPemqVb4qpWFF0Avq_6OQ\n",
       "1     bRsDZ44CD3uhGnRY3NeQhQ\n",
       "2     IFB2K3BEZ2L_Mv5AbUD26Q\n",
       "3     fBvQQUk1-V9IUA8PbuYFWg\n",
       "4     eOnMGfoj3YOxGPDjrDE-sg\n",
       "...                      ...\n",
       "2501  kg8MYEVgwvBHDX01V9vm3A\n",
       "2502  fTgnVCCu6k_Ds25Nz73s5Q\n",
       "2503  erLD01SfdUbGWurNoJTAzw\n",
       "2504  io_UQS_WwonlCPCfKy3Hdw\n",
       "2505  EaBDXdIQ_TeeUhn1Twnjvg\n",
       "\n",
       "[2506 rows x 1 columns]"
      ]
     },
     "execution_count": 825,
     "metadata": {},
     "output_type": "execute_result"
    }
   ],
   "source": [
    "business_ids"
   ]
  },
  {
   "cell_type": "code",
   "execution_count": 831,
   "id": "2054e9d2-bd9e-47c0-86eb-4ac9cc9ab945",
   "metadata": {},
   "outputs": [
    {
     "data": {
      "text/plain": [
       "True"
      ]
     },
     "execution_count": 831,
     "metadata": {},
     "output_type": "execute_result"
    }
   ],
   "source": [
    "bid in business_ids.business_id.values"
   ]
  },
  {
   "cell_type": "code",
   "execution_count": 59,
   "id": "305c34d7-1afe-424a-9a8c-2d93347c0ce6",
   "metadata": {},
   "outputs": [],
   "source": [
    "df = pd.read_csv(processed_data_directory + 'reviews_nearest_score_no_limit_df.csv')\n",
    "# df = pd.read_csv(processed_data_directory + 'reviews_nearest_score_2_years_df.csv')"
   ]
  },
  {
   "cell_type": "code",
   "execution_count": null,
   "id": "f0d8da12-23b8-447d-aa3e-d531dd0efa5d",
   "metadata": {},
   "outputs": [],
   "source": [
    "reviews = df[df['business_id'] == bid]['text']"
   ]
  },
  {
   "cell_type": "code",
   "execution_count": null,
   "id": "5e9bab54-0a27-422d-9d7c-3012e82447a5",
   "metadata": {},
   "outputs": [],
   "source": [
    "transformed_reviews = loaded_features.transform(reviews)\n",
    "predicted_score = np.mean(loaded_model.predict(transformed_reviews))"
   ]
  },
  {
   "cell_type": "code",
   "execution_count": null,
   "id": "479c83e8-1f63-489f-ab38-a5491e0c62a7",
   "metadata": {},
   "outputs": [],
   "source": [
    "print(f'Health score: {predicted_score}')"
   ]
  },
  {
   "cell_type": "markdown",
   "id": "6c9114c4-a3f7-4a17-9e8d-523bd4a7ed17",
   "metadata": {
    "tags": []
   },
   "source": [
    "## word2vec"
   ]
  },
  {
   "cell_type": "code",
   "execution_count": 163,
   "id": "467eaebc-0338-48a3-8df4-40b2045087d7",
   "metadata": {},
   "outputs": [],
   "source": [
    "df = pd.read_csv(processed_data_directory + 'reviews_nearest_score_no_limit_df.csv')\n",
    "# df = pd.read_csv(processed_data_directory + 'reviews_nearest_score_2_years_df.csv')"
   ]
  },
  {
   "cell_type": "code",
   "execution_count": 162,
   "id": "84085595-a5e8-49d6-8f8e-5ffc0ed5121a",
   "metadata": {},
   "outputs": [
    {
     "name": "stdout",
     "output_type": "stream",
     "text": [
      "4184/570613 (0.7332465261043825%) are fractional scores\n"
     ]
    }
   ],
   "source": [
    "reviews = np.array(df['text'])\n",
    "scores = np.array(df['Score'])\n",
    "cutoff = -1\n",
    "X, y = reviews[:cutoff], scores[:cutoff]\n",
    "# round\n",
    "roundby = 1\n",
    "y = np.array(list(map(lambda x: math.ceil(x / roundby) * roundby,y)))"
   ]
  },
  {
   "cell_type": "code",
   "execution_count": null,
   "id": "44206e19-bfcf-4606-af3e-64687803d1bf",
   "metadata": {},
   "outputs": [],
   "source": []
  },
  {
   "cell_type": "markdown",
   "id": "4e76c454-c754-4123-96cd-1131fe345cb6",
   "metadata": {},
   "source": [
    "# other feature engineering"
   ]
  },
  {
   "cell_type": "markdown",
   "id": "a0af2a8c-cef0-4086-9b86-9e78b9932571",
   "metadata": {
    "tags": []
   },
   "source": [
    "## sentiment analysis"
   ]
  },
  {
   "cell_type": "markdown",
   "id": "0bf09528-207d-4f2f-8b4f-5d39513c1fd8",
   "metadata": {},
   "source": [
    "Let's see if running existing sentiment analysis functions can help us at all. In the long run, we want to make a custom sentiment analysis specifically for cleanliness, but we don't have the data to train that on."
   ]
  },
  {
   "cell_type": "code",
   "execution_count": 176,
   "id": "1a4bddca-0f24-42d2-afdc-37c07d6764f8",
   "metadata": {},
   "outputs": [
    {
     "name": "stderr",
     "output_type": "stream",
     "text": [
      "[nltk_data] Downloading package averaged_perceptron_tagger to\n",
      "[nltk_data]     C:\\Users\\ASUS\\AppData\\Roaming\\nltk_data...\n",
      "[nltk_data]   Package averaged_perceptron_tagger is already up-to-\n",
      "[nltk_data]       date!\n",
      "[nltk_data] Downloading package punkt to\n",
      "[nltk_data]     C:\\Users\\ASUS\\AppData\\Roaming\\nltk_data...\n",
      "[nltk_data]   Package punkt is already up-to-date!\n",
      "[nltk_data] Downloading package vader_lexicon to\n",
      "[nltk_data]     C:\\Users\\ASUS\\AppData\\Roaming\\nltk_data...\n",
      "[nltk_data]   Package vader_lexicon is already up-to-date!\n"
     ]
    }
   ],
   "source": [
    "from spacytextblob.spacytextblob import SpacyTextBlob\n",
    "nlp = spacy.load('en_core_web_sm')\n",
    "nlp.add_pipe('spacytextblob')\n",
    "\n",
    "import nltk\n",
    "nltk.download(['averaged_perceptron_tagger', 'punkt', 'vader_lexicon'])\n",
    "from nltk.sentiment import SentimentIntensityAnalyzer\n",
    "sia = SentimentIntensityAnalyzer()\n",
    "\n",
    "from textblob import TextBlob\n",
    "\n",
    "def sentiment_analysis_spacy(text):\n",
    "    return (nlp(text))._.blob.polarity\n",
    "def sentiment_analysis_nltk(text):\n",
    "    return sia.polarity_scores(text)['compound']\n",
    "def sentiment_analysis_tb(text):\n",
    "    return TextBlob(text).sentiment.polarity"
   ]
  },
  {
   "cell_type": "markdown",
   "id": "c1ea0192-9143-4eca-849c-696f4d8b497f",
   "metadata": {},
   "source": [
    "Here are some reviews I got from a gross restaurant: https://www.yelp.com/biz/pacific-star-restaurant-and-oyster-bar-round-rock-3\n",
    "\n",
    "I expect the bad reviews to be rated pretty lowly. I don't really care about the analysis on the good reviews."
   ]
  },
  {
   "cell_type": "code",
   "execution_count": 177,
   "id": "56bed471-c192-4864-a719-ce2428e9f566",
   "metadata": {},
   "outputs": [],
   "source": [
    "good_reviews = [r\"They have some of the best seafood I've ever eaten here in Austin. I usually always order the same thing, but it never fails to be delicious. Their employees are all very nice too. They're clean, and the service is always quick, while never feeling rushed.\",\n",
    "                r\"We ordered the shrimp and oyster platter, broiled snapper plate and oysters diablos. Everything was delish but them oysters diablos were the bomb.com. We recommend ordering them every time. Service was good. The restaurant was clean.\",\n",
    "                r\"Great food, great service, great prices! It's hard to believe it's the same place that some of the negative reviews are referring to. Seafood is always fresh and the beer is always cold!\",\n",
    "                r\"Was undecided about going based on some reviews but decided to give it a try and so glad we did. Seafood was made to order and came out hot and fresh.  Service was very good. Food was very good. Price was very reasonable. I recommend and will be back.\",\n",
    "                r\"Very good food.  We had the shrimp poboy and there was shrimp in every bite.  The bun was freshly baked which only enhanced the taste.  The gumbo was delicious too.  The atmosphere is warm and friendly and the people are super friendly.  All in all, a positive dining experience.  I will return.\",\n",
    "                r\"The interior was very clean and had yummy aromas circulating.  I can definitely see why there is a 'sports-bar' vibe mentioned in some of the reviews.  Two TVs going, both with sports, lots of men with beer sitting around the central bar.  I think i was the only female in the place. The daily special was grilled flounder with a crab-shrimp brandy cream sauce.  Very, very tasty.  My son ordered this, and i swiped a bite of the fish, and two bites of the most excellent grilled veggies on the side.  Large platter, fitting the price.  I'd eat a veggie plate, if the grilled squash/onions/zucchini/mushrooms were the star!\",\n",
    "                r\"Amazing! Very fresh, and they tasted good too. I did douse them with lemon, a little seafood sauce, and Tabasco sauce though.  I also washed them down with my ice cold beer!  If you an get past the texture, you'll be ok. There was no shortage of saltine crackers. I did see someone with a large shrimp cocktail that I would like to try next time. Overall a very good experience. When my raw oyster on the half shell craving returns, I will be back to this place to satisfy it.\"\n",
    "               ]"
   ]
  },
  {
   "cell_type": "code",
   "execution_count": 194,
   "id": "8e044248-e769-435f-9e97-4b8e2388ef03",
   "metadata": {},
   "outputs": [],
   "source": [
    "bad_reviews = [r\"This place was absolutely disgusting. We considered turning around as soon as we walked in as it had an odd vibe, unpleasant smell and almost no customers. BUT I've been to my fair share of decent dive type spots so we decided we'd stick around and give it a chance. The sweet tea was great, but all of the food was inedible. Clearly frozen calamari tasted like fried rubber bands with several of the pieces looking questionable and moldy. The fried catfish looked like cafeteria/hospital food. It too was obviously just frozen (freezer burned) catfish they threw in the fryer along with kindergarten crinkle fries and crunchy hush puppies. I honestly couldn't even eat my food both because it was gross and in fear of getting sick. I forced myself to throw up as soon as I got home and I wish I was kidding. The worst part is that the bill was $40 for two entrees and and appetizer which is absolutely insane considering the quality of what they put in front of us. I wish I'd gone to Long John Silvers on my way in the parking lot instead. I absolutely do not recommend this place whatsoever.\",\n",
    "               r\"Horrible service, dirty facility; I gave them 2 stars because the catfish nuggets were pretty good and the wine was cold. When asking for the check; our server asked my husband to write down everything we ordered so he could create a receipt; I'm still confused by this because no one else at our table had to do that. Weird anyway; I'll never go back there.\",\n",
    "               r\"We came on a Friday evening and parking lot was full so it seemed promising however we were clearly mistaken. The dining room is fairly small and we were able to snag a table by the entrance. The table had not wiped down so there was still water rings and food crumbs from the previous person. We wiped down the table ourselves and waited for our server. 10 mins later no one came by the table. No one even looked in our direction. Was this a walk up to the bar and order yourself place? Who knows. There was what appeared to be a waitress offering menus to other tables. We left without even having anything so we can't comment on the food but unfortunately we won't be returning.\",\n",
    "               r\"Literally the most disgusting restaurant experience I've ever had. First of all our server did NOT wear a mask. She was rude as hell and downright didn't even know the menu. The food that came out was over cooked flounder that we didn't even eat. Actually spit the food into my napkin. Wouldn't wish this place on my worst enemy.\",\n",
    "               r\"Let me start w ordering. I ordered online. Got to the place to pick up my food then bam... my order wasn't ready. They couldn't even find my order. They thought I placed it for another location. Had to show from my phone I placed to round rock location. The guy had to call someone to get my online order. Had to wait an extra 30 min. Place was crowded and big groups of families in there. The food was ok. I wasn't that impressed. I got it to go bc I don't eat in restaurants due to Covid. So by the time I made it home it tasted old. Kind of stale. Like the grease the food was fried in was not fresh. Can't say I'll be back\",\n",
    "               r\"Expected more. Seemed dingy. Not very clean overall. Service was not up to par. They seemed to be more focus on serving those at the bar then at the tables. Our table was dirty, sticky. Menu was disgusting to the touch. The food was okay. Will not go again.\",\n",
    "               r\"Oysters on the half were good, kinda hard to mess them up. Wife ordered broiled rainbow trout, the fish was spoiled! You could smell it once the waitress set it on the table, so either their cook has no sense of smell or they just dont care if they make someone sick. The wait staff spends more time at the bar playing on their phones than they do waiting on customers. They did wear mask but there was no social distance between tables or at the bar. Speaking of the bar, it's very loud to the point you cannot have a conversation at your table. We will definitely never go back to this place and I would not recommend it anyone else  either.\",\n",
    "               r\"They failed health inspection with a score of 37 on December 10th, 2019. Report stated too many cockroaches to count and had rat feces in the dish area\",\n",
    "               r\"I came here on Friday night with my family for dinner, this place is severely understaffed. And for that reason I can't find it in me to come back. All the waitstaff is running around stressing out and it shows in the quality of the food and service. It look 10 min to get greeted and welcomed, we ordered a app which came out after the food. My boyfriend ordered the crawfish that had a awful taste and smell, I ordered a shrimp salad which came with brown slimy lettuce a half of a slice of tomato and ranch dressing for 12.99 the menu said it was supposed to include more veggies so i asked for the side i was brought that and then noticed how old the lettuce was. My sisters crab cakes tasted old and no flavor whatsoever. My son ordered the chicken tenders and fries as my 2 year old is eating his food we notice a long hair inside of his food we then decided to take our complaints to the manger which told us that they are understaffed and extremely busy..... I really hope the owner of this establishment can do what needs to be done to get this place in the right track. I'm giving 2 starts for potential but I won't be back... your better off going to razzoos down the street\"\n",
    "              ]"
   ]
  },
  {
   "cell_type": "code",
   "execution_count": 195,
   "id": "3325e4cf-0781-48a2-b3d0-c48a186eb9d4",
   "metadata": {},
   "outputs": [
    {
     "data": {
      "text/html": [
       "<style type=\"text/css\">\n",
       "#T_f8622_row0_col0, #T_f8622_row0_col2, #T_f8622_row1_col0, #T_f8622_row1_col1, #T_f8622_row1_col2, #T_f8622_row2_col0, #T_f8622_row2_col1, #T_f8622_row2_col2, #T_f8622_row3_col0, #T_f8622_row3_col1, #T_f8622_row3_col2, #T_f8622_row4_col1, #T_f8622_row5_col0, #T_f8622_row5_col1, #T_f8622_row5_col2, #T_f8622_row6_col0, #T_f8622_row6_col1, #T_f8622_row6_col2, #T_f8622_row7_col1, #T_f8622_row8_col0, #T_f8622_row8_col2 {\n",
       "  color: red;\n",
       "}\n",
       "#T_f8622_row0_col1, #T_f8622_row4_col0, #T_f8622_row4_col2, #T_f8622_row7_col0, #T_f8622_row7_col2, #T_f8622_row8_col1 {\n",
       "  color: white;\n",
       "}\n",
       "</style>\n",
       "<table id=\"T_f8622\">\n",
       "  <thead>\n",
       "    <tr>\n",
       "      <th class=\"blank level0\" >&nbsp;</th>\n",
       "      <th id=\"T_f8622_level0_col0\" class=\"col_heading level0 col0\" >spacy</th>\n",
       "      <th id=\"T_f8622_level0_col1\" class=\"col_heading level0 col1\" >nltk</th>\n",
       "      <th id=\"T_f8622_level0_col2\" class=\"col_heading level0 col2\" >textblob</th>\n",
       "    </tr>\n",
       "  </thead>\n",
       "  <tbody>\n",
       "    <tr>\n",
       "      <th id=\"T_f8622_level0_row0\" class=\"row_heading level0 row0\" >0</th>\n",
       "      <td id=\"T_f8622_row0_col0\" class=\"data row0 col0\" >-0.145489</td>\n",
       "      <td id=\"T_f8622_row0_col1\" class=\"data row0 col1\" >0.190100</td>\n",
       "      <td id=\"T_f8622_row0_col2\" class=\"data row0 col2\" >-0.145489</td>\n",
       "    </tr>\n",
       "    <tr>\n",
       "      <th id=\"T_f8622_level0_row1\" class=\"row_heading level0 row1\" >1</th>\n",
       "      <td id=\"T_f8622_row1_col0\" class=\"data row1 col0\" >-0.256173</td>\n",
       "      <td id=\"T_f8622_row1_col1\" class=\"data row1 col1\" >-0.483000</td>\n",
       "      <td id=\"T_f8622_row1_col2\" class=\"data row1 col2\" >-0.256173</td>\n",
       "    </tr>\n",
       "    <tr>\n",
       "      <th id=\"T_f8622_level0_row2\" class=\"row_heading level0 row2\" >2</th>\n",
       "      <td id=\"T_f8622_row2_col0\" class=\"data row2 col0\" >-0.016898</td>\n",
       "      <td id=\"T_f8622_row2_col1\" class=\"data row2 col1\" >-0.497000</td>\n",
       "      <td id=\"T_f8622_row2_col2\" class=\"data row2 col2\" >-0.016898</td>\n",
       "    </tr>\n",
       "    <tr>\n",
       "      <th id=\"T_f8622_level0_row3\" class=\"row_heading level0 row3\" >3</th>\n",
       "      <td id=\"T_f8622_row3_col0\" class=\"data row3 col0\" >-0.258333</td>\n",
       "      <td id=\"T_f8622_row3_col1\" class=\"data row3 col1\" >-0.968800</td>\n",
       "      <td id=\"T_f8622_row3_col2\" class=\"data row3 col2\" >-0.258333</td>\n",
       "    </tr>\n",
       "    <tr>\n",
       "      <th id=\"T_f8622_level0_row4\" class=\"row_heading level0 row4\" >4</th>\n",
       "      <td id=\"T_f8622_row4_col0\" class=\"data row4 col0\" >0.118750</td>\n",
       "      <td id=\"T_f8622_row4_col1\" class=\"data row4 col1\" >-0.232500</td>\n",
       "      <td id=\"T_f8622_row4_col2\" class=\"data row4 col2\" >0.118750</td>\n",
       "    </tr>\n",
       "    <tr>\n",
       "      <th id=\"T_f8622_level0_row5\" class=\"row_heading level0 row5\" >5</th>\n",
       "      <td id=\"T_f8622_row5_col0\" class=\"data row5 col0\" >-0.042628</td>\n",
       "      <td id=\"T_f8622_row5_col1\" class=\"data row5 col1\" >-0.783000</td>\n",
       "      <td id=\"T_f8622_row5_col2\" class=\"data row5 col2\" >-0.042628</td>\n",
       "    </tr>\n",
       "    <tr>\n",
       "      <th id=\"T_f8622_level0_row6\" class=\"row_heading level0 row6\" >6</th>\n",
       "      <td id=\"T_f8622_row6_col0\" class=\"data row6 col0\" >-0.008671</td>\n",
       "      <td id=\"T_f8622_row6_col1\" class=\"data row6 col1\" >-0.624000</td>\n",
       "      <td id=\"T_f8622_row6_col2\" class=\"data row6 col2\" >-0.008671</td>\n",
       "    </tr>\n",
       "    <tr>\n",
       "      <th id=\"T_f8622_level0_row7\" class=\"row_heading level0 row7\" >7</th>\n",
       "      <td id=\"T_f8622_row7_col0\" class=\"data row7 col0\" >0.000000</td>\n",
       "      <td id=\"T_f8622_row7_col1\" class=\"data row7 col1\" >-0.510600</td>\n",
       "      <td id=\"T_f8622_row7_col2\" class=\"data row7 col2\" >0.000000</td>\n",
       "    </tr>\n",
       "    <tr>\n",
       "      <th id=\"T_f8622_level0_row8\" class=\"row_heading level0 row8\" >8</th>\n",
       "      <td id=\"T_f8622_row8_col0\" class=\"data row8 col0\" >-0.005407</td>\n",
       "      <td id=\"T_f8622_row8_col1\" class=\"data row8 col1\" >0.481600</td>\n",
       "      <td id=\"T_f8622_row8_col2\" class=\"data row8 col2\" >-0.005407</td>\n",
       "    </tr>\n",
       "  </tbody>\n",
       "</table>\n"
      ],
      "text/plain": [
       "<pandas.io.formats.style.Styler at 0x2066ac21eb0>"
      ]
     },
     "execution_count": 195,
     "metadata": {},
     "output_type": "execute_result"
    }
   ],
   "source": [
    "bad_review_df = pd.DataFrame({\n",
    "    'spacy':list(map(sentiment_analysis_spacy, bad_reviews)),\n",
    "    'nltk':list(map(sentiment_analysis_nltk, bad_reviews)),\n",
    "    'textblob':list(map(sentiment_analysis_tb, bad_reviews))\n",
    "})\n",
    "# function to highlight negative values\n",
    "def highlight_sign(s):\n",
    "    if s.dtype == object:\n",
    "        is_neg = [False for _ in range(s.shape[0])]\n",
    "    else:\n",
    "        is_neg = s < 0\n",
    "    return ['color: red;' if cell else 'color:white' \n",
    "            for cell in is_neg]\n",
    "bad_review_df.style.apply(highlight_sign)"
   ]
  },
  {
   "cell_type": "code",
   "execution_count": 189,
   "id": "462879d3-5133-40ca-bde7-5763f4c2a389",
   "metadata": {},
   "outputs": [
    {
     "data": {
      "text/html": [
       "<style type=\"text/css\">\n",
       "#T_a6a15_row0_col0, #T_a6a15_row0_col2, #T_a6a15_row1_col0, #T_a6a15_row1_col1, #T_a6a15_row1_col2, #T_a6a15_row2_col0, #T_a6a15_row2_col1, #T_a6a15_row2_col2, #T_a6a15_row3_col0, #T_a6a15_row3_col1, #T_a6a15_row3_col2, #T_a6a15_row4_col1, #T_a6a15_row5_col0, #T_a6a15_row5_col1, #T_a6a15_row5_col2, #T_a6a15_row6_col0, #T_a6a15_row6_col1, #T_a6a15_row6_col2, #T_a6a15_row7_col1, #T_a6a15_row8_col0, #T_a6a15_row8_col2 {\n",
       "  color: red;\n",
       "}\n",
       "#T_a6a15_row0_col1, #T_a6a15_row4_col0, #T_a6a15_row4_col2, #T_a6a15_row7_col0, #T_a6a15_row7_col2, #T_a6a15_row8_col1 {\n",
       "  color: white;\n",
       "}\n",
       "</style>\n",
       "<table id=\"T_a6a15\">\n",
       "  <thead>\n",
       "    <tr>\n",
       "      <th class=\"blank level0\" >&nbsp;</th>\n",
       "      <th id=\"T_a6a15_level0_col0\" class=\"col_heading level0 col0\" >spacy</th>\n",
       "      <th id=\"T_a6a15_level0_col1\" class=\"col_heading level0 col1\" >nltk</th>\n",
       "      <th id=\"T_a6a15_level0_col2\" class=\"col_heading level0 col2\" >textblob</th>\n",
       "    </tr>\n",
       "  </thead>\n",
       "  <tbody>\n",
       "    <tr>\n",
       "      <th id=\"T_a6a15_level0_row0\" class=\"row_heading level0 row0\" >0</th>\n",
       "      <td id=\"T_a6a15_row0_col0\" class=\"data row0 col0\" >-0.145489</td>\n",
       "      <td id=\"T_a6a15_row0_col1\" class=\"data row0 col1\" >0.190100</td>\n",
       "      <td id=\"T_a6a15_row0_col2\" class=\"data row0 col2\" >-0.145489</td>\n",
       "    </tr>\n",
       "    <tr>\n",
       "      <th id=\"T_a6a15_level0_row1\" class=\"row_heading level0 row1\" >1</th>\n",
       "      <td id=\"T_a6a15_row1_col0\" class=\"data row1 col0\" >-0.256173</td>\n",
       "      <td id=\"T_a6a15_row1_col1\" class=\"data row1 col1\" >-0.483000</td>\n",
       "      <td id=\"T_a6a15_row1_col2\" class=\"data row1 col2\" >-0.256173</td>\n",
       "    </tr>\n",
       "    <tr>\n",
       "      <th id=\"T_a6a15_level0_row2\" class=\"row_heading level0 row2\" >2</th>\n",
       "      <td id=\"T_a6a15_row2_col0\" class=\"data row2 col0\" >-0.016898</td>\n",
       "      <td id=\"T_a6a15_row2_col1\" class=\"data row2 col1\" >-0.497000</td>\n",
       "      <td id=\"T_a6a15_row2_col2\" class=\"data row2 col2\" >-0.016898</td>\n",
       "    </tr>\n",
       "    <tr>\n",
       "      <th id=\"T_a6a15_level0_row3\" class=\"row_heading level0 row3\" >3</th>\n",
       "      <td id=\"T_a6a15_row3_col0\" class=\"data row3 col0\" >-0.258333</td>\n",
       "      <td id=\"T_a6a15_row3_col1\" class=\"data row3 col1\" >-0.968800</td>\n",
       "      <td id=\"T_a6a15_row3_col2\" class=\"data row3 col2\" >-0.258333</td>\n",
       "    </tr>\n",
       "    <tr>\n",
       "      <th id=\"T_a6a15_level0_row4\" class=\"row_heading level0 row4\" >4</th>\n",
       "      <td id=\"T_a6a15_row4_col0\" class=\"data row4 col0\" >0.118750</td>\n",
       "      <td id=\"T_a6a15_row4_col1\" class=\"data row4 col1\" >-0.232500</td>\n",
       "      <td id=\"T_a6a15_row4_col2\" class=\"data row4 col2\" >0.118750</td>\n",
       "    </tr>\n",
       "    <tr>\n",
       "      <th id=\"T_a6a15_level0_row5\" class=\"row_heading level0 row5\" >5</th>\n",
       "      <td id=\"T_a6a15_row5_col0\" class=\"data row5 col0\" >-0.042628</td>\n",
       "      <td id=\"T_a6a15_row5_col1\" class=\"data row5 col1\" >-0.783000</td>\n",
       "      <td id=\"T_a6a15_row5_col2\" class=\"data row5 col2\" >-0.042628</td>\n",
       "    </tr>\n",
       "    <tr>\n",
       "      <th id=\"T_a6a15_level0_row6\" class=\"row_heading level0 row6\" >6</th>\n",
       "      <td id=\"T_a6a15_row6_col0\" class=\"data row6 col0\" >-0.008671</td>\n",
       "      <td id=\"T_a6a15_row6_col1\" class=\"data row6 col1\" >-0.624000</td>\n",
       "      <td id=\"T_a6a15_row6_col2\" class=\"data row6 col2\" >-0.008671</td>\n",
       "    </tr>\n",
       "    <tr>\n",
       "      <th id=\"T_a6a15_level0_row7\" class=\"row_heading level0 row7\" >7</th>\n",
       "      <td id=\"T_a6a15_row7_col0\" class=\"data row7 col0\" >0.000000</td>\n",
       "      <td id=\"T_a6a15_row7_col1\" class=\"data row7 col1\" >-0.510600</td>\n",
       "      <td id=\"T_a6a15_row7_col2\" class=\"data row7 col2\" >0.000000</td>\n",
       "    </tr>\n",
       "    <tr>\n",
       "      <th id=\"T_a6a15_level0_row8\" class=\"row_heading level0 row8\" >8</th>\n",
       "      <td id=\"T_a6a15_row8_col0\" class=\"data row8 col0\" >-0.081451</td>\n",
       "      <td id=\"T_a6a15_row8_col1\" class=\"data row8 col1\" >0.435700</td>\n",
       "      <td id=\"T_a6a15_row8_col2\" class=\"data row8 col2\" >-0.081451</td>\n",
       "    </tr>\n",
       "  </tbody>\n",
       "</table>\n"
      ],
      "text/plain": [
       "<pandas.io.formats.style.Styler at 0x206684f4b20>"
      ]
     },
     "execution_count": 189,
     "metadata": {},
     "output_type": "execute_result"
    }
   ],
   "source": [
    "bad_review_df = pd.DataFrame({\n",
    "    'spacy':list(map(sentiment_analysis_spacy, bad_reviews)),\n",
    "    'nltk':list(map(sentiment_analysis_nltk, bad_reviews)),\n",
    "    'textblob':list(map(sentiment_analysis_tb, bad_reviews))\n",
    "})\n",
    "# function to highlight negative values\n",
    "def highlight_sign(s):\n",
    "    if s.dtype == object:\n",
    "        is_neg = [False for _ in range(s.shape[0])]\n",
    "    else:\n",
    "        is_neg = s < 0\n",
    "    return ['color: red;' if cell else 'color:white' \n",
    "            for cell in is_neg]\n",
    "bad_review_df.style.apply(highlight_sign)"
   ]
  },
  {
   "cell_type": "code",
   "execution_count": 185,
   "id": "76dd61cb-a59b-4825-be13-e50472fb7a89",
   "metadata": {},
   "outputs": [
    {
     "data": {
      "text/html": [
       "<style type=\"text/css\">\n",
       "#T_62eb3_row0_col0, #T_62eb3_row0_col1, #T_62eb3_row0_col2, #T_62eb3_row1_col0, #T_62eb3_row1_col1, #T_62eb3_row1_col2, #T_62eb3_row2_col0, #T_62eb3_row2_col1, #T_62eb3_row2_col2, #T_62eb3_row3_col0, #T_62eb3_row3_col1, #T_62eb3_row3_col2, #T_62eb3_row4_col0, #T_62eb3_row4_col1, #T_62eb3_row4_col2, #T_62eb3_row5_col0, #T_62eb3_row5_col1, #T_62eb3_row5_col2, #T_62eb3_row6_col0, #T_62eb3_row6_col1, #T_62eb3_row6_col2 {\n",
       "  color: white;\n",
       "}\n",
       "</style>\n",
       "<table id=\"T_62eb3\">\n",
       "  <thead>\n",
       "    <tr>\n",
       "      <th class=\"blank level0\" >&nbsp;</th>\n",
       "      <th id=\"T_62eb3_level0_col0\" class=\"col_heading level0 col0\" >spacy</th>\n",
       "      <th id=\"T_62eb3_level0_col1\" class=\"col_heading level0 col1\" >nltk</th>\n",
       "      <th id=\"T_62eb3_level0_col2\" class=\"col_heading level0 col2\" >textblob</th>\n",
       "    </tr>\n",
       "  </thead>\n",
       "  <tbody>\n",
       "    <tr>\n",
       "      <th id=\"T_62eb3_level0_row0\" class=\"row_heading level0 row0\" >0</th>\n",
       "      <td id=\"T_62eb3_row0_col0\" class=\"data row0 col0\" >0.435000</td>\n",
       "      <td id=\"T_62eb3_row0_col1\" class=\"data row0 col1\" >0.957000</td>\n",
       "      <td id=\"T_62eb3_row0_col2\" class=\"data row0 col2\" >0.435000</td>\n",
       "    </tr>\n",
       "    <tr>\n",
       "      <th id=\"T_62eb3_level0_row1\" class=\"row_heading level0 row1\" >1</th>\n",
       "      <td id=\"T_62eb3_row1_col0\" class=\"data row1 col0\" >0.533333</td>\n",
       "      <td id=\"T_62eb3_row1_col1\" class=\"data row1 col1\" >0.892200</td>\n",
       "      <td id=\"T_62eb3_row1_col2\" class=\"data row1 col2\" >0.533333</td>\n",
       "    </tr>\n",
       "    <tr>\n",
       "      <th id=\"T_62eb3_level0_row2\" class=\"row_heading level0 row2\" >2</th>\n",
       "      <td id=\"T_62eb3_row2_col0\" class=\"data row2 col0\" >0.194792</td>\n",
       "      <td id=\"T_62eb3_row2_col1\" class=\"data row2 col1\" >0.901800</td>\n",
       "      <td id=\"T_62eb3_row2_col2\" class=\"data row2 col2\" >0.194792</td>\n",
       "    </tr>\n",
       "    <tr>\n",
       "      <th id=\"T_62eb3_level0_row3\" class=\"row_heading level0 row3\" >3</th>\n",
       "      <td id=\"T_62eb3_row3_col0\" class=\"data row3 col0\" >0.447143</td>\n",
       "      <td id=\"T_62eb3_row3_col1\" class=\"data row3 col1\" >0.968400</td>\n",
       "      <td id=\"T_62eb3_row3_col2\" class=\"data row3 col2\" >0.447143</td>\n",
       "    </tr>\n",
       "    <tr>\n",
       "      <th id=\"T_62eb3_level0_row4\" class=\"row_heading level0 row4\" >4</th>\n",
       "      <td id=\"T_62eb3_row4_col0\" class=\"data row4 col0\" >0.457845</td>\n",
       "      <td id=\"T_62eb3_row4_col1\" class=\"data row4 col1\" >0.970900</td>\n",
       "      <td id=\"T_62eb3_row4_col2\" class=\"data row4 col2\" >0.457845</td>\n",
       "    </tr>\n",
       "    <tr>\n",
       "      <th id=\"T_62eb3_level0_row5\" class=\"row_heading level0 row5\" >5</th>\n",
       "      <td id=\"T_62eb3_row5_col0\" class=\"data row5 col0\" >0.286091</td>\n",
       "      <td id=\"T_62eb3_row5_col1\" class=\"data row5 col1\" >0.944000</td>\n",
       "      <td id=\"T_62eb3_row5_col2\" class=\"data row5 col2\" >0.286091</td>\n",
       "    </tr>\n",
       "    <tr>\n",
       "      <th id=\"T_62eb3_level0_row6\" class=\"row_heading level0 row6\" >6</th>\n",
       "      <td id=\"T_62eb3_row6_col0\" class=\"data row6 col0\" >0.114920</td>\n",
       "      <td id=\"T_62eb3_row6_col1\" class=\"data row6 col1\" >0.945800</td>\n",
       "      <td id=\"T_62eb3_row6_col2\" class=\"data row6 col2\" >0.114920</td>\n",
       "    </tr>\n",
       "  </tbody>\n",
       "</table>\n"
      ],
      "text/plain": [
       "<pandas.io.formats.style.Styler at 0x2066ac25790>"
      ]
     },
     "execution_count": 185,
     "metadata": {},
     "output_type": "execute_result"
    }
   ],
   "source": [
    "good_review_df = pd.DataFrame({\n",
    "    'spacy':list(map(sentiment_analysis_spacy, good_reviews)),\n",
    "    'nltk':list(map(sentiment_analysis_nltk, good_reviews)),\n",
    "    'textblob':list(map(sentiment_analysis_tb, good_reviews))\n",
    "})\n",
    "good_review_df.style.apply(highlight_sign)"
   ]
  },
  {
   "cell_type": "markdown",
   "id": "f4df63ae-609a-4af3-a4a8-6871be45d906",
   "metadata": {},
   "source": [
    "So textblob and spacytextblob are the same thing, but textblob runs a lot faster. nltk and tb give different answers, though, and these are some really negative reviews. It seems that nltk fails on the first/last reviews which are long whereas tb can't tell about reviews 4 and 7 which makes sense, reading them. Going with textblob."
   ]
  },
  {
   "cell_type": "code",
   "execution_count": 198,
   "id": "dc80e637-6a61-43e8-91b3-d952d166548b",
   "metadata": {},
   "outputs": [
    {
     "name": "stdout",
     "output_type": "stream",
     "text": [
      "Wall time: 13.3 s\n"
     ]
    },
    {
     "data": {
      "text/plain": [
       "0       0.298052\n",
       "1       0.466558\n",
       "2       0.790625\n",
       "3       0.409615\n",
       "4       0.461540\n",
       "          ...   \n",
       "9995    0.143333\n",
       "9996    0.052778\n",
       "9997    0.700000\n",
       "9998    0.475000\n",
       "9999    0.550000\n",
       "Name: text, Length: 10000, dtype: float64"
      ]
     },
     "execution_count": 198,
     "metadata": {},
     "output_type": "execute_result"
    }
   ],
   "source": [
    "%%time\n",
    "df['text'][:10000].apply(sentiment_analysis_tb)"
   ]
  },
  {
   "cell_type": "code",
   "execution_count": 202,
   "id": "92063cfd-5f3b-448a-89d8-eedcafc1c1d7",
   "metadata": {},
   "outputs": [
    {
     "name": "stdout",
     "output_type": "stream",
     "text": [
      "running this will take 12.648610333333332 minutes\n"
     ]
    }
   ],
   "source": [
    "print(f\"running this will take {len(df) * 13.3/10000 /60} minutes\")"
   ]
  },
  {
   "cell_type": "code",
   "execution_count": 203,
   "id": "e6f05bff-d848-49f2-922e-9062ea1a68ef",
   "metadata": {},
   "outputs": [],
   "source": [
    "df['sentiment'] = df['text'].apply(sentiment_analysis_tb)"
   ]
  },
  {
   "cell_type": "code",
   "execution_count": null,
   "id": "197cc090-0662-45fa-855f-4304d1567ef6",
   "metadata": {},
   "outputs": [],
   "source": [
    "df['review_stars']"
   ]
  },
  {
   "cell_type": "code",
   "execution_count": 212,
   "id": "64c4c9d7-423c-4147-b439-4c2813108ca6",
   "metadata": {},
   "outputs": [
    {
     "data": {
      "text/plain": [
       "<matplotlib.collections.PathCollection at 0x20664ae3df0>"
      ]
     },
     "execution_count": 212,
     "metadata": {},
     "output_type": "execute_result"
    },
    {
     "data": {
      "image/png": "[encoded data removed]",
      "text/plain": [
       "<Figure size 432x288 with 1 Axes>"
      ]
     },
     "metadata": {
      "needs_background": "light"
     },
     "output_type": "display_data"
    }
   ],
   "source": [
    "plt.scatter(df.sentiment,df.Score)"
   ]
  },
  {
   "cell_type": "code",
   "execution_count": null,
   "id": "f87e5eb6-69a9-4007-bd9b-3f145f5fe7f1",
   "metadata": {},
   "outputs": [],
   "source": []
  },
  {
   "cell_type": "code",
   "execution_count": 296,
   "id": "ac39a8cf-58ef-40cd-b3ef-bca1eeeb3ab2",
   "metadata": {},
   "outputs": [],
   "source": [
    "def percent_bad_reviews(values):\n",
    "    return sum(values < 0.25)/len(values)"
   ]
  },
  {
   "cell_type": "code",
   "execution_count": 292,
   "id": "953071ad-3036-4715-a4e4-888f8f9e0630",
   "metadata": {},
   "outputs": [],
   "source": [
    "grouped = df.groupby('business_id')\n",
    "new_df = grouped.agg(sentiment=('sentiment','mean'),\n",
    "                     percent_bad_sentiment=('sentiment',percent_bad_reviews),\n",
    "                     Score=('Score','mean'),\n",
    "                     review_stars=('review_stars','mean')\n",
    "                    ).reset_index()"
   ]
  },
  {
   "cell_type": "code",
   "execution_count": 287,
   "id": "50a37c61-5403-4723-9780-55bc520ff5cc",
   "metadata": {},
   "outputs": [
    {
     "data": {
      "text/plain": [
       "<matplotlib.collections.PathCollection at 0x206a0585f70>"
      ]
     },
     "execution_count": 287,
     "metadata": {},
     "output_type": "execute_result"
    },
    {
     "data": {
      "image/png": "[encoded data removed]",
      "text/plain": [
       "<Figure size 432x288 with 1 Axes>"
      ]
     },
     "metadata": {
      "needs_background": "light"
     },
     "output_type": "display_data"
    }
   ],
   "source": [
    "# obvious correlation with review stars\n",
    "plt.scatter(new_df.sentiment,new_df.review_stars)"
   ]
  },
  {
   "cell_type": "code",
   "execution_count": 288,
   "id": "8708b16b-2363-464b-a3c3-704e934cdaeb",
   "metadata": {},
   "outputs": [
    {
     "data": {
      "text/plain": [
       "<matplotlib.collections.PathCollection at 0x206a9145400>"
      ]
     },
     "execution_count": 288,
     "metadata": {},
     "output_type": "execute_result"
    },
    {
     "data": {
      "image/png": "[encoded data removed]",
      "text/plain": [
       "<Figure size 432x288 with 1 Axes>"
      ]
     },
     "metadata": {
      "needs_background": "light"
     },
     "output_type": "display_data"
    }
   ],
   "source": [
    "# not much correlation with Score with a straight average\n",
    "plt.scatter(new_df.sentiment,new_df.Score)"
   ]
  },
  {
   "cell_type": "code",
   "execution_count": 297,
   "id": "5a4508ca-e01c-4063-9453-acf91fa60027",
   "metadata": {},
   "outputs": [
    {
     "data": {
      "text/plain": [
       "<matplotlib.collections.PathCollection at 0x206b1b51b80>"
      ]
     },
     "execution_count": 297,
     "metadata": {},
     "output_type": "execute_result"
    },
    {
     "data": {
      "image/png": "[encoded data removed]",
      "text/plain": [
       "<Figure size 432x288 with 1 Axes>"
      ]
     },
     "metadata": {
      "needs_background": "light"
     },
     "output_type": "display_data"
    }
   ],
   "source": [
    "# not much correlation with % bad reviews\n",
    "plt.scatter(new_df.percent_bad_sentiment,new_df.Score)"
   ]
  },
  {
   "cell_type": "markdown",
   "id": "6527ca70-1f45-402f-b971-0e4bef40339f",
   "metadata": {},
   "source": [
    "## DIRTY_WORDS"
   ]
  },
  {
   "cell_type": "markdown",
   "id": "3c3466d1-92b5-4183-855c-7daa8c4cb00b",
   "metadata": {},
   "source": [
    "Gathering a corpus to describe dirty restaurants from reddit posts by health inspectors talking about their worst ever experiences:\n",
    "* https://www.reddit.com/r/AskReddit/comments/1lnddh/health_inspectors_of_reddit_what_is_the_worst/\n",
    "* https://www.reddit.com/r/AskReddit/comments/2h1uuq/food_inspectors_of_reddit_whats_the_worst/\n",
    "\n",
    "Following this helpful guide: https://towardsdatascience.com/scraping-reddit-data-1c0af3040768\n",
    "\n",
    "And this post: https://stackoverflow.com/questions/60623349/how-to-limit-first-level-comments-in-praw-reddit"
   ]
  },
  {
   "cell_type": "markdown",
   "id": "46f1e7c4-f551-4bab-983f-0a9f3b3d6fd6",
   "metadata": {},
   "source": [
    "### gather reddit comments"
   ]
  },
  {
   "cell_type": "code",
   "execution_count": 328,
   "id": "68ab0b5a-5d07-4eb1-b566-048cba74ab39",
   "metadata": {},
   "outputs": [],
   "source": [
    "import praw\n",
    "from praw.models import MoreComments\n",
    "f = open(data_directory + 'reddit_api_key.txt','r')\n",
    "r_client_id, r_secret, r_user_agent = [line.strip() for line in f.readlines()]\n",
    "f.close()\n",
    "reddit = praw.Reddit(client_id=r_client_id, client_secret=r_secret, user_agent=r_user_agent)"
   ]
  },
  {
   "cell_type": "code",
   "execution_count": 516,
   "id": "4f05f034-4f66-4c53-b9f9-c8700084060d",
   "metadata": {},
   "outputs": [],
   "source": [
    "# get all top-level comments in a post\n",
    "def iter_top_level(comments):\n",
    "    for top_level_comment in comments:\n",
    "        if isinstance(top_level_comment, MoreComments):\n",
    "            yield from iter_top_level(top_level_comment.comments())\n",
    "        else:\n",
    "            yield top_level_comment\n",
    "\n",
    "def get_reddit_comments(post_id=\"1lnddh\"):\n",
    "    submission = reddit.submission(post_id)\n",
    "    comments = []\n",
    "    for comment in iter_top_level(submission.comments): \n",
    "        # only get NON-deleted posts with > 2 score to filter out... trash\n",
    "        if comment.author and comment.score > 2:\n",
    "            comments.append(comment.body)\n",
    "    return comments"
   ]
  },
  {
   "cell_type": "code",
   "execution_count": 517,
   "id": "ab39ed0b-1146-4d94-bae8-47334b342e8c",
   "metadata": {},
   "outputs": [
    {
     "name": "stdout",
     "output_type": "stream",
     "text": [
      "Wall time: 55.7 s\n"
     ]
    }
   ],
   "source": [
    "%%time\n",
    "comments = []\n",
    "post_ids = [\"1lnddh\",\"2h1uuq\",\"598qrb\"]\n",
    "for i in post_ids:\n",
    "    comments += get_reddit_comments(i)"
   ]
  },
  {
   "cell_type": "code",
   "execution_count": 518,
   "id": "26291771-a6a0-4c7e-81b3-933f54a9692c",
   "metadata": {},
   "outputs": [],
   "source": [
    "comments=np.array(comments)"
   ]
  },
  {
   "cell_type": "code",
   "execution_count": 509,
   "id": "6b552ccd-c6fe-4f0f-ab82-fbcd55ff09b8",
   "metadata": {},
   "outputs": [],
   "source": [
    "# fig = plt.figure(1)\n",
    "# plt.xlim(-30,30)\n",
    "# plt.ylim(0,100)\n",
    "# plt.hist(comments[comments < 30],bins=50)\n",
    "# plt.show()"
   ]
  },
  {
   "cell_type": "code",
   "execution_count": 510,
   "id": "f5e5f6ee-d6a4-4b41-968f-273a7a13cd51",
   "metadata": {},
   "outputs": [],
   "source": [
    "# # looking at # comments vs. score\n",
    "# integral_range = range(-30,100,1)\n",
    "# integral = [sum(comments < x)/len(comments) for x in integral_range]\n",
    "# plt.plot(integral_range,integral)"
   ]
  },
  {
   "cell_type": "code",
   "execution_count": 511,
   "id": "9524dfc5-4819-4b82-9c95-ef4b44e54aa1",
   "metadata": {},
   "outputs": [],
   "source": [
    "# # 90% of comments have positive score. Let's throw out the ones with negative scores\n",
    "# sum(comments > 0)/len(comments)"
   ]
  },
  {
   "cell_type": "code",
   "execution_count": 519,
   "id": "be3958d3-883c-442c-b0a1-e92f903466b9",
   "metadata": {},
   "outputs": [],
   "source": [
    "filename = processed_data_directory + 'reddit_comments.csv'\n",
    "comments_df = pd.DataFrame({'comments':comments})\n",
    "comments_df.to_csv(filename, index=False)"
   ]
  },
  {
   "cell_type": "markdown",
   "id": "8b1d4e65-c476-40b3-943c-6c92da3b8ae3",
   "metadata": {
    "tags": []
   },
   "source": [
    "### process reddit comments for vocabulary"
   ]
  },
  {
   "cell_type": "code",
   "execution_count": 520,
   "id": "edd18def-19d1-41e7-96a5-9a57cdb723f5",
   "metadata": {},
   "outputs": [],
   "source": [
    "filename = processed_data_directory + 'reddit_comments.csv'\n",
    "comments_df = pd.read_csv(filename)"
   ]
  },
  {
   "cell_type": "code",
   "execution_count": 733,
   "id": "32bcb09a-d2f4-4bc9-ad34-58f3784596f4",
   "metadata": {},
   "outputs": [
    {
     "data": {
      "text/plain": [
       "0      Environmental Health Inspectors don't only cov...\n",
       "1      Going on 10 years as an inspector.  Most dange...\n",
       "2      Struck up a conversation with the health inspe...\n",
       "3      I work in the beer industry and some of the wa...\n",
       "4      If you're eating out at a fast food restaurant...\n",
       "                             ...                        \n",
       "402    > Anyways, the place still technically passed ...\n",
       "403    what the fuck is wrong with you? This is just ...\n",
       "404    \"Forced\"?   Are you implying the health inspec...\n",
       "405    Can confirm. I always order the dookie nut cho...\n",
       "406    Reposted from [here.](https://www.reddit.com/r...\n",
       "Name: comments, Length: 407, dtype: object"
      ]
     },
     "execution_count": 733,
     "metadata": {},
     "output_type": "execute_result"
    }
   ],
   "source": [
    "comments_df.comments"
   ]
  },
  {
   "cell_type": "code",
   "execution_count": 859,
   "id": "8cd0d27d-4a82-47f8-8344-cc46c08a8260",
   "metadata": {},
   "outputs": [],
   "source": [
    "def a_lemmatizer(doc):\n",
    "    doc_cleaned = ' '.join(re.findall(r'\\b\\w[\\w\\']+\\b', doc))\n",
    "    return [ w.lemma_.lower() for w in nlp(doc_cleaned) \n",
    "                      if (w.lemma_ not in ['_', '.']) and (w.pos_ not in ['PRON','DET','NUM','AUX','ADP']) ]\n",
    "\n",
    "stopwords = spacy.lang.en.stop_words.STOP_WORDS\n",
    "# Removing a few words that don't lemmatize well\n",
    "stopwords = stopwords.difference({'he','his','her','hers'})\n",
    "\n",
    "stopwords = set(a_lemmatizer(' '.join(sorted(stopwords))))\n",
    "# add some annoying ones that get through lemmatizer\n",
    "stopwords = stopwords.union({'\\'s', '\\'ll', '\\'ve'})"
   ]
  },
  {
   "cell_type": "code",
   "execution_count": 587,
   "id": "68daf36f-807c-4a47-87fa-3cf7c89a4ccc",
   "metadata": {},
   "outputs": [
    {
     "name": "stdout",
     "output_type": "stream",
     "text": [
      "The  --  DET  --  the\n",
      "striped  --  VERB  --  stripe\n",
      "bats  --  NOUN  --  bat\n",
      "are  --  AUX  --  be\n",
      "hanging  --  VERB  --  hang\n",
      "on  --  ADP  --  on\n",
      "their  --  PRON  --  their\n",
      "feet  --  NOUN  --  foot\n",
      "for  --  ADP  --  for\n",
      "not  --  PART  --  not\n",
      "are  --  AUX  --  be\n",
      "best  --  ADJ  --  good\n"
     ]
    }
   ],
   "source": [
    "nlp = spacy.load('en_core_web_sm', disable=['parser', 'ner'])\n",
    "sentence = \"The striped bats are hanging on their feet for not are best\"\n",
    "doc = nlp(sentence)\n",
    "\n",
    "for token in doc:\n",
    "    print(token.text, \" -- \", token.pos_, \" -- \",token.lemma_)"
   ]
  },
  {
   "cell_type": "code",
   "execution_count": 588,
   "id": "e099cdf6-7d8b-4cc3-8113-30e2e7c68400",
   "metadata": {},
   "outputs": [
    {
     "name": "stdout",
     "output_type": "stream",
     "text": [
      "Environmental Health Inspectors don't only cover restaurants.  I inspect wells and septic systems.  I see sewage everyday.  The worst thing I've seen are old men coming up to their door naked . . . and what makes it worse is that they knew what date and time I was stopping by.\n",
      "['environmental', 'health', 'inspectors', 'not', 'only', 'cover', 'restaurant', 'inspect', 'well', 'and', 'septic', 'system', 'see', 'sewage', 'everyday', 'bad', 'thing', 'see', 'old', 'man', 'come', 'door', 'naked', 'and', 'make', 'bad', 'that', 'know', 'date', 'and', 'time', 'stop']\n"
     ]
    }
   ],
   "source": [
    "test = comments_df.comments[0]\n",
    "print(test)\n",
    "print(my_lemmatizer(test))"
   ]
  },
  {
   "cell_type": "code",
   "execution_count": 845,
   "id": "5c9f03d0-efa7-4fbf-8015-3de01e45b29c",
   "metadata": {},
   "outputs": [
    {
     "name": "stdout",
     "output_type": "stream",
     "text": [
      "['NRPemqVb4qpWFF0Avq_6OQ' 'bRsDZ44CD3uhGnRY3NeQhQ'\n",
      " 'IFB2K3BEZ2L_Mv5AbUD26Q' ... 'erLD01SfdUbGWurNoJTAzw'\n",
      " 'io_UQS_WwonlCPCfKy3Hdw' 'EaBDXdIQ_TeeUhn1Twnjvg']\n"
     ]
    }
   ],
   "source": [
    "print(df.business_id.unique())"
   ]
  },
  {
   "cell_type": "code",
   "execution_count": 860,
   "id": "f0c85f1e-ccc9-49d7-8146-110dc3cf8c2a",
   "metadata": {},
   "outputs": [],
   "source": [
    "# simple bag of words\n",
    "tfidf = TfidfVectorizer(tokenizer = a_lemmatizer,\n",
    "                        min_df=5, max_df=0.8, max_features=2000,\n",
    "                        ngram_range=(1,2), stop_words=STOP_WORDS)"
   ]
  },
  {
   "cell_type": "code",
   "execution_count": 861,
   "id": "1e58d695-dcf7-4f22-bab5-2efe765d5f57",
   "metadata": {},
   "outputs": [
    {
     "name": "stderr",
     "output_type": "stream",
     "text": [
      "C:\\Users\\ASUS\\anaconda3\\lib\\site-packages\\sklearn\\feature_extraction\\text.py:396: UserWarning: Your stop_words may be inconsistent with your preprocessing. Tokenizing the stop words generated tokens ['far', 'regard', 'use'] not in stop_words.\n",
      "  warnings.warn(\n"
     ]
    }
   ],
   "source": [
    "tfed = tfidf.fit_transform(comments_df['comments'])"
   ]
  },
  {
   "cell_type": "code",
   "execution_count": 863,
   "id": "7809f1cd-a784-4fc8-92ec-30bb70d5d18c",
   "metadata": {},
   "outputs": [],
   "source": [
    "# filename = model_directory + 'reddit_comments_features.pkl'\n",
    "# pkl.dump(tfidf, open(filename,'wb'))"
   ]
  },
  {
   "cell_type": "code",
   "execution_count": 846,
   "id": "9494c0c9-1214-420b-af67-f332a5583e99",
   "metadata": {},
   "outputs": [
    {
     "data": {
      "text/plain": [
       "TfidfVectorizer(max_df=0.8, max_features=2000, min_df=5, ngram_range=(1, 2),\n",
       "                stop_words={\"'d\", \"'ll\", \"'m\", \"'re\", \"'s\", \"'ve\", 'a', 'about',\n",
       "                            'above', 'across', 'after', 'afterwards', 'again',\n",
       "                            'against', 'all', 'almost', 'alone', 'along',\n",
       "                            'already', 'also', 'although', 'always', 'am',\n",
       "                            'among', 'amongst', 'amount', 'an', 'and',\n",
       "                            'another', 'any', ...},\n",
       "                tokenizer=<function my_lemmatizer at 0x0000020681878820>)"
      ]
     },
     "execution_count": 846,
     "metadata": {},
     "output_type": "execute_result"
    }
   ],
   "source": [
    "tfidf"
   ]
  },
  {
   "cell_type": "code",
   "execution_count": 608,
   "id": "15878b9b-e521-4680-aa7c-8e6d9f874b08",
   "metadata": {
    "collapsed": true,
    "jupyter": {
     "outputs_hidden": true
    },
    "tags": []
   },
   "outputs": [
    {
     "data": {
      "text/plain": [
       "{'health': 5.219507705176107,\n",
       " 'sewage': 5.219507705176107,\n",
       " 'man': 5.219507705176107,\n",
       " 'come': 5.219507705176107,\n",
       " 'walk': 5.219507705176107,\n",
       " 'grease': 5.219507705176107,\n",
       " 'burger': 5.219507705176107,\n",
       " 'grill': 5.219507705176107,\n",
       " 'right': 5.219507705176107,\n",
       " 'kitchen': 5.219507705176107,\n",
       " 'fall': 5.219507705176107,\n",
       " 'find': 5.219507705176107,\n",
       " 'order': 5.219507705176107,\n",
       " 'close': 5.219507705176107,\n",
       " 'restaurant close': 5.219507705176107,\n",
       " 'bar': 5.219507705176107,\n",
       " 'new': 5.219507705176107,\n",
       " 'stuff': 5.219507705176107,\n",
       " 'deal': 5.219507705176107,\n",
       " 'class': 5.219507705176107,\n",
       " 'hand': 5.219507705176107,\n",
       " 'expect': 5.219507705176107,\n",
       " 'floor': 5.219507705176107,\n",
       " 'cool': 5.219507705176107,\n",
       " 'degree': 5.219507705176107,\n",
       " 'lettuce': 5.219507705176107,\n",
       " 'pot': 5.219507705176107,\n",
       " 'awful': 5.219507705176107,\n",
       " 'phone': 5.219507705176107,\n",
       " 'bag': 5.219507705176107,\n",
       " 'clean': 5.219507705176107,\n",
       " 'start': 5.219507705176107,\n",
       " 'money': 5.219507705176107,\n",
       " 'fry': 5.219507705176107,\n",
       " 'nasty': 5.219507705176107,\n",
       " 'inspector work': 5.219507705176107,\n",
       " 'waitress': 5.219507705176107,\n",
       " 'coworker': 5.219507705176107,\n",
       " 'arrive': 5.219507705176107,\n",
       " 'let': 5.219507705176107,\n",
       " 'bucket': 5.219507705176107,\n",
       " 'guy': 5.219507705176107,\n",
       " 'owner': 5.219507705176107,\n",
       " 'safety': 5.219507705176107,\n",
       " 'www': 5.219507705176107,\n",
       " 'morning': 5.219507705176107,\n",
       " 'begin': 5.219507705176107,\n",
       " 'sign': 5.219507705176107,\n",
       " 'mold': 5.219507705176107,\n",
       " 'establishment': 5.219507705176107,\n",
       " 'piece': 5.219507705176107,\n",
       " 'ask': 5.219507705176107,\n",
       " 'kind': 5.219507705176107,\n",
       " 'head': 5.219507705176107,\n",
       " 'restroom': 5.219507705176107,\n",
       " 'hotel': 5.219507705176107,\n",
       " 'huge': 5.219507705176107,\n",
       " 'rice': 5.219507705176107,\n",
       " 'rest': 5.219507705176107,\n",
       " 'post': 5.219507705176107,\n",
       " 'company': 5.219507705176107,\n",
       " 'week': 5.219507705176107,\n",
       " 'fish': 5.219507705176107,\n",
       " 'white': 5.219507705176107,\n",
       " 'prep': 5.219507705176107,\n",
       " 'station': 5.219507705176107,\n",
       " 'break': 5.219507705176107,\n",
       " 'end': 5.219507705176107,\n",
       " 'wear glove': 5.219507705176107,\n",
       " 'state': 5.219507705176107,\n",
       " 'set': 5.219507705176107,\n",
       " 'little': 5.219507705176107,\n",
       " 'tl': 5.219507705176107,\n",
       " 'mom': 5.219507705176107,\n",
       " 'australia': 5.219507705176107,\n",
       " 'chinese buffet': 5.219507705176107,\n",
       " 'thread': 5.219507705176107,\n",
       " 'recently': 5.219507705176107,\n",
       " 'pay': 5.219507705176107,\n",
       " 'truck': 5.219507705176107,\n",
       " 'plastic': 5.219507705176107,\n",
       " 'instead': 5.219507705176107,\n",
       " 'wrap': 5.219507705176107,\n",
       " 'pick': 5.219507705176107,\n",
       " 'single': 5.219507705176107,\n",
       " 'story': 5.219507705176107,\n",
       " 'noise': 5.219507705176107,\n",
       " 'government': 5.219507705176107,\n",
       " 'product': 5.219507705176107,\n",
       " 'poisoning': 5.219507705176107,\n",
       " 'food poisoning': 5.219507705176107,\n",
       " 'finally': 5.219507705176107,\n",
       " 'shop': 5.219507705176107,\n",
       " 'buy': 5.219507705176107,\n",
       " 'multiple': 5.219507705176107,\n",
       " 'brother': 5.219507705176107,\n",
       " 'sound': 5.219507705176107,\n",
       " 'special': 5.219507705176107,\n",
       " 'shortly': 5.219507705176107,\n",
       " 'steak': 5.219507705176107,\n",
       " 'pan': 5.219507705176107,\n",
       " 'box': 5.219507705176107,\n",
       " 'infest': 5.219507705176107,\n",
       " 'month later': 5.219507705176107,\n",
       " 'expensive': 5.219507705176107,\n",
       " 'grocery': 5.219507705176107,\n",
       " 'shock': 5.219507705176107,\n",
       " 'remove': 5.219507705176107,\n",
       " 'inspect': 5.065357025348848,\n",
       " 'know': 5.065357025348848,\n",
       " 'time': 5.065357025348848,\n",
       " 'fryer': 5.065357025348848,\n",
       " 'squirrel': 5.065357025348848,\n",
       " 'filthy': 5.065357025348848,\n",
       " 'dish': 5.065357025348848,\n",
       " 'properly': 5.065357025348848,\n",
       " 'tell': 5.065357025348848,\n",
       " 'problem': 5.065357025348848,\n",
       " 'need': 5.065357025348848,\n",
       " 'place': 5.065357025348848,\n",
       " 'lock': 5.065357025348848,\n",
       " 'want': 5.065357025348848,\n",
       " 'brown': 5.065357025348848,\n",
       " 'kill': 5.065357025348848,\n",
       " 'look': 5.065357025348848,\n",
       " 'rating': 5.065357025348848,\n",
       " 'sanitation': 5.065357025348848,\n",
       " 'department': 5.065357025348848,\n",
       " 'inspector use': 5.065357025348848,\n",
       " 'serve': 5.065357025348848,\n",
       " 'work restaurant': 5.065357025348848,\n",
       " 'leave': 5.065357025348848,\n",
       " 'mean': 5.065357025348848,\n",
       " 'toilet': 5.065357025348848,\n",
       " 'appear': 5.065357025348848,\n",
       " 'couple': 5.065357025348848,\n",
       " 'town': 5.065357025348848,\n",
       " 'reason': 5.065357025348848,\n",
       " 'live': 5.065357025348848,\n",
       " 'write': 5.065357025348848,\n",
       " 'office': 5.065357025348848,\n",
       " 'believe': 5.065357025348848,\n",
       " 'home': 5.065357025348848,\n",
       " 'worker': 5.065357025348848,\n",
       " 'pull': 5.065357025348848,\n",
       " 'wife': 5.065357025348848,\n",
       " 'fine': 5.065357025348848,\n",
       " 'large': 5.065357025348848,\n",
       " 'html': 5.065357025348848,\n",
       " 'friend': 5.065357025348848,\n",
       " 'delivery': 5.065357025348848,\n",
       " 'mexican restaurant': 5.065357025348848,\n",
       " 'immediately': 5.065357025348848,\n",
       " 'free': 5.065357025348848,\n",
       " 'follow': 5.065357025348848,\n",
       " 'ceiling': 5.065357025348848,\n",
       " 'proceed': 5.065357025348848,\n",
       " 'fucking': 5.065357025348848,\n",
       " 'infestation': 5.065357025348848,\n",
       " 'knife': 5.065357025348848,\n",
       " 'check': 5.065357025348848,\n",
       " 'dumpster': 5.065357025348848,\n",
       " 'like': 5.065357025348848,\n",
       " 'inspector tell': 5.065357025348848,\n",
       " 'ass': 5.065357025348848,\n",
       " 'local restaurant': 5.065357025348848,\n",
       " 'catch': 5.065357025348848,\n",
       " 'explain': 5.065357025348848,\n",
       " 'city': 5.065357025348848,\n",
       " 'sandwich': 5.065357025348848,\n",
       " 'include': 5.065357025348848,\n",
       " 'matter': 5.065357025348848,\n",
       " 'clearly': 5.065357025348848,\n",
       " 'likely': 5.065357025348848,\n",
       " 'boot': 5.065357025348848,\n",
       " 'tell story': 5.065357025348848,\n",
       " 'soup': 5.065357025348848,\n",
       " 'sick': 5.065357025348848,\n",
       " 'manage': 5.065357025348848,\n",
       " 'send': 5.065357025348848,\n",
       " 'chinese place': 5.065357025348848,\n",
       " 'popular': 5.065357025348848,\n",
       " 'cousin': 5.065357025348848,\n",
       " 'fresh': 5.065357025348848,\n",
       " 'woman': 5.065357025348848,\n",
       " 'face': 5.065357025348848,\n",
       " 'fairly': 5.065357025348848,\n",
       " 'parasite': 5.065357025348848,\n",
       " 'inspector': 4.931825632724326,\n",
       " 'bad': 4.931825632724326,\n",
       " 'thing': 4.931825632724326,\n",
       " 'date': 4.931825632724326,\n",
       " 'notice': 4.931825632724326,\n",
       " 'stick': 4.931825632724326,\n",
       " 'raw': 4.931825632724326,\n",
       " 'bird': 4.931825632724326,\n",
       " 'chinese restaurant': 4.931825632724326,\n",
       " 'freezer': 4.931825632724326,\n",
       " 'body': 4.931825632724326,\n",
       " 'month': 4.931825632724326,\n",
       " 'food restaurant': 4.931825632724326,\n",
       " 'sink': 4.931825632724326,\n",
       " 'middle': 4.931825632724326,\n",
       " 'imagine': 4.931825632724326,\n",
       " 'http': 4.931825632724326,\n",
       " 'report': 4.931825632724326,\n",
       " 'health inspection': 4.931825632724326,\n",
       " 'chef': 4.931825632724326,\n",
       " 'girl': 4.931825632724326,\n",
       " 'think': 4.931825632724326,\n",
       " 'finger': 4.931825632724326,\n",
       " 'wall': 4.931825632724326,\n",
       " 'cause': 4.931825632724326,\n",
       " 'rinse': 4.931825632724326,\n",
       " 'drop': 4.931825632724326,\n",
       " 'grab': 4.931825632724326,\n",
       " 'hold': 4.931825632724326,\n",
       " 'late party': 4.931825632724326,\n",
       " 'trash': 4.931825632724326,\n",
       " 'ago': 4.931825632724326,\n",
       " 'replace': 4.931825632724326,\n",
       " 'dropping': 4.931825632724326,\n",
       " 'police': 4.931825632724326,\n",
       " 'blood': 4.931825632724326,\n",
       " 'non': 4.931825632724326,\n",
       " 'great': 4.931825632724326,\n",
       " 'table': 4.931825632724326,\n",
       " 'miss': 4.931825632724326,\n",
       " 'issue': 4.931825632724326,\n",
       " 'decide': 4.931825632724326,\n",
       " 'mix': 4.931825632724326,\n",
       " 'inch': 4.931825632724326,\n",
       " 'yell': 4.931825632724326,\n",
       " 'animal': 4.931825632724326,\n",
       " 'horrible': 4.931825632724326,\n",
       " 'outside': 4.931825632724326,\n",
       " 'store': 4.931825632724326,\n",
       " 'process': 4.931825632724326,\n",
       " 'today': 4.931825632724326,\n",
       " 'way': 4.931825632724326,\n",
       " 'cigarette': 4.931825632724326,\n",
       " 'vegetable': 4.931825632724326,\n",
       " 'discover': 4.931825632724326,\n",
       " 'soda': 4.931825632724326,\n",
       " 'hot': 4.931825632724326,\n",
       " 'burn': 4.931825632724326,\n",
       " 'leak': 4.931825632724326,\n",
       " 'light': 4.931825632724326,\n",
       " 'news': 4.931825632724326,\n",
       " 'prepare': 4.931825632724326,\n",
       " 'visit': 4.931825632724326,\n",
       " 'cough': 4.931825632724326,\n",
       " 'restaurant year': 4.931825632724326,\n",
       " 'cash': 4.931825632724326,\n",
       " 'grade': 4.931825632724326,\n",
       " 'cake': 4.931825632724326,\n",
       " 'foul': 4.931825632724326,\n",
       " 'system': 4.814042597067942,\n",
       " 'health inspector': 4.814042597067942,\n",
       " 'entire': 4.814042597067942,\n",
       " 'staff': 4.814042597067942,\n",
       " 'pile': 4.814042597067942,\n",
       " 'restaurant kitchen': 4.814042597067942,\n",
       " 'complaint': 4.814042597067942,\n",
       " 'sure': 4.814042597067942,\n",
       " 'eat': 4.814042597067942,\n",
       " 'read': 4.814042597067942,\n",
       " 'point': 4.814042597067942,\n",
       " 'mexican': 4.814042597067942,\n",
       " 'black': 4.814042597067942,\n",
       " 'ground': 4.814042597067942,\n",
       " 'mop': 4.814042597067942,\n",
       " 'mouth': 4.814042597067942,\n",
       " 'cook': 4.814042597067942,\n",
       " 'business': 4.814042597067942,\n",
       " 'car': 4.814042597067942,\n",
       " 'etc': 4.814042597067942,\n",
       " 'mention': 4.814042597067942,\n",
       " 'control': 4.814042597067942,\n",
       " 'wash hand': 4.814042597067942,\n",
       " 'meat': 4.814042597067942,\n",
       " 'counter': 4.814042597067942,\n",
       " 'plate': 4.814042597067942,\n",
       " 'fat': 4.814042597067942,\n",
       " 'turn': 4.814042597067942,\n",
       " 'source': 4.814042597067942,\n",
       " 'dump': 4.814042597067942,\n",
       " 'buffet': 4.814042597067942,\n",
       " 'sell': 4.814042597067942,\n",
       " 'spray': 4.814042597067942,\n",
       " 'smoke': 4.814042597067942,\n",
       " 'reddit': 4.814042597067942,\n",
       " 'shift': 4.814042597067942,\n",
       " 'regular': 4.814042597067942,\n",
       " 'luckily': 4.814042597067942,\n",
       " 'arm': 4.814042597067942,\n",
       " 'obligatory': 4.814042597067942,\n",
       " 'https www': 4.814042597067942,\n",
       " 'cream': 4.814042597067942,\n",
       " 'ice cream': 4.814042597067942,\n",
       " 'different': 4.814042597067942,\n",
       " 'restaurant serve': 4.814042597067942,\n",
       " 'ice machine': 4.814042597067942,\n",
       " 'cooler': 4.708682081410116,\n",
       " 'throw': 4.708682081410116,\n",
       " 'lead': 4.708682081410116,\n",
       " 'chain': 4.708682081410116,\n",
       " 'summer': 4.708682081410116,\n",
       " 'build': 4.708682081410116,\n",
       " 'crazy': 4.708682081410116,\n",
       " 'try': 4.708682081410116,\n",
       " 'run': 4.708682081410116,\n",
       " 'speak': 4.708682081410116,\n",
       " 'realize': 4.708682081410116,\n",
       " 'night': 4.708682081410116,\n",
       " 'long': 4.708682081410116,\n",
       " 'chip': 4.708682081410116,\n",
       " 'tl dr': 4.708682081410116,\n",
       " 'round': 4.708682081410116,\n",
       " 'talk': 4.708682081410116,\n",
       " 'care': 4.708682081410116,\n",
       " 'stand': 4.708682081410116,\n",
       " 'nose': 4.708682081410116,\n",
       " 'wish': 4.708682081410116,\n",
       " 'normal': 4.708682081410116,\n",
       " 'basement': 4.708682081410116,\n",
       " 'year': 4.613371901605792,\n",
       " 'bread': 4.613371901605792,\n",
       " 'true': 4.613371901605792,\n",
       " 'violation': 4.613371901605792,\n",
       " 'shut': 4.613371901605792,\n",
       " 'drain': 4.613371901605792,\n",
       " 'lot': 4.613371901605792,\n",
       " 'fast food': 4.613371901605792,\n",
       " 'comment': 4.613371901605792,\n",
       " 'open': 4.613371901605792,\n",
       " 'pretty': 4.613371901605792,\n",
       " 'gross': 4.613371901605792,\n",
       " 'god': 4.613371901605792,\n",
       " 'drive': 4.613371901605792,\n",
       " 'party': 4.613371901605792,\n",
       " 'piss': 4.613371901605792,\n",
       " 'equipment': 4.613371901605792,\n",
       " 'major': 4.613371901605792,\n",
       " 'allow': 4.613371901605792,\n",
       " 'crap': 4.613371901605792,\n",
       " 'wonder': 4.613371901605792,\n",
       " 'human': 4.613371901605792,\n",
       " 'needless': 4.613371901605792,\n",
       " 'simply': 4.613371901605792,\n",
       " 'favorite': 4.613371901605792,\n",
       " 'restaurant owner': 4.613371901605792,\n",
       " 'force': 4.613371901605792,\n",
       " 'usually': 4.526360524616162,\n",
       " 'salad': 4.526360524616162,\n",
       " 'pass': 4.526360524616162,\n",
       " 'drink': 4.526360524616162,\n",
       " 'shit': 4.526360524616162,\n",
       " 'fast': 4.526360524616162,\n",
       " 'tile': 4.526360524616162,\n",
       " 'visible': 4.526360524616162,\n",
       " 'fridge': 4.526360524616162,\n",
       " 'smell': 4.526360524616162,\n",
       " 'roach': 4.526360524616162,\n",
       " 'basically': 4.526360524616162,\n",
       " 'later': 4.526360524616162,\n",
       " 'kebab': 4.526360524616162,\n",
       " 'china': 4.526360524616162,\n",
       " 'probably': 4.526360524616162,\n",
       " 'question': 4.526360524616162,\n",
       " 'water': 4.526360524616162,\n",
       " 'carcass': 4.526360524616162,\n",
       " 'change': 4.526360524616162,\n",
       " 'super': 4.526360524616162,\n",
       " 'pest': 4.526360524616162,\n",
       " 'act': 4.526360524616162,\n",
       " 'chinese food': 4.526360524616162,\n",
       " 'air': 4.526360524616162,\n",
       " 'die': 4.446317816942624,\n",
       " 'chinese': 4.446317816942624,\n",
       " 'machine': 4.446317816942624,\n",
       " 'sanitize': 4.446317816942624,\n",
       " 'walk cooler': 4.446317816942624,\n",
       " 'rat': 4.446317816942624,\n",
       " 'food': 4.446317816942624,\n",
       " 'big': 4.446317816942624,\n",
       " 'hour': 4.446317816942624,\n",
       " 'late': 4.446317816942624,\n",
       " 'early': 4.446317816942624,\n",
       " 'chop': 4.446317816942624,\n",
       " 'code': 4.446317816942624,\n",
       " 'rot': 4.446317816942624,\n",
       " 'line': 4.446317816942624,\n",
       " 'feel': 4.446317816942624,\n",
       " 'bowl': 4.446317816942624,\n",
       " 'bring': 4.3722098447889035,\n",
       " 'manager': 4.3722098447889035,\n",
       " 'cut': 4.3722098447889035,\n",
       " 'strip': 4.3722098447889035,\n",
       " 'employee': 4.3722098447889035,\n",
       " 'level': 4.3722098447889035,\n",
       " 'maggot': 4.3722098447889035,\n",
       " 'actually': 4.3722098447889035,\n",
       " 'busy': 4.3722098447889035,\n",
       " 'house': 4.3722098447889035,\n",
       " 'family': 4.3722098447889035,\n",
       " 'dog': 4.3722098447889035,\n",
       " 'fuck': 4.3722098447889035,\n",
       " 'bathroom': 4.3722098447889035,\n",
       " 'literally': 4.3722098447889035,\n",
       " 'job': 4.3722098447889035,\n",
       " 'return': 4.3722098447889035,\n",
       " 'safe': 4.3722098447889035,\n",
       " 'case': 4.3722098447889035,\n",
       " 'pizza place': 4.3722098447889035,\n",
       " 'fact': 4.3722098447889035,\n",
       " 'handle': 4.3722098447889035,\n",
       " 'power': 4.3722098447889035,\n",
       " 'dead rat': 4.3722098447889035,\n",
       " 'surface': 4.3722098447889035,\n",
       " 'apparently': 4.3722098447889035,\n",
       " 'obviously': 4.3722098447889035,\n",
       " 'forget': 4.3722098447889035,\n",
       " 'disgusting': 4.303216973301952,\n",
       " 'com': 4.303216973301952,\n",
       " 'inspection': 4.303216973301952,\n",
       " 'bone': 4.303216973301952,\n",
       " 'bottle': 4.303216973301952,\n",
       " 'service': 4.303216973301952,\n",
       " 'away': 4.303216973301952,\n",
       " 'year ago': 4.303216973301952,\n",
       " 'green': 4.303216973301952,\n",
       " 'refuse': 4.303216973301952,\n",
       " 'country': 4.303216973301952,\n",
       " 'cheese': 4.303216973301952,\n",
       " 'common': 4.238678452164381,\n",
       " 'school': 4.238678452164381,\n",
       " 'college': 4.238678452164381,\n",
       " 'meet': 4.238678452164381,\n",
       " 'continue': 4.238678452164381,\n",
       " 'watch': 4.238678452164381,\n",
       " 'cleaning': 4.238678452164381,\n",
       " 'offer': 4.238678452164381,\n",
       " 'public': 4.238678452164381,\n",
       " 'finish': 4.238678452164381,\n",
       " 'fail': 4.238678452164381,\n",
       " 'use': 4.178053830347945,\n",
       " 'mouse': 4.178053830347945,\n",
       " 'inspector find': 4.178053830347945,\n",
       " 'good': 4.178053830347945,\n",
       " 'suck': 4.178053830347945,\n",
       " 'course': 4.178053830347945,\n",
       " 'wear': 4.178053830347945,\n",
       " 'dust': 4.178053830347945,\n",
       " 'grow': 4.178053830347945,\n",
       " 'glove': 4.178053830347945,\n",
       " 'overnight': 4.178053830347945,\n",
       " 'restaurant': 4.120895416507997,\n",
       " 'area': 4.120895416507997,\n",
       " 'dirty': 4.120895416507997,\n",
       " 'foot': 4.120895416507997,\n",
       " 'life': 4.120895416507997,\n",
       " 'sauce': 4.120895416507997,\n",
       " 'storage': 4.120895416507997,\n",
       " 'pound': 4.120895416507997,\n",
       " 'frozen': 4.120895416507997,\n",
       " 'small': 4.120895416507997,\n",
       " 'fire': 4.066828195237721,\n",
       " 'base': 4.066828195237721,\n",
       " 'dining': 4.066828195237721,\n",
       " 'fece': 4.066828195237721,\n",
       " 'half': 4.066828195237721,\n",
       " 'waste': 4.066828195237721,\n",
       " 'dead': 4.066828195237721,\n",
       " 'witness': 4.066828195237721,\n",
       " 'cover': 4.01553490085017,\n",
       " 'hell': 4.01553490085017,\n",
       " 'board': 4.01553490085017,\n",
       " 'happen': 4.01553490085017,\n",
       " 'fly': 4.01553490085017,\n",
       " 'guess': 4.01553490085017,\n",
       " 'nope': 4.01553490085017,\n",
       " 'bleach': 4.01553490085017,\n",
       " 'lady': 4.01553490085017,\n",
       " 'building': 3.9667447366807385,\n",
       " 'train': 3.9667447366807385,\n",
       " 'chicken': 3.9667447366807385,\n",
       " 'spend': 3.9667447366807385,\n",
       " 'hit': 3.9667447366807385,\n",
       " 'deli': 3.9667447366807385,\n",
       " 'use work': 3.9667447366807385,\n",
       " 'local': 3.920224721045846,\n",
       " 'hear': 3.920224721045846,\n",
       " 'absolutely': 3.920224721045846,\n",
       " 'bit': 3.920224721045846,\n",
       " 'temp': 3.920224721045846,\n",
       " 'help': 3.920224721045846,\n",
       " 'directly': 3.920224721045846,\n",
       " 'coffee': 3.920224721045846,\n",
       " 'repair': 3.920224721045846,\n",
       " 'wrong': 3.8757729584750122,\n",
       " 'street': 3.8757729584750122,\n",
       " 'inspector come': 3.8757729584750122,\n",
       " 'people': 3.833213344056216,\n",
       " 'edit': 3.833213344056216,\n",
       " 'low': 3.833213344056216,\n",
       " 'boss': 3.833213344056216,\n",
       " 'far': 3.833213344056216,\n",
       " 'wait': 3.833213344056216,\n",
       " 'grocery store': 3.833213344056216,\n",
       " 'stop': 3.792391349535961,\n",
       " 'stay': 3.792391349535961,\n",
       " 'link': 3.792391349535961,\n",
       " 'multiple time': 3.792391349535961,\n",
       " 'minute': 3.75317063638268,\n",
       " 'cockroach': 3.75317063638268,\n",
       " 'fix': 3.75317063638268,\n",
       " 'ice': 3.75317063638268,\n",
       " 'paper': 3.75317063638268,\n",
       " 'health department': 3.715430308399833,\n",
       " 'pizza': 3.715430308399833,\n",
       " 'serve customer': 3.715430308399833,\n",
       " 'day': 3.6790626642289577,\n",
       " 'uk': 3.6790626642289577,\n",
       " 'standard': 3.6790626642289577,\n",
       " 'tub': 3.6790626642289577,\n",
       " 'hard': 3.6439713444176878,\n",
       " 'kitchen staff': 3.6439713444176878,\n",
       " 'old': 3.6100697927420065,\n",
       " 'incident': 3.5772799699190156,\n",
       " 'lose': 3.5772799699190156,\n",
       " 'kid': 3.5772799699190156,\n",
       " 'cold': 3.5772799699190156,\n",
       " 'hole': 3.5772799699190156,\n",
       " 'terrible': 3.545531271604435,\n",
       " 'urine': 3.545531271604435,\n",
       " 'oh': 3.5147596129376812,\n",
       " 'room': 3.4849066497880004,\n",
       " 'day later': 3.455919112914748,\n",
       " 'cat': 3.455919112914748,\n",
       " 'container': 3.455919112914748,\n",
       " 'door': 3.373681014677776,\n",
       " 'assume': 3.373681014677776,\n",
       " 'dishwasher': 3.373681014677776,\n",
       " 'https': 3.373681014677776,\n",
       " 'fill': 3.347705528274515,\n",
       " 'milk': 3.322387720290225,\n",
       " 'window': 3.322387720290225,\n",
       " 'clear': 3.2500670587105995,\n",
       " 'dad': 3.2500670587105995,\n",
       " 'customer': 3.2270775404859005,\n",
       " 'corner': 3.2270775404859005,\n",
       " 'remember': 3.204604684633842,\n",
       " 'inside': 3.0992441689760155,\n",
       " 'http www': 3.0600234558227344,\n",
       " 'sit': 3.04097526085204,\n",
       " 'love': 3.04097526085204,\n",
       " 'bad thing': 2.9859154836690127,\n",
       " 'trouble': 2.9859154836690127,\n",
       " 'quit': 2.9682159065696117,\n",
       " 'second': 2.933729730498442,\n",
       " 'work': 2.916922612182061,\n",
       " 'wash': 2.8841327893590702,\n",
       " 'taste': 2.85238409104449,\n",
       " 'usual': 2.8216124323777363,\n",
       " 'co': 2.748587297362846,\n",
       " 'dr': 2.5924265666075637,\n",
       " 'block': 2.580450375560848,\n",
       " 'touch': 2.5114575040738965,\n",
       " 'display': 2.4060969884160706,\n",
       " 'deep': 2.2405825499384973,\n",
       " 'lay': 2.0140549006400468,\n",
       " 'yeah': 2.0073208684587023,\n",
       " 'high': 2.000631880307906}"
      ]
     },
     "execution_count": 608,
     "metadata": {},
     "output_type": "execute_result"
    }
   ],
   "source": [
    "# looking at high tf-idf terms\n",
    "high_value_terms = dict(zip(tfidf.vocabulary_, tfidf.idf_))\n",
    "high_value_terms = dict(sorted(high_value_terms.items(), key=lambda item: item[1],reverse=True))\n",
    "high_value_terms"
   ]
  },
  {
   "cell_type": "code",
   "execution_count": 877,
   "id": "e00ea2e3-564a-4824-9af2-2fbcd2589b3b",
   "metadata": {},
   "outputs": [],
   "source": [
    "X = df['text']"
   ]
  },
  {
   "cell_type": "code",
   "execution_count": null,
   "id": "01a935b8-47d1-4e38-bea4-fb91d413b3bc",
   "metadata": {},
   "outputs": [],
   "source": []
  },
  {
   "cell_type": "code",
   "execution_count": null,
   "id": "b14b7476-8e33-4fb1-a39c-b37e585940d8",
   "metadata": {},
   "outputs": [],
   "source": []
  },
  {
   "cell_type": "code",
   "execution_count": null,
   "id": "13d0d075-d7b8-47e4-b319-0a5b0705bde5",
   "metadata": {},
   "outputs": [],
   "source": []
  },
  {
   "cell_type": "code",
   "execution_count": 881,
   "id": "023eaad4-5e2e-418b-ab19-7c17b2d4ca0a",
   "metadata": {},
   "outputs": [
    {
     "name": "stdout",
     "output_type": "stream",
     "text": [
      "Wall time: 4h 13min\n"
     ]
    }
   ],
   "source": [
    "%%time\n",
    "X_out = tfidf.transform(X)"
   ]
  },
  {
   "cell_type": "code",
   "execution_count": 882,
   "id": "ddcd8de0-7a59-4dc1-bff0-59196255f09d",
   "metadata": {},
   "outputs": [
    {
     "data": {
      "text/plain": [
       "<570614x575 sparse matrix of type '<class 'numpy.float64'>'\n",
       "\twith 9169408 stored elements in Compressed Sparse Row format>"
      ]
     },
     "execution_count": 882,
     "metadata": {},
     "output_type": "execute_result"
    }
   ],
   "source": [
    "X_out"
   ]
  },
  {
   "cell_type": "code",
   "execution_count": 884,
   "id": "5e9926dd-2fcb-4203-87ca-3010393e0ab5",
   "metadata": {},
   "outputs": [],
   "source": [
    "filename = processed_data_directory + 'X_out_reddit_vocab.npz'\n",
    "scipy.sparse.save_npz(filename,X_out)"
   ]
  },
  {
   "cell_type": "code",
   "execution_count": null,
   "id": "dca942a1-ff9a-4053-8e21-ac0a56c0d715",
   "metadata": {},
   "outputs": [],
   "source": []
  },
  {
   "cell_type": "code",
   "execution_count": null,
   "id": "1186057e-f662-475c-967b-ab2427054279",
   "metadata": {},
   "outputs": [],
   "source": []
  },
  {
   "cell_type": "code",
   "execution_count": null,
   "id": "5bbcb9f2-6435-4366-8e98-c47c06bb17a2",
   "metadata": {},
   "outputs": [],
   "source": []
  },
  {
   "cell_type": "code",
   "execution_count": null,
   "id": "2636c2b2-f301-4a0d-939f-25a1dc958351",
   "metadata": {},
   "outputs": [],
   "source": []
  },
  {
   "cell_type": "code",
   "execution_count": 867,
   "id": "cb17187a-d070-486e-9b73-b431d80d252a",
   "metadata": {},
   "outputs": [],
   "source": [
    "filename = processed_data_directory + 'X_out_reddit_vocab.npz'\n",
    "X_out = scipy.sparse.load_npz(filename)"
   ]
  },
  {
   "cell_type": "code",
   "execution_count": 677,
   "id": "04edb817-5937-4c15-bf69-cec03dd02687",
   "metadata": {},
   "outputs": [],
   "source": [
    "# check that it worked\n",
    "# (test - X_out).nnz == 0"
   ]
  },
  {
   "cell_type": "code",
   "execution_count": 885,
   "id": "b0ee4801-a7bf-4da4-bc15-25143b189568",
   "metadata": {},
   "outputs": [],
   "source": [
    "X_out_shuff, y_shuff = shuffle(X_out, y, random_state=42)\n",
    "X_train, X_test, y_train, y_test = train_test_split(X_out_shuff, y_shuff, test_size=0.2)"
   ]
  },
  {
   "cell_type": "code",
   "execution_count": 886,
   "id": "216f73c1-3cd2-4cc6-982b-81fb60a16028",
   "metadata": {},
   "outputs": [],
   "source": [
    "def test_regressor(regressor,print_R2=True,residual_hist=True,predictions_hist=True):\n",
    "    regressor.fit(X_train,y_train)\n",
    "    if print_R2:\n",
    "        print(f'R^2 score: {regressor.score(X_test, y_test)}')\n",
    "    y_predict = regressor.predict(X_test)\n",
    "    if residual_hist:\n",
    "        fig = plt.figure(1)\n",
    "        plt.hist(y_predict-y_test,bins=30,alpha=0.5);\n",
    "        plt.show()\n",
    "    if predictions_hist:\n",
    "        fig = plt.figure(2)\n",
    "        plt.hist(y_predict,bins=30,alpha=0.5)\n",
    "        plt.hist(y_test,bins=30,alpha=0.5)\n",
    "        plt.show()"
   ]
  },
  {
   "cell_type": "code",
   "execution_count": 887,
   "id": "0effa1e4-5513-4db6-a1ff-66ff920e07a6",
   "metadata": {},
   "outputs": [
    {
     "name": "stdout",
     "output_type": "stream",
     "text": [
      "R^2 score: 0.0853079641254344\n"
     ]
    },
    {
     "data": {
      "image/png": "[encoded data removed]",
      "text/plain": [
       "<Figure size 432x288 with 1 Axes>"
      ]
     },
     "metadata": {
      "needs_background": "light"
     },
     "output_type": "display_data"
    },
    {
     "data": {
      "image/png": "[encoded data removed]",
      "text/plain": [
       "<Figure size 432x288 with 1 Axes>"
      ]
     },
     "metadata": {
      "needs_background": "light"
     },
     "output_type": "display_data"
    },
    {
     "name": "stdout",
     "output_type": "stream",
     "text": [
      "Wall time: 3.2 s\n"
     ]
    }
   ],
   "source": [
    "%%time\n",
    "regressor = Ridge(alpha=10)\n",
    "test_regressor(regressor)"
   ]
  },
  {
   "cell_type": "code",
   "execution_count": 888,
   "id": "f9c09b12-7e4a-4aad-86bc-941fd7581a6a",
   "metadata": {},
   "outputs": [
    {
     "data": {
      "text/plain": [
       "575"
      ]
     },
     "execution_count": 888,
     "metadata": {},
     "output_type": "execute_result"
    }
   ],
   "source": [
    "regressor.n_features_in_"
   ]
  },
  {
   "cell_type": "code",
   "execution_count": 889,
   "id": "da870a78-239a-44e9-99ef-9da8984b15ac",
   "metadata": {},
   "outputs": [],
   "source": [
    "# filename = model_directory + 'reddit_comments_model.pkl'\n",
    "# pkl.dump(regressor, open(filename,'wb'))"
   ]
  },
  {
   "cell_type": "code",
   "execution_count": 716,
   "id": "cbff0bf2-e2d6-405c-b49a-28e3291b3372",
   "metadata": {},
   "outputs": [
    {
     "name": "stdout",
     "output_type": "stream",
     "text": [
      "R^2 score: 0.045521238295048616\n"
     ]
    },
    {
     "data": {
      "image/png": "[encoded data removed]",
      "text/plain": [
       "<Figure size 432x288 with 1 Axes>"
      ]
     },
     "metadata": {
      "needs_background": "light"
     },
     "output_type": "display_data"
    },
    {
     "data": {
      "image/png": "[encoded data removed]",
      "text/plain": [
       "<Figure size 432x288 with 1 Axes>"
      ]
     },
     "metadata": {
      "needs_background": "light"
     },
     "output_type": "display_data"
    },
    {
     "name": "stdout",
     "output_type": "stream",
     "text": [
      "Wall time: 3min 13s\n"
     ]
    }
   ],
   "source": [
    "%%time\n",
    "regressor = ensemble.RandomForestRegressor(n_estimators=100,\n",
    "                                           max_depth=5,\n",
    "                                           min_samples_split=5,\n",
    "                                           min_samples_leaf=3,\n",
    "                                           n_jobs=-2)\n",
    "test_regressor(regressor)"
   ]
  },
  {
   "cell_type": "code",
   "execution_count": 719,
   "id": "b9d97e0a-1fb6-42bd-88f3-df619b5e33f2",
   "metadata": {},
   "outputs": [
    {
     "name": "stdout",
     "output_type": "stream",
     "text": [
      "R^2 score: 0.03862947869576938\n"
     ]
    },
    {
     "data": {
      "image/png": "[encoded data removed]",
      "text/plain": [
       "<Figure size 432x288 with 1 Axes>"
      ]
     },
     "metadata": {
      "needs_background": "light"
     },
     "output_type": "display_data"
    },
    {
     "data": {
      "image/png": "[encoded data removed]",
      "text/plain": [
       "<Figure size 432x288 with 1 Axes>"
      ]
     },
     "metadata": {
      "needs_background": "light"
     },
     "output_type": "display_data"
    },
    {
     "name": "stdout",
     "output_type": "stream",
     "text": [
      "Wall time: 1min 27s\n"
     ]
    }
   ],
   "source": [
    "%%time\n",
    "regressor = ensemble.GradientBoostingRegressor(n_estimators=20,\n",
    "                                               max_depth=2,\n",
    "                                               min_samples_split=3,\n",
    "                                               min_samples_leaf=3)\n",
    "test_regressor(regressor)"
   ]
  },
  {
   "cell_type": "code",
   "execution_count": 721,
   "id": "9a25d716-d917-4ba5-a9f3-6706c889c91f",
   "metadata": {},
   "outputs": [],
   "source": [
    "y_predict = regressor.predict(X_out)"
   ]
  },
  {
   "cell_type": "code",
   "execution_count": 722,
   "id": "b9604acf-8bda-4c01-b32c-017df30e57fa",
   "metadata": {},
   "outputs": [],
   "source": [
    "df['predicted_score'] = y_predict"
   ]
  },
  {
   "cell_type": "code",
   "execution_count": 723,
   "id": "0b3e8ddb-6a26-4061-9a1b-d2e10f8e5a36",
   "metadata": {},
   "outputs": [],
   "source": [
    "new_df = df.groupby(['business_id']).agg({'Score':'mean',\n",
    "                                          'predicted_score':'mean',\n",
    "                                          'review_stars':'mean'\n",
    "                                         }).reset_index()"
   ]
  },
  {
   "cell_type": "code",
   "execution_count": 724,
   "id": "b401f561-ddf9-450c-be22-f5186c46fe37",
   "metadata": {},
   "outputs": [
    {
     "data": {
      "text/plain": [
       "0.1545356470413457"
      ]
     },
     "execution_count": 724,
     "metadata": {},
     "output_type": "execute_result"
    }
   ],
   "source": [
    "sklearn.metrics.r2_score(new_df['Score'].values,new_df['predicted_score'].values)"
   ]
  },
  {
   "cell_type": "code",
   "execution_count": 725,
   "id": "8713f592-28ae-4e80-9fc3-ba3a08cb3f87",
   "metadata": {},
   "outputs": [
    {
     "data": {
      "text/plain": [
       "(array([  3.,   3.,   5.,  16.,  27.,  27.,  27.,  71., 202., 288., 367.,\n",
       "        325., 328., 294., 253., 149.,  70.,  22.,  20.,   9.]),\n",
       " array([83.69611653, 84.24768455, 84.79925256, 85.35082058, 85.90238859,\n",
       "        86.45395661, 87.00552462, 87.55709264, 88.10866065, 88.66022867,\n",
       "        89.21179668, 89.7633647 , 90.31493271, 90.86650073, 91.41806874,\n",
       "        91.96963676, 92.52120477, 93.07277279, 93.6243408 , 94.17590882,\n",
       "        94.72747683]),\n",
       " <BarContainer object of 20 artists>)"
      ]
     },
     "execution_count": 725,
     "metadata": {},
     "output_type": "execute_result"
    },
    {
     "data": {
      "image/png": "[encoded data removed]",
      "text/plain": [
       "<Figure size 432x288 with 1 Axes>"
      ]
     },
     "metadata": {
      "needs_background": "light"
     },
     "output_type": "display_data"
    }
   ],
   "source": [
    "plt.hist(new_df.Score,bins=20,alpha=0.5)\n",
    "plt.hist(new_df.predicted_score,bins=20,alpha=0.5)"
   ]
  },
  {
   "cell_type": "code",
   "execution_count": 727,
   "id": "2063027c-9948-4cab-9e36-64ec82592a5f",
   "metadata": {},
   "outputs": [
    {
     "data": {
      "image/png": "[encoded data removed]",
      "text/plain": [
       "<Figure size 432x288 with 1 Axes>"
      ]
     },
     "metadata": {
      "needs_background": "light"
     },
     "output_type": "display_data"
    }
   ],
   "source": [
    "plt.scatter(new_df['Score'],new_df['predicted_score'])\n",
    "plt.show()"
   ]
  },
  {
   "cell_type": "code",
   "execution_count": 728,
   "id": "da9f8bba-9b0b-486e-915d-f37c82a51400",
   "metadata": {},
   "outputs": [],
   "source": [
    "good_reviews = [r\"They have some of the best seafood I've ever eaten here in Austin. I usually always order the same thing, but it never fails to be delicious. Their employees are all very nice too. They're clean, and the service is always quick, while never feeling rushed.\",\n",
    "                r\"We ordered the shrimp and oyster platter, broiled snapper plate and oysters diablos. Everything was delish but them oysters diablos were the bomb.com. We recommend ordering them every time. Service was good. The restaurant was clean.\",\n",
    "                r\"Great food, great service, great prices! It's hard to believe it's the same place that some of the negative reviews are referring to. Seafood is always fresh and the beer is always cold!\",\n",
    "                r\"Was undecided about going based on some reviews but decided to give it a try and so glad we did. Seafood was made to order and came out hot and fresh.  Service was very good. Food was very good. Price was very reasonable. I recommend and will be back.\",\n",
    "                r\"Very good food.  We had the shrimp poboy and there was shrimp in every bite.  The bun was freshly baked which only enhanced the taste.  The gumbo was delicious too.  The atmosphere is warm and friendly and the people are super friendly.  All in all, a positive dining experience.  I will return.\",\n",
    "                r\"The interior was very clean and had yummy aromas circulating.  I can definitely see why there is a 'sports-bar' vibe mentioned in some of the reviews.  Two TVs going, both with sports, lots of men with beer sitting around the central bar.  I think i was the only female in the place. The daily special was grilled flounder with a crab-shrimp brandy cream sauce.  Very, very tasty.  My son ordered this, and i swiped a bite of the fish, and two bites of the most excellent grilled veggies on the side.  Large platter, fitting the price.  I'd eat a veggie plate, if the grilled squash/onions/zucchini/mushrooms were the star!\",\n",
    "                r\"Amazing! Very fresh, and they tasted good too. I did douse them with lemon, a little seafood sauce, and Tabasco sauce though.  I also washed them down with my ice cold beer!  If you an get past the texture, you'll be ok. There was no shortage of saltine crackers. I did see someone with a large shrimp cocktail that I would like to try next time. Overall a very good experience. When my raw oyster on the half shell craving returns, I will be back to this place to satisfy it.\"\n",
    "               ]"
   ]
  },
  {
   "cell_type": "code",
   "execution_count": 890,
   "id": "4aeb1297-82c3-4872-bb2a-a2b72b17d151",
   "metadata": {},
   "outputs": [],
   "source": [
    "bad_reviews = [r\"This place was absolutely disgusting. We considered turning around as soon as we walked in as it had an odd vibe, unpleasant smell and almost no customers. BUT I've been to my fair share of decent dive type spots so we decided we'd stick around and give it a chance. The sweet tea was great, but all of the food was inedible. Clearly frozen calamari tasted like fried rubber bands with several of the pieces looking questionable and moldy. The fried catfish looked like cafeteria/hospital food. It too was obviously just frozen (freezer burned) catfish they threw in the fryer along with kindergarten crinkle fries and crunchy hush puppies. I honestly couldn't even eat my food both because it was gross and in fear of getting sick. I forced myself to throw up as soon as I got home and I wish I was kidding. The worst part is that the bill was $40 for two entrees and and appetizer which is absolutely insane considering the quality of what they put in front of us. I wish I'd gone to Long John Silvers on my way in the parking lot instead. I absolutely do not recommend this place whatsoever.\",\n",
    "               r\"Horrible service, dirty facility; I gave them 2 stars because the catfish nuggets were pretty good and the wine was cold. When asking for the check; our server asked my husband to write down everything we ordered so he could create a receipt; I'm still confused by this because no one else at our table had to do that. Weird anyway; I'll never go back there.\",\n",
    "               r\"We came on a Friday evening and parking lot was full so it seemed promising however we were clearly mistaken. The dining room is fairly small and we were able to snag a table by the entrance. The table had not wiped down so there was still water rings and food crumbs from the previous person. We wiped down the table ourselves and waited for our server. 10 mins later no one came by the table. No one even looked in our direction. Was this a walk up to the bar and order yourself place? Who knows. There was what appeared to be a waitress offering menus to other tables. We left without even having anything so we can't comment on the food but unfortunately we won't be returning.\",\n",
    "               r\"Literally the most disgusting restaurant experience I've ever had. First of all our server did NOT wear a mask. She was rude as hell and downright didn't even know the menu. The food that came out was over cooked flounder that we didn't even eat. Actually spit the food into my napkin. Wouldn't wish this place on my worst enemy.\",\n",
    "               r\"Let me start w ordering. I ordered online. Got to the place to pick up my food then bam... my order wasn't ready. They couldn't even find my order. They thought I placed it for another location. Had to show from my phone I placed to round rock location. The guy had to call someone to get my online order. Had to wait an extra 30 min. Place was crowded and big groups of families in there. The food was ok. I wasn't that impressed. I got it to go bc I don't eat in restaurants due to Covid. So by the time I made it home it tasted old. Kind of stale. Like the grease the food was fried in was not fresh. Can't say I'll be back\",\n",
    "               r\"Expected more. Seemed dingy. Not very clean overall. Service was not up to par. They seemed to be more focus on serving those at the bar then at the tables. Our table was dirty, sticky. Menu was disgusting to the touch. The food was okay. Will not go again.\",\n",
    "               r\"Oysters on the half were good, kinda hard to mess them up. Wife ordered broiled rainbow trout, the fish was spoiled! You could smell it once the waitress set it on the table, so either their cook has no sense of smell or they just dont care if they make someone sick. The wait staff spends more time at the bar playing on their phones than they do waiting on customers. They did wear mask but there was no social distance between tables or at the bar. Speaking of the bar, it's very loud to the point you cannot have a conversation at your table. We will definitely never go back to this place and I would not recommend it anyone else  either.\",\n",
    "               r\"They failed health inspection with a score of 37 on December 10th, 2019. Report stated too many cockroaches to count and had rat feces in the dish area\",\n",
    "               r\"I came here on Friday night with my family for dinner, this place is severely understaffed. And for that reason I can't find it in me to come back. All the waitstaff is running around stressing out and it shows in the quality of the food and service. It look 10 min to get greeted and welcomed, we ordered a app which came out after the food. My boyfriend ordered the crawfish that had a awful taste and smell, I ordered a shrimp salad which came with brown slimy lettuce a half of a slice of tomato and ranch dressing for 12.99 the menu said it was supposed to include more veggies so i asked for the side i was brought that and then noticed how old the lettuce was. My sisters crab cakes tasted old and no flavor whatsoever. My son ordered the chicken tenders and fries as my 2 year old is eating his food we notice a long hair inside of his food we then decided to take our complaints to the manger which told us that they are understaffed and extremely busy..... I really hope the owner of this establishment can do what needs to be done to get this place in the right track. I'm giving 2 starts for potential but I won't be back... your better off going to razzoos down the street\"\n",
    "              ]"
   ]
  },
  {
   "cell_type": "code",
   "execution_count": 891,
   "id": "c3acae2a-0fdd-400c-bf7a-2d42bf86abcf",
   "metadata": {},
   "outputs": [],
   "source": [
    "good_reviews_out = tfidf.transform(good_reviews)\n",
    "bad_reviews_out = tfidf.transform(bad_reviews)"
   ]
  },
  {
   "cell_type": "code",
   "execution_count": 894,
   "id": "cfbc623f-c185-47fe-acb7-8602bccf0a1e",
   "metadata": {},
   "outputs": [
    {
     "data": {
      "text/plain": [
       "array([88.87793138, 86.98901735, 89.229324  , 87.74592685, 89.99735396,\n",
       "       87.00921956, 88.89329315])"
      ]
     },
     "execution_count": 894,
     "metadata": {},
     "output_type": "execute_result"
    }
   ],
   "source": [
    "regressor.predict(good_reviews_out)"
   ]
  },
  {
   "cell_type": "code",
   "execution_count": 892,
   "id": "01c07239-7595-4f3b-b596-310da1f36c2a",
   "metadata": {},
   "outputs": [],
   "source": [
    "indiv = regressor.predict(bad_reviews_out)"
   ]
  },
  {
   "cell_type": "code",
   "execution_count": 893,
   "id": "58af8b31-20a1-46ec-a0c6-96a284d22b66",
   "metadata": {},
   "outputs": [
    {
     "data": {
      "text/plain": [
       "array([89.32666794, 87.55588409, 88.36502401, 87.04432239, 87.01343715,\n",
       "       87.75758859, 89.00739414, 85.91950098, 86.66716945])"
      ]
     },
     "execution_count": 893,
     "metadata": {},
     "output_type": "execute_result"
    }
   ],
   "source": [
    "indiv"
   ]
  },
  {
   "cell_type": "markdown",
   "id": "175cbf45-6f12-4a79-9ff1-8bdd119bee04",
   "metadata": {
    "tags": []
   },
   "source": [
    "## Topic modeling/K-means clustering"
   ]
  },
  {
   "cell_type": "markdown",
   "id": "877c151c-a9b8-45fa-888c-efb8dd3e1e51",
   "metadata": {},
   "source": [
    "this doesn't really work"
   ]
  },
  {
   "cell_type": "code",
   "execution_count": 734,
   "id": "cc0c8171-d4d7-421b-9f48-e1d167550c1c",
   "metadata": {},
   "outputs": [],
   "source": [
    "import spacy\n",
    "nlp = spacy.load('en_core_web_sm', disable=['parser','ner','textcat'])"
   ]
  },
  {
   "cell_type": "code",
   "execution_count": 735,
   "id": "52603d08-ee55-4c35-93f0-65730f26a047",
   "metadata": {},
   "outputs": [],
   "source": [
    "def my_lemmatizer(doc):\n",
    "    doc_cleaned = ' '.join(re.findall(r'\\b\\w[\\w\\']+\\b', doc))\n",
    "    return [ w.lemma_.lower() for w in nlp(doc_cleaned) \n",
    "                      if w.lemma_ not in ['_', '.', '-PRON-'] ]\n",
    "\n",
    "stopwords = spacy.lang.en.stop_words.STOP_WORDS\n",
    "# Removing a few words that don't lemmatize well\n",
    "stopwords = stopwords.difference({'he','his','her','hers'})\n",
    "\n",
    "stopwords = set(my_lemmatizer(' '.join(sorted(stopwords))))\n",
    "# add some annoying ones that get through lemmatizer\n",
    "stopwords = stopwords.union({'\\'s', '\\'ll', '\\'ve'})"
   ]
  },
  {
   "cell_type": "code",
   "execution_count": 272,
   "id": "fa898938-fe35-484c-806c-d19c2070e985",
   "metadata": {},
   "outputs": [],
   "source": [
    "# df = pd.read_csv(processed_data_directory + 'reviews_nearest_score_no_limit_df.csv')\n",
    "df = pd.read_csv(processed_data_directory + 'reviews_nearest_score_2_years_df.csv')\n",
    "\n",
    "# let's just look at businesses with >100 reviews\n",
    "num_reviews = df.business_id.value_counts()\n",
    "valid_businesses = num_reviews[num_reviews >= 100].index\n",
    "df = df[df['business_id'].isin(valid_businesses)].reset_index(drop=True)\n",
    "\n",
    "# only look at outraged customers\n",
    "df = df[df.review_stars <= 2]\n",
    "\n",
    "reviews = df['text']\n",
    "scores = df['Score']\n",
    "X, y = shuffle(reviews, scores, random_state=42)\n",
    "cutoff = -1\n",
    "X, y = X[:cutoff], y[:cutoff]\n",
    "# round\n",
    "roundby = 5\n",
    "y = y.apply(lambda x: math.ceil(x / roundby) * roundby)\n",
    "\n",
    "X_train, X_test, y_train, y_test = train_test_split(X, y, test_size=0.2, random_state=42)"
   ]
  },
  {
   "cell_type": "code",
   "execution_count": 739,
   "id": "c4cc2204-bd6b-4d0e-a25f-49a81a9e4575",
   "metadata": {},
   "outputs": [],
   "source": [
    "# just use reddit data\n",
    "filename = processed_data_directory + 'reddit_comments.csv'\n",
    "comments_df = pd.read_csv(filename)\n",
    "X = comments_df['comments']"
   ]
  },
  {
   "cell_type": "code",
   "execution_count": 740,
   "id": "32dab21f-7dd0-4e57-ac5d-f7400860e8aa",
   "metadata": {},
   "outputs": [
    {
     "name": "stdout",
     "output_type": "stream",
     "text": [
      "Wall time: 6.81 s\n"
     ]
    }
   ],
   "source": [
    "%%time\n",
    "max_features = 1000\n",
    "cv = CountVectorizer(tokenizer=my_lemmatizer, stop_words=stopwords, \n",
    "                     min_df=2, max_df=0.95, max_features=max_features)\n",
    "counts = cv.fit_transform(X)"
   ]
  },
  {
   "cell_type": "code",
   "execution_count": 741,
   "id": "3bf6cd11-de20-4f0e-8e0c-1079c423295c",
   "metadata": {},
   "outputs": [
    {
     "name": "stdout",
     "output_type": "stream",
     "text": [
      "Wall time: 3 ms\n"
     ]
    }
   ],
   "source": [
    "%%time\n",
    "tf = TfidfTransformer()\n",
    "matrix = tf.fit_transform(counts)"
   ]
  },
  {
   "cell_type": "code",
   "execution_count": 775,
   "id": "ef660bd7-a51a-4c7f-a320-6441434a2b57",
   "metadata": {},
   "outputs": [
    {
     "data": {
      "text/plain": [
       "KMeans(n_clusters=10, n_init=3, random_state=117)"
      ]
     },
     "execution_count": 775,
     "metadata": {},
     "output_type": "execute_result"
    }
   ],
   "source": [
    "number_of_clusters = 10\n",
    "\n",
    "kmc_5 = KMeans(n_clusters=number_of_clusters, n_init=3, random_state=117)  # random_state for consistency\n",
    "kmc_5.fit(matrix)"
   ]
  },
  {
   "cell_type": "code",
   "execution_count": 778,
   "id": "5280363c-2b38-44f0-bece-d6ac266b91c8",
   "metadata": {},
   "outputs": [],
   "source": [
    "top_words_df = {'top_words':[[terms[k] for k in cluster_words[i][-number_of_top_words:]] for i in range(number_of_clusters)]}\n",
    "top_words_df = pd.DataFrame(top_words_df)"
   ]
  },
  {
   "cell_type": "code",
   "execution_count": 779,
   "id": "3546d8fe-7c25-4123-b4db-9cc26dd88fed",
   "metadata": {},
   "outputs": [
    {
     "data": {
      "text/plain": [
       "array([list(['dish', 'time', 'mouse', 'pretty', 'phone', 'water', 'place', 'kitchen', 'wash', 'cook', 'chinese', 'dirty', 'clean', 'lettuce', 'chicken', 'chef', 'food', 'work', 'old', 'restaurant'])],\n",
       "      dtype=object)"
      ]
     },
     "execution_count": 779,
     "metadata": {},
     "output_type": "execute_result"
    }
   ],
   "source": [
    "top_words_df.top_words[top_words_df.top_words.apply(lambda x: 'dirty' in x)].values"
   ]
  },
  {
   "cell_type": "code",
   "execution_count": 780,
   "id": "64e17538-109e-4f4b-93f6-551f2d234541",
   "metadata": {},
   "outputs": [
    {
     "data": {
      "text/plain": [
       "True"
      ]
     },
     "execution_count": 780,
     "metadata": {},
     "output_type": "execute_result"
    }
   ],
   "source": [
    "'dirty' in top_words"
   ]
  },
  {
   "cell_type": "code",
   "execution_count": 777,
   "id": "4f3dc9d5-4ac6-4caa-982a-48a1b0523f74",
   "metadata": {
    "tags": []
   },
   "outputs": [
    {
     "name": "stdout",
     "output_type": "stream",
     "text": [
      "inspect hand know place day like rat food chinese bathroom clean good kitchen work inspector health look people eat restaurant \n",
      "\n",
      "roach story coffee cream manager owner bad thing clean restaurant itt read shut like know machine piss ice health inspector \n",
      "\n",
      "leave glove floor cook manager year kitchen come meat tell food time place health restaurant work day inspector guy his \n",
      "\n",
      "restaurant mean story http burger like gov inspection sink kid time context askreddit link www think com https reddit comment \n",
      "\n",
      "sink lobster food imgur inside fast html news uk outside inspection health www shut com restaurant find local http rating \n",
      "\n",
      "dish time mouse pretty phone water place kitchen wash cook chinese dirty clean lettuce chicken chef food work old restaurant \n",
      "\n",
      "inspector currently start asian want safe entire actually sandwich spring food place oh single restaurant today eat chinese read thread \n",
      "\n",
      "inspector find like grade week new great dog restaurant chicken cat inspection health buffet year time close place chinese food \n",
      "\n",
      "mexican complaint deal good inspector dropping business owner prepare routine food day neighbor uk kebab daycare inspect meat mouse check \n",
      "\n",
      "want awful fucking bathroom shit roach work good law intestinal obligate mother tub play tell time parasite bad let fuck \n",
      "\n"
     ]
    }
   ],
   "source": [
    "number_of_top_words = 20\n",
    "cluster_words = np.argsort(kmc_5.cluster_centers_, axis=1)\n",
    "terms = cv.get_feature_names_out()\n",
    "\n",
    "top_words = set()\n",
    "\n",
    "for i in range(number_of_clusters):\n",
    "#     print(f'Cluster {i}: ')\n",
    "    print(' '.join([terms[k] for k in cluster_words[i][-number_of_top_words:]]),'\\n')\n",
    "    top_words = top_words.union([terms[k] for k in cluster_words[i][-number_of_top_words:]])\n",
    "    \n",
    "top_words = sorted(list(top_words))"
   ]
  },
  {
   "cell_type": "code",
   "execution_count": 781,
   "id": "e376816f-c24d-4364-9222-ff701faacb05",
   "metadata": {},
   "outputs": [
    {
     "data": {
      "text/plain": [
       "True"
      ]
     },
     "execution_count": 781,
     "metadata": {},
     "output_type": "execute_result"
    }
   ],
   "source": [
    "'dirty' in top_words"
   ]
  },
  {
   "cell_type": "code",
   "execution_count": null,
   "id": "ddec2883-599a-4833-8fd9-5053dae10c77",
   "metadata": {},
   "outputs": [],
   "source": []
  },
  {
   "cell_type": "code",
   "execution_count": 782,
   "id": "49916f3c-2209-4769-a8ee-d0ef3386006f",
   "metadata": {},
   "outputs": [],
   "source": [
    "word_df = pd.DataFrame(counts.toarray(), columns=terms)[top_words]\n",
    "word_df['Cluster'] = kmc_5.labels_.tolist()"
   ]
  },
  {
   "cell_type": "code",
   "execution_count": 783,
   "id": "172825ec-b556-4c3e-9048-a4969bda0f3d",
   "metadata": {},
   "outputs": [
    {
     "data": {
      "image/png": "[encoded data removed]",
      "text/plain": [
       "<Figure size 432x288 with 1 Axes>"
      ]
     },
     "metadata": {
      "needs_background": "light"
     },
     "output_type": "display_data"
    }
   ],
   "source": [
    "word_df.groupby('Cluster').count()[top_words[0]].\\\n",
    "    plot.bar(rot=0).\\\n",
    "    set(ylabel='Document count',\n",
    "    title='Number of Documents per Cluster');"
   ]
  },
  {
   "cell_type": "code",
   "execution_count": 787,
   "id": "8d71e98a-3f3f-462c-b201-5f08696b444e",
   "metadata": {},
   "outputs": [
    {
     "data": {
      "text/plain": [
       "(array([5., 0., 0., 0., 0., 1., 0., 0., 0., 0., 0., 1., 0., 0., 0., 0., 0.,\n",
       "        0., 0., 0., 0., 0., 1., 0., 0., 0., 0., 0., 0., 0., 0., 0., 0., 0.,\n",
       "        0., 0., 0., 0., 0., 0., 0., 0., 0., 0., 1., 0., 0., 0., 0., 1.]),\n",
       " array([0.  , 0.18, 0.36, 0.54, 0.72, 0.9 , 1.08, 1.26, 1.44, 1.62, 1.8 ,\n",
       "        1.98, 2.16, 2.34, 2.52, 2.7 , 2.88, 3.06, 3.24, 3.42, 3.6 , 3.78,\n",
       "        3.96, 4.14, 4.32, 4.5 , 4.68, 4.86, 5.04, 5.22, 5.4 , 5.58, 5.76,\n",
       "        5.94, 6.12, 6.3 , 6.48, 6.66, 6.84, 7.02, 7.2 , 7.38, 7.56, 7.74,\n",
       "        7.92, 8.1 , 8.28, 8.46, 8.64, 8.82, 9.  ]),\n",
       " <BarContainer object of 50 artists>)"
      ]
     },
     "execution_count": 787,
     "metadata": {},
     "output_type": "execute_result"
    },
    {
     "data": {
      "image/png": "[encoded data removed]",
      "text/plain": [
       "<Figure size 432x288 with 1 Axes>"
      ]
     },
     "metadata": {
      "needs_background": "light"
     },
     "output_type": "display_data"
    }
   ],
   "source": [
    "plt.hist(word_df.groupby('Cluster').agg({'dirty':'sum'}),bins = 50)"
   ]
  },
  {
   "cell_type": "code",
   "execution_count": 788,
   "id": "4e67ad1d-8e95-40a5-95d0-766bbe595c85",
   "metadata": {},
   "outputs": [
    {
     "data": {
      "image/png": "[encoded data removed]",
      "text/plain": [
       "<Figure size 936x360 with 1 Axes>"
      ]
     },
     "metadata": {
      "needs_background": "light"
     },
     "output_type": "display_data"
    }
   ],
   "source": [
    "word_df.groupby('Cluster').sum().transpose().\\\n",
    "    plot.bar(figsize=(13,5), width=0.7).\\\n",
    "    set(ylabel='Word frequency', \n",
    "    title=f'Word Frequencies by Topic, Combining the Top {number_of_top_words} Words in Each Topic');"
   ]
  },
  {
   "cell_type": "code",
   "execution_count": 789,
   "id": "b7dd7a8b-2933-46ef-9975-3bd73f559c3d",
   "metadata": {},
   "outputs": [],
   "source": [
    "word_totals = { i: word_df.groupby('Cluster').sum().loc[i].to_dict() for i in range(number_of_clusters) }"
   ]
  },
  {
   "cell_type": "code",
   "execution_count": 791,
   "id": "47f82991-8fd0-46b4-bd23-929aab8a0abe",
   "metadata": {},
   "outputs": [],
   "source": [
    "import matplotlib.pyplot as plt\n",
    "from ipywidgets import interact, IntSlider\n",
    "from wordcloud import WordCloud\n",
    "\n",
    "def show_wordcloud(topic=0):\n",
    "    cloud = WordCloud(background_color='white', colormap='viridis')\n",
    "    cloud.generate_from_frequencies(word_totals[topic])\n",
    "    plt.gca().imshow(cloud)\n",
    "    plt.axis('off')\n",
    "    plt.tight_layout()\n",
    "    \n",
    "slider = IntSlider(min=0, max=number_of_clusters-1, step=1, value=0, description='Topic')\n",
    "# interact(show_wordcloud, topic=slider);"
   ]
  },
  {
   "cell_type": "code",
   "execution_count": null,
   "id": "5aa29191-a788-44fb-abfe-eee5d6c464b2",
   "metadata": {},
   "outputs": [],
   "source": []
  }
 ],
 "metadata": {
  "kernelspec": {
   "display_name": "Python 3 (ipykernel)",
   "language": "python",
   "name": "python3"
  },
  "language_info": {
   "codemirror_mode": {
    "name": "ipython",
    "version": 3
   },
   "file_extension": ".py",
   "mimetype": "text/x-python",
   "name": "python",
   "nbconvert_exporter": "python",
   "pygments_lexer": "ipython3",
   "version": "3.9.7"
  },
  "toc-autonumbering": true
 },
 "nbformat": 4,
 "nbformat_minor": 5
}
