{
 "cells": [
  {
   "cell_type": "markdown",
   "id": "2b00040e-cf54-437b-b9df-978935be313e",
   "metadata": {},
   "source": [
    "# packages"
   ]
  },
  {
   "cell_type": "code",
   "execution_count": 2,
   "id": "a611a2ac-242d-44d2-9bf2-92bb6b21204f",
   "metadata": {},
   "outputs": [],
   "source": [
    "import pandas as pd\n",
    "import numpy as np\n",
    "import matplotlib.pyplot as plt"
   ]
  },
  {
   "cell_type": "markdown",
   "id": "2499ab37-88e7-422c-90ca-a932027c841e",
   "metadata": {
    "tags": []
   },
   "source": [
    "# 2015-2018 LA restaurant inspections"
   ]
  },
  {
   "cell_type": "markdown",
   "id": "d1aa11f9-cbfa-413b-9b90-2d76c88dc25c",
   "metadata": {
    "tags": []
   },
   "source": [
    "Found a 2015-2018 dataset at https://data.lacity.org/Community-Economic-Development/Restaurant-and-Market-Health-Inspections/29fd-3paw, exported as CSV file. Can also access json entries via their API."
   ]
  },
  {
   "cell_type": "code",
   "execution_count": 50,
   "id": "f865ec66-8060-4bdb-953d-d7ec6e5c84a0",
   "metadata": {},
   "outputs": [],
   "source": [
    "df = pd.read_csv('Restaurant_and_Market_Health_Inspections.csv')"
   ]
  },
  {
   "cell_type": "code",
   "execution_count": 51,
   "id": "48905f8e-10b7-4a8a-a516-7a17b4a247f7",
   "metadata": {},
   "outputs": [
    {
     "data": {
      "text/plain": [
       "Index(['serial_number', 'activity_date', 'facility_name', 'score', 'grade',\n",
       "       'service_code', 'service_description', 'employee_id',\n",
       "       'facility_address', 'facility_city', 'facility_id', 'facility_state',\n",
       "       'facility_zip', 'owner_id', 'owner_name', 'pe_description',\n",
       "       'program_element_pe', 'program_name', 'program_status', 'record_id'],\n",
       "      dtype='object')"
      ]
     },
     "execution_count": 51,
     "metadata": {},
     "output_type": "execute_result"
    }
   ],
   "source": [
    "df.columns"
   ]
  },
  {
   "cell_type": "code",
   "execution_count": 52,
   "id": "75c23414-71a1-4ce1-a868-834ba669d7bc",
   "metadata": {},
   "outputs": [
    {
     "data": {
      "text/plain": [
       "0               3708 N EAGLE ROCK BLVD\n",
       "1                  100 WORLD WAY # 120\n",
       "2            6801 HOLLYWOOD BLVD # 253\n",
       "3                   1814 W SUNSET BLVD\n",
       "4                   2100 ECHO PARK AVE\n",
       "                     ...              \n",
       "67568    104 JAPANESE VILLAGE PLZ MALL\n",
       "67569           4050 W WASHINGTON BLVD\n",
       "67570                     4312 WALL ST\n",
       "67571               2012 SAWTELLE BLVD\n",
       "67572        3600 E CESAR E CHAVEZ AVE\n",
       "Name: facility_address, Length: 67573, dtype: object"
      ]
     },
     "execution_count": 52,
     "metadata": {},
     "output_type": "execute_result"
    }
   ],
   "source": [
    "df.facility_address"
   ]
  },
  {
   "cell_type": "code",
   "execution_count": 53,
   "id": "6e476b81-5d22-4ad0-89ce-cb9f095f035c",
   "metadata": {},
   "outputs": [],
   "source": [
    "df.activity_date = pd.to_datetime(df.activity_date)"
   ]
  },
  {
   "cell_type": "code",
   "execution_count": 54,
   "id": "b7fecccf-2669-4b79-a663-42bb21d1c78a",
   "metadata": {},
   "outputs": [
    {
     "name": "stdout",
     "output_type": "stream",
     "text": [
      "2015-07-01 00:00:00\n",
      "2018-07-31 00:00:00\n"
     ]
    }
   ],
   "source": [
    "print(min(df.activity_date))\n",
    "print(max(df.activity_date))"
   ]
  },
  {
   "cell_type": "code",
   "execution_count": 55,
   "id": "4c8e1439-fbb0-442c-9e12-de565e3bdeaa",
   "metadata": {},
   "outputs": [
    {
     "data": {
      "text/plain": [
       "12071"
      ]
     },
     "execution_count": 55,
     "metadata": {},
     "output_type": "execute_result"
    }
   ],
   "source": [
    "len(pd.unique(df.facility_name))"
   ]
  },
  {
   "cell_type": "code",
   "execution_count": 65,
   "id": "c9eae884-8142-47c6-b12a-62f2df0b633a",
   "metadata": {},
   "outputs": [
    {
     "data": {
      "text/html": [
       "<div>\n",
       "<style scoped>\n",
       "    .dataframe tbody tr th:only-of-type {\n",
       "        vertical-align: middle;\n",
       "    }\n",
       "\n",
       "    .dataframe tbody tr th {\n",
       "        vertical-align: top;\n",
       "    }\n",
       "\n",
       "    .dataframe thead tr th {\n",
       "        text-align: left;\n",
       "    }\n",
       "\n",
       "    .dataframe thead tr:last-of-type th {\n",
       "        text-align: right;\n",
       "    }\n",
       "</style>\n",
       "<table border=\"1\" class=\"dataframe\">\n",
       "  <thead>\n",
       "    <tr>\n",
       "      <th></th>\n",
       "      <th colspan=\"3\" halign=\"left\">score</th>\n",
       "    </tr>\n",
       "    <tr>\n",
       "      <th></th>\n",
       "      <th>min</th>\n",
       "      <th>mean</th>\n",
       "      <th>max</th>\n",
       "    </tr>\n",
       "    <tr>\n",
       "      <th>grade</th>\n",
       "      <th></th>\n",
       "      <th></th>\n",
       "      <th></th>\n",
       "    </tr>\n",
       "  </thead>\n",
       "  <tbody>\n",
       "    <tr>\n",
       "      <th></th>\n",
       "      <td>65</td>\n",
       "      <td>65.000000</td>\n",
       "      <td>65</td>\n",
       "    </tr>\n",
       "    <tr>\n",
       "      <th>A</th>\n",
       "      <td>90</td>\n",
       "      <td>94.087338</td>\n",
       "      <td>100</td>\n",
       "    </tr>\n",
       "    <tr>\n",
       "      <th>B</th>\n",
       "      <td>80</td>\n",
       "      <td>83.788204</td>\n",
       "      <td>89</td>\n",
       "    </tr>\n",
       "    <tr>\n",
       "      <th>C</th>\n",
       "      <td>64</td>\n",
       "      <td>74.048193</td>\n",
       "      <td>79</td>\n",
       "    </tr>\n",
       "  </tbody>\n",
       "</table>\n",
       "</div>"
      ],
      "text/plain": [
       "      score                \n",
       "        min       mean  max\n",
       "grade                      \n",
       "         65  65.000000   65\n",
       "A        90  94.087338  100\n",
       "B        80  83.788204   89\n",
       "C        64  74.048193   79"
      ]
     },
     "execution_count": 65,
     "metadata": {},
     "output_type": "execute_result"
    }
   ],
   "source": [
    "df[[\"score\",\"grade\"]].groupby('grade').agg({\"score\": [min, np.mean, max]})"
   ]
  },
  {
   "cell_type": "code",
   "execution_count": 22,
   "id": "57b6ca5a-a024-45bd-a0ea-4598c406e0a5",
   "metadata": {},
   "outputs": [
    {
     "data": {
      "text/plain": [
       "0          HABITAT COFFEE SHOP\n",
       "1                     REILLY'S\n",
       "2               STREET CHURROS\n",
       "3            TRINITI ECHO PARK\n",
       "4                       POLLEN\n",
       "                 ...          \n",
       "67568             RAMEN MARUYA\n",
       "67569              KANG WON DO\n",
       "67570             OASIS MARKET\n",
       "67571         TEN TEN YU RAMEN\n",
       "67572    SUPERIOR GROCERS #113\n",
       "Name: facility_name, Length: 67573, dtype: object"
      ]
     },
     "execution_count": 22,
     "metadata": {},
     "output_type": "execute_result"
    }
   ],
   "source": [
    "df.facility_name"
   ]
  },
  {
   "cell_type": "code",
   "execution_count": 23,
   "id": "33fe397e-f14d-42b0-b325-67efec915e71",
   "metadata": {},
   "outputs": [
    {
     "data": {
      "text/plain": [
       "facility_name\n",
       "DODGER STADIUM           464\n",
       "STAPLES CENTER (LEVY)    290\n",
       "LA COLISEUM              225\n",
       "WHOLE FOODS MARKET       208\n",
       "SUBWAY                   155\n",
       "                        ... \n",
       "THE PIANO BAR              1\n",
       "ANZIO CAFE                 1\n",
       "FUEGO NIGHT CLUB           1\n",
       "QDOBA MEXICAN GRILL        1\n",
       "MARKS LIQUOR               1\n",
       "Length: 12071, dtype: int64"
      ]
     },
     "execution_count": 23,
     "metadata": {},
     "output_type": "execute_result"
    }
   ],
   "source": [
    "df.value_counts('facility_name')"
   ]
  },
  {
   "cell_type": "code",
   "execution_count": 26,
   "id": "9db7011a-0b2a-4af2-b359-9576512a6fa5",
   "metadata": {},
   "outputs": [
    {
     "data": {
      "text/plain": [
       "facility_id\n",
       "FA0019271    464\n",
       "FA0006427    290\n",
       "FA0065100    225\n",
       "FA0024180    117\n",
       "FA0156500    103\n",
       "            ... \n",
       "FA0247928      1\n",
       "FA0042091      1\n",
       "FA0163817      1\n",
       "FA0042050      1\n",
       "FA0262447      1\n",
       "Length: 13545, dtype: int64"
      ]
     },
     "execution_count": 26,
     "metadata": {},
     "output_type": "execute_result"
    }
   ],
   "source": [
    "df.value_counts('facility_id')"
   ]
  },
  {
   "cell_type": "code",
   "execution_count": 30,
   "id": "e85b15fb-08c3-473e-ba94-64320379a233",
   "metadata": {},
   "outputs": [
    {
     "data": {
      "text/plain": [
       "0         True\n",
       "1        False\n",
       "2        False\n",
       "3        False\n",
       "4        False\n",
       "         ...  \n",
       "67568    False\n",
       "67569    False\n",
       "67570    False\n",
       "67571    False\n",
       "67572    False\n",
       "Name: facility_address, Length: 67573, dtype: bool"
      ]
     },
     "execution_count": 30,
     "metadata": {},
     "output_type": "execute_result"
    }
   ],
   "source": [
    "df.facility_address == \"3708 N EAGLE ROCK BLVD\""
   ]
  },
  {
   "cell_type": "markdown",
   "id": "b71f605d-1fd7-47d9-94eb-fd5084faf908",
   "metadata": {},
   "source": [
    "# more recent LA restaurant inspections"
   ]
  },
  {
   "cell_type": "markdown",
   "id": "44acd81f-c2d8-42ca-bb62-0b76d3a8d91c",
   "metadata": {
    "tags": []
   },
   "source": [
    "More recent but smaller dataset at https://ehservices.publichealth.lacounty.gov/ezsearch"
   ]
  },
  {
   "cell_type": "code",
   "execution_count": 38,
   "id": "75b190be-9d19-4d03-942a-98f512de97a8",
   "metadata": {},
   "outputs": [],
   "source": [
    "columns = ['facility_name','inspection_date','score','facility_address','facility_city']\n",
    "df = pd.read_csv('inspections.csv',names=columns)"
   ]
  },
  {
   "cell_type": "code",
   "execution_count": 42,
   "id": "2e518785-7ba1-4341-bb54-b36a45d9d65c",
   "metadata": {
    "collapsed": true,
    "jupyter": {
     "outputs_hidden": true
    },
    "tags": []
   },
   "outputs": [
    {
     "data": {
      "text/plain": [
       "\u001b[1;31mSignature:\u001b[0m\n",
       "\u001b[0mdf\u001b[0m\u001b[1;33m.\u001b[0m\u001b[0mreset_index\u001b[0m\u001b[1;33m(\u001b[0m\u001b[1;33m\n",
       "\u001b[0m    \u001b[0mlevel\u001b[0m\u001b[1;33m:\u001b[0m \u001b[1;34m'Hashable | Sequence[Hashable] | None'\u001b[0m \u001b[1;33m=\u001b[0m \u001b[1;32mNone\u001b[0m\u001b[1;33m,\u001b[0m\u001b[1;33m\n",
       "\u001b[0m    \u001b[0mdrop\u001b[0m\u001b[1;33m:\u001b[0m \u001b[1;34m'bool'\u001b[0m \u001b[1;33m=\u001b[0m \u001b[1;32mFalse\u001b[0m\u001b[1;33m,\u001b[0m\u001b[1;33m\n",
       "\u001b[0m    \u001b[0minplace\u001b[0m\u001b[1;33m:\u001b[0m \u001b[1;34m'bool'\u001b[0m \u001b[1;33m=\u001b[0m \u001b[1;32mFalse\u001b[0m\u001b[1;33m,\u001b[0m\u001b[1;33m\n",
       "\u001b[0m    \u001b[0mcol_level\u001b[0m\u001b[1;33m:\u001b[0m \u001b[1;34m'Hashable'\u001b[0m \u001b[1;33m=\u001b[0m \u001b[1;36m0\u001b[0m\u001b[1;33m,\u001b[0m\u001b[1;33m\n",
       "\u001b[0m    \u001b[0mcol_fill\u001b[0m\u001b[1;33m:\u001b[0m \u001b[1;34m'Hashable'\u001b[0m \u001b[1;33m=\u001b[0m \u001b[1;34m''\u001b[0m\u001b[1;33m,\u001b[0m\u001b[1;33m\n",
       "\u001b[0m\u001b[1;33m)\u001b[0m \u001b[1;33m->\u001b[0m \u001b[1;34m'DataFrame | None'\u001b[0m\u001b[1;33m\u001b[0m\u001b[1;33m\u001b[0m\u001b[0m\n",
       "\u001b[1;31mDocstring:\u001b[0m\n",
       "Reset the index, or a level of it.\n",
       "\n",
       "Reset the index of the DataFrame, and use the default one instead.\n",
       "If the DataFrame has a MultiIndex, this method can remove one or more\n",
       "levels.\n",
       "\n",
       "Parameters\n",
       "----------\n",
       "level : int, str, tuple, or list, default None\n",
       "    Only remove the given levels from the index. Removes all levels by\n",
       "    default.\n",
       "drop : bool, default False\n",
       "    Do not try to insert index into dataframe columns. This resets\n",
       "    the index to the default integer index.\n",
       "inplace : bool, default False\n",
       "    Modify the DataFrame in place (do not create a new object).\n",
       "col_level : int or str, default 0\n",
       "    If the columns have multiple levels, determines which level the\n",
       "    labels are inserted into. By default it is inserted into the first\n",
       "    level.\n",
       "col_fill : object, default ''\n",
       "    If the columns have multiple levels, determines how the other\n",
       "    levels are named. If None then the index name is repeated.\n",
       "\n",
       "Returns\n",
       "-------\n",
       "DataFrame or None\n",
       "    DataFrame with the new index or None if ``inplace=True``.\n",
       "\n",
       "See Also\n",
       "--------\n",
       "DataFrame.set_index : Opposite of reset_index.\n",
       "DataFrame.reindex : Change to new indices or expand indices.\n",
       "DataFrame.reindex_like : Change to same indices as other DataFrame.\n",
       "\n",
       "Examples\n",
       "--------\n",
       ">>> df = pd.DataFrame([('bird', 389.0),\n",
       "...                    ('bird', 24.0),\n",
       "...                    ('mammal', 80.5),\n",
       "...                    ('mammal', np.nan)],\n",
       "...                   index=['falcon', 'parrot', 'lion', 'monkey'],\n",
       "...                   columns=('class', 'max_speed'))\n",
       ">>> df\n",
       "         class  max_speed\n",
       "falcon    bird      389.0\n",
       "parrot    bird       24.0\n",
       "lion    mammal       80.5\n",
       "monkey  mammal        NaN\n",
       "\n",
       "When we reset the index, the old index is added as a column, and a\n",
       "new sequential index is used:\n",
       "\n",
       ">>> df.reset_index()\n",
       "    index   class  max_speed\n",
       "0  falcon    bird      389.0\n",
       "1  parrot    bird       24.0\n",
       "2    lion  mammal       80.5\n",
       "3  monkey  mammal        NaN\n",
       "\n",
       "We can use the `drop` parameter to avoid the old index being added as\n",
       "a column:\n",
       "\n",
       ">>> df.reset_index(drop=True)\n",
       "    class  max_speed\n",
       "0    bird      389.0\n",
       "1    bird       24.0\n",
       "2  mammal       80.5\n",
       "3  mammal        NaN\n",
       "\n",
       "You can also use `reset_index` with `MultiIndex`.\n",
       "\n",
       ">>> index = pd.MultiIndex.from_tuples([('bird', 'falcon'),\n",
       "...                                    ('bird', 'parrot'),\n",
       "...                                    ('mammal', 'lion'),\n",
       "...                                    ('mammal', 'monkey')],\n",
       "...                                   names=['class', 'name'])\n",
       ">>> columns = pd.MultiIndex.from_tuples([('speed', 'max'),\n",
       "...                                      ('species', 'type')])\n",
       ">>> df = pd.DataFrame([(389.0, 'fly'),\n",
       "...                    ( 24.0, 'fly'),\n",
       "...                    ( 80.5, 'run'),\n",
       "...                    (np.nan, 'jump')],\n",
       "...                   index=index,\n",
       "...                   columns=columns)\n",
       ">>> df\n",
       "               speed species\n",
       "                 max    type\n",
       "class  name\n",
       "bird   falcon  389.0     fly\n",
       "       parrot   24.0     fly\n",
       "mammal lion     80.5     run\n",
       "       monkey    NaN    jump\n",
       "\n",
       "If the index has multiple levels, we can reset a subset of them:\n",
       "\n",
       ">>> df.reset_index(level='class')\n",
       "         class  speed species\n",
       "                  max    type\n",
       "name\n",
       "falcon    bird  389.0     fly\n",
       "parrot    bird   24.0     fly\n",
       "lion    mammal   80.5     run\n",
       "monkey  mammal    NaN    jump\n",
       "\n",
       "If we are not dropping the index, by default, it is placed in the top\n",
       "level. We can place it in another level:\n",
       "\n",
       ">>> df.reset_index(level='class', col_level=1)\n",
       "                speed species\n",
       "         class    max    type\n",
       "name\n",
       "falcon    bird  389.0     fly\n",
       "parrot    bird   24.0     fly\n",
       "lion    mammal   80.5     run\n",
       "monkey  mammal    NaN    jump\n",
       "\n",
       "When the index is inserted under another level, we can specify under\n",
       "which one with the parameter `col_fill`:\n",
       "\n",
       ">>> df.reset_index(level='class', col_level=1, col_fill='species')\n",
       "              species  speed species\n",
       "                class    max    type\n",
       "name\n",
       "falcon           bird  389.0     fly\n",
       "parrot           bird   24.0     fly\n",
       "lion           mammal   80.5     run\n",
       "monkey         mammal    NaN    jump\n",
       "\n",
       "If we specify a nonexistent level for `col_fill`, it is created:\n",
       "\n",
       ">>> df.reset_index(level='class', col_level=1, col_fill='genus')\n",
       "                genus  speed species\n",
       "                class    max    type\n",
       "name\n",
       "falcon           bird  389.0     fly\n",
       "parrot           bird   24.0     fly\n",
       "lion           mammal   80.5     run\n",
       "monkey         mammal    NaN    jump\n",
       "\u001b[1;31mFile:\u001b[0m      c:\\users\\asus\\anaconda3\\lib\\site-packages\\pandas\\core\\frame.py\n",
       "\u001b[1;31mType:\u001b[0m      method\n"
      ]
     },
     "metadata": {},
     "output_type": "display_data"
    }
   ],
   "source": [
    "?df.reset_index"
   ]
  },
  {
   "cell_type": "code",
   "execution_count": 46,
   "id": "634ab646-12ab-4ff5-894d-ccd4a4079243",
   "metadata": {},
   "outputs": [
    {
     "data": {
      "text/html": [
       "<div>\n",
       "<style scoped>\n",
       "    .dataframe tbody tr th:only-of-type {\n",
       "        vertical-align: middle;\n",
       "    }\n",
       "\n",
       "    .dataframe tbody tr th {\n",
       "        vertical-align: top;\n",
       "    }\n",
       "\n",
       "    .dataframe thead th {\n",
       "        text-align: right;\n",
       "    }\n",
       "</style>\n",
       "<table border=\"1\" class=\"dataframe\">\n",
       "  <thead>\n",
       "    <tr style=\"text-align: right;\">\n",
       "      <th></th>\n",
       "      <th>facility_name</th>\n",
       "      <th>inspection_date</th>\n",
       "      <th>score</th>\n",
       "      <th>facility_address</th>\n",
       "      <th>facility_city</th>\n",
       "    </tr>\n",
       "  </thead>\n",
       "  <tbody>\n",
       "    <tr>\n",
       "      <th>0</th>\n",
       "      <td>EAGLE CATERING</td>\n",
       "      <td>2020-08-06</td>\n",
       "      <td>90.0</td>\n",
       "      <td>7782 SAN FERNANDO RD</td>\n",
       "      <td>SUN VALLEY</td>\n",
       "    </tr>\n",
       "    <tr>\n",
       "      <th>1</th>\n",
       "      <td>WORLD OIL</td>\n",
       "      <td>2021-04-08</td>\n",
       "      <td>97.0</td>\n",
       "      <td>478 W ARROW HWY</td>\n",
       "      <td>COVINA</td>\n",
       "    </tr>\n",
       "    <tr>\n",
       "      <th>2</th>\n",
       "      <td>LOWE'S #1852</td>\n",
       "      <td>2022-05-03</td>\n",
       "      <td>99.0</td>\n",
       "      <td>13500 PAXTON ST</td>\n",
       "      <td>PACOIMA</td>\n",
       "    </tr>\n",
       "    <tr>\n",
       "      <th>3</th>\n",
       "      <td>LA VERNE CAR WASH</td>\n",
       "      <td>2021-12-06</td>\n",
       "      <td>97.0</td>\n",
       "      <td>914 W FOOTHILL BLVD</td>\n",
       "      <td>LA VERNE</td>\n",
       "    </tr>\n",
       "    <tr>\n",
       "      <th>4</th>\n",
       "      <td>THE LOOP</td>\n",
       "      <td>2021-08-25</td>\n",
       "      <td>99.0</td>\n",
       "      <td>1100 W COVINA BLVD</td>\n",
       "      <td>SAN DIMAS</td>\n",
       "    </tr>\n",
       "    <tr>\n",
       "      <th>...</th>\n",
       "      <td>...</td>\n",
       "      <td>...</td>\n",
       "      <td>...</td>\n",
       "      <td>...</td>\n",
       "      <td>...</td>\n",
       "    </tr>\n",
       "    <tr>\n",
       "      <th>44997</th>\n",
       "      <td>E &amp; J SEAFOOD EXPRESS</td>\n",
       "      <td>2022-05-20</td>\n",
       "      <td>91.0</td>\n",
       "      <td>424 E MANCHESTER BLVD</td>\n",
       "      <td>INGLEWOOD</td>\n",
       "    </tr>\n",
       "    <tr>\n",
       "      <th>44998</th>\n",
       "      <td>BANH MI MY THO</td>\n",
       "      <td>2022-05-20</td>\n",
       "      <td>96.0</td>\n",
       "      <td>7434 GARVEY</td>\n",
       "      <td>ROSEMEAD</td>\n",
       "    </tr>\n",
       "    <tr>\n",
       "      <th>44999</th>\n",
       "      <td>CARSON MINI TRUCK STOP</td>\n",
       "      <td>2022-05-20</td>\n",
       "      <td>98.0</td>\n",
       "      <td>101 W VICTORIA BLVD</td>\n",
       "      <td>GARDENA</td>\n",
       "    </tr>\n",
       "    <tr>\n",
       "      <th>45000</th>\n",
       "      <td>UNCLE TETSU #31008</td>\n",
       "      <td>2022-05-19</td>\n",
       "      <td>98.0</td>\n",
       "      <td>17170 COLIMA RD # D</td>\n",
       "      <td>HACIENDA HEIGHTS</td>\n",
       "    </tr>\n",
       "    <tr>\n",
       "      <th>45001</th>\n",
       "      <td>RAYISSM INC / GREAT STEAK &amp; POTATO</td>\n",
       "      <td>2022-05-19</td>\n",
       "      <td>91.0</td>\n",
       "      <td>1400 W 190TH ST UNIT A</td>\n",
       "      <td>TORRANCE</td>\n",
       "    </tr>\n",
       "  </tbody>\n",
       "</table>\n",
       "<p>45002 rows × 5 columns</p>\n",
       "</div>"
      ],
      "text/plain": [
       "                            facility_name inspection_date  score  \\\n",
       "0                          EAGLE CATERING      2020-08-06   90.0   \n",
       "1                               WORLD OIL      2021-04-08   97.0   \n",
       "2                            LOWE'S #1852      2022-05-03   99.0   \n",
       "3                       LA VERNE CAR WASH      2021-12-06   97.0   \n",
       "4                                THE LOOP      2021-08-25   99.0   \n",
       "...                                   ...             ...    ...   \n",
       "44997               E & J SEAFOOD EXPRESS      2022-05-20   91.0   \n",
       "44998                      BANH MI MY THO      2022-05-20   96.0   \n",
       "44999              CARSON MINI TRUCK STOP      2022-05-20   98.0   \n",
       "45000                  UNCLE TETSU #31008      2022-05-19   98.0   \n",
       "45001  RAYISSM INC / GREAT STEAK & POTATO      2022-05-19   91.0   \n",
       "\n",
       "             facility_address     facility_city  \n",
       "0       7782 SAN FERNANDO RD         SUN VALLEY  \n",
       "1            478 W ARROW HWY             COVINA  \n",
       "2             13500 PAXTON ST           PACOIMA  \n",
       "3        914 W FOOTHILL BLVD           LA VERNE  \n",
       "4         1100 W COVINA BLVD          SAN DIMAS  \n",
       "...                       ...               ...  \n",
       "44997   424 E MANCHESTER BLVD         INGLEWOOD  \n",
       "44998             7434 GARVEY          ROSEMEAD  \n",
       "44999     101 W VICTORIA BLVD           GARDENA  \n",
       "45000     17170 COLIMA RD # D  HACIENDA HEIGHTS  \n",
       "45001  1400 W 190TH ST UNIT A          TORRANCE  \n",
       "\n",
       "[45002 rows x 5 columns]"
      ]
     },
     "execution_count": 46,
     "metadata": {},
     "output_type": "execute_result"
    }
   ],
   "source": [
    "df.dropna().reset_index(drop=True)"
   ]
  },
  {
   "cell_type": "code",
   "execution_count": 45,
   "id": "1fc366fd-2b54-422b-8d7a-36762c2b37c1",
   "metadata": {},
   "outputs": [
    {
     "data": {
      "text/html": [
       "<div>\n",
       "<style scoped>\n",
       "    .dataframe tbody tr th:only-of-type {\n",
       "        vertical-align: middle;\n",
       "    }\n",
       "\n",
       "    .dataframe tbody tr th {\n",
       "        vertical-align: top;\n",
       "    }\n",
       "\n",
       "    .dataframe thead th {\n",
       "        text-align: right;\n",
       "    }\n",
       "</style>\n",
       "<table border=\"1\" class=\"dataframe\">\n",
       "  <thead>\n",
       "    <tr style=\"text-align: right;\">\n",
       "      <th></th>\n",
       "      <th>facility_name</th>\n",
       "      <th>inspection_date</th>\n",
       "      <th>score</th>\n",
       "      <th>facility_address</th>\n",
       "      <th>facility_city</th>\n",
       "    </tr>\n",
       "  </thead>\n",
       "  <tbody>\n",
       "    <tr>\n",
       "      <th>0</th>\n",
       "      <td>ARIEL COURT APTS SPA POOL</td>\n",
       "      <td>2020-01-31</td>\n",
       "      <td>NaN</td>\n",
       "      <td>535 GAYLEY AVE</td>\n",
       "      <td>LOS ANGELES</td>\n",
       "    </tr>\n",
       "    <tr>\n",
       "      <th>1</th>\n",
       "      <td>EAGLE CATERING</td>\n",
       "      <td>2020-08-06</td>\n",
       "      <td>90.0</td>\n",
       "      <td>7782 SAN FERNANDO RD</td>\n",
       "      <td>SUN VALLEY</td>\n",
       "    </tr>\n",
       "    <tr>\n",
       "      <th>2</th>\n",
       "      <td>WILSHIRE BORGATA SPA POOL</td>\n",
       "      <td>2018-08-08</td>\n",
       "      <td>NaN</td>\n",
       "      <td>12222 WILSHIRE BLVD</td>\n",
       "      <td>LOS ANGELES</td>\n",
       "    </tr>\n",
       "    <tr>\n",
       "      <th>3</th>\n",
       "      <td>WORLD OIL</td>\n",
       "      <td>2021-04-08</td>\n",
       "      <td>97.0</td>\n",
       "      <td>478 W ARROW HWY</td>\n",
       "      <td>COVINA</td>\n",
       "    </tr>\n",
       "    <tr>\n",
       "      <th>4</th>\n",
       "      <td>NEWCASTLE GARDENS SPA POOL</td>\n",
       "      <td>2020-06-15</td>\n",
       "      <td>NaN</td>\n",
       "      <td>5461 NEWCASTLE AVE</td>\n",
       "      <td>ENCINO</td>\n",
       "    </tr>\n",
       "    <tr>\n",
       "      <th>...</th>\n",
       "      <td>...</td>\n",
       "      <td>...</td>\n",
       "      <td>...</td>\n",
       "      <td>...</td>\n",
       "      <td>...</td>\n",
       "    </tr>\n",
       "    <tr>\n",
       "      <th>125214</th>\n",
       "      <td>CARSON MINI TRUCK STOP</td>\n",
       "      <td>2022-05-20</td>\n",
       "      <td>98.0</td>\n",
       "      <td>101 W VICTORIA BLVD</td>\n",
       "      <td>GARDENA</td>\n",
       "    </tr>\n",
       "    <tr>\n",
       "      <th>125215</th>\n",
       "      <td>720 03RD ST APTS</td>\n",
       "      <td>2022-05-05</td>\n",
       "      <td>NaN</td>\n",
       "      <td>720 3RD ST</td>\n",
       "      <td>HERMOSA BEACH</td>\n",
       "    </tr>\n",
       "    <tr>\n",
       "      <th>125216</th>\n",
       "      <td>GILLMAN APTS.</td>\n",
       "      <td>2022-05-20</td>\n",
       "      <td>NaN</td>\n",
       "      <td>2869 SAN MARINO ST</td>\n",
       "      <td>LOS ANGELES</td>\n",
       "    </tr>\n",
       "    <tr>\n",
       "      <th>125217</th>\n",
       "      <td>UNCLE TETSU #31008</td>\n",
       "      <td>2022-05-19</td>\n",
       "      <td>98.0</td>\n",
       "      <td>17170 COLIMA RD # D</td>\n",
       "      <td>HACIENDA HEIGHTS</td>\n",
       "    </tr>\n",
       "    <tr>\n",
       "      <th>125218</th>\n",
       "      <td>RAYISSM INC / GREAT STEAK &amp; POTATO</td>\n",
       "      <td>2022-05-19</td>\n",
       "      <td>91.0</td>\n",
       "      <td>1400 W 190TH ST UNIT A</td>\n",
       "      <td>TORRANCE</td>\n",
       "    </tr>\n",
       "  </tbody>\n",
       "</table>\n",
       "<p>125219 rows × 5 columns</p>\n",
       "</div>"
      ],
      "text/plain": [
       "                             facility_name inspection_date  score  \\\n",
       "0                ARIEL COURT APTS SPA POOL      2020-01-31    NaN   \n",
       "1                           EAGLE CATERING      2020-08-06   90.0   \n",
       "2                WILSHIRE BORGATA SPA POOL      2018-08-08    NaN   \n",
       "3                                WORLD OIL      2021-04-08   97.0   \n",
       "4               NEWCASTLE GARDENS SPA POOL      2020-06-15    NaN   \n",
       "...                                    ...             ...    ...   \n",
       "125214              CARSON MINI TRUCK STOP      2022-05-20   98.0   \n",
       "125215                    720 03RD ST APTS      2022-05-05    NaN   \n",
       "125216                       GILLMAN APTS.      2022-05-20    NaN   \n",
       "125217                  UNCLE TETSU #31008      2022-05-19   98.0   \n",
       "125218  RAYISSM INC / GREAT STEAK & POTATO      2022-05-19   91.0   \n",
       "\n",
       "              facility_address     facility_city  \n",
       "0              535 GAYLEY AVE        LOS ANGELES  \n",
       "1        7782 SAN FERNANDO RD         SUN VALLEY  \n",
       "2         12222 WILSHIRE BLVD        LOS ANGELES  \n",
       "3             478 W ARROW HWY             COVINA  \n",
       "4          5461 NEWCASTLE AVE             ENCINO  \n",
       "...                        ...               ...  \n",
       "125214     101 W VICTORIA BLVD           GARDENA  \n",
       "125215              720 3RD ST     HERMOSA BEACH  \n",
       "125216      2869 SAN MARINO ST       LOS ANGELES  \n",
       "125217     17170 COLIMA RD # D  HACIENDA HEIGHTS  \n",
       "125218  1400 W 190TH ST UNIT A          TORRANCE  \n",
       "\n",
       "[125219 rows x 5 columns]"
      ]
     },
     "execution_count": 45,
     "metadata": {},
     "output_type": "execute_result"
    }
   ],
   "source": [
    "df"
   ]
  },
  {
   "cell_type": "code",
   "execution_count": 36,
   "id": "54e4c3a1-17e9-4c42-b6c8-3b7be935dcff",
   "metadata": {},
   "outputs": [
    {
     "data": {
      "text/plain": [
       "Index(['ARIEL COURT APTS SPA POOL', '2020-01-31', 'Unnamed: 2',\n",
       "       '535 GAYLEY AVE ', 'LOS ANGELES'],\n",
       "      dtype='object')"
      ]
     },
     "execution_count": 36,
     "metadata": {},
     "output_type": "execute_result"
    }
   ],
   "source": [
    "df.columns"
   ]
  },
  {
   "cell_type": "code",
   "execution_count": 7,
   "id": "8c293385-5b76-4a97-9d73-904391544320",
   "metadata": {},
   "outputs": [
    {
     "data": {
      "text/plain": [
       "0               3708 N EAGLE ROCK BLVD\n",
       "1                  100 WORLD WAY # 120\n",
       "2            6801 HOLLYWOOD BLVD # 253\n",
       "3                   1814 W SUNSET BLVD\n",
       "4                   2100 ECHO PARK AVE\n",
       "                     ...              \n",
       "67568    104 JAPANESE VILLAGE PLZ MALL\n",
       "67569           4050 W WASHINGTON BLVD\n",
       "67570                     4312 WALL ST\n",
       "67571               2012 SAWTELLE BLVD\n",
       "67572        3600 E CESAR E CHAVEZ AVE\n",
       "Name: facility_address, Length: 67573, dtype: object"
      ]
     },
     "execution_count": 7,
     "metadata": {},
     "output_type": "execute_result"
    }
   ],
   "source": [
    "df.facility_address"
   ]
  },
  {
   "cell_type": "markdown",
   "id": "c7e9f416-60f2-4c9b-b728-01fe32495e7c",
   "metadata": {},
   "source": [
    "## etc"
   ]
  },
  {
   "cell_type": "code",
   "execution_count": null,
   "id": "b69e8744-9881-4b0f-986d-caa4a72fd6bd",
   "metadata": {},
   "outputs": [],
   "source": []
  }
 ],
 "metadata": {
  "kernelspec": {
   "display_name": "Python 3 (ipykernel)",
   "language": "python",
   "name": "python3"
  },
  "language_info": {
   "codemirror_mode": {
    "name": "ipython",
    "version": 3
   },
   "file_extension": ".py",
   "mimetype": "text/x-python",
   "name": "python",
   "nbconvert_exporter": "python",
   "pygments_lexer": "ipython3",
   "version": "3.9.7"
  }
 },
 "nbformat": 4,
 "nbformat_minor": 5
}
