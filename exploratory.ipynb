{
 "cells": [
  {
   "cell_type": "markdown",
   "id": "2b00040e-cf54-437b-b9df-978935be313e",
   "metadata": {},
   "source": [
    "## packages"
   ]
  },
  {
   "cell_type": "code",
   "execution_count": 20,
   "id": "a611a2ac-242d-44d2-9bf2-92bb6b21204f",
   "metadata": {},
   "outputs": [],
   "source": [
    "import pandas as pd\n",
    "import numpy as np\n",
    "import matplotlib.pyplot as plt\n",
    "import folium\n",
    "import glob"
   ]
  },
  {
   "cell_type": "code",
   "execution_count": 21,
   "id": "46fc1486-9d57-4a68-8299-3d27cbfefb64",
   "metadata": {},
   "outputs": [],
   "source": [
    "import pandas as pd\n",
    "from shapely.geometry import Point\n",
    "import geopandas as gpd\n",
    "from geopandas import GeoDataFrame"
   ]
  },
  {
   "cell_type": "code",
   "execution_count": 22,
   "id": "e6e9ed8c-69fb-47e1-8ffd-7dda3d50a531",
   "metadata": {},
   "outputs": [],
   "source": [
    "%matplotlib inline"
   ]
  },
  {
   "cell_type": "markdown",
   "id": "6ee3b73c-bcd1-437d-b260-24f5eec9c9ea",
   "metadata": {
    "tags": []
   },
   "source": [
    "# Yelp dataset"
   ]
  },
  {
   "cell_type": "markdown",
   "id": "6aaacbae-5c5f-4fd8-9917-d7e225db372d",
   "metadata": {
    "jp-MarkdownHeadingCollapsed": true,
    "tags": []
   },
   "source": [
    "## live dataset from yelp"
   ]
  },
  {
   "cell_type": "code",
   "execution_count": 48,
   "id": "9a017d97-ae7c-495c-9778-d2aa42a31fc7",
   "metadata": {},
   "outputs": [],
   "source": [
    "data_directory = r'C:\\Users\\ASUS\\Desktop\\ML-data science\\DataIncubator\\yelp-cleaners\\yelp_dataset' + '\\\\'\n",
    "path = data_directory + 'yelp_academic_dataset_business.json'\n",
    "df_b = pd.read_json(path, lines=True)"
   ]
  },
  {
   "cell_type": "code",
   "execution_count": 49,
   "id": "cc76de92-7952-4c42-90c0-8e03b453a456",
   "metadata": {},
   "outputs": [
    {
     "data": {
      "text/plain": [
       "Index(['business_id', 'name', 'address', 'city', 'state', 'postal_code',\n",
       "       'latitude', 'longitude', 'stars', 'review_count', 'is_open',\n",
       "       'attributes', 'categories', 'hours'],\n",
       "      dtype='object')"
      ]
     },
     "execution_count": 49,
     "metadata": {},
     "output_type": "execute_result"
    }
   ],
   "source": [
    "df_b.columns"
   ]
  },
  {
   "cell_type": "code",
   "execution_count": 68,
   "id": "f1b33180-92bd-40da-b468-0fcdf85c7c4b",
   "metadata": {},
   "outputs": [],
   "source": [
    "df = df_b.dropna()"
   ]
  },
  {
   "cell_type": "code",
   "execution_count": 74,
   "id": "28e99c8b-a837-4767-b4bc-568ae0751f93",
   "metadata": {},
   "outputs": [
    {
     "data": {
      "text/html": [
       "<div>\n",
       "<style scoped>\n",
       "    .dataframe tbody tr th:only-of-type {\n",
       "        vertical-align: middle;\n",
       "    }\n",
       "\n",
       "    .dataframe tbody tr th {\n",
       "        vertical-align: top;\n",
       "    }\n",
       "\n",
       "    .dataframe thead th {\n",
       "        text-align: right;\n",
       "    }\n",
       "</style>\n",
       "<table border=\"1\" class=\"dataframe\">\n",
       "  <thead>\n",
       "    <tr style=\"text-align: right;\">\n",
       "      <th></th>\n",
       "      <th>business_id</th>\n",
       "      <th>name</th>\n",
       "      <th>address</th>\n",
       "      <th>city</th>\n",
       "      <th>state</th>\n",
       "      <th>postal_code</th>\n",
       "      <th>latitude</th>\n",
       "      <th>longitude</th>\n",
       "      <th>stars</th>\n",
       "      <th>review_count</th>\n",
       "      <th>is_open</th>\n",
       "      <th>attributes</th>\n",
       "      <th>categories</th>\n",
       "      <th>hours</th>\n",
       "    </tr>\n",
       "  </thead>\n",
       "  <tbody>\n",
       "  </tbody>\n",
       "</table>\n",
       "</div>"
      ],
      "text/plain": [
       "Empty DataFrame\n",
       "Columns: [business_id, name, address, city, state, postal_code, latitude, longitude, stars, review_count, is_open, attributes, categories, hours]\n",
       "Index: []"
      ]
     },
     "execution_count": 74,
     "metadata": {},
     "output_type": "execute_result"
    }
   ],
   "source": [
    "df[df.dropna().categories.str.contains('Food|Restaurant') & df.city == 'Santa Barbara']"
   ]
  },
  {
   "cell_type": "code",
   "execution_count": 79,
   "id": "0d65af17-b8ac-4328-ad3c-7e4374358b6f",
   "metadata": {},
   "outputs": [
    {
     "name": "stderr",
     "output_type": "stream",
     "text": [
      "C:\\Users\\ASUS\\AppData\\Local\\Temp\\ipykernel_17616\\1665998319.py:1: UserWarning: Boolean Series key will be reindexed to match DataFrame index.\n",
      "  df[df['city']=='Santa Barbara'][df.dropna().categories.str.contains('Restaurant')]\n"
     ]
    },
    {
     "data": {
      "text/html": [
       "<div>\n",
       "<style scoped>\n",
       "    .dataframe tbody tr th:only-of-type {\n",
       "        vertical-align: middle;\n",
       "    }\n",
       "\n",
       "    .dataframe tbody tr th {\n",
       "        vertical-align: top;\n",
       "    }\n",
       "\n",
       "    .dataframe thead th {\n",
       "        text-align: right;\n",
       "    }\n",
       "</style>\n",
       "<table border=\"1\" class=\"dataframe\">\n",
       "  <thead>\n",
       "    <tr style=\"text-align: right;\">\n",
       "      <th></th>\n",
       "      <th>business_id</th>\n",
       "      <th>name</th>\n",
       "      <th>address</th>\n",
       "      <th>city</th>\n",
       "      <th>state</th>\n",
       "      <th>postal_code</th>\n",
       "      <th>latitude</th>\n",
       "      <th>longitude</th>\n",
       "      <th>stars</th>\n",
       "      <th>review_count</th>\n",
       "      <th>is_open</th>\n",
       "      <th>attributes</th>\n",
       "      <th>categories</th>\n",
       "      <th>hours</th>\n",
       "    </tr>\n",
       "  </thead>\n",
       "  <tbody>\n",
       "    <tr>\n",
       "      <th>85</th>\n",
       "      <td>IDtLPgUrqorrpqSLdfMhZQ</td>\n",
       "      <td>Helena Avenue Bakery</td>\n",
       "      <td>131 Anacapa St, Ste C</td>\n",
       "      <td>Santa Barbara</td>\n",
       "      <td>CA</td>\n",
       "      <td>93101</td>\n",
       "      <td>34.414445</td>\n",
       "      <td>-119.690672</td>\n",
       "      <td>4.0</td>\n",
       "      <td>389</td>\n",
       "      <td>1</td>\n",
       "      <td>{'RestaurantsTakeOut': 'True', 'NoiseLevel': '...</td>\n",
       "      <td>Food, Restaurants, Salad, Coffee &amp; Tea, Breakf...</td>\n",
       "      <td>{'Monday': '0:0-0:0', 'Tuesday': '8:0-14:0', '...</td>\n",
       "    </tr>\n",
       "    <tr>\n",
       "      <th>141</th>\n",
       "      <td>SZU9c8V2GuREDN5KgyHFJw</td>\n",
       "      <td>Santa Barbara Shellfish Company</td>\n",
       "      <td>230 Stearns Wharf</td>\n",
       "      <td>Santa Barbara</td>\n",
       "      <td>CA</td>\n",
       "      <td>93101</td>\n",
       "      <td>34.408715</td>\n",
       "      <td>-119.685019</td>\n",
       "      <td>4.0</td>\n",
       "      <td>2404</td>\n",
       "      <td>1</td>\n",
       "      <td>{'OutdoorSeating': 'True', 'RestaurantsAttire'...</td>\n",
       "      <td>Live/Raw Food, Restaurants, Seafood, Beer Bar,...</td>\n",
       "      <td>{'Monday': '0:0-0:0', 'Tuesday': '11:0-21:0', ...</td>\n",
       "    </tr>\n",
       "    <tr>\n",
       "      <th>431</th>\n",
       "      <td>ifjluUv4VASwmFqEp8cWlQ</td>\n",
       "      <td>Marty's Pizza</td>\n",
       "      <td>2733 De La Vina St</td>\n",
       "      <td>Santa Barbara</td>\n",
       "      <td>CA</td>\n",
       "      <td>93105</td>\n",
       "      <td>34.436236</td>\n",
       "      <td>-119.726147</td>\n",
       "      <td>4.0</td>\n",
       "      <td>64</td>\n",
       "      <td>1</td>\n",
       "      <td>{'Alcohol': 'u'none'', 'BusinessAcceptsCreditC...</td>\n",
       "      <td>Pizza, Restaurants</td>\n",
       "      <td>{'Tuesday': '11:0-21:30', 'Wednesday': '11:0-2...</td>\n",
       "    </tr>\n",
       "    <tr>\n",
       "      <th>1320</th>\n",
       "      <td>UFpCraqzFBAhtZqmxmiWsA</td>\n",
       "      <td>Cat Therapy</td>\n",
       "      <td>1213 State St, Ste L</td>\n",
       "      <td>Santa Barbara</td>\n",
       "      <td>CA</td>\n",
       "      <td>93101</td>\n",
       "      <td>34.423302</td>\n",
       "      <td>-119.705471</td>\n",
       "      <td>4.5</td>\n",
       "      <td>116</td>\n",
       "      <td>1</td>\n",
       "      <td>{'WheelchairAccessible': 'True', 'WiFi': 'u'fr...</td>\n",
       "      <td>Themed Cafes, Cafes, Pets, Arts &amp; Entertainmen...</td>\n",
       "      <td>{'Monday': '10:0-17:15', 'Wednesday': '10:0-19...</td>\n",
       "    </tr>\n",
       "    <tr>\n",
       "      <th>1417</th>\n",
       "      <td>Hqz96v1ymucUKNzIWfEKXw</td>\n",
       "      <td>Subway</td>\n",
       "      <td>1936 State St, Ste B</td>\n",
       "      <td>Santa Barbara</td>\n",
       "      <td>CA</td>\n",
       "      <td>93101</td>\n",
       "      <td>34.430822</td>\n",
       "      <td>-119.714156</td>\n",
       "      <td>3.0</td>\n",
       "      <td>5</td>\n",
       "      <td>0</td>\n",
       "      <td>{'Alcohol': 'u'none'', 'Caters': 'True', 'Bike...</td>\n",
       "      <td>Restaurants, Delis, Sandwiches, Fast Food</td>\n",
       "      <td>{'Monday': '8:0-22:0', 'Tuesday': '8:0-22:0', ...</td>\n",
       "    </tr>\n",
       "    <tr>\n",
       "      <th>...</th>\n",
       "      <td>...</td>\n",
       "      <td>...</td>\n",
       "      <td>...</td>\n",
       "      <td>...</td>\n",
       "      <td>...</td>\n",
       "      <td>...</td>\n",
       "      <td>...</td>\n",
       "      <td>...</td>\n",
       "      <td>...</td>\n",
       "      <td>...</td>\n",
       "      <td>...</td>\n",
       "      <td>...</td>\n",
       "      <td>...</td>\n",
       "      <td>...</td>\n",
       "    </tr>\n",
       "    <tr>\n",
       "      <th>149317</th>\n",
       "      <td>HrnSaz2f1WUEoAQQ6iD6gw</td>\n",
       "      <td>Lemon Tree Inn</td>\n",
       "      <td>2819 State St</td>\n",
       "      <td>Santa Barbara</td>\n",
       "      <td>CA</td>\n",
       "      <td>93105</td>\n",
       "      <td>34.438226</td>\n",
       "      <td>-119.725035</td>\n",
       "      <td>2.5</td>\n",
       "      <td>270</td>\n",
       "      <td>1</td>\n",
       "      <td>{'RestaurantsTakeOut': 'True', 'BusinessParkin...</td>\n",
       "      <td>Restaurants, Nightlife, Hotels &amp; Travel, Hotel...</td>\n",
       "      <td>{'Monday': '0:0-0:0', 'Tuesday': '0:0-0:0', 'W...</td>\n",
       "    </tr>\n",
       "    <tr>\n",
       "      <th>149461</th>\n",
       "      <td>Hlx8S2GLF7hMuIKx4sU-gg</td>\n",
       "      <td>Cesar's Place</td>\n",
       "      <td>712 N Milpas St</td>\n",
       "      <td>Santa Barbara</td>\n",
       "      <td>CA</td>\n",
       "      <td>93103</td>\n",
       "      <td>34.428599</td>\n",
       "      <td>-119.688223</td>\n",
       "      <td>4.0</td>\n",
       "      <td>117</td>\n",
       "      <td>1</td>\n",
       "      <td>{'BYOBCorkage': ''no'', 'RestaurantsReservatio...</td>\n",
       "      <td>Mexican, Restaurants, Fish &amp; Chips</td>\n",
       "      <td>{'Monday': '10:0-21:0', 'Tuesday': '10:0-21:0'...</td>\n",
       "    </tr>\n",
       "    <tr>\n",
       "      <th>149493</th>\n",
       "      <td>bVaRZDHkWdsHuARGxxpREw</td>\n",
       "      <td>Sushi Bar 29</td>\n",
       "      <td>1134 Chapala St</td>\n",
       "      <td>Santa Barbara</td>\n",
       "      <td>CA</td>\n",
       "      <td>93101</td>\n",
       "      <td>34.422291</td>\n",
       "      <td>-119.705339</td>\n",
       "      <td>4.5</td>\n",
       "      <td>97</td>\n",
       "      <td>1</td>\n",
       "      <td>{'WiFi': 'u'no'', 'RestaurantsTableService': '...</td>\n",
       "      <td>Japanese, Restaurants, Noodles, Sushi Bars</td>\n",
       "      <td>{'Monday': '17:0-21:30', 'Tuesday': '17:0-21:3...</td>\n",
       "    </tr>\n",
       "    <tr>\n",
       "      <th>150169</th>\n",
       "      <td>izSgTrqebu8bN8ONOCs6cQ</td>\n",
       "      <td>Oat Bakery</td>\n",
       "      <td>5 W Haley St</td>\n",
       "      <td>Santa Barbara</td>\n",
       "      <td>CA</td>\n",
       "      <td>93101</td>\n",
       "      <td>34.416548</td>\n",
       "      <td>-119.695626</td>\n",
       "      <td>5.0</td>\n",
       "      <td>123</td>\n",
       "      <td>1</td>\n",
       "      <td>{'Alcohol': 'u'none'', 'HasTV': 'False', 'Bike...</td>\n",
       "      <td>Bakeries, Vegan, Specialty Food, Food Delivery...</td>\n",
       "      <td>{'Monday': '0:0-0:0', 'Tuesday': '9:0-18:0', '...</td>\n",
       "    </tr>\n",
       "    <tr>\n",
       "      <th>150290</th>\n",
       "      <td>uriD7RFuHhLJeDdKaf0nFA</td>\n",
       "      <td>Pizza Guru</td>\n",
       "      <td>3534 State St</td>\n",
       "      <td>Santa Barbara</td>\n",
       "      <td>CA</td>\n",
       "      <td>93105</td>\n",
       "      <td>34.440689</td>\n",
       "      <td>-119.739681</td>\n",
       "      <td>4.0</td>\n",
       "      <td>299</td>\n",
       "      <td>0</td>\n",
       "      <td>{'NoiseLevel': 'u'average'', 'RestaurantsGoodF...</td>\n",
       "      <td>Restaurants, Pizza, Food</td>\n",
       "      <td>{'Monday': '15:0-21:0', 'Tuesday': '15:0-21:0'...</td>\n",
       "    </tr>\n",
       "  </tbody>\n",
       "</table>\n",
       "<p>648 rows × 14 columns</p>\n",
       "</div>"
      ],
      "text/plain": [
       "                   business_id                             name  \\\n",
       "85      IDtLPgUrqorrpqSLdfMhZQ             Helena Avenue Bakery   \n",
       "141     SZU9c8V2GuREDN5KgyHFJw  Santa Barbara Shellfish Company   \n",
       "431     ifjluUv4VASwmFqEp8cWlQ                    Marty's Pizza   \n",
       "1320    UFpCraqzFBAhtZqmxmiWsA                      Cat Therapy   \n",
       "1417    Hqz96v1ymucUKNzIWfEKXw                           Subway   \n",
       "...                        ...                              ...   \n",
       "149317  HrnSaz2f1WUEoAQQ6iD6gw                   Lemon Tree Inn   \n",
       "149461  Hlx8S2GLF7hMuIKx4sU-gg                    Cesar's Place   \n",
       "149493  bVaRZDHkWdsHuARGxxpREw                     Sushi Bar 29   \n",
       "150169  izSgTrqebu8bN8ONOCs6cQ                       Oat Bakery   \n",
       "150290  uriD7RFuHhLJeDdKaf0nFA                       Pizza Guru   \n",
       "\n",
       "                      address           city state postal_code   latitude  \\\n",
       "85      131 Anacapa St, Ste C  Santa Barbara    CA       93101  34.414445   \n",
       "141         230 Stearns Wharf  Santa Barbara    CA       93101  34.408715   \n",
       "431        2733 De La Vina St  Santa Barbara    CA       93105  34.436236   \n",
       "1320     1213 State St, Ste L  Santa Barbara    CA       93101  34.423302   \n",
       "1417     1936 State St, Ste B  Santa Barbara    CA       93101  34.430822   \n",
       "...                       ...            ...   ...         ...        ...   \n",
       "149317          2819 State St  Santa Barbara    CA       93105  34.438226   \n",
       "149461        712 N Milpas St  Santa Barbara    CA       93103  34.428599   \n",
       "149493        1134 Chapala St  Santa Barbara    CA       93101  34.422291   \n",
       "150169           5 W Haley St  Santa Barbara    CA       93101  34.416548   \n",
       "150290          3534 State St  Santa Barbara    CA       93105  34.440689   \n",
       "\n",
       "         longitude  stars  review_count  is_open  \\\n",
       "85     -119.690672    4.0           389        1   \n",
       "141    -119.685019    4.0          2404        1   \n",
       "431    -119.726147    4.0            64        1   \n",
       "1320   -119.705471    4.5           116        1   \n",
       "1417   -119.714156    3.0             5        0   \n",
       "...            ...    ...           ...      ...   \n",
       "149317 -119.725035    2.5           270        1   \n",
       "149461 -119.688223    4.0           117        1   \n",
       "149493 -119.705339    4.5            97        1   \n",
       "150169 -119.695626    5.0           123        1   \n",
       "150290 -119.739681    4.0           299        0   \n",
       "\n",
       "                                               attributes  \\\n",
       "85      {'RestaurantsTakeOut': 'True', 'NoiseLevel': '...   \n",
       "141     {'OutdoorSeating': 'True', 'RestaurantsAttire'...   \n",
       "431     {'Alcohol': 'u'none'', 'BusinessAcceptsCreditC...   \n",
       "1320    {'WheelchairAccessible': 'True', 'WiFi': 'u'fr...   \n",
       "1417    {'Alcohol': 'u'none'', 'Caters': 'True', 'Bike...   \n",
       "...                                                   ...   \n",
       "149317  {'RestaurantsTakeOut': 'True', 'BusinessParkin...   \n",
       "149461  {'BYOBCorkage': ''no'', 'RestaurantsReservatio...   \n",
       "149493  {'WiFi': 'u'no'', 'RestaurantsTableService': '...   \n",
       "150169  {'Alcohol': 'u'none'', 'HasTV': 'False', 'Bike...   \n",
       "150290  {'NoiseLevel': 'u'average'', 'RestaurantsGoodF...   \n",
       "\n",
       "                                               categories  \\\n",
       "85      Food, Restaurants, Salad, Coffee & Tea, Breakf...   \n",
       "141     Live/Raw Food, Restaurants, Seafood, Beer Bar,...   \n",
       "431                                    Pizza, Restaurants   \n",
       "1320    Themed Cafes, Cafes, Pets, Arts & Entertainmen...   \n",
       "1417            Restaurants, Delis, Sandwiches, Fast Food   \n",
       "...                                                   ...   \n",
       "149317  Restaurants, Nightlife, Hotels & Travel, Hotel...   \n",
       "149461                 Mexican, Restaurants, Fish & Chips   \n",
       "149493         Japanese, Restaurants, Noodles, Sushi Bars   \n",
       "150169  Bakeries, Vegan, Specialty Food, Food Delivery...   \n",
       "150290                           Restaurants, Pizza, Food   \n",
       "\n",
       "                                                    hours  \n",
       "85      {'Monday': '0:0-0:0', 'Tuesday': '8:0-14:0', '...  \n",
       "141     {'Monday': '0:0-0:0', 'Tuesday': '11:0-21:0', ...  \n",
       "431     {'Tuesday': '11:0-21:30', 'Wednesday': '11:0-2...  \n",
       "1320    {'Monday': '10:0-17:15', 'Wednesday': '10:0-19...  \n",
       "1417    {'Monday': '8:0-22:0', 'Tuesday': '8:0-22:0', ...  \n",
       "...                                                   ...  \n",
       "149317  {'Monday': '0:0-0:0', 'Tuesday': '0:0-0:0', 'W...  \n",
       "149461  {'Monday': '10:0-21:0', 'Tuesday': '10:0-21:0'...  \n",
       "149493  {'Monday': '17:0-21:30', 'Tuesday': '17:0-21:3...  \n",
       "150169  {'Monday': '0:0-0:0', 'Tuesday': '9:0-18:0', '...  \n",
       "150290  {'Monday': '15:0-21:0', 'Tuesday': '15:0-21:0'...  \n",
       "\n",
       "[648 rows x 14 columns]"
      ]
     },
     "execution_count": 79,
     "metadata": {},
     "output_type": "execute_result"
    }
   ],
   "source": [
    "df[df['city']=='Santa Barbara'][df.dropna().categories.str.contains('Restaurant')]"
   ]
  },
  {
   "cell_type": "code",
   "execution_count": 99,
   "id": "2829b1f3-5989-4eec-aac1-8c65cdad2325",
   "metadata": {
    "collapsed": true,
    "jupyter": {
     "outputs_hidden": true
    },
    "tags": []
   },
   "outputs": [
    {
     "name": "stdout",
     "output_type": "stream",
     "text": [
      "Philadelphia        14569\n",
      "Tucson               9250\n",
      "Tampa                9050\n",
      "Indianapolis         7540\n",
      "Nashville            6971\n",
      "New Orleans          6209\n",
      "Reno                 5935\n",
      "Edmonton             5054\n",
      "Saint Louis          4827\n",
      "Santa Barbara        3829\n",
      "Boise                2937\n",
      "Clearwater           2221\n",
      "Saint Petersburg     1663\n",
      "Metairie             1643\n",
      "Sparks               1624\n",
      "Wilmington           1446\n",
      "Franklin             1414\n",
      "St. Louis            1255\n",
      "St. Petersburg       1185\n",
      "Meridian             1043\n",
      "Brandon              1033\n",
      "Largo                1002\n",
      "Carmel                967\n",
      "Cherry Hill           960\n",
      "West Chester          838\n",
      "Goleta                798\n",
      "Brentwood             767\n",
      "Palm Harbor           665\n",
      "Greenwood             649\n",
      "New Port Richey       604\n",
      "Lutz                  591\n",
      "Riverview             588\n",
      "Kenner                584\n",
      "Fishers               570\n",
      "King of Prussia       560\n",
      "Wesley Chapel         560\n",
      "Doylestown            539\n",
      "Pinellas Park         512\n",
      "Dunedin               490\n",
      "Hendersonville        484\n",
      "Bensalem              454\n",
      "Norristown            448\n",
      "Exton                 419\n",
      "Marlton               415\n",
      "Spring Hill           402\n",
      "Tarpon Springs        398\n",
      "St Petersburg         387\n",
      "Springfield           384\n",
      "Lansdale              378\n",
      "Ardmore               376\n",
      "Wayne                 375\n",
      "Media                 372\n",
      "Smyrna                366\n",
      "Phoenixville          365\n",
      "Newark                359\n",
      "Seminole              359\n",
      "St Louis              357\n",
      "Gretna                352\n",
      "Mount Laurel          344\n",
      "Langhorne             327\n",
      "Saint Charles         326\n",
      "Trenton               323\n",
      "Pottstown             323\n",
      "Newtown               322\n",
      "Avon                  313\n",
      "Florissant            313\n",
      "Willow Grove          311\n",
      "Havertown             302\n",
      "Belleville            302\n",
      "Conshohocken          301\n",
      "Carpinteria           298\n",
      "Levittown             298\n",
      "Sherwood Park         297\n",
      "Malvern               295\n",
      "Harvey                289\n",
      "Eagle                 289\n",
      "Fenton                288\n",
      "Bryn Mawr             286\n",
      "Oro Valley            286\n",
      "Oldsmar               286\n",
      "Warminster            283\n",
      "Mount Juliet          281\n",
      "Valrico               276\n",
      "Madison               276\n",
      "Edwardsville          274\n",
      "Plainfield            271\n",
      "Port Richey           270\n",
      "North Wales           268\n",
      "Hermitage             267\n",
      "Plant City            257\n",
      "Collegeville          257\n",
      "Ballwin               254\n",
      "Downingtown           248\n",
      "New Hope              246\n",
      "Fairview Heights      241\n",
      "Voorhees              241\n",
      "Zionsville            234\n",
      "Antioch               231\n",
      "Hudson                228\n",
      "Arnold                227\n"
     ]
    }
   ],
   "source": [
    "cities = df_b.city.value_counts()[:100]\n",
    "print(cities.to_string())"
   ]
  },
  {
   "cell_type": "code",
   "execution_count": 40,
   "id": "6f7de9ae-2aaa-4365-a419-c8e032d02ec4",
   "metadata": {},
   "outputs": [],
   "source": [
    "latlong = df_b[['latitude','longitude']]\n",
    "# latlong = latlong[:1000]\n",
    "# latlong"
   ]
  },
  {
   "cell_type": "code",
   "execution_count": 41,
   "id": "6e4e2018-601e-4d76-93f1-8dc27124d070",
   "metadata": {},
   "outputs": [
    {
     "data": {
      "image/png": "[encoded data removed]",
      "text/plain": [
       "<Figure size 720x432 with 1 Axes>"
      ]
     },
     "metadata": {
      "needs_background": "light"
     },
     "output_type": "display_data"
    }
   ],
   "source": [
    "map_path = r'C:\\Users\\ASUS\\Desktop\\ML-data science\\DataIncubator\\yelp-cleaners\\data\\states_21basic\\states.shp'\n",
    "\n",
    "geometry = [Point(xy) for xy in zip(latlong['longitude'], latlong['latitude'])]\n",
    "gdf = GeoDataFrame(latlong, geometry=geometry)   \n",
    "\n",
    "usa = gpd.read_file(map_path)\n",
    "usa = usa[~usa['STATE_NAME'].isin(['Hawaii','Alaska'])] # exclude HI & AK\n",
    "gdf.plot(ax=usa.plot(figsize=(10, 6)), marker='o', color='red', markersize=2, alpha=0.2);"
   ]
  },
  {
   "cell_type": "markdown",
   "id": "2a3f6dde-86c2-4cb5-9d23-1459a01d2485",
   "metadata": {
    "tags": []
   },
   "source": [
    "## different datasets from kaggle"
   ]
  },
  {
   "cell_type": "code",
   "execution_count": 115,
   "id": "811565e6-5d6c-4516-8da6-a7cd13d8164b",
   "metadata": {},
   "outputs": [],
   "source": [
    "map_path = r'C:\\Users\\ASUS\\Desktop\\ML-data science\\DataIncubator\\yelp-cleaners\\data\\states_21basic\\states.shp'\n",
    "def show_cities(dataset=2,print_cities=True,plot_cities=True):\n",
    "    data_directory = r'C:\\Users\\ASUS\\Desktop\\ML-data science\\DataIncubator\\yelp-cleaners\\data\\old yelp data' + '\\\\'\n",
    "    path = data_directory + 'yelp_academic_dataset_business_version{}.json'.format(dataset)\n",
    "    df_b = pd.read_json(path, lines=True)\n",
    "\n",
    "    cities = df_b.city.value_counts()[:100]\n",
    "    if print_cities:\n",
    "        print(cities.to_string())\n",
    "\n",
    "    latlong = df_b[['latitude','longitude']]\n",
    "\n",
    "    if plot_cities:\n",
    "        geometry = [Point(xy) for xy in zip(latlong['longitude'], latlong['latitude'])]\n",
    "        gdf = GeoDataFrame(latlong, geometry=geometry)   \n",
    "        usa = gpd.read_file(map_path)\n",
    "        usa = usa[~usa['STATE_NAME'].isin(['Hawaii','Alaska'])] # exclude HI & AK\n",
    "        gdf.plot(ax=usa.plot(figsize=(10, 6)), marker='o', color='red', markersize=2, alpha=0.2)"
   ]
  },
  {
   "cell_type": "code",
   "execution_count": 116,
   "id": "311091d9-2709-4293-9dda-b93c5e222ff5",
   "metadata": {},
   "outputs": [],
   "source": [
    "datasets = [2,3,4,7,9]"
   ]
  },
  {
   "cell_type": "code",
   "execution_count": 117,
   "id": "e2ef30e4-460d-4639-8ef6-aa474edeadeb",
   "metadata": {
    "collapsed": true,
    "jupyter": {
     "outputs_hidden": true
    },
    "tags": []
   },
   "outputs": [
    {
     "name": "stdout",
     "output_type": "stream",
     "text": [
      "Las Vegas             31631\n",
      "Toronto               20366\n",
      "Phoenix               20171\n",
      "Charlotte             10422\n",
      "Scottsdale             9342\n",
      "Calgary                8377\n",
      "Pittsburgh             7630\n",
      "Montréal               6979\n",
      "Mesa                   6577\n",
      "Henderson              5272\n",
      "Tempe                  4797\n",
      "Chandler               4580\n",
      "Cleveland              3857\n",
      "Glendale               3824\n",
      "Gilbert                3745\n",
      "Madison                3685\n",
      "Mississauga            3518\n",
      "Peoria                 2080\n",
      "Markham                1963\n",
      "North Las Vegas        1677\n",
      "Champaign              1327\n",
      "North York             1319\n",
      "Scarborough            1244\n",
      "Surprise               1218\n",
      "Richmond Hill          1153\n",
      "Brampton               1146\n",
      "Concord                1125\n",
      "Vaughan                1045\n",
      "Goodyear                951\n",
      "Etobicoke               841\n",
      "Matthews                812\n",
      "Avondale                745\n",
      "Fort Mill               696\n",
      "Huntersville            684\n",
      "Gastonia                564\n",
      "Lakewood                562\n",
      "Mentor                  559\n",
      "Akron                   512\n",
      "Cornelius               495\n",
      "Laval                   472\n",
      "Westlake                444\n",
      "Monroeville             442\n",
      "Thornhill               434\n",
      "North Olmsted           428\n",
      "Strongsville            426\n",
      "Urbana                  425\n",
      "Cave Creek              424\n",
      "Aurora                  421\n",
      "Newmarket               411\n",
      "Medina                  409\n",
      "Cuyahoga Falls          401\n",
      "Oakville                401\n",
      "Middleton               392\n",
      "Pineville               382\n",
      "Pickering               371\n",
      "Fountain Hills          369\n",
      "Rock Hill               346\n",
      "Ajax                    343\n",
      "Parma                   341\n",
      "Beachwood               328\n",
      "Whitby                  323\n",
      "Indian Trail            313\n",
      "Wexford                 302\n",
      "Sun City                300\n",
      "Boulder City            283\n",
      "Sun Prairie             276\n",
      "Willoughby              274\n",
      "Kent                    268\n",
      "Woodbridge              264\n",
      "Avon                    262\n",
      "Rocky River             261\n",
      "Elyria                  256\n",
      "Litchfield Park         251\n",
      "Stow                    246\n",
      "Solon                   237\n",
      "Bethel Park             236\n",
      "Cleveland Heights       228\n",
      "Verona                  221\n",
      "Chagrin Falls           220\n",
      "Hudson                  213\n",
      "Brossard                209\n",
      "Fitchburg               206\n",
      "Monroe                  203\n",
      "Brunswick               199\n",
      "Bridgeville             199\n",
      "Coraopolis              195\n",
      "Canonsburg              189\n",
      "Waxhaw                  188\n",
      "Belmont                 187\n",
      "Airdrie                 186\n",
      "Montreal                180\n",
      "Mayfield Heights        180\n",
      "Verdun                  174\n",
      "Fairlawn                173\n",
      "North Royalton          170\n",
      "Tolleson                168\n",
      "East York               166\n",
      "Middleburg Heights      166\n",
      "West Mifflin            160\n",
      "Painesville             157\n"
     ]
    },
    {
     "data": {
      "image/png": "[encoded data removed]",
      "text/plain": [
       "<Figure size 720x432 with 1 Axes>"
      ]
     },
     "metadata": {
      "needs_background": "light"
     },
     "output_type": "display_data"
    }
   ],
   "source": [
    "show_cities(2)"
   ]
  },
  {
   "cell_type": "code",
   "execution_count": 118,
   "id": "6a47a52b-62d1-4347-a949-88ac861c9062",
   "metadata": {
    "tags": []
   },
   "outputs": [
    {
     "name": "stdout",
     "output_type": "stream",
     "text": [
      "Austin               22416\n",
      "Portland             18203\n",
      "Vancouver            13330\n",
      "Atlanta              12612\n",
      "Orlando              10637\n",
      "Boston                8263\n",
      "Columbus              6634\n",
      "Boulder               2542\n",
      "Cambridge             2433\n",
      "Beaverton             2252\n",
      "Richmond              1791\n",
      "Burnaby               1725\n",
      "Kissimmee             1713\n",
      "Decatur               1411\n",
      "Winter Park           1288\n",
      "Somerville            1265\n",
      "Quincy                1093\n",
      "Brookline              986\n",
      "North Vancouver        926\n",
      "Tigard                 916\n",
      "Waltham                883\n",
      "Newton                 823\n",
      "Smyrna                 820\n",
      "Altamonte Springs      783\n",
      "Lake Oswego            761\n",
      "Dublin                 734\n",
      "Salem                  721\n",
      "Sanford                672\n",
      "Natick                 669\n",
      "Medford                668\n",
      "Coquitlam              652\n",
      "Woburn                 618\n",
      "Watertown              607\n",
      "Peabody                602\n",
      "Burlington             595\n",
      "Oviedo                 584\n",
      "Braintree              577\n",
      "Westerville            569\n",
      "Arlington              545\n",
      "Surrey                 540\n",
      "Malden                 538\n",
      "New Westminster        522\n",
      "Winter Garden          517\n",
      "Lake Mary              512\n",
      "Clermont               492\n",
      "Clackamas              484\n",
      "Marietta               476\n",
      "Beverly                476\n",
      "Tucker                 472\n",
      "Danvers                472\n",
      "Longwood               469\n",
      "Norwood                461\n",
      "Milwaukie              456\n",
      "Hilliard               453\n",
      "Sandy Springs          450\n",
      "Allston                436\n",
      "Saugus                 434\n",
      "Brighton               430\n",
      "Dedham                 416\n",
      "Tualatin               412\n",
      "Dorchester             405\n",
      "Apopka                 403\n",
      "Happy Valley           403\n",
      "Weymouth               397\n",
      "Lynn                   393\n",
      "Revere                 392\n",
      "Louisville             359\n",
      "Jamaica Plain          359\n",
      "Belmont                338\n",
      "Everett                324\n",
      "Hillsboro              323\n",
      "Ocoee                  322\n",
      "Lakeway                319\n",
      "Buda                   319\n",
      "Wakefield              319\n",
      "Needham                318\n",
      "Lexington              313\n",
      "Lake Buena Vista       307\n",
      "Wellesley              304\n",
      "Casselberry            304\n",
      "Grove City             303\n",
      "Titusville             302\n",
      "Powell                 291\n",
      "Stoneham               287\n",
      "Chamblee               286\n",
      "Gahanna                280\n",
      "Canton                 273\n",
      "Bee Cave               265\n",
      "Reynoldsburg           255\n",
      "Davenport              253\n",
      "Kyle                   253\n",
      "West Roxbury           249\n",
      "Dunwoody               243\n",
      "Stoughton              238\n",
      "Hingham                237\n",
      "Doraville              237\n",
      "Melrose                234\n",
      "Winter Springs         232\n",
      "Pickerington           231\n",
      "Cocoa                  228\n"
     ]
    },
    {
     "data": {
      "image/png": "[encoded data removed]",
      "text/plain": [
       "<Figure size 720x432 with 1 Axes>"
      ]
     },
     "metadata": {
      "needs_background": "light"
     },
     "output_type": "display_data"
    }
   ],
   "source": [
    "show_cities(3)"
   ]
  },
  {
   "cell_type": "code",
   "execution_count": 119,
   "id": "3c115aab-60db-4983-b998-053369e35029",
   "metadata": {
    "collapsed": true,
    "jupyter": {
     "outputs_hidden": true
    },
    "tags": []
   },
   "outputs": [
    {
     "name": "stdout",
     "output_type": "stream",
     "text": [
      "Philadelphia        14569\n",
      "Tucson               9250\n",
      "Tampa                9050\n",
      "Indianapolis         7540\n",
      "Nashville            6971\n",
      "New Orleans          6209\n",
      "Reno                 5935\n",
      "Edmonton             5054\n",
      "Saint Louis          4827\n",
      "Santa Barbara        3829\n",
      "Boise                2937\n",
      "Clearwater           2221\n",
      "Saint Petersburg     1663\n",
      "Metairie             1643\n",
      "Sparks               1624\n",
      "Wilmington           1446\n",
      "Franklin             1414\n",
      "St. Louis            1255\n",
      "St. Petersburg       1185\n",
      "Meridian             1043\n",
      "Brandon              1033\n",
      "Largo                1002\n",
      "Carmel                967\n",
      "Cherry Hill           960\n",
      "West Chester          838\n",
      "Goleta                798\n",
      "Brentwood             767\n",
      "Palm Harbor           665\n",
      "Greenwood             649\n",
      "New Port Richey       604\n",
      "Lutz                  591\n",
      "Riverview             588\n",
      "Kenner                584\n",
      "Fishers               570\n",
      "King of Prussia       560\n",
      "Wesley Chapel         560\n",
      "Doylestown            539\n",
      "Pinellas Park         512\n",
      "Dunedin               490\n",
      "Hendersonville        484\n",
      "Bensalem              454\n",
      "Norristown            448\n",
      "Exton                 419\n",
      "Marlton               415\n",
      "Spring Hill           402\n",
      "Tarpon Springs        398\n",
      "St Petersburg         387\n",
      "Springfield           384\n",
      "Lansdale              378\n",
      "Ardmore               376\n",
      "Wayne                 375\n",
      "Media                 372\n",
      "Smyrna                366\n",
      "Phoenixville          365\n",
      "Newark                359\n",
      "Seminole              359\n",
      "St Louis              357\n",
      "Gretna                352\n",
      "Mount Laurel          344\n",
      "Langhorne             327\n",
      "Saint Charles         326\n",
      "Trenton               323\n",
      "Pottstown             323\n",
      "Newtown               322\n",
      "Avon                  313\n",
      "Florissant            313\n",
      "Willow Grove          311\n",
      "Havertown             302\n",
      "Belleville            302\n",
      "Conshohocken          301\n",
      "Carpinteria           298\n",
      "Levittown             298\n",
      "Sherwood Park         297\n",
      "Malvern               295\n",
      "Harvey                289\n",
      "Eagle                 289\n",
      "Fenton                288\n",
      "Bryn Mawr             286\n",
      "Oro Valley            286\n",
      "Oldsmar               286\n",
      "Warminster            283\n",
      "Mount Juliet          281\n",
      "Valrico               276\n",
      "Madison               276\n",
      "Edwardsville          274\n",
      "Plainfield            271\n",
      "Port Richey           270\n",
      "North Wales           268\n",
      "Hermitage             267\n",
      "Plant City            257\n",
      "Collegeville          257\n",
      "Ballwin               254\n",
      "Downingtown           248\n",
      "New Hope              246\n",
      "Fairview Heights      241\n",
      "Voorhees              241\n",
      "Zionsville            234\n",
      "Antioch               231\n",
      "Hudson                228\n",
      "Arnold                227\n"
     ]
    },
    {
     "data": {
      "image/png": "[encoded data removed]",
      "text/plain": [
       "<Figure size 720x432 with 1 Axes>"
      ]
     },
     "metadata": {
      "needs_background": "light"
     },
     "output_type": "display_data"
    }
   ],
   "source": [
    "show_cities(4)"
   ]
  },
  {
   "cell_type": "code",
   "execution_count": 120,
   "id": "1ad6b92c-6335-4c09-b645-c98691007318",
   "metadata": {
    "collapsed": true,
    "jupyter": {
     "outputs_hidden": true
    },
    "tags": []
   },
   "outputs": [
    {
     "name": "stdout",
     "output_type": "stream",
     "text": [
      "Las Vegas            28865\n",
      "Phoenix              18633\n",
      "Toronto              18233\n",
      "Charlotte             9204\n",
      "Scottsdale            8822\n",
      "Calgary               7384\n",
      "Pittsburgh            6804\n",
      "Mesa                  6239\n",
      "Montréal              6045\n",
      "Henderson             4815\n",
      "Tempe                 4492\n",
      "Chandler              4272\n",
      "Madison               3509\n",
      "Cleveland             3506\n",
      "Glendale              3469\n",
      "Gilbert               3397\n",
      "Mississauga           2954\n",
      "Peoria                1868\n",
      "Markham               1699\n",
      "North Las Vegas       1508\n",
      "Champaign             1243\n",
      "Scarborough           1175\n",
      "North York            1140\n",
      "Surprise              1119\n",
      "Richmond Hill          978\n",
      "Concord                975\n",
      "Brampton               929\n",
      "Vaughan                853\n",
      "Goodyear               827\n",
      "Etobicoke              760\n",
      "Matthews               726\n",
      "Oakville               699\n",
      "Avondale               663\n",
      "Fort Mill              620\n",
      "Huntersville           608\n",
      "Lakewood               509\n",
      "Gastonia               494\n",
      "Cornelius              467\n",
      "Mentor                 442\n",
      "Cave Creek             402\n",
      "Urbana                 400\n",
      "Monroeville            390\n",
      "Westlake               379\n",
      "Thornhill              376\n",
      "North Olmsted          373\n",
      "Laval                  373\n",
      "Strongsville           362\n",
      "Whitby                 357\n",
      "Pineville              352\n",
      "Middleton              347\n",
      "Fountain Hills         341\n",
      "Cuyahoga Falls         340\n",
      "Aurora                 336\n",
      "Medina                 327\n",
      "Newmarket              324\n",
      "Pickering              315\n",
      "Boulder City           295\n",
      "Indian Trail           286\n",
      "Montreal               283\n",
      "Kent                   282\n",
      "Ajax                   281\n",
      "Beachwood              281\n",
      "Wexford                280\n",
      "Parma                  274\n",
      "Monroe                 273\n",
      "Buckeye                265\n",
      "Willoughby             248\n",
      "Sun City               247\n",
      "Rocky River            246\n",
      "Sun Prairie            244\n",
      "Woodbridge             226\n",
      "Stow                   221\n",
      "Litchfield Park        220\n",
      "Avon                   218\n",
      "Solon                  210\n",
      "Hudson                 201\n",
      "Cleveland Heights      200\n",
      "Fitchburg              199\n",
      "Bethel Park            198\n",
      "Elyria                 198\n",
      "Verona                 195\n",
      "Airdrie                191\n",
      "Chagrin Falls          186\n",
      "Bridgeville            181\n",
      "Brunswick              178\n",
      "Coraopolis             175\n",
      "Kannapolis             173\n",
      "Canonsburg             171\n",
      "Waxhaw                 167\n",
      "Brossard               166\n",
      "Belmont                158\n",
      "Fairlawn               156\n",
      "East York              151\n",
      "Verdun                 150\n",
      "Mayfield Heights       149\n",
      "North Royalton         144\n",
      "Tolleson               144\n",
      "Independence           136\n",
      "MESA                   135\n",
      "Monona                 135\n"
     ]
    },
    {
     "data": {
      "image/png": "[encoded data removed]",
      "text/plain": [
       "<Figure size 720x432 with 1 Axes>"
      ]
     },
     "metadata": {
      "needs_background": "light"
     },
     "output_type": "display_data"
    }
   ],
   "source": [
    "show_cities(7)"
   ]
  },
  {
   "cell_type": "code",
   "execution_count": 121,
   "id": "bc12ad17-642d-4c2a-a37f-9bf61e53f2d9",
   "metadata": {},
   "outputs": [
    {
     "name": "stdout",
     "output_type": "stream",
     "text": [
      "Las Vegas             29370\n",
      "Toronto               18906\n",
      "Phoenix               18766\n",
      "Charlotte              9509\n",
      "Scottsdale             8837\n",
      "Calgary                7736\n",
      "Pittsburgh             7017\n",
      "Montréal               6449\n",
      "Mesa                   6080\n",
      "Henderson              4892\n",
      "Tempe                  4550\n",
      "Chandler               4309\n",
      "Cleveland              3605\n",
      "Glendale               3543\n",
      "Madison                3494\n",
      "Gilbert                3462\n",
      "Mississauga            3112\n",
      "Peoria                 1919\n",
      "Markham                1766\n",
      "North Las Vegas        1548\n",
      "Champaign              1262\n",
      "North York             1205\n",
      "Surprise               1148\n",
      "Scarborough            1103\n",
      "Richmond Hill          1026\n",
      "Brampton               1002\n",
      "Concord                 990\n",
      "Vaughan                 919\n",
      "Goodyear                855\n",
      "Etobicoke               793\n",
      "Matthews                749\n",
      "Avondale                681\n",
      "Fort Mill               627\n",
      "Huntersville            625\n",
      "Lakewood                519\n",
      "Gastonia                480\n",
      "Cornelius               474\n",
      "Mentor                  472\n",
      "Akron                   465\n",
      "Urbana                  411\n",
      "Cave Creek              402\n",
      "Monroeville             400\n",
      "Thornhill               396\n",
      "North Olmsted           396\n",
      "Laval                   394\n",
      "Westlake                389\n",
      "Strongsville            379\n",
      "Oakville                362\n",
      "Middleton               360\n",
      "Aurora                  356\n",
      "Cuyahoga Falls          354\n",
      "Newmarket               352\n",
      "Pineville               349\n",
      "Medina                  348\n",
      "Fountain Hills          345\n",
      "Pickering               326\n",
      "Rock Hill               311\n",
      "Ajax                    303\n",
      "Indian Trail            301\n",
      "Parma                   290\n",
      "Beachwood               289\n",
      "Wexford                 280\n",
      "Whitby                  276\n",
      "Boulder City            269\n",
      "Sun City                258\n",
      "Willoughby              257\n",
      "Kent                    254\n",
      "Sun Prairie             246\n",
      "Rocky River             245\n",
      "Woodbridge              241\n",
      "Stow                    234\n",
      "Avon                    230\n",
      "Litchfield Park         222\n",
      "Cleveland Heights       212\n",
      "Solon                   212\n",
      "Elyria                  208\n",
      "Hudson                  203\n",
      "Fitchburg               201\n",
      "Bethel Park             200\n",
      "Verona                  198\n",
      "Chagrin Falls           196\n",
      "Bridgeville             191\n",
      "Brossard                177\n",
      "Brunswick               176\n",
      "Monroe                  175\n",
      "Coraopolis              170\n",
      "Waxhaw                  170\n",
      "Airdrie                 168\n",
      "Canonsburg              163\n",
      "Mayfield Heights        162\n",
      "East York               161\n",
      "Belmont                 160\n",
      "North Royalton          157\n",
      "Fairlawn                157\n",
      "Verdun                  153\n",
      "Montreal                153\n",
      "Tolleson                147\n",
      "West Mifflin            145\n",
      "Independence            143\n",
      "Middleburg Heights      139\n"
     ]
    },
    {
     "data": {
      "image/png": "[encoded data removed]",
      "text/plain": [
       "<Figure size 720x432 with 1 Axes>"
      ]
     },
     "metadata": {
      "needs_background": "light"
     },
     "output_type": "display_data"
    }
   ],
   "source": [
    "show_cities(9)"
   ]
  },
  {
   "cell_type": "markdown",
   "id": "3d51a5a6-e240-48c5-8fef-fc1ea1788e92",
   "metadata": {},
   "source": [
    "## Austin dataset from 2021 yelp academic dataset"
   ]
  },
  {
   "cell_type": "code",
   "execution_count": null,
   "id": "b0a5874f-eb77-4a2d-95df-af2bd37c1e4b",
   "metadata": {},
   "outputs": [],
   "source": []
  },
  {
   "cell_type": "markdown",
   "id": "7c74d76f-bf62-4296-9700-d440c1a6ee19",
   "metadata": {},
   "source": [
    "# Inspection data"
   ]
  },
  {
   "cell_type": "code",
   "execution_count": 124,
   "id": "faf6bcbb-fd7f-4c13-85dc-78dc53e3724d",
   "metadata": {},
   "outputs": [],
   "source": [
    "df = pd.read_csv(r'C:\\Users\\ASUS\\Desktop\\ML-data science\\DataIncubator\\yelp-cleaners\\data\\Inspection data\\Austin\\Food_Establishment_Inspection_Scores.csv',\n",
    "                delimiter = ',', on_bad_lines='skip')"
   ]
  },
  {
   "cell_type": "code",
   "execution_count": 155,
   "id": "c4983fc8-0797-432f-8816-3aeb5426cfad",
   "metadata": {},
   "outputs": [
    {
     "data": {
      "text/plain": [
       "3    22371\n",
       "2     3413\n",
       "Name: Address, dtype: int64"
      ]
     },
     "execution_count": 155,
     "metadata": {},
     "output_type": "execute_result"
    }
   ],
   "source": [
    "# addresses are formatted as Address \\n city, state, zip \\n (lat, long)\n",
    "# most of them have lat long\n",
    "df.Address.str.split('\\n').str.len().value_counts()"
   ]
  },
  {
   "cell_type": "code",
   "execution_count": 156,
   "id": "4b75d920-4daf-4ad8-a204-78663a555121",
   "metadata": {},
   "outputs": [
    {
     "data": {
      "text/plain": [
       "['8628 MANCHACA RD', 'AUSTIN, TX 78748']"
      ]
     },
     "execution_count": 156,
     "metadata": {},
     "output_type": "execute_result"
    }
   ],
   "source": [
    "df.Address.str.split('\\n')[2]"
   ]
  },
  {
   "cell_type": "code",
   "execution_count": 141,
   "id": "f216a542-ab8c-4999-b372-f557d0e1c35d",
   "metadata": {},
   "outputs": [
    {
     "data": {
      "text/plain": [
       "['325', 'S', 'FM', '620', 'RD', 'LAKEWAY,', 'TX', '78734']"
      ]
     },
     "execution_count": 141,
     "metadata": {},
     "output_type": "execute_result"
    }
   ],
   "source": [
    "df.Address.str.split()[0]"
   ]
  },
  {
   "cell_type": "code",
   "execution_count": 137,
   "id": "ff9bf3fc-4a5c-40f8-ac3f-cb883a0dc5fa",
   "metadata": {},
   "outputs": [
    {
     "data": {
      "text/plain": [
       "3600 PRESIDENTIAL BLVD\\nAUSTIN, TX 78719\\n(30.202592, -97.666956)         169\n",
       "2901 S CAPITAL OF TEXAS HWY\\nAUSTIN, TX 78746\\n(30.255443, -97.810066)    112\n",
       "11200 LAKELINE MALL DR\\nAUSTIN, TX 78613\\n(30.47186, -97.802769)           92\n",
       "2525 W ANDERSON LN\\nAUSTIN, TX 78757\\n(30.356679, -97.732239)              86\n",
       "10901 N LAMAR BLVD\\nAUSTIN, TX 78753\\n(30.378477, -97.688329)              78\n",
       "                                                                         ... \n",
       "1115 BASTROP HWY\\nAUSTIN, TX 78742\\n(30.228434, -97.682454)                 1\n",
       "603 BRAZOS ST\\nAUSTIN, TX 78701\\n(30.267859, -97.741403)                    1\n",
       "1300 LAVACA ST\\nAUSTIN, TX 78701\\n(30.276016, -97.742513)                   1\n",
       "1708 MONTOPOLIS DR\\nAUSTIN, TX 78741\\n(30.226758, -97.702277)               1\n",
       "6001 MANCHACA RD\\nAUSTIN, TX 78745\\n(30.212953, -97.801829)                 1\n",
       "Name: Address, Length: 4025, dtype: int64"
      ]
     },
     "execution_count": 137,
     "metadata": {},
     "output_type": "execute_result"
    }
   ],
   "source": [
    "df.Address.value_counts()"
   ]
  },
  {
   "cell_type": "code",
   "execution_count": 135,
   "id": "e28d539a-251d-4dcf-b540-3ae5fd3461a3",
   "metadata": {},
   "outputs": [
    {
     "data": {
      "text/plain": [
       "(array([1.000e+00, 0.000e+00, 6.000e+00, 7.000e+00, 1.000e+01, 2.300e+01,\n",
       "        4.900e+01, 5.000e+01, 4.700e+01, 2.790e+02, 4.010e+02, 6.120e+02,\n",
       "        9.400e+02, 1.385e+03, 1.313e+03, 2.470e+03, 3.617e+03, 4.333e+03,\n",
       "        4.799e+03, 5.442e+03]),\n",
       " array([ 44. ,  46.8,  49.6,  52.4,  55.2,  58. ,  60.8,  63.6,  66.4,\n",
       "         69.2,  72. ,  74.8,  77.6,  80.4,  83.2,  86. ,  88.8,  91.6,\n",
       "         94.4,  97.2, 100. ]),\n",
       " <BarContainer object of 20 artists>)"
      ]
     },
     "execution_count": 135,
     "metadata": {},
     "output_type": "execute_result"
    },
    {
     "data": {
      "image/png": "[encoded data removed]",
      "text/plain": [
       "<Figure size 432x288 with 1 Axes>"
      ]
     },
     "metadata": {
      "needs_background": "light"
     },
     "output_type": "display_data"
    }
   ],
   "source": [
    "plt.hist(df.Score,bins=20)"
   ]
  },
  {
   "cell_type": "code",
   "execution_count": 128,
   "id": "e7b4bffc-3d2e-48da-867b-e77bc3c7aaf3",
   "metadata": {},
   "outputs": [
    {
     "data": {
      "text/plain": [
       "Thundercloud Subs                        80\n",
       "Subway                                   64\n",
       "Tokyo Gardens Catering                   60\n",
       "Torchy's Tacos                           57\n",
       "P. Terry's Burger Stand                  52\n",
       "                                         ..\n",
       "Cuerney Bar & Grill                       1\n",
       "COTA- Austin Smoque Maind Grand Stand     1\n",
       "HandleBar                                 1\n",
       "Eastern, The                              1\n",
       "Slapbox Pizzicheria                       1\n",
       "Name: Restaurant Name, Length: 5984, dtype: int64"
      ]
     },
     "execution_count": 128,
     "metadata": {},
     "output_type": "execute_result"
    }
   ],
   "source": [
    "df['Restaurant Name']"
   ]
  },
  {
   "cell_type": "markdown",
   "id": "ac0d5833-c69f-4692-85aa-05ba9afbac09",
   "metadata": {},
   "source": [
    "# old junk"
   ]
  },
  {
   "cell_type": "markdown",
   "id": "2499ab37-88e7-422c-90ca-a932027c841e",
   "metadata": {
    "tags": []
   },
   "source": [
    "## 2015-2018 LA restaurant inspections"
   ]
  },
  {
   "cell_type": "markdown",
   "id": "d1aa11f9-cbfa-413b-9b90-2d76c88dc25c",
   "metadata": {
    "tags": []
   },
   "source": [
    "Found a 2015-2018 dataset at https://data.lacity.org/Community-Economic-Development/Restaurant-and-Market-Health-Inspections/29fd-3paw, exported as CSV file. Can also access json entries via their API."
   ]
  },
  {
   "cell_type": "code",
   "execution_count": 82,
   "id": "f865ec66-8060-4bdb-953d-d7ec6e5c84a0",
   "metadata": {},
   "outputs": [],
   "source": [
    "df = pd.read_csv('data/Los Angeles/Restaurant_and_Market_Health_Inspections.csv')"
   ]
  },
  {
   "cell_type": "code",
   "execution_count": 83,
   "id": "48905f8e-10b7-4a8a-a516-7a17b4a247f7",
   "metadata": {},
   "outputs": [
    {
     "data": {
      "text/plain": [
       "Index(['serial_number', 'activity_date', 'facility_name', 'score', 'grade',\n",
       "       'service_code', 'service_description', 'employee_id',\n",
       "       'facility_address', 'facility_city', 'facility_id', 'facility_state',\n",
       "       'facility_zip', 'owner_id', 'owner_name', 'pe_description',\n",
       "       'program_element_pe', 'program_name', 'program_status', 'record_id'],\n",
       "      dtype='object')"
      ]
     },
     "execution_count": 83,
     "metadata": {},
     "output_type": "execute_result"
    }
   ],
   "source": [
    "df.columns"
   ]
  },
  {
   "cell_type": "code",
   "execution_count": 84,
   "id": "75c23414-71a1-4ce1-a868-834ba669d7bc",
   "metadata": {},
   "outputs": [
    {
     "data": {
      "text/plain": [
       "0               3708 N EAGLE ROCK BLVD\n",
       "1                  100 WORLD WAY # 120\n",
       "2            6801 HOLLYWOOD BLVD # 253\n",
       "3                   1814 W SUNSET BLVD\n",
       "4                   2100 ECHO PARK AVE\n",
       "                     ...              \n",
       "67568    104 JAPANESE VILLAGE PLZ MALL\n",
       "67569           4050 W WASHINGTON BLVD\n",
       "67570                     4312 WALL ST\n",
       "67571               2012 SAWTELLE BLVD\n",
       "67572        3600 E CESAR E CHAVEZ AVE\n",
       "Name: facility_address, Length: 67573, dtype: object"
      ]
     },
     "execution_count": 84,
     "metadata": {},
     "output_type": "execute_result"
    }
   ],
   "source": [
    "df.facility_address"
   ]
  },
  {
   "cell_type": "code",
   "execution_count": 85,
   "id": "6e476b81-5d22-4ad0-89ce-cb9f095f035c",
   "metadata": {},
   "outputs": [],
   "source": [
    "df.activity_date = pd.to_datetime(df.activity_date)"
   ]
  },
  {
   "cell_type": "code",
   "execution_count": 86,
   "id": "b7fecccf-2669-4b79-a663-42bb21d1c78a",
   "metadata": {},
   "outputs": [
    {
     "name": "stdout",
     "output_type": "stream",
     "text": [
      "2015-07-01 00:00:00\n",
      "2018-07-31 00:00:00\n"
     ]
    }
   ],
   "source": [
    "print(min(df.activity_date))\n",
    "print(max(df.activity_date))"
   ]
  },
  {
   "cell_type": "code",
   "execution_count": 87,
   "id": "4c8e1439-fbb0-442c-9e12-de565e3bdeaa",
   "metadata": {},
   "outputs": [
    {
     "data": {
      "text/plain": [
       "12071"
      ]
     },
     "execution_count": 87,
     "metadata": {},
     "output_type": "execute_result"
    }
   ],
   "source": [
    "len(pd.unique(df.facility_name))"
   ]
  },
  {
   "cell_type": "code",
   "execution_count": 88,
   "id": "c9eae884-8142-47c6-b12a-62f2df0b633a",
   "metadata": {},
   "outputs": [
    {
     "data": {
      "text/html": [
       "<div>\n",
       "<style scoped>\n",
       "    .dataframe tbody tr th:only-of-type {\n",
       "        vertical-align: middle;\n",
       "    }\n",
       "\n",
       "    .dataframe tbody tr th {\n",
       "        vertical-align: top;\n",
       "    }\n",
       "\n",
       "    .dataframe thead tr th {\n",
       "        text-align: left;\n",
       "    }\n",
       "\n",
       "    .dataframe thead tr:last-of-type th {\n",
       "        text-align: right;\n",
       "    }\n",
       "</style>\n",
       "<table border=\"1\" class=\"dataframe\">\n",
       "  <thead>\n",
       "    <tr>\n",
       "      <th></th>\n",
       "      <th colspan=\"3\" halign=\"left\">score</th>\n",
       "    </tr>\n",
       "    <tr>\n",
       "      <th></th>\n",
       "      <th>min</th>\n",
       "      <th>mean</th>\n",
       "      <th>max</th>\n",
       "    </tr>\n",
       "    <tr>\n",
       "      <th>grade</th>\n",
       "      <th></th>\n",
       "      <th></th>\n",
       "      <th></th>\n",
       "    </tr>\n",
       "  </thead>\n",
       "  <tbody>\n",
       "    <tr>\n",
       "      <th></th>\n",
       "      <td>65</td>\n",
       "      <td>65.000000</td>\n",
       "      <td>65</td>\n",
       "    </tr>\n",
       "    <tr>\n",
       "      <th>A</th>\n",
       "      <td>90</td>\n",
       "      <td>94.087338</td>\n",
       "      <td>100</td>\n",
       "    </tr>\n",
       "    <tr>\n",
       "      <th>B</th>\n",
       "      <td>80</td>\n",
       "      <td>83.788204</td>\n",
       "      <td>89</td>\n",
       "    </tr>\n",
       "    <tr>\n",
       "      <th>C</th>\n",
       "      <td>64</td>\n",
       "      <td>74.048193</td>\n",
       "      <td>79</td>\n",
       "    </tr>\n",
       "  </tbody>\n",
       "</table>\n",
       "</div>"
      ],
      "text/plain": [
       "      score                \n",
       "        min       mean  max\n",
       "grade                      \n",
       "         65  65.000000   65\n",
       "A        90  94.087338  100\n",
       "B        80  83.788204   89\n",
       "C        64  74.048193   79"
      ]
     },
     "execution_count": 88,
     "metadata": {},
     "output_type": "execute_result"
    }
   ],
   "source": [
    "df[[\"score\",\"grade\"]].groupby('grade').agg({\"score\": [min, np.mean, max]})"
   ]
  },
  {
   "cell_type": "code",
   "execution_count": 97,
   "id": "57b6ca5a-a024-45bd-a0ea-4598c406e0a5",
   "metadata": {},
   "outputs": [
    {
     "data": {
      "text/plain": [
       "THE COFFEE BEAN & TEA LEAF    147\n",
       "BLUE BOTTLE COFFEE             32\n",
       "I LOVE BOBA                    27\n",
       "BOBA TIME                      23\n",
       "IT'S BOBA TIME                 22\n",
       "                             ... \n",
       "STARBUCKS COFFEE #5296          1\n",
       "HASHTAG#COFFEE&TEA              1\n",
       "FICKLE TEA LOUNGE               1\n",
       "ST VINCENT COFFEE SHOP          1\n",
       "MEDIDATE COFFEE                 1\n",
       "Name: facility_name, Length: 378, dtype: int64"
      ]
     },
     "execution_count": 97,
     "metadata": {},
     "output_type": "execute_result"
    }
   ],
   "source": [
    "df[df.facility_name.str.contains('BOBA|TEA|COFFEE')].facility_name.value_counts()"
   ]
  },
  {
   "cell_type": "code",
   "execution_count": 23,
   "id": "33fe397e-f14d-42b0-b325-67efec915e71",
   "metadata": {},
   "outputs": [
    {
     "data": {
      "text/plain": [
       "facility_name\n",
       "DODGER STADIUM           464\n",
       "STAPLES CENTER (LEVY)    290\n",
       "LA COLISEUM              225\n",
       "WHOLE FOODS MARKET       208\n",
       "SUBWAY                   155\n",
       "                        ... \n",
       "THE PIANO BAR              1\n",
       "ANZIO CAFE                 1\n",
       "FUEGO NIGHT CLUB           1\n",
       "QDOBA MEXICAN GRILL        1\n",
       "MARKS LIQUOR               1\n",
       "Length: 12071, dtype: int64"
      ]
     },
     "execution_count": 23,
     "metadata": {},
     "output_type": "execute_result"
    }
   ],
   "source": [
    "df.value_counts('facility_name')"
   ]
  },
  {
   "cell_type": "code",
   "execution_count": 26,
   "id": "9db7011a-0b2a-4af2-b359-9576512a6fa5",
   "metadata": {},
   "outputs": [
    {
     "data": {
      "text/plain": [
       "facility_id\n",
       "FA0019271    464\n",
       "FA0006427    290\n",
       "FA0065100    225\n",
       "FA0024180    117\n",
       "FA0156500    103\n",
       "            ... \n",
       "FA0247928      1\n",
       "FA0042091      1\n",
       "FA0163817      1\n",
       "FA0042050      1\n",
       "FA0262447      1\n",
       "Length: 13545, dtype: int64"
      ]
     },
     "execution_count": 26,
     "metadata": {},
     "output_type": "execute_result"
    }
   ],
   "source": [
    "df.value_counts('facility_id')"
   ]
  },
  {
   "cell_type": "code",
   "execution_count": 30,
   "id": "e85b15fb-08c3-473e-ba94-64320379a233",
   "metadata": {},
   "outputs": [
    {
     "data": {
      "text/plain": [
       "0         True\n",
       "1        False\n",
       "2        False\n",
       "3        False\n",
       "4        False\n",
       "         ...  \n",
       "67568    False\n",
       "67569    False\n",
       "67570    False\n",
       "67571    False\n",
       "67572    False\n",
       "Name: facility_address, Length: 67573, dtype: bool"
      ]
     },
     "execution_count": 30,
     "metadata": {},
     "output_type": "execute_result"
    }
   ],
   "source": [
    "df.facility_address == \"3708 N EAGLE ROCK BLVD\""
   ]
  },
  {
   "cell_type": "markdown",
   "id": "b71f605d-1fd7-47d9-94eb-fd5084faf908",
   "metadata": {
    "jp-MarkdownHeadingCollapsed": true,
    "tags": []
   },
   "source": [
    "## more recent LA restaurant inspections"
   ]
  },
  {
   "cell_type": "markdown",
   "id": "44acd81f-c2d8-42ca-bb62-0b76d3a8d91c",
   "metadata": {
    "tags": []
   },
   "source": [
    "More recent but smaller dataset at https://ehservices.publichealth.lacounty.gov/ezsearch"
   ]
  },
  {
   "cell_type": "code",
   "execution_count": 75,
   "id": "75b190be-9d19-4d03-942a-98f512de97a8",
   "metadata": {},
   "outputs": [],
   "source": [
    "columns = ['facility_name','inspection_date','score','facility_address','facility_city']\n",
    "df = pd.read_csv('inspections.csv',names=columns)\n",
    "# lots of restaurants without scores, weirdly\n",
    "df = df.dropna().reset_index(drop=True)"
   ]
  },
  {
   "cell_type": "code",
   "execution_count": 76,
   "id": "634ab646-12ab-4ff5-894d-ccd4a4079243",
   "metadata": {},
   "outputs": [
    {
     "data": {
      "text/plain": [
       "facility_address\n",
       "762 E SLAUSON AVE         222\n",
       "7782 SAN FERNANDO RD      145\n",
       "100 UNIVERSAL CITY PLZ    138\n",
       "1000 S PRAIRIE AVE        126\n",
       "1000 VIN SCULLY AVE       118\n",
       "                         ... \n",
       "18438 COLIMA RD 12          1\n",
       "18438 COLIMA RD #105        1\n",
       "18438 COLIMA # 1            1\n",
       "18434 DEVONSHIRE ST         1\n",
       "S VERMONT AVE               1\n",
       "Length: 35749, dtype: int64"
      ]
     },
     "execution_count": 76,
     "metadata": {},
     "output_type": "execute_result"
    }
   ],
   "source": [
    "df.value_counts('facility_address')"
   ]
  },
  {
   "cell_type": "markdown",
   "id": "481ad3b4-c553-4e28-b298-d851bfa5f631",
   "metadata": {},
   "source": [
    "lots of wrong addresses here... e.g., \"TAQUERIA SAN MIGUEL ESTILO TIJUANA\" is on Yelp at 1012 Hooper Ave ( https://www.yelp.com/biz/taqueria-san-miguel-los-angeles )"
   ]
  },
  {
   "cell_type": "code",
   "execution_count": 79,
   "id": "1fc366fd-2b54-422b-8d7a-36762c2b37c1",
   "metadata": {},
   "outputs": [
    {
     "data": {
      "text/html": [
       "<div>\n",
       "<style scoped>\n",
       "    .dataframe tbody tr th:only-of-type {\n",
       "        vertical-align: middle;\n",
       "    }\n",
       "\n",
       "    .dataframe tbody tr th {\n",
       "        vertical-align: top;\n",
       "    }\n",
       "\n",
       "    .dataframe thead th {\n",
       "        text-align: right;\n",
       "    }\n",
       "</style>\n",
       "<table border=\"1\" class=\"dataframe\">\n",
       "  <thead>\n",
       "    <tr style=\"text-align: right;\">\n",
       "      <th></th>\n",
       "      <th>facility_name</th>\n",
       "      <th>inspection_date</th>\n",
       "      <th>score</th>\n",
       "      <th>facility_address</th>\n",
       "      <th>facility_city</th>\n",
       "    </tr>\n",
       "  </thead>\n",
       "  <tbody>\n",
       "    <tr>\n",
       "      <th>172</th>\n",
       "      <td>TAQUERIA SAN MIGUEL ESTILO TIJUANA</td>\n",
       "      <td>2022-01-25</td>\n",
       "      <td>93.0</td>\n",
       "      <td>762 E SLAUSON AVE</td>\n",
       "      <td>LOS ANGELES</td>\n",
       "    </tr>\n",
       "    <tr>\n",
       "      <th>545</th>\n",
       "      <td>TACOS MR.HIDRO</td>\n",
       "      <td>2019-09-23</td>\n",
       "      <td>90.0</td>\n",
       "      <td>762 E SLAUSON AVE</td>\n",
       "      <td>LOS ANGELES</td>\n",
       "    </tr>\n",
       "    <tr>\n",
       "      <th>568</th>\n",
       "      <td>CELIA'S FOODS</td>\n",
       "      <td>2020-06-22</td>\n",
       "      <td>97.0</td>\n",
       "      <td>762 E SLAUSON AVE</td>\n",
       "      <td>LOS ANGELES</td>\n",
       "    </tr>\n",
       "    <tr>\n",
       "      <th>667</th>\n",
       "      <td>PALOMA CELESTIAL #2</td>\n",
       "      <td>2022-03-22</td>\n",
       "      <td>94.0</td>\n",
       "      <td>762 E SLAUSON AVE</td>\n",
       "      <td>LOS ANGELES</td>\n",
       "    </tr>\n",
       "    <tr>\n",
       "      <th>1111</th>\n",
       "      <td>LOS AMIGOS FOOD TRUCK</td>\n",
       "      <td>2022-02-24</td>\n",
       "      <td>90.0</td>\n",
       "      <td>762 E SLAUSON AVE</td>\n",
       "      <td>LOS ANGELES</td>\n",
       "    </tr>\n",
       "    <tr>\n",
       "      <th>...</th>\n",
       "      <td>...</td>\n",
       "      <td>...</td>\n",
       "      <td>...</td>\n",
       "      <td>...</td>\n",
       "      <td>...</td>\n",
       "    </tr>\n",
       "    <tr>\n",
       "      <th>44895</th>\n",
       "      <td>CHICKEN KING FT</td>\n",
       "      <td>2021-10-30</td>\n",
       "      <td>95.0</td>\n",
       "      <td>762 E SLAUSON AVE</td>\n",
       "      <td>LOS ANGELES</td>\n",
       "    </tr>\n",
       "    <tr>\n",
       "      <th>44918</th>\n",
       "      <td>ESPERANZA TACOS GRILL</td>\n",
       "      <td>2022-02-24</td>\n",
       "      <td>90.0</td>\n",
       "      <td>762 E SLAUSON AVE</td>\n",
       "      <td>LOS ANGELES</td>\n",
       "    </tr>\n",
       "    <tr>\n",
       "      <th>44929</th>\n",
       "      <td>TACOS LOS AMIGOS</td>\n",
       "      <td>2022-03-17</td>\n",
       "      <td>86.0</td>\n",
       "      <td>762 E SLAUSON AVE</td>\n",
       "      <td>LOS ANGELES</td>\n",
       "    </tr>\n",
       "    <tr>\n",
       "      <th>44938</th>\n",
       "      <td>GLENDA'S CATERING</td>\n",
       "      <td>2022-03-08</td>\n",
       "      <td>90.0</td>\n",
       "      <td>762 E SLAUSON AVE</td>\n",
       "      <td>LOS ANGELES</td>\n",
       "    </tr>\n",
       "    <tr>\n",
       "      <th>44946</th>\n",
       "      <td>TACO SAMSON</td>\n",
       "      <td>2022-03-01</td>\n",
       "      <td>96.0</td>\n",
       "      <td>762 E SLAUSON AVE</td>\n",
       "      <td>LOS ANGELES</td>\n",
       "    </tr>\n",
       "  </tbody>\n",
       "</table>\n",
       "<p>222 rows × 5 columns</p>\n",
       "</div>"
      ],
      "text/plain": [
       "                            facility_name inspection_date  score  \\\n",
       "172    TAQUERIA SAN MIGUEL ESTILO TIJUANA      2022-01-25   93.0   \n",
       "545                        TACOS MR.HIDRO      2019-09-23   90.0   \n",
       "568                         CELIA'S FOODS      2020-06-22   97.0   \n",
       "667                   PALOMA CELESTIAL #2      2022-03-22   94.0   \n",
       "1111                LOS AMIGOS FOOD TRUCK      2022-02-24   90.0   \n",
       "...                                   ...             ...    ...   \n",
       "44895                     CHICKEN KING FT      2021-10-30   95.0   \n",
       "44918               ESPERANZA TACOS GRILL      2022-02-24   90.0   \n",
       "44929                    TACOS LOS AMIGOS      2022-03-17   86.0   \n",
       "44938                   GLENDA'S CATERING      2022-03-08   90.0   \n",
       "44946                         TACO SAMSON      2022-03-01   96.0   \n",
       "\n",
       "        facility_address facility_city  \n",
       "172    762 E SLAUSON AVE   LOS ANGELES  \n",
       "545    762 E SLAUSON AVE   LOS ANGELES  \n",
       "568    762 E SLAUSON AVE   LOS ANGELES  \n",
       "667    762 E SLAUSON AVE   LOS ANGELES  \n",
       "1111   762 E SLAUSON AVE   LOS ANGELES  \n",
       "...                  ...           ...  \n",
       "44895  762 E SLAUSON AVE   LOS ANGELES  \n",
       "44918  762 E SLAUSON AVE   LOS ANGELES  \n",
       "44929  762 E SLAUSON AVE   LOS ANGELES  \n",
       "44938  762 E SLAUSON AVE   LOS ANGELES  \n",
       "44946  762 E SLAUSON AVE   LOS ANGELES  \n",
       "\n",
       "[222 rows x 5 columns]"
      ]
     },
     "execution_count": 79,
     "metadata": {},
     "output_type": "execute_result"
    }
   ],
   "source": [
    "# lots of wrong addresses here\n",
    "# e.g., \"TAQUERIA SAN MIGUEL ESTILO TIJUANA\" is on Yelp at \n",
    "df[df.facility_address == '762 E SLAUSON AVE']"
   ]
  },
  {
   "cell_type": "code",
   "execution_count": 36,
   "id": "54e4c3a1-17e9-4c42-b6c8-3b7be935dcff",
   "metadata": {},
   "outputs": [
    {
     "data": {
      "text/plain": [
       "Index(['ARIEL COURT APTS SPA POOL', '2020-01-31', 'Unnamed: 2',\n",
       "       '535 GAYLEY AVE ', 'LOS ANGELES'],\n",
       "      dtype='object')"
      ]
     },
     "execution_count": 36,
     "metadata": {},
     "output_type": "execute_result"
    }
   ],
   "source": [
    "df.columns"
   ]
  },
  {
   "cell_type": "code",
   "execution_count": 7,
   "id": "8c293385-5b76-4a97-9d73-904391544320",
   "metadata": {},
   "outputs": [
    {
     "data": {
      "text/plain": [
       "0               3708 N EAGLE ROCK BLVD\n",
       "1                  100 WORLD WAY # 120\n",
       "2            6801 HOLLYWOOD BLVD # 253\n",
       "3                   1814 W SUNSET BLVD\n",
       "4                   2100 ECHO PARK AVE\n",
       "                     ...              \n",
       "67568    104 JAPANESE VILLAGE PLZ MALL\n",
       "67569           4050 W WASHINGTON BLVD\n",
       "67570                     4312 WALL ST\n",
       "67571               2012 SAWTELLE BLVD\n",
       "67572        3600 E CESAR E CHAVEZ AVE\n",
       "Name: facility_address, Length: 67573, dtype: object"
      ]
     },
     "execution_count": 7,
     "metadata": {},
     "output_type": "execute_result"
    }
   ],
   "source": [
    "df.facility_address"
   ]
  },
  {
   "cell_type": "markdown",
   "id": "c7e9f416-60f2-4c9b-b728-01fe32495e7c",
   "metadata": {
    "tags": []
   },
   "source": [
    "## etc"
   ]
  },
  {
   "cell_type": "code",
   "execution_count": null,
   "id": "b69e8744-9881-4b0f-986d-caa4a72fd6bd",
   "metadata": {},
   "outputs": [],
   "source": []
  }
 ],
 "metadata": {
  "kernelspec": {
   "display_name": "Python 3 (ipykernel)",
   "language": "python",
   "name": "python3"
  },
  "language_info": {
   "codemirror_mode": {
    "name": "ipython",
    "version": 3
   },
   "file_extension": ".py",
   "mimetype": "text/x-python",
   "name": "python",
   "nbconvert_exporter": "python",
   "pygments_lexer": "ipython3",
   "version": "3.9.7"
  }
 },
 "nbformat": 4,
 "nbformat_minor": 5
}
