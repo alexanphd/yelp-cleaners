{
 "cells": [
  {
   "cell_type": "markdown",
   "id": "0f1698f4-eec8-4586-a402-3cd8beb08be9",
   "metadata": {
    "tags": []
   },
   "source": [
    "# import"
   ]
  },
  {
   "cell_type": "code",
   "execution_count": 1,
   "id": "cc912897-ec12-4b9e-b65f-153a44f00e89",
   "metadata": {
    "tags": []
   },
   "outputs": [],
   "source": [
    "%matplotlib inline\n",
    "import pandas as pd\n",
    "import numpy as np\n",
    "import matplotlib.pyplot as plt\n",
    "import re, scipy, math, sklearn\n",
    "import pickle as pkl\n",
    "\n",
    "data_directory = '/data'\n",
    "processed_data_directory = r'data/processed data/'\n",
    "model_directory = r'data/models/'\n",
    "review_model_directory = r'data/models/review_model/'\n",
    "agg_model_directory = r'data/models/aggregate_model/'\n",
    "\n",
    "import spacy\n",
    "nlp = spacy.load(\"en_core_web_sm\")\n",
    "from spacy.lang.en.stop_words import STOP_WORDS\n",
    "STOP_WORDS = STOP_WORDS.union({'ll', 've'})\n",
    "\n",
    "def a_lemmatizer(doc):\n",
    "    doc_cleaned = ' '.join(re.findall(r'\\b\\w[\\w\\']+\\b', doc))\n",
    "    return [ w.lemma_.lower() for w in nlp(doc_cleaned) \n",
    "                      if (w.lemma_ not in ['_', '.']) and (w.pos_ not in ['PRON','DET','NUM','AUX','ADP']) ]"
   ]
  },
  {
   "cell_type": "code",
   "execution_count": 2,
   "id": "52073161-3416-4f9d-b820-5fc838a77e87",
   "metadata": {},
   "outputs": [],
   "source": [
    "from sklearn.base import BaseEstimator, RegressorMixin, TransformerMixin\n",
    "from sklearn.compose import ColumnTransformer\n",
    "from sklearn.pipeline import Pipeline\n",
    "from sklearn.feature_extraction.text import CountVectorizer, TfidfVectorizer, TfidfTransformer, HashingVectorizer\n",
    "from sklearn.utils import shuffle\n",
    "from sklearn.model_selection import cross_val_score, GridSearchCV, train_test_split\n",
    "from sklearn.linear_model import Ridge, LinearRegression, SGDRegressor, LogisticRegression\n",
    "from sklearn import datasets, tree, utils\n",
    "from sklearn import model_selection, ensemble\n",
    "from sklearn.decomposition import TruncatedSVD\n",
    "from sklearn.metrics import r2_score\n",
    "from gensim.models import Word2Vec\n",
    "from gensim.utils import simple_preprocess\n",
    "from sklearn.preprocessing import MinMaxScaler\n",
    "from sklearn.naive_bayes import MultinomialNB, GaussianNB"
   ]
  },
  {
   "cell_type": "code",
   "execution_count": 3,
   "id": "10ce7756-45b3-4125-8d0e-66582c3f69f1",
   "metadata": {},
   "outputs": [],
   "source": [
    "import gensim.parsing.preprocessing as gsp"
   ]
  },
  {
   "cell_type": "code",
   "execution_count": 4,
   "id": "03f1b98a-b38b-4b74-ad03-1a647b63e7d8",
   "metadata": {},
   "outputs": [],
   "source": [
    "# this file contains get_reviews, which queries the Yelp API to get a business ID and matches that with reviews from the academic dataset\n",
    "import yelp_query"
   ]
  },
  {
   "cell_type": "code",
   "execution_count": 5,
   "id": "3b8d669e-d626-4cb1-8916-af00e2fbfaaf",
   "metadata": {},
   "outputs": [],
   "source": [
    "## clean up text\n",
    "STOP_WORDS = STOP_WORDS.union({'ll', 've','it\\'d','s','d','itd','m','nt','im','ive'}) # there's probably a better way to do this\n",
    "\n",
    "def text_cleaner(s):\n",
    "    # s = ' '.join(w.lemma_ for w in nlp(s) if not w.is_stop) # remove stop words and lemmatize\n",
    "    s = re.sub('<[^<]+?>', '', s) # remove tags\n",
    "    s = re.sub('[^a-z\\s\\n]', '', s.lower())\n",
    "    # gensim is a lot faster than spacy\n",
    "    s = gsp.remove_stopwords(s)\n",
    "    # s = gsp.stem_text(s)\n",
    "    s = re.sub(\"\\s+\",\" \",s) # remove extra whitespace\n",
    "    # s = s.strip()\n",
    "    return s.split()"
   ]
  },
  {
   "cell_type": "code",
   "execution_count": 6,
   "id": "34328e22-a9a0-40c8-9f1b-7b6f0224e4a3",
   "metadata": {},
   "outputs": [],
   "source": [
    "def stderr(col):\n",
    "    return np.std(col)/len(col)"
   ]
  },
  {
   "cell_type": "code",
   "execution_count": 7,
   "id": "6034f3a9-2ecd-4287-97bc-06fdd13f4a04",
   "metadata": {},
   "outputs": [],
   "source": [
    "features = {}\n",
    "review_model = {}\n",
    "aggregate_model = {}"
   ]
  },
  {
   "cell_type": "code",
   "execution_count": 8,
   "id": "39cac207-d774-4d93-9b00-be8428e5fe00",
   "metadata": {},
   "outputs": [],
   "source": [
    "# supervised model with tfidf + ridge\n",
    "key = 'supervised'\n",
    "features[key] = pkl.load(open(review_model_directory + 'supervised_features.pkl', 'rb'))\n",
    "review_model[key] = pkl.load(open(review_model_directory + 'supervised_model_ridge.pkl', 'rb'))\n",
    "aggregate_model[key] = pkl.load(open(agg_model_directory + 'supervised_model_GBtree.pkl', 'rb'))"
   ]
  },
  {
   "cell_type": "markdown",
   "id": "9665bbb2-72a5-4b12-8921-7aa461473ed8",
   "metadata": {},
   "source": [
    "# overview"
   ]
  },
  {
   "cell_type": "markdown",
   "id": "551e2244-f15b-4f56-b24b-bded6c7e2705",
   "metadata": {},
   "source": [
    "This notebook imports individual review models from the review_model notebook, and then builds a supervised learning model that predicts restaurant inspection scores."
   ]
  },
  {
   "cell_type": "code",
   "execution_count": 297,
   "id": "dca13767-ff61-4b05-9228-c340906dab92",
   "metadata": {},
   "outputs": [],
   "source": [
    "df = pd.read_csv(processed_data_directory + 'reviews_nearest_score_no_limit_df.csv')\n",
    "# df = pd.read_csv(processed_data_directory + 'reviews_nearest_score_2_years_df.csv')"
   ]
  },
  {
   "cell_type": "code",
   "execution_count": 298,
   "id": "ca84040f-05a0-41b1-8234-472a94bfb4b0",
   "metadata": {},
   "outputs": [],
   "source": [
    "reviews = np.array(df['text'])\n",
    "scores = np.array(df['Score'])\n",
    "X, y = reviews, scores\n",
    "roundby = 1\n",
    "y = np.array(list(map(lambda x: math.ceil(x / roundby) * roundby,y)))"
   ]
  },
  {
   "cell_type": "markdown",
   "id": "1c3c8141-9baf-4f02-a5a1-507cbf0046e6",
   "metadata": {
    "tags": []
   },
   "source": [
    "# supervised review model"
   ]
  },
  {
   "cell_type": "markdown",
   "id": "7e577359-eceb-496e-a7a0-810ec6fde2dd",
   "metadata": {
    "jp-MarkdownHeadingCollapsed": true,
    "tags": []
   },
   "source": [
    "## feature engineering"
   ]
  },
  {
   "cell_type": "markdown",
   "id": "44d70467-fd26-4415-90ce-cdaca37c95f6",
   "metadata": {},
   "source": [
    "first apply individual review model to get scores"
   ]
  },
  {
   "cell_type": "code",
   "execution_count": 299,
   "id": "03581c6b-2431-4d61-95ac-4e8ffec6efdd",
   "metadata": {},
   "outputs": [
    {
     "name": "stdout",
     "output_type": "stream",
     "text": [
      "CPU times: total: 39.6 s\n",
      "Wall time: 39.7 s\n"
     ]
    }
   ],
   "source": [
    "%%time\n",
    "key = 'supervised'\n",
    "X_out = features[key].transform(X)"
   ]
  },
  {
   "cell_type": "code",
   "execution_count": 302,
   "id": "9b4456e9-984f-43fa-a831-1eb08e33fc3a",
   "metadata": {},
   "outputs": [
    {
     "name": "stdout",
     "output_type": "stream",
     "text": [
      "CPU times: total: 188 ms\n",
      "Wall time: 178 ms\n"
     ]
    }
   ],
   "source": [
    "%%time\n",
    "y_predict = review_model[key].predict(X_out)"
   ]
  },
  {
   "cell_type": "code",
   "execution_count": 303,
   "id": "70ff6ec9-8fb4-4bfa-8299-c54462ebc835",
   "metadata": {},
   "outputs": [],
   "source": [
    "df['predict'] = y_predict"
   ]
  },
  {
   "cell_type": "code",
   "execution_count": 304,
   "id": "d66348f8-58ce-4b1f-bde2-adf147cf5f2d",
   "metadata": {},
   "outputs": [],
   "source": [
    "def stderr(col):\n",
    "    return np.std(col)/len(col)"
   ]
  },
  {
   "cell_type": "code",
   "execution_count": 305,
   "id": "09d83640-17ea-46bb-b85e-56abe9d15049",
   "metadata": {},
   "outputs": [
    {
     "data": {
      "text/html": [
       "<div>\n",
       "<style scoped>\n",
       "    .dataframe tbody tr th:only-of-type {\n",
       "        vertical-align: middle;\n",
       "    }\n",
       "\n",
       "    .dataframe tbody tr th {\n",
       "        vertical-align: top;\n",
       "    }\n",
       "\n",
       "    .dataframe thead th {\n",
       "        text-align: right;\n",
       "    }\n",
       "</style>\n",
       "<table border=\"1\" class=\"dataframe\">\n",
       "  <thead>\n",
       "    <tr style=\"text-align: right;\">\n",
       "      <th></th>\n",
       "      <th>Score</th>\n",
       "      <th>Mean</th>\n",
       "      <th>Stderr</th>\n",
       "      <th>Min</th>\n",
       "      <th>Median</th>\n",
       "      <th>num_reviews</th>\n",
       "    </tr>\n",
       "  </thead>\n",
       "  <tbody>\n",
       "    <tr>\n",
       "      <th>0</th>\n",
       "      <td>93.0</td>\n",
       "      <td>91.379105</td>\n",
       "      <td>0.020360</td>\n",
       "      <td>87.988362</td>\n",
       "      <td>90.967743</td>\n",
       "      <td>91</td>\n",
       "    </tr>\n",
       "    <tr>\n",
       "      <th>1</th>\n",
       "      <td>95.0</td>\n",
       "      <td>91.320661</td>\n",
       "      <td>0.000000</td>\n",
       "      <td>91.320661</td>\n",
       "      <td>91.320661</td>\n",
       "      <td>1</td>\n",
       "    </tr>\n",
       "    <tr>\n",
       "      <th>2</th>\n",
       "      <td>98.0</td>\n",
       "      <td>92.186624</td>\n",
       "      <td>0.000000</td>\n",
       "      <td>92.186624</td>\n",
       "      <td>92.186624</td>\n",
       "      <td>1</td>\n",
       "    </tr>\n",
       "    <tr>\n",
       "      <th>3</th>\n",
       "      <td>86.0</td>\n",
       "      <td>92.869167</td>\n",
       "      <td>0.002717</td>\n",
       "      <td>88.227881</td>\n",
       "      <td>92.824660</td>\n",
       "      <td>551</td>\n",
       "    </tr>\n",
       "    <tr>\n",
       "      <th>4</th>\n",
       "      <td>95.0</td>\n",
       "      <td>92.163089</td>\n",
       "      <td>0.395256</td>\n",
       "      <td>90.047656</td>\n",
       "      <td>91.216008</td>\n",
       "      <td>5</td>\n",
       "    </tr>\n",
       "    <tr>\n",
       "      <th>...</th>\n",
       "      <td>...</td>\n",
       "      <td>...</td>\n",
       "      <td>...</td>\n",
       "      <td>...</td>\n",
       "      <td>...</td>\n",
       "      <td>...</td>\n",
       "    </tr>\n",
       "    <tr>\n",
       "      <th>6612</th>\n",
       "      <td>100.0</td>\n",
       "      <td>92.759395</td>\n",
       "      <td>0.036638</td>\n",
       "      <td>89.316466</td>\n",
       "      <td>92.704302</td>\n",
       "      <td>41</td>\n",
       "    </tr>\n",
       "    <tr>\n",
       "      <th>6613</th>\n",
       "      <td>84.0</td>\n",
       "      <td>90.026736</td>\n",
       "      <td>0.087034</td>\n",
       "      <td>88.071984</td>\n",
       "      <td>90.173916</td>\n",
       "      <td>15</td>\n",
       "    </tr>\n",
       "    <tr>\n",
       "      <th>6614</th>\n",
       "      <td>93.0</td>\n",
       "      <td>89.473153</td>\n",
       "      <td>0.012523</td>\n",
       "      <td>86.657407</td>\n",
       "      <td>89.391402</td>\n",
       "      <td>99</td>\n",
       "    </tr>\n",
       "    <tr>\n",
       "      <th>6615</th>\n",
       "      <td>100.0</td>\n",
       "      <td>91.233532</td>\n",
       "      <td>0.006366</td>\n",
       "      <td>88.082946</td>\n",
       "      <td>91.153008</td>\n",
       "      <td>175</td>\n",
       "    </tr>\n",
       "    <tr>\n",
       "      <th>6616</th>\n",
       "      <td>96.0</td>\n",
       "      <td>92.448473</td>\n",
       "      <td>0.337887</td>\n",
       "      <td>90.156153</td>\n",
       "      <td>91.838203</td>\n",
       "      <td>6</td>\n",
       "    </tr>\n",
       "  </tbody>\n",
       "</table>\n",
       "<p>6617 rows × 6 columns</p>\n",
       "</div>"
      ],
      "text/plain": [
       "      Score       Mean    Stderr        Min     Median  num_reviews\n",
       "0      93.0  91.379105  0.020360  87.988362  90.967743           91\n",
       "1      95.0  91.320661  0.000000  91.320661  91.320661            1\n",
       "2      98.0  92.186624  0.000000  92.186624  92.186624            1\n",
       "3      86.0  92.869167  0.002717  88.227881  92.824660          551\n",
       "4      95.0  92.163089  0.395256  90.047656  91.216008            5\n",
       "...     ...        ...       ...        ...        ...          ...\n",
       "6612  100.0  92.759395  0.036638  89.316466  92.704302           41\n",
       "6613   84.0  90.026736  0.087034  88.071984  90.173916           15\n",
       "6614   93.0  89.473153  0.012523  86.657407  89.391402           99\n",
       "6615  100.0  91.233532  0.006366  88.082946  91.153008          175\n",
       "6616   96.0  92.448473  0.337887  90.156153  91.838203            6\n",
       "\n",
       "[6617 rows x 6 columns]"
      ]
     },
     "execution_count": 305,
     "metadata": {},
     "output_type": "execute_result"
    }
   ],
   "source": [
    "# build the feature matrix\n",
    "fm = df.groupby(['business_id','Score']).agg(\n",
    "    Mean = ('predict', np.mean),\n",
    "    Stderr = ('predict', stderr),\n",
    "    Min = ('predict', np.min),\n",
    "    Median = ('predict', 'median'),\n",
    "    num_reviews = ('review_id', 'count')\n",
    ").reset_index().drop('business_id',axis=1)\n",
    "fm"
   ]
  },
  {
   "cell_type": "code",
   "execution_count": 306,
   "id": "c04eb9f5-ebe5-4874-ab4e-75ad3e977846",
   "metadata": {},
   "outputs": [],
   "source": [
    "X = fm.drop('Score',axis=1)\n",
    "y = fm['Score']"
   ]
  },
  {
   "cell_type": "code",
   "execution_count": 307,
   "id": "1b09c65d-33e4-4714-ac97-3e036d80dcbc",
   "metadata": {},
   "outputs": [
    {
     "data": {
      "image/png": "[encoded data removed]",
      "text/plain": [
       "<Figure size 432x288 with 1 Axes>"
      ]
     },
     "metadata": {
      "needs_background": "light"
     },
     "output_type": "display_data"
    }
   ],
   "source": [
    "fig = plt.figure(1)\n",
    "plt.scatter(X['num_reviews'],y)\n",
    "plt.show()"
   ]
  },
  {
   "cell_type": "markdown",
   "id": "15a50d4f-1c14-42f2-a805-b99228c93da5",
   "metadata": {
    "jp-MarkdownHeadingCollapsed": true,
    "tags": []
   },
   "source": [
    "## regressor"
   ]
  },
  {
   "cell_type": "code",
   "execution_count": 308,
   "id": "17832ad9-af6d-46fd-961a-fea96b3020b8",
   "metadata": {},
   "outputs": [],
   "source": [
    "X_shuff, y_shuff = shuffle(X, y, random_state=42)\n",
    "X_train, X_test, y_train, y_test = train_test_split(X_shuff, y_shuff, test_size=0.2,random_state=42)"
   ]
  },
  {
   "cell_type": "code",
   "execution_count": 309,
   "id": "6fc4d437-a830-4eb2-8634-448480d8d27d",
   "metadata": {
    "tags": []
   },
   "outputs": [],
   "source": [
    "def test_regressor(regressor,print_R2=True,\n",
    "                   residual_hist=False,predictions_hist=False,scatter_plot=True):\n",
    "    regressor.fit(X_train,y_train)\n",
    "    if print_R2:\n",
    "        print(f'R^2 score: {regressor.score(X_test, y_test)}')\n",
    "    y_predict = regressor.predict(X_test)\n",
    "    if residual_hist:\n",
    "        fig = plt.figure(1)\n",
    "        plt.hist(y_predict-y_test,bins=30,alpha=0.5);\n",
    "        plt.show()\n",
    "    if predictions_hist:\n",
    "        fig = plt.figure(2)\n",
    "        plt.hist(y_predict,bins=30,alpha=0.5)\n",
    "        plt.hist(y_test,bins=30,alpha=0.5)\n",
    "        plt.show()\n",
    "    if scatter_plot:\n",
    "        fig = plt.figure(3)\n",
    "        plt.scatter(y_test,y_predict)"
   ]
  },
  {
   "cell_type": "code",
   "execution_count": 315,
   "id": "e1545112-06d4-4fae-acf0-4f0447a72763",
   "metadata": {},
   "outputs": [
    {
     "name": "stdout",
     "output_type": "stream",
     "text": [
      "R^2 score: 0.1984466942118185\n",
      "CPU times: total: 15.6 ms\n",
      "Wall time: 11 ms\n"
     ]
    },
    {
     "data": {
      "image/png": "[encoded data removed]",
      "text/plain": [
       "<Figure size 432x288 with 1 Axes>"
      ]
     },
     "metadata": {
      "needs_background": "light"
     },
     "output_type": "display_data"
    }
   ],
   "source": [
    "%%time\n",
    "regressor = Ridge(alpha=10)\n",
    "test_regressor(regressor)"
   ]
  },
  {
   "cell_type": "code",
   "execution_count": 314,
   "id": "6d3dfb6e-511e-41d6-8baf-8c90de3b5c25",
   "metadata": {
    "tags": []
   },
   "outputs": [
    {
     "name": "stdout",
     "output_type": "stream",
     "text": [
      "CPU times: total: 31.2 ms\n",
      "Wall time: 39 ms\n"
     ]
    },
    {
     "data": {
      "text/plain": [
       "{'alpha': 10}"
      ]
     },
     "execution_count": 314,
     "metadata": {},
     "output_type": "execute_result"
    }
   ],
   "source": [
    "%%time\n",
    "parameters = {\n",
    "    'alpha': [0.01,0.1,1,10]\n",
    "}\n",
    "gs = GridSearchCV(regressor, parameters)\n",
    "gs.fit(X_test,y_test)\n",
    "gs.best_params_"
   ]
  },
  {
   "cell_type": "code",
   "execution_count": 322,
   "id": "5abe74b1-9fbe-4684-91ad-147711b57c75",
   "metadata": {},
   "outputs": [
    {
     "name": "stdout",
     "output_type": "stream",
     "text": [
      "R^2 score: 0.2149223841959319\n",
      "CPU times: total: 1.61 s\n",
      "Wall time: 478 ms\n"
     ]
    },
    {
     "data": {
      "image/png": "[encoded data removed]",
      "text/plain": [
       "<Figure size 432x288 with 1 Axes>"
      ]
     },
     "metadata": {
      "needs_background": "light"
     },
     "output_type": "display_data"
    }
   ],
   "source": [
    "%%time\n",
    "regressor = ensemble.RandomForestRegressor(max_depth=3, n_estimators=500,\n",
    "                                           min_samples_split=2, min_samples_leaf=20,\n",
    "                                           n_jobs=-1)\n",
    "test_regressor(regressor)"
   ]
  },
  {
   "cell_type": "code",
   "execution_count": 323,
   "id": "f1cd7625-9e8c-48e5-bb91-7f327fa1580a",
   "metadata": {
    "tags": []
   },
   "outputs": [
    {
     "name": "stdout",
     "output_type": "stream",
     "text": [
      "CPU times: total: 7.38 s\n",
      "Wall time: 6.95 s\n"
     ]
    },
    {
     "data": {
      "text/plain": [
       "{'max_depth': 3}"
      ]
     },
     "execution_count": 323,
     "metadata": {},
     "output_type": "execute_result"
    }
   ],
   "source": [
    "%%time\n",
    "parameters = {\n",
    "    # 'max_depth': [2,3,4,5,6],\n",
    "    # 'min_samples_split': [2,3,5,10,20],\n",
    "    # 'min_samples_leaf': [2,5,10,20]\n",
    "}\n",
    "gs = GridSearchCV(regressor, parameters)\n",
    "gs.fit(X_test,y_test)\n",
    "gs.best_params_"
   ]
  },
  {
   "cell_type": "code",
   "execution_count": 367,
   "id": "a45ec7e0-53ef-4738-b2ed-6610279afd87",
   "metadata": {},
   "outputs": [
    {
     "name": "stdout",
     "output_type": "stream",
     "text": [
      "R^2 score: 0.2212723413894\n",
      "CPU times: total: 188 ms\n",
      "Wall time: 187 ms\n"
     ]
    },
    {
     "data": {
      "image/png": "[encoded data removed]",
      "text/plain": [
       "<Figure size 432x288 with 1 Axes>"
      ]
     },
     "metadata": {
      "needs_background": "light"
     },
     "output_type": "display_data"
    }
   ],
   "source": [
    "%%time\n",
    "regressor = ensemble.GradientBoostingRegressor(max_depth=1, n_estimators=100,\n",
    "                                               min_samples_split=2, min_samples_leaf=20)\n",
    "test_regressor(regressor)"
   ]
  },
  {
   "cell_type": "code",
   "execution_count": 365,
   "id": "7805a0a2-aad9-476d-8aa4-535e8481df26",
   "metadata": {
    "tags": []
   },
   "outputs": [
    {
     "name": "stdout",
     "output_type": "stream",
     "text": [
      "CPU times: total: 828 ms\n",
      "Wall time: 838 ms\n"
     ]
    },
    {
     "data": {
      "text/plain": [
       "{'min_samples_leaf': 20}"
      ]
     },
     "execution_count": 365,
     "metadata": {},
     "output_type": "execute_result"
    }
   ],
   "source": [
    "%%time\n",
    "parameters = {\n",
    "    # 'max_depth': [1,2,3,4,5,6],\n",
    "    # 'min_samples_split': [5,15,20],\n",
    "    'min_samples_leaf': [10,20,50,100]\n",
    "}\n",
    "gs = GridSearchCV(regressor, parameters)\n",
    "gs.fit(X_test,y_test)\n",
    "gs.best_params_"
   ]
  },
  {
   "cell_type": "code",
   "execution_count": 368,
   "id": "8e642c32-755c-4e65-86af-833e70ce2eb2",
   "metadata": {},
   "outputs": [],
   "source": [
    "filename = agg_model_directory + 'supervised_model_GBtree.pkl'\n",
    "pkl.dump(regressor, open(filename,'wb'))"
   ]
  },
  {
   "cell_type": "markdown",
   "id": "dfa960c3-568a-47f8-8e74-052b71dcb9b7",
   "metadata": {
    "jp-MarkdownHeadingCollapsed": true,
    "tags": []
   },
   "source": [
    "## overall pipeline"
   ]
  },
  {
   "cell_type": "code",
   "execution_count": 369,
   "id": "4181e7d7-81ea-4f61-87ad-b29fd1e214ca",
   "metadata": {},
   "outputs": [],
   "source": [
    "features = {}\n",
    "review_model = {}\n",
    "aggregate_model = {}"
   ]
  },
  {
   "cell_type": "code",
   "execution_count": 370,
   "id": "85eb0b0e-1e07-466c-808a-98aaa8c06ebd",
   "metadata": {},
   "outputs": [],
   "source": [
    "# supervised model with tfidf + ridge\n",
    "key = 'supervised'\n",
    "features[key] = pkl.load(open(review_model_directory + 'supervised_features.pkl', 'rb'))\n",
    "review_model[key] = pkl.load(open(review_model_directory + 'supervised_model_ridge.pkl', 'rb'))\n",
    "aggregate_model[key] = pkl.load(open(agg_model_directory + 'supervised_model_GBtree.pkl', 'rb'))"
   ]
  },
  {
   "cell_type": "code",
   "execution_count": 371,
   "id": "21f2f1be-71dc-4403-bf6c-c2524b3b31e4",
   "metadata": {},
   "outputs": [
    {
     "name": "stdout",
     "output_type": "stream",
     "text": [
      "Business found: Super Bowl\n"
     ]
    }
   ],
   "source": [
    "reviews = yelp_query.get_reviews(name = \"Super Bowl\", address=\"719 W William Cannon Dr Ste 103\")"
   ]
  },
  {
   "cell_type": "code",
   "execution_count": 373,
   "id": "9efc144a-75cd-42c0-92d1-5f94b1e894a2",
   "metadata": {},
   "outputs": [
    {
     "name": "stdout",
     "output_type": "stream",
     "text": [
      "CPU times: total: 31.2 ms\n",
      "Wall time: 23 ms\n"
     ]
    }
   ],
   "source": [
    "%%time\n",
    "key = 'supervised'\n",
    "X_out = features[key].transform(reviews)\n",
    "y_predict = review_model[key].predict(X_out)"
   ]
  },
  {
   "cell_type": "code",
   "execution_count": 374,
   "id": "06d256f4-5fcf-4c32-9f9c-4ad7240036d3",
   "metadata": {},
   "outputs": [
    {
     "data": {
      "text/html": [
       "<div>\n",
       "<style scoped>\n",
       "    .dataframe tbody tr th:only-of-type {\n",
       "        vertical-align: middle;\n",
       "    }\n",
       "\n",
       "    .dataframe tbody tr th {\n",
       "        vertical-align: top;\n",
       "    }\n",
       "\n",
       "    .dataframe thead th {\n",
       "        text-align: right;\n",
       "    }\n",
       "</style>\n",
       "<table border=\"1\" class=\"dataframe\">\n",
       "  <thead>\n",
       "    <tr style=\"text-align: right;\">\n",
       "      <th></th>\n",
       "      <th>Mean</th>\n",
       "      <th>Stderr</th>\n",
       "      <th>Min</th>\n",
       "      <th>Median</th>\n",
       "      <th>num_reviews</th>\n",
       "    </tr>\n",
       "  </thead>\n",
       "  <tbody>\n",
       "    <tr>\n",
       "      <th>predict</th>\n",
       "      <td>85.226818</td>\n",
       "      <td>0.013073</td>\n",
       "      <td>75.930436</td>\n",
       "      <td>85.507684</td>\n",
       "      <td>222.0</td>\n",
       "    </tr>\n",
       "  </tbody>\n",
       "</table>\n",
       "</div>"
      ],
      "text/plain": [
       "              Mean    Stderr        Min     Median  num_reviews\n",
       "predict  85.226818  0.013073  75.930436  85.507684        222.0"
      ]
     },
     "execution_count": 374,
     "metadata": {},
     "output_type": "execute_result"
    }
   ],
   "source": [
    "df = pd.DataFrame({})\n",
    "df['predict'] = y_predict\n",
    "fm = df.agg(\n",
    "    Mean = ('predict', np.mean),\n",
    "    Stderr = ('predict', stderr),\n",
    "    Min = ('predict', np.min),\n",
    "    Median = ('predict', 'median'),\n",
    "    num_reviews = ('predict', 'count')\n",
    ").T\n",
    "fm"
   ]
  },
  {
   "cell_type": "code",
   "execution_count": 375,
   "id": "7779a7ca-6059-47b3-ab1f-ccf4e773361b",
   "metadata": {},
   "outputs": [
    {
     "data": {
      "text/plain": [
       "array([82.98834138])"
      ]
     },
     "execution_count": 375,
     "metadata": {},
     "output_type": "execute_result"
    }
   ],
   "source": [
    "aggregate_model[key].predict(fm)"
   ]
  },
  {
   "cell_type": "markdown",
   "id": "050e2470-46ca-4a57-aece-0caecc5bf5ca",
   "metadata": {
    "jp-MarkdownHeadingCollapsed": true,
    "tags": []
   },
   "source": [
    "## final output"
   ]
  },
  {
   "cell_type": "code",
   "execution_count": 13,
   "id": "c5ac414d-24c5-43a9-bfe8-cef5a665d196",
   "metadata": {},
   "outputs": [],
   "source": [
    "def get_cleanliness_score(reviews, key='supervised'):\n",
    "    # apply individual review model\n",
    "    X_out = features[key].transform(reviews)\n",
    "    y_predict = review_model[key].predict(X_out)\n",
    "    # build aggregate features\n",
    "    df = pd.DataFrame({})\n",
    "    df['predict'] = y_predict\n",
    "    fm = df.agg(\n",
    "        Mean = ('predict', np.mean),\n",
    "        Stderr = ('predict', stderr),\n",
    "        Min = ('predict', np.min),\n",
    "        Median = ('predict', 'median'),\n",
    "        num_reviews = ('predict', 'count')\n",
    "    ).T\n",
    "    # apply aggregate models\n",
    "    return aggregate_model[key].predict(fm)[0]"
   ]
  },
  {
   "cell_type": "code",
   "execution_count": 28,
   "id": "cacae333-0c73-4e8c-b203-e972b31f85ff",
   "metadata": {},
   "outputs": [
    {
     "name": "stdout",
     "output_type": "stream",
     "text": [
      "Business found: Super Bowl\n",
      "The Super Bowl is supposed to be an exciting, fun experience for the whole family. Yet, the only similarity between the actual Super Bowl and this restaurant would be the taste of the players' jock straps. \n",
      "\n",
      "Okay, that may be a little gross, but I am serious when I say that Super Bowl is a bastardization of everything good about Chinese food. \n",
      "\n",
      "As you walk into the restaurant, you are immediately off put by the hideous decor, or lack-thereof. Insufferable faded white walls are plagued by tacky paintings while filthy, outdated tables line the floors.\n",
      "\n",
      "It is a cafeteria style restaurant off of William Cannon, and the food is just awful. I had a orange chicken, and it was a far cry from any version of orange chicken that I have ever had. It was greasy and salty on the outside, and dry on the inside; a combination I never thought could be achieved.\n",
      "\n",
      "The only reason this greasy spoon isn't a one star review is the staff on hand. They were very nice and attentive, even as they shoveled out the horrible comestibles. Do your immune system a favor, and skip out on this Super Bowl.\n"
     ]
    },
    {
     "data": {
      "text/plain": [
       "83.3319173425126"
      ]
     },
     "execution_count": 28,
     "metadata": {},
     "output_type": "execute_result"
    }
   ],
   "source": [
    "reviews = yelp_query.get_reviews(name = \"Super Bowl\", address=\"719 W Cannon Blvd\")\n",
    "print(reviews[0])\n",
    "get_cleanliness_score(reviews, 'supervised')"
   ]
  },
  {
   "cell_type": "code",
   "execution_count": 29,
   "id": "8efcd12e-71d1-41ce-ab72-20f031e6d359",
   "metadata": {},
   "outputs": [
    {
     "name": "stdout",
     "output_type": "stream",
     "text": [
      "Business found: Kung Fu Tea\n",
      "I've been waiting for this location to open for over half a year! Imagine my excitement when I drove by a week before their grand opening and saw lights on inside! My friends and I ran out of the car, saw the opened door, and met the owners who were setting up for a private event later in the day. \n",
      "\n",
      "The owners, Calvin and Howard, were super friendly! Even though it was meant to be a private event for friends & family, they invited us to return later in the day to help the staff train! It also meant free boba!! The staff here in general were all very friendly as well! \n",
      "\n",
      "I hate to say this, but this Kung Fu has better boba and tea than the other location. The boba here is much softer and sweeter, which is closer to my preferred boba texture. I ordered the Oolong Milk tea, and I could actually taste the Oolong! At the campus one, the oolong flavor was very weak. \n",
      "\n",
      "The interior is very industrial chic. There are also plenty of tables and chairs for those who like to study and hang out with friends here. \n",
      "\n",
      "I will definitely be returning very soon....maybe even tomorrow.\n"
     ]
    },
    {
     "data": {
      "text/plain": [
       "91.6765409058971"
      ]
     },
     "execution_count": 29,
     "metadata": {},
     "output_type": "execute_result"
    }
   ],
   "source": [
    "reviews = yelp_query.get_reviews(name = \"Kung Fu Tea\", address=\"9070 Research Blvd\")\n",
    "print(reviews[0])\n",
    "get_cleanliness_score(reviews, 'supervised')"
   ]
  },
  {
   "cell_type": "markdown",
   "id": "6606579a-253a-422a-a1c4-3cce4cc63065",
   "metadata": {},
   "source": [
    "# word vectors"
   ]
  },
  {
   "cell_type": "markdown",
   "id": "ac0849fa-f3c0-43c4-8055-20e545685995",
   "metadata": {},
   "source": [
    "Tried a variety of different things using word2vec, but found the best method was averaging ALL of the individual glove vectors of each word in each review together, and then averaging those reviews together for each BUSINESS, not each inspection. This ends with 200 features for the mean vector, plus four more features: # reviews, mean similarity to DIRTY_VECTOR, sim to PEST_VECTOR, and max(DIRTY, PEST)."
   ]
  },
  {
   "cell_type": "markdown",
   "id": "00d65f3c-eb2c-41b8-ac3c-4a0c68c73ee8",
   "metadata": {},
   "source": [
    "Running cross validation with a few different regressors/classifiers on these features, I get an R^2 of 0.35 using a Random Forest regressor, and slightly better (0.376) using Ridge."
   ]
  },
  {
   "cell_type": "markdown",
   "id": "dea38ecb-2709-41f5-83ae-44535e84ae65",
   "metadata": {},
   "source": [
    "## using mean vectors"
   ]
  },
  {
   "cell_type": "markdown",
   "id": "22b1ed0c-b815-49b0-be6e-da9ec88ff851",
   "metadata": {},
   "source": [
    "### import features"
   ]
  },
  {
   "cell_type": "code",
   "execution_count": 9,
   "id": "4a0005b9-1adc-4c12-bfff-3279a0167203",
   "metadata": {},
   "outputs": [
    {
     "name": "stdout",
     "output_type": "stream",
     "text": [
      "CPU times: total: 21.4 s\n",
      "Wall time: 21.4 s\n"
     ]
    }
   ],
   "source": [
    "%%time\n",
    "df = pd.read_csv(model_directory + 'review_model/mean_vectors_full_df.csv.gz',compression='gzip').dropna()\n",
    "df = df.drop(df.columns[0],axis=1)"
   ]
  },
  {
   "cell_type": "code",
   "execution_count": 286,
   "id": "e10759f3-6e27-4bb1-aaa0-09d39f3a4253",
   "metadata": {},
   "outputs": [
    {
     "data": {
      "text/plain": [
       "0         5\n",
       "1         5\n",
       "2         5\n",
       "3         5\n",
       "4         5\n",
       "         ..\n",
       "569993    5\n",
       "569994    4\n",
       "569995    5\n",
       "569996    5\n",
       "569997    5\n",
       "Name: review_stars, Length: 569995, dtype: int64"
      ]
     },
     "execution_count": 286,
     "metadata": {},
     "output_type": "execute_result"
    }
   ],
   "source": [
    "df.drop(['business_id', 'review_id', 'text', 'date', 'Score','stars', 'language'],axis=1).review_stars"
   ]
  },
  {
   "cell_type": "code",
   "execution_count": 281,
   "id": "d9d56202-b088-4a07-9d71-2732eb113355",
   "metadata": {},
   "outputs": [
    {
     "data": {
      "text/plain": [
       "Index(['0', '1', '2', '3', '4', '5', '6', '7', '8', '9',\n",
       "       ...\n",
       "       '193', '194', '195', '196', '197', '198', '199', 'both_sim', 'pest_sim',\n",
       "       'dirty_sim'],\n",
       "      dtype='object', length=203)"
      ]
     },
     "execution_count": 281,
     "metadata": {},
     "output_type": "execute_result"
    }
   ],
   "source": [
    "df.columns[8:]"
   ]
  },
  {
   "cell_type": "code",
   "execution_count": 288,
   "id": "ea56d2e1-431c-4a84-b5aa-84a61e27c7fb",
   "metadata": {},
   "outputs": [
    {
     "data": {
      "text/html": [
       "<div>\n",
       "<style scoped>\n",
       "    .dataframe tbody tr th:only-of-type {\n",
       "        vertical-align: middle;\n",
       "    }\n",
       "\n",
       "    .dataframe tbody tr th {\n",
       "        vertical-align: top;\n",
       "    }\n",
       "\n",
       "    .dataframe thead th {\n",
       "        text-align: right;\n",
       "    }\n",
       "</style>\n",
       "<table border=\"1\" class=\"dataframe\">\n",
       "  <thead>\n",
       "    <tr style=\"text-align: right;\">\n",
       "      <th></th>\n",
       "      <th>review_stars</th>\n",
       "      <th>0</th>\n",
       "      <th>1</th>\n",
       "      <th>2</th>\n",
       "      <th>3</th>\n",
       "      <th>4</th>\n",
       "      <th>5</th>\n",
       "      <th>6</th>\n",
       "      <th>7</th>\n",
       "      <th>8</th>\n",
       "      <th>...</th>\n",
       "      <th>193</th>\n",
       "      <th>194</th>\n",
       "      <th>195</th>\n",
       "      <th>196</th>\n",
       "      <th>197</th>\n",
       "      <th>198</th>\n",
       "      <th>199</th>\n",
       "      <th>both_sim</th>\n",
       "      <th>pest_sim</th>\n",
       "      <th>dirty_sim</th>\n",
       "    </tr>\n",
       "  </thead>\n",
       "  <tbody>\n",
       "    <tr>\n",
       "      <th>0</th>\n",
       "      <td>5</td>\n",
       "      <td>-0.149644</td>\n",
       "      <td>-0.122643</td>\n",
       "      <td>-0.064798</td>\n",
       "      <td>0.016546</td>\n",
       "      <td>0.060250</td>\n",
       "      <td>0.031754</td>\n",
       "      <td>0.451502</td>\n",
       "      <td>-0.015059</td>\n",
       "      <td>-0.128166</td>\n",
       "      <td>...</td>\n",
       "      <td>0.015273</td>\n",
       "      <td>0.210545</td>\n",
       "      <td>0.069562</td>\n",
       "      <td>0.062164</td>\n",
       "      <td>0.130708</td>\n",
       "      <td>0.058312</td>\n",
       "      <td>-0.030418</td>\n",
       "      <td>0.338668</td>\n",
       "      <td>0.268513</td>\n",
       "      <td>0.325552</td>\n",
       "    </tr>\n",
       "    <tr>\n",
       "      <th>1</th>\n",
       "      <td>5</td>\n",
       "      <td>-0.220990</td>\n",
       "      <td>0.018522</td>\n",
       "      <td>-0.046335</td>\n",
       "      <td>0.075083</td>\n",
       "      <td>-0.053893</td>\n",
       "      <td>0.057965</td>\n",
       "      <td>0.433751</td>\n",
       "      <td>-0.020273</td>\n",
       "      <td>-0.006264</td>\n",
       "      <td>...</td>\n",
       "      <td>-0.049427</td>\n",
       "      <td>0.006581</td>\n",
       "      <td>-0.045144</td>\n",
       "      <td>-0.054265</td>\n",
       "      <td>0.110336</td>\n",
       "      <td>0.165070</td>\n",
       "      <td>-0.055029</td>\n",
       "      <td>0.325363</td>\n",
       "      <td>0.251382</td>\n",
       "      <td>0.321000</td>\n",
       "    </tr>\n",
       "    <tr>\n",
       "      <th>2</th>\n",
       "      <td>5</td>\n",
       "      <td>-0.252817</td>\n",
       "      <td>-0.001641</td>\n",
       "      <td>-0.324473</td>\n",
       "      <td>0.092807</td>\n",
       "      <td>0.034154</td>\n",
       "      <td>0.119773</td>\n",
       "      <td>0.583292</td>\n",
       "      <td>-0.144077</td>\n",
       "      <td>0.052148</td>\n",
       "      <td>...</td>\n",
       "      <td>-0.285296</td>\n",
       "      <td>0.078227</td>\n",
       "      <td>0.027386</td>\n",
       "      <td>0.003531</td>\n",
       "      <td>-0.177844</td>\n",
       "      <td>-0.102125</td>\n",
       "      <td>-0.131617</td>\n",
       "      <td>0.326433</td>\n",
       "      <td>0.268147</td>\n",
       "      <td>0.294421</td>\n",
       "    </tr>\n",
       "    <tr>\n",
       "      <th>3</th>\n",
       "      <td>5</td>\n",
       "      <td>-0.251347</td>\n",
       "      <td>-0.177048</td>\n",
       "      <td>-0.026470</td>\n",
       "      <td>-0.002804</td>\n",
       "      <td>0.072531</td>\n",
       "      <td>0.079423</td>\n",
       "      <td>0.424232</td>\n",
       "      <td>-0.066577</td>\n",
       "      <td>-0.093266</td>\n",
       "      <td>...</td>\n",
       "      <td>0.084801</td>\n",
       "      <td>0.156346</td>\n",
       "      <td>-0.053770</td>\n",
       "      <td>0.139058</td>\n",
       "      <td>0.087276</td>\n",
       "      <td>0.052786</td>\n",
       "      <td>0.083152</td>\n",
       "      <td>0.367837</td>\n",
       "      <td>0.282492</td>\n",
       "      <td>0.354847</td>\n",
       "    </tr>\n",
       "    <tr>\n",
       "      <th>4</th>\n",
       "      <td>5</td>\n",
       "      <td>-0.004754</td>\n",
       "      <td>0.008192</td>\n",
       "      <td>-0.028288</td>\n",
       "      <td>-0.012225</td>\n",
       "      <td>-0.008772</td>\n",
       "      <td>-0.004464</td>\n",
       "      <td>0.505950</td>\n",
       "      <td>-0.087937</td>\n",
       "      <td>-0.147471</td>\n",
       "      <td>...</td>\n",
       "      <td>-0.226280</td>\n",
       "      <td>0.003867</td>\n",
       "      <td>0.040343</td>\n",
       "      <td>-0.067487</td>\n",
       "      <td>-0.096109</td>\n",
       "      <td>-0.016678</td>\n",
       "      <td>-0.074489</td>\n",
       "      <td>0.385525</td>\n",
       "      <td>0.311132</td>\n",
       "      <td>0.380308</td>\n",
       "    </tr>\n",
       "    <tr>\n",
       "      <th>...</th>\n",
       "      <td>...</td>\n",
       "      <td>...</td>\n",
       "      <td>...</td>\n",
       "      <td>...</td>\n",
       "      <td>...</td>\n",
       "      <td>...</td>\n",
       "      <td>...</td>\n",
       "      <td>...</td>\n",
       "      <td>...</td>\n",
       "      <td>...</td>\n",
       "      <td>...</td>\n",
       "      <td>...</td>\n",
       "      <td>...</td>\n",
       "      <td>...</td>\n",
       "      <td>...</td>\n",
       "      <td>...</td>\n",
       "      <td>...</td>\n",
       "      <td>...</td>\n",
       "      <td>...</td>\n",
       "      <td>...</td>\n",
       "      <td>...</td>\n",
       "    </tr>\n",
       "    <tr>\n",
       "      <th>569993</th>\n",
       "      <td>5</td>\n",
       "      <td>-0.203697</td>\n",
       "      <td>-0.106234</td>\n",
       "      <td>-0.082619</td>\n",
       "      <td>0.093718</td>\n",
       "      <td>-0.024393</td>\n",
       "      <td>0.229867</td>\n",
       "      <td>0.769271</td>\n",
       "      <td>-0.056661</td>\n",
       "      <td>-0.055865</td>\n",
       "      <td>...</td>\n",
       "      <td>0.056903</td>\n",
       "      <td>0.258607</td>\n",
       "      <td>0.185722</td>\n",
       "      <td>0.045471</td>\n",
       "      <td>0.157686</td>\n",
       "      <td>0.146119</td>\n",
       "      <td>0.053863</td>\n",
       "      <td>0.435598</td>\n",
       "      <td>0.327737</td>\n",
       "      <td>0.434022</td>\n",
       "    </tr>\n",
       "    <tr>\n",
       "      <th>569994</th>\n",
       "      <td>4</td>\n",
       "      <td>-0.134900</td>\n",
       "      <td>-0.176433</td>\n",
       "      <td>-0.006795</td>\n",
       "      <td>0.082887</td>\n",
       "      <td>-0.084608</td>\n",
       "      <td>0.155537</td>\n",
       "      <td>0.566893</td>\n",
       "      <td>-0.067352</td>\n",
       "      <td>-0.207246</td>\n",
       "      <td>...</td>\n",
       "      <td>-0.023079</td>\n",
       "      <td>0.093424</td>\n",
       "      <td>0.015331</td>\n",
       "      <td>0.099175</td>\n",
       "      <td>0.009800</td>\n",
       "      <td>-0.123251</td>\n",
       "      <td>-0.091498</td>\n",
       "      <td>0.438623</td>\n",
       "      <td>0.305660</td>\n",
       "      <td>0.436368</td>\n",
       "    </tr>\n",
       "    <tr>\n",
       "      <th>569995</th>\n",
       "      <td>5</td>\n",
       "      <td>-0.390356</td>\n",
       "      <td>-0.379606</td>\n",
       "      <td>0.022955</td>\n",
       "      <td>0.214871</td>\n",
       "      <td>-0.051215</td>\n",
       "      <td>0.113260</td>\n",
       "      <td>0.586720</td>\n",
       "      <td>-0.132973</td>\n",
       "      <td>-0.101572</td>\n",
       "      <td>...</td>\n",
       "      <td>0.048325</td>\n",
       "      <td>0.129847</td>\n",
       "      <td>-0.027195</td>\n",
       "      <td>-0.079704</td>\n",
       "      <td>-0.031927</td>\n",
       "      <td>0.025438</td>\n",
       "      <td>0.119413</td>\n",
       "      <td>0.406069</td>\n",
       "      <td>0.291748</td>\n",
       "      <td>0.397331</td>\n",
       "    </tr>\n",
       "    <tr>\n",
       "      <th>569996</th>\n",
       "      <td>5</td>\n",
       "      <td>-0.321421</td>\n",
       "      <td>-0.153525</td>\n",
       "      <td>-0.045049</td>\n",
       "      <td>-0.004438</td>\n",
       "      <td>0.032681</td>\n",
       "      <td>0.141158</td>\n",
       "      <td>0.512632</td>\n",
       "      <td>-0.108289</td>\n",
       "      <td>-0.137008</td>\n",
       "      <td>...</td>\n",
       "      <td>0.135682</td>\n",
       "      <td>0.140226</td>\n",
       "      <td>0.026177</td>\n",
       "      <td>0.074189</td>\n",
       "      <td>0.088494</td>\n",
       "      <td>0.091305</td>\n",
       "      <td>0.055607</td>\n",
       "      <td>0.394838</td>\n",
       "      <td>0.302446</td>\n",
       "      <td>0.392174</td>\n",
       "    </tr>\n",
       "    <tr>\n",
       "      <th>569997</th>\n",
       "      <td>5</td>\n",
       "      <td>0.084082</td>\n",
       "      <td>-0.083716</td>\n",
       "      <td>0.057795</td>\n",
       "      <td>0.061246</td>\n",
       "      <td>-0.083537</td>\n",
       "      <td>-0.077473</td>\n",
       "      <td>0.565817</td>\n",
       "      <td>0.001376</td>\n",
       "      <td>-0.132429</td>\n",
       "      <td>...</td>\n",
       "      <td>-0.094675</td>\n",
       "      <td>0.186305</td>\n",
       "      <td>0.045346</td>\n",
       "      <td>0.004844</td>\n",
       "      <td>0.169297</td>\n",
       "      <td>-0.098024</td>\n",
       "      <td>-0.053378</td>\n",
       "      <td>0.372380</td>\n",
       "      <td>0.288260</td>\n",
       "      <td>0.366177</td>\n",
       "    </tr>\n",
       "  </tbody>\n",
       "</table>\n",
       "<p>569995 rows × 204 columns</p>\n",
       "</div>"
      ],
      "text/plain": [
       "        review_stars         0         1         2         3         4  \\\n",
       "0                  5 -0.149644 -0.122643 -0.064798  0.016546  0.060250   \n",
       "1                  5 -0.220990  0.018522 -0.046335  0.075083 -0.053893   \n",
       "2                  5 -0.252817 -0.001641 -0.324473  0.092807  0.034154   \n",
       "3                  5 -0.251347 -0.177048 -0.026470 -0.002804  0.072531   \n",
       "4                  5 -0.004754  0.008192 -0.028288 -0.012225 -0.008772   \n",
       "...              ...       ...       ...       ...       ...       ...   \n",
       "569993             5 -0.203697 -0.106234 -0.082619  0.093718 -0.024393   \n",
       "569994             4 -0.134900 -0.176433 -0.006795  0.082887 -0.084608   \n",
       "569995             5 -0.390356 -0.379606  0.022955  0.214871 -0.051215   \n",
       "569996             5 -0.321421 -0.153525 -0.045049 -0.004438  0.032681   \n",
       "569997             5  0.084082 -0.083716  0.057795  0.061246 -0.083537   \n",
       "\n",
       "               5         6         7         8  ...       193       194  \\\n",
       "0       0.031754  0.451502 -0.015059 -0.128166  ...  0.015273  0.210545   \n",
       "1       0.057965  0.433751 -0.020273 -0.006264  ... -0.049427  0.006581   \n",
       "2       0.119773  0.583292 -0.144077  0.052148  ... -0.285296  0.078227   \n",
       "3       0.079423  0.424232 -0.066577 -0.093266  ...  0.084801  0.156346   \n",
       "4      -0.004464  0.505950 -0.087937 -0.147471  ... -0.226280  0.003867   \n",
       "...          ...       ...       ...       ...  ...       ...       ...   \n",
       "569993  0.229867  0.769271 -0.056661 -0.055865  ...  0.056903  0.258607   \n",
       "569994  0.155537  0.566893 -0.067352 -0.207246  ... -0.023079  0.093424   \n",
       "569995  0.113260  0.586720 -0.132973 -0.101572  ...  0.048325  0.129847   \n",
       "569996  0.141158  0.512632 -0.108289 -0.137008  ...  0.135682  0.140226   \n",
       "569997 -0.077473  0.565817  0.001376 -0.132429  ... -0.094675  0.186305   \n",
       "\n",
       "             195       196       197       198       199  both_sim  pest_sim  \\\n",
       "0       0.069562  0.062164  0.130708  0.058312 -0.030418  0.338668  0.268513   \n",
       "1      -0.045144 -0.054265  0.110336  0.165070 -0.055029  0.325363  0.251382   \n",
       "2       0.027386  0.003531 -0.177844 -0.102125 -0.131617  0.326433  0.268147   \n",
       "3      -0.053770  0.139058  0.087276  0.052786  0.083152  0.367837  0.282492   \n",
       "4       0.040343 -0.067487 -0.096109 -0.016678 -0.074489  0.385525  0.311132   \n",
       "...          ...       ...       ...       ...       ...       ...       ...   \n",
       "569993  0.185722  0.045471  0.157686  0.146119  0.053863  0.435598  0.327737   \n",
       "569994  0.015331  0.099175  0.009800 -0.123251 -0.091498  0.438623  0.305660   \n",
       "569995 -0.027195 -0.079704 -0.031927  0.025438  0.119413  0.406069  0.291748   \n",
       "569996  0.026177  0.074189  0.088494  0.091305  0.055607  0.394838  0.302446   \n",
       "569997  0.045346  0.004844  0.169297 -0.098024 -0.053378  0.372380  0.288260   \n",
       "\n",
       "        dirty_sim  \n",
       "0        0.325552  \n",
       "1        0.321000  \n",
       "2        0.294421  \n",
       "3        0.354847  \n",
       "4        0.380308  \n",
       "...           ...  \n",
       "569993   0.434022  \n",
       "569994   0.436368  \n",
       "569995   0.397331  \n",
       "569996   0.392174  \n",
       "569997   0.366177  \n",
       "\n",
       "[569995 rows x 204 columns]"
      ]
     },
     "execution_count": 288,
     "metadata": {},
     "output_type": "execute_result"
    }
   ],
   "source": [
    "df.drop(drop_columns,axis=1)"
   ]
  },
  {
   "cell_type": "code",
   "execution_count": 303,
   "id": "99656e33-a879-4f3e-a388-403834ad35f7",
   "metadata": {},
   "outputs": [
    {
     "name": "stdout",
     "output_type": "stream",
     "text": [
      "CPU times: total: 5.58 s\n",
      "Wall time: 5.59 s\n"
     ]
    }
   ],
   "source": [
    "%%time\n",
    "drop_columns = ['business_id', 'review_id', 'text', 'date', 'Score','stars', 'language']\n",
    "groups = df.sort_values('both_sim',ascending=False).groupby('business_id')\n",
    "df_list = []\n",
    "for business_id, group in groups:\n",
    "    dff = pd.DataFrame()\n",
    "    # average ALL reviews from each business\n",
    "    ll = len(group)\n",
    "    # bound = math.ceil(ll*0.15)\n",
    "    dff[business_id] = group.drop(drop_columns,axis=1).mean(axis=0)\n",
    "    dff=dff.T\n",
    "    dff['num_reviews'] = ll\n",
    "    # dff['percent_bad_reviews'] = sum(group.review_stars <= 2) / ll\n",
    "    dff['Score'] = group.Score.unique().mean()\n",
    "    df_list.append(dff)\n",
    "df_tot = pd.concat(df_list)"
   ]
  },
  {
   "cell_type": "markdown",
   "id": "adf72162-f70f-49dd-8e33-8161c9dab7e6",
   "metadata": {
    "tags": []
   },
   "source": [
    "### regressor cv"
   ]
  },
  {
   "cell_type": "code",
   "execution_count": 392,
   "id": "3f292f92-5022-43a3-8f51-017d753a772f",
   "metadata": {},
   "outputs": [
    {
     "name": "stdout",
     "output_type": "stream",
     "text": [
      "CPU times: total: 0 ns\n",
      "Wall time: 7 ms\n"
     ]
    }
   ],
   "source": [
    "%%time\n",
    "X = df_tot.drop(['Score','num_reviews','review_stars'],axis=1)\n",
    "# X['thing'] = ((X.both_sim-X.both_sim.min())/(X.both_sim.max()-X.both_sim.min()))**(1)\n",
    "# X=X[['thing']]\n",
    "y = df_tot.Score.values\n",
    "\n",
    "X_shuff, y_shuff = shuffle(X, y, random_state=42)\n",
    "X_train, X_test, y_train, y_test = train_test_split(X_shuff, y_shuff, test_size=0.2, random_state=42)"
   ]
  },
  {
   "cell_type": "code",
   "execution_count": 386,
   "id": "1b585fe1-71d3-4eaf-b99b-340a549bf357",
   "metadata": {},
   "outputs": [
    {
     "name": "stdout",
     "output_type": "stream",
     "text": [
      "R^2 score: 0.3755377368483762\n"
     ]
    },
    {
     "data": {
      "image/png": "[encoded data removed]",
      "text/plain": [
       "<Figure size 432x288 with 1 Axes>"
      ]
     },
     "metadata": {
      "needs_background": "light"
     },
     "output_type": "display_data"
    },
    {
     "name": "stdout",
     "output_type": "stream",
     "text": [
      "CPU times: total: 469 ms\n",
      "Wall time: 85 ms\n"
     ]
    }
   ],
   "source": [
    "%%time\n",
    "regressor = Ridge(alpha=0.5929292929292929)\n",
    "regressor.fit(X_train,y_train)\n",
    "print(f'R^2 score: {regressor.score(X_test, y_test)}')\n",
    "y_predict = regressor.predict(X_test)\n",
    "fig = plt.figure(3)\n",
    "plt.scatter(y_test,y_predict)\n",
    "plt.show()"
   ]
  },
  {
   "cell_type": "code",
   "execution_count": 274,
   "id": "fde7cb92-5089-47d8-b289-fdbf8ee497b8",
   "metadata": {},
   "outputs": [],
   "source": [
    "filename = agg_model_directory + 'mean_vectors_agg_model_ridge.pkl'\n",
    "pkl.dump(regressor, open(filename,'wb'))"
   ]
  },
  {
   "cell_type": "code",
   "execution_count": 169,
   "id": "dc2a333b-51fb-4be9-8cfd-77c820916cac",
   "metadata": {},
   "outputs": [
    {
     "name": "stdout",
     "output_type": "stream",
     "text": [
      "R^2 score: 0.32810441256176315\n"
     ]
    },
    {
     "data": {
      "image/png": "[encoded data removed]",
      "text/plain": [
       "<Figure size 432x288 with 1 Axes>"
      ]
     },
     "metadata": {
      "needs_background": "light"
     },
     "output_type": "display_data"
    },
    {
     "name": "stdout",
     "output_type": "stream",
     "text": [
      "CPU times: total: 78.1 ms\n",
      "Wall time: 76 ms\n"
     ]
    }
   ],
   "source": [
    "%%time\n",
    "regressor = sklearn.linear_model.Lasso(alpha=0.006363636363636364,max_iter=10000, tol=0.0001)\n",
    "regressor.fit(X_train,y_train)\n",
    "print(f'R^2 score: {regressor.score(X_test, y_test)}')\n",
    "y_predict = regressor.predict(X_test)\n",
    "fig = plt.figure(3)\n",
    "plt.scatter(y_test,y_predict)\n",
    "plt.show()"
   ]
  },
  {
   "cell_type": "code",
   "execution_count": 272,
   "id": "085d73db-f535-47e9-bb68-f7458373a52e",
   "metadata": {
    "tags": []
   },
   "outputs": [
    {
     "name": "stdout",
     "output_type": "stream",
     "text": [
      "CPU times: total: 11.4 s\n",
      "Wall time: 1.91 s\n"
     ]
    },
    {
     "data": {
      "text/plain": [
       "{'alpha': 0.5929292929292929}"
      ]
     },
     "execution_count": 272,
     "metadata": {},
     "output_type": "execute_result"
    }
   ],
   "source": [
    "%%time\n",
    "parameters = {\n",
    "    'alpha': np.linspace(0.5,0.6,100)\n",
    "}\n",
    "gs = GridSearchCV(regressor, parameters)\n",
    "gs.fit(X_test,y_test)\n",
    "gs.best_params_"
   ]
  },
  {
   "cell_type": "code",
   "execution_count": 393,
   "id": "1b6cae5e-da1f-4f0f-9620-40cdf7e403b3",
   "metadata": {},
   "outputs": [
    {
     "name": "stdout",
     "output_type": "stream",
     "text": [
      "R^2 score: 0.3426341240025177\n"
     ]
    },
    {
     "data": {
      "image/png": "[encoded data removed]",
      "text/plain": [
       "<Figure size 432x288 with 1 Axes>"
      ]
     },
     "metadata": {
      "needs_background": "light"
     },
     "output_type": "display_data"
    },
    {
     "name": "stdout",
     "output_type": "stream",
     "text": [
      "CPU times: total: 3min 10s\n",
      "Wall time: 16.4 s\n"
     ]
    }
   ],
   "source": [
    "%%time\n",
    "regressor = ensemble.RandomForestRegressor(max_depth=20, n_estimators=1000,# max_features=20,\n",
    "                                           min_samples_split=10, min_samples_leaf=2,\n",
    "                                           n_jobs=-1)\n",
    "regressor.fit(X_train,y_train)\n",
    "print(f'R^2 score: {regressor.score(X_test, y_test)}')\n",
    "y_predict = regressor.predict(X_test)\n",
    "fig = plt.figure(3)\n",
    "plt.scatter(y_test,y_predict)\n",
    "plt.show()"
   ]
  },
  {
   "cell_type": "code",
   "execution_count": 394,
   "id": "9f3fc190-671e-44f0-98c4-ad276f1a64ad",
   "metadata": {},
   "outputs": [
    {
     "name": "stdout",
     "output_type": "stream",
     "text": [
      "R^2 score: 0.8532194586798937\n"
     ]
    },
    {
     "data": {
      "image/png": "[encoded data removed]",
      "text/plain": [
       "<Figure size 432x288 with 1 Axes>"
      ]
     },
     "metadata": {
      "needs_background": "light"
     },
     "output_type": "display_data"
    },
    {
     "name": "stdout",
     "output_type": "stream",
     "text": [
      "CPU times: total: 4min 9s\n",
      "Wall time: 21.3 s\n"
     ]
    }
   ],
   "source": [
    "%%time\n",
    "regressor = ensemble.RandomForestRegressor(max_depth=20, n_estimators=1000,# max_features=20,\n",
    "                                           min_samples_split=10, min_samples_leaf=2,\n",
    "                                           n_jobs=-1)\n",
    "regressor.fit(X,y)\n",
    "print(f'R^2 score: {regressor.score(X, y)}')\n",
    "y_predict = regressor.predict(X)\n",
    "fig = plt.figure(3)\n",
    "plt.scatter(y,y_predict)\n",
    "plt.show()"
   ]
  },
  {
   "cell_type": "code",
   "execution_count": 370,
   "id": "58837739-30ca-4b17-8aca-eb4573864495",
   "metadata": {},
   "outputs": [
    {
     "data": {
      "image/png": "[encoded data removed]",
      "text/plain": [
       "<Figure size 432x288 with 1 Axes>"
      ]
     },
     "metadata": {
      "needs_background": "light"
     },
     "output_type": "display_data"
    }
   ],
   "source": [
    "y_predict = regressor.predict(X)\n",
    "plt.scatter(y,y_predict,alpha=0.5)\n",
    "plt.show()"
   ]
  },
  {
   "cell_type": "code",
   "execution_count": 395,
   "id": "7b083310-6db6-49c8-b120-19476dd3fc85",
   "metadata": {},
   "outputs": [],
   "source": [
    "filename = agg_model_directory + 'mean_vectors_agg_model.pkl'\n",
    "pkl.dump(regressor, open(filename,'wb'))"
   ]
  },
  {
   "cell_type": "code",
   "execution_count": 325,
   "id": "248d48d7-316b-4fd6-a926-663cf0157f2e",
   "metadata": {
    "collapsed": true,
    "jupyter": {
     "outputs_hidden": true
    },
    "tags": []
   },
   "outputs": [
    {
     "data": {
      "image/png": "[encoded data removed]",
      "text/plain": [
       "<Figure size 960x720 with 1 Axes>"
      ]
     },
     "metadata": {
      "needs_background": "light"
     },
     "output_type": "display_data"
    }
   ],
   "source": [
    "y_predict = regressor.predict(X)\n",
    "fig = plt.figure(figsize=(8,6),dpi=120)\n",
    "plt.hist(y,bins=66,alpha=0.5)\n",
    "plt.hist(y_predict,bins=66,alpha=0.5)\n",
    "plt.xlabel('Inspection score')\n",
    "plt.ylabel('# businesses')\n",
    "plt.legend(['Actual score','Predicted score'])\n",
    "plt.show()"
   ]
  },
  {
   "cell_type": "code",
   "execution_count": 378,
   "id": "3047e9ca-9d2f-439c-b016-295d6535e724",
   "metadata": {
    "tags": []
   },
   "outputs": [
    {
     "name": "stdout",
     "output_type": "stream",
     "text": [
      "CPU times: total: 9.56 s\n",
      "Wall time: 8.8 s\n"
     ]
    },
    {
     "data": {
      "text/plain": [
       "{'max_features': 20}"
      ]
     },
     "execution_count": 378,
     "metadata": {},
     "output_type": "execute_result"
    }
   ],
   "source": [
    "%%time\n",
    "parameters = {\n",
    "    # 'max_depth': [10,15,20],\n",
    "    # 'min_samples_split': [2,5,10],\n",
    "    # 'min_samples_leaf': [2,5,10],\n",
    "    'max_features':range(15,25)\n",
    "}\n",
    "gs = GridSearchCV(regressor, parameters)\n",
    "gs.fit(X_test,y_test)\n",
    "gs.best_params_"
   ]
  },
  {
   "cell_type": "code",
   "execution_count": 283,
   "id": "7c70ed25-3a87-450f-b809-0d7fd053da5a",
   "metadata": {},
   "outputs": [
    {
     "name": "stdout",
     "output_type": "stream",
     "text": [
      "R^2 score: 0.28507629264654333\n"
     ]
    },
    {
     "data": {
      "image/png": "[encoded data removed]",
      "text/plain": [
       "<Figure size 432x288 with 1 Axes>"
      ]
     },
     "metadata": {
      "needs_background": "light"
     },
     "output_type": "display_data"
    },
    {
     "name": "stdout",
     "output_type": "stream",
     "text": [
      "CPU times: total: 24.8 s\n",
      "Wall time: 24.8 s\n"
     ]
    }
   ],
   "source": [
    "%%time\n",
    "regressor = ensemble.GradientBoostingRegressor(max_depth=1, n_estimators=1000,\n",
    "                                               min_samples_split=2, min_samples_leaf=15)\n",
    "regressor.fit(X_train,y_train)\n",
    "print(f'R^2 score: {regressor.score(X_test, y_test)}')\n",
    "y_predict = regressor.predict(X_test)\n",
    "fig = plt.figure(3)\n",
    "plt.scatter(y_test,y_predict)\n",
    "plt.show()"
   ]
  },
  {
   "cell_type": "code",
   "execution_count": 282,
   "id": "83fb6db2-e61d-4806-a0a4-60e3f652a271",
   "metadata": {
    "tags": []
   },
   "outputs": [
    {
     "name": "stdout",
     "output_type": "stream",
     "text": [
      "CPU times: total: 10.8 s\n",
      "Wall time: 10.8 s\n"
     ]
    },
    {
     "data": {
      "text/plain": [
       "{'min_samples_leaf': 15}"
      ]
     },
     "execution_count": 282,
     "metadata": {},
     "output_type": "execute_result"
    }
   ],
   "source": [
    "%%time\n",
    "parameters = {\n",
    "    # 'max_depth': np.arange(1,5,1),\n",
    "    # 'min_samples_split': [2,5,10,15,20,25,30],\n",
    "    'min_samples_leaf': [2,5,10,15,20]\n",
    "}\n",
    "gs = GridSearchCV(regressor, parameters)\n",
    "gs.fit(X_test,y_test)\n",
    "gs.best_params_"
   ]
  },
  {
   "cell_type": "markdown",
   "id": "708412a6-e857-4da9-ba7f-d03725d9154b",
   "metadata": {
    "tags": []
   },
   "source": [
    "# old stuff"
   ]
  },
  {
   "cell_type": "markdown",
   "id": "c06c4fd8-064a-4ea3-a22a-6e30bec90d34",
   "metadata": {},
   "source": [
    "## pre-trained glove on EACH review, agg over each business"
   ]
  },
  {
   "cell_type": "code",
   "execution_count": 417,
   "id": "0fc8605a-37d8-43b6-ab11-ad1807e38d7b",
   "metadata": {},
   "outputs": [],
   "source": [
    "df_test = pd.read_csv(model_directory + 'review_model/top5percent_per_review.csv').dropna()"
   ]
  },
  {
   "cell_type": "code",
   "execution_count": 379,
   "id": "d9a3856e-4509-4c9a-a7a1-5ac3eeae30b8",
   "metadata": {},
   "outputs": [],
   "source": [
    "df_test = df_test[df_test.review_stars <= 2]"
   ]
  },
  {
   "cell_type": "code",
   "execution_count": 419,
   "id": "67627f65-1be8-4fed-9e67-7aea9ceab44e",
   "metadata": {},
   "outputs": [
    {
     "data": {
      "image/png": "[encoded data removed]",
      "text/plain": [
       "<Figure size 432x288 with 1 Axes>"
      ]
     },
     "metadata": {
      "needs_background": "light"
     },
     "output_type": "display_data"
    }
   ],
   "source": [
    "# all of the scores...\n",
    "# many of the lowest scores are not in English.\n",
    "plt.hist(df_test.predict,bins=500)\n",
    "# plt.ylim(0,10000)\n",
    "plt.yscale('log')\n",
    "plt.show()"
   ]
  },
  {
   "cell_type": "code",
   "execution_count": 420,
   "id": "077e287d-364d-4f0d-9bdf-f2d24239d463",
   "metadata": {},
   "outputs": [
    {
     "data": {
      "text/plain": [
       "0.5632534097087785"
      ]
     },
     "execution_count": 420,
     "metadata": {},
     "output_type": "execute_result"
    }
   ],
   "source": [
    "np.mean(df_test.predict)"
   ]
  },
  {
   "cell_type": "code",
   "execution_count": 421,
   "id": "b15a84af-f7b2-47d7-b1f1-933d523be5e9",
   "metadata": {},
   "outputs": [],
   "source": [
    "# apply discriminator to get percentage of reviews which directly talk about dirtiness\n",
    "def discriminator(predictions, threshold = 0.6):\n",
    "    return sum(predictions > threshold)/len(predictions)"
   ]
  },
  {
   "cell_type": "code",
   "execution_count": 422,
   "id": "26ec7947-f1aa-4159-b5e2-9a03ba2f45fb",
   "metadata": {},
   "outputs": [],
   "source": [
    "df_test['text_length'] = df_test.text.apply(len)"
   ]
  },
  {
   "cell_type": "code",
   "execution_count": 423,
   "id": "bead71da-c438-4be1-89da-3bc03bbe2796",
   "metadata": {},
   "outputs": [],
   "source": [
    "# individual inspections\n",
    "overall_median = np.median(df_test.predict)\n",
    "features = df_test.dropna().groupby('business_id').agg(\n",
    "    Score = ('Score', np.min),\n",
    "    stars_mean = ('review_stars', np.mean),\n",
    "    stars_stdev = ('review_stars', np.std),\n",
    "    stars_stderr = ('review_stars', lambda x: np.std(x)/len(x)),\n",
    "    review_length_mean = ('text_length', np.mean),\n",
    "    review_length_stdev = ('text_length', np.std),\n",
    "    glove_mean = ('predict', np.mean),\n",
    "    glove_max = ('predict', np.max),\n",
    "    glove_stdev = ('predict', np.std),\n",
    "    glove_stderr = ('predict', lambda x: np.std(x)/len(x)),\n",
    "    # glove_2ndmax = ('predict', lambda x: np.mean(sorted(x)[-2])),\n",
    "    # glove_3rdmax = ('predict', lambda x: np.mean(sorted(x)[-3])),\n",
    "    glove_min = ('predict', np.min),\n",
    "    # glove_2ndmin = ('predict', lambda x: np.mean(sorted(x)[2])),\n",
    "    glove_1stquantile = ('predict', lambda x: np.quantile(x,0.25)),\n",
    "    glove_3rdquantile = ('predict', lambda x: np.quantile(x,0.75)),\n",
    "    glove_1percent = ('predict', lambda x: np.mean(sorted(x)[-math.ceil(len(x)*0.01):])),\n",
    "    glove_5percent = ('predict', lambda x: np.mean(sorted(x)[-math.ceil(len(x)*0.05):])),\n",
    "    glove_25percent = ('predict', lambda x: np.mean(sorted(x)[-math.ceil(len(x)*0.25):])),\n",
    "    glove_discrim_median = ('predict', lambda x: discriminator(x,overall_median)),\n",
    "    glove_discrim_6 = ('predict', lambda x: discriminator(x,0.6)),\n",
    "    glove_discrim_7 = ('predict', lambda x: discriminator(x,0.7)),\n",
    "    num_reviews = ('predict',len)\n",
    ").reset_index().dropna()"
   ]
  },
  {
   "cell_type": "code",
   "execution_count": 424,
   "id": "142b31c5-f8a6-43c7-995a-8721b69a77c2",
   "metadata": {},
   "outputs": [
    {
     "data": {
      "text/html": [
       "<div>\n",
       "<style scoped>\n",
       "    .dataframe tbody tr th:only-of-type {\n",
       "        vertical-align: middle;\n",
       "    }\n",
       "\n",
       "    .dataframe tbody tr th {\n",
       "        vertical-align: top;\n",
       "    }\n",
       "\n",
       "    .dataframe thead th {\n",
       "        text-align: right;\n",
       "    }\n",
       "</style>\n",
       "<table border=\"1\" class=\"dataframe\">\n",
       "  <thead>\n",
       "    <tr style=\"text-align: right;\">\n",
       "      <th></th>\n",
       "      <th>business_id</th>\n",
       "      <th>Score</th>\n",
       "      <th>stars_mean</th>\n",
       "      <th>stars_stdev</th>\n",
       "      <th>stars_stderr</th>\n",
       "      <th>review_length_mean</th>\n",
       "      <th>review_length_stdev</th>\n",
       "      <th>glove_mean</th>\n",
       "      <th>glove_max</th>\n",
       "      <th>glove_stdev</th>\n",
       "      <th>...</th>\n",
       "      <th>glove_min</th>\n",
       "      <th>glove_1stquantile</th>\n",
       "      <th>glove_3rdquantile</th>\n",
       "      <th>glove_1percent</th>\n",
       "      <th>glove_5percent</th>\n",
       "      <th>glove_25percent</th>\n",
       "      <th>glove_discrim_median</th>\n",
       "      <th>glove_discrim_6</th>\n",
       "      <th>glove_discrim_7</th>\n",
       "      <th>num_reviews</th>\n",
       "    </tr>\n",
       "  </thead>\n",
       "  <tbody>\n",
       "    <tr>\n",
       "      <th>0</th>\n",
       "      <td>-0TbQsmE2p1bhG30rgvK2Q</td>\n",
       "      <td>93.0</td>\n",
       "      <td>3.881720</td>\n",
       "      <td>1.458479</td>\n",
       "      <td>0.015598</td>\n",
       "      <td>489.795699</td>\n",
       "      <td>438.618398</td>\n",
       "      <td>0.552508</td>\n",
       "      <td>0.665917</td>\n",
       "      <td>0.040836</td>\n",
       "      <td>...</td>\n",
       "      <td>0.422774</td>\n",
       "      <td>0.529923</td>\n",
       "      <td>0.579391</td>\n",
       "      <td>0.665917</td>\n",
       "      <td>0.638217</td>\n",
       "      <td>0.600703</td>\n",
       "      <td>0.397849</td>\n",
       "      <td>0.096774</td>\n",
       "      <td>0.000000</td>\n",
       "      <td>93</td>\n",
       "    </tr>\n",
       "    <tr>\n",
       "      <th>1</th>\n",
       "      <td>-4bP1UUgpZumIu6DZMaMzw</td>\n",
       "      <td>86.0</td>\n",
       "      <td>4.046931</td>\n",
       "      <td>1.141665</td>\n",
       "      <td>0.002059</td>\n",
       "      <td>574.095668</td>\n",
       "      <td>525.703655</td>\n",
       "      <td>0.560573</td>\n",
       "      <td>0.755413</td>\n",
       "      <td>0.037480</td>\n",
       "      <td>...</td>\n",
       "      <td>0.404551</td>\n",
       "      <td>0.541263</td>\n",
       "      <td>0.581013</td>\n",
       "      <td>0.683500</td>\n",
       "      <td>0.639060</td>\n",
       "      <td>0.601604</td>\n",
       "      <td>0.500000</td>\n",
       "      <td>0.090253</td>\n",
       "      <td>0.001805</td>\n",
       "      <td>554</td>\n",
       "    </tr>\n",
       "    <tr>\n",
       "      <th>2</th>\n",
       "      <td>-4cQ12xutjNLW-tPI06_tg</td>\n",
       "      <td>88.0</td>\n",
       "      <td>3.604651</td>\n",
       "      <td>1.399824</td>\n",
       "      <td>0.016182</td>\n",
       "      <td>560.953488</td>\n",
       "      <td>495.717019</td>\n",
       "      <td>0.565158</td>\n",
       "      <td>0.664877</td>\n",
       "      <td>0.040931</td>\n",
       "      <td>...</td>\n",
       "      <td>0.433693</td>\n",
       "      <td>0.540345</td>\n",
       "      <td>0.589212</td>\n",
       "      <td>0.664877</td>\n",
       "      <td>0.638817</td>\n",
       "      <td>0.614081</td>\n",
       "      <td>0.534884</td>\n",
       "      <td>0.197674</td>\n",
       "      <td>0.000000</td>\n",
       "      <td>86</td>\n",
       "    </tr>\n",
       "    <tr>\n",
       "      <th>3</th>\n",
       "      <td>-4ofMtrD7pSpZIX5pnDkig</td>\n",
       "      <td>79.0</td>\n",
       "      <td>3.980286</td>\n",
       "      <td>1.132221</td>\n",
       "      <td>0.000769</td>\n",
       "      <td>525.397009</td>\n",
       "      <td>448.593692</td>\n",
       "      <td>0.556863</td>\n",
       "      <td>0.849937</td>\n",
       "      <td>0.042083</td>\n",
       "      <td>...</td>\n",
       "      <td>0.337684</td>\n",
       "      <td>0.534355</td>\n",
       "      <td>0.578256</td>\n",
       "      <td>0.737476</td>\n",
       "      <td>0.657015</td>\n",
       "      <td>0.604329</td>\n",
       "      <td>0.448674</td>\n",
       "      <td>0.089055</td>\n",
       "      <td>0.008838</td>\n",
       "      <td>1471</td>\n",
       "    </tr>\n",
       "    <tr>\n",
       "      <th>4</th>\n",
       "      <td>-6obgh8LkS9L0Ww1zHdTNg</td>\n",
       "      <td>70.0</td>\n",
       "      <td>4.470588</td>\n",
       "      <td>0.717430</td>\n",
       "      <td>0.040942</td>\n",
       "      <td>609.058824</td>\n",
       "      <td>592.097381</td>\n",
       "      <td>0.557673</td>\n",
       "      <td>0.623611</td>\n",
       "      <td>0.038083</td>\n",
       "      <td>...</td>\n",
       "      <td>0.483129</td>\n",
       "      <td>0.527886</td>\n",
       "      <td>0.583623</td>\n",
       "      <td>0.623611</td>\n",
       "      <td>0.623611</td>\n",
       "      <td>0.601520</td>\n",
       "      <td>0.470588</td>\n",
       "      <td>0.176471</td>\n",
       "      <td>0.000000</td>\n",
       "      <td>17</td>\n",
       "    </tr>\n",
       "    <tr>\n",
       "      <th>...</th>\n",
       "      <td>...</td>\n",
       "      <td>...</td>\n",
       "      <td>...</td>\n",
       "      <td>...</td>\n",
       "      <td>...</td>\n",
       "      <td>...</td>\n",
       "      <td>...</td>\n",
       "      <td>...</td>\n",
       "      <td>...</td>\n",
       "      <td>...</td>\n",
       "      <td>...</td>\n",
       "      <td>...</td>\n",
       "      <td>...</td>\n",
       "      <td>...</td>\n",
       "      <td>...</td>\n",
       "      <td>...</td>\n",
       "      <td>...</td>\n",
       "      <td>...</td>\n",
       "      <td>...</td>\n",
       "      <td>...</td>\n",
       "      <td>...</td>\n",
       "    </tr>\n",
       "    <tr>\n",
       "      <th>2501</th>\n",
       "      <td>zlPKCqb9sfkhIW27sAGsIA</td>\n",
       "      <td>93.0</td>\n",
       "      <td>3.740385</td>\n",
       "      <td>1.238502</td>\n",
       "      <td>0.011851</td>\n",
       "      <td>542.307692</td>\n",
       "      <td>648.372257</td>\n",
       "      <td>0.561962</td>\n",
       "      <td>0.698346</td>\n",
       "      <td>0.043614</td>\n",
       "      <td>...</td>\n",
       "      <td>0.425711</td>\n",
       "      <td>0.535624</td>\n",
       "      <td>0.584616</td>\n",
       "      <td>0.683181</td>\n",
       "      <td>0.651520</td>\n",
       "      <td>0.615014</td>\n",
       "      <td>0.528846</td>\n",
       "      <td>0.163462</td>\n",
       "      <td>0.000000</td>\n",
       "      <td>104</td>\n",
       "    </tr>\n",
       "    <tr>\n",
       "      <th>2502</th>\n",
       "      <td>zo-POOSRX0wiVJlJyvujyA</td>\n",
       "      <td>100.0</td>\n",
       "      <td>4.268293</td>\n",
       "      <td>1.245480</td>\n",
       "      <td>0.030005</td>\n",
       "      <td>622.097561</td>\n",
       "      <td>421.353818</td>\n",
       "      <td>0.542188</td>\n",
       "      <td>0.644169</td>\n",
       "      <td>0.040266</td>\n",
       "      <td>...</td>\n",
       "      <td>0.448009</td>\n",
       "      <td>0.515426</td>\n",
       "      <td>0.565373</td>\n",
       "      <td>0.644169</td>\n",
       "      <td>0.620135</td>\n",
       "      <td>0.588214</td>\n",
       "      <td>0.268293</td>\n",
       "      <td>0.048780</td>\n",
       "      <td>0.000000</td>\n",
       "      <td>41</td>\n",
       "    </tr>\n",
       "    <tr>\n",
       "      <th>2503</th>\n",
       "      <td>zr40jIjFDIcZ3dzbSK53Ww</td>\n",
       "      <td>84.0</td>\n",
       "      <td>3.754386</td>\n",
       "      <td>1.502572</td>\n",
       "      <td>0.013123</td>\n",
       "      <td>471.403509</td>\n",
       "      <td>366.164398</td>\n",
       "      <td>0.567160</td>\n",
       "      <td>0.838737</td>\n",
       "      <td>0.047999</td>\n",
       "      <td>...</td>\n",
       "      <td>0.424658</td>\n",
       "      <td>0.539528</td>\n",
       "      <td>0.589220</td>\n",
       "      <td>0.753205</td>\n",
       "      <td>0.682373</td>\n",
       "      <td>0.620956</td>\n",
       "      <td>0.587719</td>\n",
       "      <td>0.166667</td>\n",
       "      <td>0.008772</td>\n",
       "      <td>114</td>\n",
       "    </tr>\n",
       "    <tr>\n",
       "      <th>2504</th>\n",
       "      <td>zubXuwlAEbvZd-MiLOgofQ</td>\n",
       "      <td>100.0</td>\n",
       "      <td>4.417143</td>\n",
       "      <td>0.984210</td>\n",
       "      <td>0.005608</td>\n",
       "      <td>507.817143</td>\n",
       "      <td>431.309768</td>\n",
       "      <td>0.548890</td>\n",
       "      <td>0.838737</td>\n",
       "      <td>0.050577</td>\n",
       "      <td>...</td>\n",
       "      <td>0.448009</td>\n",
       "      <td>0.523588</td>\n",
       "      <td>0.575062</td>\n",
       "      <td>0.831112</td>\n",
       "      <td>0.683811</td>\n",
       "      <td>0.605427</td>\n",
       "      <td>0.348571</td>\n",
       "      <td>0.068571</td>\n",
       "      <td>0.022857</td>\n",
       "      <td>175</td>\n",
       "    </tr>\n",
       "    <tr>\n",
       "      <th>2505</th>\n",
       "      <td>zvSUJ7J2-GcB-2E0W2ICbw</td>\n",
       "      <td>96.0</td>\n",
       "      <td>2.666667</td>\n",
       "      <td>1.861899</td>\n",
       "      <td>0.283279</td>\n",
       "      <td>250.500000</td>\n",
       "      <td>79.260961</td>\n",
       "      <td>0.550699</td>\n",
       "      <td>0.577808</td>\n",
       "      <td>0.030437</td>\n",
       "      <td>...</td>\n",
       "      <td>0.492445</td>\n",
       "      <td>0.551134</td>\n",
       "      <td>0.568203</td>\n",
       "      <td>0.577808</td>\n",
       "      <td>0.577808</td>\n",
       "      <td>0.574719</td>\n",
       "      <td>0.333333</td>\n",
       "      <td>0.000000</td>\n",
       "      <td>0.000000</td>\n",
       "      <td>6</td>\n",
       "    </tr>\n",
       "  </tbody>\n",
       "</table>\n",
       "<p>2506 rows × 21 columns</p>\n",
       "</div>"
      ],
      "text/plain": [
       "                 business_id  Score  stars_mean  stars_stdev  stars_stderr  \\\n",
       "0     -0TbQsmE2p1bhG30rgvK2Q   93.0    3.881720     1.458479      0.015598   \n",
       "1     -4bP1UUgpZumIu6DZMaMzw   86.0    4.046931     1.141665      0.002059   \n",
       "2     -4cQ12xutjNLW-tPI06_tg   88.0    3.604651     1.399824      0.016182   \n",
       "3     -4ofMtrD7pSpZIX5pnDkig   79.0    3.980286     1.132221      0.000769   \n",
       "4     -6obgh8LkS9L0Ww1zHdTNg   70.0    4.470588     0.717430      0.040942   \n",
       "...                      ...    ...         ...          ...           ...   \n",
       "2501  zlPKCqb9sfkhIW27sAGsIA   93.0    3.740385     1.238502      0.011851   \n",
       "2502  zo-POOSRX0wiVJlJyvujyA  100.0    4.268293     1.245480      0.030005   \n",
       "2503  zr40jIjFDIcZ3dzbSK53Ww   84.0    3.754386     1.502572      0.013123   \n",
       "2504  zubXuwlAEbvZd-MiLOgofQ  100.0    4.417143     0.984210      0.005608   \n",
       "2505  zvSUJ7J2-GcB-2E0W2ICbw   96.0    2.666667     1.861899      0.283279   \n",
       "\n",
       "      review_length_mean  review_length_stdev  glove_mean  glove_max  \\\n",
       "0             489.795699           438.618398    0.552508   0.665917   \n",
       "1             574.095668           525.703655    0.560573   0.755413   \n",
       "2             560.953488           495.717019    0.565158   0.664877   \n",
       "3             525.397009           448.593692    0.556863   0.849937   \n",
       "4             609.058824           592.097381    0.557673   0.623611   \n",
       "...                  ...                  ...         ...        ...   \n",
       "2501          542.307692           648.372257    0.561962   0.698346   \n",
       "2502          622.097561           421.353818    0.542188   0.644169   \n",
       "2503          471.403509           366.164398    0.567160   0.838737   \n",
       "2504          507.817143           431.309768    0.548890   0.838737   \n",
       "2505          250.500000            79.260961    0.550699   0.577808   \n",
       "\n",
       "      glove_stdev  ...  glove_min  glove_1stquantile  glove_3rdquantile  \\\n",
       "0        0.040836  ...   0.422774           0.529923           0.579391   \n",
       "1        0.037480  ...   0.404551           0.541263           0.581013   \n",
       "2        0.040931  ...   0.433693           0.540345           0.589212   \n",
       "3        0.042083  ...   0.337684           0.534355           0.578256   \n",
       "4        0.038083  ...   0.483129           0.527886           0.583623   \n",
       "...           ...  ...        ...                ...                ...   \n",
       "2501     0.043614  ...   0.425711           0.535624           0.584616   \n",
       "2502     0.040266  ...   0.448009           0.515426           0.565373   \n",
       "2503     0.047999  ...   0.424658           0.539528           0.589220   \n",
       "2504     0.050577  ...   0.448009           0.523588           0.575062   \n",
       "2505     0.030437  ...   0.492445           0.551134           0.568203   \n",
       "\n",
       "      glove_1percent  glove_5percent  glove_25percent  glove_discrim_median  \\\n",
       "0           0.665917        0.638217         0.600703              0.397849   \n",
       "1           0.683500        0.639060         0.601604              0.500000   \n",
       "2           0.664877        0.638817         0.614081              0.534884   \n",
       "3           0.737476        0.657015         0.604329              0.448674   \n",
       "4           0.623611        0.623611         0.601520              0.470588   \n",
       "...              ...             ...              ...                   ...   \n",
       "2501        0.683181        0.651520         0.615014              0.528846   \n",
       "2502        0.644169        0.620135         0.588214              0.268293   \n",
       "2503        0.753205        0.682373         0.620956              0.587719   \n",
       "2504        0.831112        0.683811         0.605427              0.348571   \n",
       "2505        0.577808        0.577808         0.574719              0.333333   \n",
       "\n",
       "      glove_discrim_6  glove_discrim_7  num_reviews  \n",
       "0            0.096774         0.000000           93  \n",
       "1            0.090253         0.001805          554  \n",
       "2            0.197674         0.000000           86  \n",
       "3            0.089055         0.008838         1471  \n",
       "4            0.176471         0.000000           17  \n",
       "...               ...              ...          ...  \n",
       "2501         0.163462         0.000000          104  \n",
       "2502         0.048780         0.000000           41  \n",
       "2503         0.166667         0.008772          114  \n",
       "2504         0.068571         0.022857          175  \n",
       "2505         0.000000         0.000000            6  \n",
       "\n",
       "[2506 rows x 21 columns]"
      ]
     },
     "execution_count": 424,
     "metadata": {},
     "output_type": "execute_result"
    }
   ],
   "source": [
    "features"
   ]
  },
  {
   "cell_type": "code",
   "execution_count": 425,
   "id": "5cb7a6f8-5f8f-4a2a-89fa-0e20bd4f1250",
   "metadata": {},
   "outputs": [
    {
     "data": {
      "text/plain": [
       "<matplotlib.collections.PathCollection at 0x25c8dbe8f40>"
      ]
     },
     "execution_count": 425,
     "metadata": {},
     "output_type": "execute_result"
    },
    {
     "data": {
      "image/png": "[encoded data removed]",
      "text/plain": [
       "<Figure size 432x288 with 1 Axes>"
      ]
     },
     "metadata": {
      "needs_background": "light"
     },
     "output_type": "display_data"
    }
   ],
   "source": [
    "plt.scatter(features.review_length_stdev, features.Score,alpha=0.2)"
   ]
  },
  {
   "cell_type": "code",
   "execution_count": 426,
   "id": "02ec8685-15ee-4dac-8aed-dd1fa6f4b7cc",
   "metadata": {
    "tags": []
   },
   "outputs": [],
   "source": [
    "def test_regressor(regressor,print_R2=True,\n",
    "                   residual_hist=False,predictions_hist=False,scatter_plot=True):\n",
    "    regressor.fit(X_train,y_train)\n",
    "    if print_R2:\n",
    "        print(f'R^2 score: {regressor.score(X_test, y_test)}')\n",
    "    y_predict = regressor.predict(X_test)\n",
    "    if residual_hist:\n",
    "        fig = plt.figure(1)\n",
    "        plt.hist(y_predict-y_test,bins=30,alpha=0.5);\n",
    "        plt.show()\n",
    "    if predictions_hist:\n",
    "        fig = plt.figure(2)\n",
    "        plt.hist(y_predict,bins=30,alpha=0.5)\n",
    "        plt.hist(y_test,bins=30,alpha=0.5)\n",
    "        plt.show()\n",
    "    if scatter_plot:\n",
    "        fig = plt.figure(3)\n",
    "        plt.scatter(y_test,y_predict)"
   ]
  },
  {
   "cell_type": "code",
   "execution_count": 427,
   "id": "f137f740-0842-4335-ad2a-d589fea8f2d4",
   "metadata": {},
   "outputs": [],
   "source": [
    "# %%time\n",
    "# regressor = Ridge(alpha=1)\n",
    "# test_regressor(regressor)"
   ]
  },
  {
   "cell_type": "code",
   "execution_count": 428,
   "id": "57d45fcb-f4fe-46e2-b230-b2e5a0d57fbe",
   "metadata": {
    "tags": []
   },
   "outputs": [
    {
     "name": "stdout",
     "output_type": "stream",
     "text": [
      "CPU times: total: 15.6 ms\n",
      "Wall time: 3 ms\n"
     ]
    }
   ],
   "source": [
    "%%time\n",
    "X = features.drop(['business_id','Score'],axis=1)\n",
    "# X = features[['glove_discrim_median','num_reviews','stars_mean','glove_max']]\n",
    "y = features['Score']\n",
    "\n",
    "X_shuff, y_shuff = shuffle(X, y, random_state=42)\n",
    "X_train, X_test, y_train, y_test = train_test_split(X_shuff, y_shuff, test_size=0.2, random_state=42)"
   ]
  },
  {
   "cell_type": "code",
   "execution_count": 431,
   "id": "f50279f1-2eaa-411a-8517-ef413abddec8",
   "metadata": {},
   "outputs": [
    {
     "name": "stdout",
     "output_type": "stream",
     "text": [
      "R^2 score: 0.1388687192435467\n"
     ]
    },
    {
     "data": {
      "image/png": "[encoded data removed]",
      "text/plain": [
       "<Figure size 432x288 with 1 Axes>"
      ]
     },
     "metadata": {
      "needs_background": "light"
     },
     "output_type": "display_data"
    }
   ],
   "source": [
    "regressor = ensemble.RandomForestRegressor(max_depth=5, n_estimators=500,\n",
    "                                           min_samples_split=5, min_samples_leaf=20,\n",
    "                                           n_jobs=-1)\n",
    "regressor.fit(X_train,y_train)\n",
    "print(f'R^2 score: {regressor.score(X_test, y_test)}')\n",
    "y_predict = regressor.predict(X_test)\n",
    "fig = plt.figure(3)\n",
    "plt.scatter(y_test,y_predict)\n",
    "plt.show()"
   ]
  },
  {
   "cell_type": "code",
   "execution_count": 430,
   "id": "23d95c51-83c3-4150-aa8e-d213b426d165",
   "metadata": {
    "tags": []
   },
   "outputs": [
    {
     "name": "stdout",
     "output_type": "stream",
     "text": [
      "CPU times: total: 36.4 s\n",
      "Wall time: 37.2 s\n"
     ]
    },
    {
     "data": {
      "text/plain": [
       "{'max_depth': 5, 'min_samples_leaf': 21, 'min_samples_split': 5}"
      ]
     },
     "execution_count": 430,
     "metadata": {},
     "output_type": "execute_result"
    }
   ],
   "source": [
    "%%time\n",
    "parameters = {\n",
    "    'max_depth': [4,5,6],\n",
    "    'min_samples_split': [2,3,5],\n",
    "    'min_samples_leaf': [19,20,21]\n",
    "}\n",
    "gs = GridSearchCV(regressor, parameters)\n",
    "gs.fit(X_test,y_test)\n",
    "gs.best_params_"
   ]
  },
  {
   "cell_type": "code",
   "execution_count": 432,
   "id": "ec605795-e93f-44c6-a316-b9e5917e4efa",
   "metadata": {},
   "outputs": [
    {
     "name": "stdout",
     "output_type": "stream",
     "text": [
      "R^2 score: 0.12221279985177325\n"
     ]
    },
    {
     "data": {
      "image/png": "[encoded data removed]",
      "text/plain": [
       "<Figure size 432x288 with 1 Axes>"
      ]
     },
     "metadata": {
      "needs_background": "light"
     },
     "output_type": "display_data"
    },
    {
     "name": "stdout",
     "output_type": "stream",
     "text": [
      "CPU times: total: 906 ms\n",
      "Wall time: 899 ms\n"
     ]
    }
   ],
   "source": [
    "%%time\n",
    "# train regressor on full dataset\n",
    "regressor = ensemble.GradientBoostingRegressor(max_depth=2, n_estimators=200,\n",
    "                                               min_samples_split=5, min_samples_leaf=60)\n",
    "regressor.fit(X_train,y_train)\n",
    "print(f'R^2 score: {regressor.score(X_test, y_test)}')\n",
    "y_predict = regressor.predict(X_test)\n",
    "fig = plt.figure(3)\n",
    "plt.scatter(y_test,y_predict)\n",
    "plt.show()"
   ]
  },
  {
   "cell_type": "code",
   "execution_count": 433,
   "id": "90533009-ad98-42f7-a52c-2a9740f8a648",
   "metadata": {
    "tags": []
   },
   "outputs": [
    {
     "name": "stdout",
     "output_type": "stream",
     "text": [
      "CPU times: total: 35.9 s\n",
      "Wall time: 35.9 s\n"
     ]
    },
    {
     "data": {
      "text/plain": [
       "{'max_depth': 2, 'min_samples_leaf': 60, 'min_samples_split': 2}"
      ]
     },
     "execution_count": 433,
     "metadata": {},
     "output_type": "execute_result"
    }
   ],
   "source": [
    "%%time\n",
    "parameters = {\n",
    "    'max_depth': [2,3,4,5],\n",
    "    'min_samples_split': [2,5,10],\n",
    "    'min_samples_leaf': [40,50,60]\n",
    "}\n",
    "gs = GridSearchCV(regressor, parameters)\n",
    "gs.fit(X_test,y_test)\n",
    "gs.best_params_"
   ]
  },
  {
   "cell_type": "markdown",
   "id": "c5de6a62-46a1-42d1-904e-d8fdad9562af",
   "metadata": {},
   "source": [
    "## using mean vector of dirtiest 15% words"
   ]
  },
  {
   "cell_type": "markdown",
   "id": "c0576c6c-a3bd-4112-aef6-c42005cf8414",
   "metadata": {
    "tags": []
   },
   "source": [
    "### import and cross validate"
   ]
  },
  {
   "cell_type": "code",
   "execution_count": 14,
   "id": "f5968bf0-31b8-46c2-8b86-76844c49f6c7",
   "metadata": {},
   "outputs": [
    {
     "name": "stdout",
     "output_type": "stream",
     "text": [
      "CPU times: total: 22.5 s\n",
      "Wall time: 22.5 s\n"
     ]
    }
   ],
   "source": [
    "%%time\n",
    "df = pd.read_csv(model_directory + 'review_model/15percent_vectors_full_df.csv.gz',compression='gzip').dropna()"
   ]
  },
  {
   "cell_type": "code",
   "execution_count": 27,
   "id": "400a3e25-0d6e-4930-b3df-fc57aed4f01b",
   "metadata": {},
   "outputs": [
    {
     "data": {
      "text/plain": [
       "Index(['business_id', 'review_id', 'text', 'date', 'review_stars', 'Score',\n",
       "       'stars', 'language', '0', '1',\n",
       "       ...\n",
       "       '193', '194', '195', '196', '197', '198', '199', 'both_sim', 'pest_sim',\n",
       "       'dirty_sim'],\n",
       "      dtype='object', length=211)"
      ]
     },
     "execution_count": 27,
     "metadata": {},
     "output_type": "execute_result"
    }
   ],
   "source": [
    "df.columns"
   ]
  },
  {
   "cell_type": "code",
   "execution_count": 244,
   "id": "69261c3b-fc4a-4d1a-9f47-98b5e4f7ccb9",
   "metadata": {},
   "outputs": [],
   "source": [
    "groups = df.sort_values('both_sim',ascending=False).groupby('business_id')"
   ]
  },
  {
   "cell_type": "code",
   "execution_count": 245,
   "id": "f2e6a9f5-8ad4-4632-bb1f-bf08de92c0a1",
   "metadata": {},
   "outputs": [
    {
     "name": "stdout",
     "output_type": "stream",
     "text": [
      "CPU times: total: 4.02 s\n",
      "Wall time: 4.05 s\n"
     ]
    }
   ],
   "source": [
    "%%time\n",
    "df_list = []\n",
    "for business_id, group in groups:\n",
    "    dff = pd.DataFrame()\n",
    "    # average ALL reviews from each business\n",
    "    ll = len(group)\n",
    "    # bound = math.ceil(ll*1.0)\n",
    "    dff[business_id] = group[df.columns[8:]].mean(axis=0)\n",
    "    dff=dff.T\n",
    "    dff['num_reviews'] = ll\n",
    "    dff['Score'] = group.Score.unique().mean()\n",
    "    df_list.append(dff)"
   ]
  },
  {
   "cell_type": "code",
   "execution_count": 246,
   "id": "4bdc28c7-4b54-4a3d-81e4-2f8bb1b1c8eb",
   "metadata": {},
   "outputs": [
    {
     "data": {
      "text/html": [
       "<div>\n",
       "<style scoped>\n",
       "    .dataframe tbody tr th:only-of-type {\n",
       "        vertical-align: middle;\n",
       "    }\n",
       "\n",
       "    .dataframe tbody tr th {\n",
       "        vertical-align: top;\n",
       "    }\n",
       "\n",
       "    .dataframe thead th {\n",
       "        text-align: right;\n",
       "    }\n",
       "</style>\n",
       "<table border=\"1\" class=\"dataframe\">\n",
       "  <thead>\n",
       "    <tr style=\"text-align: right;\">\n",
       "      <th></th>\n",
       "      <th>0</th>\n",
       "      <th>1</th>\n",
       "      <th>2</th>\n",
       "      <th>3</th>\n",
       "      <th>4</th>\n",
       "      <th>5</th>\n",
       "      <th>6</th>\n",
       "      <th>7</th>\n",
       "      <th>8</th>\n",
       "      <th>9</th>\n",
       "      <th>...</th>\n",
       "      <th>195</th>\n",
       "      <th>196</th>\n",
       "      <th>197</th>\n",
       "      <th>198</th>\n",
       "      <th>199</th>\n",
       "      <th>both_sim</th>\n",
       "      <th>pest_sim</th>\n",
       "      <th>dirty_sim</th>\n",
       "      <th>num_reviews</th>\n",
       "      <th>Score</th>\n",
       "    </tr>\n",
       "  </thead>\n",
       "  <tbody>\n",
       "    <tr>\n",
       "      <th>-0TbQsmE2p1bhG30rgvK2Q</th>\n",
       "      <td>-0.086969</td>\n",
       "      <td>-0.096273</td>\n",
       "      <td>-0.041944</td>\n",
       "      <td>0.157228</td>\n",
       "      <td>-0.137185</td>\n",
       "      <td>0.189924</td>\n",
       "      <td>0.759017</td>\n",
       "      <td>-0.066442</td>\n",
       "      <td>-0.217519</td>\n",
       "      <td>-0.108023</td>\n",
       "      <td>...</td>\n",
       "      <td>-0.070024</td>\n",
       "      <td>-0.057137</td>\n",
       "      <td>0.114886</td>\n",
       "      <td>-0.104393</td>\n",
       "      <td>-0.031887</td>\n",
       "      <td>0.521900</td>\n",
       "      <td>0.374044</td>\n",
       "      <td>0.519911</td>\n",
       "      <td>93</td>\n",
       "      <td>95.333333</td>\n",
       "    </tr>\n",
       "    <tr>\n",
       "      <th>-4bP1UUgpZumIu6DZMaMzw</th>\n",
       "      <td>-0.062950</td>\n",
       "      <td>-0.061911</td>\n",
       "      <td>-0.036384</td>\n",
       "      <td>0.165578</td>\n",
       "      <td>-0.165717</td>\n",
       "      <td>0.184858</td>\n",
       "      <td>0.773855</td>\n",
       "      <td>-0.098182</td>\n",
       "      <td>-0.186964</td>\n",
       "      <td>-0.073083</td>\n",
       "      <td>...</td>\n",
       "      <td>-0.065087</td>\n",
       "      <td>-0.018947</td>\n",
       "      <td>0.086973</td>\n",
       "      <td>-0.120612</td>\n",
       "      <td>-0.034870</td>\n",
       "      <td>0.528020</td>\n",
       "      <td>0.368792</td>\n",
       "      <td>0.527125</td>\n",
       "      <td>554</td>\n",
       "      <td>90.500000</td>\n",
       "    </tr>\n",
       "    <tr>\n",
       "      <th>-4cQ12xutjNLW-tPI06_tg</th>\n",
       "      <td>-0.142560</td>\n",
       "      <td>-0.096870</td>\n",
       "      <td>-0.031187</td>\n",
       "      <td>0.214549</td>\n",
       "      <td>-0.140778</td>\n",
       "      <td>0.219187</td>\n",
       "      <td>0.788852</td>\n",
       "      <td>-0.042633</td>\n",
       "      <td>-0.190838</td>\n",
       "      <td>-0.080737</td>\n",
       "      <td>...</td>\n",
       "      <td>-0.062328</td>\n",
       "      <td>-0.056190</td>\n",
       "      <td>0.100655</td>\n",
       "      <td>-0.105705</td>\n",
       "      <td>0.013669</td>\n",
       "      <td>0.534781</td>\n",
       "      <td>0.369401</td>\n",
       "      <td>0.534237</td>\n",
       "      <td>86</td>\n",
       "      <td>93.400000</td>\n",
       "    </tr>\n",
       "    <tr>\n",
       "      <th>-4ofMtrD7pSpZIX5pnDkig</th>\n",
       "      <td>-0.053000</td>\n",
       "      <td>-0.081516</td>\n",
       "      <td>-0.027891</td>\n",
       "      <td>0.141697</td>\n",
       "      <td>-0.105067</td>\n",
       "      <td>0.195082</td>\n",
       "      <td>0.731226</td>\n",
       "      <td>-0.089610</td>\n",
       "      <td>-0.198308</td>\n",
       "      <td>-0.085706</td>\n",
       "      <td>...</td>\n",
       "      <td>-0.046996</td>\n",
       "      <td>-0.010008</td>\n",
       "      <td>0.073353</td>\n",
       "      <td>-0.107109</td>\n",
       "      <td>-0.019602</td>\n",
       "      <td>0.525765</td>\n",
       "      <td>0.371194</td>\n",
       "      <td>0.523566</td>\n",
       "      <td>1471</td>\n",
       "      <td>85.000000</td>\n",
       "    </tr>\n",
       "    <tr>\n",
       "      <th>-6obgh8LkS9L0Ww1zHdTNg</th>\n",
       "      <td>-0.407696</td>\n",
       "      <td>-0.221712</td>\n",
       "      <td>-0.057810</td>\n",
       "      <td>0.188548</td>\n",
       "      <td>-0.117151</td>\n",
       "      <td>0.215167</td>\n",
       "      <td>0.787855</td>\n",
       "      <td>-0.053834</td>\n",
       "      <td>-0.202509</td>\n",
       "      <td>-0.236637</td>\n",
       "      <td>...</td>\n",
       "      <td>-0.057839</td>\n",
       "      <td>0.007619</td>\n",
       "      <td>0.132608</td>\n",
       "      <td>-0.043778</td>\n",
       "      <td>0.064850</td>\n",
       "      <td>0.527475</td>\n",
       "      <td>0.370489</td>\n",
       "      <td>0.527345</td>\n",
       "      <td>17</td>\n",
       "      <td>82.000000</td>\n",
       "    </tr>\n",
       "    <tr>\n",
       "      <th>...</th>\n",
       "      <td>...</td>\n",
       "      <td>...</td>\n",
       "      <td>...</td>\n",
       "      <td>...</td>\n",
       "      <td>...</td>\n",
       "      <td>...</td>\n",
       "      <td>...</td>\n",
       "      <td>...</td>\n",
       "      <td>...</td>\n",
       "      <td>...</td>\n",
       "      <td>...</td>\n",
       "      <td>...</td>\n",
       "      <td>...</td>\n",
       "      <td>...</td>\n",
       "      <td>...</td>\n",
       "      <td>...</td>\n",
       "      <td>...</td>\n",
       "      <td>...</td>\n",
       "      <td>...</td>\n",
       "      <td>...</td>\n",
       "      <td>...</td>\n",
       "    </tr>\n",
       "    <tr>\n",
       "      <th>zlPKCqb9sfkhIW27sAGsIA</th>\n",
       "      <td>-0.043690</td>\n",
       "      <td>-0.037360</td>\n",
       "      <td>-0.019857</td>\n",
       "      <td>0.130351</td>\n",
       "      <td>-0.169593</td>\n",
       "      <td>0.218525</td>\n",
       "      <td>0.765205</td>\n",
       "      <td>-0.077350</td>\n",
       "      <td>-0.183636</td>\n",
       "      <td>-0.092981</td>\n",
       "      <td>...</td>\n",
       "      <td>-0.065235</td>\n",
       "      <td>-0.012338</td>\n",
       "      <td>0.092845</td>\n",
       "      <td>-0.136875</td>\n",
       "      <td>-0.054829</td>\n",
       "      <td>0.529641</td>\n",
       "      <td>0.372383</td>\n",
       "      <td>0.528875</td>\n",
       "      <td>104</td>\n",
       "      <td>93.000000</td>\n",
       "    </tr>\n",
       "    <tr>\n",
       "      <th>zo-POOSRX0wiVJlJyvujyA</th>\n",
       "      <td>0.013921</td>\n",
       "      <td>0.020264</td>\n",
       "      <td>-0.047838</td>\n",
       "      <td>0.140615</td>\n",
       "      <td>-0.084517</td>\n",
       "      <td>0.201258</td>\n",
       "      <td>0.784634</td>\n",
       "      <td>-0.047280</td>\n",
       "      <td>-0.119917</td>\n",
       "      <td>-0.016841</td>\n",
       "      <td>...</td>\n",
       "      <td>-0.040482</td>\n",
       "      <td>-0.032920</td>\n",
       "      <td>0.100669</td>\n",
       "      <td>-0.083300</td>\n",
       "      <td>-0.048943</td>\n",
       "      <td>0.505263</td>\n",
       "      <td>0.369002</td>\n",
       "      <td>0.503876</td>\n",
       "      <td>41</td>\n",
       "      <td>100.000000</td>\n",
       "    </tr>\n",
       "    <tr>\n",
       "      <th>zr40jIjFDIcZ3dzbSK53Ww</th>\n",
       "      <td>-0.356138</td>\n",
       "      <td>-0.258914</td>\n",
       "      <td>-0.032626</td>\n",
       "      <td>0.090282</td>\n",
       "      <td>-0.091228</td>\n",
       "      <td>0.188938</td>\n",
       "      <td>0.822433</td>\n",
       "      <td>-0.015445</td>\n",
       "      <td>-0.146831</td>\n",
       "      <td>-0.217056</td>\n",
       "      <td>...</td>\n",
       "      <td>-0.104437</td>\n",
       "      <td>-0.068619</td>\n",
       "      <td>0.200632</td>\n",
       "      <td>-0.036633</td>\n",
       "      <td>0.118760</td>\n",
       "      <td>0.534063</td>\n",
       "      <td>0.369057</td>\n",
       "      <td>0.532713</td>\n",
       "      <td>114</td>\n",
       "      <td>88.500000</td>\n",
       "    </tr>\n",
       "    <tr>\n",
       "      <th>zubXuwlAEbvZd-MiLOgofQ</th>\n",
       "      <td>-0.114892</td>\n",
       "      <td>-0.117236</td>\n",
       "      <td>-0.025699</td>\n",
       "      <td>0.184582</td>\n",
       "      <td>-0.121042</td>\n",
       "      <td>0.213245</td>\n",
       "      <td>0.747978</td>\n",
       "      <td>-0.098817</td>\n",
       "      <td>-0.235246</td>\n",
       "      <td>-0.111695</td>\n",
       "      <td>...</td>\n",
       "      <td>-0.045445</td>\n",
       "      <td>0.005821</td>\n",
       "      <td>0.090301</td>\n",
       "      <td>-0.116756</td>\n",
       "      <td>-0.052040</td>\n",
       "      <td>0.518075</td>\n",
       "      <td>0.369964</td>\n",
       "      <td>0.515531</td>\n",
       "      <td>175</td>\n",
       "      <td>100.000000</td>\n",
       "    </tr>\n",
       "    <tr>\n",
       "      <th>zvSUJ7J2-GcB-2E0W2ICbw</th>\n",
       "      <td>0.041229</td>\n",
       "      <td>-0.023534</td>\n",
       "      <td>-0.079542</td>\n",
       "      <td>0.152577</td>\n",
       "      <td>-0.045832</td>\n",
       "      <td>0.177050</td>\n",
       "      <td>0.895345</td>\n",
       "      <td>-0.070717</td>\n",
       "      <td>-0.218794</td>\n",
       "      <td>0.118493</td>\n",
       "      <td>...</td>\n",
       "      <td>-0.116411</td>\n",
       "      <td>0.113389</td>\n",
       "      <td>0.159500</td>\n",
       "      <td>-0.112594</td>\n",
       "      <td>-0.121920</td>\n",
       "      <td>0.520463</td>\n",
       "      <td>0.381478</td>\n",
       "      <td>0.520463</td>\n",
       "      <td>6</td>\n",
       "      <td>96.000000</td>\n",
       "    </tr>\n",
       "  </tbody>\n",
       "</table>\n",
       "<p>2506 rows × 205 columns</p>\n",
       "</div>"
      ],
      "text/plain": [
       "                               0         1         2         3         4  \\\n",
       "-0TbQsmE2p1bhG30rgvK2Q -0.086969 -0.096273 -0.041944  0.157228 -0.137185   \n",
       "-4bP1UUgpZumIu6DZMaMzw -0.062950 -0.061911 -0.036384  0.165578 -0.165717   \n",
       "-4cQ12xutjNLW-tPI06_tg -0.142560 -0.096870 -0.031187  0.214549 -0.140778   \n",
       "-4ofMtrD7pSpZIX5pnDkig -0.053000 -0.081516 -0.027891  0.141697 -0.105067   \n",
       "-6obgh8LkS9L0Ww1zHdTNg -0.407696 -0.221712 -0.057810  0.188548 -0.117151   \n",
       "...                          ...       ...       ...       ...       ...   \n",
       "zlPKCqb9sfkhIW27sAGsIA -0.043690 -0.037360 -0.019857  0.130351 -0.169593   \n",
       "zo-POOSRX0wiVJlJyvujyA  0.013921  0.020264 -0.047838  0.140615 -0.084517   \n",
       "zr40jIjFDIcZ3dzbSK53Ww -0.356138 -0.258914 -0.032626  0.090282 -0.091228   \n",
       "zubXuwlAEbvZd-MiLOgofQ -0.114892 -0.117236 -0.025699  0.184582 -0.121042   \n",
       "zvSUJ7J2-GcB-2E0W2ICbw  0.041229 -0.023534 -0.079542  0.152577 -0.045832   \n",
       "\n",
       "                               5         6         7         8         9  ...  \\\n",
       "-0TbQsmE2p1bhG30rgvK2Q  0.189924  0.759017 -0.066442 -0.217519 -0.108023  ...   \n",
       "-4bP1UUgpZumIu6DZMaMzw  0.184858  0.773855 -0.098182 -0.186964 -0.073083  ...   \n",
       "-4cQ12xutjNLW-tPI06_tg  0.219187  0.788852 -0.042633 -0.190838 -0.080737  ...   \n",
       "-4ofMtrD7pSpZIX5pnDkig  0.195082  0.731226 -0.089610 -0.198308 -0.085706  ...   \n",
       "-6obgh8LkS9L0Ww1zHdTNg  0.215167  0.787855 -0.053834 -0.202509 -0.236637  ...   \n",
       "...                          ...       ...       ...       ...       ...  ...   \n",
       "zlPKCqb9sfkhIW27sAGsIA  0.218525  0.765205 -0.077350 -0.183636 -0.092981  ...   \n",
       "zo-POOSRX0wiVJlJyvujyA  0.201258  0.784634 -0.047280 -0.119917 -0.016841  ...   \n",
       "zr40jIjFDIcZ3dzbSK53Ww  0.188938  0.822433 -0.015445 -0.146831 -0.217056  ...   \n",
       "zubXuwlAEbvZd-MiLOgofQ  0.213245  0.747978 -0.098817 -0.235246 -0.111695  ...   \n",
       "zvSUJ7J2-GcB-2E0W2ICbw  0.177050  0.895345 -0.070717 -0.218794  0.118493  ...   \n",
       "\n",
       "                             195       196       197       198       199  \\\n",
       "-0TbQsmE2p1bhG30rgvK2Q -0.070024 -0.057137  0.114886 -0.104393 -0.031887   \n",
       "-4bP1UUgpZumIu6DZMaMzw -0.065087 -0.018947  0.086973 -0.120612 -0.034870   \n",
       "-4cQ12xutjNLW-tPI06_tg -0.062328 -0.056190  0.100655 -0.105705  0.013669   \n",
       "-4ofMtrD7pSpZIX5pnDkig -0.046996 -0.010008  0.073353 -0.107109 -0.019602   \n",
       "-6obgh8LkS9L0Ww1zHdTNg -0.057839  0.007619  0.132608 -0.043778  0.064850   \n",
       "...                          ...       ...       ...       ...       ...   \n",
       "zlPKCqb9sfkhIW27sAGsIA -0.065235 -0.012338  0.092845 -0.136875 -0.054829   \n",
       "zo-POOSRX0wiVJlJyvujyA -0.040482 -0.032920  0.100669 -0.083300 -0.048943   \n",
       "zr40jIjFDIcZ3dzbSK53Ww -0.104437 -0.068619  0.200632 -0.036633  0.118760   \n",
       "zubXuwlAEbvZd-MiLOgofQ -0.045445  0.005821  0.090301 -0.116756 -0.052040   \n",
       "zvSUJ7J2-GcB-2E0W2ICbw -0.116411  0.113389  0.159500 -0.112594 -0.121920   \n",
       "\n",
       "                        both_sim  pest_sim  dirty_sim  num_reviews       Score  \n",
       "-0TbQsmE2p1bhG30rgvK2Q  0.521900  0.374044   0.519911           93   95.333333  \n",
       "-4bP1UUgpZumIu6DZMaMzw  0.528020  0.368792   0.527125          554   90.500000  \n",
       "-4cQ12xutjNLW-tPI06_tg  0.534781  0.369401   0.534237           86   93.400000  \n",
       "-4ofMtrD7pSpZIX5pnDkig  0.525765  0.371194   0.523566         1471   85.000000  \n",
       "-6obgh8LkS9L0Ww1zHdTNg  0.527475  0.370489   0.527345           17   82.000000  \n",
       "...                          ...       ...        ...          ...         ...  \n",
       "zlPKCqb9sfkhIW27sAGsIA  0.529641  0.372383   0.528875          104   93.000000  \n",
       "zo-POOSRX0wiVJlJyvujyA  0.505263  0.369002   0.503876           41  100.000000  \n",
       "zr40jIjFDIcZ3dzbSK53Ww  0.534063  0.369057   0.532713          114   88.500000  \n",
       "zubXuwlAEbvZd-MiLOgofQ  0.518075  0.369964   0.515531          175  100.000000  \n",
       "zvSUJ7J2-GcB-2E0W2ICbw  0.520463  0.381478   0.520463            6   96.000000  \n",
       "\n",
       "[2506 rows x 205 columns]"
      ]
     },
     "execution_count": 246,
     "metadata": {},
     "output_type": "execute_result"
    }
   ],
   "source": [
    "df_tot = pd.concat(df_list)\n",
    "df_tot"
   ]
  },
  {
   "cell_type": "code",
   "execution_count": 247,
   "id": "52c02c1e-8012-45b0-9626-4eaf1dc5b047",
   "metadata": {
    "tags": []
   },
   "outputs": [],
   "source": [
    "def test_regressor(regressor,print_R2=True,\n",
    "                   residual_hist=False,predictions_hist=False,scatter_plot=True):\n",
    "    regressor.fit(X_train,y_train)\n",
    "    if print_R2:\n",
    "        print(f'R^2 score: {regressor.score(X_test, y_test)}')\n",
    "    y_predict = regressor.predict(X_test)\n",
    "    if residual_hist:\n",
    "        fig = plt.figure(1)\n",
    "        plt.hist(y_predict-y_test,bins=30,alpha=0.5);\n",
    "        plt.show()\n",
    "    if predictions_hist:\n",
    "        fig = plt.figure(2)\n",
    "        plt.hist(y_predict,bins=30,alpha=0.5)\n",
    "        plt.hist(y_test,bins=30,alpha=0.5)\n",
    "        plt.show()\n",
    "    if scatter_plot:\n",
    "        fig = plt.figure(3)\n",
    "        plt.scatter(y_test,y_predict)"
   ]
  },
  {
   "cell_type": "code",
   "execution_count": 248,
   "id": "dce3f9dc-2c72-408b-9aa4-c7e552e058fc",
   "metadata": {},
   "outputs": [
    {
     "name": "stdout",
     "output_type": "stream",
     "text": [
      "CPU times: total: 31.2 ms\n",
      "Wall time: 7 ms\n"
     ]
    }
   ],
   "source": [
    "%%time\n",
    "X = df_tot.drop('Score',axis=1)\n",
    "y = df_tot.Score.values\n",
    "\n",
    "X_shuff, y_shuff = shuffle(X, y, random_state=42)\n",
    "X_train, X_test, y_train, y_test = train_test_split(X_shuff, y_shuff, test_size=0.2, random_state=42)"
   ]
  },
  {
   "cell_type": "code",
   "execution_count": 255,
   "id": "ac47cadf-43b5-4fa9-ac5d-ed794ba054a9",
   "metadata": {},
   "outputs": [
    {
     "name": "stdout",
     "output_type": "stream",
     "text": [
      "R^2 score: 0.252632847640453\n"
     ]
    },
    {
     "data": {
      "image/png": "[encoded data removed]",
      "text/plain": [
       "<Figure size 432x288 with 1 Axes>"
      ]
     },
     "metadata": {
      "needs_background": "light"
     },
     "output_type": "display_data"
    },
    {
     "name": "stdout",
     "output_type": "stream",
     "text": [
      "CPU times: total: 469 ms\n",
      "Wall time: 72 ms\n"
     ]
    }
   ],
   "source": [
    "%%time\n",
    "regressor = Ridge(alpha=0.7847599703514611)\n",
    "regressor.fit(X_train,y_train)\n",
    "print(f'R^2 score: {regressor.score(X_test, y_test)}')\n",
    "y_predict = regressor.predict(X_test)\n",
    "fig = plt.figure(3)\n",
    "plt.scatter(y_test,y_predict)\n",
    "plt.show()"
   ]
  },
  {
   "cell_type": "code",
   "execution_count": 254,
   "id": "c14663ac-a00f-4abf-9a06-972af33cb342",
   "metadata": {
    "tags": []
   },
   "outputs": [
    {
     "name": "stdout",
     "output_type": "stream",
     "text": [
      "CPU times: total: 2.62 s\n",
      "Wall time: 431 ms\n"
     ]
    },
    {
     "data": {
      "text/plain": [
       "{'alpha': 0.7847599703514611}"
      ]
     },
     "execution_count": 254,
     "metadata": {},
     "output_type": "execute_result"
    }
   ],
   "source": [
    "%%time\n",
    "parameters = {\n",
    "    'alpha': np.logspace(-2,1,20)\n",
    "}\n",
    "gs = GridSearchCV(regressor, parameters)\n",
    "gs.fit(X_test,y_test)\n",
    "gs.best_params_"
   ]
  },
  {
   "cell_type": "code",
   "execution_count": null,
   "id": "ba244015-e4fc-44c1-a234-9712eb40507e",
   "metadata": {},
   "outputs": [
    {
     "name": "stdout",
     "output_type": "stream",
     "text": [
      "R^2 score: 0.3190530384366882\n"
     ]
    },
    {
     "data": {
      "image/png": "[encoded data removed]",
      "text/plain": [
       "<Figure size 432x288 with 1 Axes>"
      ]
     },
     "metadata": {
      "needs_background": "light"
     },
     "output_type": "display_data"
    },
    {
     "name": "stdout",
     "output_type": "stream",
     "text": [
      "CPU times: total: 3min 8s\n",
      "Wall time: 16.4 s\n"
     ]
    }
   ],
   "source": [
    "%%time\n",
    "regressor = ensemble.RandomForestRegressor(max_depth=20, n_estimators=1000,\n",
    "                                           min_samples_split=5, min_samples_leaf=2,\n",
    "                                           n_jobs=-1)\n",
    "regressor.fit(X_train,y_train)\n",
    "print(f'R^2 score: {regressor.score(X_test, y_test)}')\n",
    "y_predict = regressor.predict(X_test)\n",
    "fig = plt.figure(3)\n",
    "plt.scatter(y_test,y_predict)\n",
    "plt.show()"
   ]
  },
  {
   "cell_type": "code",
   "execution_count": 274,
   "id": "5cb67b93-bf54-4bab-8953-70c9ee683575",
   "metadata": {
    "tags": []
   },
   "outputs": [
    {
     "name": "stdout",
     "output_type": "stream",
     "text": [
      "CPU times: total: 38.2 s\n",
      "Wall time: 1min 7s\n"
     ]
    },
    {
     "data": {
      "text/plain": [
       "{'max_depth': 20, 'min_samples_leaf': 2, 'min_samples_split': 5}"
      ]
     },
     "execution_count": 274,
     "metadata": {},
     "output_type": "execute_result"
    }
   ],
   "source": [
    "%%time\n",
    "parameters = {\n",
    "    'max_depth': [18,20,22,25,30],\n",
    "    'min_samples_split': [2,5,10,20],\n",
    "    'min_samples_leaf': [2,5,10,20]\n",
    "}\n",
    "gs = GridSearchCV(regressor, parameters)\n",
    "gs.fit(X_test,y_test)\n",
    "gs.best_params_"
   ]
  },
  {
   "cell_type": "code",
   "execution_count": 283,
   "id": "441d1dbd-2d01-425d-ac51-75d6b1942dc9",
   "metadata": {},
   "outputs": [
    {
     "name": "stdout",
     "output_type": "stream",
     "text": [
      "R^2 score: 0.28507629264654333\n"
     ]
    },
    {
     "data": {
      "image/png": "[encoded data removed]",
      "text/plain": [
       "<Figure size 432x288 with 1 Axes>"
      ]
     },
     "metadata": {
      "needs_background": "light"
     },
     "output_type": "display_data"
    },
    {
     "name": "stdout",
     "output_type": "stream",
     "text": [
      "CPU times: total: 24.8 s\n",
      "Wall time: 24.8 s\n"
     ]
    }
   ],
   "source": [
    "%%time\n",
    "regressor = ensemble.GradientBoostingRegressor(max_depth=1, n_estimators=1000,\n",
    "                                               min_samples_split=2, min_samples_leaf=15)\n",
    "regressor.fit(X_train,y_train)\n",
    "print(f'R^2 score: {regressor.score(X_test, y_test)}')\n",
    "y_predict = regressor.predict(X_test)\n",
    "fig = plt.figure(3)\n",
    "plt.scatter(y_test,y_predict)\n",
    "plt.show()"
   ]
  },
  {
   "cell_type": "code",
   "execution_count": 282,
   "id": "b9af2a15-13be-4c5e-879c-640547734bc7",
   "metadata": {
    "tags": []
   },
   "outputs": [
    {
     "name": "stdout",
     "output_type": "stream",
     "text": [
      "CPU times: total: 10.8 s\n",
      "Wall time: 10.8 s\n"
     ]
    },
    {
     "data": {
      "text/plain": [
       "{'min_samples_leaf': 15}"
      ]
     },
     "execution_count": 282,
     "metadata": {},
     "output_type": "execute_result"
    }
   ],
   "source": [
    "%%time\n",
    "parameters = {\n",
    "    # 'max_depth': np.arange(1,5,1),\n",
    "    # 'min_samples_split': [2,5,10,15,20,25,30],\n",
    "    'min_samples_leaf': [2,5,10,15,20]\n",
    "}\n",
    "gs = GridSearchCV(regressor, parameters)\n",
    "gs.fit(X_test,y_test)\n",
    "gs.best_params_"
   ]
  },
  {
   "cell_type": "markdown",
   "id": "489d4489-1f83-4092-a8ef-d0a678fe7dbe",
   "metadata": {
    "tags": []
   },
   "source": [
    "### final regressor"
   ]
  },
  {
   "cell_type": "code",
   "execution_count": 328,
   "id": "33fec004-b65e-4d92-8fff-1122777cf3ff",
   "metadata": {},
   "outputs": [
    {
     "name": "stdout",
     "output_type": "stream",
     "text": [
      "CPU times: total: 28.7 s\n",
      "Wall time: 28.7 s\n"
     ]
    }
   ],
   "source": [
    "%%time\n",
    "df = pd.read_csv(model_directory + 'review_model/15percent_vectors_full_df.csv.gz',compression='gzip').dropna()"
   ]
  },
  {
   "cell_type": "code",
   "execution_count": 329,
   "id": "55604846-e89f-4564-ad16-85e71da4c54b",
   "metadata": {},
   "outputs": [
    {
     "name": "stdout",
     "output_type": "stream",
     "text": [
      "CPU times: total: 5.34 s\n",
      "Wall time: 5.34 s\n"
     ]
    }
   ],
   "source": [
    "%%time\n",
    "groups = df.sort_values('both_sim',ascending=False).groupby('business_id')\n",
    "df_list = []\n",
    "for business_id, group in groups:\n",
    "    dff = pd.DataFrame()\n",
    "    # average ALL reviews from each business\n",
    "    ll = len(group)\n",
    "    # bound = math.ceil(ll*1.0)\n",
    "    dff[business_id] = group[df.columns[8:]].mean(axis=0)\n",
    "    dff=dff.T\n",
    "    dff['num_reviews'] = ll\n",
    "    dff['Score'] = group.Score.unique().mean()\n",
    "    df_list.append(dff)\n",
    "df_tot = pd.concat(df_list)"
   ]
  },
  {
   "cell_type": "code",
   "execution_count": 330,
   "id": "30f64f9a-b3ac-4317-ab40-1d3dc0effeb8",
   "metadata": {},
   "outputs": [
    {
     "name": "stdout",
     "output_type": "stream",
     "text": [
      "CPU times: total: 109 ms\n",
      "Wall time: 107 ms\n"
     ]
    }
   ],
   "source": [
    "%%time\n",
    "X = df_tot.drop('Score',axis=1)\n",
    "y = df_tot.Score.values\n",
    "\n",
    "X_shuff, y_shuff = shuffle(X, y, random_state=42)\n",
    "X_train, X_test, y_train, y_test = train_test_split(X_shuff, y_shuff, test_size=0.2, random_state=42)"
   ]
  },
  {
   "cell_type": "code",
   "execution_count": 331,
   "id": "002b0ba6-b5b0-4b0a-ae4e-422dbad5b4f1",
   "metadata": {},
   "outputs": [
    {
     "name": "stdout",
     "output_type": "stream",
     "text": [
      "R^2 score: 0.3155605941169972\n"
     ]
    },
    {
     "data": {
      "image/png": "[encoded data removed]",
      "text/plain": [
       "<Figure size 432x288 with 1 Axes>"
      ]
     },
     "metadata": {
      "needs_background": "light"
     },
     "output_type": "display_data"
    },
    {
     "name": "stdout",
     "output_type": "stream",
     "text": [
      "CPU times: total: 3min 8s\n",
      "Wall time: 16.4 s\n"
     ]
    }
   ],
   "source": [
    "%%time\n",
    "regressor = ensemble.RandomForestRegressor(max_depth=20, n_estimators=1000,\n",
    "                                           min_samples_split=5, min_samples_leaf=2,\n",
    "                                           n_jobs=-1)\n",
    "regressor.fit(X_train,y_train)\n",
    "print(f'R^2 score: {regressor.score(X_test, y_test)}')\n",
    "y_predict = regressor.predict(X_test)\n",
    "fig = plt.figure(3)\n",
    "plt.scatter(y_test,y_predict)\n",
    "plt.show()"
   ]
  },
  {
   "cell_type": "code",
   "execution_count": 332,
   "id": "60509028-9ffe-4105-8381-8d16f87b6e54",
   "metadata": {},
   "outputs": [],
   "source": [
    "# export regressor\n",
    "filename = agg_model_directory + '15percent_vectors_agg_model.pkl'\n",
    "pkl.dump(regressor, open(filename,'wb'))"
   ]
  },
  {
   "cell_type": "markdown",
   "id": "4889a7b5-85ea-4a03-bc50-13b6ef2d4c09",
   "metadata": {
    "tags": []
   },
   "source": [
    "### try grouping by inspection, not business -- this sucks"
   ]
  },
  {
   "cell_type": "code",
   "execution_count": null,
   "id": "a25adc40-777c-4bd4-a017-67ef351fbf0f",
   "metadata": {},
   "outputs": [
    {
     "name": "stdout",
     "output_type": "stream",
     "text": [
      "CPU times: total: 22.5 s\n",
      "Wall time: 22.5 s\n"
     ]
    }
   ],
   "source": [
    "%%time\n",
    "df = pd.read_csv(model_directory + 'review_model/15percent_vectors_full_df.csv.gz',compression='gzip').dropna()"
   ]
  },
  {
   "cell_type": "code",
   "execution_count": null,
   "id": "ace9c57d-75f5-4e1e-88ce-59be60ef78f9",
   "metadata": {},
   "outputs": [
    {
     "name": "stdout",
     "output_type": "stream",
     "text": [
      "CPU times: total: 9.22 s\n",
      "Wall time: 9.25 s\n"
     ]
    }
   ],
   "source": [
    "%%time\n",
    "groups = df.sort_values('both_sim',ascending=False).groupby(['business_id','Score'])\n",
    "df_list = []\n",
    "for business_id, group in groups:\n",
    "    dff = pd.DataFrame()\n",
    "    # average ALL reviews from each business\n",
    "    ll = len(group)\n",
    "    # bound = math.ceil(ll*1.0)\n",
    "    dff[business_id] = group[df.columns[8:]].mean(axis=0)\n",
    "    dff=dff.T\n",
    "    dff['num_reviews'] = ll\n",
    "    dff['Score'] = group.Score.unique().mean()\n",
    "    df_list.append(dff)\n",
    "df_tot = pd.concat(df_list)"
   ]
  },
  {
   "cell_type": "code",
   "execution_count": null,
   "id": "8ec5bc67-63fd-4f6d-b395-0c35969f6b82",
   "metadata": {},
   "outputs": [
    {
     "name": "stdout",
     "output_type": "stream",
     "text": [
      "CPU times: total: 15.6 ms\n",
      "Wall time: 23 ms\n"
     ]
    }
   ],
   "source": [
    "%%time\n",
    "X = df_tot.drop('Score',axis=1)\n",
    "y = df_tot.Score.values\n",
    "\n",
    "X_shuff, y_shuff = shuffle(X, y, random_state=42)\n",
    "X_train, X_test, y_train, y_test = train_test_split(X_shuff, y_shuff, test_size=0.2, random_state=42)"
   ]
  },
  {
   "cell_type": "code",
   "execution_count": null,
   "id": "3ead6438-925a-4abe-ab63-4a940e8b58d8",
   "metadata": {},
   "outputs": [
    {
     "name": "stdout",
     "output_type": "stream",
     "text": [
      "R^2 score: 0.11886921591839616\n"
     ]
    },
    {
     "data": {
      "image/png": "[encoded data removed]",
      "text/plain": [
       "<Figure size 432x288 with 1 Axes>"
      ]
     },
     "metadata": {
      "needs_background": "light"
     },
     "output_type": "display_data"
    },
    {
     "name": "stdout",
     "output_type": "stream",
     "text": [
      "CPU times: total: 9min 45s\n",
      "Wall time: 49.9 s\n"
     ]
    }
   ],
   "source": [
    "%%time\n",
    "regressor = ensemble.RandomForestRegressor(max_depth=20, n_estimators=1000,\n",
    "                                           min_samples_split=5, min_samples_leaf=2,\n",
    "                                           n_jobs=-1)\n",
    "regressor.fit(X_train,y_train)\n",
    "print(f'R^2 score: {regressor.score(X_test, y_test)}')\n",
    "y_predict = regressor.predict(X_test)\n",
    "fig = plt.figure(3)\n",
    "plt.scatter(y_test,y_predict)\n",
    "plt.show()"
   ]
  },
  {
   "cell_type": "markdown",
   "id": "e5c88bcd-e4bb-49f7-a75a-d3f5dab9865d",
   "metadata": {
    "tags": []
   },
   "source": [
    "## using mean vectors to predict individual reviews -- this sucks"
   ]
  },
  {
   "cell_type": "code",
   "execution_count": null,
   "id": "91dd07ec-95de-4680-8964-8e2d392cfb49",
   "metadata": {},
   "outputs": [
    {
     "name": "stdout",
     "output_type": "stream",
     "text": [
      "CPU times: total: 25.6 s\n",
      "Wall time: 25.6 s\n"
     ]
    }
   ],
   "source": [
    "%%time\n",
    "df = pd.read_csv(model_directory + 'review_model/mean_vectors_full_df.csv.gz',compression='gzip').dropna().drop(df.columns[0],axis=1)"
   ]
  },
  {
   "cell_type": "code",
   "execution_count": null,
   "id": "d25fb3fa-7f79-495a-8a65-33bd34223a97",
   "metadata": {},
   "outputs": [
    {
     "name": "stdout",
     "output_type": "stream",
     "text": [
      "CPU times: total: 1.56 s\n",
      "Wall time: 1.56 s\n"
     ]
    }
   ],
   "source": [
    "%%time\n",
    "X = df[df.columns[8:]]\n",
    "y = df.Score.values\n",
    "\n",
    "X_shuff, y_shuff = shuffle(X, y, random_state=42)\n",
    "X_train, X_test, y_train, y_test = train_test_split(X_shuff, y_shuff, test_size=0.2, random_state=42)"
   ]
  },
  {
   "cell_type": "code",
   "execution_count": null,
   "id": "22c1aa41-9f67-468f-931f-44f981ee681c",
   "metadata": {},
   "outputs": [
    {
     "name": "stdout",
     "output_type": "stream",
     "text": [
      "R^2 score: 0.09128650996688781\n"
     ]
    },
    {
     "data": {
      "image/png": "[encoded data removed]",
      "text/plain": [
       "<Figure size 432x288 with 1 Axes>"
      ]
     },
     "metadata": {
      "needs_background": "light"
     },
     "output_type": "display_data"
    },
    {
     "name": "stdout",
     "output_type": "stream",
     "text": [
      "CPU times: total: 4.02 s\n",
      "Wall time: 1.15 s\n"
     ]
    }
   ],
   "source": [
    "%%time\n",
    "regressor = Ridge(alpha=0.02069138081114788)\n",
    "regressor.fit(X_train,y_train)\n",
    "print(f'R^2 score: {regressor.score(X_test, y_test)}')\n",
    "y_predict = regressor.predict(X_test)\n",
    "fig = plt.figure(3)\n",
    "plt.scatter(y_test,y_predict)\n",
    "plt.show()"
   ]
  },
  {
   "cell_type": "code",
   "execution_count": null,
   "id": "5dcd7edf-cbeb-4b3c-9735-f8ff189463d5",
   "metadata": {
    "tags": []
   },
   "outputs": [
    {
     "name": "stdout",
     "output_type": "stream",
     "text": [
      "CPU times: total: 2min 14s\n",
      "Wall time: 22.6 s\n"
     ]
    },
    {
     "data": {
      "text/plain": [
       "{'alpha': 0.02069138081114788}"
      ]
     },
     "execution_count": 325,
     "metadata": {},
     "output_type": "execute_result"
    }
   ],
   "source": [
    "%%time\n",
    "parameters = {\n",
    "    'alpha': np.logspace(-5,2,20)\n",
    "}\n",
    "gs = GridSearchCV(regressor, parameters)\n",
    "gs.fit(X_test,y_test)\n",
    "gs.best_params_"
   ]
  },
  {
   "cell_type": "code",
   "execution_count": null,
   "id": "5da3ff5e-b1b6-4354-8a72-e414d305cb3c",
   "metadata": {},
   "outputs": [
    {
     "name": "stdout",
     "output_type": "stream",
     "text": [
      "R^2 score: 0.04761528737273091\n"
     ]
    },
    {
     "data": {
      "image/png": "[encoded data removed]",
      "text/plain": [
       "<Figure size 432x288 with 1 Axes>"
      ]
     },
     "metadata": {
      "needs_background": "light"
     },
     "output_type": "display_data"
    },
    {
     "name": "stdout",
     "output_type": "stream",
     "text": [
      "CPU times: total: 1h 16min 54s\n",
      "Wall time: 6min 55s\n"
     ]
    }
   ],
   "source": [
    "%%time\n",
    "regressor = ensemble.RandomForestRegressor(max_depth=5, n_estimators=100,\n",
    "                                           min_samples_split=10, min_samples_leaf=5,\n",
    "                                           n_jobs=-1)\n",
    "regressor.fit(X_train,y_train)\n",
    "print(f'R^2 score: {regressor.score(X_test, y_test)}')\n",
    "y_predict = regressor.predict(X_test)\n",
    "fig = plt.figure(3)\n",
    "plt.scatter(y_test,y_predict)\n",
    "plt.show()"
   ]
  },
  {
   "cell_type": "code",
   "execution_count": null,
   "id": "20a4a2cb-3b54-465d-80e8-ed74c633aefc",
   "metadata": {
    "tags": []
   },
   "outputs": [
    {
     "name": "stdout",
     "output_type": "stream",
     "text": [
      "CPU times: total: 53.9 s\n",
      "Wall time: 2min 2s\n"
     ]
    },
    {
     "data": {
      "text/plain": [
       "{'max_depth': 25, 'min_samples_leaf': 5, 'min_samples_split': 10}"
      ]
     },
     "execution_count": 317,
     "metadata": {},
     "output_type": "execute_result"
    }
   ],
   "source": [
    "%%time\n",
    "parameters = {\n",
    "    'max_depth': [22,25,27],\n",
    "    'min_samples_split': [2,5,10],\n",
    "    'min_samples_leaf': [2,5,10]\n",
    "}\n",
    "gs = GridSearchCV(regressor, parameters)\n",
    "gs.fit(X_test,y_test)\n",
    "gs.best_params_"
   ]
  },
  {
   "cell_type": "markdown",
   "id": "afa7ac60-259c-4c85-8746-caf2c2830cbd",
   "metadata": {},
   "source": [
    "## try classification"
   ]
  },
  {
   "cell_type": "code",
   "execution_count": 33,
   "id": "95b38645-9840-4b8d-aad1-e0eb5a4f46f7",
   "metadata": {},
   "outputs": [],
   "source": [
    "def myround(x, base=5):\n",
    "    return base * round(x/base)\n",
    "round_ndarray = np.vectorize(myround)"
   ]
  },
  {
   "cell_type": "code",
   "execution_count": 164,
   "id": "f213cdba-8612-4ace-b794-8f69b7d33186",
   "metadata": {},
   "outputs": [
    {
     "data": {
      "image/png": "[encoded data removed]",
      "text/plain": [
       "<Figure size 432x288 with 1 Axes>"
      ]
     },
     "metadata": {
      "needs_background": "light"
     },
     "output_type": "display_data"
    }
   ],
   "source": [
    "plt.hist(df_tot.Score.values,bins=20)\n",
    "plt.show()"
   ]
  },
  {
   "cell_type": "code",
   "execution_count": 79,
   "id": "0f36ec18-f0eb-4e73-abb6-da55557aed5c",
   "metadata": {},
   "outputs": [
    {
     "data": {
      "text/plain": [
       "91.5"
      ]
     },
     "execution_count": 79,
     "metadata": {},
     "output_type": "execute_result"
    }
   ],
   "source": [
    "df_tot.Score.median()"
   ]
  },
  {
   "cell_type": "code",
   "execution_count": 83,
   "id": "d297b1e1-c5bb-4f57-8173-3e31d6a4b1fb",
   "metadata": {},
   "outputs": [
    {
     "data": {
      "text/plain": [
       "-0TbQsmE2p1bhG30rgvK2Q    0\n",
       "-4bP1UUgpZumIu6DZMaMzw    1\n",
       "-4cQ12xutjNLW-tPI06_tg    0\n",
       "-4ofMtrD7pSpZIX5pnDkig    1\n",
       "-6obgh8LkS9L0Ww1zHdTNg    1\n",
       "                         ..\n",
       "zlPKCqb9sfkhIW27sAGsIA    0\n",
       "zo-POOSRX0wiVJlJyvujyA    0\n",
       "zr40jIjFDIcZ3dzbSK53Ww    1\n",
       "zubXuwlAEbvZd-MiLOgofQ    0\n",
       "zvSUJ7J2-GcB-2E0W2ICbw    0\n",
       "Name: Score, Length: 2506, dtype: int32"
      ]
     },
     "execution_count": 83,
     "metadata": {},
     "output_type": "execute_result"
    }
   ],
   "source": [
    "(df_tot.Score < df_tot.Score.median()).astype(int)"
   ]
  },
  {
   "cell_type": "code",
   "execution_count": 112,
   "id": "2a4a1b85-8d37-4d21-b11d-02f231c3fe51",
   "metadata": {},
   "outputs": [
    {
     "name": "stdout",
     "output_type": "stream",
     "text": [
      "CPU times: total: 0 ns\n",
      "Wall time: 7 ms\n"
     ]
    }
   ],
   "source": [
    "%%time\n",
    "X = df_tot.drop('Score',axis=1)\n",
    "y = (df_tot.Score < 85).astype(int).values\n",
    "\n",
    "X_shuff, y_shuff = shuffle(X, y, random_state=42)\n",
    "X_train, X_test, y_train, y_test = train_test_split(X_shuff, y_shuff, test_size=0.2, random_state=42)"
   ]
  },
  {
   "cell_type": "code",
   "execution_count": 146,
   "id": "9bac6db6-9b6d-4132-a3d1-2e49a231099a",
   "metadata": {},
   "outputs": [
    {
     "name": "stdout",
     "output_type": "stream",
     "text": [
      "Accuracy: 0.8286852589641435\n"
     ]
    },
    {
     "data": {
      "image/png": "[encoded data removed]",
      "text/plain": [
       "<Figure size 432x288 with 1 Axes>"
      ]
     },
     "metadata": {
      "needs_background": "light"
     },
     "output_type": "display_data"
    },
    {
     "name": "stdout",
     "output_type": "stream",
     "text": [
      "CPU times: total: 1min 1s\n",
      "Wall time: 8.31 s\n"
     ]
    }
   ],
   "source": [
    "%%time\n",
    "classifier = ensemble.RandomForestClassifier(max_depth=10, n_estimators=5000,\n",
    "                                             min_samples_split=2, min_samples_leaf=2,\n",
    "                                             n_jobs=-1)\n",
    "classifier.fit(X_train,y_train)\n",
    "print(f'Accuracy: {classifier.score(X_test, y_test)}')\n",
    "y_predict = classifier.predict(X_test)\n",
    "plt.hist(y_predict,alpha=0.5)\n",
    "plt.hist(y_test,alpha=0.5)\n",
    "plt.show()"
   ]
  },
  {
   "cell_type": "code",
   "execution_count": 124,
   "id": "09ad80f5-c645-4832-9246-166b8c6d6ddb",
   "metadata": {
    "tags": []
   },
   "outputs": [
    {
     "name": "stdout",
     "output_type": "stream",
     "text": [
      "CPU times: total: 14.4 s\n",
      "Wall time: 12.5 s\n"
     ]
    },
    {
     "data": {
      "text/plain": [
       "{'max_depth': 5}"
      ]
     },
     "execution_count": 124,
     "metadata": {},
     "output_type": "execute_result"
    }
   ],
   "source": [
    "%%time\n",
    "parameters = {\n",
    "    'max_depth': [1,2,3,4,5]\n",
    "    # 'min_samples_split': [2,5,10,15,20],\n",
    "    # 'min_samples_leaf': [2,5,10,15,20]\n",
    "}\n",
    "gs = GridSearchCV(classifier, parameters)\n",
    "gs.fit(X_test,y_test)\n",
    "gs.best_params_"
   ]
  },
  {
   "cell_type": "code",
   "execution_count": 142,
   "id": "4e8fac69-f842-402d-b6d8-fcf6e164b16e",
   "metadata": {},
   "outputs": [
    {
     "name": "stdout",
     "output_type": "stream",
     "text": [
      "Accuracy: 0.8107569721115537\n"
     ]
    },
    {
     "data": {
      "image/png": "[encoded data removed]",
      "text/plain": [
       "<Figure size 432x288 with 1 Axes>"
      ]
     },
     "metadata": {
      "needs_background": "light"
     },
     "output_type": "display_data"
    },
    {
     "name": "stdout",
     "output_type": "stream",
     "text": [
      "CPU times: total: 93.8 ms\n",
      "Wall time: 90 ms\n"
     ]
    }
   ],
   "source": [
    "%%time\n",
    "classifier = sklearn.linear_model.SGDClassifier(alpha=0.000026)\n",
    "classifier.fit(X_train,y_train)\n",
    "print(f'Accuracy: {classifier.score(X_test, y_test)}')\n",
    "y_predict = classifier.predict(X_test)\n",
    "plt.hist(y_predict,alpha=0.5)\n",
    "plt.hist(y_test,alpha=0.5)\n",
    "plt.show()"
   ]
  },
  {
   "cell_type": "code",
   "execution_count": 105,
   "id": "8a7692eb-b4e9-4433-b5f3-8f5267cd9f76",
   "metadata": {
    "tags": []
   },
   "outputs": [
    {
     "name": "stdout",
     "output_type": "stream",
     "text": [
      "CPU times: total: 141 ms\n",
      "Wall time: 150 ms\n"
     ]
    },
    {
     "data": {
      "text/plain": [
       "{'alpha': 10}"
      ]
     },
     "execution_count": 105,
     "metadata": {},
     "output_type": "execute_result"
    }
   ],
   "source": [
    "%%time\n",
    "parameters = {\n",
    "    'alpha': [0.001,0.01,0.1,1,10]\n",
    "}\n",
    "gs = GridSearchCV(classifier, parameters)\n",
    "gs.fit(X_test,y_test)\n",
    "gs.best_params_"
   ]
  },
  {
   "cell_type": "code",
   "execution_count": 143,
   "id": "80d0d4d1-59dd-416b-bb19-46d8124c4826",
   "metadata": {},
   "outputs": [
    {
     "name": "stdout",
     "output_type": "stream",
     "text": [
      "Accuracy: 0.8247011952191236\n"
     ]
    },
    {
     "data": {
      "image/png": "[encoded data removed]",
      "text/plain": [
       "<Figure size 432x288 with 1 Axes>"
      ]
     },
     "metadata": {
      "needs_background": "light"
     },
     "output_type": "display_data"
    },
    {
     "name": "stdout",
     "output_type": "stream",
     "text": [
      "CPU times: total: 109 ms\n",
      "Wall time: 102 ms\n"
     ]
    }
   ],
   "source": [
    "%%time\n",
    "classifier = sklearn.linear_model.LogisticRegression(solver='lbfgs',penalty='l2',tol=0.001,max_iter=2000)\n",
    "classifier.fit(X_train,y_train)\n",
    "print(f'Accuracy: {classifier.score(X_test, y_test)}')\n",
    "y_predict = classifier.predict(X_test)\n",
    "plt.hist(y_predict,alpha=0.5)\n",
    "plt.hist(y_test,alpha=0.5)\n",
    "plt.show()"
   ]
  },
  {
   "cell_type": "markdown",
   "id": "bd130195-88aa-4286-a473-6635508d1edd",
   "metadata": {},
   "source": [
    "## scratch work"
   ]
  },
  {
   "cell_type": "code",
   "execution_count": 1005,
   "id": "55317623-2f1c-47df-9545-821c55a3eaed",
   "metadata": {},
   "outputs": [
    {
     "data": {
      "image/png": "[encoded data removed]",
      "text/plain": [
       "<Figure size 432x288 with 1 Axes>"
      ]
     },
     "metadata": {
      "needs_background": "light"
     },
     "output_type": "display_data"
    }
   ],
   "source": [
    "for key, group in df_test.dropna().groupby('business_id'):\n",
    "    plt.hist(group.predict,bins=math.ceil(len(group)/3))\n",
    "    break"
   ]
  },
  {
   "cell_type": "code",
   "execution_count": 1019,
   "id": "5e56650b-323b-4554-b9c8-e2b8bea73906",
   "metadata": {},
   "outputs": [],
   "source": [
    "test = df_test.dropna().groupby('business_id')\n",
    "all_keys = list(test.groups.keys())"
   ]
  },
  {
   "cell_type": "code",
   "execution_count": 1018,
   "id": "f4fa3bb0-53c4-4895-95dc-269d776099c9",
   "metadata": {},
   "outputs": [
    {
     "data": {
      "image/png": "[encoded data removed]",
      "text/plain": [
       "<Figure size 432x288 with 1 Axes>"
      ]
     },
     "metadata": {
      "needs_background": "light"
     },
     "output_type": "display_data"
    }
   ],
   "source": [
    "idx = 1\n",
    "plt.hist(df_test.dropna()[df_test.dropna().business_id == this_key].predict, bins = 20)\n",
    "plt.show()"
   ]
  },
  {
   "cell_type": "code",
   "execution_count": 1055,
   "id": "1993c220-c8d9-43ff-9647-9d14c18e6a9c",
   "metadata": {},
   "outputs": [
    {
     "data": {
      "application/vnd.jupyter.widget-view+json": {
       "model_id": "cb1d9aa676724df480066fa9c3b06fc9",
       "version_major": 2,
       "version_minor": 0
      },
      "text/plain": [
       "interactive(children=(IntSlider(value=1, description='INDEX', max=2506), Output()), _dom_classes=('widget-inte…"
      ]
     },
     "metadata": {},
     "output_type": "display_data"
    },
    {
     "data": {
      "text/plain": [
       "<function __main__.plot_hists(index)>"
      ]
     },
     "execution_count": 1055,
     "metadata": {},
     "output_type": "execute_result"
    }
   ],
   "source": [
    "# look at dirtiness score histograms for each business\n",
    "from ipywidgets import interact, IntSlider\n",
    "\n",
    "test = df_test.dropna().groupby('business_id')\n",
    "all_keys = list(test.groups.keys())\n",
    "def plot_hists(index):\n",
    "    this_key = all_keys[index]\n",
    "    fig = plt.figure()\n",
    "    plt.hist(df_test.dropna()[df_test.dropna().business_id == this_key].predict, bins = 20)\n",
    "    plt.title(this_key)\n",
    "    plt.xlim(0.4,0.7)\n",
    "\n",
    "interact(plot_hists, index=IntSlider(min=0, max=len(all_keys), step=1, value=1, description='INDEX'))"
   ]
  },
  {
   "cell_type": "code",
   "execution_count": 928,
   "id": "a9e6f2ce-ed97-44a5-9353-6e7194fa191c",
   "metadata": {},
   "outputs": [
    {
     "data": {
      "text/plain": [
       "(0.5, 0.8)"
      ]
     },
     "execution_count": 928,
     "metadata": {},
     "output_type": "execute_result"
    },
    {
     "data": {
      "image/png": "[encoded data removed]",
      "text/plain": [
       "<Figure size 432x288 with 1 Axes>"
      ]
     },
     "metadata": {
      "needs_background": "light"
     },
     "output_type": "display_data"
    }
   ],
   "source": [
    "# individual inspections\n",
    "display_df = df_test.dropna().groupby(['business_id','Score']).agg(\n",
    "    glove_mean = ('predict', np.mean),\n",
    "    glove_max = ('predict', np.max),\n",
    "    glove_5percent = ('predict', lambda x: np.mean(sorted(x)[-math.ceil(len(x)*0.05):])),\n",
    "    glove_25percent = ('predict', lambda x: np.mean(sorted(x)[-math.ceil(len(x)*0.25):])),\n",
    "    LEN = ('predict',len)\n",
    ").reset_index()\n",
    "# new_df\n",
    "plt.scatter(display_df.P_5percent, display_df.Score,alpha=0.2)\n",
    "plt.xlim(0.5,0.8)"
   ]
  },
  {
   "cell_type": "code",
   "execution_count": 929,
   "id": "9686186a-a2f1-4ad4-a0f1-eae5f078af21",
   "metadata": {},
   "outputs": [
    {
     "data": {
      "text/html": [
       "<div>\n",
       "<style scoped>\n",
       "    .dataframe tbody tr th:only-of-type {\n",
       "        vertical-align: middle;\n",
       "    }\n",
       "\n",
       "    .dataframe tbody tr th {\n",
       "        vertical-align: top;\n",
       "    }\n",
       "\n",
       "    .dataframe thead th {\n",
       "        text-align: right;\n",
       "    }\n",
       "</style>\n",
       "<table border=\"1\" class=\"dataframe\">\n",
       "  <thead>\n",
       "    <tr style=\"text-align: right;\">\n",
       "      <th></th>\n",
       "      <th>business_id</th>\n",
       "      <th>Score</th>\n",
       "      <th>P_mean</th>\n",
       "      <th>P_max</th>\n",
       "      <th>P_5percent</th>\n",
       "      <th>P_25percent</th>\n",
       "      <th>LEN</th>\n",
       "    </tr>\n",
       "  </thead>\n",
       "  <tbody>\n",
       "    <tr>\n",
       "      <th>0</th>\n",
       "      <td>-0TbQsmE2p1bhG30rgvK2Q</td>\n",
       "      <td>93.0</td>\n",
       "      <td>0.561869</td>\n",
       "      <td>0.665917</td>\n",
       "      <td>0.638940</td>\n",
       "      <td>0.604406</td>\n",
       "      <td>91</td>\n",
       "    </tr>\n",
       "    <tr>\n",
       "      <th>1</th>\n",
       "      <td>-0TbQsmE2p1bhG30rgvK2Q</td>\n",
       "      <td>95.0</td>\n",
       "      <td>0.554819</td>\n",
       "      <td>0.554819</td>\n",
       "      <td>0.554819</td>\n",
       "      <td>0.554819</td>\n",
       "      <td>1</td>\n",
       "    </tr>\n",
       "    <tr>\n",
       "      <th>2</th>\n",
       "      <td>-0TbQsmE2p1bhG30rgvK2Q</td>\n",
       "      <td>98.0</td>\n",
       "      <td>0.587358</td>\n",
       "      <td>0.587358</td>\n",
       "      <td>0.587358</td>\n",
       "      <td>0.587358</td>\n",
       "      <td>1</td>\n",
       "    </tr>\n",
       "    <tr>\n",
       "      <th>3</th>\n",
       "      <td>-4bP1UUgpZumIu6DZMaMzw</td>\n",
       "      <td>86.0</td>\n",
       "      <td>0.564605</td>\n",
       "      <td>0.755413</td>\n",
       "      <td>0.638698</td>\n",
       "      <td>0.603939</td>\n",
       "      <td>551</td>\n",
       "    </tr>\n",
       "    <tr>\n",
       "      <th>4</th>\n",
       "      <td>-4bP1UUgpZumIu6DZMaMzw</td>\n",
       "      <td>95.0</td>\n",
       "      <td>0.546350</td>\n",
       "      <td>0.578693</td>\n",
       "      <td>0.578693</td>\n",
       "      <td>0.575395</td>\n",
       "      <td>5</td>\n",
       "    </tr>\n",
       "    <tr>\n",
       "      <th>...</th>\n",
       "      <td>...</td>\n",
       "      <td>...</td>\n",
       "      <td>...</td>\n",
       "      <td>...</td>\n",
       "      <td>...</td>\n",
       "      <td>...</td>\n",
       "      <td>...</td>\n",
       "    </tr>\n",
       "    <tr>\n",
       "      <th>6612</th>\n",
       "      <td>zo-POOSRX0wiVJlJyvujyA</td>\n",
       "      <td>100.0</td>\n",
       "      <td>0.550204</td>\n",
       "      <td>0.644169</td>\n",
       "      <td>0.623998</td>\n",
       "      <td>0.594160</td>\n",
       "      <td>41</td>\n",
       "    </tr>\n",
       "    <tr>\n",
       "      <th>6613</th>\n",
       "      <td>zr40jIjFDIcZ3dzbSK53Ww</td>\n",
       "      <td>84.0</td>\n",
       "      <td>0.570818</td>\n",
       "      <td>0.603337</td>\n",
       "      <td>0.603337</td>\n",
       "      <td>0.595796</td>\n",
       "      <td>15</td>\n",
       "    </tr>\n",
       "    <tr>\n",
       "      <th>6614</th>\n",
       "      <td>zr40jIjFDIcZ3dzbSK53Ww</td>\n",
       "      <td>93.0</td>\n",
       "      <td>0.576151</td>\n",
       "      <td>0.706883</td>\n",
       "      <td>0.663887</td>\n",
       "      <td>0.620880</td>\n",
       "      <td>99</td>\n",
       "    </tr>\n",
       "    <tr>\n",
       "      <th>6615</th>\n",
       "      <td>zubXuwlAEbvZd-MiLOgofQ</td>\n",
       "      <td>100.0</td>\n",
       "      <td>0.554177</td>\n",
       "      <td>0.838737</td>\n",
       "      <td>0.683811</td>\n",
       "      <td>0.608397</td>\n",
       "      <td>175</td>\n",
       "    </tr>\n",
       "    <tr>\n",
       "      <th>6616</th>\n",
       "      <td>zvSUJ7J2-GcB-2E0W2ICbw</td>\n",
       "      <td>96.0</td>\n",
       "      <td>0.552676</td>\n",
       "      <td>0.577808</td>\n",
       "      <td>0.577808</td>\n",
       "      <td>0.574719</td>\n",
       "      <td>6</td>\n",
       "    </tr>\n",
       "  </tbody>\n",
       "</table>\n",
       "<p>6617 rows × 7 columns</p>\n",
       "</div>"
      ],
      "text/plain": [
       "                 business_id  Score    P_mean     P_max  P_5percent  \\\n",
       "0     -0TbQsmE2p1bhG30rgvK2Q   93.0  0.561869  0.665917    0.638940   \n",
       "1     -0TbQsmE2p1bhG30rgvK2Q   95.0  0.554819  0.554819    0.554819   \n",
       "2     -0TbQsmE2p1bhG30rgvK2Q   98.0  0.587358  0.587358    0.587358   \n",
       "3     -4bP1UUgpZumIu6DZMaMzw   86.0  0.564605  0.755413    0.638698   \n",
       "4     -4bP1UUgpZumIu6DZMaMzw   95.0  0.546350  0.578693    0.578693   \n",
       "...                      ...    ...       ...       ...         ...   \n",
       "6612  zo-POOSRX0wiVJlJyvujyA  100.0  0.550204  0.644169    0.623998   \n",
       "6613  zr40jIjFDIcZ3dzbSK53Ww   84.0  0.570818  0.603337    0.603337   \n",
       "6614  zr40jIjFDIcZ3dzbSK53Ww   93.0  0.576151  0.706883    0.663887   \n",
       "6615  zubXuwlAEbvZd-MiLOgofQ  100.0  0.554177  0.838737    0.683811   \n",
       "6616  zvSUJ7J2-GcB-2E0W2ICbw   96.0  0.552676  0.577808    0.577808   \n",
       "\n",
       "      P_25percent  LEN  \n",
       "0        0.604406   91  \n",
       "1        0.554819    1  \n",
       "2        0.587358    1  \n",
       "3        0.603939  551  \n",
       "4        0.575395    5  \n",
       "...           ...  ...  \n",
       "6612     0.594160   41  \n",
       "6613     0.595796   15  \n",
       "6614     0.620880   99  \n",
       "6615     0.608397  175  \n",
       "6616     0.574719    6  \n",
       "\n",
       "[6617 rows x 7 columns]"
      ]
     },
     "execution_count": 929,
     "metadata": {},
     "output_type": "execute_result"
    }
   ],
   "source": [
    "display_df"
   ]
  },
  {
   "cell_type": "code",
   "execution_count": 922,
   "id": "3504652c-ce40-486e-b33c-27f10a14305d",
   "metadata": {},
   "outputs": [
    {
     "data": {
      "text/plain": [
       "(array([1.815e+03, 3.230e+02, 1.100e+02, 5.100e+01, 1.500e+01, 1.300e+01,\n",
       "        8.000e+00, 5.000e+00, 4.000e+00, 3.000e+00, 1.000e+00, 0.000e+00,\n",
       "        0.000e+00, 0.000e+00, 0.000e+00, 0.000e+00, 1.000e+00, 1.000e+00,\n",
       "        0.000e+00, 1.000e+00]),\n",
       " array([ 1.  ,  5.85, 10.7 , 15.55, 20.4 , 25.25, 30.1 , 34.95, 39.8 ,\n",
       "        44.65, 49.5 , 54.35, 59.2 , 64.05, 68.9 , 73.75, 78.6 , 83.45,\n",
       "        88.3 , 93.15, 98.  ]),\n",
       " <BarContainer object of 20 artists>)"
      ]
     },
     "execution_count": 922,
     "metadata": {},
     "output_type": "execute_result"
    },
    {
     "data": {
      "image/png": "[encoded data removed]",
      "text/plain": [
       "<Figure size 432x288 with 1 Axes>"
      ]
     },
     "metadata": {
      "needs_background": "light"
     },
     "output_type": "display_data"
    }
   ],
   "source": [
    "plt.hist(df_test.groupby(['business_id','Score']).text.agg(len),bins=20)"
   ]
  },
  {
   "cell_type": "code",
   "execution_count": 880,
   "id": "02c9795d-6e4d-43bd-b5ef-1ab473dca5ab",
   "metadata": {},
   "outputs": [
    {
     "data": {
      "text/html": [
       "<div>\n",
       "<style scoped>\n",
       "    .dataframe tbody tr th:only-of-type {\n",
       "        vertical-align: middle;\n",
       "    }\n",
       "\n",
       "    .dataframe tbody tr th {\n",
       "        vertical-align: top;\n",
       "    }\n",
       "\n",
       "    .dataframe thead th {\n",
       "        text-align: right;\n",
       "    }\n",
       "</style>\n",
       "<table border=\"1\" class=\"dataframe\">\n",
       "  <thead>\n",
       "    <tr style=\"text-align: right;\">\n",
       "      <th></th>\n",
       "      <th>business_id</th>\n",
       "      <th>Score</th>\n",
       "      <th>P_mean</th>\n",
       "      <th>P_max</th>\n",
       "      <th>P_5percent</th>\n",
       "      <th>LEN</th>\n",
       "    </tr>\n",
       "  </thead>\n",
       "  <tbody>\n",
       "    <tr>\n",
       "      <th>6</th>\n",
       "      <td>41kwNkIJMsK_flnEqy5YIQ</td>\n",
       "      <td>99.0</td>\n",
       "      <td>0.576753</td>\n",
       "      <td>0.606792</td>\n",
       "      <td>0.606792</td>\n",
       "      <td>4</td>\n",
       "    </tr>\n",
       "    <tr>\n",
       "      <th>8</th>\n",
       "      <td>5Kklp6a7lggH2XQ2MSYANA</td>\n",
       "      <td>83.0</td>\n",
       "      <td>0.520277</td>\n",
       "      <td>0.520277</td>\n",
       "      <td>0.520277</td>\n",
       "      <td>1</td>\n",
       "    </tr>\n",
       "    <tr>\n",
       "      <th>9</th>\n",
       "      <td>5Kklp6a7lggH2XQ2MSYANA</td>\n",
       "      <td>90.0</td>\n",
       "      <td>0.588253</td>\n",
       "      <td>0.618178</td>\n",
       "      <td>0.618178</td>\n",
       "      <td>4</td>\n",
       "    </tr>\n",
       "    <tr>\n",
       "      <th>11</th>\n",
       "      <td>5N4bHv9sTm1JsDqhDWz-tA</td>\n",
       "      <td>88.0</td>\n",
       "      <td>0.585898</td>\n",
       "      <td>0.585898</td>\n",
       "      <td>0.585898</td>\n",
       "      <td>1</td>\n",
       "    </tr>\n",
       "    <tr>\n",
       "      <th>12</th>\n",
       "      <td>5N4bHv9sTm1JsDqhDWz-tA</td>\n",
       "      <td>90.0</td>\n",
       "      <td>0.585409</td>\n",
       "      <td>0.598894</td>\n",
       "      <td>0.598894</td>\n",
       "      <td>3</td>\n",
       "    </tr>\n",
       "    <tr>\n",
       "      <th>22</th>\n",
       "      <td>FXs03HmN_vW8axbAB7lG1w</td>\n",
       "      <td>91.0</td>\n",
       "      <td>0.316157</td>\n",
       "      <td>0.567058</td>\n",
       "      <td>0.567058</td>\n",
       "      <td>3</td>\n",
       "    </tr>\n",
       "    <tr>\n",
       "      <th>23</th>\n",
       "      <td>FXs03HmN_vW8axbAB7lG1w</td>\n",
       "      <td>95.0</td>\n",
       "      <td>0.521892</td>\n",
       "      <td>0.534170</td>\n",
       "      <td>0.534170</td>\n",
       "      <td>2</td>\n",
       "    </tr>\n",
       "    <tr>\n",
       "      <th>25</th>\n",
       "      <td>GrnS4hEW6smYaIe_KzDOWw</td>\n",
       "      <td>83.0</td>\n",
       "      <td>0.575028</td>\n",
       "      <td>0.575028</td>\n",
       "      <td>0.575028</td>\n",
       "      <td>1</td>\n",
       "    </tr>\n",
       "    <tr>\n",
       "      <th>26</th>\n",
       "      <td>HJisBzwgGpCZu0ZkO8LFzA</td>\n",
       "      <td>59.0</td>\n",
       "      <td>0.585344</td>\n",
       "      <td>0.702068</td>\n",
       "      <td>0.702068</td>\n",
       "      <td>4</td>\n",
       "    </tr>\n",
       "    <tr>\n",
       "      <th>34</th>\n",
       "      <td>KEh3efWSOIzd8BvuW-X4-g</td>\n",
       "      <td>83.0</td>\n",
       "      <td>0.589768</td>\n",
       "      <td>0.600710</td>\n",
       "      <td>0.600710</td>\n",
       "      <td>3</td>\n",
       "    </tr>\n",
       "    <tr>\n",
       "      <th>41</th>\n",
       "      <td>OJxWVI_240DS1Xyb-JK-uw</td>\n",
       "      <td>88.0</td>\n",
       "      <td>0.576085</td>\n",
       "      <td>0.593207</td>\n",
       "      <td>0.593207</td>\n",
       "      <td>3</td>\n",
       "    </tr>\n",
       "    <tr>\n",
       "      <th>42</th>\n",
       "      <td>OJxWVI_240DS1Xyb-JK-uw</td>\n",
       "      <td>89.0</td>\n",
       "      <td>0.539120</td>\n",
       "      <td>0.548512</td>\n",
       "      <td>0.548512</td>\n",
       "      <td>2</td>\n",
       "    </tr>\n",
       "    <tr>\n",
       "      <th>49</th>\n",
       "      <td>Ymr0gtRtsRZZwgxpIlr0Wg</td>\n",
       "      <td>86.0</td>\n",
       "      <td>0.614480</td>\n",
       "      <td>0.678152</td>\n",
       "      <td>0.678152</td>\n",
       "      <td>3</td>\n",
       "    </tr>\n",
       "    <tr>\n",
       "      <th>50</th>\n",
       "      <td>Ymr0gtRtsRZZwgxpIlr0Wg</td>\n",
       "      <td>89.0</td>\n",
       "      <td>0.571693</td>\n",
       "      <td>0.584361</td>\n",
       "      <td>0.584361</td>\n",
       "      <td>4</td>\n",
       "    </tr>\n",
       "    <tr>\n",
       "      <th>62</th>\n",
       "      <td>e9KCQvafAkKzg5-rb7Sihg</td>\n",
       "      <td>76.0</td>\n",
       "      <td>0.553122</td>\n",
       "      <td>0.565899</td>\n",
       "      <td>0.565899</td>\n",
       "      <td>2</td>\n",
       "    </tr>\n",
       "    <tr>\n",
       "      <th>64</th>\n",
       "      <td>eMDioWsOtXvEudgf75JDNg</td>\n",
       "      <td>81.0</td>\n",
       "      <td>0.560710</td>\n",
       "      <td>0.560710</td>\n",
       "      <td>0.560710</td>\n",
       "      <td>1</td>\n",
       "    </tr>\n",
       "    <tr>\n",
       "      <th>67</th>\n",
       "      <td>iFofOanM-8rT21M0SHNjoA</td>\n",
       "      <td>86.0</td>\n",
       "      <td>0.570313</td>\n",
       "      <td>0.621738</td>\n",
       "      <td>0.621738</td>\n",
       "      <td>4</td>\n",
       "    </tr>\n",
       "    <tr>\n",
       "      <th>69</th>\n",
       "      <td>iFofOanM-8rT21M0SHNjoA</td>\n",
       "      <td>96.0</td>\n",
       "      <td>0.582089</td>\n",
       "      <td>0.597674</td>\n",
       "      <td>0.597674</td>\n",
       "      <td>3</td>\n",
       "    </tr>\n",
       "    <tr>\n",
       "      <th>71</th>\n",
       "      <td>n5gH9AQYodz8847rk5rLyw</td>\n",
       "      <td>96.0</td>\n",
       "      <td>0.614800</td>\n",
       "      <td>0.614800</td>\n",
       "      <td>0.614800</td>\n",
       "      <td>1</td>\n",
       "    </tr>\n",
       "    <tr>\n",
       "      <th>74</th>\n",
       "      <td>p99DZXmdF7smudK9FnlC9A</td>\n",
       "      <td>92.0</td>\n",
       "      <td>0.559317</td>\n",
       "      <td>0.607401</td>\n",
       "      <td>0.607401</td>\n",
       "      <td>4</td>\n",
       "    </tr>\n",
       "    <tr>\n",
       "      <th>76</th>\n",
       "      <td>sxJG2vDnCMBTRq32GObUXg</td>\n",
       "      <td>97.0</td>\n",
       "      <td>0.559907</td>\n",
       "      <td>0.559907</td>\n",
       "      <td>0.559907</td>\n",
       "      <td>1</td>\n",
       "    </tr>\n",
       "    <tr>\n",
       "      <th>77</th>\n",
       "      <td>sxJG2vDnCMBTRq32GObUXg</td>\n",
       "      <td>98.0</td>\n",
       "      <td>0.539425</td>\n",
       "      <td>0.602848</td>\n",
       "      <td>0.602848</td>\n",
       "      <td>2</td>\n",
       "    </tr>\n",
       "  </tbody>\n",
       "</table>\n",
       "</div>"
      ],
      "text/plain": [
       "               business_id  Score    P_mean     P_max  P_5percent  LEN\n",
       "6   41kwNkIJMsK_flnEqy5YIQ   99.0  0.576753  0.606792    0.606792    4\n",
       "8   5Kklp6a7lggH2XQ2MSYANA   83.0  0.520277  0.520277    0.520277    1\n",
       "9   5Kklp6a7lggH2XQ2MSYANA   90.0  0.588253  0.618178    0.618178    4\n",
       "11  5N4bHv9sTm1JsDqhDWz-tA   88.0  0.585898  0.585898    0.585898    1\n",
       "12  5N4bHv9sTm1JsDqhDWz-tA   90.0  0.585409  0.598894    0.598894    3\n",
       "22  FXs03HmN_vW8axbAB7lG1w   91.0  0.316157  0.567058    0.567058    3\n",
       "23  FXs03HmN_vW8axbAB7lG1w   95.0  0.521892  0.534170    0.534170    2\n",
       "25  GrnS4hEW6smYaIe_KzDOWw   83.0  0.575028  0.575028    0.575028    1\n",
       "26  HJisBzwgGpCZu0ZkO8LFzA   59.0  0.585344  0.702068    0.702068    4\n",
       "34  KEh3efWSOIzd8BvuW-X4-g   83.0  0.589768  0.600710    0.600710    3\n",
       "41  OJxWVI_240DS1Xyb-JK-uw   88.0  0.576085  0.593207    0.593207    3\n",
       "42  OJxWVI_240DS1Xyb-JK-uw   89.0  0.539120  0.548512    0.548512    2\n",
       "49  Ymr0gtRtsRZZwgxpIlr0Wg   86.0  0.614480  0.678152    0.678152    3\n",
       "50  Ymr0gtRtsRZZwgxpIlr0Wg   89.0  0.571693  0.584361    0.584361    4\n",
       "62  e9KCQvafAkKzg5-rb7Sihg   76.0  0.553122  0.565899    0.565899    2\n",
       "64  eMDioWsOtXvEudgf75JDNg   81.0  0.560710  0.560710    0.560710    1\n",
       "67  iFofOanM-8rT21M0SHNjoA   86.0  0.570313  0.621738    0.621738    4\n",
       "69  iFofOanM-8rT21M0SHNjoA   96.0  0.582089  0.597674    0.597674    3\n",
       "71  n5gH9AQYodz8847rk5rLyw   96.0  0.614800  0.614800    0.614800    1\n",
       "74  p99DZXmdF7smudK9FnlC9A   92.0  0.559317  0.607401    0.607401    4\n",
       "76  sxJG2vDnCMBTRq32GObUXg   97.0  0.559907  0.559907    0.559907    1\n",
       "77  sxJG2vDnCMBTRq32GObUXg   98.0  0.539425  0.602848    0.602848    2"
      ]
     },
     "execution_count": 880,
     "metadata": {},
     "output_type": "execute_result"
    }
   ],
   "source": [
    "new_df[new_df.LEN < 5]"
   ]
  },
  {
   "cell_type": "code",
   "execution_count": 863,
   "id": "022a4841-8c91-4d62-8829-6017fb756bc7",
   "metadata": {},
   "outputs": [
    {
     "ename": "ValueError",
     "evalue": "cannot insert Score, already exists",
     "output_type": "error",
     "traceback": [
      "\u001b[1;31m---------------------------------------------------------------------------\u001b[0m",
      "\u001b[1;31mValueError\u001b[0m                                Traceback (most recent call last)",
      "Input \u001b[1;32mIn [863]\u001b[0m, in \u001b[0;36m<cell line: 1>\u001b[1;34m()\u001b[0m\n\u001b[1;32m----> 1\u001b[0m \u001b[43mnew_df\u001b[49m\u001b[38;5;241;43m.\u001b[39;49m\u001b[43mgroupby\u001b[49m\u001b[43m(\u001b[49m\u001b[43m[\u001b[49m\u001b[38;5;124;43m'\u001b[39;49m\u001b[38;5;124;43mbusiness_id\u001b[39;49m\u001b[38;5;124;43m'\u001b[39;49m\u001b[43m,\u001b[49m\u001b[38;5;124;43m'\u001b[39;49m\u001b[38;5;124;43mScore\u001b[39;49m\u001b[38;5;124;43m'\u001b[39;49m\u001b[43m]\u001b[49m\u001b[43m)\u001b[49m\u001b[38;5;241;43m.\u001b[39;49m\u001b[43magg\u001b[49m\u001b[43m(\u001b[49m\n\u001b[0;32m      2\u001b[0m \u001b[43m    \u001b[49m\u001b[43mScore\u001b[49m\u001b[43m \u001b[49m\u001b[38;5;241;43m=\u001b[39;49m\u001b[43m \u001b[49m\u001b[43m(\u001b[49m\u001b[38;5;124;43m'\u001b[39;49m\u001b[38;5;124;43mScore\u001b[39;49m\u001b[38;5;124;43m'\u001b[39;49m\u001b[43m,\u001b[49m\u001b[43m \u001b[49m\u001b[43mnp\u001b[49m\u001b[38;5;241;43m.\u001b[39;49m\u001b[43mmean\u001b[49m\u001b[43m)\u001b[49m\u001b[43m,\u001b[49m\n\u001b[0;32m      3\u001b[0m \u001b[43m    \u001b[49m\u001b[43mP_mean\u001b[49m\u001b[43m \u001b[49m\u001b[38;5;241;43m=\u001b[39;49m\u001b[43m \u001b[49m\u001b[43m(\u001b[49m\u001b[38;5;124;43m'\u001b[39;49m\u001b[38;5;124;43mpredict\u001b[39;49m\u001b[38;5;124;43m'\u001b[39;49m\u001b[43m,\u001b[49m\u001b[43m \u001b[49m\u001b[43mnp\u001b[49m\u001b[38;5;241;43m.\u001b[39;49m\u001b[43mmean\u001b[49m\u001b[43m)\u001b[49m\u001b[43m,\u001b[49m\n\u001b[0;32m      4\u001b[0m \u001b[43m    \u001b[49m\u001b[43mP_max\u001b[49m\u001b[43m \u001b[49m\u001b[38;5;241;43m=\u001b[39;49m\u001b[43m \u001b[49m\u001b[43m(\u001b[49m\u001b[38;5;124;43m'\u001b[39;49m\u001b[38;5;124;43mpredict\u001b[39;49m\u001b[38;5;124;43m'\u001b[39;49m\u001b[43m,\u001b[49m\u001b[43m \u001b[49m\u001b[43mnp\u001b[49m\u001b[38;5;241;43m.\u001b[39;49m\u001b[43mmax\u001b[49m\u001b[43m)\u001b[49m\n\u001b[0;32m      5\u001b[0m \u001b[43m)\u001b[49m\u001b[38;5;241;43m.\u001b[39;49m\u001b[43mreset_index\u001b[49m\u001b[43m(\u001b[49m\u001b[43m)\u001b[49m\n",
      "File \u001b[1;32m~\\anaconda3\\envs\\pypy\\lib\\site-packages\\pandas\\util\\_decorators.py:311\u001b[0m, in \u001b[0;36mdeprecate_nonkeyword_arguments.<locals>.decorate.<locals>.wrapper\u001b[1;34m(*args, **kwargs)\u001b[0m\n\u001b[0;32m    305\u001b[0m \u001b[38;5;28;01mif\u001b[39;00m \u001b[38;5;28mlen\u001b[39m(args) \u001b[38;5;241m>\u001b[39m num_allow_args:\n\u001b[0;32m    306\u001b[0m     warnings\u001b[38;5;241m.\u001b[39mwarn(\n\u001b[0;32m    307\u001b[0m         msg\u001b[38;5;241m.\u001b[39mformat(arguments\u001b[38;5;241m=\u001b[39marguments),\n\u001b[0;32m    308\u001b[0m         \u001b[38;5;167;01mFutureWarning\u001b[39;00m,\n\u001b[0;32m    309\u001b[0m         stacklevel\u001b[38;5;241m=\u001b[39mstacklevel,\n\u001b[0;32m    310\u001b[0m     )\n\u001b[1;32m--> 311\u001b[0m \u001b[38;5;28;01mreturn\u001b[39;00m func(\u001b[38;5;241m*\u001b[39margs, \u001b[38;5;241m*\u001b[39m\u001b[38;5;241m*\u001b[39mkwargs)\n",
      "File \u001b[1;32m~\\anaconda3\\envs\\pypy\\lib\\site-packages\\pandas\\core\\frame.py:5839\u001b[0m, in \u001b[0;36mDataFrame.reset_index\u001b[1;34m(self, level, drop, inplace, col_level, col_fill)\u001b[0m\n\u001b[0;32m   5833\u001b[0m         \u001b[38;5;28;01mif\u001b[39;00m lab \u001b[38;5;129;01mis\u001b[39;00m \u001b[38;5;129;01mnot\u001b[39;00m \u001b[38;5;28;01mNone\u001b[39;00m:\n\u001b[0;32m   5834\u001b[0m             \u001b[38;5;66;03m# if we have the codes, extract the values with a mask\u001b[39;00m\n\u001b[0;32m   5835\u001b[0m             level_values \u001b[38;5;241m=\u001b[39m algorithms\u001b[38;5;241m.\u001b[39mtake(\n\u001b[0;32m   5836\u001b[0m                 level_values, lab, allow_fill\u001b[38;5;241m=\u001b[39m\u001b[38;5;28;01mTrue\u001b[39;00m, fill_value\u001b[38;5;241m=\u001b[39mlev\u001b[38;5;241m.\u001b[39m_na_value\n\u001b[0;32m   5837\u001b[0m             )\n\u001b[1;32m-> 5839\u001b[0m         \u001b[43mnew_obj\u001b[49m\u001b[38;5;241;43m.\u001b[39;49m\u001b[43minsert\u001b[49m\u001b[43m(\u001b[49m\u001b[38;5;241;43m0\u001b[39;49m\u001b[43m,\u001b[49m\u001b[43m \u001b[49m\u001b[43mname\u001b[49m\u001b[43m,\u001b[49m\u001b[43m \u001b[49m\u001b[43mlevel_values\u001b[49m\u001b[43m)\u001b[49m\n\u001b[0;32m   5841\u001b[0m new_obj\u001b[38;5;241m.\u001b[39mindex \u001b[38;5;241m=\u001b[39m new_index\n\u001b[0;32m   5842\u001b[0m \u001b[38;5;28;01mif\u001b[39;00m \u001b[38;5;129;01mnot\u001b[39;00m inplace:\n",
      "File \u001b[1;32m~\\anaconda3\\envs\\pypy\\lib\\site-packages\\pandas\\core\\frame.py:4440\u001b[0m, in \u001b[0;36mDataFrame.insert\u001b[1;34m(self, loc, column, value, allow_duplicates)\u001b[0m\n\u001b[0;32m   4434\u001b[0m     \u001b[38;5;28;01mraise\u001b[39;00m \u001b[38;5;167;01mValueError\u001b[39;00m(\n\u001b[0;32m   4435\u001b[0m         \u001b[38;5;124m\"\u001b[39m\u001b[38;5;124mCannot specify \u001b[39m\u001b[38;5;124m'\u001b[39m\u001b[38;5;124mallow_duplicates=True\u001b[39m\u001b[38;5;124m'\u001b[39m\u001b[38;5;124m when \u001b[39m\u001b[38;5;124m\"\u001b[39m\n\u001b[0;32m   4436\u001b[0m         \u001b[38;5;124m\"\u001b[39m\u001b[38;5;124m'\u001b[39m\u001b[38;5;124mself.flags.allows_duplicate_labels\u001b[39m\u001b[38;5;124m'\u001b[39m\u001b[38;5;124m is False.\u001b[39m\u001b[38;5;124m\"\u001b[39m\n\u001b[0;32m   4437\u001b[0m     )\n\u001b[0;32m   4438\u001b[0m \u001b[38;5;28;01mif\u001b[39;00m \u001b[38;5;129;01mnot\u001b[39;00m allow_duplicates \u001b[38;5;129;01mand\u001b[39;00m column \u001b[38;5;129;01min\u001b[39;00m \u001b[38;5;28mself\u001b[39m\u001b[38;5;241m.\u001b[39mcolumns:\n\u001b[0;32m   4439\u001b[0m     \u001b[38;5;66;03m# Should this be a different kind of error??\u001b[39;00m\n\u001b[1;32m-> 4440\u001b[0m     \u001b[38;5;28;01mraise\u001b[39;00m \u001b[38;5;167;01mValueError\u001b[39;00m(\u001b[38;5;124mf\u001b[39m\u001b[38;5;124m\"\u001b[39m\u001b[38;5;124mcannot insert \u001b[39m\u001b[38;5;132;01m{\u001b[39;00mcolumn\u001b[38;5;132;01m}\u001b[39;00m\u001b[38;5;124m, already exists\u001b[39m\u001b[38;5;124m\"\u001b[39m)\n\u001b[0;32m   4441\u001b[0m \u001b[38;5;28;01mif\u001b[39;00m \u001b[38;5;129;01mnot\u001b[39;00m \u001b[38;5;28misinstance\u001b[39m(loc, \u001b[38;5;28mint\u001b[39m):\n\u001b[0;32m   4442\u001b[0m     \u001b[38;5;28;01mraise\u001b[39;00m \u001b[38;5;167;01mTypeError\u001b[39;00m(\u001b[38;5;124m\"\u001b[39m\u001b[38;5;124mloc must be int\u001b[39m\u001b[38;5;124m\"\u001b[39m)\n",
      "\u001b[1;31mValueError\u001b[0m: cannot insert Score, already exists"
     ]
    }
   ],
   "source": [
    "new_df.groupby(['business_id','Score']).agg(\n",
    "    Score = ('Score', np.mean),\n",
    "    P_mean = ('predict', np.mean),\n",
    "    P_max = ('predict', np.max)\n",
    ").reset_index()"
   ]
  },
  {
   "cell_type": "code",
   "execution_count": 852,
   "id": "66d13ba2-20b7-4298-b737-8ea7e06e42fa",
   "metadata": {},
   "outputs": [
    {
     "ename": "ValueError",
     "evalue": "Length of values (8000) does not match length of index (8001)",
     "output_type": "error",
     "traceback": [
      "\u001b[1;31m---------------------------------------------------------------------------\u001b[0m",
      "\u001b[1;31mValueError\u001b[0m                                Traceback (most recent call last)",
      "Input \u001b[1;32mIn [852]\u001b[0m, in \u001b[0;36m<cell line: 2>\u001b[1;34m()\u001b[0m\n\u001b[0;32m      1\u001b[0m new_df \u001b[38;5;241m=\u001b[39m df\u001b[38;5;241m.\u001b[39mcopy()\u001b[38;5;241m.\u001b[39mloc[\u001b[38;5;241m12000\u001b[39m:\u001b[38;5;241m20000\u001b[39m]\n\u001b[1;32m----> 2\u001b[0m new_df[\u001b[38;5;124m'\u001b[39m\u001b[38;5;124mpredict\u001b[39m\u001b[38;5;124m'\u001b[39m] \u001b[38;5;241m=\u001b[39m dirty_scores\n",
      "File \u001b[1;32m~\\anaconda3\\envs\\pypy\\lib\\site-packages\\pandas\\core\\frame.py:3655\u001b[0m, in \u001b[0;36mDataFrame.__setitem__\u001b[1;34m(self, key, value)\u001b[0m\n\u001b[0;32m   3652\u001b[0m     \u001b[38;5;28mself\u001b[39m\u001b[38;5;241m.\u001b[39m_setitem_array([key], value)\n\u001b[0;32m   3653\u001b[0m \u001b[38;5;28;01melse\u001b[39;00m:\n\u001b[0;32m   3654\u001b[0m     \u001b[38;5;66;03m# set column\u001b[39;00m\n\u001b[1;32m-> 3655\u001b[0m     \u001b[38;5;28;43mself\u001b[39;49m\u001b[38;5;241;43m.\u001b[39;49m\u001b[43m_set_item\u001b[49m\u001b[43m(\u001b[49m\u001b[43mkey\u001b[49m\u001b[43m,\u001b[49m\u001b[43m \u001b[49m\u001b[43mvalue\u001b[49m\u001b[43m)\u001b[49m\n",
      "File \u001b[1;32m~\\anaconda3\\envs\\pypy\\lib\\site-packages\\pandas\\core\\frame.py:3832\u001b[0m, in \u001b[0;36mDataFrame._set_item\u001b[1;34m(self, key, value)\u001b[0m\n\u001b[0;32m   3822\u001b[0m \u001b[38;5;28;01mdef\u001b[39;00m \u001b[38;5;21m_set_item\u001b[39m(\u001b[38;5;28mself\u001b[39m, key, value) \u001b[38;5;241m-\u001b[39m\u001b[38;5;241m>\u001b[39m \u001b[38;5;28;01mNone\u001b[39;00m:\n\u001b[0;32m   3823\u001b[0m     \u001b[38;5;124;03m\"\"\"\u001b[39;00m\n\u001b[0;32m   3824\u001b[0m \u001b[38;5;124;03m    Add series to DataFrame in specified column.\u001b[39;00m\n\u001b[0;32m   3825\u001b[0m \n\u001b[1;32m   (...)\u001b[0m\n\u001b[0;32m   3830\u001b[0m \u001b[38;5;124;03m    ensure homogeneity.\u001b[39;00m\n\u001b[0;32m   3831\u001b[0m \u001b[38;5;124;03m    \"\"\"\u001b[39;00m\n\u001b[1;32m-> 3832\u001b[0m     value \u001b[38;5;241m=\u001b[39m \u001b[38;5;28;43mself\u001b[39;49m\u001b[38;5;241;43m.\u001b[39;49m\u001b[43m_sanitize_column\u001b[49m\u001b[43m(\u001b[49m\u001b[43mvalue\u001b[49m\u001b[43m)\u001b[49m\n\u001b[0;32m   3834\u001b[0m     \u001b[38;5;28;01mif\u001b[39;00m (\n\u001b[0;32m   3835\u001b[0m         key \u001b[38;5;129;01min\u001b[39;00m \u001b[38;5;28mself\u001b[39m\u001b[38;5;241m.\u001b[39mcolumns\n\u001b[0;32m   3836\u001b[0m         \u001b[38;5;129;01mand\u001b[39;00m value\u001b[38;5;241m.\u001b[39mndim \u001b[38;5;241m==\u001b[39m \u001b[38;5;241m1\u001b[39m\n\u001b[0;32m   3837\u001b[0m         \u001b[38;5;129;01mand\u001b[39;00m \u001b[38;5;129;01mnot\u001b[39;00m is_extension_array_dtype(value)\n\u001b[0;32m   3838\u001b[0m     ):\n\u001b[0;32m   3839\u001b[0m         \u001b[38;5;66;03m# broadcast across multiple columns if necessary\u001b[39;00m\n\u001b[0;32m   3840\u001b[0m         \u001b[38;5;28;01mif\u001b[39;00m \u001b[38;5;129;01mnot\u001b[39;00m \u001b[38;5;28mself\u001b[39m\u001b[38;5;241m.\u001b[39mcolumns\u001b[38;5;241m.\u001b[39mis_unique \u001b[38;5;129;01mor\u001b[39;00m \u001b[38;5;28misinstance\u001b[39m(\u001b[38;5;28mself\u001b[39m\u001b[38;5;241m.\u001b[39mcolumns, MultiIndex):\n",
      "File \u001b[1;32m~\\anaconda3\\envs\\pypy\\lib\\site-packages\\pandas\\core\\frame.py:4535\u001b[0m, in \u001b[0;36mDataFrame._sanitize_column\u001b[1;34m(self, value)\u001b[0m\n\u001b[0;32m   4532\u001b[0m     \u001b[38;5;28;01mreturn\u001b[39;00m _reindex_for_setitem(value, \u001b[38;5;28mself\u001b[39m\u001b[38;5;241m.\u001b[39mindex)\n\u001b[0;32m   4534\u001b[0m \u001b[38;5;28;01mif\u001b[39;00m is_list_like(value):\n\u001b[1;32m-> 4535\u001b[0m     \u001b[43mcom\u001b[49m\u001b[38;5;241;43m.\u001b[39;49m\u001b[43mrequire_length_match\u001b[49m\u001b[43m(\u001b[49m\u001b[43mvalue\u001b[49m\u001b[43m,\u001b[49m\u001b[43m \u001b[49m\u001b[38;5;28;43mself\u001b[39;49m\u001b[38;5;241;43m.\u001b[39;49m\u001b[43mindex\u001b[49m\u001b[43m)\u001b[49m\n\u001b[0;32m   4536\u001b[0m \u001b[38;5;28;01mreturn\u001b[39;00m sanitize_array(value, \u001b[38;5;28mself\u001b[39m\u001b[38;5;241m.\u001b[39mindex, copy\u001b[38;5;241m=\u001b[39m\u001b[38;5;28;01mTrue\u001b[39;00m, allow_2d\u001b[38;5;241m=\u001b[39m\u001b[38;5;28;01mTrue\u001b[39;00m)\n",
      "File \u001b[1;32m~\\anaconda3\\envs\\pypy\\lib\\site-packages\\pandas\\core\\common.py:557\u001b[0m, in \u001b[0;36mrequire_length_match\u001b[1;34m(data, index)\u001b[0m\n\u001b[0;32m    553\u001b[0m \u001b[38;5;124;03m\"\"\"\u001b[39;00m\n\u001b[0;32m    554\u001b[0m \u001b[38;5;124;03mCheck the length of data matches the length of the index.\u001b[39;00m\n\u001b[0;32m    555\u001b[0m \u001b[38;5;124;03m\"\"\"\u001b[39;00m\n\u001b[0;32m    556\u001b[0m \u001b[38;5;28;01mif\u001b[39;00m \u001b[38;5;28mlen\u001b[39m(data) \u001b[38;5;241m!=\u001b[39m \u001b[38;5;28mlen\u001b[39m(index):\n\u001b[1;32m--> 557\u001b[0m     \u001b[38;5;28;01mraise\u001b[39;00m \u001b[38;5;167;01mValueError\u001b[39;00m(\n\u001b[0;32m    558\u001b[0m         \u001b[38;5;124m\"\u001b[39m\u001b[38;5;124mLength of values \u001b[39m\u001b[38;5;124m\"\u001b[39m\n\u001b[0;32m    559\u001b[0m         \u001b[38;5;124mf\u001b[39m\u001b[38;5;124m\"\u001b[39m\u001b[38;5;124m(\u001b[39m\u001b[38;5;132;01m{\u001b[39;00m\u001b[38;5;28mlen\u001b[39m(data)\u001b[38;5;132;01m}\u001b[39;00m\u001b[38;5;124m) \u001b[39m\u001b[38;5;124m\"\u001b[39m\n\u001b[0;32m    560\u001b[0m         \u001b[38;5;124m\"\u001b[39m\u001b[38;5;124mdoes not match length of index \u001b[39m\u001b[38;5;124m\"\u001b[39m\n\u001b[0;32m    561\u001b[0m         \u001b[38;5;124mf\u001b[39m\u001b[38;5;124m\"\u001b[39m\u001b[38;5;124m(\u001b[39m\u001b[38;5;132;01m{\u001b[39;00m\u001b[38;5;28mlen\u001b[39m(index)\u001b[38;5;132;01m}\u001b[39;00m\u001b[38;5;124m)\u001b[39m\u001b[38;5;124m\"\u001b[39m\n\u001b[0;32m    562\u001b[0m     )\n",
      "\u001b[1;31mValueError\u001b[0m: Length of values (8000) does not match length of index (8001)"
     ]
    }
   ],
   "source": [
    "new_df = df.copy().loc[12000:20000]\n",
    "new_df['predict'] = dirty_scores"
   ]
  },
  {
   "cell_type": "code",
   "execution_count": 853,
   "id": "bc3d21af-6425-4e02-bd87-e94911bcbff6",
   "metadata": {},
   "outputs": [
    {
     "data": {
      "text/plain": [
       "8000"
      ]
     },
     "execution_count": 853,
     "metadata": {},
     "output_type": "execute_result"
    }
   ],
   "source": [
    "len(dirty_scores)"
   ]
  },
  {
   "cell_type": "code",
   "execution_count": 850,
   "id": "2ac1ee36-1169-4a1b-afdd-1d221f5ec05b",
   "metadata": {},
   "outputs": [
    {
     "data": {
      "text/plain": [
       "<matplotlib.collections.PathCollection at 0x124ed13b250>"
      ]
     },
     "execution_count": 850,
     "metadata": {},
     "output_type": "execute_result"
    },
    {
     "data": {
      "image/png": "[encoded data removed]",
      "text/plain": [
       "<Figure size 432x288 with 1 Axes>"
      ]
     },
     "metadata": {
      "needs_background": "light"
     },
     "output_type": "display_data"
    }
   ],
   "source": [
    "plt.scatter(df.Score[12000:20000],dirty_scores)"
   ]
  },
  {
   "cell_type": "code",
   "execution_count": 834,
   "id": "a14244fb-13b7-4c4c-90e8-d722821183e0",
   "metadata": {},
   "outputs": [
    {
     "data": {
      "text/plain": [
       "array([0.5778080821037292, 0.5801986157894135, 0.6203206181526184, ...,\n",
       "       0.5806902050971985, 0.5500458776950836, 0.6269631385803223],\n",
       "      dtype=object)"
      ]
     },
     "execution_count": 834,
     "metadata": {},
     "output_type": "execute_result"
    }
   ],
   "source": [
    "dirty_scores"
   ]
  },
  {
   "cell_type": "code",
   "execution_count": null,
   "id": "f40bf5aa-3fd9-4a2c-947f-aea4b9febb08",
   "metadata": {},
   "outputs": [],
   "source": [
    "pd.isnull(df).any(1).nonzero()[0]\n",
    "\n"
   ]
  },
  {
   "cell_type": "code",
   "execution_count": 847,
   "id": "6d8162ce-dbe7-4bf8-8e24-0ab98ffa712c",
   "metadata": {},
   "outputs": [
    {
     "data": {
      "text/plain": [
       "business_id                                bZiIIUcpgxh8mpKMDhdqbA\n",
       "review_id                                  DOLa_QilayjG6mXr6FZtzA\n",
       "text            ここのバーガーはとても美味し買った。ハンバーガーを注文する際に、スタッフが座席を指定してくれ...\n",
       "date                                          2019-03-17 03:18:35\n",
       "review_stars                                                    5\n",
       "Score                                                        92.0\n",
       "stars                                                         4.0\n",
       "Name: 12812, dtype: object"
      ]
     },
     "execution_count": 847,
     "metadata": {},
     "output_type": "execute_result"
    }
   ],
   "source": [
    "df.loc[12812]"
   ]
  },
  {
   "cell_type": "code",
   "execution_count": 846,
   "id": "9128f03b-6d11-4fca-91a3-cc3a70c7613a",
   "metadata": {},
   "outputs": [
    {
     "data": {
      "text/plain": [
       "(array([812], dtype=int64),)"
      ]
     },
     "execution_count": 846,
     "metadata": {},
     "output_type": "execute_result"
    }
   ],
   "source": [
    "pd.isnull(dirty_scores).nonzero()"
   ]
  },
  {
   "cell_type": "code",
   "execution_count": 682,
   "id": "cb42c0b5-e110-4325-a630-a05bc191f78d",
   "metadata": {},
   "outputs": [
    {
     "data": {
      "text/plain": [
       "1424"
      ]
     },
     "execution_count": 682,
     "metadata": {},
     "output_type": "execute_result"
    }
   ],
   "source": [
    "np.argmax(dirty_scores)"
   ]
  },
  {
   "cell_type": "code",
   "execution_count": 674,
   "id": "eaead85b-8225-4ae1-b9e9-ad67649a911a",
   "metadata": {},
   "outputs": [
    {
     "data": {
      "text/plain": [
       "(array([  1.,   0.,   0.,   0.,   0.,   0.,   2.,   1.,   1.,   1.,   1.,\n",
       "          2.,   0.,   2.,   3.,   3.,   7.,  27.,  15.,  50.,  38.,  27.,\n",
       "         24.,  65.,  77.,  91., 166., 118., 149., 274., 213., 229., 264.,\n",
       "        502., 326., 130.,  86.,  47.,  27.,  14.,   7.,   3.,   1.,   0.,\n",
       "          2.,   2.,   0.,   1.,   0.,   1.]),\n",
       " array([0.28191522, 0.2906031 , 0.29929098, 0.30797887, 0.31666675,\n",
       "        0.32535463, 0.33404252, 0.3427304 , 0.35141828, 0.36010616,\n",
       "        0.36879405, 0.37748193, 0.38616981, 0.3948577 , 0.40354558,\n",
       "        0.41223346, 0.42092135, 0.42960923, 0.43829711, 0.446985  ,\n",
       "        0.45567288, 0.46436076, 0.47304864, 0.48173653, 0.49042441,\n",
       "        0.49911229, 0.50780018, 0.51648806, 0.52517594, 0.53386383,\n",
       "        0.54255171, 0.55123959, 0.55992747, 0.56861536, 0.57730324,\n",
       "        0.58599112, 0.59467901, 0.60336689, 0.61205477, 0.62074266,\n",
       "        0.62943054, 0.63811842, 0.6468063 , 0.65549419, 0.66418207,\n",
       "        0.67286995, 0.68155784, 0.69024572, 0.6989336 , 0.70762149,\n",
       "        0.71630937]),\n",
       " <BarContainer object of 50 artists>)"
      ]
     },
     "execution_count": 674,
     "metadata": {},
     "output_type": "execute_result"
    },
    {
     "data": {
      "image/png": "[encoded data removed]",
      "text/plain": [
       "<Figure size 432x288 with 1 Axes>"
      ]
     },
     "metadata": {
      "needs_background": "light"
     },
     "output_type": "display_data"
    }
   ],
   "source": [
    "plt.hist(dirty_scores,bins=50)"
   ]
  },
  {
   "cell_type": "code",
   "execution_count": 568,
   "id": "722dc50e-3e14-4e13-890e-038151301cf6",
   "metadata": {},
   "outputs": [
    {
     "ename": "ValueError",
     "evalue": "Length of values (1000) does not match length of index (570614)",
     "output_type": "error",
     "traceback": [
      "\u001b[1;31m---------------------------------------------------------------------------\u001b[0m",
      "\u001b[1;31mValueError\u001b[0m                                Traceback (most recent call last)",
      "Input \u001b[1;32mIn [568]\u001b[0m, in \u001b[0;36m<cell line: 2>\u001b[1;34m()\u001b[0m\n\u001b[0;32m      1\u001b[0m df_gloved \u001b[38;5;241m=\u001b[39m df\u001b[38;5;241m.\u001b[39mcopy()\n\u001b[1;32m----> 2\u001b[0m df_gloved[\u001b[38;5;124m'\u001b[39m\u001b[38;5;124mdirty_scores\u001b[39m\u001b[38;5;124m'\u001b[39m] \u001b[38;5;241m=\u001b[39m dirty_scores\n",
      "File \u001b[1;32m~\\anaconda3\\envs\\pypy\\lib\\site-packages\\pandas\\core\\frame.py:3655\u001b[0m, in \u001b[0;36mDataFrame.__setitem__\u001b[1;34m(self, key, value)\u001b[0m\n\u001b[0;32m   3652\u001b[0m     \u001b[38;5;28mself\u001b[39m\u001b[38;5;241m.\u001b[39m_setitem_array([key], value)\n\u001b[0;32m   3653\u001b[0m \u001b[38;5;28;01melse\u001b[39;00m:\n\u001b[0;32m   3654\u001b[0m     \u001b[38;5;66;03m# set column\u001b[39;00m\n\u001b[1;32m-> 3655\u001b[0m     \u001b[38;5;28;43mself\u001b[39;49m\u001b[38;5;241;43m.\u001b[39;49m\u001b[43m_set_item\u001b[49m\u001b[43m(\u001b[49m\u001b[43mkey\u001b[49m\u001b[43m,\u001b[49m\u001b[43m \u001b[49m\u001b[43mvalue\u001b[49m\u001b[43m)\u001b[49m\n",
      "File \u001b[1;32m~\\anaconda3\\envs\\pypy\\lib\\site-packages\\pandas\\core\\frame.py:3832\u001b[0m, in \u001b[0;36mDataFrame._set_item\u001b[1;34m(self, key, value)\u001b[0m\n\u001b[0;32m   3822\u001b[0m \u001b[38;5;28;01mdef\u001b[39;00m \u001b[38;5;21m_set_item\u001b[39m(\u001b[38;5;28mself\u001b[39m, key, value) \u001b[38;5;241m-\u001b[39m\u001b[38;5;241m>\u001b[39m \u001b[38;5;28;01mNone\u001b[39;00m:\n\u001b[0;32m   3823\u001b[0m     \u001b[38;5;124;03m\"\"\"\u001b[39;00m\n\u001b[0;32m   3824\u001b[0m \u001b[38;5;124;03m    Add series to DataFrame in specified column.\u001b[39;00m\n\u001b[0;32m   3825\u001b[0m \n\u001b[1;32m   (...)\u001b[0m\n\u001b[0;32m   3830\u001b[0m \u001b[38;5;124;03m    ensure homogeneity.\u001b[39;00m\n\u001b[0;32m   3831\u001b[0m \u001b[38;5;124;03m    \"\"\"\u001b[39;00m\n\u001b[1;32m-> 3832\u001b[0m     value \u001b[38;5;241m=\u001b[39m \u001b[38;5;28;43mself\u001b[39;49m\u001b[38;5;241;43m.\u001b[39;49m\u001b[43m_sanitize_column\u001b[49m\u001b[43m(\u001b[49m\u001b[43mvalue\u001b[49m\u001b[43m)\u001b[49m\n\u001b[0;32m   3834\u001b[0m     \u001b[38;5;28;01mif\u001b[39;00m (\n\u001b[0;32m   3835\u001b[0m         key \u001b[38;5;129;01min\u001b[39;00m \u001b[38;5;28mself\u001b[39m\u001b[38;5;241m.\u001b[39mcolumns\n\u001b[0;32m   3836\u001b[0m         \u001b[38;5;129;01mand\u001b[39;00m value\u001b[38;5;241m.\u001b[39mndim \u001b[38;5;241m==\u001b[39m \u001b[38;5;241m1\u001b[39m\n\u001b[0;32m   3837\u001b[0m         \u001b[38;5;129;01mand\u001b[39;00m \u001b[38;5;129;01mnot\u001b[39;00m is_extension_array_dtype(value)\n\u001b[0;32m   3838\u001b[0m     ):\n\u001b[0;32m   3839\u001b[0m         \u001b[38;5;66;03m# broadcast across multiple columns if necessary\u001b[39;00m\n\u001b[0;32m   3840\u001b[0m         \u001b[38;5;28;01mif\u001b[39;00m \u001b[38;5;129;01mnot\u001b[39;00m \u001b[38;5;28mself\u001b[39m\u001b[38;5;241m.\u001b[39mcolumns\u001b[38;5;241m.\u001b[39mis_unique \u001b[38;5;129;01mor\u001b[39;00m \u001b[38;5;28misinstance\u001b[39m(\u001b[38;5;28mself\u001b[39m\u001b[38;5;241m.\u001b[39mcolumns, MultiIndex):\n",
      "File \u001b[1;32m~\\anaconda3\\envs\\pypy\\lib\\site-packages\\pandas\\core\\frame.py:4535\u001b[0m, in \u001b[0;36mDataFrame._sanitize_column\u001b[1;34m(self, value)\u001b[0m\n\u001b[0;32m   4532\u001b[0m     \u001b[38;5;28;01mreturn\u001b[39;00m _reindex_for_setitem(value, \u001b[38;5;28mself\u001b[39m\u001b[38;5;241m.\u001b[39mindex)\n\u001b[0;32m   4534\u001b[0m \u001b[38;5;28;01mif\u001b[39;00m is_list_like(value):\n\u001b[1;32m-> 4535\u001b[0m     \u001b[43mcom\u001b[49m\u001b[38;5;241;43m.\u001b[39;49m\u001b[43mrequire_length_match\u001b[49m\u001b[43m(\u001b[49m\u001b[43mvalue\u001b[49m\u001b[43m,\u001b[49m\u001b[43m \u001b[49m\u001b[38;5;28;43mself\u001b[39;49m\u001b[38;5;241;43m.\u001b[39;49m\u001b[43mindex\u001b[49m\u001b[43m)\u001b[49m\n\u001b[0;32m   4536\u001b[0m \u001b[38;5;28;01mreturn\u001b[39;00m sanitize_array(value, \u001b[38;5;28mself\u001b[39m\u001b[38;5;241m.\u001b[39mindex, copy\u001b[38;5;241m=\u001b[39m\u001b[38;5;28;01mTrue\u001b[39;00m, allow_2d\u001b[38;5;241m=\u001b[39m\u001b[38;5;28;01mTrue\u001b[39;00m)\n",
      "File \u001b[1;32m~\\anaconda3\\envs\\pypy\\lib\\site-packages\\pandas\\core\\common.py:557\u001b[0m, in \u001b[0;36mrequire_length_match\u001b[1;34m(data, index)\u001b[0m\n\u001b[0;32m    553\u001b[0m \u001b[38;5;124;03m\"\"\"\u001b[39;00m\n\u001b[0;32m    554\u001b[0m \u001b[38;5;124;03mCheck the length of data matches the length of the index.\u001b[39;00m\n\u001b[0;32m    555\u001b[0m \u001b[38;5;124;03m\"\"\"\u001b[39;00m\n\u001b[0;32m    556\u001b[0m \u001b[38;5;28;01mif\u001b[39;00m \u001b[38;5;28mlen\u001b[39m(data) \u001b[38;5;241m!=\u001b[39m \u001b[38;5;28mlen\u001b[39m(index):\n\u001b[1;32m--> 557\u001b[0m     \u001b[38;5;28;01mraise\u001b[39;00m \u001b[38;5;167;01mValueError\u001b[39;00m(\n\u001b[0;32m    558\u001b[0m         \u001b[38;5;124m\"\u001b[39m\u001b[38;5;124mLength of values \u001b[39m\u001b[38;5;124m\"\u001b[39m\n\u001b[0;32m    559\u001b[0m         \u001b[38;5;124mf\u001b[39m\u001b[38;5;124m\"\u001b[39m\u001b[38;5;124m(\u001b[39m\u001b[38;5;132;01m{\u001b[39;00m\u001b[38;5;28mlen\u001b[39m(data)\u001b[38;5;132;01m}\u001b[39;00m\u001b[38;5;124m) \u001b[39m\u001b[38;5;124m\"\u001b[39m\n\u001b[0;32m    560\u001b[0m         \u001b[38;5;124m\"\u001b[39m\u001b[38;5;124mdoes not match length of index \u001b[39m\u001b[38;5;124m\"\u001b[39m\n\u001b[0;32m    561\u001b[0m         \u001b[38;5;124mf\u001b[39m\u001b[38;5;124m\"\u001b[39m\u001b[38;5;124m(\u001b[39m\u001b[38;5;132;01m{\u001b[39;00m\u001b[38;5;28mlen\u001b[39m(index)\u001b[38;5;132;01m}\u001b[39;00m\u001b[38;5;124m)\u001b[39m\u001b[38;5;124m\"\u001b[39m\n\u001b[0;32m    562\u001b[0m     )\n",
      "\u001b[1;31mValueError\u001b[0m: Length of values (1000) does not match length of index (570614)"
     ]
    }
   ],
   "source": [
    "df_gloved = df.copy()\n",
    "df_gloved['dirty_scores'] = dirty_scores"
   ]
  },
  {
   "cell_type": "code",
   "execution_count": 565,
   "id": "891bdf91-5f02-4872-b9b2-b53801309e5c",
   "metadata": {},
   "outputs": [
    {
     "data": {
      "text/plain": [
       "2995.7235"
      ]
     },
     "execution_count": 565,
     "metadata": {},
     "output_type": "execute_result"
    }
   ],
   "source": [
    "df_gloved.to_csv('"
   ]
  },
  {
   "cell_type": "code",
   "execution_count": 562,
   "id": "f89ac174-cfad-41a6-bf05-1e99a7f46c56",
   "metadata": {},
   "outputs": [
    {
     "data": {
      "text/plain": [
       "array(<generator object <genexpr> at 0x00000124821036D0>, dtype=object)"
      ]
     },
     "execution_count": 562,
     "metadata": {},
     "output_type": "execute_result"
    }
   ],
   "source": [
    "dirty_scores"
   ]
  },
  {
   "cell_type": "code",
   "execution_count": null,
   "id": "a575bab0-a781-4772-8e21-6cad51e65c0a",
   "metadata": {},
   "outputs": [],
   "source": []
  }
 ],
 "metadata": {
  "kernelspec": {
   "display_name": "Python 3 (ipykernel)",
   "language": "python",
   "name": "python3"
  },
  "language_info": {
   "codemirror_mode": {
    "name": "ipython",
    "version": 3
   },
   "file_extension": ".py",
   "mimetype": "text/x-python",
   "name": "python",
   "nbconvert_exporter": "python",
   "pygments_lexer": "ipython3",
   "version": "3.9.12"
  },
  "toc-autonumbering": true
 },
 "nbformat": 4,
 "nbformat_minor": 5
}
