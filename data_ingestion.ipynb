{
 "cells": [
  {
   "cell_type": "markdown",
   "id": "90ee2a91-9a9a-420e-a159-24e5cb1c5a1d",
   "metadata": {},
   "source": [
    "# Yelp grossometer"
   ]
  },
  {
   "cell_type": "markdown",
   "id": "b2648e9d-8893-46e7-a799-4dd2fd8d1a83",
   "metadata": {},
   "source": [
    "Goal: NLP on Austin restaurant reviews to predict cleanliness scores, as determined by health inspection ratings."
   ]
  },
  {
   "cell_type": "markdown",
   "id": "96fc3465-6967-41c4-a53b-0621d4445f51",
   "metadata": {},
   "source": [
    "Data sources:\n",
    "   - 2021 Yelp academic dataset\n",
    "   - Yelp.com web scraping (or API)"
   ]
  },
  {
   "cell_type": "code",
   "execution_count": 1,
   "id": "a611a2ac-242d-44d2-9bf2-92bb6b21204f",
   "metadata": {},
   "outputs": [],
   "source": [
    "import pandas as pd\n",
    "import numpy as np\n",
    "import matplotlib.pyplot as plt\n",
    "import glob\n",
    "import time\n",
    "# yelp api stuff\n",
    "from yelpapi import YelpAPI\n",
    "# web scraping\n",
    "import requests\n",
    "from bs4 import BeautifulSoup\n",
    "# for inspection dates\n",
    "# import datetime\n",
    "import pickle as pkl"
   ]
  },
  {
   "cell_type": "code",
   "execution_count": 2,
   "id": "46fc1486-9d57-4a68-8299-3d27cbfefb64",
   "metadata": {},
   "outputs": [],
   "source": [
    "# map stuff\n",
    "import folium\n",
    "from shapely.geometry import Point\n",
    "import geopandas as gpd\n",
    "from geopandas import GeoDataFrame"
   ]
  },
  {
   "cell_type": "code",
   "execution_count": 3,
   "id": "e6e9ed8c-69fb-47e1-8ffd-7dda3d50a531",
   "metadata": {},
   "outputs": [],
   "source": [
    "%matplotlib inline"
   ]
  },
  {
   "cell_type": "code",
   "execution_count": 4,
   "id": "b051739d-0c12-4557-a6ed-3aa7cf77f0e8",
   "metadata": {},
   "outputs": [],
   "source": [
    "main_directory = r'C:\\Users\\ASUS\\Desktop\\ML-data science\\DataIncubator\\yelp-cleaners' + '\\\\'\n",
    "data_directory = main_directory + 'data' + '\\\\'\n",
    "# raw data\n",
    "inspection_data_directory = data_directory + r'Inspection data\\Austin' + '\\\\'\n",
    "yelp_data_directory = main_directory + r'\\data\\yelp data\\austin dataset' + '\\\\'\n",
    "# files I generate here\n",
    "processed_data_directory = main_directory + r'data\\processed data' + '\\\\'\n",
    "\n",
    "# old stuff\n",
    "map_path =  main_directory + r'data\\states_21basic\\states.shp'"
   ]
  },
  {
   "cell_type": "code",
   "execution_count": 5,
   "id": "e5baa10a-9dce-4ee9-ad79-79ee2d5b2ef1",
   "metadata": {},
   "outputs": [],
   "source": [
    "# get yelp api key stored in txt file\n",
    "f = open(data_directory + 'yelp_api_key.txt','r')\n",
    "api_key = f.read()\n",
    "f.close()"
   ]
  },
  {
   "cell_type": "markdown",
   "id": "68bb4e1c-62a4-40e0-bc34-466c891c19ba",
   "metadata": {
    "tags": []
   },
   "source": [
    "# data pre-processing"
   ]
  },
  {
   "cell_type": "markdown",
   "id": "639ed4ce-bf48-427c-877b-48dda4e3b962",
   "metadata": {},
   "source": [
    "TODO:\n",
    "1. Get business data\n",
    "    - Business information from Yelp dataset\n",
    "    - scrape yelp pages for health inspection scores\n",
    "2. Get review data\n",
    "    - Reviews from Yelp dataset (large, need to figure out how to import)"
   ]
  },
  {
   "cell_type": "markdown",
   "id": "580e9f69-63c7-42e6-9018-6795624e26ff",
   "metadata": {
    "tags": []
   },
   "source": [
    "# Get business data"
   ]
  },
  {
   "cell_type": "markdown",
   "id": "8f8e1b6c-7e5a-4fc8-8ce8-046d80cf9034",
   "metadata": {},
   "source": [
    "Steps:\n",
    "1. Grab business information from Yelp dataset\n",
    "2. Get health inspection scores from city of Austin\n",
    "3. Match health inspection scores to Yelp businesses"
   ]
  },
  {
   "cell_type": "markdown",
   "id": "3d51a5a6-e240-48c5-8fef-fc1ea1788e92",
   "metadata": {
    "tags": []
   },
   "source": [
    "## Extract Austin dataset from 2021 yelp academic dataset"
   ]
  },
  {
   "cell_type": "code",
   "execution_count": 6,
   "id": "a703052b-3035-4194-8800-57a0efb381a8",
   "metadata": {},
   "outputs": [],
   "source": [
    "path = yelp_data_directory + 'yelp_academic_dataset_business.json'\n",
    "df_b = pd.read_json(path, lines=True)"
   ]
  },
  {
   "cell_type": "code",
   "execution_count": 7,
   "id": "bb2bda53-a0d1-40f6-a61a-9533224cc6fd",
   "metadata": {
    "collapsed": true,
    "jupyter": {
     "outputs_hidden": true
    },
    "tags": []
   },
   "outputs": [
    {
     "name": "stdout",
     "output_type": "stream",
     "text": [
      "Austin               22416\n",
      "Portland             18203\n",
      "Vancouver            13330\n",
      "Atlanta              12612\n",
      "Orlando              10637\n",
      "Boston                8263\n",
      "Columbus              6634\n",
      "Boulder               2542\n",
      "Cambridge             2433\n",
      "Beaverton             2252\n",
      "Richmond              1791\n",
      "Burnaby               1725\n",
      "Kissimmee             1713\n",
      "Decatur               1411\n",
      "Winter Park           1288\n",
      "Somerville            1265\n",
      "Quincy                1093\n",
      "Brookline              986\n",
      "North Vancouver        926\n",
      "Tigard                 916\n",
      "Waltham                883\n",
      "Newton                 823\n",
      "Smyrna                 820\n",
      "Altamonte Springs      783\n",
      "Lake Oswego            761\n",
      "Dublin                 734\n",
      "Salem                  721\n",
      "Sanford                672\n",
      "Natick                 669\n",
      "Medford                668\n",
      "Coquitlam              652\n",
      "Woburn                 618\n",
      "Watertown              607\n",
      "Peabody                602\n",
      "Burlington             595\n",
      "Oviedo                 584\n",
      "Braintree              577\n",
      "Westerville            569\n",
      "Arlington              545\n",
      "Surrey                 540\n",
      "Malden                 538\n",
      "New Westminster        522\n",
      "Winter Garden          517\n",
      "Lake Mary              512\n",
      "Clermont               492\n",
      "Clackamas              484\n",
      "Marietta               476\n",
      "Beverly                476\n",
      "Tucker                 472\n",
      "Danvers                472\n",
      "Longwood               469\n",
      "Norwood                461\n",
      "Milwaukie              456\n",
      "Hilliard               453\n",
      "Sandy Springs          450\n",
      "Allston                436\n",
      "Saugus                 434\n",
      "Brighton               430\n",
      "Dedham                 416\n",
      "Tualatin               412\n",
      "Dorchester             405\n",
      "Apopka                 403\n",
      "Happy Valley           403\n",
      "Weymouth               397\n",
      "Lynn                   393\n",
      "Revere                 392\n",
      "Louisville             359\n",
      "Jamaica Plain          359\n",
      "Belmont                338\n",
      "Everett                324\n",
      "Hillsboro              323\n",
      "Ocoee                  322\n",
      "Lakeway                319\n",
      "Buda                   319\n",
      "Wakefield              319\n",
      "Needham                318\n",
      "Lexington              313\n",
      "Lake Buena Vista       307\n",
      "Wellesley              304\n",
      "Casselberry            304\n",
      "Grove City             303\n",
      "Titusville             302\n",
      "Powell                 291\n",
      "Stoneham               287\n",
      "Chamblee               286\n",
      "Gahanna                280\n",
      "Canton                 273\n",
      "Bee Cave               265\n",
      "Reynoldsburg           255\n",
      "Davenport              253\n",
      "Kyle                   253\n",
      "West Roxbury           249\n",
      "Dunwoody               243\n",
      "Stoughton              238\n",
      "Hingham                237\n",
      "Doraville              237\n",
      "Melrose                234\n",
      "Winter Springs         232\n",
      "Pickerington           231\n",
      "Cocoa                  228\n"
     ]
    }
   ],
   "source": [
    "cities = df_b.city.value_counts()[:100]\n",
    "print(cities.to_string())"
   ]
  },
  {
   "cell_type": "code",
   "execution_count": 8,
   "id": "a30e7e89-0533-4903-aa63-cc9f175d7b39",
   "metadata": {},
   "outputs": [
    {
     "data": {
      "text/html": [
       "<div>\n",
       "<style scoped>\n",
       "    .dataframe tbody tr th:only-of-type {\n",
       "        vertical-align: middle;\n",
       "    }\n",
       "\n",
       "    .dataframe tbody tr th {\n",
       "        vertical-align: top;\n",
       "    }\n",
       "\n",
       "    .dataframe thead th {\n",
       "        text-align: right;\n",
       "    }\n",
       "</style>\n",
       "<table border=\"1\" class=\"dataframe\">\n",
       "  <thead>\n",
       "    <tr style=\"text-align: right;\">\n",
       "      <th></th>\n",
       "      <th>business_id</th>\n",
       "      <th>name</th>\n",
       "      <th>address</th>\n",
       "      <th>city</th>\n",
       "      <th>state</th>\n",
       "      <th>postal_code</th>\n",
       "      <th>latitude</th>\n",
       "      <th>longitude</th>\n",
       "      <th>stars</th>\n",
       "      <th>review_count</th>\n",
       "      <th>is_open</th>\n",
       "      <th>attributes</th>\n",
       "      <th>categories</th>\n",
       "      <th>hours</th>\n",
       "    </tr>\n",
       "  </thead>\n",
       "  <tbody>\n",
       "    <tr>\n",
       "      <th>199</th>\n",
       "      <td>EhXO9tfwWD9-xHy1o-S8wg</td>\n",
       "      <td>Hunan Bistro</td>\n",
       "      <td>10700 Anderson Mill Rd, Ste 105</td>\n",
       "      <td>Austin</td>\n",
       "      <td>TX</td>\n",
       "      <td>78750</td>\n",
       "      <td>30.447545</td>\n",
       "      <td>-97.810281</td>\n",
       "      <td>3.5</td>\n",
       "      <td>82</td>\n",
       "      <td>1</td>\n",
       "      <td>{'HasTV': 'True', 'Caters': 'True', 'Restauran...</td>\n",
       "      <td>Chinese, Desserts, Food, Restaurants, Asian Fu...</td>\n",
       "      <td>{'Monday': '16:30-21:0', 'Wednesday': '16:30-2...</td>\n",
       "    </tr>\n",
       "    <tr>\n",
       "      <th>2306</th>\n",
       "      <td>kXtG9iZvvIHA_DOKsOc7Fw</td>\n",
       "      <td>Hunan Riverplace</td>\n",
       "      <td>10601 Ranch Rd 2222</td>\n",
       "      <td>Austin</td>\n",
       "      <td>TX</td>\n",
       "      <td>78730</td>\n",
       "      <td>30.392875</td>\n",
       "      <td>-97.844767</td>\n",
       "      <td>3.5</td>\n",
       "      <td>210</td>\n",
       "      <td>1</td>\n",
       "      <td>{'OutdoorSeating': 'True', 'Alcohol': 'u'none'...</td>\n",
       "      <td>Korean, Restaurants, Chinese</td>\n",
       "      <td>{'Monday': '0:0-0:0', 'Tuesday': '11:0-21:0', ...</td>\n",
       "    </tr>\n",
       "    <tr>\n",
       "      <th>2383</th>\n",
       "      <td>g-NDCVx4r4vXfjtTKHMccQ</td>\n",
       "      <td>Hunan Lion</td>\n",
       "      <td>4006 S Lamar Blvd, Ste 1000</td>\n",
       "      <td>Austin</td>\n",
       "      <td>TX</td>\n",
       "      <td>78704</td>\n",
       "      <td>30.237244</td>\n",
       "      <td>-97.793764</td>\n",
       "      <td>3.5</td>\n",
       "      <td>311</td>\n",
       "      <td>1</td>\n",
       "      <td>{'BikeParking': 'True', 'BusinessAcceptsCredit...</td>\n",
       "      <td>Chinese, Restaurants, Noodles, Asian Fusion</td>\n",
       "      <td>{'Monday': '11:0-22:30', 'Tuesday': '11:0-22:3...</td>\n",
       "    </tr>\n",
       "    <tr>\n",
       "      <th>2754</th>\n",
       "      <td>cwLy575Ou2_N8duSWZbkqw</td>\n",
       "      <td>Hunan Chinese Restaurant</td>\n",
       "      <td>1940 W William Cannon Dr</td>\n",
       "      <td>Austin</td>\n",
       "      <td>TX</td>\n",
       "      <td>78745</td>\n",
       "      <td>30.203218</td>\n",
       "      <td>-97.805739</td>\n",
       "      <td>3.0</td>\n",
       "      <td>47</td>\n",
       "      <td>0</td>\n",
       "      <td>{'RestaurantsPriceRange2': '1', 'RestaurantsDe...</td>\n",
       "      <td>Chinese, Restaurants</td>\n",
       "      <td>{'Monday': '11:0-21:30', 'Tuesday': '11:0-21:3...</td>\n",
       "    </tr>\n",
       "    <tr>\n",
       "      <th>3447</th>\n",
       "      <td>RquW4GAxygN6Xn9CIvfwwQ</td>\n",
       "      <td>Hunan Cafe</td>\n",
       "      <td>1779 Wells Branch Pkwy, Ste 102</td>\n",
       "      <td>Austin</td>\n",
       "      <td>TX</td>\n",
       "      <td>78728</td>\n",
       "      <td>30.435151</td>\n",
       "      <td>-97.674534</td>\n",
       "      <td>4.5</td>\n",
       "      <td>19</td>\n",
       "      <td>0</td>\n",
       "      <td>{'BusinessParking': '{'garage': False, 'street...</td>\n",
       "      <td>Food, Restaurants, Cafes, Chinese</td>\n",
       "      <td>{'Monday': '16:30-21:30', 'Tuesday': '16:30-21...</td>\n",
       "    </tr>\n",
       "    <tr>\n",
       "      <th>3503</th>\n",
       "      <td>UiM8n-m4D9D9I9P836RILg</td>\n",
       "      <td>Lotus Hunan</td>\n",
       "      <td>3201 Bee Cave Rd, Ste 109</td>\n",
       "      <td>Austin</td>\n",
       "      <td>TX</td>\n",
       "      <td>78746</td>\n",
       "      <td>30.273024</td>\n",
       "      <td>-97.799406</td>\n",
       "      <td>3.5</td>\n",
       "      <td>171</td>\n",
       "      <td>1</td>\n",
       "      <td>{'Alcohol': 'u'beer_and_wine'', 'RestaurantsTa...</td>\n",
       "      <td>Seafood, Chinese, Restaurants, Soup</td>\n",
       "      <td>{'Monday': '11:0-22:0', 'Tuesday': '11:0-22:0'...</td>\n",
       "    </tr>\n",
       "    <tr>\n",
       "      <th>5968</th>\n",
       "      <td>T2z5p65IvHZzXjzYHUUlnQ</td>\n",
       "      <td>Hunan Chinese Restaurant</td>\n",
       "      <td>9306 N Lamar Blvd</td>\n",
       "      <td>Austin</td>\n",
       "      <td>TX</td>\n",
       "      <td>78753</td>\n",
       "      <td>30.362152</td>\n",
       "      <td>-97.698624</td>\n",
       "      <td>3.5</td>\n",
       "      <td>75</td>\n",
       "      <td>0</td>\n",
       "      <td>{'BusinessAcceptsCreditCards': 'True', 'HasTV'...</td>\n",
       "      <td>Chinese, Restaurants</td>\n",
       "      <td>None</td>\n",
       "    </tr>\n",
       "    <tr>\n",
       "      <th>6044</th>\n",
       "      <td>l95p5TQT35u6rsmgRo98Ag</td>\n",
       "      <td>Hunan Spicy</td>\n",
       "      <td>11005 Burnet, Ste 100</td>\n",
       "      <td>Austin</td>\n",
       "      <td>TX</td>\n",
       "      <td>78758</td>\n",
       "      <td>30.394372</td>\n",
       "      <td>-97.720157</td>\n",
       "      <td>3.5</td>\n",
       "      <td>20</td>\n",
       "      <td>0</td>\n",
       "      <td>{'Ambience': '{'touristy': False, 'hipster': F...</td>\n",
       "      <td>Chinese, Restaurants</td>\n",
       "      <td>None</td>\n",
       "    </tr>\n",
       "  </tbody>\n",
       "</table>\n",
       "</div>"
      ],
      "text/plain": [
       "                 business_id                      name  \\\n",
       "199   EhXO9tfwWD9-xHy1o-S8wg              Hunan Bistro   \n",
       "2306  kXtG9iZvvIHA_DOKsOc7Fw          Hunan Riverplace   \n",
       "2383  g-NDCVx4r4vXfjtTKHMccQ                Hunan Lion   \n",
       "2754  cwLy575Ou2_N8duSWZbkqw  Hunan Chinese Restaurant   \n",
       "3447  RquW4GAxygN6Xn9CIvfwwQ                Hunan Cafe   \n",
       "3503  UiM8n-m4D9D9I9P836RILg               Lotus Hunan   \n",
       "5968  T2z5p65IvHZzXjzYHUUlnQ  Hunan Chinese Restaurant   \n",
       "6044  l95p5TQT35u6rsmgRo98Ag               Hunan Spicy   \n",
       "\n",
       "                              address    city state postal_code   latitude  \\\n",
       "199   10700 Anderson Mill Rd, Ste 105  Austin    TX       78750  30.447545   \n",
       "2306              10601 Ranch Rd 2222  Austin    TX       78730  30.392875   \n",
       "2383      4006 S Lamar Blvd, Ste 1000  Austin    TX       78704  30.237244   \n",
       "2754         1940 W William Cannon Dr  Austin    TX       78745  30.203218   \n",
       "3447  1779 Wells Branch Pkwy, Ste 102  Austin    TX       78728  30.435151   \n",
       "3503        3201 Bee Cave Rd, Ste 109  Austin    TX       78746  30.273024   \n",
       "5968                9306 N Lamar Blvd  Austin    TX       78753  30.362152   \n",
       "6044            11005 Burnet, Ste 100  Austin    TX       78758  30.394372   \n",
       "\n",
       "      longitude  stars  review_count  is_open  \\\n",
       "199  -97.810281    3.5            82        1   \n",
       "2306 -97.844767    3.5           210        1   \n",
       "2383 -97.793764    3.5           311        1   \n",
       "2754 -97.805739    3.0            47        0   \n",
       "3447 -97.674534    4.5            19        0   \n",
       "3503 -97.799406    3.5           171        1   \n",
       "5968 -97.698624    3.5            75        0   \n",
       "6044 -97.720157    3.5            20        0   \n",
       "\n",
       "                                             attributes  \\\n",
       "199   {'HasTV': 'True', 'Caters': 'True', 'Restauran...   \n",
       "2306  {'OutdoorSeating': 'True', 'Alcohol': 'u'none'...   \n",
       "2383  {'BikeParking': 'True', 'BusinessAcceptsCredit...   \n",
       "2754  {'RestaurantsPriceRange2': '1', 'RestaurantsDe...   \n",
       "3447  {'BusinessParking': '{'garage': False, 'street...   \n",
       "3503  {'Alcohol': 'u'beer_and_wine'', 'RestaurantsTa...   \n",
       "5968  {'BusinessAcceptsCreditCards': 'True', 'HasTV'...   \n",
       "6044  {'Ambience': '{'touristy': False, 'hipster': F...   \n",
       "\n",
       "                                             categories  \\\n",
       "199   Chinese, Desserts, Food, Restaurants, Asian Fu...   \n",
       "2306                       Korean, Restaurants, Chinese   \n",
       "2383        Chinese, Restaurants, Noodles, Asian Fusion   \n",
       "2754                               Chinese, Restaurants   \n",
       "3447                  Food, Restaurants, Cafes, Chinese   \n",
       "3503                Seafood, Chinese, Restaurants, Soup   \n",
       "5968                               Chinese, Restaurants   \n",
       "6044                               Chinese, Restaurants   \n",
       "\n",
       "                                                  hours  \n",
       "199   {'Monday': '16:30-21:0', 'Wednesday': '16:30-2...  \n",
       "2306  {'Monday': '0:0-0:0', 'Tuesday': '11:0-21:0', ...  \n",
       "2383  {'Monday': '11:0-22:30', 'Tuesday': '11:0-22:3...  \n",
       "2754  {'Monday': '11:0-21:30', 'Tuesday': '11:0-21:3...  \n",
       "3447  {'Monday': '16:30-21:30', 'Tuesday': '16:30-21...  \n",
       "3503  {'Monday': '11:0-22:0', 'Tuesday': '11:0-22:0'...  \n",
       "5968                                               None  \n",
       "6044                                               None  "
      ]
     },
     "execution_count": 8,
     "metadata": {},
     "output_type": "execute_result"
    }
   ],
   "source": [
    "austin_businesses = df_b[(df_b.city == 'Austin') & (~df_b.categories.isna())]\n",
    "austin_restaurants = austin_businesses[austin_businesses.categories.str.contains('Restaurants|Food')].reset_index(drop=True)\n",
    "austin_restaurants[austin_restaurants.name.str.contains('Hunan')]"
   ]
  },
  {
   "cell_type": "code",
   "execution_count": 9,
   "id": "b8b95c7a-eb3d-43f9-87e0-0ac43aa78cbe",
   "metadata": {},
   "outputs": [
    {
     "data": {
      "text/plain": [
       "True"
      ]
     },
     "execution_count": 9,
     "metadata": {},
     "output_type": "execute_result"
    }
   ],
   "source": [
    "# just checking: no restaurant appears twice\n",
    "len(austin_restaurants) == len(austin_restaurants.business_id.unique())"
   ]
  },
  {
   "cell_type": "code",
   "execution_count": 10,
   "id": "fd0164e5-6526-4602-9187-7754c78f744b",
   "metadata": {},
   "outputs": [],
   "source": [
    "# this converts postal_code from int to float, and mangles the attributes and hours columns\n",
    "austin_restaurants.to_csv(processed_data_directory + 'austin_restaurants.csv', index=False)"
   ]
  },
  {
   "cell_type": "code",
   "execution_count": 11,
   "id": "340f4969-5351-4bef-a882-b3194264b370",
   "metadata": {},
   "outputs": [],
   "source": [
    "austin_rest = pd.read_csv(processed_data_directory + 'austin_restaurants.csv')"
   ]
  },
  {
   "cell_type": "code",
   "execution_count": 12,
   "id": "51df0281-6b77-4f17-8a55-ec97e8eef328",
   "metadata": {},
   "outputs": [
    {
     "data": {
      "text/html": [
       "<div>\n",
       "<style scoped>\n",
       "    .dataframe tbody tr th:only-of-type {\n",
       "        vertical-align: middle;\n",
       "    }\n",
       "\n",
       "    .dataframe tbody tr th {\n",
       "        vertical-align: top;\n",
       "    }\n",
       "\n",
       "    .dataframe thead th {\n",
       "        text-align: right;\n",
       "    }\n",
       "</style>\n",
       "<table border=\"1\" class=\"dataframe\">\n",
       "  <thead>\n",
       "    <tr style=\"text-align: right;\">\n",
       "      <th></th>\n",
       "      <th>business_id</th>\n",
       "      <th>name</th>\n",
       "      <th>address</th>\n",
       "      <th>city</th>\n",
       "      <th>state</th>\n",
       "      <th>postal_code</th>\n",
       "      <th>latitude</th>\n",
       "      <th>longitude</th>\n",
       "      <th>stars</th>\n",
       "      <th>review_count</th>\n",
       "      <th>is_open</th>\n",
       "      <th>attributes</th>\n",
       "      <th>categories</th>\n",
       "      <th>hours</th>\n",
       "    </tr>\n",
       "  </thead>\n",
       "  <tbody>\n",
       "    <tr>\n",
       "      <th>0</th>\n",
       "      <td>Xw8tuI30T-xihpzwBV-zJg</td>\n",
       "      <td>El Pollo Rey</td>\n",
       "      <td>1725 E Riverside Dr</td>\n",
       "      <td>Austin</td>\n",
       "      <td>TX</td>\n",
       "      <td>78741.0</td>\n",
       "      <td>30.243493</td>\n",
       "      <td>-97.730141</td>\n",
       "      <td>5.0</td>\n",
       "      <td>11</td>\n",
       "      <td>0</td>\n",
       "      <td>{'RestaurantsGoodForGroups': 'True', 'Restaura...</td>\n",
       "      <td>Food Trucks, Restaurants, Specialty Food, Food...</td>\n",
       "      <td>NaN</td>\n",
       "    </tr>\n",
       "    <tr>\n",
       "      <th>1</th>\n",
       "      <td>NRPemqVb4qpWFF0Avq_6OQ</td>\n",
       "      <td>Eurasia Sushi Bar &amp; Seafood</td>\n",
       "      <td>7101 W Hwy 71, Ste C-13</td>\n",
       "      <td>Austin</td>\n",
       "      <td>TX</td>\n",
       "      <td>78735.0</td>\n",
       "      <td>30.234533</td>\n",
       "      <td>-97.877262</td>\n",
       "      <td>4.5</td>\n",
       "      <td>395</td>\n",
       "      <td>1</td>\n",
       "      <td>{'Ambience': \"{'touristy': False, 'hipster': F...</td>\n",
       "      <td>Bars, Nightlife, Cocktail Bars, Seafood, Resta...</td>\n",
       "      <td>{'Monday': '0:0-0:0', 'Tuesday': '11:0-22:0', ...</td>\n",
       "    </tr>\n",
       "    <tr>\n",
       "      <th>2</th>\n",
       "      <td>bRsDZ44CD3uhGnRY3NeQhQ</td>\n",
       "      <td>Wendy's</td>\n",
       "      <td>6247 Mcneil Drive</td>\n",
       "      <td>Austin</td>\n",
       "      <td>TX</td>\n",
       "      <td>78729.0</td>\n",
       "      <td>30.441875</td>\n",
       "      <td>-97.746581</td>\n",
       "      <td>2.0</td>\n",
       "      <td>46</td>\n",
       "      <td>1</td>\n",
       "      <td>{'RestaurantsPriceRange2': '1', 'OutdoorSeatin...</td>\n",
       "      <td>Fast Food, Restaurants, Burgers</td>\n",
       "      <td>{'Monday': '6:30-1:0', 'Tuesday': '6:30-1:0', ...</td>\n",
       "    </tr>\n",
       "    <tr>\n",
       "      <th>3</th>\n",
       "      <td>z-0oY7VxQMQw3JHvdPejrA</td>\n",
       "      <td>Olmecas Mexican Restaurant</td>\n",
       "      <td>2121 E Oltorf St</td>\n",
       "      <td>Austin</td>\n",
       "      <td>TX</td>\n",
       "      <td>78741.0</td>\n",
       "      <td>30.230016</td>\n",
       "      <td>-97.732639</td>\n",
       "      <td>3.0</td>\n",
       "      <td>21</td>\n",
       "      <td>0</td>\n",
       "      <td>{'Ambience': \"{'romantic': False, 'intimate': ...</td>\n",
       "      <td>Coffee &amp; Tea, Tex-Mex, Restaurants, Mexican, Food</td>\n",
       "      <td>{'Monday': '7:0-23:30', 'Tuesday': '7:0-23:30'...</td>\n",
       "    </tr>\n",
       "    <tr>\n",
       "      <th>4</th>\n",
       "      <td>gjMCRTs0IZbw9bZLG837Bg</td>\n",
       "      <td>CaveMan Cuisine</td>\n",
       "      <td>NaN</td>\n",
       "      <td>Austin</td>\n",
       "      <td>TX</td>\n",
       "      <td>78704.0</td>\n",
       "      <td>30.245673</td>\n",
       "      <td>-97.768836</td>\n",
       "      <td>1.5</td>\n",
       "      <td>6</td>\n",
       "      <td>0</td>\n",
       "      <td>{'RestaurantsPriceRange2': '3', 'BusinessAccep...</td>\n",
       "      <td>Food, Food Delivery Services</td>\n",
       "      <td>NaN</td>\n",
       "    </tr>\n",
       "    <tr>\n",
       "      <th>...</th>\n",
       "      <td>...</td>\n",
       "      <td>...</td>\n",
       "      <td>...</td>\n",
       "      <td>...</td>\n",
       "      <td>...</td>\n",
       "      <td>...</td>\n",
       "      <td>...</td>\n",
       "      <td>...</td>\n",
       "      <td>...</td>\n",
       "      <td>...</td>\n",
       "      <td>...</td>\n",
       "      <td>...</td>\n",
       "      <td>...</td>\n",
       "      <td>...</td>\n",
       "    </tr>\n",
       "    <tr>\n",
       "      <th>6339</th>\n",
       "      <td>bsltkBbgcAUTaW3awpJpmg</td>\n",
       "      <td>Trai Mai Thai</td>\n",
       "      <td>603 W Live Oak</td>\n",
       "      <td>Austin</td>\n",
       "      <td>TX</td>\n",
       "      <td>78704.0</td>\n",
       "      <td>30.244371</td>\n",
       "      <td>-97.758238</td>\n",
       "      <td>3.0</td>\n",
       "      <td>6</td>\n",
       "      <td>0</td>\n",
       "      <td>{'NoiseLevel': \"u'quiet'\", 'RestaurantsTakeOut...</td>\n",
       "      <td>Thai, Restaurants, Vegetarian</td>\n",
       "      <td>{'Monday': '17:0-22:0', 'Tuesday': '17:0-22:0'...</td>\n",
       "    </tr>\n",
       "    <tr>\n",
       "      <th>6340</th>\n",
       "      <td>dO-GVMx-WaxDZ4TN6gBvVg</td>\n",
       "      <td>Target</td>\n",
       "      <td>5621 N I H 35</td>\n",
       "      <td>Austin</td>\n",
       "      <td>TX</td>\n",
       "      <td>78723.0</td>\n",
       "      <td>30.316057</td>\n",
       "      <td>-97.706760</td>\n",
       "      <td>3.0</td>\n",
       "      <td>70</td>\n",
       "      <td>1</td>\n",
       "      <td>{'BikeParking': 'True', 'BusinessAcceptsCredit...</td>\n",
       "      <td>Fashion, Department Stores, Grocery, Electroni...</td>\n",
       "      <td>{'Monday': '0:0-0:0', 'Tuesday': '7:0-22:0', '...</td>\n",
       "    </tr>\n",
       "    <tr>\n",
       "      <th>6341</th>\n",
       "      <td>io_UQS_WwonlCPCfKy3Hdw</td>\n",
       "      <td>Super Bowl</td>\n",
       "      <td>719 W William Cannon Dr, Ste 103</td>\n",
       "      <td>Austin</td>\n",
       "      <td>TX</td>\n",
       "      <td>78745.0</td>\n",
       "      <td>30.196750</td>\n",
       "      <td>-97.788452</td>\n",
       "      <td>3.5</td>\n",
       "      <td>214</td>\n",
       "      <td>1</td>\n",
       "      <td>{'RestaurantsGoodForGroups': 'True', 'Alcohol'...</td>\n",
       "      <td>Restaurants, Chinese</td>\n",
       "      <td>{'Monday': '11:0-22:0', 'Tuesday': '11:0-22:0'...</td>\n",
       "    </tr>\n",
       "    <tr>\n",
       "      <th>6342</th>\n",
       "      <td>EaBDXdIQ_TeeUhn1Twnjvg</td>\n",
       "      <td>Shanghai Noodle House</td>\n",
       "      <td>10300 Anderson Mill Rd, Ste A</td>\n",
       "      <td>Austin</td>\n",
       "      <td>TX</td>\n",
       "      <td>78750.0</td>\n",
       "      <td>30.447543</td>\n",
       "      <td>-97.804432</td>\n",
       "      <td>3.5</td>\n",
       "      <td>83</td>\n",
       "      <td>1</td>\n",
       "      <td>{'RestaurantsAttire': \"u'casual'\", 'Restaurant...</td>\n",
       "      <td>Restaurants, Bubble Tea, Coffee &amp; Tea, Food, N...</td>\n",
       "      <td>{'Tuesday': '11:0-21:0', 'Wednesday': '11:0-21...</td>\n",
       "    </tr>\n",
       "    <tr>\n",
       "      <th>6343</th>\n",
       "      <td>CV4ssWHaKQ3Rid8u3ajuCw</td>\n",
       "      <td>Starbucks</td>\n",
       "      <td>9300 S I-35 Service Rd S Bound, G100</td>\n",
       "      <td>Austin</td>\n",
       "      <td>TX</td>\n",
       "      <td>78748.0</td>\n",
       "      <td>30.165573</td>\n",
       "      <td>-97.788109</td>\n",
       "      <td>3.0</td>\n",
       "      <td>78</td>\n",
       "      <td>1</td>\n",
       "      <td>{'BikeParking': 'True', 'BusinessParking': \"{'...</td>\n",
       "      <td>Food, Coffee &amp; Tea</td>\n",
       "      <td>{'Monday': '0:0-0:0', 'Tuesday': '5:0-21:0', '...</td>\n",
       "    </tr>\n",
       "  </tbody>\n",
       "</table>\n",
       "<p>6344 rows × 14 columns</p>\n",
       "</div>"
      ],
      "text/plain": [
       "                 business_id                         name  \\\n",
       "0     Xw8tuI30T-xihpzwBV-zJg                 El Pollo Rey   \n",
       "1     NRPemqVb4qpWFF0Avq_6OQ  Eurasia Sushi Bar & Seafood   \n",
       "2     bRsDZ44CD3uhGnRY3NeQhQ                      Wendy's   \n",
       "3     z-0oY7VxQMQw3JHvdPejrA   Olmecas Mexican Restaurant   \n",
       "4     gjMCRTs0IZbw9bZLG837Bg              CaveMan Cuisine   \n",
       "...                      ...                          ...   \n",
       "6339  bsltkBbgcAUTaW3awpJpmg                Trai Mai Thai   \n",
       "6340  dO-GVMx-WaxDZ4TN6gBvVg                       Target   \n",
       "6341  io_UQS_WwonlCPCfKy3Hdw                   Super Bowl   \n",
       "6342  EaBDXdIQ_TeeUhn1Twnjvg        Shanghai Noodle House   \n",
       "6343  CV4ssWHaKQ3Rid8u3ajuCw                    Starbucks   \n",
       "\n",
       "                                   address    city state  postal_code  \\\n",
       "0                      1725 E Riverside Dr  Austin    TX      78741.0   \n",
       "1                  7101 W Hwy 71, Ste C-13  Austin    TX      78735.0   \n",
       "2                        6247 Mcneil Drive  Austin    TX      78729.0   \n",
       "3                         2121 E Oltorf St  Austin    TX      78741.0   \n",
       "4                                      NaN  Austin    TX      78704.0   \n",
       "...                                    ...     ...   ...          ...   \n",
       "6339                        603 W Live Oak  Austin    TX      78704.0   \n",
       "6340                         5621 N I H 35  Austin    TX      78723.0   \n",
       "6341      719 W William Cannon Dr, Ste 103  Austin    TX      78745.0   \n",
       "6342         10300 Anderson Mill Rd, Ste A  Austin    TX      78750.0   \n",
       "6343  9300 S I-35 Service Rd S Bound, G100  Austin    TX      78748.0   \n",
       "\n",
       "       latitude  longitude  stars  review_count  is_open  \\\n",
       "0     30.243493 -97.730141    5.0            11        0   \n",
       "1     30.234533 -97.877262    4.5           395        1   \n",
       "2     30.441875 -97.746581    2.0            46        1   \n",
       "3     30.230016 -97.732639    3.0            21        0   \n",
       "4     30.245673 -97.768836    1.5             6        0   \n",
       "...         ...        ...    ...           ...      ...   \n",
       "6339  30.244371 -97.758238    3.0             6        0   \n",
       "6340  30.316057 -97.706760    3.0            70        1   \n",
       "6341  30.196750 -97.788452    3.5           214        1   \n",
       "6342  30.447543 -97.804432    3.5            83        1   \n",
       "6343  30.165573 -97.788109    3.0            78        1   \n",
       "\n",
       "                                             attributes  \\\n",
       "0     {'RestaurantsGoodForGroups': 'True', 'Restaura...   \n",
       "1     {'Ambience': \"{'touristy': False, 'hipster': F...   \n",
       "2     {'RestaurantsPriceRange2': '1', 'OutdoorSeatin...   \n",
       "3     {'Ambience': \"{'romantic': False, 'intimate': ...   \n",
       "4     {'RestaurantsPriceRange2': '3', 'BusinessAccep...   \n",
       "...                                                 ...   \n",
       "6339  {'NoiseLevel': \"u'quiet'\", 'RestaurantsTakeOut...   \n",
       "6340  {'BikeParking': 'True', 'BusinessAcceptsCredit...   \n",
       "6341  {'RestaurantsGoodForGroups': 'True', 'Alcohol'...   \n",
       "6342  {'RestaurantsAttire': \"u'casual'\", 'Restaurant...   \n",
       "6343  {'BikeParking': 'True', 'BusinessParking': \"{'...   \n",
       "\n",
       "                                             categories  \\\n",
       "0     Food Trucks, Restaurants, Specialty Food, Food...   \n",
       "1     Bars, Nightlife, Cocktail Bars, Seafood, Resta...   \n",
       "2                       Fast Food, Restaurants, Burgers   \n",
       "3     Coffee & Tea, Tex-Mex, Restaurants, Mexican, Food   \n",
       "4                          Food, Food Delivery Services   \n",
       "...                                                 ...   \n",
       "6339                      Thai, Restaurants, Vegetarian   \n",
       "6340  Fashion, Department Stores, Grocery, Electroni...   \n",
       "6341                               Restaurants, Chinese   \n",
       "6342  Restaurants, Bubble Tea, Coffee & Tea, Food, N...   \n",
       "6343                                 Food, Coffee & Tea   \n",
       "\n",
       "                                                  hours  \n",
       "0                                                   NaN  \n",
       "1     {'Monday': '0:0-0:0', 'Tuesday': '11:0-22:0', ...  \n",
       "2     {'Monday': '6:30-1:0', 'Tuesday': '6:30-1:0', ...  \n",
       "3     {'Monday': '7:0-23:30', 'Tuesday': '7:0-23:30'...  \n",
       "4                                                   NaN  \n",
       "...                                                 ...  \n",
       "6339  {'Monday': '17:0-22:0', 'Tuesday': '17:0-22:0'...  \n",
       "6340  {'Monday': '0:0-0:0', 'Tuesday': '7:0-22:0', '...  \n",
       "6341  {'Monday': '11:0-22:0', 'Tuesday': '11:0-22:0'...  \n",
       "6342  {'Tuesday': '11:0-21:0', 'Wednesday': '11:0-21...  \n",
       "6343  {'Monday': '0:0-0:0', 'Tuesday': '5:0-21:0', '...  \n",
       "\n",
       "[6344 rows x 14 columns]"
      ]
     },
     "execution_count": 12,
     "metadata": {},
     "output_type": "execute_result"
    }
   ],
   "source": [
    "austin_rest"
   ]
  },
  {
   "cell_type": "code",
   "execution_count": 14,
   "id": "1c16a30e-f6ba-4e92-9460-7c5210271c8b",
   "metadata": {},
   "outputs": [
    {
     "data": {
      "text/plain": [
       "'1725 E Riverside Dr'"
      ]
     },
     "execution_count": 14,
     "metadata": {},
     "output_type": "execute_result"
    }
   ],
   "source": [
    "austin_restaurants.address[0]"
   ]
  },
  {
   "cell_type": "code",
   "execution_count": 15,
   "id": "bfc4e324-3a95-4cf4-b0d6-d4578ed0ab8a",
   "metadata": {},
   "outputs": [
    {
     "data": {
      "text/plain": [
       "'1725 E Riverside Dr'"
      ]
     },
     "execution_count": 15,
     "metadata": {},
     "output_type": "execute_result"
    }
   ],
   "source": [
    "austin_rest.address[0]"
   ]
  },
  {
   "cell_type": "code",
   "execution_count": 16,
   "id": "9ace8eff-09bd-48e9-8e1a-5f8b0b763f22",
   "metadata": {},
   "outputs": [
    {
     "data": {
      "text/plain": [
       "(array([   7.,  104.,  275.,  403.,  818., 1332., 1688., 1273.,  444.]),\n",
       " array([1.        , 1.44444444, 1.88888889, 2.33333333, 2.77777778,\n",
       "        3.22222222, 3.66666667, 4.11111111, 4.55555556, 5.        ]),\n",
       " <BarContainer object of 9 artists>)"
      ]
     },
     "execution_count": 16,
     "metadata": {},
     "output_type": "execute_result"
    },
    {
     "data": {
      "image/png": "[encoded data removed]",
      "text/plain": [
       "<Figure size 432x288 with 1 Axes>"
      ]
     },
     "metadata": {
      "needs_background": "light"
     },
     "output_type": "display_data"
    }
   ],
   "source": [
    "plt.hist(austin_restaurants.stars,bins=9)"
   ]
  },
  {
   "cell_type": "code",
   "execution_count": 17,
   "id": "3bc9e9da-2c4b-4305-850a-0723e6ac9230",
   "metadata": {},
   "outputs": [
    {
     "data": {
      "text/plain": [
       "<AxesSubplot:>"
      ]
     },
     "execution_count": 17,
     "metadata": {},
     "output_type": "execute_result"
    },
    {
     "data": {
      "image/png": "[encoded data removed]",
      "text/plain": [
       "<Figure size 720x432 with 1 Axes>"
      ]
     },
     "metadata": {
      "needs_background": "light"
     },
     "output_type": "display_data"
    }
   ],
   "source": [
    "latlong = austin_restaurants[['latitude','longitude']]\n",
    "geometry = [Point(xy) for xy in zip(latlong['longitude'], latlong['latitude'])]\n",
    "gdf = GeoDataFrame(latlong, geometry=geometry)   \n",
    "usa = gpd.read_file(map_path)\n",
    "usa = usa[~usa['STATE_NAME'].isin(['Hawaii','Alaska'])] # exclude HI & AK\n",
    "texas = usa[usa['STATE_NAME'] == 'Texas']\n",
    "gdf.plot(ax=texas.plot(figsize=(10, 6)), marker='o', color='red', markersize=2, alpha=0.2)"
   ]
  },
  {
   "cell_type": "markdown",
   "id": "7c74d76f-bf62-4296-9700-d440c1a6ee19",
   "metadata": {
    "tags": []
   },
   "source": [
    "## Health inspection data"
   ]
  },
  {
   "cell_type": "markdown",
   "id": "df522fb4-de98-42f6-8ae7-fd9a6431afac",
   "metadata": {},
   "source": [
    "Yelp has this data on some of their business pages (rolled out early 2022). I tried three ways to get it:\n",
    "1. Query Yelp Fusion API. No health information through their API yet, unfortunately.\n",
    "2. Scrape Yelp site directly. This got me IP banned within 100 scraped pages, as Yelp does not like web crawlers.\n",
    "3. Ditch Yelp and get the data from the city of Austin directly, available at: https://data.austintexas.gov/Health-and-Community-Services/Food-Establishment-Inspection-Scores/ecmv-9xxi.\n",
    "    - Need to match businesses with Yelp business IDs, which can be done with Yelp API queries (business name and address)."
   ]
  },
  {
   "cell_type": "markdown",
   "id": "9aa0321c-3e10-43a4-9ca7-d62bd2d0aee7",
   "metadata": {
    "tags": []
   },
   "source": [
    "### import/clean inspection data from city of Austin"
   ]
  },
  {
   "cell_type": "code",
   "execution_count": 19,
   "id": "9d4c23a5-c0f3-4fcf-859e-b2564238d412",
   "metadata": {},
   "outputs": [],
   "source": [
    "# not that big\n",
    "df = pd.read_csv(inspection_data_directory + 'Food_Establishment_Inspection_Scores.csv',\n",
    "                delimiter = ',', on_bad_lines='skip')\n",
    "\n",
    "# clean up address data, extracting lat/long\n",
    "# formatted as Address \\n city, state, zip \\n (lat, long)\n",
    "df.Address = df.Address.apply(lambda x: x.split('\\n'))\n",
    "df['latitude'] = df.Address.apply(lambda x: eval(x[2])[0] if len(x) == 3 else None)\n",
    "df['longitude'] = df.Address.apply(lambda x: eval(x[2])[1] if len(x) == 3 else None)\n",
    "df['Address Line 2'] = df.Address.str[1]\n",
    "df.Address = df.Address.str[0]\n",
    "df['Inspection Date'] = pd.to_datetime(df['Inspection Date'])"
   ]
  },
  {
   "cell_type": "code",
   "execution_count": 20,
   "id": "2721a58a-b8de-488d-8c93-9a5629854816",
   "metadata": {},
   "outputs": [
    {
     "data": {
      "text/html": [
       "<div>\n",
       "<style scoped>\n",
       "    .dataframe tbody tr th:only-of-type {\n",
       "        vertical-align: middle;\n",
       "    }\n",
       "\n",
       "    .dataframe tbody tr th {\n",
       "        vertical-align: top;\n",
       "    }\n",
       "\n",
       "    .dataframe thead th {\n",
       "        text-align: right;\n",
       "    }\n",
       "</style>\n",
       "<table border=\"1\" class=\"dataframe\">\n",
       "  <thead>\n",
       "    <tr style=\"text-align: right;\">\n",
       "      <th></th>\n",
       "      <th>Restaurant Name</th>\n",
       "      <th>Zip Code</th>\n",
       "      <th>Inspection Date</th>\n",
       "      <th>Score</th>\n",
       "      <th>Address</th>\n",
       "      <th>Facility ID</th>\n",
       "      <th>Process Description</th>\n",
       "      <th>latitude</th>\n",
       "      <th>longitude</th>\n",
       "      <th>Address Line 2</th>\n",
       "    </tr>\n",
       "  </thead>\n",
       "  <tbody>\n",
       "    <tr>\n",
       "      <th>0</th>\n",
       "      <td>LW - Crown Donut</td>\n",
       "      <td>78734.0</td>\n",
       "      <td>2019-12-06</td>\n",
       "      <td>97</td>\n",
       "      <td>325 S FM 620 RD</td>\n",
       "      <td>10545024</td>\n",
       "      <td>Routine Inspection</td>\n",
       "      <td>NaN</td>\n",
       "      <td>NaN</td>\n",
       "      <td>LAKEWAY, TX 78734</td>\n",
       "    </tr>\n",
       "    <tr>\n",
       "      <th>1</th>\n",
       "      <td>Riverside Grocery</td>\n",
       "      <td>78701.0</td>\n",
       "      <td>2022-03-03</td>\n",
       "      <td>99</td>\n",
       "      <td>30 N IH</td>\n",
       "      <td>2803648</td>\n",
       "      <td>Routine Inspection</td>\n",
       "      <td>NaN</td>\n",
       "      <td>NaN</td>\n",
       "      <td>AUSTIN, TX 78701</td>\n",
       "    </tr>\n",
       "    <tr>\n",
       "      <th>2</th>\n",
       "      <td>Circle K #2741303</td>\n",
       "      <td>78748.0</td>\n",
       "      <td>2021-06-25</td>\n",
       "      <td>91</td>\n",
       "      <td>8628 MANCHACA RD</td>\n",
       "      <td>2803589</td>\n",
       "      <td>Routine Inspection</td>\n",
       "      <td>NaN</td>\n",
       "      <td>NaN</td>\n",
       "      <td>AUSTIN, TX 78748</td>\n",
       "    </tr>\n",
       "    <tr>\n",
       "      <th>3</th>\n",
       "      <td>Stop 71</td>\n",
       "      <td>78735.0</td>\n",
       "      <td>2020-03-03</td>\n",
       "      <td>78</td>\n",
       "      <td>8314 W SH</td>\n",
       "      <td>2803909</td>\n",
       "      <td>Routine Inspection</td>\n",
       "      <td>NaN</td>\n",
       "      <td>NaN</td>\n",
       "      <td>AUSTIN, TX 78735</td>\n",
       "    </tr>\n",
       "    <tr>\n",
       "      <th>4</th>\n",
       "      <td>Angel's Ice House</td>\n",
       "      <td>78669.0</td>\n",
       "      <td>2021-11-16</td>\n",
       "      <td>94</td>\n",
       "      <td>21815 W SH</td>\n",
       "      <td>2802178</td>\n",
       "      <td>Routine Inspection</td>\n",
       "      <td>NaN</td>\n",
       "      <td>NaN</td>\n",
       "      <td>SPICEWOOD, TX 78669</td>\n",
       "    </tr>\n",
       "    <tr>\n",
       "      <th>...</th>\n",
       "      <td>...</td>\n",
       "      <td>...</td>\n",
       "      <td>...</td>\n",
       "      <td>...</td>\n",
       "      <td>...</td>\n",
       "      <td>...</td>\n",
       "      <td>...</td>\n",
       "      <td>...</td>\n",
       "      <td>...</td>\n",
       "      <td>...</td>\n",
       "    </tr>\n",
       "    <tr>\n",
       "      <th>25779</th>\n",
       "      <td>Commodore Perry Estate, The</td>\n",
       "      <td>78751.0</td>\n",
       "      <td>2021-11-18</td>\n",
       "      <td>84</td>\n",
       "      <td>4114 RED RIVER ST</td>\n",
       "      <td>12392635</td>\n",
       "      <td>Routine Inspection</td>\n",
       "      <td>30.300755</td>\n",
       "      <td>-97.721903</td>\n",
       "      <td>AUSTIN, TX 78751</td>\n",
       "    </tr>\n",
       "    <tr>\n",
       "      <th>25780</th>\n",
       "      <td>El Mercado North</td>\n",
       "      <td>78757.0</td>\n",
       "      <td>2021-07-27</td>\n",
       "      <td>89</td>\n",
       "      <td>7414 BURNET RD</td>\n",
       "      <td>2800466</td>\n",
       "      <td>Routine Inspection</td>\n",
       "      <td>30.350003</td>\n",
       "      <td>-97.734632</td>\n",
       "      <td>AUSTIN, TX 78757</td>\n",
       "    </tr>\n",
       "    <tr>\n",
       "      <th>25781</th>\n",
       "      <td>Wendy's #W129/11274</td>\n",
       "      <td>78759.0</td>\n",
       "      <td>2019-12-31</td>\n",
       "      <td>82</td>\n",
       "      <td>10701 RESEARCH BLVD</td>\n",
       "      <td>11115872</td>\n",
       "      <td>Routine Inspection</td>\n",
       "      <td>30.398568</td>\n",
       "      <td>-97.745647</td>\n",
       "      <td>AUSTIN, TX 78759</td>\n",
       "    </tr>\n",
       "    <tr>\n",
       "      <th>25782</th>\n",
       "      <td>Slapbox Pizzicheria</td>\n",
       "      <td>78717.0</td>\n",
       "      <td>2021-10-18</td>\n",
       "      <td>80</td>\n",
       "      <td>9900 W PARMER LN</td>\n",
       "      <td>12393453</td>\n",
       "      <td>Routine Inspection</td>\n",
       "      <td>30.486294</td>\n",
       "      <td>-97.770553</td>\n",
       "      <td>AUSTIN, TX 78717</td>\n",
       "    </tr>\n",
       "    <tr>\n",
       "      <th>25783</th>\n",
       "      <td>Bluebonnet Food Mart</td>\n",
       "      <td>78704.0</td>\n",
       "      <td>2021-11-04</td>\n",
       "      <td>90</td>\n",
       "      <td>1701 BLUEBONNET LN</td>\n",
       "      <td>10543229</td>\n",
       "      <td>Routine Inspection</td>\n",
       "      <td>30.254763</td>\n",
       "      <td>-97.772096</td>\n",
       "      <td>AUSTIN, TX 78704</td>\n",
       "    </tr>\n",
       "  </tbody>\n",
       "</table>\n",
       "<p>25784 rows × 10 columns</p>\n",
       "</div>"
      ],
      "text/plain": [
       "                   Restaurant Name  Zip Code Inspection Date  Score  \\\n",
       "0                 LW - Crown Donut   78734.0      2019-12-06     97   \n",
       "1                Riverside Grocery   78701.0      2022-03-03     99   \n",
       "2                Circle K #2741303   78748.0      2021-06-25     91   \n",
       "3                          Stop 71   78735.0      2020-03-03     78   \n",
       "4                Angel's Ice House   78669.0      2021-11-16     94   \n",
       "...                            ...       ...             ...    ...   \n",
       "25779  Commodore Perry Estate, The   78751.0      2021-11-18     84   \n",
       "25780             El Mercado North   78757.0      2021-07-27     89   \n",
       "25781          Wendy's #W129/11274   78759.0      2019-12-31     82   \n",
       "25782          Slapbox Pizzicheria   78717.0      2021-10-18     80   \n",
       "25783         Bluebonnet Food Mart   78704.0      2021-11-04     90   \n",
       "\n",
       "                   Address  Facility ID Process Description   latitude  \\\n",
       "0          325 S FM 620 RD     10545024  Routine Inspection        NaN   \n",
       "1                  30 N IH      2803648  Routine Inspection        NaN   \n",
       "2         8628 MANCHACA RD      2803589  Routine Inspection        NaN   \n",
       "3                8314 W SH      2803909  Routine Inspection        NaN   \n",
       "4               21815 W SH      2802178  Routine Inspection        NaN   \n",
       "...                    ...          ...                 ...        ...   \n",
       "25779    4114 RED RIVER ST     12392635  Routine Inspection  30.300755   \n",
       "25780       7414 BURNET RD      2800466  Routine Inspection  30.350003   \n",
       "25781  10701 RESEARCH BLVD     11115872  Routine Inspection  30.398568   \n",
       "25782     9900 W PARMER LN     12393453  Routine Inspection  30.486294   \n",
       "25783   1701 BLUEBONNET LN     10543229  Routine Inspection  30.254763   \n",
       "\n",
       "       longitude       Address Line 2  \n",
       "0            NaN    LAKEWAY, TX 78734  \n",
       "1            NaN     AUSTIN, TX 78701  \n",
       "2            NaN     AUSTIN, TX 78748  \n",
       "3            NaN     AUSTIN, TX 78735  \n",
       "4            NaN  SPICEWOOD, TX 78669  \n",
       "...          ...                  ...  \n",
       "25779 -97.721903     AUSTIN, TX 78751  \n",
       "25780 -97.734632     AUSTIN, TX 78757  \n",
       "25781 -97.745647     AUSTIN, TX 78759  \n",
       "25782 -97.770553     AUSTIN, TX 78717  \n",
       "25783 -97.772096     AUSTIN, TX 78704  \n",
       "\n",
       "[25784 rows x 10 columns]"
      ]
     },
     "execution_count": 20,
     "metadata": {},
     "output_type": "execute_result"
    }
   ],
   "source": [
    "df"
   ]
  },
  {
   "cell_type": "code",
   "execution_count": 21,
   "id": "a238ed4d-87b1-4a39-a160-8951147c52aa",
   "metadata": {},
   "outputs": [
    {
     "data": {
      "text/plain": [
       "6680"
      ]
     },
     "execution_count": 21,
     "metadata": {},
     "output_type": "execute_result"
    }
   ],
   "source": [
    "# number of inspected facilities\n",
    "len(df['Facility ID'].unique())"
   ]
  },
  {
   "cell_type": "code",
   "execution_count": 22,
   "id": "3147698e-45b4-42d3-8afe-45674e776b39",
   "metadata": {},
   "outputs": [
    {
     "data": {
      "text/html": [
       "<div>\n",
       "<style scoped>\n",
       "    .dataframe tbody tr th:only-of-type {\n",
       "        vertical-align: middle;\n",
       "    }\n",
       "\n",
       "    .dataframe tbody tr th {\n",
       "        vertical-align: top;\n",
       "    }\n",
       "\n",
       "    .dataframe thead th {\n",
       "        text-align: right;\n",
       "    }\n",
       "</style>\n",
       "<table border=\"1\" class=\"dataframe\">\n",
       "  <thead>\n",
       "    <tr style=\"text-align: right;\">\n",
       "      <th></th>\n",
       "      <th>Restaurant Name</th>\n",
       "      <th>Zip Code</th>\n",
       "      <th>Inspection Date</th>\n",
       "      <th>Score</th>\n",
       "      <th>Address</th>\n",
       "      <th>Facility ID</th>\n",
       "      <th>Process Description</th>\n",
       "      <th>latitude</th>\n",
       "      <th>longitude</th>\n",
       "      <th>Address Line 2</th>\n",
       "    </tr>\n",
       "  </thead>\n",
       "  <tbody>\n",
       "    <tr>\n",
       "      <th>0</th>\n",
       "      <td>Blenders and Bowls</td>\n",
       "      <td>78758.0</td>\n",
       "      <td>2019-04-29</td>\n",
       "      <td>84</td>\n",
       "      <td>11010 DOMAIN DR</td>\n",
       "      <td>12074384</td>\n",
       "      <td>Routine Inspection</td>\n",
       "      <td>30.396729</td>\n",
       "      <td>-97.726474</td>\n",
       "      <td>AUSTIN, TX 78758</td>\n",
       "    </tr>\n",
       "    <tr>\n",
       "      <th>1</th>\n",
       "      <td>Spansion Cafeteria</td>\n",
       "      <td>78741.0</td>\n",
       "      <td>2019-05-01</td>\n",
       "      <td>100</td>\n",
       "      <td>5204 E BEN WHITE BLVD</td>\n",
       "      <td>10398805</td>\n",
       "      <td>Routine Inspection</td>\n",
       "      <td>30.214204</td>\n",
       "      <td>-97.724823</td>\n",
       "      <td>AUSTIN, TX 78741</td>\n",
       "    </tr>\n",
       "    <tr>\n",
       "      <th>2</th>\n",
       "      <td>Planet</td>\n",
       "      <td>78702.0</td>\n",
       "      <td>2019-05-02</td>\n",
       "      <td>97</td>\n",
       "      <td>2921 E 17TH ST</td>\n",
       "      <td>12162918</td>\n",
       "      <td>Routine Inspection</td>\n",
       "      <td>30.279350</td>\n",
       "      <td>-97.710333</td>\n",
       "      <td>AUSTIN, TX 78702</td>\n",
       "    </tr>\n",
       "    <tr>\n",
       "      <th>3</th>\n",
       "      <td>OOB - LW - Holiday Inn Express</td>\n",
       "      <td>78734.0</td>\n",
       "      <td>2019-05-03</td>\n",
       "      <td>99</td>\n",
       "      <td>15707 OAK GROVE BLVD</td>\n",
       "      <td>10867994</td>\n",
       "      <td>Routine Inspection</td>\n",
       "      <td>30.381157</td>\n",
       "      <td>-97.946063</td>\n",
       "      <td>LAKEWAY, TX 78734</td>\n",
       "    </tr>\n",
       "    <tr>\n",
       "      <th>4</th>\n",
       "      <td>LW-Acai Hut</td>\n",
       "      <td>78734.0</td>\n",
       "      <td>2019-05-03</td>\n",
       "      <td>99</td>\n",
       "      <td>2125 LOHMANS CROSSING RD</td>\n",
       "      <td>12149504</td>\n",
       "      <td>Routine Inspection</td>\n",
       "      <td>30.342143</td>\n",
       "      <td>-97.970843</td>\n",
       "      <td>LAKEWAY, TX 78734</td>\n",
       "    </tr>\n",
       "    <tr>\n",
       "      <th>...</th>\n",
       "      <td>...</td>\n",
       "      <td>...</td>\n",
       "      <td>...</td>\n",
       "      <td>...</td>\n",
       "      <td>...</td>\n",
       "      <td>...</td>\n",
       "      <td>...</td>\n",
       "      <td>...</td>\n",
       "      <td>...</td>\n",
       "      <td>...</td>\n",
       "    </tr>\n",
       "    <tr>\n",
       "      <th>6675</th>\n",
       "      <td>WL - MOD Super Fast Pizza, LLC</td>\n",
       "      <td>78746.0</td>\n",
       "      <td>2022-04-05</td>\n",
       "      <td>89</td>\n",
       "      <td>701 S CAPITAL OF TEXAS HWY</td>\n",
       "      <td>11313184</td>\n",
       "      <td>Routine Inspection</td>\n",
       "      <td>30.292189</td>\n",
       "      <td>-97.828184</td>\n",
       "      <td>WEST LAKE HILLS, TX 78746</td>\n",
       "    </tr>\n",
       "    <tr>\n",
       "      <th>6676</th>\n",
       "      <td>Comedor</td>\n",
       "      <td>78701.0</td>\n",
       "      <td>2022-04-05</td>\n",
       "      <td>87</td>\n",
       "      <td>501 COLORADO ST</td>\n",
       "      <td>12117759</td>\n",
       "      <td>Routine Inspection</td>\n",
       "      <td>30.267884</td>\n",
       "      <td>-97.744331</td>\n",
       "      <td>AUSTIN, TX 78701</td>\n",
       "    </tr>\n",
       "    <tr>\n",
       "      <th>6677</th>\n",
       "      <td>Tokyo Garden Catering</td>\n",
       "      <td>78731.0</td>\n",
       "      <td>2022-04-05</td>\n",
       "      <td>93</td>\n",
       "      <td>7025 VILLAGE CENTER DR</td>\n",
       "      <td>2802634</td>\n",
       "      <td>Routine Inspection</td>\n",
       "      <td>30.352585</td>\n",
       "      <td>-97.756179</td>\n",
       "      <td>AUSTIN, TX 78731</td>\n",
       "    </tr>\n",
       "    <tr>\n",
       "      <th>6678</th>\n",
       "      <td>Commodore Perry Estate, The</td>\n",
       "      <td>78751.0</td>\n",
       "      <td>2022-04-05</td>\n",
       "      <td>91</td>\n",
       "      <td>4114 RED RIVER ST</td>\n",
       "      <td>12392635</td>\n",
       "      <td>Routine Inspection</td>\n",
       "      <td>30.300755</td>\n",
       "      <td>-97.721903</td>\n",
       "      <td>AUSTIN, TX 78751</td>\n",
       "    </tr>\n",
       "    <tr>\n",
       "      <th>6679</th>\n",
       "      <td>Jim's Coffee Shop #29</td>\n",
       "      <td>78736.0</td>\n",
       "      <td>2022-04-05</td>\n",
       "      <td>84</td>\n",
       "      <td>7101 W SH</td>\n",
       "      <td>2800710</td>\n",
       "      <td>Routine Inspection</td>\n",
       "      <td>NaN</td>\n",
       "      <td>NaN</td>\n",
       "      <td>AUSTIN, TX 78736</td>\n",
       "    </tr>\n",
       "  </tbody>\n",
       "</table>\n",
       "<p>6680 rows × 10 columns</p>\n",
       "</div>"
      ],
      "text/plain": [
       "                     Restaurant Name  Zip Code Inspection Date  Score  \\\n",
       "0                 Blenders and Bowls   78758.0      2019-04-29     84   \n",
       "1                 Spansion Cafeteria   78741.0      2019-05-01    100   \n",
       "2                             Planet   78702.0      2019-05-02     97   \n",
       "3     OOB - LW - Holiday Inn Express   78734.0      2019-05-03     99   \n",
       "4                        LW-Acai Hut   78734.0      2019-05-03     99   \n",
       "...                              ...       ...             ...    ...   \n",
       "6675  WL - MOD Super Fast Pizza, LLC   78746.0      2022-04-05     89   \n",
       "6676                         Comedor   78701.0      2022-04-05     87   \n",
       "6677           Tokyo Garden Catering   78731.0      2022-04-05     93   \n",
       "6678     Commodore Perry Estate, The   78751.0      2022-04-05     91   \n",
       "6679           Jim's Coffee Shop #29   78736.0      2022-04-05     84   \n",
       "\n",
       "                         Address  Facility ID Process Description   latitude  \\\n",
       "0                11010 DOMAIN DR     12074384  Routine Inspection  30.396729   \n",
       "1          5204 E BEN WHITE BLVD     10398805  Routine Inspection  30.214204   \n",
       "2                 2921 E 17TH ST     12162918  Routine Inspection  30.279350   \n",
       "3           15707 OAK GROVE BLVD     10867994  Routine Inspection  30.381157   \n",
       "4       2125 LOHMANS CROSSING RD     12149504  Routine Inspection  30.342143   \n",
       "...                          ...          ...                 ...        ...   \n",
       "6675  701 S CAPITAL OF TEXAS HWY     11313184  Routine Inspection  30.292189   \n",
       "6676             501 COLORADO ST     12117759  Routine Inspection  30.267884   \n",
       "6677      7025 VILLAGE CENTER DR      2802634  Routine Inspection  30.352585   \n",
       "6678           4114 RED RIVER ST     12392635  Routine Inspection  30.300755   \n",
       "6679                   7101 W SH      2800710  Routine Inspection        NaN   \n",
       "\n",
       "      longitude             Address Line 2  \n",
       "0    -97.726474           AUSTIN, TX 78758  \n",
       "1    -97.724823           AUSTIN, TX 78741  \n",
       "2    -97.710333           AUSTIN, TX 78702  \n",
       "3    -97.946063          LAKEWAY, TX 78734  \n",
       "4    -97.970843          LAKEWAY, TX 78734  \n",
       "...         ...                        ...  \n",
       "6675 -97.828184  WEST LAKE HILLS, TX 78746  \n",
       "6676 -97.744331           AUSTIN, TX 78701  \n",
       "6677 -97.756179           AUSTIN, TX 78731  \n",
       "6678 -97.721903           AUSTIN, TX 78751  \n",
       "6679        NaN           AUSTIN, TX 78736  \n",
       "\n",
       "[6680 rows x 10 columns]"
      ]
     },
     "execution_count": 22,
     "metadata": {},
     "output_type": "execute_result"
    }
   ],
   "source": [
    "# get latest score\n",
    "latest_scores = df.sort_values('Inspection Date').groupby(['Facility ID']).tail(1).reset_index(drop=True)\n",
    "latest_scores"
   ]
  },
  {
   "cell_type": "code",
   "execution_count": 23,
   "id": "e50c6614-6a0f-4f4d-900c-01de138abedf",
   "metadata": {},
   "outputs": [
    {
     "name": "stdout",
     "output_type": "stream",
     "text": [
      "6680\n",
      "6680\n"
     ]
    },
    {
     "data": {
      "text/html": [
       "<div>\n",
       "<style scoped>\n",
       "    .dataframe tbody tr th:only-of-type {\n",
       "        vertical-align: middle;\n",
       "    }\n",
       "\n",
       "    .dataframe tbody tr th {\n",
       "        vertical-align: top;\n",
       "    }\n",
       "\n",
       "    .dataframe thead th {\n",
       "        text-align: right;\n",
       "    }\n",
       "</style>\n",
       "<table border=\"1\" class=\"dataframe\">\n",
       "  <thead>\n",
       "    <tr style=\"text-align: right;\">\n",
       "      <th></th>\n",
       "      <th></th>\n",
       "      <th></th>\n",
       "      <th>Zip Code</th>\n",
       "      <th>Score</th>\n",
       "      <th>latitude</th>\n",
       "      <th>longitude</th>\n",
       "    </tr>\n",
       "    <tr>\n",
       "      <th>Facility ID</th>\n",
       "      <th>Restaurant Name</th>\n",
       "      <th>Address</th>\n",
       "      <th></th>\n",
       "      <th></th>\n",
       "      <th></th>\n",
       "      <th></th>\n",
       "    </tr>\n",
       "  </thead>\n",
       "  <tbody>\n",
       "    <tr>\n",
       "      <th>2800004</th>\n",
       "      <th>Threadgill's</th>\n",
       "      <th>6416 N LAMAR BLVD</th>\n",
       "      <td>78752.0</td>\n",
       "      <td>98.666667</td>\n",
       "      <td>30.332501</td>\n",
       "      <td>-97.722202</td>\n",
       "    </tr>\n",
       "    <tr>\n",
       "      <th>2800006</th>\n",
       "      <th>Webb Middle School</th>\n",
       "      <th>601 E ST JOHNS AVE</th>\n",
       "      <td>78752.0</td>\n",
       "      <td>97.333333</td>\n",
       "      <td>30.333921</td>\n",
       "      <td>-97.706498</td>\n",
       "    </tr>\n",
       "    <tr>\n",
       "      <th>2800007</th>\n",
       "      <th>Whataburger #132</th>\n",
       "      <th>9516 N LAMAR BLVD</th>\n",
       "      <td>78753.0</td>\n",
       "      <td>97.500000</td>\n",
       "      <td>30.365158</td>\n",
       "      <td>-97.695835</td>\n",
       "    </tr>\n",
       "    <tr>\n",
       "      <th>2800008</th>\n",
       "      <th>Wooldridge Elementary</th>\n",
       "      <th>1412 NORSEMAN TER</th>\n",
       "      <td>78758.0</td>\n",
       "      <td>99.333333</td>\n",
       "      <td>30.364408</td>\n",
       "      <td>-97.710271</td>\n",
       "    </tr>\n",
       "    <tr>\n",
       "      <th>2800009</th>\n",
       "      <th>Wooten Elementary</th>\n",
       "      <th>1406 DALE DR</th>\n",
       "      <td>78757.0</td>\n",
       "      <td>96.200000</td>\n",
       "      <td>30.353261</td>\n",
       "      <td>-97.719876</td>\n",
       "    </tr>\n",
       "    <tr>\n",
       "      <th>...</th>\n",
       "      <th>...</th>\n",
       "      <th>...</th>\n",
       "      <td>...</td>\n",
       "      <td>...</td>\n",
       "      <td>...</td>\n",
       "      <td>...</td>\n",
       "    </tr>\n",
       "    <tr>\n",
       "      <th>12395919</th>\n",
       "      <th>7-Eleven Convenience Store # 41166A</th>\n",
       "      <th>17000 SWEETWATER VILLAGE DR</th>\n",
       "      <td>78738.0</td>\n",
       "      <td>98.000000</td>\n",
       "      <td>NaN</td>\n",
       "      <td>NaN</td>\n",
       "    </tr>\n",
       "    <tr>\n",
       "      <th>12396012</th>\n",
       "      <th>McDonald's #14128</th>\n",
       "      <th>1024 E ANDERSON LN</th>\n",
       "      <td>78753.0</td>\n",
       "      <td>100.000000</td>\n",
       "      <td>30.336471</td>\n",
       "      <td>-97.693911</td>\n",
       "    </tr>\n",
       "    <tr>\n",
       "      <th>12396015</th>\n",
       "      <th>McDonald's #424</th>\n",
       "      <th>5355 N IH</th>\n",
       "      <td>78723.0</td>\n",
       "      <td>87.000000</td>\n",
       "      <td>NaN</td>\n",
       "      <td>NaN</td>\n",
       "    </tr>\n",
       "    <tr>\n",
       "      <th>12396049</th>\n",
       "      <th>PF- Accent Food Services - The Boring Company</th>\n",
       "      <th>15709 IMPACT WAY</th>\n",
       "      <td>78660.0</td>\n",
       "      <td>100.000000</td>\n",
       "      <td>30.416302</td>\n",
       "      <td>-97.590156</td>\n",
       "    </tr>\n",
       "    <tr>\n",
       "      <th>12396341</th>\n",
       "      <th>Stony's Pizza</th>\n",
       "      <th>9521 W US 290 HWY</th>\n",
       "      <td>78737.0</td>\n",
       "      <td>94.000000</td>\n",
       "      <td>NaN</td>\n",
       "      <td>NaN</td>\n",
       "    </tr>\n",
       "  </tbody>\n",
       "</table>\n",
       "<p>6680 rows × 4 columns</p>\n",
       "</div>"
      ],
      "text/plain": [
       "                                                                                       Zip Code  \\\n",
       "Facility ID Restaurant Name                               Address                                 \n",
       "2800004     Threadgill's                                  6416 N LAMAR BLVD             78752.0   \n",
       "2800006     Webb Middle School                            601 E ST JOHNS AVE            78752.0   \n",
       "2800007     Whataburger #132                              9516 N LAMAR BLVD             78753.0   \n",
       "2800008     Wooldridge Elementary                         1412 NORSEMAN TER             78758.0   \n",
       "2800009     Wooten Elementary                             1406 DALE DR                  78757.0   \n",
       "...                                                                                         ...   \n",
       "12395919    7-Eleven Convenience Store # 41166A           17000 SWEETWATER VILLAGE DR   78738.0   \n",
       "12396012    McDonald's #14128                             1024 E ANDERSON LN            78753.0   \n",
       "12396015    McDonald's #424                               5355 N IH                     78723.0   \n",
       "12396049    PF- Accent Food Services - The Boring Company 15709 IMPACT WAY              78660.0   \n",
       "12396341    Stony's Pizza                                 9521 W US 290 HWY             78737.0   \n",
       "\n",
       "                                                                                            Score  \\\n",
       "Facility ID Restaurant Name                               Address                                   \n",
       "2800004     Threadgill's                                  6416 N LAMAR BLVD             98.666667   \n",
       "2800006     Webb Middle School                            601 E ST JOHNS AVE            97.333333   \n",
       "2800007     Whataburger #132                              9516 N LAMAR BLVD             97.500000   \n",
       "2800008     Wooldridge Elementary                         1412 NORSEMAN TER             99.333333   \n",
       "2800009     Wooten Elementary                             1406 DALE DR                  96.200000   \n",
       "...                                                                                           ...   \n",
       "12395919    7-Eleven Convenience Store # 41166A           17000 SWEETWATER VILLAGE DR   98.000000   \n",
       "12396012    McDonald's #14128                             1024 E ANDERSON LN           100.000000   \n",
       "12396015    McDonald's #424                               5355 N IH                     87.000000   \n",
       "12396049    PF- Accent Food Services - The Boring Company 15709 IMPACT WAY             100.000000   \n",
       "12396341    Stony's Pizza                                 9521 W US 290 HWY             94.000000   \n",
       "\n",
       "                                                                                        latitude  \\\n",
       "Facility ID Restaurant Name                               Address                                  \n",
       "2800004     Threadgill's                                  6416 N LAMAR BLVD            30.332501   \n",
       "2800006     Webb Middle School                            601 E ST JOHNS AVE           30.333921   \n",
       "2800007     Whataburger #132                              9516 N LAMAR BLVD            30.365158   \n",
       "2800008     Wooldridge Elementary                         1412 NORSEMAN TER            30.364408   \n",
       "2800009     Wooten Elementary                             1406 DALE DR                 30.353261   \n",
       "...                                                                                          ...   \n",
       "12395919    7-Eleven Convenience Store # 41166A           17000 SWEETWATER VILLAGE DR        NaN   \n",
       "12396012    McDonald's #14128                             1024 E ANDERSON LN           30.336471   \n",
       "12396015    McDonald's #424                               5355 N IH                          NaN   \n",
       "12396049    PF- Accent Food Services - The Boring Company 15709 IMPACT WAY             30.416302   \n",
       "12396341    Stony's Pizza                                 9521 W US 290 HWY                  NaN   \n",
       "\n",
       "                                                                                       longitude  \n",
       "Facility ID Restaurant Name                               Address                                 \n",
       "2800004     Threadgill's                                  6416 N LAMAR BLVD           -97.722202  \n",
       "2800006     Webb Middle School                            601 E ST JOHNS AVE          -97.706498  \n",
       "2800007     Whataburger #132                              9516 N LAMAR BLVD           -97.695835  \n",
       "2800008     Wooldridge Elementary                         1412 NORSEMAN TER           -97.710271  \n",
       "2800009     Wooten Elementary                             1406 DALE DR                -97.719876  \n",
       "...                                                                                          ...  \n",
       "12395919    7-Eleven Convenience Store # 41166A           17000 SWEETWATER VILLAGE DR        NaN  \n",
       "12396012    McDonald's #14128                             1024 E ANDERSON LN          -97.693911  \n",
       "12396015    McDonald's #424                               5355 N IH                          NaN  \n",
       "12396049    PF- Accent Food Services - The Boring Company 15709 IMPACT WAY            -97.590156  \n",
       "12396341    Stony's Pizza                                 9521 W US 290 HWY                  NaN  \n",
       "\n",
       "[6680 rows x 4 columns]"
      ]
     },
     "execution_count": 23,
     "metadata": {},
     "output_type": "execute_result"
    }
   ],
   "source": [
    "# get average score\n",
    "mean_scores = df.groupby(['Facility ID','Restaurant Name','Address']).mean()\n",
    "print(len(mean_scores))\n",
    "print(len(df['Facility ID'].unique()))\n",
    "mean_scores"
   ]
  },
  {
   "cell_type": "code",
   "execution_count": 24,
   "id": "8b6f1f43-1f36-4f1a-8b44-1a16562e497b",
   "metadata": {},
   "outputs": [],
   "source": [
    "# export cleaned dataframe\n",
    "df.to_csv(processed_data_directory + 'austin_inspections.csv', index=False)"
   ]
  },
  {
   "cell_type": "markdown",
   "id": "83e039d8-2508-46ad-abe1-fed96d426236",
   "metadata": {
    "tags": []
   },
   "source": [
    "### Query Yelp API for inspected restaurant name/address"
   ]
  },
  {
   "cell_type": "markdown",
   "id": "c9eeb754-5be9-47a1-93f1-6aab7b62e962",
   "metadata": {},
   "source": [
    "Need to send ~7000 queries, but Yelp API only allows 5000/day so I ran it over two days."
   ]
  },
  {
   "cell_type": "code",
   "execution_count": 348,
   "id": "79907ddb-4800-4de5-8eff-989ae672ca26",
   "metadata": {},
   "outputs": [],
   "source": [
    "yelp_api = YelpAPI(api_key, timeout_s=3.0)\n",
    "yelp_api_responses_file = processed_data_directory + 'yelp_api_responses.pkl'"
   ]
  },
  {
   "cell_type": "code",
   "execution_count": 349,
   "id": "3988db85-cb71-409e-b4dc-75181377cdf3",
   "metadata": {},
   "outputs": [],
   "source": [
    "search_me = latest_scores"
   ]
  },
  {
   "cell_type": "code",
   "execution_count": 350,
   "id": "dda6cb6c-958f-44a8-a0be-eb7eaf4ac02f",
   "metadata": {},
   "outputs": [
    {
     "name": "stdout",
     "output_type": "stream",
     "text": [
      "Restaurant Name        Flea Market # L (Snow Cones)\n",
      "Zip Code                                    78754.0\n",
      "Inspection Date                 2019-09-07 00:00:00\n",
      "Score                                            93\n",
      "Address                           9500 E US 290 HWY\n",
      "Facility ID                                 2802136\n",
      "Process Description              Routine Inspection\n",
      "latitude                                  30.330694\n",
      "longitude                                -97.630914\n",
      "Address Line 2                     AUSTIN, TX 78754\n",
      "Name: 196, dtype: object\n"
     ]
    },
    {
     "data": {
      "text/plain": [
       "{'businesses': [{'id': 'TMh9t4DSyWyNouN7SNVpPg',\n",
       "   'alias': 'austin-country-flea-market-austin',\n",
       "   'name': 'Austin Country Flea Market',\n",
       "   'coordinates': {'latitude': 30.3326680562269,\n",
       "    'longitude': -97.6308107674725},\n",
       "   'location': {'address1': '9500 Hwy 290 E',\n",
       "    'address2': '',\n",
       "    'address3': '',\n",
       "    'city': 'Austin',\n",
       "    'zip_code': '78724',\n",
       "    'country': 'US',\n",
       "    'state': 'TX',\n",
       "    'display_address': ['9500 Hwy 290 E', 'Austin, TX 78724']},\n",
       "   'phone': '+15129284711',\n",
       "   'display_phone': '(512) 928-4711'}]}"
      ]
     },
     "execution_count": 350,
     "metadata": {},
     "output_type": "execute_result"
    }
   ],
   "source": [
    "# try one\n",
    "test = search_me.loc[196]\n",
    "print(test)\n",
    "response = yelp_api.business_match_query(name=test['Restaurant Name'],\n",
    "                                             address1=test['Address'],\n",
    "                                             city='Austin',\n",
    "                                             state='TX',\n",
    "                                             country='US')\n",
    "response"
   ]
  },
  {
   "cell_type": "code",
   "execution_count": 357,
   "id": "4e6087bf-1fd0-46df-ac26-237efe739caa",
   "metadata": {},
   "outputs": [
    {
     "data": {
      "text/plain": [
       "6680"
      ]
     },
     "execution_count": 357,
     "metadata": {},
     "output_type": "execute_result"
    }
   ],
   "source": [
    "len(search_me)"
   ]
  },
  {
   "cell_type": "code",
   "execution_count": 358,
   "id": "a85d5057-65da-4cdd-aa62-584e72418b3f",
   "metadata": {
    "tags": []
   },
   "outputs": [],
   "source": [
    "# for loop through entire thing\n",
    "# only 5000 queries/day\n",
    "all_responses = {}\n",
    "for i in range(5000,len(search_me),1):\n",
    "    time.sleep(0.05)\n",
    "    test = search_me.loc[i]\n",
    "    response = yelp_api.business_match_query(name=test['Restaurant Name'],\n",
    "                                             address1=test['Address'],\n",
    "                                             city='Austin',\n",
    "                                             state='TX',\n",
    "                                             country='US')\n",
    "    # save the full response, no cleaning\n",
    "    all_responses[test['Facility ID']] = response"
   ]
  },
  {
   "cell_type": "code",
   "execution_count": 359,
   "id": "e94952a7-41e0-4f1e-8267-3e1f0d3e7494",
   "metadata": {},
   "outputs": [
    {
     "data": {
      "text/plain": [
       "1163"
      ]
     },
     "execution_count": 359,
     "metadata": {},
     "output_type": "execute_result"
    }
   ],
   "source": [
    "# how many non-empty entries exist\n",
    "sum([i['businesses'] != [] for i in all_responses.values()])"
   ]
  },
  {
   "cell_type": "code",
   "execution_count": 360,
   "id": "e4a5c8da-44d4-47ba-8f5a-fbcfda83adc0",
   "metadata": {},
   "outputs": [],
   "source": [
    "# # append new responses to saved dictionary\n",
    "# pkl_file = open(yelp_api_responses_file, 'rb')\n",
    "# out = pkl.load(pkl_file)\n",
    "# out.update(all_responses)\n",
    "# pkl_file.close()\n",
    "\n",
    "# output = open(yelp_api_responses_file, 'wb')\n",
    "# pkl.dump(out, output)\n",
    "# output.close()"
   ]
  },
  {
   "cell_type": "code",
   "execution_count": 361,
   "id": "a411220a-3af6-4c33-bc1a-218b6e74fb85",
   "metadata": {},
   "outputs": [
    {
     "data": {
      "text/plain": [
       "6680"
      ]
     },
     "execution_count": 361,
     "metadata": {},
     "output_type": "execute_result"
    }
   ],
   "source": [
    "len(out)"
   ]
  },
  {
   "cell_type": "code",
   "execution_count": 362,
   "id": "c7d253e4-08f5-442e-a746-761a7af90159",
   "metadata": {},
   "outputs": [
    {
     "data": {
      "text/plain": [
       "4632"
      ]
     },
     "execution_count": 362,
     "metadata": {},
     "output_type": "execute_result"
    }
   ],
   "source": [
    "# how many non-empty entries exist\n",
    "sum([i['businesses'] != [] for i in out.values()])"
   ]
  },
  {
   "cell_type": "code",
   "execution_count": 363,
   "id": "a7029dc2-c1b7-4fdd-8d91-36b29fd11f39",
   "metadata": {},
   "outputs": [
    {
     "data": {
      "text/plain": [
       "0"
      ]
     },
     "execution_count": 363,
     "metadata": {},
     "output_type": "execute_result"
    }
   ],
   "source": [
    "# number left to query\n",
    "len(search_me)-len(out)"
   ]
  },
  {
   "cell_type": "markdown",
   "id": "c3b799d1-ba2e-4546-a018-30b581c0c911",
   "metadata": {},
   "source": [
    "## combine Yelp restaurant data with health inspection data"
   ]
  },
  {
   "cell_type": "code",
   "execution_count": 8,
   "id": "7791cc7e-982c-490e-9e54-b49198b6c5c8",
   "metadata": {},
   "outputs": [],
   "source": [
    "# import yelp api responses (dict of json) and convert to dataframe\n",
    "yelp_api_responses_file = processed_data_directory + 'yelp_api_responses.pkl'\n",
    "pkl_file = open(yelp_api_responses_file, 'rb')\n",
    "out = pkl.load(pkl_file)\n",
    "pkl_file.close()\n",
    "\n",
    "id_df = pd.DataFrame({\n",
    "    'Facility ID': out.keys(),\n",
    "    'Yelp ID': out.values()\n",
    "})\n",
    "id_df['Yelp ID'] = id_df['Yelp ID'].apply(lambda x: x['businesses'])"
   ]
  },
  {
   "cell_type": "code",
   "execution_count": 246,
   "id": "7edec6c6-0458-4cb0-a4de-6bec786f8967",
   "metadata": {},
   "outputs": [
    {
     "data": {
      "text/plain": [
       "1    4630\n",
       "0    2048\n",
       "2       2\n",
       "Name: Yelp ID, dtype: int64"
      ]
     },
     "execution_count": 246,
     "metadata": {},
     "output_type": "execute_result"
    }
   ],
   "source": [
    "id_df['Yelp ID'].str.len().value_counts()"
   ]
  },
  {
   "cell_type": "code",
   "execution_count": 235,
   "id": "a9c85381-3137-40a9-b2ce-96a6966019c7",
   "metadata": {},
   "outputs": [],
   "source": [
    "\n",
    "# clean it up\n",
    "id_df = id_df[id_df['Yelp ID'].str.len() != 0] # remove businesses not on yelp\n",
    "# note: there's only two business searches with >1 result, and the first result is the correct one for both (checked manually)\n",
    "id_df['Yelp ID'] = id_df['Yelp ID'].apply(lambda x: x[0]['id']) # take first result of the rest"
   ]
  },
  {
   "cell_type": "code",
   "execution_count": 36,
   "id": "556c8944-cdc9-49bc-94d9-6d86162ac83b",
   "metadata": {},
   "outputs": [],
   "source": [
    "id_df.to_csv(processed_data_directory + 'business_id_df.csv', index=False)"
   ]
  },
  {
   "cell_type": "code",
   "execution_count": 239,
   "id": "6157502c-4f77-4260-ad09-0c53d35321e0",
   "metadata": {},
   "outputs": [
    {
     "data": {
      "text/plain": [
       "zohVnwZ3NeRLcUQiYb-EDg    25\n",
       "kaB2yCo4nV5vfsOwoHus7A    20\n",
       "ObL06JtR47jUwgj07rEBGQ    13\n",
       "TMh9t4DSyWyNouN7SNVpPg    11\n",
       "R1rL_RD4xyVwcWRIA8YB2w    10\n",
       "                          ..\n",
       "ZJFIDLUiZ2Vs0NTj0pGVfg     1\n",
       "vO_n4PqXXs6SqgKFv1C53A     1\n",
       "0CA07QXBNQbpL5g5FWPAMQ     1\n",
       "C42T3RhTB44bx0wqA9zPdg     1\n",
       "TSKMu1M0HAFoPvCZuJxx1w     1\n",
       "Name: Yelp ID, Length: 4213, dtype: int64"
      ]
     },
     "execution_count": 239,
     "metadata": {},
     "output_type": "execute_result"
    }
   ],
   "source": [
    "id_df['Yelp ID'].value_counts()"
   ]
  },
  {
   "cell_type": "markdown",
   "id": "b75d2869-badd-4923-8a72-400bc25ef1ab",
   "metadata": {
    "jp-MarkdownHeadingCollapsed": true,
    "tags": []
   },
   "source": [
    "### manually check entries with > 1 result"
   ]
  },
  {
   "cell_type": "markdown",
   "id": "5660a849-992e-479a-9361-f6260ee0fba0",
   "metadata": {},
   "source": [
    "Turns out all entries with >1 result should use the first result. Kudos to Yelp's search."
   ]
  },
  {
   "cell_type": "code",
   "execution_count": 367,
   "id": "d4734137-4a1e-4558-bf22-04cde4c74081",
   "metadata": {},
   "outputs": [],
   "source": [
    "ambiguous_entries = id_df[id_df['Yelp ID'].apply(lambda x: len(x)==2)]['Facility ID'].index.tolist()"
   ]
  },
  {
   "cell_type": "code",
   "execution_count": 368,
   "id": "4086d267-1220-4eaa-8d08-dd7382e5bb0f",
   "metadata": {},
   "outputs": [
    {
     "data": {
      "text/plain": [
       "[{'id': 'YJ3lsGCgOJ07FYqUQyqxNg',\n",
       "  'alias': 'tiny-pies-austin-8',\n",
       "  'name': 'Tiny Pies',\n",
       "  'coordinates': {'latitude': 30.255177953580507,\n",
       "   'longitude': -97.76223801361445},\n",
       "  'location': {'address1': '1100 S Lamar Blvd',\n",
       "   'address2': 'Ste 1116',\n",
       "   'address3': '',\n",
       "   'city': 'Austin',\n",
       "   'zip_code': '78704',\n",
       "   'country': 'US',\n",
       "   'state': 'TX',\n",
       "   'display_address': ['1100 S Lamar Blvd', 'Ste 1116', 'Austin, TX 78704']},\n",
       "  'phone': '+15124609697',\n",
       "  'display_phone': '(512) 460-9697'},\n",
       " {'id': 'wEynpW1i7ExOvKSVzYvcbQ',\n",
       "  'alias': 'tiny-pies-austin-9',\n",
       "  'name': 'Tiny Pies',\n",
       "  'coordinates': {'latitude': 30.25576, 'longitude': -97.76252},\n",
       "  'location': {'address1': '1100 S Lamar Blvd',\n",
       "   'address2': None,\n",
       "   'address3': '',\n",
       "   'city': 'Austin',\n",
       "   'zip_code': '78704',\n",
       "   'country': 'US',\n",
       "   'state': 'TX',\n",
       "   'display_address': ['1100 S Lamar Blvd', 'Austin, TX 78704']},\n",
       "  'phone': '+15124609697',\n",
       "  'display_phone': '(512) 460-9697'}]"
      ]
     },
     "execution_count": 368,
     "metadata": {},
     "output_type": "execute_result"
    }
   ],
   "source": [
    "# this restaurant has two entries, choose the first one with more reviews\n",
    "id_df.loc[ambiguous_entries[0]]['Yelp ID']"
   ]
  },
  {
   "cell_type": "code",
   "execution_count": 369,
   "id": "7e902666-de0d-47db-97de-a389053a50e4",
   "metadata": {},
   "outputs": [
    {
     "data": {
      "text/html": [
       "<div>\n",
       "<style scoped>\n",
       "    .dataframe tbody tr th:only-of-type {\n",
       "        vertical-align: middle;\n",
       "    }\n",
       "\n",
       "    .dataframe tbody tr th {\n",
       "        vertical-align: top;\n",
       "    }\n",
       "\n",
       "    .dataframe thead th {\n",
       "        text-align: right;\n",
       "    }\n",
       "</style>\n",
       "<table border=\"1\" class=\"dataframe\">\n",
       "  <thead>\n",
       "    <tr style=\"text-align: right;\">\n",
       "      <th></th>\n",
       "      <th>Restaurant Name</th>\n",
       "      <th>Zip Code</th>\n",
       "      <th>Inspection Date</th>\n",
       "      <th>Score</th>\n",
       "      <th>Address</th>\n",
       "      <th>Facility ID</th>\n",
       "      <th>Process Description</th>\n",
       "      <th>latitude</th>\n",
       "      <th>longitude</th>\n",
       "      <th>Address Line 2</th>\n",
       "    </tr>\n",
       "  </thead>\n",
       "  <tbody>\n",
       "    <tr>\n",
       "      <th>0</th>\n",
       "      <td>Blenders and Bowls</td>\n",
       "      <td>78758.0</td>\n",
       "      <td>2019-04-29</td>\n",
       "      <td>84</td>\n",
       "      <td>11010 DOMAIN DR</td>\n",
       "      <td>12074384</td>\n",
       "      <td>Routine Inspection</td>\n",
       "      <td>30.396729</td>\n",
       "      <td>-97.726474</td>\n",
       "      <td>AUSTIN, TX 78758</td>\n",
       "    </tr>\n",
       "    <tr>\n",
       "      <th>1</th>\n",
       "      <td>Spansion Cafeteria</td>\n",
       "      <td>78741.0</td>\n",
       "      <td>2019-05-01</td>\n",
       "      <td>100</td>\n",
       "      <td>5204 E BEN WHITE BLVD</td>\n",
       "      <td>10398805</td>\n",
       "      <td>Routine Inspection</td>\n",
       "      <td>30.214204</td>\n",
       "      <td>-97.724823</td>\n",
       "      <td>AUSTIN, TX 78741</td>\n",
       "    </tr>\n",
       "    <tr>\n",
       "      <th>2</th>\n",
       "      <td>Planet</td>\n",
       "      <td>78702.0</td>\n",
       "      <td>2019-05-02</td>\n",
       "      <td>97</td>\n",
       "      <td>2921 E 17TH ST</td>\n",
       "      <td>12162918</td>\n",
       "      <td>Routine Inspection</td>\n",
       "      <td>30.279350</td>\n",
       "      <td>-97.710333</td>\n",
       "      <td>AUSTIN, TX 78702</td>\n",
       "    </tr>\n",
       "    <tr>\n",
       "      <th>3</th>\n",
       "      <td>OOB - LW - Holiday Inn Express</td>\n",
       "      <td>78734.0</td>\n",
       "      <td>2019-05-03</td>\n",
       "      <td>99</td>\n",
       "      <td>15707 OAK GROVE BLVD</td>\n",
       "      <td>10867994</td>\n",
       "      <td>Routine Inspection</td>\n",
       "      <td>30.381157</td>\n",
       "      <td>-97.946063</td>\n",
       "      <td>LAKEWAY, TX 78734</td>\n",
       "    </tr>\n",
       "    <tr>\n",
       "      <th>4</th>\n",
       "      <td>LW-Acai Hut</td>\n",
       "      <td>78734.0</td>\n",
       "      <td>2019-05-03</td>\n",
       "      <td>99</td>\n",
       "      <td>2125 LOHMANS CROSSING RD</td>\n",
       "      <td>12149504</td>\n",
       "      <td>Routine Inspection</td>\n",
       "      <td>30.342143</td>\n",
       "      <td>-97.970843</td>\n",
       "      <td>LAKEWAY, TX 78734</td>\n",
       "    </tr>\n",
       "    <tr>\n",
       "      <th>...</th>\n",
       "      <td>...</td>\n",
       "      <td>...</td>\n",
       "      <td>...</td>\n",
       "      <td>...</td>\n",
       "      <td>...</td>\n",
       "      <td>...</td>\n",
       "      <td>...</td>\n",
       "      <td>...</td>\n",
       "      <td>...</td>\n",
       "      <td>...</td>\n",
       "    </tr>\n",
       "    <tr>\n",
       "      <th>6675</th>\n",
       "      <td>WL - MOD Super Fast Pizza, LLC</td>\n",
       "      <td>78746.0</td>\n",
       "      <td>2022-04-05</td>\n",
       "      <td>89</td>\n",
       "      <td>701 S CAPITAL OF TEXAS HWY</td>\n",
       "      <td>11313184</td>\n",
       "      <td>Routine Inspection</td>\n",
       "      <td>30.292189</td>\n",
       "      <td>-97.828184</td>\n",
       "      <td>WEST LAKE HILLS, TX 78746</td>\n",
       "    </tr>\n",
       "    <tr>\n",
       "      <th>6676</th>\n",
       "      <td>Comedor</td>\n",
       "      <td>78701.0</td>\n",
       "      <td>2022-04-05</td>\n",
       "      <td>87</td>\n",
       "      <td>501 COLORADO ST</td>\n",
       "      <td>12117759</td>\n",
       "      <td>Routine Inspection</td>\n",
       "      <td>30.267884</td>\n",
       "      <td>-97.744331</td>\n",
       "      <td>AUSTIN, TX 78701</td>\n",
       "    </tr>\n",
       "    <tr>\n",
       "      <th>6677</th>\n",
       "      <td>Tokyo Garden Catering</td>\n",
       "      <td>78731.0</td>\n",
       "      <td>2022-04-05</td>\n",
       "      <td>93</td>\n",
       "      <td>7025 VILLAGE CENTER DR</td>\n",
       "      <td>2802634</td>\n",
       "      <td>Routine Inspection</td>\n",
       "      <td>30.352585</td>\n",
       "      <td>-97.756179</td>\n",
       "      <td>AUSTIN, TX 78731</td>\n",
       "    </tr>\n",
       "    <tr>\n",
       "      <th>6678</th>\n",
       "      <td>Commodore Perry Estate, The</td>\n",
       "      <td>78751.0</td>\n",
       "      <td>2022-04-05</td>\n",
       "      <td>91</td>\n",
       "      <td>4114 RED RIVER ST</td>\n",
       "      <td>12392635</td>\n",
       "      <td>Routine Inspection</td>\n",
       "      <td>30.300755</td>\n",
       "      <td>-97.721903</td>\n",
       "      <td>AUSTIN, TX 78751</td>\n",
       "    </tr>\n",
       "    <tr>\n",
       "      <th>6679</th>\n",
       "      <td>Jim's Coffee Shop #29</td>\n",
       "      <td>78736.0</td>\n",
       "      <td>2022-04-05</td>\n",
       "      <td>84</td>\n",
       "      <td>7101 W SH</td>\n",
       "      <td>2800710</td>\n",
       "      <td>Routine Inspection</td>\n",
       "      <td>NaN</td>\n",
       "      <td>NaN</td>\n",
       "      <td>AUSTIN, TX 78736</td>\n",
       "    </tr>\n",
       "  </tbody>\n",
       "</table>\n",
       "<p>6680 rows × 10 columns</p>\n",
       "</div>"
      ],
      "text/plain": [
       "                     Restaurant Name  Zip Code Inspection Date  Score  \\\n",
       "0                 Blenders and Bowls   78758.0      2019-04-29     84   \n",
       "1                 Spansion Cafeteria   78741.0      2019-05-01    100   \n",
       "2                             Planet   78702.0      2019-05-02     97   \n",
       "3     OOB - LW - Holiday Inn Express   78734.0      2019-05-03     99   \n",
       "4                        LW-Acai Hut   78734.0      2019-05-03     99   \n",
       "...                              ...       ...             ...    ...   \n",
       "6675  WL - MOD Super Fast Pizza, LLC   78746.0      2022-04-05     89   \n",
       "6676                         Comedor   78701.0      2022-04-05     87   \n",
       "6677           Tokyo Garden Catering   78731.0      2022-04-05     93   \n",
       "6678     Commodore Perry Estate, The   78751.0      2022-04-05     91   \n",
       "6679           Jim's Coffee Shop #29   78736.0      2022-04-05     84   \n",
       "\n",
       "                         Address  Facility ID Process Description   latitude  \\\n",
       "0                11010 DOMAIN DR     12074384  Routine Inspection  30.396729   \n",
       "1          5204 E BEN WHITE BLVD     10398805  Routine Inspection  30.214204   \n",
       "2                 2921 E 17TH ST     12162918  Routine Inspection  30.279350   \n",
       "3           15707 OAK GROVE BLVD     10867994  Routine Inspection  30.381157   \n",
       "4       2125 LOHMANS CROSSING RD     12149504  Routine Inspection  30.342143   \n",
       "...                          ...          ...                 ...        ...   \n",
       "6675  701 S CAPITAL OF TEXAS HWY     11313184  Routine Inspection  30.292189   \n",
       "6676             501 COLORADO ST     12117759  Routine Inspection  30.267884   \n",
       "6677      7025 VILLAGE CENTER DR      2802634  Routine Inspection  30.352585   \n",
       "6678           4114 RED RIVER ST     12392635  Routine Inspection  30.300755   \n",
       "6679                   7101 W SH      2800710  Routine Inspection        NaN   \n",
       "\n",
       "      longitude             Address Line 2  \n",
       "0    -97.726474           AUSTIN, TX 78758  \n",
       "1    -97.724823           AUSTIN, TX 78741  \n",
       "2    -97.710333           AUSTIN, TX 78702  \n",
       "3    -97.946063          LAKEWAY, TX 78734  \n",
       "4    -97.970843          LAKEWAY, TX 78734  \n",
       "...         ...                        ...  \n",
       "6675 -97.828184  WEST LAKE HILLS, TX 78746  \n",
       "6676 -97.744331           AUSTIN, TX 78701  \n",
       "6677 -97.756179           AUSTIN, TX 78731  \n",
       "6678 -97.721903           AUSTIN, TX 78751  \n",
       "6679        NaN           AUSTIN, TX 78736  \n",
       "\n",
       "[6680 rows x 10 columns]"
      ]
     },
     "execution_count": 369,
     "metadata": {},
     "output_type": "execute_result"
    }
   ],
   "source": [
    "search_me"
   ]
  },
  {
   "cell_type": "code",
   "execution_count": 370,
   "id": "73ed3f13-63e8-4660-be56-6ce89c7fb38b",
   "metadata": {},
   "outputs": [
    {
     "data": {
      "text/html": [
       "<div>\n",
       "<style scoped>\n",
       "    .dataframe tbody tr th:only-of-type {\n",
       "        vertical-align: middle;\n",
       "    }\n",
       "\n",
       "    .dataframe tbody tr th {\n",
       "        vertical-align: top;\n",
       "    }\n",
       "\n",
       "    .dataframe thead th {\n",
       "        text-align: right;\n",
       "    }\n",
       "</style>\n",
       "<table border=\"1\" class=\"dataframe\">\n",
       "  <thead>\n",
       "    <tr style=\"text-align: right;\">\n",
       "      <th></th>\n",
       "      <th>Restaurant Name</th>\n",
       "      <th>Zip Code</th>\n",
       "      <th>Inspection Date</th>\n",
       "      <th>Score</th>\n",
       "      <th>Address</th>\n",
       "      <th>Facility ID</th>\n",
       "      <th>Process Description</th>\n",
       "      <th>latitude</th>\n",
       "      <th>longitude</th>\n",
       "      <th>Address Line 2</th>\n",
       "    </tr>\n",
       "  </thead>\n",
       "  <tbody>\n",
       "    <tr>\n",
       "      <th>3487</th>\n",
       "      <td>Teapioca Arboretum</td>\n",
       "      <td>78759.0</td>\n",
       "      <td>2021-12-01</td>\n",
       "      <td>90</td>\n",
       "      <td>10000 RESEARCH BLVD</td>\n",
       "      <td>11793105</td>\n",
       "      <td>Routine Inspection</td>\n",
       "      <td>30.392352</td>\n",
       "      <td>-97.746845</td>\n",
       "      <td>AUSTIN, TX 78759</td>\n",
       "    </tr>\n",
       "  </tbody>\n",
       "</table>\n",
       "</div>"
      ],
      "text/plain": [
       "         Restaurant Name  Zip Code Inspection Date  Score  \\\n",
       "3487  Teapioca Arboretum   78759.0      2021-12-01     90   \n",
       "\n",
       "                  Address  Facility ID Process Description   latitude  \\\n",
       "3487  10000 RESEARCH BLVD     11793105  Routine Inspection  30.392352   \n",
       "\n",
       "      longitude    Address Line 2  \n",
       "3487 -97.746845  AUSTIN, TX 78759  "
      ]
     },
     "execution_count": 370,
     "metadata": {},
     "output_type": "execute_result"
    }
   ],
   "source": [
    "search_me[search_me['Facility ID'] == id_df.loc[ambiguous_entries[1]]['Facility ID']]"
   ]
  },
  {
   "cell_type": "code",
   "execution_count": 371,
   "id": "b7a98035-7585-4fe2-9409-5628b1c782fa",
   "metadata": {},
   "outputs": [
    {
     "data": {
      "text/plain": [
       "[{'id': 'hrDUqL02tA-6lnnopguEyg',\n",
       "  'alias': 'teapioca-lounge-austin-5',\n",
       "  'name': 'Teapioca Lounge',\n",
       "  'coordinates': {'latitude': 30.391071, 'longitude': -97.7487887},\n",
       "  'location': {'address1': '10000 Research Blvd',\n",
       "   'address2': 'Ste 137',\n",
       "   'address3': '',\n",
       "   'city': 'Austin',\n",
       "   'zip_code': '78759',\n",
       "   'country': 'US',\n",
       "   'state': 'TX',\n",
       "   'display_address': ['10000 Research Blvd', 'Ste 137', 'Austin, TX 78759']},\n",
       "  'phone': '+15128383656',\n",
       "  'display_phone': '(512) 838-3656'},\n",
       " {'id': 'CRsIi2lNdBytSE9JEqzRFg',\n",
       "  'alias': 'the-arboretum-austin-2',\n",
       "  'name': 'The Arboretum',\n",
       "  'coordinates': {'latitude': 30.392271, 'longitude': -97.748204},\n",
       "  'location': {'address1': '10000 Research Blvd',\n",
       "   'address2': None,\n",
       "   'address3': '',\n",
       "   'city': 'Austin',\n",
       "   'zip_code': '78759',\n",
       "   'country': 'US',\n",
       "   'state': 'TX',\n",
       "   'display_address': ['10000 Research Blvd', 'Austin, TX 78759']},\n",
       "  'phone': '+15123384755',\n",
       "  'display_phone': '(512) 338-4755'}]"
      ]
     },
     "execution_count": 371,
     "metadata": {},
     "output_type": "execute_result"
    }
   ],
   "source": [
    "# this one has a weird name in the inspection database, but it's clearly the first entry\n",
    "id_df.loc[ambiguous_entries[1]]['Yelp ID']"
   ]
  },
  {
   "cell_type": "markdown",
   "id": "ff6d501c-c617-441b-bacf-b45014475829",
   "metadata": {},
   "source": [
    "### combine"
   ]
  },
  {
   "cell_type": "markdown",
   "id": "ffed93bc-cba4-46a3-a691-75989d56d6ad",
   "metadata": {},
   "source": [
    "We need to combine:\n",
    "1. austin_rest: yelp data\n",
    "2. id_df: yelp and inspection business IDs\n",
    "3. austin_inspections: health inspection data\n",
    "\n",
    "Austin_inspections has a lot of different inspections for each restaurant. Let's keep all of it, since we can use the latest score based on the date of the review."
   ]
  },
  {
   "cell_type": "code",
   "execution_count": 444,
   "id": "03c0178d-c355-468b-ace5-43ab2f08bbf7",
   "metadata": {},
   "outputs": [],
   "source": [
    "austin_rest = pd.read_csv(processed_data_directory + 'austin_restaurants.csv')\n",
    "austin_inspections = pd.read_csv(processed_data_directory + 'austin_inspections.csv')\n",
    "id_df = pd.read_csv(processed_data_directory + 'business_id_df.csv')"
   ]
  },
  {
   "cell_type": "code",
   "execution_count": 445,
   "id": "f40485f3-e900-4254-a28f-37be5e489362",
   "metadata": {},
   "outputs": [],
   "source": [
    "# tack on inspection business IDs ('Facility ID') to yelp data\n",
    "business_df = austin_rest.merge(right=id_df, how='inner', left_on='business_id', right_on='Yelp ID')\n",
    "business_df = business_df.drop('Yelp ID',axis=1) # merge duplicates the column, so drop one of them\n",
    "\n",
    "# merge with inspection data\n",
    "business_df = business_df.merge(right=austin_inspections, how='inner', on='Facility ID')\n",
    "\n",
    "# set column type for comparison\n",
    "business_df['Address'] = business_df['Address'].astype('str')\n",
    "business_df['address'] = business_df['address'].astype('str')"
   ]
  },
  {
   "cell_type": "markdown",
   "id": "405d5c1d-6ef4-436b-a160-48dfc6093d46",
   "metadata": {},
   "source": [
    "### check yelp API queries"
   ]
  },
  {
   "cell_type": "code",
   "execution_count": 446,
   "id": "3b8c0f85-11c1-4ab3-95b7-ba0f9432510a",
   "metadata": {},
   "outputs": [
    {
     "data": {
      "text/html": [
       "<div>\n",
       "<style scoped>\n",
       "    .dataframe tbody tr th:only-of-type {\n",
       "        vertical-align: middle;\n",
       "    }\n",
       "\n",
       "    .dataframe tbody tr th {\n",
       "        vertical-align: top;\n",
       "    }\n",
       "\n",
       "    .dataframe thead th {\n",
       "        text-align: right;\n",
       "    }\n",
       "</style>\n",
       "<table border=\"1\" class=\"dataframe\">\n",
       "  <thead>\n",
       "    <tr style=\"text-align: right;\">\n",
       "      <th></th>\n",
       "      <th>name</th>\n",
       "      <th>Restaurant Name</th>\n",
       "      <th>address</th>\n",
       "      <th>Address</th>\n",
       "    </tr>\n",
       "  </thead>\n",
       "  <tbody>\n",
       "    <tr>\n",
       "      <th>602</th>\n",
       "      <td>Fiesta Mart</td>\n",
       "      <td>Fiesta Mart #25 (Grocery/Meat)</td>\n",
       "      <td>3909 N I-35 Srvc Rd</td>\n",
       "      <td>3909 N IH</td>\n",
       "    </tr>\n",
       "    <tr>\n",
       "      <th>606</th>\n",
       "      <td>Fiesta Mart</td>\n",
       "      <td>Fiesta Mart #25 (Seafood/Deli)</td>\n",
       "      <td>3909 N I-35 Srvc Rd</td>\n",
       "      <td>3909 N IH</td>\n",
       "    </tr>\n",
       "    <tr>\n",
       "      <th>613</th>\n",
       "      <td>Fiesta Mart</td>\n",
       "      <td>Fiesta Mart #25 (Bakery/Taqueria)</td>\n",
       "      <td>3909 N I-35 Srvc Rd</td>\n",
       "      <td>3909 N IH</td>\n",
       "    </tr>\n",
       "    <tr>\n",
       "      <th>4768</th>\n",
       "      <td>Vino Volo</td>\n",
       "      <td>ABIA - Vino Volo High Plains</td>\n",
       "      <td>Austin Airport</td>\n",
       "      <td>3600 PRESIDENTIAL BLVD</td>\n",
       "    </tr>\n",
       "    <tr>\n",
       "      <th>5182</th>\n",
       "      <td>East Side Pies</td>\n",
       "      <td>ABIA-East Side Pies (West Food Park)</td>\n",
       "      <td>3600 Presidential Blvd, West Food Court, Austi...</td>\n",
       "      <td>3600 PRESIDENTIAL BLVD</td>\n",
       "    </tr>\n",
       "    <tr>\n",
       "      <th>5205</th>\n",
       "      <td>The Pickle House</td>\n",
       "      <td>OOB Pickle House Restaurant, The</td>\n",
       "      <td>9521 US-290, Ste 100</td>\n",
       "      <td>9521 W US 290 HWY</td>\n",
       "    </tr>\n",
       "    <tr>\n",
       "      <th>5328</th>\n",
       "      <td>Alpine Engine</td>\n",
       "      <td>Four Seasons Hotel Austin</td>\n",
       "      <td>nan</td>\n",
       "      <td>98 SAN JACINTO BLVD</td>\n",
       "    </tr>\n",
       "    <tr>\n",
       "      <th>6030</th>\n",
       "      <td>Poke Austin</td>\n",
       "      <td>Poke-Poke</td>\n",
       "      <td>5601 Brodie Ln, Ste 1200A</td>\n",
       "      <td>9911 BRODIE LN</td>\n",
       "    </tr>\n",
       "    <tr>\n",
       "      <th>6238</th>\n",
       "      <td>Haymaker</td>\n",
       "      <td>ABIA - Haymaker Sports Bar</td>\n",
       "      <td>3600 Presidential Blvd, Gate 24, Austin-Bergst...</td>\n",
       "      <td>3600 PRESIDENTIAL BLVD</td>\n",
       "    </tr>\n",
       "  </tbody>\n",
       "</table>\n",
       "</div>"
      ],
      "text/plain": [
       "                  name                       Restaurant Name  \\\n",
       "602        Fiesta Mart        Fiesta Mart #25 (Grocery/Meat)   \n",
       "606        Fiesta Mart        Fiesta Mart #25 (Seafood/Deli)   \n",
       "613        Fiesta Mart     Fiesta Mart #25 (Bakery/Taqueria)   \n",
       "4768         Vino Volo          ABIA - Vino Volo High Plains   \n",
       "5182    East Side Pies  ABIA-East Side Pies (West Food Park)   \n",
       "5205  The Pickle House      OOB Pickle House Restaurant, The   \n",
       "5328     Alpine Engine             Four Seasons Hotel Austin   \n",
       "6030       Poke Austin                             Poke-Poke   \n",
       "6238          Haymaker            ABIA - Haymaker Sports Bar   \n",
       "\n",
       "                                                address  \\\n",
       "602                                 3909 N I-35 Srvc Rd   \n",
       "606                                 3909 N I-35 Srvc Rd   \n",
       "613                                 3909 N I-35 Srvc Rd   \n",
       "4768                                     Austin Airport   \n",
       "5182  3600 Presidential Blvd, West Food Court, Austi...   \n",
       "5205                               9521 US-290, Ste 100   \n",
       "5328                                                nan   \n",
       "6030                          5601 Brodie Ln, Ste 1200A   \n",
       "6238  3600 Presidential Blvd, Gate 24, Austin-Bergst...   \n",
       "\n",
       "                     Address  \n",
       "602                3909 N IH  \n",
       "606                3909 N IH  \n",
       "613                3909 N IH  \n",
       "4768  3600 PRESIDENTIAL BLVD  \n",
       "5182  3600 PRESIDENTIAL BLVD  \n",
       "5205       9521 W US 290 HWY  \n",
       "5328     98 SAN JACINTO BLVD  \n",
       "6030          9911 BRODIE LN  \n",
       "6238  3600 PRESIDENTIAL BLVD  "
      ]
     },
     "execution_count": 446,
     "metadata": {},
     "output_type": "execute_result"
    }
   ],
   "source": [
    "# check how well we did by comparing the similarity of restaurant name and address\n",
    "from difflib import SequenceMatcher\n",
    "def similar(a, b): return SequenceMatcher(None, a, b).ratio()\n",
    "\n",
    "similarity_threshold = 0.6 # sort of arbitrary\n",
    "dissimilar_businesses = business_df[business_df.apply(lambda x: similar(x['address'].lower(), x['Address'].lower())<similarity_threshold, axis=1)]\n",
    "dissimilar_businesses = dissimilar_businesses[dissimilar_businesses.apply(lambda x: similar(x['name'].lower(), x['Restaurant Name'].lower())<similarity_threshold, axis=1)]\n",
    "cols = ['name','Restaurant Name','address','Address']\n",
    "dissimilar_businesses[cols].groupby(cols).tail(1)"
   ]
  },
  {
   "cell_type": "code",
   "execution_count": 447,
   "id": "c800dae9-e18f-4bfa-b1fd-1cfa11ef8c5f",
   "metadata": {},
   "outputs": [],
   "source": [
    "# there's only one that we actually got wrong: \"Alpine Engine\"\n",
    "business_df.drop(business_df.index[business_df['name'].str.contains('Alpine Engine')],axis=0,inplace=True)"
   ]
  },
  {
   "cell_type": "markdown",
   "id": "a8ddaac4-3efa-454b-bd74-bc2b0f2c6ee1",
   "metadata": {},
   "source": [
    "### deal with duplicate Facility IDs"
   ]
  },
  {
   "cell_type": "markdown",
   "id": "672e5101-2502-4572-b5ff-f0ba40f37752",
   "metadata": {},
   "source": [
    "Some businesses have multiple Facility IDs in the inspection data that correspond to the same Yelp business_id. We need to collapse it down so that one facility ID corresponds to one business_id.\n",
    "\n",
    "There are 167 such businesses and 376 facility IDs total. Since this is actually a relatively small number, we can check them manually."
   ]
  },
  {
   "cell_type": "code",
   "execution_count": 448,
   "id": "ada016df-9cf2-4953-b435-d4ab503143ad",
   "metadata": {
    "tags": []
   },
   "outputs": [
    {
     "name": "stdout",
     "output_type": "stream",
     "text": [
      "# duplicates: 167\n"
     ]
    }
   ],
   "source": [
    "# some businesses have multiple inspection Facility IDs for the same Yelp business_id\n",
    "multiple_insp_IDs = business_df.groupby(['business_id'])['Facility ID'].nunique()\n",
    "multiple_insp_IDs = multiple_insp_IDs[multiple_insp_IDs>1].index.tolist()\n",
    "print(f'# duplicates: {len(multiple_insp_IDs)}')\n",
    "\n",
    "# this is a small number so we can check manually.\n",
    "duplicate_facility_IDs = business_df[business_df['business_id'].isin(multiple_insp_IDs)][['business_id','name','address','Restaurant Name','Address','Facility ID','Inspection Date','Score']]\n",
    "# show only latest scores\n",
    "duplicate_facility_IDs = duplicate_facility_IDs.sort_values(['business_id','Facility ID','Inspection Date']).groupby(['business_id','Facility ID']).tail(1).reset_index(drop=True)\n",
    "\n",
    "# look at all multiple inspection data manually\n",
    "# with pd.option_context('display.max_rows', None, 'display.max_columns', None):\n",
    "#     display(duplicate_facility_IDs)"
   ]
  },
  {
   "cell_type": "markdown",
   "id": "4f167ad1-6196-45e4-94e2-8b5b52e78b40",
   "metadata": {},
   "source": [
    "It looks like there are no errors here. All of the restaurant names and addresses seem to match up. There are two reasons for the multiple Facility IDs:\n",
    "1. Intentional multiple entries for a business: Whole Foods bakery vs. Whole Foods deli. These have the same inspection date.\n",
    "2. Unintentional separate Facility ID when a new inspection is done. These have different inspection dates.\n",
    "\n",
    "To fix #1 we average all inspections on the same date for a given business_id. To fix #2, we just consider the business_id to be the unique primary key for each business. Then we can remove the business name and address columns left over from the Inspection dataframe."
   ]
  },
  {
   "cell_type": "code",
   "execution_count": 449,
   "id": "48a8d173-83db-4592-95eb-c36f2017161e",
   "metadata": {},
   "outputs": [],
   "source": [
    "# average scores for a business from the same inspection date\n",
    "averaged_scores = business_df[['business_id','Inspection Date','Score']].groupby(['business_id','Inspection Date'],as_index=False).mean()\n",
    "# cut down to only the useful columns\n",
    "cols = ['business_id','name','address','latitude_x','longitude_x','stars','review_count','is_open','attributes','categories']\n",
    "business_df = business_df[cols].drop_duplicates().merge(averaged_scores,on=['business_id'],how='inner')\n",
    "business_df = business_df.rename({'latitude_x': 'latitude', 'longitude_x': 'longitude'}, axis=1)"
   ]
  },
  {
   "cell_type": "code",
   "execution_count": 460,
   "id": "3247ae88-5a23-4bf0-8c65-45c6054d4b54",
   "metadata": {},
   "outputs": [],
   "source": [
    "# export\n",
    "business_df.to_csv(processed_data_directory + 'business_df.csv', index=False)"
   ]
  },
  {
   "cell_type": "markdown",
   "id": "3cc063f8-e337-432b-ac37-e53489babb3a",
   "metadata": {},
   "source": [
    "### simplify inspection data"
   ]
  },
  {
   "cell_type": "markdown",
   "id": "2aaab9cf-fbca-43ca-8671-75665971ccd6",
   "metadata": {},
   "source": [
    "We can use the inspection score based on the date of the review, but first let's just take the latest inspection score to make things simpler."
   ]
  },
  {
   "cell_type": "code",
   "execution_count": 459,
   "id": "a362b09a-e288-4720-a464-f5615f0ef33c",
   "metadata": {},
   "outputs": [],
   "source": [
    "latest_inspection = business_df.sort_values(['business_id','Inspection Date']).groupby(['business_id']).tail(1).reset_index(drop=True)"
   ]
  },
  {
   "cell_type": "code",
   "execution_count": 461,
   "id": "1be8f5fd-1e81-48f7-9859-b9e4aa0e495c",
   "metadata": {},
   "outputs": [],
   "source": [
    "latest_inspection.to_csv(processed_data_directory + 'business_df_latest_inspection.csv', index=False)"
   ]
  },
  {
   "cell_type": "markdown",
   "id": "a8b927c4-2ef0-4eb7-a23c-0c8924790da2",
   "metadata": {},
   "source": [
    "### overall metrics"
   ]
  },
  {
   "cell_type": "code",
   "execution_count": 465,
   "id": "065a20a1-3f12-41f1-82ee-e6c972e3f527",
   "metadata": {},
   "outputs": [],
   "source": [
    "business_df = pd.read_csv(processed_data_directory + 'business_df_latest_inspection.csv')"
   ]
  },
  {
   "cell_type": "code",
   "execution_count": 466,
   "id": "6e6b42f6-bdb7-466c-874c-68d11b7bbb1e",
   "metadata": {},
   "outputs": [
    {
     "data": {
      "image/png": "[encoded data removed]",
      "text/plain": [
       "<Figure size 432x288 with 1 Axes>"
      ]
     },
     "metadata": {
      "needs_background": "light"
     },
     "output_type": "display_data"
    }
   ],
   "source": [
    "plt.scatter(business_df.stars,business_df.Score)\n",
    "plt.show()"
   ]
  },
  {
   "cell_type": "code",
   "execution_count": 467,
   "id": "033d629e-570c-4521-a8e5-6536dc39a871",
   "metadata": {},
   "outputs": [
    {
     "data": {
      "text/html": [
       "<div>\n",
       "<style scoped>\n",
       "    .dataframe tbody tr th:only-of-type {\n",
       "        vertical-align: middle;\n",
       "    }\n",
       "\n",
       "    .dataframe tbody tr th {\n",
       "        vertical-align: top;\n",
       "    }\n",
       "\n",
       "    .dataframe thead th {\n",
       "        text-align: right;\n",
       "    }\n",
       "</style>\n",
       "<table border=\"1\" class=\"dataframe\">\n",
       "  <thead>\n",
       "    <tr style=\"text-align: right;\">\n",
       "      <th></th>\n",
       "      <th>mean_stars</th>\n",
       "      <th>err_stars</th>\n",
       "      <th>mean_Score</th>\n",
       "      <th>err_Score</th>\n",
       "    </tr>\n",
       "    <tr>\n",
       "      <th>is_open</th>\n",
       "      <th></th>\n",
       "      <th></th>\n",
       "      <th></th>\n",
       "      <th></th>\n",
       "    </tr>\n",
       "  </thead>\n",
       "  <tbody>\n",
       "    <tr>\n",
       "      <th>0</th>\n",
       "      <td>3.554622</td>\n",
       "      <td>0.048061</td>\n",
       "      <td>89.941176</td>\n",
       "      <td>0.518686</td>\n",
       "    </tr>\n",
       "    <tr>\n",
       "      <th>1</th>\n",
       "      <td>3.628527</td>\n",
       "      <td>0.016591</td>\n",
       "      <td>89.202227</td>\n",
       "      <td>0.155549</td>\n",
       "    </tr>\n",
       "  </tbody>\n",
       "</table>\n",
       "</div>"
      ],
      "text/plain": [
       "         mean_stars  err_stars  mean_Score  err_Score\n",
       "is_open                                              \n",
       "0          3.554622   0.048061   89.941176   0.518686\n",
       "1          3.628527   0.016591   89.202227   0.155549"
      ]
     },
     "execution_count": 467,
     "metadata": {},
     "output_type": "execute_result"
    }
   ],
   "source": [
    "business_df.groupby('is_open').agg(\n",
    "    mean_stars=('stars', 'mean'),\n",
    "    err_stars=('stars', 'sem'),\n",
    "    mean_Score=('Score', 'mean'),\n",
    "    err_Score=('Score', 'sem'),\n",
    ")"
   ]
  },
  {
   "cell_type": "code",
   "execution_count": 468,
   "id": "d509672c-2e15-4675-8ede-ae6481089b49",
   "metadata": {},
   "outputs": [
    {
     "data": {
      "text/plain": [
       "<AxesSubplot:title={'center':'Score'}, xlabel='[is_open]'>"
      ]
     },
     "execution_count": 468,
     "metadata": {},
     "output_type": "execute_result"
    },
    {
     "data": {
      "image/png": "[encoded data removed]",
      "text/plain": [
       "<Figure size 432x288 with 1 Axes>"
      ]
     },
     "metadata": {
      "needs_background": "light"
     },
     "output_type": "display_data"
    }
   ],
   "source": [
    "business_df[['Score','is_open']].boxplot(by='is_open')"
   ]
  },
  {
   "cell_type": "code",
   "execution_count": 469,
   "id": "41cca22b-856b-41b9-a121-11b2600d1af5",
   "metadata": {},
   "outputs": [
    {
     "data": {
      "text/plain": [
       "Text(0.5, 0, 'Average Review (out of 5 stars)')"
      ]
     },
     "execution_count": 469,
     "metadata": {},
     "output_type": "execute_result"
    },
    {
     "data": {
      "image/png": "[encoded data removed]",
      "text/plain": [
       "<Figure size 432x288 with 1 Axes>"
      ]
     },
     "metadata": {
      "needs_background": "light"
     },
     "output_type": "display_data"
    }
   ],
   "source": [
    "score_by_stars = business_df.groupby('stars').agg(\n",
    "    mean_Score=('Score', 'mean'),\n",
    "    err_Score=('Score', 'sem'),\n",
    ")\n",
    "plt.errorbar(x=score_by_stars.index,\n",
    "             y=score_by_stars.mean_Score,\n",
    "             yerr=score_by_stars.err_Score,\n",
    "             marker='o')\n",
    "plt.ylabel('Inspection Score (out of 100)')\n",
    "plt.xlabel('Average Review (out of 5 stars)')"
   ]
  },
  {
   "cell_type": "code",
   "execution_count": 470,
   "id": "4b8af702-c732-40b9-a9d8-3ddabe82736c",
   "metadata": {},
   "outputs": [
    {
     "data": {
      "text/plain": [
       "<AxesSubplot:title={'center':'Score'}, xlabel='[stars]'>"
      ]
     },
     "execution_count": 470,
     "metadata": {},
     "output_type": "execute_result"
    },
    {
     "data": {
      "image/png": "[encoded data removed]",
      "text/plain": [
       "<Figure size 432x288 with 1 Axes>"
      ]
     },
     "metadata": {
      "needs_background": "light"
     },
     "output_type": "display_data"
    }
   ],
   "source": [
    "business_df[['stars','Score']].boxplot(by='stars')"
   ]
  },
  {
   "cell_type": "markdown",
   "id": "b2e64036-9dd5-4afd-86a9-f0018a0d9f12",
   "metadata": {
    "jp-MarkdownHeadingCollapsed": true,
    "tags": []
   },
   "source": [
    "# Get review data"
   ]
  },
  {
   "cell_type": "markdown",
   "id": "c05b1fe5-7fe7-43bd-a351-1be005ed8275",
   "metadata": {},
   "source": [
    "There are a lot of reviews within the Yelp academic dataset, so first we should trim it to only reviews on Austin restaurants with inspection scores."
   ]
  },
  {
   "cell_type": "code",
   "execution_count": 485,
   "id": "5fbb9842-7359-4ade-abca-e9b0d87a0a1f",
   "metadata": {},
   "outputs": [],
   "source": [
    "business_df = pd.read_csv(processed_data_directory + 'business_df_latest_inspection.csv')\n",
    "business_ids = business_df['business_id']"
   ]
  },
  {
   "cell_type": "code",
   "execution_count": 486,
   "id": "f737c3ef-22c5-48b8-9d4b-5e81054ef7ff",
   "metadata": {},
   "outputs": [],
   "source": [
    "review_filepath = yelp_data_directory + 'yelp_academic_dataset_review.json'\n",
    "size = 500000\n",
    "json_reader = pd.read_json(review_filepath, lines=True,\n",
    "                           dtype={'review_id':str,'user_id':str,\n",
    "                                  'business_id':str,'stars':int,\n",
    "                                  'date':str,'text':str,\n",
    "                                  'useful':int,'funny':int,'cool':int},\n",
    "                           chunksize=size)"
   ]
  },
  {
   "cell_type": "code",
   "execution_count": 487,
   "id": "31fdabe1-816d-4138-9ff3-24af2ac43a71",
   "metadata": {
    "tags": []
   },
   "outputs": [
    {
     "name": "stdout",
     "output_type": "stream",
     "text": [
      "45301 out of 500000 related reviews\n",
      "39863 out of 500000 related reviews\n",
      "32808 out of 500000 related reviews\n",
      "34664 out of 500000 related reviews\n",
      "34956 out of 500000 related reviews\n",
      "37157 out of 500000 related reviews\n",
      "33048 out of 500000 related reviews\n",
      "31656 out of 500000 related reviews\n",
      "30599 out of 500000 related reviews\n",
      "30174 out of 500000 related reviews\n",
      "28740 out of 500000 related reviews\n",
      "27360 out of 500000 related reviews\n",
      "30598 out of 500000 related reviews\n",
      "29903 out of 500000 related reviews\n",
      "29728 out of 500000 related reviews\n",
      "33042 out of 500000 related reviews\n",
      "33161 out of 500000 related reviews\n",
      "7856 out of 500000 related reviews\n"
     ]
    }
   ],
   "source": [
    "# i=0\n",
    "chunk_list=[]\n",
    "for chunk in json_reader:\n",
    "    # i+=1\n",
    "    # drop data we don't need\n",
    "    # chunk = chunk.drop(['review_id','user_id','useful','funny','cool'], axis=1).reset_index(drop=True)\n",
    "    chunk = chunk.rename(columns={'stars': 'review_stars'})\n",
    "    # limit to health-inspected austin restaurants\n",
    "    chunk = chunk[chunk['business_id'].isin(business_ids)]\n",
    "    # chunk = pd.merge(business_df, chunk, on='business_id', how='inner') # this generates duplicates for some reason???\n",
    "    chunk_list.append(chunk)\n",
    "    print(f\"{len(chunk)} out of {size} related reviews\")\n",
    "    # if i==5:\n",
    "    #     break\n",
    "    # break"
   ]
  },
  {
   "cell_type": "code",
   "execution_count": 493,
   "id": "7d8a40b8-781f-4c15-900e-90e2482405f5",
   "metadata": {},
   "outputs": [],
   "source": [
    "df = pd.concat(chunk_list, ignore_index=True, join='outer', axis=0)\n",
    "df.to_csv(processed_data_directory + 'review_df.csv', index=False)"
   ]
  },
  {
   "cell_type": "markdown",
   "id": "c059150a-a8f7-4667-a203-34f9c97b3582",
   "metadata": {},
   "source": [
    "## look at review data"
   ]
  },
  {
   "cell_type": "code",
   "execution_count": 503,
   "id": "979621c6-c039-408d-9592-d33c11349c17",
   "metadata": {},
   "outputs": [],
   "source": [
    "df = pd.read_csv(processed_data_directory + 'review_df.csv')"
   ]
  },
  {
   "cell_type": "code",
   "execution_count": 505,
   "id": "44d7941c-2a69-4e81-a565-7dddd545925a",
   "metadata": {},
   "outputs": [
    {
     "data": {
      "text/plain": [
       "True"
      ]
     },
     "execution_count": 505,
     "metadata": {},
     "output_type": "execute_result"
    }
   ],
   "source": [
    "# check there's no duplicates\n",
    "len(df) == len(df['review_id'].unique())"
   ]
  },
  {
   "cell_type": "code",
   "execution_count": 512,
   "id": "27a050dc-eefb-4029-81fe-e8e485774b9a",
   "metadata": {},
   "outputs": [
    {
     "data": {
      "text/plain": [
       "True"
      ]
     },
     "execution_count": 512,
     "metadata": {},
     "output_type": "execute_result"
    }
   ],
   "source": [
    "# make sure we hit every business\n",
    "len(df.business_id.unique()) == len(business_df.business_id.unique())"
   ]
  },
  {
   "cell_type": "code",
   "execution_count": 513,
   "id": "3c8a362d-6570-4c59-a10b-d3bbcfb11f47",
   "metadata": {},
   "outputs": [
    {
     "data": {
      "text/html": [
       "<div>\n",
       "<style scoped>\n",
       "    .dataframe tbody tr th:only-of-type {\n",
       "        vertical-align: middle;\n",
       "    }\n",
       "\n",
       "    .dataframe tbody tr th {\n",
       "        vertical-align: top;\n",
       "    }\n",
       "\n",
       "    .dataframe thead th {\n",
       "        text-align: right;\n",
       "    }\n",
       "</style>\n",
       "<table border=\"1\" class=\"dataframe\">\n",
       "  <thead>\n",
       "    <tr style=\"text-align: right;\">\n",
       "      <th></th>\n",
       "      <th>review_id</th>\n",
       "      <th>user_id</th>\n",
       "      <th>business_id</th>\n",
       "      <th>review_stars</th>\n",
       "      <th>useful</th>\n",
       "      <th>funny</th>\n",
       "      <th>cool</th>\n",
       "      <th>text</th>\n",
       "      <th>date</th>\n",
       "    </tr>\n",
       "  </thead>\n",
       "  <tbody>\n",
       "    <tr>\n",
       "      <th>0</th>\n",
       "      <td>GDgXjXSZCA1iNQWD7OHXfg</td>\n",
       "      <td>1RCRKuHgP3FskGUVnmFdxg</td>\n",
       "      <td>mOnesB4IF9j6-ZmHoOHOig</td>\n",
       "      <td>4</td>\n",
       "      <td>0</td>\n",
       "      <td>0</td>\n",
       "      <td>0</td>\n",
       "      <td>I think their rice dishes are way better than ...</td>\n",
       "      <td>2017-05-26 03:05:46</td>\n",
       "    </tr>\n",
       "    <tr>\n",
       "      <th>1</th>\n",
       "      <td>GgWFjRHhelaiUgR2-H6N4g</td>\n",
       "      <td>pRPT3vqhqpU7kHgmKJamvw</td>\n",
       "      <td>-_GnwXmzC3DXsHR9nyaC2g</td>\n",
       "      <td>3</td>\n",
       "      <td>0</td>\n",
       "      <td>0</td>\n",
       "      <td>0</td>\n",
       "      <td>3.5 stars! I got the avocado margarita and it ...</td>\n",
       "      <td>2012-11-06 07:09:57</td>\n",
       "    </tr>\n",
       "    <tr>\n",
       "      <th>2</th>\n",
       "      <td>z-6ElnK3yXpn2oNKR7NYtw</td>\n",
       "      <td>OSsqq7CzBdAbF7E6kZHd0g</td>\n",
       "      <td>bZiIIUcpgxh8mpKMDhdqbA</td>\n",
       "      <td>3</td>\n",
       "      <td>0</td>\n",
       "      <td>0</td>\n",
       "      <td>0</td>\n",
       "      <td>My husband and I shared the parmesan truffly f...</td>\n",
       "      <td>2017-10-11 00:25:47</td>\n",
       "    </tr>\n",
       "    <tr>\n",
       "      <th>3</th>\n",
       "      <td>nqUJoSkDr_1mqnLtOrWFSA</td>\n",
       "      <td>HLE4PMeOrkQkIR559IkY9A</td>\n",
       "      <td>gvpoFnaCq2J7TBXV7yFIkQ</td>\n",
       "      <td>5</td>\n",
       "      <td>0</td>\n",
       "      <td>0</td>\n",
       "      <td>0</td>\n",
       "      <td>Perfect spices, nice atmosphere &amp; music, great...</td>\n",
       "      <td>2017-07-28 19:17:54</td>\n",
       "    </tr>\n",
       "    <tr>\n",
       "      <th>4</th>\n",
       "      <td>h6o5mduBqDUkKsa4KRIDzw</td>\n",
       "      <td>Nw4GV60oM78Uizh9dUuqNQ</td>\n",
       "      <td>LUCmOKTK5Uh7eU84yJq3mQ</td>\n",
       "      <td>5</td>\n",
       "      <td>0</td>\n",
       "      <td>0</td>\n",
       "      <td>0</td>\n",
       "      <td>Snap is my go-to lunch spot nearly every day! ...</td>\n",
       "      <td>2015-06-08 18:07:06</td>\n",
       "    </tr>\n",
       "    <tr>\n",
       "      <th>...</th>\n",
       "      <td>...</td>\n",
       "      <td>...</td>\n",
       "      <td>...</td>\n",
       "      <td>...</td>\n",
       "      <td>...</td>\n",
       "      <td>...</td>\n",
       "      <td>...</td>\n",
       "      <td>...</td>\n",
       "      <td>...</td>\n",
       "    </tr>\n",
       "    <tr>\n",
       "      <th>570609</th>\n",
       "      <td>I_8BJ6vZo7mVHi4TzuEK2A</td>\n",
       "      <td>74bzP169TBBFLEnzQsCdHw</td>\n",
       "      <td>dgywJM4JpniwOEDNfrfewg</td>\n",
       "      <td>2</td>\n",
       "      <td>10</td>\n",
       "      <td>0</td>\n",
       "      <td>3</td>\n",
       "      <td>I rec'd my meal as part of a complimentary Yel...</td>\n",
       "      <td>2020-08-09 19:53:40</td>\n",
       "    </tr>\n",
       "    <tr>\n",
       "      <th>570610</th>\n",
       "      <td>oabuTmGpHquA4sc4C0DatQ</td>\n",
       "      <td>tsSyIyhRp37fDpN78q3crw</td>\n",
       "      <td>Qmq4gr5Mmo2oIVejag48PA</td>\n",
       "      <td>4</td>\n",
       "      <td>4</td>\n",
       "      <td>1</td>\n",
       "      <td>3</td>\n",
       "      <td>This place serves amazingly tasty gluten free ...</td>\n",
       "      <td>2020-09-13 00:53:03</td>\n",
       "    </tr>\n",
       "    <tr>\n",
       "      <th>570611</th>\n",
       "      <td>hKxvxtCjEJAwD_7AcnA_iQ</td>\n",
       "      <td>VEB7udH-qIN_ON1SMyWrPg</td>\n",
       "      <td>zM98ZSIJyuBQabyYornLpw</td>\n",
       "      <td>3</td>\n",
       "      <td>0</td>\n",
       "      <td>0</td>\n",
       "      <td>0</td>\n",
       "      <td>Bartender was friendly and attentive. We came ...</td>\n",
       "      <td>2021-01-10 04:10:45</td>\n",
       "    </tr>\n",
       "    <tr>\n",
       "      <th>570612</th>\n",
       "      <td>UWHPbsQzfrmjtDCbq2AeDg</td>\n",
       "      <td>Cx85VtZCOwdzHATPlB6fyQ</td>\n",
       "      <td>Wn8j-1-ity6hdjP4bC_wkw</td>\n",
       "      <td>2</td>\n",
       "      <td>0</td>\n",
       "      <td>0</td>\n",
       "      <td>0</td>\n",
       "      <td>Terrible pho. Literally zero flavor. And the c...</td>\n",
       "      <td>2021-01-17 22:09:10</td>\n",
       "    </tr>\n",
       "    <tr>\n",
       "      <th>570613</th>\n",
       "      <td>Xf7iZpZC0MdosClyzZTmGg</td>\n",
       "      <td>spFkIHa7x15DJe4gVnSCqw</td>\n",
       "      <td>XVmp1LmrXKB8cXomLKbu9w</td>\n",
       "      <td>5</td>\n",
       "      <td>2</td>\n",
       "      <td>0</td>\n",
       "      <td>1</td>\n",
       "      <td>Very nice ambiance, clean inside and food is g...</td>\n",
       "      <td>2018-05-28 01:50:26</td>\n",
       "    </tr>\n",
       "  </tbody>\n",
       "</table>\n",
       "<p>570614 rows × 9 columns</p>\n",
       "</div>"
      ],
      "text/plain": [
       "                     review_id                 user_id  \\\n",
       "0       GDgXjXSZCA1iNQWD7OHXfg  1RCRKuHgP3FskGUVnmFdxg   \n",
       "1       GgWFjRHhelaiUgR2-H6N4g  pRPT3vqhqpU7kHgmKJamvw   \n",
       "2       z-6ElnK3yXpn2oNKR7NYtw  OSsqq7CzBdAbF7E6kZHd0g   \n",
       "3       nqUJoSkDr_1mqnLtOrWFSA  HLE4PMeOrkQkIR559IkY9A   \n",
       "4       h6o5mduBqDUkKsa4KRIDzw  Nw4GV60oM78Uizh9dUuqNQ   \n",
       "...                        ...                     ...   \n",
       "570609  I_8BJ6vZo7mVHi4TzuEK2A  74bzP169TBBFLEnzQsCdHw   \n",
       "570610  oabuTmGpHquA4sc4C0DatQ  tsSyIyhRp37fDpN78q3crw   \n",
       "570611  hKxvxtCjEJAwD_7AcnA_iQ  VEB7udH-qIN_ON1SMyWrPg   \n",
       "570612  UWHPbsQzfrmjtDCbq2AeDg  Cx85VtZCOwdzHATPlB6fyQ   \n",
       "570613  Xf7iZpZC0MdosClyzZTmGg  spFkIHa7x15DJe4gVnSCqw   \n",
       "\n",
       "                   business_id  review_stars  useful  funny  cool  \\\n",
       "0       mOnesB4IF9j6-ZmHoOHOig             4       0      0     0   \n",
       "1       -_GnwXmzC3DXsHR9nyaC2g             3       0      0     0   \n",
       "2       bZiIIUcpgxh8mpKMDhdqbA             3       0      0     0   \n",
       "3       gvpoFnaCq2J7TBXV7yFIkQ             5       0      0     0   \n",
       "4       LUCmOKTK5Uh7eU84yJq3mQ             5       0      0     0   \n",
       "...                        ...           ...     ...    ...   ...   \n",
       "570609  dgywJM4JpniwOEDNfrfewg             2      10      0     3   \n",
       "570610  Qmq4gr5Mmo2oIVejag48PA             4       4      1     3   \n",
       "570611  zM98ZSIJyuBQabyYornLpw             3       0      0     0   \n",
       "570612  Wn8j-1-ity6hdjP4bC_wkw             2       0      0     0   \n",
       "570613  XVmp1LmrXKB8cXomLKbu9w             5       2      0     1   \n",
       "\n",
       "                                                     text                 date  \n",
       "0       I think their rice dishes are way better than ...  2017-05-26 03:05:46  \n",
       "1       3.5 stars! I got the avocado margarita and it ...  2012-11-06 07:09:57  \n",
       "2       My husband and I shared the parmesan truffly f...  2017-10-11 00:25:47  \n",
       "3       Perfect spices, nice atmosphere & music, great...  2017-07-28 19:17:54  \n",
       "4       Snap is my go-to lunch spot nearly every day! ...  2015-06-08 18:07:06  \n",
       "...                                                   ...                  ...  \n",
       "570609  I rec'd my meal as part of a complimentary Yel...  2020-08-09 19:53:40  \n",
       "570610  This place serves amazingly tasty gluten free ...  2020-09-13 00:53:03  \n",
       "570611  Bartender was friendly and attentive. We came ...  2021-01-10 04:10:45  \n",
       "570612  Terrible pho. Literally zero flavor. And the c...  2021-01-17 22:09:10  \n",
       "570613  Very nice ambiance, clean inside and food is g...  2018-05-28 01:50:26  \n",
       "\n",
       "[570614 rows x 9 columns]"
      ]
     },
     "execution_count": 513,
     "metadata": {},
     "output_type": "execute_result"
    }
   ],
   "source": [
    "df"
   ]
  },
  {
   "cell_type": "code",
   "execution_count": 548,
   "id": "3efaa3ac-9e11-4f37-b01c-3de31e3b25d3",
   "metadata": {},
   "outputs": [
    {
     "data": {
      "text/plain": [
       "business_id\n",
       "-0TbQsmE2p1bhG30rgvK2Q      93\n",
       "-4bP1UUgpZumIu6DZMaMzw     556\n",
       "-4cQ12xutjNLW-tPI06_tg      86\n",
       "-4ofMtrD7pSpZIX5pnDkig    1474\n",
       "-6obgh8LkS9L0Ww1zHdTNg      17\n",
       "                          ... \n",
       "zlPKCqb9sfkhIW27sAGsIA     104\n",
       "zo-POOSRX0wiVJlJyvujyA      41\n",
       "zr40jIjFDIcZ3dzbSK53Ww     114\n",
       "zubXuwlAEbvZd-MiLOgofQ     175\n",
       "zvSUJ7J2-GcB-2E0W2ICbw       6\n",
       "Name: num_reviews_in_dataset, Length: 2506, dtype: int64"
      ]
     },
     "execution_count": 548,
     "metadata": {},
     "output_type": "execute_result"
    }
   ],
   "source": [
    "num_reviews = df.groupby('business_id').size()\n",
    "num_reviews.name = 'num_reviews_in_dataset'\n",
    "num_reviews"
   ]
  },
  {
   "cell_type": "code",
   "execution_count": 549,
   "id": "c5c75595-a381-4aa3-93e8-4aff606346f7",
   "metadata": {
    "tags": []
   },
   "outputs": [
    {
     "data": {
      "text/plain": [
       "business_id\n",
       "MGzro82Fi4LYvc86acoONQ    5071\n",
       "Name: num_reviews_in_dataset, dtype: int64"
      ]
     },
     "execution_count": 549,
     "metadata": {},
     "output_type": "execute_result"
    }
   ],
   "source": [
    "num_reviews[num_reviews==max(num_reviews)]"
   ]
  },
  {
   "cell_type": "code",
   "execution_count": 550,
   "id": "3055d727-9082-40a0-a97e-b8291b4af43e",
   "metadata": {},
   "outputs": [
    {
     "data": {
      "image/png": "[encoded data removed]",
      "text/plain": [
       "<Figure size 432x288 with 1 Axes>"
      ]
     },
     "metadata": {
      "needs_background": "light"
     },
     "output_type": "display_data"
    }
   ],
   "source": [
    "# see # reviews distribution\n",
    "plt.hist(num_reviews,bins = 100)\n",
    "plt.yscale('log')"
   ]
  },
  {
   "cell_type": "code",
   "execution_count": 551,
   "id": "fd524a7f-ddf1-43a6-9159-d51c0f30b3d9",
   "metadata": {},
   "outputs": [
    {
     "data": {
      "text/html": [
       "<div>\n",
       "<style scoped>\n",
       "    .dataframe tbody tr th:only-of-type {\n",
       "        vertical-align: middle;\n",
       "    }\n",
       "\n",
       "    .dataframe tbody tr th {\n",
       "        vertical-align: top;\n",
       "    }\n",
       "\n",
       "    .dataframe thead th {\n",
       "        text-align: right;\n",
       "    }\n",
       "</style>\n",
       "<table border=\"1\" class=\"dataframe\">\n",
       "  <thead>\n",
       "    <tr style=\"text-align: right;\">\n",
       "      <th></th>\n",
       "      <th>business_id</th>\n",
       "      <th>name</th>\n",
       "      <th>address</th>\n",
       "      <th>latitude</th>\n",
       "      <th>longitude</th>\n",
       "      <th>stars</th>\n",
       "      <th>review_count</th>\n",
       "      <th>is_open</th>\n",
       "      <th>attributes</th>\n",
       "      <th>categories</th>\n",
       "      <th>Inspection Date</th>\n",
       "      <th>Score</th>\n",
       "    </tr>\n",
       "  </thead>\n",
       "  <tbody>\n",
       "    <tr>\n",
       "      <th>0</th>\n",
       "      <td>-0TbQsmE2p1bhG30rgvK2Q</td>\n",
       "      <td>RiverCity Market</td>\n",
       "      <td>2209 S Congress Ave</td>\n",
       "      <td>30.240873</td>\n",
       "      <td>-97.752353</td>\n",
       "      <td>4.0</td>\n",
       "      <td>89</td>\n",
       "      <td>1</td>\n",
       "      <td>{'BusinessAcceptsCreditCards': 'True', 'BikePa...</td>\n",
       "      <td>Beer, Wine &amp; Spirits, Grocery, Food, Specialty...</td>\n",
       "      <td>2022-03-02</td>\n",
       "      <td>91.0</td>\n",
       "    </tr>\n",
       "    <tr>\n",
       "      <th>1</th>\n",
       "      <td>-4bP1UUgpZumIu6DZMaMzw</td>\n",
       "      <td>Houndstooth Coffee</td>\n",
       "      <td>4200 N Lamar Blvd, Ste 120</td>\n",
       "      <td>30.310588</td>\n",
       "      <td>-97.740010</td>\n",
       "      <td>4.0</td>\n",
       "      <td>538</td>\n",
       "      <td>1</td>\n",
       "      <td>{'BusinessAcceptsCreditCards': 'True', 'BikePa...</td>\n",
       "      <td>Coffee &amp; Tea, Food</td>\n",
       "      <td>2021-05-18</td>\n",
       "      <td>95.0</td>\n",
       "    </tr>\n",
       "    <tr>\n",
       "      <th>2</th>\n",
       "      <td>-4cQ12xutjNLW-tPI06_tg</td>\n",
       "      <td>Donut Taco Palace II</td>\n",
       "      <td>1807 W Slaughter Ln, Ste 200</td>\n",
       "      <td>30.171085</td>\n",
       "      <td>-97.824209</td>\n",
       "      <td>3.5</td>\n",
       "      <td>83</td>\n",
       "      <td>1</td>\n",
       "      <td>{'RestaurantsPriceRange2': '1', 'GoodForKids':...</td>\n",
       "      <td>Donuts, Bagels, Restaurants, Food, Bakeries, M...</td>\n",
       "      <td>2022-02-11</td>\n",
       "      <td>96.0</td>\n",
       "    </tr>\n",
       "    <tr>\n",
       "      <th>3</th>\n",
       "      <td>-4ofMtrD7pSpZIX5pnDkig</td>\n",
       "      <td>Mozart's Coffee Roasters</td>\n",
       "      <td>3825 Lake Austin Blvd</td>\n",
       "      <td>30.295545</td>\n",
       "      <td>-97.784103</td>\n",
       "      <td>4.0</td>\n",
       "      <td>1445</td>\n",
       "      <td>1</td>\n",
       "      <td>{'BikeParking': 'True', 'BusinessAcceptsCredit...</td>\n",
       "      <td>Restaurants, Coffee Roasteries, Music Venues, ...</td>\n",
       "      <td>2022-03-01</td>\n",
       "      <td>82.0</td>\n",
       "    </tr>\n",
       "    <tr>\n",
       "      <th>4</th>\n",
       "      <td>-6obgh8LkS9L0Ww1zHdTNg</td>\n",
       "      <td>Galloway's Sandwich Shop</td>\n",
       "      <td>1914 E 12th St</td>\n",
       "      <td>30.274019</td>\n",
       "      <td>-97.719415</td>\n",
       "      <td>4.5</td>\n",
       "      <td>17</td>\n",
       "      <td>1</td>\n",
       "      <td>{'OutdoorSeating': 'False', 'WiFi': \"u'no'\", '...</td>\n",
       "      <td>Soul Food, Restaurants, Southern</td>\n",
       "      <td>2022-03-08</td>\n",
       "      <td>78.0</td>\n",
       "    </tr>\n",
       "    <tr>\n",
       "      <th>...</th>\n",
       "      <td>...</td>\n",
       "      <td>...</td>\n",
       "      <td>...</td>\n",
       "      <td>...</td>\n",
       "      <td>...</td>\n",
       "      <td>...</td>\n",
       "      <td>...</td>\n",
       "      <td>...</td>\n",
       "      <td>...</td>\n",
       "      <td>...</td>\n",
       "      <td>...</td>\n",
       "      <td>...</td>\n",
       "    </tr>\n",
       "    <tr>\n",
       "      <th>2501</th>\n",
       "      <td>zlPKCqb9sfkhIW27sAGsIA</td>\n",
       "      <td>Corner Bar</td>\n",
       "      <td>1901 S Lamar Blvd</td>\n",
       "      <td>30.249415</td>\n",
       "      <td>-97.766958</td>\n",
       "      <td>3.5</td>\n",
       "      <td>102</td>\n",
       "      <td>1</td>\n",
       "      <td>{'RestaurantsPriceRange2': '2', 'OutdoorSeatin...</td>\n",
       "      <td>Restaurants, Bars, Pubs, Cocktail Bars, Desser...</td>\n",
       "      <td>2021-02-25</td>\n",
       "      <td>93.0</td>\n",
       "    </tr>\n",
       "    <tr>\n",
       "      <th>2502</th>\n",
       "      <td>zo-POOSRX0wiVJlJyvujyA</td>\n",
       "      <td>Total Wine &amp; More</td>\n",
       "      <td>10001 Research Blvd, Ste 300</td>\n",
       "      <td>30.391763</td>\n",
       "      <td>-97.744436</td>\n",
       "      <td>4.0</td>\n",
       "      <td>40</td>\n",
       "      <td>1</td>\n",
       "      <td>{'RestaurantsPriceRange2': '2', 'DogsAllowed':...</td>\n",
       "      <td>Food, Tobacco Shops, Shopping, Beer, Wine &amp; Sp...</td>\n",
       "      <td>2021-09-23</td>\n",
       "      <td>92.0</td>\n",
       "    </tr>\n",
       "    <tr>\n",
       "      <th>2503</th>\n",
       "      <td>zr40jIjFDIcZ3dzbSK53Ww</td>\n",
       "      <td>Bush's Chicken</td>\n",
       "      <td>9815 Brodie Ln</td>\n",
       "      <td>30.185796</td>\n",
       "      <td>-97.847741</td>\n",
       "      <td>3.5</td>\n",
       "      <td>110</td>\n",
       "      <td>1</td>\n",
       "      <td>{'Caters': 'True', 'HasTV': 'True', 'Restauran...</td>\n",
       "      <td>Restaurants, Fast Food</td>\n",
       "      <td>2022-01-06</td>\n",
       "      <td>91.0</td>\n",
       "    </tr>\n",
       "    <tr>\n",
       "      <th>2504</th>\n",
       "      <td>zubXuwlAEbvZd-MiLOgofQ</td>\n",
       "      <td>Blue Owl Brewing</td>\n",
       "      <td>2400 East Cesar Chavez, Ste 300</td>\n",
       "      <td>30.254581</td>\n",
       "      <td>-97.716934</td>\n",
       "      <td>4.5</td>\n",
       "      <td>173</td>\n",
       "      <td>1</td>\n",
       "      <td>{'Alcohol': \"u'beer_and_wine'\", 'WheelchairAcc...</td>\n",
       "      <td>Food, Breweries, Local Flavor, Arts &amp; Entertai...</td>\n",
       "      <td>2022-03-17</td>\n",
       "      <td>95.0</td>\n",
       "    </tr>\n",
       "    <tr>\n",
       "      <th>2505</th>\n",
       "      <td>zvSUJ7J2-GcB-2E0W2ICbw</td>\n",
       "      <td>Yager Food Store</td>\n",
       "      <td>1006 E Yager Ln, Ste 201B</td>\n",
       "      <td>30.391474</td>\n",
       "      <td>-97.659219</td>\n",
       "      <td>2.5</td>\n",
       "      <td>6</td>\n",
       "      <td>1</td>\n",
       "      <td>{'BusinessAcceptsCreditCards': 'True'}</td>\n",
       "      <td>Restaurants, Food, Pizza, Grocery</td>\n",
       "      <td>2021-08-31</td>\n",
       "      <td>86.0</td>\n",
       "    </tr>\n",
       "  </tbody>\n",
       "</table>\n",
       "<p>2506 rows × 12 columns</p>\n",
       "</div>"
      ],
      "text/plain": [
       "                 business_id                      name  \\\n",
       "0     -0TbQsmE2p1bhG30rgvK2Q          RiverCity Market   \n",
       "1     -4bP1UUgpZumIu6DZMaMzw        Houndstooth Coffee   \n",
       "2     -4cQ12xutjNLW-tPI06_tg      Donut Taco Palace II   \n",
       "3     -4ofMtrD7pSpZIX5pnDkig  Mozart's Coffee Roasters   \n",
       "4     -6obgh8LkS9L0Ww1zHdTNg  Galloway's Sandwich Shop   \n",
       "...                      ...                       ...   \n",
       "2501  zlPKCqb9sfkhIW27sAGsIA                Corner Bar   \n",
       "2502  zo-POOSRX0wiVJlJyvujyA         Total Wine & More   \n",
       "2503  zr40jIjFDIcZ3dzbSK53Ww            Bush's Chicken   \n",
       "2504  zubXuwlAEbvZd-MiLOgofQ          Blue Owl Brewing   \n",
       "2505  zvSUJ7J2-GcB-2E0W2ICbw          Yager Food Store   \n",
       "\n",
       "                              address   latitude  longitude  stars  \\\n",
       "0                 2209 S Congress Ave  30.240873 -97.752353    4.0   \n",
       "1          4200 N Lamar Blvd, Ste 120  30.310588 -97.740010    4.0   \n",
       "2        1807 W Slaughter Ln, Ste 200  30.171085 -97.824209    3.5   \n",
       "3               3825 Lake Austin Blvd  30.295545 -97.784103    4.0   \n",
       "4                      1914 E 12th St  30.274019 -97.719415    4.5   \n",
       "...                               ...        ...        ...    ...   \n",
       "2501                1901 S Lamar Blvd  30.249415 -97.766958    3.5   \n",
       "2502     10001 Research Blvd, Ste 300  30.391763 -97.744436    4.0   \n",
       "2503                   9815 Brodie Ln  30.185796 -97.847741    3.5   \n",
       "2504  2400 East Cesar Chavez, Ste 300  30.254581 -97.716934    4.5   \n",
       "2505        1006 E Yager Ln, Ste 201B  30.391474 -97.659219    2.5   \n",
       "\n",
       "      review_count  is_open  \\\n",
       "0               89        1   \n",
       "1              538        1   \n",
       "2               83        1   \n",
       "3             1445        1   \n",
       "4               17        1   \n",
       "...            ...      ...   \n",
       "2501           102        1   \n",
       "2502            40        1   \n",
       "2503           110        1   \n",
       "2504           173        1   \n",
       "2505             6        1   \n",
       "\n",
       "                                             attributes  \\\n",
       "0     {'BusinessAcceptsCreditCards': 'True', 'BikePa...   \n",
       "1     {'BusinessAcceptsCreditCards': 'True', 'BikePa...   \n",
       "2     {'RestaurantsPriceRange2': '1', 'GoodForKids':...   \n",
       "3     {'BikeParking': 'True', 'BusinessAcceptsCredit...   \n",
       "4     {'OutdoorSeating': 'False', 'WiFi': \"u'no'\", '...   \n",
       "...                                                 ...   \n",
       "2501  {'RestaurantsPriceRange2': '2', 'OutdoorSeatin...   \n",
       "2502  {'RestaurantsPriceRange2': '2', 'DogsAllowed':...   \n",
       "2503  {'Caters': 'True', 'HasTV': 'True', 'Restauran...   \n",
       "2504  {'Alcohol': \"u'beer_and_wine'\", 'WheelchairAcc...   \n",
       "2505             {'BusinessAcceptsCreditCards': 'True'}   \n",
       "\n",
       "                                             categories Inspection Date  Score  \n",
       "0     Beer, Wine & Spirits, Grocery, Food, Specialty...      2022-03-02   91.0  \n",
       "1                                    Coffee & Tea, Food      2021-05-18   95.0  \n",
       "2     Donuts, Bagels, Restaurants, Food, Bakeries, M...      2022-02-11   96.0  \n",
       "3     Restaurants, Coffee Roasteries, Music Venues, ...      2022-03-01   82.0  \n",
       "4                      Soul Food, Restaurants, Southern      2022-03-08   78.0  \n",
       "...                                                 ...             ...    ...  \n",
       "2501  Restaurants, Bars, Pubs, Cocktail Bars, Desser...      2021-02-25   93.0  \n",
       "2502  Food, Tobacco Shops, Shopping, Beer, Wine & Sp...      2021-09-23   92.0  \n",
       "2503                             Restaurants, Fast Food      2022-01-06   91.0  \n",
       "2504  Food, Breweries, Local Flavor, Arts & Entertai...      2022-03-17   95.0  \n",
       "2505                  Restaurants, Food, Pizza, Grocery      2021-08-31   86.0  \n",
       "\n",
       "[2506 rows x 12 columns]"
      ]
     },
     "execution_count": 551,
     "metadata": {},
     "output_type": "execute_result"
    }
   ],
   "source": [
    "business_df"
   ]
  },
  {
   "cell_type": "code",
   "execution_count": 556,
   "id": "1694d01b-d739-4903-8ee2-305c53e4d9d1",
   "metadata": {},
   "outputs": [
    {
     "data": {
      "image/png": "[encoded data removed]",
      "text/plain": [
       "<Figure size 432x288 with 1 Axes>"
      ]
     },
     "metadata": {
      "needs_background": "light"
     },
     "output_type": "display_data"
    }
   ],
   "source": [
    "# check how many reviews are missing from the dataset for each business\n",
    "rcd = pd.merge(num_reviews,business_df,on='business_id')[['business_id','name','num_reviews_in_dataset','review_count']]\n",
    "rcd['review_count_difference'] = (rcd.review_count - rcd.num_reviews_in_dataset)/rcd.review_count\n",
    "plt.hist(rcd.review_count_difference,bins=100)\n",
    "plt.yscale('log')\n",
    "plt.show()"
   ]
  },
  {
   "cell_type": "code",
   "execution_count": 555,
   "id": "866c9bb9-bda0-40db-b6d5-c04b5e93af24",
   "metadata": {},
   "outputs": [
    {
     "data": {
      "text/plain": [
       " 0.000000    552\n",
       "-0.045455     19\n",
       "-0.041667     18\n",
       "-0.050000     16\n",
       "-0.043478     16\n",
       "            ... \n",
       "-0.022989      1\n",
       "-0.087719      1\n",
       "-0.023962      1\n",
       "-0.004505      1\n",
       "-0.011561      1\n",
       "Name: review_count_difference, Length: 1100, dtype: int64"
      ]
     },
     "execution_count": 555,
     "metadata": {},
     "output_type": "execute_result"
    }
   ],
   "source": [
    "rcd['review_count_difference'].value_counts()"
   ]
  },
  {
   "cell_type": "markdown",
   "id": "2989fc30-d3cb-4218-808f-80b7342e46a9",
   "metadata": {},
   "source": [
    "# combine review and business data"
   ]
  },
  {
   "cell_type": "markdown",
   "id": "d1daadd5-961e-4ef3-9d7f-ff4ee8218199",
   "metadata": {
    "tags": []
   },
   "source": [
    "## score based on review date"
   ]
  },
  {
   "cell_type": "markdown",
   "id": "b6c7bd1d-8c15-4ad2-b0dd-cf1f920eb0db",
   "metadata": {},
   "source": [
    "Let's strip the dataframes of all unnecessary features, leaving only the business_id, inspection score & date, review score & date. Then we look for the inspection nearest to each individual review in time, and use that inspection score for the 'cleanliness' of the business at the time of the review.\n",
    "\n",
    "We set a tolerance of 2 years to exclude all reviews that are 2 years away from an inspection. This limits us to reviews posted from 2017 to 2021, cutting down the dataset by 50%."
   ]
  },
  {
   "cell_type": "code",
   "execution_count": 6,
   "id": "c75e0331-2aef-4194-b1d7-85772e09a8e1",
   "metadata": {},
   "outputs": [],
   "source": [
    "business_df_latest = pd.read_csv(processed_data_directory + 'business_df_latest_inspection.csv')\n",
    "business_df = pd.read_csv(processed_data_directory + 'business_df.csv')\n",
    "review_df = pd.read_csv(processed_data_directory + 'review_df.csv')"
   ]
  },
  {
   "cell_type": "code",
   "execution_count": 5,
   "id": "3377f310-ea7f-4dd0-a1d9-214f648b353a",
   "metadata": {},
   "outputs": [],
   "source": [
    "bare_bones_bdf = business_df[['business_id','Inspection Date','Score','stars']].rename({'Inspection Date':'date'},axis=1).copy()\n",
    "bare_bones_bdf['date'] = pd.to_datetime(bare_bones_bdf['date'])"
   ]
  },
  {
   "cell_type": "code",
   "execution_count": 6,
   "id": "a8fe3ab6-f185-446e-ae82-a0915ab1d59d",
   "metadata": {},
   "outputs": [
    {
     "data": {
      "text/html": [
       "<div>\n",
       "<style scoped>\n",
       "    .dataframe tbody tr th:only-of-type {\n",
       "        vertical-align: middle;\n",
       "    }\n",
       "\n",
       "    .dataframe tbody tr th {\n",
       "        vertical-align: top;\n",
       "    }\n",
       "\n",
       "    .dataframe thead th {\n",
       "        text-align: right;\n",
       "    }\n",
       "</style>\n",
       "<table border=\"1\" class=\"dataframe\">\n",
       "  <thead>\n",
       "    <tr style=\"text-align: right;\">\n",
       "      <th></th>\n",
       "      <th>business_id</th>\n",
       "      <th>review_id</th>\n",
       "      <th>text</th>\n",
       "      <th>date</th>\n",
       "      <th>review_stars</th>\n",
       "    </tr>\n",
       "  </thead>\n",
       "  <tbody>\n",
       "    <tr>\n",
       "      <th>0</th>\n",
       "      <td>mOnesB4IF9j6-ZmHoOHOig</td>\n",
       "      <td>GDgXjXSZCA1iNQWD7OHXfg</td>\n",
       "      <td>I think their rice dishes are way better than ...</td>\n",
       "      <td>2017-05-26 03:05:46</td>\n",
       "      <td>4</td>\n",
       "    </tr>\n",
       "    <tr>\n",
       "      <th>1</th>\n",
       "      <td>-_GnwXmzC3DXsHR9nyaC2g</td>\n",
       "      <td>GgWFjRHhelaiUgR2-H6N4g</td>\n",
       "      <td>3.5 stars! I got the avocado margarita and it ...</td>\n",
       "      <td>2012-11-06 07:09:57</td>\n",
       "      <td>3</td>\n",
       "    </tr>\n",
       "    <tr>\n",
       "      <th>2</th>\n",
       "      <td>bZiIIUcpgxh8mpKMDhdqbA</td>\n",
       "      <td>z-6ElnK3yXpn2oNKR7NYtw</td>\n",
       "      <td>My husband and I shared the parmesan truffly f...</td>\n",
       "      <td>2017-10-11 00:25:47</td>\n",
       "      <td>3</td>\n",
       "    </tr>\n",
       "    <tr>\n",
       "      <th>3</th>\n",
       "      <td>gvpoFnaCq2J7TBXV7yFIkQ</td>\n",
       "      <td>nqUJoSkDr_1mqnLtOrWFSA</td>\n",
       "      <td>Perfect spices, nice atmosphere &amp; music, great...</td>\n",
       "      <td>2017-07-28 19:17:54</td>\n",
       "      <td>5</td>\n",
       "    </tr>\n",
       "    <tr>\n",
       "      <th>4</th>\n",
       "      <td>LUCmOKTK5Uh7eU84yJq3mQ</td>\n",
       "      <td>h6o5mduBqDUkKsa4KRIDzw</td>\n",
       "      <td>Snap is my go-to lunch spot nearly every day! ...</td>\n",
       "      <td>2015-06-08 18:07:06</td>\n",
       "      <td>5</td>\n",
       "    </tr>\n",
       "    <tr>\n",
       "      <th>...</th>\n",
       "      <td>...</td>\n",
       "      <td>...</td>\n",
       "      <td>...</td>\n",
       "      <td>...</td>\n",
       "      <td>...</td>\n",
       "    </tr>\n",
       "    <tr>\n",
       "      <th>570609</th>\n",
       "      <td>dgywJM4JpniwOEDNfrfewg</td>\n",
       "      <td>I_8BJ6vZo7mVHi4TzuEK2A</td>\n",
       "      <td>I rec'd my meal as part of a complimentary Yel...</td>\n",
       "      <td>2020-08-09 19:53:40</td>\n",
       "      <td>2</td>\n",
       "    </tr>\n",
       "    <tr>\n",
       "      <th>570610</th>\n",
       "      <td>Qmq4gr5Mmo2oIVejag48PA</td>\n",
       "      <td>oabuTmGpHquA4sc4C0DatQ</td>\n",
       "      <td>This place serves amazingly tasty gluten free ...</td>\n",
       "      <td>2020-09-13 00:53:03</td>\n",
       "      <td>4</td>\n",
       "    </tr>\n",
       "    <tr>\n",
       "      <th>570611</th>\n",
       "      <td>zM98ZSIJyuBQabyYornLpw</td>\n",
       "      <td>hKxvxtCjEJAwD_7AcnA_iQ</td>\n",
       "      <td>Bartender was friendly and attentive. We came ...</td>\n",
       "      <td>2021-01-10 04:10:45</td>\n",
       "      <td>3</td>\n",
       "    </tr>\n",
       "    <tr>\n",
       "      <th>570612</th>\n",
       "      <td>Wn8j-1-ity6hdjP4bC_wkw</td>\n",
       "      <td>UWHPbsQzfrmjtDCbq2AeDg</td>\n",
       "      <td>Terrible pho. Literally zero flavor. And the c...</td>\n",
       "      <td>2021-01-17 22:09:10</td>\n",
       "      <td>2</td>\n",
       "    </tr>\n",
       "    <tr>\n",
       "      <th>570613</th>\n",
       "      <td>XVmp1LmrXKB8cXomLKbu9w</td>\n",
       "      <td>Xf7iZpZC0MdosClyzZTmGg</td>\n",
       "      <td>Very nice ambiance, clean inside and food is g...</td>\n",
       "      <td>2018-05-28 01:50:26</td>\n",
       "      <td>5</td>\n",
       "    </tr>\n",
       "  </tbody>\n",
       "</table>\n",
       "<p>570614 rows × 5 columns</p>\n",
       "</div>"
      ],
      "text/plain": [
       "                   business_id               review_id  \\\n",
       "0       mOnesB4IF9j6-ZmHoOHOig  GDgXjXSZCA1iNQWD7OHXfg   \n",
       "1       -_GnwXmzC3DXsHR9nyaC2g  GgWFjRHhelaiUgR2-H6N4g   \n",
       "2       bZiIIUcpgxh8mpKMDhdqbA  z-6ElnK3yXpn2oNKR7NYtw   \n",
       "3       gvpoFnaCq2J7TBXV7yFIkQ  nqUJoSkDr_1mqnLtOrWFSA   \n",
       "4       LUCmOKTK5Uh7eU84yJq3mQ  h6o5mduBqDUkKsa4KRIDzw   \n",
       "...                        ...                     ...   \n",
       "570609  dgywJM4JpniwOEDNfrfewg  I_8BJ6vZo7mVHi4TzuEK2A   \n",
       "570610  Qmq4gr5Mmo2oIVejag48PA  oabuTmGpHquA4sc4C0DatQ   \n",
       "570611  zM98ZSIJyuBQabyYornLpw  hKxvxtCjEJAwD_7AcnA_iQ   \n",
       "570612  Wn8j-1-ity6hdjP4bC_wkw  UWHPbsQzfrmjtDCbq2AeDg   \n",
       "570613  XVmp1LmrXKB8cXomLKbu9w  Xf7iZpZC0MdosClyzZTmGg   \n",
       "\n",
       "                                                     text                date  \\\n",
       "0       I think their rice dishes are way better than ... 2017-05-26 03:05:46   \n",
       "1       3.5 stars! I got the avocado margarita and it ... 2012-11-06 07:09:57   \n",
       "2       My husband and I shared the parmesan truffly f... 2017-10-11 00:25:47   \n",
       "3       Perfect spices, nice atmosphere & music, great... 2017-07-28 19:17:54   \n",
       "4       Snap is my go-to lunch spot nearly every day! ... 2015-06-08 18:07:06   \n",
       "...                                                   ...                 ...   \n",
       "570609  I rec'd my meal as part of a complimentary Yel... 2020-08-09 19:53:40   \n",
       "570610  This place serves amazingly tasty gluten free ... 2020-09-13 00:53:03   \n",
       "570611  Bartender was friendly and attentive. We came ... 2021-01-10 04:10:45   \n",
       "570612  Terrible pho. Literally zero flavor. And the c... 2021-01-17 22:09:10   \n",
       "570613  Very nice ambiance, clean inside and food is g... 2018-05-28 01:50:26   \n",
       "\n",
       "        review_stars  \n",
       "0                  4  \n",
       "1                  3  \n",
       "2                  3  \n",
       "3                  5  \n",
       "4                  5  \n",
       "...              ...  \n",
       "570609             2  \n",
       "570610             4  \n",
       "570611             3  \n",
       "570612             2  \n",
       "570613             5  \n",
       "\n",
       "[570614 rows x 5 columns]"
      ]
     },
     "execution_count": 6,
     "metadata": {},
     "output_type": "execute_result"
    }
   ],
   "source": [
    "bare_bones_rdf = review_df[['business_id','review_id','text','date','review_stars']].copy()\n",
    "bare_bones_rdf['date'] = pd.to_datetime(bare_bones_rdf['date'])\n",
    "bare_bones_rdf"
   ]
  },
  {
   "cell_type": "code",
   "execution_count": 7,
   "id": "13302f4b-df01-4261-8416-f5ae0140b976",
   "metadata": {},
   "outputs": [],
   "source": [
    "business_ids = bare_bones_bdf.business_id.unique()"
   ]
  },
  {
   "cell_type": "code",
   "execution_count": 8,
   "id": "02f144ed-f5d3-46f8-8201-c8882eb7deed",
   "metadata": {},
   "outputs": [
    {
     "name": "stdout",
     "output_type": "stream",
     "text": [
      "Wall time: 2min 27s\n"
     ]
    }
   ],
   "source": [
    "%%time\n",
    "# merge score and review dataframes based on closeness in time\n",
    "# needs to be done in a loop over business_id because merge_asof only works with one column\n",
    "biz_df_list = []\n",
    "tolerance = pd.Timedelta(days = 365*20) # two year tolerance\n",
    "for bid in business_ids:\n",
    "    indiv_biz_scores = bare_bones_bdf[bare_bones_bdf['business_id']==bid]\n",
    "    indiv_biz_reviews = bare_bones_rdf[bare_bones_rdf['business_id']==bid].sort_values('date')\n",
    "    out = pd.merge_asof(indiv_biz_reviews,indiv_biz_scores,on='date',direction='nearest',tolerance=tolerance).dropna()\n",
    "    out = out.drop('business_id_y',axis=1).rename(columns={'business_id_x':'business_id'})\n",
    "    biz_df_list.append(out)"
   ]
  },
  {
   "cell_type": "code",
   "execution_count": 9,
   "id": "fb3be71c-744f-4b40-9d0c-2f0a5ea43572",
   "metadata": {},
   "outputs": [],
   "source": [
    "df = pd.concat(biz_df_list, ignore_index=True, join='outer', axis=0)\n",
    "df.to_csv(processed_data_directory + 'reviews_nearest_score_no_limit_df.csv', index=False)"
   ]
  },
  {
   "cell_type": "code",
   "execution_count": 10,
   "id": "ecfb7b08-0ec0-491c-93db-43733edfcf17",
   "metadata": {},
   "outputs": [
    {
     "data": {
      "text/plain": [
       "Timestamp('2005-05-14 07:04:06')"
      ]
     },
     "execution_count": 10,
     "metadata": {},
     "output_type": "execute_result"
    }
   ],
   "source": [
    "sorted(df['date'])[0]"
   ]
  },
  {
   "cell_type": "code",
   "execution_count": 11,
   "id": "6179b61f-eca7-4f03-a003-e149c391950f",
   "metadata": {},
   "outputs": [
    {
     "data": {
      "text/plain": [
       "Timestamp('2021-01-28 15:30:21')"
      ]
     },
     "execution_count": 11,
     "metadata": {},
     "output_type": "execute_result"
    }
   ],
   "source": [
    "sorted(df['date'])[-1]"
   ]
  },
  {
   "cell_type": "code",
   "execution_count": 12,
   "id": "51e294c4-a35d-4dc1-aa16-85115d58177d",
   "metadata": {},
   "outputs": [
    {
     "data": {
      "image/png": "[encoded data removed]",
      "text/plain": [
       "<Figure size 432x288 with 1 Axes>"
      ]
     },
     "metadata": {
      "needs_background": "light"
     },
     "output_type": "display_data"
    }
   ],
   "source": [
    "# review distribution\n",
    "plt.hist(df.business_id.value_counts(), bins=50)\n",
    "plt.yscale('log')"
   ]
  },
  {
   "cell_type": "markdown",
   "id": "0c8fbd40-bdab-4e0f-896b-d987b23a7abe",
   "metadata": {
    "tags": []
   },
   "source": [
    "## some more processing"
   ]
  },
  {
   "cell_type": "markdown",
   "id": "51353306-4615-40bd-bdaf-a498fd4d4795",
   "metadata": {},
   "source": [
    "* reviews_nearest_score_2_years_df.csv : only taking reviews within 2 years of an inspection\n",
    "* reviews_nearest_score_no_limit_df.csv : taking nearest inspection for all reviews"
   ]
  },
  {
   "cell_type": "code",
   "execution_count": 13,
   "id": "6c105029-3969-4bbc-b3ae-9d6f1f682ced",
   "metadata": {},
   "outputs": [],
   "source": [
    "df = pd.read_csv(processed_data_directory + 'reviews_nearest_score_no_limit_df.csv')\n",
    "df2 = pd.read_csv(processed_data_directory + 'reviews_nearest_score_2_years_df.csv')"
   ]
  },
  {
   "cell_type": "code",
   "execution_count": 14,
   "id": "16879e3f-1053-4e19-9f54-334cd44ca03f",
   "metadata": {},
   "outputs": [
    {
     "data": {
      "text/plain": [
       "570614"
      ]
     },
     "execution_count": 14,
     "metadata": {},
     "output_type": "execute_result"
    }
   ],
   "source": [
    "len(df)"
   ]
  },
  {
   "cell_type": "code",
   "execution_count": 15,
   "id": "f31bbb00-f030-4676-9f2f-d23eee1cd459",
   "metadata": {},
   "outputs": [
    {
     "data": {
      "text/plain": [
       "216617"
      ]
     },
     "execution_count": 15,
     "metadata": {},
     "output_type": "execute_result"
    }
   ],
   "source": [
    "len(df2)"
   ]
  },
  {
   "cell_type": "code",
   "execution_count": null,
   "id": "3da54f89-59de-483d-b049-5f3b51654b30",
   "metadata": {},
   "outputs": [],
   "source": [
    "# # discard businesses with < 10 reviews\n",
    "# n = 10\n",
    "# less_than_n_reviews = df.business_id.value_counts()[df.business_id.value_counts() < n].index\n",
    "# df = df[~df['business_id'].isin(less_than_n_reviews)]"
   ]
  },
  {
   "cell_type": "markdown",
   "id": "733d2512-8625-4b52-aaf0-0a4394c9a6aa",
   "metadata": {
    "jp-MarkdownHeadingCollapsed": true,
    "tags": []
   },
   "source": [
    "# old stuff"
   ]
  },
  {
   "cell_type": "code",
   "execution_count": 488,
   "id": "a1a098a1-0b37-47ac-848d-2d004008230e",
   "metadata": {},
   "outputs": [],
   "source": [
    "df = pd.concat(chunk_list, ignore_index=True, join='outer', axis=0)\n",
    "df.to_csv(processed_data_directory + 'review_df.csv', index=False)"
   ]
  },
  {
   "cell_type": "code",
   "execution_count": 131,
   "id": "e9c164ef-5deb-4d26-aaff-84f85ef6847c",
   "metadata": {},
   "outputs": [],
   "source": [
    "num_reviews = df.groupby('business_id').size()"
   ]
  },
  {
   "cell_type": "code",
   "execution_count": 135,
   "id": "621a0a59-22b9-434b-809c-b1a42f89a5b1",
   "metadata": {
    "tags": []
   },
   "outputs": [
    {
     "data": {
      "text/plain": [
       "business_id\n",
       "5y2zZGIE2a4tuEJ5FhSVrQ    10408\n",
       "dtype: int64"
      ]
     },
     "execution_count": 135,
     "metadata": {},
     "output_type": "execute_result"
    }
   ],
   "source": [
    "num_reviews[num_reviews==max(num_reviews)]"
   ]
  },
  {
   "cell_type": "code",
   "execution_count": 483,
   "id": "ad0a22fe-2452-4dd3-93de-4b0e4242e009",
   "metadata": {},
   "outputs": [
    {
     "data": {
      "text/plain": [
       "Index(['review_id', 'user_id', 'business_id', 'review_stars', 'useful',\n",
       "       'funny', 'cool', 'text', 'date'],\n",
       "      dtype='object')"
      ]
     },
     "execution_count": 483,
     "metadata": {},
     "output_type": "execute_result"
    }
   ],
   "source": [
    "chunk.columns"
   ]
  },
  {
   "cell_type": "code",
   "execution_count": 484,
   "id": "26a4103d-873d-4c90-983b-5c14fecf494a",
   "metadata": {
    "tags": []
   },
   "outputs": [
    {
     "data": {
      "text/plain": [
       "Index(['business_id', 'name', 'address', 'latitude', 'longitude', 'stars',\n",
       "       'review_count', 'is_open', 'attributes', 'categories',\n",
       "       'Inspection Date', 'Score', 'review_id', 'user_id', 'review_stars',\n",
       "       'useful', 'funny', 'cool', 'text', 'date'],\n",
       "      dtype='object')"
      ]
     },
     "execution_count": 484,
     "metadata": {},
     "output_type": "execute_result"
    }
   ],
   "source": [
    "test.columns"
   ]
  },
  {
   "cell_type": "code",
   "execution_count": 224,
   "id": "61b871d1-e4c1-4bc9-bf26-996ce19295e3",
   "metadata": {},
   "outputs": [
    {
     "data": {
      "text/html": [
       "<div>\n",
       "<style scoped>\n",
       "    .dataframe tbody tr th:only-of-type {\n",
       "        vertical-align: middle;\n",
       "    }\n",
       "\n",
       "    .dataframe tbody tr th {\n",
       "        vertical-align: top;\n",
       "    }\n",
       "\n",
       "    .dataframe thead th {\n",
       "        text-align: right;\n",
       "    }\n",
       "</style>\n",
       "<table border=\"1\" class=\"dataframe\">\n",
       "  <thead>\n",
       "    <tr style=\"text-align: right;\">\n",
       "      <th></th>\n",
       "      <th>business_id</th>\n",
       "      <th>Facility ID</th>\n",
       "      <th>review_count</th>\n",
       "      <th>stars</th>\n",
       "      <th>Score</th>\n",
       "      <th>Inspection Date</th>\n",
       "      <th>is_open</th>\n",
       "      <th>review_id</th>\n",
       "      <th>user_id</th>\n",
       "      <th>review_stars</th>\n",
       "      <th>useful</th>\n",
       "      <th>funny</th>\n",
       "      <th>cool</th>\n",
       "      <th>text</th>\n",
       "      <th>date</th>\n",
       "    </tr>\n",
       "  </thead>\n",
       "  <tbody>\n",
       "    <tr>\n",
       "      <th>26246</th>\n",
       "      <td>OUR3sFpDJYdTcMNyMV6SBQ</td>\n",
       "      <td>11377984</td>\n",
       "      <td>113</td>\n",
       "      <td>3.5</td>\n",
       "      <td>85</td>\n",
       "      <td>2021-04-13</td>\n",
       "      <td>1</td>\n",
       "      <td>oSMFCnRSQPgbvAieltqBIA</td>\n",
       "      <td>TAYK9BTjGPXFL1ChIwuxsg</td>\n",
       "      <td>2</td>\n",
       "      <td>1</td>\n",
       "      <td>1</td>\n",
       "      <td>0</td>\n",
       "      <td>During my recent trip to Austin, I decided to ...</td>\n",
       "      <td>2011-07-04 04:39:38</td>\n",
       "    </tr>\n",
       "    <tr>\n",
       "      <th>26328</th>\n",
       "      <td>OUR3sFpDJYdTcMNyMV6SBQ</td>\n",
       "      <td>11377963</td>\n",
       "      <td>113</td>\n",
       "      <td>3.5</td>\n",
       "      <td>85</td>\n",
       "      <td>2022-01-13</td>\n",
       "      <td>1</td>\n",
       "      <td>oSMFCnRSQPgbvAieltqBIA</td>\n",
       "      <td>TAYK9BTjGPXFL1ChIwuxsg</td>\n",
       "      <td>2</td>\n",
       "      <td>1</td>\n",
       "      <td>1</td>\n",
       "      <td>0</td>\n",
       "      <td>During my recent trip to Austin, I decided to ...</td>\n",
       "      <td>2011-07-04 04:39:38</td>\n",
       "    </tr>\n",
       "    <tr>\n",
       "      <th>26410</th>\n",
       "      <td>OUR3sFpDJYdTcMNyMV6SBQ</td>\n",
       "      <td>11377975</td>\n",
       "      <td>113</td>\n",
       "      <td>3.5</td>\n",
       "      <td>85</td>\n",
       "      <td>2022-01-13</td>\n",
       "      <td>1</td>\n",
       "      <td>oSMFCnRSQPgbvAieltqBIA</td>\n",
       "      <td>TAYK9BTjGPXFL1ChIwuxsg</td>\n",
       "      <td>2</td>\n",
       "      <td>1</td>\n",
       "      <td>1</td>\n",
       "      <td>0</td>\n",
       "      <td>During my recent trip to Austin, I decided to ...</td>\n",
       "      <td>2011-07-04 04:39:38</td>\n",
       "    </tr>\n",
       "  </tbody>\n",
       "</table>\n",
       "</div>"
      ],
      "text/plain": [
       "                  business_id  Facility ID  review_count  stars  Score  \\\n",
       "26246  OUR3sFpDJYdTcMNyMV6SBQ     11377984           113    3.5     85   \n",
       "26328  OUR3sFpDJYdTcMNyMV6SBQ     11377963           113    3.5     85   \n",
       "26410  OUR3sFpDJYdTcMNyMV6SBQ     11377975           113    3.5     85   \n",
       "\n",
       "      Inspection Date  is_open               review_id  \\\n",
       "26246      2021-04-13        1  oSMFCnRSQPgbvAieltqBIA   \n",
       "26328      2022-01-13        1  oSMFCnRSQPgbvAieltqBIA   \n",
       "26410      2022-01-13        1  oSMFCnRSQPgbvAieltqBIA   \n",
       "\n",
       "                      user_id  review_stars  useful  funny  cool  \\\n",
       "26246  TAYK9BTjGPXFL1ChIwuxsg             2       1      1     0   \n",
       "26328  TAYK9BTjGPXFL1ChIwuxsg             2       1      1     0   \n",
       "26410  TAYK9BTjGPXFL1ChIwuxsg             2       1      1     0   \n",
       "\n",
       "                                                    text                 date  \n",
       "26246  During my recent trip to Austin, I decided to ...  2011-07-04 04:39:38  \n",
       "26328  During my recent trip to Austin, I decided to ...  2011-07-04 04:39:38  \n",
       "26410  During my recent trip to Austin, I decided to ...  2011-07-04 04:39:38  "
      ]
     },
     "execution_count": 224,
     "metadata": {},
     "output_type": "execute_result"
    }
   ],
   "source": [
    "chunk.drop_duplicates()[chunk.drop_duplicates().review_id == 'oSMFCnRSQPgbvAieltqBIA']"
   ]
  },
  {
   "cell_type": "code",
   "execution_count": 222,
   "id": "1cd9b93f-55b1-4f6e-86b4-2d164699d279",
   "metadata": {},
   "outputs": [
    {
     "data": {
      "text/html": [
       "<div>\n",
       "<style scoped>\n",
       "    .dataframe tbody tr th:only-of-type {\n",
       "        vertical-align: middle;\n",
       "    }\n",
       "\n",
       "    .dataframe tbody tr th {\n",
       "        vertical-align: top;\n",
       "    }\n",
       "\n",
       "    .dataframe thead th {\n",
       "        text-align: right;\n",
       "    }\n",
       "</style>\n",
       "<table border=\"1\" class=\"dataframe\">\n",
       "  <thead>\n",
       "    <tr style=\"text-align: right;\">\n",
       "      <th></th>\n",
       "      <th>business_id</th>\n",
       "      <th>Facility ID</th>\n",
       "      <th>review_count</th>\n",
       "      <th>stars</th>\n",
       "      <th>Score</th>\n",
       "      <th>Inspection Date</th>\n",
       "      <th>is_open</th>\n",
       "      <th>review_id</th>\n",
       "      <th>user_id</th>\n",
       "      <th>review_stars</th>\n",
       "      <th>useful</th>\n",
       "      <th>funny</th>\n",
       "      <th>cool</th>\n",
       "      <th>text</th>\n",
       "      <th>date</th>\n",
       "    </tr>\n",
       "  </thead>\n",
       "  <tbody>\n",
       "    <tr>\n",
       "      <th>26246</th>\n",
       "      <td>OUR3sFpDJYdTcMNyMV6SBQ</td>\n",
       "      <td>11377984</td>\n",
       "      <td>113</td>\n",
       "      <td>3.5</td>\n",
       "      <td>85</td>\n",
       "      <td>2021-04-13</td>\n",
       "      <td>1</td>\n",
       "      <td>oSMFCnRSQPgbvAieltqBIA</td>\n",
       "      <td>TAYK9BTjGPXFL1ChIwuxsg</td>\n",
       "      <td>2</td>\n",
       "      <td>1</td>\n",
       "      <td>1</td>\n",
       "      <td>0</td>\n",
       "      <td>During my recent trip to Austin, I decided to ...</td>\n",
       "      <td>2011-07-04 04:39:38</td>\n",
       "    </tr>\n",
       "    <tr>\n",
       "      <th>26328</th>\n",
       "      <td>OUR3sFpDJYdTcMNyMV6SBQ</td>\n",
       "      <td>11377963</td>\n",
       "      <td>113</td>\n",
       "      <td>3.5</td>\n",
       "      <td>85</td>\n",
       "      <td>2022-01-13</td>\n",
       "      <td>1</td>\n",
       "      <td>oSMFCnRSQPgbvAieltqBIA</td>\n",
       "      <td>TAYK9BTjGPXFL1ChIwuxsg</td>\n",
       "      <td>2</td>\n",
       "      <td>1</td>\n",
       "      <td>1</td>\n",
       "      <td>0</td>\n",
       "      <td>During my recent trip to Austin, I decided to ...</td>\n",
       "      <td>2011-07-04 04:39:38</td>\n",
       "    </tr>\n",
       "    <tr>\n",
       "      <th>26410</th>\n",
       "      <td>OUR3sFpDJYdTcMNyMV6SBQ</td>\n",
       "      <td>11377975</td>\n",
       "      <td>113</td>\n",
       "      <td>3.5</td>\n",
       "      <td>85</td>\n",
       "      <td>2022-01-13</td>\n",
       "      <td>1</td>\n",
       "      <td>oSMFCnRSQPgbvAieltqBIA</td>\n",
       "      <td>TAYK9BTjGPXFL1ChIwuxsg</td>\n",
       "      <td>2</td>\n",
       "      <td>1</td>\n",
       "      <td>1</td>\n",
       "      <td>0</td>\n",
       "      <td>During my recent trip to Austin, I decided to ...</td>\n",
       "      <td>2011-07-04 04:39:38</td>\n",
       "    </tr>\n",
       "  </tbody>\n",
       "</table>\n",
       "</div>"
      ],
      "text/plain": [
       "                  business_id  Facility ID  review_count  stars  Score  \\\n",
       "26246  OUR3sFpDJYdTcMNyMV6SBQ     11377984           113    3.5     85   \n",
       "26328  OUR3sFpDJYdTcMNyMV6SBQ     11377963           113    3.5     85   \n",
       "26410  OUR3sFpDJYdTcMNyMV6SBQ     11377975           113    3.5     85   \n",
       "\n",
       "      Inspection Date  is_open               review_id  \\\n",
       "26246      2021-04-13        1  oSMFCnRSQPgbvAieltqBIA   \n",
       "26328      2022-01-13        1  oSMFCnRSQPgbvAieltqBIA   \n",
       "26410      2022-01-13        1  oSMFCnRSQPgbvAieltqBIA   \n",
       "\n",
       "                      user_id  review_stars  useful  funny  cool  \\\n",
       "26246  TAYK9BTjGPXFL1ChIwuxsg             2       1      1     0   \n",
       "26328  TAYK9BTjGPXFL1ChIwuxsg             2       1      1     0   \n",
       "26410  TAYK9BTjGPXFL1ChIwuxsg             2       1      1     0   \n",
       "\n",
       "                                                    text                 date  \n",
       "26246  During my recent trip to Austin, I decided to ...  2011-07-04 04:39:38  \n",
       "26328  During my recent trip to Austin, I decided to ...  2011-07-04 04:39:38  \n",
       "26410  During my recent trip to Austin, I decided to ...  2011-07-04 04:39:38  "
      ]
     },
     "execution_count": 222,
     "metadata": {},
     "output_type": "execute_result"
    }
   ],
   "source": [
    "chunk[chunk.review_id == 'oSMFCnRSQPgbvAieltqBIA']"
   ]
  },
  {
   "cell_type": "code",
   "execution_count": 221,
   "id": "298a4a36-9182-448e-a6b5-fc262d121ddb",
   "metadata": {},
   "outputs": [
    {
     "data": {
      "text/plain": [
       "oSMFCnRSQPgbvAieltqBIA    3\n",
       "SLVjTJKfhPKX5aeJedYkEg    3\n",
       "4RmXSTlSoMXt7QTADWnqbA    3\n",
       "1GJO8BltYHohaTNomxdjEw    3\n",
       "fwHFYfE-6MvDxLr_aDrmag    3\n",
       "                         ..\n",
       "2q5dUBdhYNceDqjBCDbW9w    1\n",
       "QTBa-iNLh9cgOIygGenN8w    1\n",
       "oV-YeAJeqIWvdUpbmx18yQ    1\n",
       "qMOZXbqw2Bc_oGFsSMz3ZQ    1\n",
       "UkXyaOJej3sAahW0UfMzyA    1\n",
       "Name: review_id, Length: 45301, dtype: int64"
      ]
     },
     "execution_count": 221,
     "metadata": {},
     "output_type": "execute_result"
    }
   ],
   "source": [
    "chunk.review_id.value_counts()"
   ]
  },
  {
   "cell_type": "code",
   "execution_count": 219,
   "id": "4545168b-6939-4def-8f34-1572d4360976",
   "metadata": {},
   "outputs": [
    {
     "data": {
      "text/plain": [
       "(45301,)"
      ]
     },
     "execution_count": 219,
     "metadata": {},
     "output_type": "execute_result"
    }
   ],
   "source": [
    "chunk.review_id.unique().shape"
   ]
  },
  {
   "cell_type": "code",
   "execution_count": null,
   "id": "6b8f748b-40b8-4b49-a7d2-6729910fee20",
   "metadata": {},
   "outputs": [],
   "source": []
  },
  {
   "cell_type": "code",
   "execution_count": null,
   "id": "baea2591-a093-4a02-b9c4-635d249b4c3f",
   "metadata": {},
   "outputs": [],
   "source": []
  },
  {
   "cell_type": "code",
   "execution_count": null,
   "id": "c3eec20a-c801-4480-8b56-29a072c143fc",
   "metadata": {},
   "outputs": [],
   "source": [
    "test.merge(chunk.drop_duplicates(),on='business_id','review_id'"
   ]
  },
  {
   "cell_type": "code",
   "execution_count": 210,
   "id": "7664f881-f784-415d-9bd2-03ba62962567",
   "metadata": {},
   "outputs": [
    {
     "data": {
      "text/html": [
       "<div>\n",
       "<style scoped>\n",
       "    .dataframe tbody tr th:only-of-type {\n",
       "        vertical-align: middle;\n",
       "    }\n",
       "\n",
       "    .dataframe tbody tr th {\n",
       "        vertical-align: top;\n",
       "    }\n",
       "\n",
       "    .dataframe thead th {\n",
       "        text-align: right;\n",
       "    }\n",
       "</style>\n",
       "<table border=\"1\" class=\"dataframe\">\n",
       "  <thead>\n",
       "    <tr style=\"text-align: right;\">\n",
       "      <th></th>\n",
       "      <th>business_id</th>\n",
       "      <th>Facility ID</th>\n",
       "      <th>review_count</th>\n",
       "      <th>stars</th>\n",
       "      <th>Score</th>\n",
       "      <th>Inspection Date</th>\n",
       "      <th>is_open</th>\n",
       "      <th>review_stars</th>\n",
       "      <th>text</th>\n",
       "      <th>date</th>\n",
       "    </tr>\n",
       "  </thead>\n",
       "  <tbody>\n",
       "    <tr>\n",
       "      <th>0</th>\n",
       "      <td>NRPemqVb4qpWFF0Avq_6OQ</td>\n",
       "      <td>11673927</td>\n",
       "      <td>395</td>\n",
       "      <td>4.5</td>\n",
       "      <td>75</td>\n",
       "      <td>2021-11-29</td>\n",
       "      <td>1</td>\n",
       "      <td>5</td>\n",
       "      <td>Don't change a thing, Eurasia!! This place has...</td>\n",
       "      <td>2018-10-04 16:09:21</td>\n",
       "    </tr>\n",
       "    <tr>\n",
       "      <th>1</th>\n",
       "      <td>NRPemqVb4qpWFF0Avq_6OQ</td>\n",
       "      <td>11673927</td>\n",
       "      <td>395</td>\n",
       "      <td>4.5</td>\n",
       "      <td>75</td>\n",
       "      <td>2021-11-29</td>\n",
       "      <td>1</td>\n",
       "      <td>5</td>\n",
       "      <td>Best sushi in Austin! Just missing the live mu...</td>\n",
       "      <td>2017-08-16 12:33:46</td>\n",
       "    </tr>\n",
       "    <tr>\n",
       "      <th>2</th>\n",
       "      <td>NRPemqVb4qpWFF0Avq_6OQ</td>\n",
       "      <td>11673927</td>\n",
       "      <td>395</td>\n",
       "      <td>4.5</td>\n",
       "      <td>75</td>\n",
       "      <td>2021-11-29</td>\n",
       "      <td>1</td>\n",
       "      <td>4</td>\n",
       "      <td>We came on an off hour so it would hard to jud...</td>\n",
       "      <td>2018-03-15 21:44:28</td>\n",
       "    </tr>\n",
       "    <tr>\n",
       "      <th>3</th>\n",
       "      <td>NRPemqVb4qpWFF0Avq_6OQ</td>\n",
       "      <td>11673927</td>\n",
       "      <td>395</td>\n",
       "      <td>4.5</td>\n",
       "      <td>75</td>\n",
       "      <td>2021-11-29</td>\n",
       "      <td>1</td>\n",
       "      <td>5</td>\n",
       "      <td>This place is totally delicious and reasonably...</td>\n",
       "      <td>2017-12-29 23:21:24</td>\n",
       "    </tr>\n",
       "    <tr>\n",
       "      <th>4</th>\n",
       "      <td>NRPemqVb4qpWFF0Avq_6OQ</td>\n",
       "      <td>11673927</td>\n",
       "      <td>395</td>\n",
       "      <td>4.5</td>\n",
       "      <td>75</td>\n",
       "      <td>2021-11-29</td>\n",
       "      <td>1</td>\n",
       "      <td>1</td>\n",
       "      <td>My husband and I came opening weekend and love...</td>\n",
       "      <td>2018-02-24 14:24:35</td>\n",
       "    </tr>\n",
       "    <tr>\n",
       "      <th>...</th>\n",
       "      <td>...</td>\n",
       "      <td>...</td>\n",
       "      <td>...</td>\n",
       "      <td>...</td>\n",
       "      <td>...</td>\n",
       "      <td>...</td>\n",
       "      <td>...</td>\n",
       "      <td>...</td>\n",
       "      <td>...</td>\n",
       "      <td>...</td>\n",
       "    </tr>\n",
       "    <tr>\n",
       "      <th>47747</th>\n",
       "      <td>cH2OHLE72-GNs8naH5u-2A</td>\n",
       "      <td>11096134</td>\n",
       "      <td>15</td>\n",
       "      <td>3.5</td>\n",
       "      <td>96</td>\n",
       "      <td>2021-03-26</td>\n",
       "      <td>1</td>\n",
       "      <td>4</td>\n",
       "      <td>Cheap stuff. That's all that can be said. Grea...</td>\n",
       "      <td>2015-12-07 17:05:53</td>\n",
       "    </tr>\n",
       "    <tr>\n",
       "      <th>47748</th>\n",
       "      <td>cH2OHLE72-GNs8naH5u-2A</td>\n",
       "      <td>11096134</td>\n",
       "      <td>15</td>\n",
       "      <td>3.5</td>\n",
       "      <td>96</td>\n",
       "      <td>2021-03-26</td>\n",
       "      <td>1</td>\n",
       "      <td>1</td>\n",
       "      <td>First time in a Big Lots and kinda impressed, ...</td>\n",
       "      <td>2014-11-02 22:45:43</td>\n",
       "    </tr>\n",
       "    <tr>\n",
       "      <th>47749</th>\n",
       "      <td>cH2OHLE72-GNs8naH5u-2A</td>\n",
       "      <td>11096134</td>\n",
       "      <td>15</td>\n",
       "      <td>3.5</td>\n",
       "      <td>96</td>\n",
       "      <td>2021-03-26</td>\n",
       "      <td>1</td>\n",
       "      <td>1</td>\n",
       "      <td>First time here and the worst experience ever....</td>\n",
       "      <td>2015-12-26 21:57:08</td>\n",
       "    </tr>\n",
       "    <tr>\n",
       "      <th>47750</th>\n",
       "      <td>cH2OHLE72-GNs8naH5u-2A</td>\n",
       "      <td>11096134</td>\n",
       "      <td>15</td>\n",
       "      <td>3.5</td>\n",
       "      <td>96</td>\n",
       "      <td>2021-03-26</td>\n",
       "      <td>1</td>\n",
       "      <td>2</td>\n",
       "      <td>Yes, I agree Big Lots has lots of stuff, but v...</td>\n",
       "      <td>2012-03-16 16:47:42</td>\n",
       "    </tr>\n",
       "    <tr>\n",
       "      <th>47751</th>\n",
       "      <td>cH2OHLE72-GNs8naH5u-2A</td>\n",
       "      <td>11096134</td>\n",
       "      <td>15</td>\n",
       "      <td>3.5</td>\n",
       "      <td>96</td>\n",
       "      <td>2021-03-26</td>\n",
       "      <td>1</td>\n",
       "      <td>4</td>\n",
       "      <td>Before moving to the neighborhood I never went...</td>\n",
       "      <td>2009-02-04 21:17:38</td>\n",
       "    </tr>\n",
       "  </tbody>\n",
       "</table>\n",
       "<p>47752 rows × 10 columns</p>\n",
       "</div>"
      ],
      "text/plain": [
       "                  business_id  Facility ID  review_count  stars  Score  \\\n",
       "0      NRPemqVb4qpWFF0Avq_6OQ     11673927           395    4.5     75   \n",
       "1      NRPemqVb4qpWFF0Avq_6OQ     11673927           395    4.5     75   \n",
       "2      NRPemqVb4qpWFF0Avq_6OQ     11673927           395    4.5     75   \n",
       "3      NRPemqVb4qpWFF0Avq_6OQ     11673927           395    4.5     75   \n",
       "4      NRPemqVb4qpWFF0Avq_6OQ     11673927           395    4.5     75   \n",
       "...                       ...          ...           ...    ...    ...   \n",
       "47747  cH2OHLE72-GNs8naH5u-2A     11096134            15    3.5     96   \n",
       "47748  cH2OHLE72-GNs8naH5u-2A     11096134            15    3.5     96   \n",
       "47749  cH2OHLE72-GNs8naH5u-2A     11096134            15    3.5     96   \n",
       "47750  cH2OHLE72-GNs8naH5u-2A     11096134            15    3.5     96   \n",
       "47751  cH2OHLE72-GNs8naH5u-2A     11096134            15    3.5     96   \n",
       "\n",
       "      Inspection Date  is_open  review_stars  \\\n",
       "0          2021-11-29        1             5   \n",
       "1          2021-11-29        1             5   \n",
       "2          2021-11-29        1             4   \n",
       "3          2021-11-29        1             5   \n",
       "4          2021-11-29        1             1   \n",
       "...               ...      ...           ...   \n",
       "47747      2021-03-26        1             4   \n",
       "47748      2021-03-26        1             1   \n",
       "47749      2021-03-26        1             1   \n",
       "47750      2021-03-26        1             2   \n",
       "47751      2021-03-26        1             4   \n",
       "\n",
       "                                                    text                 date  \n",
       "0      Don't change a thing, Eurasia!! This place has...  2018-10-04 16:09:21  \n",
       "1      Best sushi in Austin! Just missing the live mu...  2017-08-16 12:33:46  \n",
       "2      We came on an off hour so it would hard to jud...  2018-03-15 21:44:28  \n",
       "3      This place is totally delicious and reasonably...  2017-12-29 23:21:24  \n",
       "4      My husband and I came opening weekend and love...  2018-02-24 14:24:35  \n",
       "...                                                  ...                  ...  \n",
       "47747  Cheap stuff. That's all that can be said. Grea...  2015-12-07 17:05:53  \n",
       "47748  First time in a Big Lots and kinda impressed, ...  2014-11-02 22:45:43  \n",
       "47749  First time here and the worst experience ever....  2015-12-26 21:57:08  \n",
       "47750  Yes, I agree Big Lots has lots of stuff, but v...  2012-03-16 16:47:42  \n",
       "47751  Before moving to the neighborhood I never went...  2009-02-04 21:17:38  \n",
       "\n",
       "[47752 rows x 10 columns]"
      ]
     },
     "execution_count": 210,
     "metadata": {},
     "output_type": "execute_result"
    }
   ],
   "source": [
    "test.drop_duplicates()"
   ]
  },
  {
   "cell_type": "code",
   "execution_count": 204,
   "id": "414259f3-a762-4d74-bbf2-69fdd7975165",
   "metadata": {},
   "outputs": [
    {
     "data": {
      "text/plain": [
       "264"
      ]
     },
     "execution_count": 204,
     "metadata": {},
     "output_type": "execute_result"
    }
   ],
   "source": [
    "2715-(47752-45301)"
   ]
  },
  {
   "cell_type": "code",
   "execution_count": 200,
   "id": "640889aa-58dd-4b35-bcf3-f57f2a44d699",
   "metadata": {},
   "outputs": [
    {
     "data": {
      "text/plain": [
       "(2715, 7)"
      ]
     },
     "execution_count": 200,
     "metadata": {},
     "output_type": "execute_result"
    }
   ],
   "source": [
    "business_df.shape"
   ]
  },
  {
   "cell_type": "code",
   "execution_count": 180,
   "id": "a8b45e44-d336-474a-9832-52b813889998",
   "metadata": {},
   "outputs": [],
   "source": [
    "test = chunk.copy()"
   ]
  },
  {
   "cell_type": "code",
   "execution_count": 185,
   "id": "e25ce3cd-c8a4-49b9-b268-dfeb3e05884e",
   "metadata": {},
   "outputs": [
    {
     "data": {
      "text/html": [
       "<div>\n",
       "<style scoped>\n",
       "    .dataframe tbody tr th:only-of-type {\n",
       "        vertical-align: middle;\n",
       "    }\n",
       "\n",
       "    .dataframe tbody tr th {\n",
       "        vertical-align: top;\n",
       "    }\n",
       "\n",
       "    .dataframe thead th {\n",
       "        text-align: right;\n",
       "    }\n",
       "</style>\n",
       "<table border=\"1\" class=\"dataframe\">\n",
       "  <thead>\n",
       "    <tr style=\"text-align: right;\">\n",
       "      <th></th>\n",
       "      <th>business_id</th>\n",
       "      <th>review_stars</th>\n",
       "      <th>text</th>\n",
       "      <th>date</th>\n",
       "    </tr>\n",
       "  </thead>\n",
       "  <tbody>\n",
       "  </tbody>\n",
       "</table>\n",
       "</div>"
      ],
      "text/plain": [
       "Empty DataFrame\n",
       "Columns: [business_id, review_stars, text, date]\n",
       "Index: []"
      ]
     },
     "execution_count": 185,
     "metadata": {},
     "output_type": "execute_result"
    }
   ],
   "source": [
    "chunk[~chunk['business_id'].isin(business_ids)]"
   ]
  },
  {
   "cell_type": "code",
   "execution_count": 203,
   "id": "1e9c70ad-9aae-455d-9c92-100031f9d63f",
   "metadata": {},
   "outputs": [
    {
     "data": {
      "text/plain": [
       "227"
      ]
     },
     "execution_count": 203,
     "metadata": {},
     "output_type": "execute_result"
    }
   ],
   "source": [
    "len(test.business_id.unique())"
   ]
  },
  {
   "cell_type": "code",
   "execution_count": 207,
   "id": "711000dc-db80-4ab6-b5a5-15ee3c304c2f",
   "metadata": {},
   "outputs": [
    {
     "data": {
      "text/plain": [
       "227"
      ]
     },
     "execution_count": 207,
     "metadata": {},
     "output_type": "execute_result"
    }
   ],
   "source": [
    "len(chunk.business_id.unique())"
   ]
  },
  {
   "cell_type": "code",
   "execution_count": 154,
   "id": "89bb1a01-d709-4c9e-9c91-586229f4c68c",
   "metadata": {},
   "outputs": [
    {
     "data": {
      "text/html": [
       "<div>\n",
       "<style scoped>\n",
       "    .dataframe tbody tr th:only-of-type {\n",
       "        vertical-align: middle;\n",
       "    }\n",
       "\n",
       "    .dataframe tbody tr th {\n",
       "        vertical-align: top;\n",
       "    }\n",
       "\n",
       "    .dataframe thead th {\n",
       "        text-align: right;\n",
       "    }\n",
       "</style>\n",
       "<table border=\"1\" class=\"dataframe\">\n",
       "  <thead>\n",
       "    <tr style=\"text-align: right;\">\n",
       "      <th></th>\n",
       "      <th>business_id</th>\n",
       "      <th>Facility ID</th>\n",
       "      <th>review_count</th>\n",
       "      <th>stars</th>\n",
       "      <th>Score</th>\n",
       "      <th>Inspection Date</th>\n",
       "      <th>is_open</th>\n",
       "      <th>review_stars</th>\n",
       "      <th>text</th>\n",
       "      <th>date</th>\n",
       "    </tr>\n",
       "  </thead>\n",
       "  <tbody>\n",
       "    <tr>\n",
       "      <th>0</th>\n",
       "      <td>NRPemqVb4qpWFF0Avq_6OQ</td>\n",
       "      <td>11673927</td>\n",
       "      <td>395</td>\n",
       "      <td>4.5</td>\n",
       "      <td>75</td>\n",
       "      <td>2021-11-29</td>\n",
       "      <td>1</td>\n",
       "      <td>5</td>\n",
       "      <td>Don't change a thing, Eurasia!! This place has...</td>\n",
       "      <td>2018-10-04 16:09:21</td>\n",
       "    </tr>\n",
       "    <tr>\n",
       "      <th>1</th>\n",
       "      <td>NRPemqVb4qpWFF0Avq_6OQ</td>\n",
       "      <td>11673927</td>\n",
       "      <td>395</td>\n",
       "      <td>4.5</td>\n",
       "      <td>75</td>\n",
       "      <td>2021-11-29</td>\n",
       "      <td>1</td>\n",
       "      <td>5</td>\n",
       "      <td>Best sushi in Austin! Just missing the live mu...</td>\n",
       "      <td>2017-08-16 12:33:46</td>\n",
       "    </tr>\n",
       "    <tr>\n",
       "      <th>2</th>\n",
       "      <td>NRPemqVb4qpWFF0Avq_6OQ</td>\n",
       "      <td>11673927</td>\n",
       "      <td>395</td>\n",
       "      <td>4.5</td>\n",
       "      <td>75</td>\n",
       "      <td>2021-11-29</td>\n",
       "      <td>1</td>\n",
       "      <td>4</td>\n",
       "      <td>We came on an off hour so it would hard to jud...</td>\n",
       "      <td>2018-03-15 21:44:28</td>\n",
       "    </tr>\n",
       "    <tr>\n",
       "      <th>3</th>\n",
       "      <td>NRPemqVb4qpWFF0Avq_6OQ</td>\n",
       "      <td>11673927</td>\n",
       "      <td>395</td>\n",
       "      <td>4.5</td>\n",
       "      <td>75</td>\n",
       "      <td>2021-11-29</td>\n",
       "      <td>1</td>\n",
       "      <td>5</td>\n",
       "      <td>This place is totally delicious and reasonably...</td>\n",
       "      <td>2017-12-29 23:21:24</td>\n",
       "    </tr>\n",
       "    <tr>\n",
       "      <th>4</th>\n",
       "      <td>NRPemqVb4qpWFF0Avq_6OQ</td>\n",
       "      <td>11673927</td>\n",
       "      <td>395</td>\n",
       "      <td>4.5</td>\n",
       "      <td>75</td>\n",
       "      <td>2021-11-29</td>\n",
       "      <td>1</td>\n",
       "      <td>1</td>\n",
       "      <td>My husband and I came opening weekend and love...</td>\n",
       "      <td>2018-02-24 14:24:35</td>\n",
       "    </tr>\n",
       "    <tr>\n",
       "      <th>...</th>\n",
       "      <td>...</td>\n",
       "      <td>...</td>\n",
       "      <td>...</td>\n",
       "      <td>...</td>\n",
       "      <td>...</td>\n",
       "      <td>...</td>\n",
       "      <td>...</td>\n",
       "      <td>...</td>\n",
       "      <td>...</td>\n",
       "      <td>...</td>\n",
       "    </tr>\n",
       "    <tr>\n",
       "      <th>171</th>\n",
       "      <td>NRPemqVb4qpWFF0Avq_6OQ</td>\n",
       "      <td>11673927</td>\n",
       "      <td>395</td>\n",
       "      <td>4.5</td>\n",
       "      <td>75</td>\n",
       "      <td>2021-11-29</td>\n",
       "      <td>1</td>\n",
       "      <td>4</td>\n",
       "      <td>We have ordered takeout and delivery from here...</td>\n",
       "      <td>2018-11-05 18:17:25</td>\n",
       "    </tr>\n",
       "    <tr>\n",
       "      <th>172</th>\n",
       "      <td>NRPemqVb4qpWFF0Avq_6OQ</td>\n",
       "      <td>11673927</td>\n",
       "      <td>395</td>\n",
       "      <td>4.5</td>\n",
       "      <td>75</td>\n",
       "      <td>2021-11-29</td>\n",
       "      <td>1</td>\n",
       "      <td>4</td>\n",
       "      <td>Okay, I eat here at least once every other wee...</td>\n",
       "      <td>2018-10-25 02:35:44</td>\n",
       "    </tr>\n",
       "    <tr>\n",
       "      <th>173</th>\n",
       "      <td>NRPemqVb4qpWFF0Avq_6OQ</td>\n",
       "      <td>11673927</td>\n",
       "      <td>395</td>\n",
       "      <td>4.5</td>\n",
       "      <td>75</td>\n",
       "      <td>2021-11-29</td>\n",
       "      <td>1</td>\n",
       "      <td>4</td>\n",
       "      <td>This place is very good for a strip mall sushi...</td>\n",
       "      <td>2018-03-10 18:01:50</td>\n",
       "    </tr>\n",
       "    <tr>\n",
       "      <th>174</th>\n",
       "      <td>NRPemqVb4qpWFF0Avq_6OQ</td>\n",
       "      <td>11673927</td>\n",
       "      <td>395</td>\n",
       "      <td>4.5</td>\n",
       "      <td>75</td>\n",
       "      <td>2021-11-29</td>\n",
       "      <td>1</td>\n",
       "      <td>5</td>\n",
       "      <td>I've been to this restaurant a handful of time...</td>\n",
       "      <td>2018-04-03 23:38:34</td>\n",
       "    </tr>\n",
       "    <tr>\n",
       "      <th>175</th>\n",
       "      <td>NRPemqVb4qpWFF0Avq_6OQ</td>\n",
       "      <td>11673927</td>\n",
       "      <td>395</td>\n",
       "      <td>4.5</td>\n",
       "      <td>75</td>\n",
       "      <td>2021-11-29</td>\n",
       "      <td>1</td>\n",
       "      <td>5</td>\n",
       "      <td>Love love love this place! So glad we finally ...</td>\n",
       "      <td>2017-04-13 00:03:54</td>\n",
       "    </tr>\n",
       "  </tbody>\n",
       "</table>\n",
       "<p>176 rows × 10 columns</p>\n",
       "</div>"
      ],
      "text/plain": [
       "                business_id  Facility ID  review_count  stars  Score  \\\n",
       "0    NRPemqVb4qpWFF0Avq_6OQ     11673927           395    4.5     75   \n",
       "1    NRPemqVb4qpWFF0Avq_6OQ     11673927           395    4.5     75   \n",
       "2    NRPemqVb4qpWFF0Avq_6OQ     11673927           395    4.5     75   \n",
       "3    NRPemqVb4qpWFF0Avq_6OQ     11673927           395    4.5     75   \n",
       "4    NRPemqVb4qpWFF0Avq_6OQ     11673927           395    4.5     75   \n",
       "..                      ...          ...           ...    ...    ...   \n",
       "171  NRPemqVb4qpWFF0Avq_6OQ     11673927           395    4.5     75   \n",
       "172  NRPemqVb4qpWFF0Avq_6OQ     11673927           395    4.5     75   \n",
       "173  NRPemqVb4qpWFF0Avq_6OQ     11673927           395    4.5     75   \n",
       "174  NRPemqVb4qpWFF0Avq_6OQ     11673927           395    4.5     75   \n",
       "175  NRPemqVb4qpWFF0Avq_6OQ     11673927           395    4.5     75   \n",
       "\n",
       "    Inspection Date  is_open  review_stars  \\\n",
       "0        2021-11-29        1             5   \n",
       "1        2021-11-29        1             5   \n",
       "2        2021-11-29        1             4   \n",
       "3        2021-11-29        1             5   \n",
       "4        2021-11-29        1             1   \n",
       "..              ...      ...           ...   \n",
       "171      2021-11-29        1             4   \n",
       "172      2021-11-29        1             4   \n",
       "173      2021-11-29        1             4   \n",
       "174      2021-11-29        1             5   \n",
       "175      2021-11-29        1             5   \n",
       "\n",
       "                                                  text                 date  \n",
       "0    Don't change a thing, Eurasia!! This place has...  2018-10-04 16:09:21  \n",
       "1    Best sushi in Austin! Just missing the live mu...  2017-08-16 12:33:46  \n",
       "2    We came on an off hour so it would hard to jud...  2018-03-15 21:44:28  \n",
       "3    This place is totally delicious and reasonably...  2017-12-29 23:21:24  \n",
       "4    My husband and I came opening weekend and love...  2018-02-24 14:24:35  \n",
       "..                                                 ...                  ...  \n",
       "171  We have ordered takeout and delivery from here...  2018-11-05 18:17:25  \n",
       "172  Okay, I eat here at least once every other wee...  2018-10-25 02:35:44  \n",
       "173  This place is very good for a strip mall sushi...  2018-03-10 18:01:50  \n",
       "174  I've been to this restaurant a handful of time...  2018-04-03 23:38:34  \n",
       "175  Love love love this place! So glad we finally ...  2017-04-13 00:03:54  \n",
       "\n",
       "[176 rows x 10 columns]"
      ]
     },
     "execution_count": 154,
     "metadata": {},
     "output_type": "execute_result"
    }
   ],
   "source": [
    "chunk[chunk['business_id'] == 'NRPemqVb4qpWFF0Avq_6OQ']"
   ]
  },
  {
   "cell_type": "code",
   "execution_count": 151,
   "id": "4b7b8f3e-7d5d-4a55-ba86-841c0793f1ce",
   "metadata": {},
   "outputs": [
    {
     "ename": "KeyError",
     "evalue": "\"['review_id', 'user_id', 'useful', 'funny', 'cool'] not found in axis\"",
     "output_type": "error",
     "traceback": [
      "\u001b[1;31m---------------------------------------------------------------------------\u001b[0m",
      "\u001b[1;31mKeyError\u001b[0m                                  Traceback (most recent call last)",
      "\u001b[1;32m~\\AppData\\Local\\Temp\\ipykernel_6764\\3478742799.py\u001b[0m in \u001b[0;36m<cell line: 1>\u001b[1;34m()\u001b[0m\n\u001b[1;32m----> 1\u001b[1;33m \u001b[0mchunk\u001b[0m\u001b[1;33m.\u001b[0m\u001b[0mdrop\u001b[0m\u001b[1;33m(\u001b[0m\u001b[1;33m[\u001b[0m\u001b[1;34m'review_id'\u001b[0m\u001b[1;33m,\u001b[0m\u001b[1;34m'user_id'\u001b[0m\u001b[1;33m,\u001b[0m\u001b[1;34m'useful'\u001b[0m\u001b[1;33m,\u001b[0m\u001b[1;34m'funny'\u001b[0m\u001b[1;33m,\u001b[0m\u001b[1;34m'cool'\u001b[0m\u001b[1;33m]\u001b[0m\u001b[1;33m,\u001b[0m \u001b[0maxis\u001b[0m\u001b[1;33m=\u001b[0m\u001b[1;36m1\u001b[0m\u001b[1;33m)\u001b[0m\u001b[1;33m.\u001b[0m\u001b[0mreset_index\u001b[0m\u001b[1;33m(\u001b[0m\u001b[0mdrop\u001b[0m\u001b[1;33m=\u001b[0m\u001b[1;32mTrue\u001b[0m\u001b[1;33m)\u001b[0m\u001b[1;33m\u001b[0m\u001b[1;33m\u001b[0m\u001b[0m\n\u001b[0m",
      "\u001b[1;32m~\\anaconda3\\lib\\site-packages\\pandas\\util\\_decorators.py\u001b[0m in \u001b[0;36mwrapper\u001b[1;34m(*args, **kwargs)\u001b[0m\n\u001b[0;32m    309\u001b[0m                     \u001b[0mstacklevel\u001b[0m\u001b[1;33m=\u001b[0m\u001b[0mstacklevel\u001b[0m\u001b[1;33m,\u001b[0m\u001b[1;33m\u001b[0m\u001b[1;33m\u001b[0m\u001b[0m\n\u001b[0;32m    310\u001b[0m                 )\n\u001b[1;32m--> 311\u001b[1;33m             \u001b[1;32mreturn\u001b[0m \u001b[0mfunc\u001b[0m\u001b[1;33m(\u001b[0m\u001b[1;33m*\u001b[0m\u001b[0margs\u001b[0m\u001b[1;33m,\u001b[0m \u001b[1;33m**\u001b[0m\u001b[0mkwargs\u001b[0m\u001b[1;33m)\u001b[0m\u001b[1;33m\u001b[0m\u001b[1;33m\u001b[0m\u001b[0m\n\u001b[0m\u001b[0;32m    312\u001b[0m \u001b[1;33m\u001b[0m\u001b[0m\n\u001b[0;32m    313\u001b[0m         \u001b[1;32mreturn\u001b[0m \u001b[0mwrapper\u001b[0m\u001b[1;33m\u001b[0m\u001b[1;33m\u001b[0m\u001b[0m\n",
      "\u001b[1;32m~\\anaconda3\\lib\\site-packages\\pandas\\core\\frame.py\u001b[0m in \u001b[0;36mdrop\u001b[1;34m(self, labels, axis, index, columns, level, inplace, errors)\u001b[0m\n\u001b[0;32m   4946\u001b[0m                 \u001b[0mweight\u001b[0m  \u001b[1;36m1.0\u001b[0m     \u001b[1;36m0.8\u001b[0m\u001b[1;33m\u001b[0m\u001b[1;33m\u001b[0m\u001b[0m\n\u001b[0;32m   4947\u001b[0m         \"\"\"\n\u001b[1;32m-> 4948\u001b[1;33m         return super().drop(\n\u001b[0m\u001b[0;32m   4949\u001b[0m             \u001b[0mlabels\u001b[0m\u001b[1;33m=\u001b[0m\u001b[0mlabels\u001b[0m\u001b[1;33m,\u001b[0m\u001b[1;33m\u001b[0m\u001b[1;33m\u001b[0m\u001b[0m\n\u001b[0;32m   4950\u001b[0m             \u001b[0maxis\u001b[0m\u001b[1;33m=\u001b[0m\u001b[0maxis\u001b[0m\u001b[1;33m,\u001b[0m\u001b[1;33m\u001b[0m\u001b[1;33m\u001b[0m\u001b[0m\n",
      "\u001b[1;32m~\\anaconda3\\lib\\site-packages\\pandas\\core\\generic.py\u001b[0m in \u001b[0;36mdrop\u001b[1;34m(self, labels, axis, index, columns, level, inplace, errors)\u001b[0m\n\u001b[0;32m   4277\u001b[0m         \u001b[1;32mfor\u001b[0m \u001b[0maxis\u001b[0m\u001b[1;33m,\u001b[0m \u001b[0mlabels\u001b[0m \u001b[1;32min\u001b[0m \u001b[0maxes\u001b[0m\u001b[1;33m.\u001b[0m\u001b[0mitems\u001b[0m\u001b[1;33m(\u001b[0m\u001b[1;33m)\u001b[0m\u001b[1;33m:\u001b[0m\u001b[1;33m\u001b[0m\u001b[1;33m\u001b[0m\u001b[0m\n\u001b[0;32m   4278\u001b[0m             \u001b[1;32mif\u001b[0m \u001b[0mlabels\u001b[0m \u001b[1;32mis\u001b[0m \u001b[1;32mnot\u001b[0m \u001b[1;32mNone\u001b[0m\u001b[1;33m:\u001b[0m\u001b[1;33m\u001b[0m\u001b[1;33m\u001b[0m\u001b[0m\n\u001b[1;32m-> 4279\u001b[1;33m                 \u001b[0mobj\u001b[0m \u001b[1;33m=\u001b[0m \u001b[0mobj\u001b[0m\u001b[1;33m.\u001b[0m\u001b[0m_drop_axis\u001b[0m\u001b[1;33m(\u001b[0m\u001b[0mlabels\u001b[0m\u001b[1;33m,\u001b[0m \u001b[0maxis\u001b[0m\u001b[1;33m,\u001b[0m \u001b[0mlevel\u001b[0m\u001b[1;33m=\u001b[0m\u001b[0mlevel\u001b[0m\u001b[1;33m,\u001b[0m \u001b[0merrors\u001b[0m\u001b[1;33m=\u001b[0m\u001b[0merrors\u001b[0m\u001b[1;33m)\u001b[0m\u001b[1;33m\u001b[0m\u001b[1;33m\u001b[0m\u001b[0m\n\u001b[0m\u001b[0;32m   4280\u001b[0m \u001b[1;33m\u001b[0m\u001b[0m\n\u001b[0;32m   4281\u001b[0m         \u001b[1;32mif\u001b[0m \u001b[0minplace\u001b[0m\u001b[1;33m:\u001b[0m\u001b[1;33m\u001b[0m\u001b[1;33m\u001b[0m\u001b[0m\n",
      "\u001b[1;32m~\\anaconda3\\lib\\site-packages\\pandas\\core\\generic.py\u001b[0m in \u001b[0;36m_drop_axis\u001b[1;34m(self, labels, axis, level, errors, consolidate, only_slice)\u001b[0m\n\u001b[0;32m   4321\u001b[0m                 \u001b[0mnew_axis\u001b[0m \u001b[1;33m=\u001b[0m \u001b[0maxis\u001b[0m\u001b[1;33m.\u001b[0m\u001b[0mdrop\u001b[0m\u001b[1;33m(\u001b[0m\u001b[0mlabels\u001b[0m\u001b[1;33m,\u001b[0m \u001b[0mlevel\u001b[0m\u001b[1;33m=\u001b[0m\u001b[0mlevel\u001b[0m\u001b[1;33m,\u001b[0m \u001b[0merrors\u001b[0m\u001b[1;33m=\u001b[0m\u001b[0merrors\u001b[0m\u001b[1;33m)\u001b[0m\u001b[1;33m\u001b[0m\u001b[1;33m\u001b[0m\u001b[0m\n\u001b[0;32m   4322\u001b[0m             \u001b[1;32melse\u001b[0m\u001b[1;33m:\u001b[0m\u001b[1;33m\u001b[0m\u001b[1;33m\u001b[0m\u001b[0m\n\u001b[1;32m-> 4323\u001b[1;33m                 \u001b[0mnew_axis\u001b[0m \u001b[1;33m=\u001b[0m \u001b[0maxis\u001b[0m\u001b[1;33m.\u001b[0m\u001b[0mdrop\u001b[0m\u001b[1;33m(\u001b[0m\u001b[0mlabels\u001b[0m\u001b[1;33m,\u001b[0m \u001b[0merrors\u001b[0m\u001b[1;33m=\u001b[0m\u001b[0merrors\u001b[0m\u001b[1;33m)\u001b[0m\u001b[1;33m\u001b[0m\u001b[1;33m\u001b[0m\u001b[0m\n\u001b[0m\u001b[0;32m   4324\u001b[0m             \u001b[0mindexer\u001b[0m \u001b[1;33m=\u001b[0m \u001b[0maxis\u001b[0m\u001b[1;33m.\u001b[0m\u001b[0mget_indexer\u001b[0m\u001b[1;33m(\u001b[0m\u001b[0mnew_axis\u001b[0m\u001b[1;33m)\u001b[0m\u001b[1;33m\u001b[0m\u001b[1;33m\u001b[0m\u001b[0m\n\u001b[0;32m   4325\u001b[0m \u001b[1;33m\u001b[0m\u001b[0m\n",
      "\u001b[1;32m~\\anaconda3\\lib\\site-packages\\pandas\\core\\indexes\\base.py\u001b[0m in \u001b[0;36mdrop\u001b[1;34m(self, labels, errors)\u001b[0m\n\u001b[0;32m   6642\u001b[0m         \u001b[1;32mif\u001b[0m \u001b[0mmask\u001b[0m\u001b[1;33m.\u001b[0m\u001b[0many\u001b[0m\u001b[1;33m(\u001b[0m\u001b[1;33m)\u001b[0m\u001b[1;33m:\u001b[0m\u001b[1;33m\u001b[0m\u001b[1;33m\u001b[0m\u001b[0m\n\u001b[0;32m   6643\u001b[0m             \u001b[1;32mif\u001b[0m \u001b[0merrors\u001b[0m \u001b[1;33m!=\u001b[0m \u001b[1;34m\"ignore\"\u001b[0m\u001b[1;33m:\u001b[0m\u001b[1;33m\u001b[0m\u001b[1;33m\u001b[0m\u001b[0m\n\u001b[1;32m-> 6644\u001b[1;33m                 \u001b[1;32mraise\u001b[0m \u001b[0mKeyError\u001b[0m\u001b[1;33m(\u001b[0m\u001b[1;34mf\"{list(labels[mask])} not found in axis\"\u001b[0m\u001b[1;33m)\u001b[0m\u001b[1;33m\u001b[0m\u001b[1;33m\u001b[0m\u001b[0m\n\u001b[0m\u001b[0;32m   6645\u001b[0m             \u001b[0mindexer\u001b[0m \u001b[1;33m=\u001b[0m \u001b[0mindexer\u001b[0m\u001b[1;33m[\u001b[0m\u001b[1;33m~\u001b[0m\u001b[0mmask\u001b[0m\u001b[1;33m]\u001b[0m\u001b[1;33m\u001b[0m\u001b[1;33m\u001b[0m\u001b[0m\n\u001b[0;32m   6646\u001b[0m         \u001b[1;32mreturn\u001b[0m \u001b[0mself\u001b[0m\u001b[1;33m.\u001b[0m\u001b[0mdelete\u001b[0m\u001b[1;33m(\u001b[0m\u001b[0mindexer\u001b[0m\u001b[1;33m)\u001b[0m\u001b[1;33m\u001b[0m\u001b[1;33m\u001b[0m\u001b[0m\n",
      "\u001b[1;31mKeyError\u001b[0m: \"['review_id', 'user_id', 'useful', 'funny', 'cool'] not found in axis\""
     ]
    }
   ],
   "source": [
    "chunk.drop(['review_id','user_id','useful','funny','cool'], axis=1).reset_index(drop=True)"
   ]
  },
  {
   "cell_type": "code",
   "execution_count": 106,
   "id": "ba64b433-2eb5-400c-9484-9982b02faf4b",
   "metadata": {},
   "outputs": [],
   "source": [
    "df = pd.concat(chunk_list, ignore_index=True, join='outer', axis=0)\n",
    "df.to_csv(processed_data_directory + 'review_df.csv', index=False)"
   ]
  },
  {
   "cell_type": "code",
   "execution_count": 130,
   "id": "e746b6b5-39dc-4d44-8cdc-68f19312aea5",
   "metadata": {},
   "outputs": [
    {
     "data": {
      "text/plain": [
       "0         395\n",
       "1         395\n",
       "2         395\n",
       "3         395\n",
       "4         395\n",
       "         ... \n",
       "619063     83\n",
       "619064     83\n",
       "619065     83\n",
       "619066     83\n",
       "619067     83\n",
       "Name: review_count, Length: 619068, dtype: int64"
      ]
     },
     "execution_count": 130,
     "metadata": {},
     "output_type": "execute_result"
    }
   ],
   "source": [
    "df['review_count']"
   ]
  },
  {
   "cell_type": "code",
   "execution_count": 131,
   "id": "4c41aed4-9013-4292-9c03-1fe3c441abb3",
   "metadata": {},
   "outputs": [],
   "source": [
    "num_reviews = df.groupby('business_id').size()"
   ]
  },
  {
   "cell_type": "code",
   "execution_count": 135,
   "id": "f4bfee81-d541-40d9-bb28-981e46daa05f",
   "metadata": {
    "tags": []
   },
   "outputs": [
    {
     "data": {
      "text/plain": [
       "business_id\n",
       "5y2zZGIE2a4tuEJ5FhSVrQ    10408\n",
       "dtype: int64"
      ]
     },
     "execution_count": 135,
     "metadata": {},
     "output_type": "execute_result"
    }
   ],
   "source": [
    "num_reviews[num_reviews==max(num_reviews)]"
   ]
  },
  {
   "cell_type": "code",
   "execution_count": 193,
   "id": "c2003776-b94a-4521-b2b1-fab212dffbbf",
   "metadata": {},
   "outputs": [],
   "source": [
    "aa = df[df['business_id']=='5y2zZGIE2a4tuEJ5FhSVrQ']['text']"
   ]
  },
  {
   "cell_type": "code",
   "execution_count": 195,
   "id": "f0539ec5-425e-4793-bf79-6a1f7efc61a0",
   "metadata": {},
   "outputs": [
    {
     "data": {
      "text/plain": [
       "284843    HUGE\n",
       "284962       .\n",
       "285779    HUGE\n",
       "285898       .\n",
       "286715    HUGE\n",
       "286834       .\n",
       "287651    HUGE\n",
       "287770       .\n",
       "288587    HUGE\n",
       "288706       .\n",
       "289523    HUGE\n",
       "289642       .\n",
       "290459    HUGE\n",
       "290578       .\n",
       "291395    HUGE\n",
       "291514       .\n",
       "Name: text, dtype: object"
      ]
     },
     "execution_count": 195,
     "metadata": {},
     "output_type": "execute_result"
    }
   ],
   "source": [
    "aa[aa.str.len() < 5]"
   ]
  },
  {
   "cell_type": "code",
   "execution_count": null,
   "id": "6bf7ed28-c7c2-4a6c-bd49-4765ca2c3cae",
   "metadata": {},
   "outputs": [],
   "source": []
  },
  {
   "cell_type": "code",
   "execution_count": null,
   "id": "e532ecf7-b8e8-468b-b736-da22890f889b",
   "metadata": {},
   "outputs": [],
   "source": []
  },
  {
   "cell_type": "code",
   "execution_count": 126,
   "id": "e471a2ba-7e25-4607-8193-b711efd13c7e",
   "metadata": {},
   "outputs": [
    {
     "data": {
      "text/plain": [
       "business_id\n",
       "2QbBG82KI0wV20TiyfphSA    5\n",
       "4qhWTv-dNzCLPTHUCiL-mQ    5\n",
       "8FWYHzy-ibeJ1mwaw560Vg    5\n",
       "CtEGObFKWrjoCw5yh3Nj5w    5\n",
       "EHJme7HnwXdQsmcR2FpevQ    5\n",
       "FXs03HmN_vW8axbAB7lG1w    5\n",
       "Fqk6LWmLVGMAoivmBDLMKg    5\n",
       "Ft7L5iVsfhQMH25QZNl-Wg    5\n",
       "Iww97pPi00RAilMNSap_qw    5\n",
       "Klx35uo2nXmlbVg9WV8sfA    5\n",
       "L8GVB38wwTl8edp7cJ_s3w    5\n",
       "OKBeFwn2YJykaST3t9uR7A    5\n",
       "PWlCzun4rtaBaY7mEHHQOg    5\n",
       "PwnclsrDATTtyhYzYhOvOA    5\n",
       "SKHrI_J_39UNRw2p5HPZ7A    5\n",
       "TXa6-EBkQahlEUSVQUySPg    5\n",
       "TxyUInLFr5Z1ubTOCYysHQ    5\n",
       "VQ_iFiWpIHlxuXPJT-MApQ    5\n",
       "Vx3F_LgMWgy0zOffLxAiEg    5\n",
       "Xuyhiot1YNPmb6iFbdbbng    5\n",
       "YmR7IFpYinUqbIfKEzjZGQ    5\n",
       "_UssSPp_h9xbT5JhulzV9A    5\n",
       "a1sdhCOIfwMMWhSMiRwsGQ    5\n",
       "dFRLf3DYJyUrPMMnT7NEZw    5\n",
       "eQ4JaVlVxmJc647OQHC_kQ    5\n",
       "idDWnLLohZCl7bVEkBI9Xw    5\n",
       "qK3n6bsaYXSyY3bbzeC6hg    5\n",
       "tqHZ-qFUH34Juvw_IQqWvA    5\n",
       "vwyGvxZsMHwsHbTv_bc_WA    5\n",
       "wNFHDbCd1kvN-dRFksVAfw    5\n",
       "ySjteVMazjUzfov9czGLYQ    5\n",
       "dtype: int64"
      ]
     },
     "execution_count": 126,
     "metadata": {},
     "output_type": "execute_result"
    }
   ],
   "source": [
    "num_reviews[num_reviews == 5]"
   ]
  },
  {
   "cell_type": "code",
   "execution_count": 123,
   "id": "7a20fb35-67bf-4749-9c29-fe66b0f794eb",
   "metadata": {},
   "outputs": [
    {
     "data": {
      "text/plain": [
       "10408"
      ]
     },
     "execution_count": 123,
     "metadata": {},
     "output_type": "execute_result"
    }
   ],
   "source": [
    "max(num_reviews)"
   ]
  },
  {
   "cell_type": "code",
   "execution_count": 120,
   "id": "64200025-f8e3-46a9-b62c-8e53273ee75e",
   "metadata": {},
   "outputs": [
    {
     "data": {
      "image/png": "[encoded data removed]",
      "text/plain": [
       "<Figure size 432x288 with 1 Axes>"
      ]
     },
     "metadata": {
      "needs_background": "light"
     },
     "output_type": "display_data"
    }
   ],
   "source": [
    "plt.hist(num_reviews)\n",
    "plt.yscale('log')"
   ]
  },
  {
   "cell_type": "code",
   "execution_count": 105,
   "id": "96a2fac1-4557-41ea-b872-b940cb71895c",
   "metadata": {},
   "outputs": [
    {
     "data": {
      "text/plain": [
       "2506"
      ]
     },
     "execution_count": 105,
     "metadata": {},
     "output_type": "execute_result"
    }
   ],
   "source": [
    "len(business_df.business_id.unique())"
   ]
  },
  {
   "cell_type": "code",
   "execution_count": 104,
   "id": "480f62f2-33e1-4ea7-90ce-60468a05e2d7",
   "metadata": {},
   "outputs": [
    {
     "data": {
      "text/plain": [
       "2506"
      ]
     },
     "execution_count": 104,
     "metadata": {},
     "output_type": "execute_result"
    }
   ],
   "source": [
    "len(df.business_id.unique())"
   ]
  },
  {
   "cell_type": "code",
   "execution_count": null,
   "id": "ee763e92-d79c-484e-9e6a-84d201345a3b",
   "metadata": {},
   "outputs": [],
   "source": [
    "# Renaming column name to avoid conflict with business overall star rating\n",
    "chunk_review = chunk_review.rename(columns={'stars': 'review_stars'})\n",
    "# Inner merge with edited business file so only reviews related to the business remain\n",
    "chunk_merged = pd.merge(business_RV, chunk_review, on='business_id', how='inner')\n",
    "# Show feedback on progress\n",
    "print(f\"{chunk_merged.shape[0]} out of {size:,} related reviews\")\n",
    "chunk_list.append(chunk_merged)"
   ]
  },
  {
   "cell_type": "code",
   "execution_count": null,
   "id": "641bd228-ade7-4233-997b-85e8de914d6b",
   "metadata": {},
   "outputs": [],
   "source": [
    "chunk_list = []\n",
    "for chunk in json_reader:\n",
    "    # Drop columns that aren't needed\n",
    "    chunk = chunk.drop(['review_id','user_id','useful','funny','cool'], axis=1)\n",
    "    # Renaming column name to avoid conflict with business overall star rating\n",
    "    chunk_review = chunk_review.rename(columns={'stars': 'review_stars'})\n",
    "    # Inner merge with edited business file so only reviews related to the business remain\n",
    "    chunk_merged = pd.merge(business_RV, chunk_review, on='business_id', how='inner')\n",
    "    # Show feedback on progress\n",
    "    print(f\"{chunk_merged.shape[0]} out of {size:,} related reviews\")\n",
    "    chunk_list.append(chunk_merged)\n",
    "# After trimming down the review file, concatenate all relevant data back to one dataframe\n",
    "df = pd.concat(chunk_list, ignore_index=True, join='outer', axis=0)"
   ]
  },
  {
   "cell_type": "code",
   "execution_count": 143,
   "id": "e311c820-36da-4147-ab7a-ab68c22b3483",
   "metadata": {},
   "outputs": [],
   "source": [
    "path = yelp_data_directory + 'yelp_academic_dataset_business.json'\n",
    "df_r = pd.read_json(path, lines=True)"
   ]
  },
  {
   "cell_type": "code",
   "execution_count": 144,
   "id": "a4dace61-6c68-4ec0-91d8-05bb36d94729",
   "metadata": {},
   "outputs": [
    {
     "data": {
      "text/html": [
       "<div>\n",
       "<style scoped>\n",
       "    .dataframe tbody tr th:only-of-type {\n",
       "        vertical-align: middle;\n",
       "    }\n",
       "\n",
       "    .dataframe tbody tr th {\n",
       "        vertical-align: top;\n",
       "    }\n",
       "\n",
       "    .dataframe thead th {\n",
       "        text-align: right;\n",
       "    }\n",
       "</style>\n",
       "<table border=\"1\" class=\"dataframe\">\n",
       "  <thead>\n",
       "    <tr style=\"text-align: right;\">\n",
       "      <th></th>\n",
       "      <th>business_id</th>\n",
       "      <th>name</th>\n",
       "      <th>address</th>\n",
       "      <th>city</th>\n",
       "      <th>state</th>\n",
       "      <th>postal_code</th>\n",
       "      <th>latitude</th>\n",
       "      <th>longitude</th>\n",
       "      <th>stars</th>\n",
       "      <th>review_count</th>\n",
       "      <th>is_open</th>\n",
       "      <th>attributes</th>\n",
       "      <th>categories</th>\n",
       "      <th>hours</th>\n",
       "    </tr>\n",
       "  </thead>\n",
       "  <tbody>\n",
       "    <tr>\n",
       "      <th>0</th>\n",
       "      <td>6iYb2HFDywm3zjuRg0shjw</td>\n",
       "      <td>Oskar Blues Taproom</td>\n",
       "      <td>921 Pearl St</td>\n",
       "      <td>Boulder</td>\n",
       "      <td>CO</td>\n",
       "      <td>80302</td>\n",
       "      <td>40.017544</td>\n",
       "      <td>-105.283348</td>\n",
       "      <td>4.0</td>\n",
       "      <td>86</td>\n",
       "      <td>1</td>\n",
       "      <td>{'RestaurantsTableService': 'True', 'WiFi': 'u...</td>\n",
       "      <td>Gastropubs, Food, Beer Gardens, Restaurants, B...</td>\n",
       "      <td>{'Monday': '11:0-23:0', 'Tuesday': '11:0-23:0'...</td>\n",
       "    </tr>\n",
       "    <tr>\n",
       "      <th>1</th>\n",
       "      <td>tCbdrRPZA0oiIYSmHG3J0w</td>\n",
       "      <td>Flying Elephants at PDX</td>\n",
       "      <td>7000 NE Airport Way</td>\n",
       "      <td>Portland</td>\n",
       "      <td>OR</td>\n",
       "      <td>97218</td>\n",
       "      <td>45.588906</td>\n",
       "      <td>-122.593331</td>\n",
       "      <td>4.0</td>\n",
       "      <td>126</td>\n",
       "      <td>1</td>\n",
       "      <td>{'RestaurantsTakeOut': 'True', 'RestaurantsAtt...</td>\n",
       "      <td>Salad, Soup, Sandwiches, Delis, Restaurants, C...</td>\n",
       "      <td>{'Monday': '5:0-18:0', 'Tuesday': '5:0-17:0', ...</td>\n",
       "    </tr>\n",
       "    <tr>\n",
       "      <th>2</th>\n",
       "      <td>bvN78flM8NLprQ1a1y5dRg</td>\n",
       "      <td>The Reclaimory</td>\n",
       "      <td>4720 Hawthorne Ave</td>\n",
       "      <td>Portland</td>\n",
       "      <td>OR</td>\n",
       "      <td>97214</td>\n",
       "      <td>45.511907</td>\n",
       "      <td>-122.613693</td>\n",
       "      <td>4.5</td>\n",
       "      <td>13</td>\n",
       "      <td>1</td>\n",
       "      <td>{'BusinessAcceptsCreditCards': 'True', 'Restau...</td>\n",
       "      <td>Antiques, Fashion, Used, Vintage &amp; Consignment...</td>\n",
       "      <td>{'Thursday': '11:0-18:0', 'Friday': '11:0-18:0...</td>\n",
       "    </tr>\n",
       "    <tr>\n",
       "      <th>3</th>\n",
       "      <td>oaepsyvc0J17qwi8cfrOWg</td>\n",
       "      <td>Great Clips</td>\n",
       "      <td>2566 Enterprise Rd</td>\n",
       "      <td>Orange City</td>\n",
       "      <td>FL</td>\n",
       "      <td>32763</td>\n",
       "      <td>28.914482</td>\n",
       "      <td>-81.295979</td>\n",
       "      <td>3.0</td>\n",
       "      <td>8</td>\n",
       "      <td>1</td>\n",
       "      <td>{'RestaurantsPriceRange2': '1', 'BusinessAccep...</td>\n",
       "      <td>Beauty &amp; Spas, Hair Salons</td>\n",
       "      <td>None</td>\n",
       "    </tr>\n",
       "    <tr>\n",
       "      <th>4</th>\n",
       "      <td>PE9uqAjdw0E4-8mjGl3wVA</td>\n",
       "      <td>Crossfit Terminus</td>\n",
       "      <td>1046 Memorial Dr SE</td>\n",
       "      <td>Atlanta</td>\n",
       "      <td>GA</td>\n",
       "      <td>30316</td>\n",
       "      <td>33.747027</td>\n",
       "      <td>-84.353424</td>\n",
       "      <td>4.0</td>\n",
       "      <td>14</td>\n",
       "      <td>1</td>\n",
       "      <td>{'GoodForKids': 'False', 'BusinessParking': '{...</td>\n",
       "      <td>Gyms, Active Life, Interval Training Gyms, Fit...</td>\n",
       "      <td>{'Monday': '16:0-19:0', 'Tuesday': '16:0-19:0'...</td>\n",
       "    </tr>\n",
       "    <tr>\n",
       "      <th>...</th>\n",
       "      <td>...</td>\n",
       "      <td>...</td>\n",
       "      <td>...</td>\n",
       "      <td>...</td>\n",
       "      <td>...</td>\n",
       "      <td>...</td>\n",
       "      <td>...</td>\n",
       "      <td>...</td>\n",
       "      <td>...</td>\n",
       "      <td>...</td>\n",
       "      <td>...</td>\n",
       "      <td>...</td>\n",
       "      <td>...</td>\n",
       "      <td>...</td>\n",
       "    </tr>\n",
       "    <tr>\n",
       "      <th>160580</th>\n",
       "      <td>D2mHoIDXx9N8mS1pGoKV9Q</td>\n",
       "      <td>Eleven Oaks Realty</td>\n",
       "      <td></td>\n",
       "      <td>Austin</td>\n",
       "      <td>TX</td>\n",
       "      <td>78701</td>\n",
       "      <td>30.272921</td>\n",
       "      <td>-97.744386</td>\n",
       "      <td>4.0</td>\n",
       "      <td>8</td>\n",
       "      <td>1</td>\n",
       "      <td>None</td>\n",
       "      <td>Real Estate, Real Estate Services, Home Servic...</td>\n",
       "      <td>{'Monday': '9:0-19:0', 'Tuesday': '9:0-19:0', ...</td>\n",
       "    </tr>\n",
       "    <tr>\n",
       "      <th>160581</th>\n",
       "      <td>bQX-kwVTyZgcdZGEPzce6Q</td>\n",
       "      <td>Webb's Honey</td>\n",
       "      <td>21777 State Rd 520</td>\n",
       "      <td>Orlando</td>\n",
       "      <td>FL</td>\n",
       "      <td>32833</td>\n",
       "      <td>28.499836</td>\n",
       "      <td>-81.047478</td>\n",
       "      <td>4.5</td>\n",
       "      <td>18</td>\n",
       "      <td>1</td>\n",
       "      <td>{'RestaurantsTakeOut': 'True', 'RestaurantsPri...</td>\n",
       "      <td>Health Markets, Food, Specialty Food, Grocery</td>\n",
       "      <td>{'Monday': '10:0-18:0', 'Tuesday': '10:0-18:0'...</td>\n",
       "    </tr>\n",
       "    <tr>\n",
       "      <th>160582</th>\n",
       "      <td>wvFZ06nmPmQ2-IVoPqVYLA</td>\n",
       "      <td>Painting with a Twist</td>\n",
       "      <td>2164 S Chickasaw Trl</td>\n",
       "      <td>Orlando</td>\n",
       "      <td>FL</td>\n",
       "      <td>32825</td>\n",
       "      <td>28.511615</td>\n",
       "      <td>-81.270020</td>\n",
       "      <td>5.0</td>\n",
       "      <td>8</td>\n",
       "      <td>0</td>\n",
       "      <td>{'DogsAllowed': 'False', 'ByAppointmentOnly': ...</td>\n",
       "      <td>Arts &amp; Entertainment, Paint &amp; Sip, Art Classes...</td>\n",
       "      <td>{'Monday': '0:0-0:0', 'Wednesday': '12:0-17:0'...</td>\n",
       "    </tr>\n",
       "    <tr>\n",
       "      <th>160583</th>\n",
       "      <td>GB75wPibj3IjNauaoCxyGA</td>\n",
       "      <td>Havana Cafe</td>\n",
       "      <td>910 NW 14th St</td>\n",
       "      <td>Portland</td>\n",
       "      <td>OR</td>\n",
       "      <td>97209</td>\n",
       "      <td>45.529647</td>\n",
       "      <td>-122.685153</td>\n",
       "      <td>4.0</td>\n",
       "      <td>10</td>\n",
       "      <td>1</td>\n",
       "      <td>{'RestaurantsTakeOut': 'True', 'RestaurantsDel...</td>\n",
       "      <td>Cuban, Sandwiches, Restaurants, Cafes</td>\n",
       "      <td>None</td>\n",
       "    </tr>\n",
       "    <tr>\n",
       "      <th>160584</th>\n",
       "      <td>ngmLL5Y5OT-bYHKU0kKrYA</td>\n",
       "      <td>Zora Grille</td>\n",
       "      <td>1370 E Altamonte Dr</td>\n",
       "      <td>Altamonte Springs</td>\n",
       "      <td>FL</td>\n",
       "      <td>32701</td>\n",
       "      <td>28.663047</td>\n",
       "      <td>-81.346728</td>\n",
       "      <td>4.5</td>\n",
       "      <td>82</td>\n",
       "      <td>0</td>\n",
       "      <td>{'RestaurantsReservations': 'True', 'OutdoorSe...</td>\n",
       "      <td>Restaurants, Middle Eastern, Mediterranean, Pe...</td>\n",
       "      <td>{'Tuesday': '17:0-21:0', 'Wednesday': '17:0-21...</td>\n",
       "    </tr>\n",
       "  </tbody>\n",
       "</table>\n",
       "<p>160585 rows × 14 columns</p>\n",
       "</div>"
      ],
      "text/plain": [
       "                   business_id                     name               address  \\\n",
       "0       6iYb2HFDywm3zjuRg0shjw      Oskar Blues Taproom          921 Pearl St   \n",
       "1       tCbdrRPZA0oiIYSmHG3J0w  Flying Elephants at PDX   7000 NE Airport Way   \n",
       "2       bvN78flM8NLprQ1a1y5dRg           The Reclaimory    4720 Hawthorne Ave   \n",
       "3       oaepsyvc0J17qwi8cfrOWg              Great Clips    2566 Enterprise Rd   \n",
       "4       PE9uqAjdw0E4-8mjGl3wVA        Crossfit Terminus   1046 Memorial Dr SE   \n",
       "...                        ...                      ...                   ...   \n",
       "160580  D2mHoIDXx9N8mS1pGoKV9Q       Eleven Oaks Realty                         \n",
       "160581  bQX-kwVTyZgcdZGEPzce6Q             Webb's Honey    21777 State Rd 520   \n",
       "160582  wvFZ06nmPmQ2-IVoPqVYLA    Painting with a Twist  2164 S Chickasaw Trl   \n",
       "160583  GB75wPibj3IjNauaoCxyGA              Havana Cafe        910 NW 14th St   \n",
       "160584  ngmLL5Y5OT-bYHKU0kKrYA              Zora Grille   1370 E Altamonte Dr   \n",
       "\n",
       "                     city state postal_code   latitude   longitude  stars  \\\n",
       "0                 Boulder    CO       80302  40.017544 -105.283348    4.0   \n",
       "1                Portland    OR       97218  45.588906 -122.593331    4.0   \n",
       "2                Portland    OR       97214  45.511907 -122.613693    4.5   \n",
       "3             Orange City    FL       32763  28.914482  -81.295979    3.0   \n",
       "4                 Atlanta    GA       30316  33.747027  -84.353424    4.0   \n",
       "...                   ...   ...         ...        ...         ...    ...   \n",
       "160580             Austin    TX       78701  30.272921  -97.744386    4.0   \n",
       "160581            Orlando    FL       32833  28.499836  -81.047478    4.5   \n",
       "160582            Orlando    FL       32825  28.511615  -81.270020    5.0   \n",
       "160583           Portland    OR       97209  45.529647 -122.685153    4.0   \n",
       "160584  Altamonte Springs    FL       32701  28.663047  -81.346728    4.5   \n",
       "\n",
       "        review_count  is_open  \\\n",
       "0                 86        1   \n",
       "1                126        1   \n",
       "2                 13        1   \n",
       "3                  8        1   \n",
       "4                 14        1   \n",
       "...              ...      ...   \n",
       "160580             8        1   \n",
       "160581            18        1   \n",
       "160582             8        0   \n",
       "160583            10        1   \n",
       "160584            82        0   \n",
       "\n",
       "                                               attributes  \\\n",
       "0       {'RestaurantsTableService': 'True', 'WiFi': 'u...   \n",
       "1       {'RestaurantsTakeOut': 'True', 'RestaurantsAtt...   \n",
       "2       {'BusinessAcceptsCreditCards': 'True', 'Restau...   \n",
       "3       {'RestaurantsPriceRange2': '1', 'BusinessAccep...   \n",
       "4       {'GoodForKids': 'False', 'BusinessParking': '{...   \n",
       "...                                                   ...   \n",
       "160580                                               None   \n",
       "160581  {'RestaurantsTakeOut': 'True', 'RestaurantsPri...   \n",
       "160582  {'DogsAllowed': 'False', 'ByAppointmentOnly': ...   \n",
       "160583  {'RestaurantsTakeOut': 'True', 'RestaurantsDel...   \n",
       "160584  {'RestaurantsReservations': 'True', 'OutdoorSe...   \n",
       "\n",
       "                                               categories  \\\n",
       "0       Gastropubs, Food, Beer Gardens, Restaurants, B...   \n",
       "1       Salad, Soup, Sandwiches, Delis, Restaurants, C...   \n",
       "2       Antiques, Fashion, Used, Vintage & Consignment...   \n",
       "3                              Beauty & Spas, Hair Salons   \n",
       "4       Gyms, Active Life, Interval Training Gyms, Fit...   \n",
       "...                                                   ...   \n",
       "160580  Real Estate, Real Estate Services, Home Servic...   \n",
       "160581      Health Markets, Food, Specialty Food, Grocery   \n",
       "160582  Arts & Entertainment, Paint & Sip, Art Classes...   \n",
       "160583              Cuban, Sandwiches, Restaurants, Cafes   \n",
       "160584  Restaurants, Middle Eastern, Mediterranean, Pe...   \n",
       "\n",
       "                                                    hours  \n",
       "0       {'Monday': '11:0-23:0', 'Tuesday': '11:0-23:0'...  \n",
       "1       {'Monday': '5:0-18:0', 'Tuesday': '5:0-17:0', ...  \n",
       "2       {'Thursday': '11:0-18:0', 'Friday': '11:0-18:0...  \n",
       "3                                                    None  \n",
       "4       {'Monday': '16:0-19:0', 'Tuesday': '16:0-19:0'...  \n",
       "...                                                   ...  \n",
       "160580  {'Monday': '9:0-19:0', 'Tuesday': '9:0-19:0', ...  \n",
       "160581  {'Monday': '10:0-18:0', 'Tuesday': '10:0-18:0'...  \n",
       "160582  {'Monday': '0:0-0:0', 'Wednesday': '12:0-17:0'...  \n",
       "160583                                               None  \n",
       "160584  {'Tuesday': '17:0-21:0', 'Wednesday': '17:0-21...  \n",
       "\n",
       "[160585 rows x 14 columns]"
      ]
     },
     "execution_count": 144,
     "metadata": {},
     "output_type": "execute_result"
    }
   ],
   "source": [
    "df_r"
   ]
  },
  {
   "cell_type": "code",
   "execution_count": null,
   "id": "7955c708-3e9d-4f72-9138-5452a88d38ea",
   "metadata": {},
   "outputs": [],
   "source": [
    "austin_businesses = df_b[(df_b.city == 'Austin') & (~df_b.categories.isna())]\n",
    "austin_restaurants = austin_businesses[austin_businesses.categories.str.contains('Restaurants|Food')].reset_index(drop=True)\n",
    "austin_restaurants[austin_restaurants.name.str.contains('Hunan')]"
   ]
  },
  {
   "cell_type": "markdown",
   "id": "ac0d5833-c69f-4692-85aa-05ba9afbac09",
   "metadata": {
    "jp-MarkdownHeadingCollapsed": true,
    "tags": [],
    "toc-hr-collapsed": true
   },
   "source": [
    "# old junk"
   ]
  },
  {
   "cell_type": "markdown",
   "id": "d72f9725-56ed-4d65-8474-23eb9dea3705",
   "metadata": {
    "jp-MarkdownHeadingCollapsed": true,
    "tags": []
   },
   "source": [
    "## determining which city to choose"
   ]
  },
  {
   "cell_type": "markdown",
   "id": "ef7e3221-0552-48b3-b588-a5a8eae38f95",
   "metadata": {
    "jp-MarkdownHeadingCollapsed": true,
    "tags": []
   },
   "source": [
    "### live dataset from yelp"
   ]
  },
  {
   "cell_type": "code",
   "execution_count": 48,
   "id": "9a017d97-ae7c-495c-9778-d2aa42a31fc7",
   "metadata": {},
   "outputs": [],
   "source": [
    "data_directory = r'C:\\Users\\ASUS\\Desktop\\ML-data science\\DataIncubator\\yelp-cleaners\\yelp_dataset' + '\\\\'\n",
    "path = data_directory + 'yelp_academic_dataset_business.json'\n",
    "df_b = pd.read_json(path, lines=True)"
   ]
  },
  {
   "cell_type": "code",
   "execution_count": 49,
   "id": "cc76de92-7952-4c42-90c0-8e03b453a456",
   "metadata": {},
   "outputs": [
    {
     "data": {
      "text/plain": [
       "Index(['business_id', 'name', 'address', 'city', 'state', 'postal_code',\n",
       "       'latitude', 'longitude', 'stars', 'review_count', 'is_open',\n",
       "       'attributes', 'categories', 'hours'],\n",
       "      dtype='object')"
      ]
     },
     "execution_count": 49,
     "metadata": {},
     "output_type": "execute_result"
    }
   ],
   "source": [
    "df_b.columns"
   ]
  },
  {
   "cell_type": "code",
   "execution_count": 68,
   "id": "f1b33180-92bd-40da-b468-0fcdf85c7c4b",
   "metadata": {},
   "outputs": [],
   "source": [
    "df = df_b.dropna()"
   ]
  },
  {
   "cell_type": "code",
   "execution_count": 74,
   "id": "28e99c8b-a837-4767-b4bc-568ae0751f93",
   "metadata": {},
   "outputs": [
    {
     "data": {
      "text/html": [
       "<div>\n",
       "<style scoped>\n",
       "    .dataframe tbody tr th:only-of-type {\n",
       "        vertical-align: middle;\n",
       "    }\n",
       "\n",
       "    .dataframe tbody tr th {\n",
       "        vertical-align: top;\n",
       "    }\n",
       "\n",
       "    .dataframe thead th {\n",
       "        text-align: right;\n",
       "    }\n",
       "</style>\n",
       "<table border=\"1\" class=\"dataframe\">\n",
       "  <thead>\n",
       "    <tr style=\"text-align: right;\">\n",
       "      <th></th>\n",
       "      <th>business_id</th>\n",
       "      <th>name</th>\n",
       "      <th>address</th>\n",
       "      <th>city</th>\n",
       "      <th>state</th>\n",
       "      <th>postal_code</th>\n",
       "      <th>latitude</th>\n",
       "      <th>longitude</th>\n",
       "      <th>stars</th>\n",
       "      <th>review_count</th>\n",
       "      <th>is_open</th>\n",
       "      <th>attributes</th>\n",
       "      <th>categories</th>\n",
       "      <th>hours</th>\n",
       "    </tr>\n",
       "  </thead>\n",
       "  <tbody>\n",
       "  </tbody>\n",
       "</table>\n",
       "</div>"
      ],
      "text/plain": [
       "Empty DataFrame\n",
       "Columns: [business_id, name, address, city, state, postal_code, latitude, longitude, stars, review_count, is_open, attributes, categories, hours]\n",
       "Index: []"
      ]
     },
     "execution_count": 74,
     "metadata": {},
     "output_type": "execute_result"
    }
   ],
   "source": [
    "df[df.dropna().categories.str.contains('Food|Restaurant') & df.city == 'Santa Barbara']"
   ]
  },
  {
   "cell_type": "code",
   "execution_count": 79,
   "id": "0d65af17-b8ac-4328-ad3c-7e4374358b6f",
   "metadata": {},
   "outputs": [
    {
     "name": "stderr",
     "output_type": "stream",
     "text": [
      "C:\\Users\\ASUS\\AppData\\Local\\Temp\\ipykernel_17616\\1665998319.py:1: UserWarning: Boolean Series key will be reindexed to match DataFrame index.\n",
      "  df[df['city']=='Santa Barbara'][df.dropna().categories.str.contains('Restaurant')]\n"
     ]
    },
    {
     "data": {
      "text/html": [
       "<div>\n",
       "<style scoped>\n",
       "    .dataframe tbody tr th:only-of-type {\n",
       "        vertical-align: middle;\n",
       "    }\n",
       "\n",
       "    .dataframe tbody tr th {\n",
       "        vertical-align: top;\n",
       "    }\n",
       "\n",
       "    .dataframe thead th {\n",
       "        text-align: right;\n",
       "    }\n",
       "</style>\n",
       "<table border=\"1\" class=\"dataframe\">\n",
       "  <thead>\n",
       "    <tr style=\"text-align: right;\">\n",
       "      <th></th>\n",
       "      <th>business_id</th>\n",
       "      <th>name</th>\n",
       "      <th>address</th>\n",
       "      <th>city</th>\n",
       "      <th>state</th>\n",
       "      <th>postal_code</th>\n",
       "      <th>latitude</th>\n",
       "      <th>longitude</th>\n",
       "      <th>stars</th>\n",
       "      <th>review_count</th>\n",
       "      <th>is_open</th>\n",
       "      <th>attributes</th>\n",
       "      <th>categories</th>\n",
       "      <th>hours</th>\n",
       "    </tr>\n",
       "  </thead>\n",
       "  <tbody>\n",
       "    <tr>\n",
       "      <th>85</th>\n",
       "      <td>IDtLPgUrqorrpqSLdfMhZQ</td>\n",
       "      <td>Helena Avenue Bakery</td>\n",
       "      <td>131 Anacapa St, Ste C</td>\n",
       "      <td>Santa Barbara</td>\n",
       "      <td>CA</td>\n",
       "      <td>93101</td>\n",
       "      <td>34.414445</td>\n",
       "      <td>-119.690672</td>\n",
       "      <td>4.0</td>\n",
       "      <td>389</td>\n",
       "      <td>1</td>\n",
       "      <td>{'RestaurantsTakeOut': 'True', 'NoiseLevel': '...</td>\n",
       "      <td>Food, Restaurants, Salad, Coffee &amp; Tea, Breakf...</td>\n",
       "      <td>{'Monday': '0:0-0:0', 'Tuesday': '8:0-14:0', '...</td>\n",
       "    </tr>\n",
       "    <tr>\n",
       "      <th>141</th>\n",
       "      <td>SZU9c8V2GuREDN5KgyHFJw</td>\n",
       "      <td>Santa Barbara Shellfish Company</td>\n",
       "      <td>230 Stearns Wharf</td>\n",
       "      <td>Santa Barbara</td>\n",
       "      <td>CA</td>\n",
       "      <td>93101</td>\n",
       "      <td>34.408715</td>\n",
       "      <td>-119.685019</td>\n",
       "      <td>4.0</td>\n",
       "      <td>2404</td>\n",
       "      <td>1</td>\n",
       "      <td>{'OutdoorSeating': 'True', 'RestaurantsAttire'...</td>\n",
       "      <td>Live/Raw Food, Restaurants, Seafood, Beer Bar,...</td>\n",
       "      <td>{'Monday': '0:0-0:0', 'Tuesday': '11:0-21:0', ...</td>\n",
       "    </tr>\n",
       "    <tr>\n",
       "      <th>431</th>\n",
       "      <td>ifjluUv4VASwmFqEp8cWlQ</td>\n",
       "      <td>Marty's Pizza</td>\n",
       "      <td>2733 De La Vina St</td>\n",
       "      <td>Santa Barbara</td>\n",
       "      <td>CA</td>\n",
       "      <td>93105</td>\n",
       "      <td>34.436236</td>\n",
       "      <td>-119.726147</td>\n",
       "      <td>4.0</td>\n",
       "      <td>64</td>\n",
       "      <td>1</td>\n",
       "      <td>{'Alcohol': 'u'none'', 'BusinessAcceptsCreditC...</td>\n",
       "      <td>Pizza, Restaurants</td>\n",
       "      <td>{'Tuesday': '11:0-21:30', 'Wednesday': '11:0-2...</td>\n",
       "    </tr>\n",
       "    <tr>\n",
       "      <th>1320</th>\n",
       "      <td>UFpCraqzFBAhtZqmxmiWsA</td>\n",
       "      <td>Cat Therapy</td>\n",
       "      <td>1213 State St, Ste L</td>\n",
       "      <td>Santa Barbara</td>\n",
       "      <td>CA</td>\n",
       "      <td>93101</td>\n",
       "      <td>34.423302</td>\n",
       "      <td>-119.705471</td>\n",
       "      <td>4.5</td>\n",
       "      <td>116</td>\n",
       "      <td>1</td>\n",
       "      <td>{'WheelchairAccessible': 'True', 'WiFi': 'u'fr...</td>\n",
       "      <td>Themed Cafes, Cafes, Pets, Arts &amp; Entertainmen...</td>\n",
       "      <td>{'Monday': '10:0-17:15', 'Wednesday': '10:0-19...</td>\n",
       "    </tr>\n",
       "    <tr>\n",
       "      <th>1417</th>\n",
       "      <td>Hqz96v1ymucUKNzIWfEKXw</td>\n",
       "      <td>Subway</td>\n",
       "      <td>1936 State St, Ste B</td>\n",
       "      <td>Santa Barbara</td>\n",
       "      <td>CA</td>\n",
       "      <td>93101</td>\n",
       "      <td>34.430822</td>\n",
       "      <td>-119.714156</td>\n",
       "      <td>3.0</td>\n",
       "      <td>5</td>\n",
       "      <td>0</td>\n",
       "      <td>{'Alcohol': 'u'none'', 'Caters': 'True', 'Bike...</td>\n",
       "      <td>Restaurants, Delis, Sandwiches, Fast Food</td>\n",
       "      <td>{'Monday': '8:0-22:0', 'Tuesday': '8:0-22:0', ...</td>\n",
       "    </tr>\n",
       "    <tr>\n",
       "      <th>...</th>\n",
       "      <td>...</td>\n",
       "      <td>...</td>\n",
       "      <td>...</td>\n",
       "      <td>...</td>\n",
       "      <td>...</td>\n",
       "      <td>...</td>\n",
       "      <td>...</td>\n",
       "      <td>...</td>\n",
       "      <td>...</td>\n",
       "      <td>...</td>\n",
       "      <td>...</td>\n",
       "      <td>...</td>\n",
       "      <td>...</td>\n",
       "      <td>...</td>\n",
       "    </tr>\n",
       "    <tr>\n",
       "      <th>149317</th>\n",
       "      <td>HrnSaz2f1WUEoAQQ6iD6gw</td>\n",
       "      <td>Lemon Tree Inn</td>\n",
       "      <td>2819 State St</td>\n",
       "      <td>Santa Barbara</td>\n",
       "      <td>CA</td>\n",
       "      <td>93105</td>\n",
       "      <td>34.438226</td>\n",
       "      <td>-119.725035</td>\n",
       "      <td>2.5</td>\n",
       "      <td>270</td>\n",
       "      <td>1</td>\n",
       "      <td>{'RestaurantsTakeOut': 'True', 'BusinessParkin...</td>\n",
       "      <td>Restaurants, Nightlife, Hotels &amp; Travel, Hotel...</td>\n",
       "      <td>{'Monday': '0:0-0:0', 'Tuesday': '0:0-0:0', 'W...</td>\n",
       "    </tr>\n",
       "    <tr>\n",
       "      <th>149461</th>\n",
       "      <td>Hlx8S2GLF7hMuIKx4sU-gg</td>\n",
       "      <td>Cesar's Place</td>\n",
       "      <td>712 N Milpas St</td>\n",
       "      <td>Santa Barbara</td>\n",
       "      <td>CA</td>\n",
       "      <td>93103</td>\n",
       "      <td>34.428599</td>\n",
       "      <td>-119.688223</td>\n",
       "      <td>4.0</td>\n",
       "      <td>117</td>\n",
       "      <td>1</td>\n",
       "      <td>{'BYOBCorkage': ''no'', 'RestaurantsReservatio...</td>\n",
       "      <td>Mexican, Restaurants, Fish &amp; Chips</td>\n",
       "      <td>{'Monday': '10:0-21:0', 'Tuesday': '10:0-21:0'...</td>\n",
       "    </tr>\n",
       "    <tr>\n",
       "      <th>149493</th>\n",
       "      <td>bVaRZDHkWdsHuARGxxpREw</td>\n",
       "      <td>Sushi Bar 29</td>\n",
       "      <td>1134 Chapala St</td>\n",
       "      <td>Santa Barbara</td>\n",
       "      <td>CA</td>\n",
       "      <td>93101</td>\n",
       "      <td>34.422291</td>\n",
       "      <td>-119.705339</td>\n",
       "      <td>4.5</td>\n",
       "      <td>97</td>\n",
       "      <td>1</td>\n",
       "      <td>{'WiFi': 'u'no'', 'RestaurantsTableService': '...</td>\n",
       "      <td>Japanese, Restaurants, Noodles, Sushi Bars</td>\n",
       "      <td>{'Monday': '17:0-21:30', 'Tuesday': '17:0-21:3...</td>\n",
       "    </tr>\n",
       "    <tr>\n",
       "      <th>150169</th>\n",
       "      <td>izSgTrqebu8bN8ONOCs6cQ</td>\n",
       "      <td>Oat Bakery</td>\n",
       "      <td>5 W Haley St</td>\n",
       "      <td>Santa Barbara</td>\n",
       "      <td>CA</td>\n",
       "      <td>93101</td>\n",
       "      <td>34.416548</td>\n",
       "      <td>-119.695626</td>\n",
       "      <td>5.0</td>\n",
       "      <td>123</td>\n",
       "      <td>1</td>\n",
       "      <td>{'Alcohol': 'u'none'', 'HasTV': 'False', 'Bike...</td>\n",
       "      <td>Bakeries, Vegan, Specialty Food, Food Delivery...</td>\n",
       "      <td>{'Monday': '0:0-0:0', 'Tuesday': '9:0-18:0', '...</td>\n",
       "    </tr>\n",
       "    <tr>\n",
       "      <th>150290</th>\n",
       "      <td>uriD7RFuHhLJeDdKaf0nFA</td>\n",
       "      <td>Pizza Guru</td>\n",
       "      <td>3534 State St</td>\n",
       "      <td>Santa Barbara</td>\n",
       "      <td>CA</td>\n",
       "      <td>93105</td>\n",
       "      <td>34.440689</td>\n",
       "      <td>-119.739681</td>\n",
       "      <td>4.0</td>\n",
       "      <td>299</td>\n",
       "      <td>0</td>\n",
       "      <td>{'NoiseLevel': 'u'average'', 'RestaurantsGoodF...</td>\n",
       "      <td>Restaurants, Pizza, Food</td>\n",
       "      <td>{'Monday': '15:0-21:0', 'Tuesday': '15:0-21:0'...</td>\n",
       "    </tr>\n",
       "  </tbody>\n",
       "</table>\n",
       "<p>648 rows × 14 columns</p>\n",
       "</div>"
      ],
      "text/plain": [
       "                   business_id                             name  \\\n",
       "85      IDtLPgUrqorrpqSLdfMhZQ             Helena Avenue Bakery   \n",
       "141     SZU9c8V2GuREDN5KgyHFJw  Santa Barbara Shellfish Company   \n",
       "431     ifjluUv4VASwmFqEp8cWlQ                    Marty's Pizza   \n",
       "1320    UFpCraqzFBAhtZqmxmiWsA                      Cat Therapy   \n",
       "1417    Hqz96v1ymucUKNzIWfEKXw                           Subway   \n",
       "...                        ...                              ...   \n",
       "149317  HrnSaz2f1WUEoAQQ6iD6gw                   Lemon Tree Inn   \n",
       "149461  Hlx8S2GLF7hMuIKx4sU-gg                    Cesar's Place   \n",
       "149493  bVaRZDHkWdsHuARGxxpREw                     Sushi Bar 29   \n",
       "150169  izSgTrqebu8bN8ONOCs6cQ                       Oat Bakery   \n",
       "150290  uriD7RFuHhLJeDdKaf0nFA                       Pizza Guru   \n",
       "\n",
       "                      address           city state postal_code   latitude  \\\n",
       "85      131 Anacapa St, Ste C  Santa Barbara    CA       93101  34.414445   \n",
       "141         230 Stearns Wharf  Santa Barbara    CA       93101  34.408715   \n",
       "431        2733 De La Vina St  Santa Barbara    CA       93105  34.436236   \n",
       "1320     1213 State St, Ste L  Santa Barbara    CA       93101  34.423302   \n",
       "1417     1936 State St, Ste B  Santa Barbara    CA       93101  34.430822   \n",
       "...                       ...            ...   ...         ...        ...   \n",
       "149317          2819 State St  Santa Barbara    CA       93105  34.438226   \n",
       "149461        712 N Milpas St  Santa Barbara    CA       93103  34.428599   \n",
       "149493        1134 Chapala St  Santa Barbara    CA       93101  34.422291   \n",
       "150169           5 W Haley St  Santa Barbara    CA       93101  34.416548   \n",
       "150290          3534 State St  Santa Barbara    CA       93105  34.440689   \n",
       "\n",
       "         longitude  stars  review_count  is_open  \\\n",
       "85     -119.690672    4.0           389        1   \n",
       "141    -119.685019    4.0          2404        1   \n",
       "431    -119.726147    4.0            64        1   \n",
       "1320   -119.705471    4.5           116        1   \n",
       "1417   -119.714156    3.0             5        0   \n",
       "...            ...    ...           ...      ...   \n",
       "149317 -119.725035    2.5           270        1   \n",
       "149461 -119.688223    4.0           117        1   \n",
       "149493 -119.705339    4.5            97        1   \n",
       "150169 -119.695626    5.0           123        1   \n",
       "150290 -119.739681    4.0           299        0   \n",
       "\n",
       "                                               attributes  \\\n",
       "85      {'RestaurantsTakeOut': 'True', 'NoiseLevel': '...   \n",
       "141     {'OutdoorSeating': 'True', 'RestaurantsAttire'...   \n",
       "431     {'Alcohol': 'u'none'', 'BusinessAcceptsCreditC...   \n",
       "1320    {'WheelchairAccessible': 'True', 'WiFi': 'u'fr...   \n",
       "1417    {'Alcohol': 'u'none'', 'Caters': 'True', 'Bike...   \n",
       "...                                                   ...   \n",
       "149317  {'RestaurantsTakeOut': 'True', 'BusinessParkin...   \n",
       "149461  {'BYOBCorkage': ''no'', 'RestaurantsReservatio...   \n",
       "149493  {'WiFi': 'u'no'', 'RestaurantsTableService': '...   \n",
       "150169  {'Alcohol': 'u'none'', 'HasTV': 'False', 'Bike...   \n",
       "150290  {'NoiseLevel': 'u'average'', 'RestaurantsGoodF...   \n",
       "\n",
       "                                               categories  \\\n",
       "85      Food, Restaurants, Salad, Coffee & Tea, Breakf...   \n",
       "141     Live/Raw Food, Restaurants, Seafood, Beer Bar,...   \n",
       "431                                    Pizza, Restaurants   \n",
       "1320    Themed Cafes, Cafes, Pets, Arts & Entertainmen...   \n",
       "1417            Restaurants, Delis, Sandwiches, Fast Food   \n",
       "...                                                   ...   \n",
       "149317  Restaurants, Nightlife, Hotels & Travel, Hotel...   \n",
       "149461                 Mexican, Restaurants, Fish & Chips   \n",
       "149493         Japanese, Restaurants, Noodles, Sushi Bars   \n",
       "150169  Bakeries, Vegan, Specialty Food, Food Delivery...   \n",
       "150290                           Restaurants, Pizza, Food   \n",
       "\n",
       "                                                    hours  \n",
       "85      {'Monday': '0:0-0:0', 'Tuesday': '8:0-14:0', '...  \n",
       "141     {'Monday': '0:0-0:0', 'Tuesday': '11:0-21:0', ...  \n",
       "431     {'Tuesday': '11:0-21:30', 'Wednesday': '11:0-2...  \n",
       "1320    {'Monday': '10:0-17:15', 'Wednesday': '10:0-19...  \n",
       "1417    {'Monday': '8:0-22:0', 'Tuesday': '8:0-22:0', ...  \n",
       "...                                                   ...  \n",
       "149317  {'Monday': '0:0-0:0', 'Tuesday': '0:0-0:0', 'W...  \n",
       "149461  {'Monday': '10:0-21:0', 'Tuesday': '10:0-21:0'...  \n",
       "149493  {'Monday': '17:0-21:30', 'Tuesday': '17:0-21:3...  \n",
       "150169  {'Monday': '0:0-0:0', 'Tuesday': '9:0-18:0', '...  \n",
       "150290  {'Monday': '15:0-21:0', 'Tuesday': '15:0-21:0'...  \n",
       "\n",
       "[648 rows x 14 columns]"
      ]
     },
     "execution_count": 79,
     "metadata": {},
     "output_type": "execute_result"
    }
   ],
   "source": [
    "df[df['city']=='Santa Barbara'][df.dropna().categories.str.contains('Restaurant')]"
   ]
  },
  {
   "cell_type": "code",
   "execution_count": 99,
   "id": "2829b1f3-5989-4eec-aac1-8c65cdad2325",
   "metadata": {
    "collapsed": true,
    "jupyter": {
     "outputs_hidden": true
    },
    "tags": []
   },
   "outputs": [
    {
     "name": "stdout",
     "output_type": "stream",
     "text": [
      "Philadelphia        14569\n",
      "Tucson               9250\n",
      "Tampa                9050\n",
      "Indianapolis         7540\n",
      "Nashville            6971\n",
      "New Orleans          6209\n",
      "Reno                 5935\n",
      "Edmonton             5054\n",
      "Saint Louis          4827\n",
      "Santa Barbara        3829\n",
      "Boise                2937\n",
      "Clearwater           2221\n",
      "Saint Petersburg     1663\n",
      "Metairie             1643\n",
      "Sparks               1624\n",
      "Wilmington           1446\n",
      "Franklin             1414\n",
      "St. Louis            1255\n",
      "St. Petersburg       1185\n",
      "Meridian             1043\n",
      "Brandon              1033\n",
      "Largo                1002\n",
      "Carmel                967\n",
      "Cherry Hill           960\n",
      "West Chester          838\n",
      "Goleta                798\n",
      "Brentwood             767\n",
      "Palm Harbor           665\n",
      "Greenwood             649\n",
      "New Port Richey       604\n",
      "Lutz                  591\n",
      "Riverview             588\n",
      "Kenner                584\n",
      "Fishers               570\n",
      "King of Prussia       560\n",
      "Wesley Chapel         560\n",
      "Doylestown            539\n",
      "Pinellas Park         512\n",
      "Dunedin               490\n",
      "Hendersonville        484\n",
      "Bensalem              454\n",
      "Norristown            448\n",
      "Exton                 419\n",
      "Marlton               415\n",
      "Spring Hill           402\n",
      "Tarpon Springs        398\n",
      "St Petersburg         387\n",
      "Springfield           384\n",
      "Lansdale              378\n",
      "Ardmore               376\n",
      "Wayne                 375\n",
      "Media                 372\n",
      "Smyrna                366\n",
      "Phoenixville          365\n",
      "Newark                359\n",
      "Seminole              359\n",
      "St Louis              357\n",
      "Gretna                352\n",
      "Mount Laurel          344\n",
      "Langhorne             327\n",
      "Saint Charles         326\n",
      "Trenton               323\n",
      "Pottstown             323\n",
      "Newtown               322\n",
      "Avon                  313\n",
      "Florissant            313\n",
      "Willow Grove          311\n",
      "Havertown             302\n",
      "Belleville            302\n",
      "Conshohocken          301\n",
      "Carpinteria           298\n",
      "Levittown             298\n",
      "Sherwood Park         297\n",
      "Malvern               295\n",
      "Harvey                289\n",
      "Eagle                 289\n",
      "Fenton                288\n",
      "Bryn Mawr             286\n",
      "Oro Valley            286\n",
      "Oldsmar               286\n",
      "Warminster            283\n",
      "Mount Juliet          281\n",
      "Valrico               276\n",
      "Madison               276\n",
      "Edwardsville          274\n",
      "Plainfield            271\n",
      "Port Richey           270\n",
      "North Wales           268\n",
      "Hermitage             267\n",
      "Plant City            257\n",
      "Collegeville          257\n",
      "Ballwin               254\n",
      "Downingtown           248\n",
      "New Hope              246\n",
      "Fairview Heights      241\n",
      "Voorhees              241\n",
      "Zionsville            234\n",
      "Antioch               231\n",
      "Hudson                228\n",
      "Arnold                227\n"
     ]
    }
   ],
   "source": [
    "cities = df_b.city.value_counts()[:100]\n",
    "print(cities.to_string())"
   ]
  },
  {
   "cell_type": "code",
   "execution_count": 40,
   "id": "6f7de9ae-2aaa-4365-a419-c8e032d02ec4",
   "metadata": {},
   "outputs": [],
   "source": [
    "latlong = df_b[['latitude','longitude']]\n",
    "# latlong = latlong[:1000]\n",
    "# latlong"
   ]
  },
  {
   "cell_type": "code",
   "execution_count": 41,
   "id": "6e4e2018-601e-4d76-93f1-8dc27124d070",
   "metadata": {},
   "outputs": [
    {
     "data": {
      "image/png": "[encoded data removed]",
      "text/plain": [
       "<Figure size 720x432 with 1 Axes>"
      ]
     },
     "metadata": {
      "needs_background": "light"
     },
     "output_type": "display_data"
    }
   ],
   "source": [
    "map_path = r'C:\\Users\\ASUS\\Desktop\\ML-data science\\DataIncubator\\yelp-cleaners\\data\\states_21basic\\states.shp'\n",
    "\n",
    "geometry = [Point(xy) for xy in zip(latlong['longitude'], latlong['latitude'])]\n",
    "gdf = GeoDataFrame(latlong, geometry=geometry)   \n",
    "\n",
    "usa = gpd.read_file(map_path)\n",
    "usa = usa[~usa['STATE_NAME'].isin(['Hawaii','Alaska'])] # exclude HI & AK\n",
    "gdf.plot(ax=usa.plot(figsize=(10, 6)), marker='o', color='red', markersize=2, alpha=0.2);"
   ]
  },
  {
   "cell_type": "markdown",
   "id": "d2c741ac-8e3b-445c-b2f0-136f8b56cecf",
   "metadata": {
    "jp-MarkdownHeadingCollapsed": true,
    "tags": []
   },
   "source": [
    "### different datasets from kaggle"
   ]
  },
  {
   "cell_type": "code",
   "execution_count": 115,
   "id": "811565e6-5d6c-4516-8da6-a7cd13d8164b",
   "metadata": {},
   "outputs": [],
   "source": [
    "map_path = r'C:\\Users\\ASUS\\Desktop\\ML-data science\\DataIncubator\\yelp-cleaners\\data\\states_21basic\\states.shp'\n",
    "def show_cities(dataset=2,print_cities=True,plot_cities=True):\n",
    "    data_directory = r'C:\\Users\\ASUS\\Desktop\\ML-data science\\DataIncubator\\yelp-cleaners\\data\\old yelp data' + '\\\\'\n",
    "    path = data_directory + 'yelp_academic_dataset_business_version{}.json'.format(dataset)\n",
    "    df_b = pd.read_json(path, lines=True)\n",
    "\n",
    "    cities = df_b.city.value_counts()[:100]\n",
    "    if print_cities:\n",
    "        print(cities.to_string())\n",
    "\n",
    "    latlong = df_b[['latitude','longitude']]\n",
    "\n",
    "    if plot_cities:\n",
    "        geometry = [Point(xy) for xy in zip(latlong['longitude'], latlong['latitude'])]\n",
    "        gdf = GeoDataFrame(latlong, geometry=geometry)   \n",
    "        usa = gpd.read_file(map_path)\n",
    "        usa = usa[~usa['STATE_NAME'].isin(['Hawaii','Alaska'])] # exclude HI & AK\n",
    "        gdf.plot(ax=usa.plot(figsize=(10, 6)), marker='o', color='red', markersize=2, alpha=0.2)"
   ]
  },
  {
   "cell_type": "code",
   "execution_count": 116,
   "id": "311091d9-2709-4293-9dda-b93c5e222ff5",
   "metadata": {},
   "outputs": [],
   "source": [
    "datasets = [2,3,4,7,9]"
   ]
  },
  {
   "cell_type": "code",
   "execution_count": 117,
   "id": "e2ef30e4-460d-4639-8ef6-aa474edeadeb",
   "metadata": {
    "collapsed": true,
    "jupyter": {
     "outputs_hidden": true
    },
    "tags": []
   },
   "outputs": [
    {
     "name": "stdout",
     "output_type": "stream",
     "text": [
      "Las Vegas             31631\n",
      "Toronto               20366\n",
      "Phoenix               20171\n",
      "Charlotte             10422\n",
      "Scottsdale             9342\n",
      "Calgary                8377\n",
      "Pittsburgh             7630\n",
      "Montréal               6979\n",
      "Mesa                   6577\n",
      "Henderson              5272\n",
      "Tempe                  4797\n",
      "Chandler               4580\n",
      "Cleveland              3857\n",
      "Glendale               3824\n",
      "Gilbert                3745\n",
      "Madison                3685\n",
      "Mississauga            3518\n",
      "Peoria                 2080\n",
      "Markham                1963\n",
      "North Las Vegas        1677\n",
      "Champaign              1327\n",
      "North York             1319\n",
      "Scarborough            1244\n",
      "Surprise               1218\n",
      "Richmond Hill          1153\n",
      "Brampton               1146\n",
      "Concord                1125\n",
      "Vaughan                1045\n",
      "Goodyear                951\n",
      "Etobicoke               841\n",
      "Matthews                812\n",
      "Avondale                745\n",
      "Fort Mill               696\n",
      "Huntersville            684\n",
      "Gastonia                564\n",
      "Lakewood                562\n",
      "Mentor                  559\n",
      "Akron                   512\n",
      "Cornelius               495\n",
      "Laval                   472\n",
      "Westlake                444\n",
      "Monroeville             442\n",
      "Thornhill               434\n",
      "North Olmsted           428\n",
      "Strongsville            426\n",
      "Urbana                  425\n",
      "Cave Creek              424\n",
      "Aurora                  421\n",
      "Newmarket               411\n",
      "Medina                  409\n",
      "Cuyahoga Falls          401\n",
      "Oakville                401\n",
      "Middleton               392\n",
      "Pineville               382\n",
      "Pickering               371\n",
      "Fountain Hills          369\n",
      "Rock Hill               346\n",
      "Ajax                    343\n",
      "Parma                   341\n",
      "Beachwood               328\n",
      "Whitby                  323\n",
      "Indian Trail            313\n",
      "Wexford                 302\n",
      "Sun City                300\n",
      "Boulder City            283\n",
      "Sun Prairie             276\n",
      "Willoughby              274\n",
      "Kent                    268\n",
      "Woodbridge              264\n",
      "Avon                    262\n",
      "Rocky River             261\n",
      "Elyria                  256\n",
      "Litchfield Park         251\n",
      "Stow                    246\n",
      "Solon                   237\n",
      "Bethel Park             236\n",
      "Cleveland Heights       228\n",
      "Verona                  221\n",
      "Chagrin Falls           220\n",
      "Hudson                  213\n",
      "Brossard                209\n",
      "Fitchburg               206\n",
      "Monroe                  203\n",
      "Brunswick               199\n",
      "Bridgeville             199\n",
      "Coraopolis              195\n",
      "Canonsburg              189\n",
      "Waxhaw                  188\n",
      "Belmont                 187\n",
      "Airdrie                 186\n",
      "Montreal                180\n",
      "Mayfield Heights        180\n",
      "Verdun                  174\n",
      "Fairlawn                173\n",
      "North Royalton          170\n",
      "Tolleson                168\n",
      "East York               166\n",
      "Middleburg Heights      166\n",
      "West Mifflin            160\n",
      "Painesville             157\n"
     ]
    },
    {
     "data": {
      "image/png": "[encoded data removed]",
      "text/plain": [
       "<Figure size 720x432 with 1 Axes>"
      ]
     },
     "metadata": {
      "needs_background": "light"
     },
     "output_type": "display_data"
    }
   ],
   "source": [
    "show_cities(2)"
   ]
  },
  {
   "cell_type": "code",
   "execution_count": 118,
   "id": "6a47a52b-62d1-4347-a949-88ac861c9062",
   "metadata": {
    "collapsed": true,
    "jupyter": {
     "outputs_hidden": true
    },
    "tags": []
   },
   "outputs": [
    {
     "name": "stdout",
     "output_type": "stream",
     "text": [
      "Austin               22416\n",
      "Portland             18203\n",
      "Vancouver            13330\n",
      "Atlanta              12612\n",
      "Orlando              10637\n",
      "Boston                8263\n",
      "Columbus              6634\n",
      "Boulder               2542\n",
      "Cambridge             2433\n",
      "Beaverton             2252\n",
      "Richmond              1791\n",
      "Burnaby               1725\n",
      "Kissimmee             1713\n",
      "Decatur               1411\n",
      "Winter Park           1288\n",
      "Somerville            1265\n",
      "Quincy                1093\n",
      "Brookline              986\n",
      "North Vancouver        926\n",
      "Tigard                 916\n",
      "Waltham                883\n",
      "Newton                 823\n",
      "Smyrna                 820\n",
      "Altamonte Springs      783\n",
      "Lake Oswego            761\n",
      "Dublin                 734\n",
      "Salem                  721\n",
      "Sanford                672\n",
      "Natick                 669\n",
      "Medford                668\n",
      "Coquitlam              652\n",
      "Woburn                 618\n",
      "Watertown              607\n",
      "Peabody                602\n",
      "Burlington             595\n",
      "Oviedo                 584\n",
      "Braintree              577\n",
      "Westerville            569\n",
      "Arlington              545\n",
      "Surrey                 540\n",
      "Malden                 538\n",
      "New Westminster        522\n",
      "Winter Garden          517\n",
      "Lake Mary              512\n",
      "Clermont               492\n",
      "Clackamas              484\n",
      "Marietta               476\n",
      "Beverly                476\n",
      "Tucker                 472\n",
      "Danvers                472\n",
      "Longwood               469\n",
      "Norwood                461\n",
      "Milwaukie              456\n",
      "Hilliard               453\n",
      "Sandy Springs          450\n",
      "Allston                436\n",
      "Saugus                 434\n",
      "Brighton               430\n",
      "Dedham                 416\n",
      "Tualatin               412\n",
      "Dorchester             405\n",
      "Apopka                 403\n",
      "Happy Valley           403\n",
      "Weymouth               397\n",
      "Lynn                   393\n",
      "Revere                 392\n",
      "Louisville             359\n",
      "Jamaica Plain          359\n",
      "Belmont                338\n",
      "Everett                324\n",
      "Hillsboro              323\n",
      "Ocoee                  322\n",
      "Lakeway                319\n",
      "Buda                   319\n",
      "Wakefield              319\n",
      "Needham                318\n",
      "Lexington              313\n",
      "Lake Buena Vista       307\n",
      "Wellesley              304\n",
      "Casselberry            304\n",
      "Grove City             303\n",
      "Titusville             302\n",
      "Powell                 291\n",
      "Stoneham               287\n",
      "Chamblee               286\n",
      "Gahanna                280\n",
      "Canton                 273\n",
      "Bee Cave               265\n",
      "Reynoldsburg           255\n",
      "Davenport              253\n",
      "Kyle                   253\n",
      "West Roxbury           249\n",
      "Dunwoody               243\n",
      "Stoughton              238\n",
      "Hingham                237\n",
      "Doraville              237\n",
      "Melrose                234\n",
      "Winter Springs         232\n",
      "Pickerington           231\n",
      "Cocoa                  228\n"
     ]
    },
    {
     "data": {
      "image/png": "[encoded data removed]",
      "text/plain": [
       "<Figure size 720x432 with 1 Axes>"
      ]
     },
     "metadata": {
      "needs_background": "light"
     },
     "output_type": "display_data"
    }
   ],
   "source": [
    "show_cities(3)"
   ]
  },
  {
   "cell_type": "code",
   "execution_count": 119,
   "id": "3c115aab-60db-4983-b998-053369e35029",
   "metadata": {
    "collapsed": true,
    "jupyter": {
     "outputs_hidden": true
    },
    "tags": []
   },
   "outputs": [
    {
     "name": "stdout",
     "output_type": "stream",
     "text": [
      "Philadelphia        14569\n",
      "Tucson               9250\n",
      "Tampa                9050\n",
      "Indianapolis         7540\n",
      "Nashville            6971\n",
      "New Orleans          6209\n",
      "Reno                 5935\n",
      "Edmonton             5054\n",
      "Saint Louis          4827\n",
      "Santa Barbara        3829\n",
      "Boise                2937\n",
      "Clearwater           2221\n",
      "Saint Petersburg     1663\n",
      "Metairie             1643\n",
      "Sparks               1624\n",
      "Wilmington           1446\n",
      "Franklin             1414\n",
      "St. Louis            1255\n",
      "St. Petersburg       1185\n",
      "Meridian             1043\n",
      "Brandon              1033\n",
      "Largo                1002\n",
      "Carmel                967\n",
      "Cherry Hill           960\n",
      "West Chester          838\n",
      "Goleta                798\n",
      "Brentwood             767\n",
      "Palm Harbor           665\n",
      "Greenwood             649\n",
      "New Port Richey       604\n",
      "Lutz                  591\n",
      "Riverview             588\n",
      "Kenner                584\n",
      "Fishers               570\n",
      "King of Prussia       560\n",
      "Wesley Chapel         560\n",
      "Doylestown            539\n",
      "Pinellas Park         512\n",
      "Dunedin               490\n",
      "Hendersonville        484\n",
      "Bensalem              454\n",
      "Norristown            448\n",
      "Exton                 419\n",
      "Marlton               415\n",
      "Spring Hill           402\n",
      "Tarpon Springs        398\n",
      "St Petersburg         387\n",
      "Springfield           384\n",
      "Lansdale              378\n",
      "Ardmore               376\n",
      "Wayne                 375\n",
      "Media                 372\n",
      "Smyrna                366\n",
      "Phoenixville          365\n",
      "Newark                359\n",
      "Seminole              359\n",
      "St Louis              357\n",
      "Gretna                352\n",
      "Mount Laurel          344\n",
      "Langhorne             327\n",
      "Saint Charles         326\n",
      "Trenton               323\n",
      "Pottstown             323\n",
      "Newtown               322\n",
      "Avon                  313\n",
      "Florissant            313\n",
      "Willow Grove          311\n",
      "Havertown             302\n",
      "Belleville            302\n",
      "Conshohocken          301\n",
      "Carpinteria           298\n",
      "Levittown             298\n",
      "Sherwood Park         297\n",
      "Malvern               295\n",
      "Harvey                289\n",
      "Eagle                 289\n",
      "Fenton                288\n",
      "Bryn Mawr             286\n",
      "Oro Valley            286\n",
      "Oldsmar               286\n",
      "Warminster            283\n",
      "Mount Juliet          281\n",
      "Valrico               276\n",
      "Madison               276\n",
      "Edwardsville          274\n",
      "Plainfield            271\n",
      "Port Richey           270\n",
      "North Wales           268\n",
      "Hermitage             267\n",
      "Plant City            257\n",
      "Collegeville          257\n",
      "Ballwin               254\n",
      "Downingtown           248\n",
      "New Hope              246\n",
      "Fairview Heights      241\n",
      "Voorhees              241\n",
      "Zionsville            234\n",
      "Antioch               231\n",
      "Hudson                228\n",
      "Arnold                227\n"
     ]
    },
    {
     "data": {
      "image/png": "[encoded data removed]",
      "text/plain": [
       "<Figure size 720x432 with 1 Axes>"
      ]
     },
     "metadata": {
      "needs_background": "light"
     },
     "output_type": "display_data"
    }
   ],
   "source": [
    "show_cities(4)"
   ]
  },
  {
   "cell_type": "code",
   "execution_count": 120,
   "id": "1ad6b92c-6335-4c09-b645-c98691007318",
   "metadata": {
    "collapsed": true,
    "jupyter": {
     "outputs_hidden": true
    },
    "tags": []
   },
   "outputs": [
    {
     "name": "stdout",
     "output_type": "stream",
     "text": [
      "Las Vegas            28865\n",
      "Phoenix              18633\n",
      "Toronto              18233\n",
      "Charlotte             9204\n",
      "Scottsdale            8822\n",
      "Calgary               7384\n",
      "Pittsburgh            6804\n",
      "Mesa                  6239\n",
      "Montréal              6045\n",
      "Henderson             4815\n",
      "Tempe                 4492\n",
      "Chandler              4272\n",
      "Madison               3509\n",
      "Cleveland             3506\n",
      "Glendale              3469\n",
      "Gilbert               3397\n",
      "Mississauga           2954\n",
      "Peoria                1868\n",
      "Markham               1699\n",
      "North Las Vegas       1508\n",
      "Champaign             1243\n",
      "Scarborough           1175\n",
      "North York            1140\n",
      "Surprise              1119\n",
      "Richmond Hill          978\n",
      "Concord                975\n",
      "Brampton               929\n",
      "Vaughan                853\n",
      "Goodyear               827\n",
      "Etobicoke              760\n",
      "Matthews               726\n",
      "Oakville               699\n",
      "Avondale               663\n",
      "Fort Mill              620\n",
      "Huntersville           608\n",
      "Lakewood               509\n",
      "Gastonia               494\n",
      "Cornelius              467\n",
      "Mentor                 442\n",
      "Cave Creek             402\n",
      "Urbana                 400\n",
      "Monroeville            390\n",
      "Westlake               379\n",
      "Thornhill              376\n",
      "North Olmsted          373\n",
      "Laval                  373\n",
      "Strongsville           362\n",
      "Whitby                 357\n",
      "Pineville              352\n",
      "Middleton              347\n",
      "Fountain Hills         341\n",
      "Cuyahoga Falls         340\n",
      "Aurora                 336\n",
      "Medina                 327\n",
      "Newmarket              324\n",
      "Pickering              315\n",
      "Boulder City           295\n",
      "Indian Trail           286\n",
      "Montreal               283\n",
      "Kent                   282\n",
      "Ajax                   281\n",
      "Beachwood              281\n",
      "Wexford                280\n",
      "Parma                  274\n",
      "Monroe                 273\n",
      "Buckeye                265\n",
      "Willoughby             248\n",
      "Sun City               247\n",
      "Rocky River            246\n",
      "Sun Prairie            244\n",
      "Woodbridge             226\n",
      "Stow                   221\n",
      "Litchfield Park        220\n",
      "Avon                   218\n",
      "Solon                  210\n",
      "Hudson                 201\n",
      "Cleveland Heights      200\n",
      "Fitchburg              199\n",
      "Bethel Park            198\n",
      "Elyria                 198\n",
      "Verona                 195\n",
      "Airdrie                191\n",
      "Chagrin Falls          186\n",
      "Bridgeville            181\n",
      "Brunswick              178\n",
      "Coraopolis             175\n",
      "Kannapolis             173\n",
      "Canonsburg             171\n",
      "Waxhaw                 167\n",
      "Brossard               166\n",
      "Belmont                158\n",
      "Fairlawn               156\n",
      "East York              151\n",
      "Verdun                 150\n",
      "Mayfield Heights       149\n",
      "North Royalton         144\n",
      "Tolleson               144\n",
      "Independence           136\n",
      "MESA                   135\n",
      "Monona                 135\n"
     ]
    },
    {
     "data": {
      "image/png": "[encoded data removed]",
      "text/plain": [
       "<Figure size 720x432 with 1 Axes>"
      ]
     },
     "metadata": {
      "needs_background": "light"
     },
     "output_type": "display_data"
    }
   ],
   "source": [
    "show_cities(7)"
   ]
  },
  {
   "cell_type": "code",
   "execution_count": 121,
   "id": "bc12ad17-642d-4c2a-a37f-9bf61e53f2d9",
   "metadata": {
    "collapsed": true,
    "jupyter": {
     "outputs_hidden": true
    },
    "tags": []
   },
   "outputs": [
    {
     "name": "stdout",
     "output_type": "stream",
     "text": [
      "Las Vegas             29370\n",
      "Toronto               18906\n",
      "Phoenix               18766\n",
      "Charlotte              9509\n",
      "Scottsdale             8837\n",
      "Calgary                7736\n",
      "Pittsburgh             7017\n",
      "Montréal               6449\n",
      "Mesa                   6080\n",
      "Henderson              4892\n",
      "Tempe                  4550\n",
      "Chandler               4309\n",
      "Cleveland              3605\n",
      "Glendale               3543\n",
      "Madison                3494\n",
      "Gilbert                3462\n",
      "Mississauga            3112\n",
      "Peoria                 1919\n",
      "Markham                1766\n",
      "North Las Vegas        1548\n",
      "Champaign              1262\n",
      "North York             1205\n",
      "Surprise               1148\n",
      "Scarborough            1103\n",
      "Richmond Hill          1026\n",
      "Brampton               1002\n",
      "Concord                 990\n",
      "Vaughan                 919\n",
      "Goodyear                855\n",
      "Etobicoke               793\n",
      "Matthews                749\n",
      "Avondale                681\n",
      "Fort Mill               627\n",
      "Huntersville            625\n",
      "Lakewood                519\n",
      "Gastonia                480\n",
      "Cornelius               474\n",
      "Mentor                  472\n",
      "Akron                   465\n",
      "Urbana                  411\n",
      "Cave Creek              402\n",
      "Monroeville             400\n",
      "Thornhill               396\n",
      "North Olmsted           396\n",
      "Laval                   394\n",
      "Westlake                389\n",
      "Strongsville            379\n",
      "Oakville                362\n",
      "Middleton               360\n",
      "Aurora                  356\n",
      "Cuyahoga Falls          354\n",
      "Newmarket               352\n",
      "Pineville               349\n",
      "Medina                  348\n",
      "Fountain Hills          345\n",
      "Pickering               326\n",
      "Rock Hill               311\n",
      "Ajax                    303\n",
      "Indian Trail            301\n",
      "Parma                   290\n",
      "Beachwood               289\n",
      "Wexford                 280\n",
      "Whitby                  276\n",
      "Boulder City            269\n",
      "Sun City                258\n",
      "Willoughby              257\n",
      "Kent                    254\n",
      "Sun Prairie             246\n",
      "Rocky River             245\n",
      "Woodbridge              241\n",
      "Stow                    234\n",
      "Avon                    230\n",
      "Litchfield Park         222\n",
      "Cleveland Heights       212\n",
      "Solon                   212\n",
      "Elyria                  208\n",
      "Hudson                  203\n",
      "Fitchburg               201\n",
      "Bethel Park             200\n",
      "Verona                  198\n",
      "Chagrin Falls           196\n",
      "Bridgeville             191\n",
      "Brossard                177\n",
      "Brunswick               176\n",
      "Monroe                  175\n",
      "Coraopolis              170\n",
      "Waxhaw                  170\n",
      "Airdrie                 168\n",
      "Canonsburg              163\n",
      "Mayfield Heights        162\n",
      "East York               161\n",
      "Belmont                 160\n",
      "North Royalton          157\n",
      "Fairlawn                157\n",
      "Verdun                  153\n",
      "Montreal                153\n",
      "Tolleson                147\n",
      "West Mifflin            145\n",
      "Independence            143\n",
      "Middleburg Heights      139\n"
     ]
    },
    {
     "data": {
      "image/png": "[encoded data removed]",
      "text/plain": [
       "<Figure size 720x432 with 1 Axes>"
      ]
     },
     "metadata": {
      "needs_background": "light"
     },
     "output_type": "display_data"
    }
   ],
   "source": [
    "show_cities(9)"
   ]
  },
  {
   "cell_type": "markdown",
   "id": "ad55e380-6efe-4ec7-a236-6edfd7cb61d3",
   "metadata": {
    "jp-MarkdownHeadingCollapsed": true,
    "tags": []
   },
   "source": [
    "## LA inspection data"
   ]
  },
  {
   "cell_type": "markdown",
   "id": "2499ab37-88e7-422c-90ca-a932027c841e",
   "metadata": {
    "jp-MarkdownHeadingCollapsed": true,
    "tags": []
   },
   "source": [
    "### 2015-2018 LA restaurant inspections"
   ]
  },
  {
   "cell_type": "markdown",
   "id": "d1aa11f9-cbfa-413b-9b90-2d76c88dc25c",
   "metadata": {
    "tags": []
   },
   "source": [
    "Found a 2015-2018 dataset at https://data.lacity.org/Community-Economic-Development/Restaurant-and-Market-Health-Inspections/29fd-3paw, exported as CSV file. Can also access json entries via their API."
   ]
  },
  {
   "cell_type": "code",
   "execution_count": 82,
   "id": "f865ec66-8060-4bdb-953d-d7ec6e5c84a0",
   "metadata": {},
   "outputs": [],
   "source": [
    "df = pd.read_csv('data/Los Angeles/Restaurant_and_Market_Health_Inspections.csv')"
   ]
  },
  {
   "cell_type": "code",
   "execution_count": 83,
   "id": "48905f8e-10b7-4a8a-a516-7a17b4a247f7",
   "metadata": {},
   "outputs": [
    {
     "data": {
      "text/plain": [
       "Index(['serial_number', 'activity_date', 'facility_name', 'score', 'grade',\n",
       "       'service_code', 'service_description', 'employee_id',\n",
       "       'facility_address', 'facility_city', 'facility_id', 'facility_state',\n",
       "       'facility_zip', 'owner_id', 'owner_name', 'pe_description',\n",
       "       'program_element_pe', 'program_name', 'program_status', 'record_id'],\n",
       "      dtype='object')"
      ]
     },
     "execution_count": 83,
     "metadata": {},
     "output_type": "execute_result"
    }
   ],
   "source": [
    "df.columns"
   ]
  },
  {
   "cell_type": "code",
   "execution_count": 84,
   "id": "75c23414-71a1-4ce1-a868-834ba669d7bc",
   "metadata": {},
   "outputs": [
    {
     "data": {
      "text/plain": [
       "0               3708 N EAGLE ROCK BLVD\n",
       "1                  100 WORLD WAY # 120\n",
       "2            6801 HOLLYWOOD BLVD # 253\n",
       "3                   1814 W SUNSET BLVD\n",
       "4                   2100 ECHO PARK AVE\n",
       "                     ...              \n",
       "67568    104 JAPANESE VILLAGE PLZ MALL\n",
       "67569           4050 W WASHINGTON BLVD\n",
       "67570                     4312 WALL ST\n",
       "67571               2012 SAWTELLE BLVD\n",
       "67572        3600 E CESAR E CHAVEZ AVE\n",
       "Name: facility_address, Length: 67573, dtype: object"
      ]
     },
     "execution_count": 84,
     "metadata": {},
     "output_type": "execute_result"
    }
   ],
   "source": [
    "df.facility_address"
   ]
  },
  {
   "cell_type": "code",
   "execution_count": 85,
   "id": "6e476b81-5d22-4ad0-89ce-cb9f095f035c",
   "metadata": {},
   "outputs": [],
   "source": [
    "df.activity_date = pd.to_datetime(df.activity_date)"
   ]
  },
  {
   "cell_type": "code",
   "execution_count": 86,
   "id": "b7fecccf-2669-4b79-a663-42bb21d1c78a",
   "metadata": {},
   "outputs": [
    {
     "name": "stdout",
     "output_type": "stream",
     "text": [
      "2015-07-01 00:00:00\n",
      "2018-07-31 00:00:00\n"
     ]
    }
   ],
   "source": [
    "print(min(df.activity_date))\n",
    "print(max(df.activity_date))"
   ]
  },
  {
   "cell_type": "code",
   "execution_count": 87,
   "id": "4c8e1439-fbb0-442c-9e12-de565e3bdeaa",
   "metadata": {},
   "outputs": [
    {
     "data": {
      "text/plain": [
       "12071"
      ]
     },
     "execution_count": 87,
     "metadata": {},
     "output_type": "execute_result"
    }
   ],
   "source": [
    "len(pd.unique(df.facility_name))"
   ]
  },
  {
   "cell_type": "code",
   "execution_count": 88,
   "id": "c9eae884-8142-47c6-b12a-62f2df0b633a",
   "metadata": {},
   "outputs": [
    {
     "data": {
      "text/html": [
       "<div>\n",
       "<style scoped>\n",
       "    .dataframe tbody tr th:only-of-type {\n",
       "        vertical-align: middle;\n",
       "    }\n",
       "\n",
       "    .dataframe tbody tr th {\n",
       "        vertical-align: top;\n",
       "    }\n",
       "\n",
       "    .dataframe thead tr th {\n",
       "        text-align: left;\n",
       "    }\n",
       "\n",
       "    .dataframe thead tr:last-of-type th {\n",
       "        text-align: right;\n",
       "    }\n",
       "</style>\n",
       "<table border=\"1\" class=\"dataframe\">\n",
       "  <thead>\n",
       "    <tr>\n",
       "      <th></th>\n",
       "      <th colspan=\"3\" halign=\"left\">score</th>\n",
       "    </tr>\n",
       "    <tr>\n",
       "      <th></th>\n",
       "      <th>min</th>\n",
       "      <th>mean</th>\n",
       "      <th>max</th>\n",
       "    </tr>\n",
       "    <tr>\n",
       "      <th>grade</th>\n",
       "      <th></th>\n",
       "      <th></th>\n",
       "      <th></th>\n",
       "    </tr>\n",
       "  </thead>\n",
       "  <tbody>\n",
       "    <tr>\n",
       "      <th></th>\n",
       "      <td>65</td>\n",
       "      <td>65.000000</td>\n",
       "      <td>65</td>\n",
       "    </tr>\n",
       "    <tr>\n",
       "      <th>A</th>\n",
       "      <td>90</td>\n",
       "      <td>94.087338</td>\n",
       "      <td>100</td>\n",
       "    </tr>\n",
       "    <tr>\n",
       "      <th>B</th>\n",
       "      <td>80</td>\n",
       "      <td>83.788204</td>\n",
       "      <td>89</td>\n",
       "    </tr>\n",
       "    <tr>\n",
       "      <th>C</th>\n",
       "      <td>64</td>\n",
       "      <td>74.048193</td>\n",
       "      <td>79</td>\n",
       "    </tr>\n",
       "  </tbody>\n",
       "</table>\n",
       "</div>"
      ],
      "text/plain": [
       "      score                \n",
       "        min       mean  max\n",
       "grade                      \n",
       "         65  65.000000   65\n",
       "A        90  94.087338  100\n",
       "B        80  83.788204   89\n",
       "C        64  74.048193   79"
      ]
     },
     "execution_count": 88,
     "metadata": {},
     "output_type": "execute_result"
    }
   ],
   "source": [
    "df[[\"score\",\"grade\"]].groupby('grade').agg({\"score\": [min, np.mean, max]})"
   ]
  },
  {
   "cell_type": "code",
   "execution_count": 97,
   "id": "57b6ca5a-a024-45bd-a0ea-4598c406e0a5",
   "metadata": {},
   "outputs": [
    {
     "data": {
      "text/plain": [
       "THE COFFEE BEAN & TEA LEAF    147\n",
       "BLUE BOTTLE COFFEE             32\n",
       "I LOVE BOBA                    27\n",
       "BOBA TIME                      23\n",
       "IT'S BOBA TIME                 22\n",
       "                             ... \n",
       "STARBUCKS COFFEE #5296          1\n",
       "HASHTAG#COFFEE&TEA              1\n",
       "FICKLE TEA LOUNGE               1\n",
       "ST VINCENT COFFEE SHOP          1\n",
       "MEDIDATE COFFEE                 1\n",
       "Name: facility_name, Length: 378, dtype: int64"
      ]
     },
     "execution_count": 97,
     "metadata": {},
     "output_type": "execute_result"
    }
   ],
   "source": [
    "df[df.facility_name.str.contains('BOBA|TEA|COFFEE')].facility_name.value_counts()"
   ]
  },
  {
   "cell_type": "code",
   "execution_count": 23,
   "id": "33fe397e-f14d-42b0-b325-67efec915e71",
   "metadata": {},
   "outputs": [
    {
     "data": {
      "text/plain": [
       "facility_name\n",
       "DODGER STADIUM           464\n",
       "STAPLES CENTER (LEVY)    290\n",
       "LA COLISEUM              225\n",
       "WHOLE FOODS MARKET       208\n",
       "SUBWAY                   155\n",
       "                        ... \n",
       "THE PIANO BAR              1\n",
       "ANZIO CAFE                 1\n",
       "FUEGO NIGHT CLUB           1\n",
       "QDOBA MEXICAN GRILL        1\n",
       "MARKS LIQUOR               1\n",
       "Length: 12071, dtype: int64"
      ]
     },
     "execution_count": 23,
     "metadata": {},
     "output_type": "execute_result"
    }
   ],
   "source": [
    "df.value_counts('facility_name')"
   ]
  },
  {
   "cell_type": "code",
   "execution_count": 26,
   "id": "9db7011a-0b2a-4af2-b359-9576512a6fa5",
   "metadata": {},
   "outputs": [
    {
     "data": {
      "text/plain": [
       "facility_id\n",
       "FA0019271    464\n",
       "FA0006427    290\n",
       "FA0065100    225\n",
       "FA0024180    117\n",
       "FA0156500    103\n",
       "            ... \n",
       "FA0247928      1\n",
       "FA0042091      1\n",
       "FA0163817      1\n",
       "FA0042050      1\n",
       "FA0262447      1\n",
       "Length: 13545, dtype: int64"
      ]
     },
     "execution_count": 26,
     "metadata": {},
     "output_type": "execute_result"
    }
   ],
   "source": [
    "df.value_counts('facility_id')"
   ]
  },
  {
   "cell_type": "code",
   "execution_count": 30,
   "id": "e85b15fb-08c3-473e-ba94-64320379a233",
   "metadata": {},
   "outputs": [
    {
     "data": {
      "text/plain": [
       "0         True\n",
       "1        False\n",
       "2        False\n",
       "3        False\n",
       "4        False\n",
       "         ...  \n",
       "67568    False\n",
       "67569    False\n",
       "67570    False\n",
       "67571    False\n",
       "67572    False\n",
       "Name: facility_address, Length: 67573, dtype: bool"
      ]
     },
     "execution_count": 30,
     "metadata": {},
     "output_type": "execute_result"
    }
   ],
   "source": [
    "df.facility_address == \"3708 N EAGLE ROCK BLVD\""
   ]
  },
  {
   "cell_type": "markdown",
   "id": "b71f605d-1fd7-47d9-94eb-fd5084faf908",
   "metadata": {
    "tags": []
   },
   "source": [
    "### more recent LA restaurant inspections"
   ]
  },
  {
   "cell_type": "markdown",
   "id": "44acd81f-c2d8-42ca-bb62-0b76d3a8d91c",
   "metadata": {
    "tags": []
   },
   "source": [
    "More recent but smaller dataset at https://ehservices.publichealth.lacounty.gov/ezsearch"
   ]
  },
  {
   "cell_type": "code",
   "execution_count": 75,
   "id": "75b190be-9d19-4d03-942a-98f512de97a8",
   "metadata": {},
   "outputs": [],
   "source": [
    "columns = ['facility_name','inspection_date','score','facility_address','facility_city']\n",
    "df = pd.read_csv('inspections.csv',names=columns)\n",
    "# lots of restaurants without scores, weirdly\n",
    "df = df.dropna().reset_index(drop=True)"
   ]
  },
  {
   "cell_type": "code",
   "execution_count": 76,
   "id": "634ab646-12ab-4ff5-894d-ccd4a4079243",
   "metadata": {},
   "outputs": [
    {
     "data": {
      "text/plain": [
       "facility_address\n",
       "762 E SLAUSON AVE         222\n",
       "7782 SAN FERNANDO RD      145\n",
       "100 UNIVERSAL CITY PLZ    138\n",
       "1000 S PRAIRIE AVE        126\n",
       "1000 VIN SCULLY AVE       118\n",
       "                         ... \n",
       "18438 COLIMA RD 12          1\n",
       "18438 COLIMA RD #105        1\n",
       "18438 COLIMA # 1            1\n",
       "18434 DEVONSHIRE ST         1\n",
       "S VERMONT AVE               1\n",
       "Length: 35749, dtype: int64"
      ]
     },
     "execution_count": 76,
     "metadata": {},
     "output_type": "execute_result"
    }
   ],
   "source": [
    "df.value_counts('facility_address')"
   ]
  },
  {
   "cell_type": "markdown",
   "id": "481ad3b4-c553-4e28-b298-d851bfa5f631",
   "metadata": {},
   "source": [
    "lots of wrong addresses here... e.g., \"TAQUERIA SAN MIGUEL ESTILO TIJUANA\" is on Yelp at 1012 Hooper Ave ( https://www.yelp.com/biz/taqueria-san-miguel-los-angeles )"
   ]
  },
  {
   "cell_type": "code",
   "execution_count": 79,
   "id": "1fc366fd-2b54-422b-8d7a-36762c2b37c1",
   "metadata": {},
   "outputs": [
    {
     "data": {
      "text/html": [
       "<div>\n",
       "<style scoped>\n",
       "    .dataframe tbody tr th:only-of-type {\n",
       "        vertical-align: middle;\n",
       "    }\n",
       "\n",
       "    .dataframe tbody tr th {\n",
       "        vertical-align: top;\n",
       "    }\n",
       "\n",
       "    .dataframe thead th {\n",
       "        text-align: right;\n",
       "    }\n",
       "</style>\n",
       "<table border=\"1\" class=\"dataframe\">\n",
       "  <thead>\n",
       "    <tr style=\"text-align: right;\">\n",
       "      <th></th>\n",
       "      <th>facility_name</th>\n",
       "      <th>inspection_date</th>\n",
       "      <th>score</th>\n",
       "      <th>facility_address</th>\n",
       "      <th>facility_city</th>\n",
       "    </tr>\n",
       "  </thead>\n",
       "  <tbody>\n",
       "    <tr>\n",
       "      <th>172</th>\n",
       "      <td>TAQUERIA SAN MIGUEL ESTILO TIJUANA</td>\n",
       "      <td>2022-01-25</td>\n",
       "      <td>93.0</td>\n",
       "      <td>762 E SLAUSON AVE</td>\n",
       "      <td>LOS ANGELES</td>\n",
       "    </tr>\n",
       "    <tr>\n",
       "      <th>545</th>\n",
       "      <td>TACOS MR.HIDRO</td>\n",
       "      <td>2019-09-23</td>\n",
       "      <td>90.0</td>\n",
       "      <td>762 E SLAUSON AVE</td>\n",
       "      <td>LOS ANGELES</td>\n",
       "    </tr>\n",
       "    <tr>\n",
       "      <th>568</th>\n",
       "      <td>CELIA'S FOODS</td>\n",
       "      <td>2020-06-22</td>\n",
       "      <td>97.0</td>\n",
       "      <td>762 E SLAUSON AVE</td>\n",
       "      <td>LOS ANGELES</td>\n",
       "    </tr>\n",
       "    <tr>\n",
       "      <th>667</th>\n",
       "      <td>PALOMA CELESTIAL #2</td>\n",
       "      <td>2022-03-22</td>\n",
       "      <td>94.0</td>\n",
       "      <td>762 E SLAUSON AVE</td>\n",
       "      <td>LOS ANGELES</td>\n",
       "    </tr>\n",
       "    <tr>\n",
       "      <th>1111</th>\n",
       "      <td>LOS AMIGOS FOOD TRUCK</td>\n",
       "      <td>2022-02-24</td>\n",
       "      <td>90.0</td>\n",
       "      <td>762 E SLAUSON AVE</td>\n",
       "      <td>LOS ANGELES</td>\n",
       "    </tr>\n",
       "    <tr>\n",
       "      <th>...</th>\n",
       "      <td>...</td>\n",
       "      <td>...</td>\n",
       "      <td>...</td>\n",
       "      <td>...</td>\n",
       "      <td>...</td>\n",
       "    </tr>\n",
       "    <tr>\n",
       "      <th>44895</th>\n",
       "      <td>CHICKEN KING FT</td>\n",
       "      <td>2021-10-30</td>\n",
       "      <td>95.0</td>\n",
       "      <td>762 E SLAUSON AVE</td>\n",
       "      <td>LOS ANGELES</td>\n",
       "    </tr>\n",
       "    <tr>\n",
       "      <th>44918</th>\n",
       "      <td>ESPERANZA TACOS GRILL</td>\n",
       "      <td>2022-02-24</td>\n",
       "      <td>90.0</td>\n",
       "      <td>762 E SLAUSON AVE</td>\n",
       "      <td>LOS ANGELES</td>\n",
       "    </tr>\n",
       "    <tr>\n",
       "      <th>44929</th>\n",
       "      <td>TACOS LOS AMIGOS</td>\n",
       "      <td>2022-03-17</td>\n",
       "      <td>86.0</td>\n",
       "      <td>762 E SLAUSON AVE</td>\n",
       "      <td>LOS ANGELES</td>\n",
       "    </tr>\n",
       "    <tr>\n",
       "      <th>44938</th>\n",
       "      <td>GLENDA'S CATERING</td>\n",
       "      <td>2022-03-08</td>\n",
       "      <td>90.0</td>\n",
       "      <td>762 E SLAUSON AVE</td>\n",
       "      <td>LOS ANGELES</td>\n",
       "    </tr>\n",
       "    <tr>\n",
       "      <th>44946</th>\n",
       "      <td>TACO SAMSON</td>\n",
       "      <td>2022-03-01</td>\n",
       "      <td>96.0</td>\n",
       "      <td>762 E SLAUSON AVE</td>\n",
       "      <td>LOS ANGELES</td>\n",
       "    </tr>\n",
       "  </tbody>\n",
       "</table>\n",
       "<p>222 rows × 5 columns</p>\n",
       "</div>"
      ],
      "text/plain": [
       "                            facility_name inspection_date  score  \\\n",
       "172    TAQUERIA SAN MIGUEL ESTILO TIJUANA      2022-01-25   93.0   \n",
       "545                        TACOS MR.HIDRO      2019-09-23   90.0   \n",
       "568                         CELIA'S FOODS      2020-06-22   97.0   \n",
       "667                   PALOMA CELESTIAL #2      2022-03-22   94.0   \n",
       "1111                LOS AMIGOS FOOD TRUCK      2022-02-24   90.0   \n",
       "...                                   ...             ...    ...   \n",
       "44895                     CHICKEN KING FT      2021-10-30   95.0   \n",
       "44918               ESPERANZA TACOS GRILL      2022-02-24   90.0   \n",
       "44929                    TACOS LOS AMIGOS      2022-03-17   86.0   \n",
       "44938                   GLENDA'S CATERING      2022-03-08   90.0   \n",
       "44946                         TACO SAMSON      2022-03-01   96.0   \n",
       "\n",
       "        facility_address facility_city  \n",
       "172    762 E SLAUSON AVE   LOS ANGELES  \n",
       "545    762 E SLAUSON AVE   LOS ANGELES  \n",
       "568    762 E SLAUSON AVE   LOS ANGELES  \n",
       "667    762 E SLAUSON AVE   LOS ANGELES  \n",
       "1111   762 E SLAUSON AVE   LOS ANGELES  \n",
       "...                  ...           ...  \n",
       "44895  762 E SLAUSON AVE   LOS ANGELES  \n",
       "44918  762 E SLAUSON AVE   LOS ANGELES  \n",
       "44929  762 E SLAUSON AVE   LOS ANGELES  \n",
       "44938  762 E SLAUSON AVE   LOS ANGELES  \n",
       "44946  762 E SLAUSON AVE   LOS ANGELES  \n",
       "\n",
       "[222 rows x 5 columns]"
      ]
     },
     "execution_count": 79,
     "metadata": {},
     "output_type": "execute_result"
    }
   ],
   "source": [
    "# lots of wrong addresses here\n",
    "# e.g., \"TAQUERIA SAN MIGUEL ESTILO TIJUANA\" is on Yelp at \n",
    "df[df.facility_address == '762 E SLAUSON AVE']"
   ]
  },
  {
   "cell_type": "code",
   "execution_count": 36,
   "id": "54e4c3a1-17e9-4c42-b6c8-3b7be935dcff",
   "metadata": {},
   "outputs": [
    {
     "data": {
      "text/plain": [
       "Index(['ARIEL COURT APTS SPA POOL', '2020-01-31', 'Unnamed: 2',\n",
       "       '535 GAYLEY AVE ', 'LOS ANGELES'],\n",
       "      dtype='object')"
      ]
     },
     "execution_count": 36,
     "metadata": {},
     "output_type": "execute_result"
    }
   ],
   "source": [
    "df.columns"
   ]
  },
  {
   "cell_type": "code",
   "execution_count": 7,
   "id": "8c293385-5b76-4a97-9d73-904391544320",
   "metadata": {},
   "outputs": [
    {
     "data": {
      "text/plain": [
       "0               3708 N EAGLE ROCK BLVD\n",
       "1                  100 WORLD WAY # 120\n",
       "2            6801 HOLLYWOOD BLVD # 253\n",
       "3                   1814 W SUNSET BLVD\n",
       "4                   2100 ECHO PARK AVE\n",
       "                     ...              \n",
       "67568    104 JAPANESE VILLAGE PLZ MALL\n",
       "67569           4050 W WASHINGTON BLVD\n",
       "67570                     4312 WALL ST\n",
       "67571               2012 SAWTELLE BLVD\n",
       "67572        3600 E CESAR E CHAVEZ AVE\n",
       "Name: facility_address, Length: 67573, dtype: object"
      ]
     },
     "execution_count": 7,
     "metadata": {},
     "output_type": "execute_result"
    }
   ],
   "source": [
    "df.facility_address"
   ]
  },
  {
   "cell_type": "markdown",
   "id": "ae6f1fb2-ba0d-48db-a9aa-a972c96f0318",
   "metadata": {
    "jp-MarkdownHeadingCollapsed": true,
    "tags": []
   },
   "source": [
    "## query Yelp fusion API for business health scores"
   ]
  },
  {
   "cell_type": "markdown",
   "id": "992fa848-e012-418c-af3a-5fcdd6f70f26",
   "metadata": {},
   "source": [
    "The API does not have health scores! This sucks. Time to web scrape instead."
   ]
  },
  {
   "cell_type": "code",
   "execution_count": 5,
   "id": "59461de9-e6ea-4cbc-a5f5-4bd2a1cca5db",
   "metadata": {},
   "outputs": [],
   "source": [
    "austin_rest = pd.read_csv(processed_data_directory + 'austin_restaurants.csv')"
   ]
  },
  {
   "cell_type": "code",
   "execution_count": 6,
   "id": "f338f060-15c8-478a-8434-8bf86e811ae5",
   "metadata": {},
   "outputs": [
    {
     "data": {
      "text/plain": [
       "'NRPemqVb4qpWFF0Avq_6OQ'"
      ]
     },
     "execution_count": 6,
     "metadata": {},
     "output_type": "execute_result"
    }
   ],
   "source": [
    "business_id = austin_rest.business_id[1]\n",
    "business_id"
   ]
  },
  {
   "cell_type": "code",
   "execution_count": 7,
   "id": "2f8c5f5f-88ac-48c8-a8ac-d8531243285a",
   "metadata": {},
   "outputs": [],
   "source": [
    "yelp_api = YelpAPI(api_key, timeout_s=3.0)"
   ]
  },
  {
   "cell_type": "code",
   "execution_count": 8,
   "id": "28e6c39f-2a3c-4286-960b-9b4b1c76a239",
   "metadata": {},
   "outputs": [
    {
     "data": {
      "text/plain": [
       "'GET https://api.yelp.com/v3/businesses/NRPemqVb4qpWFF0Avq_6OQ'"
      ]
     },
     "execution_count": 8,
     "metadata": {},
     "output_type": "execute_result"
    }
   ],
   "source": [
    "query = f'GET https://api.yelp.com/v3/businesses/{business_id}'\n",
    "query"
   ]
  },
  {
   "cell_type": "code",
   "execution_count": 9,
   "id": "a756d800-b28b-45d4-a6c0-284e719311d9",
   "metadata": {},
   "outputs": [],
   "source": [
    "results = yelp_api.business_query(id=business_id)"
   ]
  },
  {
   "cell_type": "code",
   "execution_count": 11,
   "id": "627e7b35-999a-4e15-914e-e84a8010873f",
   "metadata": {},
   "outputs": [],
   "source": [
    "all_results={}"
   ]
  },
  {
   "cell_type": "code",
   "execution_count": 12,
   "id": "e49b7d27-32ab-43d0-b002-61ea5e4bc2d9",
   "metadata": {},
   "outputs": [],
   "source": [
    "all_results[business_id] = results"
   ]
  },
  {
   "cell_type": "code",
   "execution_count": 13,
   "id": "4771463e-233e-4b00-962e-6ec3dcae19c9",
   "metadata": {},
   "outputs": [
    {
     "data": {
      "text/plain": [
       "{'NRPemqVb4qpWFF0Avq_6OQ': {'id': 'NRPemqVb4qpWFF0Avq_6OQ',\n",
       "  'alias': 'eurasia-sushi-bar-and-seafood-austin-2',\n",
       "  'name': 'Eurasia Sushi Bar & Seafood',\n",
       "  'image_url': 'https://s3-media2.fl.yelpcdn.com/bphoto/u0zypdAOIdkGVxpZWm3w3Q/o.jpg',\n",
       "  'is_claimed': True,\n",
       "  'is_closed': False,\n",
       "  'url': 'https://www.yelp.com/biz/eurasia-sushi-bar-and-seafood-austin-2?adjust_creative=_k6ZLo2AEA8LwUVQTwITpg&utm_campaign=yelp_api_v3&utm_medium=api_v3_business_lookup&utm_source=_k6ZLo2AEA8LwUVQTwITpg',\n",
       "  'phone': '+15123820968',\n",
       "  'display_phone': '(512) 382-0968',\n",
       "  'review_count': 456,\n",
       "  'categories': [{'alias': 'sushi', 'title': 'Sushi Bars'},\n",
       "   {'alias': 'seafood', 'title': 'Seafood'},\n",
       "   {'alias': 'cocktailbars', 'title': 'Cocktail Bars'}],\n",
       "  'rating': 4.5,\n",
       "  'location': {'address1': '7101 W Hwy 71',\n",
       "   'address2': 'Ste C-13',\n",
       "   'address3': '',\n",
       "   'city': 'Austin',\n",
       "   'zip_code': '78735',\n",
       "   'country': 'US',\n",
       "   'state': 'TX',\n",
       "   'display_address': ['7101 W Hwy 71', 'Ste C-13', 'Austin, TX 78735'],\n",
       "   'cross_streets': ''},\n",
       "  'coordinates': {'latitude': 30.23475765103238,\n",
       "   'longitude': -97.87820086444376},\n",
       "  'photos': ['https://s3-media2.fl.yelpcdn.com/bphoto/u0zypdAOIdkGVxpZWm3w3Q/o.jpg',\n",
       "   'https://s3-media2.fl.yelpcdn.com/bphoto/VzCqzJSVHHAeVkaPaoRh9Q/o.jpg',\n",
       "   'https://s3-media3.fl.yelpcdn.com/bphoto/nd_GNzcJXQHuWsbb1mC__A/o.jpg'],\n",
       "  'price': '$$',\n",
       "  'hours': [{'open': [{'is_overnight': False,\n",
       "      'start': '1100',\n",
       "      'end': '2200',\n",
       "      'day': 0},\n",
       "     {'is_overnight': False, 'start': '1100', 'end': '2200', 'day': 1},\n",
       "     {'is_overnight': False, 'start': '1100', 'end': '2200', 'day': 2},\n",
       "     {'is_overnight': False, 'start': '1100', 'end': '2200', 'day': 3},\n",
       "     {'is_overnight': False, 'start': '1100', 'end': '2200', 'day': 4},\n",
       "     {'is_overnight': False, 'start': '1100', 'end': '2200', 'day': 5},\n",
       "     {'is_overnight': False, 'start': '1100', 'end': '2200', 'day': 6}],\n",
       "    'hours_type': 'REGULAR',\n",
       "    'is_open_now': False}],\n",
       "  'transactions': ['pickup', 'delivery']}}"
      ]
     },
     "execution_count": 13,
     "metadata": {},
     "output_type": "execute_result"
    }
   ],
   "source": [
    "all_results"
   ]
  },
  {
   "cell_type": "markdown",
   "id": "7f53ab63-39c5-457f-a2ad-b71fc0e433e3",
   "metadata": {
    "tags": []
   },
   "source": [
    "## web scrape health scores from Yelp"
   ]
  },
  {
   "cell_type": "markdown",
   "id": "494c3010-8fba-45c8-84d3-8cd0d09ddb21",
   "metadata": {},
   "source": [
    "This got me banned pretty quickly."
   ]
  },
  {
   "cell_type": "markdown",
   "id": "b6f3f294-b97a-4b77-965f-bfdb3c868ee6",
   "metadata": {
    "jp-MarkdownHeadingCollapsed": true,
    "tags": []
   },
   "source": [
    "### try manually"
   ]
  },
  {
   "cell_type": "code",
   "execution_count": 89,
   "id": "9c9cc2c4-5671-45be-9d86-dc9534cd2075",
   "metadata": {},
   "outputs": [],
   "source": [
    "austin_rest = pd.read_csv(processed_data_directory + 'austin_restaurants.csv')"
   ]
  },
  {
   "cell_type": "code",
   "execution_count": 148,
   "id": "e44e0690-17ee-40ea-8400-fc64aa97800a",
   "metadata": {},
   "outputs": [
    {
     "data": {
      "text/plain": [
       "6344"
      ]
     },
     "execution_count": 148,
     "metadata": {},
     "output_type": "execute_result"
    }
   ],
   "source": [
    "len(austin_rest)"
   ]
  },
  {
   "cell_type": "code",
   "execution_count": 228,
   "id": "d62e648f-5793-4592-b65d-b3526683b0a8",
   "metadata": {},
   "outputs": [],
   "source": [
    "business_id = austin_rest.business_id[7]\n",
    "url = f'https://www.yelp.com/inspections/{business_id}'"
   ]
  },
  {
   "cell_type": "code",
   "execution_count": 229,
   "id": "7146304b-ab74-4b64-ab4e-7f10787360cc",
   "metadata": {},
   "outputs": [
    {
     "data": {
      "text/plain": [
       "'Pk4ZwXwUU50BDn5gqw_rKg'"
      ]
     },
     "execution_count": 229,
     "metadata": {},
     "output_type": "execute_result"
    }
   ],
   "source": [
    "business_id"
   ]
  },
  {
   "cell_type": "code",
   "execution_count": 230,
   "id": "5c1fd79b-768f-4942-b5fa-e88d4b6ccfe9",
   "metadata": {},
   "outputs": [
    {
     "data": {
      "text/plain": [
       "200"
      ]
     },
     "execution_count": 230,
     "metadata": {},
     "output_type": "execute_result"
    }
   ],
   "source": [
    "response = requests.get(url)\n",
    "response.status_code"
   ]
  },
  {
   "cell_type": "code",
   "execution_count": 231,
   "id": "fd764909-3674-4e22-82bf-598513f371fa",
   "metadata": {},
   "outputs": [],
   "source": [
    "# for restaurants without inspection data\n",
    "if(response.status_code == 404):\n",
    "    print( None )"
   ]
  },
  {
   "cell_type": "code",
   "execution_count": 232,
   "id": "dc19234b-f80e-40bd-a876-2a2d4b483df9",
   "metadata": {},
   "outputs": [],
   "source": [
    "soup = BeautifulSoup(response.text)\n",
    "table = soup.find('table', {'class':'table table-striped js-inspections-table hide-city-grade'})\n",
    "df_insp = pd.read_html(str(table))[0].drop('Grade',axis=1)\n",
    "df_insp['business_id'] = business_id\n",
    "# df_insp.Date = pd.to_datetime(df_insp.Date)"
   ]
  },
  {
   "cell_type": "code",
   "execution_count": 233,
   "id": "d95dfe3c-6187-43d4-8851-5e078fb1fabf",
   "metadata": {},
   "outputs": [],
   "source": [
    "cols = df_insp.columns.tolist()\n",
    "cols = cols[-1:] + cols[:-1]\n",
    "df_insp = df_insp[cols]"
   ]
  },
  {
   "cell_type": "code",
   "execution_count": 234,
   "id": "c3d2b961-5c6c-4f23-ac16-9cd45ddd882e",
   "metadata": {},
   "outputs": [
    {
     "data": {
      "text/html": [
       "<div>\n",
       "<style scoped>\n",
       "    .dataframe tbody tr th:only-of-type {\n",
       "        vertical-align: middle;\n",
       "    }\n",
       "\n",
       "    .dataframe tbody tr th {\n",
       "        vertical-align: top;\n",
       "    }\n",
       "\n",
       "    .dataframe thead th {\n",
       "        text-align: right;\n",
       "    }\n",
       "</style>\n",
       "<table border=\"1\" class=\"dataframe\">\n",
       "  <thead>\n",
       "    <tr style=\"text-align: right;\">\n",
       "      <th></th>\n",
       "      <th>business_id</th>\n",
       "      <th>Date</th>\n",
       "      <th>Inspection Type</th>\n",
       "      <th>Score</th>\n",
       "    </tr>\n",
       "  </thead>\n",
       "  <tbody>\n",
       "    <tr>\n",
       "      <th>0</th>\n",
       "      <td>Pk4ZwXwUU50BDn5gqw_rKg</td>\n",
       "      <td>March 31, 2022</td>\n",
       "      <td>Routine</td>\n",
       "      <td>91</td>\n",
       "    </tr>\n",
       "    <tr>\n",
       "      <th>1</th>\n",
       "      <td>Pk4ZwXwUU50BDn5gqw_rKg</td>\n",
       "      <td>September 17, 2021</td>\n",
       "      <td>Routine</td>\n",
       "      <td>85</td>\n",
       "    </tr>\n",
       "    <tr>\n",
       "      <th>2</th>\n",
       "      <td>Pk4ZwXwUU50BDn5gqw_rKg</td>\n",
       "      <td>June 11, 2021</td>\n",
       "      <td>Routine</td>\n",
       "      <td>80</td>\n",
       "    </tr>\n",
       "    <tr>\n",
       "      <th>3</th>\n",
       "      <td>Pk4ZwXwUU50BDn5gqw_rKg</td>\n",
       "      <td>July 9, 2020</td>\n",
       "      <td>Routine</td>\n",
       "      <td>85</td>\n",
       "    </tr>\n",
       "    <tr>\n",
       "      <th>4</th>\n",
       "      <td>Pk4ZwXwUU50BDn5gqw_rKg</td>\n",
       "      <td>March 31, 2020</td>\n",
       "      <td>Routine</td>\n",
       "      <td>94</td>\n",
       "    </tr>\n",
       "    <tr>\n",
       "      <th>5</th>\n",
       "      <td>Pk4ZwXwUU50BDn5gqw_rKg</td>\n",
       "      <td>October 15, 2019</td>\n",
       "      <td>Routine</td>\n",
       "      <td>96</td>\n",
       "    </tr>\n",
       "  </tbody>\n",
       "</table>\n",
       "</div>"
      ],
      "text/plain": [
       "              business_id                Date Inspection Type  Score\n",
       "0  Pk4ZwXwUU50BDn5gqw_rKg      March 31, 2022         Routine     91\n",
       "1  Pk4ZwXwUU50BDn5gqw_rKg  September 17, 2021         Routine     85\n",
       "2  Pk4ZwXwUU50BDn5gqw_rKg       June 11, 2021         Routine     80\n",
       "3  Pk4ZwXwUU50BDn5gqw_rKg        July 9, 2020         Routine     85\n",
       "4  Pk4ZwXwUU50BDn5gqw_rKg      March 31, 2020         Routine     94\n",
       "5  Pk4ZwXwUU50BDn5gqw_rKg    October 15, 2019         Routine     96"
      ]
     },
     "execution_count": 234,
     "metadata": {},
     "output_type": "execute_result"
    }
   ],
   "source": [
    "df_insp"
   ]
  },
  {
   "cell_type": "code",
   "execution_count": 220,
   "id": "08d7fc94-813f-444a-b4c9-8e0437c52721",
   "metadata": {},
   "outputs": [],
   "source": [
    "df_insp.to_csv(processed_data_directory + 'inspections_yelp.csv', index=False)"
   ]
  },
  {
   "cell_type": "code",
   "execution_count": 244,
   "id": "070eb23c-5bd7-41d6-9021-601179b8a322",
   "metadata": {},
   "outputs": [],
   "source": [
    "dff = pd.read_csv(processed_data_directory + 'inspections_yelp.csv')"
   ]
  },
  {
   "cell_type": "code",
   "execution_count": 245,
   "id": "1bcb0d15-c469-464a-9f47-02e715c52b04",
   "metadata": {},
   "outputs": [
    {
     "data": {
      "text/html": [
       "<div>\n",
       "<style scoped>\n",
       "    .dataframe tbody tr th:only-of-type {\n",
       "        vertical-align: middle;\n",
       "    }\n",
       "\n",
       "    .dataframe tbody tr th {\n",
       "        vertical-align: top;\n",
       "    }\n",
       "\n",
       "    .dataframe thead th {\n",
       "        text-align: right;\n",
       "    }\n",
       "</style>\n",
       "<table border=\"1\" class=\"dataframe\">\n",
       "  <thead>\n",
       "    <tr style=\"text-align: right;\">\n",
       "      <th></th>\n",
       "      <th>business_id</th>\n",
       "      <th>Date</th>\n",
       "      <th>Inspection Type</th>\n",
       "      <th>Score</th>\n",
       "    </tr>\n",
       "  </thead>\n",
       "  <tbody>\n",
       "    <tr>\n",
       "      <th>0</th>\n",
       "      <td>bRsDZ44CD3uhGnRY3NeQhQ</td>\n",
       "      <td>November 8, 2021</td>\n",
       "      <td>Routine</td>\n",
       "      <td>86</td>\n",
       "    </tr>\n",
       "    <tr>\n",
       "      <th>1</th>\n",
       "      <td>bRsDZ44CD3uhGnRY3NeQhQ</td>\n",
       "      <td>July 1, 2021</td>\n",
       "      <td>Routine</td>\n",
       "      <td>78</td>\n",
       "    </tr>\n",
       "    <tr>\n",
       "      <th>2</th>\n",
       "      <td>bRsDZ44CD3uhGnRY3NeQhQ</td>\n",
       "      <td>January 26, 2021</td>\n",
       "      <td>Routine</td>\n",
       "      <td>76</td>\n",
       "    </tr>\n",
       "    <tr>\n",
       "      <th>3</th>\n",
       "      <td>bRsDZ44CD3uhGnRY3NeQhQ</td>\n",
       "      <td>July 6, 2020</td>\n",
       "      <td>Routine</td>\n",
       "      <td>92</td>\n",
       "    </tr>\n",
       "    <tr>\n",
       "      <th>4</th>\n",
       "      <td>bRsDZ44CD3uhGnRY3NeQhQ</td>\n",
       "      <td>January 14, 2020</td>\n",
       "      <td>Routine</td>\n",
       "      <td>80</td>\n",
       "    </tr>\n",
       "    <tr>\n",
       "      <th>5</th>\n",
       "      <td>bRsDZ44CD3uhGnRY3NeQhQ</td>\n",
       "      <td>August 29, 2019</td>\n",
       "      <td>Routine</td>\n",
       "      <td>89</td>\n",
       "    </tr>\n",
       "    <tr>\n",
       "      <th>6</th>\n",
       "      <td>Pk4ZwXwUU50BDn5gqw_rKg</td>\n",
       "      <td>March 31, 2022</td>\n",
       "      <td>Routine</td>\n",
       "      <td>91</td>\n",
       "    </tr>\n",
       "    <tr>\n",
       "      <th>7</th>\n",
       "      <td>Pk4ZwXwUU50BDn5gqw_rKg</td>\n",
       "      <td>September 17, 2021</td>\n",
       "      <td>Routine</td>\n",
       "      <td>85</td>\n",
       "    </tr>\n",
       "    <tr>\n",
       "      <th>8</th>\n",
       "      <td>Pk4ZwXwUU50BDn5gqw_rKg</td>\n",
       "      <td>June 11, 2021</td>\n",
       "      <td>Routine</td>\n",
       "      <td>80</td>\n",
       "    </tr>\n",
       "    <tr>\n",
       "      <th>9</th>\n",
       "      <td>Pk4ZwXwUU50BDn5gqw_rKg</td>\n",
       "      <td>July 9, 2020</td>\n",
       "      <td>Routine</td>\n",
       "      <td>85</td>\n",
       "    </tr>\n",
       "    <tr>\n",
       "      <th>10</th>\n",
       "      <td>Pk4ZwXwUU50BDn5gqw_rKg</td>\n",
       "      <td>March 31, 2020</td>\n",
       "      <td>Routine</td>\n",
       "      <td>94</td>\n",
       "    </tr>\n",
       "    <tr>\n",
       "      <th>11</th>\n",
       "      <td>Pk4ZwXwUU50BDn5gqw_rKg</td>\n",
       "      <td>October 15, 2019</td>\n",
       "      <td>Routine</td>\n",
       "      <td>96</td>\n",
       "    </tr>\n",
       "  </tbody>\n",
       "</table>\n",
       "</div>"
      ],
      "text/plain": [
       "               business_id                Date Inspection Type  Score\n",
       "0   bRsDZ44CD3uhGnRY3NeQhQ    November 8, 2021         Routine     86\n",
       "1   bRsDZ44CD3uhGnRY3NeQhQ        July 1, 2021         Routine     78\n",
       "2   bRsDZ44CD3uhGnRY3NeQhQ    January 26, 2021         Routine     76\n",
       "3   bRsDZ44CD3uhGnRY3NeQhQ        July 6, 2020         Routine     92\n",
       "4   bRsDZ44CD3uhGnRY3NeQhQ    January 14, 2020         Routine     80\n",
       "5   bRsDZ44CD3uhGnRY3NeQhQ     August 29, 2019         Routine     89\n",
       "6   Pk4ZwXwUU50BDn5gqw_rKg      March 31, 2022         Routine     91\n",
       "7   Pk4ZwXwUU50BDn5gqw_rKg  September 17, 2021         Routine     85\n",
       "8   Pk4ZwXwUU50BDn5gqw_rKg       June 11, 2021         Routine     80\n",
       "9   Pk4ZwXwUU50BDn5gqw_rKg        July 9, 2020         Routine     85\n",
       "10  Pk4ZwXwUU50BDn5gqw_rKg      March 31, 2020         Routine     94\n",
       "11  Pk4ZwXwUU50BDn5gqw_rKg    October 15, 2019         Routine     96"
      ]
     },
     "execution_count": 245,
     "metadata": {},
     "output_type": "execute_result"
    }
   ],
   "source": [
    "dff"
   ]
  },
  {
   "cell_type": "code",
   "execution_count": 237,
   "id": "0ed64c4b-5c75-484e-bce7-e4c739b97967",
   "metadata": {},
   "outputs": [
    {
     "data": {
      "text/html": [
       "<div>\n",
       "<style scoped>\n",
       "    .dataframe tbody tr th:only-of-type {\n",
       "        vertical-align: middle;\n",
       "    }\n",
       "\n",
       "    .dataframe tbody tr th {\n",
       "        vertical-align: top;\n",
       "    }\n",
       "\n",
       "    .dataframe thead th {\n",
       "        text-align: right;\n",
       "    }\n",
       "</style>\n",
       "<table border=\"1\" class=\"dataframe\">\n",
       "  <thead>\n",
       "    <tr style=\"text-align: right;\">\n",
       "      <th></th>\n",
       "      <th>business_id</th>\n",
       "      <th>Date</th>\n",
       "      <th>Inspection Type</th>\n",
       "      <th>Score</th>\n",
       "    </tr>\n",
       "  </thead>\n",
       "  <tbody>\n",
       "    <tr>\n",
       "      <th>0</th>\n",
       "      <td>Pk4ZwXwUU50BDn5gqw_rKg</td>\n",
       "      <td>March 31, 2022</td>\n",
       "      <td>Routine</td>\n",
       "      <td>91</td>\n",
       "    </tr>\n",
       "    <tr>\n",
       "      <th>1</th>\n",
       "      <td>Pk4ZwXwUU50BDn5gqw_rKg</td>\n",
       "      <td>September 17, 2021</td>\n",
       "      <td>Routine</td>\n",
       "      <td>85</td>\n",
       "    </tr>\n",
       "    <tr>\n",
       "      <th>2</th>\n",
       "      <td>Pk4ZwXwUU50BDn5gqw_rKg</td>\n",
       "      <td>June 11, 2021</td>\n",
       "      <td>Routine</td>\n",
       "      <td>80</td>\n",
       "    </tr>\n",
       "    <tr>\n",
       "      <th>3</th>\n",
       "      <td>Pk4ZwXwUU50BDn5gqw_rKg</td>\n",
       "      <td>July 9, 2020</td>\n",
       "      <td>Routine</td>\n",
       "      <td>85</td>\n",
       "    </tr>\n",
       "    <tr>\n",
       "      <th>4</th>\n",
       "      <td>Pk4ZwXwUU50BDn5gqw_rKg</td>\n",
       "      <td>March 31, 2020</td>\n",
       "      <td>Routine</td>\n",
       "      <td>94</td>\n",
       "    </tr>\n",
       "    <tr>\n",
       "      <th>5</th>\n",
       "      <td>Pk4ZwXwUU50BDn5gqw_rKg</td>\n",
       "      <td>October 15, 2019</td>\n",
       "      <td>Routine</td>\n",
       "      <td>96</td>\n",
       "    </tr>\n",
       "  </tbody>\n",
       "</table>\n",
       "</div>"
      ],
      "text/plain": [
       "              business_id                Date Inspection Type  Score\n",
       "0  Pk4ZwXwUU50BDn5gqw_rKg      March 31, 2022         Routine     91\n",
       "1  Pk4ZwXwUU50BDn5gqw_rKg  September 17, 2021         Routine     85\n",
       "2  Pk4ZwXwUU50BDn5gqw_rKg       June 11, 2021         Routine     80\n",
       "3  Pk4ZwXwUU50BDn5gqw_rKg        July 9, 2020         Routine     85\n",
       "4  Pk4ZwXwUU50BDn5gqw_rKg      March 31, 2020         Routine     94\n",
       "5  Pk4ZwXwUU50BDn5gqw_rKg    October 15, 2019         Routine     96"
      ]
     },
     "execution_count": 237,
     "metadata": {},
     "output_type": "execute_result"
    }
   ],
   "source": [
    "df_insp"
   ]
  },
  {
   "cell_type": "code",
   "execution_count": 241,
   "id": "c14be85a-dd58-43d2-b93b-cd3f66666be0",
   "metadata": {},
   "outputs": [],
   "source": [
    "dff = dff.merge(right=df_insp, how='outer')"
   ]
  },
  {
   "cell_type": "code",
   "execution_count": 243,
   "id": "6ca44ed5-c169-40ea-93fd-675da83ed3d2",
   "metadata": {},
   "outputs": [],
   "source": [
    "dff.to_csv(processed_data_directory + 'inspections_yelp.csv', index=False)"
   ]
  },
  {
   "cell_type": "markdown",
   "id": "c8d83e42-0eb0-4579-ab94-4a7c9ddc9be4",
   "metadata": {
    "jp-MarkdownHeadingCollapsed": true,
    "tags": []
   },
   "source": [
    "### in a function"
   ]
  },
  {
   "cell_type": "code",
   "execution_count": 326,
   "id": "889e8893-2ef8-4eac-a484-0a613e6077e4",
   "metadata": {},
   "outputs": [
    {
     "data": {
      "text/plain": [
       "<Response [503]>"
      ]
     },
     "execution_count": 326,
     "metadata": {},
     "output_type": "execute_result"
    }
   ],
   "source": [
    "url = 'https://www.yelp.com'\n",
    "headers = { 'user-agent'   : 'TDI-project' }\n",
    "requests.get(url, headers=headers)"
   ]
  },
  {
   "cell_type": "code",
   "execution_count": 320,
   "id": "2909c0ad-a74a-4370-a7f9-f99e489b18d4",
   "metadata": {},
   "outputs": [
    {
     "data": {
      "text/plain": [
       "<Response [503]>"
      ]
     },
     "execution_count": 320,
     "metadata": {},
     "output_type": "execute_result"
    }
   ],
   "source": [
    "requests.get('http://www.yelp.com')\n"
   ]
  },
  {
   "cell_type": "code",
   "execution_count": 268,
   "id": "e90865eb-3151-4561-9316-e2ed64d66882",
   "metadata": {},
   "outputs": [],
   "source": [
    "def scrape_health_scores(business_id):\n",
    "    url = f'https://www.yelp.com/inspections/{business_id}'\n",
    "    response = requests.get(url)\n",
    "    # for restaurants without inspection data\n",
    "    if(response.status_code == 404):\n",
    "        return None\n",
    "    else:\n",
    "        table = BeautifulSoup(response.text).find('table', {'class':'table table-striped js-inspections-table hide-city-grade'})\n",
    "        df_insp = pd.read_html(str(table))[0].drop('Grade',axis=1)\n",
    "        df_insp['business_id'] = business_id\n",
    "        return df_insp"
   ]
  },
  {
   "cell_type": "code",
   "execution_count": 313,
   "id": "d441a783-8a37-43c1-b730-1b4c4f570639",
   "metadata": {},
   "outputs": [
    {
     "ename": "ValueError",
     "evalue": "No tables found",
     "output_type": "error",
     "traceback": [
      "\u001b[1;31m---------------------------------------------------------------------------\u001b[0m",
      "\u001b[1;31mValueError\u001b[0m                                Traceback (most recent call last)",
      "\u001b[1;32m~\\AppData\\Local\\Temp\\ipykernel_12664\\791521893.py\u001b[0m in \u001b[0;36m<cell line: 3>\u001b[1;34m()\u001b[0m\n\u001b[0;32m      1\u001b[0m \u001b[0maustin_rest\u001b[0m \u001b[1;33m=\u001b[0m \u001b[0mpd\u001b[0m\u001b[1;33m.\u001b[0m\u001b[0mread_csv\u001b[0m\u001b[1;33m(\u001b[0m\u001b[0mprocessed_data_directory\u001b[0m \u001b[1;33m+\u001b[0m \u001b[1;34m'austin_restaurants.csv'\u001b[0m\u001b[1;33m)\u001b[0m\u001b[1;33m\u001b[0m\u001b[1;33m\u001b[0m\u001b[0m\n\u001b[0;32m      2\u001b[0m \u001b[0mbusiness_id\u001b[0m \u001b[1;33m=\u001b[0m \u001b[0maustin_rest\u001b[0m\u001b[1;33m.\u001b[0m\u001b[0mbusiness_id\u001b[0m\u001b[1;33m[\u001b[0m\u001b[1;36m0\u001b[0m\u001b[1;33m]\u001b[0m\u001b[1;33m\u001b[0m\u001b[1;33m\u001b[0m\u001b[0m\n\u001b[1;32m----> 3\u001b[1;33m \u001b[0mdf\u001b[0m \u001b[1;33m=\u001b[0m \u001b[0mscrape_health_scores\u001b[0m\u001b[1;33m(\u001b[0m\u001b[0mbusiness_id\u001b[0m\u001b[1;33m)\u001b[0m\u001b[1;33m\u001b[0m\u001b[1;33m\u001b[0m\u001b[0m\n\u001b[0m",
      "\u001b[1;32m~\\AppData\\Local\\Temp\\ipykernel_12664\\873113158.py\u001b[0m in \u001b[0;36mscrape_health_scores\u001b[1;34m(business_id)\u001b[0m\n\u001b[0;32m      7\u001b[0m     \u001b[1;32melse\u001b[0m\u001b[1;33m:\u001b[0m\u001b[1;33m\u001b[0m\u001b[1;33m\u001b[0m\u001b[0m\n\u001b[0;32m      8\u001b[0m         \u001b[0mtable\u001b[0m \u001b[1;33m=\u001b[0m \u001b[0mBeautifulSoup\u001b[0m\u001b[1;33m(\u001b[0m\u001b[0mresponse\u001b[0m\u001b[1;33m.\u001b[0m\u001b[0mtext\u001b[0m\u001b[1;33m)\u001b[0m\u001b[1;33m.\u001b[0m\u001b[0mfind\u001b[0m\u001b[1;33m(\u001b[0m\u001b[1;34m'table'\u001b[0m\u001b[1;33m,\u001b[0m \u001b[1;33m{\u001b[0m\u001b[1;34m'class'\u001b[0m\u001b[1;33m:\u001b[0m\u001b[1;34m'table table-striped js-inspections-table hide-city-grade'\u001b[0m\u001b[1;33m}\u001b[0m\u001b[1;33m)\u001b[0m\u001b[1;33m\u001b[0m\u001b[1;33m\u001b[0m\u001b[0m\n\u001b[1;32m----> 9\u001b[1;33m         \u001b[0mdf_insp\u001b[0m \u001b[1;33m=\u001b[0m \u001b[0mpd\u001b[0m\u001b[1;33m.\u001b[0m\u001b[0mread_html\u001b[0m\u001b[1;33m(\u001b[0m\u001b[0mstr\u001b[0m\u001b[1;33m(\u001b[0m\u001b[0mtable\u001b[0m\u001b[1;33m)\u001b[0m\u001b[1;33m)\u001b[0m\u001b[1;33m[\u001b[0m\u001b[1;36m0\u001b[0m\u001b[1;33m]\u001b[0m\u001b[1;33m.\u001b[0m\u001b[0mdrop\u001b[0m\u001b[1;33m(\u001b[0m\u001b[1;34m'Grade'\u001b[0m\u001b[1;33m,\u001b[0m\u001b[0maxis\u001b[0m\u001b[1;33m=\u001b[0m\u001b[1;36m1\u001b[0m\u001b[1;33m)\u001b[0m\u001b[1;33m\u001b[0m\u001b[1;33m\u001b[0m\u001b[0m\n\u001b[0m\u001b[0;32m     10\u001b[0m         \u001b[0mdf_insp\u001b[0m\u001b[1;33m[\u001b[0m\u001b[1;34m'business_id'\u001b[0m\u001b[1;33m]\u001b[0m \u001b[1;33m=\u001b[0m \u001b[0mbusiness_id\u001b[0m\u001b[1;33m\u001b[0m\u001b[1;33m\u001b[0m\u001b[0m\n\u001b[0;32m     11\u001b[0m         \u001b[1;32mreturn\u001b[0m \u001b[0mdf_insp\u001b[0m\u001b[1;33m\u001b[0m\u001b[1;33m\u001b[0m\u001b[0m\n",
      "\u001b[1;32m~\\anaconda3\\lib\\site-packages\\pandas\\util\\_decorators.py\u001b[0m in \u001b[0;36mwrapper\u001b[1;34m(*args, **kwargs)\u001b[0m\n\u001b[0;32m    309\u001b[0m                     \u001b[0mstacklevel\u001b[0m\u001b[1;33m=\u001b[0m\u001b[0mstacklevel\u001b[0m\u001b[1;33m,\u001b[0m\u001b[1;33m\u001b[0m\u001b[1;33m\u001b[0m\u001b[0m\n\u001b[0;32m    310\u001b[0m                 )\n\u001b[1;32m--> 311\u001b[1;33m             \u001b[1;32mreturn\u001b[0m \u001b[0mfunc\u001b[0m\u001b[1;33m(\u001b[0m\u001b[1;33m*\u001b[0m\u001b[0margs\u001b[0m\u001b[1;33m,\u001b[0m \u001b[1;33m**\u001b[0m\u001b[0mkwargs\u001b[0m\u001b[1;33m)\u001b[0m\u001b[1;33m\u001b[0m\u001b[1;33m\u001b[0m\u001b[0m\n\u001b[0m\u001b[0;32m    312\u001b[0m \u001b[1;33m\u001b[0m\u001b[0m\n\u001b[0;32m    313\u001b[0m         \u001b[1;32mreturn\u001b[0m \u001b[0mwrapper\u001b[0m\u001b[1;33m\u001b[0m\u001b[1;33m\u001b[0m\u001b[0m\n",
      "\u001b[1;32m~\\anaconda3\\lib\\site-packages\\pandas\\io\\html.py\u001b[0m in \u001b[0;36mread_html\u001b[1;34m(io, match, flavor, header, index_col, skiprows, attrs, parse_dates, thousands, encoding, decimal, converters, na_values, keep_default_na, displayed_only)\u001b[0m\n\u001b[0;32m   1111\u001b[0m     \u001b[0mio\u001b[0m \u001b[1;33m=\u001b[0m \u001b[0mstringify_path\u001b[0m\u001b[1;33m(\u001b[0m\u001b[0mio\u001b[0m\u001b[1;33m)\u001b[0m\u001b[1;33m\u001b[0m\u001b[1;33m\u001b[0m\u001b[0m\n\u001b[0;32m   1112\u001b[0m \u001b[1;33m\u001b[0m\u001b[0m\n\u001b[1;32m-> 1113\u001b[1;33m     return _parse(\n\u001b[0m\u001b[0;32m   1114\u001b[0m         \u001b[0mflavor\u001b[0m\u001b[1;33m=\u001b[0m\u001b[0mflavor\u001b[0m\u001b[1;33m,\u001b[0m\u001b[1;33m\u001b[0m\u001b[1;33m\u001b[0m\u001b[0m\n\u001b[0;32m   1115\u001b[0m         \u001b[0mio\u001b[0m\u001b[1;33m=\u001b[0m\u001b[0mio\u001b[0m\u001b[1;33m,\u001b[0m\u001b[1;33m\u001b[0m\u001b[1;33m\u001b[0m\u001b[0m\n",
      "\u001b[1;32m~\\anaconda3\\lib\\site-packages\\pandas\\io\\html.py\u001b[0m in \u001b[0;36m_parse\u001b[1;34m(flavor, io, match, attrs, encoding, displayed_only, **kwargs)\u001b[0m\n\u001b[0;32m    937\u001b[0m     \u001b[1;32melse\u001b[0m\u001b[1;33m:\u001b[0m\u001b[1;33m\u001b[0m\u001b[1;33m\u001b[0m\u001b[0m\n\u001b[0;32m    938\u001b[0m         \u001b[1;32massert\u001b[0m \u001b[0mretained\u001b[0m \u001b[1;32mis\u001b[0m \u001b[1;32mnot\u001b[0m \u001b[1;32mNone\u001b[0m  \u001b[1;31m# for mypy\u001b[0m\u001b[1;33m\u001b[0m\u001b[1;33m\u001b[0m\u001b[0m\n\u001b[1;32m--> 939\u001b[1;33m         \u001b[1;32mraise\u001b[0m \u001b[0mretained\u001b[0m\u001b[1;33m\u001b[0m\u001b[1;33m\u001b[0m\u001b[0m\n\u001b[0m\u001b[0;32m    940\u001b[0m \u001b[1;33m\u001b[0m\u001b[0m\n\u001b[0;32m    941\u001b[0m     \u001b[0mret\u001b[0m \u001b[1;33m=\u001b[0m \u001b[1;33m[\u001b[0m\u001b[1;33m]\u001b[0m\u001b[1;33m\u001b[0m\u001b[1;33m\u001b[0m\u001b[0m\n",
      "\u001b[1;32m~\\anaconda3\\lib\\site-packages\\pandas\\io\\html.py\u001b[0m in \u001b[0;36m_parse\u001b[1;34m(flavor, io, match, attrs, encoding, displayed_only, **kwargs)\u001b[0m\n\u001b[0;32m    917\u001b[0m \u001b[1;33m\u001b[0m\u001b[0m\n\u001b[0;32m    918\u001b[0m         \u001b[1;32mtry\u001b[0m\u001b[1;33m:\u001b[0m\u001b[1;33m\u001b[0m\u001b[1;33m\u001b[0m\u001b[0m\n\u001b[1;32m--> 919\u001b[1;33m             \u001b[0mtables\u001b[0m \u001b[1;33m=\u001b[0m \u001b[0mp\u001b[0m\u001b[1;33m.\u001b[0m\u001b[0mparse_tables\u001b[0m\u001b[1;33m(\u001b[0m\u001b[1;33m)\u001b[0m\u001b[1;33m\u001b[0m\u001b[1;33m\u001b[0m\u001b[0m\n\u001b[0m\u001b[0;32m    920\u001b[0m         \u001b[1;32mexcept\u001b[0m \u001b[0mValueError\u001b[0m \u001b[1;32mas\u001b[0m \u001b[0mcaught\u001b[0m\u001b[1;33m:\u001b[0m\u001b[1;33m\u001b[0m\u001b[1;33m\u001b[0m\u001b[0m\n\u001b[0;32m    921\u001b[0m             \u001b[1;31m# if `io` is an io-like object, check if it's seekable\u001b[0m\u001b[1;33m\u001b[0m\u001b[1;33m\u001b[0m\u001b[0m\n",
      "\u001b[1;32m~\\anaconda3\\lib\\site-packages\\pandas\\io\\html.py\u001b[0m in \u001b[0;36mparse_tables\u001b[1;34m(self)\u001b[0m\n\u001b[0;32m    237\u001b[0m         \u001b[0mlist\u001b[0m \u001b[0mof\u001b[0m \u001b[0mparsed\u001b[0m \u001b[1;33m(\u001b[0m\u001b[0mheader\u001b[0m\u001b[1;33m,\u001b[0m \u001b[0mbody\u001b[0m\u001b[1;33m,\u001b[0m \u001b[0mfooter\u001b[0m\u001b[1;33m)\u001b[0m \u001b[0mtuples\u001b[0m \u001b[1;32mfrom\u001b[0m \u001b[0mtables\u001b[0m\u001b[1;33m.\u001b[0m\u001b[1;33m\u001b[0m\u001b[1;33m\u001b[0m\u001b[0m\n\u001b[0;32m    238\u001b[0m         \"\"\"\n\u001b[1;32m--> 239\u001b[1;33m         \u001b[0mtables\u001b[0m \u001b[1;33m=\u001b[0m \u001b[0mself\u001b[0m\u001b[1;33m.\u001b[0m\u001b[0m_parse_tables\u001b[0m\u001b[1;33m(\u001b[0m\u001b[0mself\u001b[0m\u001b[1;33m.\u001b[0m\u001b[0m_build_doc\u001b[0m\u001b[1;33m(\u001b[0m\u001b[1;33m)\u001b[0m\u001b[1;33m,\u001b[0m \u001b[0mself\u001b[0m\u001b[1;33m.\u001b[0m\u001b[0mmatch\u001b[0m\u001b[1;33m,\u001b[0m \u001b[0mself\u001b[0m\u001b[1;33m.\u001b[0m\u001b[0mattrs\u001b[0m\u001b[1;33m)\u001b[0m\u001b[1;33m\u001b[0m\u001b[1;33m\u001b[0m\u001b[0m\n\u001b[0m\u001b[0;32m    240\u001b[0m         \u001b[1;32mreturn\u001b[0m \u001b[1;33m(\u001b[0m\u001b[0mself\u001b[0m\u001b[1;33m.\u001b[0m\u001b[0m_parse_thead_tbody_tfoot\u001b[0m\u001b[1;33m(\u001b[0m\u001b[0mtable\u001b[0m\u001b[1;33m)\u001b[0m \u001b[1;32mfor\u001b[0m \u001b[0mtable\u001b[0m \u001b[1;32min\u001b[0m \u001b[0mtables\u001b[0m\u001b[1;33m)\u001b[0m\u001b[1;33m\u001b[0m\u001b[1;33m\u001b[0m\u001b[0m\n\u001b[0;32m    241\u001b[0m \u001b[1;33m\u001b[0m\u001b[0m\n",
      "\u001b[1;32m~\\anaconda3\\lib\\site-packages\\pandas\\io\\html.py\u001b[0m in \u001b[0;36m_parse_tables\u001b[1;34m(self, doc, match, attrs)\u001b[0m\n\u001b[0;32m    567\u001b[0m \u001b[1;33m\u001b[0m\u001b[0m\n\u001b[0;32m    568\u001b[0m         \u001b[1;32mif\u001b[0m \u001b[1;32mnot\u001b[0m \u001b[0mtables\u001b[0m\u001b[1;33m:\u001b[0m\u001b[1;33m\u001b[0m\u001b[1;33m\u001b[0m\u001b[0m\n\u001b[1;32m--> 569\u001b[1;33m             \u001b[1;32mraise\u001b[0m \u001b[0mValueError\u001b[0m\u001b[1;33m(\u001b[0m\u001b[1;34m\"No tables found\"\u001b[0m\u001b[1;33m)\u001b[0m\u001b[1;33m\u001b[0m\u001b[1;33m\u001b[0m\u001b[0m\n\u001b[0m\u001b[0;32m    570\u001b[0m \u001b[1;33m\u001b[0m\u001b[0m\n\u001b[0;32m    571\u001b[0m         \u001b[0mresult\u001b[0m \u001b[1;33m=\u001b[0m \u001b[1;33m[\u001b[0m\u001b[1;33m]\u001b[0m\u001b[1;33m\u001b[0m\u001b[1;33m\u001b[0m\u001b[0m\n",
      "\u001b[1;31mValueError\u001b[0m: No tables found"
     ]
    }
   ],
   "source": [
    "austin_rest = pd.read_csv(processed_data_directory + 'austin_restaurants.csv')\n",
    "business_id = austin_rest.business_id[0]\n",
    "df = scrape_health_scores(business_id)"
   ]
  },
  {
   "cell_type": "code",
   "execution_count": 315,
   "id": "4a6d7ccd-bad0-4a94-986c-a6d91c3e469f",
   "metadata": {},
   "outputs": [
    {
     "data": {
      "text/plain": [
       "'https://www.yelp.com/inspections/Xw8tuI30T-xihpzwBV-zJg'"
      ]
     },
     "execution_count": 315,
     "metadata": {},
     "output_type": "execute_result"
    }
   ],
   "source": [
    "f'https://www.yelp.com/inspections/{business_id}'"
   ]
  },
  {
   "cell_type": "code",
   "execution_count": 270,
   "id": "8388c123-af87-41e8-b6a6-8fcf4acc4beb",
   "metadata": {},
   "outputs": [],
   "source": [
    "df_tot = pd.read_csv(processed_data_directory + 'inspections_yelp.csv')"
   ]
  },
  {
   "cell_type": "code",
   "execution_count": 271,
   "id": "eae173f9-9b76-49a1-833f-120eeda6b86a",
   "metadata": {},
   "outputs": [],
   "source": [
    "df = scrape_health_scores(business_id)\n",
    "if df is not None:\n",
    "    df_tot = df_tot.merge(right=df, how='outer')"
   ]
  },
  {
   "cell_type": "code",
   "execution_count": 272,
   "id": "82ed9db1-57be-43b3-a152-38d254d291ab",
   "metadata": {},
   "outputs": [],
   "source": [
    "df_tot.to_csv(processed_data_directory + 'inspections_yelp.csv', index=False)"
   ]
  },
  {
   "cell_type": "code",
   "execution_count": null,
   "id": "15fce91c-def6-4880-b7c2-aafb0547f97a",
   "metadata": {},
   "outputs": [],
   "source": []
  },
  {
   "cell_type": "code",
   "execution_count": null,
   "id": "af4309f3-cc2c-44ce-8312-5824dcea0379",
   "metadata": {},
   "outputs": [],
   "source": [
    "austin_rest = pd.read_csv(processed_data_directory + 'austin_restaurants.csv')"
   ]
  },
  {
   "cell_type": "code",
   "execution_count": null,
   "id": "d39f153b-e9ae-45f9-a6f1-43da02bffc66",
   "metadata": {},
   "outputs": [],
   "source": []
  },
  {
   "cell_type": "code",
   "execution_count": 287,
   "id": "5056ec91-7c46-490d-8c9a-116367d47ada",
   "metadata": {},
   "outputs": [],
   "source": [
    "df_tot = pd.DataFrame({})"
   ]
  },
  {
   "cell_type": "code",
   "execution_count": 302,
   "id": "1172a0f1-63a9-427f-a47c-e89905f5448a",
   "metadata": {},
   "outputs": [],
   "source": [
    "# initialize with first restaurant with health_scores\n",
    "business_id = austin_rest.business_id[1]\n",
    "time.sleep(0.5)\n",
    "df_tot = scrape_health_scores(business_id)\n",
    "df_tot.to_csv(processed_data_directory + 'inspections_yelp.csv',index=False)"
   ]
  },
  {
   "cell_type": "code",
   "execution_count": 310,
   "id": "5a9ab96a-6cdd-48b2-8b03-678865b35666",
   "metadata": {},
   "outputs": [
    {
     "data": {
      "text/plain": [
       "94.10266666666668"
      ]
     },
     "execution_count": 310,
     "metadata": {},
     "output_type": "execute_result"
    }
   ],
   "source": [
    "len(austin_rest)*17.8/20/60."
   ]
  },
  {
   "cell_type": "code",
   "execution_count": 311,
   "id": "1310a48e-39c3-446a-9d96-d5ef74d97e69",
   "metadata": {},
   "outputs": [
    {
     "name": "stdout",
     "output_type": "stream",
     "text": [
      "Running: 0\n"
     ]
    },
    {
     "ename": "ValueError",
     "evalue": "No tables found",
     "output_type": "error",
     "traceback": [
      "\u001b[1;31m---------------------------------------------------------------------------\u001b[0m",
      "\u001b[1;31mValueError\u001b[0m                                Traceback (most recent call last)",
      "\u001b[1;32m<timed exec>\u001b[0m in \u001b[0;36m<module>\u001b[1;34m\u001b[0m\n",
      "\u001b[1;32m~\\AppData\\Local\\Temp\\ipykernel_12664\\873113158.py\u001b[0m in \u001b[0;36mscrape_health_scores\u001b[1;34m(business_id)\u001b[0m\n\u001b[0;32m      7\u001b[0m     \u001b[1;32melse\u001b[0m\u001b[1;33m:\u001b[0m\u001b[1;33m\u001b[0m\u001b[1;33m\u001b[0m\u001b[0m\n\u001b[0;32m      8\u001b[0m         \u001b[0mtable\u001b[0m \u001b[1;33m=\u001b[0m \u001b[0mBeautifulSoup\u001b[0m\u001b[1;33m(\u001b[0m\u001b[0mresponse\u001b[0m\u001b[1;33m.\u001b[0m\u001b[0mtext\u001b[0m\u001b[1;33m)\u001b[0m\u001b[1;33m.\u001b[0m\u001b[0mfind\u001b[0m\u001b[1;33m(\u001b[0m\u001b[1;34m'table'\u001b[0m\u001b[1;33m,\u001b[0m \u001b[1;33m{\u001b[0m\u001b[1;34m'class'\u001b[0m\u001b[1;33m:\u001b[0m\u001b[1;34m'table table-striped js-inspections-table hide-city-grade'\u001b[0m\u001b[1;33m}\u001b[0m\u001b[1;33m)\u001b[0m\u001b[1;33m\u001b[0m\u001b[1;33m\u001b[0m\u001b[0m\n\u001b[1;32m----> 9\u001b[1;33m         \u001b[0mdf_insp\u001b[0m \u001b[1;33m=\u001b[0m \u001b[0mpd\u001b[0m\u001b[1;33m.\u001b[0m\u001b[0mread_html\u001b[0m\u001b[1;33m(\u001b[0m\u001b[0mstr\u001b[0m\u001b[1;33m(\u001b[0m\u001b[0mtable\u001b[0m\u001b[1;33m)\u001b[0m\u001b[1;33m)\u001b[0m\u001b[1;33m[\u001b[0m\u001b[1;36m0\u001b[0m\u001b[1;33m]\u001b[0m\u001b[1;33m.\u001b[0m\u001b[0mdrop\u001b[0m\u001b[1;33m(\u001b[0m\u001b[1;34m'Grade'\u001b[0m\u001b[1;33m,\u001b[0m\u001b[0maxis\u001b[0m\u001b[1;33m=\u001b[0m\u001b[1;36m1\u001b[0m\u001b[1;33m)\u001b[0m\u001b[1;33m\u001b[0m\u001b[1;33m\u001b[0m\u001b[0m\n\u001b[0m\u001b[0;32m     10\u001b[0m         \u001b[0mdf_insp\u001b[0m\u001b[1;33m[\u001b[0m\u001b[1;34m'business_id'\u001b[0m\u001b[1;33m]\u001b[0m \u001b[1;33m=\u001b[0m \u001b[0mbusiness_id\u001b[0m\u001b[1;33m\u001b[0m\u001b[1;33m\u001b[0m\u001b[0m\n\u001b[0;32m     11\u001b[0m         \u001b[1;32mreturn\u001b[0m \u001b[0mdf_insp\u001b[0m\u001b[1;33m\u001b[0m\u001b[1;33m\u001b[0m\u001b[0m\n",
      "\u001b[1;32m~\\anaconda3\\lib\\site-packages\\pandas\\util\\_decorators.py\u001b[0m in \u001b[0;36mwrapper\u001b[1;34m(*args, **kwargs)\u001b[0m\n\u001b[0;32m    309\u001b[0m                     \u001b[0mstacklevel\u001b[0m\u001b[1;33m=\u001b[0m\u001b[0mstacklevel\u001b[0m\u001b[1;33m,\u001b[0m\u001b[1;33m\u001b[0m\u001b[1;33m\u001b[0m\u001b[0m\n\u001b[0;32m    310\u001b[0m                 )\n\u001b[1;32m--> 311\u001b[1;33m             \u001b[1;32mreturn\u001b[0m \u001b[0mfunc\u001b[0m\u001b[1;33m(\u001b[0m\u001b[1;33m*\u001b[0m\u001b[0margs\u001b[0m\u001b[1;33m,\u001b[0m \u001b[1;33m**\u001b[0m\u001b[0mkwargs\u001b[0m\u001b[1;33m)\u001b[0m\u001b[1;33m\u001b[0m\u001b[1;33m\u001b[0m\u001b[0m\n\u001b[0m\u001b[0;32m    312\u001b[0m \u001b[1;33m\u001b[0m\u001b[0m\n\u001b[0;32m    313\u001b[0m         \u001b[1;32mreturn\u001b[0m \u001b[0mwrapper\u001b[0m\u001b[1;33m\u001b[0m\u001b[1;33m\u001b[0m\u001b[0m\n",
      "\u001b[1;32m~\\anaconda3\\lib\\site-packages\\pandas\\io\\html.py\u001b[0m in \u001b[0;36mread_html\u001b[1;34m(io, match, flavor, header, index_col, skiprows, attrs, parse_dates, thousands, encoding, decimal, converters, na_values, keep_default_na, displayed_only)\u001b[0m\n\u001b[0;32m   1111\u001b[0m     \u001b[0mio\u001b[0m \u001b[1;33m=\u001b[0m \u001b[0mstringify_path\u001b[0m\u001b[1;33m(\u001b[0m\u001b[0mio\u001b[0m\u001b[1;33m)\u001b[0m\u001b[1;33m\u001b[0m\u001b[1;33m\u001b[0m\u001b[0m\n\u001b[0;32m   1112\u001b[0m \u001b[1;33m\u001b[0m\u001b[0m\n\u001b[1;32m-> 1113\u001b[1;33m     return _parse(\n\u001b[0m\u001b[0;32m   1114\u001b[0m         \u001b[0mflavor\u001b[0m\u001b[1;33m=\u001b[0m\u001b[0mflavor\u001b[0m\u001b[1;33m,\u001b[0m\u001b[1;33m\u001b[0m\u001b[1;33m\u001b[0m\u001b[0m\n\u001b[0;32m   1115\u001b[0m         \u001b[0mio\u001b[0m\u001b[1;33m=\u001b[0m\u001b[0mio\u001b[0m\u001b[1;33m,\u001b[0m\u001b[1;33m\u001b[0m\u001b[1;33m\u001b[0m\u001b[0m\n",
      "\u001b[1;32m~\\anaconda3\\lib\\site-packages\\pandas\\io\\html.py\u001b[0m in \u001b[0;36m_parse\u001b[1;34m(flavor, io, match, attrs, encoding, displayed_only, **kwargs)\u001b[0m\n\u001b[0;32m    937\u001b[0m     \u001b[1;32melse\u001b[0m\u001b[1;33m:\u001b[0m\u001b[1;33m\u001b[0m\u001b[1;33m\u001b[0m\u001b[0m\n\u001b[0;32m    938\u001b[0m         \u001b[1;32massert\u001b[0m \u001b[0mretained\u001b[0m \u001b[1;32mis\u001b[0m \u001b[1;32mnot\u001b[0m \u001b[1;32mNone\u001b[0m  \u001b[1;31m# for mypy\u001b[0m\u001b[1;33m\u001b[0m\u001b[1;33m\u001b[0m\u001b[0m\n\u001b[1;32m--> 939\u001b[1;33m         \u001b[1;32mraise\u001b[0m \u001b[0mretained\u001b[0m\u001b[1;33m\u001b[0m\u001b[1;33m\u001b[0m\u001b[0m\n\u001b[0m\u001b[0;32m    940\u001b[0m \u001b[1;33m\u001b[0m\u001b[0m\n\u001b[0;32m    941\u001b[0m     \u001b[0mret\u001b[0m \u001b[1;33m=\u001b[0m \u001b[1;33m[\u001b[0m\u001b[1;33m]\u001b[0m\u001b[1;33m\u001b[0m\u001b[1;33m\u001b[0m\u001b[0m\n",
      "\u001b[1;32m~\\anaconda3\\lib\\site-packages\\pandas\\io\\html.py\u001b[0m in \u001b[0;36m_parse\u001b[1;34m(flavor, io, match, attrs, encoding, displayed_only, **kwargs)\u001b[0m\n\u001b[0;32m    917\u001b[0m \u001b[1;33m\u001b[0m\u001b[0m\n\u001b[0;32m    918\u001b[0m         \u001b[1;32mtry\u001b[0m\u001b[1;33m:\u001b[0m\u001b[1;33m\u001b[0m\u001b[1;33m\u001b[0m\u001b[0m\n\u001b[1;32m--> 919\u001b[1;33m             \u001b[0mtables\u001b[0m \u001b[1;33m=\u001b[0m \u001b[0mp\u001b[0m\u001b[1;33m.\u001b[0m\u001b[0mparse_tables\u001b[0m\u001b[1;33m(\u001b[0m\u001b[1;33m)\u001b[0m\u001b[1;33m\u001b[0m\u001b[1;33m\u001b[0m\u001b[0m\n\u001b[0m\u001b[0;32m    920\u001b[0m         \u001b[1;32mexcept\u001b[0m \u001b[0mValueError\u001b[0m \u001b[1;32mas\u001b[0m \u001b[0mcaught\u001b[0m\u001b[1;33m:\u001b[0m\u001b[1;33m\u001b[0m\u001b[1;33m\u001b[0m\u001b[0m\n\u001b[0;32m    921\u001b[0m             \u001b[1;31m# if `io` is an io-like object, check if it's seekable\u001b[0m\u001b[1;33m\u001b[0m\u001b[1;33m\u001b[0m\u001b[0m\n",
      "\u001b[1;32m~\\anaconda3\\lib\\site-packages\\pandas\\io\\html.py\u001b[0m in \u001b[0;36mparse_tables\u001b[1;34m(self)\u001b[0m\n\u001b[0;32m    237\u001b[0m         \u001b[0mlist\u001b[0m \u001b[0mof\u001b[0m \u001b[0mparsed\u001b[0m \u001b[1;33m(\u001b[0m\u001b[0mheader\u001b[0m\u001b[1;33m,\u001b[0m \u001b[0mbody\u001b[0m\u001b[1;33m,\u001b[0m \u001b[0mfooter\u001b[0m\u001b[1;33m)\u001b[0m \u001b[0mtuples\u001b[0m \u001b[1;32mfrom\u001b[0m \u001b[0mtables\u001b[0m\u001b[1;33m.\u001b[0m\u001b[1;33m\u001b[0m\u001b[1;33m\u001b[0m\u001b[0m\n\u001b[0;32m    238\u001b[0m         \"\"\"\n\u001b[1;32m--> 239\u001b[1;33m         \u001b[0mtables\u001b[0m \u001b[1;33m=\u001b[0m \u001b[0mself\u001b[0m\u001b[1;33m.\u001b[0m\u001b[0m_parse_tables\u001b[0m\u001b[1;33m(\u001b[0m\u001b[0mself\u001b[0m\u001b[1;33m.\u001b[0m\u001b[0m_build_doc\u001b[0m\u001b[1;33m(\u001b[0m\u001b[1;33m)\u001b[0m\u001b[1;33m,\u001b[0m \u001b[0mself\u001b[0m\u001b[1;33m.\u001b[0m\u001b[0mmatch\u001b[0m\u001b[1;33m,\u001b[0m \u001b[0mself\u001b[0m\u001b[1;33m.\u001b[0m\u001b[0mattrs\u001b[0m\u001b[1;33m)\u001b[0m\u001b[1;33m\u001b[0m\u001b[1;33m\u001b[0m\u001b[0m\n\u001b[0m\u001b[0;32m    240\u001b[0m         \u001b[1;32mreturn\u001b[0m \u001b[1;33m(\u001b[0m\u001b[0mself\u001b[0m\u001b[1;33m.\u001b[0m\u001b[0m_parse_thead_tbody_tfoot\u001b[0m\u001b[1;33m(\u001b[0m\u001b[0mtable\u001b[0m\u001b[1;33m)\u001b[0m \u001b[1;32mfor\u001b[0m \u001b[0mtable\u001b[0m \u001b[1;32min\u001b[0m \u001b[0mtables\u001b[0m\u001b[1;33m)\u001b[0m\u001b[1;33m\u001b[0m\u001b[1;33m\u001b[0m\u001b[0m\n\u001b[0;32m    241\u001b[0m \u001b[1;33m\u001b[0m\u001b[0m\n",
      "\u001b[1;32m~\\anaconda3\\lib\\site-packages\\pandas\\io\\html.py\u001b[0m in \u001b[0;36m_parse_tables\u001b[1;34m(self, doc, match, attrs)\u001b[0m\n\u001b[0;32m    567\u001b[0m \u001b[1;33m\u001b[0m\u001b[0m\n\u001b[0;32m    568\u001b[0m         \u001b[1;32mif\u001b[0m \u001b[1;32mnot\u001b[0m \u001b[0mtables\u001b[0m\u001b[1;33m:\u001b[0m\u001b[1;33m\u001b[0m\u001b[1;33m\u001b[0m\u001b[0m\n\u001b[1;32m--> 569\u001b[1;33m             \u001b[1;32mraise\u001b[0m \u001b[0mValueError\u001b[0m\u001b[1;33m(\u001b[0m\u001b[1;34m\"No tables found\"\u001b[0m\u001b[1;33m)\u001b[0m\u001b[1;33m\u001b[0m\u001b[1;33m\u001b[0m\u001b[0m\n\u001b[0m\u001b[0;32m    570\u001b[0m \u001b[1;33m\u001b[0m\u001b[0m\n\u001b[0;32m    571\u001b[0m         \u001b[0mresult\u001b[0m \u001b[1;33m=\u001b[0m \u001b[1;33m[\u001b[0m\u001b[1;33m]\u001b[0m\u001b[1;33m\u001b[0m\u001b[1;33m\u001b[0m\u001b[0m\n",
      "\u001b[1;31mValueError\u001b[0m: No tables found"
     ]
    }
   ],
   "source": [
    "%%time\n",
    "df_tot = pd.read_csv(processed_data_directory + 'inspections_yelp.csv')\n",
    "no_health_scores = []\n",
    "# for idx in range(len(austin_rest)):\n",
    "for idx in range(0,1000):\n",
    "    if idx%50 == 0:\n",
    "        print('Running: '+str(idx))\n",
    "    business_id = austin_rest.business_id[idx]\n",
    "    time.sleep(0.5)\n",
    "    df = scrape_health_scores(business_id)\n",
    "    if df is None:\n",
    "        no_health_scores.append(business_id)\n",
    "    else:\n",
    "        df_tot = df_tot.merge(right=df, how='outer')\n",
    "df_tot.to_csv(processed_data_directory + 'inspections_yelp.csv',index=False)"
   ]
  },
  {
   "cell_type": "code",
   "execution_count": 283,
   "id": "6f3cc6cd-b089-4c84-b3a4-21164d366418",
   "metadata": {},
   "outputs": [
    {
     "data": {
      "text/html": [
       "<div>\n",
       "<style scoped>\n",
       "    .dataframe tbody tr th:only-of-type {\n",
       "        vertical-align: middle;\n",
       "    }\n",
       "\n",
       "    .dataframe tbody tr th {\n",
       "        vertical-align: top;\n",
       "    }\n",
       "\n",
       "    .dataframe thead th {\n",
       "        text-align: right;\n",
       "    }\n",
       "</style>\n",
       "<table border=\"1\" class=\"dataframe\">\n",
       "  <thead>\n",
       "    <tr style=\"text-align: right;\">\n",
       "      <th></th>\n",
       "      <th>Unnamed: 0</th>\n",
       "      <th>business_id</th>\n",
       "      <th>Date</th>\n",
       "      <th>Inspection Type</th>\n",
       "      <th>Score</th>\n",
       "    </tr>\n",
       "  </thead>\n",
       "  <tbody>\n",
       "    <tr>\n",
       "      <th>0</th>\n",
       "      <td>0</td>\n",
       "      <td>bRsDZ44CD3uhGnRY3NeQhQ</td>\n",
       "      <td>November 8, 2021</td>\n",
       "      <td>Routine</td>\n",
       "      <td>86</td>\n",
       "    </tr>\n",
       "    <tr>\n",
       "      <th>1</th>\n",
       "      <td>1</td>\n",
       "      <td>bRsDZ44CD3uhGnRY3NeQhQ</td>\n",
       "      <td>July 1, 2021</td>\n",
       "      <td>Routine</td>\n",
       "      <td>78</td>\n",
       "    </tr>\n",
       "    <tr>\n",
       "      <th>2</th>\n",
       "      <td>2</td>\n",
       "      <td>bRsDZ44CD3uhGnRY3NeQhQ</td>\n",
       "      <td>January 26, 2021</td>\n",
       "      <td>Routine</td>\n",
       "      <td>76</td>\n",
       "    </tr>\n",
       "    <tr>\n",
       "      <th>3</th>\n",
       "      <td>3</td>\n",
       "      <td>bRsDZ44CD3uhGnRY3NeQhQ</td>\n",
       "      <td>July 6, 2020</td>\n",
       "      <td>Routine</td>\n",
       "      <td>92</td>\n",
       "    </tr>\n",
       "    <tr>\n",
       "      <th>4</th>\n",
       "      <td>4</td>\n",
       "      <td>bRsDZ44CD3uhGnRY3NeQhQ</td>\n",
       "      <td>January 14, 2020</td>\n",
       "      <td>Routine</td>\n",
       "      <td>80</td>\n",
       "    </tr>\n",
       "    <tr>\n",
       "      <th>5</th>\n",
       "      <td>5</td>\n",
       "      <td>bRsDZ44CD3uhGnRY3NeQhQ</td>\n",
       "      <td>August 29, 2019</td>\n",
       "      <td>Routine</td>\n",
       "      <td>89</td>\n",
       "    </tr>\n",
       "    <tr>\n",
       "      <th>6</th>\n",
       "      <td>6</td>\n",
       "      <td>Pk4ZwXwUU50BDn5gqw_rKg</td>\n",
       "      <td>March 31, 2022</td>\n",
       "      <td>Routine</td>\n",
       "      <td>91</td>\n",
       "    </tr>\n",
       "    <tr>\n",
       "      <th>7</th>\n",
       "      <td>7</td>\n",
       "      <td>Pk4ZwXwUU50BDn5gqw_rKg</td>\n",
       "      <td>September 17, 2021</td>\n",
       "      <td>Routine</td>\n",
       "      <td>85</td>\n",
       "    </tr>\n",
       "    <tr>\n",
       "      <th>8</th>\n",
       "      <td>8</td>\n",
       "      <td>Pk4ZwXwUU50BDn5gqw_rKg</td>\n",
       "      <td>June 11, 2021</td>\n",
       "      <td>Routine</td>\n",
       "      <td>80</td>\n",
       "    </tr>\n",
       "    <tr>\n",
       "      <th>9</th>\n",
       "      <td>9</td>\n",
       "      <td>Pk4ZwXwUU50BDn5gqw_rKg</td>\n",
       "      <td>July 9, 2020</td>\n",
       "      <td>Routine</td>\n",
       "      <td>85</td>\n",
       "    </tr>\n",
       "    <tr>\n",
       "      <th>10</th>\n",
       "      <td>10</td>\n",
       "      <td>Pk4ZwXwUU50BDn5gqw_rKg</td>\n",
       "      <td>March 31, 2020</td>\n",
       "      <td>Routine</td>\n",
       "      <td>94</td>\n",
       "    </tr>\n",
       "    <tr>\n",
       "      <th>11</th>\n",
       "      <td>11</td>\n",
       "      <td>Pk4ZwXwUU50BDn5gqw_rKg</td>\n",
       "      <td>October 15, 2019</td>\n",
       "      <td>Routine</td>\n",
       "      <td>96</td>\n",
       "    </tr>\n",
       "    <tr>\n",
       "      <th>12</th>\n",
       "      <td>12</td>\n",
       "      <td>NRPemqVb4qpWFF0Avq_6OQ</td>\n",
       "      <td>November 29, 2021</td>\n",
       "      <td>Routine</td>\n",
       "      <td>75</td>\n",
       "    </tr>\n",
       "    <tr>\n",
       "      <th>13</th>\n",
       "      <td>13</td>\n",
       "      <td>NRPemqVb4qpWFF0Avq_6OQ</td>\n",
       "      <td>May 18, 2021</td>\n",
       "      <td>Followup</td>\n",
       "      <td>80</td>\n",
       "    </tr>\n",
       "    <tr>\n",
       "      <th>14</th>\n",
       "      <td>14</td>\n",
       "      <td>NRPemqVb4qpWFF0Avq_6OQ</td>\n",
       "      <td>April 26, 2021</td>\n",
       "      <td>Routine</td>\n",
       "      <td>66</td>\n",
       "    </tr>\n",
       "    <tr>\n",
       "      <th>15</th>\n",
       "      <td>15</td>\n",
       "      <td>NRPemqVb4qpWFF0Avq_6OQ</td>\n",
       "      <td>June 9, 2020</td>\n",
       "      <td>Routine</td>\n",
       "      <td>70</td>\n",
       "    </tr>\n",
       "    <tr>\n",
       "      <th>16</th>\n",
       "      <td>16</td>\n",
       "      <td>NRPemqVb4qpWFF0Avq_6OQ</td>\n",
       "      <td>January 7, 2020</td>\n",
       "      <td>Routine</td>\n",
       "      <td>78</td>\n",
       "    </tr>\n",
       "    <tr>\n",
       "      <th>17</th>\n",
       "      <td>17</td>\n",
       "      <td>NRPemqVb4qpWFF0Avq_6OQ</td>\n",
       "      <td>August 22, 2019</td>\n",
       "      <td>Routine</td>\n",
       "      <td>81</td>\n",
       "    </tr>\n",
       "    <tr>\n",
       "      <th>18</th>\n",
       "      <td>18</td>\n",
       "      <td>Ieelu69Y23nbjKG3OGfwnw</td>\n",
       "      <td>April 4, 2022</td>\n",
       "      <td>Routine</td>\n",
       "      <td>91</td>\n",
       "    </tr>\n",
       "    <tr>\n",
       "      <th>19</th>\n",
       "      <td>19</td>\n",
       "      <td>Ieelu69Y23nbjKG3OGfwnw</td>\n",
       "      <td>March 23, 2021</td>\n",
       "      <td>Routine</td>\n",
       "      <td>98</td>\n",
       "    </tr>\n",
       "    <tr>\n",
       "      <th>20</th>\n",
       "      <td>20</td>\n",
       "      <td>Ieelu69Y23nbjKG3OGfwnw</td>\n",
       "      <td>October 20, 2020</td>\n",
       "      <td>Routine</td>\n",
       "      <td>100</td>\n",
       "    </tr>\n",
       "    <tr>\n",
       "      <th>21</th>\n",
       "      <td>21</td>\n",
       "      <td>Ieelu69Y23nbjKG3OGfwnw</td>\n",
       "      <td>May 19, 2020</td>\n",
       "      <td>Routine</td>\n",
       "      <td>100</td>\n",
       "    </tr>\n",
       "    <tr>\n",
       "      <th>22</th>\n",
       "      <td>22</td>\n",
       "      <td>Ieelu69Y23nbjKG3OGfwnw</td>\n",
       "      <td>January 9, 2020</td>\n",
       "      <td>Routine</td>\n",
       "      <td>96</td>\n",
       "    </tr>\n",
       "    <tr>\n",
       "      <th>23</th>\n",
       "      <td>23</td>\n",
       "      <td>Ieelu69Y23nbjKG3OGfwnw</td>\n",
       "      <td>September 26, 2019</td>\n",
       "      <td>Routine</td>\n",
       "      <td>96</td>\n",
       "    </tr>\n",
       "    <tr>\n",
       "      <th>24</th>\n",
       "      <td>24</td>\n",
       "      <td>Ieelu69Y23nbjKG3OGfwnw</td>\n",
       "      <td>June 27, 2019</td>\n",
       "      <td>Routine</td>\n",
       "      <td>99</td>\n",
       "    </tr>\n",
       "  </tbody>\n",
       "</table>\n",
       "</div>"
      ],
      "text/plain": [
       "    Unnamed: 0             business_id                Date Inspection Type  \\\n",
       "0            0  bRsDZ44CD3uhGnRY3NeQhQ    November 8, 2021         Routine   \n",
       "1            1  bRsDZ44CD3uhGnRY3NeQhQ        July 1, 2021         Routine   \n",
       "2            2  bRsDZ44CD3uhGnRY3NeQhQ    January 26, 2021         Routine   \n",
       "3            3  bRsDZ44CD3uhGnRY3NeQhQ        July 6, 2020         Routine   \n",
       "4            4  bRsDZ44CD3uhGnRY3NeQhQ    January 14, 2020         Routine   \n",
       "5            5  bRsDZ44CD3uhGnRY3NeQhQ     August 29, 2019         Routine   \n",
       "6            6  Pk4ZwXwUU50BDn5gqw_rKg      March 31, 2022         Routine   \n",
       "7            7  Pk4ZwXwUU50BDn5gqw_rKg  September 17, 2021         Routine   \n",
       "8            8  Pk4ZwXwUU50BDn5gqw_rKg       June 11, 2021         Routine   \n",
       "9            9  Pk4ZwXwUU50BDn5gqw_rKg        July 9, 2020         Routine   \n",
       "10          10  Pk4ZwXwUU50BDn5gqw_rKg      March 31, 2020         Routine   \n",
       "11          11  Pk4ZwXwUU50BDn5gqw_rKg    October 15, 2019         Routine   \n",
       "12          12  NRPemqVb4qpWFF0Avq_6OQ   November 29, 2021         Routine   \n",
       "13          13  NRPemqVb4qpWFF0Avq_6OQ        May 18, 2021        Followup   \n",
       "14          14  NRPemqVb4qpWFF0Avq_6OQ      April 26, 2021         Routine   \n",
       "15          15  NRPemqVb4qpWFF0Avq_6OQ        June 9, 2020         Routine   \n",
       "16          16  NRPemqVb4qpWFF0Avq_6OQ     January 7, 2020         Routine   \n",
       "17          17  NRPemqVb4qpWFF0Avq_6OQ     August 22, 2019         Routine   \n",
       "18          18  Ieelu69Y23nbjKG3OGfwnw       April 4, 2022         Routine   \n",
       "19          19  Ieelu69Y23nbjKG3OGfwnw      March 23, 2021         Routine   \n",
       "20          20  Ieelu69Y23nbjKG3OGfwnw    October 20, 2020         Routine   \n",
       "21          21  Ieelu69Y23nbjKG3OGfwnw        May 19, 2020         Routine   \n",
       "22          22  Ieelu69Y23nbjKG3OGfwnw     January 9, 2020         Routine   \n",
       "23          23  Ieelu69Y23nbjKG3OGfwnw  September 26, 2019         Routine   \n",
       "24          24  Ieelu69Y23nbjKG3OGfwnw       June 27, 2019         Routine   \n",
       "\n",
       "    Score  \n",
       "0      86  \n",
       "1      78  \n",
       "2      76  \n",
       "3      92  \n",
       "4      80  \n",
       "5      89  \n",
       "6      91  \n",
       "7      85  \n",
       "8      80  \n",
       "9      85  \n",
       "10     94  \n",
       "11     96  \n",
       "12     75  \n",
       "13     80  \n",
       "14     66  \n",
       "15     70  \n",
       "16     78  \n",
       "17     81  \n",
       "18     91  \n",
       "19     98  \n",
       "20    100  \n",
       "21    100  \n",
       "22     96  \n",
       "23     96  \n",
       "24     99  "
      ]
     },
     "execution_count": 283,
     "metadata": {},
     "output_type": "execute_result"
    }
   ],
   "source": [
    "df_tot"
   ]
  },
  {
   "cell_type": "code",
   "execution_count": 280,
   "id": "f225b843-bea1-4959-9762-a026754a44c8",
   "metadata": {},
   "outputs": [
    {
     "data": {
      "text/plain": [
       "6"
      ]
     },
     "execution_count": 280,
     "metadata": {},
     "output_type": "execute_result"
    }
   ],
   "source": [
    "len(no_health_scores)"
   ]
  },
  {
   "cell_type": "code",
   "execution_count": 276,
   "id": "85ea53ad-f5ce-4aab-930c-8ac9d76c4e82",
   "metadata": {},
   "outputs": [
    {
     "name": "stdout",
     "output_type": "stream",
     "text": [
      "Xw8tuI30T-xihpzwBV-zJg\n",
      "NRPemqVb4qpWFF0Avq_6OQ\n",
      "bRsDZ44CD3uhGnRY3NeQhQ\n",
      "z-0oY7VxQMQw3JHvdPejrA\n",
      "gjMCRTs0IZbw9bZLG837Bg\n",
      "qTdz29Nf3zoALiDDEKfWlw\n",
      "pewcbd-NCgj1LXJNifFA4g\n",
      "Pk4ZwXwUU50BDn5gqw_rKg\n",
      "Ieelu69Y23nbjKG3OGfwnw\n",
      "IFB2K3BEZ2L_Mv5AbUD26Q\n"
     ]
    }
   ],
   "source": [
    "for business_id in austin_rest.basiness_id[:10]:\n",
    "    print(business_id)"
   ]
  },
  {
   "cell_type": "markdown",
   "id": "8e4ceb94-892b-4f27-93cf-f78cb77cce72",
   "metadata": {
    "jp-MarkdownHeadingCollapsed": true,
    "tags": []
   },
   "source": [
    "## try matching austin insp data with yelp data by lat/long"
   ]
  },
  {
   "cell_type": "code",
   "execution_count": null,
   "id": "9f836b05-09c2-4dc6-a8b6-5d445e8601e4",
   "metadata": {},
   "outputs": [
    {
     "data": {
      "text/plain": [
       "Restaurant Name        Commodore Perry Estate, The\n",
       "Zip Code                                   78751.0\n",
       "Inspection Date                         11/18/2021\n",
       "Score                                           84\n",
       "Address                          4114 RED RIVER ST\n",
       "Facility ID                               12392635\n",
       "Process Description             Routine Inspection\n",
       "latitude                                 30.300755\n",
       "longitude                               -97.721903\n",
       "Address Line 2                    AUSTIN, TX 78751\n",
       "Name: 25779, dtype: object"
      ]
     },
     "execution_count": 57,
     "metadata": {},
     "output_type": "execute_result"
    }
   ],
   "source": [
    "df.loc[25779]"
   ]
  },
  {
   "cell_type": "code",
   "execution_count": null,
   "id": "41b56f8f-b4a8-4888-a085-a4ab427b0a23",
   "metadata": {},
   "outputs": [
    {
     "data": {
      "text/plain": [
       "0                                  LW - Crown Donut\n",
       "5                                  OOB - LW - Sonic\n",
       "7                              LW - Metro Food Mart\n",
       "9                            BC - Serasana Bee Cave\n",
       "16                               PF - Lone Star Bar\n",
       "                            ...                    \n",
       "25758    LW - Lake Travis Middle School Concessions\n",
       "25760          PF - Pflugerville Health Care Center\n",
       "25765                       MN - Taqueria Huentitan\n",
       "25771               MN - Manor New Tech High School\n",
       "25777                  College House Inc - Halstead\n",
       "Name: Restaurant Name, Length: 3772, dtype: object"
      ]
     },
     "execution_count": 69,
     "metadata": {},
     "output_type": "execute_result"
    }
   ],
   "source": [
    "df['Restaurant Name'][df['Restaurant Name'].apply(lambda x: len(x.split(' - ')) > 1)]"
   ]
  },
  {
   "cell_type": "code",
   "execution_count": null,
   "id": "9cb4c9bd-35cf-42fe-9022-5d781eea1e07",
   "metadata": {},
   "outputs": [
    {
     "data": {
      "text/html": [
       "<div>\n",
       "<style scoped>\n",
       "    .dataframe tbody tr th:only-of-type {\n",
       "        vertical-align: middle;\n",
       "    }\n",
       "\n",
       "    .dataframe tbody tr th {\n",
       "        vertical-align: top;\n",
       "    }\n",
       "\n",
       "    .dataframe thead th {\n",
       "        text-align: right;\n",
       "    }\n",
       "</style>\n",
       "<table border=\"1\" class=\"dataframe\">\n",
       "  <thead>\n",
       "    <tr style=\"text-align: right;\">\n",
       "      <th></th>\n",
       "      <th>Restaurant Name</th>\n",
       "      <th>Zip Code</th>\n",
       "      <th>Inspection Date</th>\n",
       "      <th>Score</th>\n",
       "      <th>Address</th>\n",
       "      <th>Facility ID</th>\n",
       "      <th>Process Description</th>\n",
       "      <th>latitude</th>\n",
       "      <th>longitude</th>\n",
       "      <th>Address Line 2</th>\n",
       "    </tr>\n",
       "  </thead>\n",
       "  <tbody>\n",
       "    <tr>\n",
       "      <th>23035</th>\n",
       "      <td>PF- Accent Food Services - The Boring Company</td>\n",
       "      <td>78660.0</td>\n",
       "      <td>2022-01-28</td>\n",
       "      <td>100</td>\n",
       "      <td>15709 IMPACT WAY</td>\n",
       "      <td>12396049</td>\n",
       "      <td>Routine Inspection</td>\n",
       "      <td>30.416302</td>\n",
       "      <td>-97.590156</td>\n",
       "      <td>PFLUGERVILLE, TX 78660</td>\n",
       "    </tr>\n",
       "  </tbody>\n",
       "</table>\n",
       "</div>"
      ],
      "text/plain": [
       "                                     Restaurant Name  Zip Code  \\\n",
       "23035  PF- Accent Food Services - The Boring Company   78660.0   \n",
       "\n",
       "      Inspection Date  Score           Address  Facility ID  \\\n",
       "23035      2022-01-28    100  15709 IMPACT WAY     12396049   \n",
       "\n",
       "      Process Description   latitude  longitude          Address Line 2  \n",
       "23035  Routine Inspection  30.416302 -97.590156  PFLUGERVILLE, TX 78660  "
      ]
     },
     "execution_count": 97,
     "metadata": {},
     "output_type": "execute_result"
    }
   ],
   "source": [
    "df[df['Restaurant Name'].str.contains(' Accent Food Services - The Boring Company')]"
   ]
  },
  {
   "cell_type": "code",
   "execution_count": null,
   "id": "c79e006a-372f-458a-9808-cbac8e7c44bc",
   "metadata": {},
   "outputs": [
    {
     "data": {
      "text/html": [
       "<div>\n",
       "<style scoped>\n",
       "    .dataframe tbody tr th:only-of-type {\n",
       "        vertical-align: middle;\n",
       "    }\n",
       "\n",
       "    .dataframe tbody tr th {\n",
       "        vertical-align: top;\n",
       "    }\n",
       "\n",
       "    .dataframe thead th {\n",
       "        text-align: right;\n",
       "    }\n",
       "</style>\n",
       "<table border=\"1\" class=\"dataframe\">\n",
       "  <thead>\n",
       "    <tr style=\"text-align: right;\">\n",
       "      <th></th>\n",
       "      <th>business_id</th>\n",
       "      <th>name</th>\n",
       "      <th>address</th>\n",
       "      <th>city</th>\n",
       "      <th>state</th>\n",
       "      <th>postal_code</th>\n",
       "      <th>latitude</th>\n",
       "      <th>longitude</th>\n",
       "      <th>stars</th>\n",
       "      <th>review_count</th>\n",
       "      <th>is_open</th>\n",
       "      <th>attributes</th>\n",
       "      <th>categories</th>\n",
       "      <th>hours</th>\n",
       "    </tr>\n",
       "  </thead>\n",
       "  <tbody>\n",
       "    <tr>\n",
       "      <th>1</th>\n",
       "      <td>NRPemqVb4qpWFF0Avq_6OQ</td>\n",
       "      <td>Eurasia Sushi Bar &amp; Seafood</td>\n",
       "      <td>7101 W Hwy 71, Ste C-13</td>\n",
       "      <td>Austin</td>\n",
       "      <td>TX</td>\n",
       "      <td>78735.0</td>\n",
       "      <td>30.234533</td>\n",
       "      <td>-97.877262</td>\n",
       "      <td>4.5</td>\n",
       "      <td>395</td>\n",
       "      <td>1</td>\n",
       "      <td>{'Ambience': \"{'touristy': False, 'hipster': F...</td>\n",
       "      <td>Bars, Nightlife, Cocktail Bars, Seafood, Resta...</td>\n",
       "      <td>{'Monday': '0:0-0:0', 'Tuesday': '11:0-22:0', ...</td>\n",
       "    </tr>\n",
       "    <tr>\n",
       "      <th>2</th>\n",
       "      <td>bRsDZ44CD3uhGnRY3NeQhQ</td>\n",
       "      <td>Wendy's</td>\n",
       "      <td>6247 Mcneil Drive</td>\n",
       "      <td>Austin</td>\n",
       "      <td>TX</td>\n",
       "      <td>78729.0</td>\n",
       "      <td>30.441875</td>\n",
       "      <td>-97.746581</td>\n",
       "      <td>2.0</td>\n",
       "      <td>46</td>\n",
       "      <td>1</td>\n",
       "      <td>{'RestaurantsPriceRange2': '1', 'OutdoorSeatin...</td>\n",
       "      <td>Fast Food, Restaurants, Burgers</td>\n",
       "      <td>{'Monday': '6:30-1:0', 'Tuesday': '6:30-1:0', ...</td>\n",
       "    </tr>\n",
       "    <tr>\n",
       "      <th>3</th>\n",
       "      <td>z-0oY7VxQMQw3JHvdPejrA</td>\n",
       "      <td>Olmecas Mexican Restaurant</td>\n",
       "      <td>2121 E Oltorf St</td>\n",
       "      <td>Austin</td>\n",
       "      <td>TX</td>\n",
       "      <td>78741.0</td>\n",
       "      <td>30.230016</td>\n",
       "      <td>-97.732639</td>\n",
       "      <td>3.0</td>\n",
       "      <td>21</td>\n",
       "      <td>0</td>\n",
       "      <td>{'Ambience': \"{'romantic': False, 'intimate': ...</td>\n",
       "      <td>Coffee &amp; Tea, Tex-Mex, Restaurants, Mexican, Food</td>\n",
       "      <td>{'Monday': '7:0-23:30', 'Tuesday': '7:0-23:30'...</td>\n",
       "    </tr>\n",
       "    <tr>\n",
       "      <th>4</th>\n",
       "      <td>gjMCRTs0IZbw9bZLG837Bg</td>\n",
       "      <td>CaveMan Cuisine</td>\n",
       "      <td>NaN</td>\n",
       "      <td>Austin</td>\n",
       "      <td>TX</td>\n",
       "      <td>78704.0</td>\n",
       "      <td>30.245673</td>\n",
       "      <td>-97.768836</td>\n",
       "      <td>1.5</td>\n",
       "      <td>6</td>\n",
       "      <td>0</td>\n",
       "      <td>{'RestaurantsPriceRange2': '3', 'BusinessAccep...</td>\n",
       "      <td>Food, Food Delivery Services</td>\n",
       "      <td>NaN</td>\n",
       "    </tr>\n",
       "    <tr>\n",
       "      <th>5</th>\n",
       "      <td>qTdz29Nf3zoALiDDEKfWlw</td>\n",
       "      <td>Pho Oanh</td>\n",
       "      <td>2121 E Oltorf St, Ste 12B</td>\n",
       "      <td>Austin</td>\n",
       "      <td>TX</td>\n",
       "      <td>78741.0</td>\n",
       "      <td>30.229913</td>\n",
       "      <td>-97.732649</td>\n",
       "      <td>3.5</td>\n",
       "      <td>15</td>\n",
       "      <td>0</td>\n",
       "      <td>{'Ambience': \"{'romantic': False, 'intimate': ...</td>\n",
       "      <td>Taiwanese, Vietnamese, Restaurants</td>\n",
       "      <td>NaN</td>\n",
       "    </tr>\n",
       "    <tr>\n",
       "      <th>6</th>\n",
       "      <td>pewcbd-NCgj1LXJNifFA4g</td>\n",
       "      <td>Brian's Brew</td>\n",
       "      <td>515 Congress Ave, Ste 135</td>\n",
       "      <td>Austin</td>\n",
       "      <td>TX</td>\n",
       "      <td>78701.0</td>\n",
       "      <td>30.267699</td>\n",
       "      <td>-97.742660</td>\n",
       "      <td>5.0</td>\n",
       "      <td>57</td>\n",
       "      <td>0</td>\n",
       "      <td>{'OutdoorSeating': 'False', 'BusinessParking':...</td>\n",
       "      <td>Food, Coffee &amp; Tea</td>\n",
       "      <td>{'Monday': '7:0-15:0', 'Tuesday': '7:0-15:0', ...</td>\n",
       "    </tr>\n",
       "    <tr>\n",
       "      <th>7</th>\n",
       "      <td>Pk4ZwXwUU50BDn5gqw_rKg</td>\n",
       "      <td>Johnny Carino's</td>\n",
       "      <td>9500 S IH-35 Service Rd</td>\n",
       "      <td>Austin</td>\n",
       "      <td>TX</td>\n",
       "      <td>78748.0</td>\n",
       "      <td>30.162081</td>\n",
       "      <td>-97.789132</td>\n",
       "      <td>3.0</td>\n",
       "      <td>136</td>\n",
       "      <td>1</td>\n",
       "      <td>{'RestaurantsGoodForGroups': 'True', 'Business...</td>\n",
       "      <td>Italian, Salad, Pizza, Nightlife, Restaurants,...</td>\n",
       "      <td>{'Monday': '11:0-21:30', 'Tuesday': '11:0-21:3...</td>\n",
       "    </tr>\n",
       "    <tr>\n",
       "      <th>8</th>\n",
       "      <td>Ieelu69Y23nbjKG3OGfwnw</td>\n",
       "      <td>McDonald's</td>\n",
       "      <td>5017 Hwy 290 W</td>\n",
       "      <td>Austin</td>\n",
       "      <td>TX</td>\n",
       "      <td>78735.0</td>\n",
       "      <td>30.232133</td>\n",
       "      <td>-97.823183</td>\n",
       "      <td>1.5</td>\n",
       "      <td>9</td>\n",
       "      <td>1</td>\n",
       "      <td>{'RestaurantsTakeOut': 'True', 'RestaurantsRes...</td>\n",
       "      <td>Restaurants, Coffee &amp; Tea, Food, Burgers, Fast...</td>\n",
       "      <td>{'Monday': '7:0-22:30', 'Tuesday': '7:0-22:30'...</td>\n",
       "    </tr>\n",
       "    <tr>\n",
       "      <th>9</th>\n",
       "      <td>IFB2K3BEZ2L_Mv5AbUD26Q</td>\n",
       "      <td>Chispas</td>\n",
       "      <td>214 W 4th St</td>\n",
       "      <td>Austin</td>\n",
       "      <td>TX</td>\n",
       "      <td>78701.0</td>\n",
       "      <td>30.266996</td>\n",
       "      <td>-97.745362</td>\n",
       "      <td>3.5</td>\n",
       "      <td>119</td>\n",
       "      <td>1</td>\n",
       "      <td>{'RestaurantsTakeOut': 'True', 'OutdoorSeating...</td>\n",
       "      <td>Tex-Mex, Mexican, Tacos, Restaurants</td>\n",
       "      <td>{'Monday': '11:0-22:0', 'Tuesday': '11:0-22:0'...</td>\n",
       "    </tr>\n",
       "    <tr>\n",
       "      <th>10</th>\n",
       "      <td>fBvQQUk1-V9IUA8PbuYFWg</td>\n",
       "      <td>Newk's Eatery</td>\n",
       "      <td>408 Congress Ave</td>\n",
       "      <td>Austin</td>\n",
       "      <td>TX</td>\n",
       "      <td>78701.0</td>\n",
       "      <td>30.266639</td>\n",
       "      <td>-97.743659</td>\n",
       "      <td>3.5</td>\n",
       "      <td>43</td>\n",
       "      <td>1</td>\n",
       "      <td>{'HasTV': 'True', 'BusinessParking': \"{'garage...</td>\n",
       "      <td>Pizza, Restaurants, American (Traditional), Am...</td>\n",
       "      <td>{'Monday': '0:0-0:0', 'Tuesday': '10:30-18:0',...</td>\n",
       "    </tr>\n",
       "  </tbody>\n",
       "</table>\n",
       "</div>"
      ],
      "text/plain": [
       "               business_id                         name  \\\n",
       "1   NRPemqVb4qpWFF0Avq_6OQ  Eurasia Sushi Bar & Seafood   \n",
       "2   bRsDZ44CD3uhGnRY3NeQhQ                      Wendy's   \n",
       "3   z-0oY7VxQMQw3JHvdPejrA   Olmecas Mexican Restaurant   \n",
       "4   gjMCRTs0IZbw9bZLG837Bg              CaveMan Cuisine   \n",
       "5   qTdz29Nf3zoALiDDEKfWlw                     Pho Oanh   \n",
       "6   pewcbd-NCgj1LXJNifFA4g                 Brian's Brew   \n",
       "7   Pk4ZwXwUU50BDn5gqw_rKg              Johnny Carino's   \n",
       "8   Ieelu69Y23nbjKG3OGfwnw                   McDonald's   \n",
       "9   IFB2K3BEZ2L_Mv5AbUD26Q                      Chispas   \n",
       "10  fBvQQUk1-V9IUA8PbuYFWg                Newk's Eatery   \n",
       "\n",
       "                      address    city state  postal_code   latitude  \\\n",
       "1     7101 W Hwy 71, Ste C-13  Austin    TX      78735.0  30.234533   \n",
       "2           6247 Mcneil Drive  Austin    TX      78729.0  30.441875   \n",
       "3            2121 E Oltorf St  Austin    TX      78741.0  30.230016   \n",
       "4                         NaN  Austin    TX      78704.0  30.245673   \n",
       "5   2121 E Oltorf St, Ste 12B  Austin    TX      78741.0  30.229913   \n",
       "6   515 Congress Ave, Ste 135  Austin    TX      78701.0  30.267699   \n",
       "7     9500 S IH-35 Service Rd  Austin    TX      78748.0  30.162081   \n",
       "8              5017 Hwy 290 W  Austin    TX      78735.0  30.232133   \n",
       "9                214 W 4th St  Austin    TX      78701.0  30.266996   \n",
       "10           408 Congress Ave  Austin    TX      78701.0  30.266639   \n",
       "\n",
       "    longitude  stars  review_count  is_open  \\\n",
       "1  -97.877262    4.5           395        1   \n",
       "2  -97.746581    2.0            46        1   \n",
       "3  -97.732639    3.0            21        0   \n",
       "4  -97.768836    1.5             6        0   \n",
       "5  -97.732649    3.5            15        0   \n",
       "6  -97.742660    5.0            57        0   \n",
       "7  -97.789132    3.0           136        1   \n",
       "8  -97.823183    1.5             9        1   \n",
       "9  -97.745362    3.5           119        1   \n",
       "10 -97.743659    3.5            43        1   \n",
       "\n",
       "                                           attributes  \\\n",
       "1   {'Ambience': \"{'touristy': False, 'hipster': F...   \n",
       "2   {'RestaurantsPriceRange2': '1', 'OutdoorSeatin...   \n",
       "3   {'Ambience': \"{'romantic': False, 'intimate': ...   \n",
       "4   {'RestaurantsPriceRange2': '3', 'BusinessAccep...   \n",
       "5   {'Ambience': \"{'romantic': False, 'intimate': ...   \n",
       "6   {'OutdoorSeating': 'False', 'BusinessParking':...   \n",
       "7   {'RestaurantsGoodForGroups': 'True', 'Business...   \n",
       "8   {'RestaurantsTakeOut': 'True', 'RestaurantsRes...   \n",
       "9   {'RestaurantsTakeOut': 'True', 'OutdoorSeating...   \n",
       "10  {'HasTV': 'True', 'BusinessParking': \"{'garage...   \n",
       "\n",
       "                                           categories  \\\n",
       "1   Bars, Nightlife, Cocktail Bars, Seafood, Resta...   \n",
       "2                     Fast Food, Restaurants, Burgers   \n",
       "3   Coffee & Tea, Tex-Mex, Restaurants, Mexican, Food   \n",
       "4                        Food, Food Delivery Services   \n",
       "5                  Taiwanese, Vietnamese, Restaurants   \n",
       "6                                  Food, Coffee & Tea   \n",
       "7   Italian, Salad, Pizza, Nightlife, Restaurants,...   \n",
       "8   Restaurants, Coffee & Tea, Food, Burgers, Fast...   \n",
       "9                Tex-Mex, Mexican, Tacos, Restaurants   \n",
       "10  Pizza, Restaurants, American (Traditional), Am...   \n",
       "\n",
       "                                                hours  \n",
       "1   {'Monday': '0:0-0:0', 'Tuesday': '11:0-22:0', ...  \n",
       "2   {'Monday': '6:30-1:0', 'Tuesday': '6:30-1:0', ...  \n",
       "3   {'Monday': '7:0-23:30', 'Tuesday': '7:0-23:30'...  \n",
       "4                                                 NaN  \n",
       "5                                                 NaN  \n",
       "6   {'Monday': '7:0-15:0', 'Tuesday': '7:0-15:0', ...  \n",
       "7   {'Monday': '11:0-21:30', 'Tuesday': '11:0-21:3...  \n",
       "8   {'Monday': '7:0-22:30', 'Tuesday': '7:0-22:30'...  \n",
       "9   {'Monday': '11:0-22:0', 'Tuesday': '11:0-22:0'...  \n",
       "10  {'Monday': '0:0-0:0', 'Tuesday': '10:30-18:0',...  "
      ]
     },
     "execution_count": 412,
     "metadata": {},
     "output_type": "execute_result"
    }
   ],
   "source": [
    "austin_rest.loc[1:10]"
   ]
  },
  {
   "cell_type": "code",
   "execution_count": null,
   "id": "cf0d1d70-b2c1-4aa3-a523-77cd30b0b002",
   "metadata": {},
   "outputs": [],
   "source": [
    "test = austin_rest.loc[9]\n",
    "lat, long = test.latitude, test.longitude"
   ]
  },
  {
   "cell_type": "code",
   "execution_count": null,
   "id": "12a60e40-5e11-411a-8070-1ea2aa6adb33",
   "metadata": {},
   "outputs": [
    {
     "data": {
      "text/html": [
       "<div>\n",
       "<style scoped>\n",
       "    .dataframe tbody tr th:only-of-type {\n",
       "        vertical-align: middle;\n",
       "    }\n",
       "\n",
       "    .dataframe tbody tr th {\n",
       "        vertical-align: top;\n",
       "    }\n",
       "\n",
       "    .dataframe thead th {\n",
       "        text-align: right;\n",
       "    }\n",
       "</style>\n",
       "<table border=\"1\" class=\"dataframe\">\n",
       "  <thead>\n",
       "    <tr style=\"text-align: right;\">\n",
       "      <th></th>\n",
       "      <th>Restaurant Name</th>\n",
       "      <th>Zip Code</th>\n",
       "      <th>Inspection Date</th>\n",
       "      <th>Score</th>\n",
       "      <th>Address</th>\n",
       "      <th>Facility ID</th>\n",
       "      <th>Process Description</th>\n",
       "      <th>latitude</th>\n",
       "      <th>longitude</th>\n",
       "      <th>Address Line 2</th>\n",
       "    </tr>\n",
       "  </thead>\n",
       "  <tbody>\n",
       "    <tr>\n",
       "      <th>36</th>\n",
       "      <td>OOB - PF - Fresh Donuts</td>\n",
       "      <td>78660.0</td>\n",
       "      <td>09/08/2020</td>\n",
       "      <td>83</td>\n",
       "      <td>20205 FM 685 RD</td>\n",
       "      <td>12186613</td>\n",
       "      <td>Routine Inspection</td>\n",
       "      <td>30.484442</td>\n",
       "      <td>-97.584230</td>\n",
       "      <td>PFLUGERVILLE, TX 78660</td>\n",
       "    </tr>\n",
       "    <tr>\n",
       "      <th>71</th>\n",
       "      <td>OOB Bottom of the Cup, Inc.</td>\n",
       "      <td>78728.0</td>\n",
       "      <td>03/02/2021</td>\n",
       "      <td>100</td>\n",
       "      <td>15201 BURNET RD</td>\n",
       "      <td>11809293</td>\n",
       "      <td>Routine Inspection</td>\n",
       "      <td>30.458629</td>\n",
       "      <td>-97.695018</td>\n",
       "      <td>AUSTIN, TX 78728</td>\n",
       "    </tr>\n",
       "    <tr>\n",
       "      <th>92</th>\n",
       "      <td>OOB - CAVA Mezze Grill</td>\n",
       "      <td>78746.0</td>\n",
       "      <td>10/21/2020</td>\n",
       "      <td>88</td>\n",
       "      <td>3201 BEE CAVES RD</td>\n",
       "      <td>11954625</td>\n",
       "      <td>Routine Inspection</td>\n",
       "      <td>30.273599</td>\n",
       "      <td>-97.799242</td>\n",
       "      <td>AUSTIN, TX 78746</td>\n",
       "    </tr>\n",
       "    <tr>\n",
       "      <th>148</th>\n",
       "      <td>OOB - Cho Sushi</td>\n",
       "      <td>78732.0</td>\n",
       "      <td>08/20/2020</td>\n",
       "      <td>85</td>\n",
       "      <td>4300 N QUINLAN PARK RD</td>\n",
       "      <td>10357554</td>\n",
       "      <td>Routine Inspection</td>\n",
       "      <td>30.382160</td>\n",
       "      <td>-97.884121</td>\n",
       "      <td>AUSTIN, TX 78732</td>\n",
       "    </tr>\n",
       "    <tr>\n",
       "      <th>157</th>\n",
       "      <td>OOB - Primrose School of Shady Hollow</td>\n",
       "      <td>78748.0</td>\n",
       "      <td>03/10/2020</td>\n",
       "      <td>94</td>\n",
       "      <td>12341 BRODIE LN</td>\n",
       "      <td>11505049</td>\n",
       "      <td>Routine Inspection</td>\n",
       "      <td>30.148861</td>\n",
       "      <td>-97.855051</td>\n",
       "      <td>AUSTIN, TX 78748</td>\n",
       "    </tr>\n",
       "    <tr>\n",
       "      <th>...</th>\n",
       "      <td>...</td>\n",
       "      <td>...</td>\n",
       "      <td>...</td>\n",
       "      <td>...</td>\n",
       "      <td>...</td>\n",
       "      <td>...</td>\n",
       "      <td>...</td>\n",
       "      <td>...</td>\n",
       "      <td>...</td>\n",
       "      <td>...</td>\n",
       "    </tr>\n",
       "    <tr>\n",
       "      <th>25622</th>\n",
       "      <td>OOB - MN - Cafe 290</td>\n",
       "      <td>78653.0</td>\n",
       "      <td>02/12/2020</td>\n",
       "      <td>78</td>\n",
       "      <td>11011 E US 290 HWY</td>\n",
       "      <td>11360758</td>\n",
       "      <td>Routine Inspection</td>\n",
       "      <td>30.348666</td>\n",
       "      <td>-97.558423</td>\n",
       "      <td>MANOR, TX 78653</td>\n",
       "    </tr>\n",
       "    <tr>\n",
       "      <th>25634</th>\n",
       "      <td>OOB Sonic Drive In</td>\n",
       "      <td>78757.0</td>\n",
       "      <td>06/26/2020</td>\n",
       "      <td>91</td>\n",
       "      <td>7708 BURNET RD</td>\n",
       "      <td>2800074</td>\n",
       "      <td>Routine Inspection</td>\n",
       "      <td>30.353638</td>\n",
       "      <td>-97.732344</td>\n",
       "      <td>AUSTIN, TX 78757</td>\n",
       "    </tr>\n",
       "    <tr>\n",
       "      <th>25671</th>\n",
       "      <td>OOB - BC - Woody's Tavern and Grill, Inc</td>\n",
       "      <td>78738.0</td>\n",
       "      <td>11/02/2021</td>\n",
       "      <td>86</td>\n",
       "      <td>12801 SHOPS PKWY</td>\n",
       "      <td>11093282</td>\n",
       "      <td>Routine Inspection</td>\n",
       "      <td>30.305356</td>\n",
       "      <td>-97.941418</td>\n",
       "      <td>BEE CAVE, TX 78738</td>\n",
       "    </tr>\n",
       "    <tr>\n",
       "      <th>25695</th>\n",
       "      <td>OOB - Sonic Drive-In #6</td>\n",
       "      <td>78745.0</td>\n",
       "      <td>07/17/2020</td>\n",
       "      <td>92</td>\n",
       "      <td>804 W STASSNEY LN</td>\n",
       "      <td>2800585</td>\n",
       "      <td>Routine Inspection</td>\n",
       "      <td>30.209124</td>\n",
       "      <td>-97.783901</td>\n",
       "      <td>AUSTIN, TX 78745</td>\n",
       "    </tr>\n",
       "    <tr>\n",
       "      <th>25744</th>\n",
       "      <td>OOB - Habana Restaurant</td>\n",
       "      <td>78704.0</td>\n",
       "      <td>08/03/2021</td>\n",
       "      <td>88</td>\n",
       "      <td>2728 S CONGRESS AVE</td>\n",
       "      <td>2801827</td>\n",
       "      <td>Routine Inspection</td>\n",
       "      <td>30.234757</td>\n",
       "      <td>-97.756970</td>\n",
       "      <td>AUSTIN, TX 78704</td>\n",
       "    </tr>\n",
       "  </tbody>\n",
       "</table>\n",
       "<p>497 rows × 10 columns</p>\n",
       "</div>"
      ],
      "text/plain": [
       "                                Restaurant Name  Zip Code Inspection Date  \\\n",
       "36                      OOB - PF - Fresh Donuts   78660.0      09/08/2020   \n",
       "71                  OOB Bottom of the Cup, Inc.   78728.0      03/02/2021   \n",
       "92                       OOB - CAVA Mezze Grill   78746.0      10/21/2020   \n",
       "148                             OOB - Cho Sushi   78732.0      08/20/2020   \n",
       "157       OOB - Primrose School of Shady Hollow   78748.0      03/10/2020   \n",
       "...                                         ...       ...             ...   \n",
       "25622                       OOB - MN - Cafe 290   78653.0      02/12/2020   \n",
       "25634                        OOB Sonic Drive In   78757.0      06/26/2020   \n",
       "25671  OOB - BC - Woody's Tavern and Grill, Inc   78738.0      11/02/2021   \n",
       "25695                   OOB - Sonic Drive-In #6   78745.0      07/17/2020   \n",
       "25744                   OOB - Habana Restaurant   78704.0      08/03/2021   \n",
       "\n",
       "       Score                 Address  Facility ID Process Description  \\\n",
       "36        83         20205 FM 685 RD     12186613  Routine Inspection   \n",
       "71       100         15201 BURNET RD     11809293  Routine Inspection   \n",
       "92        88       3201 BEE CAVES RD     11954625  Routine Inspection   \n",
       "148       85  4300 N QUINLAN PARK RD     10357554  Routine Inspection   \n",
       "157       94         12341 BRODIE LN     11505049  Routine Inspection   \n",
       "...      ...                     ...          ...                 ...   \n",
       "25622     78      11011 E US 290 HWY     11360758  Routine Inspection   \n",
       "25634     91          7708 BURNET RD      2800074  Routine Inspection   \n",
       "25671     86        12801 SHOPS PKWY     11093282  Routine Inspection   \n",
       "25695     92       804 W STASSNEY LN      2800585  Routine Inspection   \n",
       "25744     88     2728 S CONGRESS AVE      2801827  Routine Inspection   \n",
       "\n",
       "        latitude  longitude          Address Line 2  \n",
       "36     30.484442 -97.584230  PFLUGERVILLE, TX 78660  \n",
       "71     30.458629 -97.695018        AUSTIN, TX 78728  \n",
       "92     30.273599 -97.799242        AUSTIN, TX 78746  \n",
       "148    30.382160 -97.884121        AUSTIN, TX 78732  \n",
       "157    30.148861 -97.855051        AUSTIN, TX 78748  \n",
       "...          ...        ...                     ...  \n",
       "25622  30.348666 -97.558423         MANOR, TX 78653  \n",
       "25634  30.353638 -97.732344        AUSTIN, TX 78757  \n",
       "25671  30.305356 -97.941418      BEE CAVE, TX 78738  \n",
       "25695  30.209124 -97.783901        AUSTIN, TX 78745  \n",
       "25744  30.234757 -97.756970        AUSTIN, TX 78704  \n",
       "\n",
       "[497 rows x 10 columns]"
      ]
     },
     "execution_count": 446,
     "metadata": {},
     "output_type": "execute_result"
    }
   ],
   "source": [
    "df[df['Restaurant Name'].str.contains('OOB')]"
   ]
  },
  {
   "cell_type": "code",
   "execution_count": null,
   "id": "5b948ac5-842f-4797-95a6-98d8ec82a664",
   "metadata": {},
   "outputs": [
    {
     "data": {
      "text/html": [
       "<div>\n",
       "<style scoped>\n",
       "    .dataframe tbody tr th:only-of-type {\n",
       "        vertical-align: middle;\n",
       "    }\n",
       "\n",
       "    .dataframe tbody tr th {\n",
       "        vertical-align: top;\n",
       "    }\n",
       "\n",
       "    .dataframe thead th {\n",
       "        text-align: right;\n",
       "    }\n",
       "</style>\n",
       "<table border=\"1\" class=\"dataframe\">\n",
       "  <thead>\n",
       "    <tr style=\"text-align: right;\">\n",
       "      <th></th>\n",
       "      <th>Restaurant Name</th>\n",
       "      <th>Zip Code</th>\n",
       "      <th>Inspection Date</th>\n",
       "      <th>Score</th>\n",
       "      <th>Address</th>\n",
       "      <th>Facility ID</th>\n",
       "      <th>Process Description</th>\n",
       "      <th>latitude</th>\n",
       "      <th>longitude</th>\n",
       "      <th>Address Line 2</th>\n",
       "    </tr>\n",
       "  </thead>\n",
       "  <tbody>\n",
       "    <tr>\n",
       "      <th>4887</th>\n",
       "      <td>Oilcans</td>\n",
       "      <td>78701.0</td>\n",
       "      <td>07/22/2021</td>\n",
       "      <td>90</td>\n",
       "      <td>211 W 4TH ST</td>\n",
       "      <td>12049518</td>\n",
       "      <td>Routine Inspection</td>\n",
       "      <td>30.266728</td>\n",
       "      <td>-97.745398</td>\n",
       "      <td>AUSTIN, TX 78701</td>\n",
       "    </tr>\n",
       "    <tr>\n",
       "      <th>13810</th>\n",
       "      <td>Pub, The</td>\n",
       "      <td>78701.0</td>\n",
       "      <td>01/05/2022</td>\n",
       "      <td>82</td>\n",
       "      <td>214 W 4TH ST</td>\n",
       "      <td>12394816</td>\n",
       "      <td>Routine Inspection</td>\n",
       "      <td>30.266764</td>\n",
       "      <td>-97.745534</td>\n",
       "      <td>UNIT A AUSTIN, TX 78701</td>\n",
       "    </tr>\n",
       "    <tr>\n",
       "      <th>15465</th>\n",
       "      <td>Dumont's</td>\n",
       "      <td>78701.0</td>\n",
       "      <td>12/17/2019</td>\n",
       "      <td>94</td>\n",
       "      <td>214 W 4TH ST</td>\n",
       "      <td>12062866</td>\n",
       "      <td>Routine Inspection</td>\n",
       "      <td>30.266764</td>\n",
       "      <td>-97.745534</td>\n",
       "      <td>AUSTIN, TX 78701</td>\n",
       "    </tr>\n",
       "    <tr>\n",
       "      <th>16233</th>\n",
       "      <td>OOB - Chispas</td>\n",
       "      <td>78701.0</td>\n",
       "      <td>11/18/2019</td>\n",
       "      <td>90</td>\n",
       "      <td>214 W 4TH ST</td>\n",
       "      <td>12128118</td>\n",
       "      <td>Routine Inspection</td>\n",
       "      <td>30.266764</td>\n",
       "      <td>-97.745534</td>\n",
       "      <td>AUSTIN, TX 78701</td>\n",
       "    </tr>\n",
       "    <tr>\n",
       "      <th>16506</th>\n",
       "      <td>Dumont's</td>\n",
       "      <td>78701.0</td>\n",
       "      <td>07/22/2021</td>\n",
       "      <td>94</td>\n",
       "      <td>214 W 4TH ST</td>\n",
       "      <td>12062866</td>\n",
       "      <td>Routine Inspection</td>\n",
       "      <td>30.266764</td>\n",
       "      <td>-97.745534</td>\n",
       "      <td>AUSTIN, TX 78701</td>\n",
       "    </tr>\n",
       "    <tr>\n",
       "      <th>16844</th>\n",
       "      <td>Rain on 4th</td>\n",
       "      <td>78701.0</td>\n",
       "      <td>01/28/2020</td>\n",
       "      <td>87</td>\n",
       "      <td>217 W 4TH ST</td>\n",
       "      <td>2802019</td>\n",
       "      <td>Routine Inspection</td>\n",
       "      <td>30.266778</td>\n",
       "      <td>-97.745586</td>\n",
       "      <td>AUSTIN, TX 78701</td>\n",
       "    </tr>\n",
       "    <tr>\n",
       "      <th>20650</th>\n",
       "      <td>Sellers Beverages LLC</td>\n",
       "      <td>78701.0</td>\n",
       "      <td>01/28/2020</td>\n",
       "      <td>85</td>\n",
       "      <td>213 W 4TH ST</td>\n",
       "      <td>11622663</td>\n",
       "      <td>Routine Inspection</td>\n",
       "      <td>30.266741</td>\n",
       "      <td>-97.745447</td>\n",
       "      <td>AUSTIN, TX 78701</td>\n",
       "    </tr>\n",
       "    <tr>\n",
       "      <th>23914</th>\n",
       "      <td>Oilcans</td>\n",
       "      <td>78701.0</td>\n",
       "      <td>01/28/2020</td>\n",
       "      <td>86</td>\n",
       "      <td>211 W 4TH ST</td>\n",
       "      <td>12049518</td>\n",
       "      <td>Routine Inspection</td>\n",
       "      <td>30.266728</td>\n",
       "      <td>-97.745398</td>\n",
       "      <td>AUSTIN, TX 78701</td>\n",
       "    </tr>\n",
       "    <tr>\n",
       "      <th>25229</th>\n",
       "      <td>Rain on 4th</td>\n",
       "      <td>78701.0</td>\n",
       "      <td>07/22/2021</td>\n",
       "      <td>87</td>\n",
       "      <td>217 W 4TH ST</td>\n",
       "      <td>2802019</td>\n",
       "      <td>Routine Inspection</td>\n",
       "      <td>30.266778</td>\n",
       "      <td>-97.745586</td>\n",
       "      <td>AUSTIN, TX 78701</td>\n",
       "    </tr>\n",
       "  </tbody>\n",
       "</table>\n",
       "</div>"
      ],
      "text/plain": [
       "             Restaurant Name  Zip Code Inspection Date  Score       Address  \\\n",
       "4887                 Oilcans   78701.0      07/22/2021     90  211 W 4TH ST   \n",
       "13810               Pub, The   78701.0      01/05/2022     82  214 W 4TH ST   \n",
       "15465               Dumont's   78701.0      12/17/2019     94  214 W 4TH ST   \n",
       "16233          OOB - Chispas   78701.0      11/18/2019     90  214 W 4TH ST   \n",
       "16506               Dumont's   78701.0      07/22/2021     94  214 W 4TH ST   \n",
       "16844            Rain on 4th   78701.0      01/28/2020     87  217 W 4TH ST   \n",
       "20650  Sellers Beverages LLC   78701.0      01/28/2020     85  213 W 4TH ST   \n",
       "23914                Oilcans   78701.0      01/28/2020     86  211 W 4TH ST   \n",
       "25229            Rain on 4th   78701.0      07/22/2021     87  217 W 4TH ST   \n",
       "\n",
       "       Facility ID Process Description   latitude  longitude  \\\n",
       "4887      12049518  Routine Inspection  30.266728 -97.745398   \n",
       "13810     12394816  Routine Inspection  30.266764 -97.745534   \n",
       "15465     12062866  Routine Inspection  30.266764 -97.745534   \n",
       "16233     12128118  Routine Inspection  30.266764 -97.745534   \n",
       "16506     12062866  Routine Inspection  30.266764 -97.745534   \n",
       "16844      2802019  Routine Inspection  30.266778 -97.745586   \n",
       "20650     11622663  Routine Inspection  30.266741 -97.745447   \n",
       "23914     12049518  Routine Inspection  30.266728 -97.745398   \n",
       "25229      2802019  Routine Inspection  30.266778 -97.745586   \n",
       "\n",
       "                Address Line 2  \n",
       "4887          AUSTIN, TX 78701  \n",
       "13810  UNIT A AUSTIN, TX 78701  \n",
       "15465         AUSTIN, TX 78701  \n",
       "16233         AUSTIN, TX 78701  \n",
       "16506         AUSTIN, TX 78701  \n",
       "16844         AUSTIN, TX 78701  \n",
       "20650         AUSTIN, TX 78701  \n",
       "23914         AUSTIN, TX 78701  \n",
       "25229         AUSTIN, TX 78701  "
      ]
     },
     "execution_count": 440,
     "metadata": {},
     "output_type": "execute_result"
    }
   ],
   "source": [
    "limits = 0.0003\n",
    "df[(abs(df.latitude - lat) < limits) & (abs(df.longitude - long) < limits)]"
   ]
  },
  {
   "cell_type": "code",
   "execution_count": null,
   "id": "757ebb3d-565f-4d63-b59b-1194aca39dfd",
   "metadata": {},
   "outputs": [
    {
     "data": {
      "text/plain": [
       "0                      el pollo rey\n",
       "1       eurasia sushi bar & seafood\n",
       "2                           wendy's\n",
       "3        olmecas mexican restaurant\n",
       "4                   caveman cuisine\n",
       "                   ...             \n",
       "6339                  trai mai thai\n",
       "6340                         target\n",
       "6341                     super bowl\n",
       "6342          shanghai noodle house\n",
       "6343                      starbucks\n",
       "Name: name, Length: 6344, dtype: object"
      ]
     },
     "execution_count": 445,
     "metadata": {},
     "output_type": "execute_result"
    }
   ],
   "source": [
    "austin_rest.name.str.lower()"
   ]
  },
  {
   "cell_type": "code",
   "execution_count": null,
   "id": "90182ac5-10df-4f80-a39c-ff231998880e",
   "metadata": {},
   "outputs": [],
   "source": [
    "df = df[df.Address.str.split('\\n').str.len() == 3]\n",
    "df.Address = df.Address.apply(lambda x: x.split('\\n'))\n",
    "df['latitude'] = df.Address.apply(lambda x: eval(x[2])[0])\n",
    "df['longitude'] = df.Address.apply(lambda x: eval(x[2])[1])"
   ]
  },
  {
   "cell_type": "code",
   "execution_count": null,
   "id": "e97e3c63-7b5d-4bd8-96bd-445f343c2116",
   "metadata": {},
   "outputs": [
    {
     "data": {
      "text/html": [
       "<div>\n",
       "<style scoped>\n",
       "    .dataframe tbody tr th:only-of-type {\n",
       "        vertical-align: middle;\n",
       "    }\n",
       "\n",
       "    .dataframe tbody tr th {\n",
       "        vertical-align: top;\n",
       "    }\n",
       "\n",
       "    .dataframe thead th {\n",
       "        text-align: right;\n",
       "    }\n",
       "</style>\n",
       "<table border=\"1\" class=\"dataframe\">\n",
       "  <thead>\n",
       "    <tr style=\"text-align: right;\">\n",
       "      <th></th>\n",
       "      <th>Restaurant Name</th>\n",
       "      <th>Zip Code</th>\n",
       "      <th>Inspection Date</th>\n",
       "      <th>Score</th>\n",
       "      <th>Address</th>\n",
       "      <th>Facility ID</th>\n",
       "      <th>Process Description</th>\n",
       "      <th>Latitude</th>\n",
       "    </tr>\n",
       "  </thead>\n",
       "  <tbody>\n",
       "    <tr>\n",
       "      <th>19</th>\n",
       "      <td>Jaime D. Padron Elementary</td>\n",
       "      <td>78758.0</td>\n",
       "      <td>12/16/2020</td>\n",
       "      <td>100</td>\n",
       "      <td>[2011 W RUNDBERG LN, AUSTIN, TX 78758, (30.373...</td>\n",
       "      <td>11199440</td>\n",
       "      <td>Routine Inspection</td>\n",
       "      <td>(30.373732, -97.719236)</td>\n",
       "    </tr>\n",
       "    <tr>\n",
       "      <th>21</th>\n",
       "      <td>Village @ Marbridge</td>\n",
       "      <td>78652.0</td>\n",
       "      <td>12/02/2020</td>\n",
       "      <td>100</td>\n",
       "      <td>[2310 BLISS SPILLAR RD, AUSTIN, TX 78652, (30....</td>\n",
       "      <td>10208073</td>\n",
       "      <td>Routine Inspection</td>\n",
       "      <td>(30.136879, -97.856197)</td>\n",
       "    </tr>\n",
       "    <tr>\n",
       "      <th>22</th>\n",
       "      <td>COTA - Rev Bar 1 Main Grand Stand</td>\n",
       "      <td>78617.0</td>\n",
       "      <td>03/25/2022</td>\n",
       "      <td>100</td>\n",
       "      <td>[9201 CIRCUIT OF THE AMERICAS BLVD, AUSTIN, TX...</td>\n",
       "      <td>12395056</td>\n",
       "      <td>Routine Inspection</td>\n",
       "      <td>(30.134236, -97.645076)</td>\n",
       "    </tr>\n",
       "    <tr>\n",
       "      <th>23</th>\n",
       "      <td>Thundercloud Subs #4</td>\n",
       "      <td>NaN</td>\n",
       "      <td>11/19/2020</td>\n",
       "      <td>96</td>\n",
       "      <td>[6105 6151 E US 290 HWY, SVRD EB AUSTIN, TX, (...</td>\n",
       "      <td>2800340</td>\n",
       "      <td>Routine Inspection</td>\n",
       "      <td>(30.234271, -97.851595)</td>\n",
       "    </tr>\n",
       "    <tr>\n",
       "      <th>24</th>\n",
       "      <td>Hana World Market - Deli</td>\n",
       "      <td>78727.0</td>\n",
       "      <td>05/04/2020</td>\n",
       "      <td>88</td>\n",
       "      <td>[1700 W PARMER LN, AUSTIN, TX 78727, (30.41251...</td>\n",
       "      <td>10866954</td>\n",
       "      <td>Routine Inspection</td>\n",
       "      <td>(30.412511, -97.688908)</td>\n",
       "    </tr>\n",
       "    <tr>\n",
       "      <th>...</th>\n",
       "      <td>...</td>\n",
       "      <td>...</td>\n",
       "      <td>...</td>\n",
       "      <td>...</td>\n",
       "      <td>...</td>\n",
       "      <td>...</td>\n",
       "      <td>...</td>\n",
       "      <td>...</td>\n",
       "    </tr>\n",
       "    <tr>\n",
       "      <th>25779</th>\n",
       "      <td>Commodore Perry Estate, The</td>\n",
       "      <td>78751.0</td>\n",
       "      <td>11/18/2021</td>\n",
       "      <td>84</td>\n",
       "      <td>[4114 RED RIVER ST, AUSTIN, TX 78751, (30.3007...</td>\n",
       "      <td>12392635</td>\n",
       "      <td>Routine Inspection</td>\n",
       "      <td>(30.300755, -97.721903)</td>\n",
       "    </tr>\n",
       "    <tr>\n",
       "      <th>25780</th>\n",
       "      <td>El Mercado North</td>\n",
       "      <td>78757.0</td>\n",
       "      <td>07/27/2021</td>\n",
       "      <td>89</td>\n",
       "      <td>[7414 BURNET RD, AUSTIN, TX 78757, (30.350003,...</td>\n",
       "      <td>2800466</td>\n",
       "      <td>Routine Inspection</td>\n",
       "      <td>(30.350003, -97.734632)</td>\n",
       "    </tr>\n",
       "    <tr>\n",
       "      <th>25781</th>\n",
       "      <td>Wendy's #W129/11274</td>\n",
       "      <td>78759.0</td>\n",
       "      <td>12/31/2019</td>\n",
       "      <td>82</td>\n",
       "      <td>[10701 RESEARCH BLVD, AUSTIN, TX 78759, (30.39...</td>\n",
       "      <td>11115872</td>\n",
       "      <td>Routine Inspection</td>\n",
       "      <td>(30.398568, -97.745647)</td>\n",
       "    </tr>\n",
       "    <tr>\n",
       "      <th>25782</th>\n",
       "      <td>Slapbox Pizzicheria</td>\n",
       "      <td>78717.0</td>\n",
       "      <td>10/18/2021</td>\n",
       "      <td>80</td>\n",
       "      <td>[9900 W PARMER LN, AUSTIN, TX 78717, (30.48629...</td>\n",
       "      <td>12393453</td>\n",
       "      <td>Routine Inspection</td>\n",
       "      <td>(30.486294, -97.770553)</td>\n",
       "    </tr>\n",
       "    <tr>\n",
       "      <th>25783</th>\n",
       "      <td>Bluebonnet Food Mart</td>\n",
       "      <td>78704.0</td>\n",
       "      <td>11/04/2021</td>\n",
       "      <td>90</td>\n",
       "      <td>[1701 BLUEBONNET LN, AUSTIN, TX 78704, (30.254...</td>\n",
       "      <td>10543229</td>\n",
       "      <td>Routine Inspection</td>\n",
       "      <td>(30.254763, -97.772096)</td>\n",
       "    </tr>\n",
       "  </tbody>\n",
       "</table>\n",
       "<p>22371 rows × 8 columns</p>\n",
       "</div>"
      ],
      "text/plain": [
       "                         Restaurant Name  Zip Code Inspection Date  Score  \\\n",
       "19            Jaime D. Padron Elementary   78758.0      12/16/2020    100   \n",
       "21                   Village @ Marbridge   78652.0      12/02/2020    100   \n",
       "22     COTA - Rev Bar 1 Main Grand Stand   78617.0      03/25/2022    100   \n",
       "23                  Thundercloud Subs #4       NaN      11/19/2020     96   \n",
       "24              Hana World Market - Deli   78727.0      05/04/2020     88   \n",
       "...                                  ...       ...             ...    ...   \n",
       "25779        Commodore Perry Estate, The   78751.0      11/18/2021     84   \n",
       "25780                   El Mercado North   78757.0      07/27/2021     89   \n",
       "25781                Wendy's #W129/11274   78759.0      12/31/2019     82   \n",
       "25782                Slapbox Pizzicheria   78717.0      10/18/2021     80   \n",
       "25783               Bluebonnet Food Mart   78704.0      11/04/2021     90   \n",
       "\n",
       "                                                 Address  Facility ID  \\\n",
       "19     [2011 W RUNDBERG LN, AUSTIN, TX 78758, (30.373...     11199440   \n",
       "21     [2310 BLISS SPILLAR RD, AUSTIN, TX 78652, (30....     10208073   \n",
       "22     [9201 CIRCUIT OF THE AMERICAS BLVD, AUSTIN, TX...     12395056   \n",
       "23     [6105 6151 E US 290 HWY, SVRD EB AUSTIN, TX, (...      2800340   \n",
       "24     [1700 W PARMER LN, AUSTIN, TX 78727, (30.41251...     10866954   \n",
       "...                                                  ...          ...   \n",
       "25779  [4114 RED RIVER ST, AUSTIN, TX 78751, (30.3007...     12392635   \n",
       "25780  [7414 BURNET RD, AUSTIN, TX 78757, (30.350003,...      2800466   \n",
       "25781  [10701 RESEARCH BLVD, AUSTIN, TX 78759, (30.39...     11115872   \n",
       "25782  [9900 W PARMER LN, AUSTIN, TX 78717, (30.48629...     12393453   \n",
       "25783  [1701 BLUEBONNET LN, AUSTIN, TX 78704, (30.254...     10543229   \n",
       "\n",
       "      Process Description                 Latitude  \n",
       "19     Routine Inspection  (30.373732, -97.719236)  \n",
       "21     Routine Inspection  (30.136879, -97.856197)  \n",
       "22     Routine Inspection  (30.134236, -97.645076)  \n",
       "23     Routine Inspection  (30.234271, -97.851595)  \n",
       "24     Routine Inspection  (30.412511, -97.688908)  \n",
       "...                   ...                      ...  \n",
       "25779  Routine Inspection  (30.300755, -97.721903)  \n",
       "25780  Routine Inspection  (30.350003, -97.734632)  \n",
       "25781  Routine Inspection  (30.398568, -97.745647)  \n",
       "25782  Routine Inspection  (30.486294, -97.770553)  \n",
       "25783  Routine Inspection  (30.254763, -97.772096)  \n",
       "\n",
       "[22371 rows x 8 columns]"
      ]
     },
     "execution_count": 380,
     "metadata": {},
     "output_type": "execute_result"
    }
   ],
   "source": [
    "df"
   ]
  },
  {
   "cell_type": "code",
   "execution_count": null,
   "id": "ea5d51b0-877f-4978-b5a5-52e145d12238",
   "metadata": {},
   "outputs": [],
   "source": [
    "df['Latitude'] = df.Address.str[2]"
   ]
  },
  {
   "cell_type": "code",
   "execution_count": null,
   "id": "a996da52-b5c9-43ac-a1c6-833d890f8777",
   "metadata": {},
   "outputs": [
    {
     "data": {
      "text/plain": [
       "(30.373732, -97.719236)"
      ]
     },
     "execution_count": 375,
     "metadata": {},
     "output_type": "execute_result"
    }
   ],
   "source": [
    "eval(df.Latitude[19])"
   ]
  },
  {
   "cell_type": "code",
   "execution_count": null,
   "id": "4c178058-9805-4c13-9b06-f2822c3115a6",
   "metadata": {},
   "outputs": [
    {
     "data": {
      "text/plain": [
       "'(30.373732, -97.719236)'"
      ]
     },
     "execution_count": 378,
     "metadata": {},
     "output_type": "execute_result"
    }
   ],
   "source": [
    "df.Address[19][2]"
   ]
  },
  {
   "cell_type": "code",
   "execution_count": null,
   "id": "2b790a94-e952-4adb-ae48-827fcf1a473e",
   "metadata": {},
   "outputs": [
    {
     "name": "stderr",
     "output_type": "stream",
     "text": [
      "C:\\Users\\ASUS\\AppData\\Local\\Temp\\ipykernel_12664\\3017791534.py:1: UserWarning: Pandas doesn't allow columns to be created via a new attribute name - see https://pandas.pydata.org/pandas-docs/stable/indexing.html#attribute-access\n",
      "  df.latitude = df.Address.apply(lambda x: eval(x[2])[0])\n",
      "C:\\Users\\ASUS\\AppData\\Local\\Temp\\ipykernel_12664\\3017791534.py:2: UserWarning: Pandas doesn't allow columns to be created via a new attribute name - see https://pandas.pydata.org/pandas-docs/stable/indexing.html#attribute-access\n",
      "  df.longitude = df.Address.apply(lambda x: eval(x[2])[0])\n"
     ]
    }
   ],
   "source": [
    "df['latitude'] = df.Address.apply(lambda x: eval(x[2])[0])\n",
    "df['longitude'] = df.Address.apply(lambda x: eval(x[2])[1])"
   ]
  },
  {
   "cell_type": "code",
   "execution_count": null,
   "id": "4b75d920-4daf-4ad8-a204-78663a555121",
   "metadata": {},
   "outputs": [
    {
     "data": {
      "text/plain": [
       "['8628 MANCHACA RD', 'AUSTIN, TX 78748']"
      ]
     },
     "execution_count": 336,
     "metadata": {},
     "output_type": "execute_result"
    }
   ],
   "source": [
    "df.Address.str.split('\\n')[2]"
   ]
  },
  {
   "cell_type": "code",
   "execution_count": null,
   "id": "f216a542-ab8c-4999-b372-f557d0e1c35d",
   "metadata": {},
   "outputs": [
    {
     "data": {
      "text/plain": [
       "['325', 'S', 'FM', '620', 'RD', 'LAKEWAY,', 'TX', '78734']"
      ]
     },
     "execution_count": 214,
     "metadata": {},
     "output_type": "execute_result"
    }
   ],
   "source": [
    "df.Address.str.split()[0]"
   ]
  },
  {
   "cell_type": "code",
   "execution_count": null,
   "id": "ff9bf3fc-4a5c-40f8-ac3f-cb883a0dc5fa",
   "metadata": {},
   "outputs": [
    {
     "data": {
      "text/plain": [
       "3600 PRESIDENTIAL BLVD\\nAUSTIN, TX 78719\\n(30.202592, -97.666956)         169\n",
       "2901 S CAPITAL OF TEXAS HWY\\nAUSTIN, TX 78746\\n(30.255443, -97.810066)    112\n",
       "11200 LAKELINE MALL DR\\nAUSTIN, TX 78613\\n(30.47186, -97.802769)           92\n",
       "2525 W ANDERSON LN\\nAUSTIN, TX 78757\\n(30.356679, -97.732239)              86\n",
       "10901 N LAMAR BLVD\\nAUSTIN, TX 78753\\n(30.378477, -97.688329)              78\n",
       "                                                                         ... \n",
       "1115 BASTROP HWY\\nAUSTIN, TX 78742\\n(30.228434, -97.682454)                 1\n",
       "603 BRAZOS ST\\nAUSTIN, TX 78701\\n(30.267859, -97.741403)                    1\n",
       "1300 LAVACA ST\\nAUSTIN, TX 78701\\n(30.276016, -97.742513)                   1\n",
       "1708 MONTOPOLIS DR\\nAUSTIN, TX 78741\\n(30.226758, -97.702277)               1\n",
       "6001 MANCHACA RD\\nAUSTIN, TX 78745\\n(30.212953, -97.801829)                 1\n",
       "Name: Address, Length: 4025, dtype: int64"
      ]
     },
     "execution_count": 215,
     "metadata": {},
     "output_type": "execute_result"
    }
   ],
   "source": [
    "df.Address.value_counts()"
   ]
  },
  {
   "cell_type": "code",
   "execution_count": null,
   "id": "e28d539a-251d-4dcf-b540-3ae5fd3461a3",
   "metadata": {},
   "outputs": [
    {
     "data": {
      "text/plain": [
       "(array([1.000e+00, 0.000e+00, 6.000e+00, 7.000e+00, 1.000e+01, 2.300e+01,\n",
       "        4.900e+01, 5.000e+01, 4.700e+01, 2.790e+02, 4.010e+02, 6.120e+02,\n",
       "        9.400e+02, 1.385e+03, 1.313e+03, 2.470e+03, 3.617e+03, 4.333e+03,\n",
       "        4.799e+03, 5.442e+03]),\n",
       " array([ 44. ,  46.8,  49.6,  52.4,  55.2,  58. ,  60.8,  63.6,  66.4,\n",
       "         69.2,  72. ,  74.8,  77.6,  80.4,  83.2,  86. ,  88.8,  91.6,\n",
       "         94.4,  97.2, 100. ]),\n",
       " <BarContainer object of 20 artists>)"
      ]
     },
     "execution_count": 216,
     "metadata": {},
     "output_type": "execute_result"
    },
    {
     "data": {
      "image/png": "[encoded data removed]",
      "text/plain": [
       "<Figure size 432x288 with 1 Axes>"
      ]
     },
     "metadata": {
      "needs_background": "light"
     },
     "output_type": "display_data"
    }
   ],
   "source": [
    "plt.hist(df.Score,bins=20)"
   ]
  },
  {
   "cell_type": "code",
   "execution_count": null,
   "id": "f169b7e3-8e22-4169-9646-d67b88178b22",
   "metadata": {},
   "outputs": [
    {
     "data": {
      "text/plain": [
       "OOB BC - Salsas Restaurant    4\n",
       "Hunan Spicy                   4\n",
       "La Superior Market            3\n",
       "SV-Nala's                     3\n",
       "JD's Market                   3\n",
       "                             ..\n",
       "La Michoacana                 1\n",
       "99 Ranch Market #107          1\n",
       "Park at the Domain, The       1\n",
       "El Tacorrido                  1\n",
       "Meches Mexican Restaurant     1\n",
       "Name: Restaurant Name, Length: 150, dtype: int64"
      ]
     },
     "execution_count": 222,
     "metadata": {},
     "output_type": "execute_result"
    }
   ],
   "source": [
    "df[df.Score < 70]['Restaurant Name'].value_counts()"
   ]
  },
  {
   "cell_type": "code",
   "execution_count": null,
   "id": "e7b4bffc-3d2e-48da-867b-e77bc3c7aaf3",
   "metadata": {},
   "outputs": [
    {
     "data": {
      "text/html": [
       "<div>\n",
       "<style scoped>\n",
       "    .dataframe tbody tr th:only-of-type {\n",
       "        vertical-align: middle;\n",
       "    }\n",
       "\n",
       "    .dataframe tbody tr th {\n",
       "        vertical-align: top;\n",
       "    }\n",
       "\n",
       "    .dataframe thead th {\n",
       "        text-align: right;\n",
       "    }\n",
       "</style>\n",
       "<table border=\"1\" class=\"dataframe\">\n",
       "  <thead>\n",
       "    <tr style=\"text-align: right;\">\n",
       "      <th></th>\n",
       "      <th>Restaurant Name</th>\n",
       "      <th>Zip Code</th>\n",
       "      <th>Inspection Date</th>\n",
       "      <th>Score</th>\n",
       "      <th>Address</th>\n",
       "      <th>Facility ID</th>\n",
       "      <th>Process Description</th>\n",
       "    </tr>\n",
       "  </thead>\n",
       "  <tbody>\n",
       "    <tr>\n",
       "      <th>64</th>\n",
       "      <td>Taco Cabana #129</td>\n",
       "      <td>78741.0</td>\n",
       "      <td>06/11/2021</td>\n",
       "      <td>89</td>\n",
       "      <td>2507 E RIVERSIDE DR\\nAUSTIN, TX 78741\\n(30.234...</td>\n",
       "      <td>2800922</td>\n",
       "      <td>Routine Inspection</td>\n",
       "    </tr>\n",
       "    <tr>\n",
       "      <th>410</th>\n",
       "      <td>Taco Cabana Patio Rest #125</td>\n",
       "      <td>78750.0</td>\n",
       "      <td>06/16/2021</td>\n",
       "      <td>76</td>\n",
       "      <td>13376 N US 183 HWY\\nAUSTIN, TX 78750\\n(30.4867...</td>\n",
       "      <td>2800474</td>\n",
       "      <td>Routine Inspection</td>\n",
       "    </tr>\n",
       "    <tr>\n",
       "      <th>502</th>\n",
       "      <td>Taco Cabana #128</td>\n",
       "      <td>78727.0</td>\n",
       "      <td>07/22/2020</td>\n",
       "      <td>92</td>\n",
       "      <td>12525 N MOPAC EXPY\\nAUSTIN, TX 78727\\n(30.4209...</td>\n",
       "      <td>2800946</td>\n",
       "      <td>Routine Inspection</td>\n",
       "    </tr>\n",
       "    <tr>\n",
       "      <th>773</th>\n",
       "      <td>Taco Cabana #203</td>\n",
       "      <td>78758.0</td>\n",
       "      <td>11/04/2019</td>\n",
       "      <td>93</td>\n",
       "      <td>8415 RESEARCH BLVD\\nAUSTIN, TX 78758\\n(30.3584...</td>\n",
       "      <td>2800517</td>\n",
       "      <td>Routine Inspection</td>\n",
       "    </tr>\n",
       "    <tr>\n",
       "      <th>1342</th>\n",
       "      <td>Taco Cabana #278</td>\n",
       "      <td>78749.0</td>\n",
       "      <td>11/19/2021</td>\n",
       "      <td>90</td>\n",
       "      <td>6611 S MOPAC EXPY\\nAUSTIN, TX 78749</td>\n",
       "      <td>2802942</td>\n",
       "      <td>Routine Inspection</td>\n",
       "    </tr>\n",
       "    <tr>\n",
       "      <th>...</th>\n",
       "      <td>...</td>\n",
       "      <td>...</td>\n",
       "      <td>...</td>\n",
       "      <td>...</td>\n",
       "      <td>...</td>\n",
       "      <td>...</td>\n",
       "      <td>...</td>\n",
       "    </tr>\n",
       "    <tr>\n",
       "      <th>25188</th>\n",
       "      <td>Taco Cabana #199</td>\n",
       "      <td>78748.0</td>\n",
       "      <td>07/29/2020</td>\n",
       "      <td>89</td>\n",
       "      <td>9705 MANCHACA RD\\nAUSTIN, TX 78748</td>\n",
       "      <td>2801240</td>\n",
       "      <td>Routine Inspection</td>\n",
       "    </tr>\n",
       "    <tr>\n",
       "      <th>25335</th>\n",
       "      <td>Taco Cabana #203</td>\n",
       "      <td>78758.0</td>\n",
       "      <td>03/03/2020</td>\n",
       "      <td>85</td>\n",
       "      <td>8415 RESEARCH BLVD\\nAUSTIN, TX 78758\\n(30.3584...</td>\n",
       "      <td>2800517</td>\n",
       "      <td>Routine Inspection</td>\n",
       "    </tr>\n",
       "    <tr>\n",
       "      <th>25497</th>\n",
       "      <td>Taco Cabana #129</td>\n",
       "      <td>78741.0</td>\n",
       "      <td>03/27/2020</td>\n",
       "      <td>98</td>\n",
       "      <td>2507 E RIVERSIDE DR\\nAUSTIN, TX 78741\\n(30.234...</td>\n",
       "      <td>2800922</td>\n",
       "      <td>Routine Inspection</td>\n",
       "    </tr>\n",
       "    <tr>\n",
       "      <th>25592</th>\n",
       "      <td>Taco Cabana #203</td>\n",
       "      <td>78758.0</td>\n",
       "      <td>11/30/2021</td>\n",
       "      <td>90</td>\n",
       "      <td>8415 RESEARCH BLVD\\nAUSTIN, TX 78758\\n(30.3584...</td>\n",
       "      <td>2800517</td>\n",
       "      <td>Routine Inspection</td>\n",
       "    </tr>\n",
       "    <tr>\n",
       "      <th>25738</th>\n",
       "      <td>Taco Cabana #129</td>\n",
       "      <td>78741.0</td>\n",
       "      <td>02/22/2022</td>\n",
       "      <td>87</td>\n",
       "      <td>2507 E RIVERSIDE DR\\nAUSTIN, TX 78741\\n(30.234...</td>\n",
       "      <td>2800922</td>\n",
       "      <td>Routine Inspection</td>\n",
       "    </tr>\n",
       "  </tbody>\n",
       "</table>\n",
       "<p>83 rows × 7 columns</p>\n",
       "</div>"
      ],
      "text/plain": [
       "                   Restaurant Name  Zip Code Inspection Date  Score  \\\n",
       "64                Taco Cabana #129   78741.0      06/11/2021     89   \n",
       "410    Taco Cabana Patio Rest #125   78750.0      06/16/2021     76   \n",
       "502               Taco Cabana #128   78727.0      07/22/2020     92   \n",
       "773               Taco Cabana #203   78758.0      11/04/2019     93   \n",
       "1342              Taco Cabana #278   78749.0      11/19/2021     90   \n",
       "...                            ...       ...             ...    ...   \n",
       "25188             Taco Cabana #199   78748.0      07/29/2020     89   \n",
       "25335             Taco Cabana #203   78758.0      03/03/2020     85   \n",
       "25497             Taco Cabana #129   78741.0      03/27/2020     98   \n",
       "25592             Taco Cabana #203   78758.0      11/30/2021     90   \n",
       "25738             Taco Cabana #129   78741.0      02/22/2022     87   \n",
       "\n",
       "                                                 Address  Facility ID  \\\n",
       "64     2507 E RIVERSIDE DR\\nAUSTIN, TX 78741\\n(30.234...      2800922   \n",
       "410    13376 N US 183 HWY\\nAUSTIN, TX 78750\\n(30.4867...      2800474   \n",
       "502    12525 N MOPAC EXPY\\nAUSTIN, TX 78727\\n(30.4209...      2800946   \n",
       "773    8415 RESEARCH BLVD\\nAUSTIN, TX 78758\\n(30.3584...      2800517   \n",
       "1342                 6611 S MOPAC EXPY\\nAUSTIN, TX 78749      2802942   \n",
       "...                                                  ...          ...   \n",
       "25188                 9705 MANCHACA RD\\nAUSTIN, TX 78748      2801240   \n",
       "25335  8415 RESEARCH BLVD\\nAUSTIN, TX 78758\\n(30.3584...      2800517   \n",
       "25497  2507 E RIVERSIDE DR\\nAUSTIN, TX 78741\\n(30.234...      2800922   \n",
       "25592  8415 RESEARCH BLVD\\nAUSTIN, TX 78758\\n(30.3584...      2800517   \n",
       "25738  2507 E RIVERSIDE DR\\nAUSTIN, TX 78741\\n(30.234...      2800922   \n",
       "\n",
       "      Process Description  \n",
       "64     Routine Inspection  \n",
       "410    Routine Inspection  \n",
       "502    Routine Inspection  \n",
       "773    Routine Inspection  \n",
       "1342   Routine Inspection  \n",
       "...                   ...  \n",
       "25188  Routine Inspection  \n",
       "25335  Routine Inspection  \n",
       "25497  Routine Inspection  \n",
       "25592  Routine Inspection  \n",
       "25738  Routine Inspection  \n",
       "\n",
       "[83 rows x 7 columns]"
      ]
     },
     "execution_count": 160,
     "metadata": {},
     "output_type": "execute_result"
    }
   ],
   "source": [
    "df[df['Restaurant Name'].str.contains('Cabana')]"
   ]
  },
  {
   "cell_type": "code",
   "execution_count": null,
   "id": "938f451c-04bc-4635-84c8-c6fcb520ab7f",
   "metadata": {},
   "outputs": [],
   "source": [
    "austin_rest = pd.read_csv(processed_data_directory + 'austin_restaurants.csv')"
   ]
  },
  {
   "cell_type": "code",
   "execution_count": null,
   "id": "7865f87c-f293-449f-aefe-b368c570e633",
   "metadata": {},
   "outputs": [],
   "source": []
  },
  {
   "cell_type": "code",
   "execution_count": null,
   "id": "482cbcb9-68f4-41b8-a937-65dcfd1454dc",
   "metadata": {},
   "outputs": [
    {
     "data": {
      "text/plain": [
       "6680"
      ]
     },
     "execution_count": 242,
     "metadata": {},
     "output_type": "execute_result"
    }
   ],
   "source": [
    "len(df['Facility ID'].unique())"
   ]
  },
  {
   "cell_type": "code",
   "execution_count": null,
   "id": "5a5c9e46-4a7a-4498-9c62-922e743ebe58",
   "metadata": {},
   "outputs": [],
   "source": [
    "mean_scores = df.groupby(['Restaurant Name','Address']).mean().reset_index()[['Restaurant Name','Score']]"
   ]
  }
 ],
 "metadata": {
  "kernelspec": {
   "display_name": "Python 3 (ipykernel)",
   "language": "python",
   "name": "python3"
  },
  "language_info": {
   "codemirror_mode": {
    "name": "ipython",
    "version": 3
   },
   "file_extension": ".py",
   "mimetype": "text/x-python",
   "name": "python",
   "nbconvert_exporter": "python",
   "pygments_lexer": "ipython3",
   "version": "3.9.7"
  },
  "toc-autonumbering": true
 },
 "nbformat": 4,
 "nbformat_minor": 5
}
