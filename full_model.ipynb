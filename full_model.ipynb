{
 "cells": [
  {
   "cell_type": "markdown",
   "id": "8b044ab8-de73-4322-8026-c77d7385a7d7",
   "metadata": {},
   "source": [
    "# full model"
   ]
  },
  {
   "cell_type": "markdown",
   "id": "858e68d2-df48-4e86-90cf-69623253932d",
   "metadata": {},
   "source": [
    "All the stuff needed to get a cleanliness score!"
   ]
  },
  {
   "cell_type": "markdown",
   "id": "c240be0c-65df-4ce3-a601-3f8713231f32",
   "metadata": {},
   "source": [
    "## import stuff"
   ]
  },
  {
   "cell_type": "code",
   "execution_count": 1,
   "id": "76194314-66f2-47ba-b46e-da2384358a90",
   "metadata": {},
   "outputs": [],
   "source": [
    "import pandas as pd\n",
    "import numpy as np\n",
    "import matplotlib.pyplot as plt\n",
    "import re, math, yelp_query\n",
    "import pickle as pkl\n",
    "agg_model_directory = r'data/models/aggregate_model/'\n",
    "from sklearn.utils import shuffle\n",
    "from sklearn.model_selection import train_test_split\n",
    "\n",
    "# NLP\n",
    "import gensim.downloader\n",
    "from gensim import matutils\n",
    "from spacy.lang.en.stop_words import STOP_WORDS\n",
    "STOP_WORDS = STOP_WORDS.union({'ll', 've','s','id'})\n",
    "\n",
    "# language detection\n",
    "from langdetect import DetectorFactory\n",
    "DetectorFactory.seed = 0\n",
    "from langdetect import detect, detect_langs"
   ]
  },
  {
   "cell_type": "code",
   "execution_count": 2,
   "id": "957be302-32dc-47eb-b0a2-60ab6c733a97",
   "metadata": {},
   "outputs": [
    {
     "name": "stdout",
     "output_type": "stream",
     "text": [
      "CPU times: total: 1min 32s\n",
      "Wall time: 1min 32s\n"
     ]
    }
   ],
   "source": [
    "%%time\n",
    "# import GloVe word vectors (twitter dataset, 200 dimensions)\n",
    "gv = gensim.downloader.load('glove-twitter-200')"
   ]
  },
  {
   "cell_type": "code",
   "execution_count": 3,
   "id": "663e0865-3f7c-4aad-85a3-255569f4ea27",
   "metadata": {},
   "outputs": [],
   "source": [
    "# these are a few representative words\n",
    "DIRTY_WORDS = ('disgusting','smelly','rotten','nasty','gross','dirty','undercooked','moldy','puke','sick','unhealthy')\n",
    "PEST_WORDS = ('rat','bugs','cockroach','fly','ant','flea','insect','infestation','infest')\n",
    "# average vector of these words\n",
    "DIRTY_VECTOR = np.mean(np.array([gv[w] for w in DIRTY_WORDS]),axis=0)\n",
    "PEST_VECTOR = np.mean(np.array([gv[w] for w in PEST_WORDS]),axis=0)"
   ]
  },
  {
   "cell_type": "markdown",
   "id": "f36b98b2-330c-4a22-8988-b190eeccc163",
   "metadata": {},
   "source": [
    "## feature engineering"
   ]
  },
  {
   "cell_type": "code",
   "execution_count": 4,
   "id": "56eaa864-f8c2-47e2-bf80-63ea1fd1c927",
   "metadata": {
    "tags": []
   },
   "outputs": [],
   "source": [
    "# DON'T stem/lemmatize here because the glove_vectors vocabulary doesn't do that\n",
    "def text_cleaner(s):\n",
    "    s = re.sub('<[^<]+?>', '', s.lower()) # remove tags\n",
    "    # remove stop words\n",
    "    s = re.sub('[^a-z\\s\\n]', '', s)\n",
    "    s = s.split()\n",
    "    # spacy stop words are a little more complete than gsp stop words\n",
    "    s = [w for w in s if not w in STOP_WORDS]\n",
    "    return s"
   ]
  },
  {
   "cell_type": "code",
   "execution_count": 151,
   "id": "53a84d06-652c-4736-9103-0e8ef8cebca1",
   "metadata": {},
   "outputs": [],
   "source": [
    "def apply_gv(doc, method='list'):\n",
    "    \"\"\"\n",
    "        Grabs glove of each word of the review\n",
    "        Returns a list of vectors\n",
    "    \"\"\"\n",
    "    vecs = []\n",
    "    keys = []\n",
    "    for w in doc:\n",
    "        if w in ('food','like'): # words that hurt us!\n",
    "            continue\n",
    "        try:\n",
    "            vec = gv[w]\n",
    "        except KeyError: # if glove doesn't have a vector\n",
    "            continue\n",
    "        vecs.append(vec)\n",
    "        keys.append(w)\n",
    "    if vecs: \n",
    "        vecs = np.asarray(vecs)\n",
    "        return vecs\n",
    "    if not vecs:\n",
    "        return None"
   ]
  },
  {
   "cell_type": "code",
   "execution_count": 152,
   "id": "e7596a2b-2787-4a04-9c30-e34c89ff3383",
   "metadata": {},
   "outputs": [],
   "source": [
    "def vec_similarity(vec1, vec2):\n",
    "    \"\"\"\n",
    "        Dot product of two unit vectors to get similarity between them, same implementation as gensim similarity\n",
    "    \"\"\"\n",
    "    return np.dot(matutils.unitvec(vec1),matutils.unitvec(vec2))"
   ]
  },
  {
   "cell_type": "code",
   "execution_count": 153,
   "id": "ef045820-f6a4-45e5-9809-103900f8f061",
   "metadata": {},
   "outputs": [],
   "source": [
    "def review2vec(text):\n",
    "    \"\"\"\n",
    "        Cleans text, vectorizes words, measures cosine distance to selected DIRTY_WORDS and PEST_WORDS, and calculates aggregate features.\n",
    "        Output is a dataframe of one row\n",
    "    \"\"\"\n",
    "    vecs = apply_gv(text_cleaner(text), 'list')\n",
    "    \n",
    "    # corner case: all words are not in the vocabulary (i.e., different language, short reviews, typo-ridden reviews, etc.)\n",
    "    if vecs is None:\n",
    "        return pd.DataFrame([np.nan]) # still return something so we keep the indexing\n",
    "\n",
    "    # dataframe for each review\n",
    "    df = pd.DataFrame()\n",
    "    df['vec'] = list(vecs)\n",
    "    df['dirty_sim'] = df.vec.apply(lambda v: vec_similarity(DIRTY_VECTOR, v))\n",
    "    df['pest_sim'] = df.vec.apply(lambda v: vec_similarity(PEST_VECTOR, v))\n",
    "    df['both_sim'] = df[['dirty_sim','pest_sim']].max(axis=1)\n",
    "\n",
    "    # average all word vectors to make a review vector\n",
    "    df_agg = pd.DataFrame([np.mean(df.vec)])\n",
    "    df_agg['both_sim'] = np.mean(df.both_sim)\n",
    "    df_agg['pest_sim'] = np.mean(df.pest_sim)\n",
    "    df_agg['dirty_sim'] = np.mean(df.dirty_sim)\n",
    "    df_agg.columns = df_agg.columns.astype(str)\n",
    "    return df_agg"
   ]
  },
  {
   "cell_type": "code",
   "execution_count": 57,
   "id": "e875aaeb-818d-4d30-87a9-0f4b0ee7d4e0",
   "metadata": {},
   "outputs": [],
   "source": [
    "def filter_reviews(review_list):\n",
    "    \"\"\"\n",
    "        Removes reviews if they are < 10 words long or not in English\n",
    "    \"\"\"\n",
    "    rl = pd.DataFrame({'text': review_list})\n",
    "    # rl = rl[rl.text.apply(len) >= 10]\n",
    "    rl['language'] = rl['text'].apply(detect)\n",
    "    return rl[rl.language == 'en'].text.values"
   ]
  },
  {
   "cell_type": "code",
   "execution_count": 58,
   "id": "657b4ae5-2bc9-4a65-b610-163802d1874b",
   "metadata": {},
   "outputs": [],
   "source": [
    "def review_list_2vec(review_list):\n",
    "    \"\"\"\n",
    "        Applies review2vec to a list of reviews\n",
    "    \"\"\"\n",
    "    review_list = filter_reviews(review_list)\n",
    "    return pd.concat(map(review2vec, review_list)).reset_index(drop=True)"
   ]
  },
  {
   "cell_type": "markdown",
   "id": "255df04d-cbd5-44d2-bafb-9a8b78581317",
   "metadata": {},
   "source": [
    "### test it out"
   ]
  },
  {
   "cell_type": "code",
   "execution_count": 59,
   "id": "9ff75a23-f472-4bce-a780-26805468f2e6",
   "metadata": {},
   "outputs": [],
   "source": [
    "bad_reviews = [r\"This place was absolutely disgusting. We considered turning around as soon as we walked in as it had an odd vibe, unpleasant smell and almost no customers. BUT I've been to my fair share of decent dive type spots so we decided we'd stick around and give it a chance. The sweet tea was great, but all of the food was inedible. Clearly frozen calamari tasted like fried rubber bands with several of the pieces looking questionable and moldy. The fried catfish looked like cafeteria/hospital food. It too was obviously just frozen (freezer burned) catfish they threw in the fryer along with kindergarten crinkle fries and crunchy hush puppies. I honestly couldn't even eat my food both because it was gross and in fear of getting sick. I forced myself to throw up as soon as I got home and I wish I was kidding. The worst part is that the bill was $40 for two entrees and and appetizer which is absolutely insane considering the quality of what they put in front of us. I wish I'd gone to Long John Silvers on my way in the parking lot instead. I absolutely do not recommend this place whatsoever.\",\n",
    "               r\"Horrible service, dirty facility; I gave them 2 stars because the catfish nuggets were pretty good and the wine was cold. When asking for the check; our server asked my husband to write down everything we ordered so he could create a receipt; I'm still confused by this because no one else at our table had to do that. Weird anyway; I'll never go back there.\",\n",
    "               r\"We came on a Friday evening and parking lot was full so it seemed promising however we were clearly mistaken. The dining room is fairly small and we were able to snag a table by the entrance. The table had not wiped down so there was still water rings and food crumbs from the previous person. We wiped down the table ourselves and waited for our server. 10 mins later no one came by the table. No one even looked in our direction. Was this a walk up to the bar and order yourself place? Who knows. There was what appeared to be a waitress offering menus to other tables. We left without even having anything so we can't comment on the food but unfortunately we won't be returning.\",\n",
    "               r\"Literally the most disgusting restaurant experience I've ever had. First of all our server did NOT wear a mask. She was rude as hell and downright didn't even know the menu. The food that came out was over cooked flounder that we didn't even eat. Actually spit the food into my napkin. Wouldn't wish this place on my worst enemy.\",\n",
    "               r\"Let me start w ordering. I ordered online. Got to the place to pick up my food then bam... my order wasn't ready. They couldn't even find my order. They thought I placed it for another location. Had to show from my phone I placed to round rock location. The guy had to call someone to get my online order. Had to wait an extra 30 min. Place was crowded and big groups of families in there. The food was ok. I wasn't that impressed. I got it to go bc I don't eat in restaurants due to Covid. So by the time I made it home it tasted old. Kind of stale. Like the grease the food was fried in was not fresh. Can't say I'll be back\",\n",
    "               r\"Expected more. Seemed dingy. Not very clean overall. Service was not up to par. They seemed to be more focus on serving those at the bar then at the tables. Our table was dirty, sticky. Menu was disgusting to the touch. The food was okay. Will not go again.\",\n",
    "               r\"Oysters on the half were good, kinda hard to mess them up. Wife ordered broiled rainbow trout, the fish was spoiled! You could smell it once the waitress set it on the table, so either their cook has no sense of smell or they just dont care if they make someone sick. The wait staff spends more time at the bar playing on their phones than they do waiting on customers. They did wear mask but there was no social distance between tables or at the bar. Speaking of the bar, it's very loud to the point you cannot have a conversation at your table. We will definitely never go back to this place and I would not recommend it anyone else  either.\",\n",
    "               r\"They failed health inspection with a score of 37 on December 10th, 2019. Report stated too many cockroaches to count and had rat feces in the dish area\",\n",
    "               r\"I came here on Friday night with my family for dinner, this place is severely understaffed. And for that reason I can't find it in me to come back. All the waitstaff is running around stressing out and it shows in the quality of the food and service. It look 10 min to get greeted and welcomed, we ordered a app which came out after the food. My boyfriend ordered the crawfish that had a awful taste and smell, I ordered a shrimp salad which came with brown slimy lettuce a half of a slice of tomato and ranch dressing for 12.99 the menu said it was supposed to include more veggies so i asked for the side i was brought that and then noticed how old the lettuce was. My sisters crab cakes tasted old and no flavor whatsoever. My son ordered the chicken tenders and fries as my 2 year old is eating his food we notice a long hair inside of his food we then decided to take our complaints to the manger which told us that they are understaffed and extremely busy..... I really hope the owner of this establishment can do what needs to be done to get this place in the right track. I'm giving 2 starts for potential but I won't be back... your better off going to razzoos down the street\"\n",
    "              ]"
   ]
  },
  {
   "cell_type": "code",
   "execution_count": 60,
   "id": "7f33ee8a-dc95-4f30-9d73-b8f76c17b2dc",
   "metadata": {},
   "outputs": [
    {
     "data": {
      "text/html": [
       "<div>\n",
       "<style scoped>\n",
       "    .dataframe tbody tr th:only-of-type {\n",
       "        vertical-align: middle;\n",
       "    }\n",
       "\n",
       "    .dataframe tbody tr th {\n",
       "        vertical-align: top;\n",
       "    }\n",
       "\n",
       "    .dataframe thead th {\n",
       "        text-align: right;\n",
       "    }\n",
       "</style>\n",
       "<table border=\"1\" class=\"dataframe\">\n",
       "  <thead>\n",
       "    <tr style=\"text-align: right;\">\n",
       "      <th></th>\n",
       "      <th>0</th>\n",
       "      <th>1</th>\n",
       "      <th>2</th>\n",
       "      <th>3</th>\n",
       "      <th>4</th>\n",
       "      <th>5</th>\n",
       "      <th>6</th>\n",
       "      <th>7</th>\n",
       "      <th>8</th>\n",
       "      <th>9</th>\n",
       "      <th>...</th>\n",
       "      <th>193</th>\n",
       "      <th>194</th>\n",
       "      <th>195</th>\n",
       "      <th>196</th>\n",
       "      <th>197</th>\n",
       "      <th>198</th>\n",
       "      <th>199</th>\n",
       "      <th>both_sim</th>\n",
       "      <th>pest_sim</th>\n",
       "      <th>dirty_sim</th>\n",
       "    </tr>\n",
       "  </thead>\n",
       "  <tbody>\n",
       "    <tr>\n",
       "      <th>0</th>\n",
       "      <td>-0.122761</td>\n",
       "      <td>-0.140523</td>\n",
       "      <td>0.013761</td>\n",
       "      <td>0.126739</td>\n",
       "      <td>-0.016212</td>\n",
       "      <td>0.129047</td>\n",
       "      <td>0.685494</td>\n",
       "      <td>-0.020908</td>\n",
       "      <td>-0.081969</td>\n",
       "      <td>-0.081777</td>\n",
       "      <td>...</td>\n",
       "      <td>0.046690</td>\n",
       "      <td>0.196057</td>\n",
       "      <td>-0.038282</td>\n",
       "      <td>0.038551</td>\n",
       "      <td>0.218165</td>\n",
       "      <td>-0.028024</td>\n",
       "      <td>0.062944</td>\n",
       "      <td>0.424231</td>\n",
       "      <td>0.302000</td>\n",
       "      <td>0.421592</td>\n",
       "    </tr>\n",
       "    <tr>\n",
       "      <th>1</th>\n",
       "      <td>-0.032505</td>\n",
       "      <td>0.050436</td>\n",
       "      <td>-0.169728</td>\n",
       "      <td>-0.017089</td>\n",
       "      <td>-0.037259</td>\n",
       "      <td>-0.103373</td>\n",
       "      <td>0.653337</td>\n",
       "      <td>-0.052908</td>\n",
       "      <td>-0.080635</td>\n",
       "      <td>-0.154353</td>\n",
       "      <td>...</td>\n",
       "      <td>-0.045164</td>\n",
       "      <td>0.138027</td>\n",
       "      <td>-0.029336</td>\n",
       "      <td>-0.005300</td>\n",
       "      <td>0.095929</td>\n",
       "      <td>-0.007832</td>\n",
       "      <td>-0.112733</td>\n",
       "      <td>0.420371</td>\n",
       "      <td>0.289804</td>\n",
       "      <td>0.409951</td>\n",
       "    </tr>\n",
       "    <tr>\n",
       "      <th>2</th>\n",
       "      <td>-0.009950</td>\n",
       "      <td>-0.062636</td>\n",
       "      <td>0.072052</td>\n",
       "      <td>-0.022103</td>\n",
       "      <td>0.066415</td>\n",
       "      <td>0.028064</td>\n",
       "      <td>0.690810</td>\n",
       "      <td>0.054007</td>\n",
       "      <td>-0.141170</td>\n",
       "      <td>0.020800</td>\n",
       "      <td>...</td>\n",
       "      <td>-0.090386</td>\n",
       "      <td>0.230739</td>\n",
       "      <td>-0.087393</td>\n",
       "      <td>0.045911</td>\n",
       "      <td>0.172093</td>\n",
       "      <td>0.102420</td>\n",
       "      <td>-0.096463</td>\n",
       "      <td>0.366196</td>\n",
       "      <td>0.290885</td>\n",
       "      <td>0.357787</td>\n",
       "    </tr>\n",
       "    <tr>\n",
       "      <th>3</th>\n",
       "      <td>-0.071920</td>\n",
       "      <td>0.093048</td>\n",
       "      <td>0.053545</td>\n",
       "      <td>0.099249</td>\n",
       "      <td>-0.050880</td>\n",
       "      <td>0.066754</td>\n",
       "      <td>0.734152</td>\n",
       "      <td>0.006229</td>\n",
       "      <td>-0.067743</td>\n",
       "      <td>0.101473</td>\n",
       "      <td>...</td>\n",
       "      <td>-0.041406</td>\n",
       "      <td>0.161426</td>\n",
       "      <td>0.017293</td>\n",
       "      <td>0.064277</td>\n",
       "      <td>0.259017</td>\n",
       "      <td>0.014467</td>\n",
       "      <td>-0.018924</td>\n",
       "      <td>0.456650</td>\n",
       "      <td>0.342566</td>\n",
       "      <td>0.444006</td>\n",
       "    </tr>\n",
       "    <tr>\n",
       "      <th>4</th>\n",
       "      <td>-0.140540</td>\n",
       "      <td>0.055006</td>\n",
       "      <td>-0.003033</td>\n",
       "      <td>0.051524</td>\n",
       "      <td>0.022536</td>\n",
       "      <td>0.111972</td>\n",
       "      <td>0.629624</td>\n",
       "      <td>-0.006311</td>\n",
       "      <td>0.032565</td>\n",
       "      <td>-0.017267</td>\n",
       "      <td>...</td>\n",
       "      <td>-0.024619</td>\n",
       "      <td>0.098146</td>\n",
       "      <td>-0.126267</td>\n",
       "      <td>-0.008171</td>\n",
       "      <td>0.082553</td>\n",
       "      <td>0.068570</td>\n",
       "      <td>0.030551</td>\n",
       "      <td>0.394826</td>\n",
       "      <td>0.308460</td>\n",
       "      <td>0.388349</td>\n",
       "    </tr>\n",
       "    <tr>\n",
       "      <th>5</th>\n",
       "      <td>-0.057482</td>\n",
       "      <td>-0.211958</td>\n",
       "      <td>-0.026156</td>\n",
       "      <td>0.133579</td>\n",
       "      <td>0.091525</td>\n",
       "      <td>0.055019</td>\n",
       "      <td>0.476415</td>\n",
       "      <td>-0.216702</td>\n",
       "      <td>-0.180483</td>\n",
       "      <td>-0.036918</td>\n",
       "      <td>...</td>\n",
       "      <td>-0.074740</td>\n",
       "      <td>0.140040</td>\n",
       "      <td>-0.093231</td>\n",
       "      <td>0.055606</td>\n",
       "      <td>0.096667</td>\n",
       "      <td>0.010448</td>\n",
       "      <td>-0.086859</td>\n",
       "      <td>0.375417</td>\n",
       "      <td>0.247398</td>\n",
       "      <td>0.372709</td>\n",
       "    </tr>\n",
       "    <tr>\n",
       "      <th>6</th>\n",
       "      <td>-0.147599</td>\n",
       "      <td>-0.088799</td>\n",
       "      <td>0.103643</td>\n",
       "      <td>0.047378</td>\n",
       "      <td>-0.015356</td>\n",
       "      <td>0.095968</td>\n",
       "      <td>0.582954</td>\n",
       "      <td>-0.024950</td>\n",
       "      <td>-0.071377</td>\n",
       "      <td>-0.052517</td>\n",
       "      <td>...</td>\n",
       "      <td>-0.031760</td>\n",
       "      <td>0.111573</td>\n",
       "      <td>0.046286</td>\n",
       "      <td>-0.001087</td>\n",
       "      <td>0.164747</td>\n",
       "      <td>0.022014</td>\n",
       "      <td>-0.040487</td>\n",
       "      <td>0.402959</td>\n",
       "      <td>0.308322</td>\n",
       "      <td>0.388843</td>\n",
       "    </tr>\n",
       "    <tr>\n",
       "      <th>7</th>\n",
       "      <td>-0.010421</td>\n",
       "      <td>-0.059542</td>\n",
       "      <td>-0.041128</td>\n",
       "      <td>-0.089066</td>\n",
       "      <td>0.032596</td>\n",
       "      <td>0.095098</td>\n",
       "      <td>0.381393</td>\n",
       "      <td>0.020560</td>\n",
       "      <td>-0.027078</td>\n",
       "      <td>-0.056732</td>\n",
       "      <td>...</td>\n",
       "      <td>-0.112557</td>\n",
       "      <td>-0.022826</td>\n",
       "      <td>-0.098082</td>\n",
       "      <td>-0.142926</td>\n",
       "      <td>-0.021019</td>\n",
       "      <td>0.173555</td>\n",
       "      <td>0.110392</td>\n",
       "      <td>0.347074</td>\n",
       "      <td>0.317385</td>\n",
       "      <td>0.309704</td>\n",
       "    </tr>\n",
       "    <tr>\n",
       "      <th>8</th>\n",
       "      <td>-0.190099</td>\n",
       "      <td>-0.075647</td>\n",
       "      <td>0.016191</td>\n",
       "      <td>0.115216</td>\n",
       "      <td>0.017390</td>\n",
       "      <td>0.106435</td>\n",
       "      <td>0.638685</td>\n",
       "      <td>-0.056439</td>\n",
       "      <td>-0.127406</td>\n",
       "      <td>-0.175251</td>\n",
       "      <td>...</td>\n",
       "      <td>0.128045</td>\n",
       "      <td>0.080168</td>\n",
       "      <td>-0.093835</td>\n",
       "      <td>0.070920</td>\n",
       "      <td>0.212744</td>\n",
       "      <td>0.031652</td>\n",
       "      <td>0.044607</td>\n",
       "      <td>0.398466</td>\n",
       "      <td>0.298654</td>\n",
       "      <td>0.395888</td>\n",
       "    </tr>\n",
       "  </tbody>\n",
       "</table>\n",
       "<p>9 rows × 203 columns</p>\n",
       "</div>"
      ],
      "text/plain": [
       "          0         1         2         3         4         5         6  \\\n",
       "0 -0.122761 -0.140523  0.013761  0.126739 -0.016212  0.129047  0.685494   \n",
       "1 -0.032505  0.050436 -0.169728 -0.017089 -0.037259 -0.103373  0.653337   \n",
       "2 -0.009950 -0.062636  0.072052 -0.022103  0.066415  0.028064  0.690810   \n",
       "3 -0.071920  0.093048  0.053545  0.099249 -0.050880  0.066754  0.734152   \n",
       "4 -0.140540  0.055006 -0.003033  0.051524  0.022536  0.111972  0.629624   \n",
       "5 -0.057482 -0.211958 -0.026156  0.133579  0.091525  0.055019  0.476415   \n",
       "6 -0.147599 -0.088799  0.103643  0.047378 -0.015356  0.095968  0.582954   \n",
       "7 -0.010421 -0.059542 -0.041128 -0.089066  0.032596  0.095098  0.381393   \n",
       "8 -0.190099 -0.075647  0.016191  0.115216  0.017390  0.106435  0.638685   \n",
       "\n",
       "          7         8         9  ...       193       194       195       196  \\\n",
       "0 -0.020908 -0.081969 -0.081777  ...  0.046690  0.196057 -0.038282  0.038551   \n",
       "1 -0.052908 -0.080635 -0.154353  ... -0.045164  0.138027 -0.029336 -0.005300   \n",
       "2  0.054007 -0.141170  0.020800  ... -0.090386  0.230739 -0.087393  0.045911   \n",
       "3  0.006229 -0.067743  0.101473  ... -0.041406  0.161426  0.017293  0.064277   \n",
       "4 -0.006311  0.032565 -0.017267  ... -0.024619  0.098146 -0.126267 -0.008171   \n",
       "5 -0.216702 -0.180483 -0.036918  ... -0.074740  0.140040 -0.093231  0.055606   \n",
       "6 -0.024950 -0.071377 -0.052517  ... -0.031760  0.111573  0.046286 -0.001087   \n",
       "7  0.020560 -0.027078 -0.056732  ... -0.112557 -0.022826 -0.098082 -0.142926   \n",
       "8 -0.056439 -0.127406 -0.175251  ...  0.128045  0.080168 -0.093835  0.070920   \n",
       "\n",
       "        197       198       199  both_sim  pest_sim  dirty_sim  \n",
       "0  0.218165 -0.028024  0.062944  0.424231  0.302000   0.421592  \n",
       "1  0.095929 -0.007832 -0.112733  0.420371  0.289804   0.409951  \n",
       "2  0.172093  0.102420 -0.096463  0.366196  0.290885   0.357787  \n",
       "3  0.259017  0.014467 -0.018924  0.456650  0.342566   0.444006  \n",
       "4  0.082553  0.068570  0.030551  0.394826  0.308460   0.388349  \n",
       "5  0.096667  0.010448 -0.086859  0.375417  0.247398   0.372709  \n",
       "6  0.164747  0.022014 -0.040487  0.402959  0.308322   0.388843  \n",
       "7 -0.021019  0.173555  0.110392  0.347074  0.317385   0.309704  \n",
       "8  0.212744  0.031652  0.044607  0.398466  0.298654   0.395888  \n",
       "\n",
       "[9 rows x 203 columns]"
      ]
     },
     "execution_count": 60,
     "metadata": {},
     "output_type": "execute_result"
    }
   ],
   "source": [
    "review_list_2vec(bad_reviews)"
   ]
  },
  {
   "cell_type": "markdown",
   "id": "8f6ed4b7-0f46-4781-b1a9-eb270bfb428c",
   "metadata": {},
   "source": [
    "## aggregate model"
   ]
  },
  {
   "cell_type": "code",
   "execution_count": 183,
   "id": "9356d662-5566-4382-a5c9-f63758e0a6da",
   "metadata": {},
   "outputs": [],
   "source": [
    "def agg_features(review_features):\n",
    "    \"\"\"\n",
    "        Takes as input the output of review_list_2vec()\n",
    "    \"\"\"\n",
    "    dff = pd.DataFrame(review_features.mean(axis=0)).T\n",
    "    # dff['num_reviews'] = len(review_features)\n",
    "    return dff"
   ]
  },
  {
   "cell_type": "code",
   "execution_count": 3,
   "id": "d0b15ef7-1dfb-4171-ad42-c79084692ccc",
   "metadata": {},
   "outputs": [],
   "source": [
    "model = pkl.load(open(agg_model_directory + 'mean_vectors_agg_model.pkl', 'rb'))\n",
    "# model = pkl.load(open(agg_model_directory + 'mean_vectors_agg_model_ridge.pkl', 'rb'))"
   ]
  },
  {
   "cell_type": "markdown",
   "id": "5a4449c5-2e31-4d37-a893-41a99bb055b1",
   "metadata": {},
   "source": [
    "### test it out"
   ]
  },
  {
   "cell_type": "code",
   "execution_count": 292,
   "id": "152bf60b-037e-4c39-9604-b03e4dde0734",
   "metadata": {},
   "outputs": [
    {
     "data": {
      "text/plain": [
       "array([85.52950088])"
      ]
     },
     "execution_count": 292,
     "metadata": {},
     "output_type": "execute_result"
    }
   ],
   "source": [
    "review_features = review_list_2vec(bad_reviews)\n",
    "features = agg_features(review_features)\n",
    "model.predict(features)"
   ]
  },
  {
   "cell_type": "code",
   "execution_count": 293,
   "id": "de74b43f-a7ec-4a6c-8476-3588551a2f90",
   "metadata": {},
   "outputs": [
    {
     "data": {
      "text/html": [
       "<div>\n",
       "<style scoped>\n",
       "    .dataframe tbody tr th:only-of-type {\n",
       "        vertical-align: middle;\n",
       "    }\n",
       "\n",
       "    .dataframe tbody tr th {\n",
       "        vertical-align: top;\n",
       "    }\n",
       "\n",
       "    .dataframe thead th {\n",
       "        text-align: right;\n",
       "    }\n",
       "</style>\n",
       "<table border=\"1\" class=\"dataframe\">\n",
       "  <thead>\n",
       "    <tr style=\"text-align: right;\">\n",
       "      <th></th>\n",
       "      <th>0</th>\n",
       "      <th>1</th>\n",
       "      <th>2</th>\n",
       "      <th>3</th>\n",
       "      <th>4</th>\n",
       "      <th>5</th>\n",
       "      <th>6</th>\n",
       "      <th>7</th>\n",
       "      <th>8</th>\n",
       "      <th>9</th>\n",
       "      <th>...</th>\n",
       "      <th>193</th>\n",
       "      <th>194</th>\n",
       "      <th>195</th>\n",
       "      <th>196</th>\n",
       "      <th>197</th>\n",
       "      <th>198</th>\n",
       "      <th>199</th>\n",
       "      <th>both_sim</th>\n",
       "      <th>pest_sim</th>\n",
       "      <th>dirty_sim</th>\n",
       "    </tr>\n",
       "  </thead>\n",
       "  <tbody>\n",
       "    <tr>\n",
       "      <th>0</th>\n",
       "      <td>-0.122761</td>\n",
       "      <td>-0.140523</td>\n",
       "      <td>0.013761</td>\n",
       "      <td>0.126739</td>\n",
       "      <td>-0.016212</td>\n",
       "      <td>0.129047</td>\n",
       "      <td>0.685494</td>\n",
       "      <td>-0.020908</td>\n",
       "      <td>-0.081969</td>\n",
       "      <td>-0.081777</td>\n",
       "      <td>...</td>\n",
       "      <td>0.046690</td>\n",
       "      <td>0.196057</td>\n",
       "      <td>-0.038282</td>\n",
       "      <td>0.038551</td>\n",
       "      <td>0.218165</td>\n",
       "      <td>-0.028024</td>\n",
       "      <td>0.062944</td>\n",
       "      <td>0.424231</td>\n",
       "      <td>0.302000</td>\n",
       "      <td>0.421592</td>\n",
       "    </tr>\n",
       "    <tr>\n",
       "      <th>1</th>\n",
       "      <td>-0.032505</td>\n",
       "      <td>0.050436</td>\n",
       "      <td>-0.169728</td>\n",
       "      <td>-0.017089</td>\n",
       "      <td>-0.037259</td>\n",
       "      <td>-0.103373</td>\n",
       "      <td>0.653337</td>\n",
       "      <td>-0.052908</td>\n",
       "      <td>-0.080635</td>\n",
       "      <td>-0.154353</td>\n",
       "      <td>...</td>\n",
       "      <td>-0.045164</td>\n",
       "      <td>0.138027</td>\n",
       "      <td>-0.029336</td>\n",
       "      <td>-0.005300</td>\n",
       "      <td>0.095929</td>\n",
       "      <td>-0.007832</td>\n",
       "      <td>-0.112733</td>\n",
       "      <td>0.420371</td>\n",
       "      <td>0.289804</td>\n",
       "      <td>0.409951</td>\n",
       "    </tr>\n",
       "    <tr>\n",
       "      <th>2</th>\n",
       "      <td>-0.009950</td>\n",
       "      <td>-0.062636</td>\n",
       "      <td>0.072052</td>\n",
       "      <td>-0.022103</td>\n",
       "      <td>0.066415</td>\n",
       "      <td>0.028064</td>\n",
       "      <td>0.690810</td>\n",
       "      <td>0.054007</td>\n",
       "      <td>-0.141170</td>\n",
       "      <td>0.020800</td>\n",
       "      <td>...</td>\n",
       "      <td>-0.090386</td>\n",
       "      <td>0.230739</td>\n",
       "      <td>-0.087393</td>\n",
       "      <td>0.045911</td>\n",
       "      <td>0.172093</td>\n",
       "      <td>0.102420</td>\n",
       "      <td>-0.096463</td>\n",
       "      <td>0.366196</td>\n",
       "      <td>0.290885</td>\n",
       "      <td>0.357787</td>\n",
       "    </tr>\n",
       "    <tr>\n",
       "      <th>3</th>\n",
       "      <td>-0.071920</td>\n",
       "      <td>0.093048</td>\n",
       "      <td>0.053545</td>\n",
       "      <td>0.099249</td>\n",
       "      <td>-0.050880</td>\n",
       "      <td>0.066754</td>\n",
       "      <td>0.734152</td>\n",
       "      <td>0.006229</td>\n",
       "      <td>-0.067743</td>\n",
       "      <td>0.101473</td>\n",
       "      <td>...</td>\n",
       "      <td>-0.041406</td>\n",
       "      <td>0.161426</td>\n",
       "      <td>0.017293</td>\n",
       "      <td>0.064277</td>\n",
       "      <td>0.259017</td>\n",
       "      <td>0.014467</td>\n",
       "      <td>-0.018924</td>\n",
       "      <td>0.456650</td>\n",
       "      <td>0.342566</td>\n",
       "      <td>0.444006</td>\n",
       "    </tr>\n",
       "    <tr>\n",
       "      <th>4</th>\n",
       "      <td>-0.140540</td>\n",
       "      <td>0.055006</td>\n",
       "      <td>-0.003033</td>\n",
       "      <td>0.051524</td>\n",
       "      <td>0.022536</td>\n",
       "      <td>0.111972</td>\n",
       "      <td>0.629624</td>\n",
       "      <td>-0.006311</td>\n",
       "      <td>0.032565</td>\n",
       "      <td>-0.017267</td>\n",
       "      <td>...</td>\n",
       "      <td>-0.024619</td>\n",
       "      <td>0.098146</td>\n",
       "      <td>-0.126267</td>\n",
       "      <td>-0.008171</td>\n",
       "      <td>0.082553</td>\n",
       "      <td>0.068570</td>\n",
       "      <td>0.030551</td>\n",
       "      <td>0.394826</td>\n",
       "      <td>0.308460</td>\n",
       "      <td>0.388349</td>\n",
       "    </tr>\n",
       "    <tr>\n",
       "      <th>5</th>\n",
       "      <td>-0.057482</td>\n",
       "      <td>-0.211958</td>\n",
       "      <td>-0.026156</td>\n",
       "      <td>0.133579</td>\n",
       "      <td>0.091525</td>\n",
       "      <td>0.055019</td>\n",
       "      <td>0.476415</td>\n",
       "      <td>-0.216702</td>\n",
       "      <td>-0.180483</td>\n",
       "      <td>-0.036918</td>\n",
       "      <td>...</td>\n",
       "      <td>-0.074740</td>\n",
       "      <td>0.140040</td>\n",
       "      <td>-0.093231</td>\n",
       "      <td>0.055606</td>\n",
       "      <td>0.096667</td>\n",
       "      <td>0.010448</td>\n",
       "      <td>-0.086859</td>\n",
       "      <td>0.375417</td>\n",
       "      <td>0.247398</td>\n",
       "      <td>0.372709</td>\n",
       "    </tr>\n",
       "    <tr>\n",
       "      <th>6</th>\n",
       "      <td>-0.147599</td>\n",
       "      <td>-0.088799</td>\n",
       "      <td>0.103643</td>\n",
       "      <td>0.047378</td>\n",
       "      <td>-0.015356</td>\n",
       "      <td>0.095968</td>\n",
       "      <td>0.582954</td>\n",
       "      <td>-0.024950</td>\n",
       "      <td>-0.071377</td>\n",
       "      <td>-0.052517</td>\n",
       "      <td>...</td>\n",
       "      <td>-0.031760</td>\n",
       "      <td>0.111573</td>\n",
       "      <td>0.046286</td>\n",
       "      <td>-0.001087</td>\n",
       "      <td>0.164747</td>\n",
       "      <td>0.022014</td>\n",
       "      <td>-0.040487</td>\n",
       "      <td>0.402959</td>\n",
       "      <td>0.308322</td>\n",
       "      <td>0.388843</td>\n",
       "    </tr>\n",
       "    <tr>\n",
       "      <th>7</th>\n",
       "      <td>-0.010421</td>\n",
       "      <td>-0.059542</td>\n",
       "      <td>-0.041128</td>\n",
       "      <td>-0.089066</td>\n",
       "      <td>0.032596</td>\n",
       "      <td>0.095098</td>\n",
       "      <td>0.381393</td>\n",
       "      <td>0.020560</td>\n",
       "      <td>-0.027078</td>\n",
       "      <td>-0.056732</td>\n",
       "      <td>...</td>\n",
       "      <td>-0.112557</td>\n",
       "      <td>-0.022826</td>\n",
       "      <td>-0.098082</td>\n",
       "      <td>-0.142926</td>\n",
       "      <td>-0.021019</td>\n",
       "      <td>0.173555</td>\n",
       "      <td>0.110392</td>\n",
       "      <td>0.347074</td>\n",
       "      <td>0.317385</td>\n",
       "      <td>0.309704</td>\n",
       "    </tr>\n",
       "    <tr>\n",
       "      <th>8</th>\n",
       "      <td>-0.190099</td>\n",
       "      <td>-0.075647</td>\n",
       "      <td>0.016191</td>\n",
       "      <td>0.115216</td>\n",
       "      <td>0.017390</td>\n",
       "      <td>0.106435</td>\n",
       "      <td>0.638685</td>\n",
       "      <td>-0.056439</td>\n",
       "      <td>-0.127406</td>\n",
       "      <td>-0.175251</td>\n",
       "      <td>...</td>\n",
       "      <td>0.128045</td>\n",
       "      <td>0.080168</td>\n",
       "      <td>-0.093835</td>\n",
       "      <td>0.070920</td>\n",
       "      <td>0.212744</td>\n",
       "      <td>0.031652</td>\n",
       "      <td>0.044607</td>\n",
       "      <td>0.398466</td>\n",
       "      <td>0.298654</td>\n",
       "      <td>0.395888</td>\n",
       "    </tr>\n",
       "  </tbody>\n",
       "</table>\n",
       "<p>9 rows × 203 columns</p>\n",
       "</div>"
      ],
      "text/plain": [
       "          0         1         2         3         4         5         6  \\\n",
       "0 -0.122761 -0.140523  0.013761  0.126739 -0.016212  0.129047  0.685494   \n",
       "1 -0.032505  0.050436 -0.169728 -0.017089 -0.037259 -0.103373  0.653337   \n",
       "2 -0.009950 -0.062636  0.072052 -0.022103  0.066415  0.028064  0.690810   \n",
       "3 -0.071920  0.093048  0.053545  0.099249 -0.050880  0.066754  0.734152   \n",
       "4 -0.140540  0.055006 -0.003033  0.051524  0.022536  0.111972  0.629624   \n",
       "5 -0.057482 -0.211958 -0.026156  0.133579  0.091525  0.055019  0.476415   \n",
       "6 -0.147599 -0.088799  0.103643  0.047378 -0.015356  0.095968  0.582954   \n",
       "7 -0.010421 -0.059542 -0.041128 -0.089066  0.032596  0.095098  0.381393   \n",
       "8 -0.190099 -0.075647  0.016191  0.115216  0.017390  0.106435  0.638685   \n",
       "\n",
       "          7         8         9  ...       193       194       195       196  \\\n",
       "0 -0.020908 -0.081969 -0.081777  ...  0.046690  0.196057 -0.038282  0.038551   \n",
       "1 -0.052908 -0.080635 -0.154353  ... -0.045164  0.138027 -0.029336 -0.005300   \n",
       "2  0.054007 -0.141170  0.020800  ... -0.090386  0.230739 -0.087393  0.045911   \n",
       "3  0.006229 -0.067743  0.101473  ... -0.041406  0.161426  0.017293  0.064277   \n",
       "4 -0.006311  0.032565 -0.017267  ... -0.024619  0.098146 -0.126267 -0.008171   \n",
       "5 -0.216702 -0.180483 -0.036918  ... -0.074740  0.140040 -0.093231  0.055606   \n",
       "6 -0.024950 -0.071377 -0.052517  ... -0.031760  0.111573  0.046286 -0.001087   \n",
       "7  0.020560 -0.027078 -0.056732  ... -0.112557 -0.022826 -0.098082 -0.142926   \n",
       "8 -0.056439 -0.127406 -0.175251  ...  0.128045  0.080168 -0.093835  0.070920   \n",
       "\n",
       "        197       198       199  both_sim  pest_sim  dirty_sim  \n",
       "0  0.218165 -0.028024  0.062944  0.424231  0.302000   0.421592  \n",
       "1  0.095929 -0.007832 -0.112733  0.420371  0.289804   0.409951  \n",
       "2  0.172093  0.102420 -0.096463  0.366196  0.290885   0.357787  \n",
       "3  0.259017  0.014467 -0.018924  0.456650  0.342566   0.444006  \n",
       "4  0.082553  0.068570  0.030551  0.394826  0.308460   0.388349  \n",
       "5  0.096667  0.010448 -0.086859  0.375417  0.247398   0.372709  \n",
       "6  0.164747  0.022014 -0.040487  0.402959  0.308322   0.388843  \n",
       "7 -0.021019  0.173555  0.110392  0.347074  0.317385   0.309704  \n",
       "8  0.212744  0.031652  0.044607  0.398466  0.298654   0.395888  \n",
       "\n",
       "[9 rows x 203 columns]"
      ]
     },
     "execution_count": 293,
     "metadata": {},
     "output_type": "execute_result"
    }
   ],
   "source": [
    "review_list_2vec(bad_reviews)"
   ]
  },
  {
   "cell_type": "code",
   "execution_count": 294,
   "id": "eb36ea3d-b4f5-4f1e-b2f6-c562dcc8a6bd",
   "metadata": {},
   "outputs": [
    {
     "data": {
      "text/html": [
       "<div>\n",
       "<style scoped>\n",
       "    .dataframe tbody tr th:only-of-type {\n",
       "        vertical-align: middle;\n",
       "    }\n",
       "\n",
       "    .dataframe tbody tr th {\n",
       "        vertical-align: top;\n",
       "    }\n",
       "\n",
       "    .dataframe thead th {\n",
       "        text-align: right;\n",
       "    }\n",
       "</style>\n",
       "<table border=\"1\" class=\"dataframe\">\n",
       "  <thead>\n",
       "    <tr style=\"text-align: right;\">\n",
       "      <th></th>\n",
       "      <th>0</th>\n",
       "      <th>1</th>\n",
       "      <th>2</th>\n",
       "      <th>3</th>\n",
       "      <th>4</th>\n",
       "      <th>5</th>\n",
       "      <th>6</th>\n",
       "      <th>7</th>\n",
       "      <th>8</th>\n",
       "      <th>9</th>\n",
       "      <th>...</th>\n",
       "      <th>193</th>\n",
       "      <th>194</th>\n",
       "      <th>195</th>\n",
       "      <th>196</th>\n",
       "      <th>197</th>\n",
       "      <th>198</th>\n",
       "      <th>199</th>\n",
       "      <th>both_sim</th>\n",
       "      <th>pest_sim</th>\n",
       "      <th>dirty_sim</th>\n",
       "    </tr>\n",
       "  </thead>\n",
       "  <tbody>\n",
       "    <tr>\n",
       "      <th>0</th>\n",
       "      <td>-0.087031</td>\n",
       "      <td>-0.048957</td>\n",
       "      <td>0.002127</td>\n",
       "      <td>0.049492</td>\n",
       "      <td>0.012306</td>\n",
       "      <td>0.064998</td>\n",
       "      <td>0.608096</td>\n",
       "      <td>-0.033047</td>\n",
       "      <td>-0.082811</td>\n",
       "      <td>-0.050282</td>\n",
       "      <td>...</td>\n",
       "      <td>-0.027322</td>\n",
       "      <td>0.125928</td>\n",
       "      <td>-0.055872</td>\n",
       "      <td>0.013087</td>\n",
       "      <td>0.142322</td>\n",
       "      <td>0.04303</td>\n",
       "      <td>-0.011886</td>\n",
       "      <td>0.398465</td>\n",
       "      <td>0.300608</td>\n",
       "      <td>0.387648</td>\n",
       "    </tr>\n",
       "  </tbody>\n",
       "</table>\n",
       "<p>1 rows × 203 columns</p>\n",
       "</div>"
      ],
      "text/plain": [
       "          0         1         2         3         4         5         6  \\\n",
       "0 -0.087031 -0.048957  0.002127  0.049492  0.012306  0.064998  0.608096   \n",
       "\n",
       "          7         8         9  ...       193       194       195       196  \\\n",
       "0 -0.033047 -0.082811 -0.050282  ... -0.027322  0.125928 -0.055872  0.013087   \n",
       "\n",
       "        197      198       199  both_sim  pest_sim  dirty_sim  \n",
       "0  0.142322  0.04303 -0.011886  0.398465  0.300608   0.387648  \n",
       "\n",
       "[1 rows x 203 columns]"
      ]
     },
     "execution_count": 294,
     "metadata": {},
     "output_type": "execute_result"
    }
   ],
   "source": [
    "agg_features(review_list_2vec(bad_reviews))"
   ]
  },
  {
   "cell_type": "markdown",
   "id": "1ce7a70c-cdd5-4d0d-8a8a-63097cc050f2",
   "metadata": {},
   "source": [
    "## add in Yelp API query"
   ]
  },
  {
   "cell_type": "code",
   "execution_count": 295,
   "id": "1e016d90-f83c-4ba1-8ba0-b7b2b23a9eb7",
   "metadata": {},
   "outputs": [
    {
     "name": "stdout",
     "output_type": "stream",
     "text": [
      "Business found: Super Bowl\n"
     ]
    }
   ],
   "source": [
    "business_id, reviews = yelp_query.get_reviews(name = \"Super Bowl\", address=\"719 W William Cannon Dr Ste 103\")"
   ]
  },
  {
   "cell_type": "code",
   "execution_count": 296,
   "id": "7386e529-813b-4ccf-9377-e214e17e402e",
   "metadata": {},
   "outputs": [
    {
     "data": {
      "text/plain": [
       "array([79.90303531])"
      ]
     },
     "execution_count": 296,
     "metadata": {},
     "output_type": "execute_result"
    }
   ],
   "source": [
    "review_features = review_list_2vec(reviews)\n",
    "features = agg_features(review_features)\n",
    "model.predict(features)"
   ]
  },
  {
   "cell_type": "markdown",
   "id": "3bac8200-a6c0-493a-9b1c-e740b289c0b4",
   "metadata": {},
   "source": [
    "## additional things to show on the webapp"
   ]
  },
  {
   "cell_type": "markdown",
   "id": "45c631b6-984a-4735-b185-2362576649ab",
   "metadata": {},
   "source": [
    "some visualization ideas for the webapp:\n",
    "* histogram of review scores\n",
    "* histogram of word scores\n",
    "* plot dimensionally reduced word vectors?\n",
    "* cluster?"
   ]
  },
  {
   "cell_type": "code",
   "execution_count": 188,
   "id": "19b77064-54a5-4ac0-8b45-d1d7d96ef864",
   "metadata": {},
   "outputs": [
    {
     "name": "stdout",
     "output_type": "stream",
     "text": [
      "Business found: Super Bowl\n"
     ]
    }
   ],
   "source": [
    "business_id, reviews = yelp_query.get_reviews(name = \"Super Bowl\", address=\"719 W William Cannon Dr Ste 103\")"
   ]
  },
  {
   "cell_type": "code",
   "execution_count": 297,
   "id": "50699529-906c-4577-a4fb-14b2a108cc8b",
   "metadata": {},
   "outputs": [
    {
     "data": {
      "text/plain": [
       "array([79.90303531])"
      ]
     },
     "execution_count": 297,
     "metadata": {},
     "output_type": "execute_result"
    }
   ],
   "source": [
    "review_features = review_list_2vec(reviews)\n",
    "features = agg_features(review_features)\n",
    "model.predict(features)"
   ]
  },
  {
   "cell_type": "code",
   "execution_count": 299,
   "id": "320ed2b9-c20b-473b-8a61-e8c0c8c259b3",
   "metadata": {},
   "outputs": [
    {
     "data": {
      "text/plain": [
       "\"Dang, I really, really liked Super Bowl at first! I specifically like their General Tso's chicken and crab rangoons. Online ordering is very convenient, too (though I hate the delivery charge + tip). However, other items are pretty bad. Their soups aren't appetizing and I made the mistake of ordering their fried rice last time. It doesn't even look like typical American fried rice. There are no vegetables, meat, or egg, it just looks like they pan fry the rice with soy sauce. Pretty disappointing. But yeah, I love the entrees and rangoons, but if I want to explore a menu a bit more I think I might just have to turn elsewhere.\""
      ]
     },
     "execution_count": 299,
     "metadata": {},
     "output_type": "execute_result"
    }
   ],
   "source": [
    "# worst review using random forest on each review\n",
    "reviews[np.argmin(model.predict(review_features))]"
   ]
  },
  {
   "cell_type": "code",
   "execution_count": 29,
   "id": "26858b39-61b8-42cf-8f94-c61d719bc4a1",
   "metadata": {},
   "outputs": [
    {
     "ename": "NameError",
     "evalue": "name 'reviews' is not defined",
     "output_type": "error",
     "traceback": [
      "\u001b[1;31m---------------------------------------------------------------------------\u001b[0m",
      "\u001b[1;31mNameError\u001b[0m                                 Traceback (most recent call last)",
      "Input \u001b[1;32mIn [29]\u001b[0m, in \u001b[0;36m<cell line: 2>\u001b[1;34m()\u001b[0m\n\u001b[0;32m      1\u001b[0m \u001b[38;5;66;03m# worst review using random forest on each review\u001b[39;00m\n\u001b[1;32m----> 2\u001b[0m \u001b[43mreviews\u001b[49m[np\u001b[38;5;241m.\u001b[39margmax(model\u001b[38;5;241m.\u001b[39mpredict(review_features))]\n",
      "\u001b[1;31mNameError\u001b[0m: name 'reviews' is not defined"
     ]
    }
   ],
   "source": [
    "# worst review using random forest on each review\n",
    "reviews[np.argmax(model.predict(review_features))]"
   ]
  },
  {
   "cell_type": "code",
   "execution_count": 301,
   "id": "298947da-dc5e-4fce-9c82-77e876403dcd",
   "metadata": {},
   "outputs": [
    {
     "data": {
      "text/plain": [
       "(array([ 1.,  0.,  2.,  4.,  8.,  4.,  9., 14., 10., 18., 14., 12., 10.,\n",
       "        13., 15.,  9., 11.,  7., 12.,  9., 10.,  5.,  4.,  6.,  2.,  4.,\n",
       "         4.,  2.,  1.,  1.]),\n",
       " array([81.53337114, 81.89982967, 82.2662882 , 82.63274674, 82.99920527,\n",
       "        83.3656638 , 83.73212233, 84.09858086, 84.46503939, 84.83149792,\n",
       "        85.19795645, 85.56441498, 85.93087351, 86.29733205, 86.66379058,\n",
       "        87.03024911, 87.39670764, 87.76316617, 88.1296247 , 88.49608323,\n",
       "        88.86254176, 89.22900029, 89.59545883, 89.96191736, 90.32837589,\n",
       "        90.69483442, 91.06129295, 91.42775148, 91.79421001, 92.16066854,\n",
       "        92.52712707]),\n",
       " <BarContainer object of 30 artists>)"
      ]
     },
     "execution_count": 301,
     "metadata": {},
     "output_type": "execute_result"
    },
    {
     "data": {
      "image/png": "[encoded data removed]",
      "text/plain": [
       "<Figure size 432x288 with 1 Axes>"
      ]
     },
     "metadata": {
      "needs_background": "light"
     },
     "output_type": "display_data"
    }
   ],
   "source": [
    "plt.hist(model.predict(review_features),bins=30)"
   ]
  },
  {
   "cell_type": "code",
   "execution_count": 303,
   "id": "1e53c4cf-9f69-4c48-9ad9-72ee37d348a0",
   "metadata": {},
   "outputs": [
    {
     "data": {
      "text/plain": [
       "'The food is decent depending on the day you order. If you get delivery. They never get your order right, unfortunately. Always pick up or dine in. Stay away from delivery!'"
      ]
     },
     "execution_count": 303,
     "metadata": {},
     "output_type": "execute_result"
    }
   ],
   "source": [
    "# worst review using mean GLOVE\n",
    "reviews[np.argmax(review_features.both_sim)]"
   ]
  },
  {
   "cell_type": "code",
   "execution_count": 304,
   "id": "91e64c47-2823-4733-9a05-7257ad7b0c20",
   "metadata": {},
   "outputs": [
    {
     "data": {
      "text/plain": [
       "(array([ 1.,  0.,  2.,  3.,  1.,  6., 12., 18., 21., 31., 30., 41., 23.,\n",
       "        16.,  5.,  7.,  1.,  2.,  0.,  1.]),\n",
       " array([0.2766794 , 0.2874663 , 0.29825321, 0.30904012, 0.31982703,\n",
       "        0.33061393, 0.34140084, 0.35218775, 0.36297466, 0.37376156,\n",
       "        0.38454847, 0.39533538, 0.40612229, 0.41690919, 0.4276961 ,\n",
       "        0.43848301, 0.44926991, 0.46005682, 0.47084373, 0.48163064,\n",
       "        0.49241754]),\n",
       " <BarContainer object of 20 artists>)"
      ]
     },
     "execution_count": 304,
     "metadata": {},
     "output_type": "execute_result"
    },
    {
     "data": {
      "image/png": "[encoded data removed]",
      "text/plain": [
       "<Figure size 432x288 with 1 Axes>"
      ]
     },
     "metadata": {
      "needs_background": "light"
     },
     "output_type": "display_data"
    }
   ],
   "source": [
    "plt.hist(review_features.both_sim,bins=20)"
   ]
  },
  {
   "cell_type": "markdown",
   "id": "2bd34f4f-8478-42b6-8880-9e93fd8a7932",
   "metadata": {},
   "source": [
    "## compare to all values"
   ]
  },
  {
   "cell_type": "code",
   "execution_count": 2,
   "id": "08f63798-b6cd-4e36-9a66-c10f4df29341",
   "metadata": {},
   "outputs": [],
   "source": [
    "df = pd.read_csv('data/models/review_model/mean_vectors_full_df.csv.gz',compression='gzip').dropna()\n",
    "df = df.drop(df.columns[0],axis=1)"
   ]
  },
  {
   "cell_type": "markdown",
   "id": "c9440bf9-67df-4fd2-9614-1b84147893c8",
   "metadata": {},
   "source": [
    "### histogram of predicted values"
   ]
  },
  {
   "cell_type": "code",
   "execution_count": 4,
   "id": "c2953e9d-5100-4b71-9159-e351b26ffd45",
   "metadata": {},
   "outputs": [
    {
     "name": "stdout",
     "output_type": "stream",
     "text": [
      "CPU times: total: 4.67 s\n",
      "Wall time: 4.67 s\n"
     ]
    }
   ],
   "source": [
    "%%time\n",
    "drop_columns = ['business_id', 'review_id', 'text', 'date', 'Score','stars', 'language']\n",
    "groups = df.sort_values('both_sim',ascending=False).groupby('business_id')\n",
    "df_list = []\n",
    "for business_id, group in groups:\n",
    "    dff = pd.DataFrame()\n",
    "    # average ALL reviews from each business\n",
    "    ll = len(group)\n",
    "    # bound = math.ceil(ll*0.15)\n",
    "    dff[business_id] = group.drop(drop_columns,axis=1).mean(axis=0)\n",
    "    dff=dff.T\n",
    "    dff['num_reviews'] = ll\n",
    "    # dff['percent_bad_reviews'] = sum(group.review_stars <= 2) / ll\n",
    "    dff['Score'] = group.Score.unique().mean()\n",
    "    df_list.append(dff)\n",
    "df_tot = pd.concat(df_list)"
   ]
  },
  {
   "cell_type": "code",
   "execution_count": 5,
   "id": "0781cbb9-bdfc-4a8d-a1dc-1002f31039d1",
   "metadata": {},
   "outputs": [
    {
     "name": "stdout",
     "output_type": "stream",
     "text": [
      "CPU times: total: 15.6 ms\n",
      "Wall time: 6 ms\n"
     ]
    }
   ],
   "source": [
    "%%time\n",
    "X = df_tot.drop(['Score','num_reviews','review_stars'],axis=1)\n",
    "y = df_tot.Score.values\n",
    "\n",
    "X_shuff, y_shuff = shuffle(X, y, random_state=42)\n",
    "X_train, X_test, y_train, y_test = train_test_split(X_shuff, y_shuff, test_size=0.2, random_state=42)"
   ]
  },
  {
   "cell_type": "code",
   "execution_count": 6,
   "id": "91b5249a-21d2-432e-a2ea-f4898d28c5e1",
   "metadata": {},
   "outputs": [
    {
     "data": {
      "image/png": "[encoded data removed]",
      "text/plain": [
       "<Figure size 700x500 with 1 Axes>"
      ]
     },
     "metadata": {
      "needs_background": "light"
     },
     "output_type": "display_data"
    }
   ],
   "source": [
    "y_predict = model.predict(X)\n",
    "fig = plt.figure(figsize=(7,5),dpi=100)\n",
    "plt.scatter(y, y_predict, alpha=0.5)\n",
    "plt.xlabel('Actual score')\n",
    "plt.ylabel('Predicted score')\n",
    "# plt.legend(['Actual score','Predicted score'])\n",
    "plt.show()"
   ]
  },
  {
   "cell_type": "code",
   "execution_count": 7,
   "id": "3924a0d2-1244-49a2-a5ff-f2747856c416",
   "metadata": {},
   "outputs": [
    {
     "data": {
      "image/png": "[encoded data removed]",
      "text/plain": [
       "<Figure size 700x500 with 1 Axes>"
      ]
     },
     "metadata": {
      "needs_background": "light"
     },
     "output_type": "display_data"
    }
   ],
   "source": [
    "y_predict = model.predict(X)\n",
    "fig = plt.figure(figsize=(7,5),dpi=100)\n",
    "plt.hist(y,bins=66,alpha=0.5)\n",
    "plt.hist(y_predict,bins=66,alpha=0.5)\n",
    "plt.xlabel('Inspection score')\n",
    "plt.ylabel('# businesses')\n",
    "plt.legend(['Actual score','Predicted score'])\n",
    "plt.show()"
   ]
  },
  {
   "cell_type": "code",
   "execution_count": 10,
   "id": "4d64fd1a-b859-4b45-b5a3-a0a5c1282d08",
   "metadata": {},
   "outputs": [],
   "source": [
    "np.savetxt('data/processed data/predicted_business_insp_scores.csv', y_predict, delimiter=',')"
   ]
  },
  {
   "cell_type": "markdown",
   "id": "6c8993a8-2cb7-4678-b09d-76297a470252",
   "metadata": {},
   "source": [
    "### histogram of both_sims"
   ]
  },
  {
   "cell_type": "code",
   "execution_count": 11,
   "id": "22b287d4-43e8-483e-810f-a0c9d835b61d",
   "metadata": {},
   "outputs": [],
   "source": [
    "business_both_sims = df.groupby('business_id').agg(both_sim = ('both_sim','mean')).values"
   ]
  },
  {
   "cell_type": "code",
   "execution_count": 28,
   "id": "2388855f-9b3d-416a-b71d-b81053143e94",
   "metadata": {},
   "outputs": [
    {
     "data": {
      "image/png": "[encoded data removed]",
      "text/plain": [
       "<Figure size 432x288 with 1 Axes>"
      ]
     },
     "metadata": {
      "needs_background": "light"
     },
     "output_type": "display_data"
    }
   ],
   "source": [
    "plt.hist(business_both_sims,bins=99,density=True)\n",
    "plt.show()"
   ]
  },
  {
   "cell_type": "markdown",
   "id": "f04b3c59-51d6-4ac9-8da2-4d90390075ba",
   "metadata": {},
   "source": [
    "### cluster review vectors"
   ]
  },
  {
   "cell_type": "code",
   "execution_count": 225,
   "id": "d143599c-de17-4ad8-9a84-7551cd3a15f2",
   "metadata": {},
   "outputs": [],
   "source": [
    "vecs_only = df[df.columns[8:-3]].to_numpy()"
   ]
  },
  {
   "cell_type": "code",
   "execution_count": 226,
   "id": "b7e9d965-bac6-4cd4-84fe-0bc371626215",
   "metadata": {},
   "outputs": [],
   "source": [
    "X = vecs_only\n",
    "X = (X - np.min(X))/(np.max(X)-np.min(X)) # restrict to 0 to 1"
   ]
  },
  {
   "cell_type": "code",
   "execution_count": 236,
   "id": "38b19e6e-f727-4419-a6ef-fb87e79eb0e9",
   "metadata": {},
   "outputs": [],
   "source": [
    "from sklearn.cluster import KMeans\n",
    "from sklearn.decomposition import PCA"
   ]
  },
  {
   "cell_type": "code",
   "execution_count": 233,
   "id": "6af9bcad-c495-4e26-8c4e-2dd8cd974408",
   "metadata": {},
   "outputs": [
    {
     "name": "stdout",
     "output_type": "stream",
     "text": [
      "CPU times: total: 15min 2s\n",
      "Wall time: 1min 22s\n"
     ]
    }
   ],
   "source": [
    "%%time\n",
    "num_clusters = 10\n",
    "kmeans = KMeans(n_clusters=num_clusters,random_state=100)\n",
    "kmeans.fit(X)\n",
    "cluster_labels = kmeans.labels_"
   ]
  },
  {
   "cell_type": "code",
   "execution_count": 241,
   "id": "f6ca562b-5200-4774-b758-f1a62cb61d91",
   "metadata": {
    "tags": []
   },
   "outputs": [
    {
     "name": "stdout",
     "output_type": "stream",
     "text": [
      "CPU times: total: 16 s\n",
      "Wall time: 3.32 s\n"
     ]
    }
   ],
   "source": [
    "%%time\n",
    "# reduce dimensions\n",
    "num_components = 3\n",
    "pca = PCA(n_components=num_components, random_state=100)\n",
    "matrix_pca = pca.fit_transform(X)"
   ]
  },
  {
   "cell_type": "code",
   "execution_count": 245,
   "id": "44dca0c1-e94e-48da-bd76-63fd2fdbc399",
   "metadata": {},
   "outputs": [
    {
     "data": {
      "image/png": "[encoded data removed]",
      "text/plain": [
       "<Figure size 432x288 with 1 Axes>"
      ]
     },
     "metadata": {
      "needs_background": "light"
     },
     "output_type": "display_data"
    },
    {
     "name": "stdout",
     "output_type": "stream",
     "text": [
      "CPU times: total: 5.33 s\n",
      "Wall time: 5.33 s\n"
     ]
    }
   ],
   "source": [
    "%%time\n",
    "# 2D looks good\n",
    "plt.scatter(matrix_pca[:,0],matrix_pca[:,2],\n",
    "            alpha=0.1,c=cluster_labels,cmap='viridis')\n",
    "plt.gca().set(title='Plot for 2D PCA projection', \n",
    "              xlabel='PCA component 1', ylabel='PCA component 2');\n",
    "plt.show()"
   ]
  },
  {
   "cell_type": "code",
   "execution_count": null,
   "id": "bcc9f14a-bdbf-4282-972e-eb6724824759",
   "metadata": {},
   "outputs": [],
   "source": []
  }
 ],
 "metadata": {
  "kernelspec": {
   "display_name": "Python 3 (ipykernel)",
   "language": "python",
   "name": "python3"
  },
  "language_info": {
   "codemirror_mode": {
    "name": "ipython",
    "version": 3
   },
   "file_extension": ".py",
   "mimetype": "text/x-python",
   "name": "python",
   "nbconvert_exporter": "python",
   "pygments_lexer": "ipython3",
   "version": "3.9.12"
  }
 },
 "nbformat": 4,
 "nbformat_minor": 5
}
