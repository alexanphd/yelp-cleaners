{
 "cells": [
  {
   "cell_type": "code",
   "execution_count": 1,
   "id": "126ded45-9384-428c-9ac6-842d52cee404",
   "metadata": {},
   "outputs": [],
   "source": [
    "%matplotlib inline\n",
    "import pandas as pd\n",
    "import numpy as np\n",
    "import matplotlib.pyplot as plt\n",
    "import math\n",
    "\n",
    "main_directory = r'C:\\Users\\ASUS\\Desktop\\ML-data science\\DataIncubator\\yelp-cleaners' + '\\\\'\n",
    "processed_data_directory = main_directory + r'data\\processed data' + '\\\\'"
   ]
  },
  {
   "cell_type": "code",
   "execution_count": 2,
   "id": "1c2980b6-ef27-470a-b1a7-facd39bf99b9",
   "metadata": {},
   "outputs": [],
   "source": [
    "# business_df_latest = pd.read_csv(processed_data_directory + 'business_df_latest_inspection.csv')\n",
    "# business_df = pd.read_csv(processed_data_directory + 'business_df.csv')\n",
    "# review_df = pd.read_csv(processed_data_directory + 'review_df.csv')"
   ]
  },
  {
   "cell_type": "code",
   "execution_count": 110,
   "id": "05153abd-c2b8-4cc3-af71-2f305992e7d6",
   "metadata": {},
   "outputs": [],
   "source": [
    "from sklearn.base import BaseEstimator, RegressorMixin, TransformerMixin\n",
    "from sklearn.compose import ColumnTransformer\n",
    "from sklearn.pipeline import Pipeline\n",
    "from sklearn.feature_extraction.text import CountVectorizer, TfidfVectorizer, TfidfTransformer, HashingVectorizer\n",
    "from sklearn.utils import shuffle\n",
    "from sklearn.model_selection import cross_val_score, GridSearchCV, train_test_split\n",
    "from sklearn.linear_model import Ridge, LinearRegression, SGDRegressor, LogisticRegression\n",
    "from sklearn import datasets, tree, utils\n",
    "from sklearn import model_selection, ensemble\n",
    "from sklearn.decomposition import TruncatedSVD\n",
    "from gensim.models import Word2Vec\n",
    "from gensim.utils import simple_preprocess\n",
    "from sklearn.preprocessing import MinMaxScaler\n",
    "from sklearn.cluster import KMeans\n",
    "from collections import Counter\n",
    "import re"
   ]
  },
  {
   "cell_type": "code",
   "execution_count": 4,
   "id": "62748beb-9d54-48d3-a099-c1d08ef04c77",
   "metadata": {},
   "outputs": [],
   "source": [
    "import spacy\n",
    "# nlp = spacy.load(\"en_core_web_sm\")\n",
    "from spacy.lang.en.stop_words import STOP_WORDS\n",
    "STOP_WORDS = STOP_WORDS.union({'ll', 've'})\n",
    "from sklearn.naive_bayes import MultinomialNB, GaussianNB"
   ]
  },
  {
   "cell_type": "markdown",
   "id": "6d78ab6f-afcd-4f73-b3e8-7f535ad1a769",
   "metadata": {
    "tags": []
   },
   "source": [
    "# Topic modeling"
   ]
  },
  {
   "cell_type": "code",
   "execution_count": 268,
   "id": "32822359-9248-42a5-ba93-f5589589d4e2",
   "metadata": {},
   "outputs": [],
   "source": [
    "import spacy\n",
    "nlp = spacy.load('en_core_web_sm', disable=['parser','ner','textcat'])"
   ]
  },
  {
   "cell_type": "code",
   "execution_count": 269,
   "id": "09aecbf3-8a55-4084-9c33-69c0eba3bb8d",
   "metadata": {},
   "outputs": [],
   "source": [
    "def my_lemmatizer(doc):\n",
    "    doc_cleaned = ' '.join(re.findall(r'\\b\\w[\\w\\']+\\b', doc))\n",
    "    return [ w.lemma_.lower() for w in nlp(doc_cleaned) \n",
    "                      if w.lemma_ not in ['_', '.', '-PRON-'] ]\n",
    "\n",
    "stopwords = spacy.lang.en.stop_words.STOP_WORDS\n",
    "# Removing a few words that don't lemmatize well\n",
    "stopwords = stopwords.difference({'he','his','her','hers'})\n",
    "\n",
    "stopwords = set(my_lemmatizer(' '.join(sorted(stopwords))))\n",
    "# add some annoying ones that get through lemmatizer\n",
    "stopwords = stopwords.union({'\\'s', '\\'ll', '\\'ve'})"
   ]
  },
  {
   "cell_type": "code",
   "execution_count": 270,
   "id": "0c3fd094-5a57-4834-bd8d-0057a089bdeb",
   "metadata": {},
   "outputs": [],
   "source": [
    "# df = pd.read_csv(processed_data_directory + 'reviews_nearest_score_no_limit_df.csv')\n",
    "df = pd.read_csv(processed_data_directory + 'reviews_nearest_score_2_years_df.csv')"
   ]
  },
  {
   "cell_type": "code",
   "execution_count": 271,
   "id": "f3e05af0-2718-40e5-94bb-6894c7eb807a",
   "metadata": {},
   "outputs": [],
   "source": [
    "# let's just look at businesses with >100 reviews\n",
    "num_reviews = df.business_id.value_counts()\n",
    "valid_businesses = num_reviews[num_reviews >= 100].index\n",
    "df = df[df['business_id'].isin(valid_businesses)].reset_index(drop=True)"
   ]
  },
  {
   "cell_type": "code",
   "execution_count": 272,
   "id": "55f45a17-4ef2-4567-b75b-77dc2c1462c4",
   "metadata": {},
   "outputs": [],
   "source": [
    "# only look at outraged customers\n",
    "df = df[df.review_stars <= 2]"
   ]
  },
  {
   "cell_type": "code",
   "execution_count": 273,
   "id": "a6a7dad6-1fbb-4b38-b753-10604799eaa6",
   "metadata": {},
   "outputs": [],
   "source": [
    "reviews = df['text']\n",
    "scores = df['Score']\n",
    "X, y = shuffle(reviews, scores, random_state=42)\n",
    "cutoff = -1\n",
    "X, y = X[:cutoff], y[:cutoff]\n",
    "# round\n",
    "roundby = 5\n",
    "y = y.apply(lambda x: math.ceil(x / roundby) * roundby)"
   ]
  },
  {
   "cell_type": "code",
   "execution_count": 274,
   "id": "ed55759d-94bf-4343-b6a1-fb07d6e9280c",
   "metadata": {},
   "outputs": [],
   "source": [
    "X_train, X_test, y_train, y_test = train_test_split(X, y, test_size=0.2, random_state=42)"
   ]
  },
  {
   "cell_type": "code",
   "execution_count": 275,
   "id": "6840d8ff-e967-4891-b3fa-4538a03d8a14",
   "metadata": {},
   "outputs": [
    {
     "name": "stdout",
     "output_type": "stream",
     "text": [
      "Wall time: 7min 24s\n"
     ]
    }
   ],
   "source": [
    "%%time\n",
    "max_features = 1000\n",
    "cv = CountVectorizer(tokenizer=my_lemmatizer, stop_words=stopwords, \n",
    "                     min_df=2, max_df=0.95, max_features=max_features)\n",
    "counts = cv.fit_transform(X)"
   ]
  },
  {
   "cell_type": "code",
   "execution_count": 216,
   "id": "20737991-a5db-425a-b80e-db647ed9360e",
   "metadata": {},
   "outputs": [
    {
     "name": "stdout",
     "output_type": "stream",
     "text": [
      "Wall time: 6 ms\n"
     ]
    }
   ],
   "source": [
    "%%time\n",
    "tf = TfidfTransformer()\n",
    "matrix = tf.fit_transform(counts)"
   ]
  },
  {
   "cell_type": "markdown",
   "id": "382746b4-8ccf-4e99-a7c1-c8186ccf87ee",
   "metadata": {},
   "source": [
    "## K-means clustering"
   ]
  },
  {
   "cell_type": "code",
   "execution_count": 223,
   "id": "3921843e-eaf1-4b57-8472-7f6445015927",
   "metadata": {},
   "outputs": [
    {
     "data": {
      "text/plain": [
       "KMeans(n_clusters=50, n_init=3, random_state=117)"
      ]
     },
     "execution_count": 223,
     "metadata": {},
     "output_type": "execute_result"
    }
   ],
   "source": [
    "number_of_clusters = 50\n",
    "\n",
    "kmc_5 = KMeans(n_clusters=number_of_clusters, n_init=3, random_state=117)  # random_state for consistency\n",
    "kmc_5.fit(matrix)"
   ]
  },
  {
   "cell_type": "code",
   "execution_count": 252,
   "id": "ea18f9ab-0d50-45a9-8846-94717a0c9989",
   "metadata": {},
   "outputs": [],
   "source": [
    "top_words_df = {'top_words':[[terms[k] for k in cluster_words[i][-number_of_top_words:]] for i in range(50)]}\n",
    "top_words_df = pd.DataFrame(top_words_df)"
   ]
  },
  {
   "cell_type": "code",
   "execution_count": 262,
   "id": "80d993f3-dcc4-4383-8f83-fdafa2686348",
   "metadata": {},
   "outputs": [
    {
     "data": {
      "text/plain": [
       "array([list(['fact', 'fun', 'cashier', 'incredibly', 'bag', 'type', 'street', 'concern', 'poorly', 'pre', 'complaint', 'come', 'employee', 'spread', 'work', 'box', 'fan', 'texas', 'old', 'know', 'process', 'awful', 'location', 'fine', 'people', 'place', 'fill', 'complimentary', 'heat', 'line', 'poor', 'pretty', 'good', 'dirty', 'cash', 'want', 'water', 'happen', 'attitude', 'long', 'experience', 'matter', 'write', 'uncomfortable', 'air', 'stand', 'thing', 'suck', 'stale', 'donut']),\n",
       "       list(['expensive', 'hope', 'care', 'expect', 'tasty', 'smell', 'music', 'slow', 'treat', 'unfortunately', 'disgusting', 'forget', 'attitude', 'booth', 'nice', 'vomit', 'table', 'stuff', 'base', 'buffet', 'garbage', 'friendly', 'work', 'disappointing', 'maybe', 'order', 'walk', 'child', 'bad', 'olive', 'hand', 'management', 'come', 'area', 'waitress', 'opening', 'floor', 'problem', 'review', 'trash', 'service', 'people', 'like', 'know', 'restroom', 'nasty', 'place', 'good', 'food', 'dirty'])],\n",
       "      dtype=object)"
      ]
     },
     "execution_count": 262,
     "metadata": {},
     "output_type": "execute_result"
    }
   ],
   "source": [
    "top_words_df.top_words[top_words_df.top_words.apply(lambda x: 'dirty' in x)].values"
   ]
  },
  {
   "cell_type": "code",
   "execution_count": 237,
   "id": "c0e37f55-5a83-4b6e-97a6-c9113cfb9614",
   "metadata": {},
   "outputs": [
    {
     "data": {
      "text/plain": [
       "True"
      ]
     },
     "execution_count": 237,
     "metadata": {},
     "output_type": "execute_result"
    }
   ],
   "source": [
    "'dirty' in top_words"
   ]
  },
  {
   "cell_type": "code",
   "execution_count": 230,
   "id": "c53a7c5f-7b96-4240-a4ad-92a54a40fc33",
   "metadata": {
    "collapsed": true,
    "jupyter": {
     "outputs_hidden": true
    },
    "tags": []
   },
   "outputs": [
    {
     "name": "stdout",
     "output_type": "stream",
     "text": [
      "cook bother stand bottle manager yell avocado mess plan attention basically 00 slow drop 30 restaurant 20 receive waitress mouth friend miss finally run water people pm zero pay great start hand mention bagel anytime wash bad tell eye order service meet time way place hold roll ask food his \n",
      "\n",
      "seriously evening old actually friendly biscuit meal poke worker party boyfriend okay expectation way bread restroom avoid busy totally order meh eat 40 menu bit awesome world minute pad breakfast atmosphere wait time good brunch look set place sad cupcake server love like service weekend vibe little great food bad \n",
      "\n",
      "available portion receive deserve annoying completely think little fire avocado pickup waiter bag dinner seat read pick despite way fine definitely probably multiple people small yelp come hard service force leave day glove long bad work restaurant good bar food star item pretty place understand experience time order review owner \n",
      "\n",
      "check wing refill spinach additional week group 50 great need thing good try mom waiter order allergic waitress drink cold happen like ask rating hate complain eat raman night host customer rude place pay dish poisoning roach recommend wonderful day come guy zero manager service charge horrible food tell star \n",
      "\n",
      "night hear like crawfish treatment way sunday stop number service allow cold 20 restaurant good visit time place line look available easy experience nice waitress overprice enjoy inside know music people terrible arrive small bar open drink minute food wait sit leave hostess seat host tell ask table reservation outside \n",
      "\n",
      "look help include hang bad crab person loud eat napkin pay rude hand need counter different small leave thing check crawfish ready lose try her restaurant 30 togo place guy want pick come lady wait walk answer food like time ask people business minute service tell manager phone customer order \n",
      "\n",
      "hot salmon mushy problem fry expect entree lunch leave ask extra price needless eat stop tasteless prepare meal cook tomato plate sandwich expensive return add food thing design good serve portion restaurant menu word vegetable steak small size place waiter guacamole 16 overprice 50 bowl order lettuce chicken shrimp salad \n",
      "\n",
      "terrible eat bring friend queso save weird kind maybe meh guess olive cup honestly toast people kerbey cheap plate potato bit waiter mediocre lane cook coffee price time fine meal steak small dish place definitely brunch cold look food pay money worth good tea come order breakfast bacon pancake egg \n",
      "\n",
      "recommend contact greet mimosa think policy tip feel eventually ready today inconvenience clean definitely job people away eye time long like sweet manager place want friend good game need chutney year act her sit ignore window care serve drink food service customer order ask wait his come bar employee bartender \n",
      "\n",
      "small menu friendly sauce subpar lack terrible grow pretty ok veggie flour absolutely expensive come sugar mac nice time alright hard plate indian drink cook curry warm positive dish location naan sort toast great bland fry gravy burn cold order food hour olive garlic happy cheese like taste pizza pesto \n",
      "\n",
      "nice city bland cocktail pack price bite service remind guess awful leave usually breakfast bad taste okay eat staff queso mother change bottle drink thing treat taco watery year location lot bar great 25 middle burrito tell quality point like maybe parking luck view shake hut food valet good salsa \n",
      "\n",
      "arrive multiple decide know 45 rude 20 work order person people try 15 new manager overprice training customer food half patron server drink find party watch glass care sit tell terrible later cocktail min want bad space time leave ask walk service waiter place table minute staff water wait seat \n",
      "\n",
      "seriously love work probably lot cause actually rude anymore happy ask kind poke party manager treat apology store buy play thing restaurant dinner order new meet cook pickle pineapple know arrive try chicken bowl bad margarita fresh item come sell serve terrible food entire good feel think today place family \n",
      "\n",
      "water choose half chair eat grab star her limit kid find person like drink change oyster waiter wait forget serve austin friend price salad review party 30 leave want thai try great waitress run think bad deal ask sit hostess come bar table good service time food order menu restaurant \n",
      "\n",
      "woman definitely leave fire austin sad disappointing eat probably bean egg selection thing bite shop come time people 12 chip hope cheese location beef try margarita taste cold remove lunch super drive queso work star chicken bad ok joint food great like torchy tortilla good place salsa order breakfast taco \n",
      "\n",
      "recommend unique sure price poor rude staff check instead waiter star actual cute hair friend happy latte want hour stick ask stay disappointed skip time terribly great bother service mediocre quick meal bad face rice bowl piece drink dish food restaurant coffee taste expect come wrap tortilla cup mexican cafe \n",
      "\n",
      "finally lie want arrive park need cancel horrible drink pay 45 think rude like cold table receive manager car line pick friend try sure leave 30 ask online restaurant 20 15 tell 10 long sit ready experience place min good bad come customer service hour time minute order wait food \n",
      "\n",
      "fact fun cashier incredibly bag type street concern poorly pre complaint come employee spread work box fan texas old know process awful location fine people place fill complimentary heat line poor pretty good dirty cash want water happen attitude long experience matter write uncomfortable air stand thing suck stale donut \n",
      "\n",
      "bland manager believe big highly server rudely treat parking salad milk sandwich proceed impressed time super ask austin warn day okay worker expensive cold special come know staff dip eat cup like meat order salty drink good french service sugar way queso mediocre fry hype bad food friend recommend place \n",
      "\n",
      "try want control bit black cup drink let experience thing big possible run stay policy great come hopefully people basic frozen annoying little charge purpose food good stand restroom burn loud slow tea guy place right register happen person open like bad time tell study service ok shop buy coffee \n",
      "\n",
      "service recommend instead feel inedible waiter potato lane yelp quality need taste cheese lot come cook sweet ask juicy drink greasy time terrible today want pretty bone experience refund spinach piece business bad salad eat bean disappointed food spicy dry flavor asian bland skin place like restaurant good order chicken \n",
      "\n",
      "bit 20 consider meat disgusting 99 trash horrible absolutely gravy thick eat sure tasteless inedible meal flavor fry year bite food reaction add great new bad addition charge honestly look place come throw beef time fish like rest chef smell sauce cookie leave good takeout pork taste husband order tonight \n",
      "\n",
      "day terry 10 prefer half spicy ask gluten surprisingly item bun nice rib sure hope love taste eat fry disappoint change feel bland sour curry downhill plus incredibly people time vegetarian pick experience pepper chicken soup food menu sweet thing unfortunately orange veggie good dish like order price tofu burger \n",
      "\n",
      "water server taste bad item lunch light love notice table brunch meh sunday family pork try tasteless look burger bbq barely fatty huge cooked spinach vegetable want pm recommend chewy slice chain sauce bone pepper fat need total disappointment austin nice tough place meat burn send brisket dry beef rib \n",
      "\n",
      "point sour pork brunch restaurant delivery extra bread authentic establishment vegetarian ask recommend eat loud huge meal place chicken dan want lack weird bowl bad line look way tonkotsu worth service bagel come flavor hot egg broth sauce average salt salty soy order good taste like music soup noodle raman \n",
      "\n",
      "overprice leave people black restaurant complain like support menu want foot shit early right tell list manner cheese little customer stay small wear his great size split double food waiter eat 10 sit table dollar good fry beer owner big burger mediocre ask manager response area austin patio allow dog \n",
      "\n",
      "bbq pecan authentic good yesterday look live waiter high impressed italian disappointment leave joint order open san m year austin cheese ask mother nice regular tell service cheap experience plucker amazing warm like price bland place great quality change eat today brunch hot day visit texas food time come wife \n",
      "\n",
      "mention walk night policy waiter hard know staff bad suppose disappointed finally cold menu chip sit flag rude experience cancel water party busy want happy place slow decide tip tell manager tonight his 20 hour talk bring right ask minute time order service food drink table terrible come check server \n",
      "\n",
      "al start star rice come okay bean fatty know terrible great potato salad green terry cheap pretty creamy excellent hope service ask station eat twice boil upset poorly flour like straight order margarita tough place stale mexican taste salsa beef good food tortilla drink chip bad corn grill flavorless fajita \n",
      "\n",
      "bad know friend mean big nigiri flavor spend apparently end cold pretty idea minute certain try butter date like hill worth sadly lot normally good hardly service star thing look price tell money time entree warm think restaurant salmon chicken taste eat quality come fish crab place round roll sushi \n",
      "\n",
      "star hard away later process sushi actually meal know grill oil sauce customer look dinner bill tip size busy cover eat finally experience pay think waitress notice throw poisoning fast tell like place pretty fish italian end try cash service gift slow good come spicy credit order charge food card \n",
      "\n",
      "forever forget forgot forward free freeze french floor fill fine family face fact fail fair fajita fall figure fan fancy fantastic fast fat zero favorite female feel fatty favor fault food order place come staff bad hostess austin pay thing star cold rush terrible service al greet single process el \n",
      "\n",
      "overprice heat microwave kitchen steak authentic food list staff compare review taste apparently wine thing business walk trip sign wear pay wall restaurant clear regular parking wish lot find music booth time bag crab loud ago know olive home italian long try close hair place wednesday need special near open \n",
      "\n",
      "water flavor ingredient wall flavorful process bland son kitchen super menu different batch spicy guy business pm special sad expensive pretty place counter location finish 11 maybe forward disappointed return care work bean like seafood salt man look line steak number salty pork cream red eat dish fair bowl broth \n",
      "\n",
      "fry card expensive lunch separate order shit plucker find south annoy light crust soup money original eat normally love new cream great usual cook garbage menu look lot expect gift burn good chili chicken fill huge place suggest friend dry plus enjoy time food bad like meal sauce pasta location \n",
      "\n",
      "extremely oh sugar trash experience sign refill ask alcohol review cookie food hard salty order stuff thing earn original sandwich tiny good sweet treat flavor small dollar birthday man come instead spend dessert dry butter place service bad worth special money tea vegan cupcake like cake chocolate ice taste cream \n",
      "\n",
      "real hope flavorless market long food right come slice look taste pork tender cooked stand sauce maybe like plate sell wait worth beef cut eat thing austin pecan great try case salad recommend pie rib line fat salty order potato ok good fatty place meal bean sausage meat brisket bbq \n",
      "\n",
      "night phone like meal need recommend bland open crowd person chicken sit area receive free concern want pancake thai eat kid sandwich shit unfortunately rude austin thick gluten serve order tea tell come good staff option waiting group food his instead restaurant disappointed time accommodate kitchen service slow extremely friend \n",
      "\n",
      "tell minute way walk continue menu chinese sauce bill cook dish plus boyfriend extra rude flavor look drink mean star pay rice horrible dessert people come taste good feel ask year sick fry waitress cold pork mother chicken want care general suck item like bad eat place food order literally \n",
      "\n",
      "look ambiance wait place experience chicken disappointed stuff spend potato pretty 20 meal want ask main price entree seat taste menu arrive bad course dish server eat night table forever glass come minute bring great service time bland flavor drink plate good dinner like try order appetizer super food wine \n",
      "\n",
      "brunch bagel drink slice downtown wish nice choice favor ruin serve word sauce great undercooked shoot prepare thought lot surprisingly small hill unique nasty night bland waste vibe happy atmosphere dish kind drive odd austin fine old eat entree overcook place money worth server good lobster food way quality overpriced \n",
      "\n",
      "bowl half menu meat nigiri disappoint old greasy weird pineapple long fresh review seasoned think recommend pretty salty spring experience lot sandwich vegetable sugar piece soggy like shrimp time roll try day bad come duck burger sauce bland order warm thai food hot good place curry taste chicken rice fry \n",
      "\n",
      "buck pay chain suppose avocado sub texture dip refund plate soy shrimp tea bowl expensive sandwich kitchen waste 10 slow think evening bean hour order shame split hair love feel like toss reason extra disappointed money taste good bagel food eat charge week dumpling come 14 time half soup salad \n",
      "\n",
      "local notice look her complain ridiculous proceed incredibly menu experience manager patio drink bar water staff bring restaurant care offer eat away immediately food decide help person party finally order ask leave service 15 hour 30 group walk clean hostess rude waitress seat tell people come minute sit wait table \n",
      "\n",
      "party south wait tough cash rating glass hard high chewy lamar disappointing prepare away manager home steak hear think bread sandwich location eat fry level bad fact alcohol overprice late thing barely general head reach know come 35 totally restaurant cold 2nd min compare right fancy food austin cheese truck \n",
      "\n",
      "cocktail second story offer nice leave ask block street eat remember hostess inside stand place later waitress slow hit location describe wait plenty want awful okay 00 member beer cold great order seating sit refill food rudely table staff service rude seat minute come tell disappointing bar pm serve drink \n",
      "\n",
      "table simply try allergic flavorful create include unfortunately flavorless excited cold price enjoy hut bad expect street come night wing like food 20 review small service mother extra location space true add wonder salad home server disappoint plenty order good great pretty austin sauce cheese crust place slice beer pizza \n",
      "\n",
      "staff cost minute kitchen 10 want terrible update 11 website run service restaurant cheesecake burrito long loud head walk hey member decide think manager door plenty rude parking 24 turn happy tell money coupon people drive find place cash pm time wait waste arrive yelp customer hour accept line close \n",
      "\n",
      "husband true assume bring ingredient entire burn control rice soon black place able feel pizza immediately bad location trash thai like bread dining general pad food mushy late life taste flour deep microwave 30pm restaurant experience set game friend fun order disgusting shrimp come sauce eat salty finish awful dish \n",
      "\n",
      "expensive hope care expect tasty smell music slow treat unfortunately disgusting forget attitude booth nice vomit table stuff base buffet garbage friendly work disappointing maybe order walk child bad olive hand management come area waitress opening floor problem review trash service people like know restroom nasty place good food dirty \n",
      "\n"
     ]
    }
   ],
   "source": [
    "number_of_top_words = 50\n",
    "cluster_words = np.argsort(kmc_5.cluster_centers_, axis=1)\n",
    "terms = cv.get_feature_names_out()\n",
    "\n",
    "top_words = set()\n",
    "\n",
    "for i in range(number_of_clusters):\n",
    "#     print(f'Cluster {i}: ')\n",
    "    print(' '.join([terms[k] for k in cluster_words[i][-number_of_top_words:]]),'\\n')\n",
    "    top_words = top_words.union([terms[k] for k in cluster_words[i][-number_of_top_words:]])\n",
    "    \n",
    "top_words = sorted(list(top_words))"
   ]
  },
  {
   "cell_type": "code",
   "execution_count": 225,
   "id": "cb61dc53-e81b-4975-a746-2bafc1e5f301",
   "metadata": {},
   "outputs": [
    {
     "data": {
      "text/plain": [
       "True"
      ]
     },
     "execution_count": 225,
     "metadata": {},
     "output_type": "execute_result"
    }
   ],
   "source": [
    "'dirty' in top_words"
   ]
  },
  {
   "cell_type": "code",
   "execution_count": null,
   "id": "96480fff-affd-40d1-8cc1-1f7526f25f31",
   "metadata": {},
   "outputs": [],
   "source": []
  },
  {
   "cell_type": "code",
   "execution_count": 227,
   "id": "0800c117-e3a9-4c3c-ab25-befced577268",
   "metadata": {},
   "outputs": [],
   "source": [
    "word_df = pd.DataFrame(counts.toarray(), columns=terms)[top_words]\n",
    "word_df['Cluster'] = kmc_5.labels_.tolist()"
   ]
  },
  {
   "cell_type": "code",
   "execution_count": 167,
   "id": "8670fbd1-4f4e-4e28-bc90-dd58a7de55a7",
   "metadata": {},
   "outputs": [
    {
     "data": {
      "image/png": "[encoded data removed]",
      "text/plain": [
       "<Figure size 432x288 with 1 Axes>"
      ]
     },
     "metadata": {
      "needs_background": "light"
     },
     "output_type": "display_data"
    }
   ],
   "source": [
    "word_df.groupby('Cluster').count()[top_words[0]].\\\n",
    "    plot.bar(rot=0).\\\n",
    "    set(ylabel='Document count',\n",
    "    title='Number of Documents per Cluster');"
   ]
  },
  {
   "cell_type": "code",
   "execution_count": 229,
   "id": "0d177b00-e0d0-40a1-948c-8e19e0294219",
   "metadata": {},
   "outputs": [
    {
     "data": {
      "text/plain": [
       "(array([35.,  0.,  0.,  0.,  6.,  0.,  0.,  0.,  0.,  2.,  0.,  0.,  0.,\n",
       "         4.,  0.,  0.,  0.,  0.,  0.,  0.,  0.,  0.,  1.,  0.,  0.,  0.,\n",
       "         0.,  1.,  0.,  0.,  0.,  0.,  0.,  0.,  0.,  0.,  0.,  0.,  0.,\n",
       "         0.,  0.,  0.,  0.,  0.,  0.,  0.,  0.,  0.,  0.,  1.]),\n",
       " array([ 0.  ,  0.22,  0.44,  0.66,  0.88,  1.1 ,  1.32,  1.54,  1.76,\n",
       "         1.98,  2.2 ,  2.42,  2.64,  2.86,  3.08,  3.3 ,  3.52,  3.74,\n",
       "         3.96,  4.18,  4.4 ,  4.62,  4.84,  5.06,  5.28,  5.5 ,  5.72,\n",
       "         5.94,  6.16,  6.38,  6.6 ,  6.82,  7.04,  7.26,  7.48,  7.7 ,\n",
       "         7.92,  8.14,  8.36,  8.58,  8.8 ,  9.02,  9.24,  9.46,  9.68,\n",
       "         9.9 , 10.12, 10.34, 10.56, 10.78, 11.  ]),\n",
       " <BarContainer object of 50 artists>)"
      ]
     },
     "execution_count": 229,
     "metadata": {},
     "output_type": "execute_result"
    },
    {
     "data": {
      "image/png": "[encoded data removed]",
      "text/plain": [
       "<Figure size 432x288 with 1 Axes>"
      ]
     },
     "metadata": {
      "needs_background": "light"
     },
     "output_type": "display_data"
    }
   ],
   "source": [
    "plt.hist(word_df.groupby('Cluster').agg({'dirty':'sum'}),bins = 50)"
   ]
  },
  {
   "cell_type": "code",
   "execution_count": 169,
   "id": "0fa68c35-d471-44a2-bf9c-d8cb2bb88743",
   "metadata": {},
   "outputs": [
    {
     "data": {
      "image/png": "[encoded data removed]",
      "text/plain": [
       "<Figure size 936x360 with 1 Axes>"
      ]
     },
     "metadata": {
      "needs_background": "light"
     },
     "output_type": "display_data"
    }
   ],
   "source": [
    "word_df.groupby('Cluster').sum().transpose().\\\n",
    "    plot.bar(figsize=(13,5), width=0.7).\\\n",
    "    set(ylabel='Word frequency', \n",
    "    title=f'Word Frequencies by Topic, Combining the Top {number_of_top_words} Words in Each Topic');"
   ]
  },
  {
   "cell_type": "code",
   "execution_count": 170,
   "id": "5db32c06-c36c-4bab-bcbb-bc9d225cbbfa",
   "metadata": {},
   "outputs": [],
   "source": [
    "word_totals = { i: word_df.groupby('Cluster').sum().loc[i].to_dict() for i in range(number_of_clusters) }"
   ]
  },
  {
   "cell_type": "code",
   "execution_count": 264,
   "id": "930bf3de-325e-4582-933a-be72d43018d1",
   "metadata": {},
   "outputs": [
    {
     "data": {
      "application/vnd.jupyter.widget-view+json": {
       "model_id": "a2700ebbd31745f7813e4043ea887c29",
       "version_major": 2,
       "version_minor": 0
      },
      "text/plain": [
       "interactive(children=(IntSlider(value=0, description='Topic', max=49), Output()), _dom_classes=('widget-intera…"
      ]
     },
     "metadata": {},
     "output_type": "display_data"
    }
   ],
   "source": [
    "import matplotlib.pyplot as plt\n",
    "from ipywidgets import interact, IntSlider\n",
    "from wordcloud import WordCloud\n",
    "\n",
    "def show_wordcloud(topic=0):\n",
    "    cloud = WordCloud(background_color='white', colormap='viridis')\n",
    "    cloud.generate_from_frequencies(word_totals[topic])\n",
    "    plt.gca().imshow(cloud)\n",
    "    plt.axis('off')\n",
    "    plt.tight_layout()\n",
    "    \n",
    "slider = IntSlider(min=0, max=number_of_clusters-1, step=1, value=0, description='Topic')\n",
    "interact(show_wordcloud, topic=slider);"
   ]
  },
  {
   "cell_type": "code",
   "execution_count": null,
   "id": "9014f66a-b745-4074-8f4a-c8e3e92783f9",
   "metadata": {},
   "outputs": [],
   "source": []
  }
 ],
 "metadata": {
  "kernelspec": {
   "display_name": "Python 3 (ipykernel)",
   "language": "python",
   "name": "python3"
  },
  "language_info": {
   "codemirror_mode": {
    "name": "ipython",
    "version": 3
   },
   "file_extension": ".py",
   "mimetype": "text/x-python",
   "name": "python",
   "nbconvert_exporter": "python",
   "pygments_lexer": "ipython3",
   "version": "3.9.7"
  }
 },
 "nbformat": 4,
 "nbformat_minor": 5
}
